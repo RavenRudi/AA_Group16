{
 "cells": [
  {
   "cell_type": "markdown",
   "metadata": {},
   "source": [
    "# Cluster Analysis of BostonBlueBikes"
   ]
  },
  {
   "cell_type": "code",
   "execution_count": 2,
   "metadata": {},
   "outputs": [],
   "source": [
    "import numpy as np\n",
    "import pandas as pd\n",
    "import folium\n",
    "from math import sin, cos, pi\n",
    "from sklearn.preprocessing import StandardScaler\n",
    "from sklearn.cluster import MiniBatchKMeans\n",
    "import seaborn as sns\n",
    "from matplotlib import pyplot\n",
    "import matplotlib.pyplot as plt\n",
    "\n"
   ]
  },
  {
   "cell_type": "markdown",
   "metadata": {},
   "source": [
    "## Load processed dataframe"
   ]
  },
  {
   "cell_type": "code",
   "execution_count": 3,
   "metadata": {},
   "outputs": [
    {
     "name": "stdout",
     "output_type": "stream",
     "text": [
      "<class 'pandas.core.frame.DataFrame'>\n",
      "RangeIndex: 1122554 entries, 0 to 1122553\n",
      "Data columns (total 14 columns):\n",
      " #   Column                   Non-Null Count    Dtype         \n",
      "---  ------                   --------------    -----         \n",
      " 0   Unnamed: 0               1122554 non-null  int64         \n",
      " 1   start_time               1122554 non-null  datetime64[ns]\n",
      " 2   end_time                 1122554 non-null  datetime64[ns]\n",
      " 3   start_station_id         1122554 non-null  int64         \n",
      " 4   end_station_id           1122554 non-null  string        \n",
      " 5   start_station_name       1122554 non-null  string        \n",
      " 6   end_station_name         1122554 non-null  string        \n",
      " 7   bike_id                  1122554 non-null  int64         \n",
      " 8   user_type                1122554 non-null  string        \n",
      " 9   trip_length              1122554 non-null  float64       \n",
      " 10  start_station_latitude   1122554 non-null  float64       \n",
      " 11  start_station_longitude  1122554 non-null  float64       \n",
      " 12  end_station_latitude     1122554 non-null  float64       \n",
      " 13  end_station_longitude    1122554 non-null  float64       \n",
      "dtypes: datetime64[ns](2), float64(5), int64(3), string(4)\n",
      "memory usage: 119.9 MB\n"
     ]
    }
   ],
   "source": [
    "df_boston = pd.read_csv('./data/prepared/rides_data_prepared.csv', dtype={'start_station_id': np.int64, 'end_station_id': 'string', 'end_station_name': 'string', 'start_station_name': 'string', 'bike_id': np.int64, 'user_type': 'string'})\n",
    "df_boston['start_time'] = pd.to_datetime(df_boston['start_time'], format='%Y-%m-%d %X')\n",
    "df_boston['end_time'] = pd.to_datetime(df_boston['end_time'], format='%Y-%m-%d %X')\n",
    "df_boston.info()"
   ]
  },
  {
   "cell_type": "code",
   "execution_count": 4,
   "metadata": {},
   "outputs": [
    {
     "data": {
      "text/plain": "   Unnamed: 0          start_time            end_time  start_station_id  \\\n0           0 2015-01-01 00:21:44 2015-01-01 00:30:47               115   \n1           1 2015-01-01 00:27:03 2015-01-01 00:34:21                80   \n2           2 2015-01-01 00:31:31 2015-01-01 00:35:46                91   \n3           3 2015-01-01 00:53:46 2015-01-01 01:00:58               115   \n4           4 2015-01-01 01:07:06 2015-01-01 01:19:21               105   \n\n  end_station_id                                start_station_name  \\\n0             96                             Porter Square Station   \n1             95           MIT Stata Center at Vassar St / Main St   \n2             68  One Kendall Square at Hampshire St / Portland St   \n3             96                             Porter Square Station   \n4             88   Lower Cambridgeport at Magazine St/Riverside Rd   \n\n                                    end_station_name  bike_id   user_type  \\\n0  Cambridge Main Library at Broadway / Trowbridg...      277  Subscriber   \n1        Cambridge St - at Columbia St / Webster Ave      648  Subscriber   \n2              Central Square at Mass Ave / Essex St      555  Subscriber   \n3  Cambridge Main Library at Broadway / Trowbridg...     1307  Subscriber   \n4      Inman Square at Vellucci Plaza / Hampshire St      177    Customer   \n\n   trip_length  start_station_latitude  start_station_longitude  \\\n0        543.0               42.387995               -71.119084   \n1        438.0               42.361962               -71.092053   \n2        255.0               42.366277               -71.091690   \n3        432.0               42.387995               -71.119084   \n4        735.0               42.356954               -71.113687   \n\n   end_station_latitude  end_station_longitude  \n0             42.373379             -71.111075  \n1             42.372969             -71.094445  \n2             42.365070             -71.103100  \n3             42.373379             -71.111075  \n4             42.374035             -71.101427  ",
      "text/html": "<div>\n<style scoped>\n    .dataframe tbody tr th:only-of-type {\n        vertical-align: middle;\n    }\n\n    .dataframe tbody tr th {\n        vertical-align: top;\n    }\n\n    .dataframe thead th {\n        text-align: right;\n    }\n</style>\n<table border=\"1\" class=\"dataframe\">\n  <thead>\n    <tr style=\"text-align: right;\">\n      <th></th>\n      <th>Unnamed: 0</th>\n      <th>start_time</th>\n      <th>end_time</th>\n      <th>start_station_id</th>\n      <th>end_station_id</th>\n      <th>start_station_name</th>\n      <th>end_station_name</th>\n      <th>bike_id</th>\n      <th>user_type</th>\n      <th>trip_length</th>\n      <th>start_station_latitude</th>\n      <th>start_station_longitude</th>\n      <th>end_station_latitude</th>\n      <th>end_station_longitude</th>\n    </tr>\n  </thead>\n  <tbody>\n    <tr>\n      <th>0</th>\n      <td>0</td>\n      <td>2015-01-01 00:21:44</td>\n      <td>2015-01-01 00:30:47</td>\n      <td>115</td>\n      <td>96</td>\n      <td>Porter Square Station</td>\n      <td>Cambridge Main Library at Broadway / Trowbridg...</td>\n      <td>277</td>\n      <td>Subscriber</td>\n      <td>543.0</td>\n      <td>42.387995</td>\n      <td>-71.119084</td>\n      <td>42.373379</td>\n      <td>-71.111075</td>\n    </tr>\n    <tr>\n      <th>1</th>\n      <td>1</td>\n      <td>2015-01-01 00:27:03</td>\n      <td>2015-01-01 00:34:21</td>\n      <td>80</td>\n      <td>95</td>\n      <td>MIT Stata Center at Vassar St / Main St</td>\n      <td>Cambridge St - at Columbia St / Webster Ave</td>\n      <td>648</td>\n      <td>Subscriber</td>\n      <td>438.0</td>\n      <td>42.361962</td>\n      <td>-71.092053</td>\n      <td>42.372969</td>\n      <td>-71.094445</td>\n    </tr>\n    <tr>\n      <th>2</th>\n      <td>2</td>\n      <td>2015-01-01 00:31:31</td>\n      <td>2015-01-01 00:35:46</td>\n      <td>91</td>\n      <td>68</td>\n      <td>One Kendall Square at Hampshire St / Portland St</td>\n      <td>Central Square at Mass Ave / Essex St</td>\n      <td>555</td>\n      <td>Subscriber</td>\n      <td>255.0</td>\n      <td>42.366277</td>\n      <td>-71.091690</td>\n      <td>42.365070</td>\n      <td>-71.103100</td>\n    </tr>\n    <tr>\n      <th>3</th>\n      <td>3</td>\n      <td>2015-01-01 00:53:46</td>\n      <td>2015-01-01 01:00:58</td>\n      <td>115</td>\n      <td>96</td>\n      <td>Porter Square Station</td>\n      <td>Cambridge Main Library at Broadway / Trowbridg...</td>\n      <td>1307</td>\n      <td>Subscriber</td>\n      <td>432.0</td>\n      <td>42.387995</td>\n      <td>-71.119084</td>\n      <td>42.373379</td>\n      <td>-71.111075</td>\n    </tr>\n    <tr>\n      <th>4</th>\n      <td>4</td>\n      <td>2015-01-01 01:07:06</td>\n      <td>2015-01-01 01:19:21</td>\n      <td>105</td>\n      <td>88</td>\n      <td>Lower Cambridgeport at Magazine St/Riverside Rd</td>\n      <td>Inman Square at Vellucci Plaza / Hampshire St</td>\n      <td>177</td>\n      <td>Customer</td>\n      <td>735.0</td>\n      <td>42.356954</td>\n      <td>-71.113687</td>\n      <td>42.374035</td>\n      <td>-71.101427</td>\n    </tr>\n  </tbody>\n</table>\n</div>"
     },
     "execution_count": 4,
     "metadata": {},
     "output_type": "execute_result"
    }
   ],
   "source": [
    "df_boston.head()"
   ]
  },
  {
   "cell_type": "code",
   "execution_count": 5,
   "metadata": {},
   "outputs": [],
   "source": [
    "## todo cluster trip types/customer types\n",
    "## cluster areas/station types (?) -> university, center ...\n",
    "## cluster seasons and weather (?) \n"
   ]
  },
  {
   "attachments": {},
   "cell_type": "markdown",
   "metadata": {},
   "source": [
    "## Clustering of trip types"
   ]
  },
  {
   "attachments": {},
   "cell_type": "markdown",
   "metadata": {},
   "source": [
    "### Data Prep and Scaling"
   ]
  },
  {
   "attachments": {},
   "cell_type": "markdown",
   "metadata": {},
   "source": [
    "##### We prepare a dataframe that simply includes time of rental as well as the trip length. We consider not only daytime but also the weekday the bike was rented. "
   ]
  },
  {
   "cell_type": "code",
   "execution_count": 6,
   "metadata": {},
   "outputs": [],
   "source": [
    "#features: hour, day, season?, duration"
   ]
  },
  {
   "cell_type": "code",
   "execution_count": 7,
   "metadata": {},
   "outputs": [],
   "source": [
    "trip_types = df_boston[['start_time', 'end_time', 'trip_length']].copy()\n",
    "trip_types.loc[:,'hour'] = trip_types['start_time'].apply( lambda x: x.hour + (x.minute/60))\n",
    "trip_types.loc[:, 'weekday'] = trip_types['start_time'].apply(lambda x: x.day_of_week)\n",
    "#trip_types.loc[:, 'season'] = trip_types['start_time'].apply(lambda x: x.month%12//3 +1)"
   ]
  },
  {
   "cell_type": "code",
   "execution_count": 8,
   "metadata": {},
   "outputs": [],
   "source": [
    "trip_types = trip_types.rename(columns = {'trip_length' : 'duration_in_sec'})"
   ]
  },
  {
   "cell_type": "code",
   "execution_count": 9,
   "metadata": {},
   "outputs": [
    {
     "data": {
      "text/plain": "           start_time            end_time  duration_in_sec      hour  weekday\n0 2015-01-01 00:21:44 2015-01-01 00:30:47            543.0  0.350000        3\n1 2015-01-01 00:27:03 2015-01-01 00:34:21            438.0  0.450000        3\n2 2015-01-01 00:31:31 2015-01-01 00:35:46            255.0  0.516667        3\n3 2015-01-01 00:53:46 2015-01-01 01:00:58            432.0  0.883333        3\n4 2015-01-01 01:07:06 2015-01-01 01:19:21            735.0  1.116667        3",
      "text/html": "<div>\n<style scoped>\n    .dataframe tbody tr th:only-of-type {\n        vertical-align: middle;\n    }\n\n    .dataframe tbody tr th {\n        vertical-align: top;\n    }\n\n    .dataframe thead th {\n        text-align: right;\n    }\n</style>\n<table border=\"1\" class=\"dataframe\">\n  <thead>\n    <tr style=\"text-align: right;\">\n      <th></th>\n      <th>start_time</th>\n      <th>end_time</th>\n      <th>duration_in_sec</th>\n      <th>hour</th>\n      <th>weekday</th>\n    </tr>\n  </thead>\n  <tbody>\n    <tr>\n      <th>0</th>\n      <td>2015-01-01 00:21:44</td>\n      <td>2015-01-01 00:30:47</td>\n      <td>543.0</td>\n      <td>0.350000</td>\n      <td>3</td>\n    </tr>\n    <tr>\n      <th>1</th>\n      <td>2015-01-01 00:27:03</td>\n      <td>2015-01-01 00:34:21</td>\n      <td>438.0</td>\n      <td>0.450000</td>\n      <td>3</td>\n    </tr>\n    <tr>\n      <th>2</th>\n      <td>2015-01-01 00:31:31</td>\n      <td>2015-01-01 00:35:46</td>\n      <td>255.0</td>\n      <td>0.516667</td>\n      <td>3</td>\n    </tr>\n    <tr>\n      <th>3</th>\n      <td>2015-01-01 00:53:46</td>\n      <td>2015-01-01 01:00:58</td>\n      <td>432.0</td>\n      <td>0.883333</td>\n      <td>3</td>\n    </tr>\n    <tr>\n      <th>4</th>\n      <td>2015-01-01 01:07:06</td>\n      <td>2015-01-01 01:19:21</td>\n      <td>735.0</td>\n      <td>1.116667</td>\n      <td>3</td>\n    </tr>\n  </tbody>\n</table>\n</div>"
     },
     "execution_count": 9,
     "metadata": {},
     "output_type": "execute_result"
    }
   ],
   "source": [
    "trip_types.head()"
   ]
  },
  {
   "attachments": {},
   "cell_type": "markdown",
   "metadata": {},
   "source": [
    "##### Include circular feature of time variables -> otherwise problem with standardization (why?)"
   ]
  },
  {
   "cell_type": "code",
   "execution_count": 10,
   "metadata": {},
   "outputs": [],
   "source": [
    "def circular( name, feature, dataframe, n):\n",
    "    dataframe[name + '_sin'] = feature.apply(lambda x: sin(2*pi*(x/n)))\n",
    "    dataframe[name + '_cos'] = feature.apply(lambda x: cos(2*pi*(x/n)))\n",
    "\n",
    "circular('hour', trip_types['hour'], trip_types, 24)\n",
    "circular('weekday', trip_types['weekday'], trip_types, 7)\n",
    "#circular('season', trip_types['season'], trip_types, 4)\n",
    "\n",
    "X = trip_types.drop(['hour', 'weekday', 'start_time', 'end_time'], axis = 1)\n"
   ]
  },
  {
   "cell_type": "code",
   "execution_count": 11,
   "metadata": {},
   "outputs": [
    {
     "data": {
      "text/plain": "   duration_in_sec  hour_sin  hour_cos  weekday_sin  weekday_cos\n0            543.0  0.091502  0.995805     0.433884    -0.900969\n1            438.0  0.117537  0.993068     0.433884    -0.900969\n2            255.0  0.134851  0.990866     0.433884    -0.900969\n3            432.0  0.229200  0.973379     0.433884    -0.900969\n4            735.0  0.288196  0.957571     0.433884    -0.900969",
      "text/html": "<div>\n<style scoped>\n    .dataframe tbody tr th:only-of-type {\n        vertical-align: middle;\n    }\n\n    .dataframe tbody tr th {\n        vertical-align: top;\n    }\n\n    .dataframe thead th {\n        text-align: right;\n    }\n</style>\n<table border=\"1\" class=\"dataframe\">\n  <thead>\n    <tr style=\"text-align: right;\">\n      <th></th>\n      <th>duration_in_sec</th>\n      <th>hour_sin</th>\n      <th>hour_cos</th>\n      <th>weekday_sin</th>\n      <th>weekday_cos</th>\n    </tr>\n  </thead>\n  <tbody>\n    <tr>\n      <th>0</th>\n      <td>543.0</td>\n      <td>0.091502</td>\n      <td>0.995805</td>\n      <td>0.433884</td>\n      <td>-0.900969</td>\n    </tr>\n    <tr>\n      <th>1</th>\n      <td>438.0</td>\n      <td>0.117537</td>\n      <td>0.993068</td>\n      <td>0.433884</td>\n      <td>-0.900969</td>\n    </tr>\n    <tr>\n      <th>2</th>\n      <td>255.0</td>\n      <td>0.134851</td>\n      <td>0.990866</td>\n      <td>0.433884</td>\n      <td>-0.900969</td>\n    </tr>\n    <tr>\n      <th>3</th>\n      <td>432.0</td>\n      <td>0.229200</td>\n      <td>0.973379</td>\n      <td>0.433884</td>\n      <td>-0.900969</td>\n    </tr>\n    <tr>\n      <th>4</th>\n      <td>735.0</td>\n      <td>0.288196</td>\n      <td>0.957571</td>\n      <td>0.433884</td>\n      <td>-0.900969</td>\n    </tr>\n  </tbody>\n</table>\n</div>"
     },
     "execution_count": 11,
     "metadata": {},
     "output_type": "execute_result"
    }
   ],
   "source": [
    "X.head()"
   ]
  },
  {
   "attachments": {},
   "cell_type": "markdown",
   "metadata": {},
   "source": [
    "##### Scaling variables to ensure same weights"
   ]
  },
  {
   "cell_type": "code",
   "execution_count": 12,
   "metadata": {},
   "outputs": [
    {
     "data": {
      "text/plain": "         duration_in_sec  hour_sin  hour_cos  weekday_sin  weekday_cos\n0              -0.019441  0.527893  2.322666     0.519928    -1.193226\n1              -0.022561  0.564513  2.317805     0.519928    -1.193226\n2              -0.028000  0.588864  2.313892     0.519928    -1.193226\n3              -0.022740  0.721567  2.282826     0.519928    -1.193226\n4              -0.013734  0.804544  2.254743     0.519928    -1.193226\n...                  ...       ...       ...          ...          ...\n1122549        -0.020986  0.246075  2.319560     0.519928    -1.193226\n1122550        -0.017539  0.258282  2.321180     0.519928    -1.193226\n1122551        -0.019233  0.264389  2.321940     0.519928    -1.193226\n1122552        -0.032013  0.313332  2.326806     0.519928    -1.193226\n1122553        -0.009544  0.386923  2.330051     0.519928    -1.193226\n\n[1122554 rows x 5 columns]",
      "text/html": "<div>\n<style scoped>\n    .dataframe tbody tr th:only-of-type {\n        vertical-align: middle;\n    }\n\n    .dataframe tbody tr th {\n        vertical-align: top;\n    }\n\n    .dataframe thead th {\n        text-align: right;\n    }\n</style>\n<table border=\"1\" class=\"dataframe\">\n  <thead>\n    <tr style=\"text-align: right;\">\n      <th></th>\n      <th>duration_in_sec</th>\n      <th>hour_sin</th>\n      <th>hour_cos</th>\n      <th>weekday_sin</th>\n      <th>weekday_cos</th>\n    </tr>\n  </thead>\n  <tbody>\n    <tr>\n      <th>0</th>\n      <td>-0.019441</td>\n      <td>0.527893</td>\n      <td>2.322666</td>\n      <td>0.519928</td>\n      <td>-1.193226</td>\n    </tr>\n    <tr>\n      <th>1</th>\n      <td>-0.022561</td>\n      <td>0.564513</td>\n      <td>2.317805</td>\n      <td>0.519928</td>\n      <td>-1.193226</td>\n    </tr>\n    <tr>\n      <th>2</th>\n      <td>-0.028000</td>\n      <td>0.588864</td>\n      <td>2.313892</td>\n      <td>0.519928</td>\n      <td>-1.193226</td>\n    </tr>\n    <tr>\n      <th>3</th>\n      <td>-0.022740</td>\n      <td>0.721567</td>\n      <td>2.282826</td>\n      <td>0.519928</td>\n      <td>-1.193226</td>\n    </tr>\n    <tr>\n      <th>4</th>\n      <td>-0.013734</td>\n      <td>0.804544</td>\n      <td>2.254743</td>\n      <td>0.519928</td>\n      <td>-1.193226</td>\n    </tr>\n    <tr>\n      <th>...</th>\n      <td>...</td>\n      <td>...</td>\n      <td>...</td>\n      <td>...</td>\n      <td>...</td>\n    </tr>\n    <tr>\n      <th>1122549</th>\n      <td>-0.020986</td>\n      <td>0.246075</td>\n      <td>2.319560</td>\n      <td>0.519928</td>\n      <td>-1.193226</td>\n    </tr>\n    <tr>\n      <th>1122550</th>\n      <td>-0.017539</td>\n      <td>0.258282</td>\n      <td>2.321180</td>\n      <td>0.519928</td>\n      <td>-1.193226</td>\n    </tr>\n    <tr>\n      <th>1122551</th>\n      <td>-0.019233</td>\n      <td>0.264389</td>\n      <td>2.321940</td>\n      <td>0.519928</td>\n      <td>-1.193226</td>\n    </tr>\n    <tr>\n      <th>1122552</th>\n      <td>-0.032013</td>\n      <td>0.313332</td>\n      <td>2.326806</td>\n      <td>0.519928</td>\n      <td>-1.193226</td>\n    </tr>\n    <tr>\n      <th>1122553</th>\n      <td>-0.009544</td>\n      <td>0.386923</td>\n      <td>2.330051</td>\n      <td>0.519928</td>\n      <td>-1.193226</td>\n    </tr>\n  </tbody>\n</table>\n<p>1122554 rows × 5 columns</p>\n</div>"
     },
     "execution_count": 12,
     "metadata": {},
     "output_type": "execute_result"
    }
   ],
   "source": [
    "scaler= StandardScaler()\n",
    "scaler.fit(X)\n",
    "X_scaled = scaler.transform(X)\n",
    "X_scaled_df = pd.DataFrame(X_scaled, columns = X.columns, index = X.index)\n",
    "X_scaled_df"
   ]
  },
  {
   "cell_type": "code",
   "execution_count": 13,
   "metadata": {},
   "outputs": [],
   "source": [
    "trip_types_scaled = X_scaled_df"
   ]
  },
  {
   "cell_type": "code",
   "execution_count": 14,
   "metadata": {},
   "outputs": [
    {
     "data": {
      "text/plain": "   duration_in_sec  hour_sin  hour_cos  weekday_sin  weekday_cos\n0        -0.019441  0.527893  2.322666     0.519928    -1.193226\n1        -0.022561  0.564513  2.317805     0.519928    -1.193226\n2        -0.028000  0.588864  2.313892     0.519928    -1.193226\n3        -0.022740  0.721567  2.282826     0.519928    -1.193226\n4        -0.013734  0.804544  2.254743     0.519928    -1.193226",
      "text/html": "<div>\n<style scoped>\n    .dataframe tbody tr th:only-of-type {\n        vertical-align: middle;\n    }\n\n    .dataframe tbody tr th {\n        vertical-align: top;\n    }\n\n    .dataframe thead th {\n        text-align: right;\n    }\n</style>\n<table border=\"1\" class=\"dataframe\">\n  <thead>\n    <tr style=\"text-align: right;\">\n      <th></th>\n      <th>duration_in_sec</th>\n      <th>hour_sin</th>\n      <th>hour_cos</th>\n      <th>weekday_sin</th>\n      <th>weekday_cos</th>\n    </tr>\n  </thead>\n  <tbody>\n    <tr>\n      <th>0</th>\n      <td>-0.019441</td>\n      <td>0.527893</td>\n      <td>2.322666</td>\n      <td>0.519928</td>\n      <td>-1.193226</td>\n    </tr>\n    <tr>\n      <th>1</th>\n      <td>-0.022561</td>\n      <td>0.564513</td>\n      <td>2.317805</td>\n      <td>0.519928</td>\n      <td>-1.193226</td>\n    </tr>\n    <tr>\n      <th>2</th>\n      <td>-0.028000</td>\n      <td>0.588864</td>\n      <td>2.313892</td>\n      <td>0.519928</td>\n      <td>-1.193226</td>\n    </tr>\n    <tr>\n      <th>3</th>\n      <td>-0.022740</td>\n      <td>0.721567</td>\n      <td>2.282826</td>\n      <td>0.519928</td>\n      <td>-1.193226</td>\n    </tr>\n    <tr>\n      <th>4</th>\n      <td>-0.013734</td>\n      <td>0.804544</td>\n      <td>2.254743</td>\n      <td>0.519928</td>\n      <td>-1.193226</td>\n    </tr>\n  </tbody>\n</table>\n</div>"
     },
     "execution_count": 14,
     "metadata": {},
     "output_type": "execute_result"
    }
   ],
   "source": [
    "trip_types_scaled.head()"
   ]
  },
  {
   "attachments": {},
   "cell_type": "markdown",
   "metadata": {},
   "source": [
    "### Choose number of clusters (K): elbow method"
   ]
  },
  {
   "cell_type": "code",
   "execution_count": null,
   "metadata": {
    "pycharm": {
     "is_executing": true
    }
   },
   "outputs": [
    {
     "name": "stderr",
     "output_type": "stream",
     "text": [
      "/usr/local/lib/python3.9/site-packages/sklearn/cluster/_kmeans.py:870: FutureWarning: The default value of `n_init` will change from 3 to 'auto' in 1.4. Set the value of `n_init` explicitly to suppress the warning\n",
      "  warnings.warn(\n",
      "/usr/local/lib/python3.9/site-packages/sklearn/cluster/_kmeans.py:870: FutureWarning: The default value of `n_init` will change from 3 to 'auto' in 1.4. Set the value of `n_init` explicitly to suppress the warning\n",
      "  warnings.warn(\n",
      "/usr/local/lib/python3.9/site-packages/sklearn/cluster/_kmeans.py:870: FutureWarning: The default value of `n_init` will change from 3 to 'auto' in 1.4. Set the value of `n_init` explicitly to suppress the warning\n",
      "  warnings.warn(\n",
      "/usr/local/lib/python3.9/site-packages/sklearn/cluster/_kmeans.py:870: FutureWarning: The default value of `n_init` will change from 3 to 'auto' in 1.4. Set the value of `n_init` explicitly to suppress the warning\n",
      "  warnings.warn(\n",
      "/usr/local/lib/python3.9/site-packages/sklearn/cluster/_kmeans.py:870: FutureWarning: The default value of `n_init` will change from 3 to 'auto' in 1.4. Set the value of `n_init` explicitly to suppress the warning\n",
      "  warnings.warn(\n",
      "/usr/local/lib/python3.9/site-packages/sklearn/cluster/_kmeans.py:870: FutureWarning: The default value of `n_init` will change from 3 to 'auto' in 1.4. Set the value of `n_init` explicitly to suppress the warning\n",
      "  warnings.warn(\n",
      "/usr/local/lib/python3.9/site-packages/sklearn/cluster/_kmeans.py:870: FutureWarning: The default value of `n_init` will change from 3 to 'auto' in 1.4. Set the value of `n_init` explicitly to suppress the warning\n",
      "  warnings.warn(\n"
     ]
    }
   ],
   "source": [
    "k_max = 35 #35 is a reasonable maximum as there are 7 weekdays with five different daytimes each(morning, noon, afternoon, evening, night). \n",
    "clusters = []\n",
    "losses = []\n",
    "\n",
    "for k in range(k_max):\n",
    "    model= MiniBatchKMeans(n_clusters=k+1,random_state=42,init=\"k-means++\") \n",
    "    model.fit(X_scaled)\n",
    "    clusters.append(k+1)\n",
    "    losses.append(model.inertia_)\n"
   ]
  },
  {
   "cell_type": "code",
   "execution_count": null,
   "metadata": {
    "pycharm": {
     "is_executing": true
    }
   },
   "outputs": [],
   "source": [
    "plt.plot(clusters, losses)\n",
    "plt.ylabel(\"Loss\")\n",
    "plt.xlabel(\"Number of clusters\")\n",
    "plt.show()"
   ]
  },
  {
   "cell_type": "code",
   "execution_count": null,
   "metadata": {
    "pycharm": {
     "is_executing": true
    }
   },
   "outputs": [],
   "source": [
    "#zooming in on clusters between 0 and 15\n",
    "plt.plot(clusters, losses)\n",
    "plt.ylabel(\"Loss\")\n",
    "plt.xlabel(\"Number of clusters\")\n",
    "plt.xlim([2,20])\n",
    "plt.show()"
   ]
  },
  {
   "attachments": {},
   "cell_type": "markdown",
   "metadata": {},
   "source": [
    "From this graph we inferr that a good amount of clusters lies within the range of 6-10, which is why we choose 8 as the 'optimal' amount of clusters. "
   ]
  },
  {
   "cell_type": "markdown",
   "metadata": {},
   "source": [
    "### Clustering"
   ]
  },
  {
   "cell_type": "code",
   "execution_count": null,
   "metadata": {
    "pycharm": {
     "is_executing": true
    }
   },
   "outputs": [],
   "source": [
    "# refit algorithm\n",
    "eight_means = MiniBatchKMeans(n_clusters=8, random_state=42,init=\"k-means++\")\n",
    "eight_means.fit(X_scaled)\n",
    "\n",
    "numbers = ['one', 'two', 'three', 'four', 'five', 'six', 'seven', 'eight']\n",
    "\n",
    "#add cluster lables to the dataset\n",
    "trip_types_scaled[\"cluster_eight\"] = eight_means.predict(X_scaled)\n",
    "trip_types_scaled[\"cluster_eight\"] = trip_types_scaled[\"cluster_eight\"].apply(lambda x: numbers[x])\n",
    "\n",
    "trip_types_scaled['hour'] = trip_types.hour\n",
    "trip_types_scaled['weekday'] = trip_types.weekday\n",
    "trip_types_scaled['duration_in_sec'] = trip_types.duration_in_sec\n"
   ]
  },
  {
   "cell_type": "code",
   "execution_count": null,
   "metadata": {
    "pycharm": {
     "is_executing": true
    }
   },
   "outputs": [],
   "source": [
    "trip_types_scaled.head()"
   ]
  },
  {
   "cell_type": "code",
   "execution_count": null,
   "metadata": {
    "pycharm": {
     "is_executing": true
    }
   },
   "outputs": [],
   "source": [
    "count = [len(trip_types_scaled[trip_types_scaled.cluster_eight==numbers[i]]) for i in range(len(numbers))]\n",
    "\n",
    "fig,ax = plt.subplots(figsize=(20,10), dpi=90) \n",
    "axis_font = {'size':'20'}\n",
    "label_font = {'labelsize':'15'}\n",
    "dic={'fontsize': '22'}\n",
    "\n",
    "ax.set_title(\"Distribution of Trips in Clusters\", dic)\n",
    "ax.set_ylabel(\"number of trips\", **axis_font)\n",
    "ax.set_xlabel(\"cluster\", **axis_font)\n",
    "ax.tick_params(axis='both', **label_font)\n",
    "    \n",
    "plt.bar(numbers,count)\n",
    "plt.show()"
   ]
  },
  {
   "cell_type": "code",
   "execution_count": null,
   "metadata": {
    "pycharm": {
     "is_executing": true
    }
   },
   "outputs": [],
   "source": [
    "g = sns.pairplot(data=trip_types_scaled, hue=\"cluster_eight\", hue_order=numbers, \n",
    "                 height=5, vars=[\"duration_in_sec\",\"weekday\",\"hour\"])"
   ]
  },
  {
   "cell_type": "code",
   "execution_count": null,
   "metadata": {
    "pycharm": {
     "is_executing": true
    }
   },
   "outputs": [],
   "source": [
    "fig,ax = plt.subplots(2,1,figsize=(20,20), dpi= 80) \n",
    "axis_font = {'size':'18'}\n",
    "label_font = {'labelsize':'12'}\n",
    "dic={'fontsize': '24'}\n",
    "\n",
    "sns.kdeplot(data=trip_types_scaled, x=\"hour\", hue=\"cluster_eight\",hue_order=numbers, ax=ax[0])\n",
    "sns.kdeplot(data=trip_types_scaled, x=\"weekday\", hue=\"cluster_eight\",hue_order=numbers, ax=ax[1])\n",
    "\n",
    "\n",
    "ax[0].set_title(\"Cluster Distribution in a Day\", dic)\n",
    "ax[0].set_ylabel(\"Density\", **axis_font)\n",
    "ax[0].set_xlabel(\"Hour\", **axis_font)\n",
    "ax[0].tick_params(axis='both', **label_font)\n",
    "\n",
    "ax[1].set_title(\"Cluster Distribution in a Week\", dic)\n",
    "ax[1].set_ylabel(\"Density\", **axis_font)\n",
    "ax[1].set_xlabel(\"Day of Week\", **axis_font)\n",
    "ax[1].tick_params(axis='both', **label_font)\n",
    "\n",
    "plt.show()"
   ]
  },
  {
   "attachments": {},
   "cell_type": "markdown",
   "metadata": {},
   "source": [
    "clusters:\n",
    "- one (blue): peaks during morning between 5 and 10 am, lowers slowly from 10 to 15 but only mid week -> travelling to work midweek\n",
    "- two (orange): peaks in the evening and during night time 5pm till 2am only during the weekend -> party, going out on the weekend\n",
    "- three (green): peaks from afternoon early till evening and lowers down till night time, also exceptionally long trips -> afterwork, freetime\n",
    "- four (red): peaks from late morning till late afternoon but only on weekends -> daytrips, weekend trips during the day\n",
    "- five (purple): peaks in the evening and during night time 5pm till 2am but only mid week -> afterwork bar, party\n",
    "- six (brown): peaks during morning between 5 and 10 am, lowers slowly from 10 to 15 but only early in the week -> travelling to work early in the week \n",
    "- seven (pink): peaks during early morning and early afternoon but only on weekends -> brunch, early trips on the weekend\n",
    "- eight (grey): peaks from late morning till late afternoon but only on fridays -> ?\n"
   ]
  }
 ],
 "metadata": {
  "kernelspec": {
   "display_name": "AAproject",
   "language": "python",
   "name": "python3"
  },
  "language_info": {
   "codemirror_mode": {
    "name": "ipython",
    "version": 3
   },
   "file_extension": ".py",
   "mimetype": "text/x-python",
   "name": "python",
   "nbconvert_exporter": "python",
   "pygments_lexer": "ipython3",
   "version": "3.9.15"
  },
  "orig_nbformat": 4,
  "vscode": {
   "interpreter": {
    "hash": "4bda6f00b1c96ac5a9a9d5d0da9c426f670222a35f5423f5287bfe0ddc8184d4"
   }
  }
 },
 "nbformat": 4,
 "nbformat_minor": 2
}
