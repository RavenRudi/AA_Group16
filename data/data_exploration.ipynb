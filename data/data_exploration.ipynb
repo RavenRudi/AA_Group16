{
 "cells": [
  {
   "cell_type": "code",
   "execution_count": 1,
   "metadata": {},
   "outputs": [
    {
     "name": "stdout",
     "output_type": "stream",
     "text": [
      "Total number of rows: 1122558\n"
     ]
    }
   ],
   "source": [
    "import pandas as pd\n",
    "import numpy as np\n",
    "\n",
    "df_boston = pd.read_csv('./data/boston_2015.csv', dtype={'start_station_id': np.int64, 'end_station_id': 'string', 'end_station_name': 'string', 'start_station_name': 'string', 'bike_id': np.int64, 'user_type': 'string'})\n",
    "print(f'Total number of rows: {len(df_boston)}')"
   ]
  },
  {
   "cell_type": "code",
   "execution_count": 2,
   "metadata": {},
   "outputs": [
    {
     "data": {
      "text/html": [
       "<div>\n",
       "<style scoped>\n",
       "    .dataframe tbody tr th:only-of-type {\n",
       "        vertical-align: middle;\n",
       "    }\n",
       "\n",
       "    .dataframe tbody tr th {\n",
       "        vertical-align: top;\n",
       "    }\n",
       "\n",
       "    .dataframe thead th {\n",
       "        text-align: right;\n",
       "    }\n",
       "</style>\n",
       "<table border=\"1\" class=\"dataframe\">\n",
       "  <thead>\n",
       "    <tr style=\"text-align: right;\">\n",
       "      <th></th>\n",
       "      <th>start_time</th>\n",
       "      <th>end_time</th>\n",
       "      <th>start_station_id</th>\n",
       "      <th>end_station_id</th>\n",
       "      <th>start_station_name</th>\n",
       "      <th>end_station_name</th>\n",
       "      <th>bike_id</th>\n",
       "      <th>user_type</th>\n",
       "    </tr>\n",
       "  </thead>\n",
       "  <tbody>\n",
       "    <tr>\n",
       "      <th>0</th>\n",
       "      <td>2015-01-01 00:21:44</td>\n",
       "      <td>2015-01-01 00:30:47</td>\n",
       "      <td>115</td>\n",
       "      <td>96</td>\n",
       "      <td>Porter Square Station</td>\n",
       "      <td>Cambridge Main Library at Broadway / Trowbridg...</td>\n",
       "      <td>277</td>\n",
       "      <td>Subscriber</td>\n",
       "    </tr>\n",
       "    <tr>\n",
       "      <th>1</th>\n",
       "      <td>2015-01-01 00:27:03</td>\n",
       "      <td>2015-01-01 00:34:21</td>\n",
       "      <td>80</td>\n",
       "      <td>95</td>\n",
       "      <td>MIT Stata Center at Vassar St / Main St</td>\n",
       "      <td>Cambridge St - at Columbia St / Webster Ave</td>\n",
       "      <td>648</td>\n",
       "      <td>Subscriber</td>\n",
       "    </tr>\n",
       "    <tr>\n",
       "      <th>2</th>\n",
       "      <td>2015-01-01 00:31:31</td>\n",
       "      <td>2015-01-01 00:35:46</td>\n",
       "      <td>91</td>\n",
       "      <td>68</td>\n",
       "      <td>One Kendall Square at Hampshire St / Portland St</td>\n",
       "      <td>Central Square at Mass Ave / Essex St</td>\n",
       "      <td>555</td>\n",
       "      <td>Subscriber</td>\n",
       "    </tr>\n",
       "    <tr>\n",
       "      <th>3</th>\n",
       "      <td>2015-01-01 00:53:46</td>\n",
       "      <td>2015-01-01 01:00:58</td>\n",
       "      <td>115</td>\n",
       "      <td>96</td>\n",
       "      <td>Porter Square Station</td>\n",
       "      <td>Cambridge Main Library at Broadway / Trowbridg...</td>\n",
       "      <td>1307</td>\n",
       "      <td>Subscriber</td>\n",
       "    </tr>\n",
       "    <tr>\n",
       "      <th>4</th>\n",
       "      <td>2015-01-01 01:07:06</td>\n",
       "      <td>2015-01-01 01:19:21</td>\n",
       "      <td>105</td>\n",
       "      <td>88</td>\n",
       "      <td>Lower Cambridgeport at Magazine St/Riverside Rd</td>\n",
       "      <td>Inman Square at Vellucci Plaza / Hampshire St</td>\n",
       "      <td>177</td>\n",
       "      <td>Customer</td>\n",
       "    </tr>\n",
       "  </tbody>\n",
       "</table>\n",
       "</div>"
      ],
      "text/plain": [
       "            start_time             end_time  start_station_id end_station_id  \\\n",
       "0  2015-01-01 00:21:44  2015-01-01 00:30:47               115             96   \n",
       "1  2015-01-01 00:27:03  2015-01-01 00:34:21                80             95   \n",
       "2  2015-01-01 00:31:31  2015-01-01 00:35:46                91             68   \n",
       "3  2015-01-01 00:53:46  2015-01-01 01:00:58               115             96   \n",
       "4  2015-01-01 01:07:06  2015-01-01 01:19:21               105             88   \n",
       "\n",
       "                                 start_station_name  \\\n",
       "0                             Porter Square Station   \n",
       "1           MIT Stata Center at Vassar St / Main St   \n",
       "2  One Kendall Square at Hampshire St / Portland St   \n",
       "3                             Porter Square Station   \n",
       "4   Lower Cambridgeport at Magazine St/Riverside Rd   \n",
       "\n",
       "                                    end_station_name  bike_id   user_type  \n",
       "0  Cambridge Main Library at Broadway / Trowbridg...      277  Subscriber  \n",
       "1        Cambridge St - at Columbia St / Webster Ave      648  Subscriber  \n",
       "2              Central Square at Mass Ave / Essex St      555  Subscriber  \n",
       "3  Cambridge Main Library at Broadway / Trowbridg...     1307  Subscriber  \n",
       "4      Inman Square at Vellucci Plaza / Hampshire St      177    Customer  "
      ]
     },
     "execution_count": 2,
     "metadata": {},
     "output_type": "execute_result"
    }
   ],
   "source": [
    "df_boston.head()"
   ]
  },
  {
   "cell_type": "code",
   "execution_count": 3,
   "metadata": {},
   "outputs": [
    {
     "data": {
      "text/plain": [
       "<StringArray>\n",
       "['Subscriber', 'Customer']\n",
       "Length: 2, dtype: string"
      ]
     },
     "execution_count": 3,
     "metadata": {},
     "output_type": "execute_result"
    }
   ],
   "source": [
    "df_boston['user_type'].unique()"
   ]
  },
  {
   "cell_type": "markdown",
   "metadata": {},
   "source": [
    "# Preprocessing\n",
    "### Set data type of 'end_station_id'"
   ]
  },
  {
   "cell_type": "code",
   "execution_count": 4,
   "metadata": {},
   "outputs": [
    {
     "data": {
      "text/plain": [
       "<StringArray>\n",
       "[ '96',  '95',  '68',  '88',  '76', '118',  '75',  '67',  '36',  '23',\n",
       " ...\n",
       " '169', '174', '175', '159', '171', '178', '176', '179', '180', '177']\n",
       "Length: 157, dtype: string"
      ]
     },
     "execution_count": 4,
     "metadata": {},
     "output_type": "execute_result"
    }
   ],
   "source": [
    "df_boston['end_station_id'].unique()"
   ]
  },
  {
   "cell_type": "code",
   "execution_count": 5,
   "metadata": {},
   "outputs": [
    {
     "name": "stdout",
     "output_type": "stream",
     "text": [
      "Number of \"\\\\N\" occurences in end_station_id column: 1\n",
      "<class 'pandas.core.frame.DataFrame'>\n",
      "Int64Index: 1122557 entries, 0 to 1122557\n",
      "Data columns (total 8 columns):\n",
      " #   Column              Non-Null Count    Dtype \n",
      "---  ------              --------------    ----- \n",
      " 0   start_time          1122557 non-null  object\n",
      " 1   end_time            1122557 non-null  object\n",
      " 2   start_station_id    1122557 non-null  int64 \n",
      " 3   end_station_id      1122557 non-null  int64 \n",
      " 4   start_station_name  1122557 non-null  string\n",
      " 5   end_station_name    1122557 non-null  string\n",
      " 6   bike_id             1122557 non-null  int64 \n",
      " 7   user_type           1122557 non-null  string\n",
      "dtypes: int64(3), object(2), string(3)\n",
      "memory usage: 77.1+ MB\n"
     ]
    }
   ],
   "source": [
    "# Value '\\\\N' seems to be anomaly -> occurs only once, so drop!\n",
    "num_occurences = len(df_boston.loc[df_boston[\"end_station_id\"] == \"\\\\N\"])\n",
    "print(f'Number of \"\\\\\\\\N\" occurences in end_station_id column: {num_occurences}')\n",
    "df_boston.drop(index=df_boston.loc[df_boston[\"end_station_id\"] == \"\\\\N\"].index, inplace=True, axis=1)\n",
    "\n",
    "# now set column to dtype np.int64\n",
    "df_boston = df_boston.astype({'end_station_id': np.int64})\n",
    "df_boston.info()"
   ]
  },
  {
   "cell_type": "markdown",
   "metadata": {},
   "source": [
    "### Set data type of time columns"
   ]
  },
  {
   "cell_type": "code",
   "execution_count": 6,
   "metadata": {},
   "outputs": [
    {
     "data": {
      "text/plain": [
       "start_time            datetime64[ns]\n",
       "end_time              datetime64[ns]\n",
       "start_station_id               int64\n",
       "end_station_id                 int64\n",
       "start_station_name            string\n",
       "end_station_name              string\n",
       "bike_id                        int64\n",
       "user_type                     string\n",
       "dtype: object"
      ]
     },
     "execution_count": 6,
     "metadata": {},
     "output_type": "execute_result"
    }
   ],
   "source": [
    "df_boston['start_time'] = pd.to_datetime(df_boston['start_time'], format='%Y-%m-%d %X')\n",
    "df_boston['end_time'] = pd.to_datetime(df_boston['end_time'], format='%Y-%m-%d %X')\n",
    "df_boston.dtypes"
   ]
  },
  {
   "cell_type": "markdown",
   "metadata": {},
   "source": [
    "#### Check if station id and names are unique tuples"
   ]
  },
  {
   "cell_type": "code",
   "execution_count": 7,
   "metadata": {},
   "outputs": [
    {
     "name": "stdout",
     "output_type": "stream",
     "text": [
      "Station IDs and names are unique True\n"
     ]
    }
   ],
   "source": [
    "# len(df_boston['start_station_name'].unique())\n",
    "is_unique = True\n",
    "i = 0\n",
    "all_station_ids = df_boston['start_station_id'].unique()\n",
    "\n",
    "while i < len(all_station_ids) & is_unique:\n",
    "    is_unique = len(df_boston.loc[df_boston['start_station_id'] == i]['start_station_name'].unique()) == 1\n",
    "    i += 1\n",
    "\n",
    "print(\"Station IDs and names are unique\", is_unique)\n"
   ]
  },
  {
   "cell_type": "code",
   "execution_count": 8,
   "metadata": {},
   "outputs": [
    {
     "data": {
      "text/plain": [
       "array([['1', '18 Dorrance Warehouse'],\n",
       "       ['10', 'B.U. Central - 725 Comm. Ave.'],\n",
       "       ['100', 'Davis Square'],\n",
       "       ['102', 'Powder House Circle - Nathan Tufts Park'],\n",
       "       ['103', 'JFK Crossing at Harvard St. / Thorndike St.'],\n",
       "       ['104',\n",
       "        'Harvard University Radcliffe Quadrangle at Shepard St / Garden St'],\n",
       "       ['105', 'Lower Cambridgeport at Magazine St/Riverside Rd'],\n",
       "       ['106', 'Mt Pleasant Ave / Dudley Town Common'],\n",
       "       ['107', 'Ames St at Main St'],\n",
       "       ['108',\n",
       "        'Harvard University / SEAS Cruft-Pierce Halls at 29 Oxford St'],\n",
       "       ['109', 'TD Garden - Causeway at Portal Park #1'],\n",
       "       ['11', 'Longwood Ave / Binney St'],\n",
       "       ['110', 'Harvard University Gund Hall at Quincy St / Kirkland S'],\n",
       "       ['111', 'Packard Ave / Powderhouse Blvd'],\n",
       "       ['112', 'Somerville Hospital at Highland Ave / Crocker St'],\n",
       "       ['113', 'Andrew Station - Dorchester Ave at Humboldt Pl'],\n",
       "       ['114', 'Teele Square at 239 Holland St'],\n",
       "       ['115', 'Porter Square Station'],\n",
       "       ['116', '359 Broadway - Broadway at Fayette Street'],\n",
       "       ['117', 'Binney St / Sixth St'],\n",
       "       ['118', 'Linear Park - Mass. Ave. at Cameron Ave. '],\n",
       "       ['119', 'South Boston Library - 646 East Broadway'],\n",
       "       ['12', 'Ruggles Station / Columbus Ave.'],\n",
       "       ['120', 'Charles St at Beacon St'],\n",
       "       ['121', 'West Broadway at Dorchester St'],\n",
       "       ['122', 'BIDMC - Brookline at Burlington St'],\n",
       "       ['123', 'JP Center - Centre Street at Myrtle Street'],\n",
       "       ['124', 'Curtis Hall at South Street'],\n",
       "       ['125', 'Hyde Square at Barbara St'],\n",
       "       ['126', 'Egleston Square at Columbus Ave'],\n",
       "       ['128', 'E. Cottage St at Columbia Rd'],\n",
       "       ['129', 'Hayes Square at Vine St.'],\n",
       "       ['13', 'Boston Medical Center -  East Concord at Harrison Ave'],\n",
       "       ['130', \"Upham's Corner - Ramsey St at Dudley St\"],\n",
       "       ['131', 'Jackson Square T at Centre St'],\n",
       "       ['132', 'Summer St at Cutter St'],\n",
       "       ['133', 'Green St T'],\n",
       "       ['134', 'New Balance Store - Boylston at Dartmouth'],\n",
       "       ['135', 'ID Building East'],\n",
       "       ['136', 'ID Building West'],\n",
       "       ['137', 'Magoun Square at Trum Field'],\n",
       "       ['138', 'Mass Ave at Newmarket Square'],\n",
       "       ['139', 'Dana Park'],\n",
       "       ['14', 'HMS / HSPH - Ave. Louis Pasteur at Longwood Ave.'],\n",
       "       ['140', 'Danehy Park'],\n",
       "       ['141', 'Kendall Street'],\n",
       "       ['142', 'Alewife Station at Russell Field'],\n",
       "       ['143', 'EF - North Point Park'],\n",
       "       ['145', \"Rindge Avenue - O'Neill Library\"],\n",
       "       ['149',\n",
       "        'Harvard University Transportation Services - 175 North Harvard St'],\n",
       "       ['15', 'Harvard Real Estate - Brighton Mills - 370 Western Ave'],\n",
       "       ['150', 'State Street at Channel Center'],\n",
       "       ['151', 'John F Fitzgerald - Surface Road at India Street'],\n",
       "       ['152', 'Ink Block'],\n",
       "       ['159', 'Heath St at South Huntington'],\n",
       "       ['16', 'Back Bay / South End Station'],\n",
       "       ['160', 'Wentworth Institute of Technology'],\n",
       "       ['161', 'West Broadway at D Street'],\n",
       "       ['162', 'Franklin Park - Seaver Street at Humbolt Ave'],\n",
       "       ['163', 'Lawn on D'],\n",
       "       ['167', 'Ryan Playground - Dorchester Avenue Station'],\n",
       "       ['169', 'Edwards Playground - Main Street & Eden Street'],\n",
       "       ['17',\n",
       "        'Harvard University Housing - 111 Western Ave. at Soldiers Field Park '],\n",
       "       ['170', 'Franklin Park Zoo'],\n",
       "       ['171', 'Bunker Hill Community College'],\n",
       "       ['174', 'Washington St at Brock St'],\n",
       "       ['175', 'Brighton Center'],\n",
       "       ['176', 'Lesley University'],\n",
       "       ['177', 'University Park'],\n",
       "       ['178', 'MIT Pacific St at Purrington St'],\n",
       "       ['179', 'MIT Vassar St'],\n",
       "       ['180', 'Mt Auburn'],\n",
       "       ['19', 'Buswell St. at Park Dr.'],\n",
       "       ['20', 'Aquarium Station - 200 Atlantic Ave.'],\n",
       "       ['21', 'Prudential Center / Belvidere'],\n",
       "       ['22', 'South Station - 700 Atlantic Ave.'],\n",
       "       ['23', 'Mayor Martin J Walsh - 28 State St'],\n",
       "       ['24', 'Seaport Square - Seaport Blvd. at Boston Wharf'],\n",
       "       ['25', 'Tremont St / W Newton St'],\n",
       "       ['26', 'Washington St. at Waltham St.'],\n",
       "       ['27', 'Roxbury Crossing Station'],\n",
       "       ['29', 'Innovation Lab - 125 Western Ave. at Batten Way'],\n",
       "       ['3', 'Colleges of the Fenway'],\n",
       "       ['30', 'Brigham Cir / Huntington Ave'],\n",
       "       ['31', 'Seaport Hotel'],\n",
       "       ['32', 'Landmark Centre'],\n",
       "       ['33', 'Kenmore Sq / Comm Ave'],\n",
       "       ['35', 'Franklin St. / Arch St.'],\n",
       "       ['36', 'Boston Public Library - 700 Boylston St.'],\n",
       "       ['37', 'New Balance - 20 Guest St.'],\n",
       "       ['38', 'TD Garden - Causeway at Portal Park #2'],\n",
       "       ['39', 'Washington St. at Rutland St.'],\n",
       "       ['4', 'Tremont St. at Berkeley St.'],\n",
       "       ['40', 'Lewis Wharf - Atlantic Ave.'],\n",
       "       ['41', \"Packard's Corner - Comm. Ave. at Brighton Ave.\"],\n",
       "       ['42', 'Boylston St. at Arlington St.'],\n",
       "       ['43', 'Rowes Wharf - Atlantic Ave'],\n",
       "       ['44', 'Faneuil Hall - Union St. at North St.'],\n",
       "       ['45', 'Yawkey Way at Boylston St.'],\n",
       "       ['46', 'Christian Science Plaza'],\n",
       "       ['47', 'Cross St. at Hanover St.'],\n",
       "       ['48', 'Post Office Square'],\n",
       "       ['49', 'Stuart St. at Charles St.'],\n",
       "       ['5', 'Northeastern U / North Parking Lot'],\n",
       "       ['50', 'Boylston St / Berkeley St'],\n",
       "       ['51', 'Washington St. at Lenox St.'],\n",
       "       ['52', 'Newbury St / Hereford St'],\n",
       "       ['53', 'Beacon St / Mass Ave'],\n",
       "       ['54', 'Tremont St / West St'],\n",
       "       ['55', 'Boylston / Mass Ave'],\n",
       "       ['56', 'Dudley Square'],\n",
       "       ['57', 'Columbus Ave. at Mass. Ave.'],\n",
       "       ['58', 'The Esplanade - Beacon St. at Arlington St.'],\n",
       "       ['59', 'Chinatown Gate Plaza - Surface Rd. at Beach St.'],\n",
       "       ['6', 'Cambridge St. at Joy St.'],\n",
       "       ['60', 'Charles Circle - Charles St. at Cambridge St.'],\n",
       "       ['61', 'Boylston at Fairfield'],\n",
       "       ['63', 'Dorchester Ave. at Gillette Park'],\n",
       "       ['64', 'Congress / Sleeper'],\n",
       "       ['65', 'Boston Convention & Exhibition Center'],\n",
       "       ['66', 'Allston Green District - Commonwealth Ave & Griggs St'],\n",
       "       ['67', 'MIT at Mass Ave / Amherst St'],\n",
       "       ['68', 'Central Square at Mass Ave / Essex St'],\n",
       "       ['69', 'Coolidge Corner - Beacon St @ Centre St'],\n",
       "       ['7', 'Fan Pier'],\n",
       "       ['70', 'Harvard Kennedy School at Bennett St / Eliot St'],\n",
       "       ['71', 'Conway Park - Somerville Avenue'],\n",
       "       ['72', 'One Broadway / Kendall Sq at Main St / 3rd St'],\n",
       "       ['73', 'Harvard Square at Brattle St / Eliot St'],\n",
       "       ['74', 'Harvard Square at Mass Ave/ Dunster'],\n",
       "       ['75', 'Lafayette Square at Mass Ave / Main St / Columbia St'],\n",
       "       ['76',\n",
       "        'Central Sq Post Office / Cambridge City Hall at Mass Ave / Pleasant St'],\n",
       "       ['77', 'Somerville City Hall'],\n",
       "       ['78', 'Union Square - Somerville'],\n",
       "       ['79', 'Beacon St at Washington / Kirkland'],\n",
       "       ['8', 'Union Square - Brighton Ave. at Cambridge St.'],\n",
       "       ['80', 'MIT Stata Center at Vassar St / Main St'],\n",
       "       ['81', 'Boylston St / Washington St'],\n",
       "       ['82', 'Washington Square at Washington St. / Beacon St.'],\n",
       "       ['84', 'CambridgeSide Galleria - CambridgeSide PL at Land Blvd'],\n",
       "       ['85',\n",
       "        'Spaulding Rehabilitation Hospital - Charlestown Navy Yard'],\n",
       "       ['86', 'Brookline Village - Pearl Street @ MBTA'],\n",
       "       ['87',\n",
       "        'Harvard University Housing - 115 Putnam Ave at Peabody Terrace'],\n",
       "       ['88', 'Inman Square at Vellucci Plaza / Hampshire St'],\n",
       "       ['89', 'Harvard Law School at Mass Ave / Jarvis St'],\n",
       "       ['9', 'Agganis Arena - 925 Comm Ave.'],\n",
       "       ['90', 'Lechmere Station at Cambridge St / First St'],\n",
       "       ['91', 'One Kendall Square at Hampshire St / Portland St'],\n",
       "       ['92', 'UMass Boston Integrated Sciences Complex'],\n",
       "       ['93', 'JFK / UMASS at MBTA Station'],\n",
       "       ['94', 'Charlestown - Main St at Austin St'],\n",
       "       ['95', 'Cambridge St - at Columbia St / Webster Ave'],\n",
       "       ['96', 'Cambridge Main Library at Broadway / Trowbridge St'],\n",
       "       ['97',\n",
       "        'Harvard University River Houses at DeWolfe St / Cowperthwaite St'],\n",
       "       ['98', 'Charlestown - Warren St at Chelsea St'],\n",
       "       ['99', 'Wilson Square']], dtype='<U70')"
      ]
     },
     "execution_count": 8,
     "metadata": {},
     "output_type": "execute_result"
    }
   ],
   "source": [
    "# Check if station id and name always match\n",
    "unique_start_tuples = np.unique(df_boston[['start_station_id', 'start_station_name']].values.astype('str'), axis=0)\n",
    "unique_start_tuples"
   ]
  },
  {
   "cell_type": "code",
   "execution_count": 9,
   "metadata": {},
   "outputs": [
    {
     "data": {
      "text/plain": [
       "array([], dtype='<U70')"
      ]
     },
     "execution_count": 9,
     "metadata": {},
     "output_type": "execute_result"
    }
   ],
   "source": [
    "#TODO: check for entire duplicates (also end stations)\n",
    "unique_start_tuples[:,0:1]\n",
    "u, c = np.unique(unique_start_tuples[:,0:1], return_counts=True)\n",
    "dup = u[c > 1]\n",
    "dup "
   ]
  },
  {
   "cell_type": "markdown",
   "metadata": {},
   "source": [
    "# Feature Engineering\n",
    "#### Calculate trip_length "
   ]
  },
  {
   "cell_type": "code",
   "execution_count": 10,
   "metadata": {},
   "outputs": [
    {
     "data": {
      "text/html": [
       "<div>\n",
       "<style scoped>\n",
       "    .dataframe tbody tr th:only-of-type {\n",
       "        vertical-align: middle;\n",
       "    }\n",
       "\n",
       "    .dataframe tbody tr th {\n",
       "        vertical-align: top;\n",
       "    }\n",
       "\n",
       "    .dataframe thead th {\n",
       "        text-align: right;\n",
       "    }\n",
       "</style>\n",
       "<table border=\"1\" class=\"dataframe\">\n",
       "  <thead>\n",
       "    <tr style=\"text-align: right;\">\n",
       "      <th></th>\n",
       "      <th>start_time</th>\n",
       "      <th>end_time</th>\n",
       "      <th>start_station_id</th>\n",
       "      <th>end_station_id</th>\n",
       "      <th>start_station_name</th>\n",
       "      <th>end_station_name</th>\n",
       "      <th>bike_id</th>\n",
       "      <th>user_type</th>\n",
       "      <th>trip_length</th>\n",
       "    </tr>\n",
       "  </thead>\n",
       "  <tbody>\n",
       "    <tr>\n",
       "      <th>0</th>\n",
       "      <td>2015-01-01 00:21:44</td>\n",
       "      <td>2015-01-01 00:30:47</td>\n",
       "      <td>115</td>\n",
       "      <td>96</td>\n",
       "      <td>Porter Square Station</td>\n",
       "      <td>Cambridge Main Library at Broadway / Trowbridg...</td>\n",
       "      <td>277</td>\n",
       "      <td>Subscriber</td>\n",
       "      <td>543.0</td>\n",
       "    </tr>\n",
       "    <tr>\n",
       "      <th>1</th>\n",
       "      <td>2015-01-01 00:27:03</td>\n",
       "      <td>2015-01-01 00:34:21</td>\n",
       "      <td>80</td>\n",
       "      <td>95</td>\n",
       "      <td>MIT Stata Center at Vassar St / Main St</td>\n",
       "      <td>Cambridge St - at Columbia St / Webster Ave</td>\n",
       "      <td>648</td>\n",
       "      <td>Subscriber</td>\n",
       "      <td>438.0</td>\n",
       "    </tr>\n",
       "    <tr>\n",
       "      <th>2</th>\n",
       "      <td>2015-01-01 00:31:31</td>\n",
       "      <td>2015-01-01 00:35:46</td>\n",
       "      <td>91</td>\n",
       "      <td>68</td>\n",
       "      <td>One Kendall Square at Hampshire St / Portland St</td>\n",
       "      <td>Central Square at Mass Ave / Essex St</td>\n",
       "      <td>555</td>\n",
       "      <td>Subscriber</td>\n",
       "      <td>255.0</td>\n",
       "    </tr>\n",
       "    <tr>\n",
       "      <th>3</th>\n",
       "      <td>2015-01-01 00:53:46</td>\n",
       "      <td>2015-01-01 01:00:58</td>\n",
       "      <td>115</td>\n",
       "      <td>96</td>\n",
       "      <td>Porter Square Station</td>\n",
       "      <td>Cambridge Main Library at Broadway / Trowbridg...</td>\n",
       "      <td>1307</td>\n",
       "      <td>Subscriber</td>\n",
       "      <td>432.0</td>\n",
       "    </tr>\n",
       "    <tr>\n",
       "      <th>4</th>\n",
       "      <td>2015-01-01 01:07:06</td>\n",
       "      <td>2015-01-01 01:19:21</td>\n",
       "      <td>105</td>\n",
       "      <td>88</td>\n",
       "      <td>Lower Cambridgeport at Magazine St/Riverside Rd</td>\n",
       "      <td>Inman Square at Vellucci Plaza / Hampshire St</td>\n",
       "      <td>177</td>\n",
       "      <td>Customer</td>\n",
       "      <td>735.0</td>\n",
       "    </tr>\n",
       "  </tbody>\n",
       "</table>\n",
       "</div>"
      ],
      "text/plain": [
       "           start_time            end_time  start_station_id  end_station_id  \\\n",
       "0 2015-01-01 00:21:44 2015-01-01 00:30:47               115              96   \n",
       "1 2015-01-01 00:27:03 2015-01-01 00:34:21                80              95   \n",
       "2 2015-01-01 00:31:31 2015-01-01 00:35:46                91              68   \n",
       "3 2015-01-01 00:53:46 2015-01-01 01:00:58               115              96   \n",
       "4 2015-01-01 01:07:06 2015-01-01 01:19:21               105              88   \n",
       "\n",
       "                                 start_station_name  \\\n",
       "0                             Porter Square Station   \n",
       "1           MIT Stata Center at Vassar St / Main St   \n",
       "2  One Kendall Square at Hampshire St / Portland St   \n",
       "3                             Porter Square Station   \n",
       "4   Lower Cambridgeport at Magazine St/Riverside Rd   \n",
       "\n",
       "                                    end_station_name  bike_id   user_type  \\\n",
       "0  Cambridge Main Library at Broadway / Trowbridg...      277  Subscriber   \n",
       "1        Cambridge St - at Columbia St / Webster Ave      648  Subscriber   \n",
       "2              Central Square at Mass Ave / Essex St      555  Subscriber   \n",
       "3  Cambridge Main Library at Broadway / Trowbridg...     1307  Subscriber   \n",
       "4      Inman Square at Vellucci Plaza / Hampshire St      177    Customer   \n",
       "\n",
       "   trip_length  \n",
       "0        543.0  \n",
       "1        438.0  \n",
       "2        255.0  \n",
       "3        432.0  \n",
       "4        735.0  "
      ]
     },
     "execution_count": 10,
     "metadata": {},
     "output_type": "execute_result"
    }
   ],
   "source": [
    "df_boston['trip_length'] = (df_boston['end_time'] - df_boston['start_time'])\n",
    "df_boston['trip_length'] = df_boston['trip_length'] / np.timedelta64(1, 's')\n",
    "df_boston.head()"
   ]
  },
  {
   "cell_type": "markdown",
   "metadata": {},
   "source": [
    "# First Data Exploration\n",
    "### Understanding the revenue modell"
   ]
  },
  {
   "cell_type": "markdown",
   "metadata": {},
   "source": [
    "![caption](data/thehubway_revenue_modell_2015.png)"
   ]
  },
  {
   "cell_type": "code",
   "execution_count": 11,
   "metadata": {},
   "outputs": [
    {
     "name": "stdout",
     "output_type": "stream",
     "text": [
      "user_type\n",
      "Customer      370585\n",
      "Subscriber    751972\n",
      "dtype: int64\n",
      "We only have 0.09917185764856692 of the data!\n",
      "0.06948154971195226\n"
     ]
    }
   ],
   "source": [
    "# Pricing info pulled from: https://web.archive.org/web/20150206035343/http://www.thehubway.com:80/pricing\n",
    "# INFO: bluebikes was previously called 'thehubway', see https://en.wikipedia.org/wiki/Bluebikes\n",
    "# ASSUMTION: The revenue modell did not change over the year 2015. This was checked through all entries of the wayback-machine, which occured in 7 day intervalls. We can be pretty certain of this. \n",
    "\n",
    "\n",
    "# Get # of subscribers and customers\n",
    "print(df_boston.groupby('user_type').size())\n",
    "# TODO: Include this in revenue modell\n",
    "\n",
    "# Thoughts on the revenue modell: We don't see individual user-ids for each ride. This means that we can only infer the \"revenue\" generated by each trip through the respective user_type.\n",
    "# E.g. -> if we have 10 subscribers for a given timeframe, who undertake 100 trips, each trip would generate 1/10 of the users membership fee in the given timeframe\n",
    "# Membership numbers for 2015: https://web.archive.org/web/20160208155519/http://www.thehubway.com/mediakit -> anual members: 13.248, Causal Passes: 102.445 (24 & 72 Hours) with a total of 1,1319,310 Trips (???)\n",
    "\n",
    "no_trips_from_dataset_2015 = 11319310\n",
    "no_trips_from_website_2015 = len(df_boston)\n",
    "print(f'We only have {no_trips_from_website_2015/no_trips_from_dataset_2015} of the data!')\n",
    "\n",
    "# Big Open Question: How should we deal with the missing data? (we only have 1/10 of the trip data apparently) ? -> https://s3.amazonaws.com/hubway-data/index.html this contains the raw data, it appears that there are a lot more than 112k rides..\n",
    "# Open Question: How should we include the membership fees and casual passes costs in the revenue modell?\n",
    "\n",
    "\n",
    "# get proprtion all the rides who might incur overtime fees (trip_length >30 min) to understand if this usage pattern is relevant for the revenue model\n",
    "proportion_overtime_rides = len(df_boston[df_boston['trip_length'] >= (30*60)]) / len(df_boston) \n",
    "print(proportion_overtime_rides)\n",
    "\n",
    "# Conclusion: Around 7% of rides were overtime -> we should include this in the revenue modell\n",
    "# TODO: Engineer the following features for the revenue modell: revenue_through_overtime (calculated on the basis of trip_duration)\n"
   ]
  },
  {
   "cell_type": "markdown",
   "metadata": {},
   "source": [
    "### merging of boston station dataset and the df_boston data"
   ]
  },
  {
   "cell_type": "code",
   "execution_count": 12,
   "metadata": {},
   "outputs": [],
   "source": [
    "#boston blue bikes stations data\n",
    "df_stations_data = pd.read_csv('./data/current_bluebikes_stations.csv', header=1)\n",
    "df_january = pd.read_csv('./data/201501-hubway-tripdata.csv', usecols=['start station id', 'start station latitude', 'start station longitude', 'end station id', 'end station id', 'end station latitude', 'end station longitude'])\n",
    "df_sep = pd.read_csv('./data/201509-hubway-tripdata.csv', usecols=['start station id', 'start station latitude', 'start station longitude', 'end station id', 'end station id', 'end station latitude', 'end station longitude'])\n",
    "df_july = pd.read_csv('./data/201507-hubway-tripdata.csv', usecols=['start station id', 'start station latitude', 'start station longitude', 'end station id', 'end station id', 'end station latitude', 'end station longitude'])\n",
    "df_oct = pd.read_csv('./data/201510-hubway-tripdata.csv', usecols=['start station id', 'start station latitude', 'start station longitude', 'end station id', 'end station id', 'end station latitude', 'end station longitude'])\n",
    "df_dec = pd.read_csv('./data/201512-hubway-tripdata.csv', usecols=['start station id', 'start station latitude', 'start station longitude', 'end station id', 'end station id', 'end station latitude', 'end station longitude'])\n",
    "unique_stations_external=np.unique(np.concatenate((df_january[['start station id', 'start station latitude', 'start station longitude']].values, df_january[['end station id', 'end station latitude', 'end station longitude']].values,df_july[['start station id', 'start station latitude', 'start station longitude']].values, df_july[['end station id', 'end station latitude', 'end station longitude']].values, df_sep[['start station id', 'start station latitude', 'start station longitude']].values, df_sep[['end station id', 'end station latitude', 'end station longitude']].values, df_oct[['start station id', 'start station latitude', 'start station longitude']].values, df_oct[['end station id', 'end station latitude', 'end station longitude']].values, df_dec[['start station id', 'start station latitude', 'start station longitude']].values, df_dec[['end station id', 'end station latitude', 'end station longitude']].values)), axis=0)"
   ]
  },
  {
   "cell_type": "code",
   "execution_count": 13,
   "metadata": {},
   "outputs": [
    {
     "name": "stdout",
     "output_type": "stream",
     "text": [
      "# stations from original data: 156 | # stations from external data: 156\n"
     ]
    }
   ],
   "source": [
    "unique_stations_original=np.unique(np.concatenate((df_boston['start_station_name'].values, df_boston['end_station_name'].values)))\n",
    "print(f'# stations from original data: {len(unique_stations_original)} | # stations from external data: {len(unique_stations_external)}')\n",
    "df_unique_stations = pd.DataFrame(unique_stations_external, columns=['station_id', 'station_latitude', 'station_longitude'])"
   ]
  },
  {
   "cell_type": "code",
   "execution_count": 14,
   "metadata": {},
   "outputs": [
    {
     "name": "stdout",
     "output_type": "stream",
     "text": [
      "<class 'pandas.core.frame.DataFrame'>\n",
      "Int64Index: 1122557 entries, 0 to 1122556\n",
      "Data columns (total 13 columns):\n",
      " #   Column                   Non-Null Count    Dtype         \n",
      "---  ------                   --------------    -----         \n",
      " 0   start_time               1122557 non-null  datetime64[ns]\n",
      " 1   end_time                 1122557 non-null  datetime64[ns]\n",
      " 2   start_station_id         1122557 non-null  int64         \n",
      " 3   end_station_id           1122557 non-null  int64         \n",
      " 4   start_station_name       1122557 non-null  string        \n",
      " 5   end_station_name         1122557 non-null  string        \n",
      " 6   bike_id                  1122557 non-null  int64         \n",
      " 7   user_type                1122557 non-null  string        \n",
      " 8   trip_length              1122557 non-null  float64       \n",
      " 9   start_station_latitude   1122557 non-null  float64       \n",
      " 10  start_station_longitude  1122557 non-null  float64       \n",
      " 11  end_station_latitude     1122557 non-null  float64       \n",
      " 12  end_station_longitude    1122557 non-null  float64       \n",
      "dtypes: datetime64[ns](2), float64(5), int64(3), string(3)\n",
      "memory usage: 119.9 MB\n"
     ]
    }
   ],
   "source": [
    "df_unique_stations.columns = ['start_station_id', 'start_station_latitude', 'start_station_longitude']\n",
    "df_boston = df_boston.merge(df_unique_stations, how='left', on='start_station_id')\n",
    "df_unique_stations.columns = ['end_station_id', 'end_station_latitude', 'end_station_longitude']\n",
    "df_boston = df_boston.merge(df_unique_stations, how='left', on='end_station_id')\n",
    "df_boston.info()"
   ]
  },
  {
   "cell_type": "code",
   "execution_count": 15,
   "metadata": {},
   "outputs": [
    {
     "data": {
      "text/html": [
       "<div>\n",
       "<style scoped>\n",
       "    .dataframe tbody tr th:only-of-type {\n",
       "        vertical-align: middle;\n",
       "    }\n",
       "\n",
       "    .dataframe tbody tr th {\n",
       "        vertical-align: top;\n",
       "    }\n",
       "\n",
       "    .dataframe thead th {\n",
       "        text-align: right;\n",
       "    }\n",
       "</style>\n",
       "<table border=\"1\" class=\"dataframe\">\n",
       "  <thead>\n",
       "    <tr style=\"text-align: right;\">\n",
       "      <th></th>\n",
       "      <th>start_time</th>\n",
       "      <th>end_time</th>\n",
       "      <th>start_station_id</th>\n",
       "      <th>end_station_id</th>\n",
       "      <th>start_station_name</th>\n",
       "      <th>end_station_name</th>\n",
       "      <th>bike_id</th>\n",
       "      <th>user_type</th>\n",
       "      <th>trip_length</th>\n",
       "      <th>start_station_latitude</th>\n",
       "      <th>start_station_longitude</th>\n",
       "      <th>end_station_latitude</th>\n",
       "      <th>end_station_longitude</th>\n",
       "    </tr>\n",
       "  </thead>\n",
       "  <tbody>\n",
       "    <tr>\n",
       "      <th>0</th>\n",
       "      <td>2015-01-01 00:21:44</td>\n",
       "      <td>2015-01-01 00:30:47</td>\n",
       "      <td>115</td>\n",
       "      <td>96</td>\n",
       "      <td>Porter Square Station</td>\n",
       "      <td>Cambridge Main Library at Broadway / Trowbridg...</td>\n",
       "      <td>277</td>\n",
       "      <td>Subscriber</td>\n",
       "      <td>543.0</td>\n",
       "      <td>42.387995</td>\n",
       "      <td>-71.119084</td>\n",
       "      <td>42.373379</td>\n",
       "      <td>-71.111075</td>\n",
       "    </tr>\n",
       "    <tr>\n",
       "      <th>1</th>\n",
       "      <td>2015-01-01 00:27:03</td>\n",
       "      <td>2015-01-01 00:34:21</td>\n",
       "      <td>80</td>\n",
       "      <td>95</td>\n",
       "      <td>MIT Stata Center at Vassar St / Main St</td>\n",
       "      <td>Cambridge St - at Columbia St / Webster Ave</td>\n",
       "      <td>648</td>\n",
       "      <td>Subscriber</td>\n",
       "      <td>438.0</td>\n",
       "      <td>42.361962</td>\n",
       "      <td>-71.092053</td>\n",
       "      <td>42.372969</td>\n",
       "      <td>-71.094445</td>\n",
       "    </tr>\n",
       "    <tr>\n",
       "      <th>2</th>\n",
       "      <td>2015-01-01 00:31:31</td>\n",
       "      <td>2015-01-01 00:35:46</td>\n",
       "      <td>91</td>\n",
       "      <td>68</td>\n",
       "      <td>One Kendall Square at Hampshire St / Portland St</td>\n",
       "      <td>Central Square at Mass Ave / Essex St</td>\n",
       "      <td>555</td>\n",
       "      <td>Subscriber</td>\n",
       "      <td>255.0</td>\n",
       "      <td>42.366277</td>\n",
       "      <td>-71.091690</td>\n",
       "      <td>42.365070</td>\n",
       "      <td>-71.103100</td>\n",
       "    </tr>\n",
       "    <tr>\n",
       "      <th>3</th>\n",
       "      <td>2015-01-01 00:53:46</td>\n",
       "      <td>2015-01-01 01:00:58</td>\n",
       "      <td>115</td>\n",
       "      <td>96</td>\n",
       "      <td>Porter Square Station</td>\n",
       "      <td>Cambridge Main Library at Broadway / Trowbridg...</td>\n",
       "      <td>1307</td>\n",
       "      <td>Subscriber</td>\n",
       "      <td>432.0</td>\n",
       "      <td>42.387995</td>\n",
       "      <td>-71.119084</td>\n",
       "      <td>42.373379</td>\n",
       "      <td>-71.111075</td>\n",
       "    </tr>\n",
       "    <tr>\n",
       "      <th>4</th>\n",
       "      <td>2015-01-01 01:07:06</td>\n",
       "      <td>2015-01-01 01:19:21</td>\n",
       "      <td>105</td>\n",
       "      <td>88</td>\n",
       "      <td>Lower Cambridgeport at Magazine St/Riverside Rd</td>\n",
       "      <td>Inman Square at Vellucci Plaza / Hampshire St</td>\n",
       "      <td>177</td>\n",
       "      <td>Customer</td>\n",
       "      <td>735.0</td>\n",
       "      <td>42.356954</td>\n",
       "      <td>-71.113687</td>\n",
       "      <td>42.374035</td>\n",
       "      <td>-71.101427</td>\n",
       "    </tr>\n",
       "  </tbody>\n",
       "</table>\n",
       "</div>"
      ],
      "text/plain": [
       "           start_time            end_time  start_station_id  end_station_id  \\\n",
       "0 2015-01-01 00:21:44 2015-01-01 00:30:47               115              96   \n",
       "1 2015-01-01 00:27:03 2015-01-01 00:34:21                80              95   \n",
       "2 2015-01-01 00:31:31 2015-01-01 00:35:46                91              68   \n",
       "3 2015-01-01 00:53:46 2015-01-01 01:00:58               115              96   \n",
       "4 2015-01-01 01:07:06 2015-01-01 01:19:21               105              88   \n",
       "\n",
       "                                 start_station_name  \\\n",
       "0                             Porter Square Station   \n",
       "1           MIT Stata Center at Vassar St / Main St   \n",
       "2  One Kendall Square at Hampshire St / Portland St   \n",
       "3                             Porter Square Station   \n",
       "4   Lower Cambridgeport at Magazine St/Riverside Rd   \n",
       "\n",
       "                                    end_station_name  bike_id   user_type  \\\n",
       "0  Cambridge Main Library at Broadway / Trowbridg...      277  Subscriber   \n",
       "1        Cambridge St - at Columbia St / Webster Ave      648  Subscriber   \n",
       "2              Central Square at Mass Ave / Essex St      555  Subscriber   \n",
       "3  Cambridge Main Library at Broadway / Trowbridg...     1307  Subscriber   \n",
       "4      Inman Square at Vellucci Plaza / Hampshire St      177    Customer   \n",
       "\n",
       "   trip_length  start_station_latitude  start_station_longitude  \\\n",
       "0        543.0               42.387995               -71.119084   \n",
       "1        438.0               42.361962               -71.092053   \n",
       "2        255.0               42.366277               -71.091690   \n",
       "3        432.0               42.387995               -71.119084   \n",
       "4        735.0               42.356954               -71.113687   \n",
       "\n",
       "   end_station_latitude  end_station_longitude  \n",
       "0             42.373379             -71.111075  \n",
       "1             42.372969             -71.094445  \n",
       "2             42.365070             -71.103100  \n",
       "3             42.373379             -71.111075  \n",
       "4             42.374035             -71.101427  "
      ]
     },
     "execution_count": 15,
     "metadata": {},
     "output_type": "execute_result"
    }
   ],
   "source": [
    "df_boston.head()"
   ]
  },
  {
   "cell_type": "code",
   "execution_count": 16,
   "metadata": {},
   "outputs": [],
   "source": [
    "unique_stations_original=np.unique(np.concatenate((df_boston['start_station_name'].values, df_boston['end_station_name'].values)))\n",
    "unique_stations_external = df_stations_data['Name'].values"
   ]
  },
  {
   "cell_type": "code",
   "execution_count": 17,
   "metadata": {},
   "outputs": [
    {
     "name": "stdout",
     "output_type": "stream",
     "text": [
      "#stations in stations dataset: 130\n",
      "#stations in original dataset: 156\n"
     ]
    }
   ],
   "source": [
    "print(f\"#stations in stations dataset: {len(df_stations_data.loc[df_stations_data['Deployment Year'] < 2015.0])}\")\n",
    "print(f\"#stations in original dataset: {len(unique_stations_original)}\")"
   ]
  },
  {
   "cell_type": "code",
   "execution_count": 18,
   "metadata": {},
   "outputs": [
    {
     "data": {
      "text/plain": [
       "['18 Dorrance Warehouse',\n",
       " 'Agganis Arena - 925 Comm Ave.',\n",
       " 'Allston Green District - Commonwealth Ave & Griggs St',\n",
       " 'Andrew Station - Dorchester Ave at Humboldt Pl',\n",
       " 'Aquarium Station - 200 Atlantic Ave.',\n",
       " 'BIDMC - Brookline at Burlington St',\n",
       " 'Back Bay / South End Station',\n",
       " 'Beacon St / Mass Ave',\n",
       " 'Beacon St at Washington / Kirkland',\n",
       " 'Boston Convention & Exhibition Center',\n",
       " 'Boston Medical Center -  East Concord at Harrison Ave',\n",
       " 'Boston Public Library - 700 Boylston St.',\n",
       " 'Boylston / Mass Ave',\n",
       " 'Boylston St / Berkeley St',\n",
       " 'Boylston St / Washington St',\n",
       " 'Boylston St. at Arlington St.',\n",
       " 'Boylston at Fairfield',\n",
       " 'Brigham Cir / Huntington Ave',\n",
       " 'Brighton Center',\n",
       " 'Brookline Village - Pearl Street @ MBTA',\n",
       " 'Buswell St. at Park Dr.',\n",
       " 'Cambridge St. at Joy St.',\n",
       " 'Charles Circle - Charles St. at Cambridge St.',\n",
       " 'Charles St at Beacon St',\n",
       " 'Charlestown - Main St at Austin St',\n",
       " 'Charlestown - Warren St at Chelsea St',\n",
       " 'Chinatown Gate Plaza - Surface Rd. at Beach St.',\n",
       " 'Christian Science Plaza',\n",
       " 'Colleges of the Fenway',\n",
       " 'Columbus Ave. at Mass. Ave.',\n",
       " 'Congress / Sleeper',\n",
       " 'Coolidge Corner - Beacon St @ Centre St',\n",
       " 'Cross St. at Hanover St.',\n",
       " 'Curtis Hall at South Street',\n",
       " 'Dorchester Ave. at Gillette Park',\n",
       " 'Dudley Square',\n",
       " 'E. Cottage St at Columbia Rd',\n",
       " 'Edwards Playground - Main Street & Eden Street',\n",
       " 'Egleston Square at Columbus Ave',\n",
       " 'Faneuil Hall - Union St. at North St.',\n",
       " 'Franklin Park - Seaver Street at Humbolt Ave',\n",
       " 'Franklin Park Zoo',\n",
       " 'Franklin St. / Arch St.',\n",
       " 'Green St T',\n",
       " 'HMS / HSPH - Ave. Louis Pasteur at Longwood Ave.',\n",
       " 'Harvard Real Estate - Brighton Mills - 370 Western Ave',\n",
       " 'Harvard University Gund Hall at Quincy St / Kirkland S',\n",
       " 'Harvard University Housing - 111 Western Ave. at Soldiers Field Park ',\n",
       " 'Harvard University Transportation Services - 175 North Harvard St',\n",
       " 'Hayes Square at Vine St.',\n",
       " 'Heath St at South Huntington',\n",
       " 'Hyde Square at Barbara St',\n",
       " 'Ink Block',\n",
       " 'Inman Square at Vellucci Plaza / Hampshire St',\n",
       " 'Innovation Lab - 125 Western Ave. at Batten Way',\n",
       " 'JFK / UMASS at MBTA Station',\n",
       " 'JP Center - Centre Street at Myrtle Street',\n",
       " 'Jackson Square T at Centre St',\n",
       " 'John F Fitzgerald - Surface Road at India Street',\n",
       " 'Kenmore Sq / Comm Ave',\n",
       " 'Landmark Centre',\n",
       " 'Lawn on D',\n",
       " 'Lewis Wharf - Atlantic Ave.',\n",
       " 'Longwood Ave / Binney St',\n",
       " 'Lower Cambridgeport at Magazine St/Riverside Rd',\n",
       " 'Mass Ave at Newmarket Square',\n",
       " 'Mayor Martin J Walsh - 28 State St',\n",
       " 'Mt Pleasant Ave / Dudley Town Common',\n",
       " 'New Balance - 20 Guest St.',\n",
       " 'New Balance Store - Boylston at Dartmouth',\n",
       " 'Newbury St / Hereford St',\n",
       " 'Northeastern U / North Parking Lot',\n",
       " 'Packard Ave / Powderhouse Blvd',\n",
       " \"Packard's Corner - Comm. Ave. at Brighton Ave.\",\n",
       " 'Prudential Center / Belvidere',\n",
       " 'Rowes Wharf - Atlantic Ave',\n",
       " 'Roxbury Crossing Station',\n",
       " 'Ruggles Station / Columbus Ave.',\n",
       " 'Ryan Playground - Dorchester Avenue Station',\n",
       " 'Seaport Hotel',\n",
       " 'Seaport Square - Seaport Blvd. at Boston Wharf',\n",
       " 'Somerville Hospital at Highland Ave / Crocker St',\n",
       " 'South Boston Library - 646 East Broadway',\n",
       " 'South Station - 700 Atlantic Ave.',\n",
       " 'Stuart St. at Charles St.',\n",
       " 'Summer St at Cutter St',\n",
       " 'TD Garden - Causeway at Portal Park #1',\n",
       " 'TD Garden - Causeway at Portal Park #2',\n",
       " 'Teele Square at 239 Holland St',\n",
       " 'The Esplanade - Beacon St. at Arlington St.',\n",
       " 'Tremont St / W Newton St',\n",
       " 'Tremont St / West St',\n",
       " 'Tremont St. at Berkeley St.',\n",
       " 'UMass Boston Integrated Sciences Complex',\n",
       " 'Union Square - Brighton Ave. at Cambridge St.',\n",
       " \"Upham's Corner - Ramsey St at Dudley St\",\n",
       " 'Washington Square at Washington St. / Beacon St.',\n",
       " 'Washington St. at Lenox St.',\n",
       " 'Washington St. at Rutland St.',\n",
       " 'Washington St. at Waltham St.',\n",
       " 'Wentworth Institute of Technology',\n",
       " 'West Broadway at D Street',\n",
       " 'West Broadway at Dorchester St',\n",
       " 'Yawkey Way at Boylston St.']"
      ]
     },
     "execution_count": 18,
     "metadata": {},
     "output_type": "execute_result"
    }
   ],
   "source": [
    "stations_no_match = list(filter(lambda x: not(np.any(unique_stations_external == x)), unique_stations_original))\n",
    "len(stations_no_match)\n",
    "\n",
    "stations_no_match\n"
   ]
  },
  {
   "cell_type": "code",
   "execution_count": 19,
   "metadata": {},
   "outputs": [
    {
     "data": {
      "text/plain": [
       "['359 Broadway - Broadway at Fayette Street',\n",
       " 'Alewife Station at Russell Field',\n",
       " 'Ames St at Main St',\n",
       " 'B.U. Central - 725 Comm. Ave.',\n",
       " 'Binney St / Sixth St',\n",
       " 'Bunker Hill Community College',\n",
       " 'Cambridge Main Library at Broadway / Trowbridge St',\n",
       " 'Cambridge St - at Columbia St / Webster Ave',\n",
       " 'CambridgeSide Galleria - CambridgeSide PL at Land Blvd',\n",
       " 'Central Sq Post Office / Cambridge City Hall at Mass Ave / Pleasant St',\n",
       " 'Central Square at Mass Ave / Essex St',\n",
       " 'Conway Park - Somerville Avenue',\n",
       " 'Dana Park',\n",
       " 'Danehy Park',\n",
       " 'Davis Square',\n",
       " 'EF - North Point Park',\n",
       " 'Fan Pier',\n",
       " 'Harvard Kennedy School at Bennett St / Eliot St',\n",
       " 'Harvard Law School at Mass Ave / Jarvis St',\n",
       " 'Harvard Square at Brattle St / Eliot St',\n",
       " 'Harvard Square at Mass Ave/ Dunster',\n",
       " 'Harvard University / SEAS Cruft-Pierce Halls at 29 Oxford St',\n",
       " 'Harvard University Housing - 115 Putnam Ave at Peabody Terrace',\n",
       " 'Harvard University Radcliffe Quadrangle at Shepard St / Garden St',\n",
       " 'Harvard University River Houses at DeWolfe St / Cowperthwaite St',\n",
       " 'ID Building East',\n",
       " 'ID Building West',\n",
       " 'JFK Crossing at Harvard St. / Thorndike St.',\n",
       " 'Kendall Street',\n",
       " 'Lafayette Square at Mass Ave / Main St / Columbia St',\n",
       " 'Lechmere Station at Cambridge St / First St',\n",
       " 'Lesley University',\n",
       " 'Linear Park - Mass. Ave. at Cameron Ave. ',\n",
       " 'MIT Pacific St at Purrington St',\n",
       " 'MIT Stata Center at Vassar St / Main St',\n",
       " 'MIT Vassar St',\n",
       " 'MIT at Mass Ave / Amherst St',\n",
       " 'Magoun Square at Trum Field',\n",
       " 'Mt Auburn',\n",
       " 'One Broadway / Kendall Sq at Main St / 3rd St',\n",
       " 'One Kendall Square at Hampshire St / Portland St',\n",
       " 'Porter Square Station',\n",
       " 'Post Office Square',\n",
       " 'Powder House Circle - Nathan Tufts Park',\n",
       " \"Rindge Avenue - O'Neill Library\",\n",
       " 'Somerville City Hall',\n",
       " 'Spaulding Rehabilitation Hospital - Charlestown Navy Yard',\n",
       " 'State Street at Channel Center',\n",
       " 'Union Square - Somerville',\n",
       " 'University Park',\n",
       " 'Washington St at Brock St',\n",
       " 'Wilson Square']"
      ]
     },
     "execution_count": 19,
     "metadata": {},
     "output_type": "execute_result"
    }
   ],
   "source": [
    "stations_match = list(filter(lambda x: np.any(unique_stations_external == x), unique_stations_original))\n",
    "stations_match"
   ]
  },
  {
   "attachments": {},
   "cell_type": "markdown",
   "metadata": {},
   "source": [
    "# Plot start & end stations"
   ]
  },
  {
   "cell_type": "code",
   "execution_count": 34,
   "metadata": {},
   "outputs": [
    {
     "data": {
      "text/plain": [
       "1122557"
      ]
     },
     "execution_count": 34,
     "metadata": {},
     "output_type": "execute_result"
    }
   ],
   "source": [
    "len(df_boston)"
   ]
  },
  {
   "cell_type": "code",
   "execution_count": 20,
   "metadata": {},
   "outputs": [],
   "source": [
    "df_start = pd.DataFrame(df_boston, columns = ('start_station_id', 'start_station_latitude', 'start_station_longitude'))"
   ]
  },
  {
   "cell_type": "code",
   "execution_count": 21,
   "metadata": {},
   "outputs": [
    {
     "data": {
      "text/html": [
       "<div>\n",
       "<style scoped>\n",
       "    .dataframe tbody tr th:only-of-type {\n",
       "        vertical-align: middle;\n",
       "    }\n",
       "\n",
       "    .dataframe tbody tr th {\n",
       "        vertical-align: top;\n",
       "    }\n",
       "\n",
       "    .dataframe thead th {\n",
       "        text-align: right;\n",
       "    }\n",
       "</style>\n",
       "<table border=\"1\" class=\"dataframe\">\n",
       "  <thead>\n",
       "    <tr style=\"text-align: right;\">\n",
       "      <th></th>\n",
       "      <th>start_station_id</th>\n",
       "      <th>start_station_latitude</th>\n",
       "      <th>start_station_longitude</th>\n",
       "    </tr>\n",
       "  </thead>\n",
       "  <tbody>\n",
       "    <tr>\n",
       "      <th>0</th>\n",
       "      <td>115</td>\n",
       "      <td>42.387995</td>\n",
       "      <td>-71.119084</td>\n",
       "    </tr>\n",
       "    <tr>\n",
       "      <th>1</th>\n",
       "      <td>80</td>\n",
       "      <td>42.361962</td>\n",
       "      <td>-71.092053</td>\n",
       "    </tr>\n",
       "    <tr>\n",
       "      <th>2</th>\n",
       "      <td>91</td>\n",
       "      <td>42.366277</td>\n",
       "      <td>-71.091690</td>\n",
       "    </tr>\n",
       "    <tr>\n",
       "      <th>3</th>\n",
       "      <td>115</td>\n",
       "      <td>42.387995</td>\n",
       "      <td>-71.119084</td>\n",
       "    </tr>\n",
       "    <tr>\n",
       "      <th>4</th>\n",
       "      <td>105</td>\n",
       "      <td>42.356954</td>\n",
       "      <td>-71.113687</td>\n",
       "    </tr>\n",
       "  </tbody>\n",
       "</table>\n",
       "</div>"
      ],
      "text/plain": [
       "   start_station_id  start_station_latitude  start_station_longitude\n",
       "0               115               42.387995               -71.119084\n",
       "1                80               42.361962               -71.092053\n",
       "2                91               42.366277               -71.091690\n",
       "3               115               42.387995               -71.119084\n",
       "4               105               42.356954               -71.113687"
      ]
     },
     "execution_count": 21,
     "metadata": {},
     "output_type": "execute_result"
    }
   ],
   "source": [
    "df_start.head()"
   ]
  },
  {
   "cell_type": "code",
   "execution_count": 22,
   "metadata": {},
   "outputs": [
    {
     "data": {
      "text/plain": [
       "180"
      ]
     },
     "execution_count": 22,
     "metadata": {},
     "output_type": "execute_result"
    }
   ],
   "source": [
    "df_start['start_station_id'].max()"
   ]
  },
  {
   "cell_type": "code",
   "execution_count": 23,
   "metadata": {},
   "outputs": [
    {
     "data": {
      "text/html": [
       "<div>\n",
       "<style scoped>\n",
       "    .dataframe tbody tr th:only-of-type {\n",
       "        vertical-align: middle;\n",
       "    }\n",
       "\n",
       "    .dataframe tbody tr th {\n",
       "        vertical-align: top;\n",
       "    }\n",
       "\n",
       "    .dataframe thead th {\n",
       "        text-align: right;\n",
       "    }\n",
       "</style>\n",
       "<table border=\"1\" class=\"dataframe\">\n",
       "  <thead>\n",
       "    <tr style=\"text-align: right;\">\n",
       "      <th></th>\n",
       "      <th>id</th>\n",
       "      <th>count</th>\n",
       "    </tr>\n",
       "  </thead>\n",
       "  <tbody>\n",
       "    <tr>\n",
       "      <th>0</th>\n",
       "      <td>1</td>\n",
       "      <td>0</td>\n",
       "    </tr>\n",
       "    <tr>\n",
       "      <th>1</th>\n",
       "      <td>2</td>\n",
       "      <td>0</td>\n",
       "    </tr>\n",
       "    <tr>\n",
       "      <th>2</th>\n",
       "      <td>3</td>\n",
       "      <td>0</td>\n",
       "    </tr>\n",
       "    <tr>\n",
       "      <th>3</th>\n",
       "      <td>4</td>\n",
       "      <td>0</td>\n",
       "    </tr>\n",
       "    <tr>\n",
       "      <th>4</th>\n",
       "      <td>5</td>\n",
       "      <td>0</td>\n",
       "    </tr>\n",
       "  </tbody>\n",
       "</table>\n",
       "</div>"
      ],
      "text/plain": [
       "   id  count\n",
       "0   1      0\n",
       "1   2      0\n",
       "2   3      0\n",
       "3   4      0\n",
       "4   5      0"
      ]
     },
     "execution_count": 23,
     "metadata": {},
     "output_type": "execute_result"
    }
   ],
   "source": [
    "df_dummy = pd.DataFrame()\n",
    "df_dummy['id'] = range(1,181)\n",
    "df_dummy['count'] = 0\n",
    "df_dummy.head()"
   ]
  },
  {
   "cell_type": "code",
   "execution_count": 24,
   "metadata": {},
   "outputs": [
    {
     "data": {
      "text/plain": [
       "17"
      ]
     },
     "execution_count": 24,
     "metadata": {},
     "output_type": "execute_result"
    }
   ],
   "source": [
    "df_dummy.iat[16, 0]"
   ]
  },
  {
   "cell_type": "code",
   "execution_count": 25,
   "metadata": {},
   "outputs": [],
   "source": [
    "\n",
    "counter = 0\n",
    "for row in df_start.iterrows():\n",
    "      if counter < 180:\n",
    "            df_dummy.iat[df_start.iat[counter, 0] + 1 ,1] = df_dummy.iat[df_start.iat[counter, 0] + 1 ,1] +1\n",
    "      counter = counter + 1\n",
    "\n",
    "      \n",
    "\n",
    "      "
   ]
  },
  {
   "cell_type": "code",
   "execution_count": 26,
   "metadata": {},
   "outputs": [
    {
     "data": {
      "text/html": [
       "<div>\n",
       "<style scoped>\n",
       "    .dataframe tbody tr th:only-of-type {\n",
       "        vertical-align: middle;\n",
       "    }\n",
       "\n",
       "    .dataframe tbody tr th {\n",
       "        vertical-align: top;\n",
       "    }\n",
       "\n",
       "    .dataframe thead th {\n",
       "        text-align: right;\n",
       "    }\n",
       "</style>\n",
       "<table border=\"1\" class=\"dataframe\">\n",
       "  <thead>\n",
       "    <tr style=\"text-align: right;\">\n",
       "      <th></th>\n",
       "      <th>id</th>\n",
       "      <th>count</th>\n",
       "    </tr>\n",
       "  </thead>\n",
       "  <tbody>\n",
       "    <tr>\n",
       "      <th>0</th>\n",
       "      <td>1</td>\n",
       "      <td>0</td>\n",
       "    </tr>\n",
       "    <tr>\n",
       "      <th>1</th>\n",
       "      <td>2</td>\n",
       "      <td>0</td>\n",
       "    </tr>\n",
       "    <tr>\n",
       "      <th>2</th>\n",
       "      <td>3</td>\n",
       "      <td>0</td>\n",
       "    </tr>\n",
       "    <tr>\n",
       "      <th>3</th>\n",
       "      <td>4</td>\n",
       "      <td>0</td>\n",
       "    </tr>\n",
       "    <tr>\n",
       "      <th>4</th>\n",
       "      <td>5</td>\n",
       "      <td>0</td>\n",
       "    </tr>\n",
       "    <tr>\n",
       "      <th>...</th>\n",
       "      <td>...</td>\n",
       "      <td>...</td>\n",
       "    </tr>\n",
       "    <tr>\n",
       "      <th>175</th>\n",
       "      <td>176</td>\n",
       "      <td>0</td>\n",
       "    </tr>\n",
       "    <tr>\n",
       "      <th>176</th>\n",
       "      <td>177</td>\n",
       "      <td>0</td>\n",
       "    </tr>\n",
       "    <tr>\n",
       "      <th>177</th>\n",
       "      <td>178</td>\n",
       "      <td>0</td>\n",
       "    </tr>\n",
       "    <tr>\n",
       "      <th>178</th>\n",
       "      <td>179</td>\n",
       "      <td>0</td>\n",
       "    </tr>\n",
       "    <tr>\n",
       "      <th>179</th>\n",
       "      <td>180</td>\n",
       "      <td>0</td>\n",
       "    </tr>\n",
       "  </tbody>\n",
       "</table>\n",
       "<p>180 rows × 2 columns</p>\n",
       "</div>"
      ],
      "text/plain": [
       "      id  count\n",
       "0      1      0\n",
       "1      2      0\n",
       "2      3      0\n",
       "3      4      0\n",
       "4      5      0\n",
       "..   ...    ...\n",
       "175  176      0\n",
       "176  177      0\n",
       "177  178      0\n",
       "178  179      0\n",
       "179  180      0\n",
       "\n",
       "[180 rows x 2 columns]"
      ]
     },
     "execution_count": 26,
     "metadata": {},
     "output_type": "execute_result"
    }
   ],
   "source": [
    "df_dummy"
   ]
  },
  {
   "cell_type": "code",
   "execution_count": 27,
   "metadata": {},
   "outputs": [
    {
     "data": {
      "text/plain": [
       "156"
      ]
     },
     "execution_count": 27,
     "metadata": {},
     "output_type": "execute_result"
    }
   ],
   "source": [
    "\n",
    "df_start = df_start.drop_duplicates()\n",
    "uniqueValues = df_start['start_station_id'].nunique()\n",
    "uniqueValues"
   ]
  },
  {
   "cell_type": "code",
   "execution_count": 28,
   "metadata": {},
   "outputs": [
    {
     "data": {
      "text/plain": [
       "156"
      ]
     },
     "execution_count": 28,
     "metadata": {},
     "output_type": "execute_result"
    }
   ],
   "source": [
    "len(df_start)"
   ]
  },
  {
   "cell_type": "code",
   "execution_count": 29,
   "metadata": {},
   "outputs": [
    {
     "data": {
      "text/html": [
       "<div>\n",
       "<style scoped>\n",
       "    .dataframe tbody tr th:only-of-type {\n",
       "        vertical-align: middle;\n",
       "    }\n",
       "\n",
       "    .dataframe tbody tr th {\n",
       "        vertical-align: top;\n",
       "    }\n",
       "\n",
       "    .dataframe thead th {\n",
       "        text-align: right;\n",
       "    }\n",
       "</style>\n",
       "<table border=\"1\" class=\"dataframe\">\n",
       "  <thead>\n",
       "    <tr style=\"text-align: right;\">\n",
       "      <th></th>\n",
       "      <th>start_station_id</th>\n",
       "      <th>start_station_latitude</th>\n",
       "      <th>start_station_longitude</th>\n",
       "      <th>count</th>\n",
       "    </tr>\n",
       "  </thead>\n",
       "  <tbody>\n",
       "    <tr>\n",
       "      <th>0</th>\n",
       "      <td>115</td>\n",
       "      <td>42.387995</td>\n",
       "      <td>-71.119084</td>\n",
       "      <td>0</td>\n",
       "    </tr>\n",
       "    <tr>\n",
       "      <th>1</th>\n",
       "      <td>80</td>\n",
       "      <td>42.361962</td>\n",
       "      <td>-71.092053</td>\n",
       "      <td>0</td>\n",
       "    </tr>\n",
       "    <tr>\n",
       "      <th>2</th>\n",
       "      <td>91</td>\n",
       "      <td>42.366277</td>\n",
       "      <td>-71.091690</td>\n",
       "      <td>2</td>\n",
       "    </tr>\n",
       "    <tr>\n",
       "      <th>3</th>\n",
       "      <td>105</td>\n",
       "      <td>42.356954</td>\n",
       "      <td>-71.113687</td>\n",
       "      <td>0</td>\n",
       "    </tr>\n",
       "    <tr>\n",
       "      <th>4</th>\n",
       "      <td>88</td>\n",
       "      <td>42.374035</td>\n",
       "      <td>-71.101427</td>\n",
       "      <td>0</td>\n",
       "    </tr>\n",
       "    <tr>\n",
       "      <th>...</th>\n",
       "      <td>...</td>\n",
       "      <td>...</td>\n",
       "      <td>...</td>\n",
       "      <td>...</td>\n",
       "    </tr>\n",
       "    <tr>\n",
       "      <th>175</th>\n",
       "      <td>165</td>\n",
       "      <td>NaN</td>\n",
       "      <td>NaN</td>\n",
       "      <td>0</td>\n",
       "    </tr>\n",
       "    <tr>\n",
       "      <th>176</th>\n",
       "      <td>166</td>\n",
       "      <td>NaN</td>\n",
       "      <td>NaN</td>\n",
       "      <td>0</td>\n",
       "    </tr>\n",
       "    <tr>\n",
       "      <th>177</th>\n",
       "      <td>168</td>\n",
       "      <td>NaN</td>\n",
       "      <td>NaN</td>\n",
       "      <td>0</td>\n",
       "    </tr>\n",
       "    <tr>\n",
       "      <th>178</th>\n",
       "      <td>172</td>\n",
       "      <td>NaN</td>\n",
       "      <td>NaN</td>\n",
       "      <td>0</td>\n",
       "    </tr>\n",
       "    <tr>\n",
       "      <th>179</th>\n",
       "      <td>173</td>\n",
       "      <td>NaN</td>\n",
       "      <td>NaN</td>\n",
       "      <td>0</td>\n",
       "    </tr>\n",
       "  </tbody>\n",
       "</table>\n",
       "<p>180 rows × 4 columns</p>\n",
       "</div>"
      ],
      "text/plain": [
       "     start_station_id  start_station_latitude  start_station_longitude  count\n",
       "0                 115               42.387995               -71.119084      0\n",
       "1                  80               42.361962               -71.092053      0\n",
       "2                  91               42.366277               -71.091690      2\n",
       "3                 105               42.356954               -71.113687      0\n",
       "4                  88               42.374035               -71.101427      0\n",
       "..                ...                     ...                      ...    ...\n",
       "175               165                     NaN                      NaN      0\n",
       "176               166                     NaN                      NaN      0\n",
       "177               168                     NaN                      NaN      0\n",
       "178               172                     NaN                      NaN      0\n",
       "179               173                     NaN                      NaN      0\n",
       "\n",
       "[180 rows x 4 columns]"
      ]
     },
     "execution_count": 29,
     "metadata": {},
     "output_type": "execute_result"
    }
   ],
   "source": [
    "df_dummy = df_dummy.rename(columns= {'id': 'start_station_id'})\n",
    "df_plotbar = pd.merge(df_start, df_dummy, on='start_station_id', how='outer')\n",
    "df_plotbar"
   ]
  },
  {
   "cell_type": "code",
   "execution_count": 30,
   "metadata": {},
   "outputs": [],
   "source": [
    "import plotly.express as px"
   ]
  },
  {
   "cell_type": "code",
   "execution_count": 31,
   "metadata": {},
   "outputs": [
    {
     "data": {
      "application/vnd.plotly.v1+json": {
       "config": {
        "plotlyServerURL": "https://plot.ly"
       },
       "data": [
        {
         "hovertemplate": "count=%{marker.color}<br>start_station_latitude=%{lat}<br>start_station_longitude=%{lon}<extra></extra>",
         "lat": [
          42.387995,
          42.3619622,
          42.366277,
          42.356954,
          42.374035,
          42.36507,
          42.366095,
          42.3581,
          42.36346469304347,
          42.370677,
          42.370803,
          42.372969,
          42.376369,
          42.373231,
          42.380287,
          42.388966,
          42.3625,
          42.373268,
          42.379011,
          42.369885,
          42.366426,
          42.36356015842989,
          42.362613,
          42.373379,
          42.371196,
          42.366621,
          42.36919031768079,
          42.377945,
          42.397828,
          42.366981,
          42.396105,
          42.392766,
          42.387151,
          42.347265,
          42.320998,
          42.354979,
          42.352261,
          42.347241,
          42.360835,
          42.344706,
          42.350851,
          42.348607,
          42.338623,
          42.345959,
          42.357143,
          42.355596,
          42.340799,
          42.365942,
          42.35977,
          42.379637,
          42.383405,
          42.371848,
          42.366222,
          42.352175,
          42.363871,
          42.34807412317439,
          42.351246,
          42.39082,
          42.361174,
          42.35892,
          42.352033,
          42.343912,
          42.345392,
          42.335693,
          42.343864,
          42.336437,
          42.378338,
          42.385582,
          42.360613,
          42.335911,
          42.386844,
          42.377022,
          42.402763,
          42.335741,
          42.396969,
          42.353334,
          42.332799,
          42.331184,
          42.356755,
          42.320494,
          42.340021,
          42.341522,
          42.345733,
          42.361667,
          42.310579,
          42.362811,
          42.365064,
          42.363796,
          42.40449,
          42.351146,
          42.400877,
          42.337171,
          42.351356,
          42.352409,
          42.345901,
          42.344137,
          42.334073,
          42.350406,
          42.309054,
          42.341332,
          42.313156,
          42.317225,
          42.3511,
          42.338629,
          42.35328743453294,
          42.348833,
          42.358155,
          42.363732,
          42.344827,
          42.361589,
          42.344023,
          42.341814,
          42.351205,
          42.3475,
          42.357402,
          42.315692,
          42.344796,
          42.3348756,
          42.375603,
          42.398365,
          42.346563,
          42.330716,
          42.322701,
          42.320561,
          42.356052,
          42.326599,
          42.355402,
          42.341598,
          42.325333,
          42.328654,
          42.348762,
          42.348706,
          42.349673,
          42.350413,
          42.350989,
          42.348717,
          42.339335,
          42.394002,
          42.37842,
          42.314507,
          42.3391085,
          42.337596,
          42.309796,
          42.317642,
          42.344792,
          42.303469,
          42.378965,
          42.34900494405213,
          42.34894857235593,
          42.32797270205962,
          42.37408991426522,
          42.35957320109044,
          42.36264779118595,
          42.35560121327927,
          42.38674802045056,
          42.37478628706384,
          null,
          null,
          null,
          null,
          null,
          null,
          null,
          null,
          null,
          null,
          null,
          null,
          null,
          null,
          null,
          null,
          null,
          null,
          null,
          null,
          null,
          null,
          null,
          null
         ],
         "legendgroup": "",
         "lon": [
          -71.119084,
          -71.0920526,
          -71.09169,
          -71.113687,
          -71.101427,
          -71.1031,
          -71.086388,
          -71.093198,
          -71.10057324171066,
          -71.076529,
          -71.104412,
          -71.094445,
          -71.114025,
          -71.120886,
          -71.125107,
          -71.132788,
          -71.08822,
          -71.118579,
          -71.119945,
          -71.069957,
          -71.105495,
          -71.08216792345047,
          -71.084105,
          -71.111075,
          -71.121473,
          -71.114214,
          -71.11714124679565,
          -71.116865,
          -71.130516,
          -71.076472,
          -71.139459,
          -71.129042,
          -71.075978,
          -71.088088,
          -71.110833,
          -71.063348,
          -71.123831,
          -71.105301,
          -71.0708399,
          -71.097515,
          -71.089886,
          -71.13401,
          -71.074182,
          -71.082578,
          -71.050699,
          -71.07278,
          -71.081572,
          -71.060515,
          -71.051601,
          -71.095319,
          -71.107593,
          -71.060292,
          -71.059914,
          -71.055547,
          -71.050877,
          -71.07657015323639,
          -71.115639,
          -71.10942,
          -71.065142,
          -71.057629,
          -71.070627,
          -71.102221,
          -71.069616,
          -71.045859,
          -71.085918,
          -71.073089,
          -71.048927,
          -71.113341,
          -71.057452,
          -71.088496,
          -71.09812,
          -71.056605,
          -71.126908,
          -71.03877,
          -71.123024,
          -71.137313,
          -71.116205,
          -71.095171,
          -71.055407,
          -71.051122,
          -71.100812,
          -71.068922,
          -71.100694,
          -71.13802,
          -71.107341,
          -71.056067,
          -71.119233,
          -71.129164,
          -71.123413,
          -71.066289,
          -71.116772,
          -71.102797,
          -71.059367,
          -71.062679,
          -71.063187,
          -71.052608,
          -71.105221,
          -71.108279,
          -71.11543,
          -71.076847,
          -71.11414,
          -71.065421,
          -71.0496,
          -71.1065,
          -71.04438900947571,
          -71.041747,
          -71.052163,
          -71.124565,
          -71.028664,
          -71.107437,
          -71.057054,
          -71.090179,
          -71.043983,
          -71.0441,
          -71.147782,
          -71.098634,
          -71.031614,
          -71.0790969,
          -71.064608,
          -71.107818,
          -71.128374,
          -71.057044,
          -71.099533,
          -71.06198,
          -71.069849,
          -71.066498,
          -71.058087,
          -71.123338,
          -71.075354,
          -71.084198,
          -71.082383,
          -71.097009,
          -71.077303,
          -71.07655,
          -71.073644,
          -71.085954,
          -71.13493,
          -71.120406,
          -71.105668,
          -71.041269,
          -71.0514432,
          -71.096391,
          -71.092225,
          -71.056664,
          -71.044024,
          -71.085347,
          -71.068607,
          -71.1604106426239,
          -71.15027189254761,
          -71.11089706420898,
          -71.06905996799469,
          -71.10129475593567,
          -71.10006093978882,
          -71.10394477844238,
          -71.11901879310608,
          -71.13320231437683,
          null,
          null,
          null,
          null,
          null,
          null,
          null,
          null,
          null,
          null,
          null,
          null,
          null,
          null,
          null,
          null,
          null,
          null,
          null,
          null,
          null,
          null,
          null,
          null
         ],
         "marker": {
          "color": [
           0,
           0,
           2,
           0,
           0,
           0,
           8,
           0,
           2,
           13,
           0,
           0,
           2,
           0,
           0,
           0,
           8,
           3,
           5,
           2,
           7,
           0,
           3,
           0,
           15,
           0,
           6,
           0,
           7,
           0,
           2,
           8,
           0,
           0,
           0,
           0,
           0,
           0,
           0,
           0,
           0,
           0,
           0,
           0,
           0,
           0,
           0,
           9,
           0,
           5,
           0,
           8,
           0,
           0,
           0,
           0,
           0,
           7,
           0,
           0,
           0,
           0,
           0,
           0,
           0,
           0,
           0,
           2,
           0,
           0,
           5,
           0,
           0,
           7,
           0,
           0,
           3,
           0,
           0,
           14,
           0,
           0,
           0,
           0,
           0,
           0,
           0,
           0,
           0,
           0,
           0,
           0,
           0,
           0,
           0,
           0,
           0,
           0,
           0,
           0,
           0,
           0,
           0,
           0,
           0,
           0,
           0,
           0,
           0,
           0,
           0,
           0,
           0,
           0,
           0,
           0,
           0,
           0,
           0,
           0,
           0,
           0,
           0,
           0,
           2,
           0,
           0,
           7,
           3,
           0,
           0,
           0,
           0,
           0,
           0,
           0,
           6,
           0,
           0,
           8,
           0,
           0,
           0,
           0,
           0,
           0,
           0,
           0,
           0,
           0,
           0,
           0,
           0,
           0,
           0,
           0,
           0,
           0,
           0,
           0,
           0,
           0,
           0,
           0,
           1,
           0,
           0,
           0,
           0,
           0,
           0,
           0,
           0,
           0,
           0,
           0,
           0,
           0,
           0,
           0
          ],
          "coloraxis": "coloraxis",
          "size": [
           0,
           0,
           2,
           0,
           0,
           0,
           8,
           0,
           2,
           13,
           0,
           0,
           2,
           0,
           0,
           0,
           8,
           3,
           5,
           2,
           7,
           0,
           3,
           0,
           15,
           0,
           6,
           0,
           7,
           0,
           2,
           8,
           0,
           0,
           0,
           0,
           0,
           0,
           0,
           0,
           0,
           0,
           0,
           0,
           0,
           0,
           0,
           9,
           0,
           5,
           0,
           8,
           0,
           0,
           0,
           0,
           0,
           7,
           0,
           0,
           0,
           0,
           0,
           0,
           0,
           0,
           0,
           2,
           0,
           0,
           5,
           0,
           0,
           7,
           0,
           0,
           3,
           0,
           0,
           14,
           0,
           0,
           0,
           0,
           0,
           0,
           0,
           0,
           0,
           0,
           0,
           0,
           0,
           0,
           0,
           0,
           0,
           0,
           0,
           0,
           0,
           0,
           0,
           0,
           0,
           0,
           0,
           0,
           0,
           0,
           0,
           0,
           0,
           0,
           0,
           0,
           0,
           0,
           0,
           0,
           0,
           0,
           0,
           0,
           2,
           0,
           0,
           7,
           3,
           0,
           0,
           0,
           0,
           0,
           0,
           0,
           6,
           0,
           0,
           8,
           0,
           0,
           0,
           0,
           0,
           0,
           0,
           0,
           0,
           0,
           0,
           0,
           0,
           0,
           0,
           0,
           0,
           0,
           0,
           0,
           0,
           0,
           0,
           0,
           1,
           0,
           0,
           0,
           0,
           0,
           0,
           0,
           0,
           0,
           0,
           0,
           0,
           0,
           0,
           0
          ],
          "sizemode": "area",
          "sizeref": 0.0375
         },
         "mode": "markers",
         "name": "",
         "showlegend": false,
         "subplot": "mapbox",
         "type": "scattermapbox"
        }
       ],
       "layout": {
        "coloraxis": {
         "colorbar": {
          "title": {
           "text": "count"
          }
         },
         "colorscale": [
          [
           0,
           "orange"
          ],
          [
           1,
           "red"
          ]
         ]
        },
        "height": 800,
        "legend": {
         "itemsizing": "constant",
         "tracegroupgap": 0
        },
        "mapbox": {
         "center": {
          "lat": 42.355539267132464,
          "lon": -71.08955563028009
         },
         "domain": {
          "x": [
           0,
           1
          ],
          "y": [
           0,
           1
          ]
         },
         "style": "open-street-map",
         "zoom": 8
        },
        "margin": {
         "b": 0,
         "l": 0,
         "r": 0,
         "t": 0
        },
        "template": {
         "data": {
          "bar": [
           {
            "error_x": {
             "color": "#2a3f5f"
            },
            "error_y": {
             "color": "#2a3f5f"
            },
            "marker": {
             "line": {
              "color": "#E5ECF6",
              "width": 0.5
             },
             "pattern": {
              "fillmode": "overlay",
              "size": 10,
              "solidity": 0.2
             }
            },
            "type": "bar"
           }
          ],
          "barpolar": [
           {
            "marker": {
             "line": {
              "color": "#E5ECF6",
              "width": 0.5
             },
             "pattern": {
              "fillmode": "overlay",
              "size": 10,
              "solidity": 0.2
             }
            },
            "type": "barpolar"
           }
          ],
          "carpet": [
           {
            "aaxis": {
             "endlinecolor": "#2a3f5f",
             "gridcolor": "white",
             "linecolor": "white",
             "minorgridcolor": "white",
             "startlinecolor": "#2a3f5f"
            },
            "baxis": {
             "endlinecolor": "#2a3f5f",
             "gridcolor": "white",
             "linecolor": "white",
             "minorgridcolor": "white",
             "startlinecolor": "#2a3f5f"
            },
            "type": "carpet"
           }
          ],
          "choropleth": [
           {
            "colorbar": {
             "outlinewidth": 0,
             "ticks": ""
            },
            "type": "choropleth"
           }
          ],
          "contour": [
           {
            "colorbar": {
             "outlinewidth": 0,
             "ticks": ""
            },
            "colorscale": [
             [
              0,
              "#0d0887"
             ],
             [
              0.1111111111111111,
              "#46039f"
             ],
             [
              0.2222222222222222,
              "#7201a8"
             ],
             [
              0.3333333333333333,
              "#9c179e"
             ],
             [
              0.4444444444444444,
              "#bd3786"
             ],
             [
              0.5555555555555556,
              "#d8576b"
             ],
             [
              0.6666666666666666,
              "#ed7953"
             ],
             [
              0.7777777777777778,
              "#fb9f3a"
             ],
             [
              0.8888888888888888,
              "#fdca26"
             ],
             [
              1,
              "#f0f921"
             ]
            ],
            "type": "contour"
           }
          ],
          "contourcarpet": [
           {
            "colorbar": {
             "outlinewidth": 0,
             "ticks": ""
            },
            "type": "contourcarpet"
           }
          ],
          "heatmap": [
           {
            "colorbar": {
             "outlinewidth": 0,
             "ticks": ""
            },
            "colorscale": [
             [
              0,
              "#0d0887"
             ],
             [
              0.1111111111111111,
              "#46039f"
             ],
             [
              0.2222222222222222,
              "#7201a8"
             ],
             [
              0.3333333333333333,
              "#9c179e"
             ],
             [
              0.4444444444444444,
              "#bd3786"
             ],
             [
              0.5555555555555556,
              "#d8576b"
             ],
             [
              0.6666666666666666,
              "#ed7953"
             ],
             [
              0.7777777777777778,
              "#fb9f3a"
             ],
             [
              0.8888888888888888,
              "#fdca26"
             ],
             [
              1,
              "#f0f921"
             ]
            ],
            "type": "heatmap"
           }
          ],
          "heatmapgl": [
           {
            "colorbar": {
             "outlinewidth": 0,
             "ticks": ""
            },
            "colorscale": [
             [
              0,
              "#0d0887"
             ],
             [
              0.1111111111111111,
              "#46039f"
             ],
             [
              0.2222222222222222,
              "#7201a8"
             ],
             [
              0.3333333333333333,
              "#9c179e"
             ],
             [
              0.4444444444444444,
              "#bd3786"
             ],
             [
              0.5555555555555556,
              "#d8576b"
             ],
             [
              0.6666666666666666,
              "#ed7953"
             ],
             [
              0.7777777777777778,
              "#fb9f3a"
             ],
             [
              0.8888888888888888,
              "#fdca26"
             ],
             [
              1,
              "#f0f921"
             ]
            ],
            "type": "heatmapgl"
           }
          ],
          "histogram": [
           {
            "marker": {
             "pattern": {
              "fillmode": "overlay",
              "size": 10,
              "solidity": 0.2
             }
            },
            "type": "histogram"
           }
          ],
          "histogram2d": [
           {
            "colorbar": {
             "outlinewidth": 0,
             "ticks": ""
            },
            "colorscale": [
             [
              0,
              "#0d0887"
             ],
             [
              0.1111111111111111,
              "#46039f"
             ],
             [
              0.2222222222222222,
              "#7201a8"
             ],
             [
              0.3333333333333333,
              "#9c179e"
             ],
             [
              0.4444444444444444,
              "#bd3786"
             ],
             [
              0.5555555555555556,
              "#d8576b"
             ],
             [
              0.6666666666666666,
              "#ed7953"
             ],
             [
              0.7777777777777778,
              "#fb9f3a"
             ],
             [
              0.8888888888888888,
              "#fdca26"
             ],
             [
              1,
              "#f0f921"
             ]
            ],
            "type": "histogram2d"
           }
          ],
          "histogram2dcontour": [
           {
            "colorbar": {
             "outlinewidth": 0,
             "ticks": ""
            },
            "colorscale": [
             [
              0,
              "#0d0887"
             ],
             [
              0.1111111111111111,
              "#46039f"
             ],
             [
              0.2222222222222222,
              "#7201a8"
             ],
             [
              0.3333333333333333,
              "#9c179e"
             ],
             [
              0.4444444444444444,
              "#bd3786"
             ],
             [
              0.5555555555555556,
              "#d8576b"
             ],
             [
              0.6666666666666666,
              "#ed7953"
             ],
             [
              0.7777777777777778,
              "#fb9f3a"
             ],
             [
              0.8888888888888888,
              "#fdca26"
             ],
             [
              1,
              "#f0f921"
             ]
            ],
            "type": "histogram2dcontour"
           }
          ],
          "mesh3d": [
           {
            "colorbar": {
             "outlinewidth": 0,
             "ticks": ""
            },
            "type": "mesh3d"
           }
          ],
          "parcoords": [
           {
            "line": {
             "colorbar": {
              "outlinewidth": 0,
              "ticks": ""
             }
            },
            "type": "parcoords"
           }
          ],
          "pie": [
           {
            "automargin": true,
            "type": "pie"
           }
          ],
          "scatter": [
           {
            "fillpattern": {
             "fillmode": "overlay",
             "size": 10,
             "solidity": 0.2
            },
            "type": "scatter"
           }
          ],
          "scatter3d": [
           {
            "line": {
             "colorbar": {
              "outlinewidth": 0,
              "ticks": ""
             }
            },
            "marker": {
             "colorbar": {
              "outlinewidth": 0,
              "ticks": ""
             }
            },
            "type": "scatter3d"
           }
          ],
          "scattercarpet": [
           {
            "marker": {
             "colorbar": {
              "outlinewidth": 0,
              "ticks": ""
             }
            },
            "type": "scattercarpet"
           }
          ],
          "scattergeo": [
           {
            "marker": {
             "colorbar": {
              "outlinewidth": 0,
              "ticks": ""
             }
            },
            "type": "scattergeo"
           }
          ],
          "scattergl": [
           {
            "marker": {
             "colorbar": {
              "outlinewidth": 0,
              "ticks": ""
             }
            },
            "type": "scattergl"
           }
          ],
          "scattermapbox": [
           {
            "marker": {
             "colorbar": {
              "outlinewidth": 0,
              "ticks": ""
             }
            },
            "type": "scattermapbox"
           }
          ],
          "scatterpolar": [
           {
            "marker": {
             "colorbar": {
              "outlinewidth": 0,
              "ticks": ""
             }
            },
            "type": "scatterpolar"
           }
          ],
          "scatterpolargl": [
           {
            "marker": {
             "colorbar": {
              "outlinewidth": 0,
              "ticks": ""
             }
            },
            "type": "scatterpolargl"
           }
          ],
          "scatterternary": [
           {
            "marker": {
             "colorbar": {
              "outlinewidth": 0,
              "ticks": ""
             }
            },
            "type": "scatterternary"
           }
          ],
          "surface": [
           {
            "colorbar": {
             "outlinewidth": 0,
             "ticks": ""
            },
            "colorscale": [
             [
              0,
              "#0d0887"
             ],
             [
              0.1111111111111111,
              "#46039f"
             ],
             [
              0.2222222222222222,
              "#7201a8"
             ],
             [
              0.3333333333333333,
              "#9c179e"
             ],
             [
              0.4444444444444444,
              "#bd3786"
             ],
             [
              0.5555555555555556,
              "#d8576b"
             ],
             [
              0.6666666666666666,
              "#ed7953"
             ],
             [
              0.7777777777777778,
              "#fb9f3a"
             ],
             [
              0.8888888888888888,
              "#fdca26"
             ],
             [
              1,
              "#f0f921"
             ]
            ],
            "type": "surface"
           }
          ],
          "table": [
           {
            "cells": {
             "fill": {
              "color": "#EBF0F8"
             },
             "line": {
              "color": "white"
             }
            },
            "header": {
             "fill": {
              "color": "#C8D4E3"
             },
             "line": {
              "color": "white"
             }
            },
            "type": "table"
           }
          ]
         },
         "layout": {
          "annotationdefaults": {
           "arrowcolor": "#2a3f5f",
           "arrowhead": 0,
           "arrowwidth": 1
          },
          "autotypenumbers": "strict",
          "coloraxis": {
           "colorbar": {
            "outlinewidth": 0,
            "ticks": ""
           }
          },
          "colorscale": {
           "diverging": [
            [
             0,
             "#8e0152"
            ],
            [
             0.1,
             "#c51b7d"
            ],
            [
             0.2,
             "#de77ae"
            ],
            [
             0.3,
             "#f1b6da"
            ],
            [
             0.4,
             "#fde0ef"
            ],
            [
             0.5,
             "#f7f7f7"
            ],
            [
             0.6,
             "#e6f5d0"
            ],
            [
             0.7,
             "#b8e186"
            ],
            [
             0.8,
             "#7fbc41"
            ],
            [
             0.9,
             "#4d9221"
            ],
            [
             1,
             "#276419"
            ]
           ],
           "sequential": [
            [
             0,
             "#0d0887"
            ],
            [
             0.1111111111111111,
             "#46039f"
            ],
            [
             0.2222222222222222,
             "#7201a8"
            ],
            [
             0.3333333333333333,
             "#9c179e"
            ],
            [
             0.4444444444444444,
             "#bd3786"
            ],
            [
             0.5555555555555556,
             "#d8576b"
            ],
            [
             0.6666666666666666,
             "#ed7953"
            ],
            [
             0.7777777777777778,
             "#fb9f3a"
            ],
            [
             0.8888888888888888,
             "#fdca26"
            ],
            [
             1,
             "#f0f921"
            ]
           ],
           "sequentialminus": [
            [
             0,
             "#0d0887"
            ],
            [
             0.1111111111111111,
             "#46039f"
            ],
            [
             0.2222222222222222,
             "#7201a8"
            ],
            [
             0.3333333333333333,
             "#9c179e"
            ],
            [
             0.4444444444444444,
             "#bd3786"
            ],
            [
             0.5555555555555556,
             "#d8576b"
            ],
            [
             0.6666666666666666,
             "#ed7953"
            ],
            [
             0.7777777777777778,
             "#fb9f3a"
            ],
            [
             0.8888888888888888,
             "#fdca26"
            ],
            [
             1,
             "#f0f921"
            ]
           ]
          },
          "colorway": [
           "#636efa",
           "#EF553B",
           "#00cc96",
           "#ab63fa",
           "#FFA15A",
           "#19d3f3",
           "#FF6692",
           "#B6E880",
           "#FF97FF",
           "#FECB52"
          ],
          "font": {
           "color": "#2a3f5f"
          },
          "geo": {
           "bgcolor": "white",
           "lakecolor": "white",
           "landcolor": "#E5ECF6",
           "showlakes": true,
           "showland": true,
           "subunitcolor": "white"
          },
          "hoverlabel": {
           "align": "left"
          },
          "hovermode": "closest",
          "mapbox": {
           "style": "light"
          },
          "paper_bgcolor": "white",
          "plot_bgcolor": "#E5ECF6",
          "polar": {
           "angularaxis": {
            "gridcolor": "white",
            "linecolor": "white",
            "ticks": ""
           },
           "bgcolor": "#E5ECF6",
           "radialaxis": {
            "gridcolor": "white",
            "linecolor": "white",
            "ticks": ""
           }
          },
          "scene": {
           "xaxis": {
            "backgroundcolor": "#E5ECF6",
            "gridcolor": "white",
            "gridwidth": 2,
            "linecolor": "white",
            "showbackground": true,
            "ticks": "",
            "zerolinecolor": "white"
           },
           "yaxis": {
            "backgroundcolor": "#E5ECF6",
            "gridcolor": "white",
            "gridwidth": 2,
            "linecolor": "white",
            "showbackground": true,
            "ticks": "",
            "zerolinecolor": "white"
           },
           "zaxis": {
            "backgroundcolor": "#E5ECF6",
            "gridcolor": "white",
            "gridwidth": 2,
            "linecolor": "white",
            "showbackground": true,
            "ticks": "",
            "zerolinecolor": "white"
           }
          },
          "shapedefaults": {
           "line": {
            "color": "#2a3f5f"
           }
          },
          "ternary": {
           "aaxis": {
            "gridcolor": "white",
            "linecolor": "white",
            "ticks": ""
           },
           "baxis": {
            "gridcolor": "white",
            "linecolor": "white",
            "ticks": ""
           },
           "bgcolor": "#E5ECF6",
           "caxis": {
            "gridcolor": "white",
            "linecolor": "white",
            "ticks": ""
           }
          },
          "title": {
           "x": 0.05
          },
          "xaxis": {
           "automargin": true,
           "gridcolor": "white",
           "linecolor": "white",
           "ticks": "",
           "title": {
            "standoff": 15
           },
           "zerolinecolor": "white",
           "zerolinewidth": 2
          },
          "yaxis": {
           "automargin": true,
           "gridcolor": "white",
           "linecolor": "white",
           "ticks": "",
           "title": {
            "standoff": 15
           },
           "zerolinecolor": "white",
           "zerolinewidth": 2
          }
         }
        },
        "width": 800
       }
      }
     },
     "metadata": {},
     "output_type": "display_data"
    }
   ],
   "source": [
    "\n",
    "color_scale = [(0, 'orange'), (1,'red')]\n",
    "\n",
    "fig = px.scatter_mapbox(df_plotbar, \n",
    "                        lat=\"start_station_latitude\", \n",
    "                        lon=\"start_station_longitude\", \n",
    "                        color=\"count\",\n",
    "                        color_continuous_scale=color_scale,\n",
    "                        size=\"count\",\n",
    "                        zoom=8, \n",
    "                        height=800,\n",
    "                        width=800)\n",
    "\n",
    "fig.update_layout(mapbox_style=\"open-street-map\")\n",
    "fig.update_layout(margin={\"r\":0,\"t\":0,\"l\":0,\"b\":0})\n",
    "fig.show()"
   ]
  }
 ],
 "metadata": {
  "kernelspec": {
   "display_name": "AAproject",
   "language": "python",
   "name": "python3"
  },
  "language_info": {
   "codemirror_mode": {
    "name": "ipython",
    "version": 3
   },
   "file_extension": ".py",
   "mimetype": "text/x-python",
   "name": "python",
   "nbconvert_exporter": "python",
   "pygments_lexer": "ipython3",
   "version": "3.9.15"
  },
  "vscode": {
   "interpreter": {
    "hash": "4bda6f00b1c96ac5a9a9d5d0da9c426f670222a35f5423f5287bfe0ddc8184d4"
   }
  }
 },
 "nbformat": 4,
 "nbformat_minor": 2
}
