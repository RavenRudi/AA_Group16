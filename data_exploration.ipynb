{
 "cells": [
  {
   "cell_type": "code",
   "execution_count": 29,
   "metadata": {},
   "outputs": [
    {
     "name": "stdout",
     "output_type": "stream",
     "text": [
      "Total number of rows: 1122558\n"
     ]
    }
   ],
   "source": [
    "import pandas as pd\n",
    "import numpy as np\n",
    "\n",
    "df_boston = pd.read_csv('./data/boston_2015.csv', dtype={'start_station_id': np.int64, 'end_station_id': 'string', 'end_station_name': 'string', 'start_station_name': 'string', 'bike_id': np.int64, 'user_type': 'string'})\n",
    "print(f'Total number of rows: {len(df_boston)}')"
   ]
  },
  {
   "cell_type": "code",
   "execution_count": 30,
   "metadata": {},
   "outputs": [
    {
     "data": {
      "text/html": [
       "<div>\n",
       "<style scoped>\n",
       "    .dataframe tbody tr th:only-of-type {\n",
       "        vertical-align: middle;\n",
       "    }\n",
       "\n",
       "    .dataframe tbody tr th {\n",
       "        vertical-align: top;\n",
       "    }\n",
       "\n",
       "    .dataframe thead th {\n",
       "        text-align: right;\n",
       "    }\n",
       "</style>\n",
       "<table border=\"1\" class=\"dataframe\">\n",
       "  <thead>\n",
       "    <tr style=\"text-align: right;\">\n",
       "      <th></th>\n",
       "      <th>start_time</th>\n",
       "      <th>end_time</th>\n",
       "      <th>start_station_id</th>\n",
       "      <th>end_station_id</th>\n",
       "      <th>start_station_name</th>\n",
       "      <th>end_station_name</th>\n",
       "      <th>bike_id</th>\n",
       "      <th>user_type</th>\n",
       "    </tr>\n",
       "  </thead>\n",
       "  <tbody>\n",
       "    <tr>\n",
       "      <th>0</th>\n",
       "      <td>2015-01-01 00:21:44</td>\n",
       "      <td>2015-01-01 00:30:47</td>\n",
       "      <td>115</td>\n",
       "      <td>96</td>\n",
       "      <td>Porter Square Station</td>\n",
       "      <td>Cambridge Main Library at Broadway / Trowbridg...</td>\n",
       "      <td>277</td>\n",
       "      <td>Subscriber</td>\n",
       "    </tr>\n",
       "    <tr>\n",
       "      <th>1</th>\n",
       "      <td>2015-01-01 00:27:03</td>\n",
       "      <td>2015-01-01 00:34:21</td>\n",
       "      <td>80</td>\n",
       "      <td>95</td>\n",
       "      <td>MIT Stata Center at Vassar St / Main St</td>\n",
       "      <td>Cambridge St - at Columbia St / Webster Ave</td>\n",
       "      <td>648</td>\n",
       "      <td>Subscriber</td>\n",
       "    </tr>\n",
       "    <tr>\n",
       "      <th>2</th>\n",
       "      <td>2015-01-01 00:31:31</td>\n",
       "      <td>2015-01-01 00:35:46</td>\n",
       "      <td>91</td>\n",
       "      <td>68</td>\n",
       "      <td>One Kendall Square at Hampshire St / Portland St</td>\n",
       "      <td>Central Square at Mass Ave / Essex St</td>\n",
       "      <td>555</td>\n",
       "      <td>Subscriber</td>\n",
       "    </tr>\n",
       "    <tr>\n",
       "      <th>3</th>\n",
       "      <td>2015-01-01 00:53:46</td>\n",
       "      <td>2015-01-01 01:00:58</td>\n",
       "      <td>115</td>\n",
       "      <td>96</td>\n",
       "      <td>Porter Square Station</td>\n",
       "      <td>Cambridge Main Library at Broadway / Trowbridg...</td>\n",
       "      <td>1307</td>\n",
       "      <td>Subscriber</td>\n",
       "    </tr>\n",
       "    <tr>\n",
       "      <th>4</th>\n",
       "      <td>2015-01-01 01:07:06</td>\n",
       "      <td>2015-01-01 01:19:21</td>\n",
       "      <td>105</td>\n",
       "      <td>88</td>\n",
       "      <td>Lower Cambridgeport at Magazine St/Riverside Rd</td>\n",
       "      <td>Inman Square at Vellucci Plaza / Hampshire St</td>\n",
       "      <td>177</td>\n",
       "      <td>Customer</td>\n",
       "    </tr>\n",
       "  </tbody>\n",
       "</table>\n",
       "</div>"
      ],
      "text/plain": [
       "            start_time             end_time  start_station_id end_station_id  \\\n",
       "0  2015-01-01 00:21:44  2015-01-01 00:30:47               115             96   \n",
       "1  2015-01-01 00:27:03  2015-01-01 00:34:21                80             95   \n",
       "2  2015-01-01 00:31:31  2015-01-01 00:35:46                91             68   \n",
       "3  2015-01-01 00:53:46  2015-01-01 01:00:58               115             96   \n",
       "4  2015-01-01 01:07:06  2015-01-01 01:19:21               105             88   \n",
       "\n",
       "                                 start_station_name  \\\n",
       "0                             Porter Square Station   \n",
       "1           MIT Stata Center at Vassar St / Main St   \n",
       "2  One Kendall Square at Hampshire St / Portland St   \n",
       "3                             Porter Square Station   \n",
       "4   Lower Cambridgeport at Magazine St/Riverside Rd   \n",
       "\n",
       "                                    end_station_name  bike_id   user_type  \n",
       "0  Cambridge Main Library at Broadway / Trowbridg...      277  Subscriber  \n",
       "1        Cambridge St - at Columbia St / Webster Ave      648  Subscriber  \n",
       "2              Central Square at Mass Ave / Essex St      555  Subscriber  \n",
       "3  Cambridge Main Library at Broadway / Trowbridg...     1307  Subscriber  \n",
       "4      Inman Square at Vellucci Plaza / Hampshire St      177    Customer  "
      ]
     },
     "execution_count": 30,
     "metadata": {},
     "output_type": "execute_result"
    }
   ],
   "source": [
    "df_boston.head()"
   ]
  },
  {
   "cell_type": "code",
   "execution_count": 31,
   "metadata": {},
   "outputs": [
    {
     "data": {
      "text/plain": [
       "<StringArray>\n",
       "['Subscriber', 'Customer']\n",
       "Length: 2, dtype: string"
      ]
     },
     "execution_count": 31,
     "metadata": {},
     "output_type": "execute_result"
    }
   ],
   "source": [
    "df_boston['user_type'].unique()"
   ]
  },
  {
   "cell_type": "markdown",
   "metadata": {},
   "source": [
    "# Preprocessing\n",
    "### Set data type of 'end_station_id'"
   ]
  },
  {
   "cell_type": "code",
   "execution_count": 32,
   "metadata": {},
   "outputs": [
    {
     "data": {
      "text/plain": [
       "<StringArray>\n",
       "[ '96',  '95',  '68',  '88',  '76', '118',  '75',  '67',  '36',  '23',\n",
       " ...\n",
       " '169', '174', '175', '159', '171', '178', '176', '179', '180', '177']\n",
       "Length: 157, dtype: string"
      ]
     },
     "execution_count": 32,
     "metadata": {},
     "output_type": "execute_result"
    }
   ],
   "source": [
    "df_boston['end_station_id'].unique()"
   ]
  },
  {
   "cell_type": "code",
   "execution_count": 33,
   "metadata": {},
   "outputs": [
    {
     "name": "stdout",
     "output_type": "stream",
     "text": [
      "Number of \"\\\\N\" occurences in end_station_id column: 1\n",
      "<class 'pandas.core.frame.DataFrame'>\n",
      "Int64Index: 1122557 entries, 0 to 1122557\n",
      "Data columns (total 8 columns):\n",
      " #   Column              Non-Null Count    Dtype \n",
      "---  ------              --------------    ----- \n",
      " 0   start_time          1122557 non-null  object\n",
      " 1   end_time            1122557 non-null  object\n",
      " 2   start_station_id    1122557 non-null  int64 \n",
      " 3   end_station_id      1122557 non-null  int64 \n",
      " 4   start_station_name  1122557 non-null  string\n",
      " 5   end_station_name    1122557 non-null  string\n",
      " 6   bike_id             1122557 non-null  int64 \n",
      " 7   user_type           1122557 non-null  string\n",
      "dtypes: int64(3), object(2), string(3)\n",
      "memory usage: 77.1+ MB\n"
     ]
    }
   ],
   "source": [
    "# Value '\\\\N' seems to be anomaly -> occurs only once, so drop!\n",
    "num_occurences = len(df_boston.loc[df_boston[\"end_station_id\"] == \"\\\\N\"])\n",
    "print(f'Number of \"\\\\\\\\N\" occurences in end_station_id column: {num_occurences}')\n",
    "df_boston.drop(index=df_boston.loc[df_boston[\"end_station_id\"] == \"\\\\N\"].index, inplace=True, axis=1)\n",
    "\n",
    "# now set column to dtype np.int64\n",
    "df_boston = df_boston.astype({'end_station_id': np.int64})\n",
    "df_boston.info()"
   ]
  },
  {
   "cell_type": "markdown",
   "metadata": {},
   "source": [
    "### Set data type of time columns"
   ]
  },
  {
   "cell_type": "code",
   "execution_count": 34,
   "metadata": {},
   "outputs": [
    {
     "data": {
      "text/plain": [
       "start_time            datetime64[ns]\n",
       "end_time              datetime64[ns]\n",
       "start_station_id               int64\n",
       "end_station_id                 int64\n",
       "start_station_name            string\n",
       "end_station_name              string\n",
       "bike_id                        int64\n",
       "user_type                     string\n",
       "dtype: object"
      ]
     },
     "execution_count": 34,
     "metadata": {},
     "output_type": "execute_result"
    }
   ],
   "source": [
    "df_boston['start_time'] = pd.to_datetime(df_boston['start_time'], format='%Y-%m-%d %X')\n",
    "df_boston['end_time'] = pd.to_datetime(df_boston['end_time'], format='%Y-%m-%d %X')\n",
    "df_boston.dtypes"
   ]
  },
  {
   "cell_type": "markdown",
   "metadata": {},
   "source": [
    "#### Check if station id and names are unique tuples"
   ]
  },
  {
   "cell_type": "code",
   "execution_count": 35,
   "metadata": {},
   "outputs": [
    {
     "name": "stdout",
     "output_type": "stream",
     "text": [
      "Station IDs and names are unique True\n"
     ]
    }
   ],
   "source": [
    "# len(df_boston['start_station_name'].unique())\n",
    "is_unique = True\n",
    "i = 0\n",
    "all_station_ids = df_boston['start_station_id'].unique()\n",
    "\n",
    "while i < len(all_station_ids) & is_unique:\n",
    "    is_unique = len(df_boston.loc[df_boston['start_station_id'] == i]['start_station_name'].unique()) == 1\n",
    "    i += 1\n",
    "\n",
    "print(\"Station IDs and names are unique\", is_unique)\n"
   ]
  },
  {
   "cell_type": "code",
   "execution_count": 36,
   "metadata": {},
   "outputs": [
    {
     "data": {
      "text/plain": [
       "array([['1', '18 Dorrance Warehouse'],\n",
       "       ['10', 'B.U. Central - 725 Comm. Ave.'],\n",
       "       ['100', 'Davis Square'],\n",
       "       ['102', 'Powder House Circle - Nathan Tufts Park'],\n",
       "       ['103', 'JFK Crossing at Harvard St. / Thorndike St.'],\n",
       "       ['104',\n",
       "        'Harvard University Radcliffe Quadrangle at Shepard St / Garden St'],\n",
       "       ['105', 'Lower Cambridgeport at Magazine St/Riverside Rd'],\n",
       "       ['106', 'Mt Pleasant Ave / Dudley Town Common'],\n",
       "       ['107', 'Ames St at Main St'],\n",
       "       ['108',\n",
       "        'Harvard University / SEAS Cruft-Pierce Halls at 29 Oxford St'],\n",
       "       ['109', 'TD Garden - Causeway at Portal Park #1'],\n",
       "       ['11', 'Longwood Ave / Binney St'],\n",
       "       ['110', 'Harvard University Gund Hall at Quincy St / Kirkland S'],\n",
       "       ['111', 'Packard Ave / Powderhouse Blvd'],\n",
       "       ['112', 'Somerville Hospital at Highland Ave / Crocker St'],\n",
       "       ['113', 'Andrew Station - Dorchester Ave at Humboldt Pl'],\n",
       "       ['114', 'Teele Square at 239 Holland St'],\n",
       "       ['115', 'Porter Square Station'],\n",
       "       ['116', '359 Broadway - Broadway at Fayette Street'],\n",
       "       ['117', 'Binney St / Sixth St'],\n",
       "       ['118', 'Linear Park - Mass. Ave. at Cameron Ave. '],\n",
       "       ['119', 'South Boston Library - 646 East Broadway'],\n",
       "       ['12', 'Ruggles Station / Columbus Ave.'],\n",
       "       ['120', 'Charles St at Beacon St'],\n",
       "       ['121', 'West Broadway at Dorchester St'],\n",
       "       ['122', 'BIDMC - Brookline at Burlington St'],\n",
       "       ['123', 'JP Center - Centre Street at Myrtle Street'],\n",
       "       ['124', 'Curtis Hall at South Street'],\n",
       "       ['125', 'Hyde Square at Barbara St'],\n",
       "       ['126', 'Egleston Square at Columbus Ave'],\n",
       "       ['128', 'E. Cottage St at Columbia Rd'],\n",
       "       ['129', 'Hayes Square at Vine St.'],\n",
       "       ['13', 'Boston Medical Center -  East Concord at Harrison Ave'],\n",
       "       ['130', \"Upham's Corner - Ramsey St at Dudley St\"],\n",
       "       ['131', 'Jackson Square T at Centre St'],\n",
       "       ['132', 'Summer St at Cutter St'],\n",
       "       ['133', 'Green St T'],\n",
       "       ['134', 'New Balance Store - Boylston at Dartmouth'],\n",
       "       ['135', 'ID Building East'],\n",
       "       ['136', 'ID Building West'],\n",
       "       ['137', 'Magoun Square at Trum Field'],\n",
       "       ['138', 'Mass Ave at Newmarket Square'],\n",
       "       ['139', 'Dana Park'],\n",
       "       ['14', 'HMS / HSPH - Ave. Louis Pasteur at Longwood Ave.'],\n",
       "       ['140', 'Danehy Park'],\n",
       "       ['141', 'Kendall Street'],\n",
       "       ['142', 'Alewife Station at Russell Field'],\n",
       "       ['143', 'EF - North Point Park'],\n",
       "       ['145', \"Rindge Avenue - O'Neill Library\"],\n",
       "       ['149',\n",
       "        'Harvard University Transportation Services - 175 North Harvard St'],\n",
       "       ['15', 'Harvard Real Estate - Brighton Mills - 370 Western Ave'],\n",
       "       ['150', 'State Street at Channel Center'],\n",
       "       ['151', 'John F Fitzgerald - Surface Road at India Street'],\n",
       "       ['152', 'Ink Block'],\n",
       "       ['159', 'Heath St at South Huntington'],\n",
       "       ['16', 'Back Bay / South End Station'],\n",
       "       ['160', 'Wentworth Institute of Technology'],\n",
       "       ['161', 'West Broadway at D Street'],\n",
       "       ['162', 'Franklin Park - Seaver Street at Humbolt Ave'],\n",
       "       ['163', 'Lawn on D'],\n",
       "       ['167', 'Ryan Playground - Dorchester Avenue Station'],\n",
       "       ['169', 'Edwards Playground - Main Street & Eden Street'],\n",
       "       ['17',\n",
       "        'Harvard University Housing - 111 Western Ave. at Soldiers Field Park '],\n",
       "       ['170', 'Franklin Park Zoo'],\n",
       "       ['171', 'Bunker Hill Community College'],\n",
       "       ['174', 'Washington St at Brock St'],\n",
       "       ['175', 'Brighton Center'],\n",
       "       ['176', 'Lesley University'],\n",
       "       ['177', 'University Park'],\n",
       "       ['178', 'MIT Pacific St at Purrington St'],\n",
       "       ['179', 'MIT Vassar St'],\n",
       "       ['180', 'Mt Auburn'],\n",
       "       ['19', 'Buswell St. at Park Dr.'],\n",
       "       ['20', 'Aquarium Station - 200 Atlantic Ave.'],\n",
       "       ['21', 'Prudential Center / Belvidere'],\n",
       "       ['22', 'South Station - 700 Atlantic Ave.'],\n",
       "       ['23', 'Mayor Martin J Walsh - 28 State St'],\n",
       "       ['24', 'Seaport Square - Seaport Blvd. at Boston Wharf'],\n",
       "       ['25', 'Tremont St / W Newton St'],\n",
       "       ['26', 'Washington St. at Waltham St.'],\n",
       "       ['27', 'Roxbury Crossing Station'],\n",
       "       ['29', 'Innovation Lab - 125 Western Ave. at Batten Way'],\n",
       "       ['3', 'Colleges of the Fenway'],\n",
       "       ['30', 'Brigham Cir / Huntington Ave'],\n",
       "       ['31', 'Seaport Hotel'],\n",
       "       ['32', 'Landmark Centre'],\n",
       "       ['33', 'Kenmore Sq / Comm Ave'],\n",
       "       ['35', 'Franklin St. / Arch St.'],\n",
       "       ['36', 'Boston Public Library - 700 Boylston St.'],\n",
       "       ['37', 'New Balance - 20 Guest St.'],\n",
       "       ['38', 'TD Garden - Causeway at Portal Park #2'],\n",
       "       ['39', 'Washington St. at Rutland St.'],\n",
       "       ['4', 'Tremont St. at Berkeley St.'],\n",
       "       ['40', 'Lewis Wharf - Atlantic Ave.'],\n",
       "       ['41', \"Packard's Corner - Comm. Ave. at Brighton Ave.\"],\n",
       "       ['42', 'Boylston St. at Arlington St.'],\n",
       "       ['43', 'Rowes Wharf - Atlantic Ave'],\n",
       "       ['44', 'Faneuil Hall - Union St. at North St.'],\n",
       "       ['45', 'Yawkey Way at Boylston St.'],\n",
       "       ['46', 'Christian Science Plaza'],\n",
       "       ['47', 'Cross St. at Hanover St.'],\n",
       "       ['48', 'Post Office Square'],\n",
       "       ['49', 'Stuart St. at Charles St.'],\n",
       "       ['5', 'Northeastern U / North Parking Lot'],\n",
       "       ['50', 'Boylston St / Berkeley St'],\n",
       "       ['51', 'Washington St. at Lenox St.'],\n",
       "       ['52', 'Newbury St / Hereford St'],\n",
       "       ['53', 'Beacon St / Mass Ave'],\n",
       "       ['54', 'Tremont St / West St'],\n",
       "       ['55', 'Boylston / Mass Ave'],\n",
       "       ['56', 'Dudley Square'],\n",
       "       ['57', 'Columbus Ave. at Mass. Ave.'],\n",
       "       ['58', 'The Esplanade - Beacon St. at Arlington St.'],\n",
       "       ['59', 'Chinatown Gate Plaza - Surface Rd. at Beach St.'],\n",
       "       ['6', 'Cambridge St. at Joy St.'],\n",
       "       ['60', 'Charles Circle - Charles St. at Cambridge St.'],\n",
       "       ['61', 'Boylston at Fairfield'],\n",
       "       ['63', 'Dorchester Ave. at Gillette Park'],\n",
       "       ['64', 'Congress / Sleeper'],\n",
       "       ['65', 'Boston Convention & Exhibition Center'],\n",
       "       ['66', 'Allston Green District - Commonwealth Ave & Griggs St'],\n",
       "       ['67', 'MIT at Mass Ave / Amherst St'],\n",
       "       ['68', 'Central Square at Mass Ave / Essex St'],\n",
       "       ['69', 'Coolidge Corner - Beacon St @ Centre St'],\n",
       "       ['7', 'Fan Pier'],\n",
       "       ['70', 'Harvard Kennedy School at Bennett St / Eliot St'],\n",
       "       ['71', 'Conway Park - Somerville Avenue'],\n",
       "       ['72', 'One Broadway / Kendall Sq at Main St / 3rd St'],\n",
       "       ['73', 'Harvard Square at Brattle St / Eliot St'],\n",
       "       ['74', 'Harvard Square at Mass Ave/ Dunster'],\n",
       "       ['75', 'Lafayette Square at Mass Ave / Main St / Columbia St'],\n",
       "       ['76',\n",
       "        'Central Sq Post Office / Cambridge City Hall at Mass Ave / Pleasant St'],\n",
       "       ['77', 'Somerville City Hall'],\n",
       "       ['78', 'Union Square - Somerville'],\n",
       "       ['79', 'Beacon St at Washington / Kirkland'],\n",
       "       ['8', 'Union Square - Brighton Ave. at Cambridge St.'],\n",
       "       ['80', 'MIT Stata Center at Vassar St / Main St'],\n",
       "       ['81', 'Boylston St / Washington St'],\n",
       "       ['82', 'Washington Square at Washington St. / Beacon St.'],\n",
       "       ['84', 'CambridgeSide Galleria - CambridgeSide PL at Land Blvd'],\n",
       "       ['85',\n",
       "        'Spaulding Rehabilitation Hospital - Charlestown Navy Yard'],\n",
       "       ['86', 'Brookline Village - Pearl Street @ MBTA'],\n",
       "       ['87',\n",
       "        'Harvard University Housing - 115 Putnam Ave at Peabody Terrace'],\n",
       "       ['88', 'Inman Square at Vellucci Plaza / Hampshire St'],\n",
       "       ['89', 'Harvard Law School at Mass Ave / Jarvis St'],\n",
       "       ['9', 'Agganis Arena - 925 Comm Ave.'],\n",
       "       ['90', 'Lechmere Station at Cambridge St / First St'],\n",
       "       ['91', 'One Kendall Square at Hampshire St / Portland St'],\n",
       "       ['92', 'UMass Boston Integrated Sciences Complex'],\n",
       "       ['93', 'JFK / UMASS at MBTA Station'],\n",
       "       ['94', 'Charlestown - Main St at Austin St'],\n",
       "       ['95', 'Cambridge St - at Columbia St / Webster Ave'],\n",
       "       ['96', 'Cambridge Main Library at Broadway / Trowbridge St'],\n",
       "       ['97',\n",
       "        'Harvard University River Houses at DeWolfe St / Cowperthwaite St'],\n",
       "       ['98', 'Charlestown - Warren St at Chelsea St'],\n",
       "       ['99', 'Wilson Square']], dtype='<U70')"
      ]
     },
     "execution_count": 36,
     "metadata": {},
     "output_type": "execute_result"
    }
   ],
   "source": [
    "# Check if station id and name always match\n",
    "unique_start_tuples = np.unique(df_boston[['start_station_id', 'start_station_name']].values.astype('str'), axis=0)\n",
    "unique_start_tuples"
   ]
  },
  {
   "cell_type": "code",
   "execution_count": 37,
   "metadata": {},
   "outputs": [
    {
     "data": {
      "text/plain": [
       "array([], dtype='<U70')"
      ]
     },
     "execution_count": 37,
     "metadata": {},
     "output_type": "execute_result"
    }
   ],
   "source": [
    "#TODO: check for entire duplicates (also end stations)\n",
    "unique_start_tuples[:,0:1]\n",
    "u, c = np.unique(unique_start_tuples[:,0:1], return_counts=True)\n",
    "dup = u[c > 1]\n",
    "dup "
   ]
  },
  {
   "cell_type": "markdown",
   "metadata": {},
   "source": [
    "# Feature Engineering\n",
    "#### Calculate trip_length "
   ]
  },
  {
   "cell_type": "code",
   "execution_count": 38,
   "metadata": {},
   "outputs": [
    {
     "data": {
      "text/html": [
       "<div>\n",
       "<style scoped>\n",
       "    .dataframe tbody tr th:only-of-type {\n",
       "        vertical-align: middle;\n",
       "    }\n",
       "\n",
       "    .dataframe tbody tr th {\n",
       "        vertical-align: top;\n",
       "    }\n",
       "\n",
       "    .dataframe thead th {\n",
       "        text-align: right;\n",
       "    }\n",
       "</style>\n",
       "<table border=\"1\" class=\"dataframe\">\n",
       "  <thead>\n",
       "    <tr style=\"text-align: right;\">\n",
       "      <th></th>\n",
       "      <th>start_time</th>\n",
       "      <th>end_time</th>\n",
       "      <th>start_station_id</th>\n",
       "      <th>end_station_id</th>\n",
       "      <th>start_station_name</th>\n",
       "      <th>end_station_name</th>\n",
       "      <th>bike_id</th>\n",
       "      <th>user_type</th>\n",
       "      <th>trip_length</th>\n",
       "    </tr>\n",
       "  </thead>\n",
       "  <tbody>\n",
       "    <tr>\n",
       "      <th>0</th>\n",
       "      <td>2015-01-01 00:21:44</td>\n",
       "      <td>2015-01-01 00:30:47</td>\n",
       "      <td>115</td>\n",
       "      <td>96</td>\n",
       "      <td>Porter Square Station</td>\n",
       "      <td>Cambridge Main Library at Broadway / Trowbridg...</td>\n",
       "      <td>277</td>\n",
       "      <td>Subscriber</td>\n",
       "      <td>543.0</td>\n",
       "    </tr>\n",
       "    <tr>\n",
       "      <th>1</th>\n",
       "      <td>2015-01-01 00:27:03</td>\n",
       "      <td>2015-01-01 00:34:21</td>\n",
       "      <td>80</td>\n",
       "      <td>95</td>\n",
       "      <td>MIT Stata Center at Vassar St / Main St</td>\n",
       "      <td>Cambridge St - at Columbia St / Webster Ave</td>\n",
       "      <td>648</td>\n",
       "      <td>Subscriber</td>\n",
       "      <td>438.0</td>\n",
       "    </tr>\n",
       "    <tr>\n",
       "      <th>2</th>\n",
       "      <td>2015-01-01 00:31:31</td>\n",
       "      <td>2015-01-01 00:35:46</td>\n",
       "      <td>91</td>\n",
       "      <td>68</td>\n",
       "      <td>One Kendall Square at Hampshire St / Portland St</td>\n",
       "      <td>Central Square at Mass Ave / Essex St</td>\n",
       "      <td>555</td>\n",
       "      <td>Subscriber</td>\n",
       "      <td>255.0</td>\n",
       "    </tr>\n",
       "    <tr>\n",
       "      <th>3</th>\n",
       "      <td>2015-01-01 00:53:46</td>\n",
       "      <td>2015-01-01 01:00:58</td>\n",
       "      <td>115</td>\n",
       "      <td>96</td>\n",
       "      <td>Porter Square Station</td>\n",
       "      <td>Cambridge Main Library at Broadway / Trowbridg...</td>\n",
       "      <td>1307</td>\n",
       "      <td>Subscriber</td>\n",
       "      <td>432.0</td>\n",
       "    </tr>\n",
       "    <tr>\n",
       "      <th>4</th>\n",
       "      <td>2015-01-01 01:07:06</td>\n",
       "      <td>2015-01-01 01:19:21</td>\n",
       "      <td>105</td>\n",
       "      <td>88</td>\n",
       "      <td>Lower Cambridgeport at Magazine St/Riverside Rd</td>\n",
       "      <td>Inman Square at Vellucci Plaza / Hampshire St</td>\n",
       "      <td>177</td>\n",
       "      <td>Customer</td>\n",
       "      <td>735.0</td>\n",
       "    </tr>\n",
       "  </tbody>\n",
       "</table>\n",
       "</div>"
      ],
      "text/plain": [
       "           start_time            end_time  start_station_id  end_station_id  \\\n",
       "0 2015-01-01 00:21:44 2015-01-01 00:30:47               115              96   \n",
       "1 2015-01-01 00:27:03 2015-01-01 00:34:21                80              95   \n",
       "2 2015-01-01 00:31:31 2015-01-01 00:35:46                91              68   \n",
       "3 2015-01-01 00:53:46 2015-01-01 01:00:58               115              96   \n",
       "4 2015-01-01 01:07:06 2015-01-01 01:19:21               105              88   \n",
       "\n",
       "                                 start_station_name  \\\n",
       "0                             Porter Square Station   \n",
       "1           MIT Stata Center at Vassar St / Main St   \n",
       "2  One Kendall Square at Hampshire St / Portland St   \n",
       "3                             Porter Square Station   \n",
       "4   Lower Cambridgeport at Magazine St/Riverside Rd   \n",
       "\n",
       "                                    end_station_name  bike_id   user_type  \\\n",
       "0  Cambridge Main Library at Broadway / Trowbridg...      277  Subscriber   \n",
       "1        Cambridge St - at Columbia St / Webster Ave      648  Subscriber   \n",
       "2              Central Square at Mass Ave / Essex St      555  Subscriber   \n",
       "3  Cambridge Main Library at Broadway / Trowbridg...     1307  Subscriber   \n",
       "4      Inman Square at Vellucci Plaza / Hampshire St      177    Customer   \n",
       "\n",
       "   trip_length  \n",
       "0        543.0  \n",
       "1        438.0  \n",
       "2        255.0  \n",
       "3        432.0  \n",
       "4        735.0  "
      ]
     },
     "execution_count": 38,
     "metadata": {},
     "output_type": "execute_result"
    }
   ],
   "source": [
    "df_boston['trip_length'] = (df_boston['end_time'] - df_boston['start_time'])\n",
    "df_boston['trip_length'] = df_boston['trip_length'] / np.timedelta64(1, 's')\n",
    "df_boston.head()"
   ]
  },
  {
   "cell_type": "markdown",
   "metadata": {},
   "source": [
    "# First Data Exploration\n",
    "### Understanding the revenue modell"
   ]
  },
  {
   "cell_type": "markdown",
   "metadata": {},
   "source": [
    "![caption](data/thehubway_revenue_modell_2015.png)"
   ]
  },
  {
   "cell_type": "code",
   "execution_count": 39,
   "metadata": {},
   "outputs": [
    {
     "name": "stdout",
     "output_type": "stream",
     "text": [
      "user_type\n",
      "Customer      370585\n",
      "Subscriber    751972\n",
      "dtype: int64\n",
      "We only have 0.09917185764856692 of the data!\n",
      "0.06948154971195226\n"
     ]
    }
   ],
   "source": [
    "# Pricing info pulled from: https://web.archive.org/web/20150206035343/http://www.thehubway.com:80/pricing\n",
    "# INFO: bluebikes was previously called 'thehubway', see https://en.wikipedia.org/wiki/Bluebikes\n",
    "# ASSUMTION: The revenue modell did not change over the year 2015. This was checked through all entries of the wayback-machine, which occured in 7 day intervalls. We can be pretty certain of this. \n",
    "\n",
    "\n",
    "# Get # of subscribers and customers\n",
    "print(df_boston.groupby('user_type').size())\n",
    "# TODO: Include this in revenue modell\n",
    "\n",
    "# Thoughts on the revenue modell: We don't see individual user-ids for each ride. This means that we can only infer the \"revenue\" generated by each trip through the respective user_type.\n",
    "# E.g. -> if we have 10 subscribers for a given timeframe, who undertake 100 trips, each trip would generate 1/10 of the users membership fee in the given timeframe\n",
    "# Membership numbers for 2015: https://web.archive.org/web/20160208155519/http://www.thehubway.com/mediakit -> anual members: 13.248, Causal Passes: 102.445 (24 & 72 Hours) with a total of 1,1319,310 Trips (???)\n",
    "\n",
    "no_trips_from_dataset_2015 = 11319310\n",
    "no_trips_from_website_2015 = len(df_boston)\n",
    "print(f'We only have {no_trips_from_website_2015/no_trips_from_dataset_2015} of the data!')\n",
    "\n",
    "# Big Open Question: How should we deal with the missing data? (we only have 1/10 of the trip data apparently) ? -> https://s3.amazonaws.com/hubway-data/index.html this contains the raw data, it appears that there are a lot more than 112k rides..\n",
    "# Open Question: How should we include the membership fees and casual passes costs in the revenue modell?\n",
    "\n",
    "\n",
    "# get proprtion all the rides who might incur overtime fees (trip_length >30 min) to understand if this usage pattern is relevant for the revenue model\n",
    "proportion_overtime_rides = len(df_boston[df_boston['trip_length'] >= (30*60)]) / len(df_boston) \n",
    "print(proportion_overtime_rides)\n",
    "\n",
    "# Conclusion: Around 7% of rides were overtime -> we should include this in the revenue modell\n",
    "# TODO: Engineer the following features for the revenue modell: revenue_through_overtime (calculated on the basis of trip_duration)\n"
   ]
  },
  {
   "cell_type": "markdown",
   "metadata": {},
   "source": [
    "### merging of boston station dataset and the df_boston data"
   ]
  },
  {
   "cell_type": "code",
   "execution_count": 40,
   "metadata": {},
   "outputs": [],
   "source": [
    "#boston blue bikes stations data\n",
    "df_stations_data = pd.read_csv('./data/current_bluebikes_stations.csv', header=1)\n",
    "df_january = pd.read_csv('./data/201501-hubway-tripdata.csv', usecols=['start station id', 'start station latitude', 'start station longitude', 'end station id', 'end station id', 'end station latitude', 'end station longitude'])\n",
    "df_sep = pd.read_csv('./data/201509-hubway-tripdata.csv', usecols=['start station id', 'start station latitude', 'start station longitude', 'end station id', 'end station id', 'end station latitude', 'end station longitude'])\n",
    "df_july = pd.read_csv('./data/201507-hubway-tripdata.csv', usecols=['start station id', 'start station latitude', 'start station longitude', 'end station id', 'end station id', 'end station latitude', 'end station longitude'])\n",
    "df_oct = pd.read_csv('./data/201510-hubway-tripdata.csv', usecols=['start station id', 'start station latitude', 'start station longitude', 'end station id', 'end station id', 'end station latitude', 'end station longitude'])\n",
    "df_dec = pd.read_csv('./data/201512-hubway-tripdata.csv', usecols=['start station id', 'start station latitude', 'start station longitude', 'end station id', 'end station id', 'end station latitude', 'end station longitude'])\n",
    "unique_stations_external=np.unique(np.concatenate((df_january[['start station id', 'start station latitude', 'start station longitude']].values, df_january[['end station id', 'end station latitude', 'end station longitude']].values,df_july[['start station id', 'start station latitude', 'start station longitude']].values, df_july[['end station id', 'end station latitude', 'end station longitude']].values, df_sep[['start station id', 'start station latitude', 'start station longitude']].values, df_sep[['end station id', 'end station latitude', 'end station longitude']].values, df_oct[['start station id', 'start station latitude', 'start station longitude']].values, df_oct[['end station id', 'end station latitude', 'end station longitude']].values, df_dec[['start station id', 'start station latitude', 'start station longitude']].values, df_dec[['end station id', 'end station latitude', 'end station longitude']].values)), axis=0)"
   ]
  },
  {
   "cell_type": "code",
   "execution_count": 41,
   "metadata": {},
   "outputs": [
    {
     "name": "stdout",
     "output_type": "stream",
     "text": [
      "# stations from original data: 156 | # stations from external data: 156\n"
     ]
    }
   ],
   "source": [
    "unique_stations_original=np.unique(np.concatenate((df_boston['start_station_name'].values, df_boston['end_station_name'].values)))\n",
    "print(f'# stations from original data: {len(unique_stations_original)} | # stations from external data: {len(unique_stations_external)}')\n",
    "df_unique_stations = pd.DataFrame(unique_stations_external, columns=['station_id', 'station_latitude', 'station_longitude'])"
   ]
  },
  {
   "cell_type": "code",
   "execution_count": 42,
   "metadata": {},
   "outputs": [
    {
     "name": "stdout",
     "output_type": "stream",
     "text": [
      "<class 'pandas.core.frame.DataFrame'>\n",
      "Int64Index: 1122557 entries, 0 to 1122556\n",
      "Data columns (total 13 columns):\n",
      " #   Column                   Non-Null Count    Dtype         \n",
      "---  ------                   --------------    -----         \n",
      " 0   start_time               1122557 non-null  datetime64[ns]\n",
      " 1   end_time                 1122557 non-null  datetime64[ns]\n",
      " 2   start_station_id         1122557 non-null  int64         \n",
      " 3   end_station_id           1122557 non-null  int64         \n",
      " 4   start_station_name       1122557 non-null  string        \n",
      " 5   end_station_name         1122557 non-null  string        \n",
      " 6   bike_id                  1122557 non-null  int64         \n",
      " 7   user_type                1122557 non-null  string        \n",
      " 8   trip_length              1122557 non-null  float64       \n",
      " 9   start_station_latitude   1122557 non-null  float64       \n",
      " 10  start_station_longitude  1122557 non-null  float64       \n",
      " 11  end_station_latitude     1122557 non-null  float64       \n",
      " 12  end_station_longitude    1122557 non-null  float64       \n",
      "dtypes: datetime64[ns](2), float64(5), int64(3), string(3)\n",
      "memory usage: 119.9 MB\n"
     ]
    }
   ],
   "source": [
    "df_unique_stations.columns = ['start_station_id', 'start_station_latitude', 'start_station_longitude']\n",
    "df_boston = df_boston.merge(df_unique_stations, how='left', on='start_station_id')\n",
    "df_unique_stations.columns = ['end_station_id', 'end_station_latitude', 'end_station_longitude']\n",
    "df_boston = df_boston.merge(df_unique_stations, how='left', on='end_station_id')\n",
    "df_boston.info()"
   ]
  },
  {
   "cell_type": "code",
   "execution_count": 43,
   "metadata": {},
   "outputs": [
    {
     "data": {
      "text/html": [
       "<div>\n",
       "<style scoped>\n",
       "    .dataframe tbody tr th:only-of-type {\n",
       "        vertical-align: middle;\n",
       "    }\n",
       "\n",
       "    .dataframe tbody tr th {\n",
       "        vertical-align: top;\n",
       "    }\n",
       "\n",
       "    .dataframe thead th {\n",
       "        text-align: right;\n",
       "    }\n",
       "</style>\n",
       "<table border=\"1\" class=\"dataframe\">\n",
       "  <thead>\n",
       "    <tr style=\"text-align: right;\">\n",
       "      <th></th>\n",
       "      <th>start_time</th>\n",
       "      <th>end_time</th>\n",
       "      <th>start_station_id</th>\n",
       "      <th>end_station_id</th>\n",
       "      <th>start_station_name</th>\n",
       "      <th>end_station_name</th>\n",
       "      <th>bike_id</th>\n",
       "      <th>user_type</th>\n",
       "      <th>trip_length</th>\n",
       "      <th>start_station_latitude</th>\n",
       "      <th>start_station_longitude</th>\n",
       "      <th>end_station_latitude</th>\n",
       "      <th>end_station_longitude</th>\n",
       "    </tr>\n",
       "  </thead>\n",
       "  <tbody>\n",
       "    <tr>\n",
       "      <th>0</th>\n",
       "      <td>2015-01-01 00:21:44</td>\n",
       "      <td>2015-01-01 00:30:47</td>\n",
       "      <td>115</td>\n",
       "      <td>96</td>\n",
       "      <td>Porter Square Station</td>\n",
       "      <td>Cambridge Main Library at Broadway / Trowbridg...</td>\n",
       "      <td>277</td>\n",
       "      <td>Subscriber</td>\n",
       "      <td>543.0</td>\n",
       "      <td>42.387995</td>\n",
       "      <td>-71.119084</td>\n",
       "      <td>42.373379</td>\n",
       "      <td>-71.111075</td>\n",
       "    </tr>\n",
       "    <tr>\n",
       "      <th>1</th>\n",
       "      <td>2015-01-01 00:27:03</td>\n",
       "      <td>2015-01-01 00:34:21</td>\n",
       "      <td>80</td>\n",
       "      <td>95</td>\n",
       "      <td>MIT Stata Center at Vassar St / Main St</td>\n",
       "      <td>Cambridge St - at Columbia St / Webster Ave</td>\n",
       "      <td>648</td>\n",
       "      <td>Subscriber</td>\n",
       "      <td>438.0</td>\n",
       "      <td>42.361962</td>\n",
       "      <td>-71.092053</td>\n",
       "      <td>42.372969</td>\n",
       "      <td>-71.094445</td>\n",
       "    </tr>\n",
       "    <tr>\n",
       "      <th>2</th>\n",
       "      <td>2015-01-01 00:31:31</td>\n",
       "      <td>2015-01-01 00:35:46</td>\n",
       "      <td>91</td>\n",
       "      <td>68</td>\n",
       "      <td>One Kendall Square at Hampshire St / Portland St</td>\n",
       "      <td>Central Square at Mass Ave / Essex St</td>\n",
       "      <td>555</td>\n",
       "      <td>Subscriber</td>\n",
       "      <td>255.0</td>\n",
       "      <td>42.366277</td>\n",
       "      <td>-71.091690</td>\n",
       "      <td>42.365070</td>\n",
       "      <td>-71.103100</td>\n",
       "    </tr>\n",
       "    <tr>\n",
       "      <th>3</th>\n",
       "      <td>2015-01-01 00:53:46</td>\n",
       "      <td>2015-01-01 01:00:58</td>\n",
       "      <td>115</td>\n",
       "      <td>96</td>\n",
       "      <td>Porter Square Station</td>\n",
       "      <td>Cambridge Main Library at Broadway / Trowbridg...</td>\n",
       "      <td>1307</td>\n",
       "      <td>Subscriber</td>\n",
       "      <td>432.0</td>\n",
       "      <td>42.387995</td>\n",
       "      <td>-71.119084</td>\n",
       "      <td>42.373379</td>\n",
       "      <td>-71.111075</td>\n",
       "    </tr>\n",
       "    <tr>\n",
       "      <th>4</th>\n",
       "      <td>2015-01-01 01:07:06</td>\n",
       "      <td>2015-01-01 01:19:21</td>\n",
       "      <td>105</td>\n",
       "      <td>88</td>\n",
       "      <td>Lower Cambridgeport at Magazine St/Riverside Rd</td>\n",
       "      <td>Inman Square at Vellucci Plaza / Hampshire St</td>\n",
       "      <td>177</td>\n",
       "      <td>Customer</td>\n",
       "      <td>735.0</td>\n",
       "      <td>42.356954</td>\n",
       "      <td>-71.113687</td>\n",
       "      <td>42.374035</td>\n",
       "      <td>-71.101427</td>\n",
       "    </tr>\n",
       "  </tbody>\n",
       "</table>\n",
       "</div>"
      ],
      "text/plain": [
       "           start_time            end_time  start_station_id  end_station_id  \\\n",
       "0 2015-01-01 00:21:44 2015-01-01 00:30:47               115              96   \n",
       "1 2015-01-01 00:27:03 2015-01-01 00:34:21                80              95   \n",
       "2 2015-01-01 00:31:31 2015-01-01 00:35:46                91              68   \n",
       "3 2015-01-01 00:53:46 2015-01-01 01:00:58               115              96   \n",
       "4 2015-01-01 01:07:06 2015-01-01 01:19:21               105              88   \n",
       "\n",
       "                                 start_station_name  \\\n",
       "0                             Porter Square Station   \n",
       "1           MIT Stata Center at Vassar St / Main St   \n",
       "2  One Kendall Square at Hampshire St / Portland St   \n",
       "3                             Porter Square Station   \n",
       "4   Lower Cambridgeport at Magazine St/Riverside Rd   \n",
       "\n",
       "                                    end_station_name  bike_id   user_type  \\\n",
       "0  Cambridge Main Library at Broadway / Trowbridg...      277  Subscriber   \n",
       "1        Cambridge St - at Columbia St / Webster Ave      648  Subscriber   \n",
       "2              Central Square at Mass Ave / Essex St      555  Subscriber   \n",
       "3  Cambridge Main Library at Broadway / Trowbridg...     1307  Subscriber   \n",
       "4      Inman Square at Vellucci Plaza / Hampshire St      177    Customer   \n",
       "\n",
       "   trip_length  start_station_latitude  start_station_longitude  \\\n",
       "0        543.0               42.387995               -71.119084   \n",
       "1        438.0               42.361962               -71.092053   \n",
       "2        255.0               42.366277               -71.091690   \n",
       "3        432.0               42.387995               -71.119084   \n",
       "4        735.0               42.356954               -71.113687   \n",
       "\n",
       "   end_station_latitude  end_station_longitude  \n",
       "0             42.373379             -71.111075  \n",
       "1             42.372969             -71.094445  \n",
       "2             42.365070             -71.103100  \n",
       "3             42.373379             -71.111075  \n",
       "4             42.374035             -71.101427  "
      ]
     },
     "execution_count": 43,
     "metadata": {},
     "output_type": "execute_result"
    }
   ],
   "source": [
    "df_boston.head()"
   ]
  },
  {
   "cell_type": "code",
   "execution_count": 44,
   "metadata": {},
   "outputs": [],
   "source": [
    "unique_stations_original=np.unique(np.concatenate((df_boston['start_station_name'].values, df_boston['end_station_name'].values)))\n",
    "unique_stations_external = df_stations_data['Name'].values"
   ]
  },
  {
   "cell_type": "code",
   "execution_count": 45,
   "metadata": {},
   "outputs": [
    {
     "name": "stdout",
     "output_type": "stream",
     "text": [
      "#stations in stations dataset: 130\n",
      "#stations in original dataset: 156\n"
     ]
    }
   ],
   "source": [
    "print(f\"#stations in stations dataset: {len(df_stations_data.loc[df_stations_data['Deployment Year'] < 2015.0])}\")\n",
    "print(f\"#stations in original dataset: {len(unique_stations_original)}\")"
   ]
  },
  {
   "cell_type": "code",
   "execution_count": 46,
   "metadata": {},
   "outputs": [
    {
     "data": {
      "text/plain": [
       "['18 Dorrance Warehouse',\n",
       " 'Agganis Arena - 925 Comm Ave.',\n",
       " 'Allston Green District - Commonwealth Ave & Griggs St',\n",
       " 'Andrew Station - Dorchester Ave at Humboldt Pl',\n",
       " 'Aquarium Station - 200 Atlantic Ave.',\n",
       " 'BIDMC - Brookline at Burlington St',\n",
       " 'Back Bay / South End Station',\n",
       " 'Beacon St / Mass Ave',\n",
       " 'Beacon St at Washington / Kirkland',\n",
       " 'Boston Convention & Exhibition Center',\n",
       " 'Boston Medical Center -  East Concord at Harrison Ave',\n",
       " 'Boston Public Library - 700 Boylston St.',\n",
       " 'Boylston / Mass Ave',\n",
       " 'Boylston St / Berkeley St',\n",
       " 'Boylston St / Washington St',\n",
       " 'Boylston St. at Arlington St.',\n",
       " 'Boylston at Fairfield',\n",
       " 'Brigham Cir / Huntington Ave',\n",
       " 'Brighton Center',\n",
       " 'Brookline Village - Pearl Street @ MBTA',\n",
       " 'Buswell St. at Park Dr.',\n",
       " 'Cambridge St. at Joy St.',\n",
       " 'Charles Circle - Charles St. at Cambridge St.',\n",
       " 'Charles St at Beacon St',\n",
       " 'Charlestown - Main St at Austin St',\n",
       " 'Charlestown - Warren St at Chelsea St',\n",
       " 'Chinatown Gate Plaza - Surface Rd. at Beach St.',\n",
       " 'Christian Science Plaza',\n",
       " 'Colleges of the Fenway',\n",
       " 'Columbus Ave. at Mass. Ave.',\n",
       " 'Congress / Sleeper',\n",
       " 'Coolidge Corner - Beacon St @ Centre St',\n",
       " 'Cross St. at Hanover St.',\n",
       " 'Curtis Hall at South Street',\n",
       " 'Dorchester Ave. at Gillette Park',\n",
       " 'Dudley Square',\n",
       " 'E. Cottage St at Columbia Rd',\n",
       " 'Edwards Playground - Main Street & Eden Street',\n",
       " 'Egleston Square at Columbus Ave',\n",
       " 'Faneuil Hall - Union St. at North St.',\n",
       " 'Franklin Park - Seaver Street at Humbolt Ave',\n",
       " 'Franklin Park Zoo',\n",
       " 'Franklin St. / Arch St.',\n",
       " 'Green St T',\n",
       " 'HMS / HSPH - Ave. Louis Pasteur at Longwood Ave.',\n",
       " 'Harvard Real Estate - Brighton Mills - 370 Western Ave',\n",
       " 'Harvard University Gund Hall at Quincy St / Kirkland S',\n",
       " 'Harvard University Housing - 111 Western Ave. at Soldiers Field Park ',\n",
       " 'Harvard University Transportation Services - 175 North Harvard St',\n",
       " 'Hayes Square at Vine St.',\n",
       " 'Heath St at South Huntington',\n",
       " 'Hyde Square at Barbara St',\n",
       " 'Ink Block',\n",
       " 'Inman Square at Vellucci Plaza / Hampshire St',\n",
       " 'Innovation Lab - 125 Western Ave. at Batten Way',\n",
       " 'JFK / UMASS at MBTA Station',\n",
       " 'JP Center - Centre Street at Myrtle Street',\n",
       " 'Jackson Square T at Centre St',\n",
       " 'John F Fitzgerald - Surface Road at India Street',\n",
       " 'Kenmore Sq / Comm Ave',\n",
       " 'Landmark Centre',\n",
       " 'Lawn on D',\n",
       " 'Lewis Wharf - Atlantic Ave.',\n",
       " 'Longwood Ave / Binney St',\n",
       " 'Lower Cambridgeport at Magazine St/Riverside Rd',\n",
       " 'Mass Ave at Newmarket Square',\n",
       " 'Mayor Martin J Walsh - 28 State St',\n",
       " 'Mt Pleasant Ave / Dudley Town Common',\n",
       " 'New Balance - 20 Guest St.',\n",
       " 'New Balance Store - Boylston at Dartmouth',\n",
       " 'Newbury St / Hereford St',\n",
       " 'Northeastern U / North Parking Lot',\n",
       " 'Packard Ave / Powderhouse Blvd',\n",
       " \"Packard's Corner - Comm. Ave. at Brighton Ave.\",\n",
       " 'Prudential Center / Belvidere',\n",
       " 'Rowes Wharf - Atlantic Ave',\n",
       " 'Roxbury Crossing Station',\n",
       " 'Ruggles Station / Columbus Ave.',\n",
       " 'Ryan Playground - Dorchester Avenue Station',\n",
       " 'Seaport Hotel',\n",
       " 'Seaport Square - Seaport Blvd. at Boston Wharf',\n",
       " 'Somerville Hospital at Highland Ave / Crocker St',\n",
       " 'South Boston Library - 646 East Broadway',\n",
       " 'South Station - 700 Atlantic Ave.',\n",
       " 'Stuart St. at Charles St.',\n",
       " 'Summer St at Cutter St',\n",
       " 'TD Garden - Causeway at Portal Park #1',\n",
       " 'TD Garden - Causeway at Portal Park #2',\n",
       " 'Teele Square at 239 Holland St',\n",
       " 'The Esplanade - Beacon St. at Arlington St.',\n",
       " 'Tremont St / W Newton St',\n",
       " 'Tremont St / West St',\n",
       " 'Tremont St. at Berkeley St.',\n",
       " 'UMass Boston Integrated Sciences Complex',\n",
       " 'Union Square - Brighton Ave. at Cambridge St.',\n",
       " \"Upham's Corner - Ramsey St at Dudley St\",\n",
       " 'Washington Square at Washington St. / Beacon St.',\n",
       " 'Washington St. at Lenox St.',\n",
       " 'Washington St. at Rutland St.',\n",
       " 'Washington St. at Waltham St.',\n",
       " 'Wentworth Institute of Technology',\n",
       " 'West Broadway at D Street',\n",
       " 'West Broadway at Dorchester St',\n",
       " 'Yawkey Way at Boylston St.']"
      ]
     },
     "execution_count": 46,
     "metadata": {},
     "output_type": "execute_result"
    }
   ],
   "source": [
    "stations_no_match = list(filter(lambda x: not(np.any(unique_stations_external == x)), unique_stations_original))\n",
    "len(stations_no_match)\n",
    "\n",
    "stations_no_match\n"
   ]
  },
  {
   "cell_type": "code",
   "execution_count": 47,
   "metadata": {},
   "outputs": [
    {
     "data": {
      "text/plain": [
       "['359 Broadway - Broadway at Fayette Street',\n",
       " 'Alewife Station at Russell Field',\n",
       " 'Ames St at Main St',\n",
       " 'B.U. Central - 725 Comm. Ave.',\n",
       " 'Binney St / Sixth St',\n",
       " 'Bunker Hill Community College',\n",
       " 'Cambridge Main Library at Broadway / Trowbridge St',\n",
       " 'Cambridge St - at Columbia St / Webster Ave',\n",
       " 'CambridgeSide Galleria - CambridgeSide PL at Land Blvd',\n",
       " 'Central Sq Post Office / Cambridge City Hall at Mass Ave / Pleasant St',\n",
       " 'Central Square at Mass Ave / Essex St',\n",
       " 'Conway Park - Somerville Avenue',\n",
       " 'Dana Park',\n",
       " 'Danehy Park',\n",
       " 'Davis Square',\n",
       " 'EF - North Point Park',\n",
       " 'Fan Pier',\n",
       " 'Harvard Kennedy School at Bennett St / Eliot St',\n",
       " 'Harvard Law School at Mass Ave / Jarvis St',\n",
       " 'Harvard Square at Brattle St / Eliot St',\n",
       " 'Harvard Square at Mass Ave/ Dunster',\n",
       " 'Harvard University / SEAS Cruft-Pierce Halls at 29 Oxford St',\n",
       " 'Harvard University Housing - 115 Putnam Ave at Peabody Terrace',\n",
       " 'Harvard University Radcliffe Quadrangle at Shepard St / Garden St',\n",
       " 'Harvard University River Houses at DeWolfe St / Cowperthwaite St',\n",
       " 'ID Building East',\n",
       " 'ID Building West',\n",
       " 'JFK Crossing at Harvard St. / Thorndike St.',\n",
       " 'Kendall Street',\n",
       " 'Lafayette Square at Mass Ave / Main St / Columbia St',\n",
       " 'Lechmere Station at Cambridge St / First St',\n",
       " 'Lesley University',\n",
       " 'Linear Park - Mass. Ave. at Cameron Ave. ',\n",
       " 'MIT Pacific St at Purrington St',\n",
       " 'MIT Stata Center at Vassar St / Main St',\n",
       " 'MIT Vassar St',\n",
       " 'MIT at Mass Ave / Amherst St',\n",
       " 'Magoun Square at Trum Field',\n",
       " 'Mt Auburn',\n",
       " 'One Broadway / Kendall Sq at Main St / 3rd St',\n",
       " 'One Kendall Square at Hampshire St / Portland St',\n",
       " 'Porter Square Station',\n",
       " 'Post Office Square',\n",
       " 'Powder House Circle - Nathan Tufts Park',\n",
       " \"Rindge Avenue - O'Neill Library\",\n",
       " 'Somerville City Hall',\n",
       " 'Spaulding Rehabilitation Hospital - Charlestown Navy Yard',\n",
       " 'State Street at Channel Center',\n",
       " 'Union Square - Somerville',\n",
       " 'University Park',\n",
       " 'Washington St at Brock St',\n",
       " 'Wilson Square']"
      ]
     },
     "execution_count": 47,
     "metadata": {},
     "output_type": "execute_result"
    }
   ],
   "source": [
    "stations_match = list(filter(lambda x: np.any(unique_stations_external == x), unique_stations_original))\n",
    "stations_match"
   ]
  },
  {
   "attachments": {},
   "cell_type": "markdown",
   "metadata": {},
   "source": [
    "# Plot start & end stations"
   ]
  },
  {
   "cell_type": "code",
   "execution_count": 48,
   "metadata": {},
   "outputs": [
    {
     "data": {
      "text/html": [
       "<div>\n",
       "<style scoped>\n",
       "    .dataframe tbody tr th:only-of-type {\n",
       "        vertical-align: middle;\n",
       "    }\n",
       "\n",
       "    .dataframe tbody tr th {\n",
       "        vertical-align: top;\n",
       "    }\n",
       "\n",
       "    .dataframe thead th {\n",
       "        text-align: right;\n",
       "    }\n",
       "</style>\n",
       "<table border=\"1\" class=\"dataframe\">\n",
       "  <thead>\n",
       "    <tr style=\"text-align: right;\">\n",
       "      <th></th>\n",
       "      <th>start_time</th>\n",
       "      <th>end_time</th>\n",
       "      <th>start_station_id</th>\n",
       "      <th>end_station_id</th>\n",
       "      <th>start_station_name</th>\n",
       "      <th>end_station_name</th>\n",
       "      <th>bike_id</th>\n",
       "      <th>user_type</th>\n",
       "      <th>trip_length</th>\n",
       "      <th>start_station_latitude</th>\n",
       "      <th>start_station_longitude</th>\n",
       "      <th>end_station_latitude</th>\n",
       "      <th>end_station_longitude</th>\n",
       "    </tr>\n",
       "  </thead>\n",
       "  <tbody>\n",
       "    <tr>\n",
       "      <th>0</th>\n",
       "      <td>2015-01-01 00:21:44</td>\n",
       "      <td>2015-01-01 00:30:47</td>\n",
       "      <td>115</td>\n",
       "      <td>96</td>\n",
       "      <td>Porter Square Station</td>\n",
       "      <td>Cambridge Main Library at Broadway / Trowbridg...</td>\n",
       "      <td>277</td>\n",
       "      <td>Subscriber</td>\n",
       "      <td>543.0</td>\n",
       "      <td>42.387995</td>\n",
       "      <td>-71.119084</td>\n",
       "      <td>42.373379</td>\n",
       "      <td>-71.111075</td>\n",
       "    </tr>\n",
       "    <tr>\n",
       "      <th>1</th>\n",
       "      <td>2015-01-01 00:27:03</td>\n",
       "      <td>2015-01-01 00:34:21</td>\n",
       "      <td>80</td>\n",
       "      <td>95</td>\n",
       "      <td>MIT Stata Center at Vassar St / Main St</td>\n",
       "      <td>Cambridge St - at Columbia St / Webster Ave</td>\n",
       "      <td>648</td>\n",
       "      <td>Subscriber</td>\n",
       "      <td>438.0</td>\n",
       "      <td>42.361962</td>\n",
       "      <td>-71.092053</td>\n",
       "      <td>42.372969</td>\n",
       "      <td>-71.094445</td>\n",
       "    </tr>\n",
       "    <tr>\n",
       "      <th>2</th>\n",
       "      <td>2015-01-01 00:31:31</td>\n",
       "      <td>2015-01-01 00:35:46</td>\n",
       "      <td>91</td>\n",
       "      <td>68</td>\n",
       "      <td>One Kendall Square at Hampshire St / Portland St</td>\n",
       "      <td>Central Square at Mass Ave / Essex St</td>\n",
       "      <td>555</td>\n",
       "      <td>Subscriber</td>\n",
       "      <td>255.0</td>\n",
       "      <td>42.366277</td>\n",
       "      <td>-71.091690</td>\n",
       "      <td>42.365070</td>\n",
       "      <td>-71.103100</td>\n",
       "    </tr>\n",
       "    <tr>\n",
       "      <th>3</th>\n",
       "      <td>2015-01-01 00:53:46</td>\n",
       "      <td>2015-01-01 01:00:58</td>\n",
       "      <td>115</td>\n",
       "      <td>96</td>\n",
       "      <td>Porter Square Station</td>\n",
       "      <td>Cambridge Main Library at Broadway / Trowbridg...</td>\n",
       "      <td>1307</td>\n",
       "      <td>Subscriber</td>\n",
       "      <td>432.0</td>\n",
       "      <td>42.387995</td>\n",
       "      <td>-71.119084</td>\n",
       "      <td>42.373379</td>\n",
       "      <td>-71.111075</td>\n",
       "    </tr>\n",
       "    <tr>\n",
       "      <th>4</th>\n",
       "      <td>2015-01-01 01:07:06</td>\n",
       "      <td>2015-01-01 01:19:21</td>\n",
       "      <td>105</td>\n",
       "      <td>88</td>\n",
       "      <td>Lower Cambridgeport at Magazine St/Riverside Rd</td>\n",
       "      <td>Inman Square at Vellucci Plaza / Hampshire St</td>\n",
       "      <td>177</td>\n",
       "      <td>Customer</td>\n",
       "      <td>735.0</td>\n",
       "      <td>42.356954</td>\n",
       "      <td>-71.113687</td>\n",
       "      <td>42.374035</td>\n",
       "      <td>-71.101427</td>\n",
       "    </tr>\n",
       "  </tbody>\n",
       "</table>\n",
       "</div>"
      ],
      "text/plain": [
       "           start_time            end_time  start_station_id  end_station_id  \\\n",
       "0 2015-01-01 00:21:44 2015-01-01 00:30:47               115              96   \n",
       "1 2015-01-01 00:27:03 2015-01-01 00:34:21                80              95   \n",
       "2 2015-01-01 00:31:31 2015-01-01 00:35:46                91              68   \n",
       "3 2015-01-01 00:53:46 2015-01-01 01:00:58               115              96   \n",
       "4 2015-01-01 01:07:06 2015-01-01 01:19:21               105              88   \n",
       "\n",
       "                                 start_station_name  \\\n",
       "0                             Porter Square Station   \n",
       "1           MIT Stata Center at Vassar St / Main St   \n",
       "2  One Kendall Square at Hampshire St / Portland St   \n",
       "3                             Porter Square Station   \n",
       "4   Lower Cambridgeport at Magazine St/Riverside Rd   \n",
       "\n",
       "                                    end_station_name  bike_id   user_type  \\\n",
       "0  Cambridge Main Library at Broadway / Trowbridg...      277  Subscriber   \n",
       "1        Cambridge St - at Columbia St / Webster Ave      648  Subscriber   \n",
       "2              Central Square at Mass Ave / Essex St      555  Subscriber   \n",
       "3  Cambridge Main Library at Broadway / Trowbridg...     1307  Subscriber   \n",
       "4      Inman Square at Vellucci Plaza / Hampshire St      177    Customer   \n",
       "\n",
       "   trip_length  start_station_latitude  start_station_longitude  \\\n",
       "0        543.0               42.387995               -71.119084   \n",
       "1        438.0               42.361962               -71.092053   \n",
       "2        255.0               42.366277               -71.091690   \n",
       "3        432.0               42.387995               -71.119084   \n",
       "4        735.0               42.356954               -71.113687   \n",
       "\n",
       "   end_station_latitude  end_station_longitude  \n",
       "0             42.373379             -71.111075  \n",
       "1             42.372969             -71.094445  \n",
       "2             42.365070             -71.103100  \n",
       "3             42.373379             -71.111075  \n",
       "4             42.374035             -71.101427  "
      ]
     },
     "execution_count": 48,
     "metadata": {},
     "output_type": "execute_result"
    }
   ],
   "source": [
    "len(df_boston)\n",
    "df_boston.head()"
   ]
  },
  {
   "cell_type": "code",
   "execution_count": 49,
   "metadata": {},
   "outputs": [],
   "source": [
    "df_start = df_boston.groupby(['start_station_id','start_station_latitude', 'start_station_longitude']).size().reset_index(name='counts_start')"
   ]
  },
  {
   "cell_type": "code",
   "execution_count": 50,
   "metadata": {},
   "outputs": [],
   "source": [
    "df_end = df_boston.groupby(['end_station_id','end_station_latitude', 'end_station_longitude']).size().reset_index(name='counts_end')"
   ]
  },
  {
   "cell_type": "code",
   "execution_count": 51,
   "metadata": {},
   "outputs": [
    {
     "data": {
      "text/html": [
       "<div>\n",
       "<style scoped>\n",
       "    .dataframe tbody tr th:only-of-type {\n",
       "        vertical-align: middle;\n",
       "    }\n",
       "\n",
       "    .dataframe tbody tr th {\n",
       "        vertical-align: top;\n",
       "    }\n",
       "\n",
       "    .dataframe thead th {\n",
       "        text-align: right;\n",
       "    }\n",
       "</style>\n",
       "<table border=\"1\" class=\"dataframe\">\n",
       "  <thead>\n",
       "    <tr style=\"text-align: right;\">\n",
       "      <th></th>\n",
       "      <th>start_station_id</th>\n",
       "      <th>start_station_latitude</th>\n",
       "      <th>start_station_longitude</th>\n",
       "      <th>counts_start</th>\n",
       "      <th>count_end</th>\n",
       "      <th>ratio</th>\n",
       "    </tr>\n",
       "  </thead>\n",
       "  <tbody>\n",
       "    <tr>\n",
       "      <th>count</th>\n",
       "      <td>156.000000</td>\n",
       "      <td>156.000000</td>\n",
       "      <td>156.000000</td>\n",
       "      <td>156.000000</td>\n",
       "      <td>156.000000</td>\n",
       "      <td>156.000000</td>\n",
       "    </tr>\n",
       "    <tr>\n",
       "      <th>mean</th>\n",
       "      <td>85.314103</td>\n",
       "      <td>42.355539</td>\n",
       "      <td>-71.089556</td>\n",
       "      <td>7195.878205</td>\n",
       "      <td>7195.878205</td>\n",
       "      <td>1.018733</td>\n",
       "    </tr>\n",
       "    <tr>\n",
       "      <th>std</th>\n",
       "      <td>49.862754</td>\n",
       "      <td>0.021187</td>\n",
       "      <td>0.028647</td>\n",
       "      <td>5680.263408</td>\n",
       "      <td>5803.203988</td>\n",
       "      <td>0.120328</td>\n",
       "    </tr>\n",
       "    <tr>\n",
       "      <th>min</th>\n",
       "      <td>1.000000</td>\n",
       "      <td>42.303469</td>\n",
       "      <td>-71.160411</td>\n",
       "      <td>46.000000</td>\n",
       "      <td>39.000000</td>\n",
       "      <td>0.363636</td>\n",
       "    </tr>\n",
       "    <tr>\n",
       "      <th>25%</th>\n",
       "      <td>43.750000</td>\n",
       "      <td>42.343900</td>\n",
       "      <td>-71.113428</td>\n",
       "      <td>2832.500000</td>\n",
       "      <td>2611.000000</td>\n",
       "      <td>0.968435</td>\n",
       "    </tr>\n",
       "    <tr>\n",
       "      <th>50%</th>\n",
       "      <td>84.500000</td>\n",
       "      <td>42.354157</td>\n",
       "      <td>-71.090935</td>\n",
       "      <td>6300.500000</td>\n",
       "      <td>6254.500000</td>\n",
       "      <td>1.005770</td>\n",
       "    </tr>\n",
       "    <tr>\n",
       "      <th>75%</th>\n",
       "      <td>124.250000</td>\n",
       "      <td>42.369364</td>\n",
       "      <td>-71.065351</td>\n",
       "      <td>10356.500000</td>\n",
       "      <td>10565.500000</td>\n",
       "      <td>1.053639</td>\n",
       "    </tr>\n",
       "    <tr>\n",
       "      <th>max</th>\n",
       "      <td>180.000000</td>\n",
       "      <td>42.404490</td>\n",
       "      <td>-71.028664</td>\n",
       "      <td>30798.000000</td>\n",
       "      <td>31284.000000</td>\n",
       "      <td>1.625000</td>\n",
       "    </tr>\n",
       "  </tbody>\n",
       "</table>\n",
       "</div>"
      ],
      "text/plain": [
       "       start_station_id  start_station_latitude  start_station_longitude  \\\n",
       "count        156.000000              156.000000               156.000000   \n",
       "mean          85.314103               42.355539               -71.089556   \n",
       "std           49.862754                0.021187                 0.028647   \n",
       "min            1.000000               42.303469               -71.160411   \n",
       "25%           43.750000               42.343900               -71.113428   \n",
       "50%           84.500000               42.354157               -71.090935   \n",
       "75%          124.250000               42.369364               -71.065351   \n",
       "max          180.000000               42.404490               -71.028664   \n",
       "\n",
       "       counts_start     count_end       ratio  \n",
       "count    156.000000    156.000000  156.000000  \n",
       "mean    7195.878205   7195.878205    1.018733  \n",
       "std     5680.263408   5803.203988    0.120328  \n",
       "min       46.000000     39.000000    0.363636  \n",
       "25%     2832.500000   2611.000000    0.968435  \n",
       "50%     6300.500000   6254.500000    1.005770  \n",
       "75%    10356.500000  10565.500000    1.053639  \n",
       "max    30798.000000  31284.000000    1.625000  "
      ]
     },
     "execution_count": 51,
     "metadata": {},
     "output_type": "execute_result"
    }
   ],
   "source": [
    "df_start = df_start.sort_values('start_station_id')\n",
    "df_end = df_end.sort_values('end_station_id')\n",
    "\n",
    "df_ratio = df_start.copy()\n",
    "df_ratio['count_end'] = df_end['counts_end']\n",
    "df_ratio[\"ratio\"] = df_start['counts_start']/df_end['counts_end']\n",
    "\n",
    "\n",
    "df_ratio.sort_values('ratio').describe()\n"
   ]
  },
  {
   "cell_type": "code",
   "execution_count": 52,
   "metadata": {},
   "outputs": [
    {
     "data": {
      "text/html": [
       "<div>\n",
       "<style scoped>\n",
       "    .dataframe tbody tr th:only-of-type {\n",
       "        vertical-align: middle;\n",
       "    }\n",
       "\n",
       "    .dataframe tbody tr th {\n",
       "        vertical-align: top;\n",
       "    }\n",
       "\n",
       "    .dataframe thead th {\n",
       "        text-align: right;\n",
       "    }\n",
       "</style>\n",
       "<table border=\"1\" class=\"dataframe\">\n",
       "  <thead>\n",
       "    <tr style=\"text-align: right;\">\n",
       "      <th></th>\n",
       "      <th>start_station_id</th>\n",
       "      <th>start_station_latitude</th>\n",
       "      <th>start_station_longitude</th>\n",
       "      <th>counts_start</th>\n",
       "      <th>total_rides</th>\n",
       "      <th>share</th>\n",
       "    </tr>\n",
       "  </thead>\n",
       "  <tbody>\n",
       "    <tr>\n",
       "      <th>19</th>\n",
       "      <td>22</td>\n",
       "      <td>42.352175</td>\n",
       "      <td>-71.055547</td>\n",
       "      <td>30798</td>\n",
       "      <td>62082</td>\n",
       "      <td>2.765205</td>\n",
       "    </tr>\n",
       "    <tr>\n",
       "      <th>61</th>\n",
       "      <td>67</td>\n",
       "      <td>42.358100</td>\n",
       "      <td>-71.093198</td>\n",
       "      <td>29597</td>\n",
       "      <td>59502</td>\n",
       "      <td>2.650289</td>\n",
       "    </tr>\n",
       "    <tr>\n",
       "      <th>68</th>\n",
       "      <td>74</td>\n",
       "      <td>42.373268</td>\n",
       "      <td>-71.118579</td>\n",
       "      <td>22679</td>\n",
       "      <td>46269</td>\n",
       "      <td>2.060875</td>\n",
       "    </tr>\n",
       "    <tr>\n",
       "      <th>62</th>\n",
       "      <td>68</td>\n",
       "      <td>42.365070</td>\n",
       "      <td>-71.103100</td>\n",
       "      <td>21444</td>\n",
       "      <td>42330</td>\n",
       "      <td>1.885428</td>\n",
       "    </tr>\n",
       "    <tr>\n",
       "      <th>101</th>\n",
       "      <td>109</td>\n",
       "      <td>42.365942</td>\n",
       "      <td>-71.060515</td>\n",
       "      <td>18678</td>\n",
       "      <td>39202</td>\n",
       "      <td>1.746103</td>\n",
       "    </tr>\n",
       "  </tbody>\n",
       "</table>\n",
       "</div>"
      ],
      "text/plain": [
       "     start_station_id  start_station_latitude  start_station_longitude  \\\n",
       "19                 22               42.352175               -71.055547   \n",
       "61                 67               42.358100               -71.093198   \n",
       "68                 74               42.373268               -71.118579   \n",
       "62                 68               42.365070               -71.103100   \n",
       "101               109               42.365942               -71.060515   \n",
       "\n",
       "     counts_start  total_rides     share  \n",
       "19          30798        62082  2.765205  \n",
       "61          29597        59502  2.650289  \n",
       "68          22679        46269  2.060875  \n",
       "62          21444        42330  1.885428  \n",
       "101         18678        39202  1.746103  "
      ]
     },
     "execution_count": 52,
     "metadata": {},
     "output_type": "execute_result"
    }
   ],
   "source": [
    "df_station_share = df_start.copy()\n",
    "df_station_share['total_rides'] = df_start['counts_start'] + df_end['counts_end']\n",
    "yearly_total_rides = sum(df_station_share['total_rides'])\n",
    "df_station_share['share'] = (df_station_share['total_rides'] / yearly_total_rides)*100\n",
    "df_station_share.sort_values('share', ascending=False).head(5)"
   ]
  },
  {
   "cell_type": "code",
   "execution_count": 53,
   "metadata": {},
   "outputs": [
    {
     "ename": "NameError",
     "evalue": "name 'sns' is not defined",
     "output_type": "error",
     "traceback": [
      "\u001B[0;31m---------------------------------------------------------------------------\u001B[0m",
      "\u001B[0;31mNameError\u001B[0m                                 Traceback (most recent call last)",
      "Cell \u001B[0;32mIn [53], line 1\u001B[0m\n\u001B[0;32m----> 1\u001B[0m sns\u001B[39m.\u001B[39mbarplot(df_station_share\u001B[39m.\u001B[39mloc[df_station_share[\u001B[39m'\u001B[39m\u001B[39mcounts_start\u001B[39m\u001B[39m'\u001B[39m] \u001B[39m>\u001B[39m \u001B[39m15000\u001B[39m ], x \u001B[39m=\u001B[39m \u001B[39m\"\u001B[39m\u001B[39mstart_station_id\u001B[39m\u001B[39m\"\u001B[39m, y \u001B[39m=\u001B[39m \u001B[39m\"\u001B[39m\u001B[39mshare\u001B[39m\u001B[39m\"\u001B[39m )\n",
      "\u001B[0;31mNameError\u001B[0m: name 'sns' is not defined"
     ]
    }
   ],
   "source": [
    "sns.barplot(df_station_share.loc[df_station_share['counts_start'] > 15000 ], x = \"start_station_id\", y = \"share\" )"
   ]
  },
  {
   "cell_type": "code",
   "execution_count": null,
   "metadata": {},
   "outputs": [],
   "source": [
    "import plotly.express as px"
   ]
  },
  {
   "cell_type": "code",
   "execution_count": null,
   "metadata": {},
   "outputs": [
    {
     "data": {
      "application/vnd.plotly.v1+json": {
       "config": {
        "plotlyServerURL": "https://plot.ly"
       },
       "data": [
        {
         "hovertemplate": "counts_start=%{marker.color}<br>start_station_latitude=%{lat}<br>start_station_longitude=%{lon}<extra></extra>",
         "lat": [
          42.387151,
          42.340021,
          42.345392,
          42.341814,
          42.361174,
          42.35328743453294,
          42.353334,
          42.351246,
          42.350406,
          42.338629,
          42.335911,
          42.336437,
          42.337171,
          42.361667,
          42.34807412317439,
          42.365064,
          42.347241,
          42.35977,
          42.345959,
          42.352175,
          42.35892,
          42.351205,
          42.341332,
          42.341522,
          42.331184,
          42.363732,
          42.334073,
          42.348833,
          42.343912,
          42.348706,
          42.355402,
          42.349673,
          42.357402,
          42.366222,
          42.338623,
          42.363871,
          42.352261,
          42.352033,
          42.357143,
          42.360613,
          42.344706,
          42.343864,
          42.362811,
          42.356755,
          42.351146,
          42.350989,
          42.3348756,
          42.348717,
          42.350851,
          42.354979,
          42.347265,
          42.328654,
          42.340799,
          42.355596,
          42.351356,
          42.360835,
          42.348762,
          42.344023,
          42.3511,
          42.3475,
          42.348607,
          42.3581,
          42.36507,
          42.341598,
          42.371196,
          42.383405,
          42.362613,
          42.373231,
          42.373268,
          42.36346469304347,
          42.366426,
          42.386844,
          42.379637,
          42.37842,
          42.3619622,
          42.352409,
          42.339335,
          42.366981,
          42.378338,
          42.332799,
          42.366621,
          42.374035,
          42.379011,
          42.370677,
          42.366277,
          42.314507,
          42.320494,
          42.375603,
          42.372969,
          42.373379,
          42.36919031768079,
          42.371848,
          42.385582,
          42.396969,
          42.400877,
          42.346563,
          42.380287,
          42.356954,
          42.325333,
          42.3625,
          42.377945,
          42.365942,
          42.376369,
          42.40449,
          42.39082,
          42.330716,
          42.402763,
          42.387995,
          42.370803,
          42.366095,
          42.397828,
          42.335741,
          42.356052,
          42.335693,
          42.345733,
          42.313156,
          42.309054,
          42.320998,
          42.315692,
          42.320561,
          42.377022,
          42.317225,
          42.322701,
          42.394002,
          42.310579,
          42.350413,
          42.344827,
          42.344796,
          42.398365,
          42.326599,
          42.361589,
          42.388966,
          42.36356015842989,
          42.396105,
          42.369885,
          42.392766,
          42.363796,
          42.344137,
          42.358155,
          42.345901,
          42.32797270205962,
          42.337596,
          42.3391085,
          42.309796,
          42.344792,
          42.317642,
          42.378965,
          42.303469,
          42.37408991426522,
          42.34900494405213,
          42.34894857235593,
          42.38674802045056,
          42.36264779118595,
          42.35957320109044,
          42.35560121327927,
          42.37478628706384
         ],
         "legendgroup": "",
         "lon": [
          -71.075978,
          -71.100812,
          -71.069616,
          -71.090179,
          -71.065142,
          -71.04438900947571,
          -71.137313,
          -71.115639,
          -71.108279,
          -71.1065,
          -71.088496,
          -71.073089,
          -71.102797,
          -71.13802,
          -71.07657015323639,
          -71.119233,
          -71.105301,
          -71.051601,
          -71.082578,
          -71.055547,
          -71.057629,
          -71.043983,
          -71.076847,
          -71.068922,
          -71.095171,
          -71.124565,
          -71.105221,
          -71.041747,
          -71.102221,
          -71.097009,
          -71.058087,
          -71.077303,
          -71.147782,
          -71.059914,
          -71.074182,
          -71.050877,
          -71.123831,
          -71.070627,
          -71.050699,
          -71.057452,
          -71.097515,
          -71.085918,
          -71.056067,
          -71.055407,
          -71.066289,
          -71.073644,
          -71.0790969,
          -71.085954,
          -71.089886,
          -71.063348,
          -71.088088,
          -71.084198,
          -71.081572,
          -71.07278,
          -71.059367,
          -71.0708399,
          -71.082383,
          -71.057054,
          -71.0496,
          -71.0441,
          -71.13401,
          -71.093198,
          -71.1031,
          -71.123338,
          -71.121473,
          -71.107593,
          -71.084105,
          -71.120886,
          -71.118579,
          -71.10057324171066,
          -71.105495,
          -71.09812,
          -71.095319,
          -71.105668,
          -71.0920526,
          -71.062679,
          -71.13493,
          -71.076472,
          -71.048927,
          -71.116205,
          -71.114214,
          -71.101427,
          -71.119945,
          -71.076529,
          -71.09169,
          -71.041269,
          -71.051122,
          -71.064608,
          -71.094445,
          -71.111075,
          -71.11714124679565,
          -71.060292,
          -71.113341,
          -71.123024,
          -71.116772,
          -71.128374,
          -71.125107,
          -71.113687,
          -71.075354,
          -71.08822,
          -71.116865,
          -71.060515,
          -71.114025,
          -71.123413,
          -71.10942,
          -71.057044,
          -71.126908,
          -71.119084,
          -71.104412,
          -71.086388,
          -71.130516,
          -71.03877,
          -71.069849,
          -71.045859,
          -71.100694,
          -71.11414,
          -71.11543,
          -71.110833,
          -71.098634,
          -71.06198,
          -71.056605,
          -71.065421,
          -71.099533,
          -71.120406,
          -71.107341,
          -71.07655,
          -71.028664,
          -71.031614,
          -71.107818,
          -71.066498,
          -71.107437,
          -71.132788,
          -71.08216792345047,
          -71.139459,
          -71.069957,
          -71.129042,
          -71.129164,
          -71.052608,
          -71.052163,
          -71.063187,
          -71.11089706420898,
          -71.096391,
          -71.0514432,
          -71.092225,
          -71.044024,
          -71.056664,
          -71.068607,
          -71.085347,
          -71.06905996799469,
          -71.1604106426239,
          -71.15027189254761,
          -71.11901879310608,
          -71.10006093978882,
          -71.10129475593567,
          -71.10394477844238,
          -71.13320231437683
         ],
         "marker": {
          "color": [
           56,
           5018,
           9512,
           6175,
           13018,
           4725,
           3692,
           8505,
           7237,
           7868,
           6364,
           8917,
           9529,
           2028,
           16706,
           6540,
           6841,
           12324,
           12611,
           30798,
           14419,
           6591,
           8093,
           9105,
           4285,
           3088,
           5292,
           7414,
           7761,
           14515,
           10305,
           19291,
           1246,
           11839,
           9377,
           11232,
           7826,
           13130,
           12612,
           7356,
           9788,
           11884,
           14686,
           10844,
           7703,
           8869,
           2833,
           10405,
           13867,
           12413,
           11334,
           1636,
           8677,
           13212,
           8346,
           17291,
           12654,
           3568,
           9623,
           4774,
           5126,
           29597,
           21444,
           6215,
           7916,
           5321,
           14491,
           10572,
           22679,
           19367,
           14245,
           2052,
           6237,
           4618,
           16882,
           10343,
           3194,
           10120,
           4964,
           4017,
           10039,
           13272,
           6395,
           10910,
           14141,
           658,
           1442,
           6064,
           10397,
           9764,
           6178,
           11411,
           3758,
           10176,
           1700,
           3348,
           6415,
           11253,
           624,
           14748,
           7825,
           18678,
           9458,
           1861,
           2387,
           2688,
           3258,
           10712,
           9162,
           7060,
           5649,
           4382,
           9357,
           4898,
           2891,
           2096,
           2071,
           3458,
           1148,
           703,
           2447,
           761,
           3141,
           1565,
           3154,
           5766,
           3260,
           3906,
           1266,
           1196,
           5896,
           2831,
           6607,
           3537,
           5875,
           1452,
           5127,
           5196,
           7137,
           5773,
           192,
           748,
           706,
           65,
           558,
           88,
           653,
           46,
           280,
           116,
           240,
           287,
           858,
           1197,
           894,
           253
          ],
          "coloraxis": "coloraxis",
          "size": [
           56,
           5018,
           9512,
           6175,
           13018,
           4725,
           3692,
           8505,
           7237,
           7868,
           6364,
           8917,
           9529,
           2028,
           16706,
           6540,
           6841,
           12324,
           12611,
           30798,
           14419,
           6591,
           8093,
           9105,
           4285,
           3088,
           5292,
           7414,
           7761,
           14515,
           10305,
           19291,
           1246,
           11839,
           9377,
           11232,
           7826,
           13130,
           12612,
           7356,
           9788,
           11884,
           14686,
           10844,
           7703,
           8869,
           2833,
           10405,
           13867,
           12413,
           11334,
           1636,
           8677,
           13212,
           8346,
           17291,
           12654,
           3568,
           9623,
           4774,
           5126,
           29597,
           21444,
           6215,
           7916,
           5321,
           14491,
           10572,
           22679,
           19367,
           14245,
           2052,
           6237,
           4618,
           16882,
           10343,
           3194,
           10120,
           4964,
           4017,
           10039,
           13272,
           6395,
           10910,
           14141,
           658,
           1442,
           6064,
           10397,
           9764,
           6178,
           11411,
           3758,
           10176,
           1700,
           3348,
           6415,
           11253,
           624,
           14748,
           7825,
           18678,
           9458,
           1861,
           2387,
           2688,
           3258,
           10712,
           9162,
           7060,
           5649,
           4382,
           9357,
           4898,
           2891,
           2096,
           2071,
           3458,
           1148,
           703,
           2447,
           761,
           3141,
           1565,
           3154,
           5766,
           3260,
           3906,
           1266,
           1196,
           5896,
           2831,
           6607,
           3537,
           5875,
           1452,
           5127,
           5196,
           7137,
           5773,
           192,
           748,
           706,
           65,
           558,
           88,
           653,
           46,
           280,
           116,
           240,
           287,
           858,
           1197,
           894,
           253
          ],
          "sizemode": "area",
          "sizeref": 76.995
         },
         "mode": "markers",
         "name": "",
         "showlegend": false,
         "subplot": "mapbox",
         "type": "scattermapbox"
        }
       ],
       "layout": {
        "coloraxis": {
         "colorbar": {
          "title": {
           "text": "counts_start"
          }
         },
         "colorscale": [
          [
           0,
           "orange"
          ],
          [
           1,
           "red"
          ]
         ]
        },
        "height": 800,
        "legend": {
         "itemsizing": "constant",
         "tracegroupgap": 0
        },
        "mapbox": {
         "center": {
          "lat": 42.355539267132464,
          "lon": -71.08955563028009
         },
         "domain": {
          "x": [
           0,
           1
          ],
          "y": [
           0,
           1
          ]
         },
         "style": "open-street-map",
         "zoom": 8
        },
        "margin": {
         "b": 0,
         "l": 0,
         "r": 0,
         "t": 0
        },
        "template": {
         "data": {
          "bar": [
           {
            "error_x": {
             "color": "#2a3f5f"
            },
            "error_y": {
             "color": "#2a3f5f"
            },
            "marker": {
             "line": {
              "color": "#E5ECF6",
              "width": 0.5
             },
             "pattern": {
              "fillmode": "overlay",
              "size": 10,
              "solidity": 0.2
             }
            },
            "type": "bar"
           }
          ],
          "barpolar": [
           {
            "marker": {
             "line": {
              "color": "#E5ECF6",
              "width": 0.5
             },
             "pattern": {
              "fillmode": "overlay",
              "size": 10,
              "solidity": 0.2
             }
            },
            "type": "barpolar"
           }
          ],
          "carpet": [
           {
            "aaxis": {
             "endlinecolor": "#2a3f5f",
             "gridcolor": "white",
             "linecolor": "white",
             "minorgridcolor": "white",
             "startlinecolor": "#2a3f5f"
            },
            "baxis": {
             "endlinecolor": "#2a3f5f",
             "gridcolor": "white",
             "linecolor": "white",
             "minorgridcolor": "white",
             "startlinecolor": "#2a3f5f"
            },
            "type": "carpet"
           }
          ],
          "choropleth": [
           {
            "colorbar": {
             "outlinewidth": 0,
             "ticks": ""
            },
            "type": "choropleth"
           }
          ],
          "contour": [
           {
            "colorbar": {
             "outlinewidth": 0,
             "ticks": ""
            },
            "colorscale": [
             [
              0,
              "#0d0887"
             ],
             [
              0.1111111111111111,
              "#46039f"
             ],
             [
              0.2222222222222222,
              "#7201a8"
             ],
             [
              0.3333333333333333,
              "#9c179e"
             ],
             [
              0.4444444444444444,
              "#bd3786"
             ],
             [
              0.5555555555555556,
              "#d8576b"
             ],
             [
              0.6666666666666666,
              "#ed7953"
             ],
             [
              0.7777777777777778,
              "#fb9f3a"
             ],
             [
              0.8888888888888888,
              "#fdca26"
             ],
             [
              1,
              "#f0f921"
             ]
            ],
            "type": "contour"
           }
          ],
          "contourcarpet": [
           {
            "colorbar": {
             "outlinewidth": 0,
             "ticks": ""
            },
            "type": "contourcarpet"
           }
          ],
          "heatmap": [
           {
            "colorbar": {
             "outlinewidth": 0,
             "ticks": ""
            },
            "colorscale": [
             [
              0,
              "#0d0887"
             ],
             [
              0.1111111111111111,
              "#46039f"
             ],
             [
              0.2222222222222222,
              "#7201a8"
             ],
             [
              0.3333333333333333,
              "#9c179e"
             ],
             [
              0.4444444444444444,
              "#bd3786"
             ],
             [
              0.5555555555555556,
              "#d8576b"
             ],
             [
              0.6666666666666666,
              "#ed7953"
             ],
             [
              0.7777777777777778,
              "#fb9f3a"
             ],
             [
              0.8888888888888888,
              "#fdca26"
             ],
             [
              1,
              "#f0f921"
             ]
            ],
            "type": "heatmap"
           }
          ],
          "heatmapgl": [
           {
            "colorbar": {
             "outlinewidth": 0,
             "ticks": ""
            },
            "colorscale": [
             [
              0,
              "#0d0887"
             ],
             [
              0.1111111111111111,
              "#46039f"
             ],
             [
              0.2222222222222222,
              "#7201a8"
             ],
             [
              0.3333333333333333,
              "#9c179e"
             ],
             [
              0.4444444444444444,
              "#bd3786"
             ],
             [
              0.5555555555555556,
              "#d8576b"
             ],
             [
              0.6666666666666666,
              "#ed7953"
             ],
             [
              0.7777777777777778,
              "#fb9f3a"
             ],
             [
              0.8888888888888888,
              "#fdca26"
             ],
             [
              1,
              "#f0f921"
             ]
            ],
            "type": "heatmapgl"
           }
          ],
          "histogram": [
           {
            "marker": {
             "pattern": {
              "fillmode": "overlay",
              "size": 10,
              "solidity": 0.2
             }
            },
            "type": "histogram"
           }
          ],
          "histogram2d": [
           {
            "colorbar": {
             "outlinewidth": 0,
             "ticks": ""
            },
            "colorscale": [
             [
              0,
              "#0d0887"
             ],
             [
              0.1111111111111111,
              "#46039f"
             ],
             [
              0.2222222222222222,
              "#7201a8"
             ],
             [
              0.3333333333333333,
              "#9c179e"
             ],
             [
              0.4444444444444444,
              "#bd3786"
             ],
             [
              0.5555555555555556,
              "#d8576b"
             ],
             [
              0.6666666666666666,
              "#ed7953"
             ],
             [
              0.7777777777777778,
              "#fb9f3a"
             ],
             [
              0.8888888888888888,
              "#fdca26"
             ],
             [
              1,
              "#f0f921"
             ]
            ],
            "type": "histogram2d"
           }
          ],
          "histogram2dcontour": [
           {
            "colorbar": {
             "outlinewidth": 0,
             "ticks": ""
            },
            "colorscale": [
             [
              0,
              "#0d0887"
             ],
             [
              0.1111111111111111,
              "#46039f"
             ],
             [
              0.2222222222222222,
              "#7201a8"
             ],
             [
              0.3333333333333333,
              "#9c179e"
             ],
             [
              0.4444444444444444,
              "#bd3786"
             ],
             [
              0.5555555555555556,
              "#d8576b"
             ],
             [
              0.6666666666666666,
              "#ed7953"
             ],
             [
              0.7777777777777778,
              "#fb9f3a"
             ],
             [
              0.8888888888888888,
              "#fdca26"
             ],
             [
              1,
              "#f0f921"
             ]
            ],
            "type": "histogram2dcontour"
           }
          ],
          "mesh3d": [
           {
            "colorbar": {
             "outlinewidth": 0,
             "ticks": ""
            },
            "type": "mesh3d"
           }
          ],
          "parcoords": [
           {
            "line": {
             "colorbar": {
              "outlinewidth": 0,
              "ticks": ""
             }
            },
            "type": "parcoords"
           }
          ],
          "pie": [
           {
            "automargin": true,
            "type": "pie"
           }
          ],
          "scatter": [
           {
            "fillpattern": {
             "fillmode": "overlay",
             "size": 10,
             "solidity": 0.2
            },
            "type": "scatter"
           }
          ],
          "scatter3d": [
           {
            "line": {
             "colorbar": {
              "outlinewidth": 0,
              "ticks": ""
             }
            },
            "marker": {
             "colorbar": {
              "outlinewidth": 0,
              "ticks": ""
             }
            },
            "type": "scatter3d"
           }
          ],
          "scattercarpet": [
           {
            "marker": {
             "colorbar": {
              "outlinewidth": 0,
              "ticks": ""
             }
            },
            "type": "scattercarpet"
           }
          ],
          "scattergeo": [
           {
            "marker": {
             "colorbar": {
              "outlinewidth": 0,
              "ticks": ""
             }
            },
            "type": "scattergeo"
           }
          ],
          "scattergl": [
           {
            "marker": {
             "colorbar": {
              "outlinewidth": 0,
              "ticks": ""
             }
            },
            "type": "scattergl"
           }
          ],
          "scattermapbox": [
           {
            "marker": {
             "colorbar": {
              "outlinewidth": 0,
              "ticks": ""
             }
            },
            "type": "scattermapbox"
           }
          ],
          "scatterpolar": [
           {
            "marker": {
             "colorbar": {
              "outlinewidth": 0,
              "ticks": ""
             }
            },
            "type": "scatterpolar"
           }
          ],
          "scatterpolargl": [
           {
            "marker": {
             "colorbar": {
              "outlinewidth": 0,
              "ticks": ""
             }
            },
            "type": "scatterpolargl"
           }
          ],
          "scatterternary": [
           {
            "marker": {
             "colorbar": {
              "outlinewidth": 0,
              "ticks": ""
             }
            },
            "type": "scatterternary"
           }
          ],
          "surface": [
           {
            "colorbar": {
             "outlinewidth": 0,
             "ticks": ""
            },
            "colorscale": [
             [
              0,
              "#0d0887"
             ],
             [
              0.1111111111111111,
              "#46039f"
             ],
             [
              0.2222222222222222,
              "#7201a8"
             ],
             [
              0.3333333333333333,
              "#9c179e"
             ],
             [
              0.4444444444444444,
              "#bd3786"
             ],
             [
              0.5555555555555556,
              "#d8576b"
             ],
             [
              0.6666666666666666,
              "#ed7953"
             ],
             [
              0.7777777777777778,
              "#fb9f3a"
             ],
             [
              0.8888888888888888,
              "#fdca26"
             ],
             [
              1,
              "#f0f921"
             ]
            ],
            "type": "surface"
           }
          ],
          "table": [
           {
            "cells": {
             "fill": {
              "color": "#EBF0F8"
             },
             "line": {
              "color": "white"
             }
            },
            "header": {
             "fill": {
              "color": "#C8D4E3"
             },
             "line": {
              "color": "white"
             }
            },
            "type": "table"
           }
          ]
         },
         "layout": {
          "annotationdefaults": {
           "arrowcolor": "#2a3f5f",
           "arrowhead": 0,
           "arrowwidth": 1
          },
          "autotypenumbers": "strict",
          "coloraxis": {
           "colorbar": {
            "outlinewidth": 0,
            "ticks": ""
           }
          },
          "colorscale": {
           "diverging": [
            [
             0,
             "#8e0152"
            ],
            [
             0.1,
             "#c51b7d"
            ],
            [
             0.2,
             "#de77ae"
            ],
            [
             0.3,
             "#f1b6da"
            ],
            [
             0.4,
             "#fde0ef"
            ],
            [
             0.5,
             "#f7f7f7"
            ],
            [
             0.6,
             "#e6f5d0"
            ],
            [
             0.7,
             "#b8e186"
            ],
            [
             0.8,
             "#7fbc41"
            ],
            [
             0.9,
             "#4d9221"
            ],
            [
             1,
             "#276419"
            ]
           ],
           "sequential": [
            [
             0,
             "#0d0887"
            ],
            [
             0.1111111111111111,
             "#46039f"
            ],
            [
             0.2222222222222222,
             "#7201a8"
            ],
            [
             0.3333333333333333,
             "#9c179e"
            ],
            [
             0.4444444444444444,
             "#bd3786"
            ],
            [
             0.5555555555555556,
             "#d8576b"
            ],
            [
             0.6666666666666666,
             "#ed7953"
            ],
            [
             0.7777777777777778,
             "#fb9f3a"
            ],
            [
             0.8888888888888888,
             "#fdca26"
            ],
            [
             1,
             "#f0f921"
            ]
           ],
           "sequentialminus": [
            [
             0,
             "#0d0887"
            ],
            [
             0.1111111111111111,
             "#46039f"
            ],
            [
             0.2222222222222222,
             "#7201a8"
            ],
            [
             0.3333333333333333,
             "#9c179e"
            ],
            [
             0.4444444444444444,
             "#bd3786"
            ],
            [
             0.5555555555555556,
             "#d8576b"
            ],
            [
             0.6666666666666666,
             "#ed7953"
            ],
            [
             0.7777777777777778,
             "#fb9f3a"
            ],
            [
             0.8888888888888888,
             "#fdca26"
            ],
            [
             1,
             "#f0f921"
            ]
           ]
          },
          "colorway": [
           "#636efa",
           "#EF553B",
           "#00cc96",
           "#ab63fa",
           "#FFA15A",
           "#19d3f3",
           "#FF6692",
           "#B6E880",
           "#FF97FF",
           "#FECB52"
          ],
          "font": {
           "color": "#2a3f5f"
          },
          "geo": {
           "bgcolor": "white",
           "lakecolor": "white",
           "landcolor": "#E5ECF6",
           "showlakes": true,
           "showland": true,
           "subunitcolor": "white"
          },
          "hoverlabel": {
           "align": "left"
          },
          "hovermode": "closest",
          "mapbox": {
           "style": "light"
          },
          "paper_bgcolor": "white",
          "plot_bgcolor": "#E5ECF6",
          "polar": {
           "angularaxis": {
            "gridcolor": "white",
            "linecolor": "white",
            "ticks": ""
           },
           "bgcolor": "#E5ECF6",
           "radialaxis": {
            "gridcolor": "white",
            "linecolor": "white",
            "ticks": ""
           }
          },
          "scene": {
           "xaxis": {
            "backgroundcolor": "#E5ECF6",
            "gridcolor": "white",
            "gridwidth": 2,
            "linecolor": "white",
            "showbackground": true,
            "ticks": "",
            "zerolinecolor": "white"
           },
           "yaxis": {
            "backgroundcolor": "#E5ECF6",
            "gridcolor": "white",
            "gridwidth": 2,
            "linecolor": "white",
            "showbackground": true,
            "ticks": "",
            "zerolinecolor": "white"
           },
           "zaxis": {
            "backgroundcolor": "#E5ECF6",
            "gridcolor": "white",
            "gridwidth": 2,
            "linecolor": "white",
            "showbackground": true,
            "ticks": "",
            "zerolinecolor": "white"
           }
          },
          "shapedefaults": {
           "line": {
            "color": "#2a3f5f"
           }
          },
          "ternary": {
           "aaxis": {
            "gridcolor": "white",
            "linecolor": "white",
            "ticks": ""
           },
           "baxis": {
            "gridcolor": "white",
            "linecolor": "white",
            "ticks": ""
           },
           "bgcolor": "#E5ECF6",
           "caxis": {
            "gridcolor": "white",
            "linecolor": "white",
            "ticks": ""
           }
          },
          "title": {
           "x": 0.05
          },
          "xaxis": {
           "automargin": true,
           "gridcolor": "white",
           "linecolor": "white",
           "ticks": "",
           "title": {
            "standoff": 15
           },
           "zerolinecolor": "white",
           "zerolinewidth": 2
          },
          "yaxis": {
           "automargin": true,
           "gridcolor": "white",
           "linecolor": "white",
           "ticks": "",
           "title": {
            "standoff": 15
           },
           "zerolinecolor": "white",
           "zerolinewidth": 2
          }
         }
        },
        "width": 800
       }
      }
     },
     "metadata": {},
     "output_type": "display_data"
    }
   ],
   "source": [
    "\n",
    "color_scale = [(0, 'orange'), (1,'red')]\n",
    "\n",
    "fig = px.scatter_mapbox(df_start, \n",
    "                        lat=\"start_station_latitude\", \n",
    "                        lon=\"start_station_longitude\", \n",
    "                        color='counts_start',\n",
    "                        color_continuous_scale=color_scale,\n",
    "                        size='counts_start',\n",
    "                        zoom=8, \n",
    "                        height=800,\n",
    "                        width=800)\n",
    "\n",
    "\n",
    "fig.update_layout(mapbox_style=\"open-street-map\")\n",
    "fig.update_layout(margin={\"r\":0,\"t\":0,\"l\":0,\"b\":0})\n",
    "fig.show()"
   ]
  },
  {
   "cell_type": "code",
   "execution_count": null,
   "metadata": {},
   "outputs": [
    {
     "data": {
      "application/vnd.plotly.v1+json": {
       "config": {
        "plotlyServerURL": "https://plot.ly"
       },
       "data": [
        {
         "hovertemplate": "counts_end=%{marker.color}<br>end_station_latitude=%{lat}<br>end_station_longitude=%{lon}<extra></extra>",
         "lat": [
          42.387151,
          42.340021,
          42.345392,
          42.341814,
          42.361174,
          42.35328743453294,
          42.353334,
          42.351246,
          42.350406,
          42.338629,
          42.335911,
          42.336437,
          42.337171,
          42.361667,
          42.34807412317439,
          42.365064,
          42.347241,
          42.35977,
          42.345959,
          42.352175,
          42.35892,
          42.351205,
          42.341332,
          42.341522,
          42.331184,
          42.363732,
          42.334073,
          42.348833,
          42.343912,
          42.348706,
          42.355402,
          42.349673,
          42.357402,
          42.366222,
          42.338623,
          42.363871,
          42.352261,
          42.352033,
          42.357143,
          42.360613,
          42.344706,
          42.343864,
          42.362811,
          42.356755,
          42.351146,
          42.350989,
          42.3348756,
          42.348717,
          42.350851,
          42.354979,
          42.347265,
          42.328654,
          42.340799,
          42.355596,
          42.351356,
          42.360835,
          42.348762,
          42.344023,
          42.3511,
          42.3475,
          42.348607,
          42.3581,
          42.36507,
          42.341598,
          42.371196,
          42.383405,
          42.362613,
          42.373231,
          42.373268,
          42.36346469304347,
          42.366426,
          42.386844,
          42.379637,
          42.37842,
          42.3619622,
          42.352409,
          42.339335,
          42.366981,
          42.378338,
          42.332799,
          42.366621,
          42.374035,
          42.379011,
          42.370677,
          42.366277,
          42.314507,
          42.320494,
          42.375603,
          42.372969,
          42.373379,
          42.36919031768079,
          42.371848,
          42.385582,
          42.396969,
          42.400877,
          42.346563,
          42.380287,
          42.356954,
          42.325333,
          42.3625,
          42.377945,
          42.365942,
          42.376369,
          42.40449,
          42.39082,
          42.330716,
          42.402763,
          42.387995,
          42.370803,
          42.366095,
          42.397828,
          42.335741,
          42.356052,
          42.335693,
          42.345733,
          42.313156,
          42.309054,
          42.320998,
          42.315692,
          42.320561,
          42.377022,
          42.317225,
          42.322701,
          42.394002,
          42.310579,
          42.350413,
          42.344827,
          42.344796,
          42.398365,
          42.326599,
          42.361589,
          42.388966,
          42.36356015842989,
          42.396105,
          42.369885,
          42.392766,
          42.363796,
          42.344137,
          42.358155,
          42.345901,
          42.32797270205962,
          42.337596,
          42.3391085,
          42.309796,
          42.344792,
          42.317642,
          42.378965,
          42.303469,
          42.37408991426522,
          42.34900494405213,
          42.34894857235593,
          42.38674802045056,
          42.36264779118595,
          42.35957320109044,
          42.35560121327927,
          42.37478628706384
         ],
         "legendgroup": "",
         "lon": [
          -71.075978,
          -71.100812,
          -71.069616,
          -71.090179,
          -71.065142,
          -71.04438900947571,
          -71.137313,
          -71.115639,
          -71.108279,
          -71.1065,
          -71.088496,
          -71.073089,
          -71.102797,
          -71.13802,
          -71.07657015323639,
          -71.119233,
          -71.105301,
          -71.051601,
          -71.082578,
          -71.055547,
          -71.057629,
          -71.043983,
          -71.076847,
          -71.068922,
          -71.095171,
          -71.124565,
          -71.105221,
          -71.041747,
          -71.102221,
          -71.097009,
          -71.058087,
          -71.077303,
          -71.147782,
          -71.059914,
          -71.074182,
          -71.050877,
          -71.123831,
          -71.070627,
          -71.050699,
          -71.057452,
          -71.097515,
          -71.085918,
          -71.056067,
          -71.055407,
          -71.066289,
          -71.073644,
          -71.0790969,
          -71.085954,
          -71.089886,
          -71.063348,
          -71.088088,
          -71.084198,
          -71.081572,
          -71.07278,
          -71.059367,
          -71.0708399,
          -71.082383,
          -71.057054,
          -71.0496,
          -71.0441,
          -71.13401,
          -71.093198,
          -71.1031,
          -71.123338,
          -71.121473,
          -71.107593,
          -71.084105,
          -71.120886,
          -71.118579,
          -71.10057324171066,
          -71.105495,
          -71.09812,
          -71.095319,
          -71.105668,
          -71.0920526,
          -71.062679,
          -71.13493,
          -71.076472,
          -71.048927,
          -71.116205,
          -71.114214,
          -71.101427,
          -71.119945,
          -71.076529,
          -71.09169,
          -71.041269,
          -71.051122,
          -71.064608,
          -71.094445,
          -71.111075,
          -71.11714124679565,
          -71.060292,
          -71.113341,
          -71.123024,
          -71.116772,
          -71.128374,
          -71.125107,
          -71.113687,
          -71.075354,
          -71.08822,
          -71.116865,
          -71.060515,
          -71.114025,
          -71.123413,
          -71.10942,
          -71.057044,
          -71.126908,
          -71.119084,
          -71.104412,
          -71.086388,
          -71.130516,
          -71.03877,
          -71.069849,
          -71.045859,
          -71.100694,
          -71.11414,
          -71.11543,
          -71.110833,
          -71.098634,
          -71.06198,
          -71.056605,
          -71.065421,
          -71.099533,
          -71.120406,
          -71.107341,
          -71.07655,
          -71.028664,
          -71.031614,
          -71.107818,
          -71.066498,
          -71.107437,
          -71.132788,
          -71.08216792345047,
          -71.139459,
          -71.069957,
          -71.129042,
          -71.129164,
          -71.052608,
          -71.052163,
          -71.063187,
          -71.11089706420898,
          -71.096391,
          -71.0514432,
          -71.092225,
          -71.044024,
          -71.056664,
          -71.068607,
          -71.085347,
          -71.06905996799469,
          -71.1604106426239,
          -71.15027189254761,
          -71.11901879310608,
          -71.10006093978882,
          -71.10129475593567,
          -71.10394477844238,
          -71.13320231437683
         ],
         "marker": {
          "color": [
           154,
           5007,
           8975,
           6289,
           12632,
           5284,
           3764,
           8768,
           7630,
           8897,
           6454,
           9041,
           9368,
           2156,
           15878,
           6369,
           7089,
           11841,
           12913,
           31284,
           13568,
           6181,
           7307,
           9081,
           4055,
           3194,
           5118,
           7095,
           7984,
           14661,
           10178,
           19874,
           1309,
           14900,
           9596,
           10789,
           7623,
           14052,
           12548,
           7140,
           9765,
           11674,
           13723,
           11174,
           7823,
           9390,
           2926,
           10223,
           13385,
           12452,
           11244,
           1629,
           7796,
           12930,
           8838,
           16850,
           12668,
           3584,
           10734,
           4647,
           4535,
           29905,
           20886,
           6200,
           8541,
           5246,
           13991,
           10806,
           23590,
           19056,
           13936,
           1782,
           6587,
           4375,
           21720,
           10535,
           2587,
           10657,
           5111,
           4220,
           8926,
           12103,
           6333,
           11007,
           13498,
           659,
           1624,
           5603,
           9657,
           9553,
           6197,
           10700,
           3536,
           11822,
           1590,
           2862,
           6220,
           11181,
           569,
           15146,
           7898,
           20524,
           9560,
           1781,
           1673,
           2536,
           2110,
           10342,
           7912,
           6922,
           5480,
           4593,
           8886,
           4416,
           3107,
           2290,
           2072,
           3133,
           896,
           779,
           2619,
           609,
           2932,
           1775,
           3300,
           5851,
           3366,
           4018,
           1352,
           1322,
           5404,
           2792,
           6622,
           3676,
           5822,
           1527,
           4933,
           5254,
           7392,
           5813,
           142,
           736,
           733,
           40,
           511,
           100,
           584,
           39,
           239,
           127,
           229,
           317,
           760,
           1079,
           835,
           244
          ],
          "coloraxis": "coloraxis",
          "size": [
           154,
           5007,
           8975,
           6289,
           12632,
           5284,
           3764,
           8768,
           7630,
           8897,
           6454,
           9041,
           9368,
           2156,
           15878,
           6369,
           7089,
           11841,
           12913,
           31284,
           13568,
           6181,
           7307,
           9081,
           4055,
           3194,
           5118,
           7095,
           7984,
           14661,
           10178,
           19874,
           1309,
           14900,
           9596,
           10789,
           7623,
           14052,
           12548,
           7140,
           9765,
           11674,
           13723,
           11174,
           7823,
           9390,
           2926,
           10223,
           13385,
           12452,
           11244,
           1629,
           7796,
           12930,
           8838,
           16850,
           12668,
           3584,
           10734,
           4647,
           4535,
           29905,
           20886,
           6200,
           8541,
           5246,
           13991,
           10806,
           23590,
           19056,
           13936,
           1782,
           6587,
           4375,
           21720,
           10535,
           2587,
           10657,
           5111,
           4220,
           8926,
           12103,
           6333,
           11007,
           13498,
           659,
           1624,
           5603,
           9657,
           9553,
           6197,
           10700,
           3536,
           11822,
           1590,
           2862,
           6220,
           11181,
           569,
           15146,
           7898,
           20524,
           9560,
           1781,
           1673,
           2536,
           2110,
           10342,
           7912,
           6922,
           5480,
           4593,
           8886,
           4416,
           3107,
           2290,
           2072,
           3133,
           896,
           779,
           2619,
           609,
           2932,
           1775,
           3300,
           5851,
           3366,
           4018,
           1352,
           1322,
           5404,
           2792,
           6622,
           3676,
           5822,
           1527,
           4933,
           5254,
           7392,
           5813,
           142,
           736,
           733,
           40,
           511,
           100,
           584,
           39,
           239,
           127,
           229,
           317,
           760,
           1079,
           835,
           244
          ],
          "sizemode": "area",
          "sizeref": 78.21
         },
         "mode": "markers",
         "name": "",
         "showlegend": false,
         "subplot": "mapbox",
         "type": "scattermapbox"
        }
       ],
       "layout": {
        "coloraxis": {
         "colorbar": {
          "title": {
           "text": "counts_end"
          }
         },
         "colorscale": [
          [
           0,
           "orange"
          ],
          [
           1,
           "red"
          ]
         ]
        },
        "height": 800,
        "legend": {
         "itemsizing": "constant",
         "tracegroupgap": 0
        },
        "mapbox": {
         "center": {
          "lat": 42.355539267132464,
          "lon": -71.08955563028009
         },
         "domain": {
          "x": [
           0,
           1
          ],
          "y": [
           0,
           1
          ]
         },
         "style": "open-street-map",
         "zoom": 8
        },
        "margin": {
         "b": 0,
         "l": 0,
         "r": 0,
         "t": 0
        },
        "template": {
         "data": {
          "bar": [
           {
            "error_x": {
             "color": "#2a3f5f"
            },
            "error_y": {
             "color": "#2a3f5f"
            },
            "marker": {
             "line": {
              "color": "#E5ECF6",
              "width": 0.5
             },
             "pattern": {
              "fillmode": "overlay",
              "size": 10,
              "solidity": 0.2
             }
            },
            "type": "bar"
           }
          ],
          "barpolar": [
           {
            "marker": {
             "line": {
              "color": "#E5ECF6",
              "width": 0.5
             },
             "pattern": {
              "fillmode": "overlay",
              "size": 10,
              "solidity": 0.2
             }
            },
            "type": "barpolar"
           }
          ],
          "carpet": [
           {
            "aaxis": {
             "endlinecolor": "#2a3f5f",
             "gridcolor": "white",
             "linecolor": "white",
             "minorgridcolor": "white",
             "startlinecolor": "#2a3f5f"
            },
            "baxis": {
             "endlinecolor": "#2a3f5f",
             "gridcolor": "white",
             "linecolor": "white",
             "minorgridcolor": "white",
             "startlinecolor": "#2a3f5f"
            },
            "type": "carpet"
           }
          ],
          "choropleth": [
           {
            "colorbar": {
             "outlinewidth": 0,
             "ticks": ""
            },
            "type": "choropleth"
           }
          ],
          "contour": [
           {
            "colorbar": {
             "outlinewidth": 0,
             "ticks": ""
            },
            "colorscale": [
             [
              0,
              "#0d0887"
             ],
             [
              0.1111111111111111,
              "#46039f"
             ],
             [
              0.2222222222222222,
              "#7201a8"
             ],
             [
              0.3333333333333333,
              "#9c179e"
             ],
             [
              0.4444444444444444,
              "#bd3786"
             ],
             [
              0.5555555555555556,
              "#d8576b"
             ],
             [
              0.6666666666666666,
              "#ed7953"
             ],
             [
              0.7777777777777778,
              "#fb9f3a"
             ],
             [
              0.8888888888888888,
              "#fdca26"
             ],
             [
              1,
              "#f0f921"
             ]
            ],
            "type": "contour"
           }
          ],
          "contourcarpet": [
           {
            "colorbar": {
             "outlinewidth": 0,
             "ticks": ""
            },
            "type": "contourcarpet"
           }
          ],
          "heatmap": [
           {
            "colorbar": {
             "outlinewidth": 0,
             "ticks": ""
            },
            "colorscale": [
             [
              0,
              "#0d0887"
             ],
             [
              0.1111111111111111,
              "#46039f"
             ],
             [
              0.2222222222222222,
              "#7201a8"
             ],
             [
              0.3333333333333333,
              "#9c179e"
             ],
             [
              0.4444444444444444,
              "#bd3786"
             ],
             [
              0.5555555555555556,
              "#d8576b"
             ],
             [
              0.6666666666666666,
              "#ed7953"
             ],
             [
              0.7777777777777778,
              "#fb9f3a"
             ],
             [
              0.8888888888888888,
              "#fdca26"
             ],
             [
              1,
              "#f0f921"
             ]
            ],
            "type": "heatmap"
           }
          ],
          "heatmapgl": [
           {
            "colorbar": {
             "outlinewidth": 0,
             "ticks": ""
            },
            "colorscale": [
             [
              0,
              "#0d0887"
             ],
             [
              0.1111111111111111,
              "#46039f"
             ],
             [
              0.2222222222222222,
              "#7201a8"
             ],
             [
              0.3333333333333333,
              "#9c179e"
             ],
             [
              0.4444444444444444,
              "#bd3786"
             ],
             [
              0.5555555555555556,
              "#d8576b"
             ],
             [
              0.6666666666666666,
              "#ed7953"
             ],
             [
              0.7777777777777778,
              "#fb9f3a"
             ],
             [
              0.8888888888888888,
              "#fdca26"
             ],
             [
              1,
              "#f0f921"
             ]
            ],
            "type": "heatmapgl"
           }
          ],
          "histogram": [
           {
            "marker": {
             "pattern": {
              "fillmode": "overlay",
              "size": 10,
              "solidity": 0.2
             }
            },
            "type": "histogram"
           }
          ],
          "histogram2d": [
           {
            "colorbar": {
             "outlinewidth": 0,
             "ticks": ""
            },
            "colorscale": [
             [
              0,
              "#0d0887"
             ],
             [
              0.1111111111111111,
              "#46039f"
             ],
             [
              0.2222222222222222,
              "#7201a8"
             ],
             [
              0.3333333333333333,
              "#9c179e"
             ],
             [
              0.4444444444444444,
              "#bd3786"
             ],
             [
              0.5555555555555556,
              "#d8576b"
             ],
             [
              0.6666666666666666,
              "#ed7953"
             ],
             [
              0.7777777777777778,
              "#fb9f3a"
             ],
             [
              0.8888888888888888,
              "#fdca26"
             ],
             [
              1,
              "#f0f921"
             ]
            ],
            "type": "histogram2d"
           }
          ],
          "histogram2dcontour": [
           {
            "colorbar": {
             "outlinewidth": 0,
             "ticks": ""
            },
            "colorscale": [
             [
              0,
              "#0d0887"
             ],
             [
              0.1111111111111111,
              "#46039f"
             ],
             [
              0.2222222222222222,
              "#7201a8"
             ],
             [
              0.3333333333333333,
              "#9c179e"
             ],
             [
              0.4444444444444444,
              "#bd3786"
             ],
             [
              0.5555555555555556,
              "#d8576b"
             ],
             [
              0.6666666666666666,
              "#ed7953"
             ],
             [
              0.7777777777777778,
              "#fb9f3a"
             ],
             [
              0.8888888888888888,
              "#fdca26"
             ],
             [
              1,
              "#f0f921"
             ]
            ],
            "type": "histogram2dcontour"
           }
          ],
          "mesh3d": [
           {
            "colorbar": {
             "outlinewidth": 0,
             "ticks": ""
            },
            "type": "mesh3d"
           }
          ],
          "parcoords": [
           {
            "line": {
             "colorbar": {
              "outlinewidth": 0,
              "ticks": ""
             }
            },
            "type": "parcoords"
           }
          ],
          "pie": [
           {
            "automargin": true,
            "type": "pie"
           }
          ],
          "scatter": [
           {
            "fillpattern": {
             "fillmode": "overlay",
             "size": 10,
             "solidity": 0.2
            },
            "type": "scatter"
           }
          ],
          "scatter3d": [
           {
            "line": {
             "colorbar": {
              "outlinewidth": 0,
              "ticks": ""
             }
            },
            "marker": {
             "colorbar": {
              "outlinewidth": 0,
              "ticks": ""
             }
            },
            "type": "scatter3d"
           }
          ],
          "scattercarpet": [
           {
            "marker": {
             "colorbar": {
              "outlinewidth": 0,
              "ticks": ""
             }
            },
            "type": "scattercarpet"
           }
          ],
          "scattergeo": [
           {
            "marker": {
             "colorbar": {
              "outlinewidth": 0,
              "ticks": ""
             }
            },
            "type": "scattergeo"
           }
          ],
          "scattergl": [
           {
            "marker": {
             "colorbar": {
              "outlinewidth": 0,
              "ticks": ""
             }
            },
            "type": "scattergl"
           }
          ],
          "scattermapbox": [
           {
            "marker": {
             "colorbar": {
              "outlinewidth": 0,
              "ticks": ""
             }
            },
            "type": "scattermapbox"
           }
          ],
          "scatterpolar": [
           {
            "marker": {
             "colorbar": {
              "outlinewidth": 0,
              "ticks": ""
             }
            },
            "type": "scatterpolar"
           }
          ],
          "scatterpolargl": [
           {
            "marker": {
             "colorbar": {
              "outlinewidth": 0,
              "ticks": ""
             }
            },
            "type": "scatterpolargl"
           }
          ],
          "scatterternary": [
           {
            "marker": {
             "colorbar": {
              "outlinewidth": 0,
              "ticks": ""
             }
            },
            "type": "scatterternary"
           }
          ],
          "surface": [
           {
            "colorbar": {
             "outlinewidth": 0,
             "ticks": ""
            },
            "colorscale": [
             [
              0,
              "#0d0887"
             ],
             [
              0.1111111111111111,
              "#46039f"
             ],
             [
              0.2222222222222222,
              "#7201a8"
             ],
             [
              0.3333333333333333,
              "#9c179e"
             ],
             [
              0.4444444444444444,
              "#bd3786"
             ],
             [
              0.5555555555555556,
              "#d8576b"
             ],
             [
              0.6666666666666666,
              "#ed7953"
             ],
             [
              0.7777777777777778,
              "#fb9f3a"
             ],
             [
              0.8888888888888888,
              "#fdca26"
             ],
             [
              1,
              "#f0f921"
             ]
            ],
            "type": "surface"
           }
          ],
          "table": [
           {
            "cells": {
             "fill": {
              "color": "#EBF0F8"
             },
             "line": {
              "color": "white"
             }
            },
            "header": {
             "fill": {
              "color": "#C8D4E3"
             },
             "line": {
              "color": "white"
             }
            },
            "type": "table"
           }
          ]
         },
         "layout": {
          "annotationdefaults": {
           "arrowcolor": "#2a3f5f",
           "arrowhead": 0,
           "arrowwidth": 1
          },
          "autotypenumbers": "strict",
          "coloraxis": {
           "colorbar": {
            "outlinewidth": 0,
            "ticks": ""
           }
          },
          "colorscale": {
           "diverging": [
            [
             0,
             "#8e0152"
            ],
            [
             0.1,
             "#c51b7d"
            ],
            [
             0.2,
             "#de77ae"
            ],
            [
             0.3,
             "#f1b6da"
            ],
            [
             0.4,
             "#fde0ef"
            ],
            [
             0.5,
             "#f7f7f7"
            ],
            [
             0.6,
             "#e6f5d0"
            ],
            [
             0.7,
             "#b8e186"
            ],
            [
             0.8,
             "#7fbc41"
            ],
            [
             0.9,
             "#4d9221"
            ],
            [
             1,
             "#276419"
            ]
           ],
           "sequential": [
            [
             0,
             "#0d0887"
            ],
            [
             0.1111111111111111,
             "#46039f"
            ],
            [
             0.2222222222222222,
             "#7201a8"
            ],
            [
             0.3333333333333333,
             "#9c179e"
            ],
            [
             0.4444444444444444,
             "#bd3786"
            ],
            [
             0.5555555555555556,
             "#d8576b"
            ],
            [
             0.6666666666666666,
             "#ed7953"
            ],
            [
             0.7777777777777778,
             "#fb9f3a"
            ],
            [
             0.8888888888888888,
             "#fdca26"
            ],
            [
             1,
             "#f0f921"
            ]
           ],
           "sequentialminus": [
            [
             0,
             "#0d0887"
            ],
            [
             0.1111111111111111,
             "#46039f"
            ],
            [
             0.2222222222222222,
             "#7201a8"
            ],
            [
             0.3333333333333333,
             "#9c179e"
            ],
            [
             0.4444444444444444,
             "#bd3786"
            ],
            [
             0.5555555555555556,
             "#d8576b"
            ],
            [
             0.6666666666666666,
             "#ed7953"
            ],
            [
             0.7777777777777778,
             "#fb9f3a"
            ],
            [
             0.8888888888888888,
             "#fdca26"
            ],
            [
             1,
             "#f0f921"
            ]
           ]
          },
          "colorway": [
           "#636efa",
           "#EF553B",
           "#00cc96",
           "#ab63fa",
           "#FFA15A",
           "#19d3f3",
           "#FF6692",
           "#B6E880",
           "#FF97FF",
           "#FECB52"
          ],
          "font": {
           "color": "#2a3f5f"
          },
          "geo": {
           "bgcolor": "white",
           "lakecolor": "white",
           "landcolor": "#E5ECF6",
           "showlakes": true,
           "showland": true,
           "subunitcolor": "white"
          },
          "hoverlabel": {
           "align": "left"
          },
          "hovermode": "closest",
          "mapbox": {
           "style": "light"
          },
          "paper_bgcolor": "white",
          "plot_bgcolor": "#E5ECF6",
          "polar": {
           "angularaxis": {
            "gridcolor": "white",
            "linecolor": "white",
            "ticks": ""
           },
           "bgcolor": "#E5ECF6",
           "radialaxis": {
            "gridcolor": "white",
            "linecolor": "white",
            "ticks": ""
           }
          },
          "scene": {
           "xaxis": {
            "backgroundcolor": "#E5ECF6",
            "gridcolor": "white",
            "gridwidth": 2,
            "linecolor": "white",
            "showbackground": true,
            "ticks": "",
            "zerolinecolor": "white"
           },
           "yaxis": {
            "backgroundcolor": "#E5ECF6",
            "gridcolor": "white",
            "gridwidth": 2,
            "linecolor": "white",
            "showbackground": true,
            "ticks": "",
            "zerolinecolor": "white"
           },
           "zaxis": {
            "backgroundcolor": "#E5ECF6",
            "gridcolor": "white",
            "gridwidth": 2,
            "linecolor": "white",
            "showbackground": true,
            "ticks": "",
            "zerolinecolor": "white"
           }
          },
          "shapedefaults": {
           "line": {
            "color": "#2a3f5f"
           }
          },
          "ternary": {
           "aaxis": {
            "gridcolor": "white",
            "linecolor": "white",
            "ticks": ""
           },
           "baxis": {
            "gridcolor": "white",
            "linecolor": "white",
            "ticks": ""
           },
           "bgcolor": "#E5ECF6",
           "caxis": {
            "gridcolor": "white",
            "linecolor": "white",
            "ticks": ""
           }
          },
          "title": {
           "x": 0.05
          },
          "xaxis": {
           "automargin": true,
           "gridcolor": "white",
           "linecolor": "white",
           "ticks": "",
           "title": {
            "standoff": 15
           },
           "zerolinecolor": "white",
           "zerolinewidth": 2
          },
          "yaxis": {
           "automargin": true,
           "gridcolor": "white",
           "linecolor": "white",
           "ticks": "",
           "title": {
            "standoff": 15
           },
           "zerolinecolor": "white",
           "zerolinewidth": 2
          }
         }
        },
        "width": 800
       }
      }
     },
     "metadata": {},
     "output_type": "display_data"
    }
   ],
   "source": [
    "color_scale = [(0, 'orange'), (1,'red')]\n",
    "\n",
    "fig = px.scatter_mapbox(df_end, \n",
    "                        lat=\"end_station_latitude\", \n",
    "                        lon=\"end_station_longitude\", \n",
    "                        color='counts_end',\n",
    "                        color_continuous_scale=color_scale,\n",
    "                        size='counts_end',\n",
    "                        zoom=8, \n",
    "                        height=800,\n",
    "                        width=800)\n",
    "\n",
    "\n",
    "fig.update_layout(mapbox_style=\"open-street-map\")\n",
    "fig.update_layout(margin={\"r\":0,\"t\":0,\"l\":0,\"b\":0})\n",
    "fig.show()"
   ]
  },
  {
   "cell_type": "code",
   "execution_count": null,
   "metadata": {},
   "outputs": [],
   "source": []
  },
  {
   "cell_type": "code",
   "execution_count": 54,
   "metadata": {},
   "outputs": [
    {
     "data": {
      "text/html": [
       "<div>\n",
       "<style scoped>\n",
       "    .dataframe tbody tr th:only-of-type {\n",
       "        vertical-align: middle;\n",
       "    }\n",
       "\n",
       "    .dataframe tbody tr th {\n",
       "        vertical-align: top;\n",
       "    }\n",
       "\n",
       "    .dataframe thead th {\n",
       "        text-align: right;\n",
       "    }\n",
       "</style>\n",
       "<table border=\"1\" class=\"dataframe\">\n",
       "  <thead>\n",
       "    <tr style=\"text-align: right;\">\n",
       "      <th></th>\n",
       "      <th>start_station_id</th>\n",
       "      <th>end_station_id</th>\n",
       "      <th>start_station_latitude</th>\n",
       "      <th>start_station_longitude</th>\n",
       "      <th>end_station_latitude</th>\n",
       "      <th>end_station_longitude</th>\n",
       "      <th>count_trips</th>\n",
       "    </tr>\n",
       "  </thead>\n",
       "  <tbody>\n",
       "    <tr>\n",
       "      <th>14116</th>\n",
       "      <td>118</td>\n",
       "      <td>100</td>\n",
       "      <td>42.397828</td>\n",
       "      <td>-71.130516</td>\n",
       "      <td>42.396969</td>\n",
       "      <td>-71.123024</td>\n",
       "      <td>3020</td>\n",
       "    </tr>\n",
       "    <tr>\n",
       "      <th>12224</th>\n",
       "      <td>100</td>\n",
       "      <td>118</td>\n",
       "      <td>42.396969</td>\n",
       "      <td>-71.123024</td>\n",
       "      <td>42.397828</td>\n",
       "      <td>-71.130516</td>\n",
       "      <td>2755</td>\n",
       "    </tr>\n",
       "    <tr>\n",
       "      <th>13627</th>\n",
       "      <td>114</td>\n",
       "      <td>100</td>\n",
       "      <td>42.402763</td>\n",
       "      <td>-71.126908</td>\n",
       "      <td>42.396969</td>\n",
       "      <td>-71.123024</td>\n",
       "      <td>2047</td>\n",
       "    </tr>\n",
       "    <tr>\n",
       "      <th>8064</th>\n",
       "      <td>67</td>\n",
       "      <td>53</td>\n",
       "      <td>42.358100</td>\n",
       "      <td>-71.093198</td>\n",
       "      <td>42.350851</td>\n",
       "      <td>-71.089886</td>\n",
       "      <td>2026</td>\n",
       "    </tr>\n",
       "    <tr>\n",
       "      <th>4532</th>\n",
       "      <td>40</td>\n",
       "      <td>22</td>\n",
       "      <td>42.363871</td>\n",
       "      <td>-71.050877</td>\n",
       "      <td>42.352175</td>\n",
       "      <td>-71.055547</td>\n",
       "      <td>1982</td>\n",
       "    </tr>\n",
       "  </tbody>\n",
       "</table>\n",
       "</div>"
      ],
      "text/plain": [
       "       start_station_id  end_station_id  start_station_latitude  \\\n",
       "14116               118             100               42.397828   \n",
       "12224               100             118               42.396969   \n",
       "13627               114             100               42.402763   \n",
       "8064                 67              53               42.358100   \n",
       "4532                 40              22               42.363871   \n",
       "\n",
       "       start_station_longitude  end_station_latitude  end_station_longitude  \\\n",
       "14116               -71.130516             42.396969             -71.123024   \n",
       "12224               -71.123024             42.397828             -71.130516   \n",
       "13627               -71.126908             42.396969             -71.123024   \n",
       "8064                -71.093198             42.350851             -71.089886   \n",
       "4532                -71.050877             42.352175             -71.055547   \n",
       "\n",
       "       count_trips  \n",
       "14116         3020  \n",
       "12224         2755  \n",
       "13627         2047  \n",
       "8064          2026  \n",
       "4532          1982  "
      ]
     },
     "execution_count": 54,
     "metadata": {},
     "output_type": "execute_result"
    }
   ],
   "source": [
    "df_trips = df_boston.groupby(['start_station_id','end_station_id', 'start_station_latitude', 'start_station_longitude', 'end_station_latitude', 'end_station_longitude']).size().reset_index(name='count_trips')\n",
    "\n",
    "df_trips = df_trips.sort_values('count_trips', ascending = False)\n",
    "\n",
    "df_trips.head()"
   ]
  },
  {
   "cell_type": "code",
   "execution_count": 59,
   "metadata": {},
   "outputs": [
    {
     "data": {
      "application/vnd.plotly.v1+json": {
       "config": {
        "plotlyServerURL": "https://plot.ly"
       },
       "data": [
        {
         "lat": [
          42.387151,
          42.387151
         ],
         "line": {
          "color": "red",
          "width": 1
         },
         "locationmode": "USA-states",
         "lon": [
          -71.075978,
          -71.075978
         ],
         "mode": "lines",
         "type": "scattergeo"
        },
        {
         "lat": [
          42.387151,
          42.350406
         ],
         "line": {
          "color": "red",
          "width": 1
         },
         "locationmode": "USA-states",
         "lon": [
          -71.075978,
          -71.108279
         ],
         "mode": "lines",
         "type": "scattergeo"
        },
        {
         "lat": [
          42.387151,
          42.337171
         ],
         "line": {
          "color": "red",
          "width": 1
         },
         "locationmode": "USA-states",
         "lon": [
          -71.075978,
          -71.102797
         ],
         "mode": "lines",
         "type": "scattergeo"
        },
        {
         "lat": [
          42.387151,
          42.334073
         ],
         "line": {
          "color": "red",
          "width": 1
         },
         "locationmode": "USA-states",
         "lon": [
          -71.075978,
          -71.105221
         ],
         "mode": "lines",
         "type": "scattergeo"
        },
        {
         "lat": [
          42.387151,
          42.360613
         ],
         "line": {
          "color": "red",
          "width": 1
         },
         "locationmode": "USA-states",
         "lon": [
          -71.075978,
          -71.057452
         ],
         "mode": "lines",
         "type": "scattergeo"
        },
        {
         "lat": [
          42.387151,
          42.362811
         ],
         "line": {
          "color": "red",
          "width": 1
         },
         "locationmode": "USA-states",
         "lon": [
          -71.075978,
          -71.056067
         ],
         "mode": "lines",
         "type": "scattergeo"
        },
        {
         "lat": [
          42.387151,
          42.350851
         ],
         "line": {
          "color": "red",
          "width": 1
         },
         "locationmode": "USA-states",
         "lon": [
          -71.075978,
          -71.089886
         ],
         "mode": "lines",
         "type": "scattergeo"
        },
        {
         "lat": [
          42.387151,
          42.3581
         ],
         "line": {
          "color": "red",
          "width": 1
         },
         "locationmode": "USA-states",
         "lon": [
          -71.075978,
          -71.093198
         ],
         "mode": "lines",
         "type": "scattergeo"
        },
        {
         "lat": [
          42.387151,
          42.36507
         ],
         "line": {
          "color": "red",
          "width": 1
         },
         "locationmode": "USA-states",
         "lon": [
          -71.075978,
          -71.1031
         ],
         "mode": "lines",
         "type": "scattergeo"
        },
        {
         "lat": [
          42.387151,
          42.371196
         ],
         "line": {
          "color": "red",
          "width": 1
         },
         "locationmode": "USA-states",
         "lon": [
          -71.075978,
          -71.121473
         ],
         "mode": "lines",
         "type": "scattergeo"
        },
        {
         "lat": [
          42.387151,
          42.383405
         ],
         "line": {
          "color": "red",
          "width": 1
         },
         "locationmode": "USA-states",
         "lon": [
          -71.075978,
          -71.107593
         ],
         "mode": "lines",
         "type": "scattergeo"
        },
        {
         "lat": [
          42.387151,
          42.362613
         ],
         "line": {
          "color": "red",
          "width": 1
         },
         "locationmode": "USA-states",
         "lon": [
          -71.075978,
          -71.084105
         ],
         "mode": "lines",
         "type": "scattergeo"
        },
        {
         "lat": [
          42.387151,
          42.373231
         ],
         "line": {
          "color": "red",
          "width": 1
         },
         "locationmode": "USA-states",
         "lon": [
          -71.075978,
          -71.120886
         ],
         "mode": "lines",
         "type": "scattergeo"
        },
        {
         "lat": [
          42.387151,
          42.373268
         ],
         "line": {
          "color": "red",
          "width": 1
         },
         "locationmode": "USA-states",
         "lon": [
          -71.075978,
          -71.118579
         ],
         "mode": "lines",
         "type": "scattergeo"
        },
        {
         "lat": [
          42.387151,
          42.36346469304347
         ],
         "line": {
          "color": "red",
          "width": 1
         },
         "locationmode": "USA-states",
         "lon": [
          -71.075978,
          -71.10057324171066
         ],
         "mode": "lines",
         "type": "scattergeo"
        },
        {
         "lat": [
          42.387151,
          42.366426
         ],
         "line": {
          "color": "red",
          "width": 1
         },
         "locationmode": "USA-states",
         "lon": [
          -71.075978,
          -71.105495
         ],
         "mode": "lines",
         "type": "scattergeo"
        },
        {
         "lat": [
          42.387151,
          42.379637
         ],
         "line": {
          "color": "red",
          "width": 1
         },
         "locationmode": "USA-states",
         "lon": [
          -71.075978,
          -71.095319
         ],
         "mode": "lines",
         "type": "scattergeo"
        },
        {
         "lat": [
          42.387151,
          42.3619622
         ],
         "line": {
          "color": "red",
          "width": 1
         },
         "locationmode": "USA-states",
         "lon": [
          -71.075978,
          -71.0920526
         ],
         "mode": "lines",
         "type": "scattergeo"
        },
        {
         "lat": [
          42.387151,
          42.366981
         ],
         "line": {
          "color": "red",
          "width": 1
         },
         "locationmode": "USA-states",
         "lon": [
          -71.075978,
          -71.076472
         ],
         "mode": "lines",
         "type": "scattergeo"
        },
        {
         "lat": [
          42.387151,
          42.332799
         ],
         "line": {
          "color": "red",
          "width": 1
         },
         "locationmode": "USA-states",
         "lon": [
          -71.075978,
          -71.116205
         ],
         "mode": "lines",
         "type": "scattergeo"
        },
        {
         "lat": [
          42.387151,
          42.375603
         ],
         "line": {
          "color": "red",
          "width": 1
         },
         "locationmode": "USA-states",
         "lon": [
          -71.075978,
          -71.064608
         ],
         "mode": "lines",
         "type": "scattergeo"
        },
        {
         "lat": [
          42.387151,
          42.3625
         ],
         "line": {
          "color": "red",
          "width": 1
         },
         "locationmode": "USA-states",
         "lon": [
          -71.075978,
          -71.08822
         ],
         "mode": "lines",
         "type": "scattergeo"
        },
        {
         "lat": [
          42.387151,
          42.387995
         ],
         "line": {
          "color": "red",
          "width": 1
         },
         "locationmode": "USA-states",
         "lon": [
          -71.075978,
          -71.119084
         ],
         "mode": "lines",
         "type": "scattergeo"
        },
        {
         "lat": [
          42.387151,
          42.397828
         ],
         "line": {
          "color": "red",
          "width": 1
         },
         "locationmode": "USA-states",
         "lon": [
          -71.075978,
          -71.130516
         ],
         "mode": "lines",
         "type": "scattergeo"
        },
        {
         "lat": [
          42.387151,
          42.363796
         ],
         "line": {
          "color": "red",
          "width": 1
         },
         "locationmode": "USA-states",
         "lon": [
          -71.075978,
          -71.129164
         ],
         "mode": "lines",
         "type": "scattergeo"
        },
        {
         "lat": [
          42.387151,
          42.344137
         ],
         "line": {
          "color": "red",
          "width": 1
         },
         "locationmode": "USA-states",
         "lon": [
          -71.075978,
          -71.052608
         ],
         "mode": "lines",
         "type": "scattergeo"
        },
        {
         "lat": [
          42.340021,
          42.340021
         ],
         "line": {
          "color": "red",
          "width": 1
         },
         "locationmode": "USA-states",
         "lon": [
          -71.100812,
          -71.100812
         ],
         "mode": "lines",
         "type": "scattergeo"
        },
        {
         "lat": [
          42.340021,
          42.345392
         ],
         "line": {
          "color": "red",
          "width": 1
         },
         "locationmode": "USA-states",
         "lon": [
          -71.100812,
          -71.069616
         ],
         "mode": "lines",
         "type": "scattergeo"
        },
        {
         "lat": [
          42.340021,
          42.341814
         ],
         "line": {
          "color": "red",
          "width": 1
         },
         "locationmode": "USA-states",
         "lon": [
          -71.100812,
          -71.090179
         ],
         "mode": "lines",
         "type": "scattergeo"
        },
        {
         "lat": [
          42.340021,
          42.361174
         ],
         "line": {
          "color": "red",
          "width": 1
         },
         "locationmode": "USA-states",
         "lon": [
          -71.100812,
          -71.065142
         ],
         "mode": "lines",
         "type": "scattergeo"
        },
        {
         "lat": [
          42.340021,
          42.353334
         ],
         "line": {
          "color": "red",
          "width": 1
         },
         "locationmode": "USA-states",
         "lon": [
          -71.100812,
          -71.137313
         ],
         "mode": "lines",
         "type": "scattergeo"
        },
        {
         "lat": [
          42.340021,
          42.351246
         ],
         "line": {
          "color": "red",
          "width": 1
         },
         "locationmode": "USA-states",
         "lon": [
          -71.100812,
          -71.115639
         ],
         "mode": "lines",
         "type": "scattergeo"
        },
        {
         "lat": [
          42.340021,
          42.350406
         ],
         "line": {
          "color": "red",
          "width": 1
         },
         "locationmode": "USA-states",
         "lon": [
          -71.100812,
          -71.108279
         ],
         "mode": "lines",
         "type": "scattergeo"
        },
        {
         "lat": [
          42.340021,
          42.338629
         ],
         "line": {
          "color": "red",
          "width": 1
         },
         "locationmode": "USA-states",
         "lon": [
          -71.100812,
          -71.1065
         ],
         "mode": "lines",
         "type": "scattergeo"
        },
        {
         "lat": [
          42.340021,
          42.335911
         ],
         "line": {
          "color": "red",
          "width": 1
         },
         "locationmode": "USA-states",
         "lon": [
          -71.100812,
          -71.088496
         ],
         "mode": "lines",
         "type": "scattergeo"
        },
        {
         "lat": [
          42.340021,
          42.336437
         ],
         "line": {
          "color": "red",
          "width": 1
         },
         "locationmode": "USA-states",
         "lon": [
          -71.100812,
          -71.073089
         ],
         "mode": "lines",
         "type": "scattergeo"
        },
        {
         "lat": [
          42.340021,
          42.337171
         ],
         "line": {
          "color": "red",
          "width": 1
         },
         "locationmode": "USA-states",
         "lon": [
          -71.100812,
          -71.102797
         ],
         "mode": "lines",
         "type": "scattergeo"
        },
        {
         "lat": [
          42.340021,
          42.361667
         ],
         "line": {
          "color": "red",
          "width": 1
         },
         "locationmode": "USA-states",
         "lon": [
          -71.100812,
          -71.13802
         ],
         "mode": "lines",
         "type": "scattergeo"
        },
        {
         "lat": [
          42.340021,
          42.34807412317439
         ],
         "line": {
          "color": "red",
          "width": 1
         },
         "locationmode": "USA-states",
         "lon": [
          -71.100812,
          -71.07657015323639
         ],
         "mode": "lines",
         "type": "scattergeo"
        },
        {
         "lat": [
          42.340021,
          42.365064
         ],
         "line": {
          "color": "red",
          "width": 1
         },
         "locationmode": "USA-states",
         "lon": [
          -71.100812,
          -71.119233
         ],
         "mode": "lines",
         "type": "scattergeo"
        },
        {
         "lat": [
          42.340021,
          42.347241
         ],
         "line": {
          "color": "red",
          "width": 1
         },
         "locationmode": "USA-states",
         "lon": [
          -71.100812,
          -71.105301
         ],
         "mode": "lines",
         "type": "scattergeo"
        },
        {
         "lat": [
          42.340021,
          42.35977
         ],
         "line": {
          "color": "red",
          "width": 1
         },
         "locationmode": "USA-states",
         "lon": [
          -71.100812,
          -71.051601
         ],
         "mode": "lines",
         "type": "scattergeo"
        },
        {
         "lat": [
          42.340021,
          42.345959
         ],
         "line": {
          "color": "red",
          "width": 1
         },
         "locationmode": "USA-states",
         "lon": [
          -71.100812,
          -71.082578
         ],
         "mode": "lines",
         "type": "scattergeo"
        },
        {
         "lat": [
          42.340021,
          42.352175
         ],
         "line": {
          "color": "red",
          "width": 1
         },
         "locationmode": "USA-states",
         "lon": [
          -71.100812,
          -71.055547
         ],
         "mode": "lines",
         "type": "scattergeo"
        },
        {
         "lat": [
          42.340021,
          42.35892
         ],
         "line": {
          "color": "red",
          "width": 1
         },
         "locationmode": "USA-states",
         "lon": [
          -71.100812,
          -71.057629
         ],
         "mode": "lines",
         "type": "scattergeo"
        },
        {
         "lat": [
          42.340021,
          42.351205
         ],
         "line": {
          "color": "red",
          "width": 1
         },
         "locationmode": "USA-states",
         "lon": [
          -71.100812,
          -71.043983
         ],
         "mode": "lines",
         "type": "scattergeo"
        },
        {
         "lat": [
          42.340021,
          42.341332
         ],
         "line": {
          "color": "red",
          "width": 1
         },
         "locationmode": "USA-states",
         "lon": [
          -71.100812,
          -71.076847
         ],
         "mode": "lines",
         "type": "scattergeo"
        },
        {
         "lat": [
          42.340021,
          42.341522
         ],
         "line": {
          "color": "red",
          "width": 1
         },
         "locationmode": "USA-states",
         "lon": [
          -71.100812,
          -71.068922
         ],
         "mode": "lines",
         "type": "scattergeo"
        }
       ],
       "layout": {
        "geo": {
         "coastlinecolor": "#33FF4C",
         "projection": {
          "type": "azimuthal equal area"
         },
         "scope": "north america",
         "showland": true
        },
        "mapbox": {
         "center": {
          "lat": 42.5
         },
         "zoom": 8
        },
        "showlegend": false,
        "template": {
         "data": {
          "bar": [
           {
            "error_x": {
             "color": "#2a3f5f"
            },
            "error_y": {
             "color": "#2a3f5f"
            },
            "marker": {
             "line": {
              "color": "#E5ECF6",
              "width": 0.5
             },
             "pattern": {
              "fillmode": "overlay",
              "size": 10,
              "solidity": 0.2
             }
            },
            "type": "bar"
           }
          ],
          "barpolar": [
           {
            "marker": {
             "line": {
              "color": "#E5ECF6",
              "width": 0.5
             },
             "pattern": {
              "fillmode": "overlay",
              "size": 10,
              "solidity": 0.2
             }
            },
            "type": "barpolar"
           }
          ],
          "carpet": [
           {
            "aaxis": {
             "endlinecolor": "#2a3f5f",
             "gridcolor": "white",
             "linecolor": "white",
             "minorgridcolor": "white",
             "startlinecolor": "#2a3f5f"
            },
            "baxis": {
             "endlinecolor": "#2a3f5f",
             "gridcolor": "white",
             "linecolor": "white",
             "minorgridcolor": "white",
             "startlinecolor": "#2a3f5f"
            },
            "type": "carpet"
           }
          ],
          "choropleth": [
           {
            "colorbar": {
             "outlinewidth": 0,
             "ticks": ""
            },
            "type": "choropleth"
           }
          ],
          "contour": [
           {
            "colorbar": {
             "outlinewidth": 0,
             "ticks": ""
            },
            "colorscale": [
             [
              0,
              "#0d0887"
             ],
             [
              0.1111111111111111,
              "#46039f"
             ],
             [
              0.2222222222222222,
              "#7201a8"
             ],
             [
              0.3333333333333333,
              "#9c179e"
             ],
             [
              0.4444444444444444,
              "#bd3786"
             ],
             [
              0.5555555555555556,
              "#d8576b"
             ],
             [
              0.6666666666666666,
              "#ed7953"
             ],
             [
              0.7777777777777778,
              "#fb9f3a"
             ],
             [
              0.8888888888888888,
              "#fdca26"
             ],
             [
              1,
              "#f0f921"
             ]
            ],
            "type": "contour"
           }
          ],
          "contourcarpet": [
           {
            "colorbar": {
             "outlinewidth": 0,
             "ticks": ""
            },
            "type": "contourcarpet"
           }
          ],
          "heatmap": [
           {
            "colorbar": {
             "outlinewidth": 0,
             "ticks": ""
            },
            "colorscale": [
             [
              0,
              "#0d0887"
             ],
             [
              0.1111111111111111,
              "#46039f"
             ],
             [
              0.2222222222222222,
              "#7201a8"
             ],
             [
              0.3333333333333333,
              "#9c179e"
             ],
             [
              0.4444444444444444,
              "#bd3786"
             ],
             [
              0.5555555555555556,
              "#d8576b"
             ],
             [
              0.6666666666666666,
              "#ed7953"
             ],
             [
              0.7777777777777778,
              "#fb9f3a"
             ],
             [
              0.8888888888888888,
              "#fdca26"
             ],
             [
              1,
              "#f0f921"
             ]
            ],
            "type": "heatmap"
           }
          ],
          "heatmapgl": [
           {
            "colorbar": {
             "outlinewidth": 0,
             "ticks": ""
            },
            "colorscale": [
             [
              0,
              "#0d0887"
             ],
             [
              0.1111111111111111,
              "#46039f"
             ],
             [
              0.2222222222222222,
              "#7201a8"
             ],
             [
              0.3333333333333333,
              "#9c179e"
             ],
             [
              0.4444444444444444,
              "#bd3786"
             ],
             [
              0.5555555555555556,
              "#d8576b"
             ],
             [
              0.6666666666666666,
              "#ed7953"
             ],
             [
              0.7777777777777778,
              "#fb9f3a"
             ],
             [
              0.8888888888888888,
              "#fdca26"
             ],
             [
              1,
              "#f0f921"
             ]
            ],
            "type": "heatmapgl"
           }
          ],
          "histogram": [
           {
            "marker": {
             "pattern": {
              "fillmode": "overlay",
              "size": 10,
              "solidity": 0.2
             }
            },
            "type": "histogram"
           }
          ],
          "histogram2d": [
           {
            "colorbar": {
             "outlinewidth": 0,
             "ticks": ""
            },
            "colorscale": [
             [
              0,
              "#0d0887"
             ],
             [
              0.1111111111111111,
              "#46039f"
             ],
             [
              0.2222222222222222,
              "#7201a8"
             ],
             [
              0.3333333333333333,
              "#9c179e"
             ],
             [
              0.4444444444444444,
              "#bd3786"
             ],
             [
              0.5555555555555556,
              "#d8576b"
             ],
             [
              0.6666666666666666,
              "#ed7953"
             ],
             [
              0.7777777777777778,
              "#fb9f3a"
             ],
             [
              0.8888888888888888,
              "#fdca26"
             ],
             [
              1,
              "#f0f921"
             ]
            ],
            "type": "histogram2d"
           }
          ],
          "histogram2dcontour": [
           {
            "colorbar": {
             "outlinewidth": 0,
             "ticks": ""
            },
            "colorscale": [
             [
              0,
              "#0d0887"
             ],
             [
              0.1111111111111111,
              "#46039f"
             ],
             [
              0.2222222222222222,
              "#7201a8"
             ],
             [
              0.3333333333333333,
              "#9c179e"
             ],
             [
              0.4444444444444444,
              "#bd3786"
             ],
             [
              0.5555555555555556,
              "#d8576b"
             ],
             [
              0.6666666666666666,
              "#ed7953"
             ],
             [
              0.7777777777777778,
              "#fb9f3a"
             ],
             [
              0.8888888888888888,
              "#fdca26"
             ],
             [
              1,
              "#f0f921"
             ]
            ],
            "type": "histogram2dcontour"
           }
          ],
          "mesh3d": [
           {
            "colorbar": {
             "outlinewidth": 0,
             "ticks": ""
            },
            "type": "mesh3d"
           }
          ],
          "parcoords": [
           {
            "line": {
             "colorbar": {
              "outlinewidth": 0,
              "ticks": ""
             }
            },
            "type": "parcoords"
           }
          ],
          "pie": [
           {
            "automargin": true,
            "type": "pie"
           }
          ],
          "scatter": [
           {
            "fillpattern": {
             "fillmode": "overlay",
             "size": 10,
             "solidity": 0.2
            },
            "type": "scatter"
           }
          ],
          "scatter3d": [
           {
            "line": {
             "colorbar": {
              "outlinewidth": 0,
              "ticks": ""
             }
            },
            "marker": {
             "colorbar": {
              "outlinewidth": 0,
              "ticks": ""
             }
            },
            "type": "scatter3d"
           }
          ],
          "scattercarpet": [
           {
            "marker": {
             "colorbar": {
              "outlinewidth": 0,
              "ticks": ""
             }
            },
            "type": "scattercarpet"
           }
          ],
          "scattergeo": [
           {
            "marker": {
             "colorbar": {
              "outlinewidth": 0,
              "ticks": ""
             }
            },
            "type": "scattergeo"
           }
          ],
          "scattergl": [
           {
            "marker": {
             "colorbar": {
              "outlinewidth": 0,
              "ticks": ""
             }
            },
            "type": "scattergl"
           }
          ],
          "scattermapbox": [
           {
            "marker": {
             "colorbar": {
              "outlinewidth": 0,
              "ticks": ""
             }
            },
            "type": "scattermapbox"
           }
          ],
          "scatterpolar": [
           {
            "marker": {
             "colorbar": {
              "outlinewidth": 0,
              "ticks": ""
             }
            },
            "type": "scatterpolar"
           }
          ],
          "scatterpolargl": [
           {
            "marker": {
             "colorbar": {
              "outlinewidth": 0,
              "ticks": ""
             }
            },
            "type": "scatterpolargl"
           }
          ],
          "scatterternary": [
           {
            "marker": {
             "colorbar": {
              "outlinewidth": 0,
              "ticks": ""
             }
            },
            "type": "scatterternary"
           }
          ],
          "surface": [
           {
            "colorbar": {
             "outlinewidth": 0,
             "ticks": ""
            },
            "colorscale": [
             [
              0,
              "#0d0887"
             ],
             [
              0.1111111111111111,
              "#46039f"
             ],
             [
              0.2222222222222222,
              "#7201a8"
             ],
             [
              0.3333333333333333,
              "#9c179e"
             ],
             [
              0.4444444444444444,
              "#bd3786"
             ],
             [
              0.5555555555555556,
              "#d8576b"
             ],
             [
              0.6666666666666666,
              "#ed7953"
             ],
             [
              0.7777777777777778,
              "#fb9f3a"
             ],
             [
              0.8888888888888888,
              "#fdca26"
             ],
             [
              1,
              "#f0f921"
             ]
            ],
            "type": "surface"
           }
          ],
          "table": [
           {
            "cells": {
             "fill": {
              "color": "#EBF0F8"
             },
             "line": {
              "color": "white"
             }
            },
            "header": {
             "fill": {
              "color": "#C8D4E3"
             },
             "line": {
              "color": "white"
             }
            },
            "type": "table"
           }
          ]
         },
         "layout": {
          "annotationdefaults": {
           "arrowcolor": "#2a3f5f",
           "arrowhead": 0,
           "arrowwidth": 1
          },
          "autotypenumbers": "strict",
          "coloraxis": {
           "colorbar": {
            "outlinewidth": 0,
            "ticks": ""
           }
          },
          "colorscale": {
           "diverging": [
            [
             0,
             "#8e0152"
            ],
            [
             0.1,
             "#c51b7d"
            ],
            [
             0.2,
             "#de77ae"
            ],
            [
             0.3,
             "#f1b6da"
            ],
            [
             0.4,
             "#fde0ef"
            ],
            [
             0.5,
             "#f7f7f7"
            ],
            [
             0.6,
             "#e6f5d0"
            ],
            [
             0.7,
             "#b8e186"
            ],
            [
             0.8,
             "#7fbc41"
            ],
            [
             0.9,
             "#4d9221"
            ],
            [
             1,
             "#276419"
            ]
           ],
           "sequential": [
            [
             0,
             "#0d0887"
            ],
            [
             0.1111111111111111,
             "#46039f"
            ],
            [
             0.2222222222222222,
             "#7201a8"
            ],
            [
             0.3333333333333333,
             "#9c179e"
            ],
            [
             0.4444444444444444,
             "#bd3786"
            ],
            [
             0.5555555555555556,
             "#d8576b"
            ],
            [
             0.6666666666666666,
             "#ed7953"
            ],
            [
             0.7777777777777778,
             "#fb9f3a"
            ],
            [
             0.8888888888888888,
             "#fdca26"
            ],
            [
             1,
             "#f0f921"
            ]
           ],
           "sequentialminus": [
            [
             0,
             "#0d0887"
            ],
            [
             0.1111111111111111,
             "#46039f"
            ],
            [
             0.2222222222222222,
             "#7201a8"
            ],
            [
             0.3333333333333333,
             "#9c179e"
            ],
            [
             0.4444444444444444,
             "#bd3786"
            ],
            [
             0.5555555555555556,
             "#d8576b"
            ],
            [
             0.6666666666666666,
             "#ed7953"
            ],
            [
             0.7777777777777778,
             "#fb9f3a"
            ],
            [
             0.8888888888888888,
             "#fdca26"
            ],
            [
             1,
             "#f0f921"
            ]
           ]
          },
          "colorway": [
           "#636efa",
           "#EF553B",
           "#00cc96",
           "#ab63fa",
           "#FFA15A",
           "#19d3f3",
           "#FF6692",
           "#B6E880",
           "#FF97FF",
           "#FECB52"
          ],
          "font": {
           "color": "#2a3f5f"
          },
          "geo": {
           "bgcolor": "white",
           "lakecolor": "white",
           "landcolor": "#E5ECF6",
           "showlakes": true,
           "showland": true,
           "subunitcolor": "white"
          },
          "hoverlabel": {
           "align": "left"
          },
          "hovermode": "closest",
          "mapbox": {
           "style": "light"
          },
          "paper_bgcolor": "white",
          "plot_bgcolor": "#E5ECF6",
          "polar": {
           "angularaxis": {
            "gridcolor": "white",
            "linecolor": "white",
            "ticks": ""
           },
           "bgcolor": "#E5ECF6",
           "radialaxis": {
            "gridcolor": "white",
            "linecolor": "white",
            "ticks": ""
           }
          },
          "scene": {
           "xaxis": {
            "backgroundcolor": "#E5ECF6",
            "gridcolor": "white",
            "gridwidth": 2,
            "linecolor": "white",
            "showbackground": true,
            "ticks": "",
            "zerolinecolor": "white"
           },
           "yaxis": {
            "backgroundcolor": "#E5ECF6",
            "gridcolor": "white",
            "gridwidth": 2,
            "linecolor": "white",
            "showbackground": true,
            "ticks": "",
            "zerolinecolor": "white"
           },
           "zaxis": {
            "backgroundcolor": "#E5ECF6",
            "gridcolor": "white",
            "gridwidth": 2,
            "linecolor": "white",
            "showbackground": true,
            "ticks": "",
            "zerolinecolor": "white"
           }
          },
          "shapedefaults": {
           "line": {
            "color": "#2a3f5f"
           }
          },
          "ternary": {
           "aaxis": {
            "gridcolor": "white",
            "linecolor": "white",
            "ticks": ""
           },
           "baxis": {
            "gridcolor": "white",
            "linecolor": "white",
            "ticks": ""
           },
           "bgcolor": "#E5ECF6",
           "caxis": {
            "gridcolor": "white",
            "linecolor": "white",
            "ticks": ""
           }
          },
          "title": {
           "x": 0.05
          },
          "xaxis": {
           "automargin": true,
           "gridcolor": "white",
           "linecolor": "white",
           "ticks": "",
           "title": {
            "standoff": 15
           },
           "zerolinecolor": "white",
           "zerolinewidth": 2
          },
          "yaxis": {
           "automargin": true,
           "gridcolor": "white",
           "linecolor": "white",
           "ticks": "",
           "title": {
            "standoff": 15
           },
           "zerolinecolor": "white",
           "zerolinewidth": 2
          }
         }
        },
        "title": {
         "text": "test"
        }
       }
      }
     },
     "metadata": {},
     "output_type": "display_data"
    }
   ],
   "source": [
    "\n",
    "import plotly.graph_objects as go\n",
    "fig = go.Figure()\n",
    "\n",
    "flight_paths = []\n",
    "for i in range(len(df_trips.loc[df_trips['count_trips'] > 1000])):\n",
    "    fig.add_trace(\n",
    "        go.Scattergeo(\n",
    "            locationmode = 'USA-states',\n",
    "            lon = [df_trips['start_station_longitude'][i], df_trips['end_station_longitude'][i]],\n",
    "            lat = [df_trips['start_station_latitude'][i], df_trips['end_station_latitude'][i]],\n",
    "            mode = 'lines',\n",
    "            line = dict(width = 1,color = 'red'),\n",
    "            # opacity = float(df_flight_paths['cnt'][i]) / float(df_flight_paths['cnt'].max()),\n",
    "        )\n",
    "    )\n",
    "\n",
    "\n",
    "\n",
    "fig.update_layout(\n",
    "    title_text = 'test',\n",
    "    showlegend = False,\n",
    "    geo = dict(\n",
    "        coastlinecolor = '#33FF4C',\n",
    "        scope = 'north america',\n",
    "        projection_type = 'azimuthal equal area',\n",
    "        showland = True,\n",
    "       \n",
    "    ),\n",
    "    mapbox_zoom=8, mapbox_center_lat = 42.5,\n",
    ")\n",
    "\n",
    "fig.show()"
   ]
  },
  {
   "cell_type": "code",
   "execution_count": null,
   "metadata": {},
   "outputs": [],
   "source": [
    "import seaborn as sns"
   ]
  },
  {
   "cell_type": "code",
   "execution_count": 62,
   "metadata": {},
   "outputs": [
    {
     "ename": "ValueError",
     "evalue": "Expected two (lat, lon) values for location, instead got: 14116    42.397828\n12224    42.396969\n13627    42.402763\n8064     42.358100\n4532     42.363871\n           ...    \n6657     42.347265\n6578     42.354979\n6576     42.354979\n6575     42.354979\n11218    42.366277\nName: start_station_latitude, Length: 18161, dtype: float64.",
     "output_type": "error",
     "traceback": [
      "\u001B[0;31m---------------------------------------------------------------------------\u001B[0m",
      "\u001B[0;31mTypeError\u001B[0m                                 Traceback (most recent call last)",
      "File \u001B[0;32m~/opt/anaconda3/envs/AAproject/lib/python3.9/site-packages/folium/utilities.py:103\u001B[0m, in \u001B[0;36mvalidate_locations\u001B[0;34m(locations)\u001B[0m\n\u001B[1;32m    102\u001B[0m \u001B[39mtry\u001B[39;00m:\n\u001B[0;32m--> 103\u001B[0m     \u001B[39mfloat\u001B[39m(\u001B[39mnext\u001B[39m(\u001B[39miter\u001B[39;49m(\u001B[39mnext\u001B[39;49m(\u001B[39miter\u001B[39;49m(\u001B[39mnext\u001B[39;49m(\u001B[39miter\u001B[39;49m(locations)))))))\n\u001B[1;32m    104\u001B[0m \u001B[39mexcept\u001B[39;00m (\u001B[39mTypeError\u001B[39;00m, \u001B[39mStopIteration\u001B[39;00m):\n\u001B[1;32m    105\u001B[0m     \u001B[39m# locations is a list of coordinate pairs\u001B[39;00m\n",
      "\u001B[0;31mTypeError\u001B[0m: 'float' object is not iterable",
      "\nDuring handling of the above exception, another exception occurred:\n",
      "\u001B[0;31mValueError\u001B[0m                                Traceback (most recent call last)",
      "Cell \u001B[0;32mIn [62], line 8\u001B[0m\n\u001B[1;32m      3\u001B[0m m \u001B[39m=\u001B[39m folium\u001B[39m.\u001B[39mMap(location\u001B[39m=\u001B[39m[\u001B[39m40.720\u001B[39m, \u001B[39m-\u001B[39m\u001B[39m73.993\u001B[39m],\n\u001B[1;32m      4\u001B[0m               zoom_start\u001B[39m=\u001B[39m\u001B[39m15\u001B[39m)\n\u001B[1;32m      6\u001B[0m loc \u001B[39m=\u001B[39m [(df_trips[\u001B[39m'\u001B[39m\u001B[39mstart_station_latitude\u001B[39m\u001B[39m'\u001B[39m], df_trips[\u001B[39m'\u001B[39m\u001B[39mstart_station_longitude\u001B[39m\u001B[39m'\u001B[39m]), (df_trips[\u001B[39m'\u001B[39m\u001B[39mend_station_latitude\u001B[39m\u001B[39m'\u001B[39m], df_trips[\u001B[39m'\u001B[39m\u001B[39mend_station_longitude\u001B[39m\u001B[39m'\u001B[39m])]\n\u001B[0;32m----> 8\u001B[0m folium\u001B[39m.\u001B[39;49mPolyLine(loc,\n\u001B[1;32m      9\u001B[0m                 color\u001B[39m=\u001B[39;49m\u001B[39m'\u001B[39;49m\u001B[39mred\u001B[39;49m\u001B[39m'\u001B[39;49m,\n\u001B[1;32m     10\u001B[0m                 weight\u001B[39m=\u001B[39;49m\u001B[39m15\u001B[39;49m,\n\u001B[1;32m     11\u001B[0m                 opacity\u001B[39m=\u001B[39;49m\u001B[39m0.8\u001B[39;49m)\u001B[39m.\u001B[39madd_to(m)\n",
      "File \u001B[0;32m~/opt/anaconda3/envs/AAproject/lib/python3.9/site-packages/folium/vector_layers.py:169\u001B[0m, in \u001B[0;36mPolyLine.__init__\u001B[0;34m(self, locations, popup, tooltip, **kwargs)\u001B[0m\n\u001B[1;32m    168\u001B[0m \u001B[39mdef\u001B[39;00m \u001B[39m__init__\u001B[39m(\u001B[39mself\u001B[39m, locations, popup\u001B[39m=\u001B[39m\u001B[39mNone\u001B[39;00m, tooltip\u001B[39m=\u001B[39m\u001B[39mNone\u001B[39;00m, \u001B[39m*\u001B[39m\u001B[39m*\u001B[39mkwargs):\n\u001B[0;32m--> 169\u001B[0m     \u001B[39msuper\u001B[39;49m()\u001B[39m.\u001B[39;49m\u001B[39m__init__\u001B[39;49m(locations, popup\u001B[39m=\u001B[39;49mpopup, tooltip\u001B[39m=\u001B[39;49mtooltip)\n\u001B[1;32m    170\u001B[0m     \u001B[39mself\u001B[39m\u001B[39m.\u001B[39m_name \u001B[39m=\u001B[39m \u001B[39m\"\u001B[39m\u001B[39mPolyLine\u001B[39m\u001B[39m\"\u001B[39m\n\u001B[1;32m    171\u001B[0m     \u001B[39mself\u001B[39m\u001B[39m.\u001B[39moptions \u001B[39m=\u001B[39m path_options(line\u001B[39m=\u001B[39m\u001B[39mTrue\u001B[39;00m, \u001B[39m*\u001B[39m\u001B[39m*\u001B[39mkwargs)\n",
      "File \u001B[0;32m~/opt/anaconda3/envs/AAproject/lib/python3.9/site-packages/folium/vector_layers.py:119\u001B[0m, in \u001B[0;36mBaseMultiLocation.__init__\u001B[0;34m(self, locations, popup, tooltip)\u001B[0m\n\u001B[1;32m    117\u001B[0m \u001B[39mdef\u001B[39;00m \u001B[39m__init__\u001B[39m(\u001B[39mself\u001B[39m, locations, popup\u001B[39m=\u001B[39m\u001B[39mNone\u001B[39;00m, tooltip\u001B[39m=\u001B[39m\u001B[39mNone\u001B[39;00m):\n\u001B[1;32m    118\u001B[0m     \u001B[39msuper\u001B[39m()\u001B[39m.\u001B[39m\u001B[39m__init__\u001B[39m()\n\u001B[0;32m--> 119\u001B[0m     \u001B[39mself\u001B[39m\u001B[39m.\u001B[39mlocations \u001B[39m=\u001B[39m validate_locations(locations)\n\u001B[1;32m    120\u001B[0m     \u001B[39mif\u001B[39;00m popup \u001B[39mis\u001B[39;00m \u001B[39mnot\u001B[39;00m \u001B[39mNone\u001B[39;00m:\n\u001B[1;32m    121\u001B[0m         \u001B[39mself\u001B[39m\u001B[39m.\u001B[39madd_child(popup \u001B[39mif\u001B[39;00m \u001B[39misinstance\u001B[39m(popup, Popup) \u001B[39melse\u001B[39;00m Popup(\u001B[39mstr\u001B[39m(popup)))\n",
      "File \u001B[0;32m~/opt/anaconda3/envs/AAproject/lib/python3.9/site-packages/folium/utilities.py:109\u001B[0m, in \u001B[0;36mvalidate_locations\u001B[0;34m(locations)\u001B[0m\n\u001B[1;32m    106\u001B[0m     \u001B[39mreturn\u001B[39;00m [validate_location(coord_pair) \u001B[39mfor\u001B[39;00m coord_pair \u001B[39min\u001B[39;00m locations]\n\u001B[1;32m    107\u001B[0m \u001B[39melse\u001B[39;00m:\n\u001B[1;32m    108\u001B[0m     \u001B[39m# locations is a list of a list of coordinate pairs, recurse\u001B[39;00m\n\u001B[0;32m--> 109\u001B[0m     \u001B[39mreturn\u001B[39;00m [validate_locations(lst) \u001B[39mfor\u001B[39;00m lst \u001B[39min\u001B[39;00m locations]\n",
      "File \u001B[0;32m~/opt/anaconda3/envs/AAproject/lib/python3.9/site-packages/folium/utilities.py:109\u001B[0m, in \u001B[0;36m<listcomp>\u001B[0;34m(.0)\u001B[0m\n\u001B[1;32m    106\u001B[0m     \u001B[39mreturn\u001B[39;00m [validate_location(coord_pair) \u001B[39mfor\u001B[39;00m coord_pair \u001B[39min\u001B[39;00m locations]\n\u001B[1;32m    107\u001B[0m \u001B[39melse\u001B[39;00m:\n\u001B[1;32m    108\u001B[0m     \u001B[39m# locations is a list of a list of coordinate pairs, recurse\u001B[39;00m\n\u001B[0;32m--> 109\u001B[0m     \u001B[39mreturn\u001B[39;00m [validate_locations(lst) \u001B[39mfor\u001B[39;00m lst \u001B[39min\u001B[39;00m locations]\n",
      "File \u001B[0;32m~/opt/anaconda3/envs/AAproject/lib/python3.9/site-packages/folium/utilities.py:106\u001B[0m, in \u001B[0;36mvalidate_locations\u001B[0;34m(locations)\u001B[0m\n\u001B[1;32m    103\u001B[0m     \u001B[39mfloat\u001B[39m(\u001B[39mnext\u001B[39m(\u001B[39miter\u001B[39m(\u001B[39mnext\u001B[39m(\u001B[39miter\u001B[39m(\u001B[39mnext\u001B[39m(\u001B[39miter\u001B[39m(locations)))))))\n\u001B[1;32m    104\u001B[0m \u001B[39mexcept\u001B[39;00m (\u001B[39mTypeError\u001B[39;00m, \u001B[39mStopIteration\u001B[39;00m):\n\u001B[1;32m    105\u001B[0m     \u001B[39m# locations is a list of coordinate pairs\u001B[39;00m\n\u001B[0;32m--> 106\u001B[0m     \u001B[39mreturn\u001B[39;00m [validate_location(coord_pair) \u001B[39mfor\u001B[39;00m coord_pair \u001B[39min\u001B[39;00m locations]\n\u001B[1;32m    107\u001B[0m \u001B[39melse\u001B[39;00m:\n\u001B[1;32m    108\u001B[0m     \u001B[39m# locations is a list of a list of coordinate pairs, recurse\u001B[39;00m\n\u001B[1;32m    109\u001B[0m     \u001B[39mreturn\u001B[39;00m [validate_locations(lst) \u001B[39mfor\u001B[39;00m lst \u001B[39min\u001B[39;00m locations]\n",
      "File \u001B[0;32m~/opt/anaconda3/envs/AAproject/lib/python3.9/site-packages/folium/utilities.py:106\u001B[0m, in \u001B[0;36m<listcomp>\u001B[0;34m(.0)\u001B[0m\n\u001B[1;32m    103\u001B[0m     \u001B[39mfloat\u001B[39m(\u001B[39mnext\u001B[39m(\u001B[39miter\u001B[39m(\u001B[39mnext\u001B[39m(\u001B[39miter\u001B[39m(\u001B[39mnext\u001B[39m(\u001B[39miter\u001B[39m(locations)))))))\n\u001B[1;32m    104\u001B[0m \u001B[39mexcept\u001B[39;00m (\u001B[39mTypeError\u001B[39;00m, \u001B[39mStopIteration\u001B[39;00m):\n\u001B[1;32m    105\u001B[0m     \u001B[39m# locations is a list of coordinate pairs\u001B[39;00m\n\u001B[0;32m--> 106\u001B[0m     \u001B[39mreturn\u001B[39;00m [validate_location(coord_pair) \u001B[39mfor\u001B[39;00m coord_pair \u001B[39min\u001B[39;00m locations]\n\u001B[1;32m    107\u001B[0m \u001B[39melse\u001B[39;00m:\n\u001B[1;32m    108\u001B[0m     \u001B[39m# locations is a list of a list of coordinate pairs, recurse\u001B[39;00m\n\u001B[1;32m    109\u001B[0m     \u001B[39mreturn\u001B[39;00m [validate_locations(lst) \u001B[39mfor\u001B[39;00m lst \u001B[39min\u001B[39;00m locations]\n",
      "File \u001B[0;32m~/opt/anaconda3/envs/AAproject/lib/python3.9/site-packages/folium/utilities.py:54\u001B[0m, in \u001B[0;36mvalidate_location\u001B[0;34m(location)\u001B[0m\n\u001B[1;32m     48\u001B[0m     \u001B[39mraise\u001B[39;00m \u001B[39mTypeError\u001B[39;00m(\n\u001B[1;32m     49\u001B[0m         \u001B[39m\"\u001B[39m\u001B[39mLocation should be a sized variable, \u001B[39m\u001B[39m\"\u001B[39m\n\u001B[1;32m     50\u001B[0m         \u001B[39m\"\u001B[39m\u001B[39mfor example a list or a tuple, instead got \u001B[39m\u001B[39m\"\u001B[39m\n\u001B[1;32m     51\u001B[0m         \u001B[39m\"\u001B[39m\u001B[39m{!r}\u001B[39;00m\u001B[39m of type \u001B[39m\u001B[39m{}\u001B[39;00m\u001B[39m.\u001B[39m\u001B[39m\"\u001B[39m\u001B[39m.\u001B[39mformat(location, \u001B[39mtype\u001B[39m(location))\n\u001B[1;32m     52\u001B[0m     )\n\u001B[1;32m     53\u001B[0m \u001B[39mif\u001B[39;00m \u001B[39mlen\u001B[39m(location) \u001B[39m!=\u001B[39m \u001B[39m2\u001B[39m:\n\u001B[0;32m---> 54\u001B[0m     \u001B[39mraise\u001B[39;00m \u001B[39mValueError\u001B[39;00m(\n\u001B[1;32m     55\u001B[0m         \u001B[39m\"\u001B[39m\u001B[39mExpected two (lat, lon) values for location, \u001B[39m\u001B[39m\"\u001B[39m\n\u001B[1;32m     56\u001B[0m         \u001B[39m\"\u001B[39m\u001B[39minstead got: \u001B[39m\u001B[39m{!r}\u001B[39;00m\u001B[39m.\u001B[39m\u001B[39m\"\u001B[39m\u001B[39m.\u001B[39mformat(location)\n\u001B[1;32m     57\u001B[0m     )\n\u001B[1;32m     58\u001B[0m \u001B[39mtry\u001B[39;00m:\n\u001B[1;32m     59\u001B[0m     coords \u001B[39m=\u001B[39m (location[\u001B[39m0\u001B[39m], location[\u001B[39m1\u001B[39m])\n",
      "\u001B[0;31mValueError\u001B[0m: Expected two (lat, lon) values for location, instead got: 14116    42.397828\n12224    42.396969\n13627    42.402763\n8064     42.358100\n4532     42.363871\n           ...    \n6657     42.347265\n6578     42.354979\n6576     42.354979\n6575     42.354979\n11218    42.366277\nName: start_station_latitude, Length: 18161, dtype: float64."
     ]
    }
   ],
   "source": [
    "import folium\n",
    "\n",
    "m = folium.Map(location=[40.720, -73.993],\n",
    "              zoom_start=15)\n",
    "\n",
    "loc = [(df_trips['start_station_latitude'], df_trips['start_station_longitude']), (df_trips['end_station_latitude'], df_trips['end_station_longitude'])]\n",
    "\n",
    "folium.PolyLine(loc,\n",
    "                color='red',\n",
    "                weight=15,\n",
    "                opacity=0.8).add_to(m)"
   ]
  },
  {
   "cell_type": "code",
   "execution_count": null,
   "metadata": {},
   "outputs": [],
   "source": []
  }
 ],
 "metadata": {
  "kernelspec": {
   "display_name": "AAproject",
   "language": "python",
   "name": "python3"
  },
  "language_info": {
   "codemirror_mode": {
    "name": "ipython",
    "version": 3
   },
   "file_extension": ".py",
   "mimetype": "text/x-python",
   "name": "python",
   "nbconvert_exporter": "python",
   "pygments_lexer": "ipython3",
   "version": "3.9.15"
  },
  "vscode": {
   "interpreter": {
    "hash": "4bda6f00b1c96ac5a9a9d5d0da9c426f670222a35f5423f5287bfe0ddc8184d4"
   }
  }
 },
 "nbformat": 4,
 "nbformat_minor": 2
}
