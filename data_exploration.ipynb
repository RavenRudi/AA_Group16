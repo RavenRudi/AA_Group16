{
 "cells": [
  {
   "cell_type": "code",
   "execution_count": 129,
   "metadata": {},
   "outputs": [
    {
     "name": "stdout",
     "output_type": "stream",
     "text": [
      "Total number of rows: 1122558\n"
     ]
    }
   ],
   "source": [
    "import pandas as pd\n",
    "import numpy as np\n",
    "\n",
    "df_boston = pd.read_csv('./data/boston_2015.csv', dtype={'start_station_id': np.int64, 'end_station_id': 'string', 'end_station_name': 'string', 'start_station_name': 'string', 'bike_id': np.int64, 'user_type': 'string'})\n",
    "print(f'Total number of rows: {len(df_boston)}')"
   ]
  },
  {
   "cell_type": "code",
   "execution_count": 130,
   "metadata": {},
   "outputs": [
    {
     "data": {
      "text/html": [
       "<div>\n",
       "<style scoped>\n",
       "    .dataframe tbody tr th:only-of-type {\n",
       "        vertical-align: middle;\n",
       "    }\n",
       "\n",
       "    .dataframe tbody tr th {\n",
       "        vertical-align: top;\n",
       "    }\n",
       "\n",
       "    .dataframe thead th {\n",
       "        text-align: right;\n",
       "    }\n",
       "</style>\n",
       "<table border=\"1\" class=\"dataframe\">\n",
       "  <thead>\n",
       "    <tr style=\"text-align: right;\">\n",
       "      <th></th>\n",
       "      <th>start_time</th>\n",
       "      <th>end_time</th>\n",
       "      <th>start_station_id</th>\n",
       "      <th>end_station_id</th>\n",
       "      <th>start_station_name</th>\n",
       "      <th>end_station_name</th>\n",
       "      <th>bike_id</th>\n",
       "      <th>user_type</th>\n",
       "    </tr>\n",
       "  </thead>\n",
       "  <tbody>\n",
       "    <tr>\n",
       "      <th>0</th>\n",
       "      <td>2015-01-01 00:21:44</td>\n",
       "      <td>2015-01-01 00:30:47</td>\n",
       "      <td>115</td>\n",
       "      <td>96</td>\n",
       "      <td>Porter Square Station</td>\n",
       "      <td>Cambridge Main Library at Broadway / Trowbridg...</td>\n",
       "      <td>277</td>\n",
       "      <td>Subscriber</td>\n",
       "    </tr>\n",
       "    <tr>\n",
       "      <th>1</th>\n",
       "      <td>2015-01-01 00:27:03</td>\n",
       "      <td>2015-01-01 00:34:21</td>\n",
       "      <td>80</td>\n",
       "      <td>95</td>\n",
       "      <td>MIT Stata Center at Vassar St / Main St</td>\n",
       "      <td>Cambridge St - at Columbia St / Webster Ave</td>\n",
       "      <td>648</td>\n",
       "      <td>Subscriber</td>\n",
       "    </tr>\n",
       "    <tr>\n",
       "      <th>2</th>\n",
       "      <td>2015-01-01 00:31:31</td>\n",
       "      <td>2015-01-01 00:35:46</td>\n",
       "      <td>91</td>\n",
       "      <td>68</td>\n",
       "      <td>One Kendall Square at Hampshire St / Portland St</td>\n",
       "      <td>Central Square at Mass Ave / Essex St</td>\n",
       "      <td>555</td>\n",
       "      <td>Subscriber</td>\n",
       "    </tr>\n",
       "    <tr>\n",
       "      <th>3</th>\n",
       "      <td>2015-01-01 00:53:46</td>\n",
       "      <td>2015-01-01 01:00:58</td>\n",
       "      <td>115</td>\n",
       "      <td>96</td>\n",
       "      <td>Porter Square Station</td>\n",
       "      <td>Cambridge Main Library at Broadway / Trowbridg...</td>\n",
       "      <td>1307</td>\n",
       "      <td>Subscriber</td>\n",
       "    </tr>\n",
       "    <tr>\n",
       "      <th>4</th>\n",
       "      <td>2015-01-01 01:07:06</td>\n",
       "      <td>2015-01-01 01:19:21</td>\n",
       "      <td>105</td>\n",
       "      <td>88</td>\n",
       "      <td>Lower Cambridgeport at Magazine St/Riverside Rd</td>\n",
       "      <td>Inman Square at Vellucci Plaza / Hampshire St</td>\n",
       "      <td>177</td>\n",
       "      <td>Customer</td>\n",
       "    </tr>\n",
       "  </tbody>\n",
       "</table>\n",
       "</div>"
      ],
      "text/plain": [
       "            start_time             end_time  start_station_id end_station_id  \\\n",
       "0  2015-01-01 00:21:44  2015-01-01 00:30:47               115             96   \n",
       "1  2015-01-01 00:27:03  2015-01-01 00:34:21                80             95   \n",
       "2  2015-01-01 00:31:31  2015-01-01 00:35:46                91             68   \n",
       "3  2015-01-01 00:53:46  2015-01-01 01:00:58               115             96   \n",
       "4  2015-01-01 01:07:06  2015-01-01 01:19:21               105             88   \n",
       "\n",
       "                                 start_station_name  \\\n",
       "0                             Porter Square Station   \n",
       "1           MIT Stata Center at Vassar St / Main St   \n",
       "2  One Kendall Square at Hampshire St / Portland St   \n",
       "3                             Porter Square Station   \n",
       "4   Lower Cambridgeport at Magazine St/Riverside Rd   \n",
       "\n",
       "                                    end_station_name  bike_id   user_type  \n",
       "0  Cambridge Main Library at Broadway / Trowbridg...      277  Subscriber  \n",
       "1        Cambridge St - at Columbia St / Webster Ave      648  Subscriber  \n",
       "2              Central Square at Mass Ave / Essex St      555  Subscriber  \n",
       "3  Cambridge Main Library at Broadway / Trowbridg...     1307  Subscriber  \n",
       "4      Inman Square at Vellucci Plaza / Hampshire St      177    Customer  "
      ]
     },
     "execution_count": 130,
     "metadata": {},
     "output_type": "execute_result"
    }
   ],
   "source": [
    "df_boston.head()"
   ]
  },
  {
   "cell_type": "markdown",
   "metadata": {},
   "source": [
    "# Preprocessing\n",
    "### Set data type of 'end_station_id'"
   ]
  },
  {
   "cell_type": "code",
   "execution_count": 131,
   "metadata": {},
   "outputs": [
    {
     "data": {
      "text/plain": [
       "<StringArray>\n",
       "[ '96',  '95',  '68',  '88',  '76', '118',  '75',  '67',  '36',  '23',\n",
       " ...\n",
       " '169', '174', '175', '159', '171', '178', '176', '179', '180', '177']\n",
       "Length: 157, dtype: string"
      ]
     },
     "execution_count": 131,
     "metadata": {},
     "output_type": "execute_result"
    }
   ],
   "source": [
    "df_boston['end_station_id'].unique()"
   ]
  },
  {
   "cell_type": "code",
   "execution_count": 132,
   "metadata": {},
   "outputs": [
    {
     "name": "stdout",
     "output_type": "stream",
     "text": [
      "Number of \"\\\\N\" occurences in end_station_id column: 1\n",
      "<class 'pandas.core.frame.DataFrame'>\n",
      "Int64Index: 1122557 entries, 0 to 1122557\n",
      "Data columns (total 8 columns):\n",
      " #   Column              Non-Null Count    Dtype \n",
      "---  ------              --------------    ----- \n",
      " 0   start_time          1122557 non-null  object\n",
      " 1   end_time            1122557 non-null  object\n",
      " 2   start_station_id    1122557 non-null  int64 \n",
      " 3   end_station_id      1122557 non-null  int64 \n",
      " 4   start_station_name  1122557 non-null  string\n",
      " 5   end_station_name    1122557 non-null  string\n",
      " 6   bike_id             1122557 non-null  int64 \n",
      " 7   user_type           1122557 non-null  string\n",
      "dtypes: int64(3), object(2), string(3)\n",
      "memory usage: 77.1+ MB\n"
     ]
    }
   ],
   "source": [
    "# Value '\\\\N' seems to be anomaly -> occurs only once, so drop!\n",
    "num_occurences = len(df_boston.loc[df_boston[\"end_station_id\"] == \"\\\\N\"])\n",
    "print(f'Number of \"\\\\\\\\N\" occurences in end_station_id column: {num_occurences}')\n",
    "df_boston.drop(index=df_boston.loc[df_boston[\"end_station_id\"] == \"\\\\N\"].index, inplace=True, axis=1)\n",
    "\n",
    "# now set column to dtype np.int64\n",
    "df_boston = df_boston.astype({'end_station_id': np.int64})\n",
    "df_boston.info()"
   ]
  },
  {
   "cell_type": "markdown",
   "metadata": {},
   "source": [
    "### Set data type of time columns"
   ]
  },
  {
   "cell_type": "code",
   "execution_count": 133,
   "metadata": {},
   "outputs": [
    {
     "data": {
      "text/plain": [
       "start_time            datetime64[ns]\n",
       "end_time              datetime64[ns]\n",
       "start_station_id               int64\n",
       "end_station_id                 int64\n",
       "start_station_name            string\n",
       "end_station_name              string\n",
       "bike_id                        int64\n",
       "user_type                     string\n",
       "dtype: object"
      ]
     },
     "execution_count": 133,
     "metadata": {},
     "output_type": "execute_result"
    }
   ],
   "source": [
    "df_boston['start_time'] = pd.to_datetime(df_boston['start_time'], format='%Y-%m-%d %X')\n",
    "df_boston['end_time'] = pd.to_datetime(df_boston['end_time'], format='%Y-%m-%d %X')\n",
    "df_boston.dtypes"
   ]
  },
  {
   "cell_type": "markdown",
   "metadata": {},
   "source": [
    "#### Check if station id and names are unique tuples"
   ]
  },
  {
   "cell_type": "code",
   "execution_count": 134,
   "metadata": {},
   "outputs": [
    {
     "data": {
      "text/plain": [
       "<StringArray>\n",
       "['Cambridge Main Library at Broadway / Trowbridge St']\n",
       "Length: 1, dtype: string"
      ]
     },
     "execution_count": 134,
     "metadata": {},
     "output_type": "execute_result"
    }
   ],
   "source": [
    "# len(df_boston['start_station_name'].unique())\n",
    "df_boston.loc[df_boston['start_station_id'] == 96]['start_station_name'].unique()"
   ]
  },
  {
   "cell_type": "code",
   "execution_count": 143,
   "metadata": {},
   "outputs": [
    {
     "data": {
      "text/plain": [
       "array([['1', '18 Dorrance Warehouse'],\n",
       "       ['10', 'B.U. Central - 725 Comm. Ave.'],\n",
       "       ['100', 'Davis Square'],\n",
       "       ['102', 'Powder House Circle - Nathan Tufts Park'],\n",
       "       ['103', 'JFK Crossing at Harvard St. / Thorndike St.'],\n",
       "       ['104',\n",
       "        'Harvard University Radcliffe Quadrangle at Shepard St / Garden St'],\n",
       "       ['105', 'Lower Cambridgeport at Magazine St/Riverside Rd'],\n",
       "       ['106', 'Mt Pleasant Ave / Dudley Town Common'],\n",
       "       ['107', 'Ames St at Main St'],\n",
       "       ['108',\n",
       "        'Harvard University / SEAS Cruft-Pierce Halls at 29 Oxford St'],\n",
       "       ['109', 'TD Garden - Causeway at Portal Park #1'],\n",
       "       ['11', 'Longwood Ave / Binney St'],\n",
       "       ['110', 'Harvard University Gund Hall at Quincy St / Kirkland S'],\n",
       "       ['111', 'Packard Ave / Powderhouse Blvd'],\n",
       "       ['112', 'Somerville Hospital at Highland Ave / Crocker St'],\n",
       "       ['113', 'Andrew Station - Dorchester Ave at Humboldt Pl'],\n",
       "       ['114', 'Teele Square at 239 Holland St'],\n",
       "       ['115', 'Porter Square Station'],\n",
       "       ['116', '359 Broadway - Broadway at Fayette Street'],\n",
       "       ['117', 'Binney St / Sixth St'],\n",
       "       ['118', 'Linear Park - Mass. Ave. at Cameron Ave. '],\n",
       "       ['119', 'South Boston Library - 646 East Broadway'],\n",
       "       ['12', 'Ruggles Station / Columbus Ave.'],\n",
       "       ['120', 'Charles St at Beacon St'],\n",
       "       ['121', 'West Broadway at Dorchester St'],\n",
       "       ['122', 'BIDMC - Brookline at Burlington St'],\n",
       "       ['123', 'JP Center - Centre Street at Myrtle Street'],\n",
       "       ['124', 'Curtis Hall at South Street'],\n",
       "       ['125', 'Hyde Square at Barbara St'],\n",
       "       ['126', 'Egleston Square at Columbus Ave'],\n",
       "       ['128', 'E. Cottage St at Columbia Rd'],\n",
       "       ['129', 'Hayes Square at Vine St.'],\n",
       "       ['13', 'Boston Medical Center -  East Concord at Harrison Ave'],\n",
       "       ['130', \"Upham's Corner - Ramsey St at Dudley St\"],\n",
       "       ['131', 'Jackson Square T at Centre St'],\n",
       "       ['132', 'Summer St at Cutter St'],\n",
       "       ['133', 'Green St T'],\n",
       "       ['134', 'New Balance Store - Boylston at Dartmouth'],\n",
       "       ['135', 'ID Building East'],\n",
       "       ['136', 'ID Building West'],\n",
       "       ['137', 'Magoun Square at Trum Field'],\n",
       "       ['138', 'Mass Ave at Newmarket Square'],\n",
       "       ['139', 'Dana Park'],\n",
       "       ['14', 'HMS / HSPH - Ave. Louis Pasteur at Longwood Ave.'],\n",
       "       ['140', 'Danehy Park'],\n",
       "       ['141', 'Kendall Street'],\n",
       "       ['142', 'Alewife Station at Russell Field'],\n",
       "       ['143', 'EF - North Point Park'],\n",
       "       ['145', \"Rindge Avenue - O'Neill Library\"],\n",
       "       ['149',\n",
       "        'Harvard University Transportation Services - 175 North Harvard St'],\n",
       "       ['15', 'Harvard Real Estate - Brighton Mills - 370 Western Ave'],\n",
       "       ['150', 'State Street at Channel Center'],\n",
       "       ['151', 'John F Fitzgerald - Surface Road at India Street'],\n",
       "       ['152', 'Ink Block'],\n",
       "       ['159', 'Heath St at South Huntington'],\n",
       "       ['16', 'Back Bay / South End Station'],\n",
       "       ['160', 'Wentworth Institute of Technology'],\n",
       "       ['161', 'West Broadway at D Street'],\n",
       "       ['162', 'Franklin Park - Seaver Street at Humbolt Ave'],\n",
       "       ['163', 'Lawn on D'],\n",
       "       ['167', 'Ryan Playground - Dorchester Avenue Station'],\n",
       "       ['169', 'Edwards Playground - Main Street & Eden Street'],\n",
       "       ['17',\n",
       "        'Harvard University Housing - 111 Western Ave. at Soldiers Field Park '],\n",
       "       ['170', 'Franklin Park Zoo'],\n",
       "       ['171', 'Bunker Hill Community College'],\n",
       "       ['174', 'Washington St at Brock St'],\n",
       "       ['175', 'Brighton Center'],\n",
       "       ['176', 'Lesley University'],\n",
       "       ['177', 'University Park'],\n",
       "       ['178', 'MIT Pacific St at Purrington St'],\n",
       "       ['179', 'MIT Vassar St'],\n",
       "       ['180', 'Mt Auburn'],\n",
       "       ['19', 'Buswell St. at Park Dr.'],\n",
       "       ['20', 'Aquarium Station - 200 Atlantic Ave.'],\n",
       "       ['21', 'Prudential Center / Belvidere'],\n",
       "       ['22', 'South Station - 700 Atlantic Ave.'],\n",
       "       ['23', 'Mayor Martin J Walsh - 28 State St'],\n",
       "       ['24', 'Seaport Square - Seaport Blvd. at Boston Wharf'],\n",
       "       ['25', 'Tremont St / W Newton St'],\n",
       "       ['26', 'Washington St. at Waltham St.'],\n",
       "       ['27', 'Roxbury Crossing Station'],\n",
       "       ['29', 'Innovation Lab - 125 Western Ave. at Batten Way'],\n",
       "       ['3', 'Colleges of the Fenway'],\n",
       "       ['30', 'Brigham Cir / Huntington Ave'],\n",
       "       ['31', 'Seaport Hotel'],\n",
       "       ['32', 'Landmark Centre'],\n",
       "       ['33', 'Kenmore Sq / Comm Ave'],\n",
       "       ['35', 'Franklin St. / Arch St.'],\n",
       "       ['36', 'Boston Public Library - 700 Boylston St.'],\n",
       "       ['37', 'New Balance - 20 Guest St.'],\n",
       "       ['38', 'TD Garden - Causeway at Portal Park #2'],\n",
       "       ['39', 'Washington St. at Rutland St.'],\n",
       "       ['4', 'Tremont St. at Berkeley St.'],\n",
       "       ['40', 'Lewis Wharf - Atlantic Ave.'],\n",
       "       ['41', \"Packard's Corner - Comm. Ave. at Brighton Ave.\"],\n",
       "       ['42', 'Boylston St. at Arlington St.'],\n",
       "       ['43', 'Rowes Wharf - Atlantic Ave'],\n",
       "       ['44', 'Faneuil Hall - Union St. at North St.'],\n",
       "       ['45', 'Yawkey Way at Boylston St.'],\n",
       "       ['46', 'Christian Science Plaza'],\n",
       "       ['47', 'Cross St. at Hanover St.'],\n",
       "       ['48', 'Post Office Square'],\n",
       "       ['49', 'Stuart St. at Charles St.'],\n",
       "       ['5', 'Northeastern U / North Parking Lot'],\n",
       "       ['50', 'Boylston St / Berkeley St'],\n",
       "       ['51', 'Washington St. at Lenox St.'],\n",
       "       ['52', 'Newbury St / Hereford St'],\n",
       "       ['53', 'Beacon St / Mass Ave'],\n",
       "       ['54', 'Tremont St / West St'],\n",
       "       ['55', 'Boylston / Mass Ave'],\n",
       "       ['56', 'Dudley Square'],\n",
       "       ['57', 'Columbus Ave. at Mass. Ave.'],\n",
       "       ['58', 'The Esplanade - Beacon St. at Arlington St.'],\n",
       "       ['59', 'Chinatown Gate Plaza - Surface Rd. at Beach St.'],\n",
       "       ['6', 'Cambridge St. at Joy St.'],\n",
       "       ['60', 'Charles Circle - Charles St. at Cambridge St.'],\n",
       "       ['61', 'Boylston at Fairfield'],\n",
       "       ['63', 'Dorchester Ave. at Gillette Park'],\n",
       "       ['64', 'Congress / Sleeper'],\n",
       "       ['65', 'Boston Convention & Exhibition Center'],\n",
       "       ['66', 'Allston Green District - Commonwealth Ave & Griggs St'],\n",
       "       ['67', 'MIT at Mass Ave / Amherst St'],\n",
       "       ['68', 'Central Square at Mass Ave / Essex St'],\n",
       "       ['69', 'Coolidge Corner - Beacon St @ Centre St'],\n",
       "       ['7', 'Fan Pier'],\n",
       "       ['70', 'Harvard Kennedy School at Bennett St / Eliot St'],\n",
       "       ['71', 'Conway Park - Somerville Avenue'],\n",
       "       ['72', 'One Broadway / Kendall Sq at Main St / 3rd St'],\n",
       "       ['73', 'Harvard Square at Brattle St / Eliot St'],\n",
       "       ['74', 'Harvard Square at Mass Ave/ Dunster'],\n",
       "       ['75', 'Lafayette Square at Mass Ave / Main St / Columbia St'],\n",
       "       ['76',\n",
       "        'Central Sq Post Office / Cambridge City Hall at Mass Ave / Pleasant St'],\n",
       "       ['77', 'Somerville City Hall'],\n",
       "       ['78', 'Union Square - Somerville'],\n",
       "       ['79', 'Beacon St at Washington / Kirkland'],\n",
       "       ['8', 'Union Square - Brighton Ave. at Cambridge St.'],\n",
       "       ['80', 'MIT Stata Center at Vassar St / Main St'],\n",
       "       ['81', 'Boylston St / Washington St'],\n",
       "       ['82', 'Washington Square at Washington St. / Beacon St.'],\n",
       "       ['84', 'CambridgeSide Galleria - CambridgeSide PL at Land Blvd'],\n",
       "       ['85',\n",
       "        'Spaulding Rehabilitation Hospital - Charlestown Navy Yard'],\n",
       "       ['86', 'Brookline Village - Pearl Street @ MBTA'],\n",
       "       ['87',\n",
       "        'Harvard University Housing - 115 Putnam Ave at Peabody Terrace'],\n",
       "       ['88', 'Inman Square at Vellucci Plaza / Hampshire St'],\n",
       "       ['89', 'Harvard Law School at Mass Ave / Jarvis St'],\n",
       "       ['9', 'Agganis Arena - 925 Comm Ave.'],\n",
       "       ['90', 'Lechmere Station at Cambridge St / First St'],\n",
       "       ['91', 'One Kendall Square at Hampshire St / Portland St'],\n",
       "       ['92', 'UMass Boston Integrated Sciences Complex'],\n",
       "       ['93', 'JFK / UMASS at MBTA Station'],\n",
       "       ['94', 'Charlestown - Main St at Austin St'],\n",
       "       ['95', 'Cambridge St - at Columbia St / Webster Ave'],\n",
       "       ['96', 'Cambridge Main Library at Broadway / Trowbridge St'],\n",
       "       ['97',\n",
       "        'Harvard University River Houses at DeWolfe St / Cowperthwaite St'],\n",
       "       ['98', 'Charlestown - Warren St at Chelsea St'],\n",
       "       ['99', 'Wilson Square']], dtype='<U70')"
      ]
     },
     "execution_count": 143,
     "metadata": {},
     "output_type": "execute_result"
    }
   ],
   "source": [
    "# Check if station id and name always match\n",
    "unique_start_tuples = np.unique(df_boston[['start_station_id', 'start_station_name']].values.astype('str'), axis=0)\n",
    "unique_start_tuples"
   ]
  },
  {
   "cell_type": "code",
   "execution_count": 149,
   "metadata": {},
   "outputs": [
    {
     "data": {
      "text/plain": [
       "array([], dtype='<U70')"
      ]
     },
     "execution_count": 149,
     "metadata": {},
     "output_type": "execute_result"
    }
   ],
   "source": [
    "#TODO: check for entire duplicates (also end stations)\n",
    "unique_start_tuples[:,0:1]\n",
    "u, c = np.unique(unique_start_tuples[:,0:1], return_counts=True)\n",
    "dup = u[c > 1]\n",
    "dup "
   ]
  },
  {
   "cell_type": "markdown",
   "metadata": {},
   "source": [
    "# Feature Engineering\n",
    "#### Calculate trip_length "
   ]
  },
  {
   "cell_type": "code",
   "execution_count": 136,
   "metadata": {},
   "outputs": [
    {
     "data": {
      "text/html": [
       "<div>\n",
       "<style scoped>\n",
       "    .dataframe tbody tr th:only-of-type {\n",
       "        vertical-align: middle;\n",
       "    }\n",
       "\n",
       "    .dataframe tbody tr th {\n",
       "        vertical-align: top;\n",
       "    }\n",
       "\n",
       "    .dataframe thead th {\n",
       "        text-align: right;\n",
       "    }\n",
       "</style>\n",
       "<table border=\"1\" class=\"dataframe\">\n",
       "  <thead>\n",
       "    <tr style=\"text-align: right;\">\n",
       "      <th></th>\n",
       "      <th>start_time</th>\n",
       "      <th>end_time</th>\n",
       "      <th>start_station_id</th>\n",
       "      <th>end_station_id</th>\n",
       "      <th>start_station_name</th>\n",
       "      <th>end_station_name</th>\n",
       "      <th>bike_id</th>\n",
       "      <th>user_type</th>\n",
       "      <th>trip_length</th>\n",
       "    </tr>\n",
       "  </thead>\n",
       "  <tbody>\n",
       "    <tr>\n",
       "      <th>0</th>\n",
       "      <td>2015-01-01 00:21:44</td>\n",
       "      <td>2015-01-01 00:30:47</td>\n",
       "      <td>115</td>\n",
       "      <td>96</td>\n",
       "      <td>Porter Square Station</td>\n",
       "      <td>Cambridge Main Library at Broadway / Trowbridg...</td>\n",
       "      <td>277</td>\n",
       "      <td>Subscriber</td>\n",
       "      <td>543.0</td>\n",
       "    </tr>\n",
       "    <tr>\n",
       "      <th>1</th>\n",
       "      <td>2015-01-01 00:27:03</td>\n",
       "      <td>2015-01-01 00:34:21</td>\n",
       "      <td>80</td>\n",
       "      <td>95</td>\n",
       "      <td>MIT Stata Center at Vassar St / Main St</td>\n",
       "      <td>Cambridge St - at Columbia St / Webster Ave</td>\n",
       "      <td>648</td>\n",
       "      <td>Subscriber</td>\n",
       "      <td>438.0</td>\n",
       "    </tr>\n",
       "    <tr>\n",
       "      <th>2</th>\n",
       "      <td>2015-01-01 00:31:31</td>\n",
       "      <td>2015-01-01 00:35:46</td>\n",
       "      <td>91</td>\n",
       "      <td>68</td>\n",
       "      <td>One Kendall Square at Hampshire St / Portland St</td>\n",
       "      <td>Central Square at Mass Ave / Essex St</td>\n",
       "      <td>555</td>\n",
       "      <td>Subscriber</td>\n",
       "      <td>255.0</td>\n",
       "    </tr>\n",
       "    <tr>\n",
       "      <th>3</th>\n",
       "      <td>2015-01-01 00:53:46</td>\n",
       "      <td>2015-01-01 01:00:58</td>\n",
       "      <td>115</td>\n",
       "      <td>96</td>\n",
       "      <td>Porter Square Station</td>\n",
       "      <td>Cambridge Main Library at Broadway / Trowbridg...</td>\n",
       "      <td>1307</td>\n",
       "      <td>Subscriber</td>\n",
       "      <td>432.0</td>\n",
       "    </tr>\n",
       "    <tr>\n",
       "      <th>4</th>\n",
       "      <td>2015-01-01 01:07:06</td>\n",
       "      <td>2015-01-01 01:19:21</td>\n",
       "      <td>105</td>\n",
       "      <td>88</td>\n",
       "      <td>Lower Cambridgeport at Magazine St/Riverside Rd</td>\n",
       "      <td>Inman Square at Vellucci Plaza / Hampshire St</td>\n",
       "      <td>177</td>\n",
       "      <td>Customer</td>\n",
       "      <td>735.0</td>\n",
       "    </tr>\n",
       "  </tbody>\n",
       "</table>\n",
       "</div>"
      ],
      "text/plain": [
       "           start_time            end_time  start_station_id  end_station_id  \\\n",
       "0 2015-01-01 00:21:44 2015-01-01 00:30:47               115              96   \n",
       "1 2015-01-01 00:27:03 2015-01-01 00:34:21                80              95   \n",
       "2 2015-01-01 00:31:31 2015-01-01 00:35:46                91              68   \n",
       "3 2015-01-01 00:53:46 2015-01-01 01:00:58               115              96   \n",
       "4 2015-01-01 01:07:06 2015-01-01 01:19:21               105              88   \n",
       "\n",
       "                                 start_station_name  \\\n",
       "0                             Porter Square Station   \n",
       "1           MIT Stata Center at Vassar St / Main St   \n",
       "2  One Kendall Square at Hampshire St / Portland St   \n",
       "3                             Porter Square Station   \n",
       "4   Lower Cambridgeport at Magazine St/Riverside Rd   \n",
       "\n",
       "                                    end_station_name  bike_id   user_type  \\\n",
       "0  Cambridge Main Library at Broadway / Trowbridg...      277  Subscriber   \n",
       "1        Cambridge St - at Columbia St / Webster Ave      648  Subscriber   \n",
       "2              Central Square at Mass Ave / Essex St      555  Subscriber   \n",
       "3  Cambridge Main Library at Broadway / Trowbridg...     1307  Subscriber   \n",
       "4      Inman Square at Vellucci Plaza / Hampshire St      177    Customer   \n",
       "\n",
       "   trip_length  \n",
       "0        543.0  \n",
       "1        438.0  \n",
       "2        255.0  \n",
       "3        432.0  \n",
       "4        735.0  "
      ]
     },
     "execution_count": 136,
     "metadata": {},
     "output_type": "execute_result"
    }
   ],
   "source": [
    "df_boston['trip_length'] = (df_boston['end_time'] - df_boston['start_time'])\n",
    "df_boston['trip_length'] = df_boston['trip_length'] / np.timedelta64(1, 's')\n",
    "df_boston.head()"
   ]
  }
 ],
 "metadata": {
  "kernelspec": {
   "display_name": "Python 3.9.13 ('aaWorkshop': conda)",
   "language": "python",
   "name": "python3"
  },
  "language_info": {
   "codemirror_mode": {
    "name": "ipython",
    "version": 3
   },
   "file_extension": ".py",
   "mimetype": "text/x-python",
   "name": "python",
   "nbconvert_exporter": "python",
   "pygments_lexer": "ipython3",
   "version": "3.9.13"
  },
  "orig_nbformat": 4,
  "vscode": {
   "interpreter": {
    "hash": "795b57666299e416dabae68251aa093272eee9f75556c2733eccb39675e1d05f"
   }
  }
 },
 "nbformat": 4,
 "nbformat_minor": 2
}
