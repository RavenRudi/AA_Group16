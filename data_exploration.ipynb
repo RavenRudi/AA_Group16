{
 "cells": [
  {
   "cell_type": "code",
   "execution_count": 43,
   "metadata": {},
   "outputs": [
    {
     "name": "stdout",
     "output_type": "stream",
     "text": [
      "Total number of rows: 1122558\n"
     ]
    }
   ],
   "source": [
    "import pandas as pd\n",
    "import numpy as np\n",
    "\n",
    "df_boston = pd.read_csv('./data/boston_2015.csv', dtype={'start_station_id': np.int64, 'end_station_id': 'string', 'end_station_name': 'string', 'start_station_name': 'string', 'bike_id': np.int64, 'user_type': 'string'})\n",
    "print(f'Total number of rows: {len(df_boston)}')"
   ]
  },
  {
   "cell_type": "code",
   "execution_count": 44,
   "metadata": {},
   "outputs": [
    {
     "data": {
      "text/plain": "            start_time             end_time  start_station_id end_station_id  \\\n0  2015-01-01 00:21:44  2015-01-01 00:30:47               115             96   \n1  2015-01-01 00:27:03  2015-01-01 00:34:21                80             95   \n2  2015-01-01 00:31:31  2015-01-01 00:35:46                91             68   \n3  2015-01-01 00:53:46  2015-01-01 01:00:58               115             96   \n4  2015-01-01 01:07:06  2015-01-01 01:19:21               105             88   \n\n                                 start_station_name  \\\n0                             Porter Square Station   \n1           MIT Stata Center at Vassar St / Main St   \n2  One Kendall Square at Hampshire St / Portland St   \n3                             Porter Square Station   \n4   Lower Cambridgeport at Magazine St/Riverside Rd   \n\n                                    end_station_name  bike_id   user_type  \n0  Cambridge Main Library at Broadway / Trowbridg...      277  Subscriber  \n1        Cambridge St - at Columbia St / Webster Ave      648  Subscriber  \n2              Central Square at Mass Ave / Essex St      555  Subscriber  \n3  Cambridge Main Library at Broadway / Trowbridg...     1307  Subscriber  \n4      Inman Square at Vellucci Plaza / Hampshire St      177    Customer  ",
      "text/html": "<div>\n<style scoped>\n    .dataframe tbody tr th:only-of-type {\n        vertical-align: middle;\n    }\n\n    .dataframe tbody tr th {\n        vertical-align: top;\n    }\n\n    .dataframe thead th {\n        text-align: right;\n    }\n</style>\n<table border=\"1\" class=\"dataframe\">\n  <thead>\n    <tr style=\"text-align: right;\">\n      <th></th>\n      <th>start_time</th>\n      <th>end_time</th>\n      <th>start_station_id</th>\n      <th>end_station_id</th>\n      <th>start_station_name</th>\n      <th>end_station_name</th>\n      <th>bike_id</th>\n      <th>user_type</th>\n    </tr>\n  </thead>\n  <tbody>\n    <tr>\n      <th>0</th>\n      <td>2015-01-01 00:21:44</td>\n      <td>2015-01-01 00:30:47</td>\n      <td>115</td>\n      <td>96</td>\n      <td>Porter Square Station</td>\n      <td>Cambridge Main Library at Broadway / Trowbridg...</td>\n      <td>277</td>\n      <td>Subscriber</td>\n    </tr>\n    <tr>\n      <th>1</th>\n      <td>2015-01-01 00:27:03</td>\n      <td>2015-01-01 00:34:21</td>\n      <td>80</td>\n      <td>95</td>\n      <td>MIT Stata Center at Vassar St / Main St</td>\n      <td>Cambridge St - at Columbia St / Webster Ave</td>\n      <td>648</td>\n      <td>Subscriber</td>\n    </tr>\n    <tr>\n      <th>2</th>\n      <td>2015-01-01 00:31:31</td>\n      <td>2015-01-01 00:35:46</td>\n      <td>91</td>\n      <td>68</td>\n      <td>One Kendall Square at Hampshire St / Portland St</td>\n      <td>Central Square at Mass Ave / Essex St</td>\n      <td>555</td>\n      <td>Subscriber</td>\n    </tr>\n    <tr>\n      <th>3</th>\n      <td>2015-01-01 00:53:46</td>\n      <td>2015-01-01 01:00:58</td>\n      <td>115</td>\n      <td>96</td>\n      <td>Porter Square Station</td>\n      <td>Cambridge Main Library at Broadway / Trowbridg...</td>\n      <td>1307</td>\n      <td>Subscriber</td>\n    </tr>\n    <tr>\n      <th>4</th>\n      <td>2015-01-01 01:07:06</td>\n      <td>2015-01-01 01:19:21</td>\n      <td>105</td>\n      <td>88</td>\n      <td>Lower Cambridgeport at Magazine St/Riverside Rd</td>\n      <td>Inman Square at Vellucci Plaza / Hampshire St</td>\n      <td>177</td>\n      <td>Customer</td>\n    </tr>\n  </tbody>\n</table>\n</div>"
     },
     "execution_count": 44,
     "metadata": {},
     "output_type": "execute_result"
    }
   ],
   "source": [
    "df_boston.head()"
   ]
  },
  {
   "cell_type": "code",
   "execution_count": 45,
   "metadata": {},
   "outputs": [
    {
     "data": {
      "text/plain": "<StringArray>\n['Subscriber', 'Customer']\nLength: 2, dtype: string"
     },
     "execution_count": 45,
     "metadata": {},
     "output_type": "execute_result"
    }
   ],
   "source": [
    "df_boston['user_type'].unique()"
   ]
  },
  {
   "cell_type": "markdown",
   "metadata": {},
   "source": [
    "# Preprocessing\n",
    "### Set data type of 'end_station_id'"
   ]
  },
  {
   "cell_type": "code",
   "execution_count": 46,
   "metadata": {},
   "outputs": [
    {
     "data": {
      "text/plain": "<StringArray>\n[ '96',  '95',  '68',  '88',  '76', '118',  '75',  '67',  '36',  '23',\n ...\n '169', '174', '175', '159', '171', '178', '176', '179', '180', '177']\nLength: 157, dtype: string"
     },
     "execution_count": 46,
     "metadata": {},
     "output_type": "execute_result"
    }
   ],
   "source": [
    "df_boston['end_station_id'].unique()"
   ]
  },
  {
   "cell_type": "code",
   "execution_count": 47,
   "metadata": {},
   "outputs": [
    {
     "name": "stdout",
     "output_type": "stream",
     "text": [
      "Number of \"\\\\N\" occurences in end_station_id column: 1\n",
      "<class 'pandas.core.frame.DataFrame'>\n",
      "Int64Index: 1122557 entries, 0 to 1122557\n",
      "Data columns (total 8 columns):\n",
      " #   Column              Non-Null Count    Dtype \n",
      "---  ------              --------------    ----- \n",
      " 0   start_time          1122557 non-null  object\n",
      " 1   end_time            1122557 non-null  object\n",
      " 2   start_station_id    1122557 non-null  int64 \n",
      " 3   end_station_id      1122557 non-null  int64 \n",
      " 4   start_station_name  1122557 non-null  string\n",
      " 5   end_station_name    1122557 non-null  string\n",
      " 6   bike_id             1122557 non-null  int64 \n",
      " 7   user_type           1122557 non-null  string\n",
      "dtypes: int64(3), object(2), string(3)\n",
      "memory usage: 77.1+ MB\n"
     ]
    }
   ],
   "source": [
    "# Value '\\\\N' seems to be anomaly -> occurs only once, so drop!\n",
    "num_occurences = len(df_boston.loc[df_boston[\"end_station_id\"] == \"\\\\N\"])\n",
    "print(f'Number of \"\\\\\\\\N\" occurences in end_station_id column: {num_occurences}')\n",
    "df_boston.drop(index=df_boston.loc[df_boston[\"end_station_id\"] == \"\\\\N\"].index, inplace=True, axis=1)\n",
    "\n",
    "# now set column to dtype np.int64\n",
    "df_boston = df_boston.astype({'end_station_id': np.int64})\n",
    "df_boston.info()"
   ]
  },
  {
   "cell_type": "markdown",
   "metadata": {},
   "source": [
    "### Set data type of time columns"
   ]
  },
  {
   "cell_type": "code",
   "execution_count": 48,
   "metadata": {},
   "outputs": [
    {
     "data": {
      "text/plain": "start_time            datetime64[ns]\nend_time              datetime64[ns]\nstart_station_id               int64\nend_station_id                 int64\nstart_station_name            string\nend_station_name              string\nbike_id                        int64\nuser_type                     string\ndtype: object"
     },
     "execution_count": 48,
     "metadata": {},
     "output_type": "execute_result"
    }
   ],
   "source": [
    "df_boston['start_time'] = pd.to_datetime(df_boston['start_time'], format='%Y-%m-%d %X')\n",
    "df_boston['end_time'] = pd.to_datetime(df_boston['end_time'], format='%Y-%m-%d %X')\n",
    "df_boston.dtypes"
   ]
  },
  {
   "cell_type": "markdown",
   "metadata": {},
   "source": [
    "#### Check if station id and names are unique tuples"
   ]
  },
  {
   "cell_type": "code",
   "execution_count": 49,
   "metadata": {},
   "outputs": [
    {
     "name": "stdout",
     "output_type": "stream",
     "text": [
      "Station IDs and names are unique True\n"
     ]
    }
   ],
   "source": [
    "# len(df_boston['start_station_name'].unique())\n",
    "is_unique = True\n",
    "i = 0\n",
    "all_station_ids = df_boston['start_station_id'].unique()\n",
    "\n",
    "while i < len(all_station_ids) & is_unique:\n",
    "    is_unique = len(df_boston.loc[df_boston['start_station_id'] == i]['start_station_name'].unique()) == 1\n",
    "    i += 1\n",
    "\n",
    "print(\"Station IDs and names are unique\", is_unique)\n"
   ]
  },
  {
   "cell_type": "code",
   "execution_count": 50,
   "metadata": {},
   "outputs": [
    {
     "data": {
      "text/plain": "array([['1', '18 Dorrance Warehouse'],\n       ['10', 'B.U. Central - 725 Comm. Ave.'],\n       ['100', 'Davis Square'],\n       ['102', 'Powder House Circle - Nathan Tufts Park'],\n       ['103', 'JFK Crossing at Harvard St. / Thorndike St.'],\n       ['104',\n        'Harvard University Radcliffe Quadrangle at Shepard St / Garden St'],\n       ['105', 'Lower Cambridgeport at Magazine St/Riverside Rd'],\n       ['106', 'Mt Pleasant Ave / Dudley Town Common'],\n       ['107', 'Ames St at Main St'],\n       ['108',\n        'Harvard University / SEAS Cruft-Pierce Halls at 29 Oxford St'],\n       ['109', 'TD Garden - Causeway at Portal Park #1'],\n       ['11', 'Longwood Ave / Binney St'],\n       ['110', 'Harvard University Gund Hall at Quincy St / Kirkland S'],\n       ['111', 'Packard Ave / Powderhouse Blvd'],\n       ['112', 'Somerville Hospital at Highland Ave / Crocker St'],\n       ['113', 'Andrew Station - Dorchester Ave at Humboldt Pl'],\n       ['114', 'Teele Square at 239 Holland St'],\n       ['115', 'Porter Square Station'],\n       ['116', '359 Broadway - Broadway at Fayette Street'],\n       ['117', 'Binney St / Sixth St'],\n       ['118', 'Linear Park - Mass. Ave. at Cameron Ave. '],\n       ['119', 'South Boston Library - 646 East Broadway'],\n       ['12', 'Ruggles Station / Columbus Ave.'],\n       ['120', 'Charles St at Beacon St'],\n       ['121', 'West Broadway at Dorchester St'],\n       ['122', 'BIDMC - Brookline at Burlington St'],\n       ['123', 'JP Center - Centre Street at Myrtle Street'],\n       ['124', 'Curtis Hall at South Street'],\n       ['125', 'Hyde Square at Barbara St'],\n       ['126', 'Egleston Square at Columbus Ave'],\n       ['128', 'E. Cottage St at Columbia Rd'],\n       ['129', 'Hayes Square at Vine St.'],\n       ['13', 'Boston Medical Center -  East Concord at Harrison Ave'],\n       ['130', \"Upham's Corner - Ramsey St at Dudley St\"],\n       ['131', 'Jackson Square T at Centre St'],\n       ['132', 'Summer St at Cutter St'],\n       ['133', 'Green St T'],\n       ['134', 'New Balance Store - Boylston at Dartmouth'],\n       ['135', 'ID Building East'],\n       ['136', 'ID Building West'],\n       ['137', 'Magoun Square at Trum Field'],\n       ['138', 'Mass Ave at Newmarket Square'],\n       ['139', 'Dana Park'],\n       ['14', 'HMS / HSPH - Ave. Louis Pasteur at Longwood Ave.'],\n       ['140', 'Danehy Park'],\n       ['141', 'Kendall Street'],\n       ['142', 'Alewife Station at Russell Field'],\n       ['143', 'EF - North Point Park'],\n       ['145', \"Rindge Avenue - O'Neill Library\"],\n       ['149',\n        'Harvard University Transportation Services - 175 North Harvard St'],\n       ['15', 'Harvard Real Estate - Brighton Mills - 370 Western Ave'],\n       ['150', 'State Street at Channel Center'],\n       ['151', 'John F Fitzgerald - Surface Road at India Street'],\n       ['152', 'Ink Block'],\n       ['159', 'Heath St at South Huntington'],\n       ['16', 'Back Bay / South End Station'],\n       ['160', 'Wentworth Institute of Technology'],\n       ['161', 'West Broadway at D Street'],\n       ['162', 'Franklin Park - Seaver Street at Humbolt Ave'],\n       ['163', 'Lawn on D'],\n       ['167', 'Ryan Playground - Dorchester Avenue Station'],\n       ['169', 'Edwards Playground - Main Street & Eden Street'],\n       ['17',\n        'Harvard University Housing - 111 Western Ave. at Soldiers Field Park '],\n       ['170', 'Franklin Park Zoo'],\n       ['171', 'Bunker Hill Community College'],\n       ['174', 'Washington St at Brock St'],\n       ['175', 'Brighton Center'],\n       ['176', 'Lesley University'],\n       ['177', 'University Park'],\n       ['178', 'MIT Pacific St at Purrington St'],\n       ['179', 'MIT Vassar St'],\n       ['180', 'Mt Auburn'],\n       ['19', 'Buswell St. at Park Dr.'],\n       ['20', 'Aquarium Station - 200 Atlantic Ave.'],\n       ['21', 'Prudential Center / Belvidere'],\n       ['22', 'South Station - 700 Atlantic Ave.'],\n       ['23', 'Mayor Martin J Walsh - 28 State St'],\n       ['24', 'Seaport Square - Seaport Blvd. at Boston Wharf'],\n       ['25', 'Tremont St / W Newton St'],\n       ['26', 'Washington St. at Waltham St.'],\n       ['27', 'Roxbury Crossing Station'],\n       ['29', 'Innovation Lab - 125 Western Ave. at Batten Way'],\n       ['3', 'Colleges of the Fenway'],\n       ['30', 'Brigham Cir / Huntington Ave'],\n       ['31', 'Seaport Hotel'],\n       ['32', 'Landmark Centre'],\n       ['33', 'Kenmore Sq / Comm Ave'],\n       ['35', 'Franklin St. / Arch St.'],\n       ['36', 'Boston Public Library - 700 Boylston St.'],\n       ['37', 'New Balance - 20 Guest St.'],\n       ['38', 'TD Garden - Causeway at Portal Park #2'],\n       ['39', 'Washington St. at Rutland St.'],\n       ['4', 'Tremont St. at Berkeley St.'],\n       ['40', 'Lewis Wharf - Atlantic Ave.'],\n       ['41', \"Packard's Corner - Comm. Ave. at Brighton Ave.\"],\n       ['42', 'Boylston St. at Arlington St.'],\n       ['43', 'Rowes Wharf - Atlantic Ave'],\n       ['44', 'Faneuil Hall - Union St. at North St.'],\n       ['45', 'Yawkey Way at Boylston St.'],\n       ['46', 'Christian Science Plaza'],\n       ['47', 'Cross St. at Hanover St.'],\n       ['48', 'Post Office Square'],\n       ['49', 'Stuart St. at Charles St.'],\n       ['5', 'Northeastern U / North Parking Lot'],\n       ['50', 'Boylston St / Berkeley St'],\n       ['51', 'Washington St. at Lenox St.'],\n       ['52', 'Newbury St / Hereford St'],\n       ['53', 'Beacon St / Mass Ave'],\n       ['54', 'Tremont St / West St'],\n       ['55', 'Boylston / Mass Ave'],\n       ['56', 'Dudley Square'],\n       ['57', 'Columbus Ave. at Mass. Ave.'],\n       ['58', 'The Esplanade - Beacon St. at Arlington St.'],\n       ['59', 'Chinatown Gate Plaza - Surface Rd. at Beach St.'],\n       ['6', 'Cambridge St. at Joy St.'],\n       ['60', 'Charles Circle - Charles St. at Cambridge St.'],\n       ['61', 'Boylston at Fairfield'],\n       ['63', 'Dorchester Ave. at Gillette Park'],\n       ['64', 'Congress / Sleeper'],\n       ['65', 'Boston Convention & Exhibition Center'],\n       ['66', 'Allston Green District - Commonwealth Ave & Griggs St'],\n       ['67', 'MIT at Mass Ave / Amherst St'],\n       ['68', 'Central Square at Mass Ave / Essex St'],\n       ['69', 'Coolidge Corner - Beacon St @ Centre St'],\n       ['7', 'Fan Pier'],\n       ['70', 'Harvard Kennedy School at Bennett St / Eliot St'],\n       ['71', 'Conway Park - Somerville Avenue'],\n       ['72', 'One Broadway / Kendall Sq at Main St / 3rd St'],\n       ['73', 'Harvard Square at Brattle St / Eliot St'],\n       ['74', 'Harvard Square at Mass Ave/ Dunster'],\n       ['75', 'Lafayette Square at Mass Ave / Main St / Columbia St'],\n       ['76',\n        'Central Sq Post Office / Cambridge City Hall at Mass Ave / Pleasant St'],\n       ['77', 'Somerville City Hall'],\n       ['78', 'Union Square - Somerville'],\n       ['79', 'Beacon St at Washington / Kirkland'],\n       ['8', 'Union Square - Brighton Ave. at Cambridge St.'],\n       ['80', 'MIT Stata Center at Vassar St / Main St'],\n       ['81', 'Boylston St / Washington St'],\n       ['82', 'Washington Square at Washington St. / Beacon St.'],\n       ['84', 'CambridgeSide Galleria - CambridgeSide PL at Land Blvd'],\n       ['85',\n        'Spaulding Rehabilitation Hospital - Charlestown Navy Yard'],\n       ['86', 'Brookline Village - Pearl Street @ MBTA'],\n       ['87',\n        'Harvard University Housing - 115 Putnam Ave at Peabody Terrace'],\n       ['88', 'Inman Square at Vellucci Plaza / Hampshire St'],\n       ['89', 'Harvard Law School at Mass Ave / Jarvis St'],\n       ['9', 'Agganis Arena - 925 Comm Ave.'],\n       ['90', 'Lechmere Station at Cambridge St / First St'],\n       ['91', 'One Kendall Square at Hampshire St / Portland St'],\n       ['92', 'UMass Boston Integrated Sciences Complex'],\n       ['93', 'JFK / UMASS at MBTA Station'],\n       ['94', 'Charlestown - Main St at Austin St'],\n       ['95', 'Cambridge St - at Columbia St / Webster Ave'],\n       ['96', 'Cambridge Main Library at Broadway / Trowbridge St'],\n       ['97',\n        'Harvard University River Houses at DeWolfe St / Cowperthwaite St'],\n       ['98', 'Charlestown - Warren St at Chelsea St'],\n       ['99', 'Wilson Square']], dtype='<U70')"
     },
     "execution_count": 50,
     "metadata": {},
     "output_type": "execute_result"
    }
   ],
   "source": [
    "# Check if station id and name always match\n",
    "unique_start_tuples = np.unique(df_boston[['start_station_id', 'start_station_name']].values.astype('str'), axis=0)\n",
    "unique_start_tuples"
   ]
  },
  {
   "cell_type": "code",
   "execution_count": 51,
   "metadata": {},
   "outputs": [
    {
     "data": {
      "text/plain": "array([], dtype='<U70')"
     },
     "execution_count": 51,
     "metadata": {},
     "output_type": "execute_result"
    }
   ],
   "source": [
    "#TODO: check for entire duplicates (also end stations)\n",
    "unique_start_tuples[:,0:1]\n",
    "u, c = np.unique(unique_start_tuples[:,0:1], return_counts=True)\n",
    "dup = u[c > 1]\n",
    "dup "
   ]
  },
  {
   "cell_type": "markdown",
   "metadata": {},
   "source": [
    "# Feature Engineering\n",
    "#### Calculate trip_length "
   ]
  },
  {
   "cell_type": "code",
   "execution_count": 52,
   "metadata": {},
   "outputs": [
    {
     "data": {
      "text/plain": "           start_time            end_time  start_station_id  end_station_id  \\\n0 2015-01-01 00:21:44 2015-01-01 00:30:47               115              96   \n1 2015-01-01 00:27:03 2015-01-01 00:34:21                80              95   \n2 2015-01-01 00:31:31 2015-01-01 00:35:46                91              68   \n3 2015-01-01 00:53:46 2015-01-01 01:00:58               115              96   \n4 2015-01-01 01:07:06 2015-01-01 01:19:21               105              88   \n\n                                 start_station_name  \\\n0                             Porter Square Station   \n1           MIT Stata Center at Vassar St / Main St   \n2  One Kendall Square at Hampshire St / Portland St   \n3                             Porter Square Station   \n4   Lower Cambridgeport at Magazine St/Riverside Rd   \n\n                                    end_station_name  bike_id   user_type  \\\n0  Cambridge Main Library at Broadway / Trowbridg...      277  Subscriber   \n1        Cambridge St - at Columbia St / Webster Ave      648  Subscriber   \n2              Central Square at Mass Ave / Essex St      555  Subscriber   \n3  Cambridge Main Library at Broadway / Trowbridg...     1307  Subscriber   \n4      Inman Square at Vellucci Plaza / Hampshire St      177    Customer   \n\n   trip_length  \n0        543.0  \n1        438.0  \n2        255.0  \n3        432.0  \n4        735.0  ",
      "text/html": "<div>\n<style scoped>\n    .dataframe tbody tr th:only-of-type {\n        vertical-align: middle;\n    }\n\n    .dataframe tbody tr th {\n        vertical-align: top;\n    }\n\n    .dataframe thead th {\n        text-align: right;\n    }\n</style>\n<table border=\"1\" class=\"dataframe\">\n  <thead>\n    <tr style=\"text-align: right;\">\n      <th></th>\n      <th>start_time</th>\n      <th>end_time</th>\n      <th>start_station_id</th>\n      <th>end_station_id</th>\n      <th>start_station_name</th>\n      <th>end_station_name</th>\n      <th>bike_id</th>\n      <th>user_type</th>\n      <th>trip_length</th>\n    </tr>\n  </thead>\n  <tbody>\n    <tr>\n      <th>0</th>\n      <td>2015-01-01 00:21:44</td>\n      <td>2015-01-01 00:30:47</td>\n      <td>115</td>\n      <td>96</td>\n      <td>Porter Square Station</td>\n      <td>Cambridge Main Library at Broadway / Trowbridg...</td>\n      <td>277</td>\n      <td>Subscriber</td>\n      <td>543.0</td>\n    </tr>\n    <tr>\n      <th>1</th>\n      <td>2015-01-01 00:27:03</td>\n      <td>2015-01-01 00:34:21</td>\n      <td>80</td>\n      <td>95</td>\n      <td>MIT Stata Center at Vassar St / Main St</td>\n      <td>Cambridge St - at Columbia St / Webster Ave</td>\n      <td>648</td>\n      <td>Subscriber</td>\n      <td>438.0</td>\n    </tr>\n    <tr>\n      <th>2</th>\n      <td>2015-01-01 00:31:31</td>\n      <td>2015-01-01 00:35:46</td>\n      <td>91</td>\n      <td>68</td>\n      <td>One Kendall Square at Hampshire St / Portland St</td>\n      <td>Central Square at Mass Ave / Essex St</td>\n      <td>555</td>\n      <td>Subscriber</td>\n      <td>255.0</td>\n    </tr>\n    <tr>\n      <th>3</th>\n      <td>2015-01-01 00:53:46</td>\n      <td>2015-01-01 01:00:58</td>\n      <td>115</td>\n      <td>96</td>\n      <td>Porter Square Station</td>\n      <td>Cambridge Main Library at Broadway / Trowbridg...</td>\n      <td>1307</td>\n      <td>Subscriber</td>\n      <td>432.0</td>\n    </tr>\n    <tr>\n      <th>4</th>\n      <td>2015-01-01 01:07:06</td>\n      <td>2015-01-01 01:19:21</td>\n      <td>105</td>\n      <td>88</td>\n      <td>Lower Cambridgeport at Magazine St/Riverside Rd</td>\n      <td>Inman Square at Vellucci Plaza / Hampshire St</td>\n      <td>177</td>\n      <td>Customer</td>\n      <td>735.0</td>\n    </tr>\n  </tbody>\n</table>\n</div>"
     },
     "execution_count": 52,
     "metadata": {},
     "output_type": "execute_result"
    }
   ],
   "source": [
    "df_boston['trip_length'] = (df_boston['end_time'] - df_boston['start_time'])\n",
    "df_boston['trip_length'] = df_boston['trip_length'] / np.timedelta64(1, 's')\n",
    "df_boston.head()"
   ]
  },
  {
   "cell_type": "markdown",
   "metadata": {},
   "source": [
    "# First Data Exploration\n",
    "### Understanding the revenue modell"
   ]
  },
  {
   "cell_type": "markdown",
   "metadata": {},
   "source": [
    "![caption](data/thehubway_revenue_modell_2015.png)"
   ]
  },
  {
   "cell_type": "code",
   "execution_count": 53,
   "metadata": {},
   "outputs": [
    {
     "name": "stdout",
     "output_type": "stream",
     "text": [
      "user_type\n",
      "Customer      370585\n",
      "Subscriber    751972\n",
      "dtype: int64\n",
      "We only have 0.09917185764856692 of the data!\n",
      "0.06948154971195226\n"
     ]
    }
   ],
   "source": [
    "# Pricing info pulled from: https://web.archive.org/web/20150206035343/http://www.thehubway.com:80/pricing\n",
    "# INFO: bluebikes was previously called 'thehubway', see https://en.wikipedia.org/wiki/Bluebikes\n",
    "# ASSUMTION: The revenue modell did not change over the year 2015. This was checked through all entries of the wayback-machine, which occured in 7 day intervalls. We can be pretty certain of this. \n",
    "\n",
    "\n",
    "# Get # of subscribers and customers\n",
    "print(df_boston.groupby('user_type').size())\n",
    "# TODO: Include this in revenue modell\n",
    "\n",
    "# Thoughts on the revenue modell: We don't see individual user-ids for each ride. This means that we can only infer the \"revenue\" generated by each trip through the respective user_type.\n",
    "# E.g. -> if we have 10 subscribers for a given timeframe, who undertake 100 trips, each trip would generate 1/10 of the users membership fee in the given timeframe\n",
    "# Membership numbers for 2015: https://web.archive.org/web/20160208155519/http://www.thehubway.com/mediakit -> anual members: 13.248, Causal Passes: 102.445 (24 & 72 Hours) with a total of 1,1319,310 Trips (???)\n",
    "\n",
    "no_trips_from_dataset_2015 = 11319310\n",
    "no_trips_from_website_2015 = len(df_boston)\n",
    "print(f'We only have {no_trips_from_website_2015/no_trips_from_dataset_2015} of the data!')\n",
    "\n",
    "# Big Open Question: How should we deal with the missing data? (we only have 1/10 of the trip data apparently) ? -> https://s3.amazonaws.com/hubway-data/index.html this contains the raw data, it appears that there are a lot more than 112k rides..\n",
    "# Open Question: How should we include the membership fees and casual passes costs in the revenue modell?\n",
    "\n",
    "\n",
    "# get proprtion all the rides who might incur overtime fees (trip_length >30 min) to understand if this usage pattern is relevant for the revenue model\n",
    "proportion_overtime_rides = len(df_boston[df_boston['trip_length'] >= (30*60)]) / len(df_boston) \n",
    "print(proportion_overtime_rides)\n",
    "\n",
    "# Conclusion: Around 7% of rides were overtime -> we should include this in the revenue modell\n",
    "# TODO: Engineer the following features for the revenue modell: revenue_through_overtime (calculated on the basis of trip_duration)\n"
   ]
  },
  {
   "cell_type": "markdown",
   "metadata": {},
   "source": [
    "### merging of boston station dataset and the df_boston data"
   ]
  },
  {
   "cell_type": "code",
   "execution_count": 54,
   "metadata": {},
   "outputs": [],
   "source": [
    "#boston blue bikes stations data\n",
    "df_stations_data = pd.read_csv('./data/current_bluebikes_stations.csv', header=1)\n",
    "df_january = pd.read_csv('./data/201501-hubway-tripdata.csv', usecols=['start station id', 'start station latitude', 'start station longitude', 'end station id', 'end station id', 'end station latitude', 'end station longitude'])\n",
    "df_sep = pd.read_csv('./data/201509-hubway-tripdata.csv', usecols=['start station id', 'start station latitude', 'start station longitude', 'end station id', 'end station id', 'end station latitude', 'end station longitude'])\n",
    "df_july = pd.read_csv('./data/201507-hubway-tripdata.csv', usecols=['start station id', 'start station latitude', 'start station longitude', 'end station id', 'end station id', 'end station latitude', 'end station longitude'])\n",
    "df_oct = pd.read_csv('./data/201510-hubway-tripdata.csv', usecols=['start station id', 'start station latitude', 'start station longitude', 'end station id', 'end station id', 'end station latitude', 'end station longitude'])\n",
    "df_dec = pd.read_csv('./data/201512-hubway-tripdata.csv', usecols=['start station id', 'start station latitude', 'start station longitude', 'end station id', 'end station id', 'end station latitude', 'end station longitude'])\n",
    "unique_stations_external=np.unique(np.concatenate((df_january[['start station id', 'start station latitude', 'start station longitude']].values, df_january[['end station id', 'end station latitude', 'end station longitude']].values,df_july[['start station id', 'start station latitude', 'start station longitude']].values, df_july[['end station id', 'end station latitude', 'end station longitude']].values, df_sep[['start station id', 'start station latitude', 'start station longitude']].values, df_sep[['end station id', 'end station latitude', 'end station longitude']].values, df_oct[['start station id', 'start station latitude', 'start station longitude']].values, df_oct[['end station id', 'end station latitude', 'end station longitude']].values, df_dec[['start station id', 'start station latitude', 'start station longitude']].values, df_dec[['end station id', 'end station latitude', 'end station longitude']].values)), axis=0)"
   ]
  },
  {
   "cell_type": "code",
   "execution_count": 55,
   "metadata": {},
   "outputs": [
    {
     "name": "stdout",
     "output_type": "stream",
     "text": [
      "# stations from original data: 156 | # stations from external data: 156\n"
     ]
    }
   ],
   "source": [
    "unique_stations_original=np.unique(np.concatenate((df_boston['start_station_name'].values, df_boston['end_station_name'].values)))\n",
    "print(f'# stations from original data: {len(unique_stations_original)} | # stations from external data: {len(unique_stations_external)}')\n",
    "df_unique_stations = pd.DataFrame(unique_stations_external, columns=['station_id', 'station_latitude', 'station_longitude'])"
   ]
  },
  {
   "cell_type": "code",
   "execution_count": 56,
   "metadata": {},
   "outputs": [
    {
     "name": "stdout",
     "output_type": "stream",
     "text": [
      "<class 'pandas.core.frame.DataFrame'>\n",
      "Int64Index: 1122557 entries, 0 to 1122556\n",
      "Data columns (total 13 columns):\n",
      " #   Column                   Non-Null Count    Dtype         \n",
      "---  ------                   --------------    -----         \n",
      " 0   start_time               1122557 non-null  datetime64[ns]\n",
      " 1   end_time                 1122557 non-null  datetime64[ns]\n",
      " 2   start_station_id         1122557 non-null  int64         \n",
      " 3   end_station_id           1122557 non-null  int64         \n",
      " 4   start_station_name       1122557 non-null  string        \n",
      " 5   end_station_name         1122557 non-null  string        \n",
      " 6   bike_id                  1122557 non-null  int64         \n",
      " 7   user_type                1122557 non-null  string        \n",
      " 8   trip_length              1122557 non-null  float64       \n",
      " 9   start_station_latitude   1122557 non-null  float64       \n",
      " 10  start_station_longitude  1122557 non-null  float64       \n",
      " 11  end_station_latitude     1122557 non-null  float64       \n",
      " 12  end_station_longitude    1122557 non-null  float64       \n",
      "dtypes: datetime64[ns](2), float64(5), int64(3), string(3)\n",
      "memory usage: 119.9 MB\n"
     ]
    }
   ],
   "source": [
    "df_unique_stations.columns = ['start_station_id', 'start_station_latitude', 'start_station_longitude']\n",
    "df_boston = df_boston.merge(df_unique_stations, how='left', on='start_station_id')\n",
    "df_unique_stations.columns = ['end_station_id', 'end_station_latitude', 'end_station_longitude']\n",
    "df_boston = df_boston.merge(df_unique_stations, how='left', on='end_station_id')\n",
    "df_boston.info()"
   ]
  },
  {
   "cell_type": "code",
   "execution_count": 57,
   "metadata": {},
   "outputs": [
    {
     "data": {
      "text/plain": "           start_time            end_time  start_station_id  end_station_id  \\\n0 2015-01-01 00:21:44 2015-01-01 00:30:47               115              96   \n1 2015-01-01 00:27:03 2015-01-01 00:34:21                80              95   \n2 2015-01-01 00:31:31 2015-01-01 00:35:46                91              68   \n3 2015-01-01 00:53:46 2015-01-01 01:00:58               115              96   \n4 2015-01-01 01:07:06 2015-01-01 01:19:21               105              88   \n\n                                 start_station_name  \\\n0                             Porter Square Station   \n1           MIT Stata Center at Vassar St / Main St   \n2  One Kendall Square at Hampshire St / Portland St   \n3                             Porter Square Station   \n4   Lower Cambridgeport at Magazine St/Riverside Rd   \n\n                                    end_station_name  bike_id   user_type  \\\n0  Cambridge Main Library at Broadway / Trowbridg...      277  Subscriber   \n1        Cambridge St - at Columbia St / Webster Ave      648  Subscriber   \n2              Central Square at Mass Ave / Essex St      555  Subscriber   \n3  Cambridge Main Library at Broadway / Trowbridg...     1307  Subscriber   \n4      Inman Square at Vellucci Plaza / Hampshire St      177    Customer   \n\n   trip_length  start_station_latitude  start_station_longitude  \\\n0        543.0               42.387995               -71.119084   \n1        438.0               42.361962               -71.092053   \n2        255.0               42.366277               -71.091690   \n3        432.0               42.387995               -71.119084   \n4        735.0               42.356954               -71.113687   \n\n   end_station_latitude  end_station_longitude  \n0             42.373379             -71.111075  \n1             42.372969             -71.094445  \n2             42.365070             -71.103100  \n3             42.373379             -71.111075  \n4             42.374035             -71.101427  ",
      "text/html": "<div>\n<style scoped>\n    .dataframe tbody tr th:only-of-type {\n        vertical-align: middle;\n    }\n\n    .dataframe tbody tr th {\n        vertical-align: top;\n    }\n\n    .dataframe thead th {\n        text-align: right;\n    }\n</style>\n<table border=\"1\" class=\"dataframe\">\n  <thead>\n    <tr style=\"text-align: right;\">\n      <th></th>\n      <th>start_time</th>\n      <th>end_time</th>\n      <th>start_station_id</th>\n      <th>end_station_id</th>\n      <th>start_station_name</th>\n      <th>end_station_name</th>\n      <th>bike_id</th>\n      <th>user_type</th>\n      <th>trip_length</th>\n      <th>start_station_latitude</th>\n      <th>start_station_longitude</th>\n      <th>end_station_latitude</th>\n      <th>end_station_longitude</th>\n    </tr>\n  </thead>\n  <tbody>\n    <tr>\n      <th>0</th>\n      <td>2015-01-01 00:21:44</td>\n      <td>2015-01-01 00:30:47</td>\n      <td>115</td>\n      <td>96</td>\n      <td>Porter Square Station</td>\n      <td>Cambridge Main Library at Broadway / Trowbridg...</td>\n      <td>277</td>\n      <td>Subscriber</td>\n      <td>543.0</td>\n      <td>42.387995</td>\n      <td>-71.119084</td>\n      <td>42.373379</td>\n      <td>-71.111075</td>\n    </tr>\n    <tr>\n      <th>1</th>\n      <td>2015-01-01 00:27:03</td>\n      <td>2015-01-01 00:34:21</td>\n      <td>80</td>\n      <td>95</td>\n      <td>MIT Stata Center at Vassar St / Main St</td>\n      <td>Cambridge St - at Columbia St / Webster Ave</td>\n      <td>648</td>\n      <td>Subscriber</td>\n      <td>438.0</td>\n      <td>42.361962</td>\n      <td>-71.092053</td>\n      <td>42.372969</td>\n      <td>-71.094445</td>\n    </tr>\n    <tr>\n      <th>2</th>\n      <td>2015-01-01 00:31:31</td>\n      <td>2015-01-01 00:35:46</td>\n      <td>91</td>\n      <td>68</td>\n      <td>One Kendall Square at Hampshire St / Portland St</td>\n      <td>Central Square at Mass Ave / Essex St</td>\n      <td>555</td>\n      <td>Subscriber</td>\n      <td>255.0</td>\n      <td>42.366277</td>\n      <td>-71.091690</td>\n      <td>42.365070</td>\n      <td>-71.103100</td>\n    </tr>\n    <tr>\n      <th>3</th>\n      <td>2015-01-01 00:53:46</td>\n      <td>2015-01-01 01:00:58</td>\n      <td>115</td>\n      <td>96</td>\n      <td>Porter Square Station</td>\n      <td>Cambridge Main Library at Broadway / Trowbridg...</td>\n      <td>1307</td>\n      <td>Subscriber</td>\n      <td>432.0</td>\n      <td>42.387995</td>\n      <td>-71.119084</td>\n      <td>42.373379</td>\n      <td>-71.111075</td>\n    </tr>\n    <tr>\n      <th>4</th>\n      <td>2015-01-01 01:07:06</td>\n      <td>2015-01-01 01:19:21</td>\n      <td>105</td>\n      <td>88</td>\n      <td>Lower Cambridgeport at Magazine St/Riverside Rd</td>\n      <td>Inman Square at Vellucci Plaza / Hampshire St</td>\n      <td>177</td>\n      <td>Customer</td>\n      <td>735.0</td>\n      <td>42.356954</td>\n      <td>-71.113687</td>\n      <td>42.374035</td>\n      <td>-71.101427</td>\n    </tr>\n  </tbody>\n</table>\n</div>"
     },
     "execution_count": 57,
     "metadata": {},
     "output_type": "execute_result"
    }
   ],
   "source": [
    "df_boston.head()"
   ]
  },
  {
   "cell_type": "code",
   "execution_count": 58,
   "metadata": {},
   "outputs": [],
   "source": [
    "unique_stations_original=np.unique(np.concatenate((df_boston['start_station_name'].values, df_boston['end_station_name'].values)))\n",
    "unique_stations_external = df_stations_data['Name'].values"
   ]
  },
  {
   "cell_type": "code",
   "execution_count": 59,
   "metadata": {},
   "outputs": [
    {
     "name": "stdout",
     "output_type": "stream",
     "text": [
      "#stations in stations dataset: 130\n",
      "#stations in original dataset: 156\n"
     ]
    }
   ],
   "source": [
    "print(f\"#stations in stations dataset: {len(df_stations_data.loc[df_stations_data['Deployment Year'] < 2015.0])}\")\n",
    "print(f\"#stations in original dataset: {len(unique_stations_original)}\")"
   ]
  },
  {
   "cell_type": "code",
   "execution_count": 60,
   "metadata": {},
   "outputs": [
    {
     "data": {
      "text/plain": "['18 Dorrance Warehouse',\n 'Agganis Arena - 925 Comm Ave.',\n 'Allston Green District - Commonwealth Ave & Griggs St',\n 'Andrew Station - Dorchester Ave at Humboldt Pl',\n 'Aquarium Station - 200 Atlantic Ave.',\n 'BIDMC - Brookline at Burlington St',\n 'Back Bay / South End Station',\n 'Beacon St / Mass Ave',\n 'Beacon St at Washington / Kirkland',\n 'Boston Convention & Exhibition Center',\n 'Boston Medical Center -  East Concord at Harrison Ave',\n 'Boston Public Library - 700 Boylston St.',\n 'Boylston / Mass Ave',\n 'Boylston St / Berkeley St',\n 'Boylston St / Washington St',\n 'Boylston St. at Arlington St.',\n 'Boylston at Fairfield',\n 'Brigham Cir / Huntington Ave',\n 'Brighton Center',\n 'Brookline Village - Pearl Street @ MBTA',\n 'Buswell St. at Park Dr.',\n 'Cambridge St. at Joy St.',\n 'Charles Circle - Charles St. at Cambridge St.',\n 'Charles St at Beacon St',\n 'Charlestown - Main St at Austin St',\n 'Charlestown - Warren St at Chelsea St',\n 'Chinatown Gate Plaza - Surface Rd. at Beach St.',\n 'Christian Science Plaza',\n 'Colleges of the Fenway',\n 'Columbus Ave. at Mass. Ave.',\n 'Congress / Sleeper',\n 'Coolidge Corner - Beacon St @ Centre St',\n 'Cross St. at Hanover St.',\n 'Curtis Hall at South Street',\n 'Dorchester Ave. at Gillette Park',\n 'Dudley Square',\n 'E. Cottage St at Columbia Rd',\n 'Edwards Playground - Main Street & Eden Street',\n 'Egleston Square at Columbus Ave',\n 'Faneuil Hall - Union St. at North St.',\n 'Franklin Park - Seaver Street at Humbolt Ave',\n 'Franklin Park Zoo',\n 'Franklin St. / Arch St.',\n 'Green St T',\n 'HMS / HSPH - Ave. Louis Pasteur at Longwood Ave.',\n 'Harvard Real Estate - Brighton Mills - 370 Western Ave',\n 'Harvard University Gund Hall at Quincy St / Kirkland S',\n 'Harvard University Housing - 111 Western Ave. at Soldiers Field Park ',\n 'Harvard University Transportation Services - 175 North Harvard St',\n 'Hayes Square at Vine St.',\n 'Heath St at South Huntington',\n 'Hyde Square at Barbara St',\n 'Ink Block',\n 'Inman Square at Vellucci Plaza / Hampshire St',\n 'Innovation Lab - 125 Western Ave. at Batten Way',\n 'JFK / UMASS at MBTA Station',\n 'JP Center - Centre Street at Myrtle Street',\n 'Jackson Square T at Centre St',\n 'John F Fitzgerald - Surface Road at India Street',\n 'Kenmore Sq / Comm Ave',\n 'Landmark Centre',\n 'Lawn on D',\n 'Lewis Wharf - Atlantic Ave.',\n 'Longwood Ave / Binney St',\n 'Lower Cambridgeport at Magazine St/Riverside Rd',\n 'Mass Ave at Newmarket Square',\n 'Mayor Martin J Walsh - 28 State St',\n 'Mt Pleasant Ave / Dudley Town Common',\n 'New Balance - 20 Guest St.',\n 'New Balance Store - Boylston at Dartmouth',\n 'Newbury St / Hereford St',\n 'Northeastern U / North Parking Lot',\n 'Packard Ave / Powderhouse Blvd',\n \"Packard's Corner - Comm. Ave. at Brighton Ave.\",\n 'Prudential Center / Belvidere',\n 'Rowes Wharf - Atlantic Ave',\n 'Roxbury Crossing Station',\n 'Ruggles Station / Columbus Ave.',\n 'Ryan Playground - Dorchester Avenue Station',\n 'Seaport Hotel',\n 'Seaport Square - Seaport Blvd. at Boston Wharf',\n 'Somerville Hospital at Highland Ave / Crocker St',\n 'South Boston Library - 646 East Broadway',\n 'South Station - 700 Atlantic Ave.',\n 'Stuart St. at Charles St.',\n 'Summer St at Cutter St',\n 'TD Garden - Causeway at Portal Park #1',\n 'TD Garden - Causeway at Portal Park #2',\n 'Teele Square at 239 Holland St',\n 'The Esplanade - Beacon St. at Arlington St.',\n 'Tremont St / W Newton St',\n 'Tremont St / West St',\n 'Tremont St. at Berkeley St.',\n 'UMass Boston Integrated Sciences Complex',\n 'Union Square - Brighton Ave. at Cambridge St.',\n \"Upham's Corner - Ramsey St at Dudley St\",\n 'Washington Square at Washington St. / Beacon St.',\n 'Washington St. at Lenox St.',\n 'Washington St. at Rutland St.',\n 'Washington St. at Waltham St.',\n 'Wentworth Institute of Technology',\n 'West Broadway at D Street',\n 'West Broadway at Dorchester St',\n 'Yawkey Way at Boylston St.']"
     },
     "execution_count": 60,
     "metadata": {},
     "output_type": "execute_result"
    }
   ],
   "source": [
    "stations_no_match = list(filter(lambda x: not(np.any(unique_stations_external == x)), unique_stations_original))\n",
    "len(stations_no_match)\n",
    "\n",
    "stations_no_match\n"
   ]
  },
  {
   "cell_type": "code",
   "execution_count": 61,
   "metadata": {},
   "outputs": [
    {
     "data": {
      "text/plain": "['359 Broadway - Broadway at Fayette Street',\n 'Alewife Station at Russell Field',\n 'Ames St at Main St',\n 'B.U. Central - 725 Comm. Ave.',\n 'Binney St / Sixth St',\n 'Bunker Hill Community College',\n 'Cambridge Main Library at Broadway / Trowbridge St',\n 'Cambridge St - at Columbia St / Webster Ave',\n 'CambridgeSide Galleria - CambridgeSide PL at Land Blvd',\n 'Central Sq Post Office / Cambridge City Hall at Mass Ave / Pleasant St',\n 'Central Square at Mass Ave / Essex St',\n 'Conway Park - Somerville Avenue',\n 'Dana Park',\n 'Danehy Park',\n 'Davis Square',\n 'EF - North Point Park',\n 'Fan Pier',\n 'Harvard Kennedy School at Bennett St / Eliot St',\n 'Harvard Law School at Mass Ave / Jarvis St',\n 'Harvard Square at Brattle St / Eliot St',\n 'Harvard Square at Mass Ave/ Dunster',\n 'Harvard University / SEAS Cruft-Pierce Halls at 29 Oxford St',\n 'Harvard University Housing - 115 Putnam Ave at Peabody Terrace',\n 'Harvard University Radcliffe Quadrangle at Shepard St / Garden St',\n 'Harvard University River Houses at DeWolfe St / Cowperthwaite St',\n 'ID Building East',\n 'ID Building West',\n 'JFK Crossing at Harvard St. / Thorndike St.',\n 'Kendall Street',\n 'Lafayette Square at Mass Ave / Main St / Columbia St',\n 'Lechmere Station at Cambridge St / First St',\n 'Lesley University',\n 'Linear Park - Mass. Ave. at Cameron Ave. ',\n 'MIT Pacific St at Purrington St',\n 'MIT Stata Center at Vassar St / Main St',\n 'MIT Vassar St',\n 'MIT at Mass Ave / Amherst St',\n 'Magoun Square at Trum Field',\n 'Mt Auburn',\n 'One Broadway / Kendall Sq at Main St / 3rd St',\n 'One Kendall Square at Hampshire St / Portland St',\n 'Porter Square Station',\n 'Post Office Square',\n 'Powder House Circle - Nathan Tufts Park',\n \"Rindge Avenue - O'Neill Library\",\n 'Somerville City Hall',\n 'Spaulding Rehabilitation Hospital - Charlestown Navy Yard',\n 'State Street at Channel Center',\n 'Union Square - Somerville',\n 'University Park',\n 'Washington St at Brock St',\n 'Wilson Square']"
     },
     "execution_count": 61,
     "metadata": {},
     "output_type": "execute_result"
    }
   ],
   "source": [
    "stations_match = list(filter(lambda x: np.any(unique_stations_external == x), unique_stations_original))\n",
    "stations_match"
   ]
  },
  {
   "attachments": {},
   "cell_type": "markdown",
   "metadata": {},
   "source": [
    "# Plot start & end stations"
   ]
  },
  {
   "cell_type": "code",
   "execution_count": 62,
   "metadata": {},
   "outputs": [
    {
     "data": {
      "text/plain": "                                                                 start_time  \\\nstart_station_id start_station_latitude start_station_longitude               \n1                42.387151              -71.075978                       56   \n3                42.340021              -71.100812                     5018   \n4                42.345392              -71.069616                     9512   \n5                42.341814              -71.090179                     6175   \n6                42.361174              -71.065142                    13018   \n...                                                                     ...   \n176              42.386748              -71.119019                      287   \n177              42.362648              -71.100061                      858   \n178              42.359573              -71.101295                     1197   \n179              42.355601              -71.103945                      894   \n180              42.374786              -71.133202                      253   \n\n                                                                 end_time  \\\nstart_station_id start_station_latitude start_station_longitude             \n1                42.387151              -71.075978                     56   \n3                42.340021              -71.100812                   5018   \n4                42.345392              -71.069616                   9512   \n5                42.341814              -71.090179                   6175   \n6                42.361174              -71.065142                  13018   \n...                                                                   ...   \n176              42.386748              -71.119019                    287   \n177              42.362648              -71.100061                    858   \n178              42.359573              -71.101295                   1197   \n179              42.355601              -71.103945                    894   \n180              42.374786              -71.133202                    253   \n\n                                                                 end_station_id  \\\nstart_station_id start_station_latitude start_station_longitude                   \n1                42.387151              -71.075978                           56   \n3                42.340021              -71.100812                         5018   \n4                42.345392              -71.069616                         9512   \n5                42.341814              -71.090179                         6175   \n6                42.361174              -71.065142                        13018   \n...                                                                         ...   \n176              42.386748              -71.119019                          287   \n177              42.362648              -71.100061                          858   \n178              42.359573              -71.101295                         1197   \n179              42.355601              -71.103945                          894   \n180              42.374786              -71.133202                          253   \n\n                                                                 start_station_name  \\\nstart_station_id start_station_latitude start_station_longitude                       \n1                42.387151              -71.075978                               56   \n3                42.340021              -71.100812                             5018   \n4                42.345392              -71.069616                             9512   \n5                42.341814              -71.090179                             6175   \n6                42.361174              -71.065142                            13018   \n...                                                                             ...   \n176              42.386748              -71.119019                              287   \n177              42.362648              -71.100061                              858   \n178              42.359573              -71.101295                             1197   \n179              42.355601              -71.103945                              894   \n180              42.374786              -71.133202                              253   \n\n                                                                 end_station_name  \\\nstart_station_id start_station_latitude start_station_longitude                     \n1                42.387151              -71.075978                             56   \n3                42.340021              -71.100812                           5018   \n4                42.345392              -71.069616                           9512   \n5                42.341814              -71.090179                           6175   \n6                42.361174              -71.065142                          13018   \n...                                                                           ...   \n176              42.386748              -71.119019                            287   \n177              42.362648              -71.100061                            858   \n178              42.359573              -71.101295                           1197   \n179              42.355601              -71.103945                            894   \n180              42.374786              -71.133202                            253   \n\n                                                                 bike_id  \\\nstart_station_id start_station_latitude start_station_longitude            \n1                42.387151              -71.075978                    56   \n3                42.340021              -71.100812                  5018   \n4                42.345392              -71.069616                  9512   \n5                42.341814              -71.090179                  6175   \n6                42.361174              -71.065142                 13018   \n...                                                                  ...   \n176              42.386748              -71.119019                   287   \n177              42.362648              -71.100061                   858   \n178              42.359573              -71.101295                  1197   \n179              42.355601              -71.103945                   894   \n180              42.374786              -71.133202                   253   \n\n                                                                 user_type  \\\nstart_station_id start_station_latitude start_station_longitude              \n1                42.387151              -71.075978                      56   \n3                42.340021              -71.100812                    5018   \n4                42.345392              -71.069616                    9512   \n5                42.341814              -71.090179                    6175   \n6                42.361174              -71.065142                   13018   \n...                                                                    ...   \n176              42.386748              -71.119019                     287   \n177              42.362648              -71.100061                     858   \n178              42.359573              -71.101295                    1197   \n179              42.355601              -71.103945                     894   \n180              42.374786              -71.133202                     253   \n\n                                                                 trip_length  \\\nstart_station_id start_station_latitude start_station_longitude                \n1                42.387151              -71.075978                        56   \n3                42.340021              -71.100812                      5018   \n4                42.345392              -71.069616                      9512   \n5                42.341814              -71.090179                      6175   \n6                42.361174              -71.065142                     13018   \n...                                                                      ...   \n176              42.386748              -71.119019                       287   \n177              42.362648              -71.100061                       858   \n178              42.359573              -71.101295                      1197   \n179              42.355601              -71.103945                       894   \n180              42.374786              -71.133202                       253   \n\n                                                                 end_station_latitude  \\\nstart_station_id start_station_latitude start_station_longitude                         \n1                42.387151              -71.075978                                 56   \n3                42.340021              -71.100812                               5018   \n4                42.345392              -71.069616                               9512   \n5                42.341814              -71.090179                               6175   \n6                42.361174              -71.065142                              13018   \n...                                                                               ...   \n176              42.386748              -71.119019                                287   \n177              42.362648              -71.100061                                858   \n178              42.359573              -71.101295                               1197   \n179              42.355601              -71.103945                                894   \n180              42.374786              -71.133202                                253   \n\n                                                                 end_station_longitude  \nstart_station_id start_station_latitude start_station_longitude                         \n1                42.387151              -71.075978                                  56  \n3                42.340021              -71.100812                                5018  \n4                42.345392              -71.069616                                9512  \n5                42.341814              -71.090179                                6175  \n6                42.361174              -71.065142                               13018  \n...                                                                                ...  \n176              42.386748              -71.119019                                 287  \n177              42.362648              -71.100061                                 858  \n178              42.359573              -71.101295                                1197  \n179              42.355601              -71.103945                                 894  \n180              42.374786              -71.133202                                 253  \n\n[156 rows x 10 columns]",
      "text/html": "<div>\n<style scoped>\n    .dataframe tbody tr th:only-of-type {\n        vertical-align: middle;\n    }\n\n    .dataframe tbody tr th {\n        vertical-align: top;\n    }\n\n    .dataframe thead th {\n        text-align: right;\n    }\n</style>\n<table border=\"1\" class=\"dataframe\">\n  <thead>\n    <tr style=\"text-align: right;\">\n      <th></th>\n      <th></th>\n      <th></th>\n      <th>start_time</th>\n      <th>end_time</th>\n      <th>end_station_id</th>\n      <th>start_station_name</th>\n      <th>end_station_name</th>\n      <th>bike_id</th>\n      <th>user_type</th>\n      <th>trip_length</th>\n      <th>end_station_latitude</th>\n      <th>end_station_longitude</th>\n    </tr>\n    <tr>\n      <th>start_station_id</th>\n      <th>start_station_latitude</th>\n      <th>start_station_longitude</th>\n      <th></th>\n      <th></th>\n      <th></th>\n      <th></th>\n      <th></th>\n      <th></th>\n      <th></th>\n      <th></th>\n      <th></th>\n      <th></th>\n    </tr>\n  </thead>\n  <tbody>\n    <tr>\n      <th>1</th>\n      <th>42.387151</th>\n      <th>-71.075978</th>\n      <td>56</td>\n      <td>56</td>\n      <td>56</td>\n      <td>56</td>\n      <td>56</td>\n      <td>56</td>\n      <td>56</td>\n      <td>56</td>\n      <td>56</td>\n      <td>56</td>\n    </tr>\n    <tr>\n      <th>3</th>\n      <th>42.340021</th>\n      <th>-71.100812</th>\n      <td>5018</td>\n      <td>5018</td>\n      <td>5018</td>\n      <td>5018</td>\n      <td>5018</td>\n      <td>5018</td>\n      <td>5018</td>\n      <td>5018</td>\n      <td>5018</td>\n      <td>5018</td>\n    </tr>\n    <tr>\n      <th>4</th>\n      <th>42.345392</th>\n      <th>-71.069616</th>\n      <td>9512</td>\n      <td>9512</td>\n      <td>9512</td>\n      <td>9512</td>\n      <td>9512</td>\n      <td>9512</td>\n      <td>9512</td>\n      <td>9512</td>\n      <td>9512</td>\n      <td>9512</td>\n    </tr>\n    <tr>\n      <th>5</th>\n      <th>42.341814</th>\n      <th>-71.090179</th>\n      <td>6175</td>\n      <td>6175</td>\n      <td>6175</td>\n      <td>6175</td>\n      <td>6175</td>\n      <td>6175</td>\n      <td>6175</td>\n      <td>6175</td>\n      <td>6175</td>\n      <td>6175</td>\n    </tr>\n    <tr>\n      <th>6</th>\n      <th>42.361174</th>\n      <th>-71.065142</th>\n      <td>13018</td>\n      <td>13018</td>\n      <td>13018</td>\n      <td>13018</td>\n      <td>13018</td>\n      <td>13018</td>\n      <td>13018</td>\n      <td>13018</td>\n      <td>13018</td>\n      <td>13018</td>\n    </tr>\n    <tr>\n      <th>...</th>\n      <th>...</th>\n      <th>...</th>\n      <td>...</td>\n      <td>...</td>\n      <td>...</td>\n      <td>...</td>\n      <td>...</td>\n      <td>...</td>\n      <td>...</td>\n      <td>...</td>\n      <td>...</td>\n      <td>...</td>\n    </tr>\n    <tr>\n      <th>176</th>\n      <th>42.386748</th>\n      <th>-71.119019</th>\n      <td>287</td>\n      <td>287</td>\n      <td>287</td>\n      <td>287</td>\n      <td>287</td>\n      <td>287</td>\n      <td>287</td>\n      <td>287</td>\n      <td>287</td>\n      <td>287</td>\n    </tr>\n    <tr>\n      <th>177</th>\n      <th>42.362648</th>\n      <th>-71.100061</th>\n      <td>858</td>\n      <td>858</td>\n      <td>858</td>\n      <td>858</td>\n      <td>858</td>\n      <td>858</td>\n      <td>858</td>\n      <td>858</td>\n      <td>858</td>\n      <td>858</td>\n    </tr>\n    <tr>\n      <th>178</th>\n      <th>42.359573</th>\n      <th>-71.101295</th>\n      <td>1197</td>\n      <td>1197</td>\n      <td>1197</td>\n      <td>1197</td>\n      <td>1197</td>\n      <td>1197</td>\n      <td>1197</td>\n      <td>1197</td>\n      <td>1197</td>\n      <td>1197</td>\n    </tr>\n    <tr>\n      <th>179</th>\n      <th>42.355601</th>\n      <th>-71.103945</th>\n      <td>894</td>\n      <td>894</td>\n      <td>894</td>\n      <td>894</td>\n      <td>894</td>\n      <td>894</td>\n      <td>894</td>\n      <td>894</td>\n      <td>894</td>\n      <td>894</td>\n    </tr>\n    <tr>\n      <th>180</th>\n      <th>42.374786</th>\n      <th>-71.133202</th>\n      <td>253</td>\n      <td>253</td>\n      <td>253</td>\n      <td>253</td>\n      <td>253</td>\n      <td>253</td>\n      <td>253</td>\n      <td>253</td>\n      <td>253</td>\n      <td>253</td>\n    </tr>\n  </tbody>\n</table>\n<p>156 rows × 10 columns</p>\n</div>"
     },
     "execution_count": 62,
     "metadata": {},
     "output_type": "execute_result"
    }
   ],
   "source": [
    "df_boston_grouped_start= df_boston.groupby(by=['start_station_id', 'start_station_latitude', 'start_station_longitude']).count()\n",
    "# df_boston_grouped_start = pd.DataFrame(df_boston_grouped_start)\n",
    "df_boston_grouped_start"
   ]
  },
  {
   "cell_type": "code",
   "execution_count": 63,
   "metadata": {},
   "outputs": [
    {
     "ename": "TypeError",
     "evalue": "unsupported operand type(s) for /: 'Timestamp' and 'int'",
     "output_type": "error",
     "traceback": [
      "\u001B[0;31m---------------------------------------------------------------------------\u001B[0m",
      "\u001B[0;31mTypeError\u001B[0m                                 Traceback (most recent call last)",
      "Cell \u001B[0;32mIn[63], line 4\u001B[0m\n\u001B[1;32m      1\u001B[0m \u001B[38;5;28;01mimport\u001B[39;00m \u001B[38;5;21;01mplotly\u001B[39;00m\u001B[38;5;21;01m.\u001B[39;00m\u001B[38;5;21;01mexpress\u001B[39;00m \u001B[38;5;28;01mas\u001B[39;00m \u001B[38;5;21;01mpx\u001B[39;00m\n\u001B[1;32m      2\u001B[0m color_scale \u001B[38;5;241m=\u001B[39m [(\u001B[38;5;241m0\u001B[39m, \u001B[38;5;124m'\u001B[39m\u001B[38;5;124morange\u001B[39m\u001B[38;5;124m'\u001B[39m), (\u001B[38;5;241m1\u001B[39m,\u001B[38;5;124m'\u001B[39m\u001B[38;5;124mred\u001B[39m\u001B[38;5;124m'\u001B[39m)]\n\u001B[0;32m----> 4\u001B[0m fig \u001B[38;5;241m=\u001B[39m \u001B[43mpx\u001B[49m\u001B[38;5;241;43m.\u001B[39;49m\u001B[43mscatter_mapbox\u001B[49m\u001B[43m(\u001B[49m\u001B[43mdf_boston\u001B[49m\u001B[43m,\u001B[49m\u001B[43m \u001B[49m\n\u001B[1;32m      5\u001B[0m \u001B[43m                        \u001B[49m\u001B[43mlat\u001B[49m\u001B[38;5;241;43m=\u001B[39;49m\u001B[38;5;124;43m\"\u001B[39;49m\u001B[38;5;124;43mstart_station_latitude\u001B[39;49m\u001B[38;5;124;43m\"\u001B[39;49m\u001B[43m,\u001B[49m\u001B[43m \u001B[49m\n\u001B[1;32m      6\u001B[0m \u001B[43m                        \u001B[49m\u001B[43mlon\u001B[49m\u001B[38;5;241;43m=\u001B[39;49m\u001B[38;5;124;43m\"\u001B[39;49m\u001B[38;5;124;43mstart_station_longitude\u001B[39;49m\u001B[38;5;124;43m\"\u001B[39;49m\u001B[43m,\u001B[49m\u001B[43m \u001B[49m\n\u001B[1;32m      7\u001B[0m \u001B[43m                        \u001B[49m\u001B[43mcolor\u001B[49m\u001B[38;5;241;43m=\u001B[39;49m\u001B[38;5;124;43m\"\u001B[39;49m\u001B[38;5;124;43mstart_time\u001B[39;49m\u001B[38;5;124;43m\"\u001B[39;49m\u001B[43m,\u001B[49m\n\u001B[1;32m      8\u001B[0m \u001B[43m                        \u001B[49m\u001B[43mcolor_continuous_scale\u001B[49m\u001B[38;5;241;43m=\u001B[39;49m\u001B[43mcolor_scale\u001B[49m\u001B[43m,\u001B[49m\n\u001B[1;32m      9\u001B[0m \u001B[43m                        \u001B[49m\u001B[43msize\u001B[49m\u001B[38;5;241;43m=\u001B[39;49m\u001B[38;5;124;43m\"\u001B[39;49m\u001B[38;5;124;43mstart_time\u001B[39;49m\u001B[38;5;124;43m\"\u001B[39;49m\u001B[43m,\u001B[49m\n\u001B[1;32m     10\u001B[0m \u001B[43m                        \u001B[49m\u001B[43mzoom\u001B[49m\u001B[38;5;241;43m=\u001B[39;49m\u001B[38;5;241;43m8\u001B[39;49m\u001B[43m,\u001B[49m\u001B[43m \u001B[49m\n\u001B[1;32m     11\u001B[0m \u001B[43m                        \u001B[49m\u001B[43mheight\u001B[49m\u001B[38;5;241;43m=\u001B[39;49m\u001B[38;5;241;43m800\u001B[39;49m\u001B[43m,\u001B[49m\n\u001B[1;32m     12\u001B[0m \u001B[43m                        \u001B[49m\u001B[43mwidth\u001B[49m\u001B[38;5;241;43m=\u001B[39;49m\u001B[38;5;241;43m800\u001B[39;49m\u001B[43m)\u001B[49m\n\u001B[1;32m     14\u001B[0m fig\u001B[38;5;241m.\u001B[39mupdate_layout(mapbox_style\u001B[38;5;241m=\u001B[39m\u001B[38;5;124m\"\u001B[39m\u001B[38;5;124mopen-street-map\u001B[39m\u001B[38;5;124m\"\u001B[39m)\n\u001B[1;32m     15\u001B[0m fig\u001B[38;5;241m.\u001B[39mupdate_layout(margin\u001B[38;5;241m=\u001B[39m{\u001B[38;5;124m\"\u001B[39m\u001B[38;5;124mr\u001B[39m\u001B[38;5;124m\"\u001B[39m:\u001B[38;5;241m0\u001B[39m,\u001B[38;5;124m\"\u001B[39m\u001B[38;5;124mt\u001B[39m\u001B[38;5;124m\"\u001B[39m:\u001B[38;5;241m0\u001B[39m,\u001B[38;5;124m\"\u001B[39m\u001B[38;5;124ml\u001B[39m\u001B[38;5;124m\"\u001B[39m:\u001B[38;5;241m0\u001B[39m,\u001B[38;5;124m\"\u001B[39m\u001B[38;5;124mb\u001B[39m\u001B[38;5;124m\"\u001B[39m:\u001B[38;5;241m0\u001B[39m})\n",
      "File \u001B[0;32m/usr/local/lib/python3.9/site-packages/plotly/express/_chart_types.py:1247\u001B[0m, in \u001B[0;36mscatter_mapbox\u001B[0;34m(data_frame, lat, lon, color, text, hover_name, hover_data, custom_data, size, animation_frame, animation_group, category_orders, labels, color_discrete_sequence, color_discrete_map, color_continuous_scale, range_color, color_continuous_midpoint, opacity, size_max, zoom, center, mapbox_style, title, template, width, height)\u001B[0m\n\u001B[1;32m   1214\u001B[0m \u001B[38;5;28;01mdef\u001B[39;00m \u001B[38;5;21mscatter_mapbox\u001B[39m(\n\u001B[1;32m   1215\u001B[0m     data_frame\u001B[38;5;241m=\u001B[39m\u001B[38;5;28;01mNone\u001B[39;00m,\n\u001B[1;32m   1216\u001B[0m     lat\u001B[38;5;241m=\u001B[39m\u001B[38;5;28;01mNone\u001B[39;00m,\n\u001B[0;32m   (...)\u001B[0m\n\u001B[1;32m   1241\u001B[0m     height\u001B[38;5;241m=\u001B[39m\u001B[38;5;28;01mNone\u001B[39;00m,\n\u001B[1;32m   1242\u001B[0m ) \u001B[38;5;241m-\u001B[39m\u001B[38;5;241m>\u001B[39m go\u001B[38;5;241m.\u001B[39mFigure:\n\u001B[1;32m   1243\u001B[0m     \u001B[38;5;124;03m\"\"\"\u001B[39;00m\n\u001B[1;32m   1244\u001B[0m \u001B[38;5;124;03m    In a Mapbox scatter plot, each row of `data_frame` is represented by a\u001B[39;00m\n\u001B[1;32m   1245\u001B[0m \u001B[38;5;124;03m    symbol mark on a Mapbox map.\u001B[39;00m\n\u001B[1;32m   1246\u001B[0m \u001B[38;5;124;03m    \"\"\"\u001B[39;00m\n\u001B[0;32m-> 1247\u001B[0m     \u001B[38;5;28;01mreturn\u001B[39;00m \u001B[43mmake_figure\u001B[49m\u001B[43m(\u001B[49m\u001B[43margs\u001B[49m\u001B[38;5;241;43m=\u001B[39;49m\u001B[38;5;28;43mlocals\u001B[39;49m\u001B[43m(\u001B[49m\u001B[43m)\u001B[49m\u001B[43m,\u001B[49m\u001B[43m \u001B[49m\u001B[43mconstructor\u001B[49m\u001B[38;5;241;43m=\u001B[39;49m\u001B[43mgo\u001B[49m\u001B[38;5;241;43m.\u001B[39;49m\u001B[43mScattermapbox\u001B[49m\u001B[43m)\u001B[49m\n",
      "File \u001B[0;32m/usr/local/lib/python3.9/site-packages/plotly/express/_core.py:1999\u001B[0m, in \u001B[0;36mmake_figure\u001B[0;34m(args, constructor, trace_patch, layout_patch)\u001B[0m\n\u001B[1;32m   1996\u001B[0m     constructor \u001B[38;5;241m=\u001B[39m go\u001B[38;5;241m.\u001B[39mBar\n\u001B[1;32m   1997\u001B[0m     args \u001B[38;5;241m=\u001B[39m process_dataframe_timeline(args)\n\u001B[0;32m-> 1999\u001B[0m trace_specs, grouped_mappings, sizeref, show_colorbar \u001B[38;5;241m=\u001B[39m \u001B[43minfer_config\u001B[49m\u001B[43m(\u001B[49m\n\u001B[1;32m   2000\u001B[0m \u001B[43m    \u001B[49m\u001B[43margs\u001B[49m\u001B[43m,\u001B[49m\u001B[43m \u001B[49m\u001B[43mconstructor\u001B[49m\u001B[43m,\u001B[49m\u001B[43m \u001B[49m\u001B[43mtrace_patch\u001B[49m\u001B[43m,\u001B[49m\u001B[43m \u001B[49m\u001B[43mlayout_patch\u001B[49m\n\u001B[1;32m   2001\u001B[0m \u001B[43m\u001B[49m\u001B[43m)\u001B[49m\n\u001B[1;32m   2002\u001B[0m grouper \u001B[38;5;241m=\u001B[39m [x\u001B[38;5;241m.\u001B[39mgrouper \u001B[38;5;129;01mor\u001B[39;00m one_group \u001B[38;5;28;01mfor\u001B[39;00m x \u001B[38;5;129;01min\u001B[39;00m grouped_mappings] \u001B[38;5;129;01mor\u001B[39;00m [one_group]\n\u001B[1;32m   2003\u001B[0m groups, orders \u001B[38;5;241m=\u001B[39m get_groups_and_orders(args, grouper)\n",
      "File \u001B[0;32m/usr/local/lib/python3.9/site-packages/plotly/express/_core.py:1712\u001B[0m, in \u001B[0;36minfer_config\u001B[0;34m(args, constructor, trace_patch, layout_patch)\u001B[0m\n\u001B[1;32m   1710\u001B[0m sizeref \u001B[38;5;241m=\u001B[39m \u001B[38;5;241m0\u001B[39m\n\u001B[1;32m   1711\u001B[0m \u001B[38;5;28;01mif\u001B[39;00m \u001B[38;5;124m\"\u001B[39m\u001B[38;5;124msize\u001B[39m\u001B[38;5;124m\"\u001B[39m \u001B[38;5;129;01min\u001B[39;00m args \u001B[38;5;129;01mand\u001B[39;00m args[\u001B[38;5;124m\"\u001B[39m\u001B[38;5;124msize\u001B[39m\u001B[38;5;124m\"\u001B[39m]:\n\u001B[0;32m-> 1712\u001B[0m     sizeref \u001B[38;5;241m=\u001B[39m \u001B[43margs\u001B[49m\u001B[43m[\u001B[49m\u001B[38;5;124;43m\"\u001B[39;49m\u001B[38;5;124;43mdata_frame\u001B[39;49m\u001B[38;5;124;43m\"\u001B[39;49m\u001B[43m]\u001B[49m\u001B[43m[\u001B[49m\u001B[43margs\u001B[49m\u001B[43m[\u001B[49m\u001B[38;5;124;43m\"\u001B[39;49m\u001B[38;5;124;43msize\u001B[39;49m\u001B[38;5;124;43m\"\u001B[39;49m\u001B[43m]\u001B[49m\u001B[43m]\u001B[49m\u001B[38;5;241;43m.\u001B[39;49m\u001B[43mmax\u001B[49m\u001B[43m(\u001B[49m\u001B[43m)\u001B[49m\u001B[43m \u001B[49m\u001B[38;5;241;43m/\u001B[39;49m\u001B[43m \u001B[49m\u001B[43margs\u001B[49m\u001B[43m[\u001B[49m\u001B[38;5;124;43m\"\u001B[39;49m\u001B[38;5;124;43msize_max\u001B[39;49m\u001B[38;5;124;43m\"\u001B[39;49m\u001B[43m]\u001B[49m\u001B[43m \u001B[49m\u001B[38;5;241;43m*\u001B[39;49m\u001B[38;5;241;43m*\u001B[39;49m\u001B[43m \u001B[49m\u001B[38;5;241;43m2\u001B[39;49m\n\u001B[1;32m   1714\u001B[0m \u001B[38;5;66;03m# Compute color attributes and grouping attributes\u001B[39;00m\n\u001B[1;32m   1715\u001B[0m \u001B[38;5;28;01mif\u001B[39;00m \u001B[38;5;124m\"\u001B[39m\u001B[38;5;124mcolor\u001B[39m\u001B[38;5;124m\"\u001B[39m \u001B[38;5;129;01min\u001B[39;00m args:\n",
      "\u001B[0;31mTypeError\u001B[0m: unsupported operand type(s) for /: 'Timestamp' and 'int'"
     ]
    }
   ],
   "source": [
    "import plotly.express as px\n",
    "color_scale = [(0, 'orange'), (1,'red')]\n",
    "\n",
    "fig = px.scatter_mapbox(df_boston, \n",
    "                        lat=\"start_station_latitude\", \n",
    "                        lon=\"start_station_longitude\", \n",
    "                        color=\"start_time\",\n",
    "                        color_continuous_scale=color_scale,\n",
    "                        size=\"start_time\",\n",
    "                        zoom=8, \n",
    "                        height=800,\n",
    "                        width=800)\n",
    "\n",
    "fig.update_layout(mapbox_style=\"open-street-map\")\n",
    "fig.update_layout(margin={\"r\":0,\"t\":0,\"l\":0,\"b\":0})\n",
    "fig.show()"
   ]
  },
  {
   "cell_type": "code",
   "execution_count": null,
   "metadata": {},
   "outputs": [],
   "source": []
  }
 ],
 "metadata": {
  "kernelspec": {
   "display_name": "Python 3.9.13 ('aaWorkshop': conda)",
   "language": "python",
   "name": "python3"
  },
  "language_info": {
   "codemirror_mode": {
    "name": "ipython",
    "version": 3
   },
   "file_extension": ".py",
   "mimetype": "text/x-python",
   "name": "python",
   "nbconvert_exporter": "python",
   "pygments_lexer": "ipython3",
   "version": "3.9.13"
  },
  "vscode": {
   "interpreter": {
    "hash": "795b57666299e416dabae68251aa093272eee9f75556c2733eccb39675e1d05f"
   }
  }
 },
 "nbformat": 4,
 "nbformat_minor": 2
}
