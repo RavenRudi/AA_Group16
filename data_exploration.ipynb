{
 "cells": [
  {
   "cell_type": "code",
   "execution_count": 8,
   "metadata": {},
   "outputs": [],
   "source": [
    "import pandas as pd\n",
    "import numpy as np\n",
    "import folium\n",
    "import plotly.express as px\n",
    "import seaborn as sns\n"
   ]
  },
  {
   "cell_type": "code",
   "execution_count": 9,
   "metadata": {},
   "outputs": [
    {
     "name": "stdout",
     "output_type": "stream",
     "text": [
      "Total number of rows: 1122558\n"
     ]
    },
    {
     "data": {
      "text/html": [
       "<div>\n",
       "<style scoped>\n",
       "    .dataframe tbody tr th:only-of-type {\n",
       "        vertical-align: middle;\n",
       "    }\n",
       "\n",
       "    .dataframe tbody tr th {\n",
       "        vertical-align: top;\n",
       "    }\n",
       "\n",
       "    .dataframe thead th {\n",
       "        text-align: right;\n",
       "    }\n",
       "</style>\n",
       "<table border=\"1\" class=\"dataframe\">\n",
       "  <thead>\n",
       "    <tr style=\"text-align: right;\">\n",
       "      <th></th>\n",
       "      <th>start_time</th>\n",
       "      <th>end_time</th>\n",
       "      <th>start_station_id</th>\n",
       "      <th>end_station_id</th>\n",
       "      <th>start_station_name</th>\n",
       "      <th>end_station_name</th>\n",
       "      <th>bike_id</th>\n",
       "      <th>user_type</th>\n",
       "    </tr>\n",
       "  </thead>\n",
       "  <tbody>\n",
       "    <tr>\n",
       "      <th>0</th>\n",
       "      <td>2015-01-01 00:21:44</td>\n",
       "      <td>2015-01-01 00:30:47</td>\n",
       "      <td>115</td>\n",
       "      <td>96</td>\n",
       "      <td>Porter Square Station</td>\n",
       "      <td>Cambridge Main Library at Broadway / Trowbridg...</td>\n",
       "      <td>277</td>\n",
       "      <td>Subscriber</td>\n",
       "    </tr>\n",
       "    <tr>\n",
       "      <th>1</th>\n",
       "      <td>2015-01-01 00:27:03</td>\n",
       "      <td>2015-01-01 00:34:21</td>\n",
       "      <td>80</td>\n",
       "      <td>95</td>\n",
       "      <td>MIT Stata Center at Vassar St / Main St</td>\n",
       "      <td>Cambridge St - at Columbia St / Webster Ave</td>\n",
       "      <td>648</td>\n",
       "      <td>Subscriber</td>\n",
       "    </tr>\n",
       "    <tr>\n",
       "      <th>2</th>\n",
       "      <td>2015-01-01 00:31:31</td>\n",
       "      <td>2015-01-01 00:35:46</td>\n",
       "      <td>91</td>\n",
       "      <td>68</td>\n",
       "      <td>One Kendall Square at Hampshire St / Portland St</td>\n",
       "      <td>Central Square at Mass Ave / Essex St</td>\n",
       "      <td>555</td>\n",
       "      <td>Subscriber</td>\n",
       "    </tr>\n",
       "    <tr>\n",
       "      <th>3</th>\n",
       "      <td>2015-01-01 00:53:46</td>\n",
       "      <td>2015-01-01 01:00:58</td>\n",
       "      <td>115</td>\n",
       "      <td>96</td>\n",
       "      <td>Porter Square Station</td>\n",
       "      <td>Cambridge Main Library at Broadway / Trowbridg...</td>\n",
       "      <td>1307</td>\n",
       "      <td>Subscriber</td>\n",
       "    </tr>\n",
       "    <tr>\n",
       "      <th>4</th>\n",
       "      <td>2015-01-01 01:07:06</td>\n",
       "      <td>2015-01-01 01:19:21</td>\n",
       "      <td>105</td>\n",
       "      <td>88</td>\n",
       "      <td>Lower Cambridgeport at Magazine St/Riverside Rd</td>\n",
       "      <td>Inman Square at Vellucci Plaza / Hampshire St</td>\n",
       "      <td>177</td>\n",
       "      <td>Customer</td>\n",
       "    </tr>\n",
       "  </tbody>\n",
       "</table>\n",
       "</div>"
      ],
      "text/plain": [
       "            start_time             end_time  start_station_id end_station_id  \\\n",
       "0  2015-01-01 00:21:44  2015-01-01 00:30:47               115             96   \n",
       "1  2015-01-01 00:27:03  2015-01-01 00:34:21                80             95   \n",
       "2  2015-01-01 00:31:31  2015-01-01 00:35:46                91             68   \n",
       "3  2015-01-01 00:53:46  2015-01-01 01:00:58               115             96   \n",
       "4  2015-01-01 01:07:06  2015-01-01 01:19:21               105             88   \n",
       "\n",
       "                                 start_station_name  \\\n",
       "0                             Porter Square Station   \n",
       "1           MIT Stata Center at Vassar St / Main St   \n",
       "2  One Kendall Square at Hampshire St / Portland St   \n",
       "3                             Porter Square Station   \n",
       "4   Lower Cambridgeport at Magazine St/Riverside Rd   \n",
       "\n",
       "                                    end_station_name  bike_id   user_type  \n",
       "0  Cambridge Main Library at Broadway / Trowbridg...      277  Subscriber  \n",
       "1        Cambridge St - at Columbia St / Webster Ave      648  Subscriber  \n",
       "2              Central Square at Mass Ave / Essex St      555  Subscriber  \n",
       "3  Cambridge Main Library at Broadway / Trowbridg...     1307  Subscriber  \n",
       "4      Inman Square at Vellucci Plaza / Hampshire St      177    Customer  "
      ]
     },
     "execution_count": 9,
     "metadata": {},
     "output_type": "execute_result"
    }
   ],
   "source": [
    "df_boston = pd.read_csv('./data/boston_2015.csv', dtype={'start_station_id': np.int64, 'end_station_id': 'string', 'end_station_name': 'string', 'start_station_name': 'string', 'bike_id': np.int64, 'user_type': 'string'})\n",
    "\n",
    "print(f'Total number of rows: {len(df_boston)}')\n",
    "\n",
    "df_boston.head() "
   ]
  },
  {
   "cell_type": "code",
   "execution_count": 10,
   "metadata": {},
   "outputs": [
    {
     "data": {
      "text/plain": [
       "<StringArray>\n",
       "['Subscriber', 'Customer']\n",
       "Length: 2, dtype: string"
      ]
     },
     "execution_count": 10,
     "metadata": {},
     "output_type": "execute_result"
    }
   ],
   "source": [
    "df_boston['user_type'].unique()"
   ]
  },
  {
   "cell_type": "markdown",
   "metadata": {},
   "source": [
    "# Preprocessing\n",
    "### Set data type of 'end_station_id'"
   ]
  },
  {
   "cell_type": "code",
   "execution_count": 11,
   "metadata": {},
   "outputs": [
    {
     "name": "stdout",
     "output_type": "stream",
     "text": [
      "Number of \"\\\\N\" occurences in end_station_id column: 1\n",
      "<class 'pandas.core.frame.DataFrame'>\n",
      "Int64Index: 1122557 entries, 0 to 1122557\n",
      "Data columns (total 8 columns):\n",
      " #   Column              Non-Null Count    Dtype \n",
      "---  ------              --------------    ----- \n",
      " 0   start_time          1122557 non-null  object\n",
      " 1   end_time            1122557 non-null  object\n",
      " 2   start_station_id    1122557 non-null  int64 \n",
      " 3   end_station_id      1122557 non-null  int64 \n",
      " 4   start_station_name  1122557 non-null  string\n",
      " 5   end_station_name    1122557 non-null  string\n",
      " 6   bike_id             1122557 non-null  int64 \n",
      " 7   user_type           1122557 non-null  string\n",
      "dtypes: int64(3), object(2), string(3)\n",
      "memory usage: 77.1+ MB\n"
     ]
    }
   ],
   "source": [
    "# Value '\\\\N' seems to be anomaly -> occurs only once, so drop!\n",
    "num_occurences = len(df_boston.loc[df_boston[\"end_station_id\"] == \"\\\\N\"])\n",
    "print(f'Number of \"\\\\\\\\N\" occurences in end_station_id column: {num_occurences}')\n",
    "df_boston.drop(index=df_boston.loc[df_boston[\"end_station_id\"] == \"\\\\N\"].index, inplace=True, axis=1)\n",
    "\n",
    "# now set column to dtype np.int64\n",
    "df_boston = df_boston.astype({'end_station_id': np.int64})\n",
    "df_boston.info()"
   ]
  },
  {
   "cell_type": "markdown",
   "metadata": {},
   "source": [
    "### Set data type of time columns"
   ]
  },
  {
   "cell_type": "code",
   "execution_count": 12,
   "metadata": {},
   "outputs": [
    {
     "data": {
      "text/plain": [
       "start_time            datetime64[ns]\n",
       "end_time              datetime64[ns]\n",
       "start_station_id               int64\n",
       "end_station_id                 int64\n",
       "start_station_name            string\n",
       "end_station_name              string\n",
       "bike_id                        int64\n",
       "user_type                     string\n",
       "dtype: object"
      ]
     },
     "execution_count": 12,
     "metadata": {},
     "output_type": "execute_result"
    }
   ],
   "source": [
    "df_boston['start_time'] = pd.to_datetime(df_boston['start_time'], format='%Y-%m-%d %X')\n",
    "df_boston['end_time'] = pd.to_datetime(df_boston['end_time'], format='%Y-%m-%d %X')\n",
    "df_boston.dtypes"
   ]
  },
  {
   "attachments": {},
   "cell_type": "markdown",
   "metadata": {},
   "source": [
    "### Check if station id and names are unique tuples"
   ]
  },
  {
   "cell_type": "code",
   "execution_count": 13,
   "metadata": {},
   "outputs": [
    {
     "name": "stdout",
     "output_type": "stream",
     "text": [
      "Station IDs and names are unique True\n"
     ]
    }
   ],
   "source": [
    "# len(df_boston['start_station_name'].unique())\n",
    "is_unique = True\n",
    "i = 0\n",
    "all_station_ids = df_boston['start_station_id'].unique()\n",
    "\n",
    "while i < len(all_station_ids) & is_unique:\n",
    "    is_unique = len(df_boston.loc[df_boston['start_station_id'] == i]['start_station_name'].unique()) == 1\n",
    "    i += 1\n",
    "\n",
    "print(\"Station IDs and names are unique\", is_unique)\n"
   ]
  },
  {
   "cell_type": "code",
   "execution_count": 14,
   "metadata": {},
   "outputs": [
    {
     "data": {
      "text/plain": [
       "array([['1', '18 Dorrance Warehouse'],\n",
       "       ['10', 'B.U. Central - 725 Comm. Ave.'],\n",
       "       ['100', 'Davis Square'],\n",
       "       ['102', 'Powder House Circle - Nathan Tufts Park'],\n",
       "       ['103', 'JFK Crossing at Harvard St. / Thorndike St.'],\n",
       "       ['104',\n",
       "        'Harvard University Radcliffe Quadrangle at Shepard St / Garden St'],\n",
       "       ['105', 'Lower Cambridgeport at Magazine St/Riverside Rd'],\n",
       "       ['106', 'Mt Pleasant Ave / Dudley Town Common'],\n",
       "       ['107', 'Ames St at Main St'],\n",
       "       ['108',\n",
       "        'Harvard University / SEAS Cruft-Pierce Halls at 29 Oxford St'],\n",
       "       ['109', 'TD Garden - Causeway at Portal Park #1'],\n",
       "       ['11', 'Longwood Ave / Binney St'],\n",
       "       ['110', 'Harvard University Gund Hall at Quincy St / Kirkland S'],\n",
       "       ['111', 'Packard Ave / Powderhouse Blvd'],\n",
       "       ['112', 'Somerville Hospital at Highland Ave / Crocker St'],\n",
       "       ['113', 'Andrew Station - Dorchester Ave at Humboldt Pl'],\n",
       "       ['114', 'Teele Square at 239 Holland St'],\n",
       "       ['115', 'Porter Square Station'],\n",
       "       ['116', '359 Broadway - Broadway at Fayette Street'],\n",
       "       ['117', 'Binney St / Sixth St'],\n",
       "       ['118', 'Linear Park - Mass. Ave. at Cameron Ave. '],\n",
       "       ['119', 'South Boston Library - 646 East Broadway'],\n",
       "       ['12', 'Ruggles Station / Columbus Ave.'],\n",
       "       ['120', 'Charles St at Beacon St'],\n",
       "       ['121', 'West Broadway at Dorchester St'],\n",
       "       ['122', 'BIDMC - Brookline at Burlington St'],\n",
       "       ['123', 'JP Center - Centre Street at Myrtle Street'],\n",
       "       ['124', 'Curtis Hall at South Street'],\n",
       "       ['125', 'Hyde Square at Barbara St'],\n",
       "       ['126', 'Egleston Square at Columbus Ave'],\n",
       "       ['128', 'E. Cottage St at Columbia Rd'],\n",
       "       ['129', 'Hayes Square at Vine St.'],\n",
       "       ['13', 'Boston Medical Center -  East Concord at Harrison Ave'],\n",
       "       ['130', \"Upham's Corner - Ramsey St at Dudley St\"],\n",
       "       ['131', 'Jackson Square T at Centre St'],\n",
       "       ['132', 'Summer St at Cutter St'],\n",
       "       ['133', 'Green St T'],\n",
       "       ['134', 'New Balance Store - Boylston at Dartmouth'],\n",
       "       ['135', 'ID Building East'],\n",
       "       ['136', 'ID Building West'],\n",
       "       ['137', 'Magoun Square at Trum Field'],\n",
       "       ['138', 'Mass Ave at Newmarket Square'],\n",
       "       ['139', 'Dana Park'],\n",
       "       ['14', 'HMS / HSPH - Ave. Louis Pasteur at Longwood Ave.'],\n",
       "       ['140', 'Danehy Park'],\n",
       "       ['141', 'Kendall Street'],\n",
       "       ['142', 'Alewife Station at Russell Field'],\n",
       "       ['143', 'EF - North Point Park'],\n",
       "       ['145', \"Rindge Avenue - O'Neill Library\"],\n",
       "       ['149',\n",
       "        'Harvard University Transportation Services - 175 North Harvard St'],\n",
       "       ['15', 'Harvard Real Estate - Brighton Mills - 370 Western Ave'],\n",
       "       ['150', 'State Street at Channel Center'],\n",
       "       ['151', 'John F Fitzgerald - Surface Road at India Street'],\n",
       "       ['152', 'Ink Block'],\n",
       "       ['159', 'Heath St at South Huntington'],\n",
       "       ['16', 'Back Bay / South End Station'],\n",
       "       ['160', 'Wentworth Institute of Technology'],\n",
       "       ['161', 'West Broadway at D Street'],\n",
       "       ['162', 'Franklin Park - Seaver Street at Humbolt Ave'],\n",
       "       ['163', 'Lawn on D'],\n",
       "       ['167', 'Ryan Playground - Dorchester Avenue Station'],\n",
       "       ['169', 'Edwards Playground - Main Street & Eden Street'],\n",
       "       ['17',\n",
       "        'Harvard University Housing - 111 Western Ave. at Soldiers Field Park '],\n",
       "       ['170', 'Franklin Park Zoo'],\n",
       "       ['171', 'Bunker Hill Community College'],\n",
       "       ['174', 'Washington St at Brock St'],\n",
       "       ['175', 'Brighton Center'],\n",
       "       ['176', 'Lesley University'],\n",
       "       ['177', 'University Park'],\n",
       "       ['178', 'MIT Pacific St at Purrington St'],\n",
       "       ['179', 'MIT Vassar St'],\n",
       "       ['180', 'Mt Auburn'],\n",
       "       ['19', 'Buswell St. at Park Dr.'],\n",
       "       ['20', 'Aquarium Station - 200 Atlantic Ave.'],\n",
       "       ['21', 'Prudential Center / Belvidere'],\n",
       "       ['22', 'South Station - 700 Atlantic Ave.'],\n",
       "       ['23', 'Mayor Martin J Walsh - 28 State St'],\n",
       "       ['24', 'Seaport Square - Seaport Blvd. at Boston Wharf'],\n",
       "       ['25', 'Tremont St / W Newton St'],\n",
       "       ['26', 'Washington St. at Waltham St.'],\n",
       "       ['27', 'Roxbury Crossing Station'],\n",
       "       ['29', 'Innovation Lab - 125 Western Ave. at Batten Way'],\n",
       "       ['3', 'Colleges of the Fenway'],\n",
       "       ['30', 'Brigham Cir / Huntington Ave'],\n",
       "       ['31', 'Seaport Hotel'],\n",
       "       ['32', 'Landmark Centre'],\n",
       "       ['33', 'Kenmore Sq / Comm Ave'],\n",
       "       ['35', 'Franklin St. / Arch St.'],\n",
       "       ['36', 'Boston Public Library - 700 Boylston St.'],\n",
       "       ['37', 'New Balance - 20 Guest St.'],\n",
       "       ['38', 'TD Garden - Causeway at Portal Park #2'],\n",
       "       ['39', 'Washington St. at Rutland St.'],\n",
       "       ['4', 'Tremont St. at Berkeley St.'],\n",
       "       ['40', 'Lewis Wharf - Atlantic Ave.'],\n",
       "       ['41', \"Packard's Corner - Comm. Ave. at Brighton Ave.\"],\n",
       "       ['42', 'Boylston St. at Arlington St.'],\n",
       "       ['43', 'Rowes Wharf - Atlantic Ave'],\n",
       "       ['44', 'Faneuil Hall - Union St. at North St.'],\n",
       "       ['45', 'Yawkey Way at Boylston St.'],\n",
       "       ['46', 'Christian Science Plaza'],\n",
       "       ['47', 'Cross St. at Hanover St.'],\n",
       "       ['48', 'Post Office Square'],\n",
       "       ['49', 'Stuart St. at Charles St.'],\n",
       "       ['5', 'Northeastern U / North Parking Lot'],\n",
       "       ['50', 'Boylston St / Berkeley St'],\n",
       "       ['51', 'Washington St. at Lenox St.'],\n",
       "       ['52', 'Newbury St / Hereford St'],\n",
       "       ['53', 'Beacon St / Mass Ave'],\n",
       "       ['54', 'Tremont St / West St'],\n",
       "       ['55', 'Boylston / Mass Ave'],\n",
       "       ['56', 'Dudley Square'],\n",
       "       ['57', 'Columbus Ave. at Mass. Ave.'],\n",
       "       ['58', 'The Esplanade - Beacon St. at Arlington St.'],\n",
       "       ['59', 'Chinatown Gate Plaza - Surface Rd. at Beach St.'],\n",
       "       ['6', 'Cambridge St. at Joy St.'],\n",
       "       ['60', 'Charles Circle - Charles St. at Cambridge St.'],\n",
       "       ['61', 'Boylston at Fairfield'],\n",
       "       ['63', 'Dorchester Ave. at Gillette Park'],\n",
       "       ['64', 'Congress / Sleeper'],\n",
       "       ['65', 'Boston Convention & Exhibition Center'],\n",
       "       ['66', 'Allston Green District - Commonwealth Ave & Griggs St'],\n",
       "       ['67', 'MIT at Mass Ave / Amherst St'],\n",
       "       ['68', 'Central Square at Mass Ave / Essex St'],\n",
       "       ['69', 'Coolidge Corner - Beacon St @ Centre St'],\n",
       "       ['7', 'Fan Pier'],\n",
       "       ['70', 'Harvard Kennedy School at Bennett St / Eliot St'],\n",
       "       ['71', 'Conway Park - Somerville Avenue'],\n",
       "       ['72', 'One Broadway / Kendall Sq at Main St / 3rd St'],\n",
       "       ['73', 'Harvard Square at Brattle St / Eliot St'],\n",
       "       ['74', 'Harvard Square at Mass Ave/ Dunster'],\n",
       "       ['75', 'Lafayette Square at Mass Ave / Main St / Columbia St'],\n",
       "       ['76',\n",
       "        'Central Sq Post Office / Cambridge City Hall at Mass Ave / Pleasant St'],\n",
       "       ['77', 'Somerville City Hall'],\n",
       "       ['78', 'Union Square - Somerville'],\n",
       "       ['79', 'Beacon St at Washington / Kirkland'],\n",
       "       ['8', 'Union Square - Brighton Ave. at Cambridge St.'],\n",
       "       ['80', 'MIT Stata Center at Vassar St / Main St'],\n",
       "       ['81', 'Boylston St / Washington St'],\n",
       "       ['82', 'Washington Square at Washington St. / Beacon St.'],\n",
       "       ['84', 'CambridgeSide Galleria - CambridgeSide PL at Land Blvd'],\n",
       "       ['85',\n",
       "        'Spaulding Rehabilitation Hospital - Charlestown Navy Yard'],\n",
       "       ['86', 'Brookline Village - Pearl Street @ MBTA'],\n",
       "       ['87',\n",
       "        'Harvard University Housing - 115 Putnam Ave at Peabody Terrace'],\n",
       "       ['88', 'Inman Square at Vellucci Plaza / Hampshire St'],\n",
       "       ['89', 'Harvard Law School at Mass Ave / Jarvis St'],\n",
       "       ['9', 'Agganis Arena - 925 Comm Ave.'],\n",
       "       ['90', 'Lechmere Station at Cambridge St / First St'],\n",
       "       ['91', 'One Kendall Square at Hampshire St / Portland St'],\n",
       "       ['92', 'UMass Boston Integrated Sciences Complex'],\n",
       "       ['93', 'JFK / UMASS at MBTA Station'],\n",
       "       ['94', 'Charlestown - Main St at Austin St'],\n",
       "       ['95', 'Cambridge St - at Columbia St / Webster Ave'],\n",
       "       ['96', 'Cambridge Main Library at Broadway / Trowbridge St'],\n",
       "       ['97',\n",
       "        'Harvard University River Houses at DeWolfe St / Cowperthwaite St'],\n",
       "       ['98', 'Charlestown - Warren St at Chelsea St'],\n",
       "       ['99', 'Wilson Square']], dtype='<U70')"
      ]
     },
     "execution_count": 14,
     "metadata": {},
     "output_type": "execute_result"
    }
   ],
   "source": [
    "# Check if station id and name always match\n",
    "unique_start_tuples = np.unique(df_boston[['start_station_id', 'start_station_name']].values.astype('str'), axis=0)\n",
    "unique_start_tuples"
   ]
  },
  {
   "cell_type": "code",
   "execution_count": 15,
   "metadata": {},
   "outputs": [
    {
     "data": {
      "text/plain": [
       "array([], dtype='<U70')"
      ]
     },
     "execution_count": 15,
     "metadata": {},
     "output_type": "execute_result"
    }
   ],
   "source": [
    "#check for entire duplicates (also end stations)\n",
    "unique_start_tuples[:,0:1]\n",
    "u, c = np.unique(unique_start_tuples[:,0:1], return_counts=True)\n",
    "dup = u[c > 1]\n",
    "dup "
   ]
  },
  {
   "cell_type": "markdown",
   "metadata": {},
   "source": [
    "# Feature Engineering\n",
    "#### Calculate trip_length "
   ]
  },
  {
   "cell_type": "code",
   "execution_count": 16,
   "metadata": {},
   "outputs": [
    {
     "data": {
      "text/html": [
       "<div>\n",
       "<style scoped>\n",
       "    .dataframe tbody tr th:only-of-type {\n",
       "        vertical-align: middle;\n",
       "    }\n",
       "\n",
       "    .dataframe tbody tr th {\n",
       "        vertical-align: top;\n",
       "    }\n",
       "\n",
       "    .dataframe thead th {\n",
       "        text-align: right;\n",
       "    }\n",
       "</style>\n",
       "<table border=\"1\" class=\"dataframe\">\n",
       "  <thead>\n",
       "    <tr style=\"text-align: right;\">\n",
       "      <th></th>\n",
       "      <th>start_time</th>\n",
       "      <th>end_time</th>\n",
       "      <th>start_station_id</th>\n",
       "      <th>end_station_id</th>\n",
       "      <th>start_station_name</th>\n",
       "      <th>end_station_name</th>\n",
       "      <th>bike_id</th>\n",
       "      <th>user_type</th>\n",
       "      <th>trip_length</th>\n",
       "    </tr>\n",
       "  </thead>\n",
       "  <tbody>\n",
       "    <tr>\n",
       "      <th>0</th>\n",
       "      <td>2015-01-01 00:21:44</td>\n",
       "      <td>2015-01-01 00:30:47</td>\n",
       "      <td>115</td>\n",
       "      <td>96</td>\n",
       "      <td>Porter Square Station</td>\n",
       "      <td>Cambridge Main Library at Broadway / Trowbridg...</td>\n",
       "      <td>277</td>\n",
       "      <td>Subscriber</td>\n",
       "      <td>543.0</td>\n",
       "    </tr>\n",
       "    <tr>\n",
       "      <th>1</th>\n",
       "      <td>2015-01-01 00:27:03</td>\n",
       "      <td>2015-01-01 00:34:21</td>\n",
       "      <td>80</td>\n",
       "      <td>95</td>\n",
       "      <td>MIT Stata Center at Vassar St / Main St</td>\n",
       "      <td>Cambridge St - at Columbia St / Webster Ave</td>\n",
       "      <td>648</td>\n",
       "      <td>Subscriber</td>\n",
       "      <td>438.0</td>\n",
       "    </tr>\n",
       "    <tr>\n",
       "      <th>2</th>\n",
       "      <td>2015-01-01 00:31:31</td>\n",
       "      <td>2015-01-01 00:35:46</td>\n",
       "      <td>91</td>\n",
       "      <td>68</td>\n",
       "      <td>One Kendall Square at Hampshire St / Portland St</td>\n",
       "      <td>Central Square at Mass Ave / Essex St</td>\n",
       "      <td>555</td>\n",
       "      <td>Subscriber</td>\n",
       "      <td>255.0</td>\n",
       "    </tr>\n",
       "    <tr>\n",
       "      <th>3</th>\n",
       "      <td>2015-01-01 00:53:46</td>\n",
       "      <td>2015-01-01 01:00:58</td>\n",
       "      <td>115</td>\n",
       "      <td>96</td>\n",
       "      <td>Porter Square Station</td>\n",
       "      <td>Cambridge Main Library at Broadway / Trowbridg...</td>\n",
       "      <td>1307</td>\n",
       "      <td>Subscriber</td>\n",
       "      <td>432.0</td>\n",
       "    </tr>\n",
       "    <tr>\n",
       "      <th>4</th>\n",
       "      <td>2015-01-01 01:07:06</td>\n",
       "      <td>2015-01-01 01:19:21</td>\n",
       "      <td>105</td>\n",
       "      <td>88</td>\n",
       "      <td>Lower Cambridgeport at Magazine St/Riverside Rd</td>\n",
       "      <td>Inman Square at Vellucci Plaza / Hampshire St</td>\n",
       "      <td>177</td>\n",
       "      <td>Customer</td>\n",
       "      <td>735.0</td>\n",
       "    </tr>\n",
       "  </tbody>\n",
       "</table>\n",
       "</div>"
      ],
      "text/plain": [
       "           start_time            end_time  start_station_id  end_station_id  \\\n",
       "0 2015-01-01 00:21:44 2015-01-01 00:30:47               115              96   \n",
       "1 2015-01-01 00:27:03 2015-01-01 00:34:21                80              95   \n",
       "2 2015-01-01 00:31:31 2015-01-01 00:35:46                91              68   \n",
       "3 2015-01-01 00:53:46 2015-01-01 01:00:58               115              96   \n",
       "4 2015-01-01 01:07:06 2015-01-01 01:19:21               105              88   \n",
       "\n",
       "                                 start_station_name  \\\n",
       "0                             Porter Square Station   \n",
       "1           MIT Stata Center at Vassar St / Main St   \n",
       "2  One Kendall Square at Hampshire St / Portland St   \n",
       "3                             Porter Square Station   \n",
       "4   Lower Cambridgeport at Magazine St/Riverside Rd   \n",
       "\n",
       "                                    end_station_name  bike_id   user_type  \\\n",
       "0  Cambridge Main Library at Broadway / Trowbridg...      277  Subscriber   \n",
       "1        Cambridge St - at Columbia St / Webster Ave      648  Subscriber   \n",
       "2              Central Square at Mass Ave / Essex St      555  Subscriber   \n",
       "3  Cambridge Main Library at Broadway / Trowbridg...     1307  Subscriber   \n",
       "4      Inman Square at Vellucci Plaza / Hampshire St      177    Customer   \n",
       "\n",
       "   trip_length  \n",
       "0        543.0  \n",
       "1        438.0  \n",
       "2        255.0  \n",
       "3        432.0  \n",
       "4        735.0  "
      ]
     },
     "execution_count": 16,
     "metadata": {},
     "output_type": "execute_result"
    }
   ],
   "source": [
    "df_boston['trip_length'] = (df_boston['end_time'] - df_boston['start_time'])\n",
    "df_boston['trip_length'] = df_boston['trip_length'] / np.timedelta64(1, 's')\n",
    "df_boston.head()"
   ]
  },
  {
   "cell_type": "markdown",
   "metadata": {},
   "source": [
    "# First Data Exploration\n",
    "### Understanding the revenue modell"
   ]
  },
  {
   "cell_type": "markdown",
   "metadata": {},
   "source": [
    "![caption](data/thehubway_revenue_modell_2015.png)"
   ]
  },
  {
   "cell_type": "code",
   "execution_count": 17,
   "metadata": {},
   "outputs": [
    {
     "name": "stdout",
     "output_type": "stream",
     "text": [
      "user_type\n",
      "Customer      370585\n",
      "Subscriber    751972\n",
      "dtype: int64\n",
      "We only have 0.09917185764856692 of the data!\n",
      "0.06948154971195226\n"
     ]
    }
   ],
   "source": [
    "# Pricing info pulled from: https://web.archive.org/web/20150206035343/http://www.thehubway.com:80/pricing\n",
    "# INFO: bluebikes was previously called 'thehubway', see https://en.wikipedia.org/wiki/Bluebikes\n",
    "# ASSUMTION: The revenue modell did not change over the year 2015. This was checked through all entries of the wayback-machine, which occured in 7 day intervalls. We can be pretty certain of this. \n",
    "\n",
    "\n",
    "# Get # of subscribers and customers\n",
    "print(df_boston.groupby('user_type').size())\n",
    "# TODO: Include this in revenue modell\n",
    "\n",
    "# Thoughts on the revenue modell: We don't see individual user-ids for each ride. This means that we can only infer the \"revenue\" generated by each trip through the respective user_type.\n",
    "# E.g. -> if we have 10 subscribers for a given timeframe, who undertake 100 trips, each trip would generate 1/10 of the users membership fee in the given timeframe\n",
    "# Membership numbers for 2015: https://web.archive.org/web/20160208155519/http://www.thehubway.com/mediakit -> anual members: 13.248, Causal Passes: 102.445 (24 & 72 Hours) with a total of 1,1319,310 Trips (???)\n",
    "\n",
    "no_trips_from_dataset_2015 = 11319310\n",
    "no_trips_from_website_2015 = len(df_boston)\n",
    "print(f'We only have {no_trips_from_website_2015/no_trips_from_dataset_2015} of the data!')\n",
    "\n",
    "# Big Open Question: How should we deal with the missing data? (we only have 1/10 of the trip data apparently) ? -> https://s3.amazonaws.com/hubway-data/index.html this contains the raw data, it appears that there are a lot more than 112k rides..\n",
    "# Open Question: How should we include the membership fees and casual passes costs in the revenue modell?\n",
    "\n",
    "\n",
    "# get proprtion all the rides who might incur overtime fees (trip_length >30 min) to understand if this usage pattern is relevant for the revenue model\n",
    "proportion_overtime_rides = len(df_boston[df_boston['trip_length'] >= (30*60)]) / len(df_boston) \n",
    "print(proportion_overtime_rides)\n",
    "\n",
    "# Conclusion: Around 7% of rides were overtime -> we should include this in the revenue modell\n",
    "# TODO: Engineer the following features for the revenue modell: revenue_through_overtime (calculated on the basis of trip_duration)\n"
   ]
  },
  {
   "attachments": {},
   "cell_type": "markdown",
   "metadata": {},
   "source": [
    "# Geo-information of data\n",
    "### merging of boston station dataset and the df_boston data"
   ]
  },
  {
   "cell_type": "code",
   "execution_count": 18,
   "metadata": {},
   "outputs": [],
   "source": [
    "#boston blue bikes stations data\n",
    "df_stations_data = pd.read_csv('./data/current_bluebikes_stations.csv', header=1)\n",
    "df_january = pd.read_csv('./data/201501-hubway-tripdata.csv', usecols=['start station id', 'start station latitude', 'start station longitude', 'end station id', 'end station id', 'end station latitude', 'end station longitude'])\n",
    "df_sep = pd.read_csv('./data/201509-hubway-tripdata.csv', usecols=['start station id', 'start station latitude', 'start station longitude', 'end station id', 'end station id', 'end station latitude', 'end station longitude'])\n",
    "df_july = pd.read_csv('./data/201507-hubway-tripdata.csv', usecols=['start station id', 'start station latitude', 'start station longitude', 'end station id', 'end station id', 'end station latitude', 'end station longitude'])\n",
    "df_oct = pd.read_csv('./data/201510-hubway-tripdata.csv', usecols=['start station id', 'start station latitude', 'start station longitude', 'end station id', 'end station id', 'end station latitude', 'end station longitude'])\n",
    "df_dec = pd.read_csv('./data/201512-hubway-tripdata.csv', usecols=['start station id', 'start station latitude', 'start station longitude', 'end station id', 'end station id', 'end station latitude', 'end station longitude'])\n",
    "unique_stations_external=np.unique(np.concatenate((df_january[['start station id', 'start station latitude', 'start station longitude']].values, df_january[['end station id', 'end station latitude', 'end station longitude']].values,df_july[['start station id', 'start station latitude', 'start station longitude']].values, df_july[['end station id', 'end station latitude', 'end station longitude']].values, df_sep[['start station id', 'start station latitude', 'start station longitude']].values, df_sep[['end station id', 'end station latitude', 'end station longitude']].values, df_oct[['start station id', 'start station latitude', 'start station longitude']].values, df_oct[['end station id', 'end station latitude', 'end station longitude']].values, df_dec[['start station id', 'start station latitude', 'start station longitude']].values, df_dec[['end station id', 'end station latitude', 'end station longitude']].values)), axis=0)"
   ]
  },
  {
   "cell_type": "code",
   "execution_count": 19,
   "metadata": {},
   "outputs": [
    {
     "name": "stdout",
     "output_type": "stream",
     "text": [
      "# stations from original data: 156 | # stations from external data: 156\n"
     ]
    }
   ],
   "source": [
    "unique_stations_original=np.unique(np.concatenate((df_boston['start_station_name'].values, df_boston['end_station_name'].values)))\n",
    "print(f'# stations from original data: {len(unique_stations_original)} | # stations from external data: {len(unique_stations_external)}')\n",
    "df_unique_stations = pd.DataFrame(unique_stations_external, columns=['station_id', 'station_latitude', 'station_longitude'])"
   ]
  },
  {
   "cell_type": "code",
   "execution_count": 20,
   "metadata": {},
   "outputs": [
    {
     "name": "stdout",
     "output_type": "stream",
     "text": [
      "<class 'pandas.core.frame.DataFrame'>\n",
      "Int64Index: 1122557 entries, 0 to 1122556\n",
      "Data columns (total 13 columns):\n",
      " #   Column                   Non-Null Count    Dtype         \n",
      "---  ------                   --------------    -----         \n",
      " 0   start_time               1122557 non-null  datetime64[ns]\n",
      " 1   end_time                 1122557 non-null  datetime64[ns]\n",
      " 2   start_station_id         1122557 non-null  int64         \n",
      " 3   end_station_id           1122557 non-null  int64         \n",
      " 4   start_station_name       1122557 non-null  string        \n",
      " 5   end_station_name         1122557 non-null  string        \n",
      " 6   bike_id                  1122557 non-null  int64         \n",
      " 7   user_type                1122557 non-null  string        \n",
      " 8   trip_length              1122557 non-null  float64       \n",
      " 9   start_station_latitude   1122557 non-null  float64       \n",
      " 10  start_station_longitude  1122557 non-null  float64       \n",
      " 11  end_station_latitude     1122557 non-null  float64       \n",
      " 12  end_station_longitude    1122557 non-null  float64       \n",
      "dtypes: datetime64[ns](2), float64(5), int64(3), string(3)\n",
      "memory usage: 119.9 MB\n"
     ]
    }
   ],
   "source": [
    "df_unique_stations.columns = ['start_station_id', 'start_station_latitude', 'start_station_longitude']\n",
    "df_boston = df_boston.merge(df_unique_stations, how='left', on='start_station_id')\n",
    "df_unique_stations.columns = ['end_station_id', 'end_station_latitude', 'end_station_longitude']\n",
    "df_boston = df_boston.merge(df_unique_stations, how='left', on='end_station_id')\n",
    "df_boston.info()"
   ]
  },
  {
   "cell_type": "code",
   "execution_count": 21,
   "metadata": {},
   "outputs": [
    {
     "data": {
      "text/html": [
       "<div>\n",
       "<style scoped>\n",
       "    .dataframe tbody tr th:only-of-type {\n",
       "        vertical-align: middle;\n",
       "    }\n",
       "\n",
       "    .dataframe tbody tr th {\n",
       "        vertical-align: top;\n",
       "    }\n",
       "\n",
       "    .dataframe thead th {\n",
       "        text-align: right;\n",
       "    }\n",
       "</style>\n",
       "<table border=\"1\" class=\"dataframe\">\n",
       "  <thead>\n",
       "    <tr style=\"text-align: right;\">\n",
       "      <th></th>\n",
       "      <th>start_time</th>\n",
       "      <th>end_time</th>\n",
       "      <th>start_station_id</th>\n",
       "      <th>end_station_id</th>\n",
       "      <th>start_station_name</th>\n",
       "      <th>end_station_name</th>\n",
       "      <th>bike_id</th>\n",
       "      <th>user_type</th>\n",
       "      <th>trip_length</th>\n",
       "      <th>start_station_latitude</th>\n",
       "      <th>start_station_longitude</th>\n",
       "      <th>end_station_latitude</th>\n",
       "      <th>end_station_longitude</th>\n",
       "    </tr>\n",
       "  </thead>\n",
       "  <tbody>\n",
       "    <tr>\n",
       "      <th>0</th>\n",
       "      <td>2015-01-01 00:21:44</td>\n",
       "      <td>2015-01-01 00:30:47</td>\n",
       "      <td>115</td>\n",
       "      <td>96</td>\n",
       "      <td>Porter Square Station</td>\n",
       "      <td>Cambridge Main Library at Broadway / Trowbridg...</td>\n",
       "      <td>277</td>\n",
       "      <td>Subscriber</td>\n",
       "      <td>543.0</td>\n",
       "      <td>42.387995</td>\n",
       "      <td>-71.119084</td>\n",
       "      <td>42.373379</td>\n",
       "      <td>-71.111075</td>\n",
       "    </tr>\n",
       "    <tr>\n",
       "      <th>1</th>\n",
       "      <td>2015-01-01 00:27:03</td>\n",
       "      <td>2015-01-01 00:34:21</td>\n",
       "      <td>80</td>\n",
       "      <td>95</td>\n",
       "      <td>MIT Stata Center at Vassar St / Main St</td>\n",
       "      <td>Cambridge St - at Columbia St / Webster Ave</td>\n",
       "      <td>648</td>\n",
       "      <td>Subscriber</td>\n",
       "      <td>438.0</td>\n",
       "      <td>42.361962</td>\n",
       "      <td>-71.092053</td>\n",
       "      <td>42.372969</td>\n",
       "      <td>-71.094445</td>\n",
       "    </tr>\n",
       "    <tr>\n",
       "      <th>2</th>\n",
       "      <td>2015-01-01 00:31:31</td>\n",
       "      <td>2015-01-01 00:35:46</td>\n",
       "      <td>91</td>\n",
       "      <td>68</td>\n",
       "      <td>One Kendall Square at Hampshire St / Portland St</td>\n",
       "      <td>Central Square at Mass Ave / Essex St</td>\n",
       "      <td>555</td>\n",
       "      <td>Subscriber</td>\n",
       "      <td>255.0</td>\n",
       "      <td>42.366277</td>\n",
       "      <td>-71.091690</td>\n",
       "      <td>42.365070</td>\n",
       "      <td>-71.103100</td>\n",
       "    </tr>\n",
       "    <tr>\n",
       "      <th>3</th>\n",
       "      <td>2015-01-01 00:53:46</td>\n",
       "      <td>2015-01-01 01:00:58</td>\n",
       "      <td>115</td>\n",
       "      <td>96</td>\n",
       "      <td>Porter Square Station</td>\n",
       "      <td>Cambridge Main Library at Broadway / Trowbridg...</td>\n",
       "      <td>1307</td>\n",
       "      <td>Subscriber</td>\n",
       "      <td>432.0</td>\n",
       "      <td>42.387995</td>\n",
       "      <td>-71.119084</td>\n",
       "      <td>42.373379</td>\n",
       "      <td>-71.111075</td>\n",
       "    </tr>\n",
       "    <tr>\n",
       "      <th>4</th>\n",
       "      <td>2015-01-01 01:07:06</td>\n",
       "      <td>2015-01-01 01:19:21</td>\n",
       "      <td>105</td>\n",
       "      <td>88</td>\n",
       "      <td>Lower Cambridgeport at Magazine St/Riverside Rd</td>\n",
       "      <td>Inman Square at Vellucci Plaza / Hampshire St</td>\n",
       "      <td>177</td>\n",
       "      <td>Customer</td>\n",
       "      <td>735.0</td>\n",
       "      <td>42.356954</td>\n",
       "      <td>-71.113687</td>\n",
       "      <td>42.374035</td>\n",
       "      <td>-71.101427</td>\n",
       "    </tr>\n",
       "  </tbody>\n",
       "</table>\n",
       "</div>"
      ],
      "text/plain": [
       "           start_time            end_time  start_station_id  end_station_id  \\\n",
       "0 2015-01-01 00:21:44 2015-01-01 00:30:47               115              96   \n",
       "1 2015-01-01 00:27:03 2015-01-01 00:34:21                80              95   \n",
       "2 2015-01-01 00:31:31 2015-01-01 00:35:46                91              68   \n",
       "3 2015-01-01 00:53:46 2015-01-01 01:00:58               115              96   \n",
       "4 2015-01-01 01:07:06 2015-01-01 01:19:21               105              88   \n",
       "\n",
       "                                 start_station_name  \\\n",
       "0                             Porter Square Station   \n",
       "1           MIT Stata Center at Vassar St / Main St   \n",
       "2  One Kendall Square at Hampshire St / Portland St   \n",
       "3                             Porter Square Station   \n",
       "4   Lower Cambridgeport at Magazine St/Riverside Rd   \n",
       "\n",
       "                                    end_station_name  bike_id   user_type  \\\n",
       "0  Cambridge Main Library at Broadway / Trowbridg...      277  Subscriber   \n",
       "1        Cambridge St - at Columbia St / Webster Ave      648  Subscriber   \n",
       "2              Central Square at Mass Ave / Essex St      555  Subscriber   \n",
       "3  Cambridge Main Library at Broadway / Trowbridg...     1307  Subscriber   \n",
       "4      Inman Square at Vellucci Plaza / Hampshire St      177    Customer   \n",
       "\n",
       "   trip_length  start_station_latitude  start_station_longitude  \\\n",
       "0        543.0               42.387995               -71.119084   \n",
       "1        438.0               42.361962               -71.092053   \n",
       "2        255.0               42.366277               -71.091690   \n",
       "3        432.0               42.387995               -71.119084   \n",
       "4        735.0               42.356954               -71.113687   \n",
       "\n",
       "   end_station_latitude  end_station_longitude  \n",
       "0             42.373379             -71.111075  \n",
       "1             42.372969             -71.094445  \n",
       "2             42.365070             -71.103100  \n",
       "3             42.373379             -71.111075  \n",
       "4             42.374035             -71.101427  "
      ]
     },
     "execution_count": 21,
     "metadata": {},
     "output_type": "execute_result"
    }
   ],
   "source": [
    "df_boston.head()"
   ]
  },
  {
   "cell_type": "code",
   "execution_count": 22,
   "metadata": {},
   "outputs": [],
   "source": [
    "unique_stations_original=np.unique(np.concatenate((df_boston['start_station_name'].values, df_boston['end_station_name'].values)))\n",
    "unique_stations_external = df_stations_data['Name'].values"
   ]
  },
  {
   "cell_type": "code",
   "execution_count": 23,
   "metadata": {},
   "outputs": [
    {
     "name": "stdout",
     "output_type": "stream",
     "text": [
      "#stations in stations dataset: 130\n",
      "#stations in original dataset: 156\n"
     ]
    }
   ],
   "source": [
    "print(f\"#stations in stations dataset: {len(df_stations_data.loc[df_stations_data['Deployment Year'] < 2015.0])}\")\n",
    "print(f\"#stations in original dataset: {len(unique_stations_original)}\")"
   ]
  },
  {
   "cell_type": "code",
   "execution_count": 24,
   "metadata": {},
   "outputs": [
    {
     "data": {
      "text/plain": [
       "['18 Dorrance Warehouse',\n",
       " 'Agganis Arena - 925 Comm Ave.',\n",
       " 'Allston Green District - Commonwealth Ave & Griggs St',\n",
       " 'Andrew Station - Dorchester Ave at Humboldt Pl',\n",
       " 'Aquarium Station - 200 Atlantic Ave.',\n",
       " 'BIDMC - Brookline at Burlington St',\n",
       " 'Back Bay / South End Station',\n",
       " 'Beacon St / Mass Ave',\n",
       " 'Beacon St at Washington / Kirkland',\n",
       " 'Boston Convention & Exhibition Center',\n",
       " 'Boston Medical Center -  East Concord at Harrison Ave',\n",
       " 'Boston Public Library - 700 Boylston St.',\n",
       " 'Boylston / Mass Ave',\n",
       " 'Boylston St / Berkeley St',\n",
       " 'Boylston St / Washington St',\n",
       " 'Boylston St. at Arlington St.',\n",
       " 'Boylston at Fairfield',\n",
       " 'Brigham Cir / Huntington Ave',\n",
       " 'Brighton Center',\n",
       " 'Brookline Village - Pearl Street @ MBTA',\n",
       " 'Buswell St. at Park Dr.',\n",
       " 'Cambridge St. at Joy St.',\n",
       " 'Charles Circle - Charles St. at Cambridge St.',\n",
       " 'Charles St at Beacon St',\n",
       " 'Charlestown - Main St at Austin St',\n",
       " 'Charlestown - Warren St at Chelsea St',\n",
       " 'Chinatown Gate Plaza - Surface Rd. at Beach St.',\n",
       " 'Christian Science Plaza',\n",
       " 'Colleges of the Fenway',\n",
       " 'Columbus Ave. at Mass. Ave.',\n",
       " 'Congress / Sleeper',\n",
       " 'Coolidge Corner - Beacon St @ Centre St',\n",
       " 'Cross St. at Hanover St.',\n",
       " 'Curtis Hall at South Street',\n",
       " 'Dorchester Ave. at Gillette Park',\n",
       " 'Dudley Square',\n",
       " 'E. Cottage St at Columbia Rd',\n",
       " 'Edwards Playground - Main Street & Eden Street',\n",
       " 'Egleston Square at Columbus Ave',\n",
       " 'Faneuil Hall - Union St. at North St.',\n",
       " 'Franklin Park - Seaver Street at Humbolt Ave',\n",
       " 'Franklin Park Zoo',\n",
       " 'Franklin St. / Arch St.',\n",
       " 'Green St T',\n",
       " 'HMS / HSPH - Ave. Louis Pasteur at Longwood Ave.',\n",
       " 'Harvard Real Estate - Brighton Mills - 370 Western Ave',\n",
       " 'Harvard University Gund Hall at Quincy St / Kirkland S',\n",
       " 'Harvard University Housing - 111 Western Ave. at Soldiers Field Park ',\n",
       " 'Harvard University Transportation Services - 175 North Harvard St',\n",
       " 'Hayes Square at Vine St.',\n",
       " 'Heath St at South Huntington',\n",
       " 'Hyde Square at Barbara St',\n",
       " 'Ink Block',\n",
       " 'Inman Square at Vellucci Plaza / Hampshire St',\n",
       " 'Innovation Lab - 125 Western Ave. at Batten Way',\n",
       " 'JFK / UMASS at MBTA Station',\n",
       " 'JP Center - Centre Street at Myrtle Street',\n",
       " 'Jackson Square T at Centre St',\n",
       " 'John F Fitzgerald - Surface Road at India Street',\n",
       " 'Kenmore Sq / Comm Ave',\n",
       " 'Landmark Centre',\n",
       " 'Lawn on D',\n",
       " 'Lewis Wharf - Atlantic Ave.',\n",
       " 'Longwood Ave / Binney St',\n",
       " 'Lower Cambridgeport at Magazine St/Riverside Rd',\n",
       " 'Mass Ave at Newmarket Square',\n",
       " 'Mayor Martin J Walsh - 28 State St',\n",
       " 'Mt Pleasant Ave / Dudley Town Common',\n",
       " 'New Balance - 20 Guest St.',\n",
       " 'New Balance Store - Boylston at Dartmouth',\n",
       " 'Newbury St / Hereford St',\n",
       " 'Northeastern U / North Parking Lot',\n",
       " 'Packard Ave / Powderhouse Blvd',\n",
       " \"Packard's Corner - Comm. Ave. at Brighton Ave.\",\n",
       " 'Prudential Center / Belvidere',\n",
       " 'Rowes Wharf - Atlantic Ave',\n",
       " 'Roxbury Crossing Station',\n",
       " 'Ruggles Station / Columbus Ave.',\n",
       " 'Ryan Playground - Dorchester Avenue Station',\n",
       " 'Seaport Hotel',\n",
       " 'Seaport Square - Seaport Blvd. at Boston Wharf',\n",
       " 'Somerville Hospital at Highland Ave / Crocker St',\n",
       " 'South Boston Library - 646 East Broadway',\n",
       " 'South Station - 700 Atlantic Ave.',\n",
       " 'Stuart St. at Charles St.',\n",
       " 'Summer St at Cutter St',\n",
       " 'TD Garden - Causeway at Portal Park #1',\n",
       " 'TD Garden - Causeway at Portal Park #2',\n",
       " 'Teele Square at 239 Holland St',\n",
       " 'The Esplanade - Beacon St. at Arlington St.',\n",
       " 'Tremont St / W Newton St',\n",
       " 'Tremont St / West St',\n",
       " 'Tremont St. at Berkeley St.',\n",
       " 'UMass Boston Integrated Sciences Complex',\n",
       " 'Union Square - Brighton Ave. at Cambridge St.',\n",
       " \"Upham's Corner - Ramsey St at Dudley St\",\n",
       " 'Washington Square at Washington St. / Beacon St.',\n",
       " 'Washington St. at Lenox St.',\n",
       " 'Washington St. at Rutland St.',\n",
       " 'Washington St. at Waltham St.',\n",
       " 'Wentworth Institute of Technology',\n",
       " 'West Broadway at D Street',\n",
       " 'West Broadway at Dorchester St',\n",
       " 'Yawkey Way at Boylston St.']"
      ]
     },
     "execution_count": 24,
     "metadata": {},
     "output_type": "execute_result"
    }
   ],
   "source": [
    "stations_no_match = list(filter(lambda x: not(np.any(unique_stations_external == x)), unique_stations_original))\n",
    "len(stations_no_match)\n",
    "\n",
    "stations_no_match\n"
   ]
  },
  {
   "cell_type": "code",
   "execution_count": 25,
   "metadata": {},
   "outputs": [
    {
     "data": {
      "text/plain": [
       "['359 Broadway - Broadway at Fayette Street',\n",
       " 'Alewife Station at Russell Field',\n",
       " 'Ames St at Main St',\n",
       " 'B.U. Central - 725 Comm. Ave.',\n",
       " 'Binney St / Sixth St',\n",
       " 'Bunker Hill Community College',\n",
       " 'Cambridge Main Library at Broadway / Trowbridge St',\n",
       " 'Cambridge St - at Columbia St / Webster Ave',\n",
       " 'CambridgeSide Galleria - CambridgeSide PL at Land Blvd',\n",
       " 'Central Sq Post Office / Cambridge City Hall at Mass Ave / Pleasant St',\n",
       " 'Central Square at Mass Ave / Essex St',\n",
       " 'Conway Park - Somerville Avenue',\n",
       " 'Dana Park',\n",
       " 'Danehy Park',\n",
       " 'Davis Square',\n",
       " 'EF - North Point Park',\n",
       " 'Fan Pier',\n",
       " 'Harvard Kennedy School at Bennett St / Eliot St',\n",
       " 'Harvard Law School at Mass Ave / Jarvis St',\n",
       " 'Harvard Square at Brattle St / Eliot St',\n",
       " 'Harvard Square at Mass Ave/ Dunster',\n",
       " 'Harvard University / SEAS Cruft-Pierce Halls at 29 Oxford St',\n",
       " 'Harvard University Housing - 115 Putnam Ave at Peabody Terrace',\n",
       " 'Harvard University Radcliffe Quadrangle at Shepard St / Garden St',\n",
       " 'Harvard University River Houses at DeWolfe St / Cowperthwaite St',\n",
       " 'ID Building East',\n",
       " 'ID Building West',\n",
       " 'JFK Crossing at Harvard St. / Thorndike St.',\n",
       " 'Kendall Street',\n",
       " 'Lafayette Square at Mass Ave / Main St / Columbia St',\n",
       " 'Lechmere Station at Cambridge St / First St',\n",
       " 'Lesley University',\n",
       " 'Linear Park - Mass. Ave. at Cameron Ave. ',\n",
       " 'MIT Pacific St at Purrington St',\n",
       " 'MIT Stata Center at Vassar St / Main St',\n",
       " 'MIT Vassar St',\n",
       " 'MIT at Mass Ave / Amherst St',\n",
       " 'Magoun Square at Trum Field',\n",
       " 'Mt Auburn',\n",
       " 'One Broadway / Kendall Sq at Main St / 3rd St',\n",
       " 'One Kendall Square at Hampshire St / Portland St',\n",
       " 'Porter Square Station',\n",
       " 'Post Office Square',\n",
       " 'Powder House Circle - Nathan Tufts Park',\n",
       " \"Rindge Avenue - O'Neill Library\",\n",
       " 'Somerville City Hall',\n",
       " 'Spaulding Rehabilitation Hospital - Charlestown Navy Yard',\n",
       " 'State Street at Channel Center',\n",
       " 'Union Square - Somerville',\n",
       " 'University Park',\n",
       " 'Washington St at Brock St',\n",
       " 'Wilson Square']"
      ]
     },
     "execution_count": 25,
     "metadata": {},
     "output_type": "execute_result"
    }
   ],
   "source": [
    "stations_match = list(filter(lambda x: np.any(unique_stations_external == x), unique_stations_original))\n",
    "stations_match"
   ]
  },
  {
   "attachments": {},
   "cell_type": "markdown",
   "metadata": {},
   "source": [
    "### Plot start & end stations"
   ]
  },
  {
   "cell_type": "code",
   "execution_count": 32,
   "metadata": {},
   "outputs": [],
   "source": [
    "df_start = df_boston.groupby(['start_station_id','start_station_latitude', 'start_station_longitude']).size().reset_index(name='counts_start')"
   ]
  },
  {
   "cell_type": "code",
   "execution_count": 31,
   "metadata": {},
   "outputs": [],
   "source": [
    "df_end = df_boston.groupby(['end_station_id','end_station_latitude', 'end_station_longitude']).size().reset_index(name='counts_end')"
   ]
  },
  {
   "cell_type": "code",
   "execution_count": 33,
   "metadata": {},
   "outputs": [
    {
     "data": {
      "text/html": [
       "<div>\n",
       "<style scoped>\n",
       "    .dataframe tbody tr th:only-of-type {\n",
       "        vertical-align: middle;\n",
       "    }\n",
       "\n",
       "    .dataframe tbody tr th {\n",
       "        vertical-align: top;\n",
       "    }\n",
       "\n",
       "    .dataframe thead th {\n",
       "        text-align: right;\n",
       "    }\n",
       "</style>\n",
       "<table border=\"1\" class=\"dataframe\">\n",
       "  <thead>\n",
       "    <tr style=\"text-align: right;\">\n",
       "      <th></th>\n",
       "      <th>start_station_id</th>\n",
       "      <th>start_station_latitude</th>\n",
       "      <th>start_station_longitude</th>\n",
       "      <th>counts_start</th>\n",
       "      <th>counts_end</th>\n",
       "      <th>ratio</th>\n",
       "    </tr>\n",
       "  </thead>\n",
       "  <tbody>\n",
       "    <tr>\n",
       "      <th>count</th>\n",
       "      <td>156.000000</td>\n",
       "      <td>156.000000</td>\n",
       "      <td>156.000000</td>\n",
       "      <td>156.000000</td>\n",
       "      <td>156.000000</td>\n",
       "      <td>156.000000</td>\n",
       "    </tr>\n",
       "    <tr>\n",
       "      <th>mean</th>\n",
       "      <td>85.314103</td>\n",
       "      <td>42.355539</td>\n",
       "      <td>-71.089556</td>\n",
       "      <td>7195.878205</td>\n",
       "      <td>7195.878205</td>\n",
       "      <td>1.018733</td>\n",
       "    </tr>\n",
       "    <tr>\n",
       "      <th>std</th>\n",
       "      <td>49.862754</td>\n",
       "      <td>0.021187</td>\n",
       "      <td>0.028647</td>\n",
       "      <td>5680.263408</td>\n",
       "      <td>5803.203988</td>\n",
       "      <td>0.120328</td>\n",
       "    </tr>\n",
       "    <tr>\n",
       "      <th>min</th>\n",
       "      <td>1.000000</td>\n",
       "      <td>42.303469</td>\n",
       "      <td>-71.160411</td>\n",
       "      <td>46.000000</td>\n",
       "      <td>39.000000</td>\n",
       "      <td>0.363636</td>\n",
       "    </tr>\n",
       "    <tr>\n",
       "      <th>25%</th>\n",
       "      <td>43.750000</td>\n",
       "      <td>42.343900</td>\n",
       "      <td>-71.113428</td>\n",
       "      <td>2832.500000</td>\n",
       "      <td>2611.000000</td>\n",
       "      <td>0.968435</td>\n",
       "    </tr>\n",
       "    <tr>\n",
       "      <th>50%</th>\n",
       "      <td>84.500000</td>\n",
       "      <td>42.354157</td>\n",
       "      <td>-71.090935</td>\n",
       "      <td>6300.500000</td>\n",
       "      <td>6254.500000</td>\n",
       "      <td>1.005770</td>\n",
       "    </tr>\n",
       "    <tr>\n",
       "      <th>75%</th>\n",
       "      <td>124.250000</td>\n",
       "      <td>42.369364</td>\n",
       "      <td>-71.065351</td>\n",
       "      <td>10356.500000</td>\n",
       "      <td>10565.500000</td>\n",
       "      <td>1.053639</td>\n",
       "    </tr>\n",
       "    <tr>\n",
       "      <th>max</th>\n",
       "      <td>180.000000</td>\n",
       "      <td>42.404490</td>\n",
       "      <td>-71.028664</td>\n",
       "      <td>30798.000000</td>\n",
       "      <td>31284.000000</td>\n",
       "      <td>1.625000</td>\n",
       "    </tr>\n",
       "  </tbody>\n",
       "</table>\n",
       "</div>"
      ],
      "text/plain": [
       "       start_station_id  start_station_latitude  start_station_longitude  \\\n",
       "count        156.000000              156.000000               156.000000   \n",
       "mean          85.314103               42.355539               -71.089556   \n",
       "std           49.862754                0.021187                 0.028647   \n",
       "min            1.000000               42.303469               -71.160411   \n",
       "25%           43.750000               42.343900               -71.113428   \n",
       "50%           84.500000               42.354157               -71.090935   \n",
       "75%          124.250000               42.369364               -71.065351   \n",
       "max          180.000000               42.404490               -71.028664   \n",
       "\n",
       "       counts_start    counts_end       ratio  \n",
       "count    156.000000    156.000000  156.000000  \n",
       "mean    7195.878205   7195.878205    1.018733  \n",
       "std     5680.263408   5803.203988    0.120328  \n",
       "min       46.000000     39.000000    0.363636  \n",
       "25%     2832.500000   2611.000000    0.968435  \n",
       "50%     6300.500000   6254.500000    1.005770  \n",
       "75%    10356.500000  10565.500000    1.053639  \n",
       "max    30798.000000  31284.000000    1.625000  "
      ]
     },
     "execution_count": 33,
     "metadata": {},
     "output_type": "execute_result"
    }
   ],
   "source": [
    "df_start = df_start.sort_values('start_station_id')\n",
    "df_end = df_end.sort_values('end_station_id')\n",
    "\n",
    "df_ratio = df_start.copy()\n",
    "df_ratio['counts_end'] = df_end['counts_end']\n",
    "df_ratio[\"ratio\"] = df_start['counts_start']/df_end['counts_end']\n",
    "\n",
    "df_ratio.sort_values('ratio').describe()\n"
   ]
  },
  {
   "cell_type": "code",
   "execution_count": null,
   "metadata": {},
   "outputs": [
    {
     "data": {
      "application/vnd.plotly.v1+json": {
       "config": {
        "plotlyServerURL": "https://plot.ly"
       },
       "data": [
        {
         "hovertemplate": "counts_start=%{marker.color}<br>start_station_latitude=%{lat}<br>start_station_longitude=%{lon}<extra></extra>",
         "lat": [
          42.387151,
          42.340021,
          42.345392,
          42.341814,
          42.361174,
          42.35328743453294,
          42.353334,
          42.351246,
          42.350406,
          42.338629,
          42.335911,
          42.336437,
          42.337171,
          42.361667,
          42.34807412317439,
          42.365064,
          42.347241,
          42.35977,
          42.345959,
          42.352175,
          42.35892,
          42.351205,
          42.341332,
          42.341522,
          42.331184,
          42.363732,
          42.334073,
          42.348833,
          42.343912,
          42.348706,
          42.355402,
          42.349673,
          42.357402,
          42.366222,
          42.338623,
          42.363871,
          42.352261,
          42.352033,
          42.357143,
          42.360613,
          42.344706,
          42.343864,
          42.362811,
          42.356755,
          42.351146,
          42.350989,
          42.3348756,
          42.348717,
          42.350851,
          42.354979,
          42.347265,
          42.328654,
          42.340799,
          42.355596,
          42.351356,
          42.360835,
          42.348762,
          42.344023,
          42.3511,
          42.3475,
          42.348607,
          42.3581,
          42.36507,
          42.341598,
          42.371196,
          42.383405,
          42.362613,
          42.373231,
          42.373268,
          42.36346469304347,
          42.366426,
          42.386844,
          42.379637,
          42.37842,
          42.3619622,
          42.352409,
          42.339335,
          42.366981,
          42.378338,
          42.332799,
          42.366621,
          42.374035,
          42.379011,
          42.370677,
          42.366277,
          42.314507,
          42.320494,
          42.375603,
          42.372969,
          42.373379,
          42.36919031768079,
          42.371848,
          42.385582,
          42.396969,
          42.400877,
          42.346563,
          42.380287,
          42.356954,
          42.325333,
          42.3625,
          42.377945,
          42.365942,
          42.376369,
          42.40449,
          42.39082,
          42.330716,
          42.402763,
          42.387995,
          42.370803,
          42.366095,
          42.397828,
          42.335741,
          42.356052,
          42.335693,
          42.345733,
          42.313156,
          42.309054,
          42.320998,
          42.315692,
          42.320561,
          42.377022,
          42.317225,
          42.322701,
          42.394002,
          42.310579,
          42.350413,
          42.344827,
          42.344796,
          42.398365,
          42.326599,
          42.361589,
          42.388966,
          42.36356015842989,
          42.396105,
          42.369885,
          42.392766,
          42.363796,
          42.344137,
          42.358155,
          42.345901,
          42.32797270205962,
          42.337596,
          42.3391085,
          42.309796,
          42.344792,
          42.317642,
          42.378965,
          42.303469,
          42.37408991426522,
          42.34900494405213,
          42.34894857235593,
          42.38674802045056,
          42.36264779118595,
          42.35957320109044,
          42.35560121327927,
          42.37478628706384
         ],
         "legendgroup": "",
         "lon": [
          -71.075978,
          -71.100812,
          -71.069616,
          -71.090179,
          -71.065142,
          -71.04438900947571,
          -71.137313,
          -71.115639,
          -71.108279,
          -71.1065,
          -71.088496,
          -71.073089,
          -71.102797,
          -71.13802,
          -71.07657015323639,
          -71.119233,
          -71.105301,
          -71.051601,
          -71.082578,
          -71.055547,
          -71.057629,
          -71.043983,
          -71.076847,
          -71.068922,
          -71.095171,
          -71.124565,
          -71.105221,
          -71.041747,
          -71.102221,
          -71.097009,
          -71.058087,
          -71.077303,
          -71.147782,
          -71.059914,
          -71.074182,
          -71.050877,
          -71.123831,
          -71.070627,
          -71.050699,
          -71.057452,
          -71.097515,
          -71.085918,
          -71.056067,
          -71.055407,
          -71.066289,
          -71.073644,
          -71.0790969,
          -71.085954,
          -71.089886,
          -71.063348,
          -71.088088,
          -71.084198,
          -71.081572,
          -71.07278,
          -71.059367,
          -71.0708399,
          -71.082383,
          -71.057054,
          -71.0496,
          -71.0441,
          -71.13401,
          -71.093198,
          -71.1031,
          -71.123338,
          -71.121473,
          -71.107593,
          -71.084105,
          -71.120886,
          -71.118579,
          -71.10057324171066,
          -71.105495,
          -71.09812,
          -71.095319,
          -71.105668,
          -71.0920526,
          -71.062679,
          -71.13493,
          -71.076472,
          -71.048927,
          -71.116205,
          -71.114214,
          -71.101427,
          -71.119945,
          -71.076529,
          -71.09169,
          -71.041269,
          -71.051122,
          -71.064608,
          -71.094445,
          -71.111075,
          -71.11714124679565,
          -71.060292,
          -71.113341,
          -71.123024,
          -71.116772,
          -71.128374,
          -71.125107,
          -71.113687,
          -71.075354,
          -71.08822,
          -71.116865,
          -71.060515,
          -71.114025,
          -71.123413,
          -71.10942,
          -71.057044,
          -71.126908,
          -71.119084,
          -71.104412,
          -71.086388,
          -71.130516,
          -71.03877,
          -71.069849,
          -71.045859,
          -71.100694,
          -71.11414,
          -71.11543,
          -71.110833,
          -71.098634,
          -71.06198,
          -71.056605,
          -71.065421,
          -71.099533,
          -71.120406,
          -71.107341,
          -71.07655,
          -71.028664,
          -71.031614,
          -71.107818,
          -71.066498,
          -71.107437,
          -71.132788,
          -71.08216792345047,
          -71.139459,
          -71.069957,
          -71.129042,
          -71.129164,
          -71.052608,
          -71.052163,
          -71.063187,
          -71.11089706420898,
          -71.096391,
          -71.0514432,
          -71.092225,
          -71.044024,
          -71.056664,
          -71.068607,
          -71.085347,
          -71.06905996799469,
          -71.1604106426239,
          -71.15027189254761,
          -71.11901879310608,
          -71.10006093978882,
          -71.10129475593567,
          -71.10394477844238,
          -71.13320231437683
         ],
         "marker": {
          "color": [
           56,
           5018,
           9512,
           6175,
           13018,
           4725,
           3692,
           8505,
           7237,
           7868,
           6364,
           8917,
           9529,
           2028,
           16706,
           6540,
           6841,
           12324,
           12611,
           30798,
           14419,
           6591,
           8093,
           9105,
           4285,
           3088,
           5292,
           7414,
           7761,
           14515,
           10305,
           19291,
           1246,
           11839,
           9377,
           11232,
           7826,
           13130,
           12612,
           7356,
           9788,
           11884,
           14686,
           10844,
           7703,
           8869,
           2833,
           10405,
           13867,
           12413,
           11334,
           1636,
           8677,
           13212,
           8346,
           17291,
           12654,
           3568,
           9623,
           4774,
           5126,
           29597,
           21444,
           6215,
           7916,
           5321,
           14491,
           10572,
           22679,
           19367,
           14245,
           2052,
           6237,
           4618,
           16882,
           10343,
           3194,
           10120,
           4964,
           4017,
           10039,
           13272,
           6395,
           10910,
           14141,
           658,
           1442,
           6064,
           10397,
           9764,
           6178,
           11411,
           3758,
           10176,
           1700,
           3348,
           6415,
           11253,
           624,
           14748,
           7825,
           18678,
           9458,
           1861,
           2387,
           2688,
           3258,
           10712,
           9162,
           7060,
           5649,
           4382,
           9357,
           4898,
           2891,
           2096,
           2071,
           3458,
           1148,
           703,
           2447,
           761,
           3141,
           1565,
           3154,
           5766,
           3260,
           3906,
           1266,
           1196,
           5896,
           2831,
           6607,
           3537,
           5875,
           1452,
           5127,
           5196,
           7137,
           5773,
           192,
           748,
           706,
           65,
           558,
           88,
           653,
           46,
           280,
           116,
           240,
           287,
           858,
           1197,
           894,
           253
          ],
          "coloraxis": "coloraxis",
          "size": [
           56,
           5018,
           9512,
           6175,
           13018,
           4725,
           3692,
           8505,
           7237,
           7868,
           6364,
           8917,
           9529,
           2028,
           16706,
           6540,
           6841,
           12324,
           12611,
           30798,
           14419,
           6591,
           8093,
           9105,
           4285,
           3088,
           5292,
           7414,
           7761,
           14515,
           10305,
           19291,
           1246,
           11839,
           9377,
           11232,
           7826,
           13130,
           12612,
           7356,
           9788,
           11884,
           14686,
           10844,
           7703,
           8869,
           2833,
           10405,
           13867,
           12413,
           11334,
           1636,
           8677,
           13212,
           8346,
           17291,
           12654,
           3568,
           9623,
           4774,
           5126,
           29597,
           21444,
           6215,
           7916,
           5321,
           14491,
           10572,
           22679,
           19367,
           14245,
           2052,
           6237,
           4618,
           16882,
           10343,
           3194,
           10120,
           4964,
           4017,
           10039,
           13272,
           6395,
           10910,
           14141,
           658,
           1442,
           6064,
           10397,
           9764,
           6178,
           11411,
           3758,
           10176,
           1700,
           3348,
           6415,
           11253,
           624,
           14748,
           7825,
           18678,
           9458,
           1861,
           2387,
           2688,
           3258,
           10712,
           9162,
           7060,
           5649,
           4382,
           9357,
           4898,
           2891,
           2096,
           2071,
           3458,
           1148,
           703,
           2447,
           761,
           3141,
           1565,
           3154,
           5766,
           3260,
           3906,
           1266,
           1196,
           5896,
           2831,
           6607,
           3537,
           5875,
           1452,
           5127,
           5196,
           7137,
           5773,
           192,
           748,
           706,
           65,
           558,
           88,
           653,
           46,
           280,
           116,
           240,
           287,
           858,
           1197,
           894,
           253
          ],
          "sizemode": "area",
          "sizeref": 76.995
         },
         "mode": "markers",
         "name": "",
         "showlegend": false,
         "subplot": "mapbox",
         "type": "scattermapbox"
        }
       ],
       "layout": {
        "coloraxis": {
         "colorbar": {
          "title": {
           "text": "counts_start"
          }
         },
         "colorscale": [
          [
           0,
           "orange"
          ],
          [
           1,
           "red"
          ]
         ]
        },
        "height": 800,
        "legend": {
         "itemsizing": "constant",
         "tracegroupgap": 0
        },
        "mapbox": {
         "center": {
          "lat": 42.355539267132464,
          "lon": -71.08955563028009
         },
         "domain": {
          "x": [
           0,
           1
          ],
          "y": [
           0,
           1
          ]
         },
         "style": "open-street-map",
         "zoom": 8
        },
        "margin": {
         "b": 0,
         "l": 0,
         "r": 0,
         "t": 0
        },
        "template": {
         "data": {
          "bar": [
           {
            "error_x": {
             "color": "#2a3f5f"
            },
            "error_y": {
             "color": "#2a3f5f"
            },
            "marker": {
             "line": {
              "color": "#E5ECF6",
              "width": 0.5
             },
             "pattern": {
              "fillmode": "overlay",
              "size": 10,
              "solidity": 0.2
             }
            },
            "type": "bar"
           }
          ],
          "barpolar": [
           {
            "marker": {
             "line": {
              "color": "#E5ECF6",
              "width": 0.5
             },
             "pattern": {
              "fillmode": "overlay",
              "size": 10,
              "solidity": 0.2
             }
            },
            "type": "barpolar"
           }
          ],
          "carpet": [
           {
            "aaxis": {
             "endlinecolor": "#2a3f5f",
             "gridcolor": "white",
             "linecolor": "white",
             "minorgridcolor": "white",
             "startlinecolor": "#2a3f5f"
            },
            "baxis": {
             "endlinecolor": "#2a3f5f",
             "gridcolor": "white",
             "linecolor": "white",
             "minorgridcolor": "white",
             "startlinecolor": "#2a3f5f"
            },
            "type": "carpet"
           }
          ],
          "choropleth": [
           {
            "colorbar": {
             "outlinewidth": 0,
             "ticks": ""
            },
            "type": "choropleth"
           }
          ],
          "contour": [
           {
            "colorbar": {
             "outlinewidth": 0,
             "ticks": ""
            },
            "colorscale": [
             [
              0,
              "#0d0887"
             ],
             [
              0.1111111111111111,
              "#46039f"
             ],
             [
              0.2222222222222222,
              "#7201a8"
             ],
             [
              0.3333333333333333,
              "#9c179e"
             ],
             [
              0.4444444444444444,
              "#bd3786"
             ],
             [
              0.5555555555555556,
              "#d8576b"
             ],
             [
              0.6666666666666666,
              "#ed7953"
             ],
             [
              0.7777777777777778,
              "#fb9f3a"
             ],
             [
              0.8888888888888888,
              "#fdca26"
             ],
             [
              1,
              "#f0f921"
             ]
            ],
            "type": "contour"
           }
          ],
          "contourcarpet": [
           {
            "colorbar": {
             "outlinewidth": 0,
             "ticks": ""
            },
            "type": "contourcarpet"
           }
          ],
          "heatmap": [
           {
            "colorbar": {
             "outlinewidth": 0,
             "ticks": ""
            },
            "colorscale": [
             [
              0,
              "#0d0887"
             ],
             [
              0.1111111111111111,
              "#46039f"
             ],
             [
              0.2222222222222222,
              "#7201a8"
             ],
             [
              0.3333333333333333,
              "#9c179e"
             ],
             [
              0.4444444444444444,
              "#bd3786"
             ],
             [
              0.5555555555555556,
              "#d8576b"
             ],
             [
              0.6666666666666666,
              "#ed7953"
             ],
             [
              0.7777777777777778,
              "#fb9f3a"
             ],
             [
              0.8888888888888888,
              "#fdca26"
             ],
             [
              1,
              "#f0f921"
             ]
            ],
            "type": "heatmap"
           }
          ],
          "heatmapgl": [
           {
            "colorbar": {
             "outlinewidth": 0,
             "ticks": ""
            },
            "colorscale": [
             [
              0,
              "#0d0887"
             ],
             [
              0.1111111111111111,
              "#46039f"
             ],
             [
              0.2222222222222222,
              "#7201a8"
             ],
             [
              0.3333333333333333,
              "#9c179e"
             ],
             [
              0.4444444444444444,
              "#bd3786"
             ],
             [
              0.5555555555555556,
              "#d8576b"
             ],
             [
              0.6666666666666666,
              "#ed7953"
             ],
             [
              0.7777777777777778,
              "#fb9f3a"
             ],
             [
              0.8888888888888888,
              "#fdca26"
             ],
             [
              1,
              "#f0f921"
             ]
            ],
            "type": "heatmapgl"
           }
          ],
          "histogram": [
           {
            "marker": {
             "pattern": {
              "fillmode": "overlay",
              "size": 10,
              "solidity": 0.2
             }
            },
            "type": "histogram"
           }
          ],
          "histogram2d": [
           {
            "colorbar": {
             "outlinewidth": 0,
             "ticks": ""
            },
            "colorscale": [
             [
              0,
              "#0d0887"
             ],
             [
              0.1111111111111111,
              "#46039f"
             ],
             [
              0.2222222222222222,
              "#7201a8"
             ],
             [
              0.3333333333333333,
              "#9c179e"
             ],
             [
              0.4444444444444444,
              "#bd3786"
             ],
             [
              0.5555555555555556,
              "#d8576b"
             ],
             [
              0.6666666666666666,
              "#ed7953"
             ],
             [
              0.7777777777777778,
              "#fb9f3a"
             ],
             [
              0.8888888888888888,
              "#fdca26"
             ],
             [
              1,
              "#f0f921"
             ]
            ],
            "type": "histogram2d"
           }
          ],
          "histogram2dcontour": [
           {
            "colorbar": {
             "outlinewidth": 0,
             "ticks": ""
            },
            "colorscale": [
             [
              0,
              "#0d0887"
             ],
             [
              0.1111111111111111,
              "#46039f"
             ],
             [
              0.2222222222222222,
              "#7201a8"
             ],
             [
              0.3333333333333333,
              "#9c179e"
             ],
             [
              0.4444444444444444,
              "#bd3786"
             ],
             [
              0.5555555555555556,
              "#d8576b"
             ],
             [
              0.6666666666666666,
              "#ed7953"
             ],
             [
              0.7777777777777778,
              "#fb9f3a"
             ],
             [
              0.8888888888888888,
              "#fdca26"
             ],
             [
              1,
              "#f0f921"
             ]
            ],
            "type": "histogram2dcontour"
           }
          ],
          "mesh3d": [
           {
            "colorbar": {
             "outlinewidth": 0,
             "ticks": ""
            },
            "type": "mesh3d"
           }
          ],
          "parcoords": [
           {
            "line": {
             "colorbar": {
              "outlinewidth": 0,
              "ticks": ""
             }
            },
            "type": "parcoords"
           }
          ],
          "pie": [
           {
            "automargin": true,
            "type": "pie"
           }
          ],
          "scatter": [
           {
            "fillpattern": {
             "fillmode": "overlay",
             "size": 10,
             "solidity": 0.2
            },
            "type": "scatter"
           }
          ],
          "scatter3d": [
           {
            "line": {
             "colorbar": {
              "outlinewidth": 0,
              "ticks": ""
             }
            },
            "marker": {
             "colorbar": {
              "outlinewidth": 0,
              "ticks": ""
             }
            },
            "type": "scatter3d"
           }
          ],
          "scattercarpet": [
           {
            "marker": {
             "colorbar": {
              "outlinewidth": 0,
              "ticks": ""
             }
            },
            "type": "scattercarpet"
           }
          ],
          "scattergeo": [
           {
            "marker": {
             "colorbar": {
              "outlinewidth": 0,
              "ticks": ""
             }
            },
            "type": "scattergeo"
           }
          ],
          "scattergl": [
           {
            "marker": {
             "colorbar": {
              "outlinewidth": 0,
              "ticks": ""
             }
            },
            "type": "scattergl"
           }
          ],
          "scattermapbox": [
           {
            "marker": {
             "colorbar": {
              "outlinewidth": 0,
              "ticks": ""
             }
            },
            "type": "scattermapbox"
           }
          ],
          "scatterpolar": [
           {
            "marker": {
             "colorbar": {
              "outlinewidth": 0,
              "ticks": ""
             }
            },
            "type": "scatterpolar"
           }
          ],
          "scatterpolargl": [
           {
            "marker": {
             "colorbar": {
              "outlinewidth": 0,
              "ticks": ""
             }
            },
            "type": "scatterpolargl"
           }
          ],
          "scatterternary": [
           {
            "marker": {
             "colorbar": {
              "outlinewidth": 0,
              "ticks": ""
             }
            },
            "type": "scatterternary"
           }
          ],
          "surface": [
           {
            "colorbar": {
             "outlinewidth": 0,
             "ticks": ""
            },
            "colorscale": [
             [
              0,
              "#0d0887"
             ],
             [
              0.1111111111111111,
              "#46039f"
             ],
             [
              0.2222222222222222,
              "#7201a8"
             ],
             [
              0.3333333333333333,
              "#9c179e"
             ],
             [
              0.4444444444444444,
              "#bd3786"
             ],
             [
              0.5555555555555556,
              "#d8576b"
             ],
             [
              0.6666666666666666,
              "#ed7953"
             ],
             [
              0.7777777777777778,
              "#fb9f3a"
             ],
             [
              0.8888888888888888,
              "#fdca26"
             ],
             [
              1,
              "#f0f921"
             ]
            ],
            "type": "surface"
           }
          ],
          "table": [
           {
            "cells": {
             "fill": {
              "color": "#EBF0F8"
             },
             "line": {
              "color": "white"
             }
            },
            "header": {
             "fill": {
              "color": "#C8D4E3"
             },
             "line": {
              "color": "white"
             }
            },
            "type": "table"
           }
          ]
         },
         "layout": {
          "annotationdefaults": {
           "arrowcolor": "#2a3f5f",
           "arrowhead": 0,
           "arrowwidth": 1
          },
          "autotypenumbers": "strict",
          "coloraxis": {
           "colorbar": {
            "outlinewidth": 0,
            "ticks": ""
           }
          },
          "colorscale": {
           "diverging": [
            [
             0,
             "#8e0152"
            ],
            [
             0.1,
             "#c51b7d"
            ],
            [
             0.2,
             "#de77ae"
            ],
            [
             0.3,
             "#f1b6da"
            ],
            [
             0.4,
             "#fde0ef"
            ],
            [
             0.5,
             "#f7f7f7"
            ],
            [
             0.6,
             "#e6f5d0"
            ],
            [
             0.7,
             "#b8e186"
            ],
            [
             0.8,
             "#7fbc41"
            ],
            [
             0.9,
             "#4d9221"
            ],
            [
             1,
             "#276419"
            ]
           ],
           "sequential": [
            [
             0,
             "#0d0887"
            ],
            [
             0.1111111111111111,
             "#46039f"
            ],
            [
             0.2222222222222222,
             "#7201a8"
            ],
            [
             0.3333333333333333,
             "#9c179e"
            ],
            [
             0.4444444444444444,
             "#bd3786"
            ],
            [
             0.5555555555555556,
             "#d8576b"
            ],
            [
             0.6666666666666666,
             "#ed7953"
            ],
            [
             0.7777777777777778,
             "#fb9f3a"
            ],
            [
             0.8888888888888888,
             "#fdca26"
            ],
            [
             1,
             "#f0f921"
            ]
           ],
           "sequentialminus": [
            [
             0,
             "#0d0887"
            ],
            [
             0.1111111111111111,
             "#46039f"
            ],
            [
             0.2222222222222222,
             "#7201a8"
            ],
            [
             0.3333333333333333,
             "#9c179e"
            ],
            [
             0.4444444444444444,
             "#bd3786"
            ],
            [
             0.5555555555555556,
             "#d8576b"
            ],
            [
             0.6666666666666666,
             "#ed7953"
            ],
            [
             0.7777777777777778,
             "#fb9f3a"
            ],
            [
             0.8888888888888888,
             "#fdca26"
            ],
            [
             1,
             "#f0f921"
            ]
           ]
          },
          "colorway": [
           "#636efa",
           "#EF553B",
           "#00cc96",
           "#ab63fa",
           "#FFA15A",
           "#19d3f3",
           "#FF6692",
           "#B6E880",
           "#FF97FF",
           "#FECB52"
          ],
          "font": {
           "color": "#2a3f5f"
          },
          "geo": {
           "bgcolor": "white",
           "lakecolor": "white",
           "landcolor": "#E5ECF6",
           "showlakes": true,
           "showland": true,
           "subunitcolor": "white"
          },
          "hoverlabel": {
           "align": "left"
          },
          "hovermode": "closest",
          "mapbox": {
           "style": "light"
          },
          "paper_bgcolor": "white",
          "plot_bgcolor": "#E5ECF6",
          "polar": {
           "angularaxis": {
            "gridcolor": "white",
            "linecolor": "white",
            "ticks": ""
           },
           "bgcolor": "#E5ECF6",
           "radialaxis": {
            "gridcolor": "white",
            "linecolor": "white",
            "ticks": ""
           }
          },
          "scene": {
           "xaxis": {
            "backgroundcolor": "#E5ECF6",
            "gridcolor": "white",
            "gridwidth": 2,
            "linecolor": "white",
            "showbackground": true,
            "ticks": "",
            "zerolinecolor": "white"
           },
           "yaxis": {
            "backgroundcolor": "#E5ECF6",
            "gridcolor": "white",
            "gridwidth": 2,
            "linecolor": "white",
            "showbackground": true,
            "ticks": "",
            "zerolinecolor": "white"
           },
           "zaxis": {
            "backgroundcolor": "#E5ECF6",
            "gridcolor": "white",
            "gridwidth": 2,
            "linecolor": "white",
            "showbackground": true,
            "ticks": "",
            "zerolinecolor": "white"
           }
          },
          "shapedefaults": {
           "line": {
            "color": "#2a3f5f"
           }
          },
          "ternary": {
           "aaxis": {
            "gridcolor": "white",
            "linecolor": "white",
            "ticks": ""
           },
           "baxis": {
            "gridcolor": "white",
            "linecolor": "white",
            "ticks": ""
           },
           "bgcolor": "#E5ECF6",
           "caxis": {
            "gridcolor": "white",
            "linecolor": "white",
            "ticks": ""
           }
          },
          "title": {
           "x": 0.05
          },
          "xaxis": {
           "automargin": true,
           "gridcolor": "white",
           "linecolor": "white",
           "ticks": "",
           "title": {
            "standoff": 15
           },
           "zerolinecolor": "white",
           "zerolinewidth": 2
          },
          "yaxis": {
           "automargin": true,
           "gridcolor": "white",
           "linecolor": "white",
           "ticks": "",
           "title": {
            "standoff": 15
           },
           "zerolinecolor": "white",
           "zerolinewidth": 2
          }
         }
        },
        "width": 800
       }
      }
     },
     "metadata": {},
     "output_type": "display_data"
    }
   ],
   "source": [
    "\n",
    "color_scale = [(0, 'orange'), (1,'red')]\n",
    "\n",
    "fig = px.scatter_mapbox(df_start, \n",
    "                        lat=\"start_station_latitude\", \n",
    "                        lon=\"start_station_longitude\", \n",
    "                        color='counts_start',\n",
    "                        color_continuous_scale=color_scale,\n",
    "                        size='counts_start',\n",
    "                        zoom=8, \n",
    "                        height=800,\n",
    "                        width=800)\n",
    "\n",
    "\n",
    "fig.update_layout(mapbox_style=\"open-street-map\")\n",
    "fig.update_layout(margin={\"r\":0,\"t\":0,\"l\":0,\"b\":0})\n",
    "fig.show()"
   ]
  },
  {
   "cell_type": "code",
   "execution_count": null,
   "metadata": {},
   "outputs": [
    {
     "data": {
      "application/vnd.plotly.v1+json": {
       "config": {
        "plotlyServerURL": "https://plot.ly"
       },
       "data": [
        {
         "hovertemplate": "counts_end=%{marker.color}<br>end_station_latitude=%{lat}<br>end_station_longitude=%{lon}<extra></extra>",
         "lat": [
          42.387151,
          42.340021,
          42.345392,
          42.341814,
          42.361174,
          42.35328743453294,
          42.353334,
          42.351246,
          42.350406,
          42.338629,
          42.335911,
          42.336437,
          42.337171,
          42.361667,
          42.34807412317439,
          42.365064,
          42.347241,
          42.35977,
          42.345959,
          42.352175,
          42.35892,
          42.351205,
          42.341332,
          42.341522,
          42.331184,
          42.363732,
          42.334073,
          42.348833,
          42.343912,
          42.348706,
          42.355402,
          42.349673,
          42.357402,
          42.366222,
          42.338623,
          42.363871,
          42.352261,
          42.352033,
          42.357143,
          42.360613,
          42.344706,
          42.343864,
          42.362811,
          42.356755,
          42.351146,
          42.350989,
          42.3348756,
          42.348717,
          42.350851,
          42.354979,
          42.347265,
          42.328654,
          42.340799,
          42.355596,
          42.351356,
          42.360835,
          42.348762,
          42.344023,
          42.3511,
          42.3475,
          42.348607,
          42.3581,
          42.36507,
          42.341598,
          42.371196,
          42.383405,
          42.362613,
          42.373231,
          42.373268,
          42.36346469304347,
          42.366426,
          42.386844,
          42.379637,
          42.37842,
          42.3619622,
          42.352409,
          42.339335,
          42.366981,
          42.378338,
          42.332799,
          42.366621,
          42.374035,
          42.379011,
          42.370677,
          42.366277,
          42.314507,
          42.320494,
          42.375603,
          42.372969,
          42.373379,
          42.36919031768079,
          42.371848,
          42.385582,
          42.396969,
          42.400877,
          42.346563,
          42.380287,
          42.356954,
          42.325333,
          42.3625,
          42.377945,
          42.365942,
          42.376369,
          42.40449,
          42.39082,
          42.330716,
          42.402763,
          42.387995,
          42.370803,
          42.366095,
          42.397828,
          42.335741,
          42.356052,
          42.335693,
          42.345733,
          42.313156,
          42.309054,
          42.320998,
          42.315692,
          42.320561,
          42.377022,
          42.317225,
          42.322701,
          42.394002,
          42.310579,
          42.350413,
          42.344827,
          42.344796,
          42.398365,
          42.326599,
          42.361589,
          42.388966,
          42.36356015842989,
          42.396105,
          42.369885,
          42.392766,
          42.363796,
          42.344137,
          42.358155,
          42.345901,
          42.32797270205962,
          42.337596,
          42.3391085,
          42.309796,
          42.344792,
          42.317642,
          42.378965,
          42.303469,
          42.37408991426522,
          42.34900494405213,
          42.34894857235593,
          42.38674802045056,
          42.36264779118595,
          42.35957320109044,
          42.35560121327927,
          42.37478628706384
         ],
         "legendgroup": "",
         "lon": [
          -71.075978,
          -71.100812,
          -71.069616,
          -71.090179,
          -71.065142,
          -71.04438900947571,
          -71.137313,
          -71.115639,
          -71.108279,
          -71.1065,
          -71.088496,
          -71.073089,
          -71.102797,
          -71.13802,
          -71.07657015323639,
          -71.119233,
          -71.105301,
          -71.051601,
          -71.082578,
          -71.055547,
          -71.057629,
          -71.043983,
          -71.076847,
          -71.068922,
          -71.095171,
          -71.124565,
          -71.105221,
          -71.041747,
          -71.102221,
          -71.097009,
          -71.058087,
          -71.077303,
          -71.147782,
          -71.059914,
          -71.074182,
          -71.050877,
          -71.123831,
          -71.070627,
          -71.050699,
          -71.057452,
          -71.097515,
          -71.085918,
          -71.056067,
          -71.055407,
          -71.066289,
          -71.073644,
          -71.0790969,
          -71.085954,
          -71.089886,
          -71.063348,
          -71.088088,
          -71.084198,
          -71.081572,
          -71.07278,
          -71.059367,
          -71.0708399,
          -71.082383,
          -71.057054,
          -71.0496,
          -71.0441,
          -71.13401,
          -71.093198,
          -71.1031,
          -71.123338,
          -71.121473,
          -71.107593,
          -71.084105,
          -71.120886,
          -71.118579,
          -71.10057324171066,
          -71.105495,
          -71.09812,
          -71.095319,
          -71.105668,
          -71.0920526,
          -71.062679,
          -71.13493,
          -71.076472,
          -71.048927,
          -71.116205,
          -71.114214,
          -71.101427,
          -71.119945,
          -71.076529,
          -71.09169,
          -71.041269,
          -71.051122,
          -71.064608,
          -71.094445,
          -71.111075,
          -71.11714124679565,
          -71.060292,
          -71.113341,
          -71.123024,
          -71.116772,
          -71.128374,
          -71.125107,
          -71.113687,
          -71.075354,
          -71.08822,
          -71.116865,
          -71.060515,
          -71.114025,
          -71.123413,
          -71.10942,
          -71.057044,
          -71.126908,
          -71.119084,
          -71.104412,
          -71.086388,
          -71.130516,
          -71.03877,
          -71.069849,
          -71.045859,
          -71.100694,
          -71.11414,
          -71.11543,
          -71.110833,
          -71.098634,
          -71.06198,
          -71.056605,
          -71.065421,
          -71.099533,
          -71.120406,
          -71.107341,
          -71.07655,
          -71.028664,
          -71.031614,
          -71.107818,
          -71.066498,
          -71.107437,
          -71.132788,
          -71.08216792345047,
          -71.139459,
          -71.069957,
          -71.129042,
          -71.129164,
          -71.052608,
          -71.052163,
          -71.063187,
          -71.11089706420898,
          -71.096391,
          -71.0514432,
          -71.092225,
          -71.044024,
          -71.056664,
          -71.068607,
          -71.085347,
          -71.06905996799469,
          -71.1604106426239,
          -71.15027189254761,
          -71.11901879310608,
          -71.10006093978882,
          -71.10129475593567,
          -71.10394477844238,
          -71.13320231437683
         ],
         "marker": {
          "color": [
           154,
           5007,
           8975,
           6289,
           12632,
           5284,
           3764,
           8768,
           7630,
           8897,
           6454,
           9041,
           9368,
           2156,
           15878,
           6369,
           7089,
           11841,
           12913,
           31284,
           13568,
           6181,
           7307,
           9081,
           4055,
           3194,
           5118,
           7095,
           7984,
           14661,
           10178,
           19874,
           1309,
           14900,
           9596,
           10789,
           7623,
           14052,
           12548,
           7140,
           9765,
           11674,
           13723,
           11174,
           7823,
           9390,
           2926,
           10223,
           13385,
           12452,
           11244,
           1629,
           7796,
           12930,
           8838,
           16850,
           12668,
           3584,
           10734,
           4647,
           4535,
           29905,
           20886,
           6200,
           8541,
           5246,
           13991,
           10806,
           23590,
           19056,
           13936,
           1782,
           6587,
           4375,
           21720,
           10535,
           2587,
           10657,
           5111,
           4220,
           8926,
           12103,
           6333,
           11007,
           13498,
           659,
           1624,
           5603,
           9657,
           9553,
           6197,
           10700,
           3536,
           11822,
           1590,
           2862,
           6220,
           11181,
           569,
           15146,
           7898,
           20524,
           9560,
           1781,
           1673,
           2536,
           2110,
           10342,
           7912,
           6922,
           5480,
           4593,
           8886,
           4416,
           3107,
           2290,
           2072,
           3133,
           896,
           779,
           2619,
           609,
           2932,
           1775,
           3300,
           5851,
           3366,
           4018,
           1352,
           1322,
           5404,
           2792,
           6622,
           3676,
           5822,
           1527,
           4933,
           5254,
           7392,
           5813,
           142,
           736,
           733,
           40,
           511,
           100,
           584,
           39,
           239,
           127,
           229,
           317,
           760,
           1079,
           835,
           244
          ],
          "coloraxis": "coloraxis",
          "size": [
           154,
           5007,
           8975,
           6289,
           12632,
           5284,
           3764,
           8768,
           7630,
           8897,
           6454,
           9041,
           9368,
           2156,
           15878,
           6369,
           7089,
           11841,
           12913,
           31284,
           13568,
           6181,
           7307,
           9081,
           4055,
           3194,
           5118,
           7095,
           7984,
           14661,
           10178,
           19874,
           1309,
           14900,
           9596,
           10789,
           7623,
           14052,
           12548,
           7140,
           9765,
           11674,
           13723,
           11174,
           7823,
           9390,
           2926,
           10223,
           13385,
           12452,
           11244,
           1629,
           7796,
           12930,
           8838,
           16850,
           12668,
           3584,
           10734,
           4647,
           4535,
           29905,
           20886,
           6200,
           8541,
           5246,
           13991,
           10806,
           23590,
           19056,
           13936,
           1782,
           6587,
           4375,
           21720,
           10535,
           2587,
           10657,
           5111,
           4220,
           8926,
           12103,
           6333,
           11007,
           13498,
           659,
           1624,
           5603,
           9657,
           9553,
           6197,
           10700,
           3536,
           11822,
           1590,
           2862,
           6220,
           11181,
           569,
           15146,
           7898,
           20524,
           9560,
           1781,
           1673,
           2536,
           2110,
           10342,
           7912,
           6922,
           5480,
           4593,
           8886,
           4416,
           3107,
           2290,
           2072,
           3133,
           896,
           779,
           2619,
           609,
           2932,
           1775,
           3300,
           5851,
           3366,
           4018,
           1352,
           1322,
           5404,
           2792,
           6622,
           3676,
           5822,
           1527,
           4933,
           5254,
           7392,
           5813,
           142,
           736,
           733,
           40,
           511,
           100,
           584,
           39,
           239,
           127,
           229,
           317,
           760,
           1079,
           835,
           244
          ],
          "sizemode": "area",
          "sizeref": 78.21
         },
         "mode": "markers",
         "name": "",
         "showlegend": false,
         "subplot": "mapbox",
         "type": "scattermapbox"
        }
       ],
       "layout": {
        "coloraxis": {
         "colorbar": {
          "title": {
           "text": "counts_end"
          }
         },
         "colorscale": [
          [
           0,
           "orange"
          ],
          [
           1,
           "red"
          ]
         ]
        },
        "height": 800,
        "legend": {
         "itemsizing": "constant",
         "tracegroupgap": 0
        },
        "mapbox": {
         "center": {
          "lat": 42.355539267132464,
          "lon": -71.08955563028009
         },
         "domain": {
          "x": [
           0,
           1
          ],
          "y": [
           0,
           1
          ]
         },
         "style": "open-street-map",
         "zoom": 8
        },
        "margin": {
         "b": 0,
         "l": 0,
         "r": 0,
         "t": 0
        },
        "template": {
         "data": {
          "bar": [
           {
            "error_x": {
             "color": "#2a3f5f"
            },
            "error_y": {
             "color": "#2a3f5f"
            },
            "marker": {
             "line": {
              "color": "#E5ECF6",
              "width": 0.5
             },
             "pattern": {
              "fillmode": "overlay",
              "size": 10,
              "solidity": 0.2
             }
            },
            "type": "bar"
           }
          ],
          "barpolar": [
           {
            "marker": {
             "line": {
              "color": "#E5ECF6",
              "width": 0.5
             },
             "pattern": {
              "fillmode": "overlay",
              "size": 10,
              "solidity": 0.2
             }
            },
            "type": "barpolar"
           }
          ],
          "carpet": [
           {
            "aaxis": {
             "endlinecolor": "#2a3f5f",
             "gridcolor": "white",
             "linecolor": "white",
             "minorgridcolor": "white",
             "startlinecolor": "#2a3f5f"
            },
            "baxis": {
             "endlinecolor": "#2a3f5f",
             "gridcolor": "white",
             "linecolor": "white",
             "minorgridcolor": "white",
             "startlinecolor": "#2a3f5f"
            },
            "type": "carpet"
           }
          ],
          "choropleth": [
           {
            "colorbar": {
             "outlinewidth": 0,
             "ticks": ""
            },
            "type": "choropleth"
           }
          ],
          "contour": [
           {
            "colorbar": {
             "outlinewidth": 0,
             "ticks": ""
            },
            "colorscale": [
             [
              0,
              "#0d0887"
             ],
             [
              0.1111111111111111,
              "#46039f"
             ],
             [
              0.2222222222222222,
              "#7201a8"
             ],
             [
              0.3333333333333333,
              "#9c179e"
             ],
             [
              0.4444444444444444,
              "#bd3786"
             ],
             [
              0.5555555555555556,
              "#d8576b"
             ],
             [
              0.6666666666666666,
              "#ed7953"
             ],
             [
              0.7777777777777778,
              "#fb9f3a"
             ],
             [
              0.8888888888888888,
              "#fdca26"
             ],
             [
              1,
              "#f0f921"
             ]
            ],
            "type": "contour"
           }
          ],
          "contourcarpet": [
           {
            "colorbar": {
             "outlinewidth": 0,
             "ticks": ""
            },
            "type": "contourcarpet"
           }
          ],
          "heatmap": [
           {
            "colorbar": {
             "outlinewidth": 0,
             "ticks": ""
            },
            "colorscale": [
             [
              0,
              "#0d0887"
             ],
             [
              0.1111111111111111,
              "#46039f"
             ],
             [
              0.2222222222222222,
              "#7201a8"
             ],
             [
              0.3333333333333333,
              "#9c179e"
             ],
             [
              0.4444444444444444,
              "#bd3786"
             ],
             [
              0.5555555555555556,
              "#d8576b"
             ],
             [
              0.6666666666666666,
              "#ed7953"
             ],
             [
              0.7777777777777778,
              "#fb9f3a"
             ],
             [
              0.8888888888888888,
              "#fdca26"
             ],
             [
              1,
              "#f0f921"
             ]
            ],
            "type": "heatmap"
           }
          ],
          "heatmapgl": [
           {
            "colorbar": {
             "outlinewidth": 0,
             "ticks": ""
            },
            "colorscale": [
             [
              0,
              "#0d0887"
             ],
             [
              0.1111111111111111,
              "#46039f"
             ],
             [
              0.2222222222222222,
              "#7201a8"
             ],
             [
              0.3333333333333333,
              "#9c179e"
             ],
             [
              0.4444444444444444,
              "#bd3786"
             ],
             [
              0.5555555555555556,
              "#d8576b"
             ],
             [
              0.6666666666666666,
              "#ed7953"
             ],
             [
              0.7777777777777778,
              "#fb9f3a"
             ],
             [
              0.8888888888888888,
              "#fdca26"
             ],
             [
              1,
              "#f0f921"
             ]
            ],
            "type": "heatmapgl"
           }
          ],
          "histogram": [
           {
            "marker": {
             "pattern": {
              "fillmode": "overlay",
              "size": 10,
              "solidity": 0.2
             }
            },
            "type": "histogram"
           }
          ],
          "histogram2d": [
           {
            "colorbar": {
             "outlinewidth": 0,
             "ticks": ""
            },
            "colorscale": [
             [
              0,
              "#0d0887"
             ],
             [
              0.1111111111111111,
              "#46039f"
             ],
             [
              0.2222222222222222,
              "#7201a8"
             ],
             [
              0.3333333333333333,
              "#9c179e"
             ],
             [
              0.4444444444444444,
              "#bd3786"
             ],
             [
              0.5555555555555556,
              "#d8576b"
             ],
             [
              0.6666666666666666,
              "#ed7953"
             ],
             [
              0.7777777777777778,
              "#fb9f3a"
             ],
             [
              0.8888888888888888,
              "#fdca26"
             ],
             [
              1,
              "#f0f921"
             ]
            ],
            "type": "histogram2d"
           }
          ],
          "histogram2dcontour": [
           {
            "colorbar": {
             "outlinewidth": 0,
             "ticks": ""
            },
            "colorscale": [
             [
              0,
              "#0d0887"
             ],
             [
              0.1111111111111111,
              "#46039f"
             ],
             [
              0.2222222222222222,
              "#7201a8"
             ],
             [
              0.3333333333333333,
              "#9c179e"
             ],
             [
              0.4444444444444444,
              "#bd3786"
             ],
             [
              0.5555555555555556,
              "#d8576b"
             ],
             [
              0.6666666666666666,
              "#ed7953"
             ],
             [
              0.7777777777777778,
              "#fb9f3a"
             ],
             [
              0.8888888888888888,
              "#fdca26"
             ],
             [
              1,
              "#f0f921"
             ]
            ],
            "type": "histogram2dcontour"
           }
          ],
          "mesh3d": [
           {
            "colorbar": {
             "outlinewidth": 0,
             "ticks": ""
            },
            "type": "mesh3d"
           }
          ],
          "parcoords": [
           {
            "line": {
             "colorbar": {
              "outlinewidth": 0,
              "ticks": ""
             }
            },
            "type": "parcoords"
           }
          ],
          "pie": [
           {
            "automargin": true,
            "type": "pie"
           }
          ],
          "scatter": [
           {
            "fillpattern": {
             "fillmode": "overlay",
             "size": 10,
             "solidity": 0.2
            },
            "type": "scatter"
           }
          ],
          "scatter3d": [
           {
            "line": {
             "colorbar": {
              "outlinewidth": 0,
              "ticks": ""
             }
            },
            "marker": {
             "colorbar": {
              "outlinewidth": 0,
              "ticks": ""
             }
            },
            "type": "scatter3d"
           }
          ],
          "scattercarpet": [
           {
            "marker": {
             "colorbar": {
              "outlinewidth": 0,
              "ticks": ""
             }
            },
            "type": "scattercarpet"
           }
          ],
          "scattergeo": [
           {
            "marker": {
             "colorbar": {
              "outlinewidth": 0,
              "ticks": ""
             }
            },
            "type": "scattergeo"
           }
          ],
          "scattergl": [
           {
            "marker": {
             "colorbar": {
              "outlinewidth": 0,
              "ticks": ""
             }
            },
            "type": "scattergl"
           }
          ],
          "scattermapbox": [
           {
            "marker": {
             "colorbar": {
              "outlinewidth": 0,
              "ticks": ""
             }
            },
            "type": "scattermapbox"
           }
          ],
          "scatterpolar": [
           {
            "marker": {
             "colorbar": {
              "outlinewidth": 0,
              "ticks": ""
             }
            },
            "type": "scatterpolar"
           }
          ],
          "scatterpolargl": [
           {
            "marker": {
             "colorbar": {
              "outlinewidth": 0,
              "ticks": ""
             }
            },
            "type": "scatterpolargl"
           }
          ],
          "scatterternary": [
           {
            "marker": {
             "colorbar": {
              "outlinewidth": 0,
              "ticks": ""
             }
            },
            "type": "scatterternary"
           }
          ],
          "surface": [
           {
            "colorbar": {
             "outlinewidth": 0,
             "ticks": ""
            },
            "colorscale": [
             [
              0,
              "#0d0887"
             ],
             [
              0.1111111111111111,
              "#46039f"
             ],
             [
              0.2222222222222222,
              "#7201a8"
             ],
             [
              0.3333333333333333,
              "#9c179e"
             ],
             [
              0.4444444444444444,
              "#bd3786"
             ],
             [
              0.5555555555555556,
              "#d8576b"
             ],
             [
              0.6666666666666666,
              "#ed7953"
             ],
             [
              0.7777777777777778,
              "#fb9f3a"
             ],
             [
              0.8888888888888888,
              "#fdca26"
             ],
             [
              1,
              "#f0f921"
             ]
            ],
            "type": "surface"
           }
          ],
          "table": [
           {
            "cells": {
             "fill": {
              "color": "#EBF0F8"
             },
             "line": {
              "color": "white"
             }
            },
            "header": {
             "fill": {
              "color": "#C8D4E3"
             },
             "line": {
              "color": "white"
             }
            },
            "type": "table"
           }
          ]
         },
         "layout": {
          "annotationdefaults": {
           "arrowcolor": "#2a3f5f",
           "arrowhead": 0,
           "arrowwidth": 1
          },
          "autotypenumbers": "strict",
          "coloraxis": {
           "colorbar": {
            "outlinewidth": 0,
            "ticks": ""
           }
          },
          "colorscale": {
           "diverging": [
            [
             0,
             "#8e0152"
            ],
            [
             0.1,
             "#c51b7d"
            ],
            [
             0.2,
             "#de77ae"
            ],
            [
             0.3,
             "#f1b6da"
            ],
            [
             0.4,
             "#fde0ef"
            ],
            [
             0.5,
             "#f7f7f7"
            ],
            [
             0.6,
             "#e6f5d0"
            ],
            [
             0.7,
             "#b8e186"
            ],
            [
             0.8,
             "#7fbc41"
            ],
            [
             0.9,
             "#4d9221"
            ],
            [
             1,
             "#276419"
            ]
           ],
           "sequential": [
            [
             0,
             "#0d0887"
            ],
            [
             0.1111111111111111,
             "#46039f"
            ],
            [
             0.2222222222222222,
             "#7201a8"
            ],
            [
             0.3333333333333333,
             "#9c179e"
            ],
            [
             0.4444444444444444,
             "#bd3786"
            ],
            [
             0.5555555555555556,
             "#d8576b"
            ],
            [
             0.6666666666666666,
             "#ed7953"
            ],
            [
             0.7777777777777778,
             "#fb9f3a"
            ],
            [
             0.8888888888888888,
             "#fdca26"
            ],
            [
             1,
             "#f0f921"
            ]
           ],
           "sequentialminus": [
            [
             0,
             "#0d0887"
            ],
            [
             0.1111111111111111,
             "#46039f"
            ],
            [
             0.2222222222222222,
             "#7201a8"
            ],
            [
             0.3333333333333333,
             "#9c179e"
            ],
            [
             0.4444444444444444,
             "#bd3786"
            ],
            [
             0.5555555555555556,
             "#d8576b"
            ],
            [
             0.6666666666666666,
             "#ed7953"
            ],
            [
             0.7777777777777778,
             "#fb9f3a"
            ],
            [
             0.8888888888888888,
             "#fdca26"
            ],
            [
             1,
             "#f0f921"
            ]
           ]
          },
          "colorway": [
           "#636efa",
           "#EF553B",
           "#00cc96",
           "#ab63fa",
           "#FFA15A",
           "#19d3f3",
           "#FF6692",
           "#B6E880",
           "#FF97FF",
           "#FECB52"
          ],
          "font": {
           "color": "#2a3f5f"
          },
          "geo": {
           "bgcolor": "white",
           "lakecolor": "white",
           "landcolor": "#E5ECF6",
           "showlakes": true,
           "showland": true,
           "subunitcolor": "white"
          },
          "hoverlabel": {
           "align": "left"
          },
          "hovermode": "closest",
          "mapbox": {
           "style": "light"
          },
          "paper_bgcolor": "white",
          "plot_bgcolor": "#E5ECF6",
          "polar": {
           "angularaxis": {
            "gridcolor": "white",
            "linecolor": "white",
            "ticks": ""
           },
           "bgcolor": "#E5ECF6",
           "radialaxis": {
            "gridcolor": "white",
            "linecolor": "white",
            "ticks": ""
           }
          },
          "scene": {
           "xaxis": {
            "backgroundcolor": "#E5ECF6",
            "gridcolor": "white",
            "gridwidth": 2,
            "linecolor": "white",
            "showbackground": true,
            "ticks": "",
            "zerolinecolor": "white"
           },
           "yaxis": {
            "backgroundcolor": "#E5ECF6",
            "gridcolor": "white",
            "gridwidth": 2,
            "linecolor": "white",
            "showbackground": true,
            "ticks": "",
            "zerolinecolor": "white"
           },
           "zaxis": {
            "backgroundcolor": "#E5ECF6",
            "gridcolor": "white",
            "gridwidth": 2,
            "linecolor": "white",
            "showbackground": true,
            "ticks": "",
            "zerolinecolor": "white"
           }
          },
          "shapedefaults": {
           "line": {
            "color": "#2a3f5f"
           }
          },
          "ternary": {
           "aaxis": {
            "gridcolor": "white",
            "linecolor": "white",
            "ticks": ""
           },
           "baxis": {
            "gridcolor": "white",
            "linecolor": "white",
            "ticks": ""
           },
           "bgcolor": "#E5ECF6",
           "caxis": {
            "gridcolor": "white",
            "linecolor": "white",
            "ticks": ""
           }
          },
          "title": {
           "x": 0.05
          },
          "xaxis": {
           "automargin": true,
           "gridcolor": "white",
           "linecolor": "white",
           "ticks": "",
           "title": {
            "standoff": 15
           },
           "zerolinecolor": "white",
           "zerolinewidth": 2
          },
          "yaxis": {
           "automargin": true,
           "gridcolor": "white",
           "linecolor": "white",
           "ticks": "",
           "title": {
            "standoff": 15
           },
           "zerolinecolor": "white",
           "zerolinewidth": 2
          }
         }
        },
        "width": 800
       }
      }
     },
     "metadata": {},
     "output_type": "display_data"
    }
   ],
   "source": [
    "color_scale = [(0, 'orange'), (1,'red')]\n",
    "\n",
    "fig = px.scatter_mapbox(df_end, \n",
    "                        lat=\"end_station_latitude\", \n",
    "                        lon=\"end_station_longitude\", \n",
    "                        color='counts_end',\n",
    "                        color_continuous_scale=color_scale,\n",
    "                        size='counts_end',\n",
    "                        zoom=8, \n",
    "                        height=800,\n",
    "                        width=800)\n",
    "\n",
    "\n",
    "fig.update_layout(mapbox_style=\"open-street-map\")\n",
    "fig.update_layout(margin={\"r\":0,\"t\":0,\"l\":0,\"b\":0})\n",
    "fig.show()"
   ]
  },
  {
   "attachments": {},
   "cell_type": "markdown",
   "metadata": {},
   "source": [
    "### Share of different station"
   ]
  },
  {
   "cell_type": "code",
   "execution_count": 34,
   "metadata": {},
   "outputs": [
    {
     "data": {
      "text/html": [
       "<div>\n",
       "<style scoped>\n",
       "    .dataframe tbody tr th:only-of-type {\n",
       "        vertical-align: middle;\n",
       "    }\n",
       "\n",
       "    .dataframe tbody tr th {\n",
       "        vertical-align: top;\n",
       "    }\n",
       "\n",
       "    .dataframe thead th {\n",
       "        text-align: right;\n",
       "    }\n",
       "</style>\n",
       "<table border=\"1\" class=\"dataframe\">\n",
       "  <thead>\n",
       "    <tr style=\"text-align: right;\">\n",
       "      <th></th>\n",
       "      <th>start_station_id</th>\n",
       "      <th>start_station_latitude</th>\n",
       "      <th>start_station_longitude</th>\n",
       "      <th>counts_start</th>\n",
       "      <th>total_rides</th>\n",
       "      <th>share</th>\n",
       "    </tr>\n",
       "  </thead>\n",
       "  <tbody>\n",
       "    <tr>\n",
       "      <th>19</th>\n",
       "      <td>22</td>\n",
       "      <td>42.352175</td>\n",
       "      <td>-71.055547</td>\n",
       "      <td>30798</td>\n",
       "      <td>62082</td>\n",
       "      <td>2.765205</td>\n",
       "    </tr>\n",
       "    <tr>\n",
       "      <th>61</th>\n",
       "      <td>67</td>\n",
       "      <td>42.358100</td>\n",
       "      <td>-71.093198</td>\n",
       "      <td>29597</td>\n",
       "      <td>59502</td>\n",
       "      <td>2.650289</td>\n",
       "    </tr>\n",
       "    <tr>\n",
       "      <th>68</th>\n",
       "      <td>74</td>\n",
       "      <td>42.373268</td>\n",
       "      <td>-71.118579</td>\n",
       "      <td>22679</td>\n",
       "      <td>46269</td>\n",
       "      <td>2.060875</td>\n",
       "    </tr>\n",
       "    <tr>\n",
       "      <th>62</th>\n",
       "      <td>68</td>\n",
       "      <td>42.365070</td>\n",
       "      <td>-71.103100</td>\n",
       "      <td>21444</td>\n",
       "      <td>42330</td>\n",
       "      <td>1.885428</td>\n",
       "    </tr>\n",
       "    <tr>\n",
       "      <th>101</th>\n",
       "      <td>109</td>\n",
       "      <td>42.365942</td>\n",
       "      <td>-71.060515</td>\n",
       "      <td>18678</td>\n",
       "      <td>39202</td>\n",
       "      <td>1.746103</td>\n",
       "    </tr>\n",
       "  </tbody>\n",
       "</table>\n",
       "</div>"
      ],
      "text/plain": [
       "     start_station_id  start_station_latitude  start_station_longitude  \\\n",
       "19                 22               42.352175               -71.055547   \n",
       "61                 67               42.358100               -71.093198   \n",
       "68                 74               42.373268               -71.118579   \n",
       "62                 68               42.365070               -71.103100   \n",
       "101               109               42.365942               -71.060515   \n",
       "\n",
       "     counts_start  total_rides     share  \n",
       "19          30798        62082  2.765205  \n",
       "61          29597        59502  2.650289  \n",
       "68          22679        46269  2.060875  \n",
       "62          21444        42330  1.885428  \n",
       "101         18678        39202  1.746103  "
      ]
     },
     "execution_count": 34,
     "metadata": {},
     "output_type": "execute_result"
    }
   ],
   "source": [
    "#share of different stations, most frequently used stations\n",
    "df_station_share = df_start.copy()\n",
    "df_station_share['total_rides'] = df_start['counts_start'] + df_end['counts_end']\n",
    "yearly_total_rides = sum(df_station_share['total_rides'])\n",
    "df_station_share['share'] = (df_station_share['total_rides'] / yearly_total_rides)*100\n",
    "df_station_share.sort_values('share', ascending=False).head(5)"
   ]
  },
  {
   "attachments": {},
   "cell_type": "markdown",
   "metadata": {},
   "source": [
    "### plot most used routes"
   ]
  },
  {
   "cell_type": "code",
   "execution_count": null,
   "metadata": {},
   "outputs": [
    {
     "data": {
      "text/html": [
       "<div>\n",
       "<style scoped>\n",
       "    .dataframe tbody tr th:only-of-type {\n",
       "        vertical-align: middle;\n",
       "    }\n",
       "\n",
       "    .dataframe tbody tr th {\n",
       "        vertical-align: top;\n",
       "    }\n",
       "\n",
       "    .dataframe thead th {\n",
       "        text-align: right;\n",
       "    }\n",
       "</style>\n",
       "<table border=\"1\" class=\"dataframe\">\n",
       "  <thead>\n",
       "    <tr style=\"text-align: right;\">\n",
       "      <th></th>\n",
       "      <th>start_station_id</th>\n",
       "      <th>end_station_id</th>\n",
       "      <th>start_station_latitude</th>\n",
       "      <th>start_station_longitude</th>\n",
       "      <th>end_station_latitude</th>\n",
       "      <th>end_station_longitude</th>\n",
       "      <th>count_trips</th>\n",
       "    </tr>\n",
       "  </thead>\n",
       "  <tbody>\n",
       "    <tr>\n",
       "      <th>0</th>\n",
       "      <td>118</td>\n",
       "      <td>100</td>\n",
       "      <td>42.397828</td>\n",
       "      <td>-71.130516</td>\n",
       "      <td>42.396969</td>\n",
       "      <td>-71.123024</td>\n",
       "      <td>3020</td>\n",
       "    </tr>\n",
       "    <tr>\n",
       "      <th>1</th>\n",
       "      <td>100</td>\n",
       "      <td>118</td>\n",
       "      <td>42.396969</td>\n",
       "      <td>-71.123024</td>\n",
       "      <td>42.397828</td>\n",
       "      <td>-71.130516</td>\n",
       "      <td>2755</td>\n",
       "    </tr>\n",
       "    <tr>\n",
       "      <th>2</th>\n",
       "      <td>114</td>\n",
       "      <td>100</td>\n",
       "      <td>42.402763</td>\n",
       "      <td>-71.126908</td>\n",
       "      <td>42.396969</td>\n",
       "      <td>-71.123024</td>\n",
       "      <td>2047</td>\n",
       "    </tr>\n",
       "    <tr>\n",
       "      <th>3</th>\n",
       "      <td>67</td>\n",
       "      <td>53</td>\n",
       "      <td>42.358100</td>\n",
       "      <td>-71.093198</td>\n",
       "      <td>42.350851</td>\n",
       "      <td>-71.089886</td>\n",
       "      <td>2026</td>\n",
       "    </tr>\n",
       "    <tr>\n",
       "      <th>4</th>\n",
       "      <td>40</td>\n",
       "      <td>22</td>\n",
       "      <td>42.363871</td>\n",
       "      <td>-71.050877</td>\n",
       "      <td>42.352175</td>\n",
       "      <td>-71.055547</td>\n",
       "      <td>1982</td>\n",
       "    </tr>\n",
       "    <tr>\n",
       "      <th>5</th>\n",
       "      <td>67</td>\n",
       "      <td>68</td>\n",
       "      <td>42.358100</td>\n",
       "      <td>-71.093198</td>\n",
       "      <td>42.365070</td>\n",
       "      <td>-71.103100</td>\n",
       "      <td>1845</td>\n",
       "    </tr>\n",
       "    <tr>\n",
       "      <th>6</th>\n",
       "      <td>53</td>\n",
       "      <td>67</td>\n",
       "      <td>42.350851</td>\n",
       "      <td>-71.089886</td>\n",
       "      <td>42.358100</td>\n",
       "      <td>-71.093198</td>\n",
       "      <td>1783</td>\n",
       "    </tr>\n",
       "    <tr>\n",
       "      <th>7</th>\n",
       "      <td>22</td>\n",
       "      <td>40</td>\n",
       "      <td>42.352175</td>\n",
       "      <td>-71.055547</td>\n",
       "      <td>42.363871</td>\n",
       "      <td>-71.050877</td>\n",
       "      <td>1741</td>\n",
       "    </tr>\n",
       "    <tr>\n",
       "      <th>8</th>\n",
       "      <td>68</td>\n",
       "      <td>67</td>\n",
       "      <td>42.365070</td>\n",
       "      <td>-71.103100</td>\n",
       "      <td>42.358100</td>\n",
       "      <td>-71.093198</td>\n",
       "      <td>1610</td>\n",
       "    </tr>\n",
       "    <tr>\n",
       "      <th>9</th>\n",
       "      <td>20</td>\n",
       "      <td>22</td>\n",
       "      <td>42.359770</td>\n",
       "      <td>-71.051601</td>\n",
       "      <td>42.352175</td>\n",
       "      <td>-71.055547</td>\n",
       "      <td>1531</td>\n",
       "    </tr>\n",
       "  </tbody>\n",
       "</table>\n",
       "</div>"
      ],
      "text/plain": [
       "   start_station_id  end_station_id  start_station_latitude  \\\n",
       "0               118             100               42.397828   \n",
       "1               100             118               42.396969   \n",
       "2               114             100               42.402763   \n",
       "3                67              53               42.358100   \n",
       "4                40              22               42.363871   \n",
       "5                67              68               42.358100   \n",
       "6                53              67               42.350851   \n",
       "7                22              40               42.352175   \n",
       "8                68              67               42.365070   \n",
       "9                20              22               42.359770   \n",
       "\n",
       "   start_station_longitude  end_station_latitude  end_station_longitude  \\\n",
       "0               -71.130516             42.396969             -71.123024   \n",
       "1               -71.123024             42.397828             -71.130516   \n",
       "2               -71.126908             42.396969             -71.123024   \n",
       "3               -71.093198             42.350851             -71.089886   \n",
       "4               -71.050877             42.352175             -71.055547   \n",
       "5               -71.093198             42.365070             -71.103100   \n",
       "6               -71.089886             42.358100             -71.093198   \n",
       "7               -71.055547             42.363871             -71.050877   \n",
       "8               -71.103100             42.358100             -71.093198   \n",
       "9               -71.051601             42.352175             -71.055547   \n",
       "\n",
       "   count_trips  \n",
       "0         3020  \n",
       "1         2755  \n",
       "2         2047  \n",
       "3         2026  \n",
       "4         1982  \n",
       "5         1845  \n",
       "6         1783  \n",
       "7         1741  \n",
       "8         1610  \n",
       "9         1531  "
      ]
     },
     "execution_count": 118,
     "metadata": {},
     "output_type": "execute_result"
    }
   ],
   "source": [
    "#number of trips between a start and end station\n",
    "\n",
    "df_trips = df_boston.groupby(['start_station_id','end_station_id', 'start_station_latitude', 'start_station_longitude', 'end_station_latitude', 'end_station_longitude']).size().reset_index(name='count_trips')\n",
    "\n",
    "df_trips = df_trips.sort_values('count_trips', ascending = False)\n",
    "\n",
    "df_trips.index = range(0, len(df_trips))\n",
    "\n",
    "df_trips.head(10)"
   ]
  },
  {
   "cell_type": "code",
   "execution_count": null,
   "metadata": {},
   "outputs": [
    {
     "data": {
      "text/html": [
       "<div style=\"width:100%;\"><div style=\"position:relative;width:100%;height:0;padding-bottom:60%;\"><span style=\"color:#565656\">Make this Notebook Trusted to load map: File -> Trust Notebook</span><iframe srcdoc=\"&lt;!DOCTYPE html&gt;\n",
       "&lt;html&gt;\n",
       "&lt;head&gt;\n",
       "    \n",
       "    &lt;meta http-equiv=&quot;content-type&quot; content=&quot;text/html; charset=UTF-8&quot; /&gt;\n",
       "    \n",
       "        &lt;script&gt;\n",
       "            L_NO_TOUCH = false;\n",
       "            L_DISABLE_3D = false;\n",
       "        &lt;/script&gt;\n",
       "    \n",
       "    &lt;style&gt;html, body {width: 100%;height: 100%;margin: 0;padding: 0;}&lt;/style&gt;\n",
       "    &lt;style&gt;#map {position:absolute;top:0;bottom:0;right:0;left:0;}&lt;/style&gt;\n",
       "    &lt;script src=&quot;https://cdn.jsdelivr.net/npm/leaflet@1.9.3/dist/leaflet.js&quot;&gt;&lt;/script&gt;\n",
       "    &lt;script src=&quot;https://code.jquery.com/jquery-1.12.4.min.js&quot;&gt;&lt;/script&gt;\n",
       "    &lt;script src=&quot;https://cdn.jsdelivr.net/npm/bootstrap@5.2.2/dist/js/bootstrap.bundle.min.js&quot;&gt;&lt;/script&gt;\n",
       "    &lt;script src=&quot;https://cdnjs.cloudflare.com/ajax/libs/Leaflet.awesome-markers/2.0.2/leaflet.awesome-markers.js&quot;&gt;&lt;/script&gt;\n",
       "    &lt;link rel=&quot;stylesheet&quot; href=&quot;https://cdn.jsdelivr.net/npm/leaflet@1.9.3/dist/leaflet.css&quot;/&gt;\n",
       "    &lt;link rel=&quot;stylesheet&quot; href=&quot;https://cdn.jsdelivr.net/npm/bootstrap@5.2.2/dist/css/bootstrap.min.css&quot;/&gt;\n",
       "    &lt;link rel=&quot;stylesheet&quot; href=&quot;https://netdna.bootstrapcdn.com/bootstrap/3.0.0/css/bootstrap.min.css&quot;/&gt;\n",
       "    &lt;link rel=&quot;stylesheet&quot; href=&quot;https://cdn.jsdelivr.net/npm/@fortawesome/fontawesome-free@6.2.0/css/all.min.css&quot;/&gt;\n",
       "    &lt;link rel=&quot;stylesheet&quot; href=&quot;https://cdnjs.cloudflare.com/ajax/libs/Leaflet.awesome-markers/2.0.2/leaflet.awesome-markers.css&quot;/&gt;\n",
       "    &lt;link rel=&quot;stylesheet&quot; href=&quot;https://cdn.jsdelivr.net/gh/python-visualization/folium/folium/templates/leaflet.awesome.rotate.min.css&quot;/&gt;\n",
       "    \n",
       "            &lt;meta name=&quot;viewport&quot; content=&quot;width=device-width,\n",
       "                initial-scale=1.0, maximum-scale=1.0, user-scalable=no&quot; /&gt;\n",
       "            &lt;style&gt;\n",
       "                #map_7046c20900bbe72a3c389db89cd68fb0 {\n",
       "                    position: relative;\n",
       "                    width: 100.0%;\n",
       "                    height: 100.0%;\n",
       "                    left: 0.0%;\n",
       "                    top: 0.0%;\n",
       "                }\n",
       "                .leaflet-container { font-size: 1rem; }\n",
       "            &lt;/style&gt;\n",
       "        \n",
       "&lt;/head&gt;\n",
       "&lt;body&gt;\n",
       "    \n",
       "    \n",
       "            &lt;div class=&quot;folium-map&quot; id=&quot;map_7046c20900bbe72a3c389db89cd68fb0&quot; &gt;&lt;/div&gt;\n",
       "        \n",
       "&lt;/body&gt;\n",
       "&lt;script&gt;\n",
       "    \n",
       "    \n",
       "            var map_7046c20900bbe72a3c389db89cd68fb0 = L.map(\n",
       "                &quot;map_7046c20900bbe72a3c389db89cd68fb0&quot;,\n",
       "                {\n",
       "                    center: [42.355932906653216, -71.08880095944758],\n",
       "                    crs: L.CRS.EPSG3857,\n",
       "                    zoom: 15,\n",
       "                    zoomControl: true,\n",
       "                    preferCanvas: false,\n",
       "                }\n",
       "            );\n",
       "\n",
       "            \n",
       "\n",
       "        \n",
       "    \n",
       "            var tile_layer_6e49d48573f99a805058b79e6482b92a = L.tileLayer(\n",
       "                &quot;https://{s}.tile.openstreetmap.org/{z}/{x}/{y}.png&quot;,\n",
       "                {&quot;attribution&quot;: &quot;Data by \\u0026copy; \\u003ca target=\\&quot;_blank\\&quot; href=\\&quot;http://openstreetmap.org\\&quot;\\u003eOpenStreetMap\\u003c/a\\u003e, under \\u003ca target=\\&quot;_blank\\&quot; href=\\&quot;http://www.openstreetmap.org/copyright\\&quot;\\u003eODbL\\u003c/a\\u003e.&quot;, &quot;detectRetina&quot;: false, &quot;maxNativeZoom&quot;: 18, &quot;maxZoom&quot;: 18, &quot;minZoom&quot;: 0, &quot;noWrap&quot;: false, &quot;opacity&quot;: 1, &quot;subdomains&quot;: &quot;abc&quot;, &quot;tms&quot;: false}\n",
       "            ).addTo(map_7046c20900bbe72a3c389db89cd68fb0);\n",
       "        \n",
       "    \n",
       "            var poly_line_b707f17f4d214ca2633da5ae68756775 = L.polyline(\n",
       "                [[42.397828, -71.130516], [42.396969, -71.123024]],\n",
       "                {&quot;bubblingMouseEvents&quot;: true, &quot;color&quot;: &quot;red&quot;, &quot;dashArray&quot;: null, &quot;dashOffset&quot;: null, &quot;fill&quot;: false, &quot;fillColor&quot;: &quot;red&quot;, &quot;fillOpacity&quot;: 0.2, &quot;fillRule&quot;: &quot;evenodd&quot;, &quot;lineCap&quot;: &quot;round&quot;, &quot;lineJoin&quot;: &quot;round&quot;, &quot;noClip&quot;: false, &quot;opacity&quot;: 1, &quot;smoothFactor&quot;: 1.0, &quot;stroke&quot;: true, &quot;weight&quot;: 2.5}\n",
       "            ).addTo(map_7046c20900bbe72a3c389db89cd68fb0);\n",
       "        \n",
       "    \n",
       "            var marker_11b40c9ee0da45146150c93beb63ebfb = L.marker(\n",
       "                [42.397828, -71.130516],\n",
       "                {}\n",
       "            ).addTo(map_7046c20900bbe72a3c389db89cd68fb0);\n",
       "        \n",
       "    \n",
       "            var icon_40a10e1162c0abc165b7ba0fff09268e = L.AwesomeMarkers.icon(\n",
       "                {&quot;extraClasses&quot;: &quot;fa-rotate-0&quot;, &quot;icon&quot;: &quot;bicycle&quot;, &quot;iconColor&quot;: &quot;white&quot;, &quot;markerColor&quot;: &quot;green&quot;, &quot;prefix&quot;: &quot;fa&quot;}\n",
       "            );\n",
       "            marker_11b40c9ee0da45146150c93beb63ebfb.setIcon(icon_40a10e1162c0abc165b7ba0fff09268e);\n",
       "        \n",
       "    \n",
       "        var popup_97f0d9fe7785aa39a96d1a13b3b08241 = L.popup({&quot;maxWidth&quot;: &quot;100%&quot;});\n",
       "\n",
       "        \n",
       "            \n",
       "                var html_13947c18620b9138eef6e92a2bd034be = $(`&lt;div id=&quot;html_13947c18620b9138eef6e92a2bd034be&quot; style=&quot;width: 100.0%; height: 100.0%;&quot;&gt;(118.0, 3020.0)&lt;/div&gt;`)[0];\n",
       "                popup_97f0d9fe7785aa39a96d1a13b3b08241.setContent(html_13947c18620b9138eef6e92a2bd034be);\n",
       "            \n",
       "        \n",
       "\n",
       "        marker_11b40c9ee0da45146150c93beb63ebfb.bindPopup(popup_97f0d9fe7785aa39a96d1a13b3b08241)\n",
       "        ;\n",
       "\n",
       "        \n",
       "    \n",
       "    \n",
       "            var marker_49b0415886fdd69abe4ce3cc19d323c9 = L.marker(\n",
       "                [42.396969, -71.123024],\n",
       "                {}\n",
       "            ).addTo(map_7046c20900bbe72a3c389db89cd68fb0);\n",
       "        \n",
       "    \n",
       "            var icon_7095d2bb9cbfcaf41d045dd0e504271c = L.AwesomeMarkers.icon(\n",
       "                {&quot;extraClasses&quot;: &quot;fa-rotate-0&quot;, &quot;icon&quot;: &quot;bicycle&quot;, &quot;iconColor&quot;: &quot;white&quot;, &quot;markerColor&quot;: &quot;red&quot;, &quot;prefix&quot;: &quot;fa&quot;}\n",
       "            );\n",
       "            marker_49b0415886fdd69abe4ce3cc19d323c9.setIcon(icon_7095d2bb9cbfcaf41d045dd0e504271c);\n",
       "        \n",
       "    \n",
       "        var popup_7abb090aedcff53d7504567fbcc7a80c = L.popup({&quot;maxWidth&quot;: &quot;100%&quot;});\n",
       "\n",
       "        \n",
       "            \n",
       "                var html_658b93a0d5e1263a00fe2c2c9a855fa3 = $(`&lt;div id=&quot;html_658b93a0d5e1263a00fe2c2c9a855fa3&quot; style=&quot;width: 100.0%; height: 100.0%;&quot;&gt;(100.0, 3020.0)&lt;/div&gt;`)[0];\n",
       "                popup_7abb090aedcff53d7504567fbcc7a80c.setContent(html_658b93a0d5e1263a00fe2c2c9a855fa3);\n",
       "            \n",
       "        \n",
       "\n",
       "        marker_49b0415886fdd69abe4ce3cc19d323c9.bindPopup(popup_7abb090aedcff53d7504567fbcc7a80c)\n",
       "        ;\n",
       "\n",
       "        \n",
       "    \n",
       "    \n",
       "            var poly_line_62d2adf6a8a8ca9081949a8a15b0b321 = L.polyline(\n",
       "                [[42.396969, -71.123024], [42.397828, -71.130516]],\n",
       "                {&quot;bubblingMouseEvents&quot;: true, &quot;color&quot;: &quot;red&quot;, &quot;dashArray&quot;: null, &quot;dashOffset&quot;: null, &quot;fill&quot;: false, &quot;fillColor&quot;: &quot;red&quot;, &quot;fillOpacity&quot;: 0.2, &quot;fillRule&quot;: &quot;evenodd&quot;, &quot;lineCap&quot;: &quot;round&quot;, &quot;lineJoin&quot;: &quot;round&quot;, &quot;noClip&quot;: false, &quot;opacity&quot;: 1, &quot;smoothFactor&quot;: 1.0, &quot;stroke&quot;: true, &quot;weight&quot;: 2.5}\n",
       "            ).addTo(map_7046c20900bbe72a3c389db89cd68fb0);\n",
       "        \n",
       "    \n",
       "            var marker_6cf46df5c091c7b225fa148d3a49be12 = L.marker(\n",
       "                [42.396969, -71.123024],\n",
       "                {}\n",
       "            ).addTo(map_7046c20900bbe72a3c389db89cd68fb0);\n",
       "        \n",
       "    \n",
       "            var icon_20f745614724c7d1a556f4f285397a5b = L.AwesomeMarkers.icon(\n",
       "                {&quot;extraClasses&quot;: &quot;fa-rotate-0&quot;, &quot;icon&quot;: &quot;bicycle&quot;, &quot;iconColor&quot;: &quot;white&quot;, &quot;markerColor&quot;: &quot;green&quot;, &quot;prefix&quot;: &quot;fa&quot;}\n",
       "            );\n",
       "            marker_6cf46df5c091c7b225fa148d3a49be12.setIcon(icon_20f745614724c7d1a556f4f285397a5b);\n",
       "        \n",
       "    \n",
       "        var popup_6dec19678b72ab4995072b2b8ef2917f = L.popup({&quot;maxWidth&quot;: &quot;100%&quot;});\n",
       "\n",
       "        \n",
       "            \n",
       "                var html_acca34279846ae62cf025676d884359d = $(`&lt;div id=&quot;html_acca34279846ae62cf025676d884359d&quot; style=&quot;width: 100.0%; height: 100.0%;&quot;&gt;(100.0, 2755.0)&lt;/div&gt;`)[0];\n",
       "                popup_6dec19678b72ab4995072b2b8ef2917f.setContent(html_acca34279846ae62cf025676d884359d);\n",
       "            \n",
       "        \n",
       "\n",
       "        marker_6cf46df5c091c7b225fa148d3a49be12.bindPopup(popup_6dec19678b72ab4995072b2b8ef2917f)\n",
       "        ;\n",
       "\n",
       "        \n",
       "    \n",
       "    \n",
       "            var marker_e1cf93a9369ba1e10688d3e3f475710d = L.marker(\n",
       "                [42.397828, -71.130516],\n",
       "                {}\n",
       "            ).addTo(map_7046c20900bbe72a3c389db89cd68fb0);\n",
       "        \n",
       "    \n",
       "            var icon_e96804f2108bba28678e87d4182db22e = L.AwesomeMarkers.icon(\n",
       "                {&quot;extraClasses&quot;: &quot;fa-rotate-0&quot;, &quot;icon&quot;: &quot;bicycle&quot;, &quot;iconColor&quot;: &quot;white&quot;, &quot;markerColor&quot;: &quot;red&quot;, &quot;prefix&quot;: &quot;fa&quot;}\n",
       "            );\n",
       "            marker_e1cf93a9369ba1e10688d3e3f475710d.setIcon(icon_e96804f2108bba28678e87d4182db22e);\n",
       "        \n",
       "    \n",
       "        var popup_21a9930cec3d94f41520205715beb4dd = L.popup({&quot;maxWidth&quot;: &quot;100%&quot;});\n",
       "\n",
       "        \n",
       "            \n",
       "                var html_18cc5a2cf4b11e9037b260c9abf2be88 = $(`&lt;div id=&quot;html_18cc5a2cf4b11e9037b260c9abf2be88&quot; style=&quot;width: 100.0%; height: 100.0%;&quot;&gt;(118.0, 2755.0)&lt;/div&gt;`)[0];\n",
       "                popup_21a9930cec3d94f41520205715beb4dd.setContent(html_18cc5a2cf4b11e9037b260c9abf2be88);\n",
       "            \n",
       "        \n",
       "\n",
       "        marker_e1cf93a9369ba1e10688d3e3f475710d.bindPopup(popup_21a9930cec3d94f41520205715beb4dd)\n",
       "        ;\n",
       "\n",
       "        \n",
       "    \n",
       "    \n",
       "            var poly_line_e7f18e39af3a3e9c9591a8d5dca8766f = L.polyline(\n",
       "                [[42.402763, -71.126908], [42.396969, -71.123024]],\n",
       "                {&quot;bubblingMouseEvents&quot;: true, &quot;color&quot;: &quot;red&quot;, &quot;dashArray&quot;: null, &quot;dashOffset&quot;: null, &quot;fill&quot;: false, &quot;fillColor&quot;: &quot;red&quot;, &quot;fillOpacity&quot;: 0.2, &quot;fillRule&quot;: &quot;evenodd&quot;, &quot;lineCap&quot;: &quot;round&quot;, &quot;lineJoin&quot;: &quot;round&quot;, &quot;noClip&quot;: false, &quot;opacity&quot;: 1, &quot;smoothFactor&quot;: 1.0, &quot;stroke&quot;: true, &quot;weight&quot;: 2.5}\n",
       "            ).addTo(map_7046c20900bbe72a3c389db89cd68fb0);\n",
       "        \n",
       "    \n",
       "            var marker_d1e47b26a7716965f5c84dde255707c3 = L.marker(\n",
       "                [42.402763, -71.126908],\n",
       "                {}\n",
       "            ).addTo(map_7046c20900bbe72a3c389db89cd68fb0);\n",
       "        \n",
       "    \n",
       "            var icon_6c972fb1cdb399543e0c26916b87f1ed = L.AwesomeMarkers.icon(\n",
       "                {&quot;extraClasses&quot;: &quot;fa-rotate-0&quot;, &quot;icon&quot;: &quot;bicycle&quot;, &quot;iconColor&quot;: &quot;white&quot;, &quot;markerColor&quot;: &quot;green&quot;, &quot;prefix&quot;: &quot;fa&quot;}\n",
       "            );\n",
       "            marker_d1e47b26a7716965f5c84dde255707c3.setIcon(icon_6c972fb1cdb399543e0c26916b87f1ed);\n",
       "        \n",
       "    \n",
       "        var popup_e05b0d38893bb7c99167742b8a4ee255 = L.popup({&quot;maxWidth&quot;: &quot;100%&quot;});\n",
       "\n",
       "        \n",
       "            \n",
       "                var html_2831dee67d5c1b97865ed070bc55dd79 = $(`&lt;div id=&quot;html_2831dee67d5c1b97865ed070bc55dd79&quot; style=&quot;width: 100.0%; height: 100.0%;&quot;&gt;(114.0, 2047.0)&lt;/div&gt;`)[0];\n",
       "                popup_e05b0d38893bb7c99167742b8a4ee255.setContent(html_2831dee67d5c1b97865ed070bc55dd79);\n",
       "            \n",
       "        \n",
       "\n",
       "        marker_d1e47b26a7716965f5c84dde255707c3.bindPopup(popup_e05b0d38893bb7c99167742b8a4ee255)\n",
       "        ;\n",
       "\n",
       "        \n",
       "    \n",
       "    \n",
       "            var marker_fa03d893ada5d48ec3b0918888b6799c = L.marker(\n",
       "                [42.396969, -71.123024],\n",
       "                {}\n",
       "            ).addTo(map_7046c20900bbe72a3c389db89cd68fb0);\n",
       "        \n",
       "    \n",
       "            var icon_1cef420e745bfb3961f73215001a8920 = L.AwesomeMarkers.icon(\n",
       "                {&quot;extraClasses&quot;: &quot;fa-rotate-0&quot;, &quot;icon&quot;: &quot;bicycle&quot;, &quot;iconColor&quot;: &quot;white&quot;, &quot;markerColor&quot;: &quot;red&quot;, &quot;prefix&quot;: &quot;fa&quot;}\n",
       "            );\n",
       "            marker_fa03d893ada5d48ec3b0918888b6799c.setIcon(icon_1cef420e745bfb3961f73215001a8920);\n",
       "        \n",
       "    \n",
       "        var popup_0d6e2b778acaa29ea2dffb11e5dbed1e = L.popup({&quot;maxWidth&quot;: &quot;100%&quot;});\n",
       "\n",
       "        \n",
       "            \n",
       "                var html_c56d9e5c9dca5760a3b0a12eb822cb25 = $(`&lt;div id=&quot;html_c56d9e5c9dca5760a3b0a12eb822cb25&quot; style=&quot;width: 100.0%; height: 100.0%;&quot;&gt;(100.0, 2047.0)&lt;/div&gt;`)[0];\n",
       "                popup_0d6e2b778acaa29ea2dffb11e5dbed1e.setContent(html_c56d9e5c9dca5760a3b0a12eb822cb25);\n",
       "            \n",
       "        \n",
       "\n",
       "        marker_fa03d893ada5d48ec3b0918888b6799c.bindPopup(popup_0d6e2b778acaa29ea2dffb11e5dbed1e)\n",
       "        ;\n",
       "\n",
       "        \n",
       "    \n",
       "    \n",
       "            var poly_line_faa6330fd4e00be32314f9589cf731e8 = L.polyline(\n",
       "                [[42.3581, -71.093198], [42.350851, -71.089886]],\n",
       "                {&quot;bubblingMouseEvents&quot;: true, &quot;color&quot;: &quot;red&quot;, &quot;dashArray&quot;: null, &quot;dashOffset&quot;: null, &quot;fill&quot;: false, &quot;fillColor&quot;: &quot;red&quot;, &quot;fillOpacity&quot;: 0.2, &quot;fillRule&quot;: &quot;evenodd&quot;, &quot;lineCap&quot;: &quot;round&quot;, &quot;lineJoin&quot;: &quot;round&quot;, &quot;noClip&quot;: false, &quot;opacity&quot;: 1, &quot;smoothFactor&quot;: 1.0, &quot;stroke&quot;: true, &quot;weight&quot;: 2.5}\n",
       "            ).addTo(map_7046c20900bbe72a3c389db89cd68fb0);\n",
       "        \n",
       "    \n",
       "            var marker_7cfad4fb2d7250024ea12b564634e44e = L.marker(\n",
       "                [42.3581, -71.093198],\n",
       "                {}\n",
       "            ).addTo(map_7046c20900bbe72a3c389db89cd68fb0);\n",
       "        \n",
       "    \n",
       "            var icon_61b4f126c3087640dfd5f9aaa99dd08c = L.AwesomeMarkers.icon(\n",
       "                {&quot;extraClasses&quot;: &quot;fa-rotate-0&quot;, &quot;icon&quot;: &quot;bicycle&quot;, &quot;iconColor&quot;: &quot;white&quot;, &quot;markerColor&quot;: &quot;green&quot;, &quot;prefix&quot;: &quot;fa&quot;}\n",
       "            );\n",
       "            marker_7cfad4fb2d7250024ea12b564634e44e.setIcon(icon_61b4f126c3087640dfd5f9aaa99dd08c);\n",
       "        \n",
       "    \n",
       "        var popup_fc9de50063ca5a80b70cca19d603e207 = L.popup({&quot;maxWidth&quot;: &quot;100%&quot;});\n",
       "\n",
       "        \n",
       "            \n",
       "                var html_462a29de0c2fcf3a06df3b7987dbe008 = $(`&lt;div id=&quot;html_462a29de0c2fcf3a06df3b7987dbe008&quot; style=&quot;width: 100.0%; height: 100.0%;&quot;&gt;(67.0, 2026.0)&lt;/div&gt;`)[0];\n",
       "                popup_fc9de50063ca5a80b70cca19d603e207.setContent(html_462a29de0c2fcf3a06df3b7987dbe008);\n",
       "            \n",
       "        \n",
       "\n",
       "        marker_7cfad4fb2d7250024ea12b564634e44e.bindPopup(popup_fc9de50063ca5a80b70cca19d603e207)\n",
       "        ;\n",
       "\n",
       "        \n",
       "    \n",
       "    \n",
       "            var marker_62e38dd8dd92b25d658a315272ccdfdc = L.marker(\n",
       "                [42.350851, -71.089886],\n",
       "                {}\n",
       "            ).addTo(map_7046c20900bbe72a3c389db89cd68fb0);\n",
       "        \n",
       "    \n",
       "            var icon_6756614fa5a4cacd653464264a3d7312 = L.AwesomeMarkers.icon(\n",
       "                {&quot;extraClasses&quot;: &quot;fa-rotate-0&quot;, &quot;icon&quot;: &quot;bicycle&quot;, &quot;iconColor&quot;: &quot;white&quot;, &quot;markerColor&quot;: &quot;red&quot;, &quot;prefix&quot;: &quot;fa&quot;}\n",
       "            );\n",
       "            marker_62e38dd8dd92b25d658a315272ccdfdc.setIcon(icon_6756614fa5a4cacd653464264a3d7312);\n",
       "        \n",
       "    \n",
       "        var popup_403bb139aefacaf5ab14050b945c01ac = L.popup({&quot;maxWidth&quot;: &quot;100%&quot;});\n",
       "\n",
       "        \n",
       "            \n",
       "                var html_39640734fd1f8352a8eab1e99c75c2b9 = $(`&lt;div id=&quot;html_39640734fd1f8352a8eab1e99c75c2b9&quot; style=&quot;width: 100.0%; height: 100.0%;&quot;&gt;(53.0, 2026.0)&lt;/div&gt;`)[0];\n",
       "                popup_403bb139aefacaf5ab14050b945c01ac.setContent(html_39640734fd1f8352a8eab1e99c75c2b9);\n",
       "            \n",
       "        \n",
       "\n",
       "        marker_62e38dd8dd92b25d658a315272ccdfdc.bindPopup(popup_403bb139aefacaf5ab14050b945c01ac)\n",
       "        ;\n",
       "\n",
       "        \n",
       "    \n",
       "    \n",
       "            var poly_line_d99a7c91ece03723a98cbc5135252474 = L.polyline(\n",
       "                [[42.363871, -71.050877], [42.352175, -71.055547]],\n",
       "                {&quot;bubblingMouseEvents&quot;: true, &quot;color&quot;: &quot;red&quot;, &quot;dashArray&quot;: null, &quot;dashOffset&quot;: null, &quot;fill&quot;: false, &quot;fillColor&quot;: &quot;red&quot;, &quot;fillOpacity&quot;: 0.2, &quot;fillRule&quot;: &quot;evenodd&quot;, &quot;lineCap&quot;: &quot;round&quot;, &quot;lineJoin&quot;: &quot;round&quot;, &quot;noClip&quot;: false, &quot;opacity&quot;: 1, &quot;smoothFactor&quot;: 1.0, &quot;stroke&quot;: true, &quot;weight&quot;: 2.5}\n",
       "            ).addTo(map_7046c20900bbe72a3c389db89cd68fb0);\n",
       "        \n",
       "    \n",
       "            var marker_dc3414fcd350375f7bafe3fe5b701acf = L.marker(\n",
       "                [42.363871, -71.050877],\n",
       "                {}\n",
       "            ).addTo(map_7046c20900bbe72a3c389db89cd68fb0);\n",
       "        \n",
       "    \n",
       "            var icon_620a5ecc798b6b67a09a4f273daeca33 = L.AwesomeMarkers.icon(\n",
       "                {&quot;extraClasses&quot;: &quot;fa-rotate-0&quot;, &quot;icon&quot;: &quot;bicycle&quot;, &quot;iconColor&quot;: &quot;white&quot;, &quot;markerColor&quot;: &quot;green&quot;, &quot;prefix&quot;: &quot;fa&quot;}\n",
       "            );\n",
       "            marker_dc3414fcd350375f7bafe3fe5b701acf.setIcon(icon_620a5ecc798b6b67a09a4f273daeca33);\n",
       "        \n",
       "    \n",
       "        var popup_522362b3a760aef76e9ced87081cf5ed = L.popup({&quot;maxWidth&quot;: &quot;100%&quot;});\n",
       "\n",
       "        \n",
       "            \n",
       "                var html_4aff7cb8cd0f2980a9ededaea82dcac0 = $(`&lt;div id=&quot;html_4aff7cb8cd0f2980a9ededaea82dcac0&quot; style=&quot;width: 100.0%; height: 100.0%;&quot;&gt;(40.0, 1982.0)&lt;/div&gt;`)[0];\n",
       "                popup_522362b3a760aef76e9ced87081cf5ed.setContent(html_4aff7cb8cd0f2980a9ededaea82dcac0);\n",
       "            \n",
       "        \n",
       "\n",
       "        marker_dc3414fcd350375f7bafe3fe5b701acf.bindPopup(popup_522362b3a760aef76e9ced87081cf5ed)\n",
       "        ;\n",
       "\n",
       "        \n",
       "    \n",
       "    \n",
       "            var marker_3378bcb5b4f130418221bf9eb0c9b8c5 = L.marker(\n",
       "                [42.352175, -71.055547],\n",
       "                {}\n",
       "            ).addTo(map_7046c20900bbe72a3c389db89cd68fb0);\n",
       "        \n",
       "    \n",
       "            var icon_a2b09d4f80182143d235f3d7ee524258 = L.AwesomeMarkers.icon(\n",
       "                {&quot;extraClasses&quot;: &quot;fa-rotate-0&quot;, &quot;icon&quot;: &quot;bicycle&quot;, &quot;iconColor&quot;: &quot;white&quot;, &quot;markerColor&quot;: &quot;red&quot;, &quot;prefix&quot;: &quot;fa&quot;}\n",
       "            );\n",
       "            marker_3378bcb5b4f130418221bf9eb0c9b8c5.setIcon(icon_a2b09d4f80182143d235f3d7ee524258);\n",
       "        \n",
       "    \n",
       "        var popup_02bd981310d569d5fab94d30fc32b62e = L.popup({&quot;maxWidth&quot;: &quot;100%&quot;});\n",
       "\n",
       "        \n",
       "            \n",
       "                var html_5e3247b74d214b91d908cac696dfe1a2 = $(`&lt;div id=&quot;html_5e3247b74d214b91d908cac696dfe1a2&quot; style=&quot;width: 100.0%; height: 100.0%;&quot;&gt;(22.0, 1982.0)&lt;/div&gt;`)[0];\n",
       "                popup_02bd981310d569d5fab94d30fc32b62e.setContent(html_5e3247b74d214b91d908cac696dfe1a2);\n",
       "            \n",
       "        \n",
       "\n",
       "        marker_3378bcb5b4f130418221bf9eb0c9b8c5.bindPopup(popup_02bd981310d569d5fab94d30fc32b62e)\n",
       "        ;\n",
       "\n",
       "        \n",
       "    \n",
       "    \n",
       "            var poly_line_e1d57194911cf4101292a0af53a97cb3 = L.polyline(\n",
       "                [[42.3581, -71.093198], [42.36507, -71.1031]],\n",
       "                {&quot;bubblingMouseEvents&quot;: true, &quot;color&quot;: &quot;red&quot;, &quot;dashArray&quot;: null, &quot;dashOffset&quot;: null, &quot;fill&quot;: false, &quot;fillColor&quot;: &quot;red&quot;, &quot;fillOpacity&quot;: 0.2, &quot;fillRule&quot;: &quot;evenodd&quot;, &quot;lineCap&quot;: &quot;round&quot;, &quot;lineJoin&quot;: &quot;round&quot;, &quot;noClip&quot;: false, &quot;opacity&quot;: 1, &quot;smoothFactor&quot;: 1.0, &quot;stroke&quot;: true, &quot;weight&quot;: 2.5}\n",
       "            ).addTo(map_7046c20900bbe72a3c389db89cd68fb0);\n",
       "        \n",
       "    \n",
       "            var marker_87398d56336ea24fe355d84ff5f9e9d3 = L.marker(\n",
       "                [42.3581, -71.093198],\n",
       "                {}\n",
       "            ).addTo(map_7046c20900bbe72a3c389db89cd68fb0);\n",
       "        \n",
       "    \n",
       "            var icon_ad871dc8873fdc716a2dd92f3c699283 = L.AwesomeMarkers.icon(\n",
       "                {&quot;extraClasses&quot;: &quot;fa-rotate-0&quot;, &quot;icon&quot;: &quot;bicycle&quot;, &quot;iconColor&quot;: &quot;white&quot;, &quot;markerColor&quot;: &quot;green&quot;, &quot;prefix&quot;: &quot;fa&quot;}\n",
       "            );\n",
       "            marker_87398d56336ea24fe355d84ff5f9e9d3.setIcon(icon_ad871dc8873fdc716a2dd92f3c699283);\n",
       "        \n",
       "    \n",
       "        var popup_f2b43124d472c73e4e2548746df1ff9c = L.popup({&quot;maxWidth&quot;: &quot;100%&quot;});\n",
       "\n",
       "        \n",
       "            \n",
       "                var html_75571cf671bab7dcca640b263346c1cc = $(`&lt;div id=&quot;html_75571cf671bab7dcca640b263346c1cc&quot; style=&quot;width: 100.0%; height: 100.0%;&quot;&gt;(67.0, 1845.0)&lt;/div&gt;`)[0];\n",
       "                popup_f2b43124d472c73e4e2548746df1ff9c.setContent(html_75571cf671bab7dcca640b263346c1cc);\n",
       "            \n",
       "        \n",
       "\n",
       "        marker_87398d56336ea24fe355d84ff5f9e9d3.bindPopup(popup_f2b43124d472c73e4e2548746df1ff9c)\n",
       "        ;\n",
       "\n",
       "        \n",
       "    \n",
       "    \n",
       "            var marker_a246662e7c8e62fdc2263655b2844137 = L.marker(\n",
       "                [42.36507, -71.1031],\n",
       "                {}\n",
       "            ).addTo(map_7046c20900bbe72a3c389db89cd68fb0);\n",
       "        \n",
       "    \n",
       "            var icon_ca2412b5bbec044661007f92301941e6 = L.AwesomeMarkers.icon(\n",
       "                {&quot;extraClasses&quot;: &quot;fa-rotate-0&quot;, &quot;icon&quot;: &quot;bicycle&quot;, &quot;iconColor&quot;: &quot;white&quot;, &quot;markerColor&quot;: &quot;red&quot;, &quot;prefix&quot;: &quot;fa&quot;}\n",
       "            );\n",
       "            marker_a246662e7c8e62fdc2263655b2844137.setIcon(icon_ca2412b5bbec044661007f92301941e6);\n",
       "        \n",
       "    \n",
       "        var popup_bc568057927cc35becc8a5047647eeba = L.popup({&quot;maxWidth&quot;: &quot;100%&quot;});\n",
       "\n",
       "        \n",
       "            \n",
       "                var html_e7481785ca69c314292c813477a6c1c1 = $(`&lt;div id=&quot;html_e7481785ca69c314292c813477a6c1c1&quot; style=&quot;width: 100.0%; height: 100.0%;&quot;&gt;(68.0, 1845.0)&lt;/div&gt;`)[0];\n",
       "                popup_bc568057927cc35becc8a5047647eeba.setContent(html_e7481785ca69c314292c813477a6c1c1);\n",
       "            \n",
       "        \n",
       "\n",
       "        marker_a246662e7c8e62fdc2263655b2844137.bindPopup(popup_bc568057927cc35becc8a5047647eeba)\n",
       "        ;\n",
       "\n",
       "        \n",
       "    \n",
       "    \n",
       "            var poly_line_4d1d7ca09dca3a18577a21886e876a3c = L.polyline(\n",
       "                [[42.350851, -71.089886], [42.3581, -71.093198]],\n",
       "                {&quot;bubblingMouseEvents&quot;: true, &quot;color&quot;: &quot;red&quot;, &quot;dashArray&quot;: null, &quot;dashOffset&quot;: null, &quot;fill&quot;: false, &quot;fillColor&quot;: &quot;red&quot;, &quot;fillOpacity&quot;: 0.2, &quot;fillRule&quot;: &quot;evenodd&quot;, &quot;lineCap&quot;: &quot;round&quot;, &quot;lineJoin&quot;: &quot;round&quot;, &quot;noClip&quot;: false, &quot;opacity&quot;: 1, &quot;smoothFactor&quot;: 1.0, &quot;stroke&quot;: true, &quot;weight&quot;: 2.5}\n",
       "            ).addTo(map_7046c20900bbe72a3c389db89cd68fb0);\n",
       "        \n",
       "    \n",
       "            var marker_7ca35e57170fa12c2992e4c4d5776e3c = L.marker(\n",
       "                [42.350851, -71.089886],\n",
       "                {}\n",
       "            ).addTo(map_7046c20900bbe72a3c389db89cd68fb0);\n",
       "        \n",
       "    \n",
       "            var icon_da5d5a69fb1223392574102eb5c887ee = L.AwesomeMarkers.icon(\n",
       "                {&quot;extraClasses&quot;: &quot;fa-rotate-0&quot;, &quot;icon&quot;: &quot;bicycle&quot;, &quot;iconColor&quot;: &quot;white&quot;, &quot;markerColor&quot;: &quot;green&quot;, &quot;prefix&quot;: &quot;fa&quot;}\n",
       "            );\n",
       "            marker_7ca35e57170fa12c2992e4c4d5776e3c.setIcon(icon_da5d5a69fb1223392574102eb5c887ee);\n",
       "        \n",
       "    \n",
       "        var popup_b16348b1be10eead60b952bcfd6b7430 = L.popup({&quot;maxWidth&quot;: &quot;100%&quot;});\n",
       "\n",
       "        \n",
       "            \n",
       "                var html_b4cc213217cb1ddf55fa2e5e5b48f5d3 = $(`&lt;div id=&quot;html_b4cc213217cb1ddf55fa2e5e5b48f5d3&quot; style=&quot;width: 100.0%; height: 100.0%;&quot;&gt;(53.0, 1783.0)&lt;/div&gt;`)[0];\n",
       "                popup_b16348b1be10eead60b952bcfd6b7430.setContent(html_b4cc213217cb1ddf55fa2e5e5b48f5d3);\n",
       "            \n",
       "        \n",
       "\n",
       "        marker_7ca35e57170fa12c2992e4c4d5776e3c.bindPopup(popup_b16348b1be10eead60b952bcfd6b7430)\n",
       "        ;\n",
       "\n",
       "        \n",
       "    \n",
       "    \n",
       "            var marker_ce3473e944a0fb017241f4b70cefa255 = L.marker(\n",
       "                [42.3581, -71.093198],\n",
       "                {}\n",
       "            ).addTo(map_7046c20900bbe72a3c389db89cd68fb0);\n",
       "        \n",
       "    \n",
       "            var icon_5df7af7c33e952d7dacd194a12f0e0e1 = L.AwesomeMarkers.icon(\n",
       "                {&quot;extraClasses&quot;: &quot;fa-rotate-0&quot;, &quot;icon&quot;: &quot;bicycle&quot;, &quot;iconColor&quot;: &quot;white&quot;, &quot;markerColor&quot;: &quot;red&quot;, &quot;prefix&quot;: &quot;fa&quot;}\n",
       "            );\n",
       "            marker_ce3473e944a0fb017241f4b70cefa255.setIcon(icon_5df7af7c33e952d7dacd194a12f0e0e1);\n",
       "        \n",
       "    \n",
       "        var popup_4f2332c9e875c27a895447264b26fed5 = L.popup({&quot;maxWidth&quot;: &quot;100%&quot;});\n",
       "\n",
       "        \n",
       "            \n",
       "                var html_11fbf281cb5fa1167204d167d1c40fe8 = $(`&lt;div id=&quot;html_11fbf281cb5fa1167204d167d1c40fe8&quot; style=&quot;width: 100.0%; height: 100.0%;&quot;&gt;(67.0, 1783.0)&lt;/div&gt;`)[0];\n",
       "                popup_4f2332c9e875c27a895447264b26fed5.setContent(html_11fbf281cb5fa1167204d167d1c40fe8);\n",
       "            \n",
       "        \n",
       "\n",
       "        marker_ce3473e944a0fb017241f4b70cefa255.bindPopup(popup_4f2332c9e875c27a895447264b26fed5)\n",
       "        ;\n",
       "\n",
       "        \n",
       "    \n",
       "    \n",
       "            var poly_line_2caba2b0872857036fed868531b4082c = L.polyline(\n",
       "                [[42.352175, -71.055547], [42.363871, -71.050877]],\n",
       "                {&quot;bubblingMouseEvents&quot;: true, &quot;color&quot;: &quot;red&quot;, &quot;dashArray&quot;: null, &quot;dashOffset&quot;: null, &quot;fill&quot;: false, &quot;fillColor&quot;: &quot;red&quot;, &quot;fillOpacity&quot;: 0.2, &quot;fillRule&quot;: &quot;evenodd&quot;, &quot;lineCap&quot;: &quot;round&quot;, &quot;lineJoin&quot;: &quot;round&quot;, &quot;noClip&quot;: false, &quot;opacity&quot;: 1, &quot;smoothFactor&quot;: 1.0, &quot;stroke&quot;: true, &quot;weight&quot;: 2.5}\n",
       "            ).addTo(map_7046c20900bbe72a3c389db89cd68fb0);\n",
       "        \n",
       "    \n",
       "            var marker_4d1f53e70f3f9b2f1bea7aa9a7feeaee = L.marker(\n",
       "                [42.352175, -71.055547],\n",
       "                {}\n",
       "            ).addTo(map_7046c20900bbe72a3c389db89cd68fb0);\n",
       "        \n",
       "    \n",
       "            var icon_46f6437ce01b60b006b153b378a14f1a = L.AwesomeMarkers.icon(\n",
       "                {&quot;extraClasses&quot;: &quot;fa-rotate-0&quot;, &quot;icon&quot;: &quot;bicycle&quot;, &quot;iconColor&quot;: &quot;white&quot;, &quot;markerColor&quot;: &quot;green&quot;, &quot;prefix&quot;: &quot;fa&quot;}\n",
       "            );\n",
       "            marker_4d1f53e70f3f9b2f1bea7aa9a7feeaee.setIcon(icon_46f6437ce01b60b006b153b378a14f1a);\n",
       "        \n",
       "    \n",
       "        var popup_830d24a40054f252b743d9d0f77f7c23 = L.popup({&quot;maxWidth&quot;: &quot;100%&quot;});\n",
       "\n",
       "        \n",
       "            \n",
       "                var html_16605ef5c3ee1368196133035b1167a8 = $(`&lt;div id=&quot;html_16605ef5c3ee1368196133035b1167a8&quot; style=&quot;width: 100.0%; height: 100.0%;&quot;&gt;(22.0, 1741.0)&lt;/div&gt;`)[0];\n",
       "                popup_830d24a40054f252b743d9d0f77f7c23.setContent(html_16605ef5c3ee1368196133035b1167a8);\n",
       "            \n",
       "        \n",
       "\n",
       "        marker_4d1f53e70f3f9b2f1bea7aa9a7feeaee.bindPopup(popup_830d24a40054f252b743d9d0f77f7c23)\n",
       "        ;\n",
       "\n",
       "        \n",
       "    \n",
       "    \n",
       "            var marker_c20285ad58acd4ae0b97c3681455c23c = L.marker(\n",
       "                [42.363871, -71.050877],\n",
       "                {}\n",
       "            ).addTo(map_7046c20900bbe72a3c389db89cd68fb0);\n",
       "        \n",
       "    \n",
       "            var icon_bb09e87a78d46a1fee4e94d028514928 = L.AwesomeMarkers.icon(\n",
       "                {&quot;extraClasses&quot;: &quot;fa-rotate-0&quot;, &quot;icon&quot;: &quot;bicycle&quot;, &quot;iconColor&quot;: &quot;white&quot;, &quot;markerColor&quot;: &quot;red&quot;, &quot;prefix&quot;: &quot;fa&quot;}\n",
       "            );\n",
       "            marker_c20285ad58acd4ae0b97c3681455c23c.setIcon(icon_bb09e87a78d46a1fee4e94d028514928);\n",
       "        \n",
       "    \n",
       "        var popup_1888e96b13dc56dcb4b9f14c61044d17 = L.popup({&quot;maxWidth&quot;: &quot;100%&quot;});\n",
       "\n",
       "        \n",
       "            \n",
       "                var html_189e2293bf51515032cb67f57617e728 = $(`&lt;div id=&quot;html_189e2293bf51515032cb67f57617e728&quot; style=&quot;width: 100.0%; height: 100.0%;&quot;&gt;(40.0, 1741.0)&lt;/div&gt;`)[0];\n",
       "                popup_1888e96b13dc56dcb4b9f14c61044d17.setContent(html_189e2293bf51515032cb67f57617e728);\n",
       "            \n",
       "        \n",
       "\n",
       "        marker_c20285ad58acd4ae0b97c3681455c23c.bindPopup(popup_1888e96b13dc56dcb4b9f14c61044d17)\n",
       "        ;\n",
       "\n",
       "        \n",
       "    \n",
       "    \n",
       "            var poly_line_04577bbcca092657480c6d90b1c3e3bf = L.polyline(\n",
       "                [[42.36507, -71.1031], [42.3581, -71.093198]],\n",
       "                {&quot;bubblingMouseEvents&quot;: true, &quot;color&quot;: &quot;red&quot;, &quot;dashArray&quot;: null, &quot;dashOffset&quot;: null, &quot;fill&quot;: false, &quot;fillColor&quot;: &quot;red&quot;, &quot;fillOpacity&quot;: 0.2, &quot;fillRule&quot;: &quot;evenodd&quot;, &quot;lineCap&quot;: &quot;round&quot;, &quot;lineJoin&quot;: &quot;round&quot;, &quot;noClip&quot;: false, &quot;opacity&quot;: 1, &quot;smoothFactor&quot;: 1.0, &quot;stroke&quot;: true, &quot;weight&quot;: 2.5}\n",
       "            ).addTo(map_7046c20900bbe72a3c389db89cd68fb0);\n",
       "        \n",
       "    \n",
       "            var marker_207d29d1d66bcbd6389421324c733c53 = L.marker(\n",
       "                [42.36507, -71.1031],\n",
       "                {}\n",
       "            ).addTo(map_7046c20900bbe72a3c389db89cd68fb0);\n",
       "        \n",
       "    \n",
       "            var icon_2d9895227596f76604fb59bd9c4ab3b4 = L.AwesomeMarkers.icon(\n",
       "                {&quot;extraClasses&quot;: &quot;fa-rotate-0&quot;, &quot;icon&quot;: &quot;bicycle&quot;, &quot;iconColor&quot;: &quot;white&quot;, &quot;markerColor&quot;: &quot;green&quot;, &quot;prefix&quot;: &quot;fa&quot;}\n",
       "            );\n",
       "            marker_207d29d1d66bcbd6389421324c733c53.setIcon(icon_2d9895227596f76604fb59bd9c4ab3b4);\n",
       "        \n",
       "    \n",
       "        var popup_8d3bc321f51557dedb2f2c9ad84788e5 = L.popup({&quot;maxWidth&quot;: &quot;100%&quot;});\n",
       "\n",
       "        \n",
       "            \n",
       "                var html_c07f229a99cb58ae5a6d4c4eb23cf67e = $(`&lt;div id=&quot;html_c07f229a99cb58ae5a6d4c4eb23cf67e&quot; style=&quot;width: 100.0%; height: 100.0%;&quot;&gt;(68.0, 1610.0)&lt;/div&gt;`)[0];\n",
       "                popup_8d3bc321f51557dedb2f2c9ad84788e5.setContent(html_c07f229a99cb58ae5a6d4c4eb23cf67e);\n",
       "            \n",
       "        \n",
       "\n",
       "        marker_207d29d1d66bcbd6389421324c733c53.bindPopup(popup_8d3bc321f51557dedb2f2c9ad84788e5)\n",
       "        ;\n",
       "\n",
       "        \n",
       "    \n",
       "    \n",
       "            var marker_471e3bdf3fc5603e9897be8c59f1bc42 = L.marker(\n",
       "                [42.3581, -71.093198],\n",
       "                {}\n",
       "            ).addTo(map_7046c20900bbe72a3c389db89cd68fb0);\n",
       "        \n",
       "    \n",
       "            var icon_9f0ed7e5b3834a8590989cfbb80a2e1c = L.AwesomeMarkers.icon(\n",
       "                {&quot;extraClasses&quot;: &quot;fa-rotate-0&quot;, &quot;icon&quot;: &quot;bicycle&quot;, &quot;iconColor&quot;: &quot;white&quot;, &quot;markerColor&quot;: &quot;red&quot;, &quot;prefix&quot;: &quot;fa&quot;}\n",
       "            );\n",
       "            marker_471e3bdf3fc5603e9897be8c59f1bc42.setIcon(icon_9f0ed7e5b3834a8590989cfbb80a2e1c);\n",
       "        \n",
       "    \n",
       "        var popup_a4031fff860465f96698f82fd471a6bf = L.popup({&quot;maxWidth&quot;: &quot;100%&quot;});\n",
       "\n",
       "        \n",
       "            \n",
       "                var html_d1024d4da0df7f71001d969ded0ea9aa = $(`&lt;div id=&quot;html_d1024d4da0df7f71001d969ded0ea9aa&quot; style=&quot;width: 100.0%; height: 100.0%;&quot;&gt;(67.0, 1610.0)&lt;/div&gt;`)[0];\n",
       "                popup_a4031fff860465f96698f82fd471a6bf.setContent(html_d1024d4da0df7f71001d969ded0ea9aa);\n",
       "            \n",
       "        \n",
       "\n",
       "        marker_471e3bdf3fc5603e9897be8c59f1bc42.bindPopup(popup_a4031fff860465f96698f82fd471a6bf)\n",
       "        ;\n",
       "\n",
       "        \n",
       "    \n",
       "    \n",
       "            var poly_line_d0b12195deb7b69a1df9c1840e648d89 = L.polyline(\n",
       "                [[42.35977, -71.051601], [42.352175, -71.055547]],\n",
       "                {&quot;bubblingMouseEvents&quot;: true, &quot;color&quot;: &quot;red&quot;, &quot;dashArray&quot;: null, &quot;dashOffset&quot;: null, &quot;fill&quot;: false, &quot;fillColor&quot;: &quot;red&quot;, &quot;fillOpacity&quot;: 0.2, &quot;fillRule&quot;: &quot;evenodd&quot;, &quot;lineCap&quot;: &quot;round&quot;, &quot;lineJoin&quot;: &quot;round&quot;, &quot;noClip&quot;: false, &quot;opacity&quot;: 1, &quot;smoothFactor&quot;: 1.0, &quot;stroke&quot;: true, &quot;weight&quot;: 2.5}\n",
       "            ).addTo(map_7046c20900bbe72a3c389db89cd68fb0);\n",
       "        \n",
       "    \n",
       "            var marker_21cdb8d2af079c443c14414320ab33f4 = L.marker(\n",
       "                [42.35977, -71.051601],\n",
       "                {}\n",
       "            ).addTo(map_7046c20900bbe72a3c389db89cd68fb0);\n",
       "        \n",
       "    \n",
       "            var icon_5c4d353cc8dd1ddbea766b49fa8ef1bd = L.AwesomeMarkers.icon(\n",
       "                {&quot;extraClasses&quot;: &quot;fa-rotate-0&quot;, &quot;icon&quot;: &quot;bicycle&quot;, &quot;iconColor&quot;: &quot;white&quot;, &quot;markerColor&quot;: &quot;green&quot;, &quot;prefix&quot;: &quot;fa&quot;}\n",
       "            );\n",
       "            marker_21cdb8d2af079c443c14414320ab33f4.setIcon(icon_5c4d353cc8dd1ddbea766b49fa8ef1bd);\n",
       "        \n",
       "    \n",
       "        var popup_5bae5e959e7d16ad7055873ed95ee4e5 = L.popup({&quot;maxWidth&quot;: &quot;100%&quot;});\n",
       "\n",
       "        \n",
       "            \n",
       "                var html_9ff959976e92a93b4746ce825a50abae = $(`&lt;div id=&quot;html_9ff959976e92a93b4746ce825a50abae&quot; style=&quot;width: 100.0%; height: 100.0%;&quot;&gt;(20.0, 1531.0)&lt;/div&gt;`)[0];\n",
       "                popup_5bae5e959e7d16ad7055873ed95ee4e5.setContent(html_9ff959976e92a93b4746ce825a50abae);\n",
       "            \n",
       "        \n",
       "\n",
       "        marker_21cdb8d2af079c443c14414320ab33f4.bindPopup(popup_5bae5e959e7d16ad7055873ed95ee4e5)\n",
       "        ;\n",
       "\n",
       "        \n",
       "    \n",
       "    \n",
       "            var marker_1625263bfb33dcbed0cb7fcc92eb65ed = L.marker(\n",
       "                [42.352175, -71.055547],\n",
       "                {}\n",
       "            ).addTo(map_7046c20900bbe72a3c389db89cd68fb0);\n",
       "        \n",
       "    \n",
       "            var icon_3c3d7461a50200d2a09d05cf13441468 = L.AwesomeMarkers.icon(\n",
       "                {&quot;extraClasses&quot;: &quot;fa-rotate-0&quot;, &quot;icon&quot;: &quot;bicycle&quot;, &quot;iconColor&quot;: &quot;white&quot;, &quot;markerColor&quot;: &quot;red&quot;, &quot;prefix&quot;: &quot;fa&quot;}\n",
       "            );\n",
       "            marker_1625263bfb33dcbed0cb7fcc92eb65ed.setIcon(icon_3c3d7461a50200d2a09d05cf13441468);\n",
       "        \n",
       "    \n",
       "        var popup_be51b92ce08e5ee305fd29cfe3595512 = L.popup({&quot;maxWidth&quot;: &quot;100%&quot;});\n",
       "\n",
       "        \n",
       "            \n",
       "                var html_b8c7392560564c6ae337a074556bd21a = $(`&lt;div id=&quot;html_b8c7392560564c6ae337a074556bd21a&quot; style=&quot;width: 100.0%; height: 100.0%;&quot;&gt;(22.0, 1531.0)&lt;/div&gt;`)[0];\n",
       "                popup_be51b92ce08e5ee305fd29cfe3595512.setContent(html_b8c7392560564c6ae337a074556bd21a);\n",
       "            \n",
       "        \n",
       "\n",
       "        marker_1625263bfb33dcbed0cb7fcc92eb65ed.bindPopup(popup_be51b92ce08e5ee305fd29cfe3595512)\n",
       "        ;\n",
       "\n",
       "        \n",
       "    \n",
       "&lt;/script&gt;\n",
       "&lt;/html&gt;\" style=\"position:absolute;width:100%;height:100%;left:0;top:0;border:none !important;\" allowfullscreen webkitallowfullscreen mozallowfullscreen></iframe></div></div>"
      ],
      "text/plain": [
       "<folium.folium.Map at 0x7fcfd38d07c0>"
      ]
     },
     "execution_count": 119,
     "metadata": {},
     "output_type": "execute_result"
    }
   ],
   "source": [
    "\n",
    "avg_lat = df_trips['start_station_latitude'].mean()\n",
    "avg_long = df_trips['start_station_longitude'].mean()\n",
    "\n",
    "m = folium.Map(location=[avg_lat, avg_long], zoom_start=15)\n",
    "\n",
    "points = []\n",
    "\n",
    "df_top_trips = df_trips.head(10)\n",
    "\n",
    "\n",
    "for i in range(0,len(df_top_trips)):\n",
    "    points.append([df_top_trips.iloc[i]['start_station_latitude'],df_top_trips.iloc[i]['start_station_longitude']])\n",
    "    points.append([df_top_trips.iloc[i]['end_station_latitude'],df_top_trips.iloc[i]['end_station_longitude']])\n",
    "    folium.PolyLine(points, color=\"red\", weight=2.5, opacity=1).add_to(m)\n",
    "    folium.Marker([df_top_trips.iloc[i]['start_station_latitude'],df_top_trips.iloc[i]['start_station_longitude']],popup=(df_top_trips.iloc[i]['start_station_id'], df_top_trips.iloc[i]['count_trips' ]), icon = folium.Icon(color='green',prefix='fa', icon='bicycle')).add_to(m)\n",
    "    folium.Marker([df_top_trips.iloc[i]['end_station_latitude'],df_top_trips.iloc[i]['end_station_longitude']],popup=(df_top_trips.iloc[i]['end_station_id'], df_top_trips.iloc[i]['count_trips' ]), icon = folium.Icon(color='red',prefix='fa', icon='bicycle')).add_to(m)\n",
    "    points = [] #if points is not reseted then each station will be connected with every other station in array\n",
    "\n",
    "m \n",
    "\n",
    "#PROBLEM: what actual routes regardless of direction are used most frequent? AND routs are on top of each other when direction of trip is considered"
   ]
  },
  {
   "cell_type": "code",
   "execution_count": null,
   "metadata": {},
   "outputs": [
    {
     "data": {
      "text/html": [
       "<div>\n",
       "<style scoped>\n",
       "    .dataframe tbody tr th:only-of-type {\n",
       "        vertical-align: middle;\n",
       "    }\n",
       "\n",
       "    .dataframe tbody tr th {\n",
       "        vertical-align: top;\n",
       "    }\n",
       "\n",
       "    .dataframe thead th {\n",
       "        text-align: right;\n",
       "    }\n",
       "</style>\n",
       "<table border=\"1\" class=\"dataframe\">\n",
       "  <thead>\n",
       "    <tr style=\"text-align: right;\">\n",
       "      <th></th>\n",
       "      <th>Station_A</th>\n",
       "      <th>Station_B</th>\n",
       "      <th>start_station_latitude</th>\n",
       "      <th>start_station_longitude</th>\n",
       "      <th>end_station_latitude</th>\n",
       "      <th>end_station_longitude</th>\n",
       "      <th>count_trips</th>\n",
       "    </tr>\n",
       "  </thead>\n",
       "  <tbody>\n",
       "    <tr>\n",
       "      <th>0</th>\n",
       "      <td>118</td>\n",
       "      <td>100</td>\n",
       "      <td>42.397828</td>\n",
       "      <td>-71.130516</td>\n",
       "      <td>42.396969</td>\n",
       "      <td>-71.123024</td>\n",
       "      <td>5775</td>\n",
       "    </tr>\n",
       "    <tr>\n",
       "      <th>1</th>\n",
       "      <td>67</td>\n",
       "      <td>53</td>\n",
       "      <td>42.358100</td>\n",
       "      <td>-71.093198</td>\n",
       "      <td>42.350851</td>\n",
       "      <td>-71.089886</td>\n",
       "      <td>3809</td>\n",
       "    </tr>\n",
       "    <tr>\n",
       "      <th>2</th>\n",
       "      <td>40</td>\n",
       "      <td>22</td>\n",
       "      <td>42.363871</td>\n",
       "      <td>-71.050877</td>\n",
       "      <td>42.352175</td>\n",
       "      <td>-71.055547</td>\n",
       "      <td>3723</td>\n",
       "    </tr>\n",
       "    <tr>\n",
       "      <th>3</th>\n",
       "      <td>67</td>\n",
       "      <td>68</td>\n",
       "      <td>42.358100</td>\n",
       "      <td>-71.093198</td>\n",
       "      <td>42.365070</td>\n",
       "      <td>-71.103100</td>\n",
       "      <td>3455</td>\n",
       "    </tr>\n",
       "    <tr>\n",
       "      <th>4</th>\n",
       "      <td>114</td>\n",
       "      <td>100</td>\n",
       "      <td>42.402763</td>\n",
       "      <td>-71.126908</td>\n",
       "      <td>42.396969</td>\n",
       "      <td>-71.123024</td>\n",
       "      <td>3202</td>\n",
       "    </tr>\n",
       "    <tr>\n",
       "      <th>5</th>\n",
       "      <td>20</td>\n",
       "      <td>22</td>\n",
       "      <td>42.359770</td>\n",
       "      <td>-71.051601</td>\n",
       "      <td>42.352175</td>\n",
       "      <td>-71.055547</td>\n",
       "      <td>2995</td>\n",
       "    </tr>\n",
       "    <tr>\n",
       "      <th>6</th>\n",
       "      <td>67</td>\n",
       "      <td>75</td>\n",
       "      <td>42.358100</td>\n",
       "      <td>-71.093198</td>\n",
       "      <td>42.363465</td>\n",
       "      <td>-71.100573</td>\n",
       "      <td>2904</td>\n",
       "    </tr>\n",
       "    <tr>\n",
       "      <th>7</th>\n",
       "      <td>67</td>\n",
       "      <td>74</td>\n",
       "      <td>42.358100</td>\n",
       "      <td>-71.093198</td>\n",
       "      <td>42.373268</td>\n",
       "      <td>-71.118579</td>\n",
       "      <td>2711</td>\n",
       "    </tr>\n",
       "    <tr>\n",
       "      <th>8</th>\n",
       "      <td>67</td>\n",
       "      <td>107</td>\n",
       "      <td>42.358100</td>\n",
       "      <td>-71.093198</td>\n",
       "      <td>42.362500</td>\n",
       "      <td>-71.088220</td>\n",
       "      <td>2617</td>\n",
       "    </tr>\n",
       "    <tr>\n",
       "      <th>9</th>\n",
       "      <td>22</td>\n",
       "      <td>109</td>\n",
       "      <td>42.352175</td>\n",
       "      <td>-71.055547</td>\n",
       "      <td>42.365942</td>\n",
       "      <td>-71.060515</td>\n",
       "      <td>2387</td>\n",
       "    </tr>\n",
       "    <tr>\n",
       "      <th>10</th>\n",
       "      <td>80</td>\n",
       "      <td>68</td>\n",
       "      <td>42.361962</td>\n",
       "      <td>-71.092053</td>\n",
       "      <td>42.365070</td>\n",
       "      <td>-71.103100</td>\n",
       "      <td>2323</td>\n",
       "    </tr>\n",
       "  </tbody>\n",
       "</table>\n",
       "</div>"
      ],
      "text/plain": [
       "    Station_A  Station_B  start_station_latitude  start_station_longitude  \\\n",
       "0         118        100               42.397828               -71.130516   \n",
       "1          67         53               42.358100               -71.093198   \n",
       "2          40         22               42.363871               -71.050877   \n",
       "3          67         68               42.358100               -71.093198   \n",
       "4         114        100               42.402763               -71.126908   \n",
       "5          20         22               42.359770               -71.051601   \n",
       "6          67         75               42.358100               -71.093198   \n",
       "7          67         74               42.358100               -71.093198   \n",
       "8          67        107               42.358100               -71.093198   \n",
       "9          22        109               42.352175               -71.055547   \n",
       "10         80         68               42.361962               -71.092053   \n",
       "\n",
       "    end_station_latitude  end_station_longitude  count_trips  \n",
       "0              42.396969             -71.123024         5775  \n",
       "1              42.350851             -71.089886         3809  \n",
       "2              42.352175             -71.055547         3723  \n",
       "3              42.365070             -71.103100         3455  \n",
       "4              42.396969             -71.123024         3202  \n",
       "5              42.352175             -71.055547         2995  \n",
       "6              42.363465             -71.100573         2904  \n",
       "7              42.373268             -71.118579         2711  \n",
       "8              42.362500             -71.088220         2617  \n",
       "9              42.365942             -71.060515         2387  \n",
       "10             42.365070             -71.103100         2323  "
      ]
     },
     "execution_count": 137,
     "metadata": {},
     "output_type": "execute_result"
    }
   ],
   "source": [
    "df_top_trips = df_trips.head(47).copy() #most common trips ignoring direction of trip, filter is 47 as we only use values above 1000 \n",
    "\n",
    "for j in range(0, len(df_top_trips)):\n",
    "    if j < len(df_top_trips):\n",
    "        for i in range (0, len(df_top_trips)):\n",
    "            if i < len(df_top_trips):\n",
    "                if df_top_trips.at[j,'start_station_id'] == df_top_trips.at[i, 'end_station_id'] and df_top_trips.at[i,'start_station_id'] == df_top_trips.at[j, 'end_station_id']:\n",
    "                    df_top_trips.at[j, 'count_trips'] = df_top_trips.at[i, 'count_trips'] + df_top_trips.at[j, 'count_trips']\n",
    "                    df_top_trips = df_top_trips.drop(i)\n",
    "                df_top_trips.index = range(0, len(df_top_trips))\n",
    "\n",
    "\n",
    "df_top_trips = df_top_trips.sort_values('count_trips', ascending = False)\n",
    "df_top_trips.index = range(0, len(df_top_trips))\n",
    "df_top_trips = df_top_trips.rename(columns = {'start_station_id' : 'Station_A', 'end_station_id' : 'Station_B'})\n",
    "df_top_trips = df_top_trips.head(11) #above 2300 total trips and close to top 10 \n",
    "df_top_trips\n"
   ]
  },
  {
   "cell_type": "code",
   "execution_count": null,
   "metadata": {},
   "outputs": [
    {
     "data": {
      "text/html": [
       "<div style=\"width:100%;\"><div style=\"position:relative;width:100%;height:0;padding-bottom:60%;\"><span style=\"color:#565656\">Make this Notebook Trusted to load map: File -> Trust Notebook</span><iframe srcdoc=\"&lt;!DOCTYPE html&gt;\n",
       "&lt;html&gt;\n",
       "&lt;head&gt;\n",
       "    \n",
       "    &lt;meta http-equiv=&quot;content-type&quot; content=&quot;text/html; charset=UTF-8&quot; /&gt;\n",
       "    \n",
       "        &lt;script&gt;\n",
       "            L_NO_TOUCH = false;\n",
       "            L_DISABLE_3D = false;\n",
       "        &lt;/script&gt;\n",
       "    \n",
       "    &lt;style&gt;html, body {width: 100%;height: 100%;margin: 0;padding: 0;}&lt;/style&gt;\n",
       "    &lt;style&gt;#map {position:absolute;top:0;bottom:0;right:0;left:0;}&lt;/style&gt;\n",
       "    &lt;script src=&quot;https://cdn.jsdelivr.net/npm/leaflet@1.9.3/dist/leaflet.js&quot;&gt;&lt;/script&gt;\n",
       "    &lt;script src=&quot;https://code.jquery.com/jquery-1.12.4.min.js&quot;&gt;&lt;/script&gt;\n",
       "    &lt;script src=&quot;https://cdn.jsdelivr.net/npm/bootstrap@5.2.2/dist/js/bootstrap.bundle.min.js&quot;&gt;&lt;/script&gt;\n",
       "    &lt;script src=&quot;https://cdnjs.cloudflare.com/ajax/libs/Leaflet.awesome-markers/2.0.2/leaflet.awesome-markers.js&quot;&gt;&lt;/script&gt;\n",
       "    &lt;link rel=&quot;stylesheet&quot; href=&quot;https://cdn.jsdelivr.net/npm/leaflet@1.9.3/dist/leaflet.css&quot;/&gt;\n",
       "    &lt;link rel=&quot;stylesheet&quot; href=&quot;https://cdn.jsdelivr.net/npm/bootstrap@5.2.2/dist/css/bootstrap.min.css&quot;/&gt;\n",
       "    &lt;link rel=&quot;stylesheet&quot; href=&quot;https://netdna.bootstrapcdn.com/bootstrap/3.0.0/css/bootstrap.min.css&quot;/&gt;\n",
       "    &lt;link rel=&quot;stylesheet&quot; href=&quot;https://cdn.jsdelivr.net/npm/@fortawesome/fontawesome-free@6.2.0/css/all.min.css&quot;/&gt;\n",
       "    &lt;link rel=&quot;stylesheet&quot; href=&quot;https://cdnjs.cloudflare.com/ajax/libs/Leaflet.awesome-markers/2.0.2/leaflet.awesome-markers.css&quot;/&gt;\n",
       "    &lt;link rel=&quot;stylesheet&quot; href=&quot;https://cdn.jsdelivr.net/gh/python-visualization/folium/folium/templates/leaflet.awesome.rotate.min.css&quot;/&gt;\n",
       "    \n",
       "            &lt;meta name=&quot;viewport&quot; content=&quot;width=device-width,\n",
       "                initial-scale=1.0, maximum-scale=1.0, user-scalable=no&quot; /&gt;\n",
       "            &lt;style&gt;\n",
       "                #map_eee4d751f086b525c65f9e65370a99d8 {\n",
       "                    position: relative;\n",
       "                    width: 100.0%;\n",
       "                    height: 100.0%;\n",
       "                    left: 0.0%;\n",
       "                    top: 0.0%;\n",
       "                }\n",
       "                .leaflet-container { font-size: 1rem; }\n",
       "            &lt;/style&gt;\n",
       "        \n",
       "&lt;/head&gt;\n",
       "&lt;body&gt;\n",
       "    \n",
       "    \n",
       "            &lt;div class=&quot;folium-map&quot; id=&quot;map_eee4d751f086b525c65f9e65370a99d8&quot; &gt;&lt;/div&gt;\n",
       "        \n",
       "&lt;/body&gt;\n",
       "&lt;script&gt;\n",
       "    \n",
       "    \n",
       "            var map_eee4d751f086b525c65f9e65370a99d8 = L.map(\n",
       "                &quot;map_eee4d751f086b525c65f9e65370a99d8&quot;,\n",
       "                {\n",
       "                    center: [42.355932906653216, -71.08880095944758],\n",
       "                    crs: L.CRS.EPSG3857,\n",
       "                    zoom: 15,\n",
       "                    zoomControl: true,\n",
       "                    preferCanvas: false,\n",
       "                }\n",
       "            );\n",
       "\n",
       "            \n",
       "\n",
       "        \n",
       "    \n",
       "            var tile_layer_08e6a204b1c3c984d28568b67a433406 = L.tileLayer(\n",
       "                &quot;https://{s}.tile.openstreetmap.org/{z}/{x}/{y}.png&quot;,\n",
       "                {&quot;attribution&quot;: &quot;Data by \\u0026copy; \\u003ca target=\\&quot;_blank\\&quot; href=\\&quot;http://openstreetmap.org\\&quot;\\u003eOpenStreetMap\\u003c/a\\u003e, under \\u003ca target=\\&quot;_blank\\&quot; href=\\&quot;http://www.openstreetmap.org/copyright\\&quot;\\u003eODbL\\u003c/a\\u003e.&quot;, &quot;detectRetina&quot;: false, &quot;maxNativeZoom&quot;: 18, &quot;maxZoom&quot;: 18, &quot;minZoom&quot;: 0, &quot;noWrap&quot;: false, &quot;opacity&quot;: 1, &quot;subdomains&quot;: &quot;abc&quot;, &quot;tms&quot;: false}\n",
       "            ).addTo(map_eee4d751f086b525c65f9e65370a99d8);\n",
       "        \n",
       "    \n",
       "            var poly_line_5ad59afb12b0c7aca8d8d1a7a63ca35e = L.polyline(\n",
       "                [[42.397828, -71.130516], [42.396969, -71.123024]],\n",
       "                {&quot;bubblingMouseEvents&quot;: true, &quot;color&quot;: &quot;red&quot;, &quot;dashArray&quot;: null, &quot;dashOffset&quot;: null, &quot;fill&quot;: false, &quot;fillColor&quot;: &quot;red&quot;, &quot;fillOpacity&quot;: 0.2, &quot;fillRule&quot;: &quot;evenodd&quot;, &quot;lineCap&quot;: &quot;round&quot;, &quot;lineJoin&quot;: &quot;round&quot;, &quot;noClip&quot;: false, &quot;opacity&quot;: 1, &quot;smoothFactor&quot;: 1.0, &quot;stroke&quot;: true, &quot;weight&quot;: 2.5}\n",
       "            ).addTo(map_eee4d751f086b525c65f9e65370a99d8);\n",
       "        \n",
       "    \n",
       "            var marker_8802a19434506588671e024e3ea59811 = L.marker(\n",
       "                [42.397828, -71.130516],\n",
       "                {}\n",
       "            ).addTo(map_eee4d751f086b525c65f9e65370a99d8);\n",
       "        \n",
       "    \n",
       "            var icon_b78616f332e09096fe4933324624a428 = L.AwesomeMarkers.icon(\n",
       "                {&quot;extraClasses&quot;: &quot;fa-rotate-0&quot;, &quot;icon&quot;: &quot;bicycle&quot;, &quot;iconColor&quot;: &quot;white&quot;, &quot;markerColor&quot;: &quot;blue&quot;, &quot;prefix&quot;: &quot;fa&quot;}\n",
       "            );\n",
       "            marker_8802a19434506588671e024e3ea59811.setIcon(icon_b78616f332e09096fe4933324624a428);\n",
       "        \n",
       "    \n",
       "        var popup_74289755b10c7cb194a1f76918bf2d0f = L.popup({&quot;maxWidth&quot;: &quot;100%&quot;});\n",
       "\n",
       "        \n",
       "            \n",
       "                var html_93095aba60663263cf0732fcd90f17b9 = $(`&lt;div id=&quot;html_93095aba60663263cf0732fcd90f17b9&quot; style=&quot;width: 100.0%; height: 100.0%;&quot;&gt;(118.0, 5775.0)&lt;/div&gt;`)[0];\n",
       "                popup_74289755b10c7cb194a1f76918bf2d0f.setContent(html_93095aba60663263cf0732fcd90f17b9);\n",
       "            \n",
       "        \n",
       "\n",
       "        marker_8802a19434506588671e024e3ea59811.bindPopup(popup_74289755b10c7cb194a1f76918bf2d0f)\n",
       "        ;\n",
       "\n",
       "        \n",
       "    \n",
       "    \n",
       "            var marker_a18bea604735d9949a5137427763932e = L.marker(\n",
       "                [42.396969, -71.123024],\n",
       "                {}\n",
       "            ).addTo(map_eee4d751f086b525c65f9e65370a99d8);\n",
       "        \n",
       "    \n",
       "            var icon_49628fa6e338c5ef3c3c4f0f9aba29c1 = L.AwesomeMarkers.icon(\n",
       "                {&quot;extraClasses&quot;: &quot;fa-rotate-0&quot;, &quot;icon&quot;: &quot;bicycle&quot;, &quot;iconColor&quot;: &quot;white&quot;, &quot;markerColor&quot;: &quot;blue&quot;, &quot;prefix&quot;: &quot;fa&quot;}\n",
       "            );\n",
       "            marker_a18bea604735d9949a5137427763932e.setIcon(icon_49628fa6e338c5ef3c3c4f0f9aba29c1);\n",
       "        \n",
       "    \n",
       "        var popup_b8c19199729301c130ff22dc7fc33ae8 = L.popup({&quot;maxWidth&quot;: &quot;100%&quot;});\n",
       "\n",
       "        \n",
       "            \n",
       "                var html_00c4f1f8ea0310d6eaca3ea0ce1cf15e = $(`&lt;div id=&quot;html_00c4f1f8ea0310d6eaca3ea0ce1cf15e&quot; style=&quot;width: 100.0%; height: 100.0%;&quot;&gt;(100.0, 5775.0)&lt;/div&gt;`)[0];\n",
       "                popup_b8c19199729301c130ff22dc7fc33ae8.setContent(html_00c4f1f8ea0310d6eaca3ea0ce1cf15e);\n",
       "            \n",
       "        \n",
       "\n",
       "        marker_a18bea604735d9949a5137427763932e.bindPopup(popup_b8c19199729301c130ff22dc7fc33ae8)\n",
       "        ;\n",
       "\n",
       "        \n",
       "    \n",
       "    \n",
       "            var poly_line_bbb2d0ac883b64250f630bcce282882d = L.polyline(\n",
       "                [[42.3581, -71.093198], [42.350851, -71.089886]],\n",
       "                {&quot;bubblingMouseEvents&quot;: true, &quot;color&quot;: &quot;red&quot;, &quot;dashArray&quot;: null, &quot;dashOffset&quot;: null, &quot;fill&quot;: false, &quot;fillColor&quot;: &quot;red&quot;, &quot;fillOpacity&quot;: 0.2, &quot;fillRule&quot;: &quot;evenodd&quot;, &quot;lineCap&quot;: &quot;round&quot;, &quot;lineJoin&quot;: &quot;round&quot;, &quot;noClip&quot;: false, &quot;opacity&quot;: 1, &quot;smoothFactor&quot;: 1.0, &quot;stroke&quot;: true, &quot;weight&quot;: 2.5}\n",
       "            ).addTo(map_eee4d751f086b525c65f9e65370a99d8);\n",
       "        \n",
       "    \n",
       "            var marker_4813740b33bb75759ac4a02b480c686b = L.marker(\n",
       "                [42.3581, -71.093198],\n",
       "                {}\n",
       "            ).addTo(map_eee4d751f086b525c65f9e65370a99d8);\n",
       "        \n",
       "    \n",
       "            var icon_bc87b8c6480fd7e479310652931c6ecf = L.AwesomeMarkers.icon(\n",
       "                {&quot;extraClasses&quot;: &quot;fa-rotate-0&quot;, &quot;icon&quot;: &quot;bicycle&quot;, &quot;iconColor&quot;: &quot;white&quot;, &quot;markerColor&quot;: &quot;blue&quot;, &quot;prefix&quot;: &quot;fa&quot;}\n",
       "            );\n",
       "            marker_4813740b33bb75759ac4a02b480c686b.setIcon(icon_bc87b8c6480fd7e479310652931c6ecf);\n",
       "        \n",
       "    \n",
       "        var popup_0eb624bf40c44c56fc7ac4bb19bc33bf = L.popup({&quot;maxWidth&quot;: &quot;100%&quot;});\n",
       "\n",
       "        \n",
       "            \n",
       "                var html_82b43e7a378791c3d55c2d7b3b949394 = $(`&lt;div id=&quot;html_82b43e7a378791c3d55c2d7b3b949394&quot; style=&quot;width: 100.0%; height: 100.0%;&quot;&gt;(67.0, 3809.0)&lt;/div&gt;`)[0];\n",
       "                popup_0eb624bf40c44c56fc7ac4bb19bc33bf.setContent(html_82b43e7a378791c3d55c2d7b3b949394);\n",
       "            \n",
       "        \n",
       "\n",
       "        marker_4813740b33bb75759ac4a02b480c686b.bindPopup(popup_0eb624bf40c44c56fc7ac4bb19bc33bf)\n",
       "        ;\n",
       "\n",
       "        \n",
       "    \n",
       "    \n",
       "            var marker_a2376ac4a1c6145187fb5c4d0b2663f5 = L.marker(\n",
       "                [42.350851, -71.089886],\n",
       "                {}\n",
       "            ).addTo(map_eee4d751f086b525c65f9e65370a99d8);\n",
       "        \n",
       "    \n",
       "            var icon_3f3538f10265e225dfe43a2635fd8b4d = L.AwesomeMarkers.icon(\n",
       "                {&quot;extraClasses&quot;: &quot;fa-rotate-0&quot;, &quot;icon&quot;: &quot;bicycle&quot;, &quot;iconColor&quot;: &quot;white&quot;, &quot;markerColor&quot;: &quot;blue&quot;, &quot;prefix&quot;: &quot;fa&quot;}\n",
       "            );\n",
       "            marker_a2376ac4a1c6145187fb5c4d0b2663f5.setIcon(icon_3f3538f10265e225dfe43a2635fd8b4d);\n",
       "        \n",
       "    \n",
       "        var popup_979b4a7d90c47fbe114d85ce2cb61bc7 = L.popup({&quot;maxWidth&quot;: &quot;100%&quot;});\n",
       "\n",
       "        \n",
       "            \n",
       "                var html_2c48c19fc6c80b4a0dbf1e28976af0b8 = $(`&lt;div id=&quot;html_2c48c19fc6c80b4a0dbf1e28976af0b8&quot; style=&quot;width: 100.0%; height: 100.0%;&quot;&gt;(53.0, 3809.0)&lt;/div&gt;`)[0];\n",
       "                popup_979b4a7d90c47fbe114d85ce2cb61bc7.setContent(html_2c48c19fc6c80b4a0dbf1e28976af0b8);\n",
       "            \n",
       "        \n",
       "\n",
       "        marker_a2376ac4a1c6145187fb5c4d0b2663f5.bindPopup(popup_979b4a7d90c47fbe114d85ce2cb61bc7)\n",
       "        ;\n",
       "\n",
       "        \n",
       "    \n",
       "    \n",
       "            var poly_line_b795c925293e8b9036c128f41bb5809e = L.polyline(\n",
       "                [[42.363871, -71.050877], [42.352175, -71.055547]],\n",
       "                {&quot;bubblingMouseEvents&quot;: true, &quot;color&quot;: &quot;red&quot;, &quot;dashArray&quot;: null, &quot;dashOffset&quot;: null, &quot;fill&quot;: false, &quot;fillColor&quot;: &quot;red&quot;, &quot;fillOpacity&quot;: 0.2, &quot;fillRule&quot;: &quot;evenodd&quot;, &quot;lineCap&quot;: &quot;round&quot;, &quot;lineJoin&quot;: &quot;round&quot;, &quot;noClip&quot;: false, &quot;opacity&quot;: 1, &quot;smoothFactor&quot;: 1.0, &quot;stroke&quot;: true, &quot;weight&quot;: 2.5}\n",
       "            ).addTo(map_eee4d751f086b525c65f9e65370a99d8);\n",
       "        \n",
       "    \n",
       "            var marker_249f80416dc5e4c90c0e552dad2ffca8 = L.marker(\n",
       "                [42.363871, -71.050877],\n",
       "                {}\n",
       "            ).addTo(map_eee4d751f086b525c65f9e65370a99d8);\n",
       "        \n",
       "    \n",
       "            var icon_4a37fe1754311a0a430a8dc1e4ad1ada = L.AwesomeMarkers.icon(\n",
       "                {&quot;extraClasses&quot;: &quot;fa-rotate-0&quot;, &quot;icon&quot;: &quot;bicycle&quot;, &quot;iconColor&quot;: &quot;white&quot;, &quot;markerColor&quot;: &quot;blue&quot;, &quot;prefix&quot;: &quot;fa&quot;}\n",
       "            );\n",
       "            marker_249f80416dc5e4c90c0e552dad2ffca8.setIcon(icon_4a37fe1754311a0a430a8dc1e4ad1ada);\n",
       "        \n",
       "    \n",
       "        var popup_e3cea892c694ab2f4c72773881476fb1 = L.popup({&quot;maxWidth&quot;: &quot;100%&quot;});\n",
       "\n",
       "        \n",
       "            \n",
       "                var html_7f2314e9e4892f27fcfcd712c76cce9b = $(`&lt;div id=&quot;html_7f2314e9e4892f27fcfcd712c76cce9b&quot; style=&quot;width: 100.0%; height: 100.0%;&quot;&gt;(40.0, 3723.0)&lt;/div&gt;`)[0];\n",
       "                popup_e3cea892c694ab2f4c72773881476fb1.setContent(html_7f2314e9e4892f27fcfcd712c76cce9b);\n",
       "            \n",
       "        \n",
       "\n",
       "        marker_249f80416dc5e4c90c0e552dad2ffca8.bindPopup(popup_e3cea892c694ab2f4c72773881476fb1)\n",
       "        ;\n",
       "\n",
       "        \n",
       "    \n",
       "    \n",
       "            var marker_a8ebd5fbcecad6150976cc695593a370 = L.marker(\n",
       "                [42.352175, -71.055547],\n",
       "                {}\n",
       "            ).addTo(map_eee4d751f086b525c65f9e65370a99d8);\n",
       "        \n",
       "    \n",
       "            var icon_f78286b295b4a94ca0ad666ec2116216 = L.AwesomeMarkers.icon(\n",
       "                {&quot;extraClasses&quot;: &quot;fa-rotate-0&quot;, &quot;icon&quot;: &quot;bicycle&quot;, &quot;iconColor&quot;: &quot;white&quot;, &quot;markerColor&quot;: &quot;blue&quot;, &quot;prefix&quot;: &quot;fa&quot;}\n",
       "            );\n",
       "            marker_a8ebd5fbcecad6150976cc695593a370.setIcon(icon_f78286b295b4a94ca0ad666ec2116216);\n",
       "        \n",
       "    \n",
       "        var popup_9d0965d199ab711c33616f1bb2abb4b6 = L.popup({&quot;maxWidth&quot;: &quot;100%&quot;});\n",
       "\n",
       "        \n",
       "            \n",
       "                var html_e06894b4d84e67188ea22ceaa5e586a4 = $(`&lt;div id=&quot;html_e06894b4d84e67188ea22ceaa5e586a4&quot; style=&quot;width: 100.0%; height: 100.0%;&quot;&gt;(22.0, 3723.0)&lt;/div&gt;`)[0];\n",
       "                popup_9d0965d199ab711c33616f1bb2abb4b6.setContent(html_e06894b4d84e67188ea22ceaa5e586a4);\n",
       "            \n",
       "        \n",
       "\n",
       "        marker_a8ebd5fbcecad6150976cc695593a370.bindPopup(popup_9d0965d199ab711c33616f1bb2abb4b6)\n",
       "        ;\n",
       "\n",
       "        \n",
       "    \n",
       "    \n",
       "            var poly_line_e12f6ed95e92187c56f34761f8dbfad9 = L.polyline(\n",
       "                [[42.3581, -71.093198], [42.36507, -71.1031]],\n",
       "                {&quot;bubblingMouseEvents&quot;: true, &quot;color&quot;: &quot;red&quot;, &quot;dashArray&quot;: null, &quot;dashOffset&quot;: null, &quot;fill&quot;: false, &quot;fillColor&quot;: &quot;red&quot;, &quot;fillOpacity&quot;: 0.2, &quot;fillRule&quot;: &quot;evenodd&quot;, &quot;lineCap&quot;: &quot;round&quot;, &quot;lineJoin&quot;: &quot;round&quot;, &quot;noClip&quot;: false, &quot;opacity&quot;: 1, &quot;smoothFactor&quot;: 1.0, &quot;stroke&quot;: true, &quot;weight&quot;: 2.5}\n",
       "            ).addTo(map_eee4d751f086b525c65f9e65370a99d8);\n",
       "        \n",
       "    \n",
       "            var marker_d43d326e758fdbf62cce3ff6d0b5d420 = L.marker(\n",
       "                [42.3581, -71.093198],\n",
       "                {}\n",
       "            ).addTo(map_eee4d751f086b525c65f9e65370a99d8);\n",
       "        \n",
       "    \n",
       "            var icon_b6baccfc63b41ce85003060029264b88 = L.AwesomeMarkers.icon(\n",
       "                {&quot;extraClasses&quot;: &quot;fa-rotate-0&quot;, &quot;icon&quot;: &quot;bicycle&quot;, &quot;iconColor&quot;: &quot;white&quot;, &quot;markerColor&quot;: &quot;blue&quot;, &quot;prefix&quot;: &quot;fa&quot;}\n",
       "            );\n",
       "            marker_d43d326e758fdbf62cce3ff6d0b5d420.setIcon(icon_b6baccfc63b41ce85003060029264b88);\n",
       "        \n",
       "    \n",
       "        var popup_9c860f118bc1f2446d41f4bd81eeb17a = L.popup({&quot;maxWidth&quot;: &quot;100%&quot;});\n",
       "\n",
       "        \n",
       "            \n",
       "                var html_86c49a158d902603312398425b6bfa80 = $(`&lt;div id=&quot;html_86c49a158d902603312398425b6bfa80&quot; style=&quot;width: 100.0%; height: 100.0%;&quot;&gt;(67.0, 3455.0)&lt;/div&gt;`)[0];\n",
       "                popup_9c860f118bc1f2446d41f4bd81eeb17a.setContent(html_86c49a158d902603312398425b6bfa80);\n",
       "            \n",
       "        \n",
       "\n",
       "        marker_d43d326e758fdbf62cce3ff6d0b5d420.bindPopup(popup_9c860f118bc1f2446d41f4bd81eeb17a)\n",
       "        ;\n",
       "\n",
       "        \n",
       "    \n",
       "    \n",
       "            var marker_413658dea2962d0054da692996262a7a = L.marker(\n",
       "                [42.36507, -71.1031],\n",
       "                {}\n",
       "            ).addTo(map_eee4d751f086b525c65f9e65370a99d8);\n",
       "        \n",
       "    \n",
       "            var icon_7e4376582eb4b36b85615bc2c2c0a191 = L.AwesomeMarkers.icon(\n",
       "                {&quot;extraClasses&quot;: &quot;fa-rotate-0&quot;, &quot;icon&quot;: &quot;bicycle&quot;, &quot;iconColor&quot;: &quot;white&quot;, &quot;markerColor&quot;: &quot;blue&quot;, &quot;prefix&quot;: &quot;fa&quot;}\n",
       "            );\n",
       "            marker_413658dea2962d0054da692996262a7a.setIcon(icon_7e4376582eb4b36b85615bc2c2c0a191);\n",
       "        \n",
       "    \n",
       "        var popup_436e30c67ca4a012a8445b971a4f171e = L.popup({&quot;maxWidth&quot;: &quot;100%&quot;});\n",
       "\n",
       "        \n",
       "            \n",
       "                var html_1d37dc7a29e3c75326317d8d9c8b0da8 = $(`&lt;div id=&quot;html_1d37dc7a29e3c75326317d8d9c8b0da8&quot; style=&quot;width: 100.0%; height: 100.0%;&quot;&gt;(68.0, 3455.0)&lt;/div&gt;`)[0];\n",
       "                popup_436e30c67ca4a012a8445b971a4f171e.setContent(html_1d37dc7a29e3c75326317d8d9c8b0da8);\n",
       "            \n",
       "        \n",
       "\n",
       "        marker_413658dea2962d0054da692996262a7a.bindPopup(popup_436e30c67ca4a012a8445b971a4f171e)\n",
       "        ;\n",
       "\n",
       "        \n",
       "    \n",
       "    \n",
       "            var poly_line_8edf2f36693a7900a49381f6fade352e = L.polyline(\n",
       "                [[42.402763, -71.126908], [42.396969, -71.123024]],\n",
       "                {&quot;bubblingMouseEvents&quot;: true, &quot;color&quot;: &quot;red&quot;, &quot;dashArray&quot;: null, &quot;dashOffset&quot;: null, &quot;fill&quot;: false, &quot;fillColor&quot;: &quot;red&quot;, &quot;fillOpacity&quot;: 0.2, &quot;fillRule&quot;: &quot;evenodd&quot;, &quot;lineCap&quot;: &quot;round&quot;, &quot;lineJoin&quot;: &quot;round&quot;, &quot;noClip&quot;: false, &quot;opacity&quot;: 1, &quot;smoothFactor&quot;: 1.0, &quot;stroke&quot;: true, &quot;weight&quot;: 2.5}\n",
       "            ).addTo(map_eee4d751f086b525c65f9e65370a99d8);\n",
       "        \n",
       "    \n",
       "            var marker_5efe5119c9c9430732cff9e40e994936 = L.marker(\n",
       "                [42.402763, -71.126908],\n",
       "                {}\n",
       "            ).addTo(map_eee4d751f086b525c65f9e65370a99d8);\n",
       "        \n",
       "    \n",
       "            var icon_0bfb2e6f00f7086d3587b6fcfbdabe15 = L.AwesomeMarkers.icon(\n",
       "                {&quot;extraClasses&quot;: &quot;fa-rotate-0&quot;, &quot;icon&quot;: &quot;bicycle&quot;, &quot;iconColor&quot;: &quot;white&quot;, &quot;markerColor&quot;: &quot;blue&quot;, &quot;prefix&quot;: &quot;fa&quot;}\n",
       "            );\n",
       "            marker_5efe5119c9c9430732cff9e40e994936.setIcon(icon_0bfb2e6f00f7086d3587b6fcfbdabe15);\n",
       "        \n",
       "    \n",
       "        var popup_5af0d06e4399ac010f50e6548c63b582 = L.popup({&quot;maxWidth&quot;: &quot;100%&quot;});\n",
       "\n",
       "        \n",
       "            \n",
       "                var html_decce0984e9b39e3581d3a5489eb7e31 = $(`&lt;div id=&quot;html_decce0984e9b39e3581d3a5489eb7e31&quot; style=&quot;width: 100.0%; height: 100.0%;&quot;&gt;(114.0, 3202.0)&lt;/div&gt;`)[0];\n",
       "                popup_5af0d06e4399ac010f50e6548c63b582.setContent(html_decce0984e9b39e3581d3a5489eb7e31);\n",
       "            \n",
       "        \n",
       "\n",
       "        marker_5efe5119c9c9430732cff9e40e994936.bindPopup(popup_5af0d06e4399ac010f50e6548c63b582)\n",
       "        ;\n",
       "\n",
       "        \n",
       "    \n",
       "    \n",
       "            var marker_d1484391166b9594c35786aa4216e597 = L.marker(\n",
       "                [42.396969, -71.123024],\n",
       "                {}\n",
       "            ).addTo(map_eee4d751f086b525c65f9e65370a99d8);\n",
       "        \n",
       "    \n",
       "            var icon_7123c6edec98c8754f897d47390f376d = L.AwesomeMarkers.icon(\n",
       "                {&quot;extraClasses&quot;: &quot;fa-rotate-0&quot;, &quot;icon&quot;: &quot;bicycle&quot;, &quot;iconColor&quot;: &quot;white&quot;, &quot;markerColor&quot;: &quot;blue&quot;, &quot;prefix&quot;: &quot;fa&quot;}\n",
       "            );\n",
       "            marker_d1484391166b9594c35786aa4216e597.setIcon(icon_7123c6edec98c8754f897d47390f376d);\n",
       "        \n",
       "    \n",
       "        var popup_1022cfd7ad4ce6fc2c273b52d5b1f72e = L.popup({&quot;maxWidth&quot;: &quot;100%&quot;});\n",
       "\n",
       "        \n",
       "            \n",
       "                var html_6ace53b337513fa1e2179f3774d7ecb6 = $(`&lt;div id=&quot;html_6ace53b337513fa1e2179f3774d7ecb6&quot; style=&quot;width: 100.0%; height: 100.0%;&quot;&gt;(100.0, 3202.0)&lt;/div&gt;`)[0];\n",
       "                popup_1022cfd7ad4ce6fc2c273b52d5b1f72e.setContent(html_6ace53b337513fa1e2179f3774d7ecb6);\n",
       "            \n",
       "        \n",
       "\n",
       "        marker_d1484391166b9594c35786aa4216e597.bindPopup(popup_1022cfd7ad4ce6fc2c273b52d5b1f72e)\n",
       "        ;\n",
       "\n",
       "        \n",
       "    \n",
       "    \n",
       "            var poly_line_964600077ed4ffb62e1d24b4bdb324e2 = L.polyline(\n",
       "                [[42.35977, -71.051601], [42.352175, -71.055547]],\n",
       "                {&quot;bubblingMouseEvents&quot;: true, &quot;color&quot;: &quot;red&quot;, &quot;dashArray&quot;: null, &quot;dashOffset&quot;: null, &quot;fill&quot;: false, &quot;fillColor&quot;: &quot;red&quot;, &quot;fillOpacity&quot;: 0.2, &quot;fillRule&quot;: &quot;evenodd&quot;, &quot;lineCap&quot;: &quot;round&quot;, &quot;lineJoin&quot;: &quot;round&quot;, &quot;noClip&quot;: false, &quot;opacity&quot;: 1, &quot;smoothFactor&quot;: 1.0, &quot;stroke&quot;: true, &quot;weight&quot;: 2.5}\n",
       "            ).addTo(map_eee4d751f086b525c65f9e65370a99d8);\n",
       "        \n",
       "    \n",
       "            var marker_a264611778584e31366ad9f0f43215d5 = L.marker(\n",
       "                [42.35977, -71.051601],\n",
       "                {}\n",
       "            ).addTo(map_eee4d751f086b525c65f9e65370a99d8);\n",
       "        \n",
       "    \n",
       "            var icon_cf049ce5a8cb4e499ef4c057bdb23b77 = L.AwesomeMarkers.icon(\n",
       "                {&quot;extraClasses&quot;: &quot;fa-rotate-0&quot;, &quot;icon&quot;: &quot;bicycle&quot;, &quot;iconColor&quot;: &quot;white&quot;, &quot;markerColor&quot;: &quot;blue&quot;, &quot;prefix&quot;: &quot;fa&quot;}\n",
       "            );\n",
       "            marker_a264611778584e31366ad9f0f43215d5.setIcon(icon_cf049ce5a8cb4e499ef4c057bdb23b77);\n",
       "        \n",
       "    \n",
       "        var popup_c47f8dfe313bda192a75adf3cdac1034 = L.popup({&quot;maxWidth&quot;: &quot;100%&quot;});\n",
       "\n",
       "        \n",
       "            \n",
       "                var html_789b18f7f1309feaa1ea9c4cd300a011 = $(`&lt;div id=&quot;html_789b18f7f1309feaa1ea9c4cd300a011&quot; style=&quot;width: 100.0%; height: 100.0%;&quot;&gt;(20.0, 2995.0)&lt;/div&gt;`)[0];\n",
       "                popup_c47f8dfe313bda192a75adf3cdac1034.setContent(html_789b18f7f1309feaa1ea9c4cd300a011);\n",
       "            \n",
       "        \n",
       "\n",
       "        marker_a264611778584e31366ad9f0f43215d5.bindPopup(popup_c47f8dfe313bda192a75adf3cdac1034)\n",
       "        ;\n",
       "\n",
       "        \n",
       "    \n",
       "    \n",
       "            var marker_746317bb6f80ba018173f9bfff30b192 = L.marker(\n",
       "                [42.352175, -71.055547],\n",
       "                {}\n",
       "            ).addTo(map_eee4d751f086b525c65f9e65370a99d8);\n",
       "        \n",
       "    \n",
       "            var icon_103e4924f92223618525bebd328e8255 = L.AwesomeMarkers.icon(\n",
       "                {&quot;extraClasses&quot;: &quot;fa-rotate-0&quot;, &quot;icon&quot;: &quot;bicycle&quot;, &quot;iconColor&quot;: &quot;white&quot;, &quot;markerColor&quot;: &quot;blue&quot;, &quot;prefix&quot;: &quot;fa&quot;}\n",
       "            );\n",
       "            marker_746317bb6f80ba018173f9bfff30b192.setIcon(icon_103e4924f92223618525bebd328e8255);\n",
       "        \n",
       "    \n",
       "        var popup_9e9863f765f5ae5bdc40e70cbf52aee0 = L.popup({&quot;maxWidth&quot;: &quot;100%&quot;});\n",
       "\n",
       "        \n",
       "            \n",
       "                var html_510fedfd28169e680da23e5aab6a6961 = $(`&lt;div id=&quot;html_510fedfd28169e680da23e5aab6a6961&quot; style=&quot;width: 100.0%; height: 100.0%;&quot;&gt;(22.0, 2995.0)&lt;/div&gt;`)[0];\n",
       "                popup_9e9863f765f5ae5bdc40e70cbf52aee0.setContent(html_510fedfd28169e680da23e5aab6a6961);\n",
       "            \n",
       "        \n",
       "\n",
       "        marker_746317bb6f80ba018173f9bfff30b192.bindPopup(popup_9e9863f765f5ae5bdc40e70cbf52aee0)\n",
       "        ;\n",
       "\n",
       "        \n",
       "    \n",
       "    \n",
       "            var poly_line_496536c9e061d3361570d487644339a1 = L.polyline(\n",
       "                [[42.3581, -71.093198], [42.36346469304347, -71.10057324171066]],\n",
       "                {&quot;bubblingMouseEvents&quot;: true, &quot;color&quot;: &quot;red&quot;, &quot;dashArray&quot;: null, &quot;dashOffset&quot;: null, &quot;fill&quot;: false, &quot;fillColor&quot;: &quot;red&quot;, &quot;fillOpacity&quot;: 0.2, &quot;fillRule&quot;: &quot;evenodd&quot;, &quot;lineCap&quot;: &quot;round&quot;, &quot;lineJoin&quot;: &quot;round&quot;, &quot;noClip&quot;: false, &quot;opacity&quot;: 1, &quot;smoothFactor&quot;: 1.0, &quot;stroke&quot;: true, &quot;weight&quot;: 2.5}\n",
       "            ).addTo(map_eee4d751f086b525c65f9e65370a99d8);\n",
       "        \n",
       "    \n",
       "            var marker_e16fe50b107d35924241f2338a4cff0d = L.marker(\n",
       "                [42.3581, -71.093198],\n",
       "                {}\n",
       "            ).addTo(map_eee4d751f086b525c65f9e65370a99d8);\n",
       "        \n",
       "    \n",
       "            var icon_8bcd25c7ee736253730dab9589357c1d = L.AwesomeMarkers.icon(\n",
       "                {&quot;extraClasses&quot;: &quot;fa-rotate-0&quot;, &quot;icon&quot;: &quot;bicycle&quot;, &quot;iconColor&quot;: &quot;white&quot;, &quot;markerColor&quot;: &quot;blue&quot;, &quot;prefix&quot;: &quot;fa&quot;}\n",
       "            );\n",
       "            marker_e16fe50b107d35924241f2338a4cff0d.setIcon(icon_8bcd25c7ee736253730dab9589357c1d);\n",
       "        \n",
       "    \n",
       "        var popup_d5ad477b0b172ca51d1033fd6801416b = L.popup({&quot;maxWidth&quot;: &quot;100%&quot;});\n",
       "\n",
       "        \n",
       "            \n",
       "                var html_1444b754513c6adb2e386f3f48d088b6 = $(`&lt;div id=&quot;html_1444b754513c6adb2e386f3f48d088b6&quot; style=&quot;width: 100.0%; height: 100.0%;&quot;&gt;(67.0, 2904.0)&lt;/div&gt;`)[0];\n",
       "                popup_d5ad477b0b172ca51d1033fd6801416b.setContent(html_1444b754513c6adb2e386f3f48d088b6);\n",
       "            \n",
       "        \n",
       "\n",
       "        marker_e16fe50b107d35924241f2338a4cff0d.bindPopup(popup_d5ad477b0b172ca51d1033fd6801416b)\n",
       "        ;\n",
       "\n",
       "        \n",
       "    \n",
       "    \n",
       "            var marker_eee8c8007df8086a6dad6f8d3030cb59 = L.marker(\n",
       "                [42.36346469304347, -71.10057324171066],\n",
       "                {}\n",
       "            ).addTo(map_eee4d751f086b525c65f9e65370a99d8);\n",
       "        \n",
       "    \n",
       "            var icon_1fc35fe6400ba140dfedc6dc44af6ee8 = L.AwesomeMarkers.icon(\n",
       "                {&quot;extraClasses&quot;: &quot;fa-rotate-0&quot;, &quot;icon&quot;: &quot;bicycle&quot;, &quot;iconColor&quot;: &quot;white&quot;, &quot;markerColor&quot;: &quot;blue&quot;, &quot;prefix&quot;: &quot;fa&quot;}\n",
       "            );\n",
       "            marker_eee8c8007df8086a6dad6f8d3030cb59.setIcon(icon_1fc35fe6400ba140dfedc6dc44af6ee8);\n",
       "        \n",
       "    \n",
       "        var popup_77ccaa5573908f2198e4013d72d420aa = L.popup({&quot;maxWidth&quot;: &quot;100%&quot;});\n",
       "\n",
       "        \n",
       "            \n",
       "                var html_55c3020cff119961a54c0aa4af1c90ed = $(`&lt;div id=&quot;html_55c3020cff119961a54c0aa4af1c90ed&quot; style=&quot;width: 100.0%; height: 100.0%;&quot;&gt;(75.0, 2904.0)&lt;/div&gt;`)[0];\n",
       "                popup_77ccaa5573908f2198e4013d72d420aa.setContent(html_55c3020cff119961a54c0aa4af1c90ed);\n",
       "            \n",
       "        \n",
       "\n",
       "        marker_eee8c8007df8086a6dad6f8d3030cb59.bindPopup(popup_77ccaa5573908f2198e4013d72d420aa)\n",
       "        ;\n",
       "\n",
       "        \n",
       "    \n",
       "    \n",
       "            var poly_line_0122aa801fbbf45ba963555b7876dda9 = L.polyline(\n",
       "                [[42.3581, -71.093198], [42.373268, -71.118579]],\n",
       "                {&quot;bubblingMouseEvents&quot;: true, &quot;color&quot;: &quot;red&quot;, &quot;dashArray&quot;: null, &quot;dashOffset&quot;: null, &quot;fill&quot;: false, &quot;fillColor&quot;: &quot;red&quot;, &quot;fillOpacity&quot;: 0.2, &quot;fillRule&quot;: &quot;evenodd&quot;, &quot;lineCap&quot;: &quot;round&quot;, &quot;lineJoin&quot;: &quot;round&quot;, &quot;noClip&quot;: false, &quot;opacity&quot;: 1, &quot;smoothFactor&quot;: 1.0, &quot;stroke&quot;: true, &quot;weight&quot;: 2.5}\n",
       "            ).addTo(map_eee4d751f086b525c65f9e65370a99d8);\n",
       "        \n",
       "    \n",
       "            var marker_4c91eeff41c8c5f56e33cfcdb0e9bba6 = L.marker(\n",
       "                [42.3581, -71.093198],\n",
       "                {}\n",
       "            ).addTo(map_eee4d751f086b525c65f9e65370a99d8);\n",
       "        \n",
       "    \n",
       "            var icon_bee3924b88ec40440cbf93255739212b = L.AwesomeMarkers.icon(\n",
       "                {&quot;extraClasses&quot;: &quot;fa-rotate-0&quot;, &quot;icon&quot;: &quot;bicycle&quot;, &quot;iconColor&quot;: &quot;white&quot;, &quot;markerColor&quot;: &quot;blue&quot;, &quot;prefix&quot;: &quot;fa&quot;}\n",
       "            );\n",
       "            marker_4c91eeff41c8c5f56e33cfcdb0e9bba6.setIcon(icon_bee3924b88ec40440cbf93255739212b);\n",
       "        \n",
       "    \n",
       "        var popup_e43a99239e0d5a8251e02cb402e41ce1 = L.popup({&quot;maxWidth&quot;: &quot;100%&quot;});\n",
       "\n",
       "        \n",
       "            \n",
       "                var html_80c9ec3033d52dd6d338f62e665410a0 = $(`&lt;div id=&quot;html_80c9ec3033d52dd6d338f62e665410a0&quot; style=&quot;width: 100.0%; height: 100.0%;&quot;&gt;(67.0, 2711.0)&lt;/div&gt;`)[0];\n",
       "                popup_e43a99239e0d5a8251e02cb402e41ce1.setContent(html_80c9ec3033d52dd6d338f62e665410a0);\n",
       "            \n",
       "        \n",
       "\n",
       "        marker_4c91eeff41c8c5f56e33cfcdb0e9bba6.bindPopup(popup_e43a99239e0d5a8251e02cb402e41ce1)\n",
       "        ;\n",
       "\n",
       "        \n",
       "    \n",
       "    \n",
       "            var marker_8f40eeaaed8ee263dcafd48b55e1fb78 = L.marker(\n",
       "                [42.373268, -71.118579],\n",
       "                {}\n",
       "            ).addTo(map_eee4d751f086b525c65f9e65370a99d8);\n",
       "        \n",
       "    \n",
       "            var icon_e6b0c18fcd2c52bd191ea33b4952d7ba = L.AwesomeMarkers.icon(\n",
       "                {&quot;extraClasses&quot;: &quot;fa-rotate-0&quot;, &quot;icon&quot;: &quot;bicycle&quot;, &quot;iconColor&quot;: &quot;white&quot;, &quot;markerColor&quot;: &quot;blue&quot;, &quot;prefix&quot;: &quot;fa&quot;}\n",
       "            );\n",
       "            marker_8f40eeaaed8ee263dcafd48b55e1fb78.setIcon(icon_e6b0c18fcd2c52bd191ea33b4952d7ba);\n",
       "        \n",
       "    \n",
       "        var popup_319a8ad36dc79e947175c605f4b99223 = L.popup({&quot;maxWidth&quot;: &quot;100%&quot;});\n",
       "\n",
       "        \n",
       "            \n",
       "                var html_56a62dd0cfa96a3c64c85e7502967aa3 = $(`&lt;div id=&quot;html_56a62dd0cfa96a3c64c85e7502967aa3&quot; style=&quot;width: 100.0%; height: 100.0%;&quot;&gt;(74.0, 2711.0)&lt;/div&gt;`)[0];\n",
       "                popup_319a8ad36dc79e947175c605f4b99223.setContent(html_56a62dd0cfa96a3c64c85e7502967aa3);\n",
       "            \n",
       "        \n",
       "\n",
       "        marker_8f40eeaaed8ee263dcafd48b55e1fb78.bindPopup(popup_319a8ad36dc79e947175c605f4b99223)\n",
       "        ;\n",
       "\n",
       "        \n",
       "    \n",
       "    \n",
       "            var poly_line_aef2d133e5155f01500d50cf84bfcbae = L.polyline(\n",
       "                [[42.3581, -71.093198], [42.3625, -71.08822]],\n",
       "                {&quot;bubblingMouseEvents&quot;: true, &quot;color&quot;: &quot;red&quot;, &quot;dashArray&quot;: null, &quot;dashOffset&quot;: null, &quot;fill&quot;: false, &quot;fillColor&quot;: &quot;red&quot;, &quot;fillOpacity&quot;: 0.2, &quot;fillRule&quot;: &quot;evenodd&quot;, &quot;lineCap&quot;: &quot;round&quot;, &quot;lineJoin&quot;: &quot;round&quot;, &quot;noClip&quot;: false, &quot;opacity&quot;: 1, &quot;smoothFactor&quot;: 1.0, &quot;stroke&quot;: true, &quot;weight&quot;: 2.5}\n",
       "            ).addTo(map_eee4d751f086b525c65f9e65370a99d8);\n",
       "        \n",
       "    \n",
       "            var marker_d6a1dc9df8d3df53bb937e8320c0b838 = L.marker(\n",
       "                [42.3581, -71.093198],\n",
       "                {}\n",
       "            ).addTo(map_eee4d751f086b525c65f9e65370a99d8);\n",
       "        \n",
       "    \n",
       "            var icon_9240c79944ee86ebe99eb5a1f3c8155c = L.AwesomeMarkers.icon(\n",
       "                {&quot;extraClasses&quot;: &quot;fa-rotate-0&quot;, &quot;icon&quot;: &quot;bicycle&quot;, &quot;iconColor&quot;: &quot;white&quot;, &quot;markerColor&quot;: &quot;blue&quot;, &quot;prefix&quot;: &quot;fa&quot;}\n",
       "            );\n",
       "            marker_d6a1dc9df8d3df53bb937e8320c0b838.setIcon(icon_9240c79944ee86ebe99eb5a1f3c8155c);\n",
       "        \n",
       "    \n",
       "        var popup_c5a3255c2b9756800f4a96ad3f374277 = L.popup({&quot;maxWidth&quot;: &quot;100%&quot;});\n",
       "\n",
       "        \n",
       "            \n",
       "                var html_739ce48ba46050794825a65652252467 = $(`&lt;div id=&quot;html_739ce48ba46050794825a65652252467&quot; style=&quot;width: 100.0%; height: 100.0%;&quot;&gt;(67.0, 2617.0)&lt;/div&gt;`)[0];\n",
       "                popup_c5a3255c2b9756800f4a96ad3f374277.setContent(html_739ce48ba46050794825a65652252467);\n",
       "            \n",
       "        \n",
       "\n",
       "        marker_d6a1dc9df8d3df53bb937e8320c0b838.bindPopup(popup_c5a3255c2b9756800f4a96ad3f374277)\n",
       "        ;\n",
       "\n",
       "        \n",
       "    \n",
       "    \n",
       "            var marker_fdcd0a7b0daf373044d6097bdfa033af = L.marker(\n",
       "                [42.3625, -71.08822],\n",
       "                {}\n",
       "            ).addTo(map_eee4d751f086b525c65f9e65370a99d8);\n",
       "        \n",
       "    \n",
       "            var icon_fb1d30543e3e1d71434f5e61883c3ef3 = L.AwesomeMarkers.icon(\n",
       "                {&quot;extraClasses&quot;: &quot;fa-rotate-0&quot;, &quot;icon&quot;: &quot;bicycle&quot;, &quot;iconColor&quot;: &quot;white&quot;, &quot;markerColor&quot;: &quot;blue&quot;, &quot;prefix&quot;: &quot;fa&quot;}\n",
       "            );\n",
       "            marker_fdcd0a7b0daf373044d6097bdfa033af.setIcon(icon_fb1d30543e3e1d71434f5e61883c3ef3);\n",
       "        \n",
       "    \n",
       "        var popup_82c209b94dcc2436107f656973b8b71b = L.popup({&quot;maxWidth&quot;: &quot;100%&quot;});\n",
       "\n",
       "        \n",
       "            \n",
       "                var html_91acbdee61c65adbb576218f1db4b814 = $(`&lt;div id=&quot;html_91acbdee61c65adbb576218f1db4b814&quot; style=&quot;width: 100.0%; height: 100.0%;&quot;&gt;(107.0, 2617.0)&lt;/div&gt;`)[0];\n",
       "                popup_82c209b94dcc2436107f656973b8b71b.setContent(html_91acbdee61c65adbb576218f1db4b814);\n",
       "            \n",
       "        \n",
       "\n",
       "        marker_fdcd0a7b0daf373044d6097bdfa033af.bindPopup(popup_82c209b94dcc2436107f656973b8b71b)\n",
       "        ;\n",
       "\n",
       "        \n",
       "    \n",
       "    \n",
       "            var poly_line_df26a21d67d850b2bdcf50cd09c1b81c = L.polyline(\n",
       "                [[42.352175, -71.055547], [42.365942, -71.060515]],\n",
       "                {&quot;bubblingMouseEvents&quot;: true, &quot;color&quot;: &quot;red&quot;, &quot;dashArray&quot;: null, &quot;dashOffset&quot;: null, &quot;fill&quot;: false, &quot;fillColor&quot;: &quot;red&quot;, &quot;fillOpacity&quot;: 0.2, &quot;fillRule&quot;: &quot;evenodd&quot;, &quot;lineCap&quot;: &quot;round&quot;, &quot;lineJoin&quot;: &quot;round&quot;, &quot;noClip&quot;: false, &quot;opacity&quot;: 1, &quot;smoothFactor&quot;: 1.0, &quot;stroke&quot;: true, &quot;weight&quot;: 2.5}\n",
       "            ).addTo(map_eee4d751f086b525c65f9e65370a99d8);\n",
       "        \n",
       "    \n",
       "            var marker_6ba90b66abb135b96b7c0bbd689a6aaf = L.marker(\n",
       "                [42.352175, -71.055547],\n",
       "                {}\n",
       "            ).addTo(map_eee4d751f086b525c65f9e65370a99d8);\n",
       "        \n",
       "    \n",
       "            var icon_7a501501142f6eb2eceab3624b91e445 = L.AwesomeMarkers.icon(\n",
       "                {&quot;extraClasses&quot;: &quot;fa-rotate-0&quot;, &quot;icon&quot;: &quot;bicycle&quot;, &quot;iconColor&quot;: &quot;white&quot;, &quot;markerColor&quot;: &quot;blue&quot;, &quot;prefix&quot;: &quot;fa&quot;}\n",
       "            );\n",
       "            marker_6ba90b66abb135b96b7c0bbd689a6aaf.setIcon(icon_7a501501142f6eb2eceab3624b91e445);\n",
       "        \n",
       "    \n",
       "        var popup_6309a8a59fe705c4d296168a66c36869 = L.popup({&quot;maxWidth&quot;: &quot;100%&quot;});\n",
       "\n",
       "        \n",
       "            \n",
       "                var html_8e6efcbc175c866b3e821670f5b2672d = $(`&lt;div id=&quot;html_8e6efcbc175c866b3e821670f5b2672d&quot; style=&quot;width: 100.0%; height: 100.0%;&quot;&gt;(22.0, 2387.0)&lt;/div&gt;`)[0];\n",
       "                popup_6309a8a59fe705c4d296168a66c36869.setContent(html_8e6efcbc175c866b3e821670f5b2672d);\n",
       "            \n",
       "        \n",
       "\n",
       "        marker_6ba90b66abb135b96b7c0bbd689a6aaf.bindPopup(popup_6309a8a59fe705c4d296168a66c36869)\n",
       "        ;\n",
       "\n",
       "        \n",
       "    \n",
       "    \n",
       "            var marker_86a52fedeb63feaa642e441b10414335 = L.marker(\n",
       "                [42.365942, -71.060515],\n",
       "                {}\n",
       "            ).addTo(map_eee4d751f086b525c65f9e65370a99d8);\n",
       "        \n",
       "    \n",
       "            var icon_e4e9e3619d0cf49a17693856179f2ecf = L.AwesomeMarkers.icon(\n",
       "                {&quot;extraClasses&quot;: &quot;fa-rotate-0&quot;, &quot;icon&quot;: &quot;bicycle&quot;, &quot;iconColor&quot;: &quot;white&quot;, &quot;markerColor&quot;: &quot;blue&quot;, &quot;prefix&quot;: &quot;fa&quot;}\n",
       "            );\n",
       "            marker_86a52fedeb63feaa642e441b10414335.setIcon(icon_e4e9e3619d0cf49a17693856179f2ecf);\n",
       "        \n",
       "    \n",
       "        var popup_7038a6f171d217ff3b17545507993331 = L.popup({&quot;maxWidth&quot;: &quot;100%&quot;});\n",
       "\n",
       "        \n",
       "            \n",
       "                var html_dfeaf1ca9aa1c371d01862555047e4b0 = $(`&lt;div id=&quot;html_dfeaf1ca9aa1c371d01862555047e4b0&quot; style=&quot;width: 100.0%; height: 100.0%;&quot;&gt;(109.0, 2387.0)&lt;/div&gt;`)[0];\n",
       "                popup_7038a6f171d217ff3b17545507993331.setContent(html_dfeaf1ca9aa1c371d01862555047e4b0);\n",
       "            \n",
       "        \n",
       "\n",
       "        marker_86a52fedeb63feaa642e441b10414335.bindPopup(popup_7038a6f171d217ff3b17545507993331)\n",
       "        ;\n",
       "\n",
       "        \n",
       "    \n",
       "    \n",
       "            var poly_line_8a84599da2621c0ce485069cef82bdc4 = L.polyline(\n",
       "                [[42.3619622, -71.0920526], [42.36507, -71.1031]],\n",
       "                {&quot;bubblingMouseEvents&quot;: true, &quot;color&quot;: &quot;red&quot;, &quot;dashArray&quot;: null, &quot;dashOffset&quot;: null, &quot;fill&quot;: false, &quot;fillColor&quot;: &quot;red&quot;, &quot;fillOpacity&quot;: 0.2, &quot;fillRule&quot;: &quot;evenodd&quot;, &quot;lineCap&quot;: &quot;round&quot;, &quot;lineJoin&quot;: &quot;round&quot;, &quot;noClip&quot;: false, &quot;opacity&quot;: 1, &quot;smoothFactor&quot;: 1.0, &quot;stroke&quot;: true, &quot;weight&quot;: 2.5}\n",
       "            ).addTo(map_eee4d751f086b525c65f9e65370a99d8);\n",
       "        \n",
       "    \n",
       "            var marker_b2479f79365079289bfab5867906c1f4 = L.marker(\n",
       "                [42.3619622, -71.0920526],\n",
       "                {}\n",
       "            ).addTo(map_eee4d751f086b525c65f9e65370a99d8);\n",
       "        \n",
       "    \n",
       "            var icon_fa33b89d55c6a7fb7547a467910c3574 = L.AwesomeMarkers.icon(\n",
       "                {&quot;extraClasses&quot;: &quot;fa-rotate-0&quot;, &quot;icon&quot;: &quot;bicycle&quot;, &quot;iconColor&quot;: &quot;white&quot;, &quot;markerColor&quot;: &quot;blue&quot;, &quot;prefix&quot;: &quot;fa&quot;}\n",
       "            );\n",
       "            marker_b2479f79365079289bfab5867906c1f4.setIcon(icon_fa33b89d55c6a7fb7547a467910c3574);\n",
       "        \n",
       "    \n",
       "        var popup_aca2a682845bf766aec298bcfeda8318 = L.popup({&quot;maxWidth&quot;: &quot;100%&quot;});\n",
       "\n",
       "        \n",
       "            \n",
       "                var html_f5b7ded4605f0930455210cec8383c1e = $(`&lt;div id=&quot;html_f5b7ded4605f0930455210cec8383c1e&quot; style=&quot;width: 100.0%; height: 100.0%;&quot;&gt;(80.0, 2323.0)&lt;/div&gt;`)[0];\n",
       "                popup_aca2a682845bf766aec298bcfeda8318.setContent(html_f5b7ded4605f0930455210cec8383c1e);\n",
       "            \n",
       "        \n",
       "\n",
       "        marker_b2479f79365079289bfab5867906c1f4.bindPopup(popup_aca2a682845bf766aec298bcfeda8318)\n",
       "        ;\n",
       "\n",
       "        \n",
       "    \n",
       "    \n",
       "            var marker_cc9b24291063ce581e27b45544ccf983 = L.marker(\n",
       "                [42.36507, -71.1031],\n",
       "                {}\n",
       "            ).addTo(map_eee4d751f086b525c65f9e65370a99d8);\n",
       "        \n",
       "    \n",
       "            var icon_982d8850eb9d6fd998d210824e37b58c = L.AwesomeMarkers.icon(\n",
       "                {&quot;extraClasses&quot;: &quot;fa-rotate-0&quot;, &quot;icon&quot;: &quot;bicycle&quot;, &quot;iconColor&quot;: &quot;white&quot;, &quot;markerColor&quot;: &quot;blue&quot;, &quot;prefix&quot;: &quot;fa&quot;}\n",
       "            );\n",
       "            marker_cc9b24291063ce581e27b45544ccf983.setIcon(icon_982d8850eb9d6fd998d210824e37b58c);\n",
       "        \n",
       "    \n",
       "        var popup_d1783fe39d90ee4522be97b5da83251b = L.popup({&quot;maxWidth&quot;: &quot;100%&quot;});\n",
       "\n",
       "        \n",
       "            \n",
       "                var html_a73edc0be5fbafde8bd3cdfc79a76e41 = $(`&lt;div id=&quot;html_a73edc0be5fbafde8bd3cdfc79a76e41&quot; style=&quot;width: 100.0%; height: 100.0%;&quot;&gt;(68.0, 2323.0)&lt;/div&gt;`)[0];\n",
       "                popup_d1783fe39d90ee4522be97b5da83251b.setContent(html_a73edc0be5fbafde8bd3cdfc79a76e41);\n",
       "            \n",
       "        \n",
       "\n",
       "        marker_cc9b24291063ce581e27b45544ccf983.bindPopup(popup_d1783fe39d90ee4522be97b5da83251b)\n",
       "        ;\n",
       "\n",
       "        \n",
       "    \n",
       "&lt;/script&gt;\n",
       "&lt;/html&gt;\" style=\"position:absolute;width:100%;height:100%;left:0;top:0;border:none !important;\" allowfullscreen webkitallowfullscreen mozallowfullscreen></iframe></div></div>"
      ],
      "text/plain": [
       "<folium.folium.Map at 0x7fcfd3add2b0>"
      ]
     },
     "execution_count": 138,
     "metadata": {},
     "output_type": "execute_result"
    }
   ],
   "source": [
    "#mapping the top trips \n",
    "\n",
    "\n",
    "avg_lat = df_trips['start_station_latitude'].mean()\n",
    "avg_long = df_trips['start_station_longitude'].mean()\n",
    "\n",
    "m = folium.Map(location=[avg_lat, avg_long], zoom_start=15)\n",
    "\n",
    "points = []\n",
    "\n",
    "\n",
    "for i in range(0,len(df_top_trips)):\n",
    "    points.append([df_top_trips.iloc[i]['start_station_latitude'],df_top_trips.iloc[i]['start_station_longitude']])\n",
    "    points.append([df_top_trips.iloc[i]['end_station_latitude'],df_top_trips.iloc[i]['end_station_longitude']])\n",
    "    folium.PolyLine(points, color=\"red\", weight=2.5, opacity=1).add_to(m)\n",
    "    folium.Marker([df_top_trips.iloc[i]['start_station_latitude'],df_top_trips.iloc[i]['start_station_longitude']],popup=(df_top_trips.iloc[i]['Station_A'], df_top_trips.iloc[i]['count_trips' ]), icon = folium.Icon(color='blue',prefix='fa', icon='bicycle')).add_to(m)\n",
    "    folium.Marker([df_top_trips.iloc[i]['end_station_latitude'],df_top_trips.iloc[i]['end_station_longitude']],popup=(df_top_trips.iloc[i]['Station_B'], df_top_trips.iloc[i]['count_trips' ]), icon = folium.Icon(color='blue',prefix='fa', icon='bicycle')).add_to(m)\n",
    "    points = [] #if points is not reseted then each station will be connected with every other station in array\n",
    "\n",
    "m \n",
    "\n",
    "#findings: near universities (harvard and mit) as well as around citycenter(haymarket) and the trainstations (north and south)"
   ]
  }
 ],
 "metadata": {
  "kernelspec": {
   "display_name": "AAproject",
   "language": "python",
   "name": "python3"
  },
  "language_info": {
   "codemirror_mode": {
    "name": "ipython",
    "version": 3
   },
   "file_extension": ".py",
   "mimetype": "text/x-python",
   "name": "python",
   "nbconvert_exporter": "python",
   "pygments_lexer": "ipython3",
   "version": "3.9.15"
  },
  "vscode": {
   "interpreter": {
    "hash": "4bda6f00b1c96ac5a9a9d5d0da9c426f670222a35f5423f5287bfe0ddc8184d4"
   }
  }
 },
 "nbformat": 4,
 "nbformat_minor": 2
}
