{
 "cells": [
  {
   "cell_type": "code",
   "execution_count": 109,
   "metadata": {},
   "outputs": [
    {
     "name": "stdout",
     "output_type": "stream",
     "text": [
      "Total number of rows: 1122558\n"
     ]
    }
   ],
   "source": [
    "import pandas as pd\n",
    "import numpy as np\n",
    "\n",
    "df_boston = pd.read_csv('./data/boston_2015.csv', dtype={'start_station_id': np.int64, 'end_station_id': str, 'end_station_name': str, 'start_staiton_name': str, 'bike_id': np.int64, 'user_type': str})\n",
    "print(f'Total number of rows: {len(df_boston)}')"
   ]
  },
  {
   "cell_type": "code",
   "execution_count": 110,
   "metadata": {},
   "outputs": [
    {
     "data": {
      "text/html": [
       "<div>\n",
       "<style scoped>\n",
       "    .dataframe tbody tr th:only-of-type {\n",
       "        vertical-align: middle;\n",
       "    }\n",
       "\n",
       "    .dataframe tbody tr th {\n",
       "        vertical-align: top;\n",
       "    }\n",
       "\n",
       "    .dataframe thead th {\n",
       "        text-align: right;\n",
       "    }\n",
       "</style>\n",
       "<table border=\"1\" class=\"dataframe\">\n",
       "  <thead>\n",
       "    <tr style=\"text-align: right;\">\n",
       "      <th></th>\n",
       "      <th>start_time</th>\n",
       "      <th>end_time</th>\n",
       "      <th>start_station_id</th>\n",
       "      <th>end_station_id</th>\n",
       "      <th>start_station_name</th>\n",
       "      <th>end_station_name</th>\n",
       "      <th>bike_id</th>\n",
       "      <th>user_type</th>\n",
       "    </tr>\n",
       "  </thead>\n",
       "  <tbody>\n",
       "    <tr>\n",
       "      <th>0</th>\n",
       "      <td>2015-01-01 00:21:44</td>\n",
       "      <td>2015-01-01 00:30:47</td>\n",
       "      <td>115</td>\n",
       "      <td>96</td>\n",
       "      <td>Porter Square Station</td>\n",
       "      <td>Cambridge Main Library at Broadway / Trowbridg...</td>\n",
       "      <td>277</td>\n",
       "      <td>Subscriber</td>\n",
       "    </tr>\n",
       "    <tr>\n",
       "      <th>1</th>\n",
       "      <td>2015-01-01 00:27:03</td>\n",
       "      <td>2015-01-01 00:34:21</td>\n",
       "      <td>80</td>\n",
       "      <td>95</td>\n",
       "      <td>MIT Stata Center at Vassar St / Main St</td>\n",
       "      <td>Cambridge St - at Columbia St / Webster Ave</td>\n",
       "      <td>648</td>\n",
       "      <td>Subscriber</td>\n",
       "    </tr>\n",
       "    <tr>\n",
       "      <th>2</th>\n",
       "      <td>2015-01-01 00:31:31</td>\n",
       "      <td>2015-01-01 00:35:46</td>\n",
       "      <td>91</td>\n",
       "      <td>68</td>\n",
       "      <td>One Kendall Square at Hampshire St / Portland St</td>\n",
       "      <td>Central Square at Mass Ave / Essex St</td>\n",
       "      <td>555</td>\n",
       "      <td>Subscriber</td>\n",
       "    </tr>\n",
       "    <tr>\n",
       "      <th>3</th>\n",
       "      <td>2015-01-01 00:53:46</td>\n",
       "      <td>2015-01-01 01:00:58</td>\n",
       "      <td>115</td>\n",
       "      <td>96</td>\n",
       "      <td>Porter Square Station</td>\n",
       "      <td>Cambridge Main Library at Broadway / Trowbridg...</td>\n",
       "      <td>1307</td>\n",
       "      <td>Subscriber</td>\n",
       "    </tr>\n",
       "    <tr>\n",
       "      <th>4</th>\n",
       "      <td>2015-01-01 01:07:06</td>\n",
       "      <td>2015-01-01 01:19:21</td>\n",
       "      <td>105</td>\n",
       "      <td>88</td>\n",
       "      <td>Lower Cambridgeport at Magazine St/Riverside Rd</td>\n",
       "      <td>Inman Square at Vellucci Plaza / Hampshire St</td>\n",
       "      <td>177</td>\n",
       "      <td>Customer</td>\n",
       "    </tr>\n",
       "  </tbody>\n",
       "</table>\n",
       "</div>"
      ],
      "text/plain": [
       "            start_time             end_time  start_station_id end_station_id  \\\n",
       "0  2015-01-01 00:21:44  2015-01-01 00:30:47               115             96   \n",
       "1  2015-01-01 00:27:03  2015-01-01 00:34:21                80             95   \n",
       "2  2015-01-01 00:31:31  2015-01-01 00:35:46                91             68   \n",
       "3  2015-01-01 00:53:46  2015-01-01 01:00:58               115             96   \n",
       "4  2015-01-01 01:07:06  2015-01-01 01:19:21               105             88   \n",
       "\n",
       "                                 start_station_name  \\\n",
       "0                             Porter Square Station   \n",
       "1           MIT Stata Center at Vassar St / Main St   \n",
       "2  One Kendall Square at Hampshire St / Portland St   \n",
       "3                             Porter Square Station   \n",
       "4   Lower Cambridgeport at Magazine St/Riverside Rd   \n",
       "\n",
       "                                    end_station_name  bike_id   user_type  \n",
       "0  Cambridge Main Library at Broadway / Trowbridg...      277  Subscriber  \n",
       "1        Cambridge St - at Columbia St / Webster Ave      648  Subscriber  \n",
       "2              Central Square at Mass Ave / Essex St      555  Subscriber  \n",
       "3  Cambridge Main Library at Broadway / Trowbridg...     1307  Subscriber  \n",
       "4      Inman Square at Vellucci Plaza / Hampshire St      177    Customer  "
      ]
     },
     "execution_count": 110,
     "metadata": {},
     "output_type": "execute_result"
    }
   ],
   "source": [
    "df_boston.head()"
   ]
  },
  {
   "cell_type": "markdown",
   "metadata": {},
   "source": [
    "# Preprocessing\n",
    "### Set data type of 'end_station_id'"
   ]
  },
  {
   "cell_type": "code",
   "execution_count": 111,
   "metadata": {},
   "outputs": [
    {
     "data": {
      "text/plain": [
       "array(['96', '95', '68', '88', '76', '118', '75', '67', '36', '23', '80',\n",
       "       '46', '115', '141', '104', '73', '6', '110', '87', '91', '117',\n",
       "       '74', '107', '116', '70', '143', '97', '72', '84', '105', '51',\n",
       "       '89', '142', '38', '85', '90', '108', '145', '149', '140', '81',\n",
       "       '20', '29', '16', '109', '4', '32', '33', '21', '42', '14', '98',\n",
       "       '17', '15', '54', '1', '59', '11', '\\\\N', '9', '120', '41', '10',\n",
       "       '44', '58', '99', '60', '53', '71', '100', '55', '112', '66', '86',\n",
       "       '78', '122', '22', '40', '114', '125', '123', '39', '45', '48',\n",
       "       '24', '7', '129', '64', '135', '19', '43', '150', '49', '13',\n",
       "       '151', '65', '47', '37', '131', '3', '12', '111', '136', '25',\n",
       "       '57', '119', '5', '124', '94', '121', '27', '30', '63', '31',\n",
       "       '138', '106', '113', '133', '26', '137', '139', '8', '103', '77',\n",
       "       '93', '102', '152', '128', '130', '126', '35', '69', '56', '61',\n",
       "       '134', '50', '52', '82', '132', '79', '92', '160', '161', '162',\n",
       "       '167', '170', '163', '169', '174', '175', '159', '171', '178',\n",
       "       '176', '179', '180', '177'], dtype=object)"
      ]
     },
     "execution_count": 111,
     "metadata": {},
     "output_type": "execute_result"
    }
   ],
   "source": [
    "df_boston['end_station_id'].unique()"
   ]
  },
  {
   "cell_type": "code",
   "execution_count": 112,
   "metadata": {},
   "outputs": [
    {
     "name": "stdout",
     "output_type": "stream",
     "text": [
      "Number of \"\\\\N\" occurences in end_station_id column: 1\n",
      "<class 'pandas.core.frame.DataFrame'>\n",
      "Int64Index: 1122557 entries, 0 to 1122557\n",
      "Data columns (total 8 columns):\n",
      " #   Column              Non-Null Count    Dtype \n",
      "---  ------              --------------    ----- \n",
      " 0   start_time          1122557 non-null  object\n",
      " 1   end_time            1122557 non-null  object\n",
      " 2   start_station_id    1122557 non-null  int64 \n",
      " 3   end_station_id      1122557 non-null  int64 \n",
      " 4   start_station_name  1122557 non-null  object\n",
      " 5   end_station_name    1122557 non-null  object\n",
      " 6   bike_id             1122557 non-null  int64 \n",
      " 7   user_type           1122557 non-null  object\n",
      "dtypes: int64(3), object(5)\n",
      "memory usage: 77.1+ MB\n"
     ]
    }
   ],
   "source": [
    "# Value '\\\\N' seems to be anomaly -> occurs only once, so drop!\n",
    "num_occurences = len(df_boston.loc[df_boston[\"end_station_id\"] == \"\\\\N\"])\n",
    "print(f'Number of \"\\\\\\\\N\" occurences in end_station_id column: {num_occurences}')\n",
    "df_boston.drop(index=df_boston.loc[df_boston[\"end_station_id\"] == \"\\\\N\"].index, inplace=True, axis=1)\n",
    "\n",
    "# now set column to dtype np.int64\n",
    "df_boston = df_boston.astype({'end_station_id': np.int64})\n",
    "df_boston.info()"
   ]
  },
  {
   "cell_type": "markdown",
   "metadata": {},
   "source": [
    "### Set data type of time columns"
   ]
  },
  {
   "cell_type": "code",
   "execution_count": 113,
   "metadata": {},
   "outputs": [
    {
     "data": {
      "text/plain": [
       "start_time            datetime64[ns]\n",
       "end_time              datetime64[ns]\n",
       "start_station_id               int64\n",
       "end_station_id                 int64\n",
       "start_station_name            object\n",
       "end_station_name              object\n",
       "bike_id                        int64\n",
       "user_type                     object\n",
       "dtype: object"
      ]
     },
     "execution_count": 113,
     "metadata": {},
     "output_type": "execute_result"
    }
   ],
   "source": [
    "df_boston['start_time'] = pd.to_datetime(df_boston['start_time'], format='%Y-%m-%d %X')\n",
    "df_boston['end_time'] = pd.to_datetime(df_boston['end_time'], format='%Y-%m-%d %X')\n",
    "df_boston.dtypes"
   ]
  },
  {
   "cell_type": "markdown",
   "metadata": {},
   "source": [
    "# Feature Engineering\n",
    "#### Calculate trip_length "
   ]
  },
  {
   "cell_type": "code",
   "execution_count": 117,
   "metadata": {},
   "outputs": [
    {
     "data": {
      "text/html": [
       "<div>\n",
       "<style scoped>\n",
       "    .dataframe tbody tr th:only-of-type {\n",
       "        vertical-align: middle;\n",
       "    }\n",
       "\n",
       "    .dataframe tbody tr th {\n",
       "        vertical-align: top;\n",
       "    }\n",
       "\n",
       "    .dataframe thead th {\n",
       "        text-align: right;\n",
       "    }\n",
       "</style>\n",
       "<table border=\"1\" class=\"dataframe\">\n",
       "  <thead>\n",
       "    <tr style=\"text-align: right;\">\n",
       "      <th></th>\n",
       "      <th>start_time</th>\n",
       "      <th>end_time</th>\n",
       "      <th>start_station_id</th>\n",
       "      <th>end_station_id</th>\n",
       "      <th>start_station_name</th>\n",
       "      <th>end_station_name</th>\n",
       "      <th>bike_id</th>\n",
       "      <th>user_type</th>\n",
       "      <th>trip_length</th>\n",
       "    </tr>\n",
       "  </thead>\n",
       "  <tbody>\n",
       "    <tr>\n",
       "      <th>0</th>\n",
       "      <td>2015-01-01 00:21:44</td>\n",
       "      <td>2015-01-01 00:30:47</td>\n",
       "      <td>115</td>\n",
       "      <td>96</td>\n",
       "      <td>Porter Square Station</td>\n",
       "      <td>Cambridge Main Library at Broadway / Trowbridg...</td>\n",
       "      <td>277</td>\n",
       "      <td>Subscriber</td>\n",
       "      <td>543.0</td>\n",
       "    </tr>\n",
       "    <tr>\n",
       "      <th>1</th>\n",
       "      <td>2015-01-01 00:27:03</td>\n",
       "      <td>2015-01-01 00:34:21</td>\n",
       "      <td>80</td>\n",
       "      <td>95</td>\n",
       "      <td>MIT Stata Center at Vassar St / Main St</td>\n",
       "      <td>Cambridge St - at Columbia St / Webster Ave</td>\n",
       "      <td>648</td>\n",
       "      <td>Subscriber</td>\n",
       "      <td>438.0</td>\n",
       "    </tr>\n",
       "    <tr>\n",
       "      <th>2</th>\n",
       "      <td>2015-01-01 00:31:31</td>\n",
       "      <td>2015-01-01 00:35:46</td>\n",
       "      <td>91</td>\n",
       "      <td>68</td>\n",
       "      <td>One Kendall Square at Hampshire St / Portland St</td>\n",
       "      <td>Central Square at Mass Ave / Essex St</td>\n",
       "      <td>555</td>\n",
       "      <td>Subscriber</td>\n",
       "      <td>255.0</td>\n",
       "    </tr>\n",
       "    <tr>\n",
       "      <th>3</th>\n",
       "      <td>2015-01-01 00:53:46</td>\n",
       "      <td>2015-01-01 01:00:58</td>\n",
       "      <td>115</td>\n",
       "      <td>96</td>\n",
       "      <td>Porter Square Station</td>\n",
       "      <td>Cambridge Main Library at Broadway / Trowbridg...</td>\n",
       "      <td>1307</td>\n",
       "      <td>Subscriber</td>\n",
       "      <td>432.0</td>\n",
       "    </tr>\n",
       "    <tr>\n",
       "      <th>4</th>\n",
       "      <td>2015-01-01 01:07:06</td>\n",
       "      <td>2015-01-01 01:19:21</td>\n",
       "      <td>105</td>\n",
       "      <td>88</td>\n",
       "      <td>Lower Cambridgeport at Magazine St/Riverside Rd</td>\n",
       "      <td>Inman Square at Vellucci Plaza / Hampshire St</td>\n",
       "      <td>177</td>\n",
       "      <td>Customer</td>\n",
       "      <td>735.0</td>\n",
       "    </tr>\n",
       "  </tbody>\n",
       "</table>\n",
       "</div>"
      ],
      "text/plain": [
       "           start_time            end_time  start_station_id  end_station_id  \\\n",
       "0 2015-01-01 00:21:44 2015-01-01 00:30:47               115              96   \n",
       "1 2015-01-01 00:27:03 2015-01-01 00:34:21                80              95   \n",
       "2 2015-01-01 00:31:31 2015-01-01 00:35:46                91              68   \n",
       "3 2015-01-01 00:53:46 2015-01-01 01:00:58               115              96   \n",
       "4 2015-01-01 01:07:06 2015-01-01 01:19:21               105              88   \n",
       "\n",
       "                                 start_station_name  \\\n",
       "0                             Porter Square Station   \n",
       "1           MIT Stata Center at Vassar St / Main St   \n",
       "2  One Kendall Square at Hampshire St / Portland St   \n",
       "3                             Porter Square Station   \n",
       "4   Lower Cambridgeport at Magazine St/Riverside Rd   \n",
       "\n",
       "                                    end_station_name  bike_id   user_type  \\\n",
       "0  Cambridge Main Library at Broadway / Trowbridg...      277  Subscriber   \n",
       "1        Cambridge St - at Columbia St / Webster Ave      648  Subscriber   \n",
       "2              Central Square at Mass Ave / Essex St      555  Subscriber   \n",
       "3  Cambridge Main Library at Broadway / Trowbridg...     1307  Subscriber   \n",
       "4      Inman Square at Vellucci Plaza / Hampshire St      177    Customer   \n",
       "\n",
       "   trip_length  \n",
       "0        543.0  \n",
       "1        438.0  \n",
       "2        255.0  \n",
       "3        432.0  \n",
       "4        735.0  "
      ]
     },
     "execution_count": 117,
     "metadata": {},
     "output_type": "execute_result"
    }
   ],
   "source": [
    "df_boston['trip_length'] = (df_boston['end_time'] - df_boston['start_time'])\n",
    "df_boston['trip_length'] = df_boston['trip_length'] / np.timedelta64(1, 's')\n",
    "df_boston.head()"
   ]
  },
  {
   "cell_type": "code",
   "execution_count": 115,
   "metadata": {},
   "outputs": [
    {
     "data": {
      "text/plain": [
       "array(['Cambridge Main Library at Broadway / Trowbridge St'], dtype=object)"
      ]
     },
     "execution_count": 115,
     "metadata": {},
     "output_type": "execute_result"
    }
   ],
   "source": [
    "# len(df_boston['start_station_name'].unique())\n",
    "df_boston.loc[df_boston['start_station_id'] == 96]['start_station_name'].unique()"
   ]
  },
  {
   "cell_type": "code",
   "execution_count": 116,
   "metadata": {},
   "outputs": [
    {
     "ename": "TypeError",
     "evalue": "The axis argument to unique is not supported for dtype object",
     "output_type": "error",
     "traceback": [
      "\u001b[0;31m---------------------------------------------------------------------------\u001b[0m",
      "\u001b[0;31mTypeError\u001b[0m                                 Traceback (most recent call last)",
      "File \u001b[0;32m~/anaconda3/envs/aaWorkshop/lib/python3.9/site-packages/numpy/lib/arraysetops.py:297\u001b[0m, in \u001b[0;36munique\u001b[0;34m(ar, return_index, return_inverse, return_counts, axis, equal_nan)\u001b[0m\n\u001b[1;32m    296\u001b[0m \u001b[39mif\u001b[39;00m ar\u001b[39m.\u001b[39mshape[\u001b[39m1\u001b[39m] \u001b[39m>\u001b[39m \u001b[39m0\u001b[39m:\n\u001b[0;32m--> 297\u001b[0m     consolidated \u001b[39m=\u001b[39m ar\u001b[39m.\u001b[39;49mview(dtype)\n\u001b[1;32m    298\u001b[0m \u001b[39melse\u001b[39;00m:\n\u001b[1;32m    299\u001b[0m     \u001b[39m# If ar.shape[1] == 0, then dtype will be `np.dtype([])`, which is\u001b[39;00m\n\u001b[1;32m    300\u001b[0m     \u001b[39m# a data type with itemsize 0, and the call `ar.view(dtype)` will\u001b[39;00m\n\u001b[1;32m    301\u001b[0m     \u001b[39m# fail.  Instead, we'll use `np.empty` to explicitly create the\u001b[39;00m\n\u001b[1;32m    302\u001b[0m     \u001b[39m# array with shape `(len(ar),)`.  Because `dtype` in this case has\u001b[39;00m\n\u001b[1;32m    303\u001b[0m     \u001b[39m# itemsize 0, the total size of the result is still 0 bytes.\u001b[39;00m\n",
      "File \u001b[0;32m~/anaconda3/envs/aaWorkshop/lib/python3.9/site-packages/numpy/core/_internal.py:549\u001b[0m, in \u001b[0;36m_view_is_safe\u001b[0;34m(oldtype, newtype)\u001b[0m\n\u001b[1;32m    548\u001b[0m \u001b[39mif\u001b[39;00m newtype\u001b[39m.\u001b[39mhasobject \u001b[39mor\u001b[39;00m oldtype\u001b[39m.\u001b[39mhasobject:\n\u001b[0;32m--> 549\u001b[0m     \u001b[39mraise\u001b[39;00m \u001b[39mTypeError\u001b[39;00m(\u001b[39m\"\u001b[39m\u001b[39mCannot change data-type for object array.\u001b[39m\u001b[39m\"\u001b[39m)\n\u001b[1;32m    550\u001b[0m \u001b[39mreturn\u001b[39;00m\n",
      "\u001b[0;31mTypeError\u001b[0m: Cannot change data-type for object array.",
      "\nThe above exception was the direct cause of the following exception:\n",
      "\u001b[0;31mTypeError\u001b[0m                                 Traceback (most recent call last)",
      "\u001b[1;32m/home/bsauter/projects/AA_Group16/data_exploration.ipynb Cell 11\u001b[0m in \u001b[0;36m<cell line: 2>\u001b[0;34m()\u001b[0m\n\u001b[1;32m      <a href='vscode-notebook-cell://wsl%2Bubuntu/home/bsauter/projects/AA_Group16/data_exploration.ipynb#W5sdnNjb2RlLXJlbW90ZQ%3D%3D?line=0'>1</a>\u001b[0m \u001b[39m# Check if station id and name always match\u001b[39;00m\n\u001b[0;32m----> <a href='vscode-notebook-cell://wsl%2Bubuntu/home/bsauter/projects/AA_Group16/data_exploration.ipynb#W5sdnNjb2RlLXJlbW90ZQ%3D%3D?line=1'>2</a>\u001b[0m unique_start_tuples \u001b[39m=\u001b[39m np\u001b[39m.\u001b[39;49munique(df_boston[[\u001b[39m'\u001b[39;49m\u001b[39mstart_station_id\u001b[39;49m\u001b[39m'\u001b[39;49m, \u001b[39m'\u001b[39;49m\u001b[39mstart_station_name\u001b[39;49m\u001b[39m'\u001b[39;49m]]\u001b[39m.\u001b[39;49mvalues, axis\u001b[39m=\u001b[39;49m\u001b[39m0\u001b[39;49m)\n\u001b[1;32m      <a href='vscode-notebook-cell://wsl%2Bubuntu/home/bsauter/projects/AA_Group16/data_exploration.ipynb#W5sdnNjb2RlLXJlbW90ZQ%3D%3D?line=2'>3</a>\u001b[0m unique_start_tuples\n",
      "File \u001b[0;32m<__array_function__ internals>:180\u001b[0m, in \u001b[0;36munique\u001b[0;34m(*args, **kwargs)\u001b[0m\n",
      "File \u001b[0;32m~/anaconda3/envs/aaWorkshop/lib/python3.9/site-packages/numpy/lib/arraysetops.py:308\u001b[0m, in \u001b[0;36munique\u001b[0;34m(ar, return_index, return_inverse, return_counts, axis, equal_nan)\u001b[0m\n\u001b[1;32m    305\u001b[0m \u001b[39mexcept\u001b[39;00m \u001b[39mTypeError\u001b[39;00m \u001b[39mas\u001b[39;00m e:\n\u001b[1;32m    306\u001b[0m     \u001b[39m# There's no good way to do this for object arrays, etc...\u001b[39;00m\n\u001b[1;32m    307\u001b[0m     msg \u001b[39m=\u001b[39m \u001b[39m'\u001b[39m\u001b[39mThe axis argument to unique is not supported for dtype \u001b[39m\u001b[39m{dt}\u001b[39;00m\u001b[39m'\u001b[39m\n\u001b[0;32m--> 308\u001b[0m     \u001b[39mraise\u001b[39;00m \u001b[39mTypeError\u001b[39;00m(msg\u001b[39m.\u001b[39mformat(dt\u001b[39m=\u001b[39mar\u001b[39m.\u001b[39mdtype)) \u001b[39mfrom\u001b[39;00m \u001b[39me\u001b[39;00m\n\u001b[1;32m    310\u001b[0m \u001b[39mdef\u001b[39;00m \u001b[39mreshape_uniq\u001b[39m(uniq):\n\u001b[1;32m    311\u001b[0m     n \u001b[39m=\u001b[39m \u001b[39mlen\u001b[39m(uniq)\n",
      "\u001b[0;31mTypeError\u001b[0m: The axis argument to unique is not supported for dtype object"
     ]
    }
   ],
   "source": [
    "# Check if station id and name always match\n",
    "unique_start_tuples = np.unique(df_boston[['start_station_id', 'start_station_name']].values, axis=0)\n",
    "unique_start_tuples"
   ]
  }
 ],
 "metadata": {
  "kernelspec": {
   "display_name": "Python 3.9.13 ('aaWorkshop': conda)",
   "language": "python",
   "name": "python3"
  },
  "language_info": {
   "codemirror_mode": {
    "name": "ipython",
    "version": 3
   },
   "file_extension": ".py",
   "mimetype": "text/x-python",
   "name": "python",
   "nbconvert_exporter": "python",
   "pygments_lexer": "ipython3",
   "version": "3.9.13"
  },
  "orig_nbformat": 4,
  "vscode": {
   "interpreter": {
    "hash": "795b57666299e416dabae68251aa093272eee9f75556c2733eccb39675e1d05f"
   }
  }
 },
 "nbformat": 4,
 "nbformat_minor": 2
}
