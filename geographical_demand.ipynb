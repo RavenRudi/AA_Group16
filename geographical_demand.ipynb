{
 "cells": [
  {
   "cell_type": "code",
   "execution_count": 140,
   "metadata": {},
   "outputs": [],
   "source": [
    "import pandas as pd\n",
    "import numpy as np\n",
    "import folium\n",
    "import plotly.express as px\n",
    "import seaborn as sns\n",
    "from folium import plugins\n",
    "from folium.plugins import HeatMap"
   ]
  },
  {
   "attachments": {},
   "cell_type": "markdown",
   "metadata": {},
   "source": [
    "# Load processed dataframe"
   ]
  },
  {
   "cell_type": "code",
   "execution_count": 141,
   "metadata": {},
   "outputs": [
    {
     "data": {
      "text/html": [
       "<div>\n",
       "<style scoped>\n",
       "    .dataframe tbody tr th:only-of-type {\n",
       "        vertical-align: middle;\n",
       "    }\n",
       "\n",
       "    .dataframe tbody tr th {\n",
       "        vertical-align: top;\n",
       "    }\n",
       "\n",
       "    .dataframe thead th {\n",
       "        text-align: right;\n",
       "    }\n",
       "</style>\n",
       "<table border=\"1\" class=\"dataframe\">\n",
       "  <thead>\n",
       "    <tr style=\"text-align: right;\">\n",
       "      <th></th>\n",
       "      <th>start_time</th>\n",
       "      <th>end_time</th>\n",
       "      <th>start_station_id</th>\n",
       "      <th>end_station_id</th>\n",
       "      <th>start_station_name</th>\n",
       "      <th>end_station_name</th>\n",
       "      <th>bike_id</th>\n",
       "      <th>user_type</th>\n",
       "      <th>trip_length</th>\n",
       "      <th>start_station_latitude</th>\n",
       "      <th>start_station_longitude</th>\n",
       "      <th>end_station_latitude</th>\n",
       "      <th>end_station_longitude</th>\n",
       "      <th>start_station_municipality</th>\n",
       "      <th>end_station_municipality</th>\n",
       "      <th>date_time</th>\n",
       "    </tr>\n",
       "  </thead>\n",
       "  <tbody>\n",
       "    <tr>\n",
       "      <th>0</th>\n",
       "      <td>2015-01-01 00:21:44</td>\n",
       "      <td>2015-01-01 00:30:47</td>\n",
       "      <td>115</td>\n",
       "      <td>96</td>\n",
       "      <td>Porter Square Station</td>\n",
       "      <td>Cambridge Main Library at Broadway / Trowbridg...</td>\n",
       "      <td>277</td>\n",
       "      <td>Subscriber</td>\n",
       "      <td>543.0</td>\n",
       "      <td>42.387995</td>\n",
       "      <td>-71.119084</td>\n",
       "      <td>42.373379</td>\n",
       "      <td>-71.111075</td>\n",
       "      <td>Cambridge</td>\n",
       "      <td>Cambridge</td>\n",
       "      <td>2015-01-01 00:00:00</td>\n",
       "    </tr>\n",
       "    <tr>\n",
       "      <th>1</th>\n",
       "      <td>2015-01-01 00:27:03</td>\n",
       "      <td>2015-01-01 00:34:21</td>\n",
       "      <td>80</td>\n",
       "      <td>95</td>\n",
       "      <td>MIT Stata Center at Vassar St / Main St</td>\n",
       "      <td>Cambridge St - at Columbia St / Webster Ave</td>\n",
       "      <td>648</td>\n",
       "      <td>Subscriber</td>\n",
       "      <td>438.0</td>\n",
       "      <td>42.361962</td>\n",
       "      <td>-71.092053</td>\n",
       "      <td>42.372969</td>\n",
       "      <td>-71.094445</td>\n",
       "      <td>Cambridge</td>\n",
       "      <td>Cambridge</td>\n",
       "      <td>2015-01-01 00:00:00</td>\n",
       "    </tr>\n",
       "    <tr>\n",
       "      <th>2</th>\n",
       "      <td>2015-01-01 00:31:31</td>\n",
       "      <td>2015-01-01 00:35:46</td>\n",
       "      <td>91</td>\n",
       "      <td>68</td>\n",
       "      <td>One Kendall Square at Hampshire St / Portland St</td>\n",
       "      <td>Central Square at Mass Ave / Essex St</td>\n",
       "      <td>555</td>\n",
       "      <td>Subscriber</td>\n",
       "      <td>255.0</td>\n",
       "      <td>42.366277</td>\n",
       "      <td>-71.091690</td>\n",
       "      <td>42.365070</td>\n",
       "      <td>-71.103100</td>\n",
       "      <td>Cambridge</td>\n",
       "      <td>Cambridge</td>\n",
       "      <td>2015-01-01 01:00:00</td>\n",
       "    </tr>\n",
       "    <tr>\n",
       "      <th>3</th>\n",
       "      <td>2015-01-01 00:53:46</td>\n",
       "      <td>2015-01-01 01:00:58</td>\n",
       "      <td>115</td>\n",
       "      <td>96</td>\n",
       "      <td>Porter Square Station</td>\n",
       "      <td>Cambridge Main Library at Broadway / Trowbridg...</td>\n",
       "      <td>1307</td>\n",
       "      <td>Subscriber</td>\n",
       "      <td>432.0</td>\n",
       "      <td>42.387995</td>\n",
       "      <td>-71.119084</td>\n",
       "      <td>42.373379</td>\n",
       "      <td>-71.111075</td>\n",
       "      <td>Cambridge</td>\n",
       "      <td>Cambridge</td>\n",
       "      <td>2015-01-01 01:00:00</td>\n",
       "    </tr>\n",
       "    <tr>\n",
       "      <th>4</th>\n",
       "      <td>2015-01-01 01:07:06</td>\n",
       "      <td>2015-01-01 01:19:21</td>\n",
       "      <td>105</td>\n",
       "      <td>88</td>\n",
       "      <td>Lower Cambridgeport at Magazine St/Riverside Rd</td>\n",
       "      <td>Inman Square at Vellucci Plaza / Hampshire St</td>\n",
       "      <td>177</td>\n",
       "      <td>Customer</td>\n",
       "      <td>735.0</td>\n",
       "      <td>42.356954</td>\n",
       "      <td>-71.113687</td>\n",
       "      <td>42.374035</td>\n",
       "      <td>-71.101427</td>\n",
       "      <td>Cambridge</td>\n",
       "      <td>Cambridge</td>\n",
       "      <td>2015-01-01 01:00:00</td>\n",
       "    </tr>\n",
       "  </tbody>\n",
       "</table>\n",
       "</div>"
      ],
      "text/plain": [
       "           start_time            end_time  start_station_id  end_station_id  \\\n",
       "0 2015-01-01 00:21:44 2015-01-01 00:30:47               115              96   \n",
       "1 2015-01-01 00:27:03 2015-01-01 00:34:21                80              95   \n",
       "2 2015-01-01 00:31:31 2015-01-01 00:35:46                91              68   \n",
       "3 2015-01-01 00:53:46 2015-01-01 01:00:58               115              96   \n",
       "4 2015-01-01 01:07:06 2015-01-01 01:19:21               105              88   \n",
       "\n",
       "                                 start_station_name  \\\n",
       "0                             Porter Square Station   \n",
       "1           MIT Stata Center at Vassar St / Main St   \n",
       "2  One Kendall Square at Hampshire St / Portland St   \n",
       "3                             Porter Square Station   \n",
       "4   Lower Cambridgeport at Magazine St/Riverside Rd   \n",
       "\n",
       "                                    end_station_name  bike_id   user_type  \\\n",
       "0  Cambridge Main Library at Broadway / Trowbridg...      277  Subscriber   \n",
       "1        Cambridge St - at Columbia St / Webster Ave      648  Subscriber   \n",
       "2              Central Square at Mass Ave / Essex St      555  Subscriber   \n",
       "3  Cambridge Main Library at Broadway / Trowbridg...     1307  Subscriber   \n",
       "4      Inman Square at Vellucci Plaza / Hampshire St      177    Customer   \n",
       "\n",
       "   trip_length  start_station_latitude  start_station_longitude  \\\n",
       "0        543.0               42.387995               -71.119084   \n",
       "1        438.0               42.361962               -71.092053   \n",
       "2        255.0               42.366277               -71.091690   \n",
       "3        432.0               42.387995               -71.119084   \n",
       "4        735.0               42.356954               -71.113687   \n",
       "\n",
       "   end_station_latitude  end_station_longitude start_station_municipality  \\\n",
       "0             42.373379             -71.111075                  Cambridge   \n",
       "1             42.372969             -71.094445                  Cambridge   \n",
       "2             42.365070             -71.103100                  Cambridge   \n",
       "3             42.373379             -71.111075                  Cambridge   \n",
       "4             42.374035             -71.101427                  Cambridge   \n",
       "\n",
       "  end_station_municipality            date_time  \n",
       "0                Cambridge  2015-01-01 00:00:00  \n",
       "1                Cambridge  2015-01-01 00:00:00  \n",
       "2                Cambridge  2015-01-01 01:00:00  \n",
       "3                Cambridge  2015-01-01 01:00:00  \n",
       "4                Cambridge  2015-01-01 01:00:00  "
      ]
     },
     "execution_count": 141,
     "metadata": {},
     "output_type": "execute_result"
    }
   ],
   "source": [
    "df_boston = pd.read_csv('./data/prepared/rides_data_prepared.csv', dtype={'start_station_id': np.int64, 'end_station_id': np.int64, 'end_station_name': 'string', 'start_station_name': 'string', 'bike_id': np.int64, 'user_type': 'string'})\n",
    "df_boston['start_time'] = pd.to_datetime(df_boston['start_time'], format='%Y-%m-%d %X')\n",
    "df_boston['end_time'] = pd.to_datetime(df_boston['end_time'], format='%Y-%m-%d %X')\n",
    "df_boston.head()"
   ]
  },
  {
   "cell_type": "code",
   "execution_count": 142,
   "metadata": {},
   "outputs": [
    {
     "data": {
      "text/html": [
       "<div>\n",
       "<style scoped>\n",
       "    .dataframe tbody tr th:only-of-type {\n",
       "        vertical-align: middle;\n",
       "    }\n",
       "\n",
       "    .dataframe tbody tr th {\n",
       "        vertical-align: top;\n",
       "    }\n",
       "\n",
       "    .dataframe thead th {\n",
       "        text-align: right;\n",
       "    }\n",
       "</style>\n",
       "<table border=\"1\" class=\"dataframe\">\n",
       "  <thead>\n",
       "    <tr style=\"text-align: right;\">\n",
       "      <th></th>\n",
       "      <th>start_time</th>\n",
       "      <th>end_time</th>\n",
       "      <th>start_station_id</th>\n",
       "      <th>end_station_id</th>\n",
       "      <th>start_station_name</th>\n",
       "      <th>end_station_name</th>\n",
       "      <th>bike_id</th>\n",
       "      <th>user_type</th>\n",
       "      <th>trip_length</th>\n",
       "      <th>start_station_latitude</th>\n",
       "      <th>start_station_longitude</th>\n",
       "      <th>end_station_latitude</th>\n",
       "      <th>end_station_longitude</th>\n",
       "      <th>start_station_municipality</th>\n",
       "      <th>end_station_municipality</th>\n",
       "      <th>date_time</th>\n",
       "    </tr>\n",
       "  </thead>\n",
       "  <tbody>\n",
       "    <tr>\n",
       "      <th>0</th>\n",
       "      <td>2015-01-01 00:21:44</td>\n",
       "      <td>2015-01-01 00:30:47</td>\n",
       "      <td>115</td>\n",
       "      <td>96</td>\n",
       "      <td>Porter Square Station</td>\n",
       "      <td>Cambridge Main Library at Broadway / Trowbridg...</td>\n",
       "      <td>277</td>\n",
       "      <td>Subscriber</td>\n",
       "      <td>543.0</td>\n",
       "      <td>42.387995</td>\n",
       "      <td>-71.119084</td>\n",
       "      <td>42.373379</td>\n",
       "      <td>-71.111075</td>\n",
       "      <td>Cambridge</td>\n",
       "      <td>Cambridge</td>\n",
       "      <td>2015-01-01 00:00:00</td>\n",
       "    </tr>\n",
       "    <tr>\n",
       "      <th>1</th>\n",
       "      <td>2015-01-01 00:27:03</td>\n",
       "      <td>2015-01-01 00:34:21</td>\n",
       "      <td>80</td>\n",
       "      <td>95</td>\n",
       "      <td>MIT Stata Center at Vassar St / Main St</td>\n",
       "      <td>Cambridge St - at Columbia St / Webster Ave</td>\n",
       "      <td>648</td>\n",
       "      <td>Subscriber</td>\n",
       "      <td>438.0</td>\n",
       "      <td>42.361962</td>\n",
       "      <td>-71.092053</td>\n",
       "      <td>42.372969</td>\n",
       "      <td>-71.094445</td>\n",
       "      <td>Cambridge</td>\n",
       "      <td>Cambridge</td>\n",
       "      <td>2015-01-01 00:00:00</td>\n",
       "    </tr>\n",
       "    <tr>\n",
       "      <th>2</th>\n",
       "      <td>2015-01-01 00:31:31</td>\n",
       "      <td>2015-01-01 00:35:46</td>\n",
       "      <td>91</td>\n",
       "      <td>68</td>\n",
       "      <td>One Kendall Square at Hampshire St / Portland St</td>\n",
       "      <td>Central Square at Mass Ave / Essex St</td>\n",
       "      <td>555</td>\n",
       "      <td>Subscriber</td>\n",
       "      <td>255.0</td>\n",
       "      <td>42.366277</td>\n",
       "      <td>-71.091690</td>\n",
       "      <td>42.365070</td>\n",
       "      <td>-71.103100</td>\n",
       "      <td>Cambridge</td>\n",
       "      <td>Cambridge</td>\n",
       "      <td>2015-01-01 01:00:00</td>\n",
       "    </tr>\n",
       "    <tr>\n",
       "      <th>3</th>\n",
       "      <td>2015-01-01 00:53:46</td>\n",
       "      <td>2015-01-01 01:00:58</td>\n",
       "      <td>115</td>\n",
       "      <td>96</td>\n",
       "      <td>Porter Square Station</td>\n",
       "      <td>Cambridge Main Library at Broadway / Trowbridg...</td>\n",
       "      <td>1307</td>\n",
       "      <td>Subscriber</td>\n",
       "      <td>432.0</td>\n",
       "      <td>42.387995</td>\n",
       "      <td>-71.119084</td>\n",
       "      <td>42.373379</td>\n",
       "      <td>-71.111075</td>\n",
       "      <td>Cambridge</td>\n",
       "      <td>Cambridge</td>\n",
       "      <td>2015-01-01 01:00:00</td>\n",
       "    </tr>\n",
       "    <tr>\n",
       "      <th>4</th>\n",
       "      <td>2015-01-01 01:07:06</td>\n",
       "      <td>2015-01-01 01:19:21</td>\n",
       "      <td>105</td>\n",
       "      <td>88</td>\n",
       "      <td>Lower Cambridgeport at Magazine St/Riverside Rd</td>\n",
       "      <td>Inman Square at Vellucci Plaza / Hampshire St</td>\n",
       "      <td>177</td>\n",
       "      <td>Customer</td>\n",
       "      <td>735.0</td>\n",
       "      <td>42.356954</td>\n",
       "      <td>-71.113687</td>\n",
       "      <td>42.374035</td>\n",
       "      <td>-71.101427</td>\n",
       "      <td>Cambridge</td>\n",
       "      <td>Cambridge</td>\n",
       "      <td>2015-01-01 01:00:00</td>\n",
       "    </tr>\n",
       "  </tbody>\n",
       "</table>\n",
       "</div>"
      ],
      "text/plain": [
       "           start_time            end_time  start_station_id  end_station_id  \\\n",
       "0 2015-01-01 00:21:44 2015-01-01 00:30:47               115              96   \n",
       "1 2015-01-01 00:27:03 2015-01-01 00:34:21                80              95   \n",
       "2 2015-01-01 00:31:31 2015-01-01 00:35:46                91              68   \n",
       "3 2015-01-01 00:53:46 2015-01-01 01:00:58               115              96   \n",
       "4 2015-01-01 01:07:06 2015-01-01 01:19:21               105              88   \n",
       "\n",
       "                                 start_station_name  \\\n",
       "0                             Porter Square Station   \n",
       "1           MIT Stata Center at Vassar St / Main St   \n",
       "2  One Kendall Square at Hampshire St / Portland St   \n",
       "3                             Porter Square Station   \n",
       "4   Lower Cambridgeport at Magazine St/Riverside Rd   \n",
       "\n",
       "                                    end_station_name  bike_id   user_type  \\\n",
       "0  Cambridge Main Library at Broadway / Trowbridg...      277  Subscriber   \n",
       "1        Cambridge St - at Columbia St / Webster Ave      648  Subscriber   \n",
       "2              Central Square at Mass Ave / Essex St      555  Subscriber   \n",
       "3  Cambridge Main Library at Broadway / Trowbridg...     1307  Subscriber   \n",
       "4      Inman Square at Vellucci Plaza / Hampshire St      177    Customer   \n",
       "\n",
       "   trip_length  start_station_latitude  start_station_longitude  \\\n",
       "0        543.0               42.387995               -71.119084   \n",
       "1        438.0               42.361962               -71.092053   \n",
       "2        255.0               42.366277               -71.091690   \n",
       "3        432.0               42.387995               -71.119084   \n",
       "4        735.0               42.356954               -71.113687   \n",
       "\n",
       "   end_station_latitude  end_station_longitude start_station_municipality  \\\n",
       "0             42.373379             -71.111075                  Cambridge   \n",
       "1             42.372969             -71.094445                  Cambridge   \n",
       "2             42.365070             -71.103100                  Cambridge   \n",
       "3             42.373379             -71.111075                  Cambridge   \n",
       "4             42.374035             -71.101427                  Cambridge   \n",
       "\n",
       "  end_station_municipality            date_time  \n",
       "0                Cambridge  2015-01-01 00:00:00  \n",
       "1                Cambridge  2015-01-01 00:00:00  \n",
       "2                Cambridge  2015-01-01 01:00:00  \n",
       "3                Cambridge  2015-01-01 01:00:00  \n",
       "4                Cambridge  2015-01-01 01:00:00  "
      ]
     },
     "execution_count": 142,
     "metadata": {},
     "output_type": "execute_result"
    }
   ],
   "source": [
    "df_boston.head()"
   ]
  },
  {
   "attachments": {},
   "cell_type": "markdown",
   "metadata": {},
   "source": [
    "# Station analysis"
   ]
  },
  {
   "cell_type": "code",
   "execution_count": 143,
   "metadata": {},
   "outputs": [],
   "source": [
    "# function to visualize station volume over year\n",
    "def map_stations(df, lat, lon, count, data):\n",
    "\n",
    "    color_scale = [(0, 'orange'), (1,'red')]\n",
    "\n",
    "    fig = px.scatter_mapbox(df, lat=lat, lon=lon, color=count, hover_data= [data],\n",
    "    color_continuous_scale=color_scale, size=count, zoom=12, height=300, width=800)\n",
    "\n",
    "    fig.update_layout(mapbox_style=\"open-street-map\")\n",
    "    fig.update_layout(margin={\"r\":0,\"t\":0,\"l\":0,\"b\":0})\n",
    "    return fig\n"
   ]
  },
  {
   "attachments": {},
   "cell_type": "markdown",
   "metadata": {},
   "source": [
    "## Starts stations volume  per year\n",
    "Visualization which contains information on how many rides start at a respective station per year"
   ]
  },
  {
   "cell_type": "code",
   "execution_count": 144,
   "metadata": {},
   "outputs": [],
   "source": [
    "#prepare dataframe to count up number of usage as start station\n",
    "#s = subscriber, c = customer\n",
    "df_s = df_boston[df_boston['user_type'] == \"Subscriber\"]\n",
    "df_c = df_boston[df_boston['user_type'] == \"Customer\"]\n",
    "df_start = df_boston.groupby(['start_station_id','start_station_latitude', 'start_station_longitude']).size().reset_index(name='counts_start')\n",
    "df_start_s = df_s.groupby(['start_station_id','start_station_latitude', 'start_station_longitude']).size().reset_index(name='counts_start')\n",
    "df_start_c = df_c.groupby(['start_station_id','start_station_latitude', 'start_station_longitude']).size().reset_index(name='counts_start')"
   ]
  },
  {
   "cell_type": "code",
   "execution_count": 145,
   "metadata": {},
   "outputs": [
    {
     "data": {
      "application/vnd.plotly.v1+json": {
       "config": {
        "plotlyServerURL": "https://plot.ly"
       },
       "data": [
        {
         "customdata": [
          [
           1
          ],
          [
           3
          ],
          [
           4
          ],
          [
           5
          ],
          [
           6
          ],
          [
           7
          ],
          [
           8
          ],
          [
           9
          ],
          [
           10
          ],
          [
           11
          ],
          [
           12
          ],
          [
           13
          ],
          [
           14
          ],
          [
           15
          ],
          [
           16
          ],
          [
           17
          ],
          [
           19
          ],
          [
           20
          ],
          [
           21
          ],
          [
           22
          ],
          [
           23
          ],
          [
           24
          ],
          [
           25
          ],
          [
           26
          ],
          [
           27
          ],
          [
           29
          ],
          [
           30
          ],
          [
           31
          ],
          [
           32
          ],
          [
           33
          ],
          [
           35
          ],
          [
           36
          ],
          [
           37
          ],
          [
           38
          ],
          [
           39
          ],
          [
           40
          ],
          [
           41
          ],
          [
           42
          ],
          [
           43
          ],
          [
           44
          ],
          [
           45
          ],
          [
           46
          ],
          [
           47
          ],
          [
           48
          ],
          [
           49
          ],
          [
           50
          ],
          [
           51
          ],
          [
           52
          ],
          [
           53
          ],
          [
           54
          ],
          [
           55
          ],
          [
           56
          ],
          [
           57
          ],
          [
           58
          ],
          [
           59
          ],
          [
           60
          ],
          [
           61
          ],
          [
           63
          ],
          [
           64
          ],
          [
           65
          ],
          [
           66
          ],
          [
           67
          ],
          [
           68
          ],
          [
           69
          ],
          [
           70
          ],
          [
           71
          ],
          [
           72
          ],
          [
           73
          ],
          [
           74
          ],
          [
           75
          ],
          [
           76
          ],
          [
           77
          ],
          [
           78
          ],
          [
           79
          ],
          [
           80
          ],
          [
           81
          ],
          [
           82
          ],
          [
           84
          ],
          [
           85
          ],
          [
           86
          ],
          [
           87
          ],
          [
           88
          ],
          [
           89
          ],
          [
           90
          ],
          [
           91
          ],
          [
           92
          ],
          [
           93
          ],
          [
           94
          ],
          [
           95
          ],
          [
           96
          ],
          [
           97
          ],
          [
           98
          ],
          [
           99
          ],
          [
           100
          ],
          [
           102
          ],
          [
           103
          ],
          [
           104
          ],
          [
           105
          ],
          [
           106
          ],
          [
           107
          ],
          [
           108
          ],
          [
           109
          ],
          [
           110
          ],
          [
           111
          ],
          [
           112
          ],
          [
           113
          ],
          [
           114
          ],
          [
           115
          ],
          [
           116
          ],
          [
           117
          ],
          [
           118
          ],
          [
           119
          ],
          [
           120
          ],
          [
           121
          ],
          [
           122
          ],
          [
           123
          ],
          [
           124
          ],
          [
           125
          ],
          [
           126
          ],
          [
           128
          ],
          [
           129
          ],
          [
           130
          ],
          [
           131
          ],
          [
           132
          ],
          [
           133
          ],
          [
           134
          ],
          [
           135
          ],
          [
           136
          ],
          [
           137
          ],
          [
           138
          ],
          [
           139
          ],
          [
           140
          ],
          [
           141
          ],
          [
           142
          ],
          [
           143
          ],
          [
           145
          ],
          [
           149
          ],
          [
           150
          ],
          [
           151
          ],
          [
           152
          ],
          [
           159
          ],
          [
           160
          ],
          [
           161
          ],
          [
           162
          ],
          [
           163
          ],
          [
           167
          ],
          [
           169
          ],
          [
           170
          ],
          [
           171
          ],
          [
           174
          ],
          [
           175
          ],
          [
           176
          ],
          [
           177
          ],
          [
           178
          ],
          [
           179
          ],
          [
           180
          ]
         ],
         "hovertemplate": "counts_start=%{marker.color}<br>start_station_latitude=%{lat}<br>start_station_longitude=%{lon}<br>start_station_id=%{customdata[0]}<extra></extra>",
         "lat": [
          42.387151,
          42.340021,
          42.345392,
          42.341814,
          42.361174,
          42.35328743453294,
          42.353334,
          42.351246,
          42.350406,
          42.338629,
          42.335911,
          42.336437,
          42.337171,
          42.361667,
          42.34807412317439,
          42.365064,
          42.347241,
          42.35977,
          42.345959,
          42.352175,
          42.35892,
          42.351205,
          42.341332,
          42.341522,
          42.331184,
          42.363732,
          42.334073,
          42.348833,
          42.343912,
          42.348706,
          42.355402,
          42.349673,
          42.357402,
          42.366222,
          42.338623,
          42.363871,
          42.352261,
          42.352033,
          42.357143,
          42.360613,
          42.344706,
          42.343864,
          42.362811,
          42.356755,
          42.351146,
          42.350989,
          42.3348756,
          42.348717,
          42.350851,
          42.354979,
          42.347265,
          42.328654,
          42.340799,
          42.355596,
          42.351356,
          42.360835,
          42.348762,
          42.344023,
          42.3511,
          42.3475,
          42.348607,
          42.3581,
          42.36507,
          42.341598,
          42.371196,
          42.383405,
          42.362613,
          42.373231,
          42.373268,
          42.36346469304347,
          42.366426,
          42.386844,
          42.379637,
          42.37842,
          42.3619622,
          42.352409,
          42.339335,
          42.366981,
          42.378338,
          42.332799,
          42.366621,
          42.374035,
          42.379011,
          42.370677,
          42.366277,
          42.314507,
          42.320494,
          42.375603,
          42.372969,
          42.373379,
          42.36919031768079,
          42.371848,
          42.385582,
          42.396969,
          42.400877,
          42.346563,
          42.380287,
          42.356954,
          42.325333,
          42.3625,
          42.377945,
          42.365942,
          42.376369,
          42.40449,
          42.39082,
          42.330716,
          42.402763,
          42.387995,
          42.370803,
          42.366095,
          42.397828,
          42.335741,
          42.356052,
          42.335693,
          42.345733,
          42.313156,
          42.309054,
          42.320998,
          42.315692,
          42.320561,
          42.377022,
          42.317225,
          42.322701,
          42.394002,
          42.310579,
          42.350413,
          42.344827,
          42.344796,
          42.398365,
          42.326599,
          42.361589,
          42.388966,
          42.36356015842989,
          42.396105,
          42.369885,
          42.392766,
          42.363796,
          42.344137,
          42.358155,
          42.345901,
          42.32797270205962,
          42.337596,
          42.3391085,
          42.309796,
          42.344792,
          42.317642,
          42.378965,
          42.303469,
          42.37408991426522,
          42.34900494405213,
          42.34894857235593,
          42.38674802045056,
          42.36264779118595,
          42.35957320109044,
          42.35560121327927,
          42.37478628706384
         ],
         "legendgroup": "",
         "lon": [
          -71.075978,
          -71.100812,
          -71.069616,
          -71.090179,
          -71.065142,
          -71.04438900947571,
          -71.137313,
          -71.115639,
          -71.108279,
          -71.1065,
          -71.088496,
          -71.073089,
          -71.102797,
          -71.13802,
          -71.07657015323639,
          -71.119233,
          -71.105301,
          -71.051601,
          -71.082578,
          -71.055547,
          -71.057629,
          -71.043983,
          -71.076847,
          -71.068922,
          -71.095171,
          -71.124565,
          -71.105221,
          -71.041747,
          -71.102221,
          -71.097009,
          -71.058087,
          -71.077303,
          -71.147782,
          -71.059914,
          -71.074182,
          -71.050877,
          -71.123831,
          -71.070627,
          -71.050699,
          -71.057452,
          -71.097515,
          -71.085918,
          -71.056067,
          -71.055407,
          -71.066289,
          -71.073644,
          -71.0790969,
          -71.085954,
          -71.089886,
          -71.063348,
          -71.088088,
          -71.084198,
          -71.081572,
          -71.07278,
          -71.059367,
          -71.0708399,
          -71.082383,
          -71.057054,
          -71.0496,
          -71.0441,
          -71.13401,
          -71.093198,
          -71.1031,
          -71.123338,
          -71.121473,
          -71.107593,
          -71.084105,
          -71.120886,
          -71.118579,
          -71.10057324171066,
          -71.105495,
          -71.09812,
          -71.095319,
          -71.105668,
          -71.0920526,
          -71.062679,
          -71.13493,
          -71.076472,
          -71.048927,
          -71.116205,
          -71.114214,
          -71.101427,
          -71.119945,
          -71.076529,
          -71.09169,
          -71.041269,
          -71.051122,
          -71.064608,
          -71.094445,
          -71.111075,
          -71.11714124679565,
          -71.060292,
          -71.113341,
          -71.123024,
          -71.116772,
          -71.128374,
          -71.125107,
          -71.113687,
          -71.075354,
          -71.08822,
          -71.116865,
          -71.060515,
          -71.114025,
          -71.123413,
          -71.10942,
          -71.057044,
          -71.126908,
          -71.119084,
          -71.104412,
          -71.086388,
          -71.130516,
          -71.03877,
          -71.069849,
          -71.045859,
          -71.100694,
          -71.11414,
          -71.11543,
          -71.110833,
          -71.098634,
          -71.06198,
          -71.056605,
          -71.065421,
          -71.099533,
          -71.120406,
          -71.107341,
          -71.07655,
          -71.028664,
          -71.031614,
          -71.107818,
          -71.066498,
          -71.107437,
          -71.132788,
          -71.08216792345047,
          -71.139459,
          -71.069957,
          -71.129042,
          -71.129164,
          -71.052608,
          -71.052163,
          -71.063187,
          -71.11089706420898,
          -71.096391,
          -71.0514432,
          -71.092225,
          -71.044024,
          -71.056664,
          -71.068607,
          -71.085347,
          -71.06905996799469,
          -71.1604106426239,
          -71.15027189254761,
          -71.11901879310608,
          -71.10006093978882,
          -71.10129475593567,
          -71.10394477844238,
          -71.13320231437683
         ],
         "marker": {
          "color": [
           49,
           4096,
           4749,
           4590,
           6967,
           2780,
           2777,
           5202,
           4788,
           6511,
           4269,
           6234,
           7798,
           1439,
           8071,
           5523,
           4523,
           6874,
           7573,
           14337,
           8476,
           4102,
           4003,
           4632,
           2911,
           2285,
           4257,
           4286,
           5824,
           10132,
           4353,
           12035,
           892,
           6501,
           5040,
           5215,
           5471,
           7996,
           4908,
           4743,
           6608,
           8162,
           8595,
           4339,
           4454,
           4754,
           1869,
           6466,
           10508,
           7909,
           7557,
           1388,
           4650,
           8506,
           4611,
           11174,
           7227,
           1640,
           4916,
           3509,
           3901,
           25889,
           15470,
           4426,
           6196,
           3909,
           11071,
           7744,
           18366,
           15126,
           10225,
           1448,
           4266,
           3252,
           13963,
           6661,
           2211,
           6696,
           2851,
           2747,
           8078,
           9091,
           5343,
           7670,
           9849,
           511,
           967,
           3133,
           6840,
           7809,
           5043,
           6573,
           2624,
           5772,
           1067,
           2515,
           4823,
           7972,
           595,
           11878,
           6960,
           9375,
           7877,
           1253,
           1627,
           1528,
           2080,
           7115,
           6850,
           4889,
           2557,
           2562,
           5706,
           2831,
           2166,
           1357,
           1521,
           2266,
           993,
           321,
           1675,
           471,
           2087,
           1006,
           2119,
           2803,
           2437,
           2849,
           957,
           742,
           3840,
           1998,
           4431,
           1858,
           4353,
           896,
           3674,
           3229,
           3947,
           3447,
           128,
           602,
           454,
           47,
           405,
           45,
           302,
           32,
           187,
           65,
           145,
           198,
           690,
           1113,
           843,
           146
          ],
          "coloraxis": "coloraxis",
          "size": [
           49,
           4096,
           4749,
           4590,
           6967,
           2780,
           2777,
           5202,
           4788,
           6511,
           4269,
           6234,
           7798,
           1439,
           8071,
           5523,
           4523,
           6874,
           7573,
           14337,
           8476,
           4102,
           4003,
           4632,
           2911,
           2285,
           4257,
           4286,
           5824,
           10132,
           4353,
           12035,
           892,
           6501,
           5040,
           5215,
           5471,
           7996,
           4908,
           4743,
           6608,
           8162,
           8595,
           4339,
           4454,
           4754,
           1869,
           6466,
           10508,
           7909,
           7557,
           1388,
           4650,
           8506,
           4611,
           11174,
           7227,
           1640,
           4916,
           3509,
           3901,
           25889,
           15470,
           4426,
           6196,
           3909,
           11071,
           7744,
           18366,
           15126,
           10225,
           1448,
           4266,
           3252,
           13963,
           6661,
           2211,
           6696,
           2851,
           2747,
           8078,
           9091,
           5343,
           7670,
           9849,
           511,
           967,
           3133,
           6840,
           7809,
           5043,
           6573,
           2624,
           5772,
           1067,
           2515,
           4823,
           7972,
           595,
           11878,
           6960,
           9375,
           7877,
           1253,
           1627,
           1528,
           2080,
           7115,
           6850,
           4889,
           2557,
           2562,
           5706,
           2831,
           2166,
           1357,
           1521,
           2266,
           993,
           321,
           1675,
           471,
           2087,
           1006,
           2119,
           2803,
           2437,
           2849,
           957,
           742,
           3840,
           1998,
           4431,
           1858,
           4353,
           896,
           3674,
           3229,
           3947,
           3447,
           128,
           602,
           454,
           47,
           405,
           45,
           302,
           32,
           187,
           65,
           145,
           198,
           690,
           1113,
           843,
           146
          ],
          "sizemode": "area",
          "sizeref": 64.7225
         },
         "mode": "markers",
         "name": "",
         "showlegend": false,
         "subplot": "mapbox",
         "type": "scattermapbox"
        }
       ],
       "layout": {
        "coloraxis": {
         "colorbar": {
          "title": {
           "text": "counts_start"
          }
         },
         "colorscale": [
          [
           0,
           "orange"
          ],
          [
           1,
           "red"
          ]
         ]
        },
        "height": 300,
        "legend": {
         "itemsizing": "constant",
         "tracegroupgap": 0
        },
        "mapbox": {
         "center": {
          "lat": 42.355539267132464,
          "lon": -71.08955563028009
         },
         "domain": {
          "x": [
           0,
           1
          ],
          "y": [
           0,
           1
          ]
         },
         "style": "open-street-map",
         "zoom": 12
        },
        "margin": {
         "b": 0,
         "l": 0,
         "r": 0,
         "t": 0
        },
        "template": {
         "data": {
          "bar": [
           {
            "error_x": {
             "color": "#2a3f5f"
            },
            "error_y": {
             "color": "#2a3f5f"
            },
            "marker": {
             "line": {
              "color": "#E5ECF6",
              "width": 0.5
             },
             "pattern": {
              "fillmode": "overlay",
              "size": 10,
              "solidity": 0.2
             }
            },
            "type": "bar"
           }
          ],
          "barpolar": [
           {
            "marker": {
             "line": {
              "color": "#E5ECF6",
              "width": 0.5
             },
             "pattern": {
              "fillmode": "overlay",
              "size": 10,
              "solidity": 0.2
             }
            },
            "type": "barpolar"
           }
          ],
          "carpet": [
           {
            "aaxis": {
             "endlinecolor": "#2a3f5f",
             "gridcolor": "white",
             "linecolor": "white",
             "minorgridcolor": "white",
             "startlinecolor": "#2a3f5f"
            },
            "baxis": {
             "endlinecolor": "#2a3f5f",
             "gridcolor": "white",
             "linecolor": "white",
             "minorgridcolor": "white",
             "startlinecolor": "#2a3f5f"
            },
            "type": "carpet"
           }
          ],
          "choropleth": [
           {
            "colorbar": {
             "outlinewidth": 0,
             "ticks": ""
            },
            "type": "choropleth"
           }
          ],
          "contour": [
           {
            "colorbar": {
             "outlinewidth": 0,
             "ticks": ""
            },
            "colorscale": [
             [
              0,
              "#0d0887"
             ],
             [
              0.1111111111111111,
              "#46039f"
             ],
             [
              0.2222222222222222,
              "#7201a8"
             ],
             [
              0.3333333333333333,
              "#9c179e"
             ],
             [
              0.4444444444444444,
              "#bd3786"
             ],
             [
              0.5555555555555556,
              "#d8576b"
             ],
             [
              0.6666666666666666,
              "#ed7953"
             ],
             [
              0.7777777777777778,
              "#fb9f3a"
             ],
             [
              0.8888888888888888,
              "#fdca26"
             ],
             [
              1,
              "#f0f921"
             ]
            ],
            "type": "contour"
           }
          ],
          "contourcarpet": [
           {
            "colorbar": {
             "outlinewidth": 0,
             "ticks": ""
            },
            "type": "contourcarpet"
           }
          ],
          "heatmap": [
           {
            "colorbar": {
             "outlinewidth": 0,
             "ticks": ""
            },
            "colorscale": [
             [
              0,
              "#0d0887"
             ],
             [
              0.1111111111111111,
              "#46039f"
             ],
             [
              0.2222222222222222,
              "#7201a8"
             ],
             [
              0.3333333333333333,
              "#9c179e"
             ],
             [
              0.4444444444444444,
              "#bd3786"
             ],
             [
              0.5555555555555556,
              "#d8576b"
             ],
             [
              0.6666666666666666,
              "#ed7953"
             ],
             [
              0.7777777777777778,
              "#fb9f3a"
             ],
             [
              0.8888888888888888,
              "#fdca26"
             ],
             [
              1,
              "#f0f921"
             ]
            ],
            "type": "heatmap"
           }
          ],
          "heatmapgl": [
           {
            "colorbar": {
             "outlinewidth": 0,
             "ticks": ""
            },
            "colorscale": [
             [
              0,
              "#0d0887"
             ],
             [
              0.1111111111111111,
              "#46039f"
             ],
             [
              0.2222222222222222,
              "#7201a8"
             ],
             [
              0.3333333333333333,
              "#9c179e"
             ],
             [
              0.4444444444444444,
              "#bd3786"
             ],
             [
              0.5555555555555556,
              "#d8576b"
             ],
             [
              0.6666666666666666,
              "#ed7953"
             ],
             [
              0.7777777777777778,
              "#fb9f3a"
             ],
             [
              0.8888888888888888,
              "#fdca26"
             ],
             [
              1,
              "#f0f921"
             ]
            ],
            "type": "heatmapgl"
           }
          ],
          "histogram": [
           {
            "marker": {
             "pattern": {
              "fillmode": "overlay",
              "size": 10,
              "solidity": 0.2
             }
            },
            "type": "histogram"
           }
          ],
          "histogram2d": [
           {
            "colorbar": {
             "outlinewidth": 0,
             "ticks": ""
            },
            "colorscale": [
             [
              0,
              "#0d0887"
             ],
             [
              0.1111111111111111,
              "#46039f"
             ],
             [
              0.2222222222222222,
              "#7201a8"
             ],
             [
              0.3333333333333333,
              "#9c179e"
             ],
             [
              0.4444444444444444,
              "#bd3786"
             ],
             [
              0.5555555555555556,
              "#d8576b"
             ],
             [
              0.6666666666666666,
              "#ed7953"
             ],
             [
              0.7777777777777778,
              "#fb9f3a"
             ],
             [
              0.8888888888888888,
              "#fdca26"
             ],
             [
              1,
              "#f0f921"
             ]
            ],
            "type": "histogram2d"
           }
          ],
          "histogram2dcontour": [
           {
            "colorbar": {
             "outlinewidth": 0,
             "ticks": ""
            },
            "colorscale": [
             [
              0,
              "#0d0887"
             ],
             [
              0.1111111111111111,
              "#46039f"
             ],
             [
              0.2222222222222222,
              "#7201a8"
             ],
             [
              0.3333333333333333,
              "#9c179e"
             ],
             [
              0.4444444444444444,
              "#bd3786"
             ],
             [
              0.5555555555555556,
              "#d8576b"
             ],
             [
              0.6666666666666666,
              "#ed7953"
             ],
             [
              0.7777777777777778,
              "#fb9f3a"
             ],
             [
              0.8888888888888888,
              "#fdca26"
             ],
             [
              1,
              "#f0f921"
             ]
            ],
            "type": "histogram2dcontour"
           }
          ],
          "mesh3d": [
           {
            "colorbar": {
             "outlinewidth": 0,
             "ticks": ""
            },
            "type": "mesh3d"
           }
          ],
          "parcoords": [
           {
            "line": {
             "colorbar": {
              "outlinewidth": 0,
              "ticks": ""
             }
            },
            "type": "parcoords"
           }
          ],
          "pie": [
           {
            "automargin": true,
            "type": "pie"
           }
          ],
          "scatter": [
           {
            "fillpattern": {
             "fillmode": "overlay",
             "size": 10,
             "solidity": 0.2
            },
            "type": "scatter"
           }
          ],
          "scatter3d": [
           {
            "line": {
             "colorbar": {
              "outlinewidth": 0,
              "ticks": ""
             }
            },
            "marker": {
             "colorbar": {
              "outlinewidth": 0,
              "ticks": ""
             }
            },
            "type": "scatter3d"
           }
          ],
          "scattercarpet": [
           {
            "marker": {
             "colorbar": {
              "outlinewidth": 0,
              "ticks": ""
             }
            },
            "type": "scattercarpet"
           }
          ],
          "scattergeo": [
           {
            "marker": {
             "colorbar": {
              "outlinewidth": 0,
              "ticks": ""
             }
            },
            "type": "scattergeo"
           }
          ],
          "scattergl": [
           {
            "marker": {
             "colorbar": {
              "outlinewidth": 0,
              "ticks": ""
             }
            },
            "type": "scattergl"
           }
          ],
          "scattermapbox": [
           {
            "marker": {
             "colorbar": {
              "outlinewidth": 0,
              "ticks": ""
             }
            },
            "type": "scattermapbox"
           }
          ],
          "scatterpolar": [
           {
            "marker": {
             "colorbar": {
              "outlinewidth": 0,
              "ticks": ""
             }
            },
            "type": "scatterpolar"
           }
          ],
          "scatterpolargl": [
           {
            "marker": {
             "colorbar": {
              "outlinewidth": 0,
              "ticks": ""
             }
            },
            "type": "scatterpolargl"
           }
          ],
          "scatterternary": [
           {
            "marker": {
             "colorbar": {
              "outlinewidth": 0,
              "ticks": ""
             }
            },
            "type": "scatterternary"
           }
          ],
          "surface": [
           {
            "colorbar": {
             "outlinewidth": 0,
             "ticks": ""
            },
            "colorscale": [
             [
              0,
              "#0d0887"
             ],
             [
              0.1111111111111111,
              "#46039f"
             ],
             [
              0.2222222222222222,
              "#7201a8"
             ],
             [
              0.3333333333333333,
              "#9c179e"
             ],
             [
              0.4444444444444444,
              "#bd3786"
             ],
             [
              0.5555555555555556,
              "#d8576b"
             ],
             [
              0.6666666666666666,
              "#ed7953"
             ],
             [
              0.7777777777777778,
              "#fb9f3a"
             ],
             [
              0.8888888888888888,
              "#fdca26"
             ],
             [
              1,
              "#f0f921"
             ]
            ],
            "type": "surface"
           }
          ],
          "table": [
           {
            "cells": {
             "fill": {
              "color": "#EBF0F8"
             },
             "line": {
              "color": "white"
             }
            },
            "header": {
             "fill": {
              "color": "#C8D4E3"
             },
             "line": {
              "color": "white"
             }
            },
            "type": "table"
           }
          ]
         },
         "layout": {
          "annotationdefaults": {
           "arrowcolor": "#2a3f5f",
           "arrowhead": 0,
           "arrowwidth": 1
          },
          "autotypenumbers": "strict",
          "coloraxis": {
           "colorbar": {
            "outlinewidth": 0,
            "ticks": ""
           }
          },
          "colorscale": {
           "diverging": [
            [
             0,
             "#8e0152"
            ],
            [
             0.1,
             "#c51b7d"
            ],
            [
             0.2,
             "#de77ae"
            ],
            [
             0.3,
             "#f1b6da"
            ],
            [
             0.4,
             "#fde0ef"
            ],
            [
             0.5,
             "#f7f7f7"
            ],
            [
             0.6,
             "#e6f5d0"
            ],
            [
             0.7,
             "#b8e186"
            ],
            [
             0.8,
             "#7fbc41"
            ],
            [
             0.9,
             "#4d9221"
            ],
            [
             1,
             "#276419"
            ]
           ],
           "sequential": [
            [
             0,
             "#0d0887"
            ],
            [
             0.1111111111111111,
             "#46039f"
            ],
            [
             0.2222222222222222,
             "#7201a8"
            ],
            [
             0.3333333333333333,
             "#9c179e"
            ],
            [
             0.4444444444444444,
             "#bd3786"
            ],
            [
             0.5555555555555556,
             "#d8576b"
            ],
            [
             0.6666666666666666,
             "#ed7953"
            ],
            [
             0.7777777777777778,
             "#fb9f3a"
            ],
            [
             0.8888888888888888,
             "#fdca26"
            ],
            [
             1,
             "#f0f921"
            ]
           ],
           "sequentialminus": [
            [
             0,
             "#0d0887"
            ],
            [
             0.1111111111111111,
             "#46039f"
            ],
            [
             0.2222222222222222,
             "#7201a8"
            ],
            [
             0.3333333333333333,
             "#9c179e"
            ],
            [
             0.4444444444444444,
             "#bd3786"
            ],
            [
             0.5555555555555556,
             "#d8576b"
            ],
            [
             0.6666666666666666,
             "#ed7953"
            ],
            [
             0.7777777777777778,
             "#fb9f3a"
            ],
            [
             0.8888888888888888,
             "#fdca26"
            ],
            [
             1,
             "#f0f921"
            ]
           ]
          },
          "colorway": [
           "#636efa",
           "#EF553B",
           "#00cc96",
           "#ab63fa",
           "#FFA15A",
           "#19d3f3",
           "#FF6692",
           "#B6E880",
           "#FF97FF",
           "#FECB52"
          ],
          "font": {
           "color": "#2a3f5f"
          },
          "geo": {
           "bgcolor": "white",
           "lakecolor": "white",
           "landcolor": "#E5ECF6",
           "showlakes": true,
           "showland": true,
           "subunitcolor": "white"
          },
          "hoverlabel": {
           "align": "left"
          },
          "hovermode": "closest",
          "mapbox": {
           "style": "light"
          },
          "paper_bgcolor": "white",
          "plot_bgcolor": "#E5ECF6",
          "polar": {
           "angularaxis": {
            "gridcolor": "white",
            "linecolor": "white",
            "ticks": ""
           },
           "bgcolor": "#E5ECF6",
           "radialaxis": {
            "gridcolor": "white",
            "linecolor": "white",
            "ticks": ""
           }
          },
          "scene": {
           "xaxis": {
            "backgroundcolor": "#E5ECF6",
            "gridcolor": "white",
            "gridwidth": 2,
            "linecolor": "white",
            "showbackground": true,
            "ticks": "",
            "zerolinecolor": "white"
           },
           "yaxis": {
            "backgroundcolor": "#E5ECF6",
            "gridcolor": "white",
            "gridwidth": 2,
            "linecolor": "white",
            "showbackground": true,
            "ticks": "",
            "zerolinecolor": "white"
           },
           "zaxis": {
            "backgroundcolor": "#E5ECF6",
            "gridcolor": "white",
            "gridwidth": 2,
            "linecolor": "white",
            "showbackground": true,
            "ticks": "",
            "zerolinecolor": "white"
           }
          },
          "shapedefaults": {
           "line": {
            "color": "#2a3f5f"
           }
          },
          "ternary": {
           "aaxis": {
            "gridcolor": "white",
            "linecolor": "white",
            "ticks": ""
           },
           "baxis": {
            "gridcolor": "white",
            "linecolor": "white",
            "ticks": ""
           },
           "bgcolor": "#E5ECF6",
           "caxis": {
            "gridcolor": "white",
            "linecolor": "white",
            "ticks": ""
           }
          },
          "title": {
           "x": 0.05
          },
          "xaxis": {
           "automargin": true,
           "gridcolor": "white",
           "linecolor": "white",
           "ticks": "",
           "title": {
            "standoff": 15
           },
           "zerolinecolor": "white",
           "zerolinewidth": 2
          },
          "yaxis": {
           "automargin": true,
           "gridcolor": "white",
           "linecolor": "white",
           "ticks": "",
           "title": {
            "standoff": 15
           },
           "zerolinecolor": "white",
           "zerolinewidth": 2
          }
         }
        },
        "width": 800
       }
      }
     },
     "metadata": {},
     "output_type": "display_data"
    },
    {
     "data": {
      "application/vnd.plotly.v1+json": {
       "config": {
        "plotlyServerURL": "https://plot.ly"
       },
       "data": [
        {
         "customdata": [
          [
           3
          ],
          [
           4
          ],
          [
           5
          ],
          [
           6
          ],
          [
           7
          ],
          [
           8
          ],
          [
           9
          ],
          [
           10
          ],
          [
           11
          ],
          [
           12
          ],
          [
           13
          ],
          [
           14
          ],
          [
           15
          ],
          [
           16
          ],
          [
           17
          ],
          [
           19
          ],
          [
           20
          ],
          [
           21
          ],
          [
           22
          ],
          [
           23
          ],
          [
           24
          ],
          [
           25
          ],
          [
           26
          ],
          [
           27
          ],
          [
           29
          ],
          [
           30
          ],
          [
           31
          ],
          [
           32
          ],
          [
           33
          ],
          [
           35
          ],
          [
           36
          ],
          [
           37
          ],
          [
           38
          ],
          [
           39
          ],
          [
           40
          ],
          [
           41
          ],
          [
           42
          ],
          [
           43
          ],
          [
           44
          ],
          [
           45
          ],
          [
           46
          ],
          [
           47
          ],
          [
           48
          ],
          [
           49
          ],
          [
           50
          ],
          [
           51
          ],
          [
           52
          ],
          [
           53
          ],
          [
           54
          ],
          [
           55
          ],
          [
           56
          ],
          [
           57
          ],
          [
           58
          ],
          [
           59
          ],
          [
           60
          ],
          [
           61
          ],
          [
           63
          ],
          [
           64
          ],
          [
           65
          ],
          [
           66
          ],
          [
           67
          ],
          [
           68
          ],
          [
           69
          ],
          [
           70
          ],
          [
           71
          ],
          [
           72
          ],
          [
           73
          ],
          [
           74
          ],
          [
           75
          ],
          [
           76
          ],
          [
           77
          ],
          [
           78
          ],
          [
           79
          ],
          [
           80
          ],
          [
           81
          ],
          [
           82
          ],
          [
           84
          ],
          [
           85
          ],
          [
           86
          ],
          [
           87
          ],
          [
           88
          ],
          [
           89
          ],
          [
           90
          ],
          [
           91
          ],
          [
           92
          ],
          [
           93
          ],
          [
           94
          ],
          [
           95
          ],
          [
           96
          ],
          [
           97
          ],
          [
           98
          ],
          [
           99
          ],
          [
           100
          ],
          [
           102
          ],
          [
           103
          ],
          [
           104
          ],
          [
           105
          ],
          [
           106
          ],
          [
           107
          ],
          [
           108
          ],
          [
           109
          ],
          [
           110
          ],
          [
           111
          ],
          [
           112
          ],
          [
           113
          ],
          [
           114
          ],
          [
           115
          ],
          [
           116
          ],
          [
           117
          ],
          [
           118
          ],
          [
           119
          ],
          [
           120
          ],
          [
           121
          ],
          [
           122
          ],
          [
           123
          ],
          [
           124
          ],
          [
           125
          ],
          [
           126
          ],
          [
           128
          ],
          [
           129
          ],
          [
           130
          ],
          [
           131
          ],
          [
           132
          ],
          [
           133
          ],
          [
           134
          ],
          [
           135
          ],
          [
           136
          ],
          [
           137
          ],
          [
           138
          ],
          [
           139
          ],
          [
           140
          ],
          [
           141
          ],
          [
           142
          ],
          [
           143
          ],
          [
           145
          ],
          [
           149
          ],
          [
           150
          ],
          [
           151
          ],
          [
           152
          ],
          [
           159
          ],
          [
           160
          ],
          [
           161
          ],
          [
           162
          ],
          [
           163
          ],
          [
           167
          ],
          [
           169
          ],
          [
           170
          ],
          [
           171
          ],
          [
           174
          ],
          [
           175
          ],
          [
           176
          ],
          [
           177
          ],
          [
           178
          ],
          [
           179
          ],
          [
           180
          ]
         ],
         "hovertemplate": "counts_start=%{marker.color}<br>start_station_latitude=%{lat}<br>start_station_longitude=%{lon}<br>start_station_id=%{customdata[0]}<extra></extra>",
         "lat": [
          42.340021,
          42.345392,
          42.341814,
          42.361174,
          42.35328743453294,
          42.353334,
          42.351246,
          42.350406,
          42.338629,
          42.335911,
          42.336437,
          42.337171,
          42.361667,
          42.34807412317439,
          42.365064,
          42.347241,
          42.35977,
          42.345959,
          42.352175,
          42.35892,
          42.351205,
          42.341332,
          42.341522,
          42.331184,
          42.363732,
          42.334073,
          42.348833,
          42.343912,
          42.348706,
          42.355402,
          42.349673,
          42.357402,
          42.366222,
          42.338623,
          42.363871,
          42.352261,
          42.352033,
          42.357143,
          42.360613,
          42.344706,
          42.343864,
          42.362811,
          42.356755,
          42.351146,
          42.350989,
          42.3348756,
          42.348717,
          42.350851,
          42.354979,
          42.347265,
          42.328654,
          42.340799,
          42.355596,
          42.351356,
          42.360835,
          42.348762,
          42.344023,
          42.3511,
          42.3475,
          42.348607,
          42.3581,
          42.36507,
          42.341598,
          42.371196,
          42.383405,
          42.362613,
          42.373231,
          42.373268,
          42.36346469304347,
          42.366426,
          42.386844,
          42.379637,
          42.37842,
          42.3619622,
          42.352409,
          42.339335,
          42.366981,
          42.378338,
          42.332799,
          42.366621,
          42.374035,
          42.379011,
          42.370677,
          42.366277,
          42.314507,
          42.320494,
          42.375603,
          42.372969,
          42.373379,
          42.36919031768079,
          42.371848,
          42.385582,
          42.396969,
          42.400877,
          42.346563,
          42.380287,
          42.356954,
          42.325333,
          42.3625,
          42.377945,
          42.365942,
          42.376369,
          42.40449,
          42.39082,
          42.330716,
          42.402763,
          42.387995,
          42.370803,
          42.366095,
          42.397828,
          42.335741,
          42.356052,
          42.335693,
          42.345733,
          42.313156,
          42.309054,
          42.320998,
          42.315692,
          42.320561,
          42.377022,
          42.317225,
          42.322701,
          42.394002,
          42.310579,
          42.350413,
          42.344827,
          42.344796,
          42.398365,
          42.326599,
          42.361589,
          42.388966,
          42.36356015842989,
          42.396105,
          42.369885,
          42.392766,
          42.363796,
          42.344137,
          42.358155,
          42.345901,
          42.32797270205962,
          42.337596,
          42.3391085,
          42.309796,
          42.344792,
          42.317642,
          42.378965,
          42.303469,
          42.37408991426522,
          42.34900494405213,
          42.34894857235593,
          42.38674802045056,
          42.36264779118595,
          42.35957320109044,
          42.35560121327927,
          42.37478628706384
         ],
         "legendgroup": "",
         "lon": [
          -71.100812,
          -71.069616,
          -71.090179,
          -71.065142,
          -71.04438900947571,
          -71.137313,
          -71.115639,
          -71.108279,
          -71.1065,
          -71.088496,
          -71.073089,
          -71.102797,
          -71.13802,
          -71.07657015323639,
          -71.119233,
          -71.105301,
          -71.051601,
          -71.082578,
          -71.055547,
          -71.057629,
          -71.043983,
          -71.076847,
          -71.068922,
          -71.095171,
          -71.124565,
          -71.105221,
          -71.041747,
          -71.102221,
          -71.097009,
          -71.058087,
          -71.077303,
          -71.147782,
          -71.059914,
          -71.074182,
          -71.050877,
          -71.123831,
          -71.070627,
          -71.050699,
          -71.057452,
          -71.097515,
          -71.085918,
          -71.056067,
          -71.055407,
          -71.066289,
          -71.073644,
          -71.0790969,
          -71.085954,
          -71.089886,
          -71.063348,
          -71.088088,
          -71.084198,
          -71.081572,
          -71.07278,
          -71.059367,
          -71.0708399,
          -71.082383,
          -71.057054,
          -71.0496,
          -71.0441,
          -71.13401,
          -71.093198,
          -71.1031,
          -71.123338,
          -71.121473,
          -71.107593,
          -71.084105,
          -71.120886,
          -71.118579,
          -71.10057324171066,
          -71.105495,
          -71.09812,
          -71.095319,
          -71.105668,
          -71.0920526,
          -71.062679,
          -71.13493,
          -71.076472,
          -71.048927,
          -71.116205,
          -71.114214,
          -71.101427,
          -71.119945,
          -71.076529,
          -71.09169,
          -71.041269,
          -71.051122,
          -71.064608,
          -71.094445,
          -71.111075,
          -71.11714124679565,
          -71.060292,
          -71.113341,
          -71.123024,
          -71.116772,
          -71.128374,
          -71.125107,
          -71.113687,
          -71.075354,
          -71.08822,
          -71.116865,
          -71.060515,
          -71.114025,
          -71.123413,
          -71.10942,
          -71.057044,
          -71.126908,
          -71.119084,
          -71.104412,
          -71.086388,
          -71.130516,
          -71.03877,
          -71.069849,
          -71.045859,
          -71.100694,
          -71.11414,
          -71.11543,
          -71.110833,
          -71.098634,
          -71.06198,
          -71.056605,
          -71.065421,
          -71.099533,
          -71.120406,
          -71.107341,
          -71.07655,
          -71.028664,
          -71.031614,
          -71.107818,
          -71.066498,
          -71.107437,
          -71.132788,
          -71.08216792345047,
          -71.139459,
          -71.069957,
          -71.129042,
          -71.129164,
          -71.052608,
          -71.052163,
          -71.063187,
          -71.11089706420898,
          -71.096391,
          -71.0514432,
          -71.092225,
          -71.044024,
          -71.056664,
          -71.068607,
          -71.085347,
          -71.06905996799469,
          -71.1604106426239,
          -71.15027189254761,
          -71.11901879310608,
          -71.10006093978882,
          -71.10129475593567,
          -71.10394477844238,
          -71.13320231437683
         ],
         "marker": {
          "color": [
           871,
           4637,
           1520,
           5870,
           1883,
           830,
           3148,
           2318,
           1302,
           1985,
           2640,
           1690,
           521,
           8501,
           945,
           2240,
           5142,
           4747,
           16206,
           5706,
           2367,
           4019,
           4403,
           1329,
           761,
           999,
           3022,
           1834,
           4138,
           5847,
           6725,
           308,
           5194,
           4278,
           5866,
           2192,
           4697,
           7532,
           2432,
           3029,
           3529,
           5799,
           6397,
           3106,
           3976,
           935,
           3712,
           3176,
           4205,
           3607,
           233,
           3936,
           4165,
           3659,
           5741,
           5177,
           1861,
           4619,
           1132,
           1145,
           3446,
           5835,
           1706,
           1527,
           1390,
           3286,
           2527,
           3741,
           4074,
           3900,
           576,
           1910,
           1319,
           2776,
           3494,
           925,
           3281,
           2059,
           1211,
           1880,
           4096,
           980,
           3108,
           4184,
           102,
           369,
           2841,
           3500,
           1878,
           1030,
           4648,
           1114,
           4194,
           608,
           785,
           1540,
           3139,
           13,
           2731,
           803,
           9063,
           1477,
           568,
           722,
           1118,
           1148,
           3477,
           2261,
           2122,
           3016,
           1669,
           3422,
           1987,
           681,
           677,
           485,
           1163,
           149,
           373,
           735,
           271,
           1020,
           534,
           926,
           2887,
           798,
           1004,
           288,
           432,
           2018,
           787,
           2085,
           1461,
           1446,
           534,
           1358,
           1942,
           3069,
           2270,
           62,
           139,
           243,
           14,
           149,
           38,
           334,
           11,
           85,
           36,
           87,
           84,
           157,
           75,
           44,
           104
          ],
          "coloraxis": "coloraxis",
          "size": [
           871,
           4637,
           1520,
           5870,
           1883,
           830,
           3148,
           2318,
           1302,
           1985,
           2640,
           1690,
           521,
           8501,
           945,
           2240,
           5142,
           4747,
           16206,
           5706,
           2367,
           4019,
           4403,
           1329,
           761,
           999,
           3022,
           1834,
           4138,
           5847,
           6725,
           308,
           5194,
           4278,
           5866,
           2192,
           4697,
           7532,
           2432,
           3029,
           3529,
           5799,
           6397,
           3106,
           3976,
           935,
           3712,
           3176,
           4205,
           3607,
           233,
           3936,
           4165,
           3659,
           5741,
           5177,
           1861,
           4619,
           1132,
           1145,
           3446,
           5835,
           1706,
           1527,
           1390,
           3286,
           2527,
           3741,
           4074,
           3900,
           576,
           1910,
           1319,
           2776,
           3494,
           925,
           3281,
           2059,
           1211,
           1880,
           4096,
           980,
           3108,
           4184,
           102,
           369,
           2841,
           3500,
           1878,
           1030,
           4648,
           1114,
           4194,
           608,
           785,
           1540,
           3139,
           13,
           2731,
           803,
           9063,
           1477,
           568,
           722,
           1118,
           1148,
           3477,
           2261,
           2122,
           3016,
           1669,
           3422,
           1987,
           681,
           677,
           485,
           1163,
           149,
           373,
           735,
           271,
           1020,
           534,
           926,
           2887,
           798,
           1004,
           288,
           432,
           2018,
           787,
           2085,
           1461,
           1446,
           534,
           1358,
           1942,
           3069,
           2270,
           62,
           139,
           243,
           14,
           149,
           38,
           334,
           11,
           85,
           36,
           87,
           84,
           157,
           75,
           44,
           104
          ],
          "sizemode": "area",
          "sizeref": 40.515
         },
         "mode": "markers",
         "name": "",
         "showlegend": false,
         "subplot": "mapbox",
         "type": "scattermapbox"
        }
       ],
       "layout": {
        "coloraxis": {
         "colorbar": {
          "title": {
           "text": "counts_start"
          }
         },
         "colorscale": [
          [
           0,
           "orange"
          ],
          [
           1,
           "red"
          ]
         ]
        },
        "height": 300,
        "legend": {
         "itemsizing": "constant",
         "tracegroupgap": 0
        },
        "mapbox": {
         "center": {
          "lat": 42.3553353204688,
          "lon": -71.0896432278948
         },
         "domain": {
          "x": [
           0,
           1
          ],
          "y": [
           0,
           1
          ]
         },
         "style": "open-street-map",
         "zoom": 12
        },
        "margin": {
         "b": 0,
         "l": 0,
         "r": 0,
         "t": 0
        },
        "template": {
         "data": {
          "bar": [
           {
            "error_x": {
             "color": "#2a3f5f"
            },
            "error_y": {
             "color": "#2a3f5f"
            },
            "marker": {
             "line": {
              "color": "#E5ECF6",
              "width": 0.5
             },
             "pattern": {
              "fillmode": "overlay",
              "size": 10,
              "solidity": 0.2
             }
            },
            "type": "bar"
           }
          ],
          "barpolar": [
           {
            "marker": {
             "line": {
              "color": "#E5ECF6",
              "width": 0.5
             },
             "pattern": {
              "fillmode": "overlay",
              "size": 10,
              "solidity": 0.2
             }
            },
            "type": "barpolar"
           }
          ],
          "carpet": [
           {
            "aaxis": {
             "endlinecolor": "#2a3f5f",
             "gridcolor": "white",
             "linecolor": "white",
             "minorgridcolor": "white",
             "startlinecolor": "#2a3f5f"
            },
            "baxis": {
             "endlinecolor": "#2a3f5f",
             "gridcolor": "white",
             "linecolor": "white",
             "minorgridcolor": "white",
             "startlinecolor": "#2a3f5f"
            },
            "type": "carpet"
           }
          ],
          "choropleth": [
           {
            "colorbar": {
             "outlinewidth": 0,
             "ticks": ""
            },
            "type": "choropleth"
           }
          ],
          "contour": [
           {
            "colorbar": {
             "outlinewidth": 0,
             "ticks": ""
            },
            "colorscale": [
             [
              0,
              "#0d0887"
             ],
             [
              0.1111111111111111,
              "#46039f"
             ],
             [
              0.2222222222222222,
              "#7201a8"
             ],
             [
              0.3333333333333333,
              "#9c179e"
             ],
             [
              0.4444444444444444,
              "#bd3786"
             ],
             [
              0.5555555555555556,
              "#d8576b"
             ],
             [
              0.6666666666666666,
              "#ed7953"
             ],
             [
              0.7777777777777778,
              "#fb9f3a"
             ],
             [
              0.8888888888888888,
              "#fdca26"
             ],
             [
              1,
              "#f0f921"
             ]
            ],
            "type": "contour"
           }
          ],
          "contourcarpet": [
           {
            "colorbar": {
             "outlinewidth": 0,
             "ticks": ""
            },
            "type": "contourcarpet"
           }
          ],
          "heatmap": [
           {
            "colorbar": {
             "outlinewidth": 0,
             "ticks": ""
            },
            "colorscale": [
             [
              0,
              "#0d0887"
             ],
             [
              0.1111111111111111,
              "#46039f"
             ],
             [
              0.2222222222222222,
              "#7201a8"
             ],
             [
              0.3333333333333333,
              "#9c179e"
             ],
             [
              0.4444444444444444,
              "#bd3786"
             ],
             [
              0.5555555555555556,
              "#d8576b"
             ],
             [
              0.6666666666666666,
              "#ed7953"
             ],
             [
              0.7777777777777778,
              "#fb9f3a"
             ],
             [
              0.8888888888888888,
              "#fdca26"
             ],
             [
              1,
              "#f0f921"
             ]
            ],
            "type": "heatmap"
           }
          ],
          "heatmapgl": [
           {
            "colorbar": {
             "outlinewidth": 0,
             "ticks": ""
            },
            "colorscale": [
             [
              0,
              "#0d0887"
             ],
             [
              0.1111111111111111,
              "#46039f"
             ],
             [
              0.2222222222222222,
              "#7201a8"
             ],
             [
              0.3333333333333333,
              "#9c179e"
             ],
             [
              0.4444444444444444,
              "#bd3786"
             ],
             [
              0.5555555555555556,
              "#d8576b"
             ],
             [
              0.6666666666666666,
              "#ed7953"
             ],
             [
              0.7777777777777778,
              "#fb9f3a"
             ],
             [
              0.8888888888888888,
              "#fdca26"
             ],
             [
              1,
              "#f0f921"
             ]
            ],
            "type": "heatmapgl"
           }
          ],
          "histogram": [
           {
            "marker": {
             "pattern": {
              "fillmode": "overlay",
              "size": 10,
              "solidity": 0.2
             }
            },
            "type": "histogram"
           }
          ],
          "histogram2d": [
           {
            "colorbar": {
             "outlinewidth": 0,
             "ticks": ""
            },
            "colorscale": [
             [
              0,
              "#0d0887"
             ],
             [
              0.1111111111111111,
              "#46039f"
             ],
             [
              0.2222222222222222,
              "#7201a8"
             ],
             [
              0.3333333333333333,
              "#9c179e"
             ],
             [
              0.4444444444444444,
              "#bd3786"
             ],
             [
              0.5555555555555556,
              "#d8576b"
             ],
             [
              0.6666666666666666,
              "#ed7953"
             ],
             [
              0.7777777777777778,
              "#fb9f3a"
             ],
             [
              0.8888888888888888,
              "#fdca26"
             ],
             [
              1,
              "#f0f921"
             ]
            ],
            "type": "histogram2d"
           }
          ],
          "histogram2dcontour": [
           {
            "colorbar": {
             "outlinewidth": 0,
             "ticks": ""
            },
            "colorscale": [
             [
              0,
              "#0d0887"
             ],
             [
              0.1111111111111111,
              "#46039f"
             ],
             [
              0.2222222222222222,
              "#7201a8"
             ],
             [
              0.3333333333333333,
              "#9c179e"
             ],
             [
              0.4444444444444444,
              "#bd3786"
             ],
             [
              0.5555555555555556,
              "#d8576b"
             ],
             [
              0.6666666666666666,
              "#ed7953"
             ],
             [
              0.7777777777777778,
              "#fb9f3a"
             ],
             [
              0.8888888888888888,
              "#fdca26"
             ],
             [
              1,
              "#f0f921"
             ]
            ],
            "type": "histogram2dcontour"
           }
          ],
          "mesh3d": [
           {
            "colorbar": {
             "outlinewidth": 0,
             "ticks": ""
            },
            "type": "mesh3d"
           }
          ],
          "parcoords": [
           {
            "line": {
             "colorbar": {
              "outlinewidth": 0,
              "ticks": ""
             }
            },
            "type": "parcoords"
           }
          ],
          "pie": [
           {
            "automargin": true,
            "type": "pie"
           }
          ],
          "scatter": [
           {
            "fillpattern": {
             "fillmode": "overlay",
             "size": 10,
             "solidity": 0.2
            },
            "type": "scatter"
           }
          ],
          "scatter3d": [
           {
            "line": {
             "colorbar": {
              "outlinewidth": 0,
              "ticks": ""
             }
            },
            "marker": {
             "colorbar": {
              "outlinewidth": 0,
              "ticks": ""
             }
            },
            "type": "scatter3d"
           }
          ],
          "scattercarpet": [
           {
            "marker": {
             "colorbar": {
              "outlinewidth": 0,
              "ticks": ""
             }
            },
            "type": "scattercarpet"
           }
          ],
          "scattergeo": [
           {
            "marker": {
             "colorbar": {
              "outlinewidth": 0,
              "ticks": ""
             }
            },
            "type": "scattergeo"
           }
          ],
          "scattergl": [
           {
            "marker": {
             "colorbar": {
              "outlinewidth": 0,
              "ticks": ""
             }
            },
            "type": "scattergl"
           }
          ],
          "scattermapbox": [
           {
            "marker": {
             "colorbar": {
              "outlinewidth": 0,
              "ticks": ""
             }
            },
            "type": "scattermapbox"
           }
          ],
          "scatterpolar": [
           {
            "marker": {
             "colorbar": {
              "outlinewidth": 0,
              "ticks": ""
             }
            },
            "type": "scatterpolar"
           }
          ],
          "scatterpolargl": [
           {
            "marker": {
             "colorbar": {
              "outlinewidth": 0,
              "ticks": ""
             }
            },
            "type": "scatterpolargl"
           }
          ],
          "scatterternary": [
           {
            "marker": {
             "colorbar": {
              "outlinewidth": 0,
              "ticks": ""
             }
            },
            "type": "scatterternary"
           }
          ],
          "surface": [
           {
            "colorbar": {
             "outlinewidth": 0,
             "ticks": ""
            },
            "colorscale": [
             [
              0,
              "#0d0887"
             ],
             [
              0.1111111111111111,
              "#46039f"
             ],
             [
              0.2222222222222222,
              "#7201a8"
             ],
             [
              0.3333333333333333,
              "#9c179e"
             ],
             [
              0.4444444444444444,
              "#bd3786"
             ],
             [
              0.5555555555555556,
              "#d8576b"
             ],
             [
              0.6666666666666666,
              "#ed7953"
             ],
             [
              0.7777777777777778,
              "#fb9f3a"
             ],
             [
              0.8888888888888888,
              "#fdca26"
             ],
             [
              1,
              "#f0f921"
             ]
            ],
            "type": "surface"
           }
          ],
          "table": [
           {
            "cells": {
             "fill": {
              "color": "#EBF0F8"
             },
             "line": {
              "color": "white"
             }
            },
            "header": {
             "fill": {
              "color": "#C8D4E3"
             },
             "line": {
              "color": "white"
             }
            },
            "type": "table"
           }
          ]
         },
         "layout": {
          "annotationdefaults": {
           "arrowcolor": "#2a3f5f",
           "arrowhead": 0,
           "arrowwidth": 1
          },
          "autotypenumbers": "strict",
          "coloraxis": {
           "colorbar": {
            "outlinewidth": 0,
            "ticks": ""
           }
          },
          "colorscale": {
           "diverging": [
            [
             0,
             "#8e0152"
            ],
            [
             0.1,
             "#c51b7d"
            ],
            [
             0.2,
             "#de77ae"
            ],
            [
             0.3,
             "#f1b6da"
            ],
            [
             0.4,
             "#fde0ef"
            ],
            [
             0.5,
             "#f7f7f7"
            ],
            [
             0.6,
             "#e6f5d0"
            ],
            [
             0.7,
             "#b8e186"
            ],
            [
             0.8,
             "#7fbc41"
            ],
            [
             0.9,
             "#4d9221"
            ],
            [
             1,
             "#276419"
            ]
           ],
           "sequential": [
            [
             0,
             "#0d0887"
            ],
            [
             0.1111111111111111,
             "#46039f"
            ],
            [
             0.2222222222222222,
             "#7201a8"
            ],
            [
             0.3333333333333333,
             "#9c179e"
            ],
            [
             0.4444444444444444,
             "#bd3786"
            ],
            [
             0.5555555555555556,
             "#d8576b"
            ],
            [
             0.6666666666666666,
             "#ed7953"
            ],
            [
             0.7777777777777778,
             "#fb9f3a"
            ],
            [
             0.8888888888888888,
             "#fdca26"
            ],
            [
             1,
             "#f0f921"
            ]
           ],
           "sequentialminus": [
            [
             0,
             "#0d0887"
            ],
            [
             0.1111111111111111,
             "#46039f"
            ],
            [
             0.2222222222222222,
             "#7201a8"
            ],
            [
             0.3333333333333333,
             "#9c179e"
            ],
            [
             0.4444444444444444,
             "#bd3786"
            ],
            [
             0.5555555555555556,
             "#d8576b"
            ],
            [
             0.6666666666666666,
             "#ed7953"
            ],
            [
             0.7777777777777778,
             "#fb9f3a"
            ],
            [
             0.8888888888888888,
             "#fdca26"
            ],
            [
             1,
             "#f0f921"
            ]
           ]
          },
          "colorway": [
           "#636efa",
           "#EF553B",
           "#00cc96",
           "#ab63fa",
           "#FFA15A",
           "#19d3f3",
           "#FF6692",
           "#B6E880",
           "#FF97FF",
           "#FECB52"
          ],
          "font": {
           "color": "#2a3f5f"
          },
          "geo": {
           "bgcolor": "white",
           "lakecolor": "white",
           "landcolor": "#E5ECF6",
           "showlakes": true,
           "showland": true,
           "subunitcolor": "white"
          },
          "hoverlabel": {
           "align": "left"
          },
          "hovermode": "closest",
          "mapbox": {
           "style": "light"
          },
          "paper_bgcolor": "white",
          "plot_bgcolor": "#E5ECF6",
          "polar": {
           "angularaxis": {
            "gridcolor": "white",
            "linecolor": "white",
            "ticks": ""
           },
           "bgcolor": "#E5ECF6",
           "radialaxis": {
            "gridcolor": "white",
            "linecolor": "white",
            "ticks": ""
           }
          },
          "scene": {
           "xaxis": {
            "backgroundcolor": "#E5ECF6",
            "gridcolor": "white",
            "gridwidth": 2,
            "linecolor": "white",
            "showbackground": true,
            "ticks": "",
            "zerolinecolor": "white"
           },
           "yaxis": {
            "backgroundcolor": "#E5ECF6",
            "gridcolor": "white",
            "gridwidth": 2,
            "linecolor": "white",
            "showbackground": true,
            "ticks": "",
            "zerolinecolor": "white"
           },
           "zaxis": {
            "backgroundcolor": "#E5ECF6",
            "gridcolor": "white",
            "gridwidth": 2,
            "linecolor": "white",
            "showbackground": true,
            "ticks": "",
            "zerolinecolor": "white"
           }
          },
          "shapedefaults": {
           "line": {
            "color": "#2a3f5f"
           }
          },
          "ternary": {
           "aaxis": {
            "gridcolor": "white",
            "linecolor": "white",
            "ticks": ""
           },
           "baxis": {
            "gridcolor": "white",
            "linecolor": "white",
            "ticks": ""
           },
           "bgcolor": "#E5ECF6",
           "caxis": {
            "gridcolor": "white",
            "linecolor": "white",
            "ticks": ""
           }
          },
          "title": {
           "x": 0.05
          },
          "xaxis": {
           "automargin": true,
           "gridcolor": "white",
           "linecolor": "white",
           "ticks": "",
           "title": {
            "standoff": 15
           },
           "zerolinecolor": "white",
           "zerolinewidth": 2
          },
          "yaxis": {
           "automargin": true,
           "gridcolor": "white",
           "linecolor": "white",
           "ticks": "",
           "title": {
            "standoff": 15
           },
           "zerolinecolor": "white",
           "zerolinewidth": 2
          }
         }
        },
        "width": 800
       }
      }
     },
     "metadata": {},
     "output_type": "display_data"
    }
   ],
   "source": [
    "#visualize station use of start stations by subscribers and customers\n",
    "s_fig_s = map_stations(df_start_s, \"start_station_latitude\", \"start_station_longitude\", \"counts_start\",\"start_station_id\" )\n",
    "s_fig_s.show() #subscriber\n",
    "s_fig_c = map_stations(df_start_c, \"start_station_latitude\", \"start_station_longitude\", \"counts_start\", 'start_station_id' )\n",
    "s_fig_c.show() #customers"
   ]
  },
  {
   "attachments": {},
   "cell_type": "markdown",
   "metadata": {},
   "source": [
    "We can make out three major hotspots for subscribers: The city center around down town, stations around the MIT, and stations around the harvard university. Where the most used stations are near the universitys.\n",
    "In contrast the regular customers tends to use the bikes mostly in the downtown area near the train stations and the city center and hardly in the university area.\n"
   ]
  },
  {
   "attachments": {},
   "cell_type": "markdown",
   "metadata": {},
   "source": [
    "## End station rides volume\n",
    "Visualization which contains information on how many rides end at a respective station per year"
   ]
  },
  {
   "cell_type": "code",
   "execution_count": 146,
   "metadata": {},
   "outputs": [],
   "source": [
    "#prepare dataframe to count up number of usage as end station\n",
    "#s = subsriber, c = customer\n",
    "df_end= df_boston.groupby(['end_station_id','end_station_latitude', 'end_station_longitude']).size().reset_index(name='counts_end')\n",
    "df_end_s = df_s.groupby(['end_station_id','end_station_latitude', 'end_station_longitude']).size().reset_index(name='counts_end')\n",
    "df_end_c = df_c.groupby(['end_station_id','end_station_latitude', 'end_station_longitude']).size().reset_index(name='counts_end')"
   ]
  },
  {
   "cell_type": "code",
   "execution_count": 147,
   "metadata": {},
   "outputs": [
    {
     "data": {
      "application/vnd.plotly.v1+json": {
       "config": {
        "plotlyServerURL": "https://plot.ly"
       },
       "data": [
        {
         "customdata": [
          [
           1
          ],
          [
           3
          ],
          [
           4
          ],
          [
           5
          ],
          [
           6
          ],
          [
           7
          ],
          [
           8
          ],
          [
           9
          ],
          [
           10
          ],
          [
           11
          ],
          [
           12
          ],
          [
           13
          ],
          [
           14
          ],
          [
           15
          ],
          [
           16
          ],
          [
           17
          ],
          [
           19
          ],
          [
           20
          ],
          [
           21
          ],
          [
           22
          ],
          [
           23
          ],
          [
           24
          ],
          [
           25
          ],
          [
           26
          ],
          [
           27
          ],
          [
           29
          ],
          [
           30
          ],
          [
           31
          ],
          [
           32
          ],
          [
           33
          ],
          [
           35
          ],
          [
           36
          ],
          [
           37
          ],
          [
           38
          ],
          [
           39
          ],
          [
           40
          ],
          [
           41
          ],
          [
           42
          ],
          [
           43
          ],
          [
           44
          ],
          [
           45
          ],
          [
           46
          ],
          [
           47
          ],
          [
           48
          ],
          [
           49
          ],
          [
           50
          ],
          [
           51
          ],
          [
           52
          ],
          [
           53
          ],
          [
           54
          ],
          [
           55
          ],
          [
           56
          ],
          [
           57
          ],
          [
           58
          ],
          [
           59
          ],
          [
           60
          ],
          [
           61
          ],
          [
           63
          ],
          [
           64
          ],
          [
           65
          ],
          [
           66
          ],
          [
           67
          ],
          [
           68
          ],
          [
           69
          ],
          [
           70
          ],
          [
           71
          ],
          [
           72
          ],
          [
           73
          ],
          [
           74
          ],
          [
           75
          ],
          [
           76
          ],
          [
           77
          ],
          [
           78
          ],
          [
           79
          ],
          [
           80
          ],
          [
           81
          ],
          [
           82
          ],
          [
           84
          ],
          [
           85
          ],
          [
           86
          ],
          [
           87
          ],
          [
           88
          ],
          [
           89
          ],
          [
           90
          ],
          [
           91
          ],
          [
           92
          ],
          [
           93
          ],
          [
           94
          ],
          [
           95
          ],
          [
           96
          ],
          [
           97
          ],
          [
           98
          ],
          [
           99
          ],
          [
           100
          ],
          [
           102
          ],
          [
           103
          ],
          [
           104
          ],
          [
           105
          ],
          [
           106
          ],
          [
           107
          ],
          [
           108
          ],
          [
           109
          ],
          [
           110
          ],
          [
           111
          ],
          [
           112
          ],
          [
           113
          ],
          [
           114
          ],
          [
           115
          ],
          [
           116
          ],
          [
           117
          ],
          [
           118
          ],
          [
           119
          ],
          [
           120
          ],
          [
           121
          ],
          [
           122
          ],
          [
           123
          ],
          [
           124
          ],
          [
           125
          ],
          [
           126
          ],
          [
           128
          ],
          [
           129
          ],
          [
           130
          ],
          [
           131
          ],
          [
           132
          ],
          [
           133
          ],
          [
           134
          ],
          [
           135
          ],
          [
           136
          ],
          [
           137
          ],
          [
           138
          ],
          [
           139
          ],
          [
           140
          ],
          [
           141
          ],
          [
           142
          ],
          [
           143
          ],
          [
           145
          ],
          [
           149
          ],
          [
           150
          ],
          [
           151
          ],
          [
           152
          ],
          [
           159
          ],
          [
           160
          ],
          [
           161
          ],
          [
           162
          ],
          [
           163
          ],
          [
           167
          ],
          [
           169
          ],
          [
           170
          ],
          [
           171
          ],
          [
           174
          ],
          [
           175
          ],
          [
           176
          ],
          [
           177
          ],
          [
           178
          ],
          [
           179
          ],
          [
           180
          ]
         ],
         "hovertemplate": "counts_end=%{marker.color}<br>end_station_latitude=%{lat}<br>end_station_longitude=%{lon}<br>end_station_id=%{customdata[0]}<extra></extra>",
         "lat": [
          42.387151,
          42.340021,
          42.345392,
          42.341814,
          42.361174,
          42.35328743453294,
          42.353334,
          42.351246,
          42.350406,
          42.338629,
          42.335911,
          42.336437,
          42.337171,
          42.361667,
          42.34807412317439,
          42.365064,
          42.347241,
          42.35977,
          42.345959,
          42.352175,
          42.35892,
          42.351205,
          42.341332,
          42.341522,
          42.331184,
          42.363732,
          42.334073,
          42.348833,
          42.343912,
          42.348706,
          42.355402,
          42.349673,
          42.357402,
          42.366222,
          42.338623,
          42.363871,
          42.352261,
          42.352033,
          42.357143,
          42.360613,
          42.344706,
          42.343864,
          42.362811,
          42.356755,
          42.351146,
          42.350989,
          42.3348756,
          42.348717,
          42.350851,
          42.354979,
          42.347265,
          42.328654,
          42.340799,
          42.355596,
          42.351356,
          42.360835,
          42.348762,
          42.344023,
          42.3511,
          42.3475,
          42.348607,
          42.3581,
          42.36507,
          42.341598,
          42.371196,
          42.383405,
          42.362613,
          42.373231,
          42.373268,
          42.36346469304347,
          42.366426,
          42.386844,
          42.379637,
          42.37842,
          42.3619622,
          42.352409,
          42.339335,
          42.366981,
          42.378338,
          42.332799,
          42.366621,
          42.374035,
          42.379011,
          42.370677,
          42.366277,
          42.314507,
          42.320494,
          42.375603,
          42.372969,
          42.373379,
          42.36919031768079,
          42.371848,
          42.385582,
          42.396969,
          42.400877,
          42.346563,
          42.380287,
          42.356954,
          42.325333,
          42.3625,
          42.377945,
          42.365942,
          42.376369,
          42.40449,
          42.39082,
          42.330716,
          42.402763,
          42.387995,
          42.370803,
          42.366095,
          42.397828,
          42.335741,
          42.356052,
          42.335693,
          42.345733,
          42.313156,
          42.309054,
          42.320998,
          42.315692,
          42.320561,
          42.377022,
          42.317225,
          42.322701,
          42.394002,
          42.310579,
          42.350413,
          42.344827,
          42.344796,
          42.398365,
          42.326599,
          42.361589,
          42.388966,
          42.36356015842989,
          42.396105,
          42.369885,
          42.392766,
          42.363796,
          42.344137,
          42.358155,
          42.345901,
          42.32797270205962,
          42.337596,
          42.3391085,
          42.309796,
          42.344792,
          42.317642,
          42.378965,
          42.303469,
          42.37408991426522,
          42.34900494405213,
          42.34894857235593,
          42.38674802045056,
          42.36264779118595,
          42.35957320109044,
          42.35560121327927,
          42.37478628706384
         ],
         "legendgroup": "",
         "lon": [
          -71.075978,
          -71.100812,
          -71.069616,
          -71.090179,
          -71.065142,
          -71.04438900947571,
          -71.137313,
          -71.115639,
          -71.108279,
          -71.1065,
          -71.088496,
          -71.073089,
          -71.102797,
          -71.13802,
          -71.07657015323639,
          -71.119233,
          -71.105301,
          -71.051601,
          -71.082578,
          -71.055547,
          -71.057629,
          -71.043983,
          -71.076847,
          -71.068922,
          -71.095171,
          -71.124565,
          -71.105221,
          -71.041747,
          -71.102221,
          -71.097009,
          -71.058087,
          -71.077303,
          -71.147782,
          -71.059914,
          -71.074182,
          -71.050877,
          -71.123831,
          -71.070627,
          -71.050699,
          -71.057452,
          -71.097515,
          -71.085918,
          -71.056067,
          -71.055407,
          -71.066289,
          -71.073644,
          -71.0790969,
          -71.085954,
          -71.089886,
          -71.063348,
          -71.088088,
          -71.084198,
          -71.081572,
          -71.07278,
          -71.059367,
          -71.0708399,
          -71.082383,
          -71.057054,
          -71.0496,
          -71.0441,
          -71.13401,
          -71.093198,
          -71.1031,
          -71.123338,
          -71.121473,
          -71.107593,
          -71.084105,
          -71.120886,
          -71.118579,
          -71.10057324171066,
          -71.105495,
          -71.09812,
          -71.095319,
          -71.105668,
          -71.0920526,
          -71.062679,
          -71.13493,
          -71.076472,
          -71.048927,
          -71.116205,
          -71.114214,
          -71.101427,
          -71.119945,
          -71.076529,
          -71.09169,
          -71.041269,
          -71.051122,
          -71.064608,
          -71.094445,
          -71.111075,
          -71.11714124679565,
          -71.060292,
          -71.113341,
          -71.123024,
          -71.116772,
          -71.128374,
          -71.125107,
          -71.113687,
          -71.075354,
          -71.08822,
          -71.116865,
          -71.060515,
          -71.114025,
          -71.123413,
          -71.10942,
          -71.057044,
          -71.126908,
          -71.119084,
          -71.104412,
          -71.086388,
          -71.130516,
          -71.03877,
          -71.069849,
          -71.045859,
          -71.100694,
          -71.11414,
          -71.11543,
          -71.110833,
          -71.098634,
          -71.06198,
          -71.056605,
          -71.065421,
          -71.099533,
          -71.120406,
          -71.107341,
          -71.07655,
          -71.028664,
          -71.031614,
          -71.107818,
          -71.066498,
          -71.107437,
          -71.132788,
          -71.08216792345047,
          -71.139459,
          -71.069957,
          -71.129042,
          -71.129164,
          -71.052608,
          -71.052163,
          -71.063187,
          -71.11089706420898,
          -71.096391,
          -71.0514432,
          -71.092225,
          -71.044024,
          -71.056664,
          -71.068607,
          -71.085347,
          -71.06905996799469,
          -71.1604106426239,
          -71.15027189254761,
          -71.11901879310608,
          -71.10006093978882,
          -71.10129475593567,
          -71.10394477844238,
          -71.13320231437683
         ],
         "marker": {
          "color": [
           104,
           4022,
           4666,
           4600,
           6879,
           2777,
           2759,
           5334,
           4959,
           7432,
           4312,
           6641,
           7809,
           1562,
           7915,
           5273,
           4458,
           6601,
           7504,
           14824,
           8235,
           3694,
           3509,
           4627,
           2769,
           2423,
           4182,
           4032,
           5864,
           10345,
           4242,
           12218,
           999,
           7564,
           5351,
           5143,
           5435,
           8535,
           5202,
           4939,
           6757,
           7825,
           8169,
           4289,
           4597,
           4547,
           1960,
           6421,
           10191,
           8261,
           7764,
           1329,
           4369,
           8771,
           4641,
           11119,
           7337,
           1551,
           5256,
           3359,
           3367,
           26405,
           15590,
           4284,
           6880,
           3740,
           10746,
           7994,
           19042,
           14825,
           9507,
           1144,
           4354,
           3035,
           18188,
           6799,
           1751,
           7209,
           3082,
           2745,
           7063,
           8476,
           5309,
           7704,
           9054,
           519,
           1056,
           2961,
           6056,
           7581,
           5057,
           5654,
           2355,
           6824,
           1072,
           2209,
           4775,
           7971,
           540,
           12191,
           6897,
           10282,
           7948,
           1207,
           1122,
           1535,
           1462,
           7072,
           5895,
           4772,
           2517,
           2706,
           5540,
           2590,
           2272,
           1593,
           1433,
           2001,
           786,
           314,
           1752,
           406,
           1939,
           1106,
           2195,
           3000,
           2745,
           2765,
           1050,
           834,
           3526,
           2044,
           4322,
           1869,
           4383,
           942,
           3457,
           3151,
           3487,
           3356,
           100,
           590,
           459,
           29,
           376,
           37,
           282,
           32,
           155,
           80,
           152,
           217,
           639,
           981,
           778,
           134
          ],
          "coloraxis": "coloraxis",
          "size": [
           104,
           4022,
           4666,
           4600,
           6879,
           2777,
           2759,
           5334,
           4959,
           7432,
           4312,
           6641,
           7809,
           1562,
           7915,
           5273,
           4458,
           6601,
           7504,
           14824,
           8235,
           3694,
           3509,
           4627,
           2769,
           2423,
           4182,
           4032,
           5864,
           10345,
           4242,
           12218,
           999,
           7564,
           5351,
           5143,
           5435,
           8535,
           5202,
           4939,
           6757,
           7825,
           8169,
           4289,
           4597,
           4547,
           1960,
           6421,
           10191,
           8261,
           7764,
           1329,
           4369,
           8771,
           4641,
           11119,
           7337,
           1551,
           5256,
           3359,
           3367,
           26405,
           15590,
           4284,
           6880,
           3740,
           10746,
           7994,
           19042,
           14825,
           9507,
           1144,
           4354,
           3035,
           18188,
           6799,
           1751,
           7209,
           3082,
           2745,
           7063,
           8476,
           5309,
           7704,
           9054,
           519,
           1056,
           2961,
           6056,
           7581,
           5057,
           5654,
           2355,
           6824,
           1072,
           2209,
           4775,
           7971,
           540,
           12191,
           6897,
           10282,
           7948,
           1207,
           1122,
           1535,
           1462,
           7072,
           5895,
           4772,
           2517,
           2706,
           5540,
           2590,
           2272,
           1593,
           1433,
           2001,
           786,
           314,
           1752,
           406,
           1939,
           1106,
           2195,
           3000,
           2745,
           2765,
           1050,
           834,
           3526,
           2044,
           4322,
           1869,
           4383,
           942,
           3457,
           3151,
           3487,
           3356,
           100,
           590,
           459,
           29,
           376,
           37,
           282,
           32,
           155,
           80,
           152,
           217,
           639,
           981,
           778,
           134
          ],
          "sizemode": "area",
          "sizeref": 66.0125
         },
         "mode": "markers",
         "name": "",
         "showlegend": false,
         "subplot": "mapbox",
         "type": "scattermapbox"
        }
       ],
       "layout": {
        "coloraxis": {
         "colorbar": {
          "title": {
           "text": "counts_end"
          }
         },
         "colorscale": [
          [
           0,
           "orange"
          ],
          [
           1,
           "red"
          ]
         ]
        },
        "height": 300,
        "legend": {
         "itemsizing": "constant",
         "tracegroupgap": 0
        },
        "mapbox": {
         "center": {
          "lat": 42.355539267132464,
          "lon": -71.08955563028009
         },
         "domain": {
          "x": [
           0,
           1
          ],
          "y": [
           0,
           1
          ]
         },
         "style": "open-street-map",
         "zoom": 12
        },
        "margin": {
         "b": 0,
         "l": 0,
         "r": 0,
         "t": 0
        },
        "template": {
         "data": {
          "bar": [
           {
            "error_x": {
             "color": "#2a3f5f"
            },
            "error_y": {
             "color": "#2a3f5f"
            },
            "marker": {
             "line": {
              "color": "#E5ECF6",
              "width": 0.5
             },
             "pattern": {
              "fillmode": "overlay",
              "size": 10,
              "solidity": 0.2
             }
            },
            "type": "bar"
           }
          ],
          "barpolar": [
           {
            "marker": {
             "line": {
              "color": "#E5ECF6",
              "width": 0.5
             },
             "pattern": {
              "fillmode": "overlay",
              "size": 10,
              "solidity": 0.2
             }
            },
            "type": "barpolar"
           }
          ],
          "carpet": [
           {
            "aaxis": {
             "endlinecolor": "#2a3f5f",
             "gridcolor": "white",
             "linecolor": "white",
             "minorgridcolor": "white",
             "startlinecolor": "#2a3f5f"
            },
            "baxis": {
             "endlinecolor": "#2a3f5f",
             "gridcolor": "white",
             "linecolor": "white",
             "minorgridcolor": "white",
             "startlinecolor": "#2a3f5f"
            },
            "type": "carpet"
           }
          ],
          "choropleth": [
           {
            "colorbar": {
             "outlinewidth": 0,
             "ticks": ""
            },
            "type": "choropleth"
           }
          ],
          "contour": [
           {
            "colorbar": {
             "outlinewidth": 0,
             "ticks": ""
            },
            "colorscale": [
             [
              0,
              "#0d0887"
             ],
             [
              0.1111111111111111,
              "#46039f"
             ],
             [
              0.2222222222222222,
              "#7201a8"
             ],
             [
              0.3333333333333333,
              "#9c179e"
             ],
             [
              0.4444444444444444,
              "#bd3786"
             ],
             [
              0.5555555555555556,
              "#d8576b"
             ],
             [
              0.6666666666666666,
              "#ed7953"
             ],
             [
              0.7777777777777778,
              "#fb9f3a"
             ],
             [
              0.8888888888888888,
              "#fdca26"
             ],
             [
              1,
              "#f0f921"
             ]
            ],
            "type": "contour"
           }
          ],
          "contourcarpet": [
           {
            "colorbar": {
             "outlinewidth": 0,
             "ticks": ""
            },
            "type": "contourcarpet"
           }
          ],
          "heatmap": [
           {
            "colorbar": {
             "outlinewidth": 0,
             "ticks": ""
            },
            "colorscale": [
             [
              0,
              "#0d0887"
             ],
             [
              0.1111111111111111,
              "#46039f"
             ],
             [
              0.2222222222222222,
              "#7201a8"
             ],
             [
              0.3333333333333333,
              "#9c179e"
             ],
             [
              0.4444444444444444,
              "#bd3786"
             ],
             [
              0.5555555555555556,
              "#d8576b"
             ],
             [
              0.6666666666666666,
              "#ed7953"
             ],
             [
              0.7777777777777778,
              "#fb9f3a"
             ],
             [
              0.8888888888888888,
              "#fdca26"
             ],
             [
              1,
              "#f0f921"
             ]
            ],
            "type": "heatmap"
           }
          ],
          "heatmapgl": [
           {
            "colorbar": {
             "outlinewidth": 0,
             "ticks": ""
            },
            "colorscale": [
             [
              0,
              "#0d0887"
             ],
             [
              0.1111111111111111,
              "#46039f"
             ],
             [
              0.2222222222222222,
              "#7201a8"
             ],
             [
              0.3333333333333333,
              "#9c179e"
             ],
             [
              0.4444444444444444,
              "#bd3786"
             ],
             [
              0.5555555555555556,
              "#d8576b"
             ],
             [
              0.6666666666666666,
              "#ed7953"
             ],
             [
              0.7777777777777778,
              "#fb9f3a"
             ],
             [
              0.8888888888888888,
              "#fdca26"
             ],
             [
              1,
              "#f0f921"
             ]
            ],
            "type": "heatmapgl"
           }
          ],
          "histogram": [
           {
            "marker": {
             "pattern": {
              "fillmode": "overlay",
              "size": 10,
              "solidity": 0.2
             }
            },
            "type": "histogram"
           }
          ],
          "histogram2d": [
           {
            "colorbar": {
             "outlinewidth": 0,
             "ticks": ""
            },
            "colorscale": [
             [
              0,
              "#0d0887"
             ],
             [
              0.1111111111111111,
              "#46039f"
             ],
             [
              0.2222222222222222,
              "#7201a8"
             ],
             [
              0.3333333333333333,
              "#9c179e"
             ],
             [
              0.4444444444444444,
              "#bd3786"
             ],
             [
              0.5555555555555556,
              "#d8576b"
             ],
             [
              0.6666666666666666,
              "#ed7953"
             ],
             [
              0.7777777777777778,
              "#fb9f3a"
             ],
             [
              0.8888888888888888,
              "#fdca26"
             ],
             [
              1,
              "#f0f921"
             ]
            ],
            "type": "histogram2d"
           }
          ],
          "histogram2dcontour": [
           {
            "colorbar": {
             "outlinewidth": 0,
             "ticks": ""
            },
            "colorscale": [
             [
              0,
              "#0d0887"
             ],
             [
              0.1111111111111111,
              "#46039f"
             ],
             [
              0.2222222222222222,
              "#7201a8"
             ],
             [
              0.3333333333333333,
              "#9c179e"
             ],
             [
              0.4444444444444444,
              "#bd3786"
             ],
             [
              0.5555555555555556,
              "#d8576b"
             ],
             [
              0.6666666666666666,
              "#ed7953"
             ],
             [
              0.7777777777777778,
              "#fb9f3a"
             ],
             [
              0.8888888888888888,
              "#fdca26"
             ],
             [
              1,
              "#f0f921"
             ]
            ],
            "type": "histogram2dcontour"
           }
          ],
          "mesh3d": [
           {
            "colorbar": {
             "outlinewidth": 0,
             "ticks": ""
            },
            "type": "mesh3d"
           }
          ],
          "parcoords": [
           {
            "line": {
             "colorbar": {
              "outlinewidth": 0,
              "ticks": ""
             }
            },
            "type": "parcoords"
           }
          ],
          "pie": [
           {
            "automargin": true,
            "type": "pie"
           }
          ],
          "scatter": [
           {
            "fillpattern": {
             "fillmode": "overlay",
             "size": 10,
             "solidity": 0.2
            },
            "type": "scatter"
           }
          ],
          "scatter3d": [
           {
            "line": {
             "colorbar": {
              "outlinewidth": 0,
              "ticks": ""
             }
            },
            "marker": {
             "colorbar": {
              "outlinewidth": 0,
              "ticks": ""
             }
            },
            "type": "scatter3d"
           }
          ],
          "scattercarpet": [
           {
            "marker": {
             "colorbar": {
              "outlinewidth": 0,
              "ticks": ""
             }
            },
            "type": "scattercarpet"
           }
          ],
          "scattergeo": [
           {
            "marker": {
             "colorbar": {
              "outlinewidth": 0,
              "ticks": ""
             }
            },
            "type": "scattergeo"
           }
          ],
          "scattergl": [
           {
            "marker": {
             "colorbar": {
              "outlinewidth": 0,
              "ticks": ""
             }
            },
            "type": "scattergl"
           }
          ],
          "scattermapbox": [
           {
            "marker": {
             "colorbar": {
              "outlinewidth": 0,
              "ticks": ""
             }
            },
            "type": "scattermapbox"
           }
          ],
          "scatterpolar": [
           {
            "marker": {
             "colorbar": {
              "outlinewidth": 0,
              "ticks": ""
             }
            },
            "type": "scatterpolar"
           }
          ],
          "scatterpolargl": [
           {
            "marker": {
             "colorbar": {
              "outlinewidth": 0,
              "ticks": ""
             }
            },
            "type": "scatterpolargl"
           }
          ],
          "scatterternary": [
           {
            "marker": {
             "colorbar": {
              "outlinewidth": 0,
              "ticks": ""
             }
            },
            "type": "scatterternary"
           }
          ],
          "surface": [
           {
            "colorbar": {
             "outlinewidth": 0,
             "ticks": ""
            },
            "colorscale": [
             [
              0,
              "#0d0887"
             ],
             [
              0.1111111111111111,
              "#46039f"
             ],
             [
              0.2222222222222222,
              "#7201a8"
             ],
             [
              0.3333333333333333,
              "#9c179e"
             ],
             [
              0.4444444444444444,
              "#bd3786"
             ],
             [
              0.5555555555555556,
              "#d8576b"
             ],
             [
              0.6666666666666666,
              "#ed7953"
             ],
             [
              0.7777777777777778,
              "#fb9f3a"
             ],
             [
              0.8888888888888888,
              "#fdca26"
             ],
             [
              1,
              "#f0f921"
             ]
            ],
            "type": "surface"
           }
          ],
          "table": [
           {
            "cells": {
             "fill": {
              "color": "#EBF0F8"
             },
             "line": {
              "color": "white"
             }
            },
            "header": {
             "fill": {
              "color": "#C8D4E3"
             },
             "line": {
              "color": "white"
             }
            },
            "type": "table"
           }
          ]
         },
         "layout": {
          "annotationdefaults": {
           "arrowcolor": "#2a3f5f",
           "arrowhead": 0,
           "arrowwidth": 1
          },
          "autotypenumbers": "strict",
          "coloraxis": {
           "colorbar": {
            "outlinewidth": 0,
            "ticks": ""
           }
          },
          "colorscale": {
           "diverging": [
            [
             0,
             "#8e0152"
            ],
            [
             0.1,
             "#c51b7d"
            ],
            [
             0.2,
             "#de77ae"
            ],
            [
             0.3,
             "#f1b6da"
            ],
            [
             0.4,
             "#fde0ef"
            ],
            [
             0.5,
             "#f7f7f7"
            ],
            [
             0.6,
             "#e6f5d0"
            ],
            [
             0.7,
             "#b8e186"
            ],
            [
             0.8,
             "#7fbc41"
            ],
            [
             0.9,
             "#4d9221"
            ],
            [
             1,
             "#276419"
            ]
           ],
           "sequential": [
            [
             0,
             "#0d0887"
            ],
            [
             0.1111111111111111,
             "#46039f"
            ],
            [
             0.2222222222222222,
             "#7201a8"
            ],
            [
             0.3333333333333333,
             "#9c179e"
            ],
            [
             0.4444444444444444,
             "#bd3786"
            ],
            [
             0.5555555555555556,
             "#d8576b"
            ],
            [
             0.6666666666666666,
             "#ed7953"
            ],
            [
             0.7777777777777778,
             "#fb9f3a"
            ],
            [
             0.8888888888888888,
             "#fdca26"
            ],
            [
             1,
             "#f0f921"
            ]
           ],
           "sequentialminus": [
            [
             0,
             "#0d0887"
            ],
            [
             0.1111111111111111,
             "#46039f"
            ],
            [
             0.2222222222222222,
             "#7201a8"
            ],
            [
             0.3333333333333333,
             "#9c179e"
            ],
            [
             0.4444444444444444,
             "#bd3786"
            ],
            [
             0.5555555555555556,
             "#d8576b"
            ],
            [
             0.6666666666666666,
             "#ed7953"
            ],
            [
             0.7777777777777778,
             "#fb9f3a"
            ],
            [
             0.8888888888888888,
             "#fdca26"
            ],
            [
             1,
             "#f0f921"
            ]
           ]
          },
          "colorway": [
           "#636efa",
           "#EF553B",
           "#00cc96",
           "#ab63fa",
           "#FFA15A",
           "#19d3f3",
           "#FF6692",
           "#B6E880",
           "#FF97FF",
           "#FECB52"
          ],
          "font": {
           "color": "#2a3f5f"
          },
          "geo": {
           "bgcolor": "white",
           "lakecolor": "white",
           "landcolor": "#E5ECF6",
           "showlakes": true,
           "showland": true,
           "subunitcolor": "white"
          },
          "hoverlabel": {
           "align": "left"
          },
          "hovermode": "closest",
          "mapbox": {
           "style": "light"
          },
          "paper_bgcolor": "white",
          "plot_bgcolor": "#E5ECF6",
          "polar": {
           "angularaxis": {
            "gridcolor": "white",
            "linecolor": "white",
            "ticks": ""
           },
           "bgcolor": "#E5ECF6",
           "radialaxis": {
            "gridcolor": "white",
            "linecolor": "white",
            "ticks": ""
           }
          },
          "scene": {
           "xaxis": {
            "backgroundcolor": "#E5ECF6",
            "gridcolor": "white",
            "gridwidth": 2,
            "linecolor": "white",
            "showbackground": true,
            "ticks": "",
            "zerolinecolor": "white"
           },
           "yaxis": {
            "backgroundcolor": "#E5ECF6",
            "gridcolor": "white",
            "gridwidth": 2,
            "linecolor": "white",
            "showbackground": true,
            "ticks": "",
            "zerolinecolor": "white"
           },
           "zaxis": {
            "backgroundcolor": "#E5ECF6",
            "gridcolor": "white",
            "gridwidth": 2,
            "linecolor": "white",
            "showbackground": true,
            "ticks": "",
            "zerolinecolor": "white"
           }
          },
          "shapedefaults": {
           "line": {
            "color": "#2a3f5f"
           }
          },
          "ternary": {
           "aaxis": {
            "gridcolor": "white",
            "linecolor": "white",
            "ticks": ""
           },
           "baxis": {
            "gridcolor": "white",
            "linecolor": "white",
            "ticks": ""
           },
           "bgcolor": "#E5ECF6",
           "caxis": {
            "gridcolor": "white",
            "linecolor": "white",
            "ticks": ""
           }
          },
          "title": {
           "x": 0.05
          },
          "xaxis": {
           "automargin": true,
           "gridcolor": "white",
           "linecolor": "white",
           "ticks": "",
           "title": {
            "standoff": 15
           },
           "zerolinecolor": "white",
           "zerolinewidth": 2
          },
          "yaxis": {
           "automargin": true,
           "gridcolor": "white",
           "linecolor": "white",
           "ticks": "",
           "title": {
            "standoff": 15
           },
           "zerolinecolor": "white",
           "zerolinewidth": 2
          }
         }
        },
        "width": 800
       }
      }
     },
     "metadata": {},
     "output_type": "display_data"
    },
    {
     "data": {
      "application/vnd.plotly.v1+json": {
       "config": {
        "plotlyServerURL": "https://plot.ly"
       },
       "data": [
        {
         "customdata": [
          [
           3
          ],
          [
           4
          ],
          [
           5
          ],
          [
           6
          ],
          [
           7
          ],
          [
           8
          ],
          [
           9
          ],
          [
           10
          ],
          [
           11
          ],
          [
           12
          ],
          [
           13
          ],
          [
           14
          ],
          [
           15
          ],
          [
           16
          ],
          [
           17
          ],
          [
           19
          ],
          [
           20
          ],
          [
           21
          ],
          [
           22
          ],
          [
           23
          ],
          [
           24
          ],
          [
           25
          ],
          [
           26
          ],
          [
           27
          ],
          [
           29
          ],
          [
           30
          ],
          [
           31
          ],
          [
           32
          ],
          [
           33
          ],
          [
           35
          ],
          [
           36
          ],
          [
           37
          ],
          [
           38
          ],
          [
           39
          ],
          [
           40
          ],
          [
           41
          ],
          [
           42
          ],
          [
           43
          ],
          [
           44
          ],
          [
           45
          ],
          [
           46
          ],
          [
           47
          ],
          [
           48
          ],
          [
           49
          ],
          [
           50
          ],
          [
           51
          ],
          [
           52
          ],
          [
           53
          ],
          [
           54
          ],
          [
           55
          ],
          [
           56
          ],
          [
           57
          ],
          [
           58
          ],
          [
           59
          ],
          [
           60
          ],
          [
           61
          ],
          [
           63
          ],
          [
           64
          ],
          [
           65
          ],
          [
           66
          ],
          [
           67
          ],
          [
           68
          ],
          [
           69
          ],
          [
           70
          ],
          [
           71
          ],
          [
           72
          ],
          [
           73
          ],
          [
           74
          ],
          [
           75
          ],
          [
           76
          ],
          [
           77
          ],
          [
           78
          ],
          [
           79
          ],
          [
           80
          ],
          [
           81
          ],
          [
           82
          ],
          [
           84
          ],
          [
           85
          ],
          [
           86
          ],
          [
           87
          ],
          [
           88
          ],
          [
           89
          ],
          [
           90
          ],
          [
           91
          ],
          [
           92
          ],
          [
           93
          ],
          [
           94
          ],
          [
           95
          ],
          [
           96
          ],
          [
           97
          ],
          [
           98
          ],
          [
           99
          ],
          [
           100
          ],
          [
           102
          ],
          [
           103
          ],
          [
           104
          ],
          [
           105
          ],
          [
           106
          ],
          [
           107
          ],
          [
           108
          ],
          [
           109
          ],
          [
           110
          ],
          [
           111
          ],
          [
           112
          ],
          [
           113
          ],
          [
           114
          ],
          [
           115
          ],
          [
           116
          ],
          [
           117
          ],
          [
           118
          ],
          [
           119
          ],
          [
           120
          ],
          [
           121
          ],
          [
           122
          ],
          [
           123
          ],
          [
           124
          ],
          [
           125
          ],
          [
           126
          ],
          [
           128
          ],
          [
           129
          ],
          [
           130
          ],
          [
           131
          ],
          [
           132
          ],
          [
           133
          ],
          [
           134
          ],
          [
           135
          ],
          [
           136
          ],
          [
           137
          ],
          [
           138
          ],
          [
           139
          ],
          [
           140
          ],
          [
           141
          ],
          [
           142
          ],
          [
           143
          ],
          [
           145
          ],
          [
           149
          ],
          [
           150
          ],
          [
           151
          ],
          [
           152
          ],
          [
           159
          ],
          [
           160
          ],
          [
           161
          ],
          [
           162
          ],
          [
           163
          ],
          [
           167
          ],
          [
           169
          ],
          [
           170
          ],
          [
           171
          ],
          [
           174
          ],
          [
           175
          ],
          [
           176
          ],
          [
           177
          ],
          [
           178
          ],
          [
           179
          ],
          [
           180
          ]
         ],
         "hovertemplate": "counts_end=%{marker.color}<br>end_station_latitude=%{lat}<br>end_station_longitude=%{lon}<br>end_station_id=%{customdata[0]}<extra></extra>",
         "lat": [
          42.340021,
          42.345392,
          42.341814,
          42.361174,
          42.35328743453294,
          42.353334,
          42.351246,
          42.350406,
          42.338629,
          42.335911,
          42.336437,
          42.337171,
          42.361667,
          42.34807412317439,
          42.365064,
          42.347241,
          42.35977,
          42.345959,
          42.352175,
          42.35892,
          42.351205,
          42.341332,
          42.341522,
          42.331184,
          42.363732,
          42.334073,
          42.348833,
          42.343912,
          42.348706,
          42.355402,
          42.349673,
          42.357402,
          42.366222,
          42.338623,
          42.363871,
          42.352261,
          42.352033,
          42.357143,
          42.360613,
          42.344706,
          42.343864,
          42.362811,
          42.356755,
          42.351146,
          42.350989,
          42.3348756,
          42.348717,
          42.350851,
          42.354979,
          42.347265,
          42.328654,
          42.340799,
          42.355596,
          42.351356,
          42.360835,
          42.348762,
          42.344023,
          42.3511,
          42.3475,
          42.348607,
          42.3581,
          42.36507,
          42.341598,
          42.371196,
          42.383405,
          42.362613,
          42.373231,
          42.373268,
          42.36346469304347,
          42.366426,
          42.386844,
          42.379637,
          42.37842,
          42.3619622,
          42.352409,
          42.339335,
          42.366981,
          42.378338,
          42.332799,
          42.366621,
          42.374035,
          42.379011,
          42.370677,
          42.366277,
          42.314507,
          42.320494,
          42.375603,
          42.372969,
          42.373379,
          42.36919031768079,
          42.371848,
          42.385582,
          42.396969,
          42.400877,
          42.346563,
          42.380287,
          42.356954,
          42.325333,
          42.3625,
          42.377945,
          42.365942,
          42.376369,
          42.40449,
          42.39082,
          42.330716,
          42.402763,
          42.387995,
          42.370803,
          42.366095,
          42.397828,
          42.335741,
          42.356052,
          42.335693,
          42.345733,
          42.313156,
          42.309054,
          42.320998,
          42.315692,
          42.320561,
          42.377022,
          42.317225,
          42.322701,
          42.394002,
          42.310579,
          42.350413,
          42.344827,
          42.344796,
          42.398365,
          42.326599,
          42.361589,
          42.388966,
          42.36356015842989,
          42.396105,
          42.369885,
          42.392766,
          42.363796,
          42.344137,
          42.358155,
          42.345901,
          42.32797270205962,
          42.337596,
          42.3391085,
          42.309796,
          42.344792,
          42.317642,
          42.378965,
          42.303469,
          42.37408991426522,
          42.34900494405213,
          42.34894857235593,
          42.38674802045056,
          42.36264779118595,
          42.35957320109044,
          42.35560121327927,
          42.37478628706384
         ],
         "legendgroup": "",
         "lon": [
          -71.100812,
          -71.069616,
          -71.090179,
          -71.065142,
          -71.04438900947571,
          -71.137313,
          -71.115639,
          -71.108279,
          -71.1065,
          -71.088496,
          -71.073089,
          -71.102797,
          -71.13802,
          -71.07657015323639,
          -71.119233,
          -71.105301,
          -71.051601,
          -71.082578,
          -71.055547,
          -71.057629,
          -71.043983,
          -71.076847,
          -71.068922,
          -71.095171,
          -71.124565,
          -71.105221,
          -71.041747,
          -71.102221,
          -71.097009,
          -71.058087,
          -71.077303,
          -71.147782,
          -71.059914,
          -71.074182,
          -71.050877,
          -71.123831,
          -71.070627,
          -71.050699,
          -71.057452,
          -71.097515,
          -71.085918,
          -71.056067,
          -71.055407,
          -71.066289,
          -71.073644,
          -71.0790969,
          -71.085954,
          -71.089886,
          -71.063348,
          -71.088088,
          -71.084198,
          -71.081572,
          -71.07278,
          -71.059367,
          -71.0708399,
          -71.082383,
          -71.057054,
          -71.0496,
          -71.0441,
          -71.13401,
          -71.093198,
          -71.1031,
          -71.123338,
          -71.121473,
          -71.107593,
          -71.084105,
          -71.120886,
          -71.118579,
          -71.10057324171066,
          -71.105495,
          -71.09812,
          -71.095319,
          -71.105668,
          -71.0920526,
          -71.062679,
          -71.13493,
          -71.076472,
          -71.048927,
          -71.116205,
          -71.114214,
          -71.101427,
          -71.119945,
          -71.076529,
          -71.09169,
          -71.041269,
          -71.051122,
          -71.064608,
          -71.094445,
          -71.111075,
          -71.11714124679565,
          -71.060292,
          -71.113341,
          -71.123024,
          -71.116772,
          -71.128374,
          -71.125107,
          -71.113687,
          -71.075354,
          -71.08822,
          -71.116865,
          -71.060515,
          -71.114025,
          -71.123413,
          -71.10942,
          -71.057044,
          -71.126908,
          -71.119084,
          -71.104412,
          -71.086388,
          -71.130516,
          -71.03877,
          -71.069849,
          -71.045859,
          -71.100694,
          -71.11414,
          -71.11543,
          -71.110833,
          -71.098634,
          -71.06198,
          -71.056605,
          -71.065421,
          -71.099533,
          -71.120406,
          -71.107341,
          -71.07655,
          -71.028664,
          -71.031614,
          -71.107818,
          -71.066498,
          -71.107437,
          -71.132788,
          -71.08216792345047,
          -71.139459,
          -71.069957,
          -71.129042,
          -71.129164,
          -71.052608,
          -71.052163,
          -71.063187,
          -71.11089706420898,
          -71.096391,
          -71.0514432,
          -71.092225,
          -71.044024,
          -71.056664,
          -71.068607,
          -71.085347,
          -71.06905996799469,
          -71.1604106426239,
          -71.15027189254761,
          -71.11901879310608,
          -71.10006093978882,
          -71.10129475593567,
          -71.10394477844238,
          -71.13320231437683
         ],
         "marker": {
          "color": [
           925,
           4206,
           1613,
           5587,
           2460,
           916,
           3297,
           2528,
           1406,
           2035,
           2362,
           1518,
           521,
           7835,
           1010,
           2555,
           4962,
           5130,
           16211,
           5027,
           2370,
           3730,
           4373,
           1252,
           747,
           899,
           2943,
           2022,
           4034,
           5868,
           7155,
           242,
           7188,
           4189,
           5477,
           2048,
           5128,
           7187,
           1951,
           2861,
           3685,
           5256,
           6791,
           3097,
           4733,
           939,
           3604,
           2970,
           3803,
           3249,
           278,
           3355,
           3620,
           4092,
           5379,
           5063,
           1988,
           5354,
           1206,
           1078,
           3253,
           5127,
           1825,
           1431,
           1475,
           3088,
           2528,
           4018,
           4072,
           4326,
           611,
           2162,
           1304,
           3441,
           3522,
           770,
           3305,
           1956,
           1411,
           1793,
           3553,
           951,
           3188,
           4369,
           81,
           437,
           2555,
           3536,
           1859,
           1028,
           4850,
           1160,
           4805,
           497,
           607,
           1397,
           3112,
           13,
           2819,
           966,
           10005,
           1505,
           541,
           533,
           933,
           617,
           3181,
           1981,
           2123,
           2865,
           1733,
           3134,
           1739,
           795,
           619,
           543,
           1092,
           106,
           445,
           817,
           175,
           967,
           652,
           982,
           2797,
           596,
           1202,
           280,
           478,
           1851,
           709,
           2191,
           1569,
           1332,
           566,
           1402,
           2070,
           3796,
           2404,
           42,
           135,
           267,
           7,
           127,
           56,
           295,
           4,
           82,
           40,
           66,
           97,
           113,
           95,
           52,
           102
          ],
          "coloraxis": "coloraxis",
          "size": [
           925,
           4206,
           1613,
           5587,
           2460,
           916,
           3297,
           2528,
           1406,
           2035,
           2362,
           1518,
           521,
           7835,
           1010,
           2555,
           4962,
           5130,
           16211,
           5027,
           2370,
           3730,
           4373,
           1252,
           747,
           899,
           2943,
           2022,
           4034,
           5868,
           7155,
           242,
           7188,
           4189,
           5477,
           2048,
           5128,
           7187,
           1951,
           2861,
           3685,
           5256,
           6791,
           3097,
           4733,
           939,
           3604,
           2970,
           3803,
           3249,
           278,
           3355,
           3620,
           4092,
           5379,
           5063,
           1988,
           5354,
           1206,
           1078,
           3253,
           5127,
           1825,
           1431,
           1475,
           3088,
           2528,
           4018,
           4072,
           4326,
           611,
           2162,
           1304,
           3441,
           3522,
           770,
           3305,
           1956,
           1411,
           1793,
           3553,
           951,
           3188,
           4369,
           81,
           437,
           2555,
           3536,
           1859,
           1028,
           4850,
           1160,
           4805,
           497,
           607,
           1397,
           3112,
           13,
           2819,
           966,
           10005,
           1505,
           541,
           533,
           933,
           617,
           3181,
           1981,
           2123,
           2865,
           1733,
           3134,
           1739,
           795,
           619,
           543,
           1092,
           106,
           445,
           817,
           175,
           967,
           652,
           982,
           2797,
           596,
           1202,
           280,
           478,
           1851,
           709,
           2191,
           1569,
           1332,
           566,
           1402,
           2070,
           3796,
           2404,
           42,
           135,
           267,
           7,
           127,
           56,
           295,
           4,
           82,
           40,
           66,
           97,
           113,
           95,
           52,
           102
          ],
          "sizemode": "area",
          "sizeref": 40.5275
         },
         "mode": "markers",
         "name": "",
         "showlegend": false,
         "subplot": "mapbox",
         "type": "scattermapbox"
        }
       ],
       "layout": {
        "coloraxis": {
         "colorbar": {
          "title": {
           "text": "counts_end"
          }
         },
         "colorscale": [
          [
           0,
           "orange"
          ],
          [
           1,
           "red"
          ]
         ]
        },
        "height": 300,
        "legend": {
         "itemsizing": "constant",
         "tracegroupgap": 0
        },
        "mapbox": {
         "center": {
          "lat": 42.3553353204688,
          "lon": -71.0896432278948
         },
         "domain": {
          "x": [
           0,
           1
          ],
          "y": [
           0,
           1
          ]
         },
         "style": "open-street-map",
         "zoom": 12
        },
        "margin": {
         "b": 0,
         "l": 0,
         "r": 0,
         "t": 0
        },
        "template": {
         "data": {
          "bar": [
           {
            "error_x": {
             "color": "#2a3f5f"
            },
            "error_y": {
             "color": "#2a3f5f"
            },
            "marker": {
             "line": {
              "color": "#E5ECF6",
              "width": 0.5
             },
             "pattern": {
              "fillmode": "overlay",
              "size": 10,
              "solidity": 0.2
             }
            },
            "type": "bar"
           }
          ],
          "barpolar": [
           {
            "marker": {
             "line": {
              "color": "#E5ECF6",
              "width": 0.5
             },
             "pattern": {
              "fillmode": "overlay",
              "size": 10,
              "solidity": 0.2
             }
            },
            "type": "barpolar"
           }
          ],
          "carpet": [
           {
            "aaxis": {
             "endlinecolor": "#2a3f5f",
             "gridcolor": "white",
             "linecolor": "white",
             "minorgridcolor": "white",
             "startlinecolor": "#2a3f5f"
            },
            "baxis": {
             "endlinecolor": "#2a3f5f",
             "gridcolor": "white",
             "linecolor": "white",
             "minorgridcolor": "white",
             "startlinecolor": "#2a3f5f"
            },
            "type": "carpet"
           }
          ],
          "choropleth": [
           {
            "colorbar": {
             "outlinewidth": 0,
             "ticks": ""
            },
            "type": "choropleth"
           }
          ],
          "contour": [
           {
            "colorbar": {
             "outlinewidth": 0,
             "ticks": ""
            },
            "colorscale": [
             [
              0,
              "#0d0887"
             ],
             [
              0.1111111111111111,
              "#46039f"
             ],
             [
              0.2222222222222222,
              "#7201a8"
             ],
             [
              0.3333333333333333,
              "#9c179e"
             ],
             [
              0.4444444444444444,
              "#bd3786"
             ],
             [
              0.5555555555555556,
              "#d8576b"
             ],
             [
              0.6666666666666666,
              "#ed7953"
             ],
             [
              0.7777777777777778,
              "#fb9f3a"
             ],
             [
              0.8888888888888888,
              "#fdca26"
             ],
             [
              1,
              "#f0f921"
             ]
            ],
            "type": "contour"
           }
          ],
          "contourcarpet": [
           {
            "colorbar": {
             "outlinewidth": 0,
             "ticks": ""
            },
            "type": "contourcarpet"
           }
          ],
          "heatmap": [
           {
            "colorbar": {
             "outlinewidth": 0,
             "ticks": ""
            },
            "colorscale": [
             [
              0,
              "#0d0887"
             ],
             [
              0.1111111111111111,
              "#46039f"
             ],
             [
              0.2222222222222222,
              "#7201a8"
             ],
             [
              0.3333333333333333,
              "#9c179e"
             ],
             [
              0.4444444444444444,
              "#bd3786"
             ],
             [
              0.5555555555555556,
              "#d8576b"
             ],
             [
              0.6666666666666666,
              "#ed7953"
             ],
             [
              0.7777777777777778,
              "#fb9f3a"
             ],
             [
              0.8888888888888888,
              "#fdca26"
             ],
             [
              1,
              "#f0f921"
             ]
            ],
            "type": "heatmap"
           }
          ],
          "heatmapgl": [
           {
            "colorbar": {
             "outlinewidth": 0,
             "ticks": ""
            },
            "colorscale": [
             [
              0,
              "#0d0887"
             ],
             [
              0.1111111111111111,
              "#46039f"
             ],
             [
              0.2222222222222222,
              "#7201a8"
             ],
             [
              0.3333333333333333,
              "#9c179e"
             ],
             [
              0.4444444444444444,
              "#bd3786"
             ],
             [
              0.5555555555555556,
              "#d8576b"
             ],
             [
              0.6666666666666666,
              "#ed7953"
             ],
             [
              0.7777777777777778,
              "#fb9f3a"
             ],
             [
              0.8888888888888888,
              "#fdca26"
             ],
             [
              1,
              "#f0f921"
             ]
            ],
            "type": "heatmapgl"
           }
          ],
          "histogram": [
           {
            "marker": {
             "pattern": {
              "fillmode": "overlay",
              "size": 10,
              "solidity": 0.2
             }
            },
            "type": "histogram"
           }
          ],
          "histogram2d": [
           {
            "colorbar": {
             "outlinewidth": 0,
             "ticks": ""
            },
            "colorscale": [
             [
              0,
              "#0d0887"
             ],
             [
              0.1111111111111111,
              "#46039f"
             ],
             [
              0.2222222222222222,
              "#7201a8"
             ],
             [
              0.3333333333333333,
              "#9c179e"
             ],
             [
              0.4444444444444444,
              "#bd3786"
             ],
             [
              0.5555555555555556,
              "#d8576b"
             ],
             [
              0.6666666666666666,
              "#ed7953"
             ],
             [
              0.7777777777777778,
              "#fb9f3a"
             ],
             [
              0.8888888888888888,
              "#fdca26"
             ],
             [
              1,
              "#f0f921"
             ]
            ],
            "type": "histogram2d"
           }
          ],
          "histogram2dcontour": [
           {
            "colorbar": {
             "outlinewidth": 0,
             "ticks": ""
            },
            "colorscale": [
             [
              0,
              "#0d0887"
             ],
             [
              0.1111111111111111,
              "#46039f"
             ],
             [
              0.2222222222222222,
              "#7201a8"
             ],
             [
              0.3333333333333333,
              "#9c179e"
             ],
             [
              0.4444444444444444,
              "#bd3786"
             ],
             [
              0.5555555555555556,
              "#d8576b"
             ],
             [
              0.6666666666666666,
              "#ed7953"
             ],
             [
              0.7777777777777778,
              "#fb9f3a"
             ],
             [
              0.8888888888888888,
              "#fdca26"
             ],
             [
              1,
              "#f0f921"
             ]
            ],
            "type": "histogram2dcontour"
           }
          ],
          "mesh3d": [
           {
            "colorbar": {
             "outlinewidth": 0,
             "ticks": ""
            },
            "type": "mesh3d"
           }
          ],
          "parcoords": [
           {
            "line": {
             "colorbar": {
              "outlinewidth": 0,
              "ticks": ""
             }
            },
            "type": "parcoords"
           }
          ],
          "pie": [
           {
            "automargin": true,
            "type": "pie"
           }
          ],
          "scatter": [
           {
            "fillpattern": {
             "fillmode": "overlay",
             "size": 10,
             "solidity": 0.2
            },
            "type": "scatter"
           }
          ],
          "scatter3d": [
           {
            "line": {
             "colorbar": {
              "outlinewidth": 0,
              "ticks": ""
             }
            },
            "marker": {
             "colorbar": {
              "outlinewidth": 0,
              "ticks": ""
             }
            },
            "type": "scatter3d"
           }
          ],
          "scattercarpet": [
           {
            "marker": {
             "colorbar": {
              "outlinewidth": 0,
              "ticks": ""
             }
            },
            "type": "scattercarpet"
           }
          ],
          "scattergeo": [
           {
            "marker": {
             "colorbar": {
              "outlinewidth": 0,
              "ticks": ""
             }
            },
            "type": "scattergeo"
           }
          ],
          "scattergl": [
           {
            "marker": {
             "colorbar": {
              "outlinewidth": 0,
              "ticks": ""
             }
            },
            "type": "scattergl"
           }
          ],
          "scattermapbox": [
           {
            "marker": {
             "colorbar": {
              "outlinewidth": 0,
              "ticks": ""
             }
            },
            "type": "scattermapbox"
           }
          ],
          "scatterpolar": [
           {
            "marker": {
             "colorbar": {
              "outlinewidth": 0,
              "ticks": ""
             }
            },
            "type": "scatterpolar"
           }
          ],
          "scatterpolargl": [
           {
            "marker": {
             "colorbar": {
              "outlinewidth": 0,
              "ticks": ""
             }
            },
            "type": "scatterpolargl"
           }
          ],
          "scatterternary": [
           {
            "marker": {
             "colorbar": {
              "outlinewidth": 0,
              "ticks": ""
             }
            },
            "type": "scatterternary"
           }
          ],
          "surface": [
           {
            "colorbar": {
             "outlinewidth": 0,
             "ticks": ""
            },
            "colorscale": [
             [
              0,
              "#0d0887"
             ],
             [
              0.1111111111111111,
              "#46039f"
             ],
             [
              0.2222222222222222,
              "#7201a8"
             ],
             [
              0.3333333333333333,
              "#9c179e"
             ],
             [
              0.4444444444444444,
              "#bd3786"
             ],
             [
              0.5555555555555556,
              "#d8576b"
             ],
             [
              0.6666666666666666,
              "#ed7953"
             ],
             [
              0.7777777777777778,
              "#fb9f3a"
             ],
             [
              0.8888888888888888,
              "#fdca26"
             ],
             [
              1,
              "#f0f921"
             ]
            ],
            "type": "surface"
           }
          ],
          "table": [
           {
            "cells": {
             "fill": {
              "color": "#EBF0F8"
             },
             "line": {
              "color": "white"
             }
            },
            "header": {
             "fill": {
              "color": "#C8D4E3"
             },
             "line": {
              "color": "white"
             }
            },
            "type": "table"
           }
          ]
         },
         "layout": {
          "annotationdefaults": {
           "arrowcolor": "#2a3f5f",
           "arrowhead": 0,
           "arrowwidth": 1
          },
          "autotypenumbers": "strict",
          "coloraxis": {
           "colorbar": {
            "outlinewidth": 0,
            "ticks": ""
           }
          },
          "colorscale": {
           "diverging": [
            [
             0,
             "#8e0152"
            ],
            [
             0.1,
             "#c51b7d"
            ],
            [
             0.2,
             "#de77ae"
            ],
            [
             0.3,
             "#f1b6da"
            ],
            [
             0.4,
             "#fde0ef"
            ],
            [
             0.5,
             "#f7f7f7"
            ],
            [
             0.6,
             "#e6f5d0"
            ],
            [
             0.7,
             "#b8e186"
            ],
            [
             0.8,
             "#7fbc41"
            ],
            [
             0.9,
             "#4d9221"
            ],
            [
             1,
             "#276419"
            ]
           ],
           "sequential": [
            [
             0,
             "#0d0887"
            ],
            [
             0.1111111111111111,
             "#46039f"
            ],
            [
             0.2222222222222222,
             "#7201a8"
            ],
            [
             0.3333333333333333,
             "#9c179e"
            ],
            [
             0.4444444444444444,
             "#bd3786"
            ],
            [
             0.5555555555555556,
             "#d8576b"
            ],
            [
             0.6666666666666666,
             "#ed7953"
            ],
            [
             0.7777777777777778,
             "#fb9f3a"
            ],
            [
             0.8888888888888888,
             "#fdca26"
            ],
            [
             1,
             "#f0f921"
            ]
           ],
           "sequentialminus": [
            [
             0,
             "#0d0887"
            ],
            [
             0.1111111111111111,
             "#46039f"
            ],
            [
             0.2222222222222222,
             "#7201a8"
            ],
            [
             0.3333333333333333,
             "#9c179e"
            ],
            [
             0.4444444444444444,
             "#bd3786"
            ],
            [
             0.5555555555555556,
             "#d8576b"
            ],
            [
             0.6666666666666666,
             "#ed7953"
            ],
            [
             0.7777777777777778,
             "#fb9f3a"
            ],
            [
             0.8888888888888888,
             "#fdca26"
            ],
            [
             1,
             "#f0f921"
            ]
           ]
          },
          "colorway": [
           "#636efa",
           "#EF553B",
           "#00cc96",
           "#ab63fa",
           "#FFA15A",
           "#19d3f3",
           "#FF6692",
           "#B6E880",
           "#FF97FF",
           "#FECB52"
          ],
          "font": {
           "color": "#2a3f5f"
          },
          "geo": {
           "bgcolor": "white",
           "lakecolor": "white",
           "landcolor": "#E5ECF6",
           "showlakes": true,
           "showland": true,
           "subunitcolor": "white"
          },
          "hoverlabel": {
           "align": "left"
          },
          "hovermode": "closest",
          "mapbox": {
           "style": "light"
          },
          "paper_bgcolor": "white",
          "plot_bgcolor": "#E5ECF6",
          "polar": {
           "angularaxis": {
            "gridcolor": "white",
            "linecolor": "white",
            "ticks": ""
           },
           "bgcolor": "#E5ECF6",
           "radialaxis": {
            "gridcolor": "white",
            "linecolor": "white",
            "ticks": ""
           }
          },
          "scene": {
           "xaxis": {
            "backgroundcolor": "#E5ECF6",
            "gridcolor": "white",
            "gridwidth": 2,
            "linecolor": "white",
            "showbackground": true,
            "ticks": "",
            "zerolinecolor": "white"
           },
           "yaxis": {
            "backgroundcolor": "#E5ECF6",
            "gridcolor": "white",
            "gridwidth": 2,
            "linecolor": "white",
            "showbackground": true,
            "ticks": "",
            "zerolinecolor": "white"
           },
           "zaxis": {
            "backgroundcolor": "#E5ECF6",
            "gridcolor": "white",
            "gridwidth": 2,
            "linecolor": "white",
            "showbackground": true,
            "ticks": "",
            "zerolinecolor": "white"
           }
          },
          "shapedefaults": {
           "line": {
            "color": "#2a3f5f"
           }
          },
          "ternary": {
           "aaxis": {
            "gridcolor": "white",
            "linecolor": "white",
            "ticks": ""
           },
           "baxis": {
            "gridcolor": "white",
            "linecolor": "white",
            "ticks": ""
           },
           "bgcolor": "#E5ECF6",
           "caxis": {
            "gridcolor": "white",
            "linecolor": "white",
            "ticks": ""
           }
          },
          "title": {
           "x": 0.05
          },
          "xaxis": {
           "automargin": true,
           "gridcolor": "white",
           "linecolor": "white",
           "ticks": "",
           "title": {
            "standoff": 15
           },
           "zerolinecolor": "white",
           "zerolinewidth": 2
          },
          "yaxis": {
           "automargin": true,
           "gridcolor": "white",
           "linecolor": "white",
           "ticks": "",
           "title": {
            "standoff": 15
           },
           "zerolinecolor": "white",
           "zerolinewidth": 2
          }
         }
        },
        "width": 800
       }
      }
     },
     "metadata": {},
     "output_type": "display_data"
    }
   ],
   "source": [
    "#visualize station use of end stations by subscribers\n",
    "e_fig_s = map_stations(df_end_s, \"end_station_latitude\", \"end_station_longitude\", \"counts_end\", 'end_station_id' )\n",
    "e_fig_s.show() #subscriber\n",
    "e_fig_c = map_stations(df_end_c, \"end_station_latitude\", \"end_station_longitude\", \"counts_end\", 'end_station_id' )\n",
    "e_fig_c.show() #customers"
   ]
  },
  {
   "attachments": {},
   "cell_type": "markdown",
   "metadata": {},
   "source": [
    "There seems to be no big difference between the amount of trips ended and started in certain areas which might indicate that people that decide to rent a bike also choose it again later when leaving their destination. \n",
    "\n",
    "Also the observations of customer and subscriber useage of start stations does not change for end stations."
   ]
  },
  {
   "attachments": {},
   "cell_type": "markdown",
   "metadata": {},
   "source": [
    "## Total station rides volume\n",
    "Visualization which contains information on how many rides start and end at a respective station per year"
   ]
  },
  {
   "cell_type": "code",
   "execution_count": 148,
   "metadata": {},
   "outputs": [],
   "source": [
    "#prerpare dataframe with information of total usage of stations as start and end point\n",
    "df_start = df_start.rename(columns = {'start_station_id': 'station_id'})\n",
    "df_end = df_end.rename(columns = {'end_station_id': 'station_id'})\n",
    "df_total = df_start.merge(df_end, on = 'station_id')\n",
    "df_total['total_rides'] = df_total['counts_start'] + df_total['counts_end']"
   ]
  },
  {
   "cell_type": "code",
   "execution_count": 149,
   "metadata": {},
   "outputs": [
    {
     "data": {
      "application/vnd.plotly.v1+json": {
       "config": {
        "plotlyServerURL": "https://plot.ly"
       },
       "data": [
        {
         "customdata": [
          [
           1
          ],
          [
           3
          ],
          [
           4
          ],
          [
           5
          ],
          [
           6
          ],
          [
           7
          ],
          [
           8
          ],
          [
           9
          ],
          [
           10
          ],
          [
           11
          ],
          [
           12
          ],
          [
           13
          ],
          [
           14
          ],
          [
           15
          ],
          [
           16
          ],
          [
           17
          ],
          [
           19
          ],
          [
           20
          ],
          [
           21
          ],
          [
           22
          ],
          [
           23
          ],
          [
           24
          ],
          [
           25
          ],
          [
           26
          ],
          [
           27
          ],
          [
           29
          ],
          [
           30
          ],
          [
           31
          ],
          [
           32
          ],
          [
           33
          ],
          [
           35
          ],
          [
           36
          ],
          [
           37
          ],
          [
           38
          ],
          [
           39
          ],
          [
           40
          ],
          [
           41
          ],
          [
           42
          ],
          [
           43
          ],
          [
           44
          ],
          [
           45
          ],
          [
           46
          ],
          [
           47
          ],
          [
           48
          ],
          [
           49
          ],
          [
           50
          ],
          [
           51
          ],
          [
           52
          ],
          [
           53
          ],
          [
           54
          ],
          [
           55
          ],
          [
           56
          ],
          [
           57
          ],
          [
           58
          ],
          [
           59
          ],
          [
           60
          ],
          [
           61
          ],
          [
           63
          ],
          [
           64
          ],
          [
           65
          ],
          [
           66
          ],
          [
           67
          ],
          [
           68
          ],
          [
           69
          ],
          [
           70
          ],
          [
           71
          ],
          [
           72
          ],
          [
           73
          ],
          [
           74
          ],
          [
           75
          ],
          [
           76
          ],
          [
           77
          ],
          [
           78
          ],
          [
           79
          ],
          [
           80
          ],
          [
           81
          ],
          [
           82
          ],
          [
           84
          ],
          [
           85
          ],
          [
           86
          ],
          [
           87
          ],
          [
           88
          ],
          [
           89
          ],
          [
           90
          ],
          [
           91
          ],
          [
           92
          ],
          [
           93
          ],
          [
           94
          ],
          [
           95
          ],
          [
           96
          ],
          [
           97
          ],
          [
           98
          ],
          [
           99
          ],
          [
           100
          ],
          [
           102
          ],
          [
           103
          ],
          [
           104
          ],
          [
           105
          ],
          [
           106
          ],
          [
           107
          ],
          [
           108
          ],
          [
           109
          ],
          [
           110
          ],
          [
           111
          ],
          [
           112
          ],
          [
           113
          ],
          [
           114
          ],
          [
           115
          ],
          [
           116
          ],
          [
           117
          ],
          [
           118
          ],
          [
           119
          ],
          [
           120
          ],
          [
           121
          ],
          [
           122
          ],
          [
           123
          ],
          [
           124
          ],
          [
           125
          ],
          [
           126
          ],
          [
           128
          ],
          [
           129
          ],
          [
           130
          ],
          [
           131
          ],
          [
           132
          ],
          [
           133
          ],
          [
           134
          ],
          [
           135
          ],
          [
           136
          ],
          [
           137
          ],
          [
           138
          ],
          [
           139
          ],
          [
           140
          ],
          [
           141
          ],
          [
           142
          ],
          [
           143
          ],
          [
           145
          ],
          [
           149
          ],
          [
           150
          ],
          [
           151
          ],
          [
           152
          ],
          [
           159
          ],
          [
           160
          ],
          [
           161
          ],
          [
           162
          ],
          [
           163
          ],
          [
           167
          ],
          [
           169
          ],
          [
           170
          ],
          [
           171
          ],
          [
           174
          ],
          [
           175
          ],
          [
           176
          ],
          [
           177
          ],
          [
           178
          ],
          [
           179
          ],
          [
           180
          ]
         ],
         "hovertemplate": "total_rides=%{marker.color}<br>start_station_latitude=%{lat}<br>start_station_longitude=%{lon}<br>station_id=%{customdata[0]}<extra></extra>",
         "lat": [
          42.387151,
          42.340021,
          42.345392,
          42.341814,
          42.361174,
          42.35328743453294,
          42.353334,
          42.351246,
          42.350406,
          42.338629,
          42.335911,
          42.336437,
          42.337171,
          42.361667,
          42.34807412317439,
          42.365064,
          42.347241,
          42.35977,
          42.345959,
          42.352175,
          42.35892,
          42.351205,
          42.341332,
          42.341522,
          42.331184,
          42.363732,
          42.334073,
          42.348833,
          42.343912,
          42.348706,
          42.355402,
          42.349673,
          42.357402,
          42.366222,
          42.338623,
          42.363871,
          42.352261,
          42.352033,
          42.357143,
          42.360613,
          42.344706,
          42.343864,
          42.362811,
          42.356755,
          42.351146,
          42.350989,
          42.3348756,
          42.348717,
          42.350851,
          42.354979,
          42.347265,
          42.328654,
          42.340799,
          42.355596,
          42.351356,
          42.360835,
          42.348762,
          42.344023,
          42.3511,
          42.3475,
          42.348607,
          42.3581,
          42.36507,
          42.341598,
          42.371196,
          42.383405,
          42.362613,
          42.373231,
          42.373268,
          42.36346469304347,
          42.366426,
          42.386844,
          42.379637,
          42.37842,
          42.3619622,
          42.352409,
          42.339335,
          42.366981,
          42.378338,
          42.332799,
          42.366621,
          42.374035,
          42.379011,
          42.370677,
          42.366277,
          42.314507,
          42.320494,
          42.375603,
          42.372969,
          42.373379,
          42.36919031768079,
          42.371848,
          42.385582,
          42.396969,
          42.400877,
          42.346563,
          42.380287,
          42.356954,
          42.325333,
          42.3625,
          42.377945,
          42.365942,
          42.376369,
          42.40449,
          42.39082,
          42.330716,
          42.402763,
          42.387995,
          42.370803,
          42.366095,
          42.397828,
          42.335741,
          42.356052,
          42.335693,
          42.345733,
          42.313156,
          42.309054,
          42.320998,
          42.315692,
          42.320561,
          42.377022,
          42.317225,
          42.322701,
          42.394002,
          42.310579,
          42.350413,
          42.344827,
          42.344796,
          42.398365,
          42.326599,
          42.361589,
          42.388966,
          42.36356015842989,
          42.396105,
          42.369885,
          42.392766,
          42.363796,
          42.344137,
          42.358155,
          42.345901,
          42.32797270205962,
          42.337596,
          42.3391085,
          42.309796,
          42.344792,
          42.317642,
          42.378965,
          42.303469,
          42.37408991426522,
          42.34900494405213,
          42.34894857235593,
          42.38674802045056,
          42.36264779118595,
          42.35957320109044,
          42.35560121327927,
          42.37478628706384
         ],
         "legendgroup": "",
         "lon": [
          -71.075978,
          -71.100812,
          -71.069616,
          -71.090179,
          -71.065142,
          -71.04438900947571,
          -71.137313,
          -71.115639,
          -71.108279,
          -71.1065,
          -71.088496,
          -71.073089,
          -71.102797,
          -71.13802,
          -71.07657015323639,
          -71.119233,
          -71.105301,
          -71.051601,
          -71.082578,
          -71.055547,
          -71.057629,
          -71.043983,
          -71.076847,
          -71.068922,
          -71.095171,
          -71.124565,
          -71.105221,
          -71.041747,
          -71.102221,
          -71.097009,
          -71.058087,
          -71.077303,
          -71.147782,
          -71.059914,
          -71.074182,
          -71.050877,
          -71.123831,
          -71.070627,
          -71.050699,
          -71.057452,
          -71.097515,
          -71.085918,
          -71.056067,
          -71.055407,
          -71.066289,
          -71.073644,
          -71.0790969,
          -71.085954,
          -71.089886,
          -71.063348,
          -71.088088,
          -71.084198,
          -71.081572,
          -71.07278,
          -71.059367,
          -71.0708399,
          -71.082383,
          -71.057054,
          -71.0496,
          -71.0441,
          -71.13401,
          -71.093198,
          -71.1031,
          -71.123338,
          -71.121473,
          -71.107593,
          -71.084105,
          -71.120886,
          -71.118579,
          -71.10057324171066,
          -71.105495,
          -71.09812,
          -71.095319,
          -71.105668,
          -71.0920526,
          -71.062679,
          -71.13493,
          -71.076472,
          -71.048927,
          -71.116205,
          -71.114214,
          -71.101427,
          -71.119945,
          -71.076529,
          -71.09169,
          -71.041269,
          -71.051122,
          -71.064608,
          -71.094445,
          -71.111075,
          -71.11714124679565,
          -71.060292,
          -71.113341,
          -71.123024,
          -71.116772,
          -71.128374,
          -71.125107,
          -71.113687,
          -71.075354,
          -71.08822,
          -71.116865,
          -71.060515,
          -71.114025,
          -71.123413,
          -71.10942,
          -71.057044,
          -71.126908,
          -71.119084,
          -71.104412,
          -71.086388,
          -71.130516,
          -71.03877,
          -71.069849,
          -71.045859,
          -71.100694,
          -71.11414,
          -71.11543,
          -71.110833,
          -71.098634,
          -71.06198,
          -71.056605,
          -71.065421,
          -71.099533,
          -71.120406,
          -71.107341,
          -71.07655,
          -71.028664,
          -71.031614,
          -71.107818,
          -71.066498,
          -71.107437,
          -71.132788,
          -71.08216792345047,
          -71.139459,
          -71.069957,
          -71.129042,
          -71.129164,
          -71.052608,
          -71.052163,
          -71.063187,
          -71.11089706420898,
          -71.096391,
          -71.0514432,
          -71.092225,
          -71.044024,
          -71.056664,
          -71.068607,
          -71.085347,
          -71.06905996799469,
          -71.1604106426239,
          -71.15027189254761,
          -71.11901879310608,
          -71.10006093978882,
          -71.10129475593567,
          -71.10394477844238,
          -71.13320231437683
         ],
         "marker": {
          "color": [
           153,
           9914,
           18258,
           12323,
           25303,
           9900,
           7282,
           16981,
           14593,
           16651,
           12601,
           17877,
           18815,
           4043,
           32322,
           12751,
           13776,
           23579,
           24954,
           61578,
           27444,
           12533,
           15261,
           18035,
           8261,
           6216,
           10337,
           14283,
           15544,
           28649,
           20310,
           38133,
           2441,
           26447,
           18858,
           21701,
           15146,
           26356,
           24829,
           14065,
           19255,
           23201,
           27819,
           21816,
           15254,
           18010,
           5703,
           20203,
           26845,
           24178,
           22177,
           3228,
           16310,
           25062,
           17003,
           33413,
           24804,
           7040,
           20145,
           9206,
           9491,
           58993,
           42022,
           12241,
           16034,
           10514,
           28191,
           20793,
           45167,
           38097,
           27958,
           3779,
           12692,
           8910,
           38368,
           20476,
           5657,
           20491,
           9948,
           8114,
           18814,
           25216,
           12583,
           21670,
           27456,
           1213,
           2829,
           11490,
           19932,
           19127,
           12158,
           21725,
           7253,
           21595,
           3244,
           6116,
           12535,
           22194,
           1161,
           29619,
           15626,
           38725,
           18807,
           3569,
           4004,
           5114,
           5307,
           20845,
           16987,
           13906,
           10955,
           8670,
           17802,
           9147,
           5914,
           4246,
           3982,
           6522,
           2034,
           1453,
           4979,
           1323,
           6013,
           3298,
           6222,
           11487,
           6576,
           7820,
           2575,
           2486,
           11235,
           5538,
           13029,
           6757,
           11514,
           2938,
           9891,
           10392,
           14299,
           11477,
           332,
           1466,
           1423,
           97,
           1057,
           176,
           1213,
           79,
           509,
           221,
           450,
           596,
           1599,
           2264,
           1717,
           486
          ],
          "coloraxis": "coloraxis",
          "size": [
           153,
           9914,
           18258,
           12323,
           25303,
           9900,
           7282,
           16981,
           14593,
           16651,
           12601,
           17877,
           18815,
           4043,
           32322,
           12751,
           13776,
           23579,
           24954,
           61578,
           27444,
           12533,
           15261,
           18035,
           8261,
           6216,
           10337,
           14283,
           15544,
           28649,
           20310,
           38133,
           2441,
           26447,
           18858,
           21701,
           15146,
           26356,
           24829,
           14065,
           19255,
           23201,
           27819,
           21816,
           15254,
           18010,
           5703,
           20203,
           26845,
           24178,
           22177,
           3228,
           16310,
           25062,
           17003,
           33413,
           24804,
           7040,
           20145,
           9206,
           9491,
           58993,
           42022,
           12241,
           16034,
           10514,
           28191,
           20793,
           45167,
           38097,
           27958,
           3779,
           12692,
           8910,
           38368,
           20476,
           5657,
           20491,
           9948,
           8114,
           18814,
           25216,
           12583,
           21670,
           27456,
           1213,
           2829,
           11490,
           19932,
           19127,
           12158,
           21725,
           7253,
           21595,
           3244,
           6116,
           12535,
           22194,
           1161,
           29619,
           15626,
           38725,
           18807,
           3569,
           4004,
           5114,
           5307,
           20845,
           16987,
           13906,
           10955,
           8670,
           17802,
           9147,
           5914,
           4246,
           3982,
           6522,
           2034,
           1453,
           4979,
           1323,
           6013,
           3298,
           6222,
           11487,
           6576,
           7820,
           2575,
           2486,
           11235,
           5538,
           13029,
           6757,
           11514,
           2938,
           9891,
           10392,
           14299,
           11477,
           332,
           1466,
           1423,
           97,
           1057,
           176,
           1213,
           79,
           509,
           221,
           450,
           596,
           1599,
           2264,
           1717,
           486
          ],
          "sizemode": "area",
          "sizeref": 153.945
         },
         "mode": "markers",
         "name": "",
         "showlegend": false,
         "subplot": "mapbox",
         "type": "scattermapbox"
        }
       ],
       "layout": {
        "coloraxis": {
         "colorbar": {
          "title": {
           "text": "total_rides"
          }
         },
         "colorscale": [
          [
           0,
           "orange"
          ],
          [
           1,
           "red"
          ]
         ]
        },
        "height": 300,
        "legend": {
         "itemsizing": "constant",
         "tracegroupgap": 0
        },
        "mapbox": {
         "center": {
          "lat": 42.355539267132464,
          "lon": -71.08955563028009
         },
         "domain": {
          "x": [
           0,
           1
          ],
          "y": [
           0,
           1
          ]
         },
         "style": "open-street-map",
         "zoom": 12
        },
        "margin": {
         "b": 0,
         "l": 0,
         "r": 0,
         "t": 0
        },
        "template": {
         "data": {
          "bar": [
           {
            "error_x": {
             "color": "#2a3f5f"
            },
            "error_y": {
             "color": "#2a3f5f"
            },
            "marker": {
             "line": {
              "color": "#E5ECF6",
              "width": 0.5
             },
             "pattern": {
              "fillmode": "overlay",
              "size": 10,
              "solidity": 0.2
             }
            },
            "type": "bar"
           }
          ],
          "barpolar": [
           {
            "marker": {
             "line": {
              "color": "#E5ECF6",
              "width": 0.5
             },
             "pattern": {
              "fillmode": "overlay",
              "size": 10,
              "solidity": 0.2
             }
            },
            "type": "barpolar"
           }
          ],
          "carpet": [
           {
            "aaxis": {
             "endlinecolor": "#2a3f5f",
             "gridcolor": "white",
             "linecolor": "white",
             "minorgridcolor": "white",
             "startlinecolor": "#2a3f5f"
            },
            "baxis": {
             "endlinecolor": "#2a3f5f",
             "gridcolor": "white",
             "linecolor": "white",
             "minorgridcolor": "white",
             "startlinecolor": "#2a3f5f"
            },
            "type": "carpet"
           }
          ],
          "choropleth": [
           {
            "colorbar": {
             "outlinewidth": 0,
             "ticks": ""
            },
            "type": "choropleth"
           }
          ],
          "contour": [
           {
            "colorbar": {
             "outlinewidth": 0,
             "ticks": ""
            },
            "colorscale": [
             [
              0,
              "#0d0887"
             ],
             [
              0.1111111111111111,
              "#46039f"
             ],
             [
              0.2222222222222222,
              "#7201a8"
             ],
             [
              0.3333333333333333,
              "#9c179e"
             ],
             [
              0.4444444444444444,
              "#bd3786"
             ],
             [
              0.5555555555555556,
              "#d8576b"
             ],
             [
              0.6666666666666666,
              "#ed7953"
             ],
             [
              0.7777777777777778,
              "#fb9f3a"
             ],
             [
              0.8888888888888888,
              "#fdca26"
             ],
             [
              1,
              "#f0f921"
             ]
            ],
            "type": "contour"
           }
          ],
          "contourcarpet": [
           {
            "colorbar": {
             "outlinewidth": 0,
             "ticks": ""
            },
            "type": "contourcarpet"
           }
          ],
          "heatmap": [
           {
            "colorbar": {
             "outlinewidth": 0,
             "ticks": ""
            },
            "colorscale": [
             [
              0,
              "#0d0887"
             ],
             [
              0.1111111111111111,
              "#46039f"
             ],
             [
              0.2222222222222222,
              "#7201a8"
             ],
             [
              0.3333333333333333,
              "#9c179e"
             ],
             [
              0.4444444444444444,
              "#bd3786"
             ],
             [
              0.5555555555555556,
              "#d8576b"
             ],
             [
              0.6666666666666666,
              "#ed7953"
             ],
             [
              0.7777777777777778,
              "#fb9f3a"
             ],
             [
              0.8888888888888888,
              "#fdca26"
             ],
             [
              1,
              "#f0f921"
             ]
            ],
            "type": "heatmap"
           }
          ],
          "heatmapgl": [
           {
            "colorbar": {
             "outlinewidth": 0,
             "ticks": ""
            },
            "colorscale": [
             [
              0,
              "#0d0887"
             ],
             [
              0.1111111111111111,
              "#46039f"
             ],
             [
              0.2222222222222222,
              "#7201a8"
             ],
             [
              0.3333333333333333,
              "#9c179e"
             ],
             [
              0.4444444444444444,
              "#bd3786"
             ],
             [
              0.5555555555555556,
              "#d8576b"
             ],
             [
              0.6666666666666666,
              "#ed7953"
             ],
             [
              0.7777777777777778,
              "#fb9f3a"
             ],
             [
              0.8888888888888888,
              "#fdca26"
             ],
             [
              1,
              "#f0f921"
             ]
            ],
            "type": "heatmapgl"
           }
          ],
          "histogram": [
           {
            "marker": {
             "pattern": {
              "fillmode": "overlay",
              "size": 10,
              "solidity": 0.2
             }
            },
            "type": "histogram"
           }
          ],
          "histogram2d": [
           {
            "colorbar": {
             "outlinewidth": 0,
             "ticks": ""
            },
            "colorscale": [
             [
              0,
              "#0d0887"
             ],
             [
              0.1111111111111111,
              "#46039f"
             ],
             [
              0.2222222222222222,
              "#7201a8"
             ],
             [
              0.3333333333333333,
              "#9c179e"
             ],
             [
              0.4444444444444444,
              "#bd3786"
             ],
             [
              0.5555555555555556,
              "#d8576b"
             ],
             [
              0.6666666666666666,
              "#ed7953"
             ],
             [
              0.7777777777777778,
              "#fb9f3a"
             ],
             [
              0.8888888888888888,
              "#fdca26"
             ],
             [
              1,
              "#f0f921"
             ]
            ],
            "type": "histogram2d"
           }
          ],
          "histogram2dcontour": [
           {
            "colorbar": {
             "outlinewidth": 0,
             "ticks": ""
            },
            "colorscale": [
             [
              0,
              "#0d0887"
             ],
             [
              0.1111111111111111,
              "#46039f"
             ],
             [
              0.2222222222222222,
              "#7201a8"
             ],
             [
              0.3333333333333333,
              "#9c179e"
             ],
             [
              0.4444444444444444,
              "#bd3786"
             ],
             [
              0.5555555555555556,
              "#d8576b"
             ],
             [
              0.6666666666666666,
              "#ed7953"
             ],
             [
              0.7777777777777778,
              "#fb9f3a"
             ],
             [
              0.8888888888888888,
              "#fdca26"
             ],
             [
              1,
              "#f0f921"
             ]
            ],
            "type": "histogram2dcontour"
           }
          ],
          "mesh3d": [
           {
            "colorbar": {
             "outlinewidth": 0,
             "ticks": ""
            },
            "type": "mesh3d"
           }
          ],
          "parcoords": [
           {
            "line": {
             "colorbar": {
              "outlinewidth": 0,
              "ticks": ""
             }
            },
            "type": "parcoords"
           }
          ],
          "pie": [
           {
            "automargin": true,
            "type": "pie"
           }
          ],
          "scatter": [
           {
            "fillpattern": {
             "fillmode": "overlay",
             "size": 10,
             "solidity": 0.2
            },
            "type": "scatter"
           }
          ],
          "scatter3d": [
           {
            "line": {
             "colorbar": {
              "outlinewidth": 0,
              "ticks": ""
             }
            },
            "marker": {
             "colorbar": {
              "outlinewidth": 0,
              "ticks": ""
             }
            },
            "type": "scatter3d"
           }
          ],
          "scattercarpet": [
           {
            "marker": {
             "colorbar": {
              "outlinewidth": 0,
              "ticks": ""
             }
            },
            "type": "scattercarpet"
           }
          ],
          "scattergeo": [
           {
            "marker": {
             "colorbar": {
              "outlinewidth": 0,
              "ticks": ""
             }
            },
            "type": "scattergeo"
           }
          ],
          "scattergl": [
           {
            "marker": {
             "colorbar": {
              "outlinewidth": 0,
              "ticks": ""
             }
            },
            "type": "scattergl"
           }
          ],
          "scattermapbox": [
           {
            "marker": {
             "colorbar": {
              "outlinewidth": 0,
              "ticks": ""
             }
            },
            "type": "scattermapbox"
           }
          ],
          "scatterpolar": [
           {
            "marker": {
             "colorbar": {
              "outlinewidth": 0,
              "ticks": ""
             }
            },
            "type": "scatterpolar"
           }
          ],
          "scatterpolargl": [
           {
            "marker": {
             "colorbar": {
              "outlinewidth": 0,
              "ticks": ""
             }
            },
            "type": "scatterpolargl"
           }
          ],
          "scatterternary": [
           {
            "marker": {
             "colorbar": {
              "outlinewidth": 0,
              "ticks": ""
             }
            },
            "type": "scatterternary"
           }
          ],
          "surface": [
           {
            "colorbar": {
             "outlinewidth": 0,
             "ticks": ""
            },
            "colorscale": [
             [
              0,
              "#0d0887"
             ],
             [
              0.1111111111111111,
              "#46039f"
             ],
             [
              0.2222222222222222,
              "#7201a8"
             ],
             [
              0.3333333333333333,
              "#9c179e"
             ],
             [
              0.4444444444444444,
              "#bd3786"
             ],
             [
              0.5555555555555556,
              "#d8576b"
             ],
             [
              0.6666666666666666,
              "#ed7953"
             ],
             [
              0.7777777777777778,
              "#fb9f3a"
             ],
             [
              0.8888888888888888,
              "#fdca26"
             ],
             [
              1,
              "#f0f921"
             ]
            ],
            "type": "surface"
           }
          ],
          "table": [
           {
            "cells": {
             "fill": {
              "color": "#EBF0F8"
             },
             "line": {
              "color": "white"
             }
            },
            "header": {
             "fill": {
              "color": "#C8D4E3"
             },
             "line": {
              "color": "white"
             }
            },
            "type": "table"
           }
          ]
         },
         "layout": {
          "annotationdefaults": {
           "arrowcolor": "#2a3f5f",
           "arrowhead": 0,
           "arrowwidth": 1
          },
          "autotypenumbers": "strict",
          "coloraxis": {
           "colorbar": {
            "outlinewidth": 0,
            "ticks": ""
           }
          },
          "colorscale": {
           "diverging": [
            [
             0,
             "#8e0152"
            ],
            [
             0.1,
             "#c51b7d"
            ],
            [
             0.2,
             "#de77ae"
            ],
            [
             0.3,
             "#f1b6da"
            ],
            [
             0.4,
             "#fde0ef"
            ],
            [
             0.5,
             "#f7f7f7"
            ],
            [
             0.6,
             "#e6f5d0"
            ],
            [
             0.7,
             "#b8e186"
            ],
            [
             0.8,
             "#7fbc41"
            ],
            [
             0.9,
             "#4d9221"
            ],
            [
             1,
             "#276419"
            ]
           ],
           "sequential": [
            [
             0,
             "#0d0887"
            ],
            [
             0.1111111111111111,
             "#46039f"
            ],
            [
             0.2222222222222222,
             "#7201a8"
            ],
            [
             0.3333333333333333,
             "#9c179e"
            ],
            [
             0.4444444444444444,
             "#bd3786"
            ],
            [
             0.5555555555555556,
             "#d8576b"
            ],
            [
             0.6666666666666666,
             "#ed7953"
            ],
            [
             0.7777777777777778,
             "#fb9f3a"
            ],
            [
             0.8888888888888888,
             "#fdca26"
            ],
            [
             1,
             "#f0f921"
            ]
           ],
           "sequentialminus": [
            [
             0,
             "#0d0887"
            ],
            [
             0.1111111111111111,
             "#46039f"
            ],
            [
             0.2222222222222222,
             "#7201a8"
            ],
            [
             0.3333333333333333,
             "#9c179e"
            ],
            [
             0.4444444444444444,
             "#bd3786"
            ],
            [
             0.5555555555555556,
             "#d8576b"
            ],
            [
             0.6666666666666666,
             "#ed7953"
            ],
            [
             0.7777777777777778,
             "#fb9f3a"
            ],
            [
             0.8888888888888888,
             "#fdca26"
            ],
            [
             1,
             "#f0f921"
            ]
           ]
          },
          "colorway": [
           "#636efa",
           "#EF553B",
           "#00cc96",
           "#ab63fa",
           "#FFA15A",
           "#19d3f3",
           "#FF6692",
           "#B6E880",
           "#FF97FF",
           "#FECB52"
          ],
          "font": {
           "color": "#2a3f5f"
          },
          "geo": {
           "bgcolor": "white",
           "lakecolor": "white",
           "landcolor": "#E5ECF6",
           "showlakes": true,
           "showland": true,
           "subunitcolor": "white"
          },
          "hoverlabel": {
           "align": "left"
          },
          "hovermode": "closest",
          "mapbox": {
           "style": "light"
          },
          "paper_bgcolor": "white",
          "plot_bgcolor": "#E5ECF6",
          "polar": {
           "angularaxis": {
            "gridcolor": "white",
            "linecolor": "white",
            "ticks": ""
           },
           "bgcolor": "#E5ECF6",
           "radialaxis": {
            "gridcolor": "white",
            "linecolor": "white",
            "ticks": ""
           }
          },
          "scene": {
           "xaxis": {
            "backgroundcolor": "#E5ECF6",
            "gridcolor": "white",
            "gridwidth": 2,
            "linecolor": "white",
            "showbackground": true,
            "ticks": "",
            "zerolinecolor": "white"
           },
           "yaxis": {
            "backgroundcolor": "#E5ECF6",
            "gridcolor": "white",
            "gridwidth": 2,
            "linecolor": "white",
            "showbackground": true,
            "ticks": "",
            "zerolinecolor": "white"
           },
           "zaxis": {
            "backgroundcolor": "#E5ECF6",
            "gridcolor": "white",
            "gridwidth": 2,
            "linecolor": "white",
            "showbackground": true,
            "ticks": "",
            "zerolinecolor": "white"
           }
          },
          "shapedefaults": {
           "line": {
            "color": "#2a3f5f"
           }
          },
          "ternary": {
           "aaxis": {
            "gridcolor": "white",
            "linecolor": "white",
            "ticks": ""
           },
           "baxis": {
            "gridcolor": "white",
            "linecolor": "white",
            "ticks": ""
           },
           "bgcolor": "#E5ECF6",
           "caxis": {
            "gridcolor": "white",
            "linecolor": "white",
            "ticks": ""
           }
          },
          "title": {
           "x": 0.05
          },
          "xaxis": {
           "automargin": true,
           "gridcolor": "white",
           "linecolor": "white",
           "ticks": "",
           "title": {
            "standoff": 15
           },
           "zerolinecolor": "white",
           "zerolinewidth": 2
          },
          "yaxis": {
           "automargin": true,
           "gridcolor": "white",
           "linecolor": "white",
           "ticks": "",
           "title": {
            "standoff": 15
           },
           "zerolinecolor": "white",
           "zerolinewidth": 2
          }
         }
        },
        "width": 800
       }
      }
     },
     "metadata": {},
     "output_type": "display_data"
    }
   ],
   "source": [
    "#visualize station use of stations \n",
    "fig_t = map_stations(df_total, \"start_station_latitude\", \"start_station_longitude\", \"total_rides\", 'station_id' )\n",
    "fig_t.show() "
   ]
  },
  {
   "attachments": {},
   "cell_type": "markdown",
   "metadata": {},
   "source": [
    "## Volume share per station \n",
    "What is the percentage of total of total rides a station is used? "
   ]
  },
  {
   "cell_type": "code",
   "execution_count": 150,
   "metadata": {},
   "outputs": [
    {
     "data": {
      "text/html": [
       "<div>\n",
       "<style scoped>\n",
       "    .dataframe tbody tr th:only-of-type {\n",
       "        vertical-align: middle;\n",
       "    }\n",
       "\n",
       "    .dataframe tbody tr th {\n",
       "        vertical-align: top;\n",
       "    }\n",
       "\n",
       "    .dataframe thead th {\n",
       "        text-align: right;\n",
       "    }\n",
       "</style>\n",
       "<table border=\"1\" class=\"dataframe\">\n",
       "  <thead>\n",
       "    <tr style=\"text-align: right;\">\n",
       "      <th></th>\n",
       "      <th>station_id</th>\n",
       "      <th>end_station_latitude</th>\n",
       "      <th>end_station_longitude</th>\n",
       "      <th>total_rides</th>\n",
       "      <th>share</th>\n",
       "    </tr>\n",
       "  </thead>\n",
       "  <tbody>\n",
       "    <tr>\n",
       "      <th>0</th>\n",
       "      <td>22</td>\n",
       "      <td>42.352175</td>\n",
       "      <td>-71.055547</td>\n",
       "      <td>61578</td>\n",
       "      <td>2.783576</td>\n",
       "    </tr>\n",
       "    <tr>\n",
       "      <th>1</th>\n",
       "      <td>67</td>\n",
       "      <td>42.358100</td>\n",
       "      <td>-71.093198</td>\n",
       "      <td>58993</td>\n",
       "      <td>2.666724</td>\n",
       "    </tr>\n",
       "    <tr>\n",
       "      <th>2</th>\n",
       "      <td>74</td>\n",
       "      <td>42.373268</td>\n",
       "      <td>-71.118579</td>\n",
       "      <td>45167</td>\n",
       "      <td>2.041732</td>\n",
       "    </tr>\n",
       "    <tr>\n",
       "      <th>3</th>\n",
       "      <td>68</td>\n",
       "      <td>42.365070</td>\n",
       "      <td>-71.103100</td>\n",
       "      <td>42022</td>\n",
       "      <td>1.899566</td>\n",
       "    </tr>\n",
       "    <tr>\n",
       "      <th>4</th>\n",
       "      <td>109</td>\n",
       "      <td>42.365942</td>\n",
       "      <td>-71.060515</td>\n",
       "      <td>38725</td>\n",
       "      <td>1.750528</td>\n",
       "    </tr>\n",
       "    <tr>\n",
       "      <th>5</th>\n",
       "      <td>80</td>\n",
       "      <td>42.361962</td>\n",
       "      <td>-71.092053</td>\n",
       "      <td>38368</td>\n",
       "      <td>1.734390</td>\n",
       "    </tr>\n",
       "    <tr>\n",
       "      <th>6</th>\n",
       "      <td>36</td>\n",
       "      <td>42.349673</td>\n",
       "      <td>-71.077303</td>\n",
       "      <td>38133</td>\n",
       "      <td>1.723767</td>\n",
       "    </tr>\n",
       "    <tr>\n",
       "      <th>7</th>\n",
       "      <td>75</td>\n",
       "      <td>42.363465</td>\n",
       "      <td>-71.100573</td>\n",
       "      <td>38097</td>\n",
       "      <td>1.722140</td>\n",
       "    </tr>\n",
       "    <tr>\n",
       "      <th>8</th>\n",
       "      <td>60</td>\n",
       "      <td>42.360835</td>\n",
       "      <td>-71.070840</td>\n",
       "      <td>33413</td>\n",
       "      <td>1.510404</td>\n",
       "    </tr>\n",
       "    <tr>\n",
       "      <th>9</th>\n",
       "      <td>16</td>\n",
       "      <td>42.348074</td>\n",
       "      <td>-71.076570</td>\n",
       "      <td>32322</td>\n",
       "      <td>1.461086</td>\n",
       "    </tr>\n",
       "  </tbody>\n",
       "</table>\n",
       "</div>"
      ],
      "text/plain": [
       "   station_id  end_station_latitude  end_station_longitude  total_rides  \\\n",
       "0          22             42.352175             -71.055547        61578   \n",
       "1          67             42.358100             -71.093198        58993   \n",
       "2          74             42.373268             -71.118579        45167   \n",
       "3          68             42.365070             -71.103100        42022   \n",
       "4         109             42.365942             -71.060515        38725   \n",
       "5          80             42.361962             -71.092053        38368   \n",
       "6          36             42.349673             -71.077303        38133   \n",
       "7          75             42.363465             -71.100573        38097   \n",
       "8          60             42.360835             -71.070840        33413   \n",
       "9          16             42.348074             -71.076570        32322   \n",
       "\n",
       "      share  \n",
       "0  2.783576  \n",
       "1  2.666724  \n",
       "2  2.041732  \n",
       "3  1.899566  \n",
       "4  1.750528  \n",
       "5  1.734390  \n",
       "6  1.723767  \n",
       "7  1.722140  \n",
       "8  1.510404  \n",
       "9  1.461086  "
      ]
     },
     "execution_count": 150,
     "metadata": {},
     "output_type": "execute_result"
    }
   ],
   "source": [
    "#share of different stations, most frequently used stations\n",
    "\n",
    "df_station_share = df_total.copy()\n",
    "yearly_total_rides = sum(df_station_share['total_rides'])\n",
    "df_station_share['share'] = (df_station_share['total_rides'] / yearly_total_rides)*100\n",
    "df_station_share = df_station_share.drop(['start_station_latitude', 'start_station_longitude','counts_start', 'counts_end'], axis = 1)\n",
    "df_station_share = df_station_share.rename(columns = {'end_station_id': 'station_id'})\n",
    "df_station_share = df_station_share.sort_values('share', ascending=False).reset_index(drop = True)\n",
    "df_station_share.head(10)\n"
   ]
  },
  {
   "attachments": {},
   "cell_type": "markdown",
   "metadata": {},
   "source": [
    "Two stations seem to be exceptionally valuable as they have an overall share of over 2.5% of total trips (ID = 22 and 67). They are located at the main station in Boston and at the MIT which is the nearest station to the harvard bridge crossing the Charles river.\n",
    "\n",
    "There are a number of station that have a share ranging from 1.5% to 2% of total trips. These stations are located between the universities and in down town area."
   ]
  },
  {
   "attachments": {},
   "cell_type": "markdown",
   "metadata": {},
   "source": [
    "## Station Distribution in Boston"
   ]
  },
  {
   "cell_type": "code",
   "execution_count": 152,
   "metadata": {},
   "outputs": [
    {
     "data": {
      "text/html": [
       "<iframe srcdoc=\"&lt;!DOCTYPE html&gt;\n",
       "&lt;html&gt;\n",
       "&lt;head&gt;\n",
       "    \n",
       "    &lt;meta http-equiv=&quot;content-type&quot; content=&quot;text/html; charset=UTF-8&quot; /&gt;\n",
       "    \n",
       "        &lt;script&gt;\n",
       "            L_NO_TOUCH = false;\n",
       "            L_DISABLE_3D = false;\n",
       "        &lt;/script&gt;\n",
       "    \n",
       "    &lt;style&gt;html, body {width: 100%;height: 100%;margin: 0;padding: 0;}&lt;/style&gt;\n",
       "    &lt;style&gt;#map {position:absolute;top:0;bottom:0;right:0;left:0;}&lt;/style&gt;\n",
       "    &lt;script src=&quot;https://cdn.jsdelivr.net/npm/leaflet@1.9.3/dist/leaflet.js&quot;&gt;&lt;/script&gt;\n",
       "    &lt;script src=&quot;https://code.jquery.com/jquery-1.12.4.min.js&quot;&gt;&lt;/script&gt;\n",
       "    &lt;script src=&quot;https://cdn.jsdelivr.net/npm/bootstrap@5.2.2/dist/js/bootstrap.bundle.min.js&quot;&gt;&lt;/script&gt;\n",
       "    &lt;script src=&quot;https://cdnjs.cloudflare.com/ajax/libs/Leaflet.awesome-markers/2.0.2/leaflet.awesome-markers.js&quot;&gt;&lt;/script&gt;\n",
       "    &lt;link rel=&quot;stylesheet&quot; href=&quot;https://cdn.jsdelivr.net/npm/leaflet@1.9.3/dist/leaflet.css&quot;/&gt;\n",
       "    &lt;link rel=&quot;stylesheet&quot; href=&quot;https://cdn.jsdelivr.net/npm/bootstrap@5.2.2/dist/css/bootstrap.min.css&quot;/&gt;\n",
       "    &lt;link rel=&quot;stylesheet&quot; href=&quot;https://netdna.bootstrapcdn.com/bootstrap/3.0.0/css/bootstrap.min.css&quot;/&gt;\n",
       "    &lt;link rel=&quot;stylesheet&quot; href=&quot;https://cdn.jsdelivr.net/npm/@fortawesome/fontawesome-free@6.2.0/css/all.min.css&quot;/&gt;\n",
       "    &lt;link rel=&quot;stylesheet&quot; href=&quot;https://cdnjs.cloudflare.com/ajax/libs/Leaflet.awesome-markers/2.0.2/leaflet.awesome-markers.css&quot;/&gt;\n",
       "    &lt;link rel=&quot;stylesheet&quot; href=&quot;https://cdn.jsdelivr.net/gh/python-visualization/folium/folium/templates/leaflet.awesome.rotate.min.css&quot;/&gt;\n",
       "    \n",
       "            &lt;meta name=&quot;viewport&quot; content=&quot;width=device-width,\n",
       "                initial-scale=1.0, maximum-scale=1.0, user-scalable=no&quot; /&gt;\n",
       "            &lt;style&gt;\n",
       "                #map_2645738f7e2d641cbbc1498553d7860a {\n",
       "                    position: relative;\n",
       "                    width: 100.0%;\n",
       "                    height: 100.0%;\n",
       "                    left: 0.0%;\n",
       "                    top: 0.0%;\n",
       "                }\n",
       "                .leaflet-container { font-size: 1rem; }\n",
       "            &lt;/style&gt;\n",
       "        \n",
       "    &lt;script src=&quot;https://cdn.jsdelivr.net/gh/python-visualization/folium@main/folium/templates/leaflet_heat.min.js&quot;&gt;&lt;/script&gt;\n",
       "&lt;/head&gt;\n",
       "&lt;body&gt;\n",
       "    \n",
       "    \n",
       "            &lt;div class=&quot;folium-map&quot; id=&quot;map_2645738f7e2d641cbbc1498553d7860a&quot; &gt;&lt;/div&gt;\n",
       "        \n",
       "&lt;/body&gt;\n",
       "&lt;script&gt;\n",
       "    \n",
       "    \n",
       "            var map_2645738f7e2d641cbbc1498553d7860a = L.map(\n",
       "                &quot;map_2645738f7e2d641cbbc1498553d7860a&quot;,\n",
       "                {\n",
       "                    center: [42.355539267132464, -71.08955563028009],\n",
       "                    crs: L.CRS.EPSG3857,\n",
       "                    zoom: 13,\n",
       "                    zoomControl: true,\n",
       "                    preferCanvas: false,\n",
       "                }\n",
       "            );\n",
       "            L.control.scale().addTo(map_2645738f7e2d641cbbc1498553d7860a);\n",
       "\n",
       "            \n",
       "\n",
       "        \n",
       "    \n",
       "            var tile_layer_0a3340b1c711ba662e5acbf5e281b041 = L.tileLayer(\n",
       "                &quot;https://{s}.tile.openstreetmap.org/{z}/{x}/{y}.png&quot;,\n",
       "                {&quot;attribution&quot;: &quot;Data by \\u0026copy; \\u003ca target=\\&quot;_blank\\&quot; href=\\&quot;http://openstreetmap.org\\&quot;\\u003eOpenStreetMap\\u003c/a\\u003e, under \\u003ca target=\\&quot;_blank\\&quot; href=\\&quot;http://www.openstreetmap.org/copyright\\&quot;\\u003eODbL\\u003c/a\\u003e.&quot;, &quot;detectRetina&quot;: false, &quot;maxNativeZoom&quot;: 20, &quot;maxZoom&quot;: 20, &quot;minZoom&quot;: 0, &quot;noWrap&quot;: false, &quot;opacity&quot;: 1, &quot;subdomains&quot;: &quot;abc&quot;, &quot;tms&quot;: false}\n",
       "            ).addTo(map_2645738f7e2d641cbbc1498553d7860a);\n",
       "        \n",
       "    \n",
       "            var heat_map_4eef3bacddc1aee47b8ad15ebae16eb7 = L.heatLayer(\n",
       "                [[42.387151, -71.075978], [42.340021, -71.100812], [42.345392, -71.069616], [42.341814, -71.090179], [42.361174, -71.065142], [42.35328743453294, -71.04438900947571], [42.353334, -71.137313], [42.351246, -71.115639], [42.350406, -71.108279], [42.338629, -71.1065], [42.335911, -71.088496], [42.336437, -71.073089], [42.337171, -71.102797], [42.361667, -71.13802], [42.34807412317439, -71.07657015323639], [42.365064, -71.119233], [42.347241, -71.105301], [42.35977, -71.051601], [42.345959, -71.082578], [42.352175, -71.055547], [42.35892, -71.057629], [42.351205, -71.043983], [42.341332, -71.076847], [42.341522, -71.068922], [42.331184, -71.095171], [42.363732, -71.124565], [42.334073, -71.105221], [42.348833, -71.041747], [42.343912, -71.102221], [42.348706, -71.097009], [42.355402, -71.058087], [42.349673, -71.077303], [42.357402, -71.147782], [42.366222, -71.059914], [42.338623, -71.074182], [42.363871, -71.050877], [42.352261, -71.123831], [42.352033, -71.070627], [42.357143, -71.050699], [42.360613, -71.057452], [42.344706, -71.097515], [42.343864, -71.085918], [42.362811, -71.056067], [42.356755, -71.055407], [42.351146, -71.066289], [42.350989, -71.073644], [42.3348756, -71.0790969], [42.348717, -71.085954], [42.350851, -71.089886], [42.354979, -71.063348], [42.347265, -71.088088], [42.328654, -71.084198], [42.340799, -71.081572], [42.355596, -71.07278], [42.351356, -71.059367], [42.360835, -71.0708399], [42.348762, -71.082383], [42.344023, -71.057054], [42.3511, -71.0496], [42.3475, -71.0441], [42.348607, -71.13401], [42.3581, -71.093198], [42.36507, -71.1031], [42.341598, -71.123338], [42.371196, -71.121473], [42.383405, -71.107593], [42.362613, -71.084105], [42.373231, -71.120886], [42.373268, -71.118579], [42.36346469304347, -71.10057324171066], [42.366426, -71.105495], [42.386844, -71.09812], [42.379637, -71.095319], [42.37842, -71.105668], [42.3619622, -71.0920526], [42.352409, -71.062679], [42.339335, -71.13493], [42.366981, -71.076472], [42.378338, -71.048927], [42.332799, -71.116205], [42.366621, -71.114214], [42.374035, -71.101427], [42.379011, -71.119945], [42.370677, -71.076529], [42.366277, -71.09169], [42.314507, -71.041269], [42.320494, -71.051122], [42.375603, -71.064608], [42.372969, -71.094445], [42.373379, -71.111075], [42.36919031768079, -71.11714124679565], [42.371848, -71.060292], [42.385582, -71.113341], [42.396969, -71.123024], [42.400877, -71.116772], [42.346563, -71.128374], [42.380287, -71.125107], [42.356954, -71.113687], [42.325333, -71.075354], [42.3625, -71.08822], [42.377945, -71.116865], [42.365942, -71.060515], [42.376369, -71.114025], [42.40449, -71.123413], [42.39082, -71.10942], [42.330716, -71.057044], [42.402763, -71.126908], [42.387995, -71.119084], [42.370803, -71.104412], [42.366095, -71.086388], [42.397828, -71.130516], [42.335741, -71.03877], [42.356052, -71.069849], [42.335693, -71.045859], [42.345733, -71.100694], [42.313156, -71.11414], [42.309054, -71.11543], [42.320998, -71.110833], [42.315692, -71.098634], [42.320561, -71.06198], [42.377022, -71.056605], [42.317225, -71.065421], [42.322701, -71.099533], [42.394002, -71.120406], [42.310579, -71.107341], [42.350413, -71.07655], [42.344827, -71.028664], [42.344796, -71.031614], [42.398365, -71.107818], [42.326599, -71.066498], [42.361589, -71.107437], [42.388966, -71.132788], [42.36356015842989, -71.08216792345047], [42.396105, -71.139459], [42.369885, -71.069957], [42.392766, -71.129042], [42.363796, -71.129164], [42.344137, -71.052608], [42.358155, -71.052163], [42.345901, -71.063187], [42.32797270205962, -71.11089706420898], [42.337596, -71.096391], [42.3391085, -71.0514432], [42.309796, -71.092225], [42.344792, -71.044024], [42.317642, -71.056664], [42.378965, -71.068607], [42.303469, -71.085347], [42.37408991426522, -71.06905996799469], [42.34900494405213, -71.1604106426239], [42.34894857235593, -71.15027189254761], [42.38674802045056, -71.11901879310608], [42.36264779118595, -71.10006093978882], [42.35957320109044, -71.10129475593567], [42.35560121327927, -71.10394477844238], [42.37478628706384, -71.13320231437683]],\n",
       "                {&quot;blur&quot;: 15, &quot;maxZoom&quot;: 18, &quot;minOpacity&quot;: 0.5, &quot;radius&quot;: 25}\n",
       "            ).addTo(map_2645738f7e2d641cbbc1498553d7860a);\n",
       "        \n",
       "&lt;/script&gt;\n",
       "&lt;/html&gt;\" width=\"800\" height=\"400\"style=\"border:none !important;\" \"allowfullscreen\" \"webkitallowfullscreen\" \"mozallowfullscreen\"></iframe>"
      ],
      "text/plain": [
       "<folium.folium.Map at 0x7f98b7ab1850>"
      ]
     },
     "execution_count": 152,
     "metadata": {},
     "output_type": "execute_result"
    }
   ],
   "source": [
    "def heat_map(df, station_id):\n",
    "    # define new map\n",
    "    fig = folium.Figure(width = 800, height = 400)\n",
    "    heat_map = folium.Map(\n",
    "        location=[df['start_station_latitude'].mean(), df['start_station_longitude'].mean()], \n",
    "        tiles='OpenStreetMap', zoom_start=13, control_scale=True, max_zoom=20).add_to(fig)\n",
    "    \n",
    "    # add heat map\n",
    "    heat_data = [[row['start_station_latitude'],row['start_station_longitude']] for index, row in df.iterrows()]\n",
    "    HeatMap(heat_data).add_to(heat_map)\n",
    "    #heat map for destination points looks pretty much identical\n",
    "    return heat_map\n",
    "\n",
    "fig_heat = heat_map(df_start, np.array(df_start['station_id']))\n",
    "fig_heat"
   ]
  },
  {
   "attachments": {},
   "cell_type": "markdown",
   "metadata": {},
   "source": [
    "Coinciding with the volume of certain stations per year, there are also hotspots of station numbers in areas of frequent usage. Which means around both universitities, down-town and the area south of the harvard bridge."
   ]
  },
  {
   "attachments": {},
   "cell_type": "markdown",
   "metadata": {},
   "source": [
    "# Most popular routes  \n",
    "This section tries to explain which routes are most frequently used."
   ]
  },
  {
   "cell_type": "code",
   "execution_count": null,
   "metadata": {},
   "outputs": [
    {
     "data": {
      "text/html": [
       "<div>\n",
       "<style scoped>\n",
       "    .dataframe tbody tr th:only-of-type {\n",
       "        vertical-align: middle;\n",
       "    }\n",
       "\n",
       "    .dataframe tbody tr th {\n",
       "        vertical-align: top;\n",
       "    }\n",
       "\n",
       "    .dataframe thead th {\n",
       "        text-align: right;\n",
       "    }\n",
       "</style>\n",
       "<table border=\"1\" class=\"dataframe\">\n",
       "  <thead>\n",
       "    <tr style=\"text-align: right;\">\n",
       "      <th></th>\n",
       "      <th>start_station_id</th>\n",
       "      <th>end_station_id</th>\n",
       "      <th>start_station_latitude</th>\n",
       "      <th>start_station_longitude</th>\n",
       "      <th>end_station_latitude</th>\n",
       "      <th>end_station_longitude</th>\n",
       "      <th>count_trips</th>\n",
       "    </tr>\n",
       "  </thead>\n",
       "  <tbody>\n",
       "    <tr>\n",
       "      <th>0</th>\n",
       "      <td>118</td>\n",
       "      <td>100</td>\n",
       "      <td>42.397828</td>\n",
       "      <td>-71.130516</td>\n",
       "      <td>42.396969</td>\n",
       "      <td>-71.123024</td>\n",
       "      <td>3011</td>\n",
       "    </tr>\n",
       "    <tr>\n",
       "      <th>1</th>\n",
       "      <td>100</td>\n",
       "      <td>118</td>\n",
       "      <td>42.396969</td>\n",
       "      <td>-71.123024</td>\n",
       "      <td>42.397828</td>\n",
       "      <td>-71.130516</td>\n",
       "      <td>2740</td>\n",
       "    </tr>\n",
       "    <tr>\n",
       "      <th>2</th>\n",
       "      <td>114</td>\n",
       "      <td>100</td>\n",
       "      <td>42.402763</td>\n",
       "      <td>-71.126908</td>\n",
       "      <td>42.396969</td>\n",
       "      <td>-71.123024</td>\n",
       "      <td>2042</td>\n",
       "    </tr>\n",
       "    <tr>\n",
       "      <th>3</th>\n",
       "      <td>67</td>\n",
       "      <td>53</td>\n",
       "      <td>42.358100</td>\n",
       "      <td>-71.093198</td>\n",
       "      <td>42.350851</td>\n",
       "      <td>-71.089886</td>\n",
       "      <td>2022</td>\n",
       "    </tr>\n",
       "    <tr>\n",
       "      <th>4</th>\n",
       "      <td>40</td>\n",
       "      <td>22</td>\n",
       "      <td>42.363871</td>\n",
       "      <td>-71.050877</td>\n",
       "      <td>42.352175</td>\n",
       "      <td>-71.055547</td>\n",
       "      <td>1979</td>\n",
       "    </tr>\n",
       "    <tr>\n",
       "      <th>5</th>\n",
       "      <td>67</td>\n",
       "      <td>68</td>\n",
       "      <td>42.358100</td>\n",
       "      <td>-71.093198</td>\n",
       "      <td>42.365070</td>\n",
       "      <td>-71.103100</td>\n",
       "      <td>1836</td>\n",
       "    </tr>\n",
       "    <tr>\n",
       "      <th>6</th>\n",
       "      <td>53</td>\n",
       "      <td>67</td>\n",
       "      <td>42.350851</td>\n",
       "      <td>-71.089886</td>\n",
       "      <td>42.358100</td>\n",
       "      <td>-71.093198</td>\n",
       "      <td>1783</td>\n",
       "    </tr>\n",
       "    <tr>\n",
       "      <th>7</th>\n",
       "      <td>22</td>\n",
       "      <td>40</td>\n",
       "      <td>42.352175</td>\n",
       "      <td>-71.055547</td>\n",
       "      <td>42.363871</td>\n",
       "      <td>-71.050877</td>\n",
       "      <td>1740</td>\n",
       "    </tr>\n",
       "    <tr>\n",
       "      <th>8</th>\n",
       "      <td>68</td>\n",
       "      <td>67</td>\n",
       "      <td>42.365070</td>\n",
       "      <td>-71.103100</td>\n",
       "      <td>42.358100</td>\n",
       "      <td>-71.093198</td>\n",
       "      <td>1607</td>\n",
       "    </tr>\n",
       "    <tr>\n",
       "      <th>9</th>\n",
       "      <td>20</td>\n",
       "      <td>22</td>\n",
       "      <td>42.359770</td>\n",
       "      <td>-71.051601</td>\n",
       "      <td>42.352175</td>\n",
       "      <td>-71.055547</td>\n",
       "      <td>1521</td>\n",
       "    </tr>\n",
       "  </tbody>\n",
       "</table>\n",
       "</div>"
      ],
      "text/plain": [
       "   start_station_id end_station_id  start_station_latitude  \\\n",
       "0               118            100               42.397828   \n",
       "1               100            118               42.396969   \n",
       "2               114            100               42.402763   \n",
       "3                67             53               42.358100   \n",
       "4                40             22               42.363871   \n",
       "5                67             68               42.358100   \n",
       "6                53             67               42.350851   \n",
       "7                22             40               42.352175   \n",
       "8                68             67               42.365070   \n",
       "9                20             22               42.359770   \n",
       "\n",
       "   start_station_longitude  end_station_latitude  end_station_longitude  \\\n",
       "0               -71.130516             42.396969             -71.123024   \n",
       "1               -71.123024             42.397828             -71.130516   \n",
       "2               -71.126908             42.396969             -71.123024   \n",
       "3               -71.093198             42.350851             -71.089886   \n",
       "4               -71.050877             42.352175             -71.055547   \n",
       "5               -71.093198             42.365070             -71.103100   \n",
       "6               -71.089886             42.358100             -71.093198   \n",
       "7               -71.055547             42.363871             -71.050877   \n",
       "8               -71.103100             42.358100             -71.093198   \n",
       "9               -71.051601             42.352175             -71.055547   \n",
       "\n",
       "   count_trips  \n",
       "0         3011  \n",
       "1         2740  \n",
       "2         2042  \n",
       "3         2022  \n",
       "4         1979  \n",
       "5         1836  \n",
       "6         1783  \n",
       "7         1740  \n",
       "8         1607  \n",
       "9         1521  "
      ]
     },
     "execution_count": 20,
     "metadata": {},
     "output_type": "execute_result"
    }
   ],
   "source": [
    "#prepare dataframe with information of number of trips between a start and end station\n",
    "\n",
    "df_trips = df_boston.groupby(['start_station_id','end_station_id', 'start_station_latitude', 'start_station_longitude', 'end_station_latitude', 'end_station_longitude']).size().reset_index(name='count_trips')\n",
    "df_trips = df_trips.sort_values('count_trips', ascending = False)\n",
    "df_trips.index = range(0, len(df_trips))\n",
    "df_trips.head(10)"
   ]
  },
  {
   "cell_type": "code",
   "execution_count": null,
   "metadata": {},
   "outputs": [
    {
     "data": {
      "text/html": [
       "<div>\n",
       "<style scoped>\n",
       "    .dataframe tbody tr th:only-of-type {\n",
       "        vertical-align: middle;\n",
       "    }\n",
       "\n",
       "    .dataframe tbody tr th {\n",
       "        vertical-align: top;\n",
       "    }\n",
       "\n",
       "    .dataframe thead th {\n",
       "        text-align: right;\n",
       "    }\n",
       "</style>\n",
       "<table border=\"1\" class=\"dataframe\">\n",
       "  <thead>\n",
       "    <tr style=\"text-align: right;\">\n",
       "      <th></th>\n",
       "      <th>Station_A</th>\n",
       "      <th>Station_B</th>\n",
       "      <th>start_station_latitude</th>\n",
       "      <th>start_station_longitude</th>\n",
       "      <th>end_station_latitude</th>\n",
       "      <th>end_station_longitude</th>\n",
       "      <th>count_trips</th>\n",
       "    </tr>\n",
       "  </thead>\n",
       "  <tbody>\n",
       "    <tr>\n",
       "      <th>0</th>\n",
       "      <td>118</td>\n",
       "      <td>100</td>\n",
       "      <td>42.397828</td>\n",
       "      <td>-71.130516</td>\n",
       "      <td>42.396969</td>\n",
       "      <td>-71.123024</td>\n",
       "      <td>5751</td>\n",
       "    </tr>\n",
       "    <tr>\n",
       "      <th>1</th>\n",
       "      <td>67</td>\n",
       "      <td>53</td>\n",
       "      <td>42.358100</td>\n",
       "      <td>-71.093198</td>\n",
       "      <td>42.350851</td>\n",
       "      <td>-71.089886</td>\n",
       "      <td>3805</td>\n",
       "    </tr>\n",
       "    <tr>\n",
       "      <th>2</th>\n",
       "      <td>40</td>\n",
       "      <td>22</td>\n",
       "      <td>42.363871</td>\n",
       "      <td>-71.050877</td>\n",
       "      <td>42.352175</td>\n",
       "      <td>-71.055547</td>\n",
       "      <td>3719</td>\n",
       "    </tr>\n",
       "    <tr>\n",
       "      <th>3</th>\n",
       "      <td>67</td>\n",
       "      <td>68</td>\n",
       "      <td>42.358100</td>\n",
       "      <td>-71.093198</td>\n",
       "      <td>42.365070</td>\n",
       "      <td>-71.103100</td>\n",
       "      <td>3443</td>\n",
       "    </tr>\n",
       "    <tr>\n",
       "      <th>4</th>\n",
       "      <td>114</td>\n",
       "      <td>100</td>\n",
       "      <td>42.402763</td>\n",
       "      <td>-71.126908</td>\n",
       "      <td>42.396969</td>\n",
       "      <td>-71.123024</td>\n",
       "      <td>3191</td>\n",
       "    </tr>\n",
       "    <tr>\n",
       "      <th>5</th>\n",
       "      <td>20</td>\n",
       "      <td>22</td>\n",
       "      <td>42.359770</td>\n",
       "      <td>-71.051601</td>\n",
       "      <td>42.352175</td>\n",
       "      <td>-71.055547</td>\n",
       "      <td>2980</td>\n",
       "    </tr>\n",
       "    <tr>\n",
       "      <th>6</th>\n",
       "      <td>67</td>\n",
       "      <td>75</td>\n",
       "      <td>42.358100</td>\n",
       "      <td>-71.093198</td>\n",
       "      <td>42.363465</td>\n",
       "      <td>-71.100573</td>\n",
       "      <td>2886</td>\n",
       "    </tr>\n",
       "    <tr>\n",
       "      <th>7</th>\n",
       "      <td>67</td>\n",
       "      <td>74</td>\n",
       "      <td>42.358100</td>\n",
       "      <td>-71.093198</td>\n",
       "      <td>42.373268</td>\n",
       "      <td>-71.118579</td>\n",
       "      <td>2692</td>\n",
       "    </tr>\n",
       "    <tr>\n",
       "      <th>8</th>\n",
       "      <td>67</td>\n",
       "      <td>107</td>\n",
       "      <td>42.358100</td>\n",
       "      <td>-71.093198</td>\n",
       "      <td>42.362500</td>\n",
       "      <td>-71.088220</td>\n",
       "      <td>2603</td>\n",
       "    </tr>\n",
       "    <tr>\n",
       "      <th>9</th>\n",
       "      <td>22</td>\n",
       "      <td>109</td>\n",
       "      <td>42.352175</td>\n",
       "      <td>-71.055547</td>\n",
       "      <td>42.365942</td>\n",
       "      <td>-71.060515</td>\n",
       "      <td>2380</td>\n",
       "    </tr>\n",
       "    <tr>\n",
       "      <th>10</th>\n",
       "      <td>80</td>\n",
       "      <td>68</td>\n",
       "      <td>42.361962</td>\n",
       "      <td>-71.092053</td>\n",
       "      <td>42.365070</td>\n",
       "      <td>-71.103100</td>\n",
       "      <td>2319</td>\n",
       "    </tr>\n",
       "    <tr>\n",
       "      <th>11</th>\n",
       "      <td>75</td>\n",
       "      <td>107</td>\n",
       "      <td>42.363465</td>\n",
       "      <td>-71.100573</td>\n",
       "      <td>42.362500</td>\n",
       "      <td>-71.088220</td>\n",
       "      <td>2292</td>\n",
       "    </tr>\n",
       "    <tr>\n",
       "      <th>12</th>\n",
       "      <td>22</td>\n",
       "      <td>47</td>\n",
       "      <td>42.352175</td>\n",
       "      <td>-71.055547</td>\n",
       "      <td>42.362811</td>\n",
       "      <td>-71.056067</td>\n",
       "      <td>2263</td>\n",
       "    </tr>\n",
       "    <tr>\n",
       "      <th>13</th>\n",
       "      <td>75</td>\n",
       "      <td>80</td>\n",
       "      <td>42.363465</td>\n",
       "      <td>-71.100573</td>\n",
       "      <td>42.361962</td>\n",
       "      <td>-71.092053</td>\n",
       "      <td>2244</td>\n",
       "    </tr>\n",
       "    <tr>\n",
       "      <th>14</th>\n",
       "      <td>74</td>\n",
       "      <td>104</td>\n",
       "      <td>42.373268</td>\n",
       "      <td>-71.118579</td>\n",
       "      <td>42.380287</td>\n",
       "      <td>-71.125107</td>\n",
       "      <td>2181</td>\n",
       "    </tr>\n",
       "    <tr>\n",
       "      <th>15</th>\n",
       "      <td>67</td>\n",
       "      <td>80</td>\n",
       "      <td>42.358100</td>\n",
       "      <td>-71.093198</td>\n",
       "      <td>42.361962</td>\n",
       "      <td>-71.092053</td>\n",
       "      <td>2110</td>\n",
       "    </tr>\n",
       "  </tbody>\n",
       "</table>\n",
       "</div>"
      ],
      "text/plain": [
       "    Station_A Station_B  start_station_latitude  start_station_longitude  \\\n",
       "0         118       100               42.397828               -71.130516   \n",
       "1          67        53               42.358100               -71.093198   \n",
       "2          40        22               42.363871               -71.050877   \n",
       "3          67        68               42.358100               -71.093198   \n",
       "4         114       100               42.402763               -71.126908   \n",
       "5          20        22               42.359770               -71.051601   \n",
       "6          67        75               42.358100               -71.093198   \n",
       "7          67        74               42.358100               -71.093198   \n",
       "8          67       107               42.358100               -71.093198   \n",
       "9          22       109               42.352175               -71.055547   \n",
       "10         80        68               42.361962               -71.092053   \n",
       "11         75       107               42.363465               -71.100573   \n",
       "12         22        47               42.352175               -71.055547   \n",
       "13         75        80               42.363465               -71.100573   \n",
       "14         74       104               42.373268               -71.118579   \n",
       "15         67        80               42.358100               -71.093198   \n",
       "\n",
       "    end_station_latitude  end_station_longitude  count_trips  \n",
       "0              42.396969             -71.123024         5751  \n",
       "1              42.350851             -71.089886         3805  \n",
       "2              42.352175             -71.055547         3719  \n",
       "3              42.365070             -71.103100         3443  \n",
       "4              42.396969             -71.123024         3191  \n",
       "5              42.352175             -71.055547         2980  \n",
       "6              42.363465             -71.100573         2886  \n",
       "7              42.373268             -71.118579         2692  \n",
       "8              42.362500             -71.088220         2603  \n",
       "9              42.365942             -71.060515         2380  \n",
       "10             42.365070             -71.103100         2319  \n",
       "11             42.362500             -71.088220         2292  \n",
       "12             42.362811             -71.056067         2263  \n",
       "13             42.361962             -71.092053         2244  \n",
       "14             42.380287             -71.125107         2181  \n",
       "15             42.361962             -71.092053         2110  "
      ]
     },
     "execution_count": 21,
     "metadata": {},
     "output_type": "execute_result"
    }
   ],
   "source": [
    "#in order to get information about the most frequently used routes we need to ignore the direction of the route i.e. irrelevance of start and end station\n",
    "df_top_trips = df_trips.head(47).copy() #most common trips ignoring direction of trip, filter is 47 as we only use values above 1000 trips per direction\n",
    "\n",
    "for j in range(0, len(df_top_trips)):\n",
    "    if j < len(df_top_trips):\n",
    "        for i in range (0, len(df_top_trips)):\n",
    "            if i < len(df_top_trips):\n",
    "                if df_top_trips.at[j,'start_station_id'] == int(df_top_trips.at[i, 'end_station_id']) and df_top_trips.at[i,'start_station_id'] == int(df_top_trips.at[j, 'end_station_id']):\n",
    "                    df_top_trips.at[j, 'count_trips'] = df_top_trips.at[i, 'count_trips'] + df_top_trips.at[j, 'count_trips']\n",
    "                    df_top_trips = df_top_trips.drop(i)\n",
    "                    df_top_trips.index = range(0, len(df_top_trips))\n",
    "\n",
    "\n",
    "df_top_trips = df_top_trips.sort_values('count_trips', ascending = False)\n",
    "df_top_trips.index = range(0, len(df_top_trips))\n",
    "df_top_trips = df_top_trips.rename(columns = {'start_station_id' : 'Station_A', 'end_station_id' : 'Station_B'})\n",
    "df_top_trips = df_top_trips.head(16) #big gap between 16 and 17 from over 2100 to 1300\n",
    "df_top_trips\n"
   ]
  },
  {
   "cell_type": "code",
   "execution_count": null,
   "metadata": {},
   "outputs": [
    {
     "data": {
      "text/html": [
       "<iframe srcdoc=\"&lt;!DOCTYPE html&gt;\n",
       "&lt;html&gt;\n",
       "&lt;head&gt;\n",
       "    \n",
       "    &lt;meta http-equiv=&quot;content-type&quot; content=&quot;text/html; charset=UTF-8&quot; /&gt;\n",
       "    \n",
       "        &lt;script&gt;\n",
       "            L_NO_TOUCH = false;\n",
       "            L_DISABLE_3D = false;\n",
       "        &lt;/script&gt;\n",
       "    \n",
       "    &lt;style&gt;html, body {width: 100%;height: 100%;margin: 0;padding: 0;}&lt;/style&gt;\n",
       "    &lt;style&gt;#map {position:absolute;top:0;bottom:0;right:0;left:0;}&lt;/style&gt;\n",
       "    &lt;script src=&quot;https://cdn.jsdelivr.net/npm/leaflet@1.9.3/dist/leaflet.js&quot;&gt;&lt;/script&gt;\n",
       "    &lt;script src=&quot;https://code.jquery.com/jquery-1.12.4.min.js&quot;&gt;&lt;/script&gt;\n",
       "    &lt;script src=&quot;https://cdn.jsdelivr.net/npm/bootstrap@5.2.2/dist/js/bootstrap.bundle.min.js&quot;&gt;&lt;/script&gt;\n",
       "    &lt;script src=&quot;https://cdnjs.cloudflare.com/ajax/libs/Leaflet.awesome-markers/2.0.2/leaflet.awesome-markers.js&quot;&gt;&lt;/script&gt;\n",
       "    &lt;link rel=&quot;stylesheet&quot; href=&quot;https://cdn.jsdelivr.net/npm/leaflet@1.9.3/dist/leaflet.css&quot;/&gt;\n",
       "    &lt;link rel=&quot;stylesheet&quot; href=&quot;https://cdn.jsdelivr.net/npm/bootstrap@5.2.2/dist/css/bootstrap.min.css&quot;/&gt;\n",
       "    &lt;link rel=&quot;stylesheet&quot; href=&quot;https://netdna.bootstrapcdn.com/bootstrap/3.0.0/css/bootstrap.min.css&quot;/&gt;\n",
       "    &lt;link rel=&quot;stylesheet&quot; href=&quot;https://cdn.jsdelivr.net/npm/@fortawesome/fontawesome-free@6.2.0/css/all.min.css&quot;/&gt;\n",
       "    &lt;link rel=&quot;stylesheet&quot; href=&quot;https://cdnjs.cloudflare.com/ajax/libs/Leaflet.awesome-markers/2.0.2/leaflet.awesome-markers.css&quot;/&gt;\n",
       "    &lt;link rel=&quot;stylesheet&quot; href=&quot;https://cdn.jsdelivr.net/gh/python-visualization/folium/folium/templates/leaflet.awesome.rotate.min.css&quot;/&gt;\n",
       "    \n",
       "            &lt;meta name=&quot;viewport&quot; content=&quot;width=device-width,\n",
       "                initial-scale=1.0, maximum-scale=1.0, user-scalable=no&quot; /&gt;\n",
       "            &lt;style&gt;\n",
       "                #map_6843db6f1b18dd710273ecf99d2283d5 {\n",
       "                    position: relative;\n",
       "                    width: 100.0%;\n",
       "                    height: 100.0%;\n",
       "                    left: 0.0%;\n",
       "                    top: 0.0%;\n",
       "                }\n",
       "                .leaflet-container { font-size: 1rem; }\n",
       "            &lt;/style&gt;\n",
       "        \n",
       "&lt;/head&gt;\n",
       "&lt;body&gt;\n",
       "    \n",
       "    \n",
       "            &lt;div class=&quot;folium-map&quot; id=&quot;map_6843db6f1b18dd710273ecf99d2283d5&quot; &gt;&lt;/div&gt;\n",
       "        \n",
       "&lt;/body&gt;\n",
       "&lt;script&gt;\n",
       "    \n",
       "    \n",
       "            var map_6843db6f1b18dd710273ecf99d2283d5 = L.map(\n",
       "                &quot;map_6843db6f1b18dd710273ecf99d2283d5&quot;,\n",
       "                {\n",
       "                    center: [42.3559267048381, -71.0887901113159],\n",
       "                    crs: L.CRS.EPSG3857,\n",
       "                    zoom: 12,\n",
       "                    zoomControl: true,\n",
       "                    preferCanvas: false,\n",
       "                }\n",
       "            );\n",
       "\n",
       "            \n",
       "\n",
       "        \n",
       "    \n",
       "            var tile_layer_b6fc30516e11db0fb3ebfa31438d7025 = L.tileLayer(\n",
       "                &quot;https://{s}.tile.openstreetmap.org/{z}/{x}/{y}.png&quot;,\n",
       "                {&quot;attribution&quot;: &quot;Data by \\u0026copy; \\u003ca target=\\&quot;_blank\\&quot; href=\\&quot;http://openstreetmap.org\\&quot;\\u003eOpenStreetMap\\u003c/a\\u003e, under \\u003ca target=\\&quot;_blank\\&quot; href=\\&quot;http://www.openstreetmap.org/copyright\\&quot;\\u003eODbL\\u003c/a\\u003e.&quot;, &quot;detectRetina&quot;: false, &quot;maxNativeZoom&quot;: 18, &quot;maxZoom&quot;: 18, &quot;minZoom&quot;: 0, &quot;noWrap&quot;: false, &quot;opacity&quot;: 1, &quot;subdomains&quot;: &quot;abc&quot;, &quot;tms&quot;: false}\n",
       "            ).addTo(map_6843db6f1b18dd710273ecf99d2283d5);\n",
       "        \n",
       "    \n",
       "            var poly_line_bb3ea0470f0453559f7650ec4bbe4520 = L.polyline(\n",
       "                [[42.397828, -71.130516], [42.396969, -71.123024]],\n",
       "                {&quot;bubblingMouseEvents&quot;: true, &quot;color&quot;: &quot;red&quot;, &quot;dashArray&quot;: null, &quot;dashOffset&quot;: null, &quot;fill&quot;: false, &quot;fillColor&quot;: &quot;red&quot;, &quot;fillOpacity&quot;: 0.2, &quot;fillRule&quot;: &quot;evenodd&quot;, &quot;lineCap&quot;: &quot;round&quot;, &quot;lineJoin&quot;: &quot;round&quot;, &quot;noClip&quot;: false, &quot;opacity&quot;: 1, &quot;smoothFactor&quot;: 1.0, &quot;stroke&quot;: true, &quot;weight&quot;: 2.5}\n",
       "            ).addTo(map_6843db6f1b18dd710273ecf99d2283d5);\n",
       "        \n",
       "    \n",
       "            var marker_e81e6c906746e7e734dfc2c20a25751c = L.marker(\n",
       "                [42.397828, -71.130516],\n",
       "                {}\n",
       "            ).addTo(map_6843db6f1b18dd710273ecf99d2283d5);\n",
       "        \n",
       "    \n",
       "            var icon_24cae41daf0ffe6b1592e2a3e2e262d0 = L.AwesomeMarkers.icon(\n",
       "                {&quot;extraClasses&quot;: &quot;fa-rotate-0&quot;, &quot;icon&quot;: &quot;bicycle&quot;, &quot;iconColor&quot;: &quot;white&quot;, &quot;markerColor&quot;: &quot;blue&quot;, &quot;prefix&quot;: &quot;fa&quot;}\n",
       "            );\n",
       "            marker_e81e6c906746e7e734dfc2c20a25751c.setIcon(icon_24cae41daf0ffe6b1592e2a3e2e262d0);\n",
       "        \n",
       "    \n",
       "        var popup_0a223d7f463272d2cd25b4eb343d4cd9 = L.popup({&quot;maxWidth&quot;: &quot;100%&quot;});\n",
       "\n",
       "        \n",
       "            \n",
       "                var html_441309cdb73439e61d56d4cce5bdb2f5 = $(`&lt;div id=&quot;html_441309cdb73439e61d56d4cce5bdb2f5&quot; style=&quot;width: 100.0%; height: 100.0%;&quot;&gt;(118, 5751)&lt;/div&gt;`)[0];\n",
       "                popup_0a223d7f463272d2cd25b4eb343d4cd9.setContent(html_441309cdb73439e61d56d4cce5bdb2f5);\n",
       "            \n",
       "        \n",
       "\n",
       "        marker_e81e6c906746e7e734dfc2c20a25751c.bindPopup(popup_0a223d7f463272d2cd25b4eb343d4cd9)\n",
       "        ;\n",
       "\n",
       "        \n",
       "    \n",
       "    \n",
       "            var marker_42312773a9b07ff91dcb22a45678715d = L.marker(\n",
       "                [42.396969, -71.123024],\n",
       "                {}\n",
       "            ).addTo(map_6843db6f1b18dd710273ecf99d2283d5);\n",
       "        \n",
       "    \n",
       "            var icon_aa0dabace09d6314351e069555d892d7 = L.AwesomeMarkers.icon(\n",
       "                {&quot;extraClasses&quot;: &quot;fa-rotate-0&quot;, &quot;icon&quot;: &quot;bicycle&quot;, &quot;iconColor&quot;: &quot;white&quot;, &quot;markerColor&quot;: &quot;blue&quot;, &quot;prefix&quot;: &quot;fa&quot;}\n",
       "            );\n",
       "            marker_42312773a9b07ff91dcb22a45678715d.setIcon(icon_aa0dabace09d6314351e069555d892d7);\n",
       "        \n",
       "    \n",
       "        var popup_4255b147c070e17782f7003a0d628652 = L.popup({&quot;maxWidth&quot;: &quot;100%&quot;});\n",
       "\n",
       "        \n",
       "            \n",
       "                var html_cd8ee1b94202613cc77bd29998443c40 = $(`&lt;div id=&quot;html_cd8ee1b94202613cc77bd29998443c40&quot; style=&quot;width: 100.0%; height: 100.0%;&quot;&gt;(&#x27;100&#x27;, 5751)&lt;/div&gt;`)[0];\n",
       "                popup_4255b147c070e17782f7003a0d628652.setContent(html_cd8ee1b94202613cc77bd29998443c40);\n",
       "            \n",
       "        \n",
       "\n",
       "        marker_42312773a9b07ff91dcb22a45678715d.bindPopup(popup_4255b147c070e17782f7003a0d628652)\n",
       "        ;\n",
       "\n",
       "        \n",
       "    \n",
       "    \n",
       "            var poly_line_3ccd7d943970c1e6b7c4558cbb998fed = L.polyline(\n",
       "                [[42.3581, -71.093198], [42.350851, -71.089886]],\n",
       "                {&quot;bubblingMouseEvents&quot;: true, &quot;color&quot;: &quot;red&quot;, &quot;dashArray&quot;: null, &quot;dashOffset&quot;: null, &quot;fill&quot;: false, &quot;fillColor&quot;: &quot;red&quot;, &quot;fillOpacity&quot;: 0.2, &quot;fillRule&quot;: &quot;evenodd&quot;, &quot;lineCap&quot;: &quot;round&quot;, &quot;lineJoin&quot;: &quot;round&quot;, &quot;noClip&quot;: false, &quot;opacity&quot;: 1, &quot;smoothFactor&quot;: 1.0, &quot;stroke&quot;: true, &quot;weight&quot;: 2.5}\n",
       "            ).addTo(map_6843db6f1b18dd710273ecf99d2283d5);\n",
       "        \n",
       "    \n",
       "            var marker_43e0510eebe48fb312e11743bdcc8911 = L.marker(\n",
       "                [42.3581, -71.093198],\n",
       "                {}\n",
       "            ).addTo(map_6843db6f1b18dd710273ecf99d2283d5);\n",
       "        \n",
       "    \n",
       "            var icon_c7075180ea549b5c159c0a39e4432451 = L.AwesomeMarkers.icon(\n",
       "                {&quot;extraClasses&quot;: &quot;fa-rotate-0&quot;, &quot;icon&quot;: &quot;bicycle&quot;, &quot;iconColor&quot;: &quot;white&quot;, &quot;markerColor&quot;: &quot;blue&quot;, &quot;prefix&quot;: &quot;fa&quot;}\n",
       "            );\n",
       "            marker_43e0510eebe48fb312e11743bdcc8911.setIcon(icon_c7075180ea549b5c159c0a39e4432451);\n",
       "        \n",
       "    \n",
       "        var popup_84c7b400d948e9563f82bc1f89c24786 = L.popup({&quot;maxWidth&quot;: &quot;100%&quot;});\n",
       "\n",
       "        \n",
       "            \n",
       "                var html_9d2a8fec9858fc614fe4f19e40101b78 = $(`&lt;div id=&quot;html_9d2a8fec9858fc614fe4f19e40101b78&quot; style=&quot;width: 100.0%; height: 100.0%;&quot;&gt;(67, 3805)&lt;/div&gt;`)[0];\n",
       "                popup_84c7b400d948e9563f82bc1f89c24786.setContent(html_9d2a8fec9858fc614fe4f19e40101b78);\n",
       "            \n",
       "        \n",
       "\n",
       "        marker_43e0510eebe48fb312e11743bdcc8911.bindPopup(popup_84c7b400d948e9563f82bc1f89c24786)\n",
       "        ;\n",
       "\n",
       "        \n",
       "    \n",
       "    \n",
       "            var marker_576988b1d5dbd7399e730193f71243e8 = L.marker(\n",
       "                [42.350851, -71.089886],\n",
       "                {}\n",
       "            ).addTo(map_6843db6f1b18dd710273ecf99d2283d5);\n",
       "        \n",
       "    \n",
       "            var icon_af52074aadbcb2594d4218a6fe6e9dc3 = L.AwesomeMarkers.icon(\n",
       "                {&quot;extraClasses&quot;: &quot;fa-rotate-0&quot;, &quot;icon&quot;: &quot;bicycle&quot;, &quot;iconColor&quot;: &quot;white&quot;, &quot;markerColor&quot;: &quot;blue&quot;, &quot;prefix&quot;: &quot;fa&quot;}\n",
       "            );\n",
       "            marker_576988b1d5dbd7399e730193f71243e8.setIcon(icon_af52074aadbcb2594d4218a6fe6e9dc3);\n",
       "        \n",
       "    \n",
       "        var popup_8ffe9fd17781c279923ccbd2f757d25b = L.popup({&quot;maxWidth&quot;: &quot;100%&quot;});\n",
       "\n",
       "        \n",
       "            \n",
       "                var html_0f442ca6ab217741ea28989eae4cac5e = $(`&lt;div id=&quot;html_0f442ca6ab217741ea28989eae4cac5e&quot; style=&quot;width: 100.0%; height: 100.0%;&quot;&gt;(&#x27;53&#x27;, 3805)&lt;/div&gt;`)[0];\n",
       "                popup_8ffe9fd17781c279923ccbd2f757d25b.setContent(html_0f442ca6ab217741ea28989eae4cac5e);\n",
       "            \n",
       "        \n",
       "\n",
       "        marker_576988b1d5dbd7399e730193f71243e8.bindPopup(popup_8ffe9fd17781c279923ccbd2f757d25b)\n",
       "        ;\n",
       "\n",
       "        \n",
       "    \n",
       "    \n",
       "            var poly_line_6c72c4e9a1c962eac45c902ade69f931 = L.polyline(\n",
       "                [[42.363871, -71.050877], [42.352175, -71.055547]],\n",
       "                {&quot;bubblingMouseEvents&quot;: true, &quot;color&quot;: &quot;red&quot;, &quot;dashArray&quot;: null, &quot;dashOffset&quot;: null, &quot;fill&quot;: false, &quot;fillColor&quot;: &quot;red&quot;, &quot;fillOpacity&quot;: 0.2, &quot;fillRule&quot;: &quot;evenodd&quot;, &quot;lineCap&quot;: &quot;round&quot;, &quot;lineJoin&quot;: &quot;round&quot;, &quot;noClip&quot;: false, &quot;opacity&quot;: 1, &quot;smoothFactor&quot;: 1.0, &quot;stroke&quot;: true, &quot;weight&quot;: 2.5}\n",
       "            ).addTo(map_6843db6f1b18dd710273ecf99d2283d5);\n",
       "        \n",
       "    \n",
       "            var marker_63406009a898933c4e687c25027270f9 = L.marker(\n",
       "                [42.363871, -71.050877],\n",
       "                {}\n",
       "            ).addTo(map_6843db6f1b18dd710273ecf99d2283d5);\n",
       "        \n",
       "    \n",
       "            var icon_48b12d1ee00086be86d774f39a0888ef = L.AwesomeMarkers.icon(\n",
       "                {&quot;extraClasses&quot;: &quot;fa-rotate-0&quot;, &quot;icon&quot;: &quot;bicycle&quot;, &quot;iconColor&quot;: &quot;white&quot;, &quot;markerColor&quot;: &quot;blue&quot;, &quot;prefix&quot;: &quot;fa&quot;}\n",
       "            );\n",
       "            marker_63406009a898933c4e687c25027270f9.setIcon(icon_48b12d1ee00086be86d774f39a0888ef);\n",
       "        \n",
       "    \n",
       "        var popup_7214ba345407fd3c1a490638a173cd67 = L.popup({&quot;maxWidth&quot;: &quot;100%&quot;});\n",
       "\n",
       "        \n",
       "            \n",
       "                var html_f16565244832333e6b70e6ae45debff2 = $(`&lt;div id=&quot;html_f16565244832333e6b70e6ae45debff2&quot; style=&quot;width: 100.0%; height: 100.0%;&quot;&gt;(40, 3719)&lt;/div&gt;`)[0];\n",
       "                popup_7214ba345407fd3c1a490638a173cd67.setContent(html_f16565244832333e6b70e6ae45debff2);\n",
       "            \n",
       "        \n",
       "\n",
       "        marker_63406009a898933c4e687c25027270f9.bindPopup(popup_7214ba345407fd3c1a490638a173cd67)\n",
       "        ;\n",
       "\n",
       "        \n",
       "    \n",
       "    \n",
       "            var marker_852baaf6800c3600bb9460577dfe8122 = L.marker(\n",
       "                [42.352175, -71.055547],\n",
       "                {}\n",
       "            ).addTo(map_6843db6f1b18dd710273ecf99d2283d5);\n",
       "        \n",
       "    \n",
       "            var icon_7da466a30a8a6a9a34d0b8ff8a7a89ee = L.AwesomeMarkers.icon(\n",
       "                {&quot;extraClasses&quot;: &quot;fa-rotate-0&quot;, &quot;icon&quot;: &quot;bicycle&quot;, &quot;iconColor&quot;: &quot;white&quot;, &quot;markerColor&quot;: &quot;blue&quot;, &quot;prefix&quot;: &quot;fa&quot;}\n",
       "            );\n",
       "            marker_852baaf6800c3600bb9460577dfe8122.setIcon(icon_7da466a30a8a6a9a34d0b8ff8a7a89ee);\n",
       "        \n",
       "    \n",
       "        var popup_2d4fa466e2a6d0bdad8f0bf1c9fb9efa = L.popup({&quot;maxWidth&quot;: &quot;100%&quot;});\n",
       "\n",
       "        \n",
       "            \n",
       "                var html_da9569e4e7aea27da93dfbe203d5bfe5 = $(`&lt;div id=&quot;html_da9569e4e7aea27da93dfbe203d5bfe5&quot; style=&quot;width: 100.0%; height: 100.0%;&quot;&gt;(&#x27;22&#x27;, 3719)&lt;/div&gt;`)[0];\n",
       "                popup_2d4fa466e2a6d0bdad8f0bf1c9fb9efa.setContent(html_da9569e4e7aea27da93dfbe203d5bfe5);\n",
       "            \n",
       "        \n",
       "\n",
       "        marker_852baaf6800c3600bb9460577dfe8122.bindPopup(popup_2d4fa466e2a6d0bdad8f0bf1c9fb9efa)\n",
       "        ;\n",
       "\n",
       "        \n",
       "    \n",
       "    \n",
       "            var poly_line_f1f65e9d19397c7191ec1b57ed3b9d7d = L.polyline(\n",
       "                [[42.3581, -71.093198], [42.36507, -71.1031]],\n",
       "                {&quot;bubblingMouseEvents&quot;: true, &quot;color&quot;: &quot;red&quot;, &quot;dashArray&quot;: null, &quot;dashOffset&quot;: null, &quot;fill&quot;: false, &quot;fillColor&quot;: &quot;red&quot;, &quot;fillOpacity&quot;: 0.2, &quot;fillRule&quot;: &quot;evenodd&quot;, &quot;lineCap&quot;: &quot;round&quot;, &quot;lineJoin&quot;: &quot;round&quot;, &quot;noClip&quot;: false, &quot;opacity&quot;: 1, &quot;smoothFactor&quot;: 1.0, &quot;stroke&quot;: true, &quot;weight&quot;: 2.5}\n",
       "            ).addTo(map_6843db6f1b18dd710273ecf99d2283d5);\n",
       "        \n",
       "    \n",
       "            var marker_ee5d6ce3b2814a702cb7319bf3a72e1c = L.marker(\n",
       "                [42.3581, -71.093198],\n",
       "                {}\n",
       "            ).addTo(map_6843db6f1b18dd710273ecf99d2283d5);\n",
       "        \n",
       "    \n",
       "            var icon_3f999f080b08d2788bdfded7f6ddcea2 = L.AwesomeMarkers.icon(\n",
       "                {&quot;extraClasses&quot;: &quot;fa-rotate-0&quot;, &quot;icon&quot;: &quot;bicycle&quot;, &quot;iconColor&quot;: &quot;white&quot;, &quot;markerColor&quot;: &quot;blue&quot;, &quot;prefix&quot;: &quot;fa&quot;}\n",
       "            );\n",
       "            marker_ee5d6ce3b2814a702cb7319bf3a72e1c.setIcon(icon_3f999f080b08d2788bdfded7f6ddcea2);\n",
       "        \n",
       "    \n",
       "        var popup_d46e6f4abdab37b22e2086908a0f7811 = L.popup({&quot;maxWidth&quot;: &quot;100%&quot;});\n",
       "\n",
       "        \n",
       "            \n",
       "                var html_8b8b70af8a26963931a6dd94b58feb3f = $(`&lt;div id=&quot;html_8b8b70af8a26963931a6dd94b58feb3f&quot; style=&quot;width: 100.0%; height: 100.0%;&quot;&gt;(67, 3443)&lt;/div&gt;`)[0];\n",
       "                popup_d46e6f4abdab37b22e2086908a0f7811.setContent(html_8b8b70af8a26963931a6dd94b58feb3f);\n",
       "            \n",
       "        \n",
       "\n",
       "        marker_ee5d6ce3b2814a702cb7319bf3a72e1c.bindPopup(popup_d46e6f4abdab37b22e2086908a0f7811)\n",
       "        ;\n",
       "\n",
       "        \n",
       "    \n",
       "    \n",
       "            var marker_0d0b784713318beb830095164ad607b0 = L.marker(\n",
       "                [42.36507, -71.1031],\n",
       "                {}\n",
       "            ).addTo(map_6843db6f1b18dd710273ecf99d2283d5);\n",
       "        \n",
       "    \n",
       "            var icon_9d7d85ef24df87b78a002f02133e810e = L.AwesomeMarkers.icon(\n",
       "                {&quot;extraClasses&quot;: &quot;fa-rotate-0&quot;, &quot;icon&quot;: &quot;bicycle&quot;, &quot;iconColor&quot;: &quot;white&quot;, &quot;markerColor&quot;: &quot;blue&quot;, &quot;prefix&quot;: &quot;fa&quot;}\n",
       "            );\n",
       "            marker_0d0b784713318beb830095164ad607b0.setIcon(icon_9d7d85ef24df87b78a002f02133e810e);\n",
       "        \n",
       "    \n",
       "        var popup_96d3bcd9534f1892dcda57f14a368bb5 = L.popup({&quot;maxWidth&quot;: &quot;100%&quot;});\n",
       "\n",
       "        \n",
       "            \n",
       "                var html_045caf9d5d71de062b148d5d954c54fe = $(`&lt;div id=&quot;html_045caf9d5d71de062b148d5d954c54fe&quot; style=&quot;width: 100.0%; height: 100.0%;&quot;&gt;(&#x27;68&#x27;, 3443)&lt;/div&gt;`)[0];\n",
       "                popup_96d3bcd9534f1892dcda57f14a368bb5.setContent(html_045caf9d5d71de062b148d5d954c54fe);\n",
       "            \n",
       "        \n",
       "\n",
       "        marker_0d0b784713318beb830095164ad607b0.bindPopup(popup_96d3bcd9534f1892dcda57f14a368bb5)\n",
       "        ;\n",
       "\n",
       "        \n",
       "    \n",
       "    \n",
       "            var poly_line_0a17ba4da5c1337223db1b69ba58a902 = L.polyline(\n",
       "                [[42.402763, -71.126908], [42.396969, -71.123024]],\n",
       "                {&quot;bubblingMouseEvents&quot;: true, &quot;color&quot;: &quot;red&quot;, &quot;dashArray&quot;: null, &quot;dashOffset&quot;: null, &quot;fill&quot;: false, &quot;fillColor&quot;: &quot;red&quot;, &quot;fillOpacity&quot;: 0.2, &quot;fillRule&quot;: &quot;evenodd&quot;, &quot;lineCap&quot;: &quot;round&quot;, &quot;lineJoin&quot;: &quot;round&quot;, &quot;noClip&quot;: false, &quot;opacity&quot;: 1, &quot;smoothFactor&quot;: 1.0, &quot;stroke&quot;: true, &quot;weight&quot;: 2.5}\n",
       "            ).addTo(map_6843db6f1b18dd710273ecf99d2283d5);\n",
       "        \n",
       "    \n",
       "            var marker_2df5ca75b6dcd345235b154b2e7acd1d = L.marker(\n",
       "                [42.402763, -71.126908],\n",
       "                {}\n",
       "            ).addTo(map_6843db6f1b18dd710273ecf99d2283d5);\n",
       "        \n",
       "    \n",
       "            var icon_4fc098e56c1309f2b0c06a8aea8b9372 = L.AwesomeMarkers.icon(\n",
       "                {&quot;extraClasses&quot;: &quot;fa-rotate-0&quot;, &quot;icon&quot;: &quot;bicycle&quot;, &quot;iconColor&quot;: &quot;white&quot;, &quot;markerColor&quot;: &quot;blue&quot;, &quot;prefix&quot;: &quot;fa&quot;}\n",
       "            );\n",
       "            marker_2df5ca75b6dcd345235b154b2e7acd1d.setIcon(icon_4fc098e56c1309f2b0c06a8aea8b9372);\n",
       "        \n",
       "    \n",
       "        var popup_20192744ec3a09e7de8e793be9cd8e2c = L.popup({&quot;maxWidth&quot;: &quot;100%&quot;});\n",
       "\n",
       "        \n",
       "            \n",
       "                var html_abac44277cdaa35f3da178259ad234fb = $(`&lt;div id=&quot;html_abac44277cdaa35f3da178259ad234fb&quot; style=&quot;width: 100.0%; height: 100.0%;&quot;&gt;(114, 3191)&lt;/div&gt;`)[0];\n",
       "                popup_20192744ec3a09e7de8e793be9cd8e2c.setContent(html_abac44277cdaa35f3da178259ad234fb);\n",
       "            \n",
       "        \n",
       "\n",
       "        marker_2df5ca75b6dcd345235b154b2e7acd1d.bindPopup(popup_20192744ec3a09e7de8e793be9cd8e2c)\n",
       "        ;\n",
       "\n",
       "        \n",
       "    \n",
       "    \n",
       "            var marker_972fa58a4ea50e476cf27460de66a077 = L.marker(\n",
       "                [42.396969, -71.123024],\n",
       "                {}\n",
       "            ).addTo(map_6843db6f1b18dd710273ecf99d2283d5);\n",
       "        \n",
       "    \n",
       "            var icon_60b65318a479f7d0c8b10482b0d8aa60 = L.AwesomeMarkers.icon(\n",
       "                {&quot;extraClasses&quot;: &quot;fa-rotate-0&quot;, &quot;icon&quot;: &quot;bicycle&quot;, &quot;iconColor&quot;: &quot;white&quot;, &quot;markerColor&quot;: &quot;blue&quot;, &quot;prefix&quot;: &quot;fa&quot;}\n",
       "            );\n",
       "            marker_972fa58a4ea50e476cf27460de66a077.setIcon(icon_60b65318a479f7d0c8b10482b0d8aa60);\n",
       "        \n",
       "    \n",
       "        var popup_c5765558d5639348b0cdaee21c197a47 = L.popup({&quot;maxWidth&quot;: &quot;100%&quot;});\n",
       "\n",
       "        \n",
       "            \n",
       "                var html_b79ad3a29093087517820d5c830641df = $(`&lt;div id=&quot;html_b79ad3a29093087517820d5c830641df&quot; style=&quot;width: 100.0%; height: 100.0%;&quot;&gt;(&#x27;100&#x27;, 3191)&lt;/div&gt;`)[0];\n",
       "                popup_c5765558d5639348b0cdaee21c197a47.setContent(html_b79ad3a29093087517820d5c830641df);\n",
       "            \n",
       "        \n",
       "\n",
       "        marker_972fa58a4ea50e476cf27460de66a077.bindPopup(popup_c5765558d5639348b0cdaee21c197a47)\n",
       "        ;\n",
       "\n",
       "        \n",
       "    \n",
       "    \n",
       "            var poly_line_294aa6fe467d582343b65f9d1602a27b = L.polyline(\n",
       "                [[42.35977, -71.051601], [42.352175, -71.055547]],\n",
       "                {&quot;bubblingMouseEvents&quot;: true, &quot;color&quot;: &quot;red&quot;, &quot;dashArray&quot;: null, &quot;dashOffset&quot;: null, &quot;fill&quot;: false, &quot;fillColor&quot;: &quot;red&quot;, &quot;fillOpacity&quot;: 0.2, &quot;fillRule&quot;: &quot;evenodd&quot;, &quot;lineCap&quot;: &quot;round&quot;, &quot;lineJoin&quot;: &quot;round&quot;, &quot;noClip&quot;: false, &quot;opacity&quot;: 1, &quot;smoothFactor&quot;: 1.0, &quot;stroke&quot;: true, &quot;weight&quot;: 2.5}\n",
       "            ).addTo(map_6843db6f1b18dd710273ecf99d2283d5);\n",
       "        \n",
       "    \n",
       "            var marker_6a75fc3971e0d5fd9ee8f01eb6667740 = L.marker(\n",
       "                [42.35977, -71.051601],\n",
       "                {}\n",
       "            ).addTo(map_6843db6f1b18dd710273ecf99d2283d5);\n",
       "        \n",
       "    \n",
       "            var icon_31b65f1525905a7336cd8ea6e7db8a3f = L.AwesomeMarkers.icon(\n",
       "                {&quot;extraClasses&quot;: &quot;fa-rotate-0&quot;, &quot;icon&quot;: &quot;bicycle&quot;, &quot;iconColor&quot;: &quot;white&quot;, &quot;markerColor&quot;: &quot;blue&quot;, &quot;prefix&quot;: &quot;fa&quot;}\n",
       "            );\n",
       "            marker_6a75fc3971e0d5fd9ee8f01eb6667740.setIcon(icon_31b65f1525905a7336cd8ea6e7db8a3f);\n",
       "        \n",
       "    \n",
       "        var popup_a3cc071b7a3b84df69b0422c6173b2eb = L.popup({&quot;maxWidth&quot;: &quot;100%&quot;});\n",
       "\n",
       "        \n",
       "            \n",
       "                var html_88c42224c8b4f229903247e5df4cb7f3 = $(`&lt;div id=&quot;html_88c42224c8b4f229903247e5df4cb7f3&quot; style=&quot;width: 100.0%; height: 100.0%;&quot;&gt;(20, 2980)&lt;/div&gt;`)[0];\n",
       "                popup_a3cc071b7a3b84df69b0422c6173b2eb.setContent(html_88c42224c8b4f229903247e5df4cb7f3);\n",
       "            \n",
       "        \n",
       "\n",
       "        marker_6a75fc3971e0d5fd9ee8f01eb6667740.bindPopup(popup_a3cc071b7a3b84df69b0422c6173b2eb)\n",
       "        ;\n",
       "\n",
       "        \n",
       "    \n",
       "    \n",
       "            var marker_35981c15dccfb5cfca58b85deb4f9154 = L.marker(\n",
       "                [42.352175, -71.055547],\n",
       "                {}\n",
       "            ).addTo(map_6843db6f1b18dd710273ecf99d2283d5);\n",
       "        \n",
       "    \n",
       "            var icon_071be0afe0b465783ec6e756fa3e2bcc = L.AwesomeMarkers.icon(\n",
       "                {&quot;extraClasses&quot;: &quot;fa-rotate-0&quot;, &quot;icon&quot;: &quot;bicycle&quot;, &quot;iconColor&quot;: &quot;white&quot;, &quot;markerColor&quot;: &quot;blue&quot;, &quot;prefix&quot;: &quot;fa&quot;}\n",
       "            );\n",
       "            marker_35981c15dccfb5cfca58b85deb4f9154.setIcon(icon_071be0afe0b465783ec6e756fa3e2bcc);\n",
       "        \n",
       "    \n",
       "        var popup_15b00ae811b3f0247ff63a5c4d67f1c3 = L.popup({&quot;maxWidth&quot;: &quot;100%&quot;});\n",
       "\n",
       "        \n",
       "            \n",
       "                var html_4063debaf58e7538365885c4df8db9ff = $(`&lt;div id=&quot;html_4063debaf58e7538365885c4df8db9ff&quot; style=&quot;width: 100.0%; height: 100.0%;&quot;&gt;(&#x27;22&#x27;, 2980)&lt;/div&gt;`)[0];\n",
       "                popup_15b00ae811b3f0247ff63a5c4d67f1c3.setContent(html_4063debaf58e7538365885c4df8db9ff);\n",
       "            \n",
       "        \n",
       "\n",
       "        marker_35981c15dccfb5cfca58b85deb4f9154.bindPopup(popup_15b00ae811b3f0247ff63a5c4d67f1c3)\n",
       "        ;\n",
       "\n",
       "        \n",
       "    \n",
       "    \n",
       "            var poly_line_909a642a9c10b91911bf93d39e78ba01 = L.polyline(\n",
       "                [[42.3581, -71.093198], [42.36346469304347, -71.10057324171066]],\n",
       "                {&quot;bubblingMouseEvents&quot;: true, &quot;color&quot;: &quot;red&quot;, &quot;dashArray&quot;: null, &quot;dashOffset&quot;: null, &quot;fill&quot;: false, &quot;fillColor&quot;: &quot;red&quot;, &quot;fillOpacity&quot;: 0.2, &quot;fillRule&quot;: &quot;evenodd&quot;, &quot;lineCap&quot;: &quot;round&quot;, &quot;lineJoin&quot;: &quot;round&quot;, &quot;noClip&quot;: false, &quot;opacity&quot;: 1, &quot;smoothFactor&quot;: 1.0, &quot;stroke&quot;: true, &quot;weight&quot;: 2.5}\n",
       "            ).addTo(map_6843db6f1b18dd710273ecf99d2283d5);\n",
       "        \n",
       "    \n",
       "            var marker_76fbcdb0a7e04885d6550b0a3367753d = L.marker(\n",
       "                [42.3581, -71.093198],\n",
       "                {}\n",
       "            ).addTo(map_6843db6f1b18dd710273ecf99d2283d5);\n",
       "        \n",
       "    \n",
       "            var icon_9c9d26f99da7423e813ee9f1eb5a68a7 = L.AwesomeMarkers.icon(\n",
       "                {&quot;extraClasses&quot;: &quot;fa-rotate-0&quot;, &quot;icon&quot;: &quot;bicycle&quot;, &quot;iconColor&quot;: &quot;white&quot;, &quot;markerColor&quot;: &quot;blue&quot;, &quot;prefix&quot;: &quot;fa&quot;}\n",
       "            );\n",
       "            marker_76fbcdb0a7e04885d6550b0a3367753d.setIcon(icon_9c9d26f99da7423e813ee9f1eb5a68a7);\n",
       "        \n",
       "    \n",
       "        var popup_6f82550b9a1e829c339f8cd8d0eb3cd2 = L.popup({&quot;maxWidth&quot;: &quot;100%&quot;});\n",
       "\n",
       "        \n",
       "            \n",
       "                var html_a5cb37c6e1f44d8d9abc82d8a9457945 = $(`&lt;div id=&quot;html_a5cb37c6e1f44d8d9abc82d8a9457945&quot; style=&quot;width: 100.0%; height: 100.0%;&quot;&gt;(67, 2886)&lt;/div&gt;`)[0];\n",
       "                popup_6f82550b9a1e829c339f8cd8d0eb3cd2.setContent(html_a5cb37c6e1f44d8d9abc82d8a9457945);\n",
       "            \n",
       "        \n",
       "\n",
       "        marker_76fbcdb0a7e04885d6550b0a3367753d.bindPopup(popup_6f82550b9a1e829c339f8cd8d0eb3cd2)\n",
       "        ;\n",
       "\n",
       "        \n",
       "    \n",
       "    \n",
       "            var marker_951644dab3846dd093899fbc0a2124b0 = L.marker(\n",
       "                [42.36346469304347, -71.10057324171066],\n",
       "                {}\n",
       "            ).addTo(map_6843db6f1b18dd710273ecf99d2283d5);\n",
       "        \n",
       "    \n",
       "            var icon_dd5e98f929352acfe3bd683cf6d80e69 = L.AwesomeMarkers.icon(\n",
       "                {&quot;extraClasses&quot;: &quot;fa-rotate-0&quot;, &quot;icon&quot;: &quot;bicycle&quot;, &quot;iconColor&quot;: &quot;white&quot;, &quot;markerColor&quot;: &quot;blue&quot;, &quot;prefix&quot;: &quot;fa&quot;}\n",
       "            );\n",
       "            marker_951644dab3846dd093899fbc0a2124b0.setIcon(icon_dd5e98f929352acfe3bd683cf6d80e69);\n",
       "        \n",
       "    \n",
       "        var popup_8aa6ab61210e2e6a84408cdcb2008a46 = L.popup({&quot;maxWidth&quot;: &quot;100%&quot;});\n",
       "\n",
       "        \n",
       "            \n",
       "                var html_891d6bf3d396d0aeacb251faae31ca38 = $(`&lt;div id=&quot;html_891d6bf3d396d0aeacb251faae31ca38&quot; style=&quot;width: 100.0%; height: 100.0%;&quot;&gt;(&#x27;75&#x27;, 2886)&lt;/div&gt;`)[0];\n",
       "                popup_8aa6ab61210e2e6a84408cdcb2008a46.setContent(html_891d6bf3d396d0aeacb251faae31ca38);\n",
       "            \n",
       "        \n",
       "\n",
       "        marker_951644dab3846dd093899fbc0a2124b0.bindPopup(popup_8aa6ab61210e2e6a84408cdcb2008a46)\n",
       "        ;\n",
       "\n",
       "        \n",
       "    \n",
       "    \n",
       "            var poly_line_1dddcf986ff8388e698b389e46226e31 = L.polyline(\n",
       "                [[42.3581, -71.093198], [42.373268, -71.118579]],\n",
       "                {&quot;bubblingMouseEvents&quot;: true, &quot;color&quot;: &quot;red&quot;, &quot;dashArray&quot;: null, &quot;dashOffset&quot;: null, &quot;fill&quot;: false, &quot;fillColor&quot;: &quot;red&quot;, &quot;fillOpacity&quot;: 0.2, &quot;fillRule&quot;: &quot;evenodd&quot;, &quot;lineCap&quot;: &quot;round&quot;, &quot;lineJoin&quot;: &quot;round&quot;, &quot;noClip&quot;: false, &quot;opacity&quot;: 1, &quot;smoothFactor&quot;: 1.0, &quot;stroke&quot;: true, &quot;weight&quot;: 2.5}\n",
       "            ).addTo(map_6843db6f1b18dd710273ecf99d2283d5);\n",
       "        \n",
       "    \n",
       "            var marker_5f623131ae4a79f566df70cb63c9c985 = L.marker(\n",
       "                [42.3581, -71.093198],\n",
       "                {}\n",
       "            ).addTo(map_6843db6f1b18dd710273ecf99d2283d5);\n",
       "        \n",
       "    \n",
       "            var icon_9ff20a8c19ddcca79d310d546764c152 = L.AwesomeMarkers.icon(\n",
       "                {&quot;extraClasses&quot;: &quot;fa-rotate-0&quot;, &quot;icon&quot;: &quot;bicycle&quot;, &quot;iconColor&quot;: &quot;white&quot;, &quot;markerColor&quot;: &quot;blue&quot;, &quot;prefix&quot;: &quot;fa&quot;}\n",
       "            );\n",
       "            marker_5f623131ae4a79f566df70cb63c9c985.setIcon(icon_9ff20a8c19ddcca79d310d546764c152);\n",
       "        \n",
       "    \n",
       "        var popup_68796c2c4b0b7e9a5dd33387d33c88d7 = L.popup({&quot;maxWidth&quot;: &quot;100%&quot;});\n",
       "\n",
       "        \n",
       "            \n",
       "                var html_9441ede2b9b9a046ef6ead91fdddb7ad = $(`&lt;div id=&quot;html_9441ede2b9b9a046ef6ead91fdddb7ad&quot; style=&quot;width: 100.0%; height: 100.0%;&quot;&gt;(67, 2692)&lt;/div&gt;`)[0];\n",
       "                popup_68796c2c4b0b7e9a5dd33387d33c88d7.setContent(html_9441ede2b9b9a046ef6ead91fdddb7ad);\n",
       "            \n",
       "        \n",
       "\n",
       "        marker_5f623131ae4a79f566df70cb63c9c985.bindPopup(popup_68796c2c4b0b7e9a5dd33387d33c88d7)\n",
       "        ;\n",
       "\n",
       "        \n",
       "    \n",
       "    \n",
       "            var marker_4ec3c24b94f5214b83c09658ce333554 = L.marker(\n",
       "                [42.373268, -71.118579],\n",
       "                {}\n",
       "            ).addTo(map_6843db6f1b18dd710273ecf99d2283d5);\n",
       "        \n",
       "    \n",
       "            var icon_42a4adeda91a0b1da888e53faef9709e = L.AwesomeMarkers.icon(\n",
       "                {&quot;extraClasses&quot;: &quot;fa-rotate-0&quot;, &quot;icon&quot;: &quot;bicycle&quot;, &quot;iconColor&quot;: &quot;white&quot;, &quot;markerColor&quot;: &quot;blue&quot;, &quot;prefix&quot;: &quot;fa&quot;}\n",
       "            );\n",
       "            marker_4ec3c24b94f5214b83c09658ce333554.setIcon(icon_42a4adeda91a0b1da888e53faef9709e);\n",
       "        \n",
       "    \n",
       "        var popup_c53cd138c11514c5b49794feb4ffa23d = L.popup({&quot;maxWidth&quot;: &quot;100%&quot;});\n",
       "\n",
       "        \n",
       "            \n",
       "                var html_20b7267ab259f751f62d9a9ee92b2141 = $(`&lt;div id=&quot;html_20b7267ab259f751f62d9a9ee92b2141&quot; style=&quot;width: 100.0%; height: 100.0%;&quot;&gt;(&#x27;74&#x27;, 2692)&lt;/div&gt;`)[0];\n",
       "                popup_c53cd138c11514c5b49794feb4ffa23d.setContent(html_20b7267ab259f751f62d9a9ee92b2141);\n",
       "            \n",
       "        \n",
       "\n",
       "        marker_4ec3c24b94f5214b83c09658ce333554.bindPopup(popup_c53cd138c11514c5b49794feb4ffa23d)\n",
       "        ;\n",
       "\n",
       "        \n",
       "    \n",
       "    \n",
       "            var poly_line_64bd23f9ba821096ad6d58012c33ec94 = L.polyline(\n",
       "                [[42.3581, -71.093198], [42.3625, -71.08822]],\n",
       "                {&quot;bubblingMouseEvents&quot;: true, &quot;color&quot;: &quot;red&quot;, &quot;dashArray&quot;: null, &quot;dashOffset&quot;: null, &quot;fill&quot;: false, &quot;fillColor&quot;: &quot;red&quot;, &quot;fillOpacity&quot;: 0.2, &quot;fillRule&quot;: &quot;evenodd&quot;, &quot;lineCap&quot;: &quot;round&quot;, &quot;lineJoin&quot;: &quot;round&quot;, &quot;noClip&quot;: false, &quot;opacity&quot;: 1, &quot;smoothFactor&quot;: 1.0, &quot;stroke&quot;: true, &quot;weight&quot;: 2.5}\n",
       "            ).addTo(map_6843db6f1b18dd710273ecf99d2283d5);\n",
       "        \n",
       "    \n",
       "            var marker_92cf4bdb4365192b030beef6daa93827 = L.marker(\n",
       "                [42.3581, -71.093198],\n",
       "                {}\n",
       "            ).addTo(map_6843db6f1b18dd710273ecf99d2283d5);\n",
       "        \n",
       "    \n",
       "            var icon_fc117492047229566597d6b6634d6b5d = L.AwesomeMarkers.icon(\n",
       "                {&quot;extraClasses&quot;: &quot;fa-rotate-0&quot;, &quot;icon&quot;: &quot;bicycle&quot;, &quot;iconColor&quot;: &quot;white&quot;, &quot;markerColor&quot;: &quot;blue&quot;, &quot;prefix&quot;: &quot;fa&quot;}\n",
       "            );\n",
       "            marker_92cf4bdb4365192b030beef6daa93827.setIcon(icon_fc117492047229566597d6b6634d6b5d);\n",
       "        \n",
       "    \n",
       "        var popup_aeda23d5c2df226fb831b3dc6b7bbd48 = L.popup({&quot;maxWidth&quot;: &quot;100%&quot;});\n",
       "\n",
       "        \n",
       "            \n",
       "                var html_941cca2dc15f829941f04b0b1df44c84 = $(`&lt;div id=&quot;html_941cca2dc15f829941f04b0b1df44c84&quot; style=&quot;width: 100.0%; height: 100.0%;&quot;&gt;(67, 2603)&lt;/div&gt;`)[0];\n",
       "                popup_aeda23d5c2df226fb831b3dc6b7bbd48.setContent(html_941cca2dc15f829941f04b0b1df44c84);\n",
       "            \n",
       "        \n",
       "\n",
       "        marker_92cf4bdb4365192b030beef6daa93827.bindPopup(popup_aeda23d5c2df226fb831b3dc6b7bbd48)\n",
       "        ;\n",
       "\n",
       "        \n",
       "    \n",
       "    \n",
       "            var marker_35c9d790616d99839543b7eda40d6637 = L.marker(\n",
       "                [42.3625, -71.08822],\n",
       "                {}\n",
       "            ).addTo(map_6843db6f1b18dd710273ecf99d2283d5);\n",
       "        \n",
       "    \n",
       "            var icon_2aa952ebf273cd97a6e9592aeb6d8848 = L.AwesomeMarkers.icon(\n",
       "                {&quot;extraClasses&quot;: &quot;fa-rotate-0&quot;, &quot;icon&quot;: &quot;bicycle&quot;, &quot;iconColor&quot;: &quot;white&quot;, &quot;markerColor&quot;: &quot;blue&quot;, &quot;prefix&quot;: &quot;fa&quot;}\n",
       "            );\n",
       "            marker_35c9d790616d99839543b7eda40d6637.setIcon(icon_2aa952ebf273cd97a6e9592aeb6d8848);\n",
       "        \n",
       "    \n",
       "        var popup_f0e98c9ee820c0199f4beaf351355110 = L.popup({&quot;maxWidth&quot;: &quot;100%&quot;});\n",
       "\n",
       "        \n",
       "            \n",
       "                var html_2b58102b61ad55d2c2309a287d256649 = $(`&lt;div id=&quot;html_2b58102b61ad55d2c2309a287d256649&quot; style=&quot;width: 100.0%; height: 100.0%;&quot;&gt;(&#x27;107&#x27;, 2603)&lt;/div&gt;`)[0];\n",
       "                popup_f0e98c9ee820c0199f4beaf351355110.setContent(html_2b58102b61ad55d2c2309a287d256649);\n",
       "            \n",
       "        \n",
       "\n",
       "        marker_35c9d790616d99839543b7eda40d6637.bindPopup(popup_f0e98c9ee820c0199f4beaf351355110)\n",
       "        ;\n",
       "\n",
       "        \n",
       "    \n",
       "    \n",
       "            var poly_line_38ee111764565677ce6c7febd0ca1b1e = L.polyline(\n",
       "                [[42.352175, -71.055547], [42.365942, -71.060515]],\n",
       "                {&quot;bubblingMouseEvents&quot;: true, &quot;color&quot;: &quot;red&quot;, &quot;dashArray&quot;: null, &quot;dashOffset&quot;: null, &quot;fill&quot;: false, &quot;fillColor&quot;: &quot;red&quot;, &quot;fillOpacity&quot;: 0.2, &quot;fillRule&quot;: &quot;evenodd&quot;, &quot;lineCap&quot;: &quot;round&quot;, &quot;lineJoin&quot;: &quot;round&quot;, &quot;noClip&quot;: false, &quot;opacity&quot;: 1, &quot;smoothFactor&quot;: 1.0, &quot;stroke&quot;: true, &quot;weight&quot;: 2.5}\n",
       "            ).addTo(map_6843db6f1b18dd710273ecf99d2283d5);\n",
       "        \n",
       "    \n",
       "            var marker_7381c7f74cdea8954dad3826eb11e166 = L.marker(\n",
       "                [42.352175, -71.055547],\n",
       "                {}\n",
       "            ).addTo(map_6843db6f1b18dd710273ecf99d2283d5);\n",
       "        \n",
       "    \n",
       "            var icon_cbbfaf3245a6bc4e7aeee10fe4f0fef6 = L.AwesomeMarkers.icon(\n",
       "                {&quot;extraClasses&quot;: &quot;fa-rotate-0&quot;, &quot;icon&quot;: &quot;bicycle&quot;, &quot;iconColor&quot;: &quot;white&quot;, &quot;markerColor&quot;: &quot;blue&quot;, &quot;prefix&quot;: &quot;fa&quot;}\n",
       "            );\n",
       "            marker_7381c7f74cdea8954dad3826eb11e166.setIcon(icon_cbbfaf3245a6bc4e7aeee10fe4f0fef6);\n",
       "        \n",
       "    \n",
       "        var popup_e72e2a3d228fe6b47ee1e5988d9369f9 = L.popup({&quot;maxWidth&quot;: &quot;100%&quot;});\n",
       "\n",
       "        \n",
       "            \n",
       "                var html_86f2b7394e2a479c8a934e86face85d7 = $(`&lt;div id=&quot;html_86f2b7394e2a479c8a934e86face85d7&quot; style=&quot;width: 100.0%; height: 100.0%;&quot;&gt;(22, 2380)&lt;/div&gt;`)[0];\n",
       "                popup_e72e2a3d228fe6b47ee1e5988d9369f9.setContent(html_86f2b7394e2a479c8a934e86face85d7);\n",
       "            \n",
       "        \n",
       "\n",
       "        marker_7381c7f74cdea8954dad3826eb11e166.bindPopup(popup_e72e2a3d228fe6b47ee1e5988d9369f9)\n",
       "        ;\n",
       "\n",
       "        \n",
       "    \n",
       "    \n",
       "            var marker_2b1a01207bebb089d0ede91b04dab647 = L.marker(\n",
       "                [42.365942, -71.060515],\n",
       "                {}\n",
       "            ).addTo(map_6843db6f1b18dd710273ecf99d2283d5);\n",
       "        \n",
       "    \n",
       "            var icon_112bf8e171da3c4825444330e67653d8 = L.AwesomeMarkers.icon(\n",
       "                {&quot;extraClasses&quot;: &quot;fa-rotate-0&quot;, &quot;icon&quot;: &quot;bicycle&quot;, &quot;iconColor&quot;: &quot;white&quot;, &quot;markerColor&quot;: &quot;blue&quot;, &quot;prefix&quot;: &quot;fa&quot;}\n",
       "            );\n",
       "            marker_2b1a01207bebb089d0ede91b04dab647.setIcon(icon_112bf8e171da3c4825444330e67653d8);\n",
       "        \n",
       "    \n",
       "        var popup_8d863e9b95ece524390814ddd73baa64 = L.popup({&quot;maxWidth&quot;: &quot;100%&quot;});\n",
       "\n",
       "        \n",
       "            \n",
       "                var html_1a9301a75a267a8ef205677ff10df549 = $(`&lt;div id=&quot;html_1a9301a75a267a8ef205677ff10df549&quot; style=&quot;width: 100.0%; height: 100.0%;&quot;&gt;(&#x27;109&#x27;, 2380)&lt;/div&gt;`)[0];\n",
       "                popup_8d863e9b95ece524390814ddd73baa64.setContent(html_1a9301a75a267a8ef205677ff10df549);\n",
       "            \n",
       "        \n",
       "\n",
       "        marker_2b1a01207bebb089d0ede91b04dab647.bindPopup(popup_8d863e9b95ece524390814ddd73baa64)\n",
       "        ;\n",
       "\n",
       "        \n",
       "    \n",
       "    \n",
       "            var poly_line_90c3cdb03dceb9a5034c8ee4b7c70acd = L.polyline(\n",
       "                [[42.3619622, -71.0920526], [42.36507, -71.1031]],\n",
       "                {&quot;bubblingMouseEvents&quot;: true, &quot;color&quot;: &quot;red&quot;, &quot;dashArray&quot;: null, &quot;dashOffset&quot;: null, &quot;fill&quot;: false, &quot;fillColor&quot;: &quot;red&quot;, &quot;fillOpacity&quot;: 0.2, &quot;fillRule&quot;: &quot;evenodd&quot;, &quot;lineCap&quot;: &quot;round&quot;, &quot;lineJoin&quot;: &quot;round&quot;, &quot;noClip&quot;: false, &quot;opacity&quot;: 1, &quot;smoothFactor&quot;: 1.0, &quot;stroke&quot;: true, &quot;weight&quot;: 2.5}\n",
       "            ).addTo(map_6843db6f1b18dd710273ecf99d2283d5);\n",
       "        \n",
       "    \n",
       "            var marker_63c86d6fcf21ae8661c3c66f1e843e87 = L.marker(\n",
       "                [42.3619622, -71.0920526],\n",
       "                {}\n",
       "            ).addTo(map_6843db6f1b18dd710273ecf99d2283d5);\n",
       "        \n",
       "    \n",
       "            var icon_e487c31a9973a49e77eaff1ff12effbd = L.AwesomeMarkers.icon(\n",
       "                {&quot;extraClasses&quot;: &quot;fa-rotate-0&quot;, &quot;icon&quot;: &quot;bicycle&quot;, &quot;iconColor&quot;: &quot;white&quot;, &quot;markerColor&quot;: &quot;blue&quot;, &quot;prefix&quot;: &quot;fa&quot;}\n",
       "            );\n",
       "            marker_63c86d6fcf21ae8661c3c66f1e843e87.setIcon(icon_e487c31a9973a49e77eaff1ff12effbd);\n",
       "        \n",
       "    \n",
       "        var popup_d0e6354c082f1512c32478b2247165d1 = L.popup({&quot;maxWidth&quot;: &quot;100%&quot;});\n",
       "\n",
       "        \n",
       "            \n",
       "                var html_746e1053cd746e2f6a780efc1b4e8caa = $(`&lt;div id=&quot;html_746e1053cd746e2f6a780efc1b4e8caa&quot; style=&quot;width: 100.0%; height: 100.0%;&quot;&gt;(80, 2319)&lt;/div&gt;`)[0];\n",
       "                popup_d0e6354c082f1512c32478b2247165d1.setContent(html_746e1053cd746e2f6a780efc1b4e8caa);\n",
       "            \n",
       "        \n",
       "\n",
       "        marker_63c86d6fcf21ae8661c3c66f1e843e87.bindPopup(popup_d0e6354c082f1512c32478b2247165d1)\n",
       "        ;\n",
       "\n",
       "        \n",
       "    \n",
       "    \n",
       "            var marker_85b1bfcb83ed440d2475196022f714ba = L.marker(\n",
       "                [42.36507, -71.1031],\n",
       "                {}\n",
       "            ).addTo(map_6843db6f1b18dd710273ecf99d2283d5);\n",
       "        \n",
       "    \n",
       "            var icon_70b05e4335bcf288335115881b9ac1fa = L.AwesomeMarkers.icon(\n",
       "                {&quot;extraClasses&quot;: &quot;fa-rotate-0&quot;, &quot;icon&quot;: &quot;bicycle&quot;, &quot;iconColor&quot;: &quot;white&quot;, &quot;markerColor&quot;: &quot;blue&quot;, &quot;prefix&quot;: &quot;fa&quot;}\n",
       "            );\n",
       "            marker_85b1bfcb83ed440d2475196022f714ba.setIcon(icon_70b05e4335bcf288335115881b9ac1fa);\n",
       "        \n",
       "    \n",
       "        var popup_d88d2003b552b2594ad8b1fb90895f07 = L.popup({&quot;maxWidth&quot;: &quot;100%&quot;});\n",
       "\n",
       "        \n",
       "            \n",
       "                var html_e48fc9ab5975331f8a6230a619dd3d35 = $(`&lt;div id=&quot;html_e48fc9ab5975331f8a6230a619dd3d35&quot; style=&quot;width: 100.0%; height: 100.0%;&quot;&gt;(&#x27;68&#x27;, 2319)&lt;/div&gt;`)[0];\n",
       "                popup_d88d2003b552b2594ad8b1fb90895f07.setContent(html_e48fc9ab5975331f8a6230a619dd3d35);\n",
       "            \n",
       "        \n",
       "\n",
       "        marker_85b1bfcb83ed440d2475196022f714ba.bindPopup(popup_d88d2003b552b2594ad8b1fb90895f07)\n",
       "        ;\n",
       "\n",
       "        \n",
       "    \n",
       "    \n",
       "            var poly_line_59c138cd2a3cf76fc7ba23417f3f44a8 = L.polyline(\n",
       "                [[42.36346469304347, -71.10057324171066], [42.3625, -71.08822]],\n",
       "                {&quot;bubblingMouseEvents&quot;: true, &quot;color&quot;: &quot;red&quot;, &quot;dashArray&quot;: null, &quot;dashOffset&quot;: null, &quot;fill&quot;: false, &quot;fillColor&quot;: &quot;red&quot;, &quot;fillOpacity&quot;: 0.2, &quot;fillRule&quot;: &quot;evenodd&quot;, &quot;lineCap&quot;: &quot;round&quot;, &quot;lineJoin&quot;: &quot;round&quot;, &quot;noClip&quot;: false, &quot;opacity&quot;: 1, &quot;smoothFactor&quot;: 1.0, &quot;stroke&quot;: true, &quot;weight&quot;: 2.5}\n",
       "            ).addTo(map_6843db6f1b18dd710273ecf99d2283d5);\n",
       "        \n",
       "    \n",
       "            var marker_a77aff4835e74f01e32fd4ff27938d50 = L.marker(\n",
       "                [42.36346469304347, -71.10057324171066],\n",
       "                {}\n",
       "            ).addTo(map_6843db6f1b18dd710273ecf99d2283d5);\n",
       "        \n",
       "    \n",
       "            var icon_d49d6cf1012aaf42bcadfa7178344e1e = L.AwesomeMarkers.icon(\n",
       "                {&quot;extraClasses&quot;: &quot;fa-rotate-0&quot;, &quot;icon&quot;: &quot;bicycle&quot;, &quot;iconColor&quot;: &quot;white&quot;, &quot;markerColor&quot;: &quot;blue&quot;, &quot;prefix&quot;: &quot;fa&quot;}\n",
       "            );\n",
       "            marker_a77aff4835e74f01e32fd4ff27938d50.setIcon(icon_d49d6cf1012aaf42bcadfa7178344e1e);\n",
       "        \n",
       "    \n",
       "        var popup_6d6509924ca7785ca9297dc424d5ae15 = L.popup({&quot;maxWidth&quot;: &quot;100%&quot;});\n",
       "\n",
       "        \n",
       "            \n",
       "                var html_9ef8d0929e31f0af39d9720b40e1f7e1 = $(`&lt;div id=&quot;html_9ef8d0929e31f0af39d9720b40e1f7e1&quot; style=&quot;width: 100.0%; height: 100.0%;&quot;&gt;(75, 2292)&lt;/div&gt;`)[0];\n",
       "                popup_6d6509924ca7785ca9297dc424d5ae15.setContent(html_9ef8d0929e31f0af39d9720b40e1f7e1);\n",
       "            \n",
       "        \n",
       "\n",
       "        marker_a77aff4835e74f01e32fd4ff27938d50.bindPopup(popup_6d6509924ca7785ca9297dc424d5ae15)\n",
       "        ;\n",
       "\n",
       "        \n",
       "    \n",
       "    \n",
       "            var marker_67a0037782ce7abbfa9d2b4d9da6e9aa = L.marker(\n",
       "                [42.3625, -71.08822],\n",
       "                {}\n",
       "            ).addTo(map_6843db6f1b18dd710273ecf99d2283d5);\n",
       "        \n",
       "    \n",
       "            var icon_6a0aebc91e4b1983a211872fca175aa4 = L.AwesomeMarkers.icon(\n",
       "                {&quot;extraClasses&quot;: &quot;fa-rotate-0&quot;, &quot;icon&quot;: &quot;bicycle&quot;, &quot;iconColor&quot;: &quot;white&quot;, &quot;markerColor&quot;: &quot;blue&quot;, &quot;prefix&quot;: &quot;fa&quot;}\n",
       "            );\n",
       "            marker_67a0037782ce7abbfa9d2b4d9da6e9aa.setIcon(icon_6a0aebc91e4b1983a211872fca175aa4);\n",
       "        \n",
       "    \n",
       "        var popup_98126446882516a7d9330a547832eec7 = L.popup({&quot;maxWidth&quot;: &quot;100%&quot;});\n",
       "\n",
       "        \n",
       "            \n",
       "                var html_6c10b413f3f17047cf5518f295d281f5 = $(`&lt;div id=&quot;html_6c10b413f3f17047cf5518f295d281f5&quot; style=&quot;width: 100.0%; height: 100.0%;&quot;&gt;(&#x27;107&#x27;, 2292)&lt;/div&gt;`)[0];\n",
       "                popup_98126446882516a7d9330a547832eec7.setContent(html_6c10b413f3f17047cf5518f295d281f5);\n",
       "            \n",
       "        \n",
       "\n",
       "        marker_67a0037782ce7abbfa9d2b4d9da6e9aa.bindPopup(popup_98126446882516a7d9330a547832eec7)\n",
       "        ;\n",
       "\n",
       "        \n",
       "    \n",
       "    \n",
       "            var poly_line_e6f307e04604693af025a6ca0e48f059 = L.polyline(\n",
       "                [[42.352175, -71.055547], [42.362811, -71.056067]],\n",
       "                {&quot;bubblingMouseEvents&quot;: true, &quot;color&quot;: &quot;red&quot;, &quot;dashArray&quot;: null, &quot;dashOffset&quot;: null, &quot;fill&quot;: false, &quot;fillColor&quot;: &quot;red&quot;, &quot;fillOpacity&quot;: 0.2, &quot;fillRule&quot;: &quot;evenodd&quot;, &quot;lineCap&quot;: &quot;round&quot;, &quot;lineJoin&quot;: &quot;round&quot;, &quot;noClip&quot;: false, &quot;opacity&quot;: 1, &quot;smoothFactor&quot;: 1.0, &quot;stroke&quot;: true, &quot;weight&quot;: 2.5}\n",
       "            ).addTo(map_6843db6f1b18dd710273ecf99d2283d5);\n",
       "        \n",
       "    \n",
       "            var marker_4d65d61f5fa8c766968834ff9baf95ad = L.marker(\n",
       "                [42.352175, -71.055547],\n",
       "                {}\n",
       "            ).addTo(map_6843db6f1b18dd710273ecf99d2283d5);\n",
       "        \n",
       "    \n",
       "            var icon_7adf583f9f4c120a57cff87d773d6b91 = L.AwesomeMarkers.icon(\n",
       "                {&quot;extraClasses&quot;: &quot;fa-rotate-0&quot;, &quot;icon&quot;: &quot;bicycle&quot;, &quot;iconColor&quot;: &quot;white&quot;, &quot;markerColor&quot;: &quot;blue&quot;, &quot;prefix&quot;: &quot;fa&quot;}\n",
       "            );\n",
       "            marker_4d65d61f5fa8c766968834ff9baf95ad.setIcon(icon_7adf583f9f4c120a57cff87d773d6b91);\n",
       "        \n",
       "    \n",
       "        var popup_b47a6e010436cafbd328ad536f067a29 = L.popup({&quot;maxWidth&quot;: &quot;100%&quot;});\n",
       "\n",
       "        \n",
       "            \n",
       "                var html_3ccd32cbf7f4347d483b96af43bae18c = $(`&lt;div id=&quot;html_3ccd32cbf7f4347d483b96af43bae18c&quot; style=&quot;width: 100.0%; height: 100.0%;&quot;&gt;(22, 2263)&lt;/div&gt;`)[0];\n",
       "                popup_b47a6e010436cafbd328ad536f067a29.setContent(html_3ccd32cbf7f4347d483b96af43bae18c);\n",
       "            \n",
       "        \n",
       "\n",
       "        marker_4d65d61f5fa8c766968834ff9baf95ad.bindPopup(popup_b47a6e010436cafbd328ad536f067a29)\n",
       "        ;\n",
       "\n",
       "        \n",
       "    \n",
       "    \n",
       "            var marker_747e40b0dc09b757f22b0d8659cf5329 = L.marker(\n",
       "                [42.362811, -71.056067],\n",
       "                {}\n",
       "            ).addTo(map_6843db6f1b18dd710273ecf99d2283d5);\n",
       "        \n",
       "    \n",
       "            var icon_9b0495f8b2c8952adf6f57459e6970c3 = L.AwesomeMarkers.icon(\n",
       "                {&quot;extraClasses&quot;: &quot;fa-rotate-0&quot;, &quot;icon&quot;: &quot;bicycle&quot;, &quot;iconColor&quot;: &quot;white&quot;, &quot;markerColor&quot;: &quot;blue&quot;, &quot;prefix&quot;: &quot;fa&quot;}\n",
       "            );\n",
       "            marker_747e40b0dc09b757f22b0d8659cf5329.setIcon(icon_9b0495f8b2c8952adf6f57459e6970c3);\n",
       "        \n",
       "    \n",
       "        var popup_55da28b435a5802c0f24ef08306191d1 = L.popup({&quot;maxWidth&quot;: &quot;100%&quot;});\n",
       "\n",
       "        \n",
       "            \n",
       "                var html_37392fa21cb08fe7fe842c153f231dd0 = $(`&lt;div id=&quot;html_37392fa21cb08fe7fe842c153f231dd0&quot; style=&quot;width: 100.0%; height: 100.0%;&quot;&gt;(&#x27;47&#x27;, 2263)&lt;/div&gt;`)[0];\n",
       "                popup_55da28b435a5802c0f24ef08306191d1.setContent(html_37392fa21cb08fe7fe842c153f231dd0);\n",
       "            \n",
       "        \n",
       "\n",
       "        marker_747e40b0dc09b757f22b0d8659cf5329.bindPopup(popup_55da28b435a5802c0f24ef08306191d1)\n",
       "        ;\n",
       "\n",
       "        \n",
       "    \n",
       "    \n",
       "            var poly_line_6239973351e3208d9bba9631aa1a83bc = L.polyline(\n",
       "                [[42.36346469304347, -71.10057324171066], [42.3619622, -71.0920526]],\n",
       "                {&quot;bubblingMouseEvents&quot;: true, &quot;color&quot;: &quot;red&quot;, &quot;dashArray&quot;: null, &quot;dashOffset&quot;: null, &quot;fill&quot;: false, &quot;fillColor&quot;: &quot;red&quot;, &quot;fillOpacity&quot;: 0.2, &quot;fillRule&quot;: &quot;evenodd&quot;, &quot;lineCap&quot;: &quot;round&quot;, &quot;lineJoin&quot;: &quot;round&quot;, &quot;noClip&quot;: false, &quot;opacity&quot;: 1, &quot;smoothFactor&quot;: 1.0, &quot;stroke&quot;: true, &quot;weight&quot;: 2.5}\n",
       "            ).addTo(map_6843db6f1b18dd710273ecf99d2283d5);\n",
       "        \n",
       "    \n",
       "            var marker_6e1ea102cdd8fa2976452b30b57a77fc = L.marker(\n",
       "                [42.36346469304347, -71.10057324171066],\n",
       "                {}\n",
       "            ).addTo(map_6843db6f1b18dd710273ecf99d2283d5);\n",
       "        \n",
       "    \n",
       "            var icon_b77651d6ff29b32bacafc618ac15fda7 = L.AwesomeMarkers.icon(\n",
       "                {&quot;extraClasses&quot;: &quot;fa-rotate-0&quot;, &quot;icon&quot;: &quot;bicycle&quot;, &quot;iconColor&quot;: &quot;white&quot;, &quot;markerColor&quot;: &quot;blue&quot;, &quot;prefix&quot;: &quot;fa&quot;}\n",
       "            );\n",
       "            marker_6e1ea102cdd8fa2976452b30b57a77fc.setIcon(icon_b77651d6ff29b32bacafc618ac15fda7);\n",
       "        \n",
       "    \n",
       "        var popup_22c6e83908990f42a102da36bba823b4 = L.popup({&quot;maxWidth&quot;: &quot;100%&quot;});\n",
       "\n",
       "        \n",
       "            \n",
       "                var html_4ba7ac988fd5850cd90f306ea07cd8a4 = $(`&lt;div id=&quot;html_4ba7ac988fd5850cd90f306ea07cd8a4&quot; style=&quot;width: 100.0%; height: 100.0%;&quot;&gt;(75, 2244)&lt;/div&gt;`)[0];\n",
       "                popup_22c6e83908990f42a102da36bba823b4.setContent(html_4ba7ac988fd5850cd90f306ea07cd8a4);\n",
       "            \n",
       "        \n",
       "\n",
       "        marker_6e1ea102cdd8fa2976452b30b57a77fc.bindPopup(popup_22c6e83908990f42a102da36bba823b4)\n",
       "        ;\n",
       "\n",
       "        \n",
       "    \n",
       "    \n",
       "            var marker_275bd10d4180dbf04f6aff9fcc3e9563 = L.marker(\n",
       "                [42.3619622, -71.0920526],\n",
       "                {}\n",
       "            ).addTo(map_6843db6f1b18dd710273ecf99d2283d5);\n",
       "        \n",
       "    \n",
       "            var icon_e59f92beb3156266204b2ffc059da42d = L.AwesomeMarkers.icon(\n",
       "                {&quot;extraClasses&quot;: &quot;fa-rotate-0&quot;, &quot;icon&quot;: &quot;bicycle&quot;, &quot;iconColor&quot;: &quot;white&quot;, &quot;markerColor&quot;: &quot;blue&quot;, &quot;prefix&quot;: &quot;fa&quot;}\n",
       "            );\n",
       "            marker_275bd10d4180dbf04f6aff9fcc3e9563.setIcon(icon_e59f92beb3156266204b2ffc059da42d);\n",
       "        \n",
       "    \n",
       "        var popup_5832423b5bb97c9e678ce6b77578954f = L.popup({&quot;maxWidth&quot;: &quot;100%&quot;});\n",
       "\n",
       "        \n",
       "            \n",
       "                var html_3dd062d869cea6bd58a7a2a68861573a = $(`&lt;div id=&quot;html_3dd062d869cea6bd58a7a2a68861573a&quot; style=&quot;width: 100.0%; height: 100.0%;&quot;&gt;(&#x27;80&#x27;, 2244)&lt;/div&gt;`)[0];\n",
       "                popup_5832423b5bb97c9e678ce6b77578954f.setContent(html_3dd062d869cea6bd58a7a2a68861573a);\n",
       "            \n",
       "        \n",
       "\n",
       "        marker_275bd10d4180dbf04f6aff9fcc3e9563.bindPopup(popup_5832423b5bb97c9e678ce6b77578954f)\n",
       "        ;\n",
       "\n",
       "        \n",
       "    \n",
       "    \n",
       "            var poly_line_4ba53bc10e377abda4683587ff16adf9 = L.polyline(\n",
       "                [[42.373268, -71.118579], [42.380287, -71.125107]],\n",
       "                {&quot;bubblingMouseEvents&quot;: true, &quot;color&quot;: &quot;red&quot;, &quot;dashArray&quot;: null, &quot;dashOffset&quot;: null, &quot;fill&quot;: false, &quot;fillColor&quot;: &quot;red&quot;, &quot;fillOpacity&quot;: 0.2, &quot;fillRule&quot;: &quot;evenodd&quot;, &quot;lineCap&quot;: &quot;round&quot;, &quot;lineJoin&quot;: &quot;round&quot;, &quot;noClip&quot;: false, &quot;opacity&quot;: 1, &quot;smoothFactor&quot;: 1.0, &quot;stroke&quot;: true, &quot;weight&quot;: 2.5}\n",
       "            ).addTo(map_6843db6f1b18dd710273ecf99d2283d5);\n",
       "        \n",
       "    \n",
       "            var marker_b77c57a49a6c056c8d575dbb683dc697 = L.marker(\n",
       "                [42.373268, -71.118579],\n",
       "                {}\n",
       "            ).addTo(map_6843db6f1b18dd710273ecf99d2283d5);\n",
       "        \n",
       "    \n",
       "            var icon_23b7ffa006dc6f1933553cc59ce9fb46 = L.AwesomeMarkers.icon(\n",
       "                {&quot;extraClasses&quot;: &quot;fa-rotate-0&quot;, &quot;icon&quot;: &quot;bicycle&quot;, &quot;iconColor&quot;: &quot;white&quot;, &quot;markerColor&quot;: &quot;blue&quot;, &quot;prefix&quot;: &quot;fa&quot;}\n",
       "            );\n",
       "            marker_b77c57a49a6c056c8d575dbb683dc697.setIcon(icon_23b7ffa006dc6f1933553cc59ce9fb46);\n",
       "        \n",
       "    \n",
       "        var popup_0cd06ec3e7c19160eeb0728ef786a68a = L.popup({&quot;maxWidth&quot;: &quot;100%&quot;});\n",
       "\n",
       "        \n",
       "            \n",
       "                var html_faa5689f7ab74961174fe65aa2d32f6e = $(`&lt;div id=&quot;html_faa5689f7ab74961174fe65aa2d32f6e&quot; style=&quot;width: 100.0%; height: 100.0%;&quot;&gt;(74, 2181)&lt;/div&gt;`)[0];\n",
       "                popup_0cd06ec3e7c19160eeb0728ef786a68a.setContent(html_faa5689f7ab74961174fe65aa2d32f6e);\n",
       "            \n",
       "        \n",
       "\n",
       "        marker_b77c57a49a6c056c8d575dbb683dc697.bindPopup(popup_0cd06ec3e7c19160eeb0728ef786a68a)\n",
       "        ;\n",
       "\n",
       "        \n",
       "    \n",
       "    \n",
       "            var marker_b0d8fadbecb2fe93cbd4eadb980e4fde = L.marker(\n",
       "                [42.380287, -71.125107],\n",
       "                {}\n",
       "            ).addTo(map_6843db6f1b18dd710273ecf99d2283d5);\n",
       "        \n",
       "    \n",
       "            var icon_307e926ceea36a89b9e662ab5ff9f6f5 = L.AwesomeMarkers.icon(\n",
       "                {&quot;extraClasses&quot;: &quot;fa-rotate-0&quot;, &quot;icon&quot;: &quot;bicycle&quot;, &quot;iconColor&quot;: &quot;white&quot;, &quot;markerColor&quot;: &quot;blue&quot;, &quot;prefix&quot;: &quot;fa&quot;}\n",
       "            );\n",
       "            marker_b0d8fadbecb2fe93cbd4eadb980e4fde.setIcon(icon_307e926ceea36a89b9e662ab5ff9f6f5);\n",
       "        \n",
       "    \n",
       "        var popup_33d343a2b1528da30417ef7b87e47685 = L.popup({&quot;maxWidth&quot;: &quot;100%&quot;});\n",
       "\n",
       "        \n",
       "            \n",
       "                var html_27ef358ae0e60d5d26344f105d934c83 = $(`&lt;div id=&quot;html_27ef358ae0e60d5d26344f105d934c83&quot; style=&quot;width: 100.0%; height: 100.0%;&quot;&gt;(&#x27;104&#x27;, 2181)&lt;/div&gt;`)[0];\n",
       "                popup_33d343a2b1528da30417ef7b87e47685.setContent(html_27ef358ae0e60d5d26344f105d934c83);\n",
       "            \n",
       "        \n",
       "\n",
       "        marker_b0d8fadbecb2fe93cbd4eadb980e4fde.bindPopup(popup_33d343a2b1528da30417ef7b87e47685)\n",
       "        ;\n",
       "\n",
       "        \n",
       "    \n",
       "    \n",
       "            var poly_line_23980fd65aaf7c46a1325ca682798a72 = L.polyline(\n",
       "                [[42.3581, -71.093198], [42.3619622, -71.0920526]],\n",
       "                {&quot;bubblingMouseEvents&quot;: true, &quot;color&quot;: &quot;red&quot;, &quot;dashArray&quot;: null, &quot;dashOffset&quot;: null, &quot;fill&quot;: false, &quot;fillColor&quot;: &quot;red&quot;, &quot;fillOpacity&quot;: 0.2, &quot;fillRule&quot;: &quot;evenodd&quot;, &quot;lineCap&quot;: &quot;round&quot;, &quot;lineJoin&quot;: &quot;round&quot;, &quot;noClip&quot;: false, &quot;opacity&quot;: 1, &quot;smoothFactor&quot;: 1.0, &quot;stroke&quot;: true, &quot;weight&quot;: 2.5}\n",
       "            ).addTo(map_6843db6f1b18dd710273ecf99d2283d5);\n",
       "        \n",
       "    \n",
       "            var marker_675f2f1c3f0628e1fe115a0ba807bf78 = L.marker(\n",
       "                [42.3581, -71.093198],\n",
       "                {}\n",
       "            ).addTo(map_6843db6f1b18dd710273ecf99d2283d5);\n",
       "        \n",
       "    \n",
       "            var icon_b0a4b8afcaced071e235ab0f1f4779f0 = L.AwesomeMarkers.icon(\n",
       "                {&quot;extraClasses&quot;: &quot;fa-rotate-0&quot;, &quot;icon&quot;: &quot;bicycle&quot;, &quot;iconColor&quot;: &quot;white&quot;, &quot;markerColor&quot;: &quot;blue&quot;, &quot;prefix&quot;: &quot;fa&quot;}\n",
       "            );\n",
       "            marker_675f2f1c3f0628e1fe115a0ba807bf78.setIcon(icon_b0a4b8afcaced071e235ab0f1f4779f0);\n",
       "        \n",
       "    \n",
       "        var popup_ad2c02c7d57f8e4ed742470ab87b0b09 = L.popup({&quot;maxWidth&quot;: &quot;100%&quot;});\n",
       "\n",
       "        \n",
       "            \n",
       "                var html_de202a4fad17d326c585c238637165f9 = $(`&lt;div id=&quot;html_de202a4fad17d326c585c238637165f9&quot; style=&quot;width: 100.0%; height: 100.0%;&quot;&gt;(67, 2110)&lt;/div&gt;`)[0];\n",
       "                popup_ad2c02c7d57f8e4ed742470ab87b0b09.setContent(html_de202a4fad17d326c585c238637165f9);\n",
       "            \n",
       "        \n",
       "\n",
       "        marker_675f2f1c3f0628e1fe115a0ba807bf78.bindPopup(popup_ad2c02c7d57f8e4ed742470ab87b0b09)\n",
       "        ;\n",
       "\n",
       "        \n",
       "    \n",
       "    \n",
       "            var marker_fcd69c194e960ec2271380bef410c75e = L.marker(\n",
       "                [42.3619622, -71.0920526],\n",
       "                {}\n",
       "            ).addTo(map_6843db6f1b18dd710273ecf99d2283d5);\n",
       "        \n",
       "    \n",
       "            var icon_6957ad19157a7e92ecd37065f88d1a45 = L.AwesomeMarkers.icon(\n",
       "                {&quot;extraClasses&quot;: &quot;fa-rotate-0&quot;, &quot;icon&quot;: &quot;bicycle&quot;, &quot;iconColor&quot;: &quot;white&quot;, &quot;markerColor&quot;: &quot;blue&quot;, &quot;prefix&quot;: &quot;fa&quot;}\n",
       "            );\n",
       "            marker_fcd69c194e960ec2271380bef410c75e.setIcon(icon_6957ad19157a7e92ecd37065f88d1a45);\n",
       "        \n",
       "    \n",
       "        var popup_752fd4ea6f1bff616a63c051b3977ee1 = L.popup({&quot;maxWidth&quot;: &quot;100%&quot;});\n",
       "\n",
       "        \n",
       "            \n",
       "                var html_cf7ef865644e58a2b5636023af926e7e = $(`&lt;div id=&quot;html_cf7ef865644e58a2b5636023af926e7e&quot; style=&quot;width: 100.0%; height: 100.0%;&quot;&gt;(&#x27;80&#x27;, 2110)&lt;/div&gt;`)[0];\n",
       "                popup_752fd4ea6f1bff616a63c051b3977ee1.setContent(html_cf7ef865644e58a2b5636023af926e7e);\n",
       "            \n",
       "        \n",
       "\n",
       "        marker_fcd69c194e960ec2271380bef410c75e.bindPopup(popup_752fd4ea6f1bff616a63c051b3977ee1)\n",
       "        ;\n",
       "\n",
       "        \n",
       "    \n",
       "&lt;/script&gt;\n",
       "&lt;/html&gt;\" width=\"800\" height=\"500\"style=\"border:none !important;\" \"allowfullscreen\" \"webkitallowfullscreen\" \"mozallowfullscreen\"></iframe>"
      ],
      "text/plain": [
       "<folium.folium.Map at 0x7f98fc538880>"
      ]
     },
     "execution_count": 25,
     "metadata": {},
     "output_type": "execute_result"
    }
   ],
   "source": [
    "#mapping the top trips \n",
    "\n",
    "avg_lat = df_trips['start_station_latitude'].mean()\n",
    "avg_long = df_trips['start_station_longitude'].mean()\n",
    "\n",
    "fig_trips = folium.Figure(width = 800, height = 500)\n",
    "map_trips = folium.Map(location=[avg_lat, avg_long], zoom_start=12).add_to(fig_trips)\n",
    "\n",
    "points = []\n",
    "\n",
    "for i in range(0,len(df_top_trips)):\n",
    "    points.append([df_top_trips.iloc[i]['start_station_latitude'],df_top_trips.iloc[i]['start_station_longitude']])\n",
    "    points.append([df_top_trips.iloc[i]['end_station_latitude'],df_top_trips.iloc[i]['end_station_longitude']])\n",
    "    folium.PolyLine(points, color=\"red\", weight=2.5, opacity=1).add_to(map_trips)\n",
    "    folium.Marker([df_top_trips.iloc[i]['start_station_latitude'],df_top_trips.iloc[i]['start_station_longitude']],popup=(df_top_trips.iloc[i]['Station_A'], df_top_trips.iloc[i]['count_trips' ]), icon = folium.Icon(color='blue',prefix='fa', icon='bicycle')).add_to(map_trips)\n",
    "    folium.Marker([df_top_trips.iloc[i]['end_station_latitude'],df_top_trips.iloc[i]['end_station_longitude']],popup=(df_top_trips.iloc[i]['Station_B'], df_top_trips.iloc[i]['count_trips' ]), icon = folium.Icon(color='blue',prefix='fa', icon='bicycle')).add_to(map_trips)\n",
    "    points = [] #if points is not reseted then each station will be connected with every other station in array\n",
    "\n",
    "map_trips\n"
   ]
  },
  {
   "attachments": {},
   "cell_type": "markdown",
   "metadata": {},
   "source": [
    "Again we can observe, that the most frequently used trips happen to be in the areas around the city center, as well as inbetween and around the universitiets harvard and MIT. Especially, the station located directly at the MIT (ID = 67) and the station at the main station of boston (ID = 22) seem to be major connection points for bike usage. This is not surprising as they also have the biggest overall share of rides during the year. \n",
    "\n",
    "However, there are also two majorly used routes in the north-west of the city around the Davis square. This might be the due to its proximity to Tufts University in the north-west of boston as well as the underground connection from davis square to both other universities as well as the city center. "
   ]
  }
 ],
 "metadata": {
  "kernelspec": {
   "display_name": "AAproject",
   "language": "python",
   "name": "python3"
  },
  "language_info": {
   "codemirror_mode": {
    "name": "ipython",
    "version": 3
   },
   "file_extension": ".py",
   "mimetype": "text/x-python",
   "name": "python",
   "nbconvert_exporter": "python",
   "pygments_lexer": "ipython3",
   "version": "3.9.15"
  },
  "orig_nbformat": 4,
  "vscode": {
   "interpreter": {
    "hash": "4bda6f00b1c96ac5a9a9d5d0da9c426f670222a35f5423f5287bfe0ddc8184d4"
   }
  }
 },
 "nbformat": 4,
 "nbformat_minor": 2
}
