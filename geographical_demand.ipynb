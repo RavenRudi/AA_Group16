{
 "cells": [
  {
   "cell_type": "code",
   "execution_count": 2,
   "metadata": {},
   "outputs": [],
   "source": [
    "import pandas as pd\n",
    "import numpy as np\n",
    "import folium\n",
    "import plotly.express as px\n",
    "import seaborn as sns\n",
    "from folium import plugins\n",
    "from folium.plugins import HeatMap"
   ]
  },
  {
   "attachments": {},
   "cell_type": "markdown",
   "metadata": {},
   "source": [
    "# Load processed dataframe"
   ]
  },
  {
   "cell_type": "code",
   "execution_count": 3,
   "metadata": {},
   "outputs": [
    {
     "name": "stdout",
     "output_type": "stream",
     "text": [
      "<class 'pandas.core.frame.DataFrame'>\n",
      "RangeIndex: 1122554 entries, 0 to 1122553\n",
      "Data columns (total 14 columns):\n",
      " #   Column                   Non-Null Count    Dtype         \n",
      "---  ------                   --------------    -----         \n",
      " 0   start_time               1122554 non-null  datetime64[ns]\n",
      " 1   end_time                 1122554 non-null  datetime64[ns]\n",
      " 2   start_station_id         1122554 non-null  int64         \n",
      " 3   end_station_id           1122554 non-null  string        \n",
      " 4   start_station_name       1122554 non-null  string        \n",
      " 5   end_station_name         1122554 non-null  string        \n",
      " 6   bike_id                  1122554 non-null  int64         \n",
      " 7   user_type                1122554 non-null  string        \n",
      " 8   trip_length              1122554 non-null  float64       \n",
      " 9   start_station_latitude   1122554 non-null  float64       \n",
      " 10  start_station_longitude  1122554 non-null  float64       \n",
      " 11  end_station_latitude     1122554 non-null  float64       \n",
      " 12  end_station_longitude    1122554 non-null  float64       \n",
      " 13  date_time                1122554 non-null  object        \n",
      "dtypes: datetime64[ns](2), float64(5), int64(2), object(1), string(4)\n",
      "memory usage: 119.9+ MB\n"
     ]
    }
   ],
   "source": [
    "df_boston = pd.read_csv('./data/prepared/rides_data_prepared.csv', dtype={'start_station_id': np.int64, 'end_station_id': 'string', 'end_station_name': 'string', 'start_station_name': 'string', 'bike_id': np.int64, 'user_type': 'string'})\n",
    "df_boston['start_time'] = pd.to_datetime(df_boston['start_time'], format='%Y-%m-%d %X')\n",
    "df_boston['end_time'] = pd.to_datetime(df_boston['end_time'], format='%Y-%m-%d %X')\n",
    "df_boston.info()"
   ]
  },
  {
   "attachments": {},
   "cell_type": "markdown",
   "metadata": {},
   "source": [
    "# Station analysis"
   ]
  },
  {
   "attachments": {},
   "cell_type": "markdown",
   "metadata": {},
   "source": [
    "## Starts stations volume  per year\n",
    "Visualization which contains information on how many rides start at a respective station per year"
   ]
  },
  {
   "cell_type": "code",
   "execution_count": 4,
   "metadata": {},
   "outputs": [
    {
     "data": {
      "application/vnd.plotly.v1+json": {
       "config": {
        "plotlyServerURL": "https://plot.ly"
       },
       "data": [
        {
         "hovertemplate": "counts_start=%{marker.color}<br>start_station_latitude=%{lat}<br>start_station_longitude=%{lon}<extra></extra>",
         "lat": [
          42.387151,
          42.340021,
          42.345392,
          42.341814,
          42.361174,
          42.35328743453294,
          42.353334,
          42.351246,
          42.350406,
          42.338629,
          42.335911,
          42.336437,
          42.337171,
          42.361667,
          42.34807412317439,
          42.365064,
          42.347241,
          42.35977,
          42.345959,
          42.352175,
          42.35892,
          42.351205,
          42.341332,
          42.341522,
          42.331184,
          42.363732,
          42.334073,
          42.348833,
          42.343912,
          42.348706,
          42.355402,
          42.349673,
          42.357402,
          42.366222,
          42.338623,
          42.363871,
          42.352261,
          42.352033,
          42.357143,
          42.360613,
          42.344706,
          42.343864,
          42.362811,
          42.356755,
          42.351146,
          42.350989,
          42.3348756,
          42.348717,
          42.350851,
          42.354979,
          42.347265,
          42.328654,
          42.340799,
          42.355596,
          42.351356,
          42.360835,
          42.348762,
          42.344023,
          42.3511,
          42.3475,
          42.348607,
          42.3581,
          42.36507,
          42.341598,
          42.371196,
          42.383405,
          42.362613,
          42.373231,
          42.373268,
          42.36346469304347,
          42.366426,
          42.386844,
          42.379637,
          42.37842,
          42.3619622,
          42.352409,
          42.339335,
          42.366981,
          42.378338,
          42.332799,
          42.366621,
          42.374035,
          42.379011,
          42.370677,
          42.366277,
          42.314507,
          42.320494,
          42.375603,
          42.372969,
          42.373379,
          42.36919031768079,
          42.371848,
          42.385582,
          42.396969,
          42.400877,
          42.346563,
          42.380287,
          42.356954,
          42.325333,
          42.3625,
          42.377945,
          42.365942,
          42.376369,
          42.40449,
          42.39082,
          42.330716,
          42.402763,
          42.387995,
          42.370803,
          42.366095,
          42.397828,
          42.335741,
          42.356052,
          42.335693,
          42.345733,
          42.313156,
          42.309054,
          42.320998,
          42.315692,
          42.320561,
          42.377022,
          42.317225,
          42.322701,
          42.394002,
          42.310579,
          42.350413,
          42.344827,
          42.344796,
          42.398365,
          42.326599,
          42.361589,
          42.388966,
          42.36356015842989,
          42.396105,
          42.369885,
          42.392766,
          42.363796,
          42.344137,
          42.358155,
          42.345901,
          42.32797270205962,
          42.337596,
          42.3391085,
          42.309796,
          42.344792,
          42.317642,
          42.378965,
          42.303469,
          42.37408991426522,
          42.34900494405213,
          42.34894857235593,
          42.38674802045056,
          42.36264779118595,
          42.35957320109044,
          42.35560121327927,
          42.37478628706384
         ],
         "legendgroup": "",
         "lon": [
          -71.075978,
          -71.100812,
          -71.069616,
          -71.090179,
          -71.065142,
          -71.04438900947571,
          -71.137313,
          -71.115639,
          -71.108279,
          -71.1065,
          -71.088496,
          -71.073089,
          -71.102797,
          -71.13802,
          -71.07657015323639,
          -71.119233,
          -71.105301,
          -71.051601,
          -71.082578,
          -71.055547,
          -71.057629,
          -71.043983,
          -71.076847,
          -71.068922,
          -71.095171,
          -71.124565,
          -71.105221,
          -71.041747,
          -71.102221,
          -71.097009,
          -71.058087,
          -71.077303,
          -71.147782,
          -71.059914,
          -71.074182,
          -71.050877,
          -71.123831,
          -71.070627,
          -71.050699,
          -71.057452,
          -71.097515,
          -71.085918,
          -71.056067,
          -71.055407,
          -71.066289,
          -71.073644,
          -71.0790969,
          -71.085954,
          -71.089886,
          -71.063348,
          -71.088088,
          -71.084198,
          -71.081572,
          -71.07278,
          -71.059367,
          -71.0708399,
          -71.082383,
          -71.057054,
          -71.0496,
          -71.0441,
          -71.13401,
          -71.093198,
          -71.1031,
          -71.123338,
          -71.121473,
          -71.107593,
          -71.084105,
          -71.120886,
          -71.118579,
          -71.10057324171066,
          -71.105495,
          -71.09812,
          -71.095319,
          -71.105668,
          -71.0920526,
          -71.062679,
          -71.13493,
          -71.076472,
          -71.048927,
          -71.116205,
          -71.114214,
          -71.101427,
          -71.119945,
          -71.076529,
          -71.09169,
          -71.041269,
          -71.051122,
          -71.064608,
          -71.094445,
          -71.111075,
          -71.11714124679565,
          -71.060292,
          -71.113341,
          -71.123024,
          -71.116772,
          -71.128374,
          -71.125107,
          -71.113687,
          -71.075354,
          -71.08822,
          -71.116865,
          -71.060515,
          -71.114025,
          -71.123413,
          -71.10942,
          -71.057044,
          -71.126908,
          -71.119084,
          -71.104412,
          -71.086388,
          -71.130516,
          -71.03877,
          -71.069849,
          -71.045859,
          -71.100694,
          -71.11414,
          -71.11543,
          -71.110833,
          -71.098634,
          -71.06198,
          -71.056605,
          -71.065421,
          -71.099533,
          -71.120406,
          -71.107341,
          -71.07655,
          -71.028664,
          -71.031614,
          -71.107818,
          -71.066498,
          -71.107437,
          -71.132788,
          -71.08216792345047,
          -71.139459,
          -71.069957,
          -71.129042,
          -71.129164,
          -71.052608,
          -71.052163,
          -71.063187,
          -71.11089706420898,
          -71.096391,
          -71.0514432,
          -71.092225,
          -71.044024,
          -71.056664,
          -71.068607,
          -71.085347,
          -71.06905996799469,
          -71.1604106426239,
          -71.15027189254761,
          -71.11901879310608,
          -71.10006093978882,
          -71.10129475593567,
          -71.10394477844238,
          -71.13320231437683
         ],
         "marker": {
          "color": [
           56,
           5018,
           9512,
           6175,
           13018,
           4725,
           3692,
           8505,
           7237,
           7868,
           6364,
           8917,
           9529,
           2028,
           16706,
           6540,
           6841,
           12324,
           12611,
           30798,
           14419,
           6591,
           8093,
           9105,
           4285,
           3088,
           5292,
           7414,
           7761,
           14515,
           10305,
           19291,
           1246,
           11839,
           9377,
           11232,
           7826,
           13130,
           12612,
           7356,
           9788,
           11884,
           14686,
           10844,
           7703,
           8869,
           2833,
           10405,
           13867,
           12413,
           11334,
           1636,
           8676,
           13212,
           8346,
           17291,
           12654,
           3568,
           9623,
           4774,
           5126,
           29597,
           21444,
           6215,
           7916,
           5320,
           14491,
           10572,
           22679,
           19366,
           14245,
           2052,
           6237,
           4618,
           16882,
           10343,
           3194,
           10120,
           4964,
           4017,
           10039,
           13272,
           6395,
           10910,
           14141,
           658,
           1442,
           6064,
           10397,
           9764,
           6178,
           11411,
           3758,
           10176,
           1700,
           3348,
           6415,
           11253,
           624,
           14748,
           7825,
           18678,
           9458,
           1861,
           2387,
           2688,
           3258,
           10712,
           9162,
           7060,
           5649,
           4382,
           9357,
           4898,
           2891,
           2096,
           2071,
           3458,
           1148,
           703,
           2447,
           761,
           3141,
           1565,
           3154,
           5766,
           3260,
           3906,
           1266,
           1196,
           5896,
           2831,
           6607,
           3537,
           5875,
           1452,
           5127,
           5196,
           7137,
           5773,
           192,
           748,
           706,
           65,
           558,
           88,
           653,
           46,
           280,
           116,
           240,
           287,
           858,
           1197,
           894,
           253
          ],
          "coloraxis": "coloraxis",
          "size": [
           56,
           5018,
           9512,
           6175,
           13018,
           4725,
           3692,
           8505,
           7237,
           7868,
           6364,
           8917,
           9529,
           2028,
           16706,
           6540,
           6841,
           12324,
           12611,
           30798,
           14419,
           6591,
           8093,
           9105,
           4285,
           3088,
           5292,
           7414,
           7761,
           14515,
           10305,
           19291,
           1246,
           11839,
           9377,
           11232,
           7826,
           13130,
           12612,
           7356,
           9788,
           11884,
           14686,
           10844,
           7703,
           8869,
           2833,
           10405,
           13867,
           12413,
           11334,
           1636,
           8676,
           13212,
           8346,
           17291,
           12654,
           3568,
           9623,
           4774,
           5126,
           29597,
           21444,
           6215,
           7916,
           5320,
           14491,
           10572,
           22679,
           19366,
           14245,
           2052,
           6237,
           4618,
           16882,
           10343,
           3194,
           10120,
           4964,
           4017,
           10039,
           13272,
           6395,
           10910,
           14141,
           658,
           1442,
           6064,
           10397,
           9764,
           6178,
           11411,
           3758,
           10176,
           1700,
           3348,
           6415,
           11253,
           624,
           14748,
           7825,
           18678,
           9458,
           1861,
           2387,
           2688,
           3258,
           10712,
           9162,
           7060,
           5649,
           4382,
           9357,
           4898,
           2891,
           2096,
           2071,
           3458,
           1148,
           703,
           2447,
           761,
           3141,
           1565,
           3154,
           5766,
           3260,
           3906,
           1266,
           1196,
           5896,
           2831,
           6607,
           3537,
           5875,
           1452,
           5127,
           5196,
           7137,
           5773,
           192,
           748,
           706,
           65,
           558,
           88,
           653,
           46,
           280,
           116,
           240,
           287,
           858,
           1197,
           894,
           253
          ],
          "sizemode": "area",
          "sizeref": 76.995
         },
         "mode": "markers",
         "name": "",
         "showlegend": false,
         "subplot": "mapbox",
         "type": "scattermapbox"
        }
       ],
       "layout": {
        "coloraxis": {
         "colorbar": {
          "title": {
           "text": "counts_start"
          }
         },
         "colorscale": [
          [
           0,
           "orange"
          ],
          [
           1,
           "red"
          ]
         ]
        },
        "height": 800,
        "legend": {
         "itemsizing": "constant",
         "tracegroupgap": 0
        },
        "mapbox": {
         "center": {
          "lat": 42.355539267132464,
          "lon": -71.08955563028009
         },
         "domain": {
          "x": [
           0,
           1
          ],
          "y": [
           0,
           1
          ]
         },
         "style": "open-street-map",
         "zoom": 8
        },
        "margin": {
         "b": 0,
         "l": 0,
         "r": 0,
         "t": 0
        },
        "template": {
         "data": {
          "bar": [
           {
            "error_x": {
             "color": "#2a3f5f"
            },
            "error_y": {
             "color": "#2a3f5f"
            },
            "marker": {
             "line": {
              "color": "#E5ECF6",
              "width": 0.5
             },
             "pattern": {
              "fillmode": "overlay",
              "size": 10,
              "solidity": 0.2
             }
            },
            "type": "bar"
           }
          ],
          "barpolar": [
           {
            "marker": {
             "line": {
              "color": "#E5ECF6",
              "width": 0.5
             },
             "pattern": {
              "fillmode": "overlay",
              "size": 10,
              "solidity": 0.2
             }
            },
            "type": "barpolar"
           }
          ],
          "carpet": [
           {
            "aaxis": {
             "endlinecolor": "#2a3f5f",
             "gridcolor": "white",
             "linecolor": "white",
             "minorgridcolor": "white",
             "startlinecolor": "#2a3f5f"
            },
            "baxis": {
             "endlinecolor": "#2a3f5f",
             "gridcolor": "white",
             "linecolor": "white",
             "minorgridcolor": "white",
             "startlinecolor": "#2a3f5f"
            },
            "type": "carpet"
           }
          ],
          "choropleth": [
           {
            "colorbar": {
             "outlinewidth": 0,
             "ticks": ""
            },
            "type": "choropleth"
           }
          ],
          "contour": [
           {
            "colorbar": {
             "outlinewidth": 0,
             "ticks": ""
            },
            "colorscale": [
             [
              0,
              "#0d0887"
             ],
             [
              0.1111111111111111,
              "#46039f"
             ],
             [
              0.2222222222222222,
              "#7201a8"
             ],
             [
              0.3333333333333333,
              "#9c179e"
             ],
             [
              0.4444444444444444,
              "#bd3786"
             ],
             [
              0.5555555555555556,
              "#d8576b"
             ],
             [
              0.6666666666666666,
              "#ed7953"
             ],
             [
              0.7777777777777778,
              "#fb9f3a"
             ],
             [
              0.8888888888888888,
              "#fdca26"
             ],
             [
              1,
              "#f0f921"
             ]
            ],
            "type": "contour"
           }
          ],
          "contourcarpet": [
           {
            "colorbar": {
             "outlinewidth": 0,
             "ticks": ""
            },
            "type": "contourcarpet"
           }
          ],
          "heatmap": [
           {
            "colorbar": {
             "outlinewidth": 0,
             "ticks": ""
            },
            "colorscale": [
             [
              0,
              "#0d0887"
             ],
             [
              0.1111111111111111,
              "#46039f"
             ],
             [
              0.2222222222222222,
              "#7201a8"
             ],
             [
              0.3333333333333333,
              "#9c179e"
             ],
             [
              0.4444444444444444,
              "#bd3786"
             ],
             [
              0.5555555555555556,
              "#d8576b"
             ],
             [
              0.6666666666666666,
              "#ed7953"
             ],
             [
              0.7777777777777778,
              "#fb9f3a"
             ],
             [
              0.8888888888888888,
              "#fdca26"
             ],
             [
              1,
              "#f0f921"
             ]
            ],
            "type": "heatmap"
           }
          ],
          "heatmapgl": [
           {
            "colorbar": {
             "outlinewidth": 0,
             "ticks": ""
            },
            "colorscale": [
             [
              0,
              "#0d0887"
             ],
             [
              0.1111111111111111,
              "#46039f"
             ],
             [
              0.2222222222222222,
              "#7201a8"
             ],
             [
              0.3333333333333333,
              "#9c179e"
             ],
             [
              0.4444444444444444,
              "#bd3786"
             ],
             [
              0.5555555555555556,
              "#d8576b"
             ],
             [
              0.6666666666666666,
              "#ed7953"
             ],
             [
              0.7777777777777778,
              "#fb9f3a"
             ],
             [
              0.8888888888888888,
              "#fdca26"
             ],
             [
              1,
              "#f0f921"
             ]
            ],
            "type": "heatmapgl"
           }
          ],
          "histogram": [
           {
            "marker": {
             "pattern": {
              "fillmode": "overlay",
              "size": 10,
              "solidity": 0.2
             }
            },
            "type": "histogram"
           }
          ],
          "histogram2d": [
           {
            "colorbar": {
             "outlinewidth": 0,
             "ticks": ""
            },
            "colorscale": [
             [
              0,
              "#0d0887"
             ],
             [
              0.1111111111111111,
              "#46039f"
             ],
             [
              0.2222222222222222,
              "#7201a8"
             ],
             [
              0.3333333333333333,
              "#9c179e"
             ],
             [
              0.4444444444444444,
              "#bd3786"
             ],
             [
              0.5555555555555556,
              "#d8576b"
             ],
             [
              0.6666666666666666,
              "#ed7953"
             ],
             [
              0.7777777777777778,
              "#fb9f3a"
             ],
             [
              0.8888888888888888,
              "#fdca26"
             ],
             [
              1,
              "#f0f921"
             ]
            ],
            "type": "histogram2d"
           }
          ],
          "histogram2dcontour": [
           {
            "colorbar": {
             "outlinewidth": 0,
             "ticks": ""
            },
            "colorscale": [
             [
              0,
              "#0d0887"
             ],
             [
              0.1111111111111111,
              "#46039f"
             ],
             [
              0.2222222222222222,
              "#7201a8"
             ],
             [
              0.3333333333333333,
              "#9c179e"
             ],
             [
              0.4444444444444444,
              "#bd3786"
             ],
             [
              0.5555555555555556,
              "#d8576b"
             ],
             [
              0.6666666666666666,
              "#ed7953"
             ],
             [
              0.7777777777777778,
              "#fb9f3a"
             ],
             [
              0.8888888888888888,
              "#fdca26"
             ],
             [
              1,
              "#f0f921"
             ]
            ],
            "type": "histogram2dcontour"
           }
          ],
          "mesh3d": [
           {
            "colorbar": {
             "outlinewidth": 0,
             "ticks": ""
            },
            "type": "mesh3d"
           }
          ],
          "parcoords": [
           {
            "line": {
             "colorbar": {
              "outlinewidth": 0,
              "ticks": ""
             }
            },
            "type": "parcoords"
           }
          ],
          "pie": [
           {
            "automargin": true,
            "type": "pie"
           }
          ],
          "scatter": [
           {
            "fillpattern": {
             "fillmode": "overlay",
             "size": 10,
             "solidity": 0.2
            },
            "type": "scatter"
           }
          ],
          "scatter3d": [
           {
            "line": {
             "colorbar": {
              "outlinewidth": 0,
              "ticks": ""
             }
            },
            "marker": {
             "colorbar": {
              "outlinewidth": 0,
              "ticks": ""
             }
            },
            "type": "scatter3d"
           }
          ],
          "scattercarpet": [
           {
            "marker": {
             "colorbar": {
              "outlinewidth": 0,
              "ticks": ""
             }
            },
            "type": "scattercarpet"
           }
          ],
          "scattergeo": [
           {
            "marker": {
             "colorbar": {
              "outlinewidth": 0,
              "ticks": ""
             }
            },
            "type": "scattergeo"
           }
          ],
          "scattergl": [
           {
            "marker": {
             "colorbar": {
              "outlinewidth": 0,
              "ticks": ""
             }
            },
            "type": "scattergl"
           }
          ],
          "scattermapbox": [
           {
            "marker": {
             "colorbar": {
              "outlinewidth": 0,
              "ticks": ""
             }
            },
            "type": "scattermapbox"
           }
          ],
          "scatterpolar": [
           {
            "marker": {
             "colorbar": {
              "outlinewidth": 0,
              "ticks": ""
             }
            },
            "type": "scatterpolar"
           }
          ],
          "scatterpolargl": [
           {
            "marker": {
             "colorbar": {
              "outlinewidth": 0,
              "ticks": ""
             }
            },
            "type": "scatterpolargl"
           }
          ],
          "scatterternary": [
           {
            "marker": {
             "colorbar": {
              "outlinewidth": 0,
              "ticks": ""
             }
            },
            "type": "scatterternary"
           }
          ],
          "surface": [
           {
            "colorbar": {
             "outlinewidth": 0,
             "ticks": ""
            },
            "colorscale": [
             [
              0,
              "#0d0887"
             ],
             [
              0.1111111111111111,
              "#46039f"
             ],
             [
              0.2222222222222222,
              "#7201a8"
             ],
             [
              0.3333333333333333,
              "#9c179e"
             ],
             [
              0.4444444444444444,
              "#bd3786"
             ],
             [
              0.5555555555555556,
              "#d8576b"
             ],
             [
              0.6666666666666666,
              "#ed7953"
             ],
             [
              0.7777777777777778,
              "#fb9f3a"
             ],
             [
              0.8888888888888888,
              "#fdca26"
             ],
             [
              1,
              "#f0f921"
             ]
            ],
            "type": "surface"
           }
          ],
          "table": [
           {
            "cells": {
             "fill": {
              "color": "#EBF0F8"
             },
             "line": {
              "color": "white"
             }
            },
            "header": {
             "fill": {
              "color": "#C8D4E3"
             },
             "line": {
              "color": "white"
             }
            },
            "type": "table"
           }
          ]
         },
         "layout": {
          "annotationdefaults": {
           "arrowcolor": "#2a3f5f",
           "arrowhead": 0,
           "arrowwidth": 1
          },
          "autotypenumbers": "strict",
          "coloraxis": {
           "colorbar": {
            "outlinewidth": 0,
            "ticks": ""
           }
          },
          "colorscale": {
           "diverging": [
            [
             0,
             "#8e0152"
            ],
            [
             0.1,
             "#c51b7d"
            ],
            [
             0.2,
             "#de77ae"
            ],
            [
             0.3,
             "#f1b6da"
            ],
            [
             0.4,
             "#fde0ef"
            ],
            [
             0.5,
             "#f7f7f7"
            ],
            [
             0.6,
             "#e6f5d0"
            ],
            [
             0.7,
             "#b8e186"
            ],
            [
             0.8,
             "#7fbc41"
            ],
            [
             0.9,
             "#4d9221"
            ],
            [
             1,
             "#276419"
            ]
           ],
           "sequential": [
            [
             0,
             "#0d0887"
            ],
            [
             0.1111111111111111,
             "#46039f"
            ],
            [
             0.2222222222222222,
             "#7201a8"
            ],
            [
             0.3333333333333333,
             "#9c179e"
            ],
            [
             0.4444444444444444,
             "#bd3786"
            ],
            [
             0.5555555555555556,
             "#d8576b"
            ],
            [
             0.6666666666666666,
             "#ed7953"
            ],
            [
             0.7777777777777778,
             "#fb9f3a"
            ],
            [
             0.8888888888888888,
             "#fdca26"
            ],
            [
             1,
             "#f0f921"
            ]
           ],
           "sequentialminus": [
            [
             0,
             "#0d0887"
            ],
            [
             0.1111111111111111,
             "#46039f"
            ],
            [
             0.2222222222222222,
             "#7201a8"
            ],
            [
             0.3333333333333333,
             "#9c179e"
            ],
            [
             0.4444444444444444,
             "#bd3786"
            ],
            [
             0.5555555555555556,
             "#d8576b"
            ],
            [
             0.6666666666666666,
             "#ed7953"
            ],
            [
             0.7777777777777778,
             "#fb9f3a"
            ],
            [
             0.8888888888888888,
             "#fdca26"
            ],
            [
             1,
             "#f0f921"
            ]
           ]
          },
          "colorway": [
           "#636efa",
           "#EF553B",
           "#00cc96",
           "#ab63fa",
           "#FFA15A",
           "#19d3f3",
           "#FF6692",
           "#B6E880",
           "#FF97FF",
           "#FECB52"
          ],
          "font": {
           "color": "#2a3f5f"
          },
          "geo": {
           "bgcolor": "white",
           "lakecolor": "white",
           "landcolor": "#E5ECF6",
           "showlakes": true,
           "showland": true,
           "subunitcolor": "white"
          },
          "hoverlabel": {
           "align": "left"
          },
          "hovermode": "closest",
          "mapbox": {
           "style": "light"
          },
          "paper_bgcolor": "white",
          "plot_bgcolor": "#E5ECF6",
          "polar": {
           "angularaxis": {
            "gridcolor": "white",
            "linecolor": "white",
            "ticks": ""
           },
           "bgcolor": "#E5ECF6",
           "radialaxis": {
            "gridcolor": "white",
            "linecolor": "white",
            "ticks": ""
           }
          },
          "scene": {
           "xaxis": {
            "backgroundcolor": "#E5ECF6",
            "gridcolor": "white",
            "gridwidth": 2,
            "linecolor": "white",
            "showbackground": true,
            "ticks": "",
            "zerolinecolor": "white"
           },
           "yaxis": {
            "backgroundcolor": "#E5ECF6",
            "gridcolor": "white",
            "gridwidth": 2,
            "linecolor": "white",
            "showbackground": true,
            "ticks": "",
            "zerolinecolor": "white"
           },
           "zaxis": {
            "backgroundcolor": "#E5ECF6",
            "gridcolor": "white",
            "gridwidth": 2,
            "linecolor": "white",
            "showbackground": true,
            "ticks": "",
            "zerolinecolor": "white"
           }
          },
          "shapedefaults": {
           "line": {
            "color": "#2a3f5f"
           }
          },
          "ternary": {
           "aaxis": {
            "gridcolor": "white",
            "linecolor": "white",
            "ticks": ""
           },
           "baxis": {
            "gridcolor": "white",
            "linecolor": "white",
            "ticks": ""
           },
           "bgcolor": "#E5ECF6",
           "caxis": {
            "gridcolor": "white",
            "linecolor": "white",
            "ticks": ""
           }
          },
          "title": {
           "x": 0.05
          },
          "xaxis": {
           "automargin": true,
           "gridcolor": "white",
           "linecolor": "white",
           "ticks": "",
           "title": {
            "standoff": 15
           },
           "zerolinecolor": "white",
           "zerolinewidth": 2
          },
          "yaxis": {
           "automargin": true,
           "gridcolor": "white",
           "linecolor": "white",
           "ticks": "",
           "title": {
            "standoff": 15
           },
           "zerolinecolor": "white",
           "zerolinewidth": 2
          }
         }
        },
        "width": 800
       }
      }
     },
     "metadata": {},
     "output_type": "display_data"
    }
   ],
   "source": [
    "df_start = df_boston.groupby(['start_station_id','start_station_latitude', 'start_station_longitude']).size().reset_index(name='counts_start')\n",
    "\n",
    "\n",
    "color_scale = [(0, 'orange'), (1,'red')]\n",
    "\n",
    "fig = px.scatter_mapbox(df_start, \n",
    "                        lat=\"start_station_latitude\", \n",
    "                        lon=\"start_station_longitude\", \n",
    "                        color='counts_start',\n",
    "                        color_continuous_scale=color_scale,\n",
    "                        size='counts_start',\n",
    "                        zoom=8, \n",
    "                        height=800,\n",
    "                        width=800)\n",
    "\n",
    "\n",
    "fig.update_layout(mapbox_style=\"open-street-map\")\n",
    "fig.update_layout(margin={\"r\":0,\"t\":0,\"l\":0,\"b\":0})\n",
    "fig.show()"
   ]
  },
  {
   "attachments": {},
   "cell_type": "markdown",
   "metadata": {},
   "source": [
    "## End station rides volume\n",
    "Visualization which contains information on how many rides end at a respective station per year"
   ]
  },
  {
   "cell_type": "code",
   "execution_count": 5,
   "metadata": {},
   "outputs": [
    {
     "data": {
      "application/vnd.plotly.v1+json": {
       "config": {
        "plotlyServerURL": "https://plot.ly"
       },
       "data": [
        {
         "hovertemplate": "counts_end=%{marker.color}<br>end_station_latitude=%{lat}<br>end_station_longitude=%{lon}<extra></extra>",
         "lat": [
          42.387151,
          42.350406,
          42.396969,
          42.400877,
          42.346563,
          42.380287,
          42.356954,
          42.325333,
          42.3625,
          42.377945,
          42.365942,
          42.338629,
          42.376369,
          42.40449,
          42.39082,
          42.330716,
          42.402763,
          42.387995,
          42.370803,
          42.366095,
          42.397828,
          42.335741,
          42.335911,
          42.356052,
          42.335693,
          42.345733,
          42.313156,
          42.309054,
          42.320998,
          42.315692,
          42.320561,
          42.377022,
          42.336437,
          42.317225,
          42.322701,
          42.394002,
          42.310579,
          42.350413,
          42.344827,
          42.344796,
          42.398365,
          42.326599,
          42.361589,
          42.337171,
          42.388966,
          42.36356015842989,
          42.396105,
          42.369885,
          42.392766,
          42.363796,
          42.361667,
          42.344137,
          42.358155,
          42.345901,
          42.32797270205962,
          42.34807412317439,
          42.337596,
          42.3391085,
          42.309796,
          42.344792,
          42.317642,
          42.378965,
          42.365064,
          42.303469,
          42.37408991426522,
          42.34900494405213,
          42.34894857235593,
          42.38674802045056,
          42.36264779118595,
          42.35957320109044,
          42.35560121327927,
          42.37478628706384,
          42.347241,
          42.35977,
          42.345959,
          42.352175,
          42.35892,
          42.351205,
          42.341332,
          42.341522,
          42.331184,
          42.363732,
          42.340021,
          42.334073,
          42.348833,
          42.343912,
          42.348706,
          42.355402,
          42.349673,
          42.357402,
          42.366222,
          42.338623,
          42.345392,
          42.363871,
          42.352261,
          42.352033,
          42.357143,
          42.360613,
          42.344706,
          42.343864,
          42.362811,
          42.356755,
          42.351146,
          42.341814,
          42.350989,
          42.3348756,
          42.348717,
          42.350851,
          42.354979,
          42.347265,
          42.328654,
          42.340799,
          42.355596,
          42.351356,
          42.361174,
          42.360835,
          42.348762,
          42.344023,
          42.3511,
          42.3475,
          42.348607,
          42.3581,
          42.36507,
          42.341598,
          42.35328743453294,
          42.371196,
          42.383405,
          42.362613,
          42.373231,
          42.373268,
          42.36346469304347,
          42.366426,
          42.386844,
          42.379637,
          42.37842,
          42.353334,
          42.3619622,
          42.352409,
          42.339335,
          42.366981,
          42.378338,
          42.332799,
          42.366621,
          42.374035,
          42.379011,
          42.351246,
          42.370677,
          42.366277,
          42.314507,
          42.320494,
          42.375603,
          42.372969,
          42.373379,
          42.36919031768079,
          42.371848,
          42.385582
         ],
         "legendgroup": "",
         "lon": [
          -71.075978,
          -71.108279,
          -71.123024,
          -71.116772,
          -71.128374,
          -71.125107,
          -71.113687,
          -71.075354,
          -71.08822,
          -71.116865,
          -71.060515,
          -71.1065,
          -71.114025,
          -71.123413,
          -71.10942,
          -71.057044,
          -71.126908,
          -71.119084,
          -71.104412,
          -71.086388,
          -71.130516,
          -71.03877,
          -71.088496,
          -71.069849,
          -71.045859,
          -71.100694,
          -71.11414,
          -71.11543,
          -71.110833,
          -71.098634,
          -71.06198,
          -71.056605,
          -71.073089,
          -71.065421,
          -71.099533,
          -71.120406,
          -71.107341,
          -71.07655,
          -71.028664,
          -71.031614,
          -71.107818,
          -71.066498,
          -71.107437,
          -71.102797,
          -71.132788,
          -71.08216792345047,
          -71.139459,
          -71.069957,
          -71.129042,
          -71.129164,
          -71.13802,
          -71.052608,
          -71.052163,
          -71.063187,
          -71.11089706420898,
          -71.07657015323639,
          -71.096391,
          -71.0514432,
          -71.092225,
          -71.044024,
          -71.056664,
          -71.068607,
          -71.119233,
          -71.085347,
          -71.06905996799469,
          -71.1604106426239,
          -71.15027189254761,
          -71.11901879310608,
          -71.10006093978882,
          -71.10129475593567,
          -71.10394477844238,
          -71.13320231437683,
          -71.105301,
          -71.051601,
          -71.082578,
          -71.055547,
          -71.057629,
          -71.043983,
          -71.076847,
          -71.068922,
          -71.095171,
          -71.124565,
          -71.100812,
          -71.105221,
          -71.041747,
          -71.102221,
          -71.097009,
          -71.058087,
          -71.077303,
          -71.147782,
          -71.059914,
          -71.074182,
          -71.069616,
          -71.050877,
          -71.123831,
          -71.070627,
          -71.050699,
          -71.057452,
          -71.097515,
          -71.085918,
          -71.056067,
          -71.055407,
          -71.066289,
          -71.090179,
          -71.073644,
          -71.0790969,
          -71.085954,
          -71.089886,
          -71.063348,
          -71.088088,
          -71.084198,
          -71.081572,
          -71.07278,
          -71.059367,
          -71.065142,
          -71.0708399,
          -71.082383,
          -71.057054,
          -71.0496,
          -71.0441,
          -71.13401,
          -71.093198,
          -71.1031,
          -71.123338,
          -71.04438900947571,
          -71.121473,
          -71.107593,
          -71.084105,
          -71.120886,
          -71.118579,
          -71.10057324171066,
          -71.105495,
          -71.09812,
          -71.095319,
          -71.105668,
          -71.137313,
          -71.0920526,
          -71.062679,
          -71.13493,
          -71.076472,
          -71.048927,
          -71.116205,
          -71.114214,
          -71.101427,
          -71.119945,
          -71.115639,
          -71.076529,
          -71.09169,
          -71.041269,
          -71.051122,
          -71.064608,
          -71.094445,
          -71.111075,
          -71.11714124679565,
          -71.060292,
          -71.113341
         ],
         "marker": {
          "color": [
           154,
           7630,
           11822,
           1590,
           2862,
           6220,
           11181,
           569,
           15146,
           7898,
           20524,
           8897,
           9560,
           1781,
           1673,
           2536,
           2110,
           10342,
           7912,
           6922,
           5480,
           4593,
           6454,
           8886,
           4416,
           3107,
           2290,
           2072,
           3133,
           896,
           779,
           2619,
           9041,
           609,
           2932,
           1775,
           3300,
           5851,
           3366,
           4018,
           1352,
           1322,
           5404,
           9368,
           2792,
           6622,
           3676,
           5822,
           1527,
           4933,
           2156,
           5254,
           7392,
           5813,
           142,
           15878,
           736,
           733,
           40,
           511,
           99,
           584,
           6369,
           39,
           239,
           127,
           229,
           317,
           760,
           1079,
           835,
           244,
           7089,
           11841,
           12913,
           31284,
           13568,
           6181,
           7307,
           9081,
           4055,
           3194,
           5007,
           5118,
           7095,
           7984,
           14661,
           10178,
           19874,
           1309,
           14900,
           9596,
           8975,
           10789,
           7623,
           14052,
           12548,
           7140,
           9765,
           11674,
           13723,
           11174,
           7823,
           6289,
           9390,
           2926,
           10223,
           13384,
           12452,
           11244,
           1629,
           7796,
           12930,
           8838,
           12632,
           16850,
           12668,
           3584,
           10734,
           4647,
           4535,
           29905,
           20886,
           6200,
           5284,
           8541,
           5246,
           13990,
           10806,
           23590,
           19056,
           13936,
           1782,
           6587,
           4375,
           3764,
           21720,
           10535,
           2587,
           10657,
           5111,
           4220,
           8926,
           12103,
           6333,
           8768,
           11007,
           13498,
           659,
           1624,
           5603,
           9657,
           9553,
           6197,
           10700,
           3536
          ],
          "coloraxis": "coloraxis",
          "size": [
           154,
           7630,
           11822,
           1590,
           2862,
           6220,
           11181,
           569,
           15146,
           7898,
           20524,
           8897,
           9560,
           1781,
           1673,
           2536,
           2110,
           10342,
           7912,
           6922,
           5480,
           4593,
           6454,
           8886,
           4416,
           3107,
           2290,
           2072,
           3133,
           896,
           779,
           2619,
           9041,
           609,
           2932,
           1775,
           3300,
           5851,
           3366,
           4018,
           1352,
           1322,
           5404,
           9368,
           2792,
           6622,
           3676,
           5822,
           1527,
           4933,
           2156,
           5254,
           7392,
           5813,
           142,
           15878,
           736,
           733,
           40,
           511,
           99,
           584,
           6369,
           39,
           239,
           127,
           229,
           317,
           760,
           1079,
           835,
           244,
           7089,
           11841,
           12913,
           31284,
           13568,
           6181,
           7307,
           9081,
           4055,
           3194,
           5007,
           5118,
           7095,
           7984,
           14661,
           10178,
           19874,
           1309,
           14900,
           9596,
           8975,
           10789,
           7623,
           14052,
           12548,
           7140,
           9765,
           11674,
           13723,
           11174,
           7823,
           6289,
           9390,
           2926,
           10223,
           13384,
           12452,
           11244,
           1629,
           7796,
           12930,
           8838,
           12632,
           16850,
           12668,
           3584,
           10734,
           4647,
           4535,
           29905,
           20886,
           6200,
           5284,
           8541,
           5246,
           13990,
           10806,
           23590,
           19056,
           13936,
           1782,
           6587,
           4375,
           3764,
           21720,
           10535,
           2587,
           10657,
           5111,
           4220,
           8926,
           12103,
           6333,
           8768,
           11007,
           13498,
           659,
           1624,
           5603,
           9657,
           9553,
           6197,
           10700,
           3536
          ],
          "sizemode": "area",
          "sizeref": 78.21
         },
         "mode": "markers",
         "name": "",
         "showlegend": false,
         "subplot": "mapbox",
         "type": "scattermapbox"
        }
       ],
       "layout": {
        "coloraxis": {
         "colorbar": {
          "title": {
           "text": "counts_end"
          }
         },
         "colorscale": [
          [
           0,
           "orange"
          ],
          [
           1,
           "red"
          ]
         ]
        },
        "height": 800,
        "legend": {
         "itemsizing": "constant",
         "tracegroupgap": 0
        },
        "mapbox": {
         "center": {
          "lat": 42.355539267132464,
          "lon": -71.08955563028009
         },
         "domain": {
          "x": [
           0,
           1
          ],
          "y": [
           0,
           1
          ]
         },
         "style": "open-street-map",
         "zoom": 8
        },
        "margin": {
         "b": 0,
         "l": 0,
         "r": 0,
         "t": 0
        },
        "template": {
         "data": {
          "bar": [
           {
            "error_x": {
             "color": "#2a3f5f"
            },
            "error_y": {
             "color": "#2a3f5f"
            },
            "marker": {
             "line": {
              "color": "#E5ECF6",
              "width": 0.5
             },
             "pattern": {
              "fillmode": "overlay",
              "size": 10,
              "solidity": 0.2
             }
            },
            "type": "bar"
           }
          ],
          "barpolar": [
           {
            "marker": {
             "line": {
              "color": "#E5ECF6",
              "width": 0.5
             },
             "pattern": {
              "fillmode": "overlay",
              "size": 10,
              "solidity": 0.2
             }
            },
            "type": "barpolar"
           }
          ],
          "carpet": [
           {
            "aaxis": {
             "endlinecolor": "#2a3f5f",
             "gridcolor": "white",
             "linecolor": "white",
             "minorgridcolor": "white",
             "startlinecolor": "#2a3f5f"
            },
            "baxis": {
             "endlinecolor": "#2a3f5f",
             "gridcolor": "white",
             "linecolor": "white",
             "minorgridcolor": "white",
             "startlinecolor": "#2a3f5f"
            },
            "type": "carpet"
           }
          ],
          "choropleth": [
           {
            "colorbar": {
             "outlinewidth": 0,
             "ticks": ""
            },
            "type": "choropleth"
           }
          ],
          "contour": [
           {
            "colorbar": {
             "outlinewidth": 0,
             "ticks": ""
            },
            "colorscale": [
             [
              0,
              "#0d0887"
             ],
             [
              0.1111111111111111,
              "#46039f"
             ],
             [
              0.2222222222222222,
              "#7201a8"
             ],
             [
              0.3333333333333333,
              "#9c179e"
             ],
             [
              0.4444444444444444,
              "#bd3786"
             ],
             [
              0.5555555555555556,
              "#d8576b"
             ],
             [
              0.6666666666666666,
              "#ed7953"
             ],
             [
              0.7777777777777778,
              "#fb9f3a"
             ],
             [
              0.8888888888888888,
              "#fdca26"
             ],
             [
              1,
              "#f0f921"
             ]
            ],
            "type": "contour"
           }
          ],
          "contourcarpet": [
           {
            "colorbar": {
             "outlinewidth": 0,
             "ticks": ""
            },
            "type": "contourcarpet"
           }
          ],
          "heatmap": [
           {
            "colorbar": {
             "outlinewidth": 0,
             "ticks": ""
            },
            "colorscale": [
             [
              0,
              "#0d0887"
             ],
             [
              0.1111111111111111,
              "#46039f"
             ],
             [
              0.2222222222222222,
              "#7201a8"
             ],
             [
              0.3333333333333333,
              "#9c179e"
             ],
             [
              0.4444444444444444,
              "#bd3786"
             ],
             [
              0.5555555555555556,
              "#d8576b"
             ],
             [
              0.6666666666666666,
              "#ed7953"
             ],
             [
              0.7777777777777778,
              "#fb9f3a"
             ],
             [
              0.8888888888888888,
              "#fdca26"
             ],
             [
              1,
              "#f0f921"
             ]
            ],
            "type": "heatmap"
           }
          ],
          "heatmapgl": [
           {
            "colorbar": {
             "outlinewidth": 0,
             "ticks": ""
            },
            "colorscale": [
             [
              0,
              "#0d0887"
             ],
             [
              0.1111111111111111,
              "#46039f"
             ],
             [
              0.2222222222222222,
              "#7201a8"
             ],
             [
              0.3333333333333333,
              "#9c179e"
             ],
             [
              0.4444444444444444,
              "#bd3786"
             ],
             [
              0.5555555555555556,
              "#d8576b"
             ],
             [
              0.6666666666666666,
              "#ed7953"
             ],
             [
              0.7777777777777778,
              "#fb9f3a"
             ],
             [
              0.8888888888888888,
              "#fdca26"
             ],
             [
              1,
              "#f0f921"
             ]
            ],
            "type": "heatmapgl"
           }
          ],
          "histogram": [
           {
            "marker": {
             "pattern": {
              "fillmode": "overlay",
              "size": 10,
              "solidity": 0.2
             }
            },
            "type": "histogram"
           }
          ],
          "histogram2d": [
           {
            "colorbar": {
             "outlinewidth": 0,
             "ticks": ""
            },
            "colorscale": [
             [
              0,
              "#0d0887"
             ],
             [
              0.1111111111111111,
              "#46039f"
             ],
             [
              0.2222222222222222,
              "#7201a8"
             ],
             [
              0.3333333333333333,
              "#9c179e"
             ],
             [
              0.4444444444444444,
              "#bd3786"
             ],
             [
              0.5555555555555556,
              "#d8576b"
             ],
             [
              0.6666666666666666,
              "#ed7953"
             ],
             [
              0.7777777777777778,
              "#fb9f3a"
             ],
             [
              0.8888888888888888,
              "#fdca26"
             ],
             [
              1,
              "#f0f921"
             ]
            ],
            "type": "histogram2d"
           }
          ],
          "histogram2dcontour": [
           {
            "colorbar": {
             "outlinewidth": 0,
             "ticks": ""
            },
            "colorscale": [
             [
              0,
              "#0d0887"
             ],
             [
              0.1111111111111111,
              "#46039f"
             ],
             [
              0.2222222222222222,
              "#7201a8"
             ],
             [
              0.3333333333333333,
              "#9c179e"
             ],
             [
              0.4444444444444444,
              "#bd3786"
             ],
             [
              0.5555555555555556,
              "#d8576b"
             ],
             [
              0.6666666666666666,
              "#ed7953"
             ],
             [
              0.7777777777777778,
              "#fb9f3a"
             ],
             [
              0.8888888888888888,
              "#fdca26"
             ],
             [
              1,
              "#f0f921"
             ]
            ],
            "type": "histogram2dcontour"
           }
          ],
          "mesh3d": [
           {
            "colorbar": {
             "outlinewidth": 0,
             "ticks": ""
            },
            "type": "mesh3d"
           }
          ],
          "parcoords": [
           {
            "line": {
             "colorbar": {
              "outlinewidth": 0,
              "ticks": ""
             }
            },
            "type": "parcoords"
           }
          ],
          "pie": [
           {
            "automargin": true,
            "type": "pie"
           }
          ],
          "scatter": [
           {
            "fillpattern": {
             "fillmode": "overlay",
             "size": 10,
             "solidity": 0.2
            },
            "type": "scatter"
           }
          ],
          "scatter3d": [
           {
            "line": {
             "colorbar": {
              "outlinewidth": 0,
              "ticks": ""
             }
            },
            "marker": {
             "colorbar": {
              "outlinewidth": 0,
              "ticks": ""
             }
            },
            "type": "scatter3d"
           }
          ],
          "scattercarpet": [
           {
            "marker": {
             "colorbar": {
              "outlinewidth": 0,
              "ticks": ""
             }
            },
            "type": "scattercarpet"
           }
          ],
          "scattergeo": [
           {
            "marker": {
             "colorbar": {
              "outlinewidth": 0,
              "ticks": ""
             }
            },
            "type": "scattergeo"
           }
          ],
          "scattergl": [
           {
            "marker": {
             "colorbar": {
              "outlinewidth": 0,
              "ticks": ""
             }
            },
            "type": "scattergl"
           }
          ],
          "scattermapbox": [
           {
            "marker": {
             "colorbar": {
              "outlinewidth": 0,
              "ticks": ""
             }
            },
            "type": "scattermapbox"
           }
          ],
          "scatterpolar": [
           {
            "marker": {
             "colorbar": {
              "outlinewidth": 0,
              "ticks": ""
             }
            },
            "type": "scatterpolar"
           }
          ],
          "scatterpolargl": [
           {
            "marker": {
             "colorbar": {
              "outlinewidth": 0,
              "ticks": ""
             }
            },
            "type": "scatterpolargl"
           }
          ],
          "scatterternary": [
           {
            "marker": {
             "colorbar": {
              "outlinewidth": 0,
              "ticks": ""
             }
            },
            "type": "scatterternary"
           }
          ],
          "surface": [
           {
            "colorbar": {
             "outlinewidth": 0,
             "ticks": ""
            },
            "colorscale": [
             [
              0,
              "#0d0887"
             ],
             [
              0.1111111111111111,
              "#46039f"
             ],
             [
              0.2222222222222222,
              "#7201a8"
             ],
             [
              0.3333333333333333,
              "#9c179e"
             ],
             [
              0.4444444444444444,
              "#bd3786"
             ],
             [
              0.5555555555555556,
              "#d8576b"
             ],
             [
              0.6666666666666666,
              "#ed7953"
             ],
             [
              0.7777777777777778,
              "#fb9f3a"
             ],
             [
              0.8888888888888888,
              "#fdca26"
             ],
             [
              1,
              "#f0f921"
             ]
            ],
            "type": "surface"
           }
          ],
          "table": [
           {
            "cells": {
             "fill": {
              "color": "#EBF0F8"
             },
             "line": {
              "color": "white"
             }
            },
            "header": {
             "fill": {
              "color": "#C8D4E3"
             },
             "line": {
              "color": "white"
             }
            },
            "type": "table"
           }
          ]
         },
         "layout": {
          "annotationdefaults": {
           "arrowcolor": "#2a3f5f",
           "arrowhead": 0,
           "arrowwidth": 1
          },
          "autotypenumbers": "strict",
          "coloraxis": {
           "colorbar": {
            "outlinewidth": 0,
            "ticks": ""
           }
          },
          "colorscale": {
           "diverging": [
            [
             0,
             "#8e0152"
            ],
            [
             0.1,
             "#c51b7d"
            ],
            [
             0.2,
             "#de77ae"
            ],
            [
             0.3,
             "#f1b6da"
            ],
            [
             0.4,
             "#fde0ef"
            ],
            [
             0.5,
             "#f7f7f7"
            ],
            [
             0.6,
             "#e6f5d0"
            ],
            [
             0.7,
             "#b8e186"
            ],
            [
             0.8,
             "#7fbc41"
            ],
            [
             0.9,
             "#4d9221"
            ],
            [
             1,
             "#276419"
            ]
           ],
           "sequential": [
            [
             0,
             "#0d0887"
            ],
            [
             0.1111111111111111,
             "#46039f"
            ],
            [
             0.2222222222222222,
             "#7201a8"
            ],
            [
             0.3333333333333333,
             "#9c179e"
            ],
            [
             0.4444444444444444,
             "#bd3786"
            ],
            [
             0.5555555555555556,
             "#d8576b"
            ],
            [
             0.6666666666666666,
             "#ed7953"
            ],
            [
             0.7777777777777778,
             "#fb9f3a"
            ],
            [
             0.8888888888888888,
             "#fdca26"
            ],
            [
             1,
             "#f0f921"
            ]
           ],
           "sequentialminus": [
            [
             0,
             "#0d0887"
            ],
            [
             0.1111111111111111,
             "#46039f"
            ],
            [
             0.2222222222222222,
             "#7201a8"
            ],
            [
             0.3333333333333333,
             "#9c179e"
            ],
            [
             0.4444444444444444,
             "#bd3786"
            ],
            [
             0.5555555555555556,
             "#d8576b"
            ],
            [
             0.6666666666666666,
             "#ed7953"
            ],
            [
             0.7777777777777778,
             "#fb9f3a"
            ],
            [
             0.8888888888888888,
             "#fdca26"
            ],
            [
             1,
             "#f0f921"
            ]
           ]
          },
          "colorway": [
           "#636efa",
           "#EF553B",
           "#00cc96",
           "#ab63fa",
           "#FFA15A",
           "#19d3f3",
           "#FF6692",
           "#B6E880",
           "#FF97FF",
           "#FECB52"
          ],
          "font": {
           "color": "#2a3f5f"
          },
          "geo": {
           "bgcolor": "white",
           "lakecolor": "white",
           "landcolor": "#E5ECF6",
           "showlakes": true,
           "showland": true,
           "subunitcolor": "white"
          },
          "hoverlabel": {
           "align": "left"
          },
          "hovermode": "closest",
          "mapbox": {
           "style": "light"
          },
          "paper_bgcolor": "white",
          "plot_bgcolor": "#E5ECF6",
          "polar": {
           "angularaxis": {
            "gridcolor": "white",
            "linecolor": "white",
            "ticks": ""
           },
           "bgcolor": "#E5ECF6",
           "radialaxis": {
            "gridcolor": "white",
            "linecolor": "white",
            "ticks": ""
           }
          },
          "scene": {
           "xaxis": {
            "backgroundcolor": "#E5ECF6",
            "gridcolor": "white",
            "gridwidth": 2,
            "linecolor": "white",
            "showbackground": true,
            "ticks": "",
            "zerolinecolor": "white"
           },
           "yaxis": {
            "backgroundcolor": "#E5ECF6",
            "gridcolor": "white",
            "gridwidth": 2,
            "linecolor": "white",
            "showbackground": true,
            "ticks": "",
            "zerolinecolor": "white"
           },
           "zaxis": {
            "backgroundcolor": "#E5ECF6",
            "gridcolor": "white",
            "gridwidth": 2,
            "linecolor": "white",
            "showbackground": true,
            "ticks": "",
            "zerolinecolor": "white"
           }
          },
          "shapedefaults": {
           "line": {
            "color": "#2a3f5f"
           }
          },
          "ternary": {
           "aaxis": {
            "gridcolor": "white",
            "linecolor": "white",
            "ticks": ""
           },
           "baxis": {
            "gridcolor": "white",
            "linecolor": "white",
            "ticks": ""
           },
           "bgcolor": "#E5ECF6",
           "caxis": {
            "gridcolor": "white",
            "linecolor": "white",
            "ticks": ""
           }
          },
          "title": {
           "x": 0.05
          },
          "xaxis": {
           "automargin": true,
           "gridcolor": "white",
           "linecolor": "white",
           "ticks": "",
           "title": {
            "standoff": 15
           },
           "zerolinecolor": "white",
           "zerolinewidth": 2
          },
          "yaxis": {
           "automargin": true,
           "gridcolor": "white",
           "linecolor": "white",
           "ticks": "",
           "title": {
            "standoff": 15
           },
           "zerolinecolor": "white",
           "zerolinewidth": 2
          }
         }
        },
        "width": 800
       }
      }
     },
     "metadata": {},
     "output_type": "display_data"
    }
   ],
   "source": [
    "df_end = df_boston.groupby(['end_station_id','end_station_latitude', 'end_station_longitude']).size().reset_index(name='counts_end')\n",
    "\n",
    "color_scale = [(0, 'orange'), (1,'red')]\n",
    "\n",
    "fig = px.scatter_mapbox(df_end, \n",
    "                        lat=\"end_station_latitude\", \n",
    "                        lon=\"end_station_longitude\", \n",
    "                        color='counts_end',\n",
    "                        color_continuous_scale=color_scale,\n",
    "                        size='counts_end',\n",
    "                        zoom=8, \n",
    "                        height=800,\n",
    "                        width=800)\n",
    "\n",
    "\n",
    "fig.update_layout(mapbox_style=\"open-street-map\")\n",
    "fig.update_layout(margin={\"r\":0,\"t\":0,\"l\":0,\"b\":0})\n",
    "fig.show()"
   ]
  },
  {
   "attachments": {},
   "cell_type": "markdown",
   "metadata": {},
   "source": [
    "## Volume share per station \n",
    "What is the percentage of total of total rides a station is used? "
   ]
  },
  {
   "cell_type": "code",
   "execution_count": 6,
   "metadata": {},
   "outputs": [
    {
     "data": {
      "text/html": [
       "<div>\n",
       "<style scoped>\n",
       "    .dataframe tbody tr th:only-of-type {\n",
       "        vertical-align: middle;\n",
       "    }\n",
       "\n",
       "    .dataframe tbody tr th {\n",
       "        vertical-align: top;\n",
       "    }\n",
       "\n",
       "    .dataframe thead th {\n",
       "        text-align: right;\n",
       "    }\n",
       "</style>\n",
       "<table border=\"1\" class=\"dataframe\">\n",
       "  <thead>\n",
       "    <tr style=\"text-align: right;\">\n",
       "      <th></th>\n",
       "      <th>start_station_id</th>\n",
       "      <th>start_station_latitude</th>\n",
       "      <th>start_station_longitude</th>\n",
       "      <th>counts_start</th>\n",
       "      <th>total_rides</th>\n",
       "      <th>share</th>\n",
       "    </tr>\n",
       "  </thead>\n",
       "  <tbody>\n",
       "    <tr>\n",
       "      <th>75</th>\n",
       "      <td>81</td>\n",
       "      <td>42.352409</td>\n",
       "      <td>-71.062679</td>\n",
       "      <td>10343</td>\n",
       "      <td>41627</td>\n",
       "      <td>1.854120</td>\n",
       "    </tr>\n",
       "    <tr>\n",
       "      <th>19</th>\n",
       "      <td>22</td>\n",
       "      <td>42.352175</td>\n",
       "      <td>-71.055547</td>\n",
       "      <td>30798</td>\n",
       "      <td>37720</td>\n",
       "      <td>1.680097</td>\n",
       "    </tr>\n",
       "    <tr>\n",
       "      <th>55</th>\n",
       "      <td>60</td>\n",
       "      <td>42.360835</td>\n",
       "      <td>-71.070840</td>\n",
       "      <td>17291</td>\n",
       "      <td>33169</td>\n",
       "      <td>1.477390</td>\n",
       "    </tr>\n",
       "    <tr>\n",
       "      <th>121</th>\n",
       "      <td>130</td>\n",
       "      <td>42.317225</td>\n",
       "      <td>-71.065421</td>\n",
       "      <td>761</td>\n",
       "      <td>30666</td>\n",
       "      <td>1.365903</td>\n",
       "    </tr>\n",
       "    <tr>\n",
       "      <th>88</th>\n",
       "      <td>95</td>\n",
       "      <td>42.372969</td>\n",
       "      <td>-71.094445</td>\n",
       "      <td>10397</td>\n",
       "      <td>30271</td>\n",
       "      <td>1.348309</td>\n",
       "    </tr>\n",
       "  </tbody>\n",
       "</table>\n",
       "</div>"
      ],
      "text/plain": [
       "     start_station_id  start_station_latitude  start_station_longitude  \\\n",
       "75                 81               42.352409               -71.062679   \n",
       "19                 22               42.352175               -71.055547   \n",
       "55                 60               42.360835               -71.070840   \n",
       "121               130               42.317225               -71.065421   \n",
       "88                 95               42.372969               -71.094445   \n",
       "\n",
       "     counts_start  total_rides     share  \n",
       "75          10343        41627  1.854120  \n",
       "19          30798        37720  1.680097  \n",
       "55          17291        33169  1.477390  \n",
       "121           761        30666  1.365903  \n",
       "88          10397        30271  1.348309  "
      ]
     },
     "execution_count": 6,
     "metadata": {},
     "output_type": "execute_result"
    }
   ],
   "source": [
    "#share of different stations, most frequently used stations\n",
    "df_station_share = df_start.copy()\n",
    "df_station_share['total_rides'] = df_start['counts_start'] + df_end['counts_end']\n",
    "yearly_total_rides = sum(df_station_share['total_rides'])\n",
    "df_station_share['share'] = (df_station_share['total_rides'] / yearly_total_rides)*100\n",
    "df_station_share.sort_values('share', ascending=False).head(5)"
   ]
  },
  {
   "attachments": {},
   "cell_type": "markdown",
   "metadata": {},
   "source": [
    "## Station Distribution in Boston"
   ]
  },
  {
   "cell_type": "code",
   "execution_count": 7,
   "metadata": {},
   "outputs": [
    {
     "data": {
      "text/html": [
       "<div style=\"width:100%;\"><div style=\"position:relative;width:100%;height:0;padding-bottom:60%;\"><span style=\"color:#565656\">Make this Notebook Trusted to load map: File -> Trust Notebook</span><iframe srcdoc=\"&lt;!DOCTYPE html&gt;\n",
       "&lt;html&gt;\n",
       "&lt;head&gt;\n",
       "    \n",
       "    &lt;meta http-equiv=&quot;content-type&quot; content=&quot;text/html; charset=UTF-8&quot; /&gt;\n",
       "    \n",
       "        &lt;script&gt;\n",
       "            L_NO_TOUCH = false;\n",
       "            L_DISABLE_3D = false;\n",
       "        &lt;/script&gt;\n",
       "    \n",
       "    &lt;style&gt;html, body {width: 100%;height: 100%;margin: 0;padding: 0;}&lt;/style&gt;\n",
       "    &lt;style&gt;#map {position:absolute;top:0;bottom:0;right:0;left:0;}&lt;/style&gt;\n",
       "    &lt;script src=&quot;https://cdn.jsdelivr.net/npm/leaflet@1.9.3/dist/leaflet.js&quot;&gt;&lt;/script&gt;\n",
       "    &lt;script src=&quot;https://code.jquery.com/jquery-1.12.4.min.js&quot;&gt;&lt;/script&gt;\n",
       "    &lt;script src=&quot;https://cdn.jsdelivr.net/npm/bootstrap@5.2.2/dist/js/bootstrap.bundle.min.js&quot;&gt;&lt;/script&gt;\n",
       "    &lt;script src=&quot;https://cdnjs.cloudflare.com/ajax/libs/Leaflet.awesome-markers/2.0.2/leaflet.awesome-markers.js&quot;&gt;&lt;/script&gt;\n",
       "    &lt;link rel=&quot;stylesheet&quot; href=&quot;https://cdn.jsdelivr.net/npm/leaflet@1.9.3/dist/leaflet.css&quot;/&gt;\n",
       "    &lt;link rel=&quot;stylesheet&quot; href=&quot;https://cdn.jsdelivr.net/npm/bootstrap@5.2.2/dist/css/bootstrap.min.css&quot;/&gt;\n",
       "    &lt;link rel=&quot;stylesheet&quot; href=&quot;https://netdna.bootstrapcdn.com/bootstrap/3.0.0/css/bootstrap.min.css&quot;/&gt;\n",
       "    &lt;link rel=&quot;stylesheet&quot; href=&quot;https://cdn.jsdelivr.net/npm/@fortawesome/fontawesome-free@6.2.0/css/all.min.css&quot;/&gt;\n",
       "    &lt;link rel=&quot;stylesheet&quot; href=&quot;https://cdnjs.cloudflare.com/ajax/libs/Leaflet.awesome-markers/2.0.2/leaflet.awesome-markers.css&quot;/&gt;\n",
       "    &lt;link rel=&quot;stylesheet&quot; href=&quot;https://cdn.jsdelivr.net/gh/python-visualization/folium/folium/templates/leaflet.awesome.rotate.min.css&quot;/&gt;\n",
       "    \n",
       "            &lt;meta name=&quot;viewport&quot; content=&quot;width=device-width,\n",
       "                initial-scale=1.0, maximum-scale=1.0, user-scalable=no&quot; /&gt;\n",
       "            &lt;style&gt;\n",
       "                #map_eda81b9902b98dd813292c877a4374c8 {\n",
       "                    position: relative;\n",
       "                    width: 100.0%;\n",
       "                    height: 100.0%;\n",
       "                    left: 0.0%;\n",
       "                    top: 0.0%;\n",
       "                }\n",
       "                .leaflet-container { font-size: 1rem; }\n",
       "            &lt;/style&gt;\n",
       "        \n",
       "    &lt;script src=&quot;https://cdn.jsdelivr.net/gh/python-visualization/folium@main/folium/templates/leaflet_heat.min.js&quot;&gt;&lt;/script&gt;\n",
       "&lt;/head&gt;\n",
       "&lt;body&gt;\n",
       "    \n",
       "    \n",
       "            &lt;div class=&quot;folium-map&quot; id=&quot;map_eda81b9902b98dd813292c877a4374c8&quot; &gt;&lt;/div&gt;\n",
       "        \n",
       "&lt;/body&gt;\n",
       "&lt;script&gt;\n",
       "    \n",
       "    \n",
       "            var map_eda81b9902b98dd813292c877a4374c8 = L.map(\n",
       "                &quot;map_eda81b9902b98dd813292c877a4374c8&quot;,\n",
       "                {\n",
       "                    center: [42.355539267132464, -71.08955563028009],\n",
       "                    crs: L.CRS.EPSG3857,\n",
       "                    zoom: 13,\n",
       "                    zoomControl: true,\n",
       "                    preferCanvas: false,\n",
       "                }\n",
       "            );\n",
       "            L.control.scale().addTo(map_eda81b9902b98dd813292c877a4374c8);\n",
       "\n",
       "            \n",
       "\n",
       "        \n",
       "    \n",
       "            var tile_layer_9286782bbed510d1a864ba0aa619af68 = L.tileLayer(\n",
       "                &quot;https://{s}.tile.openstreetmap.org/{z}/{x}/{y}.png&quot;,\n",
       "                {&quot;attribution&quot;: &quot;Data by \\u0026copy; \\u003ca target=\\&quot;_blank\\&quot; href=\\&quot;http://openstreetmap.org\\&quot;\\u003eOpenStreetMap\\u003c/a\\u003e, under \\u003ca target=\\&quot;_blank\\&quot; href=\\&quot;http://www.openstreetmap.org/copyright\\&quot;\\u003eODbL\\u003c/a\\u003e.&quot;, &quot;detectRetina&quot;: false, &quot;maxNativeZoom&quot;: 20, &quot;maxZoom&quot;: 20, &quot;minZoom&quot;: 0, &quot;noWrap&quot;: false, &quot;opacity&quot;: 1, &quot;subdomains&quot;: &quot;abc&quot;, &quot;tms&quot;: false}\n",
       "            ).addTo(map_eda81b9902b98dd813292c877a4374c8);\n",
       "        \n",
       "    \n",
       "            var heat_map_34ee7e8cbb9d2ccb8e7d87291904b2b5 = L.heatLayer(\n",
       "                [[42.387151, -71.075978], [42.340021, -71.100812], [42.345392, -71.069616], [42.341814, -71.090179], [42.361174, -71.065142], [42.35328743453294, -71.04438900947571], [42.353334, -71.137313], [42.351246, -71.115639], [42.350406, -71.108279], [42.338629, -71.1065], [42.335911, -71.088496], [42.336437, -71.073089], [42.337171, -71.102797], [42.361667, -71.13802], [42.34807412317439, -71.07657015323639], [42.365064, -71.119233], [42.347241, -71.105301], [42.35977, -71.051601], [42.345959, -71.082578], [42.352175, -71.055547], [42.35892, -71.057629], [42.351205, -71.043983], [42.341332, -71.076847], [42.341522, -71.068922], [42.331184, -71.095171], [42.363732, -71.124565], [42.334073, -71.105221], [42.348833, -71.041747], [42.343912, -71.102221], [42.348706, -71.097009], [42.355402, -71.058087], [42.349673, -71.077303], [42.357402, -71.147782], [42.366222, -71.059914], [42.338623, -71.074182], [42.363871, -71.050877], [42.352261, -71.123831], [42.352033, -71.070627], [42.357143, -71.050699], [42.360613, -71.057452], [42.344706, -71.097515], [42.343864, -71.085918], [42.362811, -71.056067], [42.356755, -71.055407], [42.351146, -71.066289], [42.350989, -71.073644], [42.3348756, -71.0790969], [42.348717, -71.085954], [42.350851, -71.089886], [42.354979, -71.063348], [42.347265, -71.088088], [42.328654, -71.084198], [42.340799, -71.081572], [42.355596, -71.07278], [42.351356, -71.059367], [42.360835, -71.0708399], [42.348762, -71.082383], [42.344023, -71.057054], [42.3511, -71.0496], [42.3475, -71.0441], [42.348607, -71.13401], [42.3581, -71.093198], [42.36507, -71.1031], [42.341598, -71.123338], [42.371196, -71.121473], [42.383405, -71.107593], [42.362613, -71.084105], [42.373231, -71.120886], [42.373268, -71.118579], [42.36346469304347, -71.10057324171066], [42.366426, -71.105495], [42.386844, -71.09812], [42.379637, -71.095319], [42.37842, -71.105668], [42.3619622, -71.0920526], [42.352409, -71.062679], [42.339335, -71.13493], [42.366981, -71.076472], [42.378338, -71.048927], [42.332799, -71.116205], [42.366621, -71.114214], [42.374035, -71.101427], [42.379011, -71.119945], [42.370677, -71.076529], [42.366277, -71.09169], [42.314507, -71.041269], [42.320494, -71.051122], [42.375603, -71.064608], [42.372969, -71.094445], [42.373379, -71.111075], [42.36919031768079, -71.11714124679565], [42.371848, -71.060292], [42.385582, -71.113341], [42.396969, -71.123024], [42.400877, -71.116772], [42.346563, -71.128374], [42.380287, -71.125107], [42.356954, -71.113687], [42.325333, -71.075354], [42.3625, -71.08822], [42.377945, -71.116865], [42.365942, -71.060515], [42.376369, -71.114025], [42.40449, -71.123413], [42.39082, -71.10942], [42.330716, -71.057044], [42.402763, -71.126908], [42.387995, -71.119084], [42.370803, -71.104412], [42.366095, -71.086388], [42.397828, -71.130516], [42.335741, -71.03877], [42.356052, -71.069849], [42.335693, -71.045859], [42.345733, -71.100694], [42.313156, -71.11414], [42.309054, -71.11543], [42.320998, -71.110833], [42.315692, -71.098634], [42.320561, -71.06198], [42.377022, -71.056605], [42.317225, -71.065421], [42.322701, -71.099533], [42.394002, -71.120406], [42.310579, -71.107341], [42.350413, -71.07655], [42.344827, -71.028664], [42.344796, -71.031614], [42.398365, -71.107818], [42.326599, -71.066498], [42.361589, -71.107437], [42.388966, -71.132788], [42.36356015842989, -71.08216792345047], [42.396105, -71.139459], [42.369885, -71.069957], [42.392766, -71.129042], [42.363796, -71.129164], [42.344137, -71.052608], [42.358155, -71.052163], [42.345901, -71.063187], [42.32797270205962, -71.11089706420898], [42.337596, -71.096391], [42.3391085, -71.0514432], [42.309796, -71.092225], [42.344792, -71.044024], [42.317642, -71.056664], [42.378965, -71.068607], [42.303469, -71.085347], [42.37408991426522, -71.06905996799469], [42.34900494405213, -71.1604106426239], [42.34894857235593, -71.15027189254761], [42.38674802045056, -71.11901879310608], [42.36264779118595, -71.10006093978882], [42.35957320109044, -71.10129475593567], [42.35560121327927, -71.10394477844238], [42.37478628706384, -71.13320231437683]],\n",
       "                {&quot;blur&quot;: 15, &quot;maxZoom&quot;: 18, &quot;minOpacity&quot;: 0.5, &quot;radius&quot;: 25}\n",
       "            ).addTo(map_eda81b9902b98dd813292c877a4374c8);\n",
       "        \n",
       "&lt;/script&gt;\n",
       "&lt;/html&gt;\" style=\"position:absolute;width:100%;height:100%;left:0;top:0;border:none !important;\" allowfullscreen webkitallowfullscreen mozallowfullscreen></iframe></div></div>"
      ],
      "text/plain": [
       "<folium.folium.Map at 0x7f9b481a78e0>"
      ]
     },
     "execution_count": 7,
     "metadata": {},
     "output_type": "execute_result"
    }
   ],
   "source": [
    "def heat_map(df, station_id):\n",
    "    # define new map\n",
    "    heat_map = folium.Map(\n",
    "        location=[df['start_station_latitude'].mean(), df['start_station_longitude'].mean()], \n",
    "        tiles='OpenStreetMap', \n",
    "        zoom_start=13, \n",
    "        control_scale=True, \n",
    "        max_zoom=20)\n",
    "    # add heat map\n",
    "    heat_data = [[row['start_station_latitude'],row['start_station_longitude']] for index, row in df.iterrows()]\n",
    "    HeatMap(heat_data).add_to(heat_map)\n",
    "    #heat map for destination points looks pretty much identical\n",
    "    return heat_map\n",
    "m = heat_map(df_start, np.array(df_start['start_station_id']))\n",
    "m"
   ]
  },
  {
   "attachments": {},
   "cell_type": "markdown",
   "metadata": {},
   "source": [
    "# Most popular routes  \n",
    "This section tries to explain which routes are most often used."
   ]
  },
  {
   "cell_type": "code",
   "execution_count": 47,
   "metadata": {},
   "outputs": [
    {
     "data": {
      "text/html": [
       "<div>\n",
       "<style scoped>\n",
       "    .dataframe tbody tr th:only-of-type {\n",
       "        vertical-align: middle;\n",
       "    }\n",
       "\n",
       "    .dataframe tbody tr th {\n",
       "        vertical-align: top;\n",
       "    }\n",
       "\n",
       "    .dataframe thead th {\n",
       "        text-align: right;\n",
       "    }\n",
       "</style>\n",
       "<table border=\"1\" class=\"dataframe\">\n",
       "  <thead>\n",
       "    <tr style=\"text-align: right;\">\n",
       "      <th></th>\n",
       "      <th>start_time</th>\n",
       "      <th>end_time</th>\n",
       "      <th>start_station_id</th>\n",
       "      <th>end_station_id</th>\n",
       "      <th>start_station_name</th>\n",
       "      <th>end_station_name</th>\n",
       "      <th>bike_id</th>\n",
       "      <th>user_type</th>\n",
       "      <th>trip_length</th>\n",
       "      <th>start_station_latitude</th>\n",
       "      <th>start_station_longitude</th>\n",
       "      <th>end_station_latitude</th>\n",
       "      <th>end_station_longitude</th>\n",
       "      <th>date_time</th>\n",
       "    </tr>\n",
       "  </thead>\n",
       "  <tbody>\n",
       "    <tr>\n",
       "      <th>0</th>\n",
       "      <td>2015-01-01 00:21:44</td>\n",
       "      <td>2015-01-01 00:30:47</td>\n",
       "      <td>115</td>\n",
       "      <td>96</td>\n",
       "      <td>Porter Square Station</td>\n",
       "      <td>Cambridge Main Library at Broadway / Trowbridg...</td>\n",
       "      <td>277</td>\n",
       "      <td>Subscriber</td>\n",
       "      <td>543.0</td>\n",
       "      <td>42.387995</td>\n",
       "      <td>-71.119084</td>\n",
       "      <td>42.373379</td>\n",
       "      <td>-71.111075</td>\n",
       "      <td>2015-01-01 00:00:00</td>\n",
       "    </tr>\n",
       "    <tr>\n",
       "      <th>1</th>\n",
       "      <td>2015-01-01 00:27:03</td>\n",
       "      <td>2015-01-01 00:34:21</td>\n",
       "      <td>80</td>\n",
       "      <td>95</td>\n",
       "      <td>MIT Stata Center at Vassar St / Main St</td>\n",
       "      <td>Cambridge St - at Columbia St / Webster Ave</td>\n",
       "      <td>648</td>\n",
       "      <td>Subscriber</td>\n",
       "      <td>438.0</td>\n",
       "      <td>42.361962</td>\n",
       "      <td>-71.092053</td>\n",
       "      <td>42.372969</td>\n",
       "      <td>-71.094445</td>\n",
       "      <td>2015-01-01 00:00:00</td>\n",
       "    </tr>\n",
       "    <tr>\n",
       "      <th>2</th>\n",
       "      <td>2015-01-01 00:31:31</td>\n",
       "      <td>2015-01-01 00:35:46</td>\n",
       "      <td>91</td>\n",
       "      <td>68</td>\n",
       "      <td>One Kendall Square at Hampshire St / Portland St</td>\n",
       "      <td>Central Square at Mass Ave / Essex St</td>\n",
       "      <td>555</td>\n",
       "      <td>Subscriber</td>\n",
       "      <td>255.0</td>\n",
       "      <td>42.366277</td>\n",
       "      <td>-71.091690</td>\n",
       "      <td>42.365070</td>\n",
       "      <td>-71.103100</td>\n",
       "      <td>2015-01-01 01:00:00</td>\n",
       "    </tr>\n",
       "    <tr>\n",
       "      <th>3</th>\n",
       "      <td>2015-01-01 00:53:46</td>\n",
       "      <td>2015-01-01 01:00:58</td>\n",
       "      <td>115</td>\n",
       "      <td>96</td>\n",
       "      <td>Porter Square Station</td>\n",
       "      <td>Cambridge Main Library at Broadway / Trowbridg...</td>\n",
       "      <td>1307</td>\n",
       "      <td>Subscriber</td>\n",
       "      <td>432.0</td>\n",
       "      <td>42.387995</td>\n",
       "      <td>-71.119084</td>\n",
       "      <td>42.373379</td>\n",
       "      <td>-71.111075</td>\n",
       "      <td>2015-01-01 01:00:00</td>\n",
       "    </tr>\n",
       "    <tr>\n",
       "      <th>4</th>\n",
       "      <td>2015-01-01 01:07:06</td>\n",
       "      <td>2015-01-01 01:19:21</td>\n",
       "      <td>105</td>\n",
       "      <td>88</td>\n",
       "      <td>Lower Cambridgeport at Magazine St/Riverside Rd</td>\n",
       "      <td>Inman Square at Vellucci Plaza / Hampshire St</td>\n",
       "      <td>177</td>\n",
       "      <td>Customer</td>\n",
       "      <td>735.0</td>\n",
       "      <td>42.356954</td>\n",
       "      <td>-71.113687</td>\n",
       "      <td>42.374035</td>\n",
       "      <td>-71.101427</td>\n",
       "      <td>2015-01-01 01:00:00</td>\n",
       "    </tr>\n",
       "  </tbody>\n",
       "</table>\n",
       "</div>"
      ],
      "text/plain": [
       "           start_time            end_time  start_station_id end_station_id  \\\n",
       "0 2015-01-01 00:21:44 2015-01-01 00:30:47               115             96   \n",
       "1 2015-01-01 00:27:03 2015-01-01 00:34:21                80             95   \n",
       "2 2015-01-01 00:31:31 2015-01-01 00:35:46                91             68   \n",
       "3 2015-01-01 00:53:46 2015-01-01 01:00:58               115             96   \n",
       "4 2015-01-01 01:07:06 2015-01-01 01:19:21               105             88   \n",
       "\n",
       "                                 start_station_name  \\\n",
       "0                             Porter Square Station   \n",
       "1           MIT Stata Center at Vassar St / Main St   \n",
       "2  One Kendall Square at Hampshire St / Portland St   \n",
       "3                             Porter Square Station   \n",
       "4   Lower Cambridgeport at Magazine St/Riverside Rd   \n",
       "\n",
       "                                    end_station_name  bike_id   user_type  \\\n",
       "0  Cambridge Main Library at Broadway / Trowbridg...      277  Subscriber   \n",
       "1        Cambridge St - at Columbia St / Webster Ave      648  Subscriber   \n",
       "2              Central Square at Mass Ave / Essex St      555  Subscriber   \n",
       "3  Cambridge Main Library at Broadway / Trowbridg...     1307  Subscriber   \n",
       "4      Inman Square at Vellucci Plaza / Hampshire St      177    Customer   \n",
       "\n",
       "   trip_length  start_station_latitude  start_station_longitude  \\\n",
       "0        543.0               42.387995               -71.119084   \n",
       "1        438.0               42.361962               -71.092053   \n",
       "2        255.0               42.366277               -71.091690   \n",
       "3        432.0               42.387995               -71.119084   \n",
       "4        735.0               42.356954               -71.113687   \n",
       "\n",
       "   end_station_latitude  end_station_longitude            date_time  \n",
       "0             42.373379             -71.111075  2015-01-01 00:00:00  \n",
       "1             42.372969             -71.094445  2015-01-01 00:00:00  \n",
       "2             42.365070             -71.103100  2015-01-01 01:00:00  \n",
       "3             42.373379             -71.111075  2015-01-01 01:00:00  \n",
       "4             42.374035             -71.101427  2015-01-01 01:00:00  "
      ]
     },
     "execution_count": 47,
     "metadata": {},
     "output_type": "execute_result"
    }
   ],
   "source": [
    "df_boston.head()"
   ]
  },
  {
   "cell_type": "code",
   "execution_count": 8,
   "metadata": {},
   "outputs": [
    {
     "data": {
      "text/html": [
       "<div>\n",
       "<style scoped>\n",
       "    .dataframe tbody tr th:only-of-type {\n",
       "        vertical-align: middle;\n",
       "    }\n",
       "\n",
       "    .dataframe tbody tr th {\n",
       "        vertical-align: top;\n",
       "    }\n",
       "\n",
       "    .dataframe thead th {\n",
       "        text-align: right;\n",
       "    }\n",
       "</style>\n",
       "<table border=\"1\" class=\"dataframe\">\n",
       "  <thead>\n",
       "    <tr style=\"text-align: right;\">\n",
       "      <th></th>\n",
       "      <th>start_station_id</th>\n",
       "      <th>end_station_id</th>\n",
       "      <th>start_station_latitude</th>\n",
       "      <th>start_station_longitude</th>\n",
       "      <th>end_station_latitude</th>\n",
       "      <th>end_station_longitude</th>\n",
       "      <th>count_trips</th>\n",
       "    </tr>\n",
       "  </thead>\n",
       "  <tbody>\n",
       "    <tr>\n",
       "      <th>0</th>\n",
       "      <td>118</td>\n",
       "      <td>100</td>\n",
       "      <td>42.397828</td>\n",
       "      <td>-71.130516</td>\n",
       "      <td>42.396969</td>\n",
       "      <td>-71.123024</td>\n",
       "      <td>3020</td>\n",
       "    </tr>\n",
       "    <tr>\n",
       "      <th>1</th>\n",
       "      <td>100</td>\n",
       "      <td>118</td>\n",
       "      <td>42.396969</td>\n",
       "      <td>-71.123024</td>\n",
       "      <td>42.397828</td>\n",
       "      <td>-71.130516</td>\n",
       "      <td>2755</td>\n",
       "    </tr>\n",
       "    <tr>\n",
       "      <th>2</th>\n",
       "      <td>114</td>\n",
       "      <td>100</td>\n",
       "      <td>42.402763</td>\n",
       "      <td>-71.126908</td>\n",
       "      <td>42.396969</td>\n",
       "      <td>-71.123024</td>\n",
       "      <td>2047</td>\n",
       "    </tr>\n",
       "    <tr>\n",
       "      <th>3</th>\n",
       "      <td>67</td>\n",
       "      <td>53</td>\n",
       "      <td>42.358100</td>\n",
       "      <td>-71.093198</td>\n",
       "      <td>42.350851</td>\n",
       "      <td>-71.089886</td>\n",
       "      <td>2026</td>\n",
       "    </tr>\n",
       "    <tr>\n",
       "      <th>4</th>\n",
       "      <td>40</td>\n",
       "      <td>22</td>\n",
       "      <td>42.363871</td>\n",
       "      <td>-71.050877</td>\n",
       "      <td>42.352175</td>\n",
       "      <td>-71.055547</td>\n",
       "      <td>1982</td>\n",
       "    </tr>\n",
       "    <tr>\n",
       "      <th>5</th>\n",
       "      <td>67</td>\n",
       "      <td>68</td>\n",
       "      <td>42.358100</td>\n",
       "      <td>-71.093198</td>\n",
       "      <td>42.365070</td>\n",
       "      <td>-71.103100</td>\n",
       "      <td>1845</td>\n",
       "    </tr>\n",
       "    <tr>\n",
       "      <th>6</th>\n",
       "      <td>53</td>\n",
       "      <td>67</td>\n",
       "      <td>42.350851</td>\n",
       "      <td>-71.089886</td>\n",
       "      <td>42.358100</td>\n",
       "      <td>-71.093198</td>\n",
       "      <td>1783</td>\n",
       "    </tr>\n",
       "    <tr>\n",
       "      <th>7</th>\n",
       "      <td>22</td>\n",
       "      <td>40</td>\n",
       "      <td>42.352175</td>\n",
       "      <td>-71.055547</td>\n",
       "      <td>42.363871</td>\n",
       "      <td>-71.050877</td>\n",
       "      <td>1741</td>\n",
       "    </tr>\n",
       "    <tr>\n",
       "      <th>8</th>\n",
       "      <td>68</td>\n",
       "      <td>67</td>\n",
       "      <td>42.365070</td>\n",
       "      <td>-71.103100</td>\n",
       "      <td>42.358100</td>\n",
       "      <td>-71.093198</td>\n",
       "      <td>1610</td>\n",
       "    </tr>\n",
       "    <tr>\n",
       "      <th>9</th>\n",
       "      <td>20</td>\n",
       "      <td>22</td>\n",
       "      <td>42.359770</td>\n",
       "      <td>-71.051601</td>\n",
       "      <td>42.352175</td>\n",
       "      <td>-71.055547</td>\n",
       "      <td>1531</td>\n",
       "    </tr>\n",
       "  </tbody>\n",
       "</table>\n",
       "</div>"
      ],
      "text/plain": [
       "   start_station_id end_station_id  start_station_latitude  \\\n",
       "0               118            100               42.397828   \n",
       "1               100            118               42.396969   \n",
       "2               114            100               42.402763   \n",
       "3                67             53               42.358100   \n",
       "4                40             22               42.363871   \n",
       "5                67             68               42.358100   \n",
       "6                53             67               42.350851   \n",
       "7                22             40               42.352175   \n",
       "8                68             67               42.365070   \n",
       "9                20             22               42.359770   \n",
       "\n",
       "   start_station_longitude  end_station_latitude  end_station_longitude  \\\n",
       "0               -71.130516             42.396969             -71.123024   \n",
       "1               -71.123024             42.397828             -71.130516   \n",
       "2               -71.126908             42.396969             -71.123024   \n",
       "3               -71.093198             42.350851             -71.089886   \n",
       "4               -71.050877             42.352175             -71.055547   \n",
       "5               -71.093198             42.365070             -71.103100   \n",
       "6               -71.089886             42.358100             -71.093198   \n",
       "7               -71.055547             42.363871             -71.050877   \n",
       "8               -71.103100             42.358100             -71.093198   \n",
       "9               -71.051601             42.352175             -71.055547   \n",
       "\n",
       "   count_trips  \n",
       "0         3020  \n",
       "1         2755  \n",
       "2         2047  \n",
       "3         2026  \n",
       "4         1982  \n",
       "5         1845  \n",
       "6         1783  \n",
       "7         1741  \n",
       "8         1610  \n",
       "9         1531  "
      ]
     },
     "execution_count": 8,
     "metadata": {},
     "output_type": "execute_result"
    }
   ],
   "source": [
    "#number of trips between a start and end station\n",
    "\n",
    "df_trips = df_boston.groupby(['start_station_id','end_station_id', 'start_station_latitude', 'start_station_longitude', 'end_station_latitude', 'end_station_longitude']).size().reset_index(name='count_trips')\n",
    "\n",
    "df_trips = df_trips.sort_values('count_trips', ascending = False)\n",
    "\n",
    "df_trips.index = range(0, len(df_trips))\n",
    "\n",
    "df_trips.head(10)"
   ]
  },
  {
   "cell_type": "code",
   "execution_count": 52,
   "metadata": {},
   "outputs": [
    {
     "data": {
      "text/html": [
       "<div>\n",
       "<style scoped>\n",
       "    .dataframe tbody tr th:only-of-type {\n",
       "        vertical-align: middle;\n",
       "    }\n",
       "\n",
       "    .dataframe tbody tr th {\n",
       "        vertical-align: top;\n",
       "    }\n",
       "\n",
       "    .dataframe thead th {\n",
       "        text-align: right;\n",
       "    }\n",
       "</style>\n",
       "<table border=\"1\" class=\"dataframe\">\n",
       "  <thead>\n",
       "    <tr style=\"text-align: right;\">\n",
       "      <th></th>\n",
       "      <th>Station_A</th>\n",
       "      <th>Station_B</th>\n",
       "      <th>start_station_latitude</th>\n",
       "      <th>start_station_longitude</th>\n",
       "      <th>end_station_latitude</th>\n",
       "      <th>end_station_longitude</th>\n",
       "      <th>count_trips</th>\n",
       "    </tr>\n",
       "  </thead>\n",
       "  <tbody>\n",
       "    <tr>\n",
       "      <th>0</th>\n",
       "      <td>118</td>\n",
       "      <td>100</td>\n",
       "      <td>42.397828</td>\n",
       "      <td>-71.130516</td>\n",
       "      <td>42.396969</td>\n",
       "      <td>-71.123024</td>\n",
       "      <td>5775</td>\n",
       "    </tr>\n",
       "    <tr>\n",
       "      <th>1</th>\n",
       "      <td>67</td>\n",
       "      <td>53</td>\n",
       "      <td>42.358100</td>\n",
       "      <td>-71.093198</td>\n",
       "      <td>42.350851</td>\n",
       "      <td>-71.089886</td>\n",
       "      <td>3809</td>\n",
       "    </tr>\n",
       "    <tr>\n",
       "      <th>2</th>\n",
       "      <td>40</td>\n",
       "      <td>22</td>\n",
       "      <td>42.363871</td>\n",
       "      <td>-71.050877</td>\n",
       "      <td>42.352175</td>\n",
       "      <td>-71.055547</td>\n",
       "      <td>3723</td>\n",
       "    </tr>\n",
       "    <tr>\n",
       "      <th>3</th>\n",
       "      <td>67</td>\n",
       "      <td>68</td>\n",
       "      <td>42.358100</td>\n",
       "      <td>-71.093198</td>\n",
       "      <td>42.365070</td>\n",
       "      <td>-71.103100</td>\n",
       "      <td>3455</td>\n",
       "    </tr>\n",
       "    <tr>\n",
       "      <th>4</th>\n",
       "      <td>114</td>\n",
       "      <td>100</td>\n",
       "      <td>42.402763</td>\n",
       "      <td>-71.126908</td>\n",
       "      <td>42.396969</td>\n",
       "      <td>-71.123024</td>\n",
       "      <td>3202</td>\n",
       "    </tr>\n",
       "    <tr>\n",
       "      <th>5</th>\n",
       "      <td>20</td>\n",
       "      <td>22</td>\n",
       "      <td>42.359770</td>\n",
       "      <td>-71.051601</td>\n",
       "      <td>42.352175</td>\n",
       "      <td>-71.055547</td>\n",
       "      <td>2995</td>\n",
       "    </tr>\n",
       "    <tr>\n",
       "      <th>6</th>\n",
       "      <td>67</td>\n",
       "      <td>75</td>\n",
       "      <td>42.358100</td>\n",
       "      <td>-71.093198</td>\n",
       "      <td>42.363465</td>\n",
       "      <td>-71.100573</td>\n",
       "      <td>2904</td>\n",
       "    </tr>\n",
       "    <tr>\n",
       "      <th>7</th>\n",
       "      <td>67</td>\n",
       "      <td>74</td>\n",
       "      <td>42.358100</td>\n",
       "      <td>-71.093198</td>\n",
       "      <td>42.373268</td>\n",
       "      <td>-71.118579</td>\n",
       "      <td>2711</td>\n",
       "    </tr>\n",
       "    <tr>\n",
       "      <th>8</th>\n",
       "      <td>67</td>\n",
       "      <td>107</td>\n",
       "      <td>42.358100</td>\n",
       "      <td>-71.093198</td>\n",
       "      <td>42.362500</td>\n",
       "      <td>-71.088220</td>\n",
       "      <td>2617</td>\n",
       "    </tr>\n",
       "    <tr>\n",
       "      <th>9</th>\n",
       "      <td>22</td>\n",
       "      <td>109</td>\n",
       "      <td>42.352175</td>\n",
       "      <td>-71.055547</td>\n",
       "      <td>42.365942</td>\n",
       "      <td>-71.060515</td>\n",
       "      <td>2387</td>\n",
       "    </tr>\n",
       "    <tr>\n",
       "      <th>10</th>\n",
       "      <td>80</td>\n",
       "      <td>68</td>\n",
       "      <td>42.361962</td>\n",
       "      <td>-71.092053</td>\n",
       "      <td>42.365070</td>\n",
       "      <td>-71.103100</td>\n",
       "      <td>2323</td>\n",
       "    </tr>\n",
       "    <tr>\n",
       "      <th>11</th>\n",
       "      <td>75</td>\n",
       "      <td>107</td>\n",
       "      <td>42.363465</td>\n",
       "      <td>-71.100573</td>\n",
       "      <td>42.362500</td>\n",
       "      <td>-71.088220</td>\n",
       "      <td>2296</td>\n",
       "    </tr>\n",
       "    <tr>\n",
       "      <th>12</th>\n",
       "      <td>22</td>\n",
       "      <td>47</td>\n",
       "      <td>42.352175</td>\n",
       "      <td>-71.055547</td>\n",
       "      <td>42.362811</td>\n",
       "      <td>-71.056067</td>\n",
       "      <td>2271</td>\n",
       "    </tr>\n",
       "    <tr>\n",
       "      <th>13</th>\n",
       "      <td>75</td>\n",
       "      <td>80</td>\n",
       "      <td>42.363465</td>\n",
       "      <td>-71.100573</td>\n",
       "      <td>42.361962</td>\n",
       "      <td>-71.092053</td>\n",
       "      <td>2251</td>\n",
       "    </tr>\n",
       "    <tr>\n",
       "      <th>14</th>\n",
       "      <td>74</td>\n",
       "      <td>104</td>\n",
       "      <td>42.373268</td>\n",
       "      <td>-71.118579</td>\n",
       "      <td>42.380287</td>\n",
       "      <td>-71.125107</td>\n",
       "      <td>2193</td>\n",
       "    </tr>\n",
       "    <tr>\n",
       "      <th>15</th>\n",
       "      <td>67</td>\n",
       "      <td>80</td>\n",
       "      <td>42.358100</td>\n",
       "      <td>-71.093198</td>\n",
       "      <td>42.361962</td>\n",
       "      <td>-71.092053</td>\n",
       "      <td>2122</td>\n",
       "    </tr>\n",
       "  </tbody>\n",
       "</table>\n",
       "</div>"
      ],
      "text/plain": [
       "    Station_A Station_B  start_station_latitude  start_station_longitude  \\\n",
       "0         118       100               42.397828               -71.130516   \n",
       "1          67        53               42.358100               -71.093198   \n",
       "2          40        22               42.363871               -71.050877   \n",
       "3          67        68               42.358100               -71.093198   \n",
       "4         114       100               42.402763               -71.126908   \n",
       "5          20        22               42.359770               -71.051601   \n",
       "6          67        75               42.358100               -71.093198   \n",
       "7          67        74               42.358100               -71.093198   \n",
       "8          67       107               42.358100               -71.093198   \n",
       "9          22       109               42.352175               -71.055547   \n",
       "10         80        68               42.361962               -71.092053   \n",
       "11         75       107               42.363465               -71.100573   \n",
       "12         22        47               42.352175               -71.055547   \n",
       "13         75        80               42.363465               -71.100573   \n",
       "14         74       104               42.373268               -71.118579   \n",
       "15         67        80               42.358100               -71.093198   \n",
       "\n",
       "    end_station_latitude  end_station_longitude  count_trips  \n",
       "0              42.396969             -71.123024         5775  \n",
       "1              42.350851             -71.089886         3809  \n",
       "2              42.352175             -71.055547         3723  \n",
       "3              42.365070             -71.103100         3455  \n",
       "4              42.396969             -71.123024         3202  \n",
       "5              42.352175             -71.055547         2995  \n",
       "6              42.363465             -71.100573         2904  \n",
       "7              42.373268             -71.118579         2711  \n",
       "8              42.362500             -71.088220         2617  \n",
       "9              42.365942             -71.060515         2387  \n",
       "10             42.365070             -71.103100         2323  \n",
       "11             42.362500             -71.088220         2296  \n",
       "12             42.362811             -71.056067         2271  \n",
       "13             42.361962             -71.092053         2251  \n",
       "14             42.380287             -71.125107         2193  \n",
       "15             42.361962             -71.092053         2122  "
      ]
     },
     "execution_count": 52,
     "metadata": {},
     "output_type": "execute_result"
    }
   ],
   "source": [
    "df_top_trips = df_trips.head(47).copy() #most common trips ignoring direction of trip, filter is 47 as we only use values above 1000 \n",
    "\n",
    "for j in range(0, len(df_top_trips)):\n",
    "    if j < len(df_top_trips):\n",
    "        for i in range (0, len(df_top_trips)):\n",
    "            if i < len(df_top_trips):\n",
    "                if df_top_trips.at[j,'start_station_id'] == int(df_top_trips.at[i, 'end_station_id']) and df_top_trips.at[i,'start_station_id'] == int(df_top_trips.at[j, 'end_station_id']):\n",
    "                    df_top_trips.at[j, 'count_trips'] = df_top_trips.at[i, 'count_trips'] + df_top_trips.at[j, 'count_trips']\n",
    "                    df_top_trips = df_top_trips.drop(i)\n",
    "                    df_top_trips.index = range(0, len(df_top_trips))\n",
    "\n",
    "\n",
    "df_top_trips = df_top_trips.sort_values('count_trips', ascending = False)\n",
    "df_top_trips.index = range(0, len(df_top_trips))\n",
    "df_top_trips = df_top_trips.rename(columns = {'start_station_id' : 'Station_A', 'end_station_id' : 'Station_B'})\n",
    "df_top_trips = df_top_trips.head(16) #big gap between 16 and 17 from over 2100 to 1300\n",
    "df_top_trips\n"
   ]
  },
  {
   "cell_type": "code",
   "execution_count": 53,
   "metadata": {},
   "outputs": [
    {
     "data": {
      "text/html": [
       "<div style=\"width:100%;\"><div style=\"position:relative;width:100%;height:0;padding-bottom:60%;\"><span style=\"color:#565656\">Make this Notebook Trusted to load map: File -> Trust Notebook</span><iframe srcdoc=\"&lt;!DOCTYPE html&gt;\n",
       "&lt;html&gt;\n",
       "&lt;head&gt;\n",
       "    \n",
       "    &lt;meta http-equiv=&quot;content-type&quot; content=&quot;text/html; charset=UTF-8&quot; /&gt;\n",
       "    \n",
       "        &lt;script&gt;\n",
       "            L_NO_TOUCH = false;\n",
       "            L_DISABLE_3D = false;\n",
       "        &lt;/script&gt;\n",
       "    \n",
       "    &lt;style&gt;html, body {width: 100%;height: 100%;margin: 0;padding: 0;}&lt;/style&gt;\n",
       "    &lt;style&gt;#map {position:absolute;top:0;bottom:0;right:0;left:0;}&lt;/style&gt;\n",
       "    &lt;script src=&quot;https://cdn.jsdelivr.net/npm/leaflet@1.9.3/dist/leaflet.js&quot;&gt;&lt;/script&gt;\n",
       "    &lt;script src=&quot;https://code.jquery.com/jquery-1.12.4.min.js&quot;&gt;&lt;/script&gt;\n",
       "    &lt;script src=&quot;https://cdn.jsdelivr.net/npm/bootstrap@5.2.2/dist/js/bootstrap.bundle.min.js&quot;&gt;&lt;/script&gt;\n",
       "    &lt;script src=&quot;https://cdnjs.cloudflare.com/ajax/libs/Leaflet.awesome-markers/2.0.2/leaflet.awesome-markers.js&quot;&gt;&lt;/script&gt;\n",
       "    &lt;link rel=&quot;stylesheet&quot; href=&quot;https://cdn.jsdelivr.net/npm/leaflet@1.9.3/dist/leaflet.css&quot;/&gt;\n",
       "    &lt;link rel=&quot;stylesheet&quot; href=&quot;https://cdn.jsdelivr.net/npm/bootstrap@5.2.2/dist/css/bootstrap.min.css&quot;/&gt;\n",
       "    &lt;link rel=&quot;stylesheet&quot; href=&quot;https://netdna.bootstrapcdn.com/bootstrap/3.0.0/css/bootstrap.min.css&quot;/&gt;\n",
       "    &lt;link rel=&quot;stylesheet&quot; href=&quot;https://cdn.jsdelivr.net/npm/@fortawesome/fontawesome-free@6.2.0/css/all.min.css&quot;/&gt;\n",
       "    &lt;link rel=&quot;stylesheet&quot; href=&quot;https://cdnjs.cloudflare.com/ajax/libs/Leaflet.awesome-markers/2.0.2/leaflet.awesome-markers.css&quot;/&gt;\n",
       "    &lt;link rel=&quot;stylesheet&quot; href=&quot;https://cdn.jsdelivr.net/gh/python-visualization/folium/folium/templates/leaflet.awesome.rotate.min.css&quot;/&gt;\n",
       "    \n",
       "            &lt;meta name=&quot;viewport&quot; content=&quot;width=device-width,\n",
       "                initial-scale=1.0, maximum-scale=1.0, user-scalable=no&quot; /&gt;\n",
       "            &lt;style&gt;\n",
       "                #map_fd4dc4c128e095d6a201787ff788fb46 {\n",
       "                    position: relative;\n",
       "                    width: 100.0%;\n",
       "                    height: 100.0%;\n",
       "                    left: 0.0%;\n",
       "                    top: 0.0%;\n",
       "                }\n",
       "                .leaflet-container { font-size: 1rem; }\n",
       "            &lt;/style&gt;\n",
       "        \n",
       "&lt;/head&gt;\n",
       "&lt;body&gt;\n",
       "    \n",
       "    \n",
       "            &lt;div class=&quot;folium-map&quot; id=&quot;map_fd4dc4c128e095d6a201787ff788fb46&quot; &gt;&lt;/div&gt;\n",
       "        \n",
       "&lt;/body&gt;\n",
       "&lt;script&gt;\n",
       "    \n",
       "    \n",
       "            var map_fd4dc4c128e095d6a201787ff788fb46 = L.map(\n",
       "                &quot;map_fd4dc4c128e095d6a201787ff788fb46&quot;,\n",
       "                {\n",
       "                    center: [42.35593249190727, -71.08880031119415],\n",
       "                    crs: L.CRS.EPSG3857,\n",
       "                    zoom: 15,\n",
       "                    zoomControl: true,\n",
       "                    preferCanvas: false,\n",
       "                }\n",
       "            );\n",
       "\n",
       "            \n",
       "\n",
       "        \n",
       "    \n",
       "            var tile_layer_827cad558cbae28befcc39b5546e49b9 = L.tileLayer(\n",
       "                &quot;https://{s}.tile.openstreetmap.org/{z}/{x}/{y}.png&quot;,\n",
       "                {&quot;attribution&quot;: &quot;Data by \\u0026copy; \\u003ca target=\\&quot;_blank\\&quot; href=\\&quot;http://openstreetmap.org\\&quot;\\u003eOpenStreetMap\\u003c/a\\u003e, under \\u003ca target=\\&quot;_blank\\&quot; href=\\&quot;http://www.openstreetmap.org/copyright\\&quot;\\u003eODbL\\u003c/a\\u003e.&quot;, &quot;detectRetina&quot;: false, &quot;maxNativeZoom&quot;: 18, &quot;maxZoom&quot;: 18, &quot;minZoom&quot;: 0, &quot;noWrap&quot;: false, &quot;opacity&quot;: 1, &quot;subdomains&quot;: &quot;abc&quot;, &quot;tms&quot;: false}\n",
       "            ).addTo(map_fd4dc4c128e095d6a201787ff788fb46);\n",
       "        \n",
       "    \n",
       "            var poly_line_9fbfe5584190ca8faae5f947bd9dc620 = L.polyline(\n",
       "                [[42.397828, -71.130516], [42.396969, -71.123024]],\n",
       "                {&quot;bubblingMouseEvents&quot;: true, &quot;color&quot;: &quot;red&quot;, &quot;dashArray&quot;: null, &quot;dashOffset&quot;: null, &quot;fill&quot;: false, &quot;fillColor&quot;: &quot;red&quot;, &quot;fillOpacity&quot;: 0.2, &quot;fillRule&quot;: &quot;evenodd&quot;, &quot;lineCap&quot;: &quot;round&quot;, &quot;lineJoin&quot;: &quot;round&quot;, &quot;noClip&quot;: false, &quot;opacity&quot;: 1, &quot;smoothFactor&quot;: 1.0, &quot;stroke&quot;: true, &quot;weight&quot;: 2.5}\n",
       "            ).addTo(map_fd4dc4c128e095d6a201787ff788fb46);\n",
       "        \n",
       "    \n",
       "            var marker_aaf963a62d16d2c91ec06a0451c958ac = L.marker(\n",
       "                [42.397828, -71.130516],\n",
       "                {}\n",
       "            ).addTo(map_fd4dc4c128e095d6a201787ff788fb46);\n",
       "        \n",
       "    \n",
       "            var icon_9bcf40f9a725ad6d1b8aa1e2f3e65c60 = L.AwesomeMarkers.icon(\n",
       "                {&quot;extraClasses&quot;: &quot;fa-rotate-0&quot;, &quot;icon&quot;: &quot;bicycle&quot;, &quot;iconColor&quot;: &quot;white&quot;, &quot;markerColor&quot;: &quot;blue&quot;, &quot;prefix&quot;: &quot;fa&quot;}\n",
       "            );\n",
       "            marker_aaf963a62d16d2c91ec06a0451c958ac.setIcon(icon_9bcf40f9a725ad6d1b8aa1e2f3e65c60);\n",
       "        \n",
       "    \n",
       "        var popup_8b860c7619a5758b903ad212e9a3bef9 = L.popup({&quot;maxWidth&quot;: &quot;100%&quot;});\n",
       "\n",
       "        \n",
       "            \n",
       "                var html_435dc149370d66724716109d515ac275 = $(`&lt;div id=&quot;html_435dc149370d66724716109d515ac275&quot; style=&quot;width: 100.0%; height: 100.0%;&quot;&gt;(118, 5775)&lt;/div&gt;`)[0];\n",
       "                popup_8b860c7619a5758b903ad212e9a3bef9.setContent(html_435dc149370d66724716109d515ac275);\n",
       "            \n",
       "        \n",
       "\n",
       "        marker_aaf963a62d16d2c91ec06a0451c958ac.bindPopup(popup_8b860c7619a5758b903ad212e9a3bef9)\n",
       "        ;\n",
       "\n",
       "        \n",
       "    \n",
       "    \n",
       "            var marker_06720926a761e29b29b9bd659c4330f5 = L.marker(\n",
       "                [42.396969, -71.123024],\n",
       "                {}\n",
       "            ).addTo(map_fd4dc4c128e095d6a201787ff788fb46);\n",
       "        \n",
       "    \n",
       "            var icon_c58163ac0a13ab9654310c243eabdde5 = L.AwesomeMarkers.icon(\n",
       "                {&quot;extraClasses&quot;: &quot;fa-rotate-0&quot;, &quot;icon&quot;: &quot;bicycle&quot;, &quot;iconColor&quot;: &quot;white&quot;, &quot;markerColor&quot;: &quot;blue&quot;, &quot;prefix&quot;: &quot;fa&quot;}\n",
       "            );\n",
       "            marker_06720926a761e29b29b9bd659c4330f5.setIcon(icon_c58163ac0a13ab9654310c243eabdde5);\n",
       "        \n",
       "    \n",
       "        var popup_2727b00e27a08e1ab8c64627b7bb4913 = L.popup({&quot;maxWidth&quot;: &quot;100%&quot;});\n",
       "\n",
       "        \n",
       "            \n",
       "                var html_997294c80499f5d3257dce45e10cc888 = $(`&lt;div id=&quot;html_997294c80499f5d3257dce45e10cc888&quot; style=&quot;width: 100.0%; height: 100.0%;&quot;&gt;(&#x27;100&#x27;, 5775)&lt;/div&gt;`)[0];\n",
       "                popup_2727b00e27a08e1ab8c64627b7bb4913.setContent(html_997294c80499f5d3257dce45e10cc888);\n",
       "            \n",
       "        \n",
       "\n",
       "        marker_06720926a761e29b29b9bd659c4330f5.bindPopup(popup_2727b00e27a08e1ab8c64627b7bb4913)\n",
       "        ;\n",
       "\n",
       "        \n",
       "    \n",
       "    \n",
       "            var poly_line_5864259edfbf8a0010216a8bfbc6ba50 = L.polyline(\n",
       "                [[42.3581, -71.093198], [42.350851, -71.089886]],\n",
       "                {&quot;bubblingMouseEvents&quot;: true, &quot;color&quot;: &quot;red&quot;, &quot;dashArray&quot;: null, &quot;dashOffset&quot;: null, &quot;fill&quot;: false, &quot;fillColor&quot;: &quot;red&quot;, &quot;fillOpacity&quot;: 0.2, &quot;fillRule&quot;: &quot;evenodd&quot;, &quot;lineCap&quot;: &quot;round&quot;, &quot;lineJoin&quot;: &quot;round&quot;, &quot;noClip&quot;: false, &quot;opacity&quot;: 1, &quot;smoothFactor&quot;: 1.0, &quot;stroke&quot;: true, &quot;weight&quot;: 2.5}\n",
       "            ).addTo(map_fd4dc4c128e095d6a201787ff788fb46);\n",
       "        \n",
       "    \n",
       "            var marker_4722442b994f13117baf48d69e33713f = L.marker(\n",
       "                [42.3581, -71.093198],\n",
       "                {}\n",
       "            ).addTo(map_fd4dc4c128e095d6a201787ff788fb46);\n",
       "        \n",
       "    \n",
       "            var icon_906a3076b1d60332e5c337e6af0e8e5b = L.AwesomeMarkers.icon(\n",
       "                {&quot;extraClasses&quot;: &quot;fa-rotate-0&quot;, &quot;icon&quot;: &quot;bicycle&quot;, &quot;iconColor&quot;: &quot;white&quot;, &quot;markerColor&quot;: &quot;blue&quot;, &quot;prefix&quot;: &quot;fa&quot;}\n",
       "            );\n",
       "            marker_4722442b994f13117baf48d69e33713f.setIcon(icon_906a3076b1d60332e5c337e6af0e8e5b);\n",
       "        \n",
       "    \n",
       "        var popup_729303853f21308ceea4353cb0e98045 = L.popup({&quot;maxWidth&quot;: &quot;100%&quot;});\n",
       "\n",
       "        \n",
       "            \n",
       "                var html_065d316b1006152b132a14c734bd9801 = $(`&lt;div id=&quot;html_065d316b1006152b132a14c734bd9801&quot; style=&quot;width: 100.0%; height: 100.0%;&quot;&gt;(67, 3809)&lt;/div&gt;`)[0];\n",
       "                popup_729303853f21308ceea4353cb0e98045.setContent(html_065d316b1006152b132a14c734bd9801);\n",
       "            \n",
       "        \n",
       "\n",
       "        marker_4722442b994f13117baf48d69e33713f.bindPopup(popup_729303853f21308ceea4353cb0e98045)\n",
       "        ;\n",
       "\n",
       "        \n",
       "    \n",
       "    \n",
       "            var marker_67402813a7e022885c2bec2461b7a3d6 = L.marker(\n",
       "                [42.350851, -71.089886],\n",
       "                {}\n",
       "            ).addTo(map_fd4dc4c128e095d6a201787ff788fb46);\n",
       "        \n",
       "    \n",
       "            var icon_c38cf40060842f42f8f3ba70f8327e3f = L.AwesomeMarkers.icon(\n",
       "                {&quot;extraClasses&quot;: &quot;fa-rotate-0&quot;, &quot;icon&quot;: &quot;bicycle&quot;, &quot;iconColor&quot;: &quot;white&quot;, &quot;markerColor&quot;: &quot;blue&quot;, &quot;prefix&quot;: &quot;fa&quot;}\n",
       "            );\n",
       "            marker_67402813a7e022885c2bec2461b7a3d6.setIcon(icon_c38cf40060842f42f8f3ba70f8327e3f);\n",
       "        \n",
       "    \n",
       "        var popup_3b0d8a43c64fc31900a169e3c4cc9f27 = L.popup({&quot;maxWidth&quot;: &quot;100%&quot;});\n",
       "\n",
       "        \n",
       "            \n",
       "                var html_aa28945a09ae715ad3811d7b56d59ffa = $(`&lt;div id=&quot;html_aa28945a09ae715ad3811d7b56d59ffa&quot; style=&quot;width: 100.0%; height: 100.0%;&quot;&gt;(&#x27;53&#x27;, 3809)&lt;/div&gt;`)[0];\n",
       "                popup_3b0d8a43c64fc31900a169e3c4cc9f27.setContent(html_aa28945a09ae715ad3811d7b56d59ffa);\n",
       "            \n",
       "        \n",
       "\n",
       "        marker_67402813a7e022885c2bec2461b7a3d6.bindPopup(popup_3b0d8a43c64fc31900a169e3c4cc9f27)\n",
       "        ;\n",
       "\n",
       "        \n",
       "    \n",
       "    \n",
       "            var poly_line_53bfd9b2cc3ab86e70a01240194a6f1f = L.polyline(\n",
       "                [[42.363871, -71.050877], [42.352175, -71.055547]],\n",
       "                {&quot;bubblingMouseEvents&quot;: true, &quot;color&quot;: &quot;red&quot;, &quot;dashArray&quot;: null, &quot;dashOffset&quot;: null, &quot;fill&quot;: false, &quot;fillColor&quot;: &quot;red&quot;, &quot;fillOpacity&quot;: 0.2, &quot;fillRule&quot;: &quot;evenodd&quot;, &quot;lineCap&quot;: &quot;round&quot;, &quot;lineJoin&quot;: &quot;round&quot;, &quot;noClip&quot;: false, &quot;opacity&quot;: 1, &quot;smoothFactor&quot;: 1.0, &quot;stroke&quot;: true, &quot;weight&quot;: 2.5}\n",
       "            ).addTo(map_fd4dc4c128e095d6a201787ff788fb46);\n",
       "        \n",
       "    \n",
       "            var marker_e9b1c91764491739e50d3a3298fe1d75 = L.marker(\n",
       "                [42.363871, -71.050877],\n",
       "                {}\n",
       "            ).addTo(map_fd4dc4c128e095d6a201787ff788fb46);\n",
       "        \n",
       "    \n",
       "            var icon_085ad1ea84051b473c68de7e6cf53730 = L.AwesomeMarkers.icon(\n",
       "                {&quot;extraClasses&quot;: &quot;fa-rotate-0&quot;, &quot;icon&quot;: &quot;bicycle&quot;, &quot;iconColor&quot;: &quot;white&quot;, &quot;markerColor&quot;: &quot;blue&quot;, &quot;prefix&quot;: &quot;fa&quot;}\n",
       "            );\n",
       "            marker_e9b1c91764491739e50d3a3298fe1d75.setIcon(icon_085ad1ea84051b473c68de7e6cf53730);\n",
       "        \n",
       "    \n",
       "        var popup_84531880a9572233b90b30dc36da56c8 = L.popup({&quot;maxWidth&quot;: &quot;100%&quot;});\n",
       "\n",
       "        \n",
       "            \n",
       "                var html_42bff02f72ae9427cfbbcb5762fd9d71 = $(`&lt;div id=&quot;html_42bff02f72ae9427cfbbcb5762fd9d71&quot; style=&quot;width: 100.0%; height: 100.0%;&quot;&gt;(40, 3723)&lt;/div&gt;`)[0];\n",
       "                popup_84531880a9572233b90b30dc36da56c8.setContent(html_42bff02f72ae9427cfbbcb5762fd9d71);\n",
       "            \n",
       "        \n",
       "\n",
       "        marker_e9b1c91764491739e50d3a3298fe1d75.bindPopup(popup_84531880a9572233b90b30dc36da56c8)\n",
       "        ;\n",
       "\n",
       "        \n",
       "    \n",
       "    \n",
       "            var marker_29c826238b1da8fb7f3edadb8cd9f108 = L.marker(\n",
       "                [42.352175, -71.055547],\n",
       "                {}\n",
       "            ).addTo(map_fd4dc4c128e095d6a201787ff788fb46);\n",
       "        \n",
       "    \n",
       "            var icon_22e0fb3d5fcab31b62c12638deae5be7 = L.AwesomeMarkers.icon(\n",
       "                {&quot;extraClasses&quot;: &quot;fa-rotate-0&quot;, &quot;icon&quot;: &quot;bicycle&quot;, &quot;iconColor&quot;: &quot;white&quot;, &quot;markerColor&quot;: &quot;blue&quot;, &quot;prefix&quot;: &quot;fa&quot;}\n",
       "            );\n",
       "            marker_29c826238b1da8fb7f3edadb8cd9f108.setIcon(icon_22e0fb3d5fcab31b62c12638deae5be7);\n",
       "        \n",
       "    \n",
       "        var popup_b60685080672e980829f1a382e280346 = L.popup({&quot;maxWidth&quot;: &quot;100%&quot;});\n",
       "\n",
       "        \n",
       "            \n",
       "                var html_52d2d80d5cc0aba0c5f8dfdbfaa66afc = $(`&lt;div id=&quot;html_52d2d80d5cc0aba0c5f8dfdbfaa66afc&quot; style=&quot;width: 100.0%; height: 100.0%;&quot;&gt;(&#x27;22&#x27;, 3723)&lt;/div&gt;`)[0];\n",
       "                popup_b60685080672e980829f1a382e280346.setContent(html_52d2d80d5cc0aba0c5f8dfdbfaa66afc);\n",
       "            \n",
       "        \n",
       "\n",
       "        marker_29c826238b1da8fb7f3edadb8cd9f108.bindPopup(popup_b60685080672e980829f1a382e280346)\n",
       "        ;\n",
       "\n",
       "        \n",
       "    \n",
       "    \n",
       "            var poly_line_c228231fa65376846fdc4308b533aaeb = L.polyline(\n",
       "                [[42.3581, -71.093198], [42.36507, -71.1031]],\n",
       "                {&quot;bubblingMouseEvents&quot;: true, &quot;color&quot;: &quot;red&quot;, &quot;dashArray&quot;: null, &quot;dashOffset&quot;: null, &quot;fill&quot;: false, &quot;fillColor&quot;: &quot;red&quot;, &quot;fillOpacity&quot;: 0.2, &quot;fillRule&quot;: &quot;evenodd&quot;, &quot;lineCap&quot;: &quot;round&quot;, &quot;lineJoin&quot;: &quot;round&quot;, &quot;noClip&quot;: false, &quot;opacity&quot;: 1, &quot;smoothFactor&quot;: 1.0, &quot;stroke&quot;: true, &quot;weight&quot;: 2.5}\n",
       "            ).addTo(map_fd4dc4c128e095d6a201787ff788fb46);\n",
       "        \n",
       "    \n",
       "            var marker_918bf104433cfde87e35dd6bb80a97bb = L.marker(\n",
       "                [42.3581, -71.093198],\n",
       "                {}\n",
       "            ).addTo(map_fd4dc4c128e095d6a201787ff788fb46);\n",
       "        \n",
       "    \n",
       "            var icon_ef0b6e3dc949b994e78cbb2033042ed5 = L.AwesomeMarkers.icon(\n",
       "                {&quot;extraClasses&quot;: &quot;fa-rotate-0&quot;, &quot;icon&quot;: &quot;bicycle&quot;, &quot;iconColor&quot;: &quot;white&quot;, &quot;markerColor&quot;: &quot;blue&quot;, &quot;prefix&quot;: &quot;fa&quot;}\n",
       "            );\n",
       "            marker_918bf104433cfde87e35dd6bb80a97bb.setIcon(icon_ef0b6e3dc949b994e78cbb2033042ed5);\n",
       "        \n",
       "    \n",
       "        var popup_7eb98a34f27c70cf40f6a843cb6a8c81 = L.popup({&quot;maxWidth&quot;: &quot;100%&quot;});\n",
       "\n",
       "        \n",
       "            \n",
       "                var html_111ae5b2ee870f855624ff5aeb3ef3ce = $(`&lt;div id=&quot;html_111ae5b2ee870f855624ff5aeb3ef3ce&quot; style=&quot;width: 100.0%; height: 100.0%;&quot;&gt;(67, 3455)&lt;/div&gt;`)[0];\n",
       "                popup_7eb98a34f27c70cf40f6a843cb6a8c81.setContent(html_111ae5b2ee870f855624ff5aeb3ef3ce);\n",
       "            \n",
       "        \n",
       "\n",
       "        marker_918bf104433cfde87e35dd6bb80a97bb.bindPopup(popup_7eb98a34f27c70cf40f6a843cb6a8c81)\n",
       "        ;\n",
       "\n",
       "        \n",
       "    \n",
       "    \n",
       "            var marker_525c2cc7b78f4764ca61e8773c57c722 = L.marker(\n",
       "                [42.36507, -71.1031],\n",
       "                {}\n",
       "            ).addTo(map_fd4dc4c128e095d6a201787ff788fb46);\n",
       "        \n",
       "    \n",
       "            var icon_1532503c19b3c42753b05b73b0f5accd = L.AwesomeMarkers.icon(\n",
       "                {&quot;extraClasses&quot;: &quot;fa-rotate-0&quot;, &quot;icon&quot;: &quot;bicycle&quot;, &quot;iconColor&quot;: &quot;white&quot;, &quot;markerColor&quot;: &quot;blue&quot;, &quot;prefix&quot;: &quot;fa&quot;}\n",
       "            );\n",
       "            marker_525c2cc7b78f4764ca61e8773c57c722.setIcon(icon_1532503c19b3c42753b05b73b0f5accd);\n",
       "        \n",
       "    \n",
       "        var popup_2e7952ec44871d87fd618c4604f5b0c3 = L.popup({&quot;maxWidth&quot;: &quot;100%&quot;});\n",
       "\n",
       "        \n",
       "            \n",
       "                var html_488e321d65af0a822d82562f7a21d945 = $(`&lt;div id=&quot;html_488e321d65af0a822d82562f7a21d945&quot; style=&quot;width: 100.0%; height: 100.0%;&quot;&gt;(&#x27;68&#x27;, 3455)&lt;/div&gt;`)[0];\n",
       "                popup_2e7952ec44871d87fd618c4604f5b0c3.setContent(html_488e321d65af0a822d82562f7a21d945);\n",
       "            \n",
       "        \n",
       "\n",
       "        marker_525c2cc7b78f4764ca61e8773c57c722.bindPopup(popup_2e7952ec44871d87fd618c4604f5b0c3)\n",
       "        ;\n",
       "\n",
       "        \n",
       "    \n",
       "    \n",
       "            var poly_line_2d4851b0160f5de3d69f04ea716a808b = L.polyline(\n",
       "                [[42.402763, -71.126908], [42.396969, -71.123024]],\n",
       "                {&quot;bubblingMouseEvents&quot;: true, &quot;color&quot;: &quot;red&quot;, &quot;dashArray&quot;: null, &quot;dashOffset&quot;: null, &quot;fill&quot;: false, &quot;fillColor&quot;: &quot;red&quot;, &quot;fillOpacity&quot;: 0.2, &quot;fillRule&quot;: &quot;evenodd&quot;, &quot;lineCap&quot;: &quot;round&quot;, &quot;lineJoin&quot;: &quot;round&quot;, &quot;noClip&quot;: false, &quot;opacity&quot;: 1, &quot;smoothFactor&quot;: 1.0, &quot;stroke&quot;: true, &quot;weight&quot;: 2.5}\n",
       "            ).addTo(map_fd4dc4c128e095d6a201787ff788fb46);\n",
       "        \n",
       "    \n",
       "            var marker_46c89d56dc30a26ef41552cdbb4e19c5 = L.marker(\n",
       "                [42.402763, -71.126908],\n",
       "                {}\n",
       "            ).addTo(map_fd4dc4c128e095d6a201787ff788fb46);\n",
       "        \n",
       "    \n",
       "            var icon_0b71537e9aedc85384807ac74a1e6969 = L.AwesomeMarkers.icon(\n",
       "                {&quot;extraClasses&quot;: &quot;fa-rotate-0&quot;, &quot;icon&quot;: &quot;bicycle&quot;, &quot;iconColor&quot;: &quot;white&quot;, &quot;markerColor&quot;: &quot;blue&quot;, &quot;prefix&quot;: &quot;fa&quot;}\n",
       "            );\n",
       "            marker_46c89d56dc30a26ef41552cdbb4e19c5.setIcon(icon_0b71537e9aedc85384807ac74a1e6969);\n",
       "        \n",
       "    \n",
       "        var popup_df26b9ce4a22b353d13629843d6350ad = L.popup({&quot;maxWidth&quot;: &quot;100%&quot;});\n",
       "\n",
       "        \n",
       "            \n",
       "                var html_81dc7c22b182d90858bdb6a0e4366861 = $(`&lt;div id=&quot;html_81dc7c22b182d90858bdb6a0e4366861&quot; style=&quot;width: 100.0%; height: 100.0%;&quot;&gt;(114, 3202)&lt;/div&gt;`)[0];\n",
       "                popup_df26b9ce4a22b353d13629843d6350ad.setContent(html_81dc7c22b182d90858bdb6a0e4366861);\n",
       "            \n",
       "        \n",
       "\n",
       "        marker_46c89d56dc30a26ef41552cdbb4e19c5.bindPopup(popup_df26b9ce4a22b353d13629843d6350ad)\n",
       "        ;\n",
       "\n",
       "        \n",
       "    \n",
       "    \n",
       "            var marker_2a3beda1cf9230639bffd5a41894e1d9 = L.marker(\n",
       "                [42.396969, -71.123024],\n",
       "                {}\n",
       "            ).addTo(map_fd4dc4c128e095d6a201787ff788fb46);\n",
       "        \n",
       "    \n",
       "            var icon_fe1ef598d12fc217d03e9d44af7f96b0 = L.AwesomeMarkers.icon(\n",
       "                {&quot;extraClasses&quot;: &quot;fa-rotate-0&quot;, &quot;icon&quot;: &quot;bicycle&quot;, &quot;iconColor&quot;: &quot;white&quot;, &quot;markerColor&quot;: &quot;blue&quot;, &quot;prefix&quot;: &quot;fa&quot;}\n",
       "            );\n",
       "            marker_2a3beda1cf9230639bffd5a41894e1d9.setIcon(icon_fe1ef598d12fc217d03e9d44af7f96b0);\n",
       "        \n",
       "    \n",
       "        var popup_333d970aeb4d7ce6806fcb14f4821f5e = L.popup({&quot;maxWidth&quot;: &quot;100%&quot;});\n",
       "\n",
       "        \n",
       "            \n",
       "                var html_be4f06a1f74f4dba24b536b9adc36b32 = $(`&lt;div id=&quot;html_be4f06a1f74f4dba24b536b9adc36b32&quot; style=&quot;width: 100.0%; height: 100.0%;&quot;&gt;(&#x27;100&#x27;, 3202)&lt;/div&gt;`)[0];\n",
       "                popup_333d970aeb4d7ce6806fcb14f4821f5e.setContent(html_be4f06a1f74f4dba24b536b9adc36b32);\n",
       "            \n",
       "        \n",
       "\n",
       "        marker_2a3beda1cf9230639bffd5a41894e1d9.bindPopup(popup_333d970aeb4d7ce6806fcb14f4821f5e)\n",
       "        ;\n",
       "\n",
       "        \n",
       "    \n",
       "    \n",
       "            var poly_line_45aefec2666c6917804ae153786040e8 = L.polyline(\n",
       "                [[42.35977, -71.051601], [42.352175, -71.055547]],\n",
       "                {&quot;bubblingMouseEvents&quot;: true, &quot;color&quot;: &quot;red&quot;, &quot;dashArray&quot;: null, &quot;dashOffset&quot;: null, &quot;fill&quot;: false, &quot;fillColor&quot;: &quot;red&quot;, &quot;fillOpacity&quot;: 0.2, &quot;fillRule&quot;: &quot;evenodd&quot;, &quot;lineCap&quot;: &quot;round&quot;, &quot;lineJoin&quot;: &quot;round&quot;, &quot;noClip&quot;: false, &quot;opacity&quot;: 1, &quot;smoothFactor&quot;: 1.0, &quot;stroke&quot;: true, &quot;weight&quot;: 2.5}\n",
       "            ).addTo(map_fd4dc4c128e095d6a201787ff788fb46);\n",
       "        \n",
       "    \n",
       "            var marker_e2a0a1762f32024ba2356706c1ae6ca2 = L.marker(\n",
       "                [42.35977, -71.051601],\n",
       "                {}\n",
       "            ).addTo(map_fd4dc4c128e095d6a201787ff788fb46);\n",
       "        \n",
       "    \n",
       "            var icon_0704c0101f29affbc9cd45a91bb7ff88 = L.AwesomeMarkers.icon(\n",
       "                {&quot;extraClasses&quot;: &quot;fa-rotate-0&quot;, &quot;icon&quot;: &quot;bicycle&quot;, &quot;iconColor&quot;: &quot;white&quot;, &quot;markerColor&quot;: &quot;blue&quot;, &quot;prefix&quot;: &quot;fa&quot;}\n",
       "            );\n",
       "            marker_e2a0a1762f32024ba2356706c1ae6ca2.setIcon(icon_0704c0101f29affbc9cd45a91bb7ff88);\n",
       "        \n",
       "    \n",
       "        var popup_4b4ef5c94c99d4e0c3753b914b7dc9d9 = L.popup({&quot;maxWidth&quot;: &quot;100%&quot;});\n",
       "\n",
       "        \n",
       "            \n",
       "                var html_efb131ce447af0872982064954827c91 = $(`&lt;div id=&quot;html_efb131ce447af0872982064954827c91&quot; style=&quot;width: 100.0%; height: 100.0%;&quot;&gt;(20, 2995)&lt;/div&gt;`)[0];\n",
       "                popup_4b4ef5c94c99d4e0c3753b914b7dc9d9.setContent(html_efb131ce447af0872982064954827c91);\n",
       "            \n",
       "        \n",
       "\n",
       "        marker_e2a0a1762f32024ba2356706c1ae6ca2.bindPopup(popup_4b4ef5c94c99d4e0c3753b914b7dc9d9)\n",
       "        ;\n",
       "\n",
       "        \n",
       "    \n",
       "    \n",
       "            var marker_62af6adb7330a98fb387ff8ac0e803a4 = L.marker(\n",
       "                [42.352175, -71.055547],\n",
       "                {}\n",
       "            ).addTo(map_fd4dc4c128e095d6a201787ff788fb46);\n",
       "        \n",
       "    \n",
       "            var icon_6d6b3f30042dbfcf594efc3d49954503 = L.AwesomeMarkers.icon(\n",
       "                {&quot;extraClasses&quot;: &quot;fa-rotate-0&quot;, &quot;icon&quot;: &quot;bicycle&quot;, &quot;iconColor&quot;: &quot;white&quot;, &quot;markerColor&quot;: &quot;blue&quot;, &quot;prefix&quot;: &quot;fa&quot;}\n",
       "            );\n",
       "            marker_62af6adb7330a98fb387ff8ac0e803a4.setIcon(icon_6d6b3f30042dbfcf594efc3d49954503);\n",
       "        \n",
       "    \n",
       "        var popup_04fcb437f94eb5bc2cddcc2c0475410d = L.popup({&quot;maxWidth&quot;: &quot;100%&quot;});\n",
       "\n",
       "        \n",
       "            \n",
       "                var html_bb2f12046aee9ee34da2f264a21bcb64 = $(`&lt;div id=&quot;html_bb2f12046aee9ee34da2f264a21bcb64&quot; style=&quot;width: 100.0%; height: 100.0%;&quot;&gt;(&#x27;22&#x27;, 2995)&lt;/div&gt;`)[0];\n",
       "                popup_04fcb437f94eb5bc2cddcc2c0475410d.setContent(html_bb2f12046aee9ee34da2f264a21bcb64);\n",
       "            \n",
       "        \n",
       "\n",
       "        marker_62af6adb7330a98fb387ff8ac0e803a4.bindPopup(popup_04fcb437f94eb5bc2cddcc2c0475410d)\n",
       "        ;\n",
       "\n",
       "        \n",
       "    \n",
       "    \n",
       "            var poly_line_1e707a7a8fe6725772e56502c048dc37 = L.polyline(\n",
       "                [[42.3581, -71.093198], [42.36346469304347, -71.10057324171066]],\n",
       "                {&quot;bubblingMouseEvents&quot;: true, &quot;color&quot;: &quot;red&quot;, &quot;dashArray&quot;: null, &quot;dashOffset&quot;: null, &quot;fill&quot;: false, &quot;fillColor&quot;: &quot;red&quot;, &quot;fillOpacity&quot;: 0.2, &quot;fillRule&quot;: &quot;evenodd&quot;, &quot;lineCap&quot;: &quot;round&quot;, &quot;lineJoin&quot;: &quot;round&quot;, &quot;noClip&quot;: false, &quot;opacity&quot;: 1, &quot;smoothFactor&quot;: 1.0, &quot;stroke&quot;: true, &quot;weight&quot;: 2.5}\n",
       "            ).addTo(map_fd4dc4c128e095d6a201787ff788fb46);\n",
       "        \n",
       "    \n",
       "            var marker_6e5c5eb26270ac6bc866fbed4a6eaafe = L.marker(\n",
       "                [42.3581, -71.093198],\n",
       "                {}\n",
       "            ).addTo(map_fd4dc4c128e095d6a201787ff788fb46);\n",
       "        \n",
       "    \n",
       "            var icon_d16a41b29159b4f5cc07c26b6487e412 = L.AwesomeMarkers.icon(\n",
       "                {&quot;extraClasses&quot;: &quot;fa-rotate-0&quot;, &quot;icon&quot;: &quot;bicycle&quot;, &quot;iconColor&quot;: &quot;white&quot;, &quot;markerColor&quot;: &quot;blue&quot;, &quot;prefix&quot;: &quot;fa&quot;}\n",
       "            );\n",
       "            marker_6e5c5eb26270ac6bc866fbed4a6eaafe.setIcon(icon_d16a41b29159b4f5cc07c26b6487e412);\n",
       "        \n",
       "    \n",
       "        var popup_953c1f0ef7f4e0003e6dbb13e9ff745f = L.popup({&quot;maxWidth&quot;: &quot;100%&quot;});\n",
       "\n",
       "        \n",
       "            \n",
       "                var html_3084cb60504dd103a5491c57b7d292f5 = $(`&lt;div id=&quot;html_3084cb60504dd103a5491c57b7d292f5&quot; style=&quot;width: 100.0%; height: 100.0%;&quot;&gt;(67, 2904)&lt;/div&gt;`)[0];\n",
       "                popup_953c1f0ef7f4e0003e6dbb13e9ff745f.setContent(html_3084cb60504dd103a5491c57b7d292f5);\n",
       "            \n",
       "        \n",
       "\n",
       "        marker_6e5c5eb26270ac6bc866fbed4a6eaafe.bindPopup(popup_953c1f0ef7f4e0003e6dbb13e9ff745f)\n",
       "        ;\n",
       "\n",
       "        \n",
       "    \n",
       "    \n",
       "            var marker_1c0e4a9627b361667459f4b5d7cc7d15 = L.marker(\n",
       "                [42.36346469304347, -71.10057324171066],\n",
       "                {}\n",
       "            ).addTo(map_fd4dc4c128e095d6a201787ff788fb46);\n",
       "        \n",
       "    \n",
       "            var icon_047b03becb282cc1c5fb0f0b789f10e7 = L.AwesomeMarkers.icon(\n",
       "                {&quot;extraClasses&quot;: &quot;fa-rotate-0&quot;, &quot;icon&quot;: &quot;bicycle&quot;, &quot;iconColor&quot;: &quot;white&quot;, &quot;markerColor&quot;: &quot;blue&quot;, &quot;prefix&quot;: &quot;fa&quot;}\n",
       "            );\n",
       "            marker_1c0e4a9627b361667459f4b5d7cc7d15.setIcon(icon_047b03becb282cc1c5fb0f0b789f10e7);\n",
       "        \n",
       "    \n",
       "        var popup_130e3f9b125160159714434387508906 = L.popup({&quot;maxWidth&quot;: &quot;100%&quot;});\n",
       "\n",
       "        \n",
       "            \n",
       "                var html_816d5b763bc1bed5d5783df39192bcee = $(`&lt;div id=&quot;html_816d5b763bc1bed5d5783df39192bcee&quot; style=&quot;width: 100.0%; height: 100.0%;&quot;&gt;(&#x27;75&#x27;, 2904)&lt;/div&gt;`)[0];\n",
       "                popup_130e3f9b125160159714434387508906.setContent(html_816d5b763bc1bed5d5783df39192bcee);\n",
       "            \n",
       "        \n",
       "\n",
       "        marker_1c0e4a9627b361667459f4b5d7cc7d15.bindPopup(popup_130e3f9b125160159714434387508906)\n",
       "        ;\n",
       "\n",
       "        \n",
       "    \n",
       "    \n",
       "            var poly_line_8bfdbbdc7234d56e0044384baea7a4e6 = L.polyline(\n",
       "                [[42.3581, -71.093198], [42.373268, -71.118579]],\n",
       "                {&quot;bubblingMouseEvents&quot;: true, &quot;color&quot;: &quot;red&quot;, &quot;dashArray&quot;: null, &quot;dashOffset&quot;: null, &quot;fill&quot;: false, &quot;fillColor&quot;: &quot;red&quot;, &quot;fillOpacity&quot;: 0.2, &quot;fillRule&quot;: &quot;evenodd&quot;, &quot;lineCap&quot;: &quot;round&quot;, &quot;lineJoin&quot;: &quot;round&quot;, &quot;noClip&quot;: false, &quot;opacity&quot;: 1, &quot;smoothFactor&quot;: 1.0, &quot;stroke&quot;: true, &quot;weight&quot;: 2.5}\n",
       "            ).addTo(map_fd4dc4c128e095d6a201787ff788fb46);\n",
       "        \n",
       "    \n",
       "            var marker_7c23efafe5e2836e98b434cdf3f1bc67 = L.marker(\n",
       "                [42.3581, -71.093198],\n",
       "                {}\n",
       "            ).addTo(map_fd4dc4c128e095d6a201787ff788fb46);\n",
       "        \n",
       "    \n",
       "            var icon_10d113a7bd727f7ccb046e997b379fcb = L.AwesomeMarkers.icon(\n",
       "                {&quot;extraClasses&quot;: &quot;fa-rotate-0&quot;, &quot;icon&quot;: &quot;bicycle&quot;, &quot;iconColor&quot;: &quot;white&quot;, &quot;markerColor&quot;: &quot;blue&quot;, &quot;prefix&quot;: &quot;fa&quot;}\n",
       "            );\n",
       "            marker_7c23efafe5e2836e98b434cdf3f1bc67.setIcon(icon_10d113a7bd727f7ccb046e997b379fcb);\n",
       "        \n",
       "    \n",
       "        var popup_d282041f8d845e166144a6356f4e1398 = L.popup({&quot;maxWidth&quot;: &quot;100%&quot;});\n",
       "\n",
       "        \n",
       "            \n",
       "                var html_4d74992f1def9df43bfb0628f59d817f = $(`&lt;div id=&quot;html_4d74992f1def9df43bfb0628f59d817f&quot; style=&quot;width: 100.0%; height: 100.0%;&quot;&gt;(67, 2711)&lt;/div&gt;`)[0];\n",
       "                popup_d282041f8d845e166144a6356f4e1398.setContent(html_4d74992f1def9df43bfb0628f59d817f);\n",
       "            \n",
       "        \n",
       "\n",
       "        marker_7c23efafe5e2836e98b434cdf3f1bc67.bindPopup(popup_d282041f8d845e166144a6356f4e1398)\n",
       "        ;\n",
       "\n",
       "        \n",
       "    \n",
       "    \n",
       "            var marker_b03b9518749068347b1aa12940ba01af = L.marker(\n",
       "                [42.373268, -71.118579],\n",
       "                {}\n",
       "            ).addTo(map_fd4dc4c128e095d6a201787ff788fb46);\n",
       "        \n",
       "    \n",
       "            var icon_8ddc2233b1b89b794b2b15a72bda5e79 = L.AwesomeMarkers.icon(\n",
       "                {&quot;extraClasses&quot;: &quot;fa-rotate-0&quot;, &quot;icon&quot;: &quot;bicycle&quot;, &quot;iconColor&quot;: &quot;white&quot;, &quot;markerColor&quot;: &quot;blue&quot;, &quot;prefix&quot;: &quot;fa&quot;}\n",
       "            );\n",
       "            marker_b03b9518749068347b1aa12940ba01af.setIcon(icon_8ddc2233b1b89b794b2b15a72bda5e79);\n",
       "        \n",
       "    \n",
       "        var popup_36832df8e17eef9ae2ea2530927ced31 = L.popup({&quot;maxWidth&quot;: &quot;100%&quot;});\n",
       "\n",
       "        \n",
       "            \n",
       "                var html_2fbcd5e1d4191e400df417d3f7f055e6 = $(`&lt;div id=&quot;html_2fbcd5e1d4191e400df417d3f7f055e6&quot; style=&quot;width: 100.0%; height: 100.0%;&quot;&gt;(&#x27;74&#x27;, 2711)&lt;/div&gt;`)[0];\n",
       "                popup_36832df8e17eef9ae2ea2530927ced31.setContent(html_2fbcd5e1d4191e400df417d3f7f055e6);\n",
       "            \n",
       "        \n",
       "\n",
       "        marker_b03b9518749068347b1aa12940ba01af.bindPopup(popup_36832df8e17eef9ae2ea2530927ced31)\n",
       "        ;\n",
       "\n",
       "        \n",
       "    \n",
       "    \n",
       "            var poly_line_d8838cf0d4e8a0f8d310b82a0f4ea3bd = L.polyline(\n",
       "                [[42.3581, -71.093198], [42.3625, -71.08822]],\n",
       "                {&quot;bubblingMouseEvents&quot;: true, &quot;color&quot;: &quot;red&quot;, &quot;dashArray&quot;: null, &quot;dashOffset&quot;: null, &quot;fill&quot;: false, &quot;fillColor&quot;: &quot;red&quot;, &quot;fillOpacity&quot;: 0.2, &quot;fillRule&quot;: &quot;evenodd&quot;, &quot;lineCap&quot;: &quot;round&quot;, &quot;lineJoin&quot;: &quot;round&quot;, &quot;noClip&quot;: false, &quot;opacity&quot;: 1, &quot;smoothFactor&quot;: 1.0, &quot;stroke&quot;: true, &quot;weight&quot;: 2.5}\n",
       "            ).addTo(map_fd4dc4c128e095d6a201787ff788fb46);\n",
       "        \n",
       "    \n",
       "            var marker_e37d1d64f92efe340a4fcd84b7572d3a = L.marker(\n",
       "                [42.3581, -71.093198],\n",
       "                {}\n",
       "            ).addTo(map_fd4dc4c128e095d6a201787ff788fb46);\n",
       "        \n",
       "    \n",
       "            var icon_4d54729ae6352e059d78e81ef8baeffb = L.AwesomeMarkers.icon(\n",
       "                {&quot;extraClasses&quot;: &quot;fa-rotate-0&quot;, &quot;icon&quot;: &quot;bicycle&quot;, &quot;iconColor&quot;: &quot;white&quot;, &quot;markerColor&quot;: &quot;blue&quot;, &quot;prefix&quot;: &quot;fa&quot;}\n",
       "            );\n",
       "            marker_e37d1d64f92efe340a4fcd84b7572d3a.setIcon(icon_4d54729ae6352e059d78e81ef8baeffb);\n",
       "        \n",
       "    \n",
       "        var popup_7fbd2398e62d421f5342312f80a7caab = L.popup({&quot;maxWidth&quot;: &quot;100%&quot;});\n",
       "\n",
       "        \n",
       "            \n",
       "                var html_aac1c22ba8626e15bc977c5775b425b8 = $(`&lt;div id=&quot;html_aac1c22ba8626e15bc977c5775b425b8&quot; style=&quot;width: 100.0%; height: 100.0%;&quot;&gt;(67, 2617)&lt;/div&gt;`)[0];\n",
       "                popup_7fbd2398e62d421f5342312f80a7caab.setContent(html_aac1c22ba8626e15bc977c5775b425b8);\n",
       "            \n",
       "        \n",
       "\n",
       "        marker_e37d1d64f92efe340a4fcd84b7572d3a.bindPopup(popup_7fbd2398e62d421f5342312f80a7caab)\n",
       "        ;\n",
       "\n",
       "        \n",
       "    \n",
       "    \n",
       "            var marker_44f18882e60ea08a209cbf7dc35dcaad = L.marker(\n",
       "                [42.3625, -71.08822],\n",
       "                {}\n",
       "            ).addTo(map_fd4dc4c128e095d6a201787ff788fb46);\n",
       "        \n",
       "    \n",
       "            var icon_6bedf8e0a0236cd0076c7d9717f84065 = L.AwesomeMarkers.icon(\n",
       "                {&quot;extraClasses&quot;: &quot;fa-rotate-0&quot;, &quot;icon&quot;: &quot;bicycle&quot;, &quot;iconColor&quot;: &quot;white&quot;, &quot;markerColor&quot;: &quot;blue&quot;, &quot;prefix&quot;: &quot;fa&quot;}\n",
       "            );\n",
       "            marker_44f18882e60ea08a209cbf7dc35dcaad.setIcon(icon_6bedf8e0a0236cd0076c7d9717f84065);\n",
       "        \n",
       "    \n",
       "        var popup_19a4badeb1ec72e8496ae505f2af5daf = L.popup({&quot;maxWidth&quot;: &quot;100%&quot;});\n",
       "\n",
       "        \n",
       "            \n",
       "                var html_e2fada9fb7aaf76dc6c4657501fc5928 = $(`&lt;div id=&quot;html_e2fada9fb7aaf76dc6c4657501fc5928&quot; style=&quot;width: 100.0%; height: 100.0%;&quot;&gt;(&#x27;107&#x27;, 2617)&lt;/div&gt;`)[0];\n",
       "                popup_19a4badeb1ec72e8496ae505f2af5daf.setContent(html_e2fada9fb7aaf76dc6c4657501fc5928);\n",
       "            \n",
       "        \n",
       "\n",
       "        marker_44f18882e60ea08a209cbf7dc35dcaad.bindPopup(popup_19a4badeb1ec72e8496ae505f2af5daf)\n",
       "        ;\n",
       "\n",
       "        \n",
       "    \n",
       "    \n",
       "            var poly_line_30f6d758f2ce04f4201fa711ec137fec = L.polyline(\n",
       "                [[42.352175, -71.055547], [42.365942, -71.060515]],\n",
       "                {&quot;bubblingMouseEvents&quot;: true, &quot;color&quot;: &quot;red&quot;, &quot;dashArray&quot;: null, &quot;dashOffset&quot;: null, &quot;fill&quot;: false, &quot;fillColor&quot;: &quot;red&quot;, &quot;fillOpacity&quot;: 0.2, &quot;fillRule&quot;: &quot;evenodd&quot;, &quot;lineCap&quot;: &quot;round&quot;, &quot;lineJoin&quot;: &quot;round&quot;, &quot;noClip&quot;: false, &quot;opacity&quot;: 1, &quot;smoothFactor&quot;: 1.0, &quot;stroke&quot;: true, &quot;weight&quot;: 2.5}\n",
       "            ).addTo(map_fd4dc4c128e095d6a201787ff788fb46);\n",
       "        \n",
       "    \n",
       "            var marker_0fadc28df6355f4a647b5937831f8adc = L.marker(\n",
       "                [42.352175, -71.055547],\n",
       "                {}\n",
       "            ).addTo(map_fd4dc4c128e095d6a201787ff788fb46);\n",
       "        \n",
       "    \n",
       "            var icon_ff768123ee2616209ee3b727145ea7cd = L.AwesomeMarkers.icon(\n",
       "                {&quot;extraClasses&quot;: &quot;fa-rotate-0&quot;, &quot;icon&quot;: &quot;bicycle&quot;, &quot;iconColor&quot;: &quot;white&quot;, &quot;markerColor&quot;: &quot;blue&quot;, &quot;prefix&quot;: &quot;fa&quot;}\n",
       "            );\n",
       "            marker_0fadc28df6355f4a647b5937831f8adc.setIcon(icon_ff768123ee2616209ee3b727145ea7cd);\n",
       "        \n",
       "    \n",
       "        var popup_0809daf7f5a970a1807b9686cffd9d43 = L.popup({&quot;maxWidth&quot;: &quot;100%&quot;});\n",
       "\n",
       "        \n",
       "            \n",
       "                var html_2f79b26429fc05e3487d33f4fe517846 = $(`&lt;div id=&quot;html_2f79b26429fc05e3487d33f4fe517846&quot; style=&quot;width: 100.0%; height: 100.0%;&quot;&gt;(22, 2387)&lt;/div&gt;`)[0];\n",
       "                popup_0809daf7f5a970a1807b9686cffd9d43.setContent(html_2f79b26429fc05e3487d33f4fe517846);\n",
       "            \n",
       "        \n",
       "\n",
       "        marker_0fadc28df6355f4a647b5937831f8adc.bindPopup(popup_0809daf7f5a970a1807b9686cffd9d43)\n",
       "        ;\n",
       "\n",
       "        \n",
       "    \n",
       "    \n",
       "            var marker_0eba975ae537bf1d8bde419e98f25afc = L.marker(\n",
       "                [42.365942, -71.060515],\n",
       "                {}\n",
       "            ).addTo(map_fd4dc4c128e095d6a201787ff788fb46);\n",
       "        \n",
       "    \n",
       "            var icon_663551cd860d6c6ef0f2194234e8baa2 = L.AwesomeMarkers.icon(\n",
       "                {&quot;extraClasses&quot;: &quot;fa-rotate-0&quot;, &quot;icon&quot;: &quot;bicycle&quot;, &quot;iconColor&quot;: &quot;white&quot;, &quot;markerColor&quot;: &quot;blue&quot;, &quot;prefix&quot;: &quot;fa&quot;}\n",
       "            );\n",
       "            marker_0eba975ae537bf1d8bde419e98f25afc.setIcon(icon_663551cd860d6c6ef0f2194234e8baa2);\n",
       "        \n",
       "    \n",
       "        var popup_6e55b9ccf7e26d751851eef784060834 = L.popup({&quot;maxWidth&quot;: &quot;100%&quot;});\n",
       "\n",
       "        \n",
       "            \n",
       "                var html_24664382e02f54a08a3ce602e3bb77d8 = $(`&lt;div id=&quot;html_24664382e02f54a08a3ce602e3bb77d8&quot; style=&quot;width: 100.0%; height: 100.0%;&quot;&gt;(&#x27;109&#x27;, 2387)&lt;/div&gt;`)[0];\n",
       "                popup_6e55b9ccf7e26d751851eef784060834.setContent(html_24664382e02f54a08a3ce602e3bb77d8);\n",
       "            \n",
       "        \n",
       "\n",
       "        marker_0eba975ae537bf1d8bde419e98f25afc.bindPopup(popup_6e55b9ccf7e26d751851eef784060834)\n",
       "        ;\n",
       "\n",
       "        \n",
       "    \n",
       "    \n",
       "            var poly_line_195226686eb88d6b21dd1e0d6624741d = L.polyline(\n",
       "                [[42.3619622, -71.0920526], [42.36507, -71.1031]],\n",
       "                {&quot;bubblingMouseEvents&quot;: true, &quot;color&quot;: &quot;red&quot;, &quot;dashArray&quot;: null, &quot;dashOffset&quot;: null, &quot;fill&quot;: false, &quot;fillColor&quot;: &quot;red&quot;, &quot;fillOpacity&quot;: 0.2, &quot;fillRule&quot;: &quot;evenodd&quot;, &quot;lineCap&quot;: &quot;round&quot;, &quot;lineJoin&quot;: &quot;round&quot;, &quot;noClip&quot;: false, &quot;opacity&quot;: 1, &quot;smoothFactor&quot;: 1.0, &quot;stroke&quot;: true, &quot;weight&quot;: 2.5}\n",
       "            ).addTo(map_fd4dc4c128e095d6a201787ff788fb46);\n",
       "        \n",
       "    \n",
       "            var marker_9d768edd102204e2d5001021b4322416 = L.marker(\n",
       "                [42.3619622, -71.0920526],\n",
       "                {}\n",
       "            ).addTo(map_fd4dc4c128e095d6a201787ff788fb46);\n",
       "        \n",
       "    \n",
       "            var icon_8570ee6d291f6e9dbb5bf86c4585adc3 = L.AwesomeMarkers.icon(\n",
       "                {&quot;extraClasses&quot;: &quot;fa-rotate-0&quot;, &quot;icon&quot;: &quot;bicycle&quot;, &quot;iconColor&quot;: &quot;white&quot;, &quot;markerColor&quot;: &quot;blue&quot;, &quot;prefix&quot;: &quot;fa&quot;}\n",
       "            );\n",
       "            marker_9d768edd102204e2d5001021b4322416.setIcon(icon_8570ee6d291f6e9dbb5bf86c4585adc3);\n",
       "        \n",
       "    \n",
       "        var popup_73c494928869324d97b04698839b2684 = L.popup({&quot;maxWidth&quot;: &quot;100%&quot;});\n",
       "\n",
       "        \n",
       "            \n",
       "                var html_b1940a1f89be8fb1e1ad0654cac66340 = $(`&lt;div id=&quot;html_b1940a1f89be8fb1e1ad0654cac66340&quot; style=&quot;width: 100.0%; height: 100.0%;&quot;&gt;(80, 2323)&lt;/div&gt;`)[0];\n",
       "                popup_73c494928869324d97b04698839b2684.setContent(html_b1940a1f89be8fb1e1ad0654cac66340);\n",
       "            \n",
       "        \n",
       "\n",
       "        marker_9d768edd102204e2d5001021b4322416.bindPopup(popup_73c494928869324d97b04698839b2684)\n",
       "        ;\n",
       "\n",
       "        \n",
       "    \n",
       "    \n",
       "            var marker_ce755e5cfd88d64f40eb5d2a7df90834 = L.marker(\n",
       "                [42.36507, -71.1031],\n",
       "                {}\n",
       "            ).addTo(map_fd4dc4c128e095d6a201787ff788fb46);\n",
       "        \n",
       "    \n",
       "            var icon_34a58ce16ac1d7b10528b19da8448fd6 = L.AwesomeMarkers.icon(\n",
       "                {&quot;extraClasses&quot;: &quot;fa-rotate-0&quot;, &quot;icon&quot;: &quot;bicycle&quot;, &quot;iconColor&quot;: &quot;white&quot;, &quot;markerColor&quot;: &quot;blue&quot;, &quot;prefix&quot;: &quot;fa&quot;}\n",
       "            );\n",
       "            marker_ce755e5cfd88d64f40eb5d2a7df90834.setIcon(icon_34a58ce16ac1d7b10528b19da8448fd6);\n",
       "        \n",
       "    \n",
       "        var popup_30801987f5788cdfc44ca0b540685a3a = L.popup({&quot;maxWidth&quot;: &quot;100%&quot;});\n",
       "\n",
       "        \n",
       "            \n",
       "                var html_dca8bcf911afaf0f69c4624e0bfdab34 = $(`&lt;div id=&quot;html_dca8bcf911afaf0f69c4624e0bfdab34&quot; style=&quot;width: 100.0%; height: 100.0%;&quot;&gt;(&#x27;68&#x27;, 2323)&lt;/div&gt;`)[0];\n",
       "                popup_30801987f5788cdfc44ca0b540685a3a.setContent(html_dca8bcf911afaf0f69c4624e0bfdab34);\n",
       "            \n",
       "        \n",
       "\n",
       "        marker_ce755e5cfd88d64f40eb5d2a7df90834.bindPopup(popup_30801987f5788cdfc44ca0b540685a3a)\n",
       "        ;\n",
       "\n",
       "        \n",
       "    \n",
       "    \n",
       "            var poly_line_df88392b817f534c981559faa138b26c = L.polyline(\n",
       "                [[42.36346469304347, -71.10057324171066], [42.3625, -71.08822]],\n",
       "                {&quot;bubblingMouseEvents&quot;: true, &quot;color&quot;: &quot;red&quot;, &quot;dashArray&quot;: null, &quot;dashOffset&quot;: null, &quot;fill&quot;: false, &quot;fillColor&quot;: &quot;red&quot;, &quot;fillOpacity&quot;: 0.2, &quot;fillRule&quot;: &quot;evenodd&quot;, &quot;lineCap&quot;: &quot;round&quot;, &quot;lineJoin&quot;: &quot;round&quot;, &quot;noClip&quot;: false, &quot;opacity&quot;: 1, &quot;smoothFactor&quot;: 1.0, &quot;stroke&quot;: true, &quot;weight&quot;: 2.5}\n",
       "            ).addTo(map_fd4dc4c128e095d6a201787ff788fb46);\n",
       "        \n",
       "    \n",
       "            var marker_3bc1c0c79a0ce5fccc1cd0c9a9d6d981 = L.marker(\n",
       "                [42.36346469304347, -71.10057324171066],\n",
       "                {}\n",
       "            ).addTo(map_fd4dc4c128e095d6a201787ff788fb46);\n",
       "        \n",
       "    \n",
       "            var icon_4865481c3bd7332b82264af0b230345b = L.AwesomeMarkers.icon(\n",
       "                {&quot;extraClasses&quot;: &quot;fa-rotate-0&quot;, &quot;icon&quot;: &quot;bicycle&quot;, &quot;iconColor&quot;: &quot;white&quot;, &quot;markerColor&quot;: &quot;blue&quot;, &quot;prefix&quot;: &quot;fa&quot;}\n",
       "            );\n",
       "            marker_3bc1c0c79a0ce5fccc1cd0c9a9d6d981.setIcon(icon_4865481c3bd7332b82264af0b230345b);\n",
       "        \n",
       "    \n",
       "        var popup_10f5812f2ab7c69bd6038f7fba676932 = L.popup({&quot;maxWidth&quot;: &quot;100%&quot;});\n",
       "\n",
       "        \n",
       "            \n",
       "                var html_37c3d8f996470cead8e485de2b5893db = $(`&lt;div id=&quot;html_37c3d8f996470cead8e485de2b5893db&quot; style=&quot;width: 100.0%; height: 100.0%;&quot;&gt;(75, 2296)&lt;/div&gt;`)[0];\n",
       "                popup_10f5812f2ab7c69bd6038f7fba676932.setContent(html_37c3d8f996470cead8e485de2b5893db);\n",
       "            \n",
       "        \n",
       "\n",
       "        marker_3bc1c0c79a0ce5fccc1cd0c9a9d6d981.bindPopup(popup_10f5812f2ab7c69bd6038f7fba676932)\n",
       "        ;\n",
       "\n",
       "        \n",
       "    \n",
       "    \n",
       "            var marker_2294f073afb3b39e81f2017681f8f6cb = L.marker(\n",
       "                [42.3625, -71.08822],\n",
       "                {}\n",
       "            ).addTo(map_fd4dc4c128e095d6a201787ff788fb46);\n",
       "        \n",
       "    \n",
       "            var icon_8f9c77773a827b9ce627eb29f17ea1e5 = L.AwesomeMarkers.icon(\n",
       "                {&quot;extraClasses&quot;: &quot;fa-rotate-0&quot;, &quot;icon&quot;: &quot;bicycle&quot;, &quot;iconColor&quot;: &quot;white&quot;, &quot;markerColor&quot;: &quot;blue&quot;, &quot;prefix&quot;: &quot;fa&quot;}\n",
       "            );\n",
       "            marker_2294f073afb3b39e81f2017681f8f6cb.setIcon(icon_8f9c77773a827b9ce627eb29f17ea1e5);\n",
       "        \n",
       "    \n",
       "        var popup_828a8b67360871138761d0388a25c502 = L.popup({&quot;maxWidth&quot;: &quot;100%&quot;});\n",
       "\n",
       "        \n",
       "            \n",
       "                var html_77abbdaf7311ca471a6bad324cc5ab3a = $(`&lt;div id=&quot;html_77abbdaf7311ca471a6bad324cc5ab3a&quot; style=&quot;width: 100.0%; height: 100.0%;&quot;&gt;(&#x27;107&#x27;, 2296)&lt;/div&gt;`)[0];\n",
       "                popup_828a8b67360871138761d0388a25c502.setContent(html_77abbdaf7311ca471a6bad324cc5ab3a);\n",
       "            \n",
       "        \n",
       "\n",
       "        marker_2294f073afb3b39e81f2017681f8f6cb.bindPopup(popup_828a8b67360871138761d0388a25c502)\n",
       "        ;\n",
       "\n",
       "        \n",
       "    \n",
       "    \n",
       "            var poly_line_86e782d6ca3189ac6132ce03fccfcb9c = L.polyline(\n",
       "                [[42.352175, -71.055547], [42.362811, -71.056067]],\n",
       "                {&quot;bubblingMouseEvents&quot;: true, &quot;color&quot;: &quot;red&quot;, &quot;dashArray&quot;: null, &quot;dashOffset&quot;: null, &quot;fill&quot;: false, &quot;fillColor&quot;: &quot;red&quot;, &quot;fillOpacity&quot;: 0.2, &quot;fillRule&quot;: &quot;evenodd&quot;, &quot;lineCap&quot;: &quot;round&quot;, &quot;lineJoin&quot;: &quot;round&quot;, &quot;noClip&quot;: false, &quot;opacity&quot;: 1, &quot;smoothFactor&quot;: 1.0, &quot;stroke&quot;: true, &quot;weight&quot;: 2.5}\n",
       "            ).addTo(map_fd4dc4c128e095d6a201787ff788fb46);\n",
       "        \n",
       "    \n",
       "            var marker_a51dba61e7bbde940a3d52e5c952ce64 = L.marker(\n",
       "                [42.352175, -71.055547],\n",
       "                {}\n",
       "            ).addTo(map_fd4dc4c128e095d6a201787ff788fb46);\n",
       "        \n",
       "    \n",
       "            var icon_c81cc1a8c14f188c05e39568a0e40d11 = L.AwesomeMarkers.icon(\n",
       "                {&quot;extraClasses&quot;: &quot;fa-rotate-0&quot;, &quot;icon&quot;: &quot;bicycle&quot;, &quot;iconColor&quot;: &quot;white&quot;, &quot;markerColor&quot;: &quot;blue&quot;, &quot;prefix&quot;: &quot;fa&quot;}\n",
       "            );\n",
       "            marker_a51dba61e7bbde940a3d52e5c952ce64.setIcon(icon_c81cc1a8c14f188c05e39568a0e40d11);\n",
       "        \n",
       "    \n",
       "        var popup_f026d9c9c18fa2a4a59c5c8a1dbd4cf7 = L.popup({&quot;maxWidth&quot;: &quot;100%&quot;});\n",
       "\n",
       "        \n",
       "            \n",
       "                var html_2904c703ba9a3f14881e879049c548ab = $(`&lt;div id=&quot;html_2904c703ba9a3f14881e879049c548ab&quot; style=&quot;width: 100.0%; height: 100.0%;&quot;&gt;(22, 2271)&lt;/div&gt;`)[0];\n",
       "                popup_f026d9c9c18fa2a4a59c5c8a1dbd4cf7.setContent(html_2904c703ba9a3f14881e879049c548ab);\n",
       "            \n",
       "        \n",
       "\n",
       "        marker_a51dba61e7bbde940a3d52e5c952ce64.bindPopup(popup_f026d9c9c18fa2a4a59c5c8a1dbd4cf7)\n",
       "        ;\n",
       "\n",
       "        \n",
       "    \n",
       "    \n",
       "            var marker_d6da6b7cad4f839cd7c1eb57c86ef45c = L.marker(\n",
       "                [42.362811, -71.056067],\n",
       "                {}\n",
       "            ).addTo(map_fd4dc4c128e095d6a201787ff788fb46);\n",
       "        \n",
       "    \n",
       "            var icon_74c8e41b36deecf473dade17691e3067 = L.AwesomeMarkers.icon(\n",
       "                {&quot;extraClasses&quot;: &quot;fa-rotate-0&quot;, &quot;icon&quot;: &quot;bicycle&quot;, &quot;iconColor&quot;: &quot;white&quot;, &quot;markerColor&quot;: &quot;blue&quot;, &quot;prefix&quot;: &quot;fa&quot;}\n",
       "            );\n",
       "            marker_d6da6b7cad4f839cd7c1eb57c86ef45c.setIcon(icon_74c8e41b36deecf473dade17691e3067);\n",
       "        \n",
       "    \n",
       "        var popup_91b0f0a940d99ba97eb2cc8bdf1c1d4a = L.popup({&quot;maxWidth&quot;: &quot;100%&quot;});\n",
       "\n",
       "        \n",
       "            \n",
       "                var html_65f5809a5bf9d314a789210ba7acee2b = $(`&lt;div id=&quot;html_65f5809a5bf9d314a789210ba7acee2b&quot; style=&quot;width: 100.0%; height: 100.0%;&quot;&gt;(&#x27;47&#x27;, 2271)&lt;/div&gt;`)[0];\n",
       "                popup_91b0f0a940d99ba97eb2cc8bdf1c1d4a.setContent(html_65f5809a5bf9d314a789210ba7acee2b);\n",
       "            \n",
       "        \n",
       "\n",
       "        marker_d6da6b7cad4f839cd7c1eb57c86ef45c.bindPopup(popup_91b0f0a940d99ba97eb2cc8bdf1c1d4a)\n",
       "        ;\n",
       "\n",
       "        \n",
       "    \n",
       "    \n",
       "            var poly_line_f7f29f3809c0122c5c51ea907ef93a52 = L.polyline(\n",
       "                [[42.36346469304347, -71.10057324171066], [42.3619622, -71.0920526]],\n",
       "                {&quot;bubblingMouseEvents&quot;: true, &quot;color&quot;: &quot;red&quot;, &quot;dashArray&quot;: null, &quot;dashOffset&quot;: null, &quot;fill&quot;: false, &quot;fillColor&quot;: &quot;red&quot;, &quot;fillOpacity&quot;: 0.2, &quot;fillRule&quot;: &quot;evenodd&quot;, &quot;lineCap&quot;: &quot;round&quot;, &quot;lineJoin&quot;: &quot;round&quot;, &quot;noClip&quot;: false, &quot;opacity&quot;: 1, &quot;smoothFactor&quot;: 1.0, &quot;stroke&quot;: true, &quot;weight&quot;: 2.5}\n",
       "            ).addTo(map_fd4dc4c128e095d6a201787ff788fb46);\n",
       "        \n",
       "    \n",
       "            var marker_b5fcd998b3fd24e055af579719157b1d = L.marker(\n",
       "                [42.36346469304347, -71.10057324171066],\n",
       "                {}\n",
       "            ).addTo(map_fd4dc4c128e095d6a201787ff788fb46);\n",
       "        \n",
       "    \n",
       "            var icon_1812640e21d457dc279e9975ddfef5a6 = L.AwesomeMarkers.icon(\n",
       "                {&quot;extraClasses&quot;: &quot;fa-rotate-0&quot;, &quot;icon&quot;: &quot;bicycle&quot;, &quot;iconColor&quot;: &quot;white&quot;, &quot;markerColor&quot;: &quot;blue&quot;, &quot;prefix&quot;: &quot;fa&quot;}\n",
       "            );\n",
       "            marker_b5fcd998b3fd24e055af579719157b1d.setIcon(icon_1812640e21d457dc279e9975ddfef5a6);\n",
       "        \n",
       "    \n",
       "        var popup_02243a2c54097adea12e89315510f09b = L.popup({&quot;maxWidth&quot;: &quot;100%&quot;});\n",
       "\n",
       "        \n",
       "            \n",
       "                var html_166f7878a97cda9abd697c55b43050d7 = $(`&lt;div id=&quot;html_166f7878a97cda9abd697c55b43050d7&quot; style=&quot;width: 100.0%; height: 100.0%;&quot;&gt;(75, 2251)&lt;/div&gt;`)[0];\n",
       "                popup_02243a2c54097adea12e89315510f09b.setContent(html_166f7878a97cda9abd697c55b43050d7);\n",
       "            \n",
       "        \n",
       "\n",
       "        marker_b5fcd998b3fd24e055af579719157b1d.bindPopup(popup_02243a2c54097adea12e89315510f09b)\n",
       "        ;\n",
       "\n",
       "        \n",
       "    \n",
       "    \n",
       "            var marker_5c1fc8fc704f762893a8c19bc6b330b8 = L.marker(\n",
       "                [42.3619622, -71.0920526],\n",
       "                {}\n",
       "            ).addTo(map_fd4dc4c128e095d6a201787ff788fb46);\n",
       "        \n",
       "    \n",
       "            var icon_8c0ebfa2414cd74a470df2d0572b165d = L.AwesomeMarkers.icon(\n",
       "                {&quot;extraClasses&quot;: &quot;fa-rotate-0&quot;, &quot;icon&quot;: &quot;bicycle&quot;, &quot;iconColor&quot;: &quot;white&quot;, &quot;markerColor&quot;: &quot;blue&quot;, &quot;prefix&quot;: &quot;fa&quot;}\n",
       "            );\n",
       "            marker_5c1fc8fc704f762893a8c19bc6b330b8.setIcon(icon_8c0ebfa2414cd74a470df2d0572b165d);\n",
       "        \n",
       "    \n",
       "        var popup_5dc641addc5d147f8bf944967e91834c = L.popup({&quot;maxWidth&quot;: &quot;100%&quot;});\n",
       "\n",
       "        \n",
       "            \n",
       "                var html_a5421359518f0331ad4a8d505123385e = $(`&lt;div id=&quot;html_a5421359518f0331ad4a8d505123385e&quot; style=&quot;width: 100.0%; height: 100.0%;&quot;&gt;(&#x27;80&#x27;, 2251)&lt;/div&gt;`)[0];\n",
       "                popup_5dc641addc5d147f8bf944967e91834c.setContent(html_a5421359518f0331ad4a8d505123385e);\n",
       "            \n",
       "        \n",
       "\n",
       "        marker_5c1fc8fc704f762893a8c19bc6b330b8.bindPopup(popup_5dc641addc5d147f8bf944967e91834c)\n",
       "        ;\n",
       "\n",
       "        \n",
       "    \n",
       "    \n",
       "            var poly_line_48a7d17f9146c2e7ea39bbb0cded9bb8 = L.polyline(\n",
       "                [[42.373268, -71.118579], [42.380287, -71.125107]],\n",
       "                {&quot;bubblingMouseEvents&quot;: true, &quot;color&quot;: &quot;red&quot;, &quot;dashArray&quot;: null, &quot;dashOffset&quot;: null, &quot;fill&quot;: false, &quot;fillColor&quot;: &quot;red&quot;, &quot;fillOpacity&quot;: 0.2, &quot;fillRule&quot;: &quot;evenodd&quot;, &quot;lineCap&quot;: &quot;round&quot;, &quot;lineJoin&quot;: &quot;round&quot;, &quot;noClip&quot;: false, &quot;opacity&quot;: 1, &quot;smoothFactor&quot;: 1.0, &quot;stroke&quot;: true, &quot;weight&quot;: 2.5}\n",
       "            ).addTo(map_fd4dc4c128e095d6a201787ff788fb46);\n",
       "        \n",
       "    \n",
       "            var marker_4bc3bf1b0eb2cd4e2e5075f6735ab517 = L.marker(\n",
       "                [42.373268, -71.118579],\n",
       "                {}\n",
       "            ).addTo(map_fd4dc4c128e095d6a201787ff788fb46);\n",
       "        \n",
       "    \n",
       "            var icon_520ac4e09f7c9958d5f2d34ff1ab0a85 = L.AwesomeMarkers.icon(\n",
       "                {&quot;extraClasses&quot;: &quot;fa-rotate-0&quot;, &quot;icon&quot;: &quot;bicycle&quot;, &quot;iconColor&quot;: &quot;white&quot;, &quot;markerColor&quot;: &quot;blue&quot;, &quot;prefix&quot;: &quot;fa&quot;}\n",
       "            );\n",
       "            marker_4bc3bf1b0eb2cd4e2e5075f6735ab517.setIcon(icon_520ac4e09f7c9958d5f2d34ff1ab0a85);\n",
       "        \n",
       "    \n",
       "        var popup_eb4a695f26a37f5bf433d88ed0d8ecb4 = L.popup({&quot;maxWidth&quot;: &quot;100%&quot;});\n",
       "\n",
       "        \n",
       "            \n",
       "                var html_8f315fa5c6645820479b787ee4fa2e09 = $(`&lt;div id=&quot;html_8f315fa5c6645820479b787ee4fa2e09&quot; style=&quot;width: 100.0%; height: 100.0%;&quot;&gt;(74, 2193)&lt;/div&gt;`)[0];\n",
       "                popup_eb4a695f26a37f5bf433d88ed0d8ecb4.setContent(html_8f315fa5c6645820479b787ee4fa2e09);\n",
       "            \n",
       "        \n",
       "\n",
       "        marker_4bc3bf1b0eb2cd4e2e5075f6735ab517.bindPopup(popup_eb4a695f26a37f5bf433d88ed0d8ecb4)\n",
       "        ;\n",
       "\n",
       "        \n",
       "    \n",
       "    \n",
       "            var marker_0f920e5aad806d10cc6b0a932007441b = L.marker(\n",
       "                [42.380287, -71.125107],\n",
       "                {}\n",
       "            ).addTo(map_fd4dc4c128e095d6a201787ff788fb46);\n",
       "        \n",
       "    \n",
       "            var icon_1b456636ad1b67e94bd6d9bfe1b99418 = L.AwesomeMarkers.icon(\n",
       "                {&quot;extraClasses&quot;: &quot;fa-rotate-0&quot;, &quot;icon&quot;: &quot;bicycle&quot;, &quot;iconColor&quot;: &quot;white&quot;, &quot;markerColor&quot;: &quot;blue&quot;, &quot;prefix&quot;: &quot;fa&quot;}\n",
       "            );\n",
       "            marker_0f920e5aad806d10cc6b0a932007441b.setIcon(icon_1b456636ad1b67e94bd6d9bfe1b99418);\n",
       "        \n",
       "    \n",
       "        var popup_acc484edffd140b1343a3ae7fc482acd = L.popup({&quot;maxWidth&quot;: &quot;100%&quot;});\n",
       "\n",
       "        \n",
       "            \n",
       "                var html_ca5d04936017f9730a7370bb1bf204ab = $(`&lt;div id=&quot;html_ca5d04936017f9730a7370bb1bf204ab&quot; style=&quot;width: 100.0%; height: 100.0%;&quot;&gt;(&#x27;104&#x27;, 2193)&lt;/div&gt;`)[0];\n",
       "                popup_acc484edffd140b1343a3ae7fc482acd.setContent(html_ca5d04936017f9730a7370bb1bf204ab);\n",
       "            \n",
       "        \n",
       "\n",
       "        marker_0f920e5aad806d10cc6b0a932007441b.bindPopup(popup_acc484edffd140b1343a3ae7fc482acd)\n",
       "        ;\n",
       "\n",
       "        \n",
       "    \n",
       "    \n",
       "            var poly_line_5edaf11a730ff21e90fab19a3c51f7f8 = L.polyline(\n",
       "                [[42.3581, -71.093198], [42.3619622, -71.0920526]],\n",
       "                {&quot;bubblingMouseEvents&quot;: true, &quot;color&quot;: &quot;red&quot;, &quot;dashArray&quot;: null, &quot;dashOffset&quot;: null, &quot;fill&quot;: false, &quot;fillColor&quot;: &quot;red&quot;, &quot;fillOpacity&quot;: 0.2, &quot;fillRule&quot;: &quot;evenodd&quot;, &quot;lineCap&quot;: &quot;round&quot;, &quot;lineJoin&quot;: &quot;round&quot;, &quot;noClip&quot;: false, &quot;opacity&quot;: 1, &quot;smoothFactor&quot;: 1.0, &quot;stroke&quot;: true, &quot;weight&quot;: 2.5}\n",
       "            ).addTo(map_fd4dc4c128e095d6a201787ff788fb46);\n",
       "        \n",
       "    \n",
       "            var marker_ff4843c27e3fa3052965a393859d3297 = L.marker(\n",
       "                [42.3581, -71.093198],\n",
       "                {}\n",
       "            ).addTo(map_fd4dc4c128e095d6a201787ff788fb46);\n",
       "        \n",
       "    \n",
       "            var icon_d2091d0ef44dda10da40b037b43ae8b1 = L.AwesomeMarkers.icon(\n",
       "                {&quot;extraClasses&quot;: &quot;fa-rotate-0&quot;, &quot;icon&quot;: &quot;bicycle&quot;, &quot;iconColor&quot;: &quot;white&quot;, &quot;markerColor&quot;: &quot;blue&quot;, &quot;prefix&quot;: &quot;fa&quot;}\n",
       "            );\n",
       "            marker_ff4843c27e3fa3052965a393859d3297.setIcon(icon_d2091d0ef44dda10da40b037b43ae8b1);\n",
       "        \n",
       "    \n",
       "        var popup_23089cd18ded7264b22aa38a1dfd32f0 = L.popup({&quot;maxWidth&quot;: &quot;100%&quot;});\n",
       "\n",
       "        \n",
       "            \n",
       "                var html_307e952e9e7363bd3dff394fd7840e0f = $(`&lt;div id=&quot;html_307e952e9e7363bd3dff394fd7840e0f&quot; style=&quot;width: 100.0%; height: 100.0%;&quot;&gt;(67, 2122)&lt;/div&gt;`)[0];\n",
       "                popup_23089cd18ded7264b22aa38a1dfd32f0.setContent(html_307e952e9e7363bd3dff394fd7840e0f);\n",
       "            \n",
       "        \n",
       "\n",
       "        marker_ff4843c27e3fa3052965a393859d3297.bindPopup(popup_23089cd18ded7264b22aa38a1dfd32f0)\n",
       "        ;\n",
       "\n",
       "        \n",
       "    \n",
       "    \n",
       "            var marker_058d8b7de47c9b7fb3e0d04cbd484aa1 = L.marker(\n",
       "                [42.3619622, -71.0920526],\n",
       "                {}\n",
       "            ).addTo(map_fd4dc4c128e095d6a201787ff788fb46);\n",
       "        \n",
       "    \n",
       "            var icon_16e9e9a698fec43494b910d260a58096 = L.AwesomeMarkers.icon(\n",
       "                {&quot;extraClasses&quot;: &quot;fa-rotate-0&quot;, &quot;icon&quot;: &quot;bicycle&quot;, &quot;iconColor&quot;: &quot;white&quot;, &quot;markerColor&quot;: &quot;blue&quot;, &quot;prefix&quot;: &quot;fa&quot;}\n",
       "            );\n",
       "            marker_058d8b7de47c9b7fb3e0d04cbd484aa1.setIcon(icon_16e9e9a698fec43494b910d260a58096);\n",
       "        \n",
       "    \n",
       "        var popup_0b104413721b219863bdca8b854f7078 = L.popup({&quot;maxWidth&quot;: &quot;100%&quot;});\n",
       "\n",
       "        \n",
       "            \n",
       "                var html_a719edebb30a03c8a94176bf51154ab2 = $(`&lt;div id=&quot;html_a719edebb30a03c8a94176bf51154ab2&quot; style=&quot;width: 100.0%; height: 100.0%;&quot;&gt;(&#x27;80&#x27;, 2122)&lt;/div&gt;`)[0];\n",
       "                popup_0b104413721b219863bdca8b854f7078.setContent(html_a719edebb30a03c8a94176bf51154ab2);\n",
       "            \n",
       "        \n",
       "\n",
       "        marker_058d8b7de47c9b7fb3e0d04cbd484aa1.bindPopup(popup_0b104413721b219863bdca8b854f7078)\n",
       "        ;\n",
       "\n",
       "        \n",
       "    \n",
       "&lt;/script&gt;\n",
       "&lt;/html&gt;\" style=\"position:absolute;width:100%;height:100%;left:0;top:0;border:none !important;\" allowfullscreen webkitallowfullscreen mozallowfullscreen></iframe></div></div>"
      ],
      "text/plain": [
       "<folium.folium.Map at 0x7f9b48f838b0>"
      ]
     },
     "execution_count": 53,
     "metadata": {},
     "output_type": "execute_result"
    }
   ],
   "source": [
    "#mapping the top trips \n",
    "\n",
    "\n",
    "avg_lat = df_trips['start_station_latitude'].mean()\n",
    "avg_long = df_trips['start_station_longitude'].mean()\n",
    "\n",
    "m = folium.Map(location=[avg_lat, avg_long], zoom_start=15)\n",
    "\n",
    "points = []\n",
    "\n",
    "\n",
    "for i in range(0,len(df_top_trips)):\n",
    "    points.append([df_top_trips.iloc[i]['start_station_latitude'],df_top_trips.iloc[i]['start_station_longitude']])\n",
    "    points.append([df_top_trips.iloc[i]['end_station_latitude'],df_top_trips.iloc[i]['end_station_longitude']])\n",
    "    folium.PolyLine(points, color=\"red\", weight=2.5, opacity=1).add_to(m)\n",
    "    folium.Marker([df_top_trips.iloc[i]['start_station_latitude'],df_top_trips.iloc[i]['start_station_longitude']],popup=(df_top_trips.iloc[i]['Station_A'], df_top_trips.iloc[i]['count_trips' ]), icon = folium.Icon(color='blue',prefix='fa', icon='bicycle')).add_to(m)\n",
    "    folium.Marker([df_top_trips.iloc[i]['end_station_latitude'],df_top_trips.iloc[i]['end_station_longitude']],popup=(df_top_trips.iloc[i]['Station_B'], df_top_trips.iloc[i]['count_trips' ]), icon = folium.Icon(color='blue',prefix='fa', icon='bicycle')).add_to(m)\n",
    "    points = [] #if points is not reseted then each station will be connected with every other station in array\n",
    "\n",
    "m \n",
    "\n",
    "#findings: near universities (harvard and mit) as well as around citycenter(haymarket) and the trainstations (north and south)"
   ]
  }
 ],
 "metadata": {
  "kernelspec": {
   "display_name": "AAproject",
   "language": "python",
   "name": "python3"
  },
  "language_info": {
   "codemirror_mode": {
    "name": "ipython",
    "version": 3
   },
   "file_extension": ".py",
   "mimetype": "text/x-python",
   "name": "python",
   "nbconvert_exporter": "python",
   "pygments_lexer": "ipython3",
   "version": "3.9.15"
  },
  "orig_nbformat": 4,
  "vscode": {
   "interpreter": {
    "hash": "4bda6f00b1c96ac5a9a9d5d0da9c426f670222a35f5423f5287bfe0ddc8184d4"
   }
  }
 },
 "nbformat": 4,
 "nbformat_minor": 2
}
