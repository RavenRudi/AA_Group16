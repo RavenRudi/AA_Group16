{
 "cells": [
  {
   "cell_type": "code",
   "execution_count": 2,
   "metadata": {},
   "outputs": [],
   "source": [
    "import pandas as pd\n",
    "import numpy as np\n",
    "import folium\n",
    "import plotly.express as px\n",
    "import seaborn as sns\n",
    "from folium import plugins\n",
    "from folium.plugins import HeatMap"
   ]
  },
  {
   "attachments": {},
   "cell_type": "markdown",
   "metadata": {},
   "source": [
    "# Load processed dataframe"
   ]
  },
  {
   "cell_type": "code",
   "execution_count": 3,
   "metadata": {},
   "outputs": [
    {
     "name": "stdout",
     "output_type": "stream",
     "text": [
      "<class 'pandas.core.frame.DataFrame'>\n",
      "RangeIndex: 1106095 entries, 0 to 1106094\n",
      "Data columns (total 14 columns):\n",
      " #   Column                   Non-Null Count    Dtype         \n",
      "---  ------                   --------------    -----         \n",
      " 0   start_time               1106095 non-null  datetime64[ns]\n",
      " 1   end_time                 1106095 non-null  datetime64[ns]\n",
      " 2   start_station_id         1106095 non-null  int64         \n",
      " 3   end_station_id           1106095 non-null  string        \n",
      " 4   start_station_name       1106095 non-null  string        \n",
      " 5   end_station_name         1106095 non-null  string        \n",
      " 6   bike_id                  1106095 non-null  int64         \n",
      " 7   user_type                1106095 non-null  string        \n",
      " 8   trip_length              1106095 non-null  float64       \n",
      " 9   start_station_latitude   1106095 non-null  float64       \n",
      " 10  start_station_longitude  1106095 non-null  float64       \n",
      " 11  end_station_latitude     1106095 non-null  float64       \n",
      " 12  end_station_longitude    1106095 non-null  float64       \n",
      " 13  date_time                1106095 non-null  object        \n",
      "dtypes: datetime64[ns](2), float64(5), int64(2), object(1), string(4)\n",
      "memory usage: 118.1+ MB\n"
     ]
    }
   ],
   "source": [
    "df_boston = pd.read_csv('./data/prepared/rides_data_prepared.csv', dtype={'start_station_id': np.int64, 'end_station_id': 'string', 'end_station_name': 'string', 'start_station_name': 'string', 'bike_id': np.int64, 'user_type': 'string'})\n",
    "df_boston['start_time'] = pd.to_datetime(df_boston['start_time'], format='%Y-%m-%d %X')\n",
    "df_boston['end_time'] = pd.to_datetime(df_boston['end_time'], format='%Y-%m-%d %X')\n",
    "df_boston.info()"
   ]
  },
  {
   "cell_type": "code",
   "execution_count": 13,
   "metadata": {},
   "outputs": [
    {
     "data": {
      "text/html": [
       "<div>\n",
       "<style scoped>\n",
       "    .dataframe tbody tr th:only-of-type {\n",
       "        vertical-align: middle;\n",
       "    }\n",
       "\n",
       "    .dataframe tbody tr th {\n",
       "        vertical-align: top;\n",
       "    }\n",
       "\n",
       "    .dataframe thead th {\n",
       "        text-align: right;\n",
       "    }\n",
       "</style>\n",
       "<table border=\"1\" class=\"dataframe\">\n",
       "  <thead>\n",
       "    <tr style=\"text-align: right;\">\n",
       "      <th></th>\n",
       "      <th>start_time</th>\n",
       "      <th>end_time</th>\n",
       "      <th>start_station_id</th>\n",
       "      <th>end_station_id</th>\n",
       "      <th>start_station_name</th>\n",
       "      <th>end_station_name</th>\n",
       "      <th>bike_id</th>\n",
       "      <th>user_type</th>\n",
       "      <th>trip_length</th>\n",
       "      <th>start_station_latitude</th>\n",
       "      <th>start_station_longitude</th>\n",
       "      <th>end_station_latitude</th>\n",
       "      <th>end_station_longitude</th>\n",
       "      <th>date_time</th>\n",
       "    </tr>\n",
       "  </thead>\n",
       "  <tbody>\n",
       "    <tr>\n",
       "      <th>0</th>\n",
       "      <td>2015-01-01 00:21:44</td>\n",
       "      <td>2015-01-01 00:30:47</td>\n",
       "      <td>115</td>\n",
       "      <td>96</td>\n",
       "      <td>Porter Square Station</td>\n",
       "      <td>Cambridge Main Library at Broadway / Trowbridg...</td>\n",
       "      <td>277</td>\n",
       "      <td>Subscriber</td>\n",
       "      <td>543.0</td>\n",
       "      <td>42.387995</td>\n",
       "      <td>-71.119084</td>\n",
       "      <td>42.373379</td>\n",
       "      <td>-71.111075</td>\n",
       "      <td>2015-01-01 00:00:00</td>\n",
       "    </tr>\n",
       "    <tr>\n",
       "      <th>1</th>\n",
       "      <td>2015-01-01 00:27:03</td>\n",
       "      <td>2015-01-01 00:34:21</td>\n",
       "      <td>80</td>\n",
       "      <td>95</td>\n",
       "      <td>MIT Stata Center at Vassar St / Main St</td>\n",
       "      <td>Cambridge St - at Columbia St / Webster Ave</td>\n",
       "      <td>648</td>\n",
       "      <td>Subscriber</td>\n",
       "      <td>438.0</td>\n",
       "      <td>42.361962</td>\n",
       "      <td>-71.092053</td>\n",
       "      <td>42.372969</td>\n",
       "      <td>-71.094445</td>\n",
       "      <td>2015-01-01 00:00:00</td>\n",
       "    </tr>\n",
       "    <tr>\n",
       "      <th>2</th>\n",
       "      <td>2015-01-01 00:31:31</td>\n",
       "      <td>2015-01-01 00:35:46</td>\n",
       "      <td>91</td>\n",
       "      <td>68</td>\n",
       "      <td>One Kendall Square at Hampshire St / Portland St</td>\n",
       "      <td>Central Square at Mass Ave / Essex St</td>\n",
       "      <td>555</td>\n",
       "      <td>Subscriber</td>\n",
       "      <td>255.0</td>\n",
       "      <td>42.366277</td>\n",
       "      <td>-71.091690</td>\n",
       "      <td>42.365070</td>\n",
       "      <td>-71.103100</td>\n",
       "      <td>2015-01-01 01:00:00</td>\n",
       "    </tr>\n",
       "    <tr>\n",
       "      <th>3</th>\n",
       "      <td>2015-01-01 00:53:46</td>\n",
       "      <td>2015-01-01 01:00:58</td>\n",
       "      <td>115</td>\n",
       "      <td>96</td>\n",
       "      <td>Porter Square Station</td>\n",
       "      <td>Cambridge Main Library at Broadway / Trowbridg...</td>\n",
       "      <td>1307</td>\n",
       "      <td>Subscriber</td>\n",
       "      <td>432.0</td>\n",
       "      <td>42.387995</td>\n",
       "      <td>-71.119084</td>\n",
       "      <td>42.373379</td>\n",
       "      <td>-71.111075</td>\n",
       "      <td>2015-01-01 01:00:00</td>\n",
       "    </tr>\n",
       "    <tr>\n",
       "      <th>4</th>\n",
       "      <td>2015-01-01 01:07:06</td>\n",
       "      <td>2015-01-01 01:19:21</td>\n",
       "      <td>105</td>\n",
       "      <td>88</td>\n",
       "      <td>Lower Cambridgeport at Magazine St/Riverside Rd</td>\n",
       "      <td>Inman Square at Vellucci Plaza / Hampshire St</td>\n",
       "      <td>177</td>\n",
       "      <td>Customer</td>\n",
       "      <td>735.0</td>\n",
       "      <td>42.356954</td>\n",
       "      <td>-71.113687</td>\n",
       "      <td>42.374035</td>\n",
       "      <td>-71.101427</td>\n",
       "      <td>2015-01-01 01:00:00</td>\n",
       "    </tr>\n",
       "  </tbody>\n",
       "</table>\n",
       "</div>"
      ],
      "text/plain": [
       "           start_time            end_time  start_station_id end_station_id  \\\n",
       "0 2015-01-01 00:21:44 2015-01-01 00:30:47               115             96   \n",
       "1 2015-01-01 00:27:03 2015-01-01 00:34:21                80             95   \n",
       "2 2015-01-01 00:31:31 2015-01-01 00:35:46                91             68   \n",
       "3 2015-01-01 00:53:46 2015-01-01 01:00:58               115             96   \n",
       "4 2015-01-01 01:07:06 2015-01-01 01:19:21               105             88   \n",
       "\n",
       "                                 start_station_name  \\\n",
       "0                             Porter Square Station   \n",
       "1           MIT Stata Center at Vassar St / Main St   \n",
       "2  One Kendall Square at Hampshire St / Portland St   \n",
       "3                             Porter Square Station   \n",
       "4   Lower Cambridgeport at Magazine St/Riverside Rd   \n",
       "\n",
       "                                    end_station_name  bike_id   user_type  \\\n",
       "0  Cambridge Main Library at Broadway / Trowbridg...      277  Subscriber   \n",
       "1        Cambridge St - at Columbia St / Webster Ave      648  Subscriber   \n",
       "2              Central Square at Mass Ave / Essex St      555  Subscriber   \n",
       "3  Cambridge Main Library at Broadway / Trowbridg...     1307  Subscriber   \n",
       "4      Inman Square at Vellucci Plaza / Hampshire St      177    Customer   \n",
       "\n",
       "   trip_length  start_station_latitude  start_station_longitude  \\\n",
       "0        543.0               42.387995               -71.119084   \n",
       "1        438.0               42.361962               -71.092053   \n",
       "2        255.0               42.366277               -71.091690   \n",
       "3        432.0               42.387995               -71.119084   \n",
       "4        735.0               42.356954               -71.113687   \n",
       "\n",
       "   end_station_latitude  end_station_longitude            date_time  \n",
       "0             42.373379             -71.111075  2015-01-01 00:00:00  \n",
       "1             42.372969             -71.094445  2015-01-01 00:00:00  \n",
       "2             42.365070             -71.103100  2015-01-01 01:00:00  \n",
       "3             42.373379             -71.111075  2015-01-01 01:00:00  \n",
       "4             42.374035             -71.101427  2015-01-01 01:00:00  "
      ]
     },
     "execution_count": 13,
     "metadata": {},
     "output_type": "execute_result"
    }
   ],
   "source": [
    "df_boston.head()"
   ]
  },
  {
   "attachments": {},
   "cell_type": "markdown",
   "metadata": {},
   "source": [
    "# Station analysis"
   ]
  },
  {
   "attachments": {},
   "cell_type": "markdown",
   "metadata": {},
   "source": [
    "## Starts stations volume  per year\n",
    "Visualization which contains information on how many rides start at a respective station per year"
   ]
  },
  {
   "cell_type": "code",
   "execution_count": 20,
   "metadata": {},
   "outputs": [],
   "source": [
    "#prepare dataframe that only includes start stations used by subscribers and customers\n",
    "df_start = df_boston.groupby(['start_station_id','start_station_latitude', 'start_station_longitude', 'user_type']).size().reset_index(name='counts_start')\n",
    "df_start_s = df_start[df_start['user_type'] == 'Subscriber']\n",
    "df_start_c = df_start[df_start['user_type'] == 'Customer']"
   ]
  },
  {
   "cell_type": "code",
   "execution_count": 29,
   "metadata": {},
   "outputs": [
    {
     "data": {
      "application/vnd.plotly.v1+json": {
       "config": {
        "plotlyServerURL": "https://plot.ly"
       },
       "data": [
        {
         "hovertemplate": "counts_start=%{marker.color}<br>start_station_latitude=%{lat}<br>start_station_longitude=%{lon}<extra></extra>",
         "lat": [
          42.387151,
          42.340021,
          42.345392,
          42.341814,
          42.361174,
          42.35328743453294,
          42.353334,
          42.351246,
          42.350406,
          42.338629,
          42.335911,
          42.336437,
          42.337171,
          42.361667,
          42.34807412317439,
          42.365064,
          42.347241,
          42.35977,
          42.345959,
          42.352175,
          42.35892,
          42.351205,
          42.341332,
          42.341522,
          42.331184,
          42.363732,
          42.334073,
          42.348833,
          42.343912,
          42.348706,
          42.355402,
          42.349673,
          42.357402,
          42.366222,
          42.338623,
          42.363871,
          42.352261,
          42.352033,
          42.357143,
          42.360613,
          42.344706,
          42.343864,
          42.362811,
          42.356755,
          42.351146,
          42.350989,
          42.3348756,
          42.348717,
          42.350851,
          42.354979,
          42.347265,
          42.328654,
          42.340799,
          42.355596,
          42.351356,
          42.360835,
          42.348762,
          42.344023,
          42.3511,
          42.3475,
          42.348607,
          42.3581,
          42.36507,
          42.341598,
          42.371196,
          42.383405,
          42.362613,
          42.373231,
          42.373268,
          42.36346469304347,
          42.366426,
          42.386844,
          42.379637,
          42.37842,
          42.3619622,
          42.352409,
          42.339335,
          42.366981,
          42.378338,
          42.332799,
          42.366621,
          42.374035,
          42.379011,
          42.370677,
          42.366277,
          42.314507,
          42.320494,
          42.375603,
          42.372969,
          42.373379,
          42.36919031768079,
          42.371848,
          42.385582,
          42.396969,
          42.400877,
          42.346563,
          42.380287,
          42.356954,
          42.325333,
          42.3625,
          42.377945,
          42.365942,
          42.376369,
          42.40449,
          42.39082,
          42.330716,
          42.402763,
          42.387995,
          42.370803,
          42.366095,
          42.397828,
          42.335741,
          42.356052,
          42.335693,
          42.345733,
          42.313156,
          42.309054,
          42.320998,
          42.315692,
          42.320561,
          42.377022,
          42.317225,
          42.322701,
          42.394002,
          42.310579,
          42.350413,
          42.344827,
          42.344796,
          42.398365,
          42.326599,
          42.361589,
          42.388966,
          42.36356015842989,
          42.396105,
          42.369885,
          42.392766,
          42.363796,
          42.344137,
          42.358155,
          42.345901,
          42.32797270205962,
          42.337596,
          42.3391085,
          42.309796,
          42.344792,
          42.317642,
          42.378965,
          42.303469,
          42.37408991426522,
          42.34900494405213,
          42.34894857235593,
          42.38674802045056,
          42.36264779118595,
          42.35957320109044,
          42.35560121327927,
          42.37478628706384
         ],
         "legendgroup": "",
         "lon": [
          -71.075978,
          -71.100812,
          -71.069616,
          -71.090179,
          -71.065142,
          -71.04438900947571,
          -71.137313,
          -71.115639,
          -71.108279,
          -71.1065,
          -71.088496,
          -71.073089,
          -71.102797,
          -71.13802,
          -71.07657015323639,
          -71.119233,
          -71.105301,
          -71.051601,
          -71.082578,
          -71.055547,
          -71.057629,
          -71.043983,
          -71.076847,
          -71.068922,
          -71.095171,
          -71.124565,
          -71.105221,
          -71.041747,
          -71.102221,
          -71.097009,
          -71.058087,
          -71.077303,
          -71.147782,
          -71.059914,
          -71.074182,
          -71.050877,
          -71.123831,
          -71.070627,
          -71.050699,
          -71.057452,
          -71.097515,
          -71.085918,
          -71.056067,
          -71.055407,
          -71.066289,
          -71.073644,
          -71.0790969,
          -71.085954,
          -71.089886,
          -71.063348,
          -71.088088,
          -71.084198,
          -71.081572,
          -71.07278,
          -71.059367,
          -71.0708399,
          -71.082383,
          -71.057054,
          -71.0496,
          -71.0441,
          -71.13401,
          -71.093198,
          -71.1031,
          -71.123338,
          -71.121473,
          -71.107593,
          -71.084105,
          -71.120886,
          -71.118579,
          -71.10057324171066,
          -71.105495,
          -71.09812,
          -71.095319,
          -71.105668,
          -71.0920526,
          -71.062679,
          -71.13493,
          -71.076472,
          -71.048927,
          -71.116205,
          -71.114214,
          -71.101427,
          -71.119945,
          -71.076529,
          -71.09169,
          -71.041269,
          -71.051122,
          -71.064608,
          -71.094445,
          -71.111075,
          -71.11714124679565,
          -71.060292,
          -71.113341,
          -71.123024,
          -71.116772,
          -71.128374,
          -71.125107,
          -71.113687,
          -71.075354,
          -71.08822,
          -71.116865,
          -71.060515,
          -71.114025,
          -71.123413,
          -71.10942,
          -71.057044,
          -71.126908,
          -71.119084,
          -71.104412,
          -71.086388,
          -71.130516,
          -71.03877,
          -71.069849,
          -71.045859,
          -71.100694,
          -71.11414,
          -71.11543,
          -71.110833,
          -71.098634,
          -71.06198,
          -71.056605,
          -71.065421,
          -71.099533,
          -71.120406,
          -71.107341,
          -71.07655,
          -71.028664,
          -71.031614,
          -71.107818,
          -71.066498,
          -71.107437,
          -71.132788,
          -71.08216792345047,
          -71.139459,
          -71.069957,
          -71.129042,
          -71.129164,
          -71.052608,
          -71.052163,
          -71.063187,
          -71.11089706420898,
          -71.096391,
          -71.0514432,
          -71.092225,
          -71.044024,
          -71.056664,
          -71.068607,
          -71.085347,
          -71.06905996799469,
          -71.1604106426239,
          -71.15027189254761,
          -71.11901879310608,
          -71.10006093978882,
          -71.10129475593567,
          -71.10394477844238,
          -71.13320231437683
         ],
         "marker": {
          "color": [
           49,
           4096,
           4749,
           4590,
           6967,
           2780,
           2777,
           5202,
           4788,
           6511,
           4269,
           6234,
           7798,
           1439,
           8071,
           5523,
           4523,
           6874,
           7573,
           14337,
           8476,
           4102,
           4003,
           4632,
           2911,
           2285,
           4257,
           4286,
           5824,
           10132,
           4353,
           12035,
           892,
           6501,
           5040,
           5215,
           5471,
           7996,
           4908,
           4743,
           6608,
           8162,
           8595,
           4339,
           4454,
           4754,
           1869,
           6466,
           10508,
           7909,
           7557,
           1388,
           4650,
           8506,
           4611,
           11174,
           7227,
           1640,
           4916,
           3509,
           3901,
           25889,
           15470,
           4426,
           6196,
           3909,
           11071,
           7744,
           18366,
           15126,
           10225,
           1448,
           4266,
           3252,
           13963,
           6661,
           2211,
           6696,
           2851,
           2747,
           8078,
           9091,
           5343,
           7670,
           9849,
           511,
           967,
           3133,
           6840,
           7809,
           5043,
           6573,
           2624,
           5772,
           1067,
           2515,
           4823,
           7972,
           595,
           11878,
           6960,
           9375,
           7877,
           1253,
           1627,
           1528,
           2080,
           7115,
           6850,
           4889,
           2557,
           2562,
           5706,
           2831,
           2166,
           1357,
           1521,
           2266,
           993,
           321,
           1675,
           471,
           2087,
           1006,
           2119,
           2803,
           2437,
           2849,
           957,
           742,
           3840,
           1998,
           4431,
           1858,
           4353,
           896,
           3674,
           3229,
           3947,
           3447,
           128,
           602,
           454,
           47,
           405,
           45,
           302,
           32,
           187,
           65,
           145,
           198,
           690,
           1113,
           843,
           146
          ],
          "coloraxis": "coloraxis",
          "size": [
           49,
           4096,
           4749,
           4590,
           6967,
           2780,
           2777,
           5202,
           4788,
           6511,
           4269,
           6234,
           7798,
           1439,
           8071,
           5523,
           4523,
           6874,
           7573,
           14337,
           8476,
           4102,
           4003,
           4632,
           2911,
           2285,
           4257,
           4286,
           5824,
           10132,
           4353,
           12035,
           892,
           6501,
           5040,
           5215,
           5471,
           7996,
           4908,
           4743,
           6608,
           8162,
           8595,
           4339,
           4454,
           4754,
           1869,
           6466,
           10508,
           7909,
           7557,
           1388,
           4650,
           8506,
           4611,
           11174,
           7227,
           1640,
           4916,
           3509,
           3901,
           25889,
           15470,
           4426,
           6196,
           3909,
           11071,
           7744,
           18366,
           15126,
           10225,
           1448,
           4266,
           3252,
           13963,
           6661,
           2211,
           6696,
           2851,
           2747,
           8078,
           9091,
           5343,
           7670,
           9849,
           511,
           967,
           3133,
           6840,
           7809,
           5043,
           6573,
           2624,
           5772,
           1067,
           2515,
           4823,
           7972,
           595,
           11878,
           6960,
           9375,
           7877,
           1253,
           1627,
           1528,
           2080,
           7115,
           6850,
           4889,
           2557,
           2562,
           5706,
           2831,
           2166,
           1357,
           1521,
           2266,
           993,
           321,
           1675,
           471,
           2087,
           1006,
           2119,
           2803,
           2437,
           2849,
           957,
           742,
           3840,
           1998,
           4431,
           1858,
           4353,
           896,
           3674,
           3229,
           3947,
           3447,
           128,
           602,
           454,
           47,
           405,
           45,
           302,
           32,
           187,
           65,
           145,
           198,
           690,
           1113,
           843,
           146
          ],
          "sizemode": "area",
          "sizeref": 64.7225
         },
         "mode": "markers",
         "name": "",
         "showlegend": false,
         "subplot": "mapbox",
         "type": "scattermapbox"
        }
       ],
       "layout": {
        "coloraxis": {
         "colorbar": {
          "title": {
           "text": "counts_start"
          }
         },
         "colorscale": [
          [
           0,
           "orange"
          ],
          [
           1,
           "red"
          ]
         ]
        },
        "height": 300,
        "legend": {
         "itemsizing": "constant",
         "tracegroupgap": 0
        },
        "mapbox": {
         "center": {
          "lat": 42.355539267132464,
          "lon": -71.08955563028009
         },
         "domain": {
          "x": [
           0,
           1
          ],
          "y": [
           0,
           1
          ]
         },
         "style": "open-street-map",
         "zoom": 12
        },
        "margin": {
         "b": 0,
         "l": 0,
         "r": 0,
         "t": 0
        },
        "template": {
         "data": {
          "bar": [
           {
            "error_x": {
             "color": "#2a3f5f"
            },
            "error_y": {
             "color": "#2a3f5f"
            },
            "marker": {
             "line": {
              "color": "#E5ECF6",
              "width": 0.5
             },
             "pattern": {
              "fillmode": "overlay",
              "size": 10,
              "solidity": 0.2
             }
            },
            "type": "bar"
           }
          ],
          "barpolar": [
           {
            "marker": {
             "line": {
              "color": "#E5ECF6",
              "width": 0.5
             },
             "pattern": {
              "fillmode": "overlay",
              "size": 10,
              "solidity": 0.2
             }
            },
            "type": "barpolar"
           }
          ],
          "carpet": [
           {
            "aaxis": {
             "endlinecolor": "#2a3f5f",
             "gridcolor": "white",
             "linecolor": "white",
             "minorgridcolor": "white",
             "startlinecolor": "#2a3f5f"
            },
            "baxis": {
             "endlinecolor": "#2a3f5f",
             "gridcolor": "white",
             "linecolor": "white",
             "minorgridcolor": "white",
             "startlinecolor": "#2a3f5f"
            },
            "type": "carpet"
           }
          ],
          "choropleth": [
           {
            "colorbar": {
             "outlinewidth": 0,
             "ticks": ""
            },
            "type": "choropleth"
           }
          ],
          "contour": [
           {
            "colorbar": {
             "outlinewidth": 0,
             "ticks": ""
            },
            "colorscale": [
             [
              0,
              "#0d0887"
             ],
             [
              0.1111111111111111,
              "#46039f"
             ],
             [
              0.2222222222222222,
              "#7201a8"
             ],
             [
              0.3333333333333333,
              "#9c179e"
             ],
             [
              0.4444444444444444,
              "#bd3786"
             ],
             [
              0.5555555555555556,
              "#d8576b"
             ],
             [
              0.6666666666666666,
              "#ed7953"
             ],
             [
              0.7777777777777778,
              "#fb9f3a"
             ],
             [
              0.8888888888888888,
              "#fdca26"
             ],
             [
              1,
              "#f0f921"
             ]
            ],
            "type": "contour"
           }
          ],
          "contourcarpet": [
           {
            "colorbar": {
             "outlinewidth": 0,
             "ticks": ""
            },
            "type": "contourcarpet"
           }
          ],
          "heatmap": [
           {
            "colorbar": {
             "outlinewidth": 0,
             "ticks": ""
            },
            "colorscale": [
             [
              0,
              "#0d0887"
             ],
             [
              0.1111111111111111,
              "#46039f"
             ],
             [
              0.2222222222222222,
              "#7201a8"
             ],
             [
              0.3333333333333333,
              "#9c179e"
             ],
             [
              0.4444444444444444,
              "#bd3786"
             ],
             [
              0.5555555555555556,
              "#d8576b"
             ],
             [
              0.6666666666666666,
              "#ed7953"
             ],
             [
              0.7777777777777778,
              "#fb9f3a"
             ],
             [
              0.8888888888888888,
              "#fdca26"
             ],
             [
              1,
              "#f0f921"
             ]
            ],
            "type": "heatmap"
           }
          ],
          "heatmapgl": [
           {
            "colorbar": {
             "outlinewidth": 0,
             "ticks": ""
            },
            "colorscale": [
             [
              0,
              "#0d0887"
             ],
             [
              0.1111111111111111,
              "#46039f"
             ],
             [
              0.2222222222222222,
              "#7201a8"
             ],
             [
              0.3333333333333333,
              "#9c179e"
             ],
             [
              0.4444444444444444,
              "#bd3786"
             ],
             [
              0.5555555555555556,
              "#d8576b"
             ],
             [
              0.6666666666666666,
              "#ed7953"
             ],
             [
              0.7777777777777778,
              "#fb9f3a"
             ],
             [
              0.8888888888888888,
              "#fdca26"
             ],
             [
              1,
              "#f0f921"
             ]
            ],
            "type": "heatmapgl"
           }
          ],
          "histogram": [
           {
            "marker": {
             "pattern": {
              "fillmode": "overlay",
              "size": 10,
              "solidity": 0.2
             }
            },
            "type": "histogram"
           }
          ],
          "histogram2d": [
           {
            "colorbar": {
             "outlinewidth": 0,
             "ticks": ""
            },
            "colorscale": [
             [
              0,
              "#0d0887"
             ],
             [
              0.1111111111111111,
              "#46039f"
             ],
             [
              0.2222222222222222,
              "#7201a8"
             ],
             [
              0.3333333333333333,
              "#9c179e"
             ],
             [
              0.4444444444444444,
              "#bd3786"
             ],
             [
              0.5555555555555556,
              "#d8576b"
             ],
             [
              0.6666666666666666,
              "#ed7953"
             ],
             [
              0.7777777777777778,
              "#fb9f3a"
             ],
             [
              0.8888888888888888,
              "#fdca26"
             ],
             [
              1,
              "#f0f921"
             ]
            ],
            "type": "histogram2d"
           }
          ],
          "histogram2dcontour": [
           {
            "colorbar": {
             "outlinewidth": 0,
             "ticks": ""
            },
            "colorscale": [
             [
              0,
              "#0d0887"
             ],
             [
              0.1111111111111111,
              "#46039f"
             ],
             [
              0.2222222222222222,
              "#7201a8"
             ],
             [
              0.3333333333333333,
              "#9c179e"
             ],
             [
              0.4444444444444444,
              "#bd3786"
             ],
             [
              0.5555555555555556,
              "#d8576b"
             ],
             [
              0.6666666666666666,
              "#ed7953"
             ],
             [
              0.7777777777777778,
              "#fb9f3a"
             ],
             [
              0.8888888888888888,
              "#fdca26"
             ],
             [
              1,
              "#f0f921"
             ]
            ],
            "type": "histogram2dcontour"
           }
          ],
          "mesh3d": [
           {
            "colorbar": {
             "outlinewidth": 0,
             "ticks": ""
            },
            "type": "mesh3d"
           }
          ],
          "parcoords": [
           {
            "line": {
             "colorbar": {
              "outlinewidth": 0,
              "ticks": ""
             }
            },
            "type": "parcoords"
           }
          ],
          "pie": [
           {
            "automargin": true,
            "type": "pie"
           }
          ],
          "scatter": [
           {
            "fillpattern": {
             "fillmode": "overlay",
             "size": 10,
             "solidity": 0.2
            },
            "type": "scatter"
           }
          ],
          "scatter3d": [
           {
            "line": {
             "colorbar": {
              "outlinewidth": 0,
              "ticks": ""
             }
            },
            "marker": {
             "colorbar": {
              "outlinewidth": 0,
              "ticks": ""
             }
            },
            "type": "scatter3d"
           }
          ],
          "scattercarpet": [
           {
            "marker": {
             "colorbar": {
              "outlinewidth": 0,
              "ticks": ""
             }
            },
            "type": "scattercarpet"
           }
          ],
          "scattergeo": [
           {
            "marker": {
             "colorbar": {
              "outlinewidth": 0,
              "ticks": ""
             }
            },
            "type": "scattergeo"
           }
          ],
          "scattergl": [
           {
            "marker": {
             "colorbar": {
              "outlinewidth": 0,
              "ticks": ""
             }
            },
            "type": "scattergl"
           }
          ],
          "scattermapbox": [
           {
            "marker": {
             "colorbar": {
              "outlinewidth": 0,
              "ticks": ""
             }
            },
            "type": "scattermapbox"
           }
          ],
          "scatterpolar": [
           {
            "marker": {
             "colorbar": {
              "outlinewidth": 0,
              "ticks": ""
             }
            },
            "type": "scatterpolar"
           }
          ],
          "scatterpolargl": [
           {
            "marker": {
             "colorbar": {
              "outlinewidth": 0,
              "ticks": ""
             }
            },
            "type": "scatterpolargl"
           }
          ],
          "scatterternary": [
           {
            "marker": {
             "colorbar": {
              "outlinewidth": 0,
              "ticks": ""
             }
            },
            "type": "scatterternary"
           }
          ],
          "surface": [
           {
            "colorbar": {
             "outlinewidth": 0,
             "ticks": ""
            },
            "colorscale": [
             [
              0,
              "#0d0887"
             ],
             [
              0.1111111111111111,
              "#46039f"
             ],
             [
              0.2222222222222222,
              "#7201a8"
             ],
             [
              0.3333333333333333,
              "#9c179e"
             ],
             [
              0.4444444444444444,
              "#bd3786"
             ],
             [
              0.5555555555555556,
              "#d8576b"
             ],
             [
              0.6666666666666666,
              "#ed7953"
             ],
             [
              0.7777777777777778,
              "#fb9f3a"
             ],
             [
              0.8888888888888888,
              "#fdca26"
             ],
             [
              1,
              "#f0f921"
             ]
            ],
            "type": "surface"
           }
          ],
          "table": [
           {
            "cells": {
             "fill": {
              "color": "#EBF0F8"
             },
             "line": {
              "color": "white"
             }
            },
            "header": {
             "fill": {
              "color": "#C8D4E3"
             },
             "line": {
              "color": "white"
             }
            },
            "type": "table"
           }
          ]
         },
         "layout": {
          "annotationdefaults": {
           "arrowcolor": "#2a3f5f",
           "arrowhead": 0,
           "arrowwidth": 1
          },
          "autotypenumbers": "strict",
          "coloraxis": {
           "colorbar": {
            "outlinewidth": 0,
            "ticks": ""
           }
          },
          "colorscale": {
           "diverging": [
            [
             0,
             "#8e0152"
            ],
            [
             0.1,
             "#c51b7d"
            ],
            [
             0.2,
             "#de77ae"
            ],
            [
             0.3,
             "#f1b6da"
            ],
            [
             0.4,
             "#fde0ef"
            ],
            [
             0.5,
             "#f7f7f7"
            ],
            [
             0.6,
             "#e6f5d0"
            ],
            [
             0.7,
             "#b8e186"
            ],
            [
             0.8,
             "#7fbc41"
            ],
            [
             0.9,
             "#4d9221"
            ],
            [
             1,
             "#276419"
            ]
           ],
           "sequential": [
            [
             0,
             "#0d0887"
            ],
            [
             0.1111111111111111,
             "#46039f"
            ],
            [
             0.2222222222222222,
             "#7201a8"
            ],
            [
             0.3333333333333333,
             "#9c179e"
            ],
            [
             0.4444444444444444,
             "#bd3786"
            ],
            [
             0.5555555555555556,
             "#d8576b"
            ],
            [
             0.6666666666666666,
             "#ed7953"
            ],
            [
             0.7777777777777778,
             "#fb9f3a"
            ],
            [
             0.8888888888888888,
             "#fdca26"
            ],
            [
             1,
             "#f0f921"
            ]
           ],
           "sequentialminus": [
            [
             0,
             "#0d0887"
            ],
            [
             0.1111111111111111,
             "#46039f"
            ],
            [
             0.2222222222222222,
             "#7201a8"
            ],
            [
             0.3333333333333333,
             "#9c179e"
            ],
            [
             0.4444444444444444,
             "#bd3786"
            ],
            [
             0.5555555555555556,
             "#d8576b"
            ],
            [
             0.6666666666666666,
             "#ed7953"
            ],
            [
             0.7777777777777778,
             "#fb9f3a"
            ],
            [
             0.8888888888888888,
             "#fdca26"
            ],
            [
             1,
             "#f0f921"
            ]
           ]
          },
          "colorway": [
           "#636efa",
           "#EF553B",
           "#00cc96",
           "#ab63fa",
           "#FFA15A",
           "#19d3f3",
           "#FF6692",
           "#B6E880",
           "#FF97FF",
           "#FECB52"
          ],
          "font": {
           "color": "#2a3f5f"
          },
          "geo": {
           "bgcolor": "white",
           "lakecolor": "white",
           "landcolor": "#E5ECF6",
           "showlakes": true,
           "showland": true,
           "subunitcolor": "white"
          },
          "hoverlabel": {
           "align": "left"
          },
          "hovermode": "closest",
          "mapbox": {
           "style": "light"
          },
          "paper_bgcolor": "white",
          "plot_bgcolor": "#E5ECF6",
          "polar": {
           "angularaxis": {
            "gridcolor": "white",
            "linecolor": "white",
            "ticks": ""
           },
           "bgcolor": "#E5ECF6",
           "radialaxis": {
            "gridcolor": "white",
            "linecolor": "white",
            "ticks": ""
           }
          },
          "scene": {
           "xaxis": {
            "backgroundcolor": "#E5ECF6",
            "gridcolor": "white",
            "gridwidth": 2,
            "linecolor": "white",
            "showbackground": true,
            "ticks": "",
            "zerolinecolor": "white"
           },
           "yaxis": {
            "backgroundcolor": "#E5ECF6",
            "gridcolor": "white",
            "gridwidth": 2,
            "linecolor": "white",
            "showbackground": true,
            "ticks": "",
            "zerolinecolor": "white"
           },
           "zaxis": {
            "backgroundcolor": "#E5ECF6",
            "gridcolor": "white",
            "gridwidth": 2,
            "linecolor": "white",
            "showbackground": true,
            "ticks": "",
            "zerolinecolor": "white"
           }
          },
          "shapedefaults": {
           "line": {
            "color": "#2a3f5f"
           }
          },
          "ternary": {
           "aaxis": {
            "gridcolor": "white",
            "linecolor": "white",
            "ticks": ""
           },
           "baxis": {
            "gridcolor": "white",
            "linecolor": "white",
            "ticks": ""
           },
           "bgcolor": "#E5ECF6",
           "caxis": {
            "gridcolor": "white",
            "linecolor": "white",
            "ticks": ""
           }
          },
          "title": {
           "x": 0.05
          },
          "xaxis": {
           "automargin": true,
           "gridcolor": "white",
           "linecolor": "white",
           "ticks": "",
           "title": {
            "standoff": 15
           },
           "zerolinecolor": "white",
           "zerolinewidth": 2
          },
          "yaxis": {
           "automargin": true,
           "gridcolor": "white",
           "linecolor": "white",
           "ticks": "",
           "title": {
            "standoff": 15
           },
           "zerolinecolor": "white",
           "zerolinewidth": 2
          }
         }
        },
        "width": 800
       }
      }
     },
     "metadata": {},
     "output_type": "display_data"
    }
   ],
   "source": [
    "#visualize station use of start stations by subscribers\n",
    "color_scale = [(0, 'orange'), (1,'red')]\n",
    "\n",
    "fig = px.scatter_mapbox(df_start_s, lat=\"start_station_latitude\", lon=\"start_station_longitude\", color='counts_start',\n",
    "                        color_continuous_scale=color_scale,size='counts_start', zoom=12, height=300, width=800)\n",
    "\n",
    "\n",
    "fig.update_layout(mapbox_style=\"open-street-map\")\n",
    "fig.update_layout(margin={\"r\":0,\"t\":0,\"l\":0,\"b\":0})\n",
    "fig.show()"
   ]
  },
  {
   "cell_type": "code",
   "execution_count": 35,
   "metadata": {},
   "outputs": [
    {
     "data": {
      "application/vnd.plotly.v1+json": {
       "config": {
        "plotlyServerURL": "https://plot.ly"
       },
       "data": [
        {
         "hovertemplate": "counts_start=%{marker.color}<br>start_station_latitude=%{lat}<br>start_station_longitude=%{lon}<extra></extra>",
         "lat": [
          42.340021,
          42.345392,
          42.341814,
          42.361174,
          42.35328743453294,
          42.353334,
          42.351246,
          42.350406,
          42.338629,
          42.335911,
          42.336437,
          42.337171,
          42.361667,
          42.34807412317439,
          42.365064,
          42.347241,
          42.35977,
          42.345959,
          42.352175,
          42.35892,
          42.351205,
          42.341332,
          42.341522,
          42.331184,
          42.363732,
          42.334073,
          42.348833,
          42.343912,
          42.348706,
          42.355402,
          42.349673,
          42.357402,
          42.366222,
          42.338623,
          42.363871,
          42.352261,
          42.352033,
          42.357143,
          42.360613,
          42.344706,
          42.343864,
          42.362811,
          42.356755,
          42.351146,
          42.350989,
          42.3348756,
          42.348717,
          42.350851,
          42.354979,
          42.347265,
          42.328654,
          42.340799,
          42.355596,
          42.351356,
          42.360835,
          42.348762,
          42.344023,
          42.3511,
          42.3475,
          42.348607,
          42.3581,
          42.36507,
          42.341598,
          42.371196,
          42.383405,
          42.362613,
          42.373231,
          42.373268,
          42.36346469304347,
          42.366426,
          42.386844,
          42.379637,
          42.37842,
          42.3619622,
          42.352409,
          42.339335,
          42.366981,
          42.378338,
          42.332799,
          42.366621,
          42.374035,
          42.379011,
          42.370677,
          42.366277,
          42.314507,
          42.320494,
          42.375603,
          42.372969,
          42.373379,
          42.36919031768079,
          42.371848,
          42.385582,
          42.396969,
          42.400877,
          42.346563,
          42.380287,
          42.356954,
          42.325333,
          42.3625,
          42.377945,
          42.365942,
          42.376369,
          42.40449,
          42.39082,
          42.330716,
          42.402763,
          42.387995,
          42.370803,
          42.366095,
          42.397828,
          42.335741,
          42.356052,
          42.335693,
          42.345733,
          42.313156,
          42.309054,
          42.320998,
          42.315692,
          42.320561,
          42.377022,
          42.317225,
          42.322701,
          42.394002,
          42.310579,
          42.350413,
          42.344827,
          42.344796,
          42.398365,
          42.326599,
          42.361589,
          42.388966,
          42.36356015842989,
          42.396105,
          42.369885,
          42.392766,
          42.363796,
          42.344137,
          42.358155,
          42.345901,
          42.32797270205962,
          42.337596,
          42.3391085,
          42.309796,
          42.344792,
          42.317642,
          42.378965,
          42.303469,
          42.37408991426522,
          42.34900494405213,
          42.34894857235593,
          42.38674802045056,
          42.36264779118595,
          42.35957320109044,
          42.35560121327927,
          42.37478628706384
         ],
         "legendgroup": "",
         "lon": [
          -71.100812,
          -71.069616,
          -71.090179,
          -71.065142,
          -71.04438900947571,
          -71.137313,
          -71.115639,
          -71.108279,
          -71.1065,
          -71.088496,
          -71.073089,
          -71.102797,
          -71.13802,
          -71.07657015323639,
          -71.119233,
          -71.105301,
          -71.051601,
          -71.082578,
          -71.055547,
          -71.057629,
          -71.043983,
          -71.076847,
          -71.068922,
          -71.095171,
          -71.124565,
          -71.105221,
          -71.041747,
          -71.102221,
          -71.097009,
          -71.058087,
          -71.077303,
          -71.147782,
          -71.059914,
          -71.074182,
          -71.050877,
          -71.123831,
          -71.070627,
          -71.050699,
          -71.057452,
          -71.097515,
          -71.085918,
          -71.056067,
          -71.055407,
          -71.066289,
          -71.073644,
          -71.0790969,
          -71.085954,
          -71.089886,
          -71.063348,
          -71.088088,
          -71.084198,
          -71.081572,
          -71.07278,
          -71.059367,
          -71.0708399,
          -71.082383,
          -71.057054,
          -71.0496,
          -71.0441,
          -71.13401,
          -71.093198,
          -71.1031,
          -71.123338,
          -71.121473,
          -71.107593,
          -71.084105,
          -71.120886,
          -71.118579,
          -71.10057324171066,
          -71.105495,
          -71.09812,
          -71.095319,
          -71.105668,
          -71.0920526,
          -71.062679,
          -71.13493,
          -71.076472,
          -71.048927,
          -71.116205,
          -71.114214,
          -71.101427,
          -71.119945,
          -71.076529,
          -71.09169,
          -71.041269,
          -71.051122,
          -71.064608,
          -71.094445,
          -71.111075,
          -71.11714124679565,
          -71.060292,
          -71.113341,
          -71.123024,
          -71.116772,
          -71.128374,
          -71.125107,
          -71.113687,
          -71.075354,
          -71.08822,
          -71.116865,
          -71.060515,
          -71.114025,
          -71.123413,
          -71.10942,
          -71.057044,
          -71.126908,
          -71.119084,
          -71.104412,
          -71.086388,
          -71.130516,
          -71.03877,
          -71.069849,
          -71.045859,
          -71.100694,
          -71.11414,
          -71.11543,
          -71.110833,
          -71.098634,
          -71.06198,
          -71.056605,
          -71.065421,
          -71.099533,
          -71.120406,
          -71.107341,
          -71.07655,
          -71.028664,
          -71.031614,
          -71.107818,
          -71.066498,
          -71.107437,
          -71.132788,
          -71.08216792345047,
          -71.139459,
          -71.069957,
          -71.129042,
          -71.129164,
          -71.052608,
          -71.052163,
          -71.063187,
          -71.11089706420898,
          -71.096391,
          -71.0514432,
          -71.092225,
          -71.044024,
          -71.056664,
          -71.068607,
          -71.085347,
          -71.06905996799469,
          -71.1604106426239,
          -71.15027189254761,
          -71.11901879310608,
          -71.10006093978882,
          -71.10129475593567,
          -71.10394477844238,
          -71.13320231437683
         ],
         "marker": {
          "color": [
           871,
           4637,
           1520,
           5870,
           1883,
           830,
           3148,
           2318,
           1302,
           1985,
           2640,
           1690,
           521,
           8501,
           945,
           2240,
           5142,
           4747,
           16206,
           5706,
           2367,
           4019,
           4403,
           1329,
           761,
           999,
           3022,
           1834,
           4138,
           5847,
           6725,
           308,
           5194,
           4278,
           5866,
           2192,
           4697,
           7532,
           2432,
           3029,
           3529,
           5799,
           6397,
           3106,
           3976,
           935,
           3712,
           3176,
           4205,
           3607,
           233,
           3936,
           4165,
           3659,
           5741,
           5177,
           1861,
           4619,
           1132,
           1145,
           3446,
           5835,
           1706,
           1527,
           1390,
           3286,
           2527,
           3741,
           4074,
           3900,
           576,
           1910,
           1319,
           2776,
           3494,
           925,
           3281,
           2059,
           1211,
           1880,
           4096,
           980,
           3108,
           4184,
           102,
           369,
           2841,
           3500,
           1878,
           1030,
           4648,
           1114,
           4194,
           608,
           785,
           1540,
           3139,
           13,
           2731,
           803,
           9063,
           1477,
           568,
           722,
           1118,
           1148,
           3477,
           2261,
           2122,
           3016,
           1669,
           3422,
           1987,
           681,
           677,
           485,
           1163,
           149,
           373,
           735,
           271,
           1020,
           534,
           926,
           2887,
           798,
           1004,
           288,
           432,
           2018,
           787,
           2085,
           1461,
           1446,
           534,
           1358,
           1942,
           3069,
           2270,
           62,
           139,
           243,
           14,
           149,
           38,
           334,
           11,
           85,
           36,
           87,
           84,
           157,
           75,
           44,
           104
          ],
          "coloraxis": "coloraxis",
          "size": [
           871,
           4637,
           1520,
           5870,
           1883,
           830,
           3148,
           2318,
           1302,
           1985,
           2640,
           1690,
           521,
           8501,
           945,
           2240,
           5142,
           4747,
           16206,
           5706,
           2367,
           4019,
           4403,
           1329,
           761,
           999,
           3022,
           1834,
           4138,
           5847,
           6725,
           308,
           5194,
           4278,
           5866,
           2192,
           4697,
           7532,
           2432,
           3029,
           3529,
           5799,
           6397,
           3106,
           3976,
           935,
           3712,
           3176,
           4205,
           3607,
           233,
           3936,
           4165,
           3659,
           5741,
           5177,
           1861,
           4619,
           1132,
           1145,
           3446,
           5835,
           1706,
           1527,
           1390,
           3286,
           2527,
           3741,
           4074,
           3900,
           576,
           1910,
           1319,
           2776,
           3494,
           925,
           3281,
           2059,
           1211,
           1880,
           4096,
           980,
           3108,
           4184,
           102,
           369,
           2841,
           3500,
           1878,
           1030,
           4648,
           1114,
           4194,
           608,
           785,
           1540,
           3139,
           13,
           2731,
           803,
           9063,
           1477,
           568,
           722,
           1118,
           1148,
           3477,
           2261,
           2122,
           3016,
           1669,
           3422,
           1987,
           681,
           677,
           485,
           1163,
           149,
           373,
           735,
           271,
           1020,
           534,
           926,
           2887,
           798,
           1004,
           288,
           432,
           2018,
           787,
           2085,
           1461,
           1446,
           534,
           1358,
           1942,
           3069,
           2270,
           62,
           139,
           243,
           14,
           149,
           38,
           334,
           11,
           85,
           36,
           87,
           84,
           157,
           75,
           44,
           104
          ],
          "sizemode": "area",
          "sizeref": 40.515
         },
         "mode": "markers",
         "name": "",
         "showlegend": false,
         "subplot": "mapbox",
         "type": "scattermapbox"
        }
       ],
       "layout": {
        "coloraxis": {
         "colorbar": {
          "title": {
           "text": "counts_start"
          }
         },
         "colorscale": [
          [
           0,
           "orange"
          ],
          [
           1,
           "red"
          ]
         ]
        },
        "height": 300,
        "legend": {
         "itemsizing": "constant",
         "tracegroupgap": 0
        },
        "mapbox": {
         "center": {
          "lat": 42.3553353204688,
          "lon": -71.0896432278948
         },
         "domain": {
          "x": [
           0,
           1
          ],
          "y": [
           0,
           1
          ]
         },
         "style": "open-street-map",
         "zoom": 12
        },
        "margin": {
         "b": 0,
         "l": 0,
         "r": 0,
         "t": 0
        },
        "template": {
         "data": {
          "bar": [
           {
            "error_x": {
             "color": "#2a3f5f"
            },
            "error_y": {
             "color": "#2a3f5f"
            },
            "marker": {
             "line": {
              "color": "#E5ECF6",
              "width": 0.5
             },
             "pattern": {
              "fillmode": "overlay",
              "size": 10,
              "solidity": 0.2
             }
            },
            "type": "bar"
           }
          ],
          "barpolar": [
           {
            "marker": {
             "line": {
              "color": "#E5ECF6",
              "width": 0.5
             },
             "pattern": {
              "fillmode": "overlay",
              "size": 10,
              "solidity": 0.2
             }
            },
            "type": "barpolar"
           }
          ],
          "carpet": [
           {
            "aaxis": {
             "endlinecolor": "#2a3f5f",
             "gridcolor": "white",
             "linecolor": "white",
             "minorgridcolor": "white",
             "startlinecolor": "#2a3f5f"
            },
            "baxis": {
             "endlinecolor": "#2a3f5f",
             "gridcolor": "white",
             "linecolor": "white",
             "minorgridcolor": "white",
             "startlinecolor": "#2a3f5f"
            },
            "type": "carpet"
           }
          ],
          "choropleth": [
           {
            "colorbar": {
             "outlinewidth": 0,
             "ticks": ""
            },
            "type": "choropleth"
           }
          ],
          "contour": [
           {
            "colorbar": {
             "outlinewidth": 0,
             "ticks": ""
            },
            "colorscale": [
             [
              0,
              "#0d0887"
             ],
             [
              0.1111111111111111,
              "#46039f"
             ],
             [
              0.2222222222222222,
              "#7201a8"
             ],
             [
              0.3333333333333333,
              "#9c179e"
             ],
             [
              0.4444444444444444,
              "#bd3786"
             ],
             [
              0.5555555555555556,
              "#d8576b"
             ],
             [
              0.6666666666666666,
              "#ed7953"
             ],
             [
              0.7777777777777778,
              "#fb9f3a"
             ],
             [
              0.8888888888888888,
              "#fdca26"
             ],
             [
              1,
              "#f0f921"
             ]
            ],
            "type": "contour"
           }
          ],
          "contourcarpet": [
           {
            "colorbar": {
             "outlinewidth": 0,
             "ticks": ""
            },
            "type": "contourcarpet"
           }
          ],
          "heatmap": [
           {
            "colorbar": {
             "outlinewidth": 0,
             "ticks": ""
            },
            "colorscale": [
             [
              0,
              "#0d0887"
             ],
             [
              0.1111111111111111,
              "#46039f"
             ],
             [
              0.2222222222222222,
              "#7201a8"
             ],
             [
              0.3333333333333333,
              "#9c179e"
             ],
             [
              0.4444444444444444,
              "#bd3786"
             ],
             [
              0.5555555555555556,
              "#d8576b"
             ],
             [
              0.6666666666666666,
              "#ed7953"
             ],
             [
              0.7777777777777778,
              "#fb9f3a"
             ],
             [
              0.8888888888888888,
              "#fdca26"
             ],
             [
              1,
              "#f0f921"
             ]
            ],
            "type": "heatmap"
           }
          ],
          "heatmapgl": [
           {
            "colorbar": {
             "outlinewidth": 0,
             "ticks": ""
            },
            "colorscale": [
             [
              0,
              "#0d0887"
             ],
             [
              0.1111111111111111,
              "#46039f"
             ],
             [
              0.2222222222222222,
              "#7201a8"
             ],
             [
              0.3333333333333333,
              "#9c179e"
             ],
             [
              0.4444444444444444,
              "#bd3786"
             ],
             [
              0.5555555555555556,
              "#d8576b"
             ],
             [
              0.6666666666666666,
              "#ed7953"
             ],
             [
              0.7777777777777778,
              "#fb9f3a"
             ],
             [
              0.8888888888888888,
              "#fdca26"
             ],
             [
              1,
              "#f0f921"
             ]
            ],
            "type": "heatmapgl"
           }
          ],
          "histogram": [
           {
            "marker": {
             "pattern": {
              "fillmode": "overlay",
              "size": 10,
              "solidity": 0.2
             }
            },
            "type": "histogram"
           }
          ],
          "histogram2d": [
           {
            "colorbar": {
             "outlinewidth": 0,
             "ticks": ""
            },
            "colorscale": [
             [
              0,
              "#0d0887"
             ],
             [
              0.1111111111111111,
              "#46039f"
             ],
             [
              0.2222222222222222,
              "#7201a8"
             ],
             [
              0.3333333333333333,
              "#9c179e"
             ],
             [
              0.4444444444444444,
              "#bd3786"
             ],
             [
              0.5555555555555556,
              "#d8576b"
             ],
             [
              0.6666666666666666,
              "#ed7953"
             ],
             [
              0.7777777777777778,
              "#fb9f3a"
             ],
             [
              0.8888888888888888,
              "#fdca26"
             ],
             [
              1,
              "#f0f921"
             ]
            ],
            "type": "histogram2d"
           }
          ],
          "histogram2dcontour": [
           {
            "colorbar": {
             "outlinewidth": 0,
             "ticks": ""
            },
            "colorscale": [
             [
              0,
              "#0d0887"
             ],
             [
              0.1111111111111111,
              "#46039f"
             ],
             [
              0.2222222222222222,
              "#7201a8"
             ],
             [
              0.3333333333333333,
              "#9c179e"
             ],
             [
              0.4444444444444444,
              "#bd3786"
             ],
             [
              0.5555555555555556,
              "#d8576b"
             ],
             [
              0.6666666666666666,
              "#ed7953"
             ],
             [
              0.7777777777777778,
              "#fb9f3a"
             ],
             [
              0.8888888888888888,
              "#fdca26"
             ],
             [
              1,
              "#f0f921"
             ]
            ],
            "type": "histogram2dcontour"
           }
          ],
          "mesh3d": [
           {
            "colorbar": {
             "outlinewidth": 0,
             "ticks": ""
            },
            "type": "mesh3d"
           }
          ],
          "parcoords": [
           {
            "line": {
             "colorbar": {
              "outlinewidth": 0,
              "ticks": ""
             }
            },
            "type": "parcoords"
           }
          ],
          "pie": [
           {
            "automargin": true,
            "type": "pie"
           }
          ],
          "scatter": [
           {
            "fillpattern": {
             "fillmode": "overlay",
             "size": 10,
             "solidity": 0.2
            },
            "type": "scatter"
           }
          ],
          "scatter3d": [
           {
            "line": {
             "colorbar": {
              "outlinewidth": 0,
              "ticks": ""
             }
            },
            "marker": {
             "colorbar": {
              "outlinewidth": 0,
              "ticks": ""
             }
            },
            "type": "scatter3d"
           }
          ],
          "scattercarpet": [
           {
            "marker": {
             "colorbar": {
              "outlinewidth": 0,
              "ticks": ""
             }
            },
            "type": "scattercarpet"
           }
          ],
          "scattergeo": [
           {
            "marker": {
             "colorbar": {
              "outlinewidth": 0,
              "ticks": ""
             }
            },
            "type": "scattergeo"
           }
          ],
          "scattergl": [
           {
            "marker": {
             "colorbar": {
              "outlinewidth": 0,
              "ticks": ""
             }
            },
            "type": "scattergl"
           }
          ],
          "scattermapbox": [
           {
            "marker": {
             "colorbar": {
              "outlinewidth": 0,
              "ticks": ""
             }
            },
            "type": "scattermapbox"
           }
          ],
          "scatterpolar": [
           {
            "marker": {
             "colorbar": {
              "outlinewidth": 0,
              "ticks": ""
             }
            },
            "type": "scatterpolar"
           }
          ],
          "scatterpolargl": [
           {
            "marker": {
             "colorbar": {
              "outlinewidth": 0,
              "ticks": ""
             }
            },
            "type": "scatterpolargl"
           }
          ],
          "scatterternary": [
           {
            "marker": {
             "colorbar": {
              "outlinewidth": 0,
              "ticks": ""
             }
            },
            "type": "scatterternary"
           }
          ],
          "surface": [
           {
            "colorbar": {
             "outlinewidth": 0,
             "ticks": ""
            },
            "colorscale": [
             [
              0,
              "#0d0887"
             ],
             [
              0.1111111111111111,
              "#46039f"
             ],
             [
              0.2222222222222222,
              "#7201a8"
             ],
             [
              0.3333333333333333,
              "#9c179e"
             ],
             [
              0.4444444444444444,
              "#bd3786"
             ],
             [
              0.5555555555555556,
              "#d8576b"
             ],
             [
              0.6666666666666666,
              "#ed7953"
             ],
             [
              0.7777777777777778,
              "#fb9f3a"
             ],
             [
              0.8888888888888888,
              "#fdca26"
             ],
             [
              1,
              "#f0f921"
             ]
            ],
            "type": "surface"
           }
          ],
          "table": [
           {
            "cells": {
             "fill": {
              "color": "#EBF0F8"
             },
             "line": {
              "color": "white"
             }
            },
            "header": {
             "fill": {
              "color": "#C8D4E3"
             },
             "line": {
              "color": "white"
             }
            },
            "type": "table"
           }
          ]
         },
         "layout": {
          "annotationdefaults": {
           "arrowcolor": "#2a3f5f",
           "arrowhead": 0,
           "arrowwidth": 1
          },
          "autotypenumbers": "strict",
          "coloraxis": {
           "colorbar": {
            "outlinewidth": 0,
            "ticks": ""
           }
          },
          "colorscale": {
           "diverging": [
            [
             0,
             "#8e0152"
            ],
            [
             0.1,
             "#c51b7d"
            ],
            [
             0.2,
             "#de77ae"
            ],
            [
             0.3,
             "#f1b6da"
            ],
            [
             0.4,
             "#fde0ef"
            ],
            [
             0.5,
             "#f7f7f7"
            ],
            [
             0.6,
             "#e6f5d0"
            ],
            [
             0.7,
             "#b8e186"
            ],
            [
             0.8,
             "#7fbc41"
            ],
            [
             0.9,
             "#4d9221"
            ],
            [
             1,
             "#276419"
            ]
           ],
           "sequential": [
            [
             0,
             "#0d0887"
            ],
            [
             0.1111111111111111,
             "#46039f"
            ],
            [
             0.2222222222222222,
             "#7201a8"
            ],
            [
             0.3333333333333333,
             "#9c179e"
            ],
            [
             0.4444444444444444,
             "#bd3786"
            ],
            [
             0.5555555555555556,
             "#d8576b"
            ],
            [
             0.6666666666666666,
             "#ed7953"
            ],
            [
             0.7777777777777778,
             "#fb9f3a"
            ],
            [
             0.8888888888888888,
             "#fdca26"
            ],
            [
             1,
             "#f0f921"
            ]
           ],
           "sequentialminus": [
            [
             0,
             "#0d0887"
            ],
            [
             0.1111111111111111,
             "#46039f"
            ],
            [
             0.2222222222222222,
             "#7201a8"
            ],
            [
             0.3333333333333333,
             "#9c179e"
            ],
            [
             0.4444444444444444,
             "#bd3786"
            ],
            [
             0.5555555555555556,
             "#d8576b"
            ],
            [
             0.6666666666666666,
             "#ed7953"
            ],
            [
             0.7777777777777778,
             "#fb9f3a"
            ],
            [
             0.8888888888888888,
             "#fdca26"
            ],
            [
             1,
             "#f0f921"
            ]
           ]
          },
          "colorway": [
           "#636efa",
           "#EF553B",
           "#00cc96",
           "#ab63fa",
           "#FFA15A",
           "#19d3f3",
           "#FF6692",
           "#B6E880",
           "#FF97FF",
           "#FECB52"
          ],
          "font": {
           "color": "#2a3f5f"
          },
          "geo": {
           "bgcolor": "white",
           "lakecolor": "white",
           "landcolor": "#E5ECF6",
           "showlakes": true,
           "showland": true,
           "subunitcolor": "white"
          },
          "hoverlabel": {
           "align": "left"
          },
          "hovermode": "closest",
          "mapbox": {
           "style": "light"
          },
          "paper_bgcolor": "white",
          "plot_bgcolor": "#E5ECF6",
          "polar": {
           "angularaxis": {
            "gridcolor": "white",
            "linecolor": "white",
            "ticks": ""
           },
           "bgcolor": "#E5ECF6",
           "radialaxis": {
            "gridcolor": "white",
            "linecolor": "white",
            "ticks": ""
           }
          },
          "scene": {
           "xaxis": {
            "backgroundcolor": "#E5ECF6",
            "gridcolor": "white",
            "gridwidth": 2,
            "linecolor": "white",
            "showbackground": true,
            "ticks": "",
            "zerolinecolor": "white"
           },
           "yaxis": {
            "backgroundcolor": "#E5ECF6",
            "gridcolor": "white",
            "gridwidth": 2,
            "linecolor": "white",
            "showbackground": true,
            "ticks": "",
            "zerolinecolor": "white"
           },
           "zaxis": {
            "backgroundcolor": "#E5ECF6",
            "gridcolor": "white",
            "gridwidth": 2,
            "linecolor": "white",
            "showbackground": true,
            "ticks": "",
            "zerolinecolor": "white"
           }
          },
          "shapedefaults": {
           "line": {
            "color": "#2a3f5f"
           }
          },
          "ternary": {
           "aaxis": {
            "gridcolor": "white",
            "linecolor": "white",
            "ticks": ""
           },
           "baxis": {
            "gridcolor": "white",
            "linecolor": "white",
            "ticks": ""
           },
           "bgcolor": "#E5ECF6",
           "caxis": {
            "gridcolor": "white",
            "linecolor": "white",
            "ticks": ""
           }
          },
          "title": {
           "x": 0.05
          },
          "xaxis": {
           "automargin": true,
           "gridcolor": "white",
           "linecolor": "white",
           "ticks": "",
           "title": {
            "standoff": 15
           },
           "zerolinecolor": "white",
           "zerolinewidth": 2
          },
          "yaxis": {
           "automargin": true,
           "gridcolor": "white",
           "linecolor": "white",
           "ticks": "",
           "title": {
            "standoff": 15
           },
           "zerolinecolor": "white",
           "zerolinewidth": 2
          }
         }
        },
        "width": 800
       }
      }
     },
     "metadata": {},
     "output_type": "display_data"
    }
   ],
   "source": [
    "#visualize station use of start stations by customers\n",
    "color_scale = [(0, 'orange'), (1,'red')]\n",
    "\n",
    "fig = px.scatter_mapbox(df_start_c, lat=\"start_station_latitude\", lon=\"start_station_longitude\", color='counts_start',\n",
    "                        color_continuous_scale=color_scale,size='counts_start', zoom=12, height=300, width=800)\n",
    "\n",
    "\n",
    "fig.update_layout(mapbox_style=\"open-street-map\")\n",
    "fig.update_layout(margin={\"r\":0,\"t\":0,\"l\":0,\"b\":0})\n",
    "fig.show()"
   ]
  },
  {
   "attachments": {},
   "cell_type": "markdown",
   "metadata": {},
   "source": [
    "We can make out three major hotspots for subscribers: The city center around down town, stations around the MIT, and stations around the harvard university. Where the most used stations are near the universitys.\n",
    "In contrast the regular customers tend to use the bikes mostly in the downtown area near the train stations and the city center. \n"
   ]
  },
  {
   "attachments": {},
   "cell_type": "markdown",
   "metadata": {},
   "source": [
    "## End station rides volume\n",
    "Visualization which contains information on how many rides end at a respective station per year"
   ]
  },
  {
   "cell_type": "code",
   "execution_count": 36,
   "metadata": {},
   "outputs": [],
   "source": [
    "#prepare dataframe that only includes end stations used by subscribers and customers\n",
    "df_end = df_boston.groupby(['end_station_id','end_station_latitude', 'end_station_longitude', 'user_type']).size().reset_index(name='counts_end')\n",
    "df_end_s = df_end[df_end['user_type'] == 'Subscriber']\n",
    "df_end_c = df_end[df_end['user_type'] == 'Customer']"
   ]
  },
  {
   "cell_type": "code",
   "execution_count": 38,
   "metadata": {},
   "outputs": [
    {
     "data": {
      "application/vnd.plotly.v1+json": {
       "config": {
        "plotlyServerURL": "https://plot.ly"
       },
       "data": [
        {
         "hovertemplate": "counts_end=%{marker.color}<br>end_station_latitude=%{lat}<br>end_station_longitude=%{lon}<extra></extra>",
         "lat": [
          42.387151,
          42.350406,
          42.396969,
          42.400877,
          42.346563,
          42.380287,
          42.356954,
          42.325333,
          42.3625,
          42.377945,
          42.365942,
          42.338629,
          42.376369,
          42.40449,
          42.39082,
          42.330716,
          42.402763,
          42.387995,
          42.370803,
          42.366095,
          42.397828,
          42.335741,
          42.335911,
          42.356052,
          42.335693,
          42.345733,
          42.313156,
          42.309054,
          42.320998,
          42.315692,
          42.320561,
          42.377022,
          42.336437,
          42.317225,
          42.322701,
          42.394002,
          42.310579,
          42.350413,
          42.344827,
          42.344796,
          42.398365,
          42.326599,
          42.361589,
          42.337171,
          42.388966,
          42.36356015842989,
          42.396105,
          42.369885,
          42.392766,
          42.363796,
          42.361667,
          42.344137,
          42.358155,
          42.345901,
          42.32797270205962,
          42.34807412317439,
          42.337596,
          42.3391085,
          42.309796,
          42.344792,
          42.317642,
          42.378965,
          42.365064,
          42.303469,
          42.37408991426522,
          42.34900494405213,
          42.34894857235593,
          42.38674802045056,
          42.36264779118595,
          42.35957320109044,
          42.35560121327927,
          42.37478628706384,
          42.347241,
          42.35977,
          42.345959,
          42.352175,
          42.35892,
          42.351205,
          42.341332,
          42.341522,
          42.331184,
          42.363732,
          42.340021,
          42.334073,
          42.348833,
          42.343912,
          42.348706,
          42.355402,
          42.349673,
          42.357402,
          42.366222,
          42.338623,
          42.345392,
          42.363871,
          42.352261,
          42.352033,
          42.357143,
          42.360613,
          42.344706,
          42.343864,
          42.362811,
          42.356755,
          42.351146,
          42.341814,
          42.350989,
          42.3348756,
          42.348717,
          42.350851,
          42.354979,
          42.347265,
          42.328654,
          42.340799,
          42.355596,
          42.351356,
          42.361174,
          42.360835,
          42.348762,
          42.344023,
          42.3511,
          42.3475,
          42.348607,
          42.3581,
          42.36507,
          42.341598,
          42.35328743453294,
          42.371196,
          42.383405,
          42.362613,
          42.373231,
          42.373268,
          42.36346469304347,
          42.366426,
          42.386844,
          42.379637,
          42.37842,
          42.353334,
          42.3619622,
          42.352409,
          42.339335,
          42.366981,
          42.378338,
          42.332799,
          42.366621,
          42.374035,
          42.379011,
          42.351246,
          42.370677,
          42.366277,
          42.314507,
          42.320494,
          42.375603,
          42.372969,
          42.373379,
          42.36919031768079,
          42.371848,
          42.385582
         ],
         "legendgroup": "",
         "lon": [
          -71.075978,
          -71.108279,
          -71.123024,
          -71.116772,
          -71.128374,
          -71.125107,
          -71.113687,
          -71.075354,
          -71.08822,
          -71.116865,
          -71.060515,
          -71.1065,
          -71.114025,
          -71.123413,
          -71.10942,
          -71.057044,
          -71.126908,
          -71.119084,
          -71.104412,
          -71.086388,
          -71.130516,
          -71.03877,
          -71.088496,
          -71.069849,
          -71.045859,
          -71.100694,
          -71.11414,
          -71.11543,
          -71.110833,
          -71.098634,
          -71.06198,
          -71.056605,
          -71.073089,
          -71.065421,
          -71.099533,
          -71.120406,
          -71.107341,
          -71.07655,
          -71.028664,
          -71.031614,
          -71.107818,
          -71.066498,
          -71.107437,
          -71.102797,
          -71.132788,
          -71.08216792345047,
          -71.139459,
          -71.069957,
          -71.129042,
          -71.129164,
          -71.13802,
          -71.052608,
          -71.052163,
          -71.063187,
          -71.11089706420898,
          -71.07657015323639,
          -71.096391,
          -71.0514432,
          -71.092225,
          -71.044024,
          -71.056664,
          -71.068607,
          -71.119233,
          -71.085347,
          -71.06905996799469,
          -71.1604106426239,
          -71.15027189254761,
          -71.11901879310608,
          -71.10006093978882,
          -71.10129475593567,
          -71.10394477844238,
          -71.13320231437683,
          -71.105301,
          -71.051601,
          -71.082578,
          -71.055547,
          -71.057629,
          -71.043983,
          -71.076847,
          -71.068922,
          -71.095171,
          -71.124565,
          -71.100812,
          -71.105221,
          -71.041747,
          -71.102221,
          -71.097009,
          -71.058087,
          -71.077303,
          -71.147782,
          -71.059914,
          -71.074182,
          -71.069616,
          -71.050877,
          -71.123831,
          -71.070627,
          -71.050699,
          -71.057452,
          -71.097515,
          -71.085918,
          -71.056067,
          -71.055407,
          -71.066289,
          -71.090179,
          -71.073644,
          -71.0790969,
          -71.085954,
          -71.089886,
          -71.063348,
          -71.088088,
          -71.084198,
          -71.081572,
          -71.07278,
          -71.059367,
          -71.065142,
          -71.0708399,
          -71.082383,
          -71.057054,
          -71.0496,
          -71.0441,
          -71.13401,
          -71.093198,
          -71.1031,
          -71.123338,
          -71.04438900947571,
          -71.121473,
          -71.107593,
          -71.084105,
          -71.120886,
          -71.118579,
          -71.10057324171066,
          -71.105495,
          -71.09812,
          -71.095319,
          -71.105668,
          -71.137313,
          -71.0920526,
          -71.062679,
          -71.13493,
          -71.076472,
          -71.048927,
          -71.116205,
          -71.114214,
          -71.101427,
          -71.119945,
          -71.115639,
          -71.076529,
          -71.09169,
          -71.041269,
          -71.051122,
          -71.064608,
          -71.094445,
          -71.111075,
          -71.11714124679565,
          -71.060292,
          -71.113341
         ],
         "marker": {
          "color": [
           104,
           4959,
           6824,
           1072,
           2209,
           4775,
           7971,
           540,
           12191,
           6897,
           10282,
           7432,
           7948,
           1207,
           1122,
           1535,
           1462,
           7072,
           5895,
           4772,
           2517,
           2706,
           4312,
           5540,
           2590,
           2272,
           1593,
           1433,
           2001,
           786,
           314,
           1752,
           6641,
           406,
           1939,
           1106,
           2195,
           3000,
           2745,
           2765,
           1050,
           834,
           3526,
           7809,
           2044,
           4322,
           1869,
           4383,
           942,
           3457,
           1562,
           3151,
           3487,
           3356,
           100,
           7915,
           590,
           459,
           29,
           376,
           37,
           282,
           5273,
           32,
           155,
           80,
           152,
           217,
           639,
           981,
           778,
           134,
           4458,
           6601,
           7504,
           14824,
           8235,
           3694,
           3509,
           4627,
           2769,
           2423,
           4022,
           4182,
           4032,
           5864,
           10345,
           4242,
           12218,
           999,
           7564,
           5351,
           4666,
           5143,
           5435,
           8535,
           5202,
           4939,
           6757,
           7825,
           8169,
           4289,
           4597,
           4600,
           4547,
           1960,
           6421,
           10191,
           8261,
           7764,
           1329,
           4369,
           8771,
           4641,
           6879,
           11119,
           7337,
           1551,
           5256,
           3359,
           3367,
           26405,
           15590,
           4284,
           2777,
           6880,
           3740,
           10746,
           7994,
           19042,
           14825,
           9507,
           1144,
           4354,
           3035,
           2759,
           18188,
           6799,
           1751,
           7209,
           3082,
           2745,
           7063,
           8476,
           5309,
           5334,
           7704,
           9054,
           519,
           1056,
           2961,
           6056,
           7581,
           5057,
           5654,
           2355
          ],
          "coloraxis": "coloraxis",
          "size": [
           104,
           4959,
           6824,
           1072,
           2209,
           4775,
           7971,
           540,
           12191,
           6897,
           10282,
           7432,
           7948,
           1207,
           1122,
           1535,
           1462,
           7072,
           5895,
           4772,
           2517,
           2706,
           4312,
           5540,
           2590,
           2272,
           1593,
           1433,
           2001,
           786,
           314,
           1752,
           6641,
           406,
           1939,
           1106,
           2195,
           3000,
           2745,
           2765,
           1050,
           834,
           3526,
           7809,
           2044,
           4322,
           1869,
           4383,
           942,
           3457,
           1562,
           3151,
           3487,
           3356,
           100,
           7915,
           590,
           459,
           29,
           376,
           37,
           282,
           5273,
           32,
           155,
           80,
           152,
           217,
           639,
           981,
           778,
           134,
           4458,
           6601,
           7504,
           14824,
           8235,
           3694,
           3509,
           4627,
           2769,
           2423,
           4022,
           4182,
           4032,
           5864,
           10345,
           4242,
           12218,
           999,
           7564,
           5351,
           4666,
           5143,
           5435,
           8535,
           5202,
           4939,
           6757,
           7825,
           8169,
           4289,
           4597,
           4600,
           4547,
           1960,
           6421,
           10191,
           8261,
           7764,
           1329,
           4369,
           8771,
           4641,
           6879,
           11119,
           7337,
           1551,
           5256,
           3359,
           3367,
           26405,
           15590,
           4284,
           2777,
           6880,
           3740,
           10746,
           7994,
           19042,
           14825,
           9507,
           1144,
           4354,
           3035,
           2759,
           18188,
           6799,
           1751,
           7209,
           3082,
           2745,
           7063,
           8476,
           5309,
           5334,
           7704,
           9054,
           519,
           1056,
           2961,
           6056,
           7581,
           5057,
           5654,
           2355
          ],
          "sizemode": "area",
          "sizeref": 66.0125
         },
         "mode": "markers",
         "name": "",
         "showlegend": false,
         "subplot": "mapbox",
         "type": "scattermapbox"
        }
       ],
       "layout": {
        "coloraxis": {
         "colorbar": {
          "title": {
           "text": "counts_end"
          }
         },
         "colorscale": [
          [
           0,
           "orange"
          ],
          [
           1,
           "red"
          ]
         ]
        },
        "height": 300,
        "legend": {
         "itemsizing": "constant",
         "tracegroupgap": 0
        },
        "mapbox": {
         "center": {
          "lat": 42.355539267132464,
          "lon": -71.08955563028009
         },
         "domain": {
          "x": [
           0,
           1
          ],
          "y": [
           0,
           1
          ]
         },
         "style": "open-street-map",
         "zoom": 12
        },
        "margin": {
         "b": 0,
         "l": 0,
         "r": 0,
         "t": 0
        },
        "template": {
         "data": {
          "bar": [
           {
            "error_x": {
             "color": "#2a3f5f"
            },
            "error_y": {
             "color": "#2a3f5f"
            },
            "marker": {
             "line": {
              "color": "#E5ECF6",
              "width": 0.5
             },
             "pattern": {
              "fillmode": "overlay",
              "size": 10,
              "solidity": 0.2
             }
            },
            "type": "bar"
           }
          ],
          "barpolar": [
           {
            "marker": {
             "line": {
              "color": "#E5ECF6",
              "width": 0.5
             },
             "pattern": {
              "fillmode": "overlay",
              "size": 10,
              "solidity": 0.2
             }
            },
            "type": "barpolar"
           }
          ],
          "carpet": [
           {
            "aaxis": {
             "endlinecolor": "#2a3f5f",
             "gridcolor": "white",
             "linecolor": "white",
             "minorgridcolor": "white",
             "startlinecolor": "#2a3f5f"
            },
            "baxis": {
             "endlinecolor": "#2a3f5f",
             "gridcolor": "white",
             "linecolor": "white",
             "minorgridcolor": "white",
             "startlinecolor": "#2a3f5f"
            },
            "type": "carpet"
           }
          ],
          "choropleth": [
           {
            "colorbar": {
             "outlinewidth": 0,
             "ticks": ""
            },
            "type": "choropleth"
           }
          ],
          "contour": [
           {
            "colorbar": {
             "outlinewidth": 0,
             "ticks": ""
            },
            "colorscale": [
             [
              0,
              "#0d0887"
             ],
             [
              0.1111111111111111,
              "#46039f"
             ],
             [
              0.2222222222222222,
              "#7201a8"
             ],
             [
              0.3333333333333333,
              "#9c179e"
             ],
             [
              0.4444444444444444,
              "#bd3786"
             ],
             [
              0.5555555555555556,
              "#d8576b"
             ],
             [
              0.6666666666666666,
              "#ed7953"
             ],
             [
              0.7777777777777778,
              "#fb9f3a"
             ],
             [
              0.8888888888888888,
              "#fdca26"
             ],
             [
              1,
              "#f0f921"
             ]
            ],
            "type": "contour"
           }
          ],
          "contourcarpet": [
           {
            "colorbar": {
             "outlinewidth": 0,
             "ticks": ""
            },
            "type": "contourcarpet"
           }
          ],
          "heatmap": [
           {
            "colorbar": {
             "outlinewidth": 0,
             "ticks": ""
            },
            "colorscale": [
             [
              0,
              "#0d0887"
             ],
             [
              0.1111111111111111,
              "#46039f"
             ],
             [
              0.2222222222222222,
              "#7201a8"
             ],
             [
              0.3333333333333333,
              "#9c179e"
             ],
             [
              0.4444444444444444,
              "#bd3786"
             ],
             [
              0.5555555555555556,
              "#d8576b"
             ],
             [
              0.6666666666666666,
              "#ed7953"
             ],
             [
              0.7777777777777778,
              "#fb9f3a"
             ],
             [
              0.8888888888888888,
              "#fdca26"
             ],
             [
              1,
              "#f0f921"
             ]
            ],
            "type": "heatmap"
           }
          ],
          "heatmapgl": [
           {
            "colorbar": {
             "outlinewidth": 0,
             "ticks": ""
            },
            "colorscale": [
             [
              0,
              "#0d0887"
             ],
             [
              0.1111111111111111,
              "#46039f"
             ],
             [
              0.2222222222222222,
              "#7201a8"
             ],
             [
              0.3333333333333333,
              "#9c179e"
             ],
             [
              0.4444444444444444,
              "#bd3786"
             ],
             [
              0.5555555555555556,
              "#d8576b"
             ],
             [
              0.6666666666666666,
              "#ed7953"
             ],
             [
              0.7777777777777778,
              "#fb9f3a"
             ],
             [
              0.8888888888888888,
              "#fdca26"
             ],
             [
              1,
              "#f0f921"
             ]
            ],
            "type": "heatmapgl"
           }
          ],
          "histogram": [
           {
            "marker": {
             "pattern": {
              "fillmode": "overlay",
              "size": 10,
              "solidity": 0.2
             }
            },
            "type": "histogram"
           }
          ],
          "histogram2d": [
           {
            "colorbar": {
             "outlinewidth": 0,
             "ticks": ""
            },
            "colorscale": [
             [
              0,
              "#0d0887"
             ],
             [
              0.1111111111111111,
              "#46039f"
             ],
             [
              0.2222222222222222,
              "#7201a8"
             ],
             [
              0.3333333333333333,
              "#9c179e"
             ],
             [
              0.4444444444444444,
              "#bd3786"
             ],
             [
              0.5555555555555556,
              "#d8576b"
             ],
             [
              0.6666666666666666,
              "#ed7953"
             ],
             [
              0.7777777777777778,
              "#fb9f3a"
             ],
             [
              0.8888888888888888,
              "#fdca26"
             ],
             [
              1,
              "#f0f921"
             ]
            ],
            "type": "histogram2d"
           }
          ],
          "histogram2dcontour": [
           {
            "colorbar": {
             "outlinewidth": 0,
             "ticks": ""
            },
            "colorscale": [
             [
              0,
              "#0d0887"
             ],
             [
              0.1111111111111111,
              "#46039f"
             ],
             [
              0.2222222222222222,
              "#7201a8"
             ],
             [
              0.3333333333333333,
              "#9c179e"
             ],
             [
              0.4444444444444444,
              "#bd3786"
             ],
             [
              0.5555555555555556,
              "#d8576b"
             ],
             [
              0.6666666666666666,
              "#ed7953"
             ],
             [
              0.7777777777777778,
              "#fb9f3a"
             ],
             [
              0.8888888888888888,
              "#fdca26"
             ],
             [
              1,
              "#f0f921"
             ]
            ],
            "type": "histogram2dcontour"
           }
          ],
          "mesh3d": [
           {
            "colorbar": {
             "outlinewidth": 0,
             "ticks": ""
            },
            "type": "mesh3d"
           }
          ],
          "parcoords": [
           {
            "line": {
             "colorbar": {
              "outlinewidth": 0,
              "ticks": ""
             }
            },
            "type": "parcoords"
           }
          ],
          "pie": [
           {
            "automargin": true,
            "type": "pie"
           }
          ],
          "scatter": [
           {
            "fillpattern": {
             "fillmode": "overlay",
             "size": 10,
             "solidity": 0.2
            },
            "type": "scatter"
           }
          ],
          "scatter3d": [
           {
            "line": {
             "colorbar": {
              "outlinewidth": 0,
              "ticks": ""
             }
            },
            "marker": {
             "colorbar": {
              "outlinewidth": 0,
              "ticks": ""
             }
            },
            "type": "scatter3d"
           }
          ],
          "scattercarpet": [
           {
            "marker": {
             "colorbar": {
              "outlinewidth": 0,
              "ticks": ""
             }
            },
            "type": "scattercarpet"
           }
          ],
          "scattergeo": [
           {
            "marker": {
             "colorbar": {
              "outlinewidth": 0,
              "ticks": ""
             }
            },
            "type": "scattergeo"
           }
          ],
          "scattergl": [
           {
            "marker": {
             "colorbar": {
              "outlinewidth": 0,
              "ticks": ""
             }
            },
            "type": "scattergl"
           }
          ],
          "scattermapbox": [
           {
            "marker": {
             "colorbar": {
              "outlinewidth": 0,
              "ticks": ""
             }
            },
            "type": "scattermapbox"
           }
          ],
          "scatterpolar": [
           {
            "marker": {
             "colorbar": {
              "outlinewidth": 0,
              "ticks": ""
             }
            },
            "type": "scatterpolar"
           }
          ],
          "scatterpolargl": [
           {
            "marker": {
             "colorbar": {
              "outlinewidth": 0,
              "ticks": ""
             }
            },
            "type": "scatterpolargl"
           }
          ],
          "scatterternary": [
           {
            "marker": {
             "colorbar": {
              "outlinewidth": 0,
              "ticks": ""
             }
            },
            "type": "scatterternary"
           }
          ],
          "surface": [
           {
            "colorbar": {
             "outlinewidth": 0,
             "ticks": ""
            },
            "colorscale": [
             [
              0,
              "#0d0887"
             ],
             [
              0.1111111111111111,
              "#46039f"
             ],
             [
              0.2222222222222222,
              "#7201a8"
             ],
             [
              0.3333333333333333,
              "#9c179e"
             ],
             [
              0.4444444444444444,
              "#bd3786"
             ],
             [
              0.5555555555555556,
              "#d8576b"
             ],
             [
              0.6666666666666666,
              "#ed7953"
             ],
             [
              0.7777777777777778,
              "#fb9f3a"
             ],
             [
              0.8888888888888888,
              "#fdca26"
             ],
             [
              1,
              "#f0f921"
             ]
            ],
            "type": "surface"
           }
          ],
          "table": [
           {
            "cells": {
             "fill": {
              "color": "#EBF0F8"
             },
             "line": {
              "color": "white"
             }
            },
            "header": {
             "fill": {
              "color": "#C8D4E3"
             },
             "line": {
              "color": "white"
             }
            },
            "type": "table"
           }
          ]
         },
         "layout": {
          "annotationdefaults": {
           "arrowcolor": "#2a3f5f",
           "arrowhead": 0,
           "arrowwidth": 1
          },
          "autotypenumbers": "strict",
          "coloraxis": {
           "colorbar": {
            "outlinewidth": 0,
            "ticks": ""
           }
          },
          "colorscale": {
           "diverging": [
            [
             0,
             "#8e0152"
            ],
            [
             0.1,
             "#c51b7d"
            ],
            [
             0.2,
             "#de77ae"
            ],
            [
             0.3,
             "#f1b6da"
            ],
            [
             0.4,
             "#fde0ef"
            ],
            [
             0.5,
             "#f7f7f7"
            ],
            [
             0.6,
             "#e6f5d0"
            ],
            [
             0.7,
             "#b8e186"
            ],
            [
             0.8,
             "#7fbc41"
            ],
            [
             0.9,
             "#4d9221"
            ],
            [
             1,
             "#276419"
            ]
           ],
           "sequential": [
            [
             0,
             "#0d0887"
            ],
            [
             0.1111111111111111,
             "#46039f"
            ],
            [
             0.2222222222222222,
             "#7201a8"
            ],
            [
             0.3333333333333333,
             "#9c179e"
            ],
            [
             0.4444444444444444,
             "#bd3786"
            ],
            [
             0.5555555555555556,
             "#d8576b"
            ],
            [
             0.6666666666666666,
             "#ed7953"
            ],
            [
             0.7777777777777778,
             "#fb9f3a"
            ],
            [
             0.8888888888888888,
             "#fdca26"
            ],
            [
             1,
             "#f0f921"
            ]
           ],
           "sequentialminus": [
            [
             0,
             "#0d0887"
            ],
            [
             0.1111111111111111,
             "#46039f"
            ],
            [
             0.2222222222222222,
             "#7201a8"
            ],
            [
             0.3333333333333333,
             "#9c179e"
            ],
            [
             0.4444444444444444,
             "#bd3786"
            ],
            [
             0.5555555555555556,
             "#d8576b"
            ],
            [
             0.6666666666666666,
             "#ed7953"
            ],
            [
             0.7777777777777778,
             "#fb9f3a"
            ],
            [
             0.8888888888888888,
             "#fdca26"
            ],
            [
             1,
             "#f0f921"
            ]
           ]
          },
          "colorway": [
           "#636efa",
           "#EF553B",
           "#00cc96",
           "#ab63fa",
           "#FFA15A",
           "#19d3f3",
           "#FF6692",
           "#B6E880",
           "#FF97FF",
           "#FECB52"
          ],
          "font": {
           "color": "#2a3f5f"
          },
          "geo": {
           "bgcolor": "white",
           "lakecolor": "white",
           "landcolor": "#E5ECF6",
           "showlakes": true,
           "showland": true,
           "subunitcolor": "white"
          },
          "hoverlabel": {
           "align": "left"
          },
          "hovermode": "closest",
          "mapbox": {
           "style": "light"
          },
          "paper_bgcolor": "white",
          "plot_bgcolor": "#E5ECF6",
          "polar": {
           "angularaxis": {
            "gridcolor": "white",
            "linecolor": "white",
            "ticks": ""
           },
           "bgcolor": "#E5ECF6",
           "radialaxis": {
            "gridcolor": "white",
            "linecolor": "white",
            "ticks": ""
           }
          },
          "scene": {
           "xaxis": {
            "backgroundcolor": "#E5ECF6",
            "gridcolor": "white",
            "gridwidth": 2,
            "linecolor": "white",
            "showbackground": true,
            "ticks": "",
            "zerolinecolor": "white"
           },
           "yaxis": {
            "backgroundcolor": "#E5ECF6",
            "gridcolor": "white",
            "gridwidth": 2,
            "linecolor": "white",
            "showbackground": true,
            "ticks": "",
            "zerolinecolor": "white"
           },
           "zaxis": {
            "backgroundcolor": "#E5ECF6",
            "gridcolor": "white",
            "gridwidth": 2,
            "linecolor": "white",
            "showbackground": true,
            "ticks": "",
            "zerolinecolor": "white"
           }
          },
          "shapedefaults": {
           "line": {
            "color": "#2a3f5f"
           }
          },
          "ternary": {
           "aaxis": {
            "gridcolor": "white",
            "linecolor": "white",
            "ticks": ""
           },
           "baxis": {
            "gridcolor": "white",
            "linecolor": "white",
            "ticks": ""
           },
           "bgcolor": "#E5ECF6",
           "caxis": {
            "gridcolor": "white",
            "linecolor": "white",
            "ticks": ""
           }
          },
          "title": {
           "x": 0.05
          },
          "xaxis": {
           "automargin": true,
           "gridcolor": "white",
           "linecolor": "white",
           "ticks": "",
           "title": {
            "standoff": 15
           },
           "zerolinecolor": "white",
           "zerolinewidth": 2
          },
          "yaxis": {
           "automargin": true,
           "gridcolor": "white",
           "linecolor": "white",
           "ticks": "",
           "title": {
            "standoff": 15
           },
           "zerolinecolor": "white",
           "zerolinewidth": 2
          }
         }
        },
        "width": 800
       }
      }
     },
     "metadata": {},
     "output_type": "display_data"
    }
   ],
   "source": [
    "#visualize station use of start stations by subscriber\n",
    "color_scale = [(0, 'orange'), (1,'red')]\n",
    "\n",
    "fig = px.scatter_mapbox(df_end_s, lat=\"end_station_latitude\", lon=\"end_station_longitude\", color='counts_end',\n",
    "                        color_continuous_scale=color_scale,size='counts_end', zoom=12, height=300, width=800)\n",
    "\n",
    "\n",
    "fig.update_layout(mapbox_style=\"open-street-map\")\n",
    "fig.update_layout(margin={\"r\":0,\"t\":0,\"l\":0,\"b\":0})\n",
    "fig.show()"
   ]
  },
  {
   "cell_type": "code",
   "execution_count": 39,
   "metadata": {},
   "outputs": [
    {
     "data": {
      "application/vnd.plotly.v1+json": {
       "config": {
        "plotlyServerURL": "https://plot.ly"
       },
       "data": [
        {
         "hovertemplate": "counts_end=%{marker.color}<br>end_station_latitude=%{lat}<br>end_station_longitude=%{lon}<extra></extra>",
         "lat": [
          42.350406,
          42.396969,
          42.400877,
          42.346563,
          42.380287,
          42.356954,
          42.325333,
          42.3625,
          42.377945,
          42.365942,
          42.338629,
          42.376369,
          42.40449,
          42.39082,
          42.330716,
          42.402763,
          42.387995,
          42.370803,
          42.366095,
          42.397828,
          42.335741,
          42.335911,
          42.356052,
          42.335693,
          42.345733,
          42.313156,
          42.309054,
          42.320998,
          42.315692,
          42.320561,
          42.377022,
          42.336437,
          42.317225,
          42.322701,
          42.394002,
          42.310579,
          42.350413,
          42.344827,
          42.344796,
          42.398365,
          42.326599,
          42.361589,
          42.337171,
          42.388966,
          42.36356015842989,
          42.396105,
          42.369885,
          42.392766,
          42.363796,
          42.361667,
          42.344137,
          42.358155,
          42.345901,
          42.32797270205962,
          42.34807412317439,
          42.337596,
          42.3391085,
          42.309796,
          42.344792,
          42.317642,
          42.378965,
          42.365064,
          42.303469,
          42.37408991426522,
          42.34900494405213,
          42.34894857235593,
          42.38674802045056,
          42.36264779118595,
          42.35957320109044,
          42.35560121327927,
          42.37478628706384,
          42.347241,
          42.35977,
          42.345959,
          42.352175,
          42.35892,
          42.351205,
          42.341332,
          42.341522,
          42.331184,
          42.363732,
          42.340021,
          42.334073,
          42.348833,
          42.343912,
          42.348706,
          42.355402,
          42.349673,
          42.357402,
          42.366222,
          42.338623,
          42.345392,
          42.363871,
          42.352261,
          42.352033,
          42.357143,
          42.360613,
          42.344706,
          42.343864,
          42.362811,
          42.356755,
          42.351146,
          42.341814,
          42.350989,
          42.3348756,
          42.348717,
          42.350851,
          42.354979,
          42.347265,
          42.328654,
          42.340799,
          42.355596,
          42.351356,
          42.361174,
          42.360835,
          42.348762,
          42.344023,
          42.3511,
          42.3475,
          42.348607,
          42.3581,
          42.36507,
          42.341598,
          42.35328743453294,
          42.371196,
          42.383405,
          42.362613,
          42.373231,
          42.373268,
          42.36346469304347,
          42.366426,
          42.386844,
          42.379637,
          42.37842,
          42.353334,
          42.3619622,
          42.352409,
          42.339335,
          42.366981,
          42.378338,
          42.332799,
          42.366621,
          42.374035,
          42.379011,
          42.351246,
          42.370677,
          42.366277,
          42.314507,
          42.320494,
          42.375603,
          42.372969,
          42.373379,
          42.36919031768079,
          42.371848,
          42.385582
         ],
         "legendgroup": "",
         "lon": [
          -71.108279,
          -71.123024,
          -71.116772,
          -71.128374,
          -71.125107,
          -71.113687,
          -71.075354,
          -71.08822,
          -71.116865,
          -71.060515,
          -71.1065,
          -71.114025,
          -71.123413,
          -71.10942,
          -71.057044,
          -71.126908,
          -71.119084,
          -71.104412,
          -71.086388,
          -71.130516,
          -71.03877,
          -71.088496,
          -71.069849,
          -71.045859,
          -71.100694,
          -71.11414,
          -71.11543,
          -71.110833,
          -71.098634,
          -71.06198,
          -71.056605,
          -71.073089,
          -71.065421,
          -71.099533,
          -71.120406,
          -71.107341,
          -71.07655,
          -71.028664,
          -71.031614,
          -71.107818,
          -71.066498,
          -71.107437,
          -71.102797,
          -71.132788,
          -71.08216792345047,
          -71.139459,
          -71.069957,
          -71.129042,
          -71.129164,
          -71.13802,
          -71.052608,
          -71.052163,
          -71.063187,
          -71.11089706420898,
          -71.07657015323639,
          -71.096391,
          -71.0514432,
          -71.092225,
          -71.044024,
          -71.056664,
          -71.068607,
          -71.119233,
          -71.085347,
          -71.06905996799469,
          -71.1604106426239,
          -71.15027189254761,
          -71.11901879310608,
          -71.10006093978882,
          -71.10129475593567,
          -71.10394477844238,
          -71.13320231437683,
          -71.105301,
          -71.051601,
          -71.082578,
          -71.055547,
          -71.057629,
          -71.043983,
          -71.076847,
          -71.068922,
          -71.095171,
          -71.124565,
          -71.100812,
          -71.105221,
          -71.041747,
          -71.102221,
          -71.097009,
          -71.058087,
          -71.077303,
          -71.147782,
          -71.059914,
          -71.074182,
          -71.069616,
          -71.050877,
          -71.123831,
          -71.070627,
          -71.050699,
          -71.057452,
          -71.097515,
          -71.085918,
          -71.056067,
          -71.055407,
          -71.066289,
          -71.090179,
          -71.073644,
          -71.0790969,
          -71.085954,
          -71.089886,
          -71.063348,
          -71.088088,
          -71.084198,
          -71.081572,
          -71.07278,
          -71.059367,
          -71.065142,
          -71.0708399,
          -71.082383,
          -71.057054,
          -71.0496,
          -71.0441,
          -71.13401,
          -71.093198,
          -71.1031,
          -71.123338,
          -71.04438900947571,
          -71.121473,
          -71.107593,
          -71.084105,
          -71.120886,
          -71.118579,
          -71.10057324171066,
          -71.105495,
          -71.09812,
          -71.095319,
          -71.105668,
          -71.137313,
          -71.0920526,
          -71.062679,
          -71.13493,
          -71.076472,
          -71.048927,
          -71.116205,
          -71.114214,
          -71.101427,
          -71.119945,
          -71.115639,
          -71.076529,
          -71.09169,
          -71.041269,
          -71.051122,
          -71.064608,
          -71.094445,
          -71.111075,
          -71.11714124679565,
          -71.060292,
          -71.113341
         ],
         "marker": {
          "color": [
           2528,
           4805,
           497,
           607,
           1397,
           3112,
           13,
           2819,
           966,
           10005,
           1406,
           1505,
           541,
           533,
           933,
           617,
           3181,
           1981,
           2123,
           2865,
           1733,
           2035,
           3134,
           1739,
           795,
           619,
           543,
           1092,
           106,
           445,
           817,
           2362,
           175,
           967,
           652,
           982,
           2797,
           596,
           1202,
           280,
           478,
           1851,
           1518,
           709,
           2191,
           1569,
           1332,
           566,
           1402,
           521,
           2070,
           3796,
           2404,
           42,
           7835,
           135,
           267,
           7,
           127,
           56,
           295,
           1010,
           4,
           82,
           40,
           66,
           97,
           113,
           95,
           52,
           102,
           2555,
           4962,
           5130,
           16211,
           5027,
           2370,
           3730,
           4373,
           1252,
           747,
           925,
           899,
           2943,
           2022,
           4034,
           5868,
           7155,
           242,
           7188,
           4189,
           4206,
           5477,
           2048,
           5128,
           7187,
           1951,
           2861,
           3685,
           5256,
           6791,
           3097,
           1613,
           4733,
           939,
           3604,
           2970,
           3803,
           3249,
           278,
           3355,
           3620,
           4092,
           5587,
           5379,
           5063,
           1988,
           5354,
           1206,
           1078,
           3253,
           5127,
           1825,
           2460,
           1431,
           1475,
           3088,
           2528,
           4018,
           4072,
           4326,
           611,
           2162,
           1304,
           916,
           3441,
           3522,
           770,
           3305,
           1956,
           1411,
           1793,
           3553,
           951,
           3297,
           3188,
           4369,
           81,
           437,
           2555,
           3536,
           1859,
           1028,
           4850,
           1160
          ],
          "coloraxis": "coloraxis",
          "size": [
           2528,
           4805,
           497,
           607,
           1397,
           3112,
           13,
           2819,
           966,
           10005,
           1406,
           1505,
           541,
           533,
           933,
           617,
           3181,
           1981,
           2123,
           2865,
           1733,
           2035,
           3134,
           1739,
           795,
           619,
           543,
           1092,
           106,
           445,
           817,
           2362,
           175,
           967,
           652,
           982,
           2797,
           596,
           1202,
           280,
           478,
           1851,
           1518,
           709,
           2191,
           1569,
           1332,
           566,
           1402,
           521,
           2070,
           3796,
           2404,
           42,
           7835,
           135,
           267,
           7,
           127,
           56,
           295,
           1010,
           4,
           82,
           40,
           66,
           97,
           113,
           95,
           52,
           102,
           2555,
           4962,
           5130,
           16211,
           5027,
           2370,
           3730,
           4373,
           1252,
           747,
           925,
           899,
           2943,
           2022,
           4034,
           5868,
           7155,
           242,
           7188,
           4189,
           4206,
           5477,
           2048,
           5128,
           7187,
           1951,
           2861,
           3685,
           5256,
           6791,
           3097,
           1613,
           4733,
           939,
           3604,
           2970,
           3803,
           3249,
           278,
           3355,
           3620,
           4092,
           5587,
           5379,
           5063,
           1988,
           5354,
           1206,
           1078,
           3253,
           5127,
           1825,
           2460,
           1431,
           1475,
           3088,
           2528,
           4018,
           4072,
           4326,
           611,
           2162,
           1304,
           916,
           3441,
           3522,
           770,
           3305,
           1956,
           1411,
           1793,
           3553,
           951,
           3297,
           3188,
           4369,
           81,
           437,
           2555,
           3536,
           1859,
           1028,
           4850,
           1160
          ],
          "sizemode": "area",
          "sizeref": 40.5275
         },
         "mode": "markers",
         "name": "",
         "showlegend": false,
         "subplot": "mapbox",
         "type": "scattermapbox"
        }
       ],
       "layout": {
        "coloraxis": {
         "colorbar": {
          "title": {
           "text": "counts_end"
          }
         },
         "colorscale": [
          [
           0,
           "orange"
          ],
          [
           1,
           "red"
          ]
         ]
        },
        "height": 300,
        "legend": {
         "itemsizing": "constant",
         "tracegroupgap": 0
        },
        "mapbox": {
         "center": {
          "lat": 42.35533532046881,
          "lon": -71.08964322789481
         },
         "domain": {
          "x": [
           0,
           1
          ],
          "y": [
           0,
           1
          ]
         },
         "style": "open-street-map",
         "zoom": 12
        },
        "margin": {
         "b": 0,
         "l": 0,
         "r": 0,
         "t": 0
        },
        "template": {
         "data": {
          "bar": [
           {
            "error_x": {
             "color": "#2a3f5f"
            },
            "error_y": {
             "color": "#2a3f5f"
            },
            "marker": {
             "line": {
              "color": "#E5ECF6",
              "width": 0.5
             },
             "pattern": {
              "fillmode": "overlay",
              "size": 10,
              "solidity": 0.2
             }
            },
            "type": "bar"
           }
          ],
          "barpolar": [
           {
            "marker": {
             "line": {
              "color": "#E5ECF6",
              "width": 0.5
             },
             "pattern": {
              "fillmode": "overlay",
              "size": 10,
              "solidity": 0.2
             }
            },
            "type": "barpolar"
           }
          ],
          "carpet": [
           {
            "aaxis": {
             "endlinecolor": "#2a3f5f",
             "gridcolor": "white",
             "linecolor": "white",
             "minorgridcolor": "white",
             "startlinecolor": "#2a3f5f"
            },
            "baxis": {
             "endlinecolor": "#2a3f5f",
             "gridcolor": "white",
             "linecolor": "white",
             "minorgridcolor": "white",
             "startlinecolor": "#2a3f5f"
            },
            "type": "carpet"
           }
          ],
          "choropleth": [
           {
            "colorbar": {
             "outlinewidth": 0,
             "ticks": ""
            },
            "type": "choropleth"
           }
          ],
          "contour": [
           {
            "colorbar": {
             "outlinewidth": 0,
             "ticks": ""
            },
            "colorscale": [
             [
              0,
              "#0d0887"
             ],
             [
              0.1111111111111111,
              "#46039f"
             ],
             [
              0.2222222222222222,
              "#7201a8"
             ],
             [
              0.3333333333333333,
              "#9c179e"
             ],
             [
              0.4444444444444444,
              "#bd3786"
             ],
             [
              0.5555555555555556,
              "#d8576b"
             ],
             [
              0.6666666666666666,
              "#ed7953"
             ],
             [
              0.7777777777777778,
              "#fb9f3a"
             ],
             [
              0.8888888888888888,
              "#fdca26"
             ],
             [
              1,
              "#f0f921"
             ]
            ],
            "type": "contour"
           }
          ],
          "contourcarpet": [
           {
            "colorbar": {
             "outlinewidth": 0,
             "ticks": ""
            },
            "type": "contourcarpet"
           }
          ],
          "heatmap": [
           {
            "colorbar": {
             "outlinewidth": 0,
             "ticks": ""
            },
            "colorscale": [
             [
              0,
              "#0d0887"
             ],
             [
              0.1111111111111111,
              "#46039f"
             ],
             [
              0.2222222222222222,
              "#7201a8"
             ],
             [
              0.3333333333333333,
              "#9c179e"
             ],
             [
              0.4444444444444444,
              "#bd3786"
             ],
             [
              0.5555555555555556,
              "#d8576b"
             ],
             [
              0.6666666666666666,
              "#ed7953"
             ],
             [
              0.7777777777777778,
              "#fb9f3a"
             ],
             [
              0.8888888888888888,
              "#fdca26"
             ],
             [
              1,
              "#f0f921"
             ]
            ],
            "type": "heatmap"
           }
          ],
          "heatmapgl": [
           {
            "colorbar": {
             "outlinewidth": 0,
             "ticks": ""
            },
            "colorscale": [
             [
              0,
              "#0d0887"
             ],
             [
              0.1111111111111111,
              "#46039f"
             ],
             [
              0.2222222222222222,
              "#7201a8"
             ],
             [
              0.3333333333333333,
              "#9c179e"
             ],
             [
              0.4444444444444444,
              "#bd3786"
             ],
             [
              0.5555555555555556,
              "#d8576b"
             ],
             [
              0.6666666666666666,
              "#ed7953"
             ],
             [
              0.7777777777777778,
              "#fb9f3a"
             ],
             [
              0.8888888888888888,
              "#fdca26"
             ],
             [
              1,
              "#f0f921"
             ]
            ],
            "type": "heatmapgl"
           }
          ],
          "histogram": [
           {
            "marker": {
             "pattern": {
              "fillmode": "overlay",
              "size": 10,
              "solidity": 0.2
             }
            },
            "type": "histogram"
           }
          ],
          "histogram2d": [
           {
            "colorbar": {
             "outlinewidth": 0,
             "ticks": ""
            },
            "colorscale": [
             [
              0,
              "#0d0887"
             ],
             [
              0.1111111111111111,
              "#46039f"
             ],
             [
              0.2222222222222222,
              "#7201a8"
             ],
             [
              0.3333333333333333,
              "#9c179e"
             ],
             [
              0.4444444444444444,
              "#bd3786"
             ],
             [
              0.5555555555555556,
              "#d8576b"
             ],
             [
              0.6666666666666666,
              "#ed7953"
             ],
             [
              0.7777777777777778,
              "#fb9f3a"
             ],
             [
              0.8888888888888888,
              "#fdca26"
             ],
             [
              1,
              "#f0f921"
             ]
            ],
            "type": "histogram2d"
           }
          ],
          "histogram2dcontour": [
           {
            "colorbar": {
             "outlinewidth": 0,
             "ticks": ""
            },
            "colorscale": [
             [
              0,
              "#0d0887"
             ],
             [
              0.1111111111111111,
              "#46039f"
             ],
             [
              0.2222222222222222,
              "#7201a8"
             ],
             [
              0.3333333333333333,
              "#9c179e"
             ],
             [
              0.4444444444444444,
              "#bd3786"
             ],
             [
              0.5555555555555556,
              "#d8576b"
             ],
             [
              0.6666666666666666,
              "#ed7953"
             ],
             [
              0.7777777777777778,
              "#fb9f3a"
             ],
             [
              0.8888888888888888,
              "#fdca26"
             ],
             [
              1,
              "#f0f921"
             ]
            ],
            "type": "histogram2dcontour"
           }
          ],
          "mesh3d": [
           {
            "colorbar": {
             "outlinewidth": 0,
             "ticks": ""
            },
            "type": "mesh3d"
           }
          ],
          "parcoords": [
           {
            "line": {
             "colorbar": {
              "outlinewidth": 0,
              "ticks": ""
             }
            },
            "type": "parcoords"
           }
          ],
          "pie": [
           {
            "automargin": true,
            "type": "pie"
           }
          ],
          "scatter": [
           {
            "fillpattern": {
             "fillmode": "overlay",
             "size": 10,
             "solidity": 0.2
            },
            "type": "scatter"
           }
          ],
          "scatter3d": [
           {
            "line": {
             "colorbar": {
              "outlinewidth": 0,
              "ticks": ""
             }
            },
            "marker": {
             "colorbar": {
              "outlinewidth": 0,
              "ticks": ""
             }
            },
            "type": "scatter3d"
           }
          ],
          "scattercarpet": [
           {
            "marker": {
             "colorbar": {
              "outlinewidth": 0,
              "ticks": ""
             }
            },
            "type": "scattercarpet"
           }
          ],
          "scattergeo": [
           {
            "marker": {
             "colorbar": {
              "outlinewidth": 0,
              "ticks": ""
             }
            },
            "type": "scattergeo"
           }
          ],
          "scattergl": [
           {
            "marker": {
             "colorbar": {
              "outlinewidth": 0,
              "ticks": ""
             }
            },
            "type": "scattergl"
           }
          ],
          "scattermapbox": [
           {
            "marker": {
             "colorbar": {
              "outlinewidth": 0,
              "ticks": ""
             }
            },
            "type": "scattermapbox"
           }
          ],
          "scatterpolar": [
           {
            "marker": {
             "colorbar": {
              "outlinewidth": 0,
              "ticks": ""
             }
            },
            "type": "scatterpolar"
           }
          ],
          "scatterpolargl": [
           {
            "marker": {
             "colorbar": {
              "outlinewidth": 0,
              "ticks": ""
             }
            },
            "type": "scatterpolargl"
           }
          ],
          "scatterternary": [
           {
            "marker": {
             "colorbar": {
              "outlinewidth": 0,
              "ticks": ""
             }
            },
            "type": "scatterternary"
           }
          ],
          "surface": [
           {
            "colorbar": {
             "outlinewidth": 0,
             "ticks": ""
            },
            "colorscale": [
             [
              0,
              "#0d0887"
             ],
             [
              0.1111111111111111,
              "#46039f"
             ],
             [
              0.2222222222222222,
              "#7201a8"
             ],
             [
              0.3333333333333333,
              "#9c179e"
             ],
             [
              0.4444444444444444,
              "#bd3786"
             ],
             [
              0.5555555555555556,
              "#d8576b"
             ],
             [
              0.6666666666666666,
              "#ed7953"
             ],
             [
              0.7777777777777778,
              "#fb9f3a"
             ],
             [
              0.8888888888888888,
              "#fdca26"
             ],
             [
              1,
              "#f0f921"
             ]
            ],
            "type": "surface"
           }
          ],
          "table": [
           {
            "cells": {
             "fill": {
              "color": "#EBF0F8"
             },
             "line": {
              "color": "white"
             }
            },
            "header": {
             "fill": {
              "color": "#C8D4E3"
             },
             "line": {
              "color": "white"
             }
            },
            "type": "table"
           }
          ]
         },
         "layout": {
          "annotationdefaults": {
           "arrowcolor": "#2a3f5f",
           "arrowhead": 0,
           "arrowwidth": 1
          },
          "autotypenumbers": "strict",
          "coloraxis": {
           "colorbar": {
            "outlinewidth": 0,
            "ticks": ""
           }
          },
          "colorscale": {
           "diverging": [
            [
             0,
             "#8e0152"
            ],
            [
             0.1,
             "#c51b7d"
            ],
            [
             0.2,
             "#de77ae"
            ],
            [
             0.3,
             "#f1b6da"
            ],
            [
             0.4,
             "#fde0ef"
            ],
            [
             0.5,
             "#f7f7f7"
            ],
            [
             0.6,
             "#e6f5d0"
            ],
            [
             0.7,
             "#b8e186"
            ],
            [
             0.8,
             "#7fbc41"
            ],
            [
             0.9,
             "#4d9221"
            ],
            [
             1,
             "#276419"
            ]
           ],
           "sequential": [
            [
             0,
             "#0d0887"
            ],
            [
             0.1111111111111111,
             "#46039f"
            ],
            [
             0.2222222222222222,
             "#7201a8"
            ],
            [
             0.3333333333333333,
             "#9c179e"
            ],
            [
             0.4444444444444444,
             "#bd3786"
            ],
            [
             0.5555555555555556,
             "#d8576b"
            ],
            [
             0.6666666666666666,
             "#ed7953"
            ],
            [
             0.7777777777777778,
             "#fb9f3a"
            ],
            [
             0.8888888888888888,
             "#fdca26"
            ],
            [
             1,
             "#f0f921"
            ]
           ],
           "sequentialminus": [
            [
             0,
             "#0d0887"
            ],
            [
             0.1111111111111111,
             "#46039f"
            ],
            [
             0.2222222222222222,
             "#7201a8"
            ],
            [
             0.3333333333333333,
             "#9c179e"
            ],
            [
             0.4444444444444444,
             "#bd3786"
            ],
            [
             0.5555555555555556,
             "#d8576b"
            ],
            [
             0.6666666666666666,
             "#ed7953"
            ],
            [
             0.7777777777777778,
             "#fb9f3a"
            ],
            [
             0.8888888888888888,
             "#fdca26"
            ],
            [
             1,
             "#f0f921"
            ]
           ]
          },
          "colorway": [
           "#636efa",
           "#EF553B",
           "#00cc96",
           "#ab63fa",
           "#FFA15A",
           "#19d3f3",
           "#FF6692",
           "#B6E880",
           "#FF97FF",
           "#FECB52"
          ],
          "font": {
           "color": "#2a3f5f"
          },
          "geo": {
           "bgcolor": "white",
           "lakecolor": "white",
           "landcolor": "#E5ECF6",
           "showlakes": true,
           "showland": true,
           "subunitcolor": "white"
          },
          "hoverlabel": {
           "align": "left"
          },
          "hovermode": "closest",
          "mapbox": {
           "style": "light"
          },
          "paper_bgcolor": "white",
          "plot_bgcolor": "#E5ECF6",
          "polar": {
           "angularaxis": {
            "gridcolor": "white",
            "linecolor": "white",
            "ticks": ""
           },
           "bgcolor": "#E5ECF6",
           "radialaxis": {
            "gridcolor": "white",
            "linecolor": "white",
            "ticks": ""
           }
          },
          "scene": {
           "xaxis": {
            "backgroundcolor": "#E5ECF6",
            "gridcolor": "white",
            "gridwidth": 2,
            "linecolor": "white",
            "showbackground": true,
            "ticks": "",
            "zerolinecolor": "white"
           },
           "yaxis": {
            "backgroundcolor": "#E5ECF6",
            "gridcolor": "white",
            "gridwidth": 2,
            "linecolor": "white",
            "showbackground": true,
            "ticks": "",
            "zerolinecolor": "white"
           },
           "zaxis": {
            "backgroundcolor": "#E5ECF6",
            "gridcolor": "white",
            "gridwidth": 2,
            "linecolor": "white",
            "showbackground": true,
            "ticks": "",
            "zerolinecolor": "white"
           }
          },
          "shapedefaults": {
           "line": {
            "color": "#2a3f5f"
           }
          },
          "ternary": {
           "aaxis": {
            "gridcolor": "white",
            "linecolor": "white",
            "ticks": ""
           },
           "baxis": {
            "gridcolor": "white",
            "linecolor": "white",
            "ticks": ""
           },
           "bgcolor": "#E5ECF6",
           "caxis": {
            "gridcolor": "white",
            "linecolor": "white",
            "ticks": ""
           }
          },
          "title": {
           "x": 0.05
          },
          "xaxis": {
           "automargin": true,
           "gridcolor": "white",
           "linecolor": "white",
           "ticks": "",
           "title": {
            "standoff": 15
           },
           "zerolinecolor": "white",
           "zerolinewidth": 2
          },
          "yaxis": {
           "automargin": true,
           "gridcolor": "white",
           "linecolor": "white",
           "ticks": "",
           "title": {
            "standoff": 15
           },
           "zerolinecolor": "white",
           "zerolinewidth": 2
          }
         }
        },
        "width": 800
       }
      }
     },
     "metadata": {},
     "output_type": "display_data"
    }
   ],
   "source": [
    "#visualize station use of start stations by customers\n",
    "color_scale = [(0, 'orange'), (1,'red')]\n",
    "\n",
    "fig = px.scatter_mapbox(df_end_c, lat=\"end_station_latitude\", lon=\"end_station_longitude\", color='counts_end',\n",
    "                        color_continuous_scale=color_scale,size='counts_end', zoom=12, height=300, width=800)\n",
    "\n",
    "\n",
    "fig.update_layout(mapbox_style=\"open-street-map\")\n",
    "fig.update_layout(margin={\"r\":0,\"t\":0,\"l\":0,\"b\":0})\n",
    "fig.show()"
   ]
  },
  {
   "attachments": {},
   "cell_type": "markdown",
   "metadata": {},
   "source": [
    "There seems to be no big difference between the amount of trips ended and started in certain areas which might indicate that people that decide to rent a bike also choose it again later when leaving their destination. \n",
    "\n",
    "Also the observations of customer and subscriber use for start stations does not change for end stations."
   ]
  },
  {
   "attachments": {},
   "cell_type": "markdown",
   "metadata": {},
   "source": [
    "## Volume share per station \n",
    "What is the percentage of total of total rides a station is used? "
   ]
  },
  {
   "cell_type": "code",
   "execution_count": 7,
   "metadata": {},
   "outputs": [
    {
     "data": {
      "text/html": [
       "<div>\n",
       "<style scoped>\n",
       "    .dataframe tbody tr th:only-of-type {\n",
       "        vertical-align: middle;\n",
       "    }\n",
       "\n",
       "    .dataframe tbody tr th {\n",
       "        vertical-align: top;\n",
       "    }\n",
       "\n",
       "    .dataframe thead th {\n",
       "        text-align: right;\n",
       "    }\n",
       "</style>\n",
       "<table border=\"1\" class=\"dataframe\">\n",
       "  <thead>\n",
       "    <tr style=\"text-align: right;\">\n",
       "      <th></th>\n",
       "      <th>start_station_id</th>\n",
       "      <th>start_station_latitude</th>\n",
       "      <th>start_station_longitude</th>\n",
       "      <th>counts_start</th>\n",
       "      <th>total_rides</th>\n",
       "      <th>share</th>\n",
       "    </tr>\n",
       "  </thead>\n",
       "  <tbody>\n",
       "    <tr>\n",
       "      <th>75</th>\n",
       "      <td>81</td>\n",
       "      <td>42.352409</td>\n",
       "      <td>-71.062679</td>\n",
       "      <td>10155</td>\n",
       "      <td>41190</td>\n",
       "      <td>1.861956</td>\n",
       "    </tr>\n",
       "    <tr>\n",
       "      <th>19</th>\n",
       "      <td>22</td>\n",
       "      <td>42.352175</td>\n",
       "      <td>-71.055547</td>\n",
       "      <td>30543</td>\n",
       "      <td>37438</td>\n",
       "      <td>1.692350</td>\n",
       "    </tr>\n",
       "    <tr>\n",
       "      <th>55</th>\n",
       "      <td>60</td>\n",
       "      <td>42.360835</td>\n",
       "      <td>-71.070840</td>\n",
       "      <td>16915</td>\n",
       "      <td>32665</td>\n",
       "      <td>1.476591</td>\n",
       "    </tr>\n",
       "    <tr>\n",
       "      <th>121</th>\n",
       "      <td>130</td>\n",
       "      <td>42.317225</td>\n",
       "      <td>-71.065421</td>\n",
       "      <td>742</td>\n",
       "      <td>30400</td>\n",
       "      <td>1.374204</td>\n",
       "    </tr>\n",
       "    <tr>\n",
       "      <th>61</th>\n",
       "      <td>67</td>\n",
       "      <td>42.358100</td>\n",
       "      <td>-71.093198</td>\n",
       "      <td>29335</td>\n",
       "      <td>29912</td>\n",
       "      <td>1.352144</td>\n",
       "    </tr>\n",
       "  </tbody>\n",
       "</table>\n",
       "</div>"
      ],
      "text/plain": [
       "     start_station_id  start_station_latitude  start_station_longitude  \\\n",
       "75                 81               42.352409               -71.062679   \n",
       "19                 22               42.352175               -71.055547   \n",
       "55                 60               42.360835               -71.070840   \n",
       "121               130               42.317225               -71.065421   \n",
       "61                 67               42.358100               -71.093198   \n",
       "\n",
       "     counts_start  total_rides     share  \n",
       "75          10155        41190  1.861956  \n",
       "19          30543        37438  1.692350  \n",
       "55          16915        32665  1.476591  \n",
       "121           742        30400  1.374204  \n",
       "61          29335        29912  1.352144  "
      ]
     },
     "execution_count": 7,
     "metadata": {},
     "output_type": "execute_result"
    }
   ],
   "source": [
    "#share of different stations, most frequently used stations\n",
    "df_station_share = df_start.copy()\n",
    "df_station_share['total_rides'] = df_start['counts_start'] + df_end['counts_end']\n",
    "yearly_total_rides = sum(df_station_share['total_rides'])\n",
    "df_station_share['share'] = (df_station_share['total_rides'] / yearly_total_rides)*100\n",
    "df_station_share.sort_values('share', ascending=False).head(5)"
   ]
  },
  {
   "attachments": {},
   "cell_type": "markdown",
   "metadata": {},
   "source": [
    "## Station Distribution in Boston"
   ]
  },
  {
   "cell_type": "code",
   "execution_count": 43,
   "metadata": {},
   "outputs": [
    {
     "data": {
      "text/html": [
       "<div style=\"width:100%;\"><div style=\"position:relative;width:100%;height:0;padding-bottom:60%;\"><span style=\"color:#565656\">Make this Notebook Trusted to load map: File -> Trust Notebook</span><iframe srcdoc=\"&lt;!DOCTYPE html&gt;\n",
       "&lt;html&gt;\n",
       "&lt;head&gt;\n",
       "    \n",
       "    &lt;meta http-equiv=&quot;content-type&quot; content=&quot;text/html; charset=UTF-8&quot; /&gt;\n",
       "    \n",
       "        &lt;script&gt;\n",
       "            L_NO_TOUCH = false;\n",
       "            L_DISABLE_3D = false;\n",
       "        &lt;/script&gt;\n",
       "    \n",
       "    &lt;style&gt;html, body {width: 100%;height: 100%;margin: 0;padding: 0;}&lt;/style&gt;\n",
       "    &lt;style&gt;#map {position:absolute;top:0;bottom:0;right:0;left:0;}&lt;/style&gt;\n",
       "    &lt;script src=&quot;https://cdn.jsdelivr.net/npm/leaflet@1.9.3/dist/leaflet.js&quot;&gt;&lt;/script&gt;\n",
       "    &lt;script src=&quot;https://code.jquery.com/jquery-1.12.4.min.js&quot;&gt;&lt;/script&gt;\n",
       "    &lt;script src=&quot;https://cdn.jsdelivr.net/npm/bootstrap@5.2.2/dist/js/bootstrap.bundle.min.js&quot;&gt;&lt;/script&gt;\n",
       "    &lt;script src=&quot;https://cdnjs.cloudflare.com/ajax/libs/Leaflet.awesome-markers/2.0.2/leaflet.awesome-markers.js&quot;&gt;&lt;/script&gt;\n",
       "    &lt;link rel=&quot;stylesheet&quot; href=&quot;https://cdn.jsdelivr.net/npm/leaflet@1.9.3/dist/leaflet.css&quot;/&gt;\n",
       "    &lt;link rel=&quot;stylesheet&quot; href=&quot;https://cdn.jsdelivr.net/npm/bootstrap@5.2.2/dist/css/bootstrap.min.css&quot;/&gt;\n",
       "    &lt;link rel=&quot;stylesheet&quot; href=&quot;https://netdna.bootstrapcdn.com/bootstrap/3.0.0/css/bootstrap.min.css&quot;/&gt;\n",
       "    &lt;link rel=&quot;stylesheet&quot; href=&quot;https://cdn.jsdelivr.net/npm/@fortawesome/fontawesome-free@6.2.0/css/all.min.css&quot;/&gt;\n",
       "    &lt;link rel=&quot;stylesheet&quot; href=&quot;https://cdnjs.cloudflare.com/ajax/libs/Leaflet.awesome-markers/2.0.2/leaflet.awesome-markers.css&quot;/&gt;\n",
       "    &lt;link rel=&quot;stylesheet&quot; href=&quot;https://cdn.jsdelivr.net/gh/python-visualization/folium/folium/templates/leaflet.awesome.rotate.min.css&quot;/&gt;\n",
       "    \n",
       "            &lt;meta name=&quot;viewport&quot; content=&quot;width=device-width,\n",
       "                initial-scale=1.0, maximum-scale=1.0, user-scalable=no&quot; /&gt;\n",
       "            &lt;style&gt;\n",
       "                #map_e646319c4c7105bbfc42cd669025a586 {\n",
       "                    position: relative;\n",
       "                    width: 100.0%;\n",
       "                    height: 100.0%;\n",
       "                    left: 0.0%;\n",
       "                    top: 0.0%;\n",
       "                }\n",
       "                .leaflet-container { font-size: 1rem; }\n",
       "            &lt;/style&gt;\n",
       "        \n",
       "    &lt;script src=&quot;https://cdn.jsdelivr.net/gh/python-visualization/folium@main/folium/templates/leaflet_heat.min.js&quot;&gt;&lt;/script&gt;\n",
       "&lt;/head&gt;\n",
       "&lt;body&gt;\n",
       "    \n",
       "    \n",
       "            &lt;div class=&quot;folium-map&quot; id=&quot;map_e646319c4c7105bbfc42cd669025a586&quot; &gt;&lt;/div&gt;\n",
       "        \n",
       "&lt;/body&gt;\n",
       "&lt;script&gt;\n",
       "    \n",
       "    \n",
       "            var map_e646319c4c7105bbfc42cd669025a586 = L.map(\n",
       "                &quot;map_e646319c4c7105bbfc42cd669025a586&quot;,\n",
       "                {\n",
       "                    center: [42.355437621689155, -71.08959928825527],\n",
       "                    crs: L.CRS.EPSG3857,\n",
       "                    zoom: 13,\n",
       "                    zoomControl: true,\n",
       "                    preferCanvas: false,\n",
       "                }\n",
       "            );\n",
       "            L.control.scale().addTo(map_e646319c4c7105bbfc42cd669025a586);\n",
       "\n",
       "            \n",
       "\n",
       "        \n",
       "    \n",
       "            var tile_layer_35c10242f2d35bfa4a70148716b5c2a6 = L.tileLayer(\n",
       "                &quot;https://{s}.tile.openstreetmap.org/{z}/{x}/{y}.png&quot;,\n",
       "                {&quot;attribution&quot;: &quot;Data by \\u0026copy; \\u003ca target=\\&quot;_blank\\&quot; href=\\&quot;http://openstreetmap.org\\&quot;\\u003eOpenStreetMap\\u003c/a\\u003e, under \\u003ca target=\\&quot;_blank\\&quot; href=\\&quot;http://www.openstreetmap.org/copyright\\&quot;\\u003eODbL\\u003c/a\\u003e.&quot;, &quot;detectRetina&quot;: false, &quot;maxNativeZoom&quot;: 20, &quot;maxZoom&quot;: 20, &quot;minZoom&quot;: 0, &quot;noWrap&quot;: false, &quot;opacity&quot;: 1, &quot;subdomains&quot;: &quot;abc&quot;, &quot;tms&quot;: false}\n",
       "            ).addTo(map_e646319c4c7105bbfc42cd669025a586);\n",
       "        \n",
       "    \n",
       "            var heat_map_582225a7a117f00bf0f6f3d3fc59df03 = L.heatLayer(\n",
       "                [[42.387151, -71.075978], [42.340021, -71.100812], [42.340021, -71.100812], [42.345392, -71.069616], [42.345392, -71.069616], [42.341814, -71.090179], [42.341814, -71.090179], [42.361174, -71.065142], [42.361174, -71.065142], [42.35328743453294, -71.04438900947571], [42.35328743453294, -71.04438900947571], [42.353334, -71.137313], [42.353334, -71.137313], [42.351246, -71.115639], [42.351246, -71.115639], [42.350406, -71.108279], [42.350406, -71.108279], [42.338629, -71.1065], [42.338629, -71.1065], [42.335911, -71.088496], [42.335911, -71.088496], [42.336437, -71.073089], [42.336437, -71.073089], [42.337171, -71.102797], [42.337171, -71.102797], [42.361667, -71.13802], [42.361667, -71.13802], [42.34807412317439, -71.07657015323639], [42.34807412317439, -71.07657015323639], [42.365064, -71.119233], [42.365064, -71.119233], [42.347241, -71.105301], [42.347241, -71.105301], [42.35977, -71.051601], [42.35977, -71.051601], [42.345959, -71.082578], [42.345959, -71.082578], [42.352175, -71.055547], [42.352175, -71.055547], [42.35892, -71.057629], [42.35892, -71.057629], [42.351205, -71.043983], [42.351205, -71.043983], [42.341332, -71.076847], [42.341332, -71.076847], [42.341522, -71.068922], [42.341522, -71.068922], [42.331184, -71.095171], [42.331184, -71.095171], [42.363732, -71.124565], [42.363732, -71.124565], [42.334073, -71.105221], [42.334073, -71.105221], [42.348833, -71.041747], [42.348833, -71.041747], [42.343912, -71.102221], [42.343912, -71.102221], [42.348706, -71.097009], [42.348706, -71.097009], [42.355402, -71.058087], [42.355402, -71.058087], [42.349673, -71.077303], [42.349673, -71.077303], [42.357402, -71.147782], [42.357402, -71.147782], [42.366222, -71.059914], [42.366222, -71.059914], [42.338623, -71.074182], [42.338623, -71.074182], [42.363871, -71.050877], [42.363871, -71.050877], [42.352261, -71.123831], [42.352261, -71.123831], [42.352033, -71.070627], [42.352033, -71.070627], [42.357143, -71.050699], [42.357143, -71.050699], [42.360613, -71.057452], [42.360613, -71.057452], [42.344706, -71.097515], [42.344706, -71.097515], [42.343864, -71.085918], [42.343864, -71.085918], [42.362811, -71.056067], [42.362811, -71.056067], [42.356755, -71.055407], [42.356755, -71.055407], [42.351146, -71.066289], [42.351146, -71.066289], [42.350989, -71.073644], [42.350989, -71.073644], [42.3348756, -71.0790969], [42.3348756, -71.0790969], [42.348717, -71.085954], [42.348717, -71.085954], [42.350851, -71.089886], [42.350851, -71.089886], [42.354979, -71.063348], [42.354979, -71.063348], [42.347265, -71.088088], [42.347265, -71.088088], [42.328654, -71.084198], [42.328654, -71.084198], [42.340799, -71.081572], [42.340799, -71.081572], [42.355596, -71.07278], [42.355596, -71.07278], [42.351356, -71.059367], [42.351356, -71.059367], [42.360835, -71.0708399], [42.360835, -71.0708399], [42.348762, -71.082383], [42.348762, -71.082383], [42.344023, -71.057054], [42.344023, -71.057054], [42.3511, -71.0496], [42.3511, -71.0496], [42.3475, -71.0441], [42.3475, -71.0441], [42.348607, -71.13401], [42.348607, -71.13401], [42.3581, -71.093198], [42.3581, -71.093198], [42.36507, -71.1031], [42.36507, -71.1031], [42.341598, -71.123338], [42.341598, -71.123338], [42.371196, -71.121473], [42.371196, -71.121473], [42.383405, -71.107593], [42.383405, -71.107593], [42.362613, -71.084105], [42.362613, -71.084105], [42.373231, -71.120886], [42.373231, -71.120886], [42.373268, -71.118579], [42.373268, -71.118579], [42.36346469304347, -71.10057324171066], [42.36346469304347, -71.10057324171066], [42.366426, -71.105495], [42.366426, -71.105495], [42.386844, -71.09812], [42.386844, -71.09812], [42.379637, -71.095319], [42.379637, -71.095319], [42.37842, -71.105668], [42.37842, -71.105668], [42.3619622, -71.0920526], [42.3619622, -71.0920526], [42.352409, -71.062679], [42.352409, -71.062679], [42.339335, -71.13493], [42.339335, -71.13493], [42.366981, -71.076472], [42.366981, -71.076472], [42.378338, -71.048927], [42.378338, -71.048927], [42.332799, -71.116205], [42.332799, -71.116205], [42.366621, -71.114214], [42.366621, -71.114214], [42.374035, -71.101427], [42.374035, -71.101427], [42.379011, -71.119945], [42.379011, -71.119945], [42.370677, -71.076529], [42.370677, -71.076529], [42.366277, -71.09169], [42.366277, -71.09169], [42.314507, -71.041269], [42.314507, -71.041269], [42.320494, -71.051122], [42.320494, -71.051122], [42.375603, -71.064608], [42.375603, -71.064608], [42.372969, -71.094445], [42.372969, -71.094445], [42.373379, -71.111075], [42.373379, -71.111075], [42.36919031768079, -71.11714124679565], [42.36919031768079, -71.11714124679565], [42.371848, -71.060292], [42.371848, -71.060292], [42.385582, -71.113341], [42.385582, -71.113341], [42.396969, -71.123024], [42.396969, -71.123024], [42.400877, -71.116772], [42.400877, -71.116772], [42.346563, -71.128374], [42.346563, -71.128374], [42.380287, -71.125107], [42.380287, -71.125107], [42.356954, -71.113687], [42.356954, -71.113687], [42.325333, -71.075354], [42.325333, -71.075354], [42.3625, -71.08822], [42.3625, -71.08822], [42.377945, -71.116865], [42.377945, -71.116865], [42.365942, -71.060515], [42.365942, -71.060515], [42.376369, -71.114025], [42.376369, -71.114025], [42.40449, -71.123413], [42.40449, -71.123413], [42.39082, -71.10942], [42.39082, -71.10942], [42.330716, -71.057044], [42.330716, -71.057044], [42.402763, -71.126908], [42.402763, -71.126908], [42.387995, -71.119084], [42.387995, -71.119084], [42.370803, -71.104412], [42.370803, -71.104412], [42.366095, -71.086388], [42.366095, -71.086388], [42.397828, -71.130516], [42.397828, -71.130516], [42.335741, -71.03877], [42.335741, -71.03877], [42.356052, -71.069849], [42.356052, -71.069849], [42.335693, -71.045859], [42.335693, -71.045859], [42.345733, -71.100694], [42.345733, -71.100694], [42.313156, -71.11414], [42.313156, -71.11414], [42.309054, -71.11543], [42.309054, -71.11543], [42.320998, -71.110833], [42.320998, -71.110833], [42.315692, -71.098634], [42.315692, -71.098634], [42.320561, -71.06198], [42.320561, -71.06198], [42.377022, -71.056605], [42.377022, -71.056605], [42.317225, -71.065421], [42.317225, -71.065421], [42.322701, -71.099533], [42.322701, -71.099533], [42.394002, -71.120406], [42.394002, -71.120406], [42.310579, -71.107341], [42.310579, -71.107341], [42.350413, -71.07655], [42.350413, -71.07655], [42.344827, -71.028664], [42.344827, -71.028664], [42.344796, -71.031614], [42.344796, -71.031614], [42.398365, -71.107818], [42.398365, -71.107818], [42.326599, -71.066498], [42.326599, -71.066498], [42.361589, -71.107437], [42.361589, -71.107437], [42.388966, -71.132788], [42.388966, -71.132788], [42.36356015842989, -71.08216792345047], [42.36356015842989, -71.08216792345047], [42.396105, -71.139459], [42.396105, -71.139459], [42.369885, -71.069957], [42.369885, -71.069957], [42.392766, -71.129042], [42.392766, -71.129042], [42.363796, -71.129164], [42.363796, -71.129164], [42.344137, -71.052608], [42.344137, -71.052608], [42.358155, -71.052163], [42.358155, -71.052163], [42.345901, -71.063187], [42.345901, -71.063187], [42.32797270205962, -71.11089706420898], [42.32797270205962, -71.11089706420898], [42.337596, -71.096391], [42.337596, -71.096391], [42.3391085, -71.0514432], [42.3391085, -71.0514432], [42.309796, -71.092225], [42.309796, -71.092225], [42.344792, -71.044024], [42.344792, -71.044024], [42.317642, -71.056664], [42.317642, -71.056664], [42.378965, -71.068607], [42.378965, -71.068607], [42.303469, -71.085347], [42.303469, -71.085347], [42.37408991426522, -71.06905996799469], [42.37408991426522, -71.06905996799469], [42.34900494405213, -71.1604106426239], [42.34900494405213, -71.1604106426239], [42.34894857235593, -71.15027189254761], [42.34894857235593, -71.15027189254761], [42.38674802045056, -71.11901879310608], [42.38674802045056, -71.11901879310608], [42.36264779118595, -71.10006093978882], [42.36264779118595, -71.10006093978882], [42.35957320109044, -71.10129475593567], [42.35957320109044, -71.10129475593567], [42.35560121327927, -71.10394477844238], [42.35560121327927, -71.10394477844238], [42.37478628706384, -71.13320231437683], [42.37478628706384, -71.13320231437683]],\n",
       "                {&quot;blur&quot;: 15, &quot;maxZoom&quot;: 18, &quot;minOpacity&quot;: 0.5, &quot;radius&quot;: 25}\n",
       "            ).addTo(map_e646319c4c7105bbfc42cd669025a586);\n",
       "        \n",
       "&lt;/script&gt;\n",
       "&lt;/html&gt;\" style=\"position:absolute;width:100%;height:100%;left:0;top:0;border:none !important;\" allowfullscreen webkitallowfullscreen mozallowfullscreen></iframe></div></div>"
      ],
      "text/plain": [
       "<folium.folium.Map at 0x7f85ba2427c0>"
      ]
     },
     "execution_count": 43,
     "metadata": {},
     "output_type": "execute_result"
    }
   ],
   "source": [
    "def heat_map(df, station_id):\n",
    "    # define new map\n",
    "    heat_map = folium.Map(\n",
    "        location=[df['start_station_latitude'].mean(), df['start_station_longitude'].mean()], \n",
    "        tiles='OpenStreetMap', \n",
    "        zoom_start=13, \n",
    "        control_scale=True, \n",
    "        max_zoom=20,\n",
    "        )\n",
    "    # add heat map\n",
    "    heat_data = [[row['start_station_latitude'],row['start_station_longitude']] for index, row in df.iterrows()]\n",
    "    HeatMap(heat_data).add_to(heat_map)\n",
    "    #heat map for destination points looks pretty much identical\n",
    "    return heat_map\n",
    "m = heat_map(df_start, np.array(df_start['start_station_id']))\n",
    "\n",
    "m"
   ]
  },
  {
   "attachments": {},
   "cell_type": "markdown",
   "metadata": {},
   "source": [
    "# Most popular routes  \n",
    "This section tries to explain which routes are most often used."
   ]
  },
  {
   "cell_type": "code",
   "execution_count": 9,
   "metadata": {},
   "outputs": [
    {
     "data": {
      "text/html": [
       "<div>\n",
       "<style scoped>\n",
       "    .dataframe tbody tr th:only-of-type {\n",
       "        vertical-align: middle;\n",
       "    }\n",
       "\n",
       "    .dataframe tbody tr th {\n",
       "        vertical-align: top;\n",
       "    }\n",
       "\n",
       "    .dataframe thead th {\n",
       "        text-align: right;\n",
       "    }\n",
       "</style>\n",
       "<table border=\"1\" class=\"dataframe\">\n",
       "  <thead>\n",
       "    <tr style=\"text-align: right;\">\n",
       "      <th></th>\n",
       "      <th>start_time</th>\n",
       "      <th>end_time</th>\n",
       "      <th>start_station_id</th>\n",
       "      <th>end_station_id</th>\n",
       "      <th>start_station_name</th>\n",
       "      <th>end_station_name</th>\n",
       "      <th>bike_id</th>\n",
       "      <th>user_type</th>\n",
       "      <th>trip_length</th>\n",
       "      <th>start_station_latitude</th>\n",
       "      <th>start_station_longitude</th>\n",
       "      <th>end_station_latitude</th>\n",
       "      <th>end_station_longitude</th>\n",
       "      <th>date_time</th>\n",
       "    </tr>\n",
       "  </thead>\n",
       "  <tbody>\n",
       "    <tr>\n",
       "      <th>0</th>\n",
       "      <td>2015-01-01 00:21:44</td>\n",
       "      <td>2015-01-01 00:30:47</td>\n",
       "      <td>115</td>\n",
       "      <td>96</td>\n",
       "      <td>Porter Square Station</td>\n",
       "      <td>Cambridge Main Library at Broadway / Trowbridg...</td>\n",
       "      <td>277</td>\n",
       "      <td>Subscriber</td>\n",
       "      <td>543.0</td>\n",
       "      <td>42.387995</td>\n",
       "      <td>-71.119084</td>\n",
       "      <td>42.373379</td>\n",
       "      <td>-71.111075</td>\n",
       "      <td>2015-01-01 00:00:00</td>\n",
       "    </tr>\n",
       "    <tr>\n",
       "      <th>1</th>\n",
       "      <td>2015-01-01 00:27:03</td>\n",
       "      <td>2015-01-01 00:34:21</td>\n",
       "      <td>80</td>\n",
       "      <td>95</td>\n",
       "      <td>MIT Stata Center at Vassar St / Main St</td>\n",
       "      <td>Cambridge St - at Columbia St / Webster Ave</td>\n",
       "      <td>648</td>\n",
       "      <td>Subscriber</td>\n",
       "      <td>438.0</td>\n",
       "      <td>42.361962</td>\n",
       "      <td>-71.092053</td>\n",
       "      <td>42.372969</td>\n",
       "      <td>-71.094445</td>\n",
       "      <td>2015-01-01 00:00:00</td>\n",
       "    </tr>\n",
       "    <tr>\n",
       "      <th>2</th>\n",
       "      <td>2015-01-01 00:31:31</td>\n",
       "      <td>2015-01-01 00:35:46</td>\n",
       "      <td>91</td>\n",
       "      <td>68</td>\n",
       "      <td>One Kendall Square at Hampshire St / Portland St</td>\n",
       "      <td>Central Square at Mass Ave / Essex St</td>\n",
       "      <td>555</td>\n",
       "      <td>Subscriber</td>\n",
       "      <td>255.0</td>\n",
       "      <td>42.366277</td>\n",
       "      <td>-71.091690</td>\n",
       "      <td>42.365070</td>\n",
       "      <td>-71.103100</td>\n",
       "      <td>2015-01-01 01:00:00</td>\n",
       "    </tr>\n",
       "    <tr>\n",
       "      <th>3</th>\n",
       "      <td>2015-01-01 00:53:46</td>\n",
       "      <td>2015-01-01 01:00:58</td>\n",
       "      <td>115</td>\n",
       "      <td>96</td>\n",
       "      <td>Porter Square Station</td>\n",
       "      <td>Cambridge Main Library at Broadway / Trowbridg...</td>\n",
       "      <td>1307</td>\n",
       "      <td>Subscriber</td>\n",
       "      <td>432.0</td>\n",
       "      <td>42.387995</td>\n",
       "      <td>-71.119084</td>\n",
       "      <td>42.373379</td>\n",
       "      <td>-71.111075</td>\n",
       "      <td>2015-01-01 01:00:00</td>\n",
       "    </tr>\n",
       "    <tr>\n",
       "      <th>4</th>\n",
       "      <td>2015-01-01 01:07:06</td>\n",
       "      <td>2015-01-01 01:19:21</td>\n",
       "      <td>105</td>\n",
       "      <td>88</td>\n",
       "      <td>Lower Cambridgeport at Magazine St/Riverside Rd</td>\n",
       "      <td>Inman Square at Vellucci Plaza / Hampshire St</td>\n",
       "      <td>177</td>\n",
       "      <td>Customer</td>\n",
       "      <td>735.0</td>\n",
       "      <td>42.356954</td>\n",
       "      <td>-71.113687</td>\n",
       "      <td>42.374035</td>\n",
       "      <td>-71.101427</td>\n",
       "      <td>2015-01-01 01:00:00</td>\n",
       "    </tr>\n",
       "  </tbody>\n",
       "</table>\n",
       "</div>"
      ],
      "text/plain": [
       "           start_time            end_time  start_station_id end_station_id  \\\n",
       "0 2015-01-01 00:21:44 2015-01-01 00:30:47               115             96   \n",
       "1 2015-01-01 00:27:03 2015-01-01 00:34:21                80             95   \n",
       "2 2015-01-01 00:31:31 2015-01-01 00:35:46                91             68   \n",
       "3 2015-01-01 00:53:46 2015-01-01 01:00:58               115             96   \n",
       "4 2015-01-01 01:07:06 2015-01-01 01:19:21               105             88   \n",
       "\n",
       "                                 start_station_name  \\\n",
       "0                             Porter Square Station   \n",
       "1           MIT Stata Center at Vassar St / Main St   \n",
       "2  One Kendall Square at Hampshire St / Portland St   \n",
       "3                             Porter Square Station   \n",
       "4   Lower Cambridgeport at Magazine St/Riverside Rd   \n",
       "\n",
       "                                    end_station_name  bike_id   user_type  \\\n",
       "0  Cambridge Main Library at Broadway / Trowbridg...      277  Subscriber   \n",
       "1        Cambridge St - at Columbia St / Webster Ave      648  Subscriber   \n",
       "2              Central Square at Mass Ave / Essex St      555  Subscriber   \n",
       "3  Cambridge Main Library at Broadway / Trowbridg...     1307  Subscriber   \n",
       "4      Inman Square at Vellucci Plaza / Hampshire St      177    Customer   \n",
       "\n",
       "   trip_length  start_station_latitude  start_station_longitude  \\\n",
       "0        543.0               42.387995               -71.119084   \n",
       "1        438.0               42.361962               -71.092053   \n",
       "2        255.0               42.366277               -71.091690   \n",
       "3        432.0               42.387995               -71.119084   \n",
       "4        735.0               42.356954               -71.113687   \n",
       "\n",
       "   end_station_latitude  end_station_longitude            date_time  \n",
       "0             42.373379             -71.111075  2015-01-01 00:00:00  \n",
       "1             42.372969             -71.094445  2015-01-01 00:00:00  \n",
       "2             42.365070             -71.103100  2015-01-01 01:00:00  \n",
       "3             42.373379             -71.111075  2015-01-01 01:00:00  \n",
       "4             42.374035             -71.101427  2015-01-01 01:00:00  "
      ]
     },
     "execution_count": 9,
     "metadata": {},
     "output_type": "execute_result"
    }
   ],
   "source": [
    "df_boston.head()"
   ]
  },
  {
   "cell_type": "code",
   "execution_count": 10,
   "metadata": {},
   "outputs": [
    {
     "data": {
      "text/html": [
       "<div>\n",
       "<style scoped>\n",
       "    .dataframe tbody tr th:only-of-type {\n",
       "        vertical-align: middle;\n",
       "    }\n",
       "\n",
       "    .dataframe tbody tr th {\n",
       "        vertical-align: top;\n",
       "    }\n",
       "\n",
       "    .dataframe thead th {\n",
       "        text-align: right;\n",
       "    }\n",
       "</style>\n",
       "<table border=\"1\" class=\"dataframe\">\n",
       "  <thead>\n",
       "    <tr style=\"text-align: right;\">\n",
       "      <th></th>\n",
       "      <th>start_station_id</th>\n",
       "      <th>end_station_id</th>\n",
       "      <th>start_station_latitude</th>\n",
       "      <th>start_station_longitude</th>\n",
       "      <th>end_station_latitude</th>\n",
       "      <th>end_station_longitude</th>\n",
       "      <th>count_trips</th>\n",
       "    </tr>\n",
       "  </thead>\n",
       "  <tbody>\n",
       "    <tr>\n",
       "      <th>0</th>\n",
       "      <td>118</td>\n",
       "      <td>100</td>\n",
       "      <td>42.397828</td>\n",
       "      <td>-71.130516</td>\n",
       "      <td>42.396969</td>\n",
       "      <td>-71.123024</td>\n",
       "      <td>3011</td>\n",
       "    </tr>\n",
       "    <tr>\n",
       "      <th>1</th>\n",
       "      <td>100</td>\n",
       "      <td>118</td>\n",
       "      <td>42.396969</td>\n",
       "      <td>-71.123024</td>\n",
       "      <td>42.397828</td>\n",
       "      <td>-71.130516</td>\n",
       "      <td>2740</td>\n",
       "    </tr>\n",
       "    <tr>\n",
       "      <th>2</th>\n",
       "      <td>114</td>\n",
       "      <td>100</td>\n",
       "      <td>42.402763</td>\n",
       "      <td>-71.126908</td>\n",
       "      <td>42.396969</td>\n",
       "      <td>-71.123024</td>\n",
       "      <td>2042</td>\n",
       "    </tr>\n",
       "    <tr>\n",
       "      <th>3</th>\n",
       "      <td>67</td>\n",
       "      <td>53</td>\n",
       "      <td>42.358100</td>\n",
       "      <td>-71.093198</td>\n",
       "      <td>42.350851</td>\n",
       "      <td>-71.089886</td>\n",
       "      <td>2022</td>\n",
       "    </tr>\n",
       "    <tr>\n",
       "      <th>4</th>\n",
       "      <td>40</td>\n",
       "      <td>22</td>\n",
       "      <td>42.363871</td>\n",
       "      <td>-71.050877</td>\n",
       "      <td>42.352175</td>\n",
       "      <td>-71.055547</td>\n",
       "      <td>1979</td>\n",
       "    </tr>\n",
       "    <tr>\n",
       "      <th>5</th>\n",
       "      <td>67</td>\n",
       "      <td>68</td>\n",
       "      <td>42.358100</td>\n",
       "      <td>-71.093198</td>\n",
       "      <td>42.365070</td>\n",
       "      <td>-71.103100</td>\n",
       "      <td>1836</td>\n",
       "    </tr>\n",
       "    <tr>\n",
       "      <th>6</th>\n",
       "      <td>53</td>\n",
       "      <td>67</td>\n",
       "      <td>42.350851</td>\n",
       "      <td>-71.089886</td>\n",
       "      <td>42.358100</td>\n",
       "      <td>-71.093198</td>\n",
       "      <td>1783</td>\n",
       "    </tr>\n",
       "    <tr>\n",
       "      <th>7</th>\n",
       "      <td>22</td>\n",
       "      <td>40</td>\n",
       "      <td>42.352175</td>\n",
       "      <td>-71.055547</td>\n",
       "      <td>42.363871</td>\n",
       "      <td>-71.050877</td>\n",
       "      <td>1740</td>\n",
       "    </tr>\n",
       "    <tr>\n",
       "      <th>8</th>\n",
       "      <td>68</td>\n",
       "      <td>67</td>\n",
       "      <td>42.365070</td>\n",
       "      <td>-71.103100</td>\n",
       "      <td>42.358100</td>\n",
       "      <td>-71.093198</td>\n",
       "      <td>1607</td>\n",
       "    </tr>\n",
       "    <tr>\n",
       "      <th>9</th>\n",
       "      <td>20</td>\n",
       "      <td>22</td>\n",
       "      <td>42.359770</td>\n",
       "      <td>-71.051601</td>\n",
       "      <td>42.352175</td>\n",
       "      <td>-71.055547</td>\n",
       "      <td>1521</td>\n",
       "    </tr>\n",
       "  </tbody>\n",
       "</table>\n",
       "</div>"
      ],
      "text/plain": [
       "   start_station_id end_station_id  start_station_latitude  \\\n",
       "0               118            100               42.397828   \n",
       "1               100            118               42.396969   \n",
       "2               114            100               42.402763   \n",
       "3                67             53               42.358100   \n",
       "4                40             22               42.363871   \n",
       "5                67             68               42.358100   \n",
       "6                53             67               42.350851   \n",
       "7                22             40               42.352175   \n",
       "8                68             67               42.365070   \n",
       "9                20             22               42.359770   \n",
       "\n",
       "   start_station_longitude  end_station_latitude  end_station_longitude  \\\n",
       "0               -71.130516             42.396969             -71.123024   \n",
       "1               -71.123024             42.397828             -71.130516   \n",
       "2               -71.126908             42.396969             -71.123024   \n",
       "3               -71.093198             42.350851             -71.089886   \n",
       "4               -71.050877             42.352175             -71.055547   \n",
       "5               -71.093198             42.365070             -71.103100   \n",
       "6               -71.089886             42.358100             -71.093198   \n",
       "7               -71.055547             42.363871             -71.050877   \n",
       "8               -71.103100             42.358100             -71.093198   \n",
       "9               -71.051601             42.352175             -71.055547   \n",
       "\n",
       "   count_trips  \n",
       "0         3011  \n",
       "1         2740  \n",
       "2         2042  \n",
       "3         2022  \n",
       "4         1979  \n",
       "5         1836  \n",
       "6         1783  \n",
       "7         1740  \n",
       "8         1607  \n",
       "9         1521  "
      ]
     },
     "execution_count": 10,
     "metadata": {},
     "output_type": "execute_result"
    }
   ],
   "source": [
    "#number of trips between a start and end station\n",
    "\n",
    "df_trips = df_boston.groupby(['start_station_id','end_station_id', 'start_station_latitude', 'start_station_longitude', 'end_station_latitude', 'end_station_longitude']).size().reset_index(name='count_trips')\n",
    "\n",
    "df_trips = df_trips.sort_values('count_trips', ascending = False)\n",
    "\n",
    "df_trips.index = range(0, len(df_trips))\n",
    "\n",
    "df_trips.head(10)"
   ]
  },
  {
   "cell_type": "code",
   "execution_count": 11,
   "metadata": {},
   "outputs": [
    {
     "data": {
      "text/html": [
       "<div>\n",
       "<style scoped>\n",
       "    .dataframe tbody tr th:only-of-type {\n",
       "        vertical-align: middle;\n",
       "    }\n",
       "\n",
       "    .dataframe tbody tr th {\n",
       "        vertical-align: top;\n",
       "    }\n",
       "\n",
       "    .dataframe thead th {\n",
       "        text-align: right;\n",
       "    }\n",
       "</style>\n",
       "<table border=\"1\" class=\"dataframe\">\n",
       "  <thead>\n",
       "    <tr style=\"text-align: right;\">\n",
       "      <th></th>\n",
       "      <th>Station_A</th>\n",
       "      <th>Station_B</th>\n",
       "      <th>start_station_latitude</th>\n",
       "      <th>start_station_longitude</th>\n",
       "      <th>end_station_latitude</th>\n",
       "      <th>end_station_longitude</th>\n",
       "      <th>count_trips</th>\n",
       "    </tr>\n",
       "  </thead>\n",
       "  <tbody>\n",
       "    <tr>\n",
       "      <th>0</th>\n",
       "      <td>118</td>\n",
       "      <td>100</td>\n",
       "      <td>42.397828</td>\n",
       "      <td>-71.130516</td>\n",
       "      <td>42.396969</td>\n",
       "      <td>-71.123024</td>\n",
       "      <td>5751</td>\n",
       "    </tr>\n",
       "    <tr>\n",
       "      <th>1</th>\n",
       "      <td>67</td>\n",
       "      <td>53</td>\n",
       "      <td>42.358100</td>\n",
       "      <td>-71.093198</td>\n",
       "      <td>42.350851</td>\n",
       "      <td>-71.089886</td>\n",
       "      <td>3805</td>\n",
       "    </tr>\n",
       "    <tr>\n",
       "      <th>2</th>\n",
       "      <td>40</td>\n",
       "      <td>22</td>\n",
       "      <td>42.363871</td>\n",
       "      <td>-71.050877</td>\n",
       "      <td>42.352175</td>\n",
       "      <td>-71.055547</td>\n",
       "      <td>3719</td>\n",
       "    </tr>\n",
       "    <tr>\n",
       "      <th>3</th>\n",
       "      <td>67</td>\n",
       "      <td>68</td>\n",
       "      <td>42.358100</td>\n",
       "      <td>-71.093198</td>\n",
       "      <td>42.365070</td>\n",
       "      <td>-71.103100</td>\n",
       "      <td>3443</td>\n",
       "    </tr>\n",
       "    <tr>\n",
       "      <th>4</th>\n",
       "      <td>114</td>\n",
       "      <td>100</td>\n",
       "      <td>42.402763</td>\n",
       "      <td>-71.126908</td>\n",
       "      <td>42.396969</td>\n",
       "      <td>-71.123024</td>\n",
       "      <td>3191</td>\n",
       "    </tr>\n",
       "    <tr>\n",
       "      <th>5</th>\n",
       "      <td>20</td>\n",
       "      <td>22</td>\n",
       "      <td>42.359770</td>\n",
       "      <td>-71.051601</td>\n",
       "      <td>42.352175</td>\n",
       "      <td>-71.055547</td>\n",
       "      <td>2980</td>\n",
       "    </tr>\n",
       "    <tr>\n",
       "      <th>6</th>\n",
       "      <td>67</td>\n",
       "      <td>75</td>\n",
       "      <td>42.358100</td>\n",
       "      <td>-71.093198</td>\n",
       "      <td>42.363465</td>\n",
       "      <td>-71.100573</td>\n",
       "      <td>2886</td>\n",
       "    </tr>\n",
       "    <tr>\n",
       "      <th>7</th>\n",
       "      <td>67</td>\n",
       "      <td>74</td>\n",
       "      <td>42.358100</td>\n",
       "      <td>-71.093198</td>\n",
       "      <td>42.373268</td>\n",
       "      <td>-71.118579</td>\n",
       "      <td>2692</td>\n",
       "    </tr>\n",
       "    <tr>\n",
       "      <th>8</th>\n",
       "      <td>67</td>\n",
       "      <td>107</td>\n",
       "      <td>42.358100</td>\n",
       "      <td>-71.093198</td>\n",
       "      <td>42.362500</td>\n",
       "      <td>-71.088220</td>\n",
       "      <td>2603</td>\n",
       "    </tr>\n",
       "    <tr>\n",
       "      <th>9</th>\n",
       "      <td>22</td>\n",
       "      <td>109</td>\n",
       "      <td>42.352175</td>\n",
       "      <td>-71.055547</td>\n",
       "      <td>42.365942</td>\n",
       "      <td>-71.060515</td>\n",
       "      <td>2380</td>\n",
       "    </tr>\n",
       "    <tr>\n",
       "      <th>10</th>\n",
       "      <td>80</td>\n",
       "      <td>68</td>\n",
       "      <td>42.361962</td>\n",
       "      <td>-71.092053</td>\n",
       "      <td>42.365070</td>\n",
       "      <td>-71.103100</td>\n",
       "      <td>2319</td>\n",
       "    </tr>\n",
       "    <tr>\n",
       "      <th>11</th>\n",
       "      <td>75</td>\n",
       "      <td>107</td>\n",
       "      <td>42.363465</td>\n",
       "      <td>-71.100573</td>\n",
       "      <td>42.362500</td>\n",
       "      <td>-71.088220</td>\n",
       "      <td>2292</td>\n",
       "    </tr>\n",
       "    <tr>\n",
       "      <th>12</th>\n",
       "      <td>22</td>\n",
       "      <td>47</td>\n",
       "      <td>42.352175</td>\n",
       "      <td>-71.055547</td>\n",
       "      <td>42.362811</td>\n",
       "      <td>-71.056067</td>\n",
       "      <td>2263</td>\n",
       "    </tr>\n",
       "    <tr>\n",
       "      <th>13</th>\n",
       "      <td>75</td>\n",
       "      <td>80</td>\n",
       "      <td>42.363465</td>\n",
       "      <td>-71.100573</td>\n",
       "      <td>42.361962</td>\n",
       "      <td>-71.092053</td>\n",
       "      <td>2244</td>\n",
       "    </tr>\n",
       "    <tr>\n",
       "      <th>14</th>\n",
       "      <td>74</td>\n",
       "      <td>104</td>\n",
       "      <td>42.373268</td>\n",
       "      <td>-71.118579</td>\n",
       "      <td>42.380287</td>\n",
       "      <td>-71.125107</td>\n",
       "      <td>2181</td>\n",
       "    </tr>\n",
       "    <tr>\n",
       "      <th>15</th>\n",
       "      <td>67</td>\n",
       "      <td>80</td>\n",
       "      <td>42.358100</td>\n",
       "      <td>-71.093198</td>\n",
       "      <td>42.361962</td>\n",
       "      <td>-71.092053</td>\n",
       "      <td>2110</td>\n",
       "    </tr>\n",
       "  </tbody>\n",
       "</table>\n",
       "</div>"
      ],
      "text/plain": [
       "    Station_A Station_B  start_station_latitude  start_station_longitude  \\\n",
       "0         118       100               42.397828               -71.130516   \n",
       "1          67        53               42.358100               -71.093198   \n",
       "2          40        22               42.363871               -71.050877   \n",
       "3          67        68               42.358100               -71.093198   \n",
       "4         114       100               42.402763               -71.126908   \n",
       "5          20        22               42.359770               -71.051601   \n",
       "6          67        75               42.358100               -71.093198   \n",
       "7          67        74               42.358100               -71.093198   \n",
       "8          67       107               42.358100               -71.093198   \n",
       "9          22       109               42.352175               -71.055547   \n",
       "10         80        68               42.361962               -71.092053   \n",
       "11         75       107               42.363465               -71.100573   \n",
       "12         22        47               42.352175               -71.055547   \n",
       "13         75        80               42.363465               -71.100573   \n",
       "14         74       104               42.373268               -71.118579   \n",
       "15         67        80               42.358100               -71.093198   \n",
       "\n",
       "    end_station_latitude  end_station_longitude  count_trips  \n",
       "0              42.396969             -71.123024         5751  \n",
       "1              42.350851             -71.089886         3805  \n",
       "2              42.352175             -71.055547         3719  \n",
       "3              42.365070             -71.103100         3443  \n",
       "4              42.396969             -71.123024         3191  \n",
       "5              42.352175             -71.055547         2980  \n",
       "6              42.363465             -71.100573         2886  \n",
       "7              42.373268             -71.118579         2692  \n",
       "8              42.362500             -71.088220         2603  \n",
       "9              42.365942             -71.060515         2380  \n",
       "10             42.365070             -71.103100         2319  \n",
       "11             42.362500             -71.088220         2292  \n",
       "12             42.362811             -71.056067         2263  \n",
       "13             42.361962             -71.092053         2244  \n",
       "14             42.380287             -71.125107         2181  \n",
       "15             42.361962             -71.092053         2110  "
      ]
     },
     "execution_count": 11,
     "metadata": {},
     "output_type": "execute_result"
    }
   ],
   "source": [
    "df_top_trips = df_trips.head(47).copy() #most common trips ignoring direction of trip, filter is 47 as we only use values above 1000 \n",
    "\n",
    "for j in range(0, len(df_top_trips)):\n",
    "    if j < len(df_top_trips):\n",
    "        for i in range (0, len(df_top_trips)):\n",
    "            if i < len(df_top_trips):\n",
    "                if df_top_trips.at[j,'start_station_id'] == int(df_top_trips.at[i, 'end_station_id']) and df_top_trips.at[i,'start_station_id'] == int(df_top_trips.at[j, 'end_station_id']):\n",
    "                    df_top_trips.at[j, 'count_trips'] = df_top_trips.at[i, 'count_trips'] + df_top_trips.at[j, 'count_trips']\n",
    "                    df_top_trips = df_top_trips.drop(i)\n",
    "                    df_top_trips.index = range(0, len(df_top_trips))\n",
    "\n",
    "\n",
    "df_top_trips = df_top_trips.sort_values('count_trips', ascending = False)\n",
    "df_top_trips.index = range(0, len(df_top_trips))\n",
    "df_top_trips = df_top_trips.rename(columns = {'start_station_id' : 'Station_A', 'end_station_id' : 'Station_B'})\n",
    "df_top_trips = df_top_trips.head(16) #big gap between 16 and 17 from over 2100 to 1300\n",
    "df_top_trips\n"
   ]
  },
  {
   "cell_type": "code",
   "execution_count": 12,
   "metadata": {},
   "outputs": [
    {
     "data": {
      "text/html": [
       "<div style=\"width:100%;\"><div style=\"position:relative;width:100%;height:0;padding-bottom:60%;\"><span style=\"color:#565656\">Make this Notebook Trusted to load map: File -> Trust Notebook</span><iframe srcdoc=\"&lt;!DOCTYPE html&gt;\n",
       "&lt;html&gt;\n",
       "&lt;head&gt;\n",
       "    \n",
       "    &lt;meta http-equiv=&quot;content-type&quot; content=&quot;text/html; charset=UTF-8&quot; /&gt;\n",
       "    \n",
       "        &lt;script&gt;\n",
       "            L_NO_TOUCH = false;\n",
       "            L_DISABLE_3D = false;\n",
       "        &lt;/script&gt;\n",
       "    \n",
       "    &lt;style&gt;html, body {width: 100%;height: 100%;margin: 0;padding: 0;}&lt;/style&gt;\n",
       "    &lt;style&gt;#map {position:absolute;top:0;bottom:0;right:0;left:0;}&lt;/style&gt;\n",
       "    &lt;script src=&quot;https://cdn.jsdelivr.net/npm/leaflet@1.9.3/dist/leaflet.js&quot;&gt;&lt;/script&gt;\n",
       "    &lt;script src=&quot;https://code.jquery.com/jquery-1.12.4.min.js&quot;&gt;&lt;/script&gt;\n",
       "    &lt;script src=&quot;https://cdn.jsdelivr.net/npm/bootstrap@5.2.2/dist/js/bootstrap.bundle.min.js&quot;&gt;&lt;/script&gt;\n",
       "    &lt;script src=&quot;https://cdnjs.cloudflare.com/ajax/libs/Leaflet.awesome-markers/2.0.2/leaflet.awesome-markers.js&quot;&gt;&lt;/script&gt;\n",
       "    &lt;link rel=&quot;stylesheet&quot; href=&quot;https://cdn.jsdelivr.net/npm/leaflet@1.9.3/dist/leaflet.css&quot;/&gt;\n",
       "    &lt;link rel=&quot;stylesheet&quot; href=&quot;https://cdn.jsdelivr.net/npm/bootstrap@5.2.2/dist/css/bootstrap.min.css&quot;/&gt;\n",
       "    &lt;link rel=&quot;stylesheet&quot; href=&quot;https://netdna.bootstrapcdn.com/bootstrap/3.0.0/css/bootstrap.min.css&quot;/&gt;\n",
       "    &lt;link rel=&quot;stylesheet&quot; href=&quot;https://cdn.jsdelivr.net/npm/@fortawesome/fontawesome-free@6.2.0/css/all.min.css&quot;/&gt;\n",
       "    &lt;link rel=&quot;stylesheet&quot; href=&quot;https://cdnjs.cloudflare.com/ajax/libs/Leaflet.awesome-markers/2.0.2/leaflet.awesome-markers.css&quot;/&gt;\n",
       "    &lt;link rel=&quot;stylesheet&quot; href=&quot;https://cdn.jsdelivr.net/gh/python-visualization/folium/folium/templates/leaflet.awesome.rotate.min.css&quot;/&gt;\n",
       "    \n",
       "            &lt;meta name=&quot;viewport&quot; content=&quot;width=device-width,\n",
       "                initial-scale=1.0, maximum-scale=1.0, user-scalable=no&quot; /&gt;\n",
       "            &lt;style&gt;\n",
       "                #map_b6c5e454b1d58fe21ba6261bf8fd1fb7 {\n",
       "                    position: relative;\n",
       "                    width: 100.0%;\n",
       "                    height: 100.0%;\n",
       "                    left: 0.0%;\n",
       "                    top: 0.0%;\n",
       "                }\n",
       "                .leaflet-container { font-size: 1rem; }\n",
       "            &lt;/style&gt;\n",
       "        \n",
       "&lt;/head&gt;\n",
       "&lt;body&gt;\n",
       "    \n",
       "    \n",
       "            &lt;div class=&quot;folium-map&quot; id=&quot;map_b6c5e454b1d58fe21ba6261bf8fd1fb7&quot; &gt;&lt;/div&gt;\n",
       "        \n",
       "&lt;/body&gt;\n",
       "&lt;script&gt;\n",
       "    \n",
       "    \n",
       "            var map_b6c5e454b1d58fe21ba6261bf8fd1fb7 = L.map(\n",
       "                &quot;map_b6c5e454b1d58fe21ba6261bf8fd1fb7&quot;,\n",
       "                {\n",
       "                    center: [42.3559267048381, -71.0887901113159],\n",
       "                    crs: L.CRS.EPSG3857,\n",
       "                    zoom: 15,\n",
       "                    zoomControl: true,\n",
       "                    preferCanvas: false,\n",
       "                }\n",
       "            );\n",
       "\n",
       "            \n",
       "\n",
       "        \n",
       "    \n",
       "            var tile_layer_243e49106219f4dd3873172c3d723473 = L.tileLayer(\n",
       "                &quot;https://{s}.tile.openstreetmap.org/{z}/{x}/{y}.png&quot;,\n",
       "                {&quot;attribution&quot;: &quot;Data by \\u0026copy; \\u003ca target=\\&quot;_blank\\&quot; href=\\&quot;http://openstreetmap.org\\&quot;\\u003eOpenStreetMap\\u003c/a\\u003e, under \\u003ca target=\\&quot;_blank\\&quot; href=\\&quot;http://www.openstreetmap.org/copyright\\&quot;\\u003eODbL\\u003c/a\\u003e.&quot;, &quot;detectRetina&quot;: false, &quot;maxNativeZoom&quot;: 18, &quot;maxZoom&quot;: 18, &quot;minZoom&quot;: 0, &quot;noWrap&quot;: false, &quot;opacity&quot;: 1, &quot;subdomains&quot;: &quot;abc&quot;, &quot;tms&quot;: false}\n",
       "            ).addTo(map_b6c5e454b1d58fe21ba6261bf8fd1fb7);\n",
       "        \n",
       "    \n",
       "            var poly_line_c68bfd79b1ff81a9e5e9adcdba5f4637 = L.polyline(\n",
       "                [[42.397828, -71.130516], [42.396969, -71.123024]],\n",
       "                {&quot;bubblingMouseEvents&quot;: true, &quot;color&quot;: &quot;red&quot;, &quot;dashArray&quot;: null, &quot;dashOffset&quot;: null, &quot;fill&quot;: false, &quot;fillColor&quot;: &quot;red&quot;, &quot;fillOpacity&quot;: 0.2, &quot;fillRule&quot;: &quot;evenodd&quot;, &quot;lineCap&quot;: &quot;round&quot;, &quot;lineJoin&quot;: &quot;round&quot;, &quot;noClip&quot;: false, &quot;opacity&quot;: 1, &quot;smoothFactor&quot;: 1.0, &quot;stroke&quot;: true, &quot;weight&quot;: 2.5}\n",
       "            ).addTo(map_b6c5e454b1d58fe21ba6261bf8fd1fb7);\n",
       "        \n",
       "    \n",
       "            var marker_4f67ddb1d7d7acfe0a94025d76295807 = L.marker(\n",
       "                [42.397828, -71.130516],\n",
       "                {}\n",
       "            ).addTo(map_b6c5e454b1d58fe21ba6261bf8fd1fb7);\n",
       "        \n",
       "    \n",
       "            var icon_88106932bfe26cddf71f311d41dff872 = L.AwesomeMarkers.icon(\n",
       "                {&quot;extraClasses&quot;: &quot;fa-rotate-0&quot;, &quot;icon&quot;: &quot;bicycle&quot;, &quot;iconColor&quot;: &quot;white&quot;, &quot;markerColor&quot;: &quot;blue&quot;, &quot;prefix&quot;: &quot;fa&quot;}\n",
       "            );\n",
       "            marker_4f67ddb1d7d7acfe0a94025d76295807.setIcon(icon_88106932bfe26cddf71f311d41dff872);\n",
       "        \n",
       "    \n",
       "        var popup_4ba03ce4eff82bcf1415d31d18618da1 = L.popup({&quot;maxWidth&quot;: &quot;100%&quot;});\n",
       "\n",
       "        \n",
       "            \n",
       "                var html_7372274dc1049e82f4169c7efef635d1 = $(`&lt;div id=&quot;html_7372274dc1049e82f4169c7efef635d1&quot; style=&quot;width: 100.0%; height: 100.0%;&quot;&gt;(118, 5751)&lt;/div&gt;`)[0];\n",
       "                popup_4ba03ce4eff82bcf1415d31d18618da1.setContent(html_7372274dc1049e82f4169c7efef635d1);\n",
       "            \n",
       "        \n",
       "\n",
       "        marker_4f67ddb1d7d7acfe0a94025d76295807.bindPopup(popup_4ba03ce4eff82bcf1415d31d18618da1)\n",
       "        ;\n",
       "\n",
       "        \n",
       "    \n",
       "    \n",
       "            var marker_61bbd7efbd31c2f2be4ab759c33457fd = L.marker(\n",
       "                [42.396969, -71.123024],\n",
       "                {}\n",
       "            ).addTo(map_b6c5e454b1d58fe21ba6261bf8fd1fb7);\n",
       "        \n",
       "    \n",
       "            var icon_996fe2602df566b81f3e33f882d2c6d1 = L.AwesomeMarkers.icon(\n",
       "                {&quot;extraClasses&quot;: &quot;fa-rotate-0&quot;, &quot;icon&quot;: &quot;bicycle&quot;, &quot;iconColor&quot;: &quot;white&quot;, &quot;markerColor&quot;: &quot;blue&quot;, &quot;prefix&quot;: &quot;fa&quot;}\n",
       "            );\n",
       "            marker_61bbd7efbd31c2f2be4ab759c33457fd.setIcon(icon_996fe2602df566b81f3e33f882d2c6d1);\n",
       "        \n",
       "    \n",
       "        var popup_577edf2138a26fc6f223175b96821c03 = L.popup({&quot;maxWidth&quot;: &quot;100%&quot;});\n",
       "\n",
       "        \n",
       "            \n",
       "                var html_aa10db7f85edf702b4942ce3ab7b0e0f = $(`&lt;div id=&quot;html_aa10db7f85edf702b4942ce3ab7b0e0f&quot; style=&quot;width: 100.0%; height: 100.0%;&quot;&gt;(&#x27;100&#x27;, 5751)&lt;/div&gt;`)[0];\n",
       "                popup_577edf2138a26fc6f223175b96821c03.setContent(html_aa10db7f85edf702b4942ce3ab7b0e0f);\n",
       "            \n",
       "        \n",
       "\n",
       "        marker_61bbd7efbd31c2f2be4ab759c33457fd.bindPopup(popup_577edf2138a26fc6f223175b96821c03)\n",
       "        ;\n",
       "\n",
       "        \n",
       "    \n",
       "    \n",
       "            var poly_line_1dc90c83beecfb73b9c2565aac383779 = L.polyline(\n",
       "                [[42.3581, -71.093198], [42.350851, -71.089886]],\n",
       "                {&quot;bubblingMouseEvents&quot;: true, &quot;color&quot;: &quot;red&quot;, &quot;dashArray&quot;: null, &quot;dashOffset&quot;: null, &quot;fill&quot;: false, &quot;fillColor&quot;: &quot;red&quot;, &quot;fillOpacity&quot;: 0.2, &quot;fillRule&quot;: &quot;evenodd&quot;, &quot;lineCap&quot;: &quot;round&quot;, &quot;lineJoin&quot;: &quot;round&quot;, &quot;noClip&quot;: false, &quot;opacity&quot;: 1, &quot;smoothFactor&quot;: 1.0, &quot;stroke&quot;: true, &quot;weight&quot;: 2.5}\n",
       "            ).addTo(map_b6c5e454b1d58fe21ba6261bf8fd1fb7);\n",
       "        \n",
       "    \n",
       "            var marker_a73b506883cff768c862f759c347411c = L.marker(\n",
       "                [42.3581, -71.093198],\n",
       "                {}\n",
       "            ).addTo(map_b6c5e454b1d58fe21ba6261bf8fd1fb7);\n",
       "        \n",
       "    \n",
       "            var icon_6d88112b85c4e2a0bcc3add24ba630d0 = L.AwesomeMarkers.icon(\n",
       "                {&quot;extraClasses&quot;: &quot;fa-rotate-0&quot;, &quot;icon&quot;: &quot;bicycle&quot;, &quot;iconColor&quot;: &quot;white&quot;, &quot;markerColor&quot;: &quot;blue&quot;, &quot;prefix&quot;: &quot;fa&quot;}\n",
       "            );\n",
       "            marker_a73b506883cff768c862f759c347411c.setIcon(icon_6d88112b85c4e2a0bcc3add24ba630d0);\n",
       "        \n",
       "    \n",
       "        var popup_451c86d8a7659b5ccdaed4b460692931 = L.popup({&quot;maxWidth&quot;: &quot;100%&quot;});\n",
       "\n",
       "        \n",
       "            \n",
       "                var html_a9ab009c5f42b0b87bbe7a376741ccc4 = $(`&lt;div id=&quot;html_a9ab009c5f42b0b87bbe7a376741ccc4&quot; style=&quot;width: 100.0%; height: 100.0%;&quot;&gt;(67, 3805)&lt;/div&gt;`)[0];\n",
       "                popup_451c86d8a7659b5ccdaed4b460692931.setContent(html_a9ab009c5f42b0b87bbe7a376741ccc4);\n",
       "            \n",
       "        \n",
       "\n",
       "        marker_a73b506883cff768c862f759c347411c.bindPopup(popup_451c86d8a7659b5ccdaed4b460692931)\n",
       "        ;\n",
       "\n",
       "        \n",
       "    \n",
       "    \n",
       "            var marker_8681391ce762cf35bbb8a59f4ab1ba31 = L.marker(\n",
       "                [42.350851, -71.089886],\n",
       "                {}\n",
       "            ).addTo(map_b6c5e454b1d58fe21ba6261bf8fd1fb7);\n",
       "        \n",
       "    \n",
       "            var icon_adb709d320116c63e6ec7d8d18325fd8 = L.AwesomeMarkers.icon(\n",
       "                {&quot;extraClasses&quot;: &quot;fa-rotate-0&quot;, &quot;icon&quot;: &quot;bicycle&quot;, &quot;iconColor&quot;: &quot;white&quot;, &quot;markerColor&quot;: &quot;blue&quot;, &quot;prefix&quot;: &quot;fa&quot;}\n",
       "            );\n",
       "            marker_8681391ce762cf35bbb8a59f4ab1ba31.setIcon(icon_adb709d320116c63e6ec7d8d18325fd8);\n",
       "        \n",
       "    \n",
       "        var popup_c9ea4262129f4ef716fa6a754ffbfd8c = L.popup({&quot;maxWidth&quot;: &quot;100%&quot;});\n",
       "\n",
       "        \n",
       "            \n",
       "                var html_807b75f9105f0626137889cf0e45b8a7 = $(`&lt;div id=&quot;html_807b75f9105f0626137889cf0e45b8a7&quot; style=&quot;width: 100.0%; height: 100.0%;&quot;&gt;(&#x27;53&#x27;, 3805)&lt;/div&gt;`)[0];\n",
       "                popup_c9ea4262129f4ef716fa6a754ffbfd8c.setContent(html_807b75f9105f0626137889cf0e45b8a7);\n",
       "            \n",
       "        \n",
       "\n",
       "        marker_8681391ce762cf35bbb8a59f4ab1ba31.bindPopup(popup_c9ea4262129f4ef716fa6a754ffbfd8c)\n",
       "        ;\n",
       "\n",
       "        \n",
       "    \n",
       "    \n",
       "            var poly_line_f8d55a633045514ecaca7249bc0483c4 = L.polyline(\n",
       "                [[42.363871, -71.050877], [42.352175, -71.055547]],\n",
       "                {&quot;bubblingMouseEvents&quot;: true, &quot;color&quot;: &quot;red&quot;, &quot;dashArray&quot;: null, &quot;dashOffset&quot;: null, &quot;fill&quot;: false, &quot;fillColor&quot;: &quot;red&quot;, &quot;fillOpacity&quot;: 0.2, &quot;fillRule&quot;: &quot;evenodd&quot;, &quot;lineCap&quot;: &quot;round&quot;, &quot;lineJoin&quot;: &quot;round&quot;, &quot;noClip&quot;: false, &quot;opacity&quot;: 1, &quot;smoothFactor&quot;: 1.0, &quot;stroke&quot;: true, &quot;weight&quot;: 2.5}\n",
       "            ).addTo(map_b6c5e454b1d58fe21ba6261bf8fd1fb7);\n",
       "        \n",
       "    \n",
       "            var marker_46eb78419e267fee1f83222bcb000edb = L.marker(\n",
       "                [42.363871, -71.050877],\n",
       "                {}\n",
       "            ).addTo(map_b6c5e454b1d58fe21ba6261bf8fd1fb7);\n",
       "        \n",
       "    \n",
       "            var icon_9bcf07af1666e4adec9eee5dd8e9a975 = L.AwesomeMarkers.icon(\n",
       "                {&quot;extraClasses&quot;: &quot;fa-rotate-0&quot;, &quot;icon&quot;: &quot;bicycle&quot;, &quot;iconColor&quot;: &quot;white&quot;, &quot;markerColor&quot;: &quot;blue&quot;, &quot;prefix&quot;: &quot;fa&quot;}\n",
       "            );\n",
       "            marker_46eb78419e267fee1f83222bcb000edb.setIcon(icon_9bcf07af1666e4adec9eee5dd8e9a975);\n",
       "        \n",
       "    \n",
       "        var popup_f4c22c51b5b0cddb31a7636bf6c7767e = L.popup({&quot;maxWidth&quot;: &quot;100%&quot;});\n",
       "\n",
       "        \n",
       "            \n",
       "                var html_1290b93a73a28e42196e851e7ffc036a = $(`&lt;div id=&quot;html_1290b93a73a28e42196e851e7ffc036a&quot; style=&quot;width: 100.0%; height: 100.0%;&quot;&gt;(40, 3719)&lt;/div&gt;`)[0];\n",
       "                popup_f4c22c51b5b0cddb31a7636bf6c7767e.setContent(html_1290b93a73a28e42196e851e7ffc036a);\n",
       "            \n",
       "        \n",
       "\n",
       "        marker_46eb78419e267fee1f83222bcb000edb.bindPopup(popup_f4c22c51b5b0cddb31a7636bf6c7767e)\n",
       "        ;\n",
       "\n",
       "        \n",
       "    \n",
       "    \n",
       "            var marker_9c50d4256496a1794d6c60c891566d83 = L.marker(\n",
       "                [42.352175, -71.055547],\n",
       "                {}\n",
       "            ).addTo(map_b6c5e454b1d58fe21ba6261bf8fd1fb7);\n",
       "        \n",
       "    \n",
       "            var icon_8b79d891c578732f12b13aa4586706af = L.AwesomeMarkers.icon(\n",
       "                {&quot;extraClasses&quot;: &quot;fa-rotate-0&quot;, &quot;icon&quot;: &quot;bicycle&quot;, &quot;iconColor&quot;: &quot;white&quot;, &quot;markerColor&quot;: &quot;blue&quot;, &quot;prefix&quot;: &quot;fa&quot;}\n",
       "            );\n",
       "            marker_9c50d4256496a1794d6c60c891566d83.setIcon(icon_8b79d891c578732f12b13aa4586706af);\n",
       "        \n",
       "    \n",
       "        var popup_d98541865de3a5dc03b8779b5fe8c816 = L.popup({&quot;maxWidth&quot;: &quot;100%&quot;});\n",
       "\n",
       "        \n",
       "            \n",
       "                var html_b37ab062ea2e4b6b7aac2d6c7e1a149d = $(`&lt;div id=&quot;html_b37ab062ea2e4b6b7aac2d6c7e1a149d&quot; style=&quot;width: 100.0%; height: 100.0%;&quot;&gt;(&#x27;22&#x27;, 3719)&lt;/div&gt;`)[0];\n",
       "                popup_d98541865de3a5dc03b8779b5fe8c816.setContent(html_b37ab062ea2e4b6b7aac2d6c7e1a149d);\n",
       "            \n",
       "        \n",
       "\n",
       "        marker_9c50d4256496a1794d6c60c891566d83.bindPopup(popup_d98541865de3a5dc03b8779b5fe8c816)\n",
       "        ;\n",
       "\n",
       "        \n",
       "    \n",
       "    \n",
       "            var poly_line_b86627c179824a07e14915ad1f016efb = L.polyline(\n",
       "                [[42.3581, -71.093198], [42.36507, -71.1031]],\n",
       "                {&quot;bubblingMouseEvents&quot;: true, &quot;color&quot;: &quot;red&quot;, &quot;dashArray&quot;: null, &quot;dashOffset&quot;: null, &quot;fill&quot;: false, &quot;fillColor&quot;: &quot;red&quot;, &quot;fillOpacity&quot;: 0.2, &quot;fillRule&quot;: &quot;evenodd&quot;, &quot;lineCap&quot;: &quot;round&quot;, &quot;lineJoin&quot;: &quot;round&quot;, &quot;noClip&quot;: false, &quot;opacity&quot;: 1, &quot;smoothFactor&quot;: 1.0, &quot;stroke&quot;: true, &quot;weight&quot;: 2.5}\n",
       "            ).addTo(map_b6c5e454b1d58fe21ba6261bf8fd1fb7);\n",
       "        \n",
       "    \n",
       "            var marker_2cc70c653900318e46157dce1e6bebac = L.marker(\n",
       "                [42.3581, -71.093198],\n",
       "                {}\n",
       "            ).addTo(map_b6c5e454b1d58fe21ba6261bf8fd1fb7);\n",
       "        \n",
       "    \n",
       "            var icon_750fa9b4906ac843bb205fd3eca72d79 = L.AwesomeMarkers.icon(\n",
       "                {&quot;extraClasses&quot;: &quot;fa-rotate-0&quot;, &quot;icon&quot;: &quot;bicycle&quot;, &quot;iconColor&quot;: &quot;white&quot;, &quot;markerColor&quot;: &quot;blue&quot;, &quot;prefix&quot;: &quot;fa&quot;}\n",
       "            );\n",
       "            marker_2cc70c653900318e46157dce1e6bebac.setIcon(icon_750fa9b4906ac843bb205fd3eca72d79);\n",
       "        \n",
       "    \n",
       "        var popup_ca968209608e56ff66290854fc51604f = L.popup({&quot;maxWidth&quot;: &quot;100%&quot;});\n",
       "\n",
       "        \n",
       "            \n",
       "                var html_3b24a2b0fe7df20ea579788f7a69fcd5 = $(`&lt;div id=&quot;html_3b24a2b0fe7df20ea579788f7a69fcd5&quot; style=&quot;width: 100.0%; height: 100.0%;&quot;&gt;(67, 3443)&lt;/div&gt;`)[0];\n",
       "                popup_ca968209608e56ff66290854fc51604f.setContent(html_3b24a2b0fe7df20ea579788f7a69fcd5);\n",
       "            \n",
       "        \n",
       "\n",
       "        marker_2cc70c653900318e46157dce1e6bebac.bindPopup(popup_ca968209608e56ff66290854fc51604f)\n",
       "        ;\n",
       "\n",
       "        \n",
       "    \n",
       "    \n",
       "            var marker_260d6a44451fdceb0f2595edd693cb43 = L.marker(\n",
       "                [42.36507, -71.1031],\n",
       "                {}\n",
       "            ).addTo(map_b6c5e454b1d58fe21ba6261bf8fd1fb7);\n",
       "        \n",
       "    \n",
       "            var icon_f752e9c44cf838f8be4c806b9cbbdd43 = L.AwesomeMarkers.icon(\n",
       "                {&quot;extraClasses&quot;: &quot;fa-rotate-0&quot;, &quot;icon&quot;: &quot;bicycle&quot;, &quot;iconColor&quot;: &quot;white&quot;, &quot;markerColor&quot;: &quot;blue&quot;, &quot;prefix&quot;: &quot;fa&quot;}\n",
       "            );\n",
       "            marker_260d6a44451fdceb0f2595edd693cb43.setIcon(icon_f752e9c44cf838f8be4c806b9cbbdd43);\n",
       "        \n",
       "    \n",
       "        var popup_4a0446e58eb9c96161b5a65c37b7cfaf = L.popup({&quot;maxWidth&quot;: &quot;100%&quot;});\n",
       "\n",
       "        \n",
       "            \n",
       "                var html_87b142edfde5bb603e1c5b9e82950570 = $(`&lt;div id=&quot;html_87b142edfde5bb603e1c5b9e82950570&quot; style=&quot;width: 100.0%; height: 100.0%;&quot;&gt;(&#x27;68&#x27;, 3443)&lt;/div&gt;`)[0];\n",
       "                popup_4a0446e58eb9c96161b5a65c37b7cfaf.setContent(html_87b142edfde5bb603e1c5b9e82950570);\n",
       "            \n",
       "        \n",
       "\n",
       "        marker_260d6a44451fdceb0f2595edd693cb43.bindPopup(popup_4a0446e58eb9c96161b5a65c37b7cfaf)\n",
       "        ;\n",
       "\n",
       "        \n",
       "    \n",
       "    \n",
       "            var poly_line_947776dac25be26abf9f50a33d38cc4d = L.polyline(\n",
       "                [[42.402763, -71.126908], [42.396969, -71.123024]],\n",
       "                {&quot;bubblingMouseEvents&quot;: true, &quot;color&quot;: &quot;red&quot;, &quot;dashArray&quot;: null, &quot;dashOffset&quot;: null, &quot;fill&quot;: false, &quot;fillColor&quot;: &quot;red&quot;, &quot;fillOpacity&quot;: 0.2, &quot;fillRule&quot;: &quot;evenodd&quot;, &quot;lineCap&quot;: &quot;round&quot;, &quot;lineJoin&quot;: &quot;round&quot;, &quot;noClip&quot;: false, &quot;opacity&quot;: 1, &quot;smoothFactor&quot;: 1.0, &quot;stroke&quot;: true, &quot;weight&quot;: 2.5}\n",
       "            ).addTo(map_b6c5e454b1d58fe21ba6261bf8fd1fb7);\n",
       "        \n",
       "    \n",
       "            var marker_b4754773c855f1b1b98442924ed70a79 = L.marker(\n",
       "                [42.402763, -71.126908],\n",
       "                {}\n",
       "            ).addTo(map_b6c5e454b1d58fe21ba6261bf8fd1fb7);\n",
       "        \n",
       "    \n",
       "            var icon_806953e2882499e67ed698cddb344519 = L.AwesomeMarkers.icon(\n",
       "                {&quot;extraClasses&quot;: &quot;fa-rotate-0&quot;, &quot;icon&quot;: &quot;bicycle&quot;, &quot;iconColor&quot;: &quot;white&quot;, &quot;markerColor&quot;: &quot;blue&quot;, &quot;prefix&quot;: &quot;fa&quot;}\n",
       "            );\n",
       "            marker_b4754773c855f1b1b98442924ed70a79.setIcon(icon_806953e2882499e67ed698cddb344519);\n",
       "        \n",
       "    \n",
       "        var popup_e61e7d3aa8b7903e4f3d15928ab76004 = L.popup({&quot;maxWidth&quot;: &quot;100%&quot;});\n",
       "\n",
       "        \n",
       "            \n",
       "                var html_28c36901f20d30d650f99a49b6d41c9a = $(`&lt;div id=&quot;html_28c36901f20d30d650f99a49b6d41c9a&quot; style=&quot;width: 100.0%; height: 100.0%;&quot;&gt;(114, 3191)&lt;/div&gt;`)[0];\n",
       "                popup_e61e7d3aa8b7903e4f3d15928ab76004.setContent(html_28c36901f20d30d650f99a49b6d41c9a);\n",
       "            \n",
       "        \n",
       "\n",
       "        marker_b4754773c855f1b1b98442924ed70a79.bindPopup(popup_e61e7d3aa8b7903e4f3d15928ab76004)\n",
       "        ;\n",
       "\n",
       "        \n",
       "    \n",
       "    \n",
       "            var marker_0618768160bc7ca8eb2dc9d179b798aa = L.marker(\n",
       "                [42.396969, -71.123024],\n",
       "                {}\n",
       "            ).addTo(map_b6c5e454b1d58fe21ba6261bf8fd1fb7);\n",
       "        \n",
       "    \n",
       "            var icon_013da73a05515940ec50d0a6a6d0cbc6 = L.AwesomeMarkers.icon(\n",
       "                {&quot;extraClasses&quot;: &quot;fa-rotate-0&quot;, &quot;icon&quot;: &quot;bicycle&quot;, &quot;iconColor&quot;: &quot;white&quot;, &quot;markerColor&quot;: &quot;blue&quot;, &quot;prefix&quot;: &quot;fa&quot;}\n",
       "            );\n",
       "            marker_0618768160bc7ca8eb2dc9d179b798aa.setIcon(icon_013da73a05515940ec50d0a6a6d0cbc6);\n",
       "        \n",
       "    \n",
       "        var popup_bf12ebd107ef32ce97d03e553086f148 = L.popup({&quot;maxWidth&quot;: &quot;100%&quot;});\n",
       "\n",
       "        \n",
       "            \n",
       "                var html_77a0109f4c9fa2e22623e28438496d15 = $(`&lt;div id=&quot;html_77a0109f4c9fa2e22623e28438496d15&quot; style=&quot;width: 100.0%; height: 100.0%;&quot;&gt;(&#x27;100&#x27;, 3191)&lt;/div&gt;`)[0];\n",
       "                popup_bf12ebd107ef32ce97d03e553086f148.setContent(html_77a0109f4c9fa2e22623e28438496d15);\n",
       "            \n",
       "        \n",
       "\n",
       "        marker_0618768160bc7ca8eb2dc9d179b798aa.bindPopup(popup_bf12ebd107ef32ce97d03e553086f148)\n",
       "        ;\n",
       "\n",
       "        \n",
       "    \n",
       "    \n",
       "            var poly_line_c14c83fa5de233b433df0210cfa3e853 = L.polyline(\n",
       "                [[42.35977, -71.051601], [42.352175, -71.055547]],\n",
       "                {&quot;bubblingMouseEvents&quot;: true, &quot;color&quot;: &quot;red&quot;, &quot;dashArray&quot;: null, &quot;dashOffset&quot;: null, &quot;fill&quot;: false, &quot;fillColor&quot;: &quot;red&quot;, &quot;fillOpacity&quot;: 0.2, &quot;fillRule&quot;: &quot;evenodd&quot;, &quot;lineCap&quot;: &quot;round&quot;, &quot;lineJoin&quot;: &quot;round&quot;, &quot;noClip&quot;: false, &quot;opacity&quot;: 1, &quot;smoothFactor&quot;: 1.0, &quot;stroke&quot;: true, &quot;weight&quot;: 2.5}\n",
       "            ).addTo(map_b6c5e454b1d58fe21ba6261bf8fd1fb7);\n",
       "        \n",
       "    \n",
       "            var marker_09e9db04d02519f1ecf3ace2446cc58f = L.marker(\n",
       "                [42.35977, -71.051601],\n",
       "                {}\n",
       "            ).addTo(map_b6c5e454b1d58fe21ba6261bf8fd1fb7);\n",
       "        \n",
       "    \n",
       "            var icon_a614c1591a0080e2c00b15d80e4cfe13 = L.AwesomeMarkers.icon(\n",
       "                {&quot;extraClasses&quot;: &quot;fa-rotate-0&quot;, &quot;icon&quot;: &quot;bicycle&quot;, &quot;iconColor&quot;: &quot;white&quot;, &quot;markerColor&quot;: &quot;blue&quot;, &quot;prefix&quot;: &quot;fa&quot;}\n",
       "            );\n",
       "            marker_09e9db04d02519f1ecf3ace2446cc58f.setIcon(icon_a614c1591a0080e2c00b15d80e4cfe13);\n",
       "        \n",
       "    \n",
       "        var popup_b17a52b12b05ac80027a06680665f940 = L.popup({&quot;maxWidth&quot;: &quot;100%&quot;});\n",
       "\n",
       "        \n",
       "            \n",
       "                var html_b88ae1aa83639296389c9aef79286d86 = $(`&lt;div id=&quot;html_b88ae1aa83639296389c9aef79286d86&quot; style=&quot;width: 100.0%; height: 100.0%;&quot;&gt;(20, 2980)&lt;/div&gt;`)[0];\n",
       "                popup_b17a52b12b05ac80027a06680665f940.setContent(html_b88ae1aa83639296389c9aef79286d86);\n",
       "            \n",
       "        \n",
       "\n",
       "        marker_09e9db04d02519f1ecf3ace2446cc58f.bindPopup(popup_b17a52b12b05ac80027a06680665f940)\n",
       "        ;\n",
       "\n",
       "        \n",
       "    \n",
       "    \n",
       "            var marker_c0bd78cea5936a86d21f8657a86236f4 = L.marker(\n",
       "                [42.352175, -71.055547],\n",
       "                {}\n",
       "            ).addTo(map_b6c5e454b1d58fe21ba6261bf8fd1fb7);\n",
       "        \n",
       "    \n",
       "            var icon_ed626d2b1419348fd0f17ef6e5e5d70b = L.AwesomeMarkers.icon(\n",
       "                {&quot;extraClasses&quot;: &quot;fa-rotate-0&quot;, &quot;icon&quot;: &quot;bicycle&quot;, &quot;iconColor&quot;: &quot;white&quot;, &quot;markerColor&quot;: &quot;blue&quot;, &quot;prefix&quot;: &quot;fa&quot;}\n",
       "            );\n",
       "            marker_c0bd78cea5936a86d21f8657a86236f4.setIcon(icon_ed626d2b1419348fd0f17ef6e5e5d70b);\n",
       "        \n",
       "    \n",
       "        var popup_f0fb9a7cdaf50e54681ec298ef0478ca = L.popup({&quot;maxWidth&quot;: &quot;100%&quot;});\n",
       "\n",
       "        \n",
       "            \n",
       "                var html_1a6ea690ca7196e1f73ef0ee6cbaab73 = $(`&lt;div id=&quot;html_1a6ea690ca7196e1f73ef0ee6cbaab73&quot; style=&quot;width: 100.0%; height: 100.0%;&quot;&gt;(&#x27;22&#x27;, 2980)&lt;/div&gt;`)[0];\n",
       "                popup_f0fb9a7cdaf50e54681ec298ef0478ca.setContent(html_1a6ea690ca7196e1f73ef0ee6cbaab73);\n",
       "            \n",
       "        \n",
       "\n",
       "        marker_c0bd78cea5936a86d21f8657a86236f4.bindPopup(popup_f0fb9a7cdaf50e54681ec298ef0478ca)\n",
       "        ;\n",
       "\n",
       "        \n",
       "    \n",
       "    \n",
       "            var poly_line_7c7a9d5b4c3b36ac4f428b6a0524bf8e = L.polyline(\n",
       "                [[42.3581, -71.093198], [42.36346469304347, -71.10057324171066]],\n",
       "                {&quot;bubblingMouseEvents&quot;: true, &quot;color&quot;: &quot;red&quot;, &quot;dashArray&quot;: null, &quot;dashOffset&quot;: null, &quot;fill&quot;: false, &quot;fillColor&quot;: &quot;red&quot;, &quot;fillOpacity&quot;: 0.2, &quot;fillRule&quot;: &quot;evenodd&quot;, &quot;lineCap&quot;: &quot;round&quot;, &quot;lineJoin&quot;: &quot;round&quot;, &quot;noClip&quot;: false, &quot;opacity&quot;: 1, &quot;smoothFactor&quot;: 1.0, &quot;stroke&quot;: true, &quot;weight&quot;: 2.5}\n",
       "            ).addTo(map_b6c5e454b1d58fe21ba6261bf8fd1fb7);\n",
       "        \n",
       "    \n",
       "            var marker_62b131e1194bb3fa20fd3a65c1836b17 = L.marker(\n",
       "                [42.3581, -71.093198],\n",
       "                {}\n",
       "            ).addTo(map_b6c5e454b1d58fe21ba6261bf8fd1fb7);\n",
       "        \n",
       "    \n",
       "            var icon_65f6247727dd02ec135504a3f33351e1 = L.AwesomeMarkers.icon(\n",
       "                {&quot;extraClasses&quot;: &quot;fa-rotate-0&quot;, &quot;icon&quot;: &quot;bicycle&quot;, &quot;iconColor&quot;: &quot;white&quot;, &quot;markerColor&quot;: &quot;blue&quot;, &quot;prefix&quot;: &quot;fa&quot;}\n",
       "            );\n",
       "            marker_62b131e1194bb3fa20fd3a65c1836b17.setIcon(icon_65f6247727dd02ec135504a3f33351e1);\n",
       "        \n",
       "    \n",
       "        var popup_0821ffacc3ffc96a848bfe9efd008e5d = L.popup({&quot;maxWidth&quot;: &quot;100%&quot;});\n",
       "\n",
       "        \n",
       "            \n",
       "                var html_9e1a6a965662d0e5a5a019c3182ca0d4 = $(`&lt;div id=&quot;html_9e1a6a965662d0e5a5a019c3182ca0d4&quot; style=&quot;width: 100.0%; height: 100.0%;&quot;&gt;(67, 2886)&lt;/div&gt;`)[0];\n",
       "                popup_0821ffacc3ffc96a848bfe9efd008e5d.setContent(html_9e1a6a965662d0e5a5a019c3182ca0d4);\n",
       "            \n",
       "        \n",
       "\n",
       "        marker_62b131e1194bb3fa20fd3a65c1836b17.bindPopup(popup_0821ffacc3ffc96a848bfe9efd008e5d)\n",
       "        ;\n",
       "\n",
       "        \n",
       "    \n",
       "    \n",
       "            var marker_73c14a8eba27db5aafc045da0770a335 = L.marker(\n",
       "                [42.36346469304347, -71.10057324171066],\n",
       "                {}\n",
       "            ).addTo(map_b6c5e454b1d58fe21ba6261bf8fd1fb7);\n",
       "        \n",
       "    \n",
       "            var icon_9676ffbb05c5fbe95ff1f5185db1937a = L.AwesomeMarkers.icon(\n",
       "                {&quot;extraClasses&quot;: &quot;fa-rotate-0&quot;, &quot;icon&quot;: &quot;bicycle&quot;, &quot;iconColor&quot;: &quot;white&quot;, &quot;markerColor&quot;: &quot;blue&quot;, &quot;prefix&quot;: &quot;fa&quot;}\n",
       "            );\n",
       "            marker_73c14a8eba27db5aafc045da0770a335.setIcon(icon_9676ffbb05c5fbe95ff1f5185db1937a);\n",
       "        \n",
       "    \n",
       "        var popup_8bacd27f2e9d9ee5296de77f3064c615 = L.popup({&quot;maxWidth&quot;: &quot;100%&quot;});\n",
       "\n",
       "        \n",
       "            \n",
       "                var html_686fe1a953f228dba508eddab4c6be85 = $(`&lt;div id=&quot;html_686fe1a953f228dba508eddab4c6be85&quot; style=&quot;width: 100.0%; height: 100.0%;&quot;&gt;(&#x27;75&#x27;, 2886)&lt;/div&gt;`)[0];\n",
       "                popup_8bacd27f2e9d9ee5296de77f3064c615.setContent(html_686fe1a953f228dba508eddab4c6be85);\n",
       "            \n",
       "        \n",
       "\n",
       "        marker_73c14a8eba27db5aafc045da0770a335.bindPopup(popup_8bacd27f2e9d9ee5296de77f3064c615)\n",
       "        ;\n",
       "\n",
       "        \n",
       "    \n",
       "    \n",
       "            var poly_line_665b0cf7f86aaeca805adec70343cc82 = L.polyline(\n",
       "                [[42.3581, -71.093198], [42.373268, -71.118579]],\n",
       "                {&quot;bubblingMouseEvents&quot;: true, &quot;color&quot;: &quot;red&quot;, &quot;dashArray&quot;: null, &quot;dashOffset&quot;: null, &quot;fill&quot;: false, &quot;fillColor&quot;: &quot;red&quot;, &quot;fillOpacity&quot;: 0.2, &quot;fillRule&quot;: &quot;evenodd&quot;, &quot;lineCap&quot;: &quot;round&quot;, &quot;lineJoin&quot;: &quot;round&quot;, &quot;noClip&quot;: false, &quot;opacity&quot;: 1, &quot;smoothFactor&quot;: 1.0, &quot;stroke&quot;: true, &quot;weight&quot;: 2.5}\n",
       "            ).addTo(map_b6c5e454b1d58fe21ba6261bf8fd1fb7);\n",
       "        \n",
       "    \n",
       "            var marker_263f1914d0a296a6f4515013b81f07da = L.marker(\n",
       "                [42.3581, -71.093198],\n",
       "                {}\n",
       "            ).addTo(map_b6c5e454b1d58fe21ba6261bf8fd1fb7);\n",
       "        \n",
       "    \n",
       "            var icon_364b39ab6a3e06e6e6930eed26672922 = L.AwesomeMarkers.icon(\n",
       "                {&quot;extraClasses&quot;: &quot;fa-rotate-0&quot;, &quot;icon&quot;: &quot;bicycle&quot;, &quot;iconColor&quot;: &quot;white&quot;, &quot;markerColor&quot;: &quot;blue&quot;, &quot;prefix&quot;: &quot;fa&quot;}\n",
       "            );\n",
       "            marker_263f1914d0a296a6f4515013b81f07da.setIcon(icon_364b39ab6a3e06e6e6930eed26672922);\n",
       "        \n",
       "    \n",
       "        var popup_ed7377cafceb209b73a41617a9a15ab3 = L.popup({&quot;maxWidth&quot;: &quot;100%&quot;});\n",
       "\n",
       "        \n",
       "            \n",
       "                var html_b09afb0b607694075dad21c3bacb97de = $(`&lt;div id=&quot;html_b09afb0b607694075dad21c3bacb97de&quot; style=&quot;width: 100.0%; height: 100.0%;&quot;&gt;(67, 2692)&lt;/div&gt;`)[0];\n",
       "                popup_ed7377cafceb209b73a41617a9a15ab3.setContent(html_b09afb0b607694075dad21c3bacb97de);\n",
       "            \n",
       "        \n",
       "\n",
       "        marker_263f1914d0a296a6f4515013b81f07da.bindPopup(popup_ed7377cafceb209b73a41617a9a15ab3)\n",
       "        ;\n",
       "\n",
       "        \n",
       "    \n",
       "    \n",
       "            var marker_cf855428b9b10c74cfe46be795d00b98 = L.marker(\n",
       "                [42.373268, -71.118579],\n",
       "                {}\n",
       "            ).addTo(map_b6c5e454b1d58fe21ba6261bf8fd1fb7);\n",
       "        \n",
       "    \n",
       "            var icon_adeb1dd878a33ff20382f2a076779bd4 = L.AwesomeMarkers.icon(\n",
       "                {&quot;extraClasses&quot;: &quot;fa-rotate-0&quot;, &quot;icon&quot;: &quot;bicycle&quot;, &quot;iconColor&quot;: &quot;white&quot;, &quot;markerColor&quot;: &quot;blue&quot;, &quot;prefix&quot;: &quot;fa&quot;}\n",
       "            );\n",
       "            marker_cf855428b9b10c74cfe46be795d00b98.setIcon(icon_adeb1dd878a33ff20382f2a076779bd4);\n",
       "        \n",
       "    \n",
       "        var popup_619e78a1510d35812210e4743f339295 = L.popup({&quot;maxWidth&quot;: &quot;100%&quot;});\n",
       "\n",
       "        \n",
       "            \n",
       "                var html_35d8cb8d837aabc2b0c53e8a986da576 = $(`&lt;div id=&quot;html_35d8cb8d837aabc2b0c53e8a986da576&quot; style=&quot;width: 100.0%; height: 100.0%;&quot;&gt;(&#x27;74&#x27;, 2692)&lt;/div&gt;`)[0];\n",
       "                popup_619e78a1510d35812210e4743f339295.setContent(html_35d8cb8d837aabc2b0c53e8a986da576);\n",
       "            \n",
       "        \n",
       "\n",
       "        marker_cf855428b9b10c74cfe46be795d00b98.bindPopup(popup_619e78a1510d35812210e4743f339295)\n",
       "        ;\n",
       "\n",
       "        \n",
       "    \n",
       "    \n",
       "            var poly_line_b8efd8dcec50e26235681135afd4750f = L.polyline(\n",
       "                [[42.3581, -71.093198], [42.3625, -71.08822]],\n",
       "                {&quot;bubblingMouseEvents&quot;: true, &quot;color&quot;: &quot;red&quot;, &quot;dashArray&quot;: null, &quot;dashOffset&quot;: null, &quot;fill&quot;: false, &quot;fillColor&quot;: &quot;red&quot;, &quot;fillOpacity&quot;: 0.2, &quot;fillRule&quot;: &quot;evenodd&quot;, &quot;lineCap&quot;: &quot;round&quot;, &quot;lineJoin&quot;: &quot;round&quot;, &quot;noClip&quot;: false, &quot;opacity&quot;: 1, &quot;smoothFactor&quot;: 1.0, &quot;stroke&quot;: true, &quot;weight&quot;: 2.5}\n",
       "            ).addTo(map_b6c5e454b1d58fe21ba6261bf8fd1fb7);\n",
       "        \n",
       "    \n",
       "            var marker_7bf8ff4b31c545adb4725e468ba15b94 = L.marker(\n",
       "                [42.3581, -71.093198],\n",
       "                {}\n",
       "            ).addTo(map_b6c5e454b1d58fe21ba6261bf8fd1fb7);\n",
       "        \n",
       "    \n",
       "            var icon_bd1d553c25c17b2055e9362e2bb3aea9 = L.AwesomeMarkers.icon(\n",
       "                {&quot;extraClasses&quot;: &quot;fa-rotate-0&quot;, &quot;icon&quot;: &quot;bicycle&quot;, &quot;iconColor&quot;: &quot;white&quot;, &quot;markerColor&quot;: &quot;blue&quot;, &quot;prefix&quot;: &quot;fa&quot;}\n",
       "            );\n",
       "            marker_7bf8ff4b31c545adb4725e468ba15b94.setIcon(icon_bd1d553c25c17b2055e9362e2bb3aea9);\n",
       "        \n",
       "    \n",
       "        var popup_7114da169d717204005fb354d021937a = L.popup({&quot;maxWidth&quot;: &quot;100%&quot;});\n",
       "\n",
       "        \n",
       "            \n",
       "                var html_42f77f583ac06e71cad6221e22f68a00 = $(`&lt;div id=&quot;html_42f77f583ac06e71cad6221e22f68a00&quot; style=&quot;width: 100.0%; height: 100.0%;&quot;&gt;(67, 2603)&lt;/div&gt;`)[0];\n",
       "                popup_7114da169d717204005fb354d021937a.setContent(html_42f77f583ac06e71cad6221e22f68a00);\n",
       "            \n",
       "        \n",
       "\n",
       "        marker_7bf8ff4b31c545adb4725e468ba15b94.bindPopup(popup_7114da169d717204005fb354d021937a)\n",
       "        ;\n",
       "\n",
       "        \n",
       "    \n",
       "    \n",
       "            var marker_e5b1639b25c666741a533334b82fa9e6 = L.marker(\n",
       "                [42.3625, -71.08822],\n",
       "                {}\n",
       "            ).addTo(map_b6c5e454b1d58fe21ba6261bf8fd1fb7);\n",
       "        \n",
       "    \n",
       "            var icon_0dfe98304b026ee7d6cd4a2af1daef2c = L.AwesomeMarkers.icon(\n",
       "                {&quot;extraClasses&quot;: &quot;fa-rotate-0&quot;, &quot;icon&quot;: &quot;bicycle&quot;, &quot;iconColor&quot;: &quot;white&quot;, &quot;markerColor&quot;: &quot;blue&quot;, &quot;prefix&quot;: &quot;fa&quot;}\n",
       "            );\n",
       "            marker_e5b1639b25c666741a533334b82fa9e6.setIcon(icon_0dfe98304b026ee7d6cd4a2af1daef2c);\n",
       "        \n",
       "    \n",
       "        var popup_98f8bdf3b5aba2860c5a267c820ea1b3 = L.popup({&quot;maxWidth&quot;: &quot;100%&quot;});\n",
       "\n",
       "        \n",
       "            \n",
       "                var html_e13a62b67b5f7ecd129401404dbb401b = $(`&lt;div id=&quot;html_e13a62b67b5f7ecd129401404dbb401b&quot; style=&quot;width: 100.0%; height: 100.0%;&quot;&gt;(&#x27;107&#x27;, 2603)&lt;/div&gt;`)[0];\n",
       "                popup_98f8bdf3b5aba2860c5a267c820ea1b3.setContent(html_e13a62b67b5f7ecd129401404dbb401b);\n",
       "            \n",
       "        \n",
       "\n",
       "        marker_e5b1639b25c666741a533334b82fa9e6.bindPopup(popup_98f8bdf3b5aba2860c5a267c820ea1b3)\n",
       "        ;\n",
       "\n",
       "        \n",
       "    \n",
       "    \n",
       "            var poly_line_a2dddc6adac9d8232f8c1abafc4a15e3 = L.polyline(\n",
       "                [[42.352175, -71.055547], [42.365942, -71.060515]],\n",
       "                {&quot;bubblingMouseEvents&quot;: true, &quot;color&quot;: &quot;red&quot;, &quot;dashArray&quot;: null, &quot;dashOffset&quot;: null, &quot;fill&quot;: false, &quot;fillColor&quot;: &quot;red&quot;, &quot;fillOpacity&quot;: 0.2, &quot;fillRule&quot;: &quot;evenodd&quot;, &quot;lineCap&quot;: &quot;round&quot;, &quot;lineJoin&quot;: &quot;round&quot;, &quot;noClip&quot;: false, &quot;opacity&quot;: 1, &quot;smoothFactor&quot;: 1.0, &quot;stroke&quot;: true, &quot;weight&quot;: 2.5}\n",
       "            ).addTo(map_b6c5e454b1d58fe21ba6261bf8fd1fb7);\n",
       "        \n",
       "    \n",
       "            var marker_e7e65b09891ea479617ee852ebf23acd = L.marker(\n",
       "                [42.352175, -71.055547],\n",
       "                {}\n",
       "            ).addTo(map_b6c5e454b1d58fe21ba6261bf8fd1fb7);\n",
       "        \n",
       "    \n",
       "            var icon_cbbaf00e53f9f61b12301fb4f198621f = L.AwesomeMarkers.icon(\n",
       "                {&quot;extraClasses&quot;: &quot;fa-rotate-0&quot;, &quot;icon&quot;: &quot;bicycle&quot;, &quot;iconColor&quot;: &quot;white&quot;, &quot;markerColor&quot;: &quot;blue&quot;, &quot;prefix&quot;: &quot;fa&quot;}\n",
       "            );\n",
       "            marker_e7e65b09891ea479617ee852ebf23acd.setIcon(icon_cbbaf00e53f9f61b12301fb4f198621f);\n",
       "        \n",
       "    \n",
       "        var popup_f3ff4d97363345746c0c9c598e018024 = L.popup({&quot;maxWidth&quot;: &quot;100%&quot;});\n",
       "\n",
       "        \n",
       "            \n",
       "                var html_85c35a348e11c39838ab424191e68f7e = $(`&lt;div id=&quot;html_85c35a348e11c39838ab424191e68f7e&quot; style=&quot;width: 100.0%; height: 100.0%;&quot;&gt;(22, 2380)&lt;/div&gt;`)[0];\n",
       "                popup_f3ff4d97363345746c0c9c598e018024.setContent(html_85c35a348e11c39838ab424191e68f7e);\n",
       "            \n",
       "        \n",
       "\n",
       "        marker_e7e65b09891ea479617ee852ebf23acd.bindPopup(popup_f3ff4d97363345746c0c9c598e018024)\n",
       "        ;\n",
       "\n",
       "        \n",
       "    \n",
       "    \n",
       "            var marker_73d6c010c275a45471655085c6d99535 = L.marker(\n",
       "                [42.365942, -71.060515],\n",
       "                {}\n",
       "            ).addTo(map_b6c5e454b1d58fe21ba6261bf8fd1fb7);\n",
       "        \n",
       "    \n",
       "            var icon_285fe8e56dd7745b3c274ebd1c0ddfd6 = L.AwesomeMarkers.icon(\n",
       "                {&quot;extraClasses&quot;: &quot;fa-rotate-0&quot;, &quot;icon&quot;: &quot;bicycle&quot;, &quot;iconColor&quot;: &quot;white&quot;, &quot;markerColor&quot;: &quot;blue&quot;, &quot;prefix&quot;: &quot;fa&quot;}\n",
       "            );\n",
       "            marker_73d6c010c275a45471655085c6d99535.setIcon(icon_285fe8e56dd7745b3c274ebd1c0ddfd6);\n",
       "        \n",
       "    \n",
       "        var popup_215536c73e7bc670e40bd3a4d3db6138 = L.popup({&quot;maxWidth&quot;: &quot;100%&quot;});\n",
       "\n",
       "        \n",
       "            \n",
       "                var html_d88b1d8582249b85b388a28e74f9e192 = $(`&lt;div id=&quot;html_d88b1d8582249b85b388a28e74f9e192&quot; style=&quot;width: 100.0%; height: 100.0%;&quot;&gt;(&#x27;109&#x27;, 2380)&lt;/div&gt;`)[0];\n",
       "                popup_215536c73e7bc670e40bd3a4d3db6138.setContent(html_d88b1d8582249b85b388a28e74f9e192);\n",
       "            \n",
       "        \n",
       "\n",
       "        marker_73d6c010c275a45471655085c6d99535.bindPopup(popup_215536c73e7bc670e40bd3a4d3db6138)\n",
       "        ;\n",
       "\n",
       "        \n",
       "    \n",
       "    \n",
       "            var poly_line_8d83b9681bcf3e2c36a42569258a7701 = L.polyline(\n",
       "                [[42.3619622, -71.0920526], [42.36507, -71.1031]],\n",
       "                {&quot;bubblingMouseEvents&quot;: true, &quot;color&quot;: &quot;red&quot;, &quot;dashArray&quot;: null, &quot;dashOffset&quot;: null, &quot;fill&quot;: false, &quot;fillColor&quot;: &quot;red&quot;, &quot;fillOpacity&quot;: 0.2, &quot;fillRule&quot;: &quot;evenodd&quot;, &quot;lineCap&quot;: &quot;round&quot;, &quot;lineJoin&quot;: &quot;round&quot;, &quot;noClip&quot;: false, &quot;opacity&quot;: 1, &quot;smoothFactor&quot;: 1.0, &quot;stroke&quot;: true, &quot;weight&quot;: 2.5}\n",
       "            ).addTo(map_b6c5e454b1d58fe21ba6261bf8fd1fb7);\n",
       "        \n",
       "    \n",
       "            var marker_9a16833f9df7d34cf0ae1dfefdfd3d50 = L.marker(\n",
       "                [42.3619622, -71.0920526],\n",
       "                {}\n",
       "            ).addTo(map_b6c5e454b1d58fe21ba6261bf8fd1fb7);\n",
       "        \n",
       "    \n",
       "            var icon_db60e117d02ade04a826af89af140b9d = L.AwesomeMarkers.icon(\n",
       "                {&quot;extraClasses&quot;: &quot;fa-rotate-0&quot;, &quot;icon&quot;: &quot;bicycle&quot;, &quot;iconColor&quot;: &quot;white&quot;, &quot;markerColor&quot;: &quot;blue&quot;, &quot;prefix&quot;: &quot;fa&quot;}\n",
       "            );\n",
       "            marker_9a16833f9df7d34cf0ae1dfefdfd3d50.setIcon(icon_db60e117d02ade04a826af89af140b9d);\n",
       "        \n",
       "    \n",
       "        var popup_59afa88bf9967d74990d6c9e70acf5f0 = L.popup({&quot;maxWidth&quot;: &quot;100%&quot;});\n",
       "\n",
       "        \n",
       "            \n",
       "                var html_e66f50385351c92fda9a6481c98f510c = $(`&lt;div id=&quot;html_e66f50385351c92fda9a6481c98f510c&quot; style=&quot;width: 100.0%; height: 100.0%;&quot;&gt;(80, 2319)&lt;/div&gt;`)[0];\n",
       "                popup_59afa88bf9967d74990d6c9e70acf5f0.setContent(html_e66f50385351c92fda9a6481c98f510c);\n",
       "            \n",
       "        \n",
       "\n",
       "        marker_9a16833f9df7d34cf0ae1dfefdfd3d50.bindPopup(popup_59afa88bf9967d74990d6c9e70acf5f0)\n",
       "        ;\n",
       "\n",
       "        \n",
       "    \n",
       "    \n",
       "            var marker_91748e18dcb68ca1ba231f936a0a0c40 = L.marker(\n",
       "                [42.36507, -71.1031],\n",
       "                {}\n",
       "            ).addTo(map_b6c5e454b1d58fe21ba6261bf8fd1fb7);\n",
       "        \n",
       "    \n",
       "            var icon_614912bcce1284509b28aa4cd08917ce = L.AwesomeMarkers.icon(\n",
       "                {&quot;extraClasses&quot;: &quot;fa-rotate-0&quot;, &quot;icon&quot;: &quot;bicycle&quot;, &quot;iconColor&quot;: &quot;white&quot;, &quot;markerColor&quot;: &quot;blue&quot;, &quot;prefix&quot;: &quot;fa&quot;}\n",
       "            );\n",
       "            marker_91748e18dcb68ca1ba231f936a0a0c40.setIcon(icon_614912bcce1284509b28aa4cd08917ce);\n",
       "        \n",
       "    \n",
       "        var popup_2641b6a1a0cf3a436746911b8d41bcf5 = L.popup({&quot;maxWidth&quot;: &quot;100%&quot;});\n",
       "\n",
       "        \n",
       "            \n",
       "                var html_5ac54ac2dbba9e0653aaf1b726579595 = $(`&lt;div id=&quot;html_5ac54ac2dbba9e0653aaf1b726579595&quot; style=&quot;width: 100.0%; height: 100.0%;&quot;&gt;(&#x27;68&#x27;, 2319)&lt;/div&gt;`)[0];\n",
       "                popup_2641b6a1a0cf3a436746911b8d41bcf5.setContent(html_5ac54ac2dbba9e0653aaf1b726579595);\n",
       "            \n",
       "        \n",
       "\n",
       "        marker_91748e18dcb68ca1ba231f936a0a0c40.bindPopup(popup_2641b6a1a0cf3a436746911b8d41bcf5)\n",
       "        ;\n",
       "\n",
       "        \n",
       "    \n",
       "    \n",
       "            var poly_line_d1d04ed3631c77fc75734093921590ba = L.polyline(\n",
       "                [[42.36346469304347, -71.10057324171066], [42.3625, -71.08822]],\n",
       "                {&quot;bubblingMouseEvents&quot;: true, &quot;color&quot;: &quot;red&quot;, &quot;dashArray&quot;: null, &quot;dashOffset&quot;: null, &quot;fill&quot;: false, &quot;fillColor&quot;: &quot;red&quot;, &quot;fillOpacity&quot;: 0.2, &quot;fillRule&quot;: &quot;evenodd&quot;, &quot;lineCap&quot;: &quot;round&quot;, &quot;lineJoin&quot;: &quot;round&quot;, &quot;noClip&quot;: false, &quot;opacity&quot;: 1, &quot;smoothFactor&quot;: 1.0, &quot;stroke&quot;: true, &quot;weight&quot;: 2.5}\n",
       "            ).addTo(map_b6c5e454b1d58fe21ba6261bf8fd1fb7);\n",
       "        \n",
       "    \n",
       "            var marker_55b80f8d436f3e05248dbb1ddf565b8d = L.marker(\n",
       "                [42.36346469304347, -71.10057324171066],\n",
       "                {}\n",
       "            ).addTo(map_b6c5e454b1d58fe21ba6261bf8fd1fb7);\n",
       "        \n",
       "    \n",
       "            var icon_09daed2378e5ca5406240c6d328f8d76 = L.AwesomeMarkers.icon(\n",
       "                {&quot;extraClasses&quot;: &quot;fa-rotate-0&quot;, &quot;icon&quot;: &quot;bicycle&quot;, &quot;iconColor&quot;: &quot;white&quot;, &quot;markerColor&quot;: &quot;blue&quot;, &quot;prefix&quot;: &quot;fa&quot;}\n",
       "            );\n",
       "            marker_55b80f8d436f3e05248dbb1ddf565b8d.setIcon(icon_09daed2378e5ca5406240c6d328f8d76);\n",
       "        \n",
       "    \n",
       "        var popup_be19ac0bc85311731422f5f6f1a5719d = L.popup({&quot;maxWidth&quot;: &quot;100%&quot;});\n",
       "\n",
       "        \n",
       "            \n",
       "                var html_ed08b5c608c66346e375d350194c57a6 = $(`&lt;div id=&quot;html_ed08b5c608c66346e375d350194c57a6&quot; style=&quot;width: 100.0%; height: 100.0%;&quot;&gt;(75, 2292)&lt;/div&gt;`)[0];\n",
       "                popup_be19ac0bc85311731422f5f6f1a5719d.setContent(html_ed08b5c608c66346e375d350194c57a6);\n",
       "            \n",
       "        \n",
       "\n",
       "        marker_55b80f8d436f3e05248dbb1ddf565b8d.bindPopup(popup_be19ac0bc85311731422f5f6f1a5719d)\n",
       "        ;\n",
       "\n",
       "        \n",
       "    \n",
       "    \n",
       "            var marker_f73b0ff31cef841d228547ce3a266dfd = L.marker(\n",
       "                [42.3625, -71.08822],\n",
       "                {}\n",
       "            ).addTo(map_b6c5e454b1d58fe21ba6261bf8fd1fb7);\n",
       "        \n",
       "    \n",
       "            var icon_578e0559dcea89f9f77cee2c20d18c3a = L.AwesomeMarkers.icon(\n",
       "                {&quot;extraClasses&quot;: &quot;fa-rotate-0&quot;, &quot;icon&quot;: &quot;bicycle&quot;, &quot;iconColor&quot;: &quot;white&quot;, &quot;markerColor&quot;: &quot;blue&quot;, &quot;prefix&quot;: &quot;fa&quot;}\n",
       "            );\n",
       "            marker_f73b0ff31cef841d228547ce3a266dfd.setIcon(icon_578e0559dcea89f9f77cee2c20d18c3a);\n",
       "        \n",
       "    \n",
       "        var popup_defe7d063e9453b2955b0e145cbe6627 = L.popup({&quot;maxWidth&quot;: &quot;100%&quot;});\n",
       "\n",
       "        \n",
       "            \n",
       "                var html_14f8e5bfff9efff2abfb0514baf12c85 = $(`&lt;div id=&quot;html_14f8e5bfff9efff2abfb0514baf12c85&quot; style=&quot;width: 100.0%; height: 100.0%;&quot;&gt;(&#x27;107&#x27;, 2292)&lt;/div&gt;`)[0];\n",
       "                popup_defe7d063e9453b2955b0e145cbe6627.setContent(html_14f8e5bfff9efff2abfb0514baf12c85);\n",
       "            \n",
       "        \n",
       "\n",
       "        marker_f73b0ff31cef841d228547ce3a266dfd.bindPopup(popup_defe7d063e9453b2955b0e145cbe6627)\n",
       "        ;\n",
       "\n",
       "        \n",
       "    \n",
       "    \n",
       "            var poly_line_e474aa445a442b330e96e9a0a30ffcb8 = L.polyline(\n",
       "                [[42.352175, -71.055547], [42.362811, -71.056067]],\n",
       "                {&quot;bubblingMouseEvents&quot;: true, &quot;color&quot;: &quot;red&quot;, &quot;dashArray&quot;: null, &quot;dashOffset&quot;: null, &quot;fill&quot;: false, &quot;fillColor&quot;: &quot;red&quot;, &quot;fillOpacity&quot;: 0.2, &quot;fillRule&quot;: &quot;evenodd&quot;, &quot;lineCap&quot;: &quot;round&quot;, &quot;lineJoin&quot;: &quot;round&quot;, &quot;noClip&quot;: false, &quot;opacity&quot;: 1, &quot;smoothFactor&quot;: 1.0, &quot;stroke&quot;: true, &quot;weight&quot;: 2.5}\n",
       "            ).addTo(map_b6c5e454b1d58fe21ba6261bf8fd1fb7);\n",
       "        \n",
       "    \n",
       "            var marker_5e6095d540a8f76dfed5dc96707cf070 = L.marker(\n",
       "                [42.352175, -71.055547],\n",
       "                {}\n",
       "            ).addTo(map_b6c5e454b1d58fe21ba6261bf8fd1fb7);\n",
       "        \n",
       "    \n",
       "            var icon_333bbf571ea1db249884aa69f0fa3513 = L.AwesomeMarkers.icon(\n",
       "                {&quot;extraClasses&quot;: &quot;fa-rotate-0&quot;, &quot;icon&quot;: &quot;bicycle&quot;, &quot;iconColor&quot;: &quot;white&quot;, &quot;markerColor&quot;: &quot;blue&quot;, &quot;prefix&quot;: &quot;fa&quot;}\n",
       "            );\n",
       "            marker_5e6095d540a8f76dfed5dc96707cf070.setIcon(icon_333bbf571ea1db249884aa69f0fa3513);\n",
       "        \n",
       "    \n",
       "        var popup_3ac92bf88ca7ef699cb49873f7c3f4f9 = L.popup({&quot;maxWidth&quot;: &quot;100%&quot;});\n",
       "\n",
       "        \n",
       "            \n",
       "                var html_f1d0e75f5da9f7e8a27ac46be5895d18 = $(`&lt;div id=&quot;html_f1d0e75f5da9f7e8a27ac46be5895d18&quot; style=&quot;width: 100.0%; height: 100.0%;&quot;&gt;(22, 2263)&lt;/div&gt;`)[0];\n",
       "                popup_3ac92bf88ca7ef699cb49873f7c3f4f9.setContent(html_f1d0e75f5da9f7e8a27ac46be5895d18);\n",
       "            \n",
       "        \n",
       "\n",
       "        marker_5e6095d540a8f76dfed5dc96707cf070.bindPopup(popup_3ac92bf88ca7ef699cb49873f7c3f4f9)\n",
       "        ;\n",
       "\n",
       "        \n",
       "    \n",
       "    \n",
       "            var marker_3c3fe885c89e8f30b617617fe5a08643 = L.marker(\n",
       "                [42.362811, -71.056067],\n",
       "                {}\n",
       "            ).addTo(map_b6c5e454b1d58fe21ba6261bf8fd1fb7);\n",
       "        \n",
       "    \n",
       "            var icon_1270121bf8c95d8ed4047e6fa8beb845 = L.AwesomeMarkers.icon(\n",
       "                {&quot;extraClasses&quot;: &quot;fa-rotate-0&quot;, &quot;icon&quot;: &quot;bicycle&quot;, &quot;iconColor&quot;: &quot;white&quot;, &quot;markerColor&quot;: &quot;blue&quot;, &quot;prefix&quot;: &quot;fa&quot;}\n",
       "            );\n",
       "            marker_3c3fe885c89e8f30b617617fe5a08643.setIcon(icon_1270121bf8c95d8ed4047e6fa8beb845);\n",
       "        \n",
       "    \n",
       "        var popup_6f7ef126279f1e1000f4a8ed284770a9 = L.popup({&quot;maxWidth&quot;: &quot;100%&quot;});\n",
       "\n",
       "        \n",
       "            \n",
       "                var html_e24a65a6c6eb47c9ea98dca4c97ac631 = $(`&lt;div id=&quot;html_e24a65a6c6eb47c9ea98dca4c97ac631&quot; style=&quot;width: 100.0%; height: 100.0%;&quot;&gt;(&#x27;47&#x27;, 2263)&lt;/div&gt;`)[0];\n",
       "                popup_6f7ef126279f1e1000f4a8ed284770a9.setContent(html_e24a65a6c6eb47c9ea98dca4c97ac631);\n",
       "            \n",
       "        \n",
       "\n",
       "        marker_3c3fe885c89e8f30b617617fe5a08643.bindPopup(popup_6f7ef126279f1e1000f4a8ed284770a9)\n",
       "        ;\n",
       "\n",
       "        \n",
       "    \n",
       "    \n",
       "            var poly_line_20af96c327ff8d3053855192751df002 = L.polyline(\n",
       "                [[42.36346469304347, -71.10057324171066], [42.3619622, -71.0920526]],\n",
       "                {&quot;bubblingMouseEvents&quot;: true, &quot;color&quot;: &quot;red&quot;, &quot;dashArray&quot;: null, &quot;dashOffset&quot;: null, &quot;fill&quot;: false, &quot;fillColor&quot;: &quot;red&quot;, &quot;fillOpacity&quot;: 0.2, &quot;fillRule&quot;: &quot;evenodd&quot;, &quot;lineCap&quot;: &quot;round&quot;, &quot;lineJoin&quot;: &quot;round&quot;, &quot;noClip&quot;: false, &quot;opacity&quot;: 1, &quot;smoothFactor&quot;: 1.0, &quot;stroke&quot;: true, &quot;weight&quot;: 2.5}\n",
       "            ).addTo(map_b6c5e454b1d58fe21ba6261bf8fd1fb7);\n",
       "        \n",
       "    \n",
       "            var marker_812fe380cff3f9a51e630af4897e64ec = L.marker(\n",
       "                [42.36346469304347, -71.10057324171066],\n",
       "                {}\n",
       "            ).addTo(map_b6c5e454b1d58fe21ba6261bf8fd1fb7);\n",
       "        \n",
       "    \n",
       "            var icon_f5429c77744bb3a62d888fdfeba6e697 = L.AwesomeMarkers.icon(\n",
       "                {&quot;extraClasses&quot;: &quot;fa-rotate-0&quot;, &quot;icon&quot;: &quot;bicycle&quot;, &quot;iconColor&quot;: &quot;white&quot;, &quot;markerColor&quot;: &quot;blue&quot;, &quot;prefix&quot;: &quot;fa&quot;}\n",
       "            );\n",
       "            marker_812fe380cff3f9a51e630af4897e64ec.setIcon(icon_f5429c77744bb3a62d888fdfeba6e697);\n",
       "        \n",
       "    \n",
       "        var popup_5f1ff1067dac30297204948ebb55e772 = L.popup({&quot;maxWidth&quot;: &quot;100%&quot;});\n",
       "\n",
       "        \n",
       "            \n",
       "                var html_7761cdb223573526b589b47a8f54b997 = $(`&lt;div id=&quot;html_7761cdb223573526b589b47a8f54b997&quot; style=&quot;width: 100.0%; height: 100.0%;&quot;&gt;(75, 2244)&lt;/div&gt;`)[0];\n",
       "                popup_5f1ff1067dac30297204948ebb55e772.setContent(html_7761cdb223573526b589b47a8f54b997);\n",
       "            \n",
       "        \n",
       "\n",
       "        marker_812fe380cff3f9a51e630af4897e64ec.bindPopup(popup_5f1ff1067dac30297204948ebb55e772)\n",
       "        ;\n",
       "\n",
       "        \n",
       "    \n",
       "    \n",
       "            var marker_de31249757856671bf2573a088f020f1 = L.marker(\n",
       "                [42.3619622, -71.0920526],\n",
       "                {}\n",
       "            ).addTo(map_b6c5e454b1d58fe21ba6261bf8fd1fb7);\n",
       "        \n",
       "    \n",
       "            var icon_8e99cf3e5d955656a774012aad1998f4 = L.AwesomeMarkers.icon(\n",
       "                {&quot;extraClasses&quot;: &quot;fa-rotate-0&quot;, &quot;icon&quot;: &quot;bicycle&quot;, &quot;iconColor&quot;: &quot;white&quot;, &quot;markerColor&quot;: &quot;blue&quot;, &quot;prefix&quot;: &quot;fa&quot;}\n",
       "            );\n",
       "            marker_de31249757856671bf2573a088f020f1.setIcon(icon_8e99cf3e5d955656a774012aad1998f4);\n",
       "        \n",
       "    \n",
       "        var popup_f3f0bc598b11f330192fd41af01377d0 = L.popup({&quot;maxWidth&quot;: &quot;100%&quot;});\n",
       "\n",
       "        \n",
       "            \n",
       "                var html_d1f8377dc7e89746450593d39066aea9 = $(`&lt;div id=&quot;html_d1f8377dc7e89746450593d39066aea9&quot; style=&quot;width: 100.0%; height: 100.0%;&quot;&gt;(&#x27;80&#x27;, 2244)&lt;/div&gt;`)[0];\n",
       "                popup_f3f0bc598b11f330192fd41af01377d0.setContent(html_d1f8377dc7e89746450593d39066aea9);\n",
       "            \n",
       "        \n",
       "\n",
       "        marker_de31249757856671bf2573a088f020f1.bindPopup(popup_f3f0bc598b11f330192fd41af01377d0)\n",
       "        ;\n",
       "\n",
       "        \n",
       "    \n",
       "    \n",
       "            var poly_line_bdbb13b3b093cce6e671e606c36668b6 = L.polyline(\n",
       "                [[42.373268, -71.118579], [42.380287, -71.125107]],\n",
       "                {&quot;bubblingMouseEvents&quot;: true, &quot;color&quot;: &quot;red&quot;, &quot;dashArray&quot;: null, &quot;dashOffset&quot;: null, &quot;fill&quot;: false, &quot;fillColor&quot;: &quot;red&quot;, &quot;fillOpacity&quot;: 0.2, &quot;fillRule&quot;: &quot;evenodd&quot;, &quot;lineCap&quot;: &quot;round&quot;, &quot;lineJoin&quot;: &quot;round&quot;, &quot;noClip&quot;: false, &quot;opacity&quot;: 1, &quot;smoothFactor&quot;: 1.0, &quot;stroke&quot;: true, &quot;weight&quot;: 2.5}\n",
       "            ).addTo(map_b6c5e454b1d58fe21ba6261bf8fd1fb7);\n",
       "        \n",
       "    \n",
       "            var marker_76c166f43cd4104c531350d6ba70f51b = L.marker(\n",
       "                [42.373268, -71.118579],\n",
       "                {}\n",
       "            ).addTo(map_b6c5e454b1d58fe21ba6261bf8fd1fb7);\n",
       "        \n",
       "    \n",
       "            var icon_4d8b2f824656ac73e2bb4f0f7205f5c4 = L.AwesomeMarkers.icon(\n",
       "                {&quot;extraClasses&quot;: &quot;fa-rotate-0&quot;, &quot;icon&quot;: &quot;bicycle&quot;, &quot;iconColor&quot;: &quot;white&quot;, &quot;markerColor&quot;: &quot;blue&quot;, &quot;prefix&quot;: &quot;fa&quot;}\n",
       "            );\n",
       "            marker_76c166f43cd4104c531350d6ba70f51b.setIcon(icon_4d8b2f824656ac73e2bb4f0f7205f5c4);\n",
       "        \n",
       "    \n",
       "        var popup_700981d578897fee3b166cf7ee9b5572 = L.popup({&quot;maxWidth&quot;: &quot;100%&quot;});\n",
       "\n",
       "        \n",
       "            \n",
       "                var html_2fcb8cca86f2f5f6a0f6379a0193eeee = $(`&lt;div id=&quot;html_2fcb8cca86f2f5f6a0f6379a0193eeee&quot; style=&quot;width: 100.0%; height: 100.0%;&quot;&gt;(74, 2181)&lt;/div&gt;`)[0];\n",
       "                popup_700981d578897fee3b166cf7ee9b5572.setContent(html_2fcb8cca86f2f5f6a0f6379a0193eeee);\n",
       "            \n",
       "        \n",
       "\n",
       "        marker_76c166f43cd4104c531350d6ba70f51b.bindPopup(popup_700981d578897fee3b166cf7ee9b5572)\n",
       "        ;\n",
       "\n",
       "        \n",
       "    \n",
       "    \n",
       "            var marker_a68f91bb5413e76f35197aaed5b24fb7 = L.marker(\n",
       "                [42.380287, -71.125107],\n",
       "                {}\n",
       "            ).addTo(map_b6c5e454b1d58fe21ba6261bf8fd1fb7);\n",
       "        \n",
       "    \n",
       "            var icon_bf37f7e9f6a43cf2603c04cbdc40df72 = L.AwesomeMarkers.icon(\n",
       "                {&quot;extraClasses&quot;: &quot;fa-rotate-0&quot;, &quot;icon&quot;: &quot;bicycle&quot;, &quot;iconColor&quot;: &quot;white&quot;, &quot;markerColor&quot;: &quot;blue&quot;, &quot;prefix&quot;: &quot;fa&quot;}\n",
       "            );\n",
       "            marker_a68f91bb5413e76f35197aaed5b24fb7.setIcon(icon_bf37f7e9f6a43cf2603c04cbdc40df72);\n",
       "        \n",
       "    \n",
       "        var popup_4471268cb8d2d07767dd79d1d303218a = L.popup({&quot;maxWidth&quot;: &quot;100%&quot;});\n",
       "\n",
       "        \n",
       "            \n",
       "                var html_c42fa76898aef74b5f9f4cc8ac6d0a65 = $(`&lt;div id=&quot;html_c42fa76898aef74b5f9f4cc8ac6d0a65&quot; style=&quot;width: 100.0%; height: 100.0%;&quot;&gt;(&#x27;104&#x27;, 2181)&lt;/div&gt;`)[0];\n",
       "                popup_4471268cb8d2d07767dd79d1d303218a.setContent(html_c42fa76898aef74b5f9f4cc8ac6d0a65);\n",
       "            \n",
       "        \n",
       "\n",
       "        marker_a68f91bb5413e76f35197aaed5b24fb7.bindPopup(popup_4471268cb8d2d07767dd79d1d303218a)\n",
       "        ;\n",
       "\n",
       "        \n",
       "    \n",
       "    \n",
       "            var poly_line_2bb3be76b26279289825bd709a370f25 = L.polyline(\n",
       "                [[42.3581, -71.093198], [42.3619622, -71.0920526]],\n",
       "                {&quot;bubblingMouseEvents&quot;: true, &quot;color&quot;: &quot;red&quot;, &quot;dashArray&quot;: null, &quot;dashOffset&quot;: null, &quot;fill&quot;: false, &quot;fillColor&quot;: &quot;red&quot;, &quot;fillOpacity&quot;: 0.2, &quot;fillRule&quot;: &quot;evenodd&quot;, &quot;lineCap&quot;: &quot;round&quot;, &quot;lineJoin&quot;: &quot;round&quot;, &quot;noClip&quot;: false, &quot;opacity&quot;: 1, &quot;smoothFactor&quot;: 1.0, &quot;stroke&quot;: true, &quot;weight&quot;: 2.5}\n",
       "            ).addTo(map_b6c5e454b1d58fe21ba6261bf8fd1fb7);\n",
       "        \n",
       "    \n",
       "            var marker_177b609460b0df6da6005e8f8087c72e = L.marker(\n",
       "                [42.3581, -71.093198],\n",
       "                {}\n",
       "            ).addTo(map_b6c5e454b1d58fe21ba6261bf8fd1fb7);\n",
       "        \n",
       "    \n",
       "            var icon_4051f7457d6aff3add44a0790cfbcc16 = L.AwesomeMarkers.icon(\n",
       "                {&quot;extraClasses&quot;: &quot;fa-rotate-0&quot;, &quot;icon&quot;: &quot;bicycle&quot;, &quot;iconColor&quot;: &quot;white&quot;, &quot;markerColor&quot;: &quot;blue&quot;, &quot;prefix&quot;: &quot;fa&quot;}\n",
       "            );\n",
       "            marker_177b609460b0df6da6005e8f8087c72e.setIcon(icon_4051f7457d6aff3add44a0790cfbcc16);\n",
       "        \n",
       "    \n",
       "        var popup_48218768546a692d15462f591d2a49e2 = L.popup({&quot;maxWidth&quot;: &quot;100%&quot;});\n",
       "\n",
       "        \n",
       "            \n",
       "                var html_95f1bd169386c0b64056e796857b7c82 = $(`&lt;div id=&quot;html_95f1bd169386c0b64056e796857b7c82&quot; style=&quot;width: 100.0%; height: 100.0%;&quot;&gt;(67, 2110)&lt;/div&gt;`)[0];\n",
       "                popup_48218768546a692d15462f591d2a49e2.setContent(html_95f1bd169386c0b64056e796857b7c82);\n",
       "            \n",
       "        \n",
       "\n",
       "        marker_177b609460b0df6da6005e8f8087c72e.bindPopup(popup_48218768546a692d15462f591d2a49e2)\n",
       "        ;\n",
       "\n",
       "        \n",
       "    \n",
       "    \n",
       "            var marker_5109b605713c4fe0f7500fbbd015dc26 = L.marker(\n",
       "                [42.3619622, -71.0920526],\n",
       "                {}\n",
       "            ).addTo(map_b6c5e454b1d58fe21ba6261bf8fd1fb7);\n",
       "        \n",
       "    \n",
       "            var icon_f06fa7209616ddb8cc449ef3986577b1 = L.AwesomeMarkers.icon(\n",
       "                {&quot;extraClasses&quot;: &quot;fa-rotate-0&quot;, &quot;icon&quot;: &quot;bicycle&quot;, &quot;iconColor&quot;: &quot;white&quot;, &quot;markerColor&quot;: &quot;blue&quot;, &quot;prefix&quot;: &quot;fa&quot;}\n",
       "            );\n",
       "            marker_5109b605713c4fe0f7500fbbd015dc26.setIcon(icon_f06fa7209616ddb8cc449ef3986577b1);\n",
       "        \n",
       "    \n",
       "        var popup_7c2ac7873093770e1b49d660f39859de = L.popup({&quot;maxWidth&quot;: &quot;100%&quot;});\n",
       "\n",
       "        \n",
       "            \n",
       "                var html_1c63250c1e9d45a80047f0853b323ea1 = $(`&lt;div id=&quot;html_1c63250c1e9d45a80047f0853b323ea1&quot; style=&quot;width: 100.0%; height: 100.0%;&quot;&gt;(&#x27;80&#x27;, 2110)&lt;/div&gt;`)[0];\n",
       "                popup_7c2ac7873093770e1b49d660f39859de.setContent(html_1c63250c1e9d45a80047f0853b323ea1);\n",
       "            \n",
       "        \n",
       "\n",
       "        marker_5109b605713c4fe0f7500fbbd015dc26.bindPopup(popup_7c2ac7873093770e1b49d660f39859de)\n",
       "        ;\n",
       "\n",
       "        \n",
       "    \n",
       "&lt;/script&gt;\n",
       "&lt;/html&gt;\" style=\"position:absolute;width:100%;height:100%;left:0;top:0;border:none !important;\" allowfullscreen webkitallowfullscreen mozallowfullscreen></iframe></div></div>"
      ],
      "text/plain": [
       "<folium.folium.Map at 0x7f85ba1bab50>"
      ]
     },
     "execution_count": 12,
     "metadata": {},
     "output_type": "execute_result"
    }
   ],
   "source": [
    "#mapping the top trips \n",
    "\n",
    "\n",
    "avg_lat = df_trips['start_station_latitude'].mean()\n",
    "avg_long = df_trips['start_station_longitude'].mean()\n",
    "\n",
    "m = folium.Map(location=[avg_lat, avg_long], zoom_start=15)\n",
    "\n",
    "points = []\n",
    "\n",
    "\n",
    "for i in range(0,len(df_top_trips)):\n",
    "    points.append([df_top_trips.iloc[i]['start_station_latitude'],df_top_trips.iloc[i]['start_station_longitude']])\n",
    "    points.append([df_top_trips.iloc[i]['end_station_latitude'],df_top_trips.iloc[i]['end_station_longitude']])\n",
    "    folium.PolyLine(points, color=\"red\", weight=2.5, opacity=1).add_to(m)\n",
    "    folium.Marker([df_top_trips.iloc[i]['start_station_latitude'],df_top_trips.iloc[i]['start_station_longitude']],popup=(df_top_trips.iloc[i]['Station_A'], df_top_trips.iloc[i]['count_trips' ]), icon = folium.Icon(color='blue',prefix='fa', icon='bicycle')).add_to(m)\n",
    "    folium.Marker([df_top_trips.iloc[i]['end_station_latitude'],df_top_trips.iloc[i]['end_station_longitude']],popup=(df_top_trips.iloc[i]['Station_B'], df_top_trips.iloc[i]['count_trips' ]), icon = folium.Icon(color='blue',prefix='fa', icon='bicycle')).add_to(m)\n",
    "    points = [] #if points is not reseted then each station will be connected with every other station in array\n",
    "\n",
    "m \n",
    "\n",
    "#findings: near universities (harvard and mit) as well as around citycenter(haymarket) and the trainstations (north and south)"
   ]
  }
 ],
 "metadata": {
  "kernelspec": {
   "display_name": "AAproject",
   "language": "python",
   "name": "python3"
  },
  "language_info": {
   "codemirror_mode": {
    "name": "ipython",
    "version": 3
   },
   "file_extension": ".py",
   "mimetype": "text/x-python",
   "name": "python",
   "nbconvert_exporter": "python",
   "pygments_lexer": "ipython3",
   "version": "3.9.15"
  },
  "orig_nbformat": 4,
  "vscode": {
   "interpreter": {
    "hash": "4bda6f00b1c96ac5a9a9d5d0da9c426f670222a35f5423f5287bfe0ddc8184d4"
   }
  }
 },
 "nbformat": 4,
 "nbformat_minor": 2
}
