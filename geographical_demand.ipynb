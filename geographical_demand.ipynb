{
 "cells": [
  {
   "cell_type": "code",
   "execution_count": 35,
   "metadata": {},
   "outputs": [],
   "source": [
    "import pandas as pd\n",
    "import numpy as np\n",
    "import folium\n",
    "import plotly.express as px\n",
    "import seaborn as sns\n",
    "from folium import plugins\n",
    "from folium.plugins import HeatMap"
   ]
  },
  {
   "attachments": {},
   "cell_type": "markdown",
   "metadata": {},
   "source": [
    "# Load processed dataframe"
   ]
  },
  {
   "cell_type": "code",
   "execution_count": 36,
   "metadata": {},
   "outputs": [
    {
     "name": "stdout",
     "output_type": "stream",
     "text": [
      "<class 'pandas.core.frame.DataFrame'>\n",
      "RangeIndex: 1122554 entries, 0 to 1122553\n",
      "Data columns (total 14 columns):\n",
      " #   Column                   Non-Null Count    Dtype         \n",
      "---  ------                   --------------    -----         \n",
      " 0   Unnamed: 0               1122554 non-null  int64         \n",
      " 1   start_time               1122554 non-null  datetime64[ns]\n",
      " 2   end_time                 1122554 non-null  datetime64[ns]\n",
      " 3   start_station_id         1122554 non-null  int64         \n",
      " 4   end_station_id           1122554 non-null  string        \n",
      " 5   start_station_name       1122554 non-null  string        \n",
      " 6   end_station_name         1122554 non-null  string        \n",
      " 7   bike_id                  1122554 non-null  int64         \n",
      " 8   user_type                1122554 non-null  string        \n",
      " 9   trip_length              1122554 non-null  float64       \n",
      " 10  start_station_latitude   1122554 non-null  float64       \n",
      " 11  start_station_longitude  1122554 non-null  float64       \n",
      " 12  end_station_latitude     1122554 non-null  float64       \n",
      " 13  end_station_longitude    1122554 non-null  float64       \n",
      "dtypes: datetime64[ns](2), float64(5), int64(3), string(4)\n",
      "memory usage: 119.9 MB\n"
     ]
    }
   ],
   "source": [
    "df_boston = pd.read_csv('./data/prepared/rides_data_prepared.csv', dtype={'start_station_id': np.int64, 'end_station_id': 'string', 'end_station_name': 'string', 'start_station_name': 'string', 'bike_id': np.int64, 'user_type': 'string'})\n",
    "df_boston['start_time'] = pd.to_datetime(df_boston['start_time'], format='%Y-%m-%d %X')\n",
    "df_boston['end_time'] = pd.to_datetime(df_boston['end_time'], format='%Y-%m-%d %X')\n",
    "df_boston.info()"
   ]
  },
  {
   "attachments": {},
   "cell_type": "markdown",
   "metadata": {},
   "source": [
    "# Station analysis"
   ]
  },
  {
   "attachments": {},
   "cell_type": "markdown",
   "metadata": {},
   "source": [
    "## Starts stations volume  per year\n",
    "Visualization which contains information on how many rides start at a respective station per year"
   ]
  },
  {
   "cell_type": "code",
   "execution_count": 37,
   "metadata": {},
   "outputs": [
    {
     "data": {
      "application/vnd.plotly.v1+json": {
       "config": {
        "plotlyServerURL": "https://plot.ly"
       },
       "data": [
        {
         "hovertemplate": "counts_start=%{marker.color}<br>start_station_latitude=%{lat}<br>start_station_longitude=%{lon}<extra></extra>",
         "lat": [
          42.387151,
          42.340021,
          42.345392,
          42.341814,
          42.361174,
          42.35328743453294,
          42.353334,
          42.351246,
          42.350406,
          42.338629,
          42.335911,
          42.336437,
          42.337171,
          42.361667,
          42.34807412317439,
          42.365064,
          42.347241,
          42.35977,
          42.345959,
          42.352175,
          42.35892,
          42.351205,
          42.341332,
          42.341522,
          42.331184,
          42.363732,
          42.334073,
          42.348833,
          42.343912,
          42.348706,
          42.355402,
          42.349673,
          42.357402,
          42.366222,
          42.338623,
          42.363871,
          42.352261,
          42.352033,
          42.357143,
          42.360613,
          42.344706,
          42.343864,
          42.362811,
          42.356755,
          42.351146,
          42.350989,
          42.3348756,
          42.348717,
          42.350851,
          42.354979,
          42.347265,
          42.328654,
          42.340799,
          42.355596,
          42.351356,
          42.360835,
          42.348762,
          42.344023,
          42.3511,
          42.3475,
          42.348607,
          42.3581,
          42.36507,
          42.341598,
          42.371196,
          42.383405,
          42.362613,
          42.373231,
          42.373268,
          42.36346469304347,
          42.366426,
          42.386844,
          42.379637,
          42.37842,
          42.3619622,
          42.352409,
          42.339335,
          42.366981,
          42.378338,
          42.332799,
          42.366621,
          42.374035,
          42.379011,
          42.370677,
          42.366277,
          42.314507,
          42.320494,
          42.375603,
          42.372969,
          42.373379,
          42.36919031768079,
          42.371848,
          42.385582,
          42.396969,
          42.400877,
          42.346563,
          42.380287,
          42.356954,
          42.325333,
          42.3625,
          42.377945,
          42.365942,
          42.376369,
          42.40449,
          42.39082,
          42.330716,
          42.402763,
          42.387995,
          42.370803,
          42.366095,
          42.397828,
          42.335741,
          42.356052,
          42.335693,
          42.345733,
          42.313156,
          42.309054,
          42.320998,
          42.315692,
          42.320561,
          42.377022,
          42.317225,
          42.322701,
          42.394002,
          42.310579,
          42.350413,
          42.344827,
          42.344796,
          42.398365,
          42.326599,
          42.361589,
          42.388966,
          42.36356015842989,
          42.396105,
          42.369885,
          42.392766,
          42.363796,
          42.344137,
          42.358155,
          42.345901,
          42.32797270205962,
          42.337596,
          42.3391085,
          42.309796,
          42.344792,
          42.317642,
          42.378965,
          42.303469,
          42.37408991426522,
          42.34900494405213,
          42.34894857235593,
          42.38674802045056,
          42.36264779118595,
          42.35957320109044,
          42.35560121327927,
          42.37478628706384
         ],
         "legendgroup": "",
         "lon": [
          -71.075978,
          -71.100812,
          -71.069616,
          -71.090179,
          -71.065142,
          -71.04438900947571,
          -71.137313,
          -71.115639,
          -71.108279,
          -71.1065,
          -71.088496,
          -71.073089,
          -71.102797,
          -71.13802,
          -71.07657015323639,
          -71.119233,
          -71.105301,
          -71.051601,
          -71.082578,
          -71.055547,
          -71.057629,
          -71.043983,
          -71.076847,
          -71.068922,
          -71.095171,
          -71.124565,
          -71.105221,
          -71.041747,
          -71.102221,
          -71.097009,
          -71.058087,
          -71.077303,
          -71.147782,
          -71.059914,
          -71.074182,
          -71.050877,
          -71.123831,
          -71.070627,
          -71.050699,
          -71.057452,
          -71.097515,
          -71.085918,
          -71.056067,
          -71.055407,
          -71.066289,
          -71.073644,
          -71.0790969,
          -71.085954,
          -71.089886,
          -71.063348,
          -71.088088,
          -71.084198,
          -71.081572,
          -71.07278,
          -71.059367,
          -71.0708399,
          -71.082383,
          -71.057054,
          -71.0496,
          -71.0441,
          -71.13401,
          -71.093198,
          -71.1031,
          -71.123338,
          -71.121473,
          -71.107593,
          -71.084105,
          -71.120886,
          -71.118579,
          -71.10057324171066,
          -71.105495,
          -71.09812,
          -71.095319,
          -71.105668,
          -71.0920526,
          -71.062679,
          -71.13493,
          -71.076472,
          -71.048927,
          -71.116205,
          -71.114214,
          -71.101427,
          -71.119945,
          -71.076529,
          -71.09169,
          -71.041269,
          -71.051122,
          -71.064608,
          -71.094445,
          -71.111075,
          -71.11714124679565,
          -71.060292,
          -71.113341,
          -71.123024,
          -71.116772,
          -71.128374,
          -71.125107,
          -71.113687,
          -71.075354,
          -71.08822,
          -71.116865,
          -71.060515,
          -71.114025,
          -71.123413,
          -71.10942,
          -71.057044,
          -71.126908,
          -71.119084,
          -71.104412,
          -71.086388,
          -71.130516,
          -71.03877,
          -71.069849,
          -71.045859,
          -71.100694,
          -71.11414,
          -71.11543,
          -71.110833,
          -71.098634,
          -71.06198,
          -71.056605,
          -71.065421,
          -71.099533,
          -71.120406,
          -71.107341,
          -71.07655,
          -71.028664,
          -71.031614,
          -71.107818,
          -71.066498,
          -71.107437,
          -71.132788,
          -71.08216792345047,
          -71.139459,
          -71.069957,
          -71.129042,
          -71.129164,
          -71.052608,
          -71.052163,
          -71.063187,
          -71.11089706420898,
          -71.096391,
          -71.0514432,
          -71.092225,
          -71.044024,
          -71.056664,
          -71.068607,
          -71.085347,
          -71.06905996799469,
          -71.1604106426239,
          -71.15027189254761,
          -71.11901879310608,
          -71.10006093978882,
          -71.10129475593567,
          -71.10394477844238,
          -71.13320231437683
         ],
         "marker": {
          "color": [
           56,
           5018,
           9512,
           6175,
           13018,
           4725,
           3692,
           8505,
           7237,
           7868,
           6364,
           8917,
           9529,
           2028,
           16706,
           6540,
           6841,
           12324,
           12611,
           30798,
           14419,
           6591,
           8093,
           9105,
           4285,
           3088,
           5292,
           7414,
           7761,
           14515,
           10305,
           19291,
           1246,
           11839,
           9377,
           11232,
           7826,
           13130,
           12612,
           7356,
           9788,
           11884,
           14686,
           10844,
           7703,
           8869,
           2833,
           10405,
           13867,
           12413,
           11334,
           1636,
           8676,
           13212,
           8346,
           17291,
           12654,
           3568,
           9623,
           4774,
           5126,
           29597,
           21444,
           6215,
           7916,
           5320,
           14491,
           10572,
           22679,
           19366,
           14245,
           2052,
           6237,
           4618,
           16882,
           10343,
           3194,
           10120,
           4964,
           4017,
           10039,
           13272,
           6395,
           10910,
           14141,
           658,
           1442,
           6064,
           10397,
           9764,
           6178,
           11411,
           3758,
           10176,
           1700,
           3348,
           6415,
           11253,
           624,
           14748,
           7825,
           18678,
           9458,
           1861,
           2387,
           2688,
           3258,
           10712,
           9162,
           7060,
           5649,
           4382,
           9357,
           4898,
           2891,
           2096,
           2071,
           3458,
           1148,
           703,
           2447,
           761,
           3141,
           1565,
           3154,
           5766,
           3260,
           3906,
           1266,
           1196,
           5896,
           2831,
           6607,
           3537,
           5875,
           1452,
           5127,
           5196,
           7137,
           5773,
           192,
           748,
           706,
           65,
           558,
           88,
           653,
           46,
           280,
           116,
           240,
           287,
           858,
           1197,
           894,
           253
          ],
          "coloraxis": "coloraxis",
          "size": [
           56,
           5018,
           9512,
           6175,
           13018,
           4725,
           3692,
           8505,
           7237,
           7868,
           6364,
           8917,
           9529,
           2028,
           16706,
           6540,
           6841,
           12324,
           12611,
           30798,
           14419,
           6591,
           8093,
           9105,
           4285,
           3088,
           5292,
           7414,
           7761,
           14515,
           10305,
           19291,
           1246,
           11839,
           9377,
           11232,
           7826,
           13130,
           12612,
           7356,
           9788,
           11884,
           14686,
           10844,
           7703,
           8869,
           2833,
           10405,
           13867,
           12413,
           11334,
           1636,
           8676,
           13212,
           8346,
           17291,
           12654,
           3568,
           9623,
           4774,
           5126,
           29597,
           21444,
           6215,
           7916,
           5320,
           14491,
           10572,
           22679,
           19366,
           14245,
           2052,
           6237,
           4618,
           16882,
           10343,
           3194,
           10120,
           4964,
           4017,
           10039,
           13272,
           6395,
           10910,
           14141,
           658,
           1442,
           6064,
           10397,
           9764,
           6178,
           11411,
           3758,
           10176,
           1700,
           3348,
           6415,
           11253,
           624,
           14748,
           7825,
           18678,
           9458,
           1861,
           2387,
           2688,
           3258,
           10712,
           9162,
           7060,
           5649,
           4382,
           9357,
           4898,
           2891,
           2096,
           2071,
           3458,
           1148,
           703,
           2447,
           761,
           3141,
           1565,
           3154,
           5766,
           3260,
           3906,
           1266,
           1196,
           5896,
           2831,
           6607,
           3537,
           5875,
           1452,
           5127,
           5196,
           7137,
           5773,
           192,
           748,
           706,
           65,
           558,
           88,
           653,
           46,
           280,
           116,
           240,
           287,
           858,
           1197,
           894,
           253
          ],
          "sizemode": "area",
          "sizeref": 76.995
         },
         "mode": "markers",
         "name": "",
         "showlegend": false,
         "subplot": "mapbox",
         "type": "scattermapbox"
        }
       ],
       "layout": {
        "coloraxis": {
         "colorbar": {
          "title": {
           "text": "counts_start"
          }
         },
         "colorscale": [
          [
           0,
           "orange"
          ],
          [
           1,
           "red"
          ]
         ]
        },
        "height": 800,
        "legend": {
         "itemsizing": "constant",
         "tracegroupgap": 0
        },
        "mapbox": {
         "center": {
          "lat": 42.355539267132464,
          "lon": -71.08955563028009
         },
         "domain": {
          "x": [
           0,
           1
          ],
          "y": [
           0,
           1
          ]
         },
         "style": "open-street-map",
         "zoom": 8
        },
        "margin": {
         "b": 0,
         "l": 0,
         "r": 0,
         "t": 0
        },
        "template": {
         "data": {
          "bar": [
           {
            "error_x": {
             "color": "#2a3f5f"
            },
            "error_y": {
             "color": "#2a3f5f"
            },
            "marker": {
             "line": {
              "color": "#E5ECF6",
              "width": 0.5
             },
             "pattern": {
              "fillmode": "overlay",
              "size": 10,
              "solidity": 0.2
             }
            },
            "type": "bar"
           }
          ],
          "barpolar": [
           {
            "marker": {
             "line": {
              "color": "#E5ECF6",
              "width": 0.5
             },
             "pattern": {
              "fillmode": "overlay",
              "size": 10,
              "solidity": 0.2
             }
            },
            "type": "barpolar"
           }
          ],
          "carpet": [
           {
            "aaxis": {
             "endlinecolor": "#2a3f5f",
             "gridcolor": "white",
             "linecolor": "white",
             "minorgridcolor": "white",
             "startlinecolor": "#2a3f5f"
            },
            "baxis": {
             "endlinecolor": "#2a3f5f",
             "gridcolor": "white",
             "linecolor": "white",
             "minorgridcolor": "white",
             "startlinecolor": "#2a3f5f"
            },
            "type": "carpet"
           }
          ],
          "choropleth": [
           {
            "colorbar": {
             "outlinewidth": 0,
             "ticks": ""
            },
            "type": "choropleth"
           }
          ],
          "contour": [
           {
            "colorbar": {
             "outlinewidth": 0,
             "ticks": ""
            },
            "colorscale": [
             [
              0,
              "#0d0887"
             ],
             [
              0.1111111111111111,
              "#46039f"
             ],
             [
              0.2222222222222222,
              "#7201a8"
             ],
             [
              0.3333333333333333,
              "#9c179e"
             ],
             [
              0.4444444444444444,
              "#bd3786"
             ],
             [
              0.5555555555555556,
              "#d8576b"
             ],
             [
              0.6666666666666666,
              "#ed7953"
             ],
             [
              0.7777777777777778,
              "#fb9f3a"
             ],
             [
              0.8888888888888888,
              "#fdca26"
             ],
             [
              1,
              "#f0f921"
             ]
            ],
            "type": "contour"
           }
          ],
          "contourcarpet": [
           {
            "colorbar": {
             "outlinewidth": 0,
             "ticks": ""
            },
            "type": "contourcarpet"
           }
          ],
          "heatmap": [
           {
            "colorbar": {
             "outlinewidth": 0,
             "ticks": ""
            },
            "colorscale": [
             [
              0,
              "#0d0887"
             ],
             [
              0.1111111111111111,
              "#46039f"
             ],
             [
              0.2222222222222222,
              "#7201a8"
             ],
             [
              0.3333333333333333,
              "#9c179e"
             ],
             [
              0.4444444444444444,
              "#bd3786"
             ],
             [
              0.5555555555555556,
              "#d8576b"
             ],
             [
              0.6666666666666666,
              "#ed7953"
             ],
             [
              0.7777777777777778,
              "#fb9f3a"
             ],
             [
              0.8888888888888888,
              "#fdca26"
             ],
             [
              1,
              "#f0f921"
             ]
            ],
            "type": "heatmap"
           }
          ],
          "heatmapgl": [
           {
            "colorbar": {
             "outlinewidth": 0,
             "ticks": ""
            },
            "colorscale": [
             [
              0,
              "#0d0887"
             ],
             [
              0.1111111111111111,
              "#46039f"
             ],
             [
              0.2222222222222222,
              "#7201a8"
             ],
             [
              0.3333333333333333,
              "#9c179e"
             ],
             [
              0.4444444444444444,
              "#bd3786"
             ],
             [
              0.5555555555555556,
              "#d8576b"
             ],
             [
              0.6666666666666666,
              "#ed7953"
             ],
             [
              0.7777777777777778,
              "#fb9f3a"
             ],
             [
              0.8888888888888888,
              "#fdca26"
             ],
             [
              1,
              "#f0f921"
             ]
            ],
            "type": "heatmapgl"
           }
          ],
          "histogram": [
           {
            "marker": {
             "pattern": {
              "fillmode": "overlay",
              "size": 10,
              "solidity": 0.2
             }
            },
            "type": "histogram"
           }
          ],
          "histogram2d": [
           {
            "colorbar": {
             "outlinewidth": 0,
             "ticks": ""
            },
            "colorscale": [
             [
              0,
              "#0d0887"
             ],
             [
              0.1111111111111111,
              "#46039f"
             ],
             [
              0.2222222222222222,
              "#7201a8"
             ],
             [
              0.3333333333333333,
              "#9c179e"
             ],
             [
              0.4444444444444444,
              "#bd3786"
             ],
             [
              0.5555555555555556,
              "#d8576b"
             ],
             [
              0.6666666666666666,
              "#ed7953"
             ],
             [
              0.7777777777777778,
              "#fb9f3a"
             ],
             [
              0.8888888888888888,
              "#fdca26"
             ],
             [
              1,
              "#f0f921"
             ]
            ],
            "type": "histogram2d"
           }
          ],
          "histogram2dcontour": [
           {
            "colorbar": {
             "outlinewidth": 0,
             "ticks": ""
            },
            "colorscale": [
             [
              0,
              "#0d0887"
             ],
             [
              0.1111111111111111,
              "#46039f"
             ],
             [
              0.2222222222222222,
              "#7201a8"
             ],
             [
              0.3333333333333333,
              "#9c179e"
             ],
             [
              0.4444444444444444,
              "#bd3786"
             ],
             [
              0.5555555555555556,
              "#d8576b"
             ],
             [
              0.6666666666666666,
              "#ed7953"
             ],
             [
              0.7777777777777778,
              "#fb9f3a"
             ],
             [
              0.8888888888888888,
              "#fdca26"
             ],
             [
              1,
              "#f0f921"
             ]
            ],
            "type": "histogram2dcontour"
           }
          ],
          "mesh3d": [
           {
            "colorbar": {
             "outlinewidth": 0,
             "ticks": ""
            },
            "type": "mesh3d"
           }
          ],
          "parcoords": [
           {
            "line": {
             "colorbar": {
              "outlinewidth": 0,
              "ticks": ""
             }
            },
            "type": "parcoords"
           }
          ],
          "pie": [
           {
            "automargin": true,
            "type": "pie"
           }
          ],
          "scatter": [
           {
            "fillpattern": {
             "fillmode": "overlay",
             "size": 10,
             "solidity": 0.2
            },
            "type": "scatter"
           }
          ],
          "scatter3d": [
           {
            "line": {
             "colorbar": {
              "outlinewidth": 0,
              "ticks": ""
             }
            },
            "marker": {
             "colorbar": {
              "outlinewidth": 0,
              "ticks": ""
             }
            },
            "type": "scatter3d"
           }
          ],
          "scattercarpet": [
           {
            "marker": {
             "colorbar": {
              "outlinewidth": 0,
              "ticks": ""
             }
            },
            "type": "scattercarpet"
           }
          ],
          "scattergeo": [
           {
            "marker": {
             "colorbar": {
              "outlinewidth": 0,
              "ticks": ""
             }
            },
            "type": "scattergeo"
           }
          ],
          "scattergl": [
           {
            "marker": {
             "colorbar": {
              "outlinewidth": 0,
              "ticks": ""
             }
            },
            "type": "scattergl"
           }
          ],
          "scattermapbox": [
           {
            "marker": {
             "colorbar": {
              "outlinewidth": 0,
              "ticks": ""
             }
            },
            "type": "scattermapbox"
           }
          ],
          "scatterpolar": [
           {
            "marker": {
             "colorbar": {
              "outlinewidth": 0,
              "ticks": ""
             }
            },
            "type": "scatterpolar"
           }
          ],
          "scatterpolargl": [
           {
            "marker": {
             "colorbar": {
              "outlinewidth": 0,
              "ticks": ""
             }
            },
            "type": "scatterpolargl"
           }
          ],
          "scatterternary": [
           {
            "marker": {
             "colorbar": {
              "outlinewidth": 0,
              "ticks": ""
             }
            },
            "type": "scatterternary"
           }
          ],
          "surface": [
           {
            "colorbar": {
             "outlinewidth": 0,
             "ticks": ""
            },
            "colorscale": [
             [
              0,
              "#0d0887"
             ],
             [
              0.1111111111111111,
              "#46039f"
             ],
             [
              0.2222222222222222,
              "#7201a8"
             ],
             [
              0.3333333333333333,
              "#9c179e"
             ],
             [
              0.4444444444444444,
              "#bd3786"
             ],
             [
              0.5555555555555556,
              "#d8576b"
             ],
             [
              0.6666666666666666,
              "#ed7953"
             ],
             [
              0.7777777777777778,
              "#fb9f3a"
             ],
             [
              0.8888888888888888,
              "#fdca26"
             ],
             [
              1,
              "#f0f921"
             ]
            ],
            "type": "surface"
           }
          ],
          "table": [
           {
            "cells": {
             "fill": {
              "color": "#EBF0F8"
             },
             "line": {
              "color": "white"
             }
            },
            "header": {
             "fill": {
              "color": "#C8D4E3"
             },
             "line": {
              "color": "white"
             }
            },
            "type": "table"
           }
          ]
         },
         "layout": {
          "annotationdefaults": {
           "arrowcolor": "#2a3f5f",
           "arrowhead": 0,
           "arrowwidth": 1
          },
          "autotypenumbers": "strict",
          "coloraxis": {
           "colorbar": {
            "outlinewidth": 0,
            "ticks": ""
           }
          },
          "colorscale": {
           "diverging": [
            [
             0,
             "#8e0152"
            ],
            [
             0.1,
             "#c51b7d"
            ],
            [
             0.2,
             "#de77ae"
            ],
            [
             0.3,
             "#f1b6da"
            ],
            [
             0.4,
             "#fde0ef"
            ],
            [
             0.5,
             "#f7f7f7"
            ],
            [
             0.6,
             "#e6f5d0"
            ],
            [
             0.7,
             "#b8e186"
            ],
            [
             0.8,
             "#7fbc41"
            ],
            [
             0.9,
             "#4d9221"
            ],
            [
             1,
             "#276419"
            ]
           ],
           "sequential": [
            [
             0,
             "#0d0887"
            ],
            [
             0.1111111111111111,
             "#46039f"
            ],
            [
             0.2222222222222222,
             "#7201a8"
            ],
            [
             0.3333333333333333,
             "#9c179e"
            ],
            [
             0.4444444444444444,
             "#bd3786"
            ],
            [
             0.5555555555555556,
             "#d8576b"
            ],
            [
             0.6666666666666666,
             "#ed7953"
            ],
            [
             0.7777777777777778,
             "#fb9f3a"
            ],
            [
             0.8888888888888888,
             "#fdca26"
            ],
            [
             1,
             "#f0f921"
            ]
           ],
           "sequentialminus": [
            [
             0,
             "#0d0887"
            ],
            [
             0.1111111111111111,
             "#46039f"
            ],
            [
             0.2222222222222222,
             "#7201a8"
            ],
            [
             0.3333333333333333,
             "#9c179e"
            ],
            [
             0.4444444444444444,
             "#bd3786"
            ],
            [
             0.5555555555555556,
             "#d8576b"
            ],
            [
             0.6666666666666666,
             "#ed7953"
            ],
            [
             0.7777777777777778,
             "#fb9f3a"
            ],
            [
             0.8888888888888888,
             "#fdca26"
            ],
            [
             1,
             "#f0f921"
            ]
           ]
          },
          "colorway": [
           "#636efa",
           "#EF553B",
           "#00cc96",
           "#ab63fa",
           "#FFA15A",
           "#19d3f3",
           "#FF6692",
           "#B6E880",
           "#FF97FF",
           "#FECB52"
          ],
          "font": {
           "color": "#2a3f5f"
          },
          "geo": {
           "bgcolor": "white",
           "lakecolor": "white",
           "landcolor": "#E5ECF6",
           "showlakes": true,
           "showland": true,
           "subunitcolor": "white"
          },
          "hoverlabel": {
           "align": "left"
          },
          "hovermode": "closest",
          "mapbox": {
           "style": "light"
          },
          "paper_bgcolor": "white",
          "plot_bgcolor": "#E5ECF6",
          "polar": {
           "angularaxis": {
            "gridcolor": "white",
            "linecolor": "white",
            "ticks": ""
           },
           "bgcolor": "#E5ECF6",
           "radialaxis": {
            "gridcolor": "white",
            "linecolor": "white",
            "ticks": ""
           }
          },
          "scene": {
           "xaxis": {
            "backgroundcolor": "#E5ECF6",
            "gridcolor": "white",
            "gridwidth": 2,
            "linecolor": "white",
            "showbackground": true,
            "ticks": "",
            "zerolinecolor": "white"
           },
           "yaxis": {
            "backgroundcolor": "#E5ECF6",
            "gridcolor": "white",
            "gridwidth": 2,
            "linecolor": "white",
            "showbackground": true,
            "ticks": "",
            "zerolinecolor": "white"
           },
           "zaxis": {
            "backgroundcolor": "#E5ECF6",
            "gridcolor": "white",
            "gridwidth": 2,
            "linecolor": "white",
            "showbackground": true,
            "ticks": "",
            "zerolinecolor": "white"
           }
          },
          "shapedefaults": {
           "line": {
            "color": "#2a3f5f"
           }
          },
          "ternary": {
           "aaxis": {
            "gridcolor": "white",
            "linecolor": "white",
            "ticks": ""
           },
           "baxis": {
            "gridcolor": "white",
            "linecolor": "white",
            "ticks": ""
           },
           "bgcolor": "#E5ECF6",
           "caxis": {
            "gridcolor": "white",
            "linecolor": "white",
            "ticks": ""
           }
          },
          "title": {
           "x": 0.05
          },
          "xaxis": {
           "automargin": true,
           "gridcolor": "white",
           "linecolor": "white",
           "ticks": "",
           "title": {
            "standoff": 15
           },
           "zerolinecolor": "white",
           "zerolinewidth": 2
          },
          "yaxis": {
           "automargin": true,
           "gridcolor": "white",
           "linecolor": "white",
           "ticks": "",
           "title": {
            "standoff": 15
           },
           "zerolinecolor": "white",
           "zerolinewidth": 2
          }
         }
        },
        "width": 800
       }
      }
     },
     "metadata": {},
     "output_type": "display_data"
    }
   ],
   "source": [
    "df_start = df_boston.groupby(['start_station_id','start_station_latitude', 'start_station_longitude']).size().reset_index(name='counts_start')\n",
    "\n",
    "\n",
    "color_scale = [(0, 'orange'), (1,'red')]\n",
    "\n",
    "fig = px.scatter_mapbox(df_start, \n",
    "                        lat=\"start_station_latitude\", \n",
    "                        lon=\"start_station_longitude\", \n",
    "                        color='counts_start',\n",
    "                        color_continuous_scale=color_scale,\n",
    "                        size='counts_start',\n",
    "                        zoom=8, \n",
    "                        height=800,\n",
    "                        width=800)\n",
    "\n",
    "\n",
    "fig.update_layout(mapbox_style=\"open-street-map\")\n",
    "fig.update_layout(margin={\"r\":0,\"t\":0,\"l\":0,\"b\":0})\n",
    "fig.show()"
   ]
  },
  {
   "attachments": {},
   "cell_type": "markdown",
   "metadata": {},
   "source": [
    "## End station rides volume\n",
    "Visualization which contains information on how many rides end at a respective station per year"
   ]
  },
  {
   "cell_type": "code",
   "execution_count": 38,
   "metadata": {},
   "outputs": [
    {
     "data": {
      "application/vnd.plotly.v1+json": {
       "config": {
        "plotlyServerURL": "https://plot.ly"
       },
       "data": [
        {
         "hovertemplate": "counts_end=%{marker.color}<br>end_station_latitude=%{lat}<br>end_station_longitude=%{lon}<extra></extra>",
         "lat": [
          42.387151,
          42.350406,
          42.396969,
          42.400877,
          42.346563,
          42.380287,
          42.356954,
          42.325333,
          42.3625,
          42.377945,
          42.365942,
          42.338629,
          42.376369,
          42.40449,
          42.39082,
          42.330716,
          42.402763,
          42.387995,
          42.370803,
          42.366095,
          42.397828,
          42.335741,
          42.335911,
          42.356052,
          42.335693,
          42.345733,
          42.313156,
          42.309054,
          42.320998,
          42.315692,
          42.320561,
          42.377022,
          42.336437,
          42.317225,
          42.322701,
          42.394002,
          42.310579,
          42.350413,
          42.344827,
          42.344796,
          42.398365,
          42.326599,
          42.361589,
          42.337171,
          42.388966,
          42.36356015842989,
          42.396105,
          42.369885,
          42.392766,
          42.363796,
          42.361667,
          42.344137,
          42.358155,
          42.345901,
          42.32797270205962,
          42.34807412317439,
          42.337596,
          42.3391085,
          42.309796,
          42.344792,
          42.317642,
          42.378965,
          42.365064,
          42.303469,
          42.37408991426522,
          42.34900494405213,
          42.34894857235593,
          42.38674802045056,
          42.36264779118595,
          42.35957320109044,
          42.35560121327927,
          42.37478628706384,
          42.347241,
          42.35977,
          42.345959,
          42.352175,
          42.35892,
          42.351205,
          42.341332,
          42.341522,
          42.331184,
          42.363732,
          42.340021,
          42.334073,
          42.348833,
          42.343912,
          42.348706,
          42.355402,
          42.349673,
          42.357402,
          42.366222,
          42.338623,
          42.345392,
          42.363871,
          42.352261,
          42.352033,
          42.357143,
          42.360613,
          42.344706,
          42.343864,
          42.362811,
          42.356755,
          42.351146,
          42.341814,
          42.350989,
          42.3348756,
          42.348717,
          42.350851,
          42.354979,
          42.347265,
          42.328654,
          42.340799,
          42.355596,
          42.351356,
          42.361174,
          42.360835,
          42.348762,
          42.344023,
          42.3511,
          42.3475,
          42.348607,
          42.3581,
          42.36507,
          42.341598,
          42.35328743453294,
          42.371196,
          42.383405,
          42.362613,
          42.373231,
          42.373268,
          42.36346469304347,
          42.366426,
          42.386844,
          42.379637,
          42.37842,
          42.353334,
          42.3619622,
          42.352409,
          42.339335,
          42.366981,
          42.378338,
          42.332799,
          42.366621,
          42.374035,
          42.379011,
          42.351246,
          42.370677,
          42.366277,
          42.314507,
          42.320494,
          42.375603,
          42.372969,
          42.373379,
          42.36919031768079,
          42.371848,
          42.385582
         ],
         "legendgroup": "",
         "lon": [
          -71.075978,
          -71.108279,
          -71.123024,
          -71.116772,
          -71.128374,
          -71.125107,
          -71.113687,
          -71.075354,
          -71.08822,
          -71.116865,
          -71.060515,
          -71.1065,
          -71.114025,
          -71.123413,
          -71.10942,
          -71.057044,
          -71.126908,
          -71.119084,
          -71.104412,
          -71.086388,
          -71.130516,
          -71.03877,
          -71.088496,
          -71.069849,
          -71.045859,
          -71.100694,
          -71.11414,
          -71.11543,
          -71.110833,
          -71.098634,
          -71.06198,
          -71.056605,
          -71.073089,
          -71.065421,
          -71.099533,
          -71.120406,
          -71.107341,
          -71.07655,
          -71.028664,
          -71.031614,
          -71.107818,
          -71.066498,
          -71.107437,
          -71.102797,
          -71.132788,
          -71.08216792345047,
          -71.139459,
          -71.069957,
          -71.129042,
          -71.129164,
          -71.13802,
          -71.052608,
          -71.052163,
          -71.063187,
          -71.11089706420898,
          -71.07657015323639,
          -71.096391,
          -71.0514432,
          -71.092225,
          -71.044024,
          -71.056664,
          -71.068607,
          -71.119233,
          -71.085347,
          -71.06905996799469,
          -71.1604106426239,
          -71.15027189254761,
          -71.11901879310608,
          -71.10006093978882,
          -71.10129475593567,
          -71.10394477844238,
          -71.13320231437683,
          -71.105301,
          -71.051601,
          -71.082578,
          -71.055547,
          -71.057629,
          -71.043983,
          -71.076847,
          -71.068922,
          -71.095171,
          -71.124565,
          -71.100812,
          -71.105221,
          -71.041747,
          -71.102221,
          -71.097009,
          -71.058087,
          -71.077303,
          -71.147782,
          -71.059914,
          -71.074182,
          -71.069616,
          -71.050877,
          -71.123831,
          -71.070627,
          -71.050699,
          -71.057452,
          -71.097515,
          -71.085918,
          -71.056067,
          -71.055407,
          -71.066289,
          -71.090179,
          -71.073644,
          -71.0790969,
          -71.085954,
          -71.089886,
          -71.063348,
          -71.088088,
          -71.084198,
          -71.081572,
          -71.07278,
          -71.059367,
          -71.065142,
          -71.0708399,
          -71.082383,
          -71.057054,
          -71.0496,
          -71.0441,
          -71.13401,
          -71.093198,
          -71.1031,
          -71.123338,
          -71.04438900947571,
          -71.121473,
          -71.107593,
          -71.084105,
          -71.120886,
          -71.118579,
          -71.10057324171066,
          -71.105495,
          -71.09812,
          -71.095319,
          -71.105668,
          -71.137313,
          -71.0920526,
          -71.062679,
          -71.13493,
          -71.076472,
          -71.048927,
          -71.116205,
          -71.114214,
          -71.101427,
          -71.119945,
          -71.115639,
          -71.076529,
          -71.09169,
          -71.041269,
          -71.051122,
          -71.064608,
          -71.094445,
          -71.111075,
          -71.11714124679565,
          -71.060292,
          -71.113341
         ],
         "marker": {
          "color": [
           154,
           7630,
           11822,
           1590,
           2862,
           6220,
           11181,
           569,
           15146,
           7898,
           20524,
           8897,
           9560,
           1781,
           1673,
           2536,
           2110,
           10342,
           7912,
           6922,
           5480,
           4593,
           6454,
           8886,
           4416,
           3107,
           2290,
           2072,
           3133,
           896,
           779,
           2619,
           9041,
           609,
           2932,
           1775,
           3300,
           5851,
           3366,
           4018,
           1352,
           1322,
           5404,
           9368,
           2792,
           6622,
           3676,
           5822,
           1527,
           4933,
           2156,
           5254,
           7392,
           5813,
           142,
           15878,
           736,
           733,
           40,
           511,
           99,
           584,
           6369,
           39,
           239,
           127,
           229,
           317,
           760,
           1079,
           835,
           244,
           7089,
           11841,
           12913,
           31284,
           13568,
           6181,
           7307,
           9081,
           4055,
           3194,
           5007,
           5118,
           7095,
           7984,
           14661,
           10178,
           19874,
           1309,
           14900,
           9596,
           8975,
           10789,
           7623,
           14052,
           12548,
           7140,
           9765,
           11674,
           13723,
           11174,
           7823,
           6289,
           9390,
           2926,
           10223,
           13384,
           12452,
           11244,
           1629,
           7796,
           12930,
           8838,
           12632,
           16850,
           12668,
           3584,
           10734,
           4647,
           4535,
           29905,
           20886,
           6200,
           5284,
           8541,
           5246,
           13990,
           10806,
           23590,
           19056,
           13936,
           1782,
           6587,
           4375,
           3764,
           21720,
           10535,
           2587,
           10657,
           5111,
           4220,
           8926,
           12103,
           6333,
           8768,
           11007,
           13498,
           659,
           1624,
           5603,
           9657,
           9553,
           6197,
           10700,
           3536
          ],
          "coloraxis": "coloraxis",
          "size": [
           154,
           7630,
           11822,
           1590,
           2862,
           6220,
           11181,
           569,
           15146,
           7898,
           20524,
           8897,
           9560,
           1781,
           1673,
           2536,
           2110,
           10342,
           7912,
           6922,
           5480,
           4593,
           6454,
           8886,
           4416,
           3107,
           2290,
           2072,
           3133,
           896,
           779,
           2619,
           9041,
           609,
           2932,
           1775,
           3300,
           5851,
           3366,
           4018,
           1352,
           1322,
           5404,
           9368,
           2792,
           6622,
           3676,
           5822,
           1527,
           4933,
           2156,
           5254,
           7392,
           5813,
           142,
           15878,
           736,
           733,
           40,
           511,
           99,
           584,
           6369,
           39,
           239,
           127,
           229,
           317,
           760,
           1079,
           835,
           244,
           7089,
           11841,
           12913,
           31284,
           13568,
           6181,
           7307,
           9081,
           4055,
           3194,
           5007,
           5118,
           7095,
           7984,
           14661,
           10178,
           19874,
           1309,
           14900,
           9596,
           8975,
           10789,
           7623,
           14052,
           12548,
           7140,
           9765,
           11674,
           13723,
           11174,
           7823,
           6289,
           9390,
           2926,
           10223,
           13384,
           12452,
           11244,
           1629,
           7796,
           12930,
           8838,
           12632,
           16850,
           12668,
           3584,
           10734,
           4647,
           4535,
           29905,
           20886,
           6200,
           5284,
           8541,
           5246,
           13990,
           10806,
           23590,
           19056,
           13936,
           1782,
           6587,
           4375,
           3764,
           21720,
           10535,
           2587,
           10657,
           5111,
           4220,
           8926,
           12103,
           6333,
           8768,
           11007,
           13498,
           659,
           1624,
           5603,
           9657,
           9553,
           6197,
           10700,
           3536
          ],
          "sizemode": "area",
          "sizeref": 78.21
         },
         "mode": "markers",
         "name": "",
         "showlegend": false,
         "subplot": "mapbox",
         "type": "scattermapbox"
        }
       ],
       "layout": {
        "coloraxis": {
         "colorbar": {
          "title": {
           "text": "counts_end"
          }
         },
         "colorscale": [
          [
           0,
           "orange"
          ],
          [
           1,
           "red"
          ]
         ]
        },
        "height": 800,
        "legend": {
         "itemsizing": "constant",
         "tracegroupgap": 0
        },
        "mapbox": {
         "center": {
          "lat": 42.355539267132464,
          "lon": -71.08955563028009
         },
         "domain": {
          "x": [
           0,
           1
          ],
          "y": [
           0,
           1
          ]
         },
         "style": "open-street-map",
         "zoom": 8
        },
        "margin": {
         "b": 0,
         "l": 0,
         "r": 0,
         "t": 0
        },
        "template": {
         "data": {
          "bar": [
           {
            "error_x": {
             "color": "#2a3f5f"
            },
            "error_y": {
             "color": "#2a3f5f"
            },
            "marker": {
             "line": {
              "color": "#E5ECF6",
              "width": 0.5
             },
             "pattern": {
              "fillmode": "overlay",
              "size": 10,
              "solidity": 0.2
             }
            },
            "type": "bar"
           }
          ],
          "barpolar": [
           {
            "marker": {
             "line": {
              "color": "#E5ECF6",
              "width": 0.5
             },
             "pattern": {
              "fillmode": "overlay",
              "size": 10,
              "solidity": 0.2
             }
            },
            "type": "barpolar"
           }
          ],
          "carpet": [
           {
            "aaxis": {
             "endlinecolor": "#2a3f5f",
             "gridcolor": "white",
             "linecolor": "white",
             "minorgridcolor": "white",
             "startlinecolor": "#2a3f5f"
            },
            "baxis": {
             "endlinecolor": "#2a3f5f",
             "gridcolor": "white",
             "linecolor": "white",
             "minorgridcolor": "white",
             "startlinecolor": "#2a3f5f"
            },
            "type": "carpet"
           }
          ],
          "choropleth": [
           {
            "colorbar": {
             "outlinewidth": 0,
             "ticks": ""
            },
            "type": "choropleth"
           }
          ],
          "contour": [
           {
            "colorbar": {
             "outlinewidth": 0,
             "ticks": ""
            },
            "colorscale": [
             [
              0,
              "#0d0887"
             ],
             [
              0.1111111111111111,
              "#46039f"
             ],
             [
              0.2222222222222222,
              "#7201a8"
             ],
             [
              0.3333333333333333,
              "#9c179e"
             ],
             [
              0.4444444444444444,
              "#bd3786"
             ],
             [
              0.5555555555555556,
              "#d8576b"
             ],
             [
              0.6666666666666666,
              "#ed7953"
             ],
             [
              0.7777777777777778,
              "#fb9f3a"
             ],
             [
              0.8888888888888888,
              "#fdca26"
             ],
             [
              1,
              "#f0f921"
             ]
            ],
            "type": "contour"
           }
          ],
          "contourcarpet": [
           {
            "colorbar": {
             "outlinewidth": 0,
             "ticks": ""
            },
            "type": "contourcarpet"
           }
          ],
          "heatmap": [
           {
            "colorbar": {
             "outlinewidth": 0,
             "ticks": ""
            },
            "colorscale": [
             [
              0,
              "#0d0887"
             ],
             [
              0.1111111111111111,
              "#46039f"
             ],
             [
              0.2222222222222222,
              "#7201a8"
             ],
             [
              0.3333333333333333,
              "#9c179e"
             ],
             [
              0.4444444444444444,
              "#bd3786"
             ],
             [
              0.5555555555555556,
              "#d8576b"
             ],
             [
              0.6666666666666666,
              "#ed7953"
             ],
             [
              0.7777777777777778,
              "#fb9f3a"
             ],
             [
              0.8888888888888888,
              "#fdca26"
             ],
             [
              1,
              "#f0f921"
             ]
            ],
            "type": "heatmap"
           }
          ],
          "heatmapgl": [
           {
            "colorbar": {
             "outlinewidth": 0,
             "ticks": ""
            },
            "colorscale": [
             [
              0,
              "#0d0887"
             ],
             [
              0.1111111111111111,
              "#46039f"
             ],
             [
              0.2222222222222222,
              "#7201a8"
             ],
             [
              0.3333333333333333,
              "#9c179e"
             ],
             [
              0.4444444444444444,
              "#bd3786"
             ],
             [
              0.5555555555555556,
              "#d8576b"
             ],
             [
              0.6666666666666666,
              "#ed7953"
             ],
             [
              0.7777777777777778,
              "#fb9f3a"
             ],
             [
              0.8888888888888888,
              "#fdca26"
             ],
             [
              1,
              "#f0f921"
             ]
            ],
            "type": "heatmapgl"
           }
          ],
          "histogram": [
           {
            "marker": {
             "pattern": {
              "fillmode": "overlay",
              "size": 10,
              "solidity": 0.2
             }
            },
            "type": "histogram"
           }
          ],
          "histogram2d": [
           {
            "colorbar": {
             "outlinewidth": 0,
             "ticks": ""
            },
            "colorscale": [
             [
              0,
              "#0d0887"
             ],
             [
              0.1111111111111111,
              "#46039f"
             ],
             [
              0.2222222222222222,
              "#7201a8"
             ],
             [
              0.3333333333333333,
              "#9c179e"
             ],
             [
              0.4444444444444444,
              "#bd3786"
             ],
             [
              0.5555555555555556,
              "#d8576b"
             ],
             [
              0.6666666666666666,
              "#ed7953"
             ],
             [
              0.7777777777777778,
              "#fb9f3a"
             ],
             [
              0.8888888888888888,
              "#fdca26"
             ],
             [
              1,
              "#f0f921"
             ]
            ],
            "type": "histogram2d"
           }
          ],
          "histogram2dcontour": [
           {
            "colorbar": {
             "outlinewidth": 0,
             "ticks": ""
            },
            "colorscale": [
             [
              0,
              "#0d0887"
             ],
             [
              0.1111111111111111,
              "#46039f"
             ],
             [
              0.2222222222222222,
              "#7201a8"
             ],
             [
              0.3333333333333333,
              "#9c179e"
             ],
             [
              0.4444444444444444,
              "#bd3786"
             ],
             [
              0.5555555555555556,
              "#d8576b"
             ],
             [
              0.6666666666666666,
              "#ed7953"
             ],
             [
              0.7777777777777778,
              "#fb9f3a"
             ],
             [
              0.8888888888888888,
              "#fdca26"
             ],
             [
              1,
              "#f0f921"
             ]
            ],
            "type": "histogram2dcontour"
           }
          ],
          "mesh3d": [
           {
            "colorbar": {
             "outlinewidth": 0,
             "ticks": ""
            },
            "type": "mesh3d"
           }
          ],
          "parcoords": [
           {
            "line": {
             "colorbar": {
              "outlinewidth": 0,
              "ticks": ""
             }
            },
            "type": "parcoords"
           }
          ],
          "pie": [
           {
            "automargin": true,
            "type": "pie"
           }
          ],
          "scatter": [
           {
            "fillpattern": {
             "fillmode": "overlay",
             "size": 10,
             "solidity": 0.2
            },
            "type": "scatter"
           }
          ],
          "scatter3d": [
           {
            "line": {
             "colorbar": {
              "outlinewidth": 0,
              "ticks": ""
             }
            },
            "marker": {
             "colorbar": {
              "outlinewidth": 0,
              "ticks": ""
             }
            },
            "type": "scatter3d"
           }
          ],
          "scattercarpet": [
           {
            "marker": {
             "colorbar": {
              "outlinewidth": 0,
              "ticks": ""
             }
            },
            "type": "scattercarpet"
           }
          ],
          "scattergeo": [
           {
            "marker": {
             "colorbar": {
              "outlinewidth": 0,
              "ticks": ""
             }
            },
            "type": "scattergeo"
           }
          ],
          "scattergl": [
           {
            "marker": {
             "colorbar": {
              "outlinewidth": 0,
              "ticks": ""
             }
            },
            "type": "scattergl"
           }
          ],
          "scattermapbox": [
           {
            "marker": {
             "colorbar": {
              "outlinewidth": 0,
              "ticks": ""
             }
            },
            "type": "scattermapbox"
           }
          ],
          "scatterpolar": [
           {
            "marker": {
             "colorbar": {
              "outlinewidth": 0,
              "ticks": ""
             }
            },
            "type": "scatterpolar"
           }
          ],
          "scatterpolargl": [
           {
            "marker": {
             "colorbar": {
              "outlinewidth": 0,
              "ticks": ""
             }
            },
            "type": "scatterpolargl"
           }
          ],
          "scatterternary": [
           {
            "marker": {
             "colorbar": {
              "outlinewidth": 0,
              "ticks": ""
             }
            },
            "type": "scatterternary"
           }
          ],
          "surface": [
           {
            "colorbar": {
             "outlinewidth": 0,
             "ticks": ""
            },
            "colorscale": [
             [
              0,
              "#0d0887"
             ],
             [
              0.1111111111111111,
              "#46039f"
             ],
             [
              0.2222222222222222,
              "#7201a8"
             ],
             [
              0.3333333333333333,
              "#9c179e"
             ],
             [
              0.4444444444444444,
              "#bd3786"
             ],
             [
              0.5555555555555556,
              "#d8576b"
             ],
             [
              0.6666666666666666,
              "#ed7953"
             ],
             [
              0.7777777777777778,
              "#fb9f3a"
             ],
             [
              0.8888888888888888,
              "#fdca26"
             ],
             [
              1,
              "#f0f921"
             ]
            ],
            "type": "surface"
           }
          ],
          "table": [
           {
            "cells": {
             "fill": {
              "color": "#EBF0F8"
             },
             "line": {
              "color": "white"
             }
            },
            "header": {
             "fill": {
              "color": "#C8D4E3"
             },
             "line": {
              "color": "white"
             }
            },
            "type": "table"
           }
          ]
         },
         "layout": {
          "annotationdefaults": {
           "arrowcolor": "#2a3f5f",
           "arrowhead": 0,
           "arrowwidth": 1
          },
          "autotypenumbers": "strict",
          "coloraxis": {
           "colorbar": {
            "outlinewidth": 0,
            "ticks": ""
           }
          },
          "colorscale": {
           "diverging": [
            [
             0,
             "#8e0152"
            ],
            [
             0.1,
             "#c51b7d"
            ],
            [
             0.2,
             "#de77ae"
            ],
            [
             0.3,
             "#f1b6da"
            ],
            [
             0.4,
             "#fde0ef"
            ],
            [
             0.5,
             "#f7f7f7"
            ],
            [
             0.6,
             "#e6f5d0"
            ],
            [
             0.7,
             "#b8e186"
            ],
            [
             0.8,
             "#7fbc41"
            ],
            [
             0.9,
             "#4d9221"
            ],
            [
             1,
             "#276419"
            ]
           ],
           "sequential": [
            [
             0,
             "#0d0887"
            ],
            [
             0.1111111111111111,
             "#46039f"
            ],
            [
             0.2222222222222222,
             "#7201a8"
            ],
            [
             0.3333333333333333,
             "#9c179e"
            ],
            [
             0.4444444444444444,
             "#bd3786"
            ],
            [
             0.5555555555555556,
             "#d8576b"
            ],
            [
             0.6666666666666666,
             "#ed7953"
            ],
            [
             0.7777777777777778,
             "#fb9f3a"
            ],
            [
             0.8888888888888888,
             "#fdca26"
            ],
            [
             1,
             "#f0f921"
            ]
           ],
           "sequentialminus": [
            [
             0,
             "#0d0887"
            ],
            [
             0.1111111111111111,
             "#46039f"
            ],
            [
             0.2222222222222222,
             "#7201a8"
            ],
            [
             0.3333333333333333,
             "#9c179e"
            ],
            [
             0.4444444444444444,
             "#bd3786"
            ],
            [
             0.5555555555555556,
             "#d8576b"
            ],
            [
             0.6666666666666666,
             "#ed7953"
            ],
            [
             0.7777777777777778,
             "#fb9f3a"
            ],
            [
             0.8888888888888888,
             "#fdca26"
            ],
            [
             1,
             "#f0f921"
            ]
           ]
          },
          "colorway": [
           "#636efa",
           "#EF553B",
           "#00cc96",
           "#ab63fa",
           "#FFA15A",
           "#19d3f3",
           "#FF6692",
           "#B6E880",
           "#FF97FF",
           "#FECB52"
          ],
          "font": {
           "color": "#2a3f5f"
          },
          "geo": {
           "bgcolor": "white",
           "lakecolor": "white",
           "landcolor": "#E5ECF6",
           "showlakes": true,
           "showland": true,
           "subunitcolor": "white"
          },
          "hoverlabel": {
           "align": "left"
          },
          "hovermode": "closest",
          "mapbox": {
           "style": "light"
          },
          "paper_bgcolor": "white",
          "plot_bgcolor": "#E5ECF6",
          "polar": {
           "angularaxis": {
            "gridcolor": "white",
            "linecolor": "white",
            "ticks": ""
           },
           "bgcolor": "#E5ECF6",
           "radialaxis": {
            "gridcolor": "white",
            "linecolor": "white",
            "ticks": ""
           }
          },
          "scene": {
           "xaxis": {
            "backgroundcolor": "#E5ECF6",
            "gridcolor": "white",
            "gridwidth": 2,
            "linecolor": "white",
            "showbackground": true,
            "ticks": "",
            "zerolinecolor": "white"
           },
           "yaxis": {
            "backgroundcolor": "#E5ECF6",
            "gridcolor": "white",
            "gridwidth": 2,
            "linecolor": "white",
            "showbackground": true,
            "ticks": "",
            "zerolinecolor": "white"
           },
           "zaxis": {
            "backgroundcolor": "#E5ECF6",
            "gridcolor": "white",
            "gridwidth": 2,
            "linecolor": "white",
            "showbackground": true,
            "ticks": "",
            "zerolinecolor": "white"
           }
          },
          "shapedefaults": {
           "line": {
            "color": "#2a3f5f"
           }
          },
          "ternary": {
           "aaxis": {
            "gridcolor": "white",
            "linecolor": "white",
            "ticks": ""
           },
           "baxis": {
            "gridcolor": "white",
            "linecolor": "white",
            "ticks": ""
           },
           "bgcolor": "#E5ECF6",
           "caxis": {
            "gridcolor": "white",
            "linecolor": "white",
            "ticks": ""
           }
          },
          "title": {
           "x": 0.05
          },
          "xaxis": {
           "automargin": true,
           "gridcolor": "white",
           "linecolor": "white",
           "ticks": "",
           "title": {
            "standoff": 15
           },
           "zerolinecolor": "white",
           "zerolinewidth": 2
          },
          "yaxis": {
           "automargin": true,
           "gridcolor": "white",
           "linecolor": "white",
           "ticks": "",
           "title": {
            "standoff": 15
           },
           "zerolinecolor": "white",
           "zerolinewidth": 2
          }
         }
        },
        "width": 800
       }
      }
     },
     "metadata": {},
     "output_type": "display_data"
    }
   ],
   "source": [
    "df_end = df_boston.groupby(['end_station_id','end_station_latitude', 'end_station_longitude']).size().reset_index(name='counts_end')\n",
    "\n",
    "color_scale = [(0, 'orange'), (1,'red')]\n",
    "\n",
    "fig = px.scatter_mapbox(df_end, \n",
    "                        lat=\"end_station_latitude\", \n",
    "                        lon=\"end_station_longitude\", \n",
    "                        color='counts_end',\n",
    "                        color_continuous_scale=color_scale,\n",
    "                        size='counts_end',\n",
    "                        zoom=8, \n",
    "                        height=800,\n",
    "                        width=800)\n",
    "\n",
    "\n",
    "fig.update_layout(mapbox_style=\"open-street-map\")\n",
    "fig.update_layout(margin={\"r\":0,\"t\":0,\"l\":0,\"b\":0})\n",
    "fig.show()"
   ]
  },
  {
   "attachments": {},
   "cell_type": "markdown",
   "metadata": {},
   "source": [
    "## Volume share per station \n",
    "What is the percentage of total of total rides a station is used? "
   ]
  },
  {
   "cell_type": "code",
   "execution_count": 39,
   "metadata": {},
   "outputs": [
    {
     "data": {
      "text/html": [
       "<div>\n",
       "<style scoped>\n",
       "    .dataframe tbody tr th:only-of-type {\n",
       "        vertical-align: middle;\n",
       "    }\n",
       "\n",
       "    .dataframe tbody tr th {\n",
       "        vertical-align: top;\n",
       "    }\n",
       "\n",
       "    .dataframe thead th {\n",
       "        text-align: right;\n",
       "    }\n",
       "</style>\n",
       "<table border=\"1\" class=\"dataframe\">\n",
       "  <thead>\n",
       "    <tr style=\"text-align: right;\">\n",
       "      <th></th>\n",
       "      <th>start_station_id</th>\n",
       "      <th>start_station_latitude</th>\n",
       "      <th>start_station_longitude</th>\n",
       "      <th>counts_start</th>\n",
       "      <th>total_rides</th>\n",
       "      <th>share</th>\n",
       "    </tr>\n",
       "  </thead>\n",
       "  <tbody>\n",
       "    <tr>\n",
       "      <th>75</th>\n",
       "      <td>81</td>\n",
       "      <td>42.352409</td>\n",
       "      <td>-71.062679</td>\n",
       "      <td>10343</td>\n",
       "      <td>41627</td>\n",
       "      <td>1.854120</td>\n",
       "    </tr>\n",
       "    <tr>\n",
       "      <th>19</th>\n",
       "      <td>22</td>\n",
       "      <td>42.352175</td>\n",
       "      <td>-71.055547</td>\n",
       "      <td>30798</td>\n",
       "      <td>37720</td>\n",
       "      <td>1.680097</td>\n",
       "    </tr>\n",
       "    <tr>\n",
       "      <th>55</th>\n",
       "      <td>60</td>\n",
       "      <td>42.360835</td>\n",
       "      <td>-71.070840</td>\n",
       "      <td>17291</td>\n",
       "      <td>33169</td>\n",
       "      <td>1.477390</td>\n",
       "    </tr>\n",
       "    <tr>\n",
       "      <th>121</th>\n",
       "      <td>130</td>\n",
       "      <td>42.317225</td>\n",
       "      <td>-71.065421</td>\n",
       "      <td>761</td>\n",
       "      <td>30666</td>\n",
       "      <td>1.365903</td>\n",
       "    </tr>\n",
       "    <tr>\n",
       "      <th>88</th>\n",
       "      <td>95</td>\n",
       "      <td>42.372969</td>\n",
       "      <td>-71.094445</td>\n",
       "      <td>10397</td>\n",
       "      <td>30271</td>\n",
       "      <td>1.348309</td>\n",
       "    </tr>\n",
       "  </tbody>\n",
       "</table>\n",
       "</div>"
      ],
      "text/plain": [
       "     start_station_id  start_station_latitude  start_station_longitude  \\\n",
       "75                 81               42.352409               -71.062679   \n",
       "19                 22               42.352175               -71.055547   \n",
       "55                 60               42.360835               -71.070840   \n",
       "121               130               42.317225               -71.065421   \n",
       "88                 95               42.372969               -71.094445   \n",
       "\n",
       "     counts_start  total_rides     share  \n",
       "75          10343        41627  1.854120  \n",
       "19          30798        37720  1.680097  \n",
       "55          17291        33169  1.477390  \n",
       "121           761        30666  1.365903  \n",
       "88          10397        30271  1.348309  "
      ]
     },
     "execution_count": 39,
     "metadata": {},
     "output_type": "execute_result"
    }
   ],
   "source": [
    "#share of different stations, most frequently used stations\n",
    "df_station_share = df_start.copy()\n",
    "df_station_share['total_rides'] = df_start['counts_start'] + df_end['counts_end']\n",
    "yearly_total_rides = sum(df_station_share['total_rides'])\n",
    "df_station_share['share'] = (df_station_share['total_rides'] / yearly_total_rides)*100\n",
    "df_station_share.sort_values('share', ascending=False).head(5)"
   ]
  },
  {
   "attachments": {},
   "cell_type": "markdown",
   "metadata": {},
   "source": [
    "## Station Distribution in Boston"
   ]
  },
  {
   "cell_type": "code",
   "execution_count": 40,
   "metadata": {},
   "outputs": [
    {
     "data": {
      "text/html": [
       "<div style=\"width:100%;\"><div style=\"position:relative;width:100%;height:0;padding-bottom:60%;\"><span style=\"color:#565656\">Make this Notebook Trusted to load map: File -> Trust Notebook</span><iframe srcdoc=\"&lt;!DOCTYPE html&gt;\n",
       "&lt;html&gt;\n",
       "&lt;head&gt;\n",
       "    \n",
       "    &lt;meta http-equiv=&quot;content-type&quot; content=&quot;text/html; charset=UTF-8&quot; /&gt;\n",
       "    \n",
       "        &lt;script&gt;\n",
       "            L_NO_TOUCH = false;\n",
       "            L_DISABLE_3D = false;\n",
       "        &lt;/script&gt;\n",
       "    \n",
       "    &lt;style&gt;html, body {width: 100%;height: 100%;margin: 0;padding: 0;}&lt;/style&gt;\n",
       "    &lt;style&gt;#map {position:absolute;top:0;bottom:0;right:0;left:0;}&lt;/style&gt;\n",
       "    &lt;script src=&quot;https://cdn.jsdelivr.net/npm/leaflet@1.9.3/dist/leaflet.js&quot;&gt;&lt;/script&gt;\n",
       "    &lt;script src=&quot;https://code.jquery.com/jquery-1.12.4.min.js&quot;&gt;&lt;/script&gt;\n",
       "    &lt;script src=&quot;https://cdn.jsdelivr.net/npm/bootstrap@5.2.2/dist/js/bootstrap.bundle.min.js&quot;&gt;&lt;/script&gt;\n",
       "    &lt;script src=&quot;https://cdnjs.cloudflare.com/ajax/libs/Leaflet.awesome-markers/2.0.2/leaflet.awesome-markers.js&quot;&gt;&lt;/script&gt;\n",
       "    &lt;link rel=&quot;stylesheet&quot; href=&quot;https://cdn.jsdelivr.net/npm/leaflet@1.9.3/dist/leaflet.css&quot;/&gt;\n",
       "    &lt;link rel=&quot;stylesheet&quot; href=&quot;https://cdn.jsdelivr.net/npm/bootstrap@5.2.2/dist/css/bootstrap.min.css&quot;/&gt;\n",
       "    &lt;link rel=&quot;stylesheet&quot; href=&quot;https://netdna.bootstrapcdn.com/bootstrap/3.0.0/css/bootstrap.min.css&quot;/&gt;\n",
       "    &lt;link rel=&quot;stylesheet&quot; href=&quot;https://cdn.jsdelivr.net/npm/@fortawesome/fontawesome-free@6.2.0/css/all.min.css&quot;/&gt;\n",
       "    &lt;link rel=&quot;stylesheet&quot; href=&quot;https://cdnjs.cloudflare.com/ajax/libs/Leaflet.awesome-markers/2.0.2/leaflet.awesome-markers.css&quot;/&gt;\n",
       "    &lt;link rel=&quot;stylesheet&quot; href=&quot;https://cdn.jsdelivr.net/gh/python-visualization/folium/folium/templates/leaflet.awesome.rotate.min.css&quot;/&gt;\n",
       "    \n",
       "            &lt;meta name=&quot;viewport&quot; content=&quot;width=device-width,\n",
       "                initial-scale=1.0, maximum-scale=1.0, user-scalable=no&quot; /&gt;\n",
       "            &lt;style&gt;\n",
       "                #map_c5bae6a7f5e25ab0506b9703a17c0c2a {\n",
       "                    position: relative;\n",
       "                    width: 100.0%;\n",
       "                    height: 100.0%;\n",
       "                    left: 0.0%;\n",
       "                    top: 0.0%;\n",
       "                }\n",
       "                .leaflet-container { font-size: 1rem; }\n",
       "            &lt;/style&gt;\n",
       "        \n",
       "    &lt;script src=&quot;https://cdn.jsdelivr.net/gh/python-visualization/folium@main/folium/templates/leaflet_heat.min.js&quot;&gt;&lt;/script&gt;\n",
       "&lt;/head&gt;\n",
       "&lt;body&gt;\n",
       "    \n",
       "    \n",
       "            &lt;div class=&quot;folium-map&quot; id=&quot;map_c5bae6a7f5e25ab0506b9703a17c0c2a&quot; &gt;&lt;/div&gt;\n",
       "        \n",
       "&lt;/body&gt;\n",
       "&lt;script&gt;\n",
       "    \n",
       "    \n",
       "            var map_c5bae6a7f5e25ab0506b9703a17c0c2a = L.map(\n",
       "                &quot;map_c5bae6a7f5e25ab0506b9703a17c0c2a&quot;,\n",
       "                {\n",
       "                    center: [42.355539267132464, -71.08955563028009],\n",
       "                    crs: L.CRS.EPSG3857,\n",
       "                    zoom: 13,\n",
       "                    zoomControl: true,\n",
       "                    preferCanvas: false,\n",
       "                }\n",
       "            );\n",
       "            L.control.scale().addTo(map_c5bae6a7f5e25ab0506b9703a17c0c2a);\n",
       "\n",
       "            \n",
       "\n",
       "        \n",
       "    \n",
       "            var tile_layer_8e5ca09c47eb3a7fec7f30a32d082c93 = L.tileLayer(\n",
       "                &quot;https://{s}.tile.openstreetmap.org/{z}/{x}/{y}.png&quot;,\n",
       "                {&quot;attribution&quot;: &quot;Data by \\u0026copy; \\u003ca target=\\&quot;_blank\\&quot; href=\\&quot;http://openstreetmap.org\\&quot;\\u003eOpenStreetMap\\u003c/a\\u003e, under \\u003ca target=\\&quot;_blank\\&quot; href=\\&quot;http://www.openstreetmap.org/copyright\\&quot;\\u003eODbL\\u003c/a\\u003e.&quot;, &quot;detectRetina&quot;: false, &quot;maxNativeZoom&quot;: 20, &quot;maxZoom&quot;: 20, &quot;minZoom&quot;: 0, &quot;noWrap&quot;: false, &quot;opacity&quot;: 1, &quot;subdomains&quot;: &quot;abc&quot;, &quot;tms&quot;: false}\n",
       "            ).addTo(map_c5bae6a7f5e25ab0506b9703a17c0c2a);\n",
       "        \n",
       "    \n",
       "            var heat_map_01af6dd253b179f29abd31c7e40da6f6 = L.heatLayer(\n",
       "                [[42.387151, -71.075978], [42.340021, -71.100812], [42.345392, -71.069616], [42.341814, -71.090179], [42.361174, -71.065142], [42.35328743453294, -71.04438900947571], [42.353334, -71.137313], [42.351246, -71.115639], [42.350406, -71.108279], [42.338629, -71.1065], [42.335911, -71.088496], [42.336437, -71.073089], [42.337171, -71.102797], [42.361667, -71.13802], [42.34807412317439, -71.07657015323639], [42.365064, -71.119233], [42.347241, -71.105301], [42.35977, -71.051601], [42.345959, -71.082578], [42.352175, -71.055547], [42.35892, -71.057629], [42.351205, -71.043983], [42.341332, -71.076847], [42.341522, -71.068922], [42.331184, -71.095171], [42.363732, -71.124565], [42.334073, -71.105221], [42.348833, -71.041747], [42.343912, -71.102221], [42.348706, -71.097009], [42.355402, -71.058087], [42.349673, -71.077303], [42.357402, -71.147782], [42.366222, -71.059914], [42.338623, -71.074182], [42.363871, -71.050877], [42.352261, -71.123831], [42.352033, -71.070627], [42.357143, -71.050699], [42.360613, -71.057452], [42.344706, -71.097515], [42.343864, -71.085918], [42.362811, -71.056067], [42.356755, -71.055407], [42.351146, -71.066289], [42.350989, -71.073644], [42.3348756, -71.0790969], [42.348717, -71.085954], [42.350851, -71.089886], [42.354979, -71.063348], [42.347265, -71.088088], [42.328654, -71.084198], [42.340799, -71.081572], [42.355596, -71.07278], [42.351356, -71.059367], [42.360835, -71.0708399], [42.348762, -71.082383], [42.344023, -71.057054], [42.3511, -71.0496], [42.3475, -71.0441], [42.348607, -71.13401], [42.3581, -71.093198], [42.36507, -71.1031], [42.341598, -71.123338], [42.371196, -71.121473], [42.383405, -71.107593], [42.362613, -71.084105], [42.373231, -71.120886], [42.373268, -71.118579], [42.36346469304347, -71.10057324171066], [42.366426, -71.105495], [42.386844, -71.09812], [42.379637, -71.095319], [42.37842, -71.105668], [42.3619622, -71.0920526], [42.352409, -71.062679], [42.339335, -71.13493], [42.366981, -71.076472], [42.378338, -71.048927], [42.332799, -71.116205], [42.366621, -71.114214], [42.374035, -71.101427], [42.379011, -71.119945], [42.370677, -71.076529], [42.366277, -71.09169], [42.314507, -71.041269], [42.320494, -71.051122], [42.375603, -71.064608], [42.372969, -71.094445], [42.373379, -71.111075], [42.36919031768079, -71.11714124679565], [42.371848, -71.060292], [42.385582, -71.113341], [42.396969, -71.123024], [42.400877, -71.116772], [42.346563, -71.128374], [42.380287, -71.125107], [42.356954, -71.113687], [42.325333, -71.075354], [42.3625, -71.08822], [42.377945, -71.116865], [42.365942, -71.060515], [42.376369, -71.114025], [42.40449, -71.123413], [42.39082, -71.10942], [42.330716, -71.057044], [42.402763, -71.126908], [42.387995, -71.119084], [42.370803, -71.104412], [42.366095, -71.086388], [42.397828, -71.130516], [42.335741, -71.03877], [42.356052, -71.069849], [42.335693, -71.045859], [42.345733, -71.100694], [42.313156, -71.11414], [42.309054, -71.11543], [42.320998, -71.110833], [42.315692, -71.098634], [42.320561, -71.06198], [42.377022, -71.056605], [42.317225, -71.065421], [42.322701, -71.099533], [42.394002, -71.120406], [42.310579, -71.107341], [42.350413, -71.07655], [42.344827, -71.028664], [42.344796, -71.031614], [42.398365, -71.107818], [42.326599, -71.066498], [42.361589, -71.107437], [42.388966, -71.132788], [42.36356015842989, -71.08216792345047], [42.396105, -71.139459], [42.369885, -71.069957], [42.392766, -71.129042], [42.363796, -71.129164], [42.344137, -71.052608], [42.358155, -71.052163], [42.345901, -71.063187], [42.32797270205962, -71.11089706420898], [42.337596, -71.096391], [42.3391085, -71.0514432], [42.309796, -71.092225], [42.344792, -71.044024], [42.317642, -71.056664], [42.378965, -71.068607], [42.303469, -71.085347], [42.37408991426522, -71.06905996799469], [42.34900494405213, -71.1604106426239], [42.34894857235593, -71.15027189254761], [42.38674802045056, -71.11901879310608], [42.36264779118595, -71.10006093978882], [42.35957320109044, -71.10129475593567], [42.35560121327927, -71.10394477844238], [42.37478628706384, -71.13320231437683]],\n",
       "                {&quot;blur&quot;: 15, &quot;maxZoom&quot;: 18, &quot;minOpacity&quot;: 0.5, &quot;radius&quot;: 25}\n",
       "            ).addTo(map_c5bae6a7f5e25ab0506b9703a17c0c2a);\n",
       "        \n",
       "&lt;/script&gt;\n",
       "&lt;/html&gt;\" style=\"position:absolute;width:100%;height:100%;left:0;top:0;border:none !important;\" allowfullscreen webkitallowfullscreen mozallowfullscreen></iframe></div></div>"
      ],
      "text/plain": [
       "<folium.folium.Map at 0x7fb963443490>"
      ]
     },
     "execution_count": 40,
     "metadata": {},
     "output_type": "execute_result"
    }
   ],
   "source": [
    "def heat_map(df, station_id):\n",
    "    # define new map\n",
    "    heat_map = folium.Map(\n",
    "        location=[df['start_station_latitude'].mean(), df['start_station_longitude'].mean()], \n",
    "        tiles='OpenStreetMap', \n",
    "        zoom_start=13, \n",
    "        control_scale=True, \n",
    "        max_zoom=20)\n",
    "    # add heat map\n",
    "    heat_data = [[row['start_station_latitude'],row['start_station_longitude']] for index, row in df.iterrows()]\n",
    "    HeatMap(heat_data).add_to(heat_map)\n",
    "    #heat map for destination points looks pretty much identical\n",
    "    return heat_map\n",
    "m = heat_map(df_start, np.array(df_start['start_station_id']))\n",
    "m"
   ]
  },
  {
   "attachments": {},
   "cell_type": "markdown",
   "metadata": {},
   "source": [
    "# Most popular routes  \n",
    "This section tries to explain which routes are most often used."
   ]
  },
  {
   "cell_type": "code",
   "execution_count": 41,
   "metadata": {},
   "outputs": [
    {
     "data": {
      "text/html": [
       "<div>\n",
       "<style scoped>\n",
       "    .dataframe tbody tr th:only-of-type {\n",
       "        vertical-align: middle;\n",
       "    }\n",
       "\n",
       "    .dataframe tbody tr th {\n",
       "        vertical-align: top;\n",
       "    }\n",
       "\n",
       "    .dataframe thead th {\n",
       "        text-align: right;\n",
       "    }\n",
       "</style>\n",
       "<table border=\"1\" class=\"dataframe\">\n",
       "  <thead>\n",
       "    <tr style=\"text-align: right;\">\n",
       "      <th></th>\n",
       "      <th>start_station_id</th>\n",
       "      <th>end_station_id</th>\n",
       "      <th>start_station_latitude</th>\n",
       "      <th>start_station_longitude</th>\n",
       "      <th>end_station_latitude</th>\n",
       "      <th>end_station_longitude</th>\n",
       "      <th>count_trips</th>\n",
       "    </tr>\n",
       "  </thead>\n",
       "  <tbody>\n",
       "    <tr>\n",
       "      <th>0</th>\n",
       "      <td>118</td>\n",
       "      <td>100</td>\n",
       "      <td>42.397828</td>\n",
       "      <td>-71.130516</td>\n",
       "      <td>42.396969</td>\n",
       "      <td>-71.123024</td>\n",
       "      <td>3020</td>\n",
       "    </tr>\n",
       "    <tr>\n",
       "      <th>1</th>\n",
       "      <td>100</td>\n",
       "      <td>118</td>\n",
       "      <td>42.396969</td>\n",
       "      <td>-71.123024</td>\n",
       "      <td>42.397828</td>\n",
       "      <td>-71.130516</td>\n",
       "      <td>2755</td>\n",
       "    </tr>\n",
       "    <tr>\n",
       "      <th>2</th>\n",
       "      <td>114</td>\n",
       "      <td>100</td>\n",
       "      <td>42.402763</td>\n",
       "      <td>-71.126908</td>\n",
       "      <td>42.396969</td>\n",
       "      <td>-71.123024</td>\n",
       "      <td>2047</td>\n",
       "    </tr>\n",
       "    <tr>\n",
       "      <th>3</th>\n",
       "      <td>67</td>\n",
       "      <td>53</td>\n",
       "      <td>42.358100</td>\n",
       "      <td>-71.093198</td>\n",
       "      <td>42.350851</td>\n",
       "      <td>-71.089886</td>\n",
       "      <td>2026</td>\n",
       "    </tr>\n",
       "    <tr>\n",
       "      <th>4</th>\n",
       "      <td>40</td>\n",
       "      <td>22</td>\n",
       "      <td>42.363871</td>\n",
       "      <td>-71.050877</td>\n",
       "      <td>42.352175</td>\n",
       "      <td>-71.055547</td>\n",
       "      <td>1982</td>\n",
       "    </tr>\n",
       "    <tr>\n",
       "      <th>5</th>\n",
       "      <td>67</td>\n",
       "      <td>68</td>\n",
       "      <td>42.358100</td>\n",
       "      <td>-71.093198</td>\n",
       "      <td>42.365070</td>\n",
       "      <td>-71.103100</td>\n",
       "      <td>1845</td>\n",
       "    </tr>\n",
       "    <tr>\n",
       "      <th>6</th>\n",
       "      <td>53</td>\n",
       "      <td>67</td>\n",
       "      <td>42.350851</td>\n",
       "      <td>-71.089886</td>\n",
       "      <td>42.358100</td>\n",
       "      <td>-71.093198</td>\n",
       "      <td>1783</td>\n",
       "    </tr>\n",
       "    <tr>\n",
       "      <th>7</th>\n",
       "      <td>22</td>\n",
       "      <td>40</td>\n",
       "      <td>42.352175</td>\n",
       "      <td>-71.055547</td>\n",
       "      <td>42.363871</td>\n",
       "      <td>-71.050877</td>\n",
       "      <td>1741</td>\n",
       "    </tr>\n",
       "    <tr>\n",
       "      <th>8</th>\n",
       "      <td>68</td>\n",
       "      <td>67</td>\n",
       "      <td>42.365070</td>\n",
       "      <td>-71.103100</td>\n",
       "      <td>42.358100</td>\n",
       "      <td>-71.093198</td>\n",
       "      <td>1610</td>\n",
       "    </tr>\n",
       "    <tr>\n",
       "      <th>9</th>\n",
       "      <td>20</td>\n",
       "      <td>22</td>\n",
       "      <td>42.359770</td>\n",
       "      <td>-71.051601</td>\n",
       "      <td>42.352175</td>\n",
       "      <td>-71.055547</td>\n",
       "      <td>1531</td>\n",
       "    </tr>\n",
       "  </tbody>\n",
       "</table>\n",
       "</div>"
      ],
      "text/plain": [
       "   start_station_id end_station_id  start_station_latitude  \\\n",
       "0               118            100               42.397828   \n",
       "1               100            118               42.396969   \n",
       "2               114            100               42.402763   \n",
       "3                67             53               42.358100   \n",
       "4                40             22               42.363871   \n",
       "5                67             68               42.358100   \n",
       "6                53             67               42.350851   \n",
       "7                22             40               42.352175   \n",
       "8                68             67               42.365070   \n",
       "9                20             22               42.359770   \n",
       "\n",
       "   start_station_longitude  end_station_latitude  end_station_longitude  \\\n",
       "0               -71.130516             42.396969             -71.123024   \n",
       "1               -71.123024             42.397828             -71.130516   \n",
       "2               -71.126908             42.396969             -71.123024   \n",
       "3               -71.093198             42.350851             -71.089886   \n",
       "4               -71.050877             42.352175             -71.055547   \n",
       "5               -71.093198             42.365070             -71.103100   \n",
       "6               -71.089886             42.358100             -71.093198   \n",
       "7               -71.055547             42.363871             -71.050877   \n",
       "8               -71.103100             42.358100             -71.093198   \n",
       "9               -71.051601             42.352175             -71.055547   \n",
       "\n",
       "   count_trips  \n",
       "0         3020  \n",
       "1         2755  \n",
       "2         2047  \n",
       "3         2026  \n",
       "4         1982  \n",
       "5         1845  \n",
       "6         1783  \n",
       "7         1741  \n",
       "8         1610  \n",
       "9         1531  "
      ]
     },
     "execution_count": 41,
     "metadata": {},
     "output_type": "execute_result"
    }
   ],
   "source": [
    "#number of trips between a start and end station\n",
    "\n",
    "df_trips = df_boston.groupby(['start_station_id','end_station_id', 'start_station_latitude', 'start_station_longitude', 'end_station_latitude', 'end_station_longitude']).size().reset_index(name='count_trips')\n",
    "\n",
    "df_trips = df_trips.sort_values('count_trips', ascending = False)\n",
    "\n",
    "df_trips.index = range(0, len(df_trips))\n",
    "\n",
    "df_trips.head(10)"
   ]
  },
  {
   "cell_type": "code",
   "execution_count": 42,
   "metadata": {},
   "outputs": [
    {
     "data": {
      "text/html": [
       "<div style=\"width:100%;\"><div style=\"position:relative;width:100%;height:0;padding-bottom:60%;\"><span style=\"color:#565656\">Make this Notebook Trusted to load map: File -> Trust Notebook</span><iframe srcdoc=\"&lt;!DOCTYPE html&gt;\n",
       "&lt;html&gt;\n",
       "&lt;head&gt;\n",
       "    \n",
       "    &lt;meta http-equiv=&quot;content-type&quot; content=&quot;text/html; charset=UTF-8&quot; /&gt;\n",
       "    \n",
       "        &lt;script&gt;\n",
       "            L_NO_TOUCH = false;\n",
       "            L_DISABLE_3D = false;\n",
       "        &lt;/script&gt;\n",
       "    \n",
       "    &lt;style&gt;html, body {width: 100%;height: 100%;margin: 0;padding: 0;}&lt;/style&gt;\n",
       "    &lt;style&gt;#map {position:absolute;top:0;bottom:0;right:0;left:0;}&lt;/style&gt;\n",
       "    &lt;script src=&quot;https://cdn.jsdelivr.net/npm/leaflet@1.9.3/dist/leaflet.js&quot;&gt;&lt;/script&gt;\n",
       "    &lt;script src=&quot;https://code.jquery.com/jquery-1.12.4.min.js&quot;&gt;&lt;/script&gt;\n",
       "    &lt;script src=&quot;https://cdn.jsdelivr.net/npm/bootstrap@5.2.2/dist/js/bootstrap.bundle.min.js&quot;&gt;&lt;/script&gt;\n",
       "    &lt;script src=&quot;https://cdnjs.cloudflare.com/ajax/libs/Leaflet.awesome-markers/2.0.2/leaflet.awesome-markers.js&quot;&gt;&lt;/script&gt;\n",
       "    &lt;link rel=&quot;stylesheet&quot; href=&quot;https://cdn.jsdelivr.net/npm/leaflet@1.9.3/dist/leaflet.css&quot;/&gt;\n",
       "    &lt;link rel=&quot;stylesheet&quot; href=&quot;https://cdn.jsdelivr.net/npm/bootstrap@5.2.2/dist/css/bootstrap.min.css&quot;/&gt;\n",
       "    &lt;link rel=&quot;stylesheet&quot; href=&quot;https://netdna.bootstrapcdn.com/bootstrap/3.0.0/css/bootstrap.min.css&quot;/&gt;\n",
       "    &lt;link rel=&quot;stylesheet&quot; href=&quot;https://cdn.jsdelivr.net/npm/@fortawesome/fontawesome-free@6.2.0/css/all.min.css&quot;/&gt;\n",
       "    &lt;link rel=&quot;stylesheet&quot; href=&quot;https://cdnjs.cloudflare.com/ajax/libs/Leaflet.awesome-markers/2.0.2/leaflet.awesome-markers.css&quot;/&gt;\n",
       "    &lt;link rel=&quot;stylesheet&quot; href=&quot;https://cdn.jsdelivr.net/gh/python-visualization/folium/folium/templates/leaflet.awesome.rotate.min.css&quot;/&gt;\n",
       "    \n",
       "            &lt;meta name=&quot;viewport&quot; content=&quot;width=device-width,\n",
       "                initial-scale=1.0, maximum-scale=1.0, user-scalable=no&quot; /&gt;\n",
       "            &lt;style&gt;\n",
       "                #map_686443508c6b23771ca7ce2dac5f162d {\n",
       "                    position: relative;\n",
       "                    width: 100.0%;\n",
       "                    height: 100.0%;\n",
       "                    left: 0.0%;\n",
       "                    top: 0.0%;\n",
       "                }\n",
       "                .leaflet-container { font-size: 1rem; }\n",
       "            &lt;/style&gt;\n",
       "        \n",
       "&lt;/head&gt;\n",
       "&lt;body&gt;\n",
       "    \n",
       "    \n",
       "            &lt;div class=&quot;folium-map&quot; id=&quot;map_686443508c6b23771ca7ce2dac5f162d&quot; &gt;&lt;/div&gt;\n",
       "        \n",
       "&lt;/body&gt;\n",
       "&lt;script&gt;\n",
       "    \n",
       "    \n",
       "            var map_686443508c6b23771ca7ce2dac5f162d = L.map(\n",
       "                &quot;map_686443508c6b23771ca7ce2dac5f162d&quot;,\n",
       "                {\n",
       "                    center: [42.35593249190727, -71.08880031119415],\n",
       "                    crs: L.CRS.EPSG3857,\n",
       "                    zoom: 15,\n",
       "                    zoomControl: true,\n",
       "                    preferCanvas: false,\n",
       "                }\n",
       "            );\n",
       "\n",
       "            \n",
       "\n",
       "        \n",
       "    \n",
       "            var tile_layer_2a18fd789ad0d46cfe4105745e7145e3 = L.tileLayer(\n",
       "                &quot;https://{s}.tile.openstreetmap.org/{z}/{x}/{y}.png&quot;,\n",
       "                {&quot;attribution&quot;: &quot;Data by \\u0026copy; \\u003ca target=\\&quot;_blank\\&quot; href=\\&quot;http://openstreetmap.org\\&quot;\\u003eOpenStreetMap\\u003c/a\\u003e, under \\u003ca target=\\&quot;_blank\\&quot; href=\\&quot;http://www.openstreetmap.org/copyright\\&quot;\\u003eODbL\\u003c/a\\u003e.&quot;, &quot;detectRetina&quot;: false, &quot;maxNativeZoom&quot;: 18, &quot;maxZoom&quot;: 18, &quot;minZoom&quot;: 0, &quot;noWrap&quot;: false, &quot;opacity&quot;: 1, &quot;subdomains&quot;: &quot;abc&quot;, &quot;tms&quot;: false}\n",
       "            ).addTo(map_686443508c6b23771ca7ce2dac5f162d);\n",
       "        \n",
       "    \n",
       "            var poly_line_c9a33be4a7c86671c243466977b377c9 = L.polyline(\n",
       "                [[42.397828, -71.130516], [42.396969, -71.123024]],\n",
       "                {&quot;bubblingMouseEvents&quot;: true, &quot;color&quot;: &quot;red&quot;, &quot;dashArray&quot;: null, &quot;dashOffset&quot;: null, &quot;fill&quot;: false, &quot;fillColor&quot;: &quot;red&quot;, &quot;fillOpacity&quot;: 0.2, &quot;fillRule&quot;: &quot;evenodd&quot;, &quot;lineCap&quot;: &quot;round&quot;, &quot;lineJoin&quot;: &quot;round&quot;, &quot;noClip&quot;: false, &quot;opacity&quot;: 1, &quot;smoothFactor&quot;: 1.0, &quot;stroke&quot;: true, &quot;weight&quot;: 2.5}\n",
       "            ).addTo(map_686443508c6b23771ca7ce2dac5f162d);\n",
       "        \n",
       "    \n",
       "            var marker_afd39e657312eb30f0064ccd2f226e97 = L.marker(\n",
       "                [42.397828, -71.130516],\n",
       "                {}\n",
       "            ).addTo(map_686443508c6b23771ca7ce2dac5f162d);\n",
       "        \n",
       "    \n",
       "            var icon_bdb5f18bb837e921f1a0722bed59e83d = L.AwesomeMarkers.icon(\n",
       "                {&quot;extraClasses&quot;: &quot;fa-rotate-0&quot;, &quot;icon&quot;: &quot;bicycle&quot;, &quot;iconColor&quot;: &quot;white&quot;, &quot;markerColor&quot;: &quot;green&quot;, &quot;prefix&quot;: &quot;fa&quot;}\n",
       "            );\n",
       "            marker_afd39e657312eb30f0064ccd2f226e97.setIcon(icon_bdb5f18bb837e921f1a0722bed59e83d);\n",
       "        \n",
       "    \n",
       "        var popup_55a3c189295d41f83148f78d7774d0a2 = L.popup({&quot;maxWidth&quot;: &quot;100%&quot;});\n",
       "\n",
       "        \n",
       "            \n",
       "                var html_eb296936e00801587ce18d669b91319a = $(`&lt;div id=&quot;html_eb296936e00801587ce18d669b91319a&quot; style=&quot;width: 100.0%; height: 100.0%;&quot;&gt;(118, 3020)&lt;/div&gt;`)[0];\n",
       "                popup_55a3c189295d41f83148f78d7774d0a2.setContent(html_eb296936e00801587ce18d669b91319a);\n",
       "            \n",
       "        \n",
       "\n",
       "        marker_afd39e657312eb30f0064ccd2f226e97.bindPopup(popup_55a3c189295d41f83148f78d7774d0a2)\n",
       "        ;\n",
       "\n",
       "        \n",
       "    \n",
       "    \n",
       "            var marker_b0d96fe2d686c4f11527b4bfa967a5f1 = L.marker(\n",
       "                [42.396969, -71.123024],\n",
       "                {}\n",
       "            ).addTo(map_686443508c6b23771ca7ce2dac5f162d);\n",
       "        \n",
       "    \n",
       "            var icon_4fea8cccb14ddda105d1811e780639cf = L.AwesomeMarkers.icon(\n",
       "                {&quot;extraClasses&quot;: &quot;fa-rotate-0&quot;, &quot;icon&quot;: &quot;bicycle&quot;, &quot;iconColor&quot;: &quot;white&quot;, &quot;markerColor&quot;: &quot;red&quot;, &quot;prefix&quot;: &quot;fa&quot;}\n",
       "            );\n",
       "            marker_b0d96fe2d686c4f11527b4bfa967a5f1.setIcon(icon_4fea8cccb14ddda105d1811e780639cf);\n",
       "        \n",
       "    \n",
       "        var popup_67977e391d2a13454220674e1cb1f1a9 = L.popup({&quot;maxWidth&quot;: &quot;100%&quot;});\n",
       "\n",
       "        \n",
       "            \n",
       "                var html_1b9ee369de6c4a26afa56eff08701a3c = $(`&lt;div id=&quot;html_1b9ee369de6c4a26afa56eff08701a3c&quot; style=&quot;width: 100.0%; height: 100.0%;&quot;&gt;(&#x27;100&#x27;, 3020)&lt;/div&gt;`)[0];\n",
       "                popup_67977e391d2a13454220674e1cb1f1a9.setContent(html_1b9ee369de6c4a26afa56eff08701a3c);\n",
       "            \n",
       "        \n",
       "\n",
       "        marker_b0d96fe2d686c4f11527b4bfa967a5f1.bindPopup(popup_67977e391d2a13454220674e1cb1f1a9)\n",
       "        ;\n",
       "\n",
       "        \n",
       "    \n",
       "    \n",
       "            var poly_line_1995e4c23e092f429fbd8e526fd7b66c = L.polyline(\n",
       "                [[42.396969, -71.123024], [42.397828, -71.130516]],\n",
       "                {&quot;bubblingMouseEvents&quot;: true, &quot;color&quot;: &quot;red&quot;, &quot;dashArray&quot;: null, &quot;dashOffset&quot;: null, &quot;fill&quot;: false, &quot;fillColor&quot;: &quot;red&quot;, &quot;fillOpacity&quot;: 0.2, &quot;fillRule&quot;: &quot;evenodd&quot;, &quot;lineCap&quot;: &quot;round&quot;, &quot;lineJoin&quot;: &quot;round&quot;, &quot;noClip&quot;: false, &quot;opacity&quot;: 1, &quot;smoothFactor&quot;: 1.0, &quot;stroke&quot;: true, &quot;weight&quot;: 2.5}\n",
       "            ).addTo(map_686443508c6b23771ca7ce2dac5f162d);\n",
       "        \n",
       "    \n",
       "            var marker_645f4ddf1044a816ec82ae710d3eb351 = L.marker(\n",
       "                [42.396969, -71.123024],\n",
       "                {}\n",
       "            ).addTo(map_686443508c6b23771ca7ce2dac5f162d);\n",
       "        \n",
       "    \n",
       "            var icon_24f4dbdeb063a128f76c135ecd7a2181 = L.AwesomeMarkers.icon(\n",
       "                {&quot;extraClasses&quot;: &quot;fa-rotate-0&quot;, &quot;icon&quot;: &quot;bicycle&quot;, &quot;iconColor&quot;: &quot;white&quot;, &quot;markerColor&quot;: &quot;green&quot;, &quot;prefix&quot;: &quot;fa&quot;}\n",
       "            );\n",
       "            marker_645f4ddf1044a816ec82ae710d3eb351.setIcon(icon_24f4dbdeb063a128f76c135ecd7a2181);\n",
       "        \n",
       "    \n",
       "        var popup_15f0427380073680cff06a562bac57a8 = L.popup({&quot;maxWidth&quot;: &quot;100%&quot;});\n",
       "\n",
       "        \n",
       "            \n",
       "                var html_653f947a9bc9e3513905eb50eee1e890 = $(`&lt;div id=&quot;html_653f947a9bc9e3513905eb50eee1e890&quot; style=&quot;width: 100.0%; height: 100.0%;&quot;&gt;(100, 2755)&lt;/div&gt;`)[0];\n",
       "                popup_15f0427380073680cff06a562bac57a8.setContent(html_653f947a9bc9e3513905eb50eee1e890);\n",
       "            \n",
       "        \n",
       "\n",
       "        marker_645f4ddf1044a816ec82ae710d3eb351.bindPopup(popup_15f0427380073680cff06a562bac57a8)\n",
       "        ;\n",
       "\n",
       "        \n",
       "    \n",
       "    \n",
       "            var marker_0bfcb6ebbd42e0bd937b516ccfa17156 = L.marker(\n",
       "                [42.397828, -71.130516],\n",
       "                {}\n",
       "            ).addTo(map_686443508c6b23771ca7ce2dac5f162d);\n",
       "        \n",
       "    \n",
       "            var icon_4045cc70a8d45014de00b9a90bf9ddb7 = L.AwesomeMarkers.icon(\n",
       "                {&quot;extraClasses&quot;: &quot;fa-rotate-0&quot;, &quot;icon&quot;: &quot;bicycle&quot;, &quot;iconColor&quot;: &quot;white&quot;, &quot;markerColor&quot;: &quot;red&quot;, &quot;prefix&quot;: &quot;fa&quot;}\n",
       "            );\n",
       "            marker_0bfcb6ebbd42e0bd937b516ccfa17156.setIcon(icon_4045cc70a8d45014de00b9a90bf9ddb7);\n",
       "        \n",
       "    \n",
       "        var popup_4288cca5375cfa24d16532cf48b73361 = L.popup({&quot;maxWidth&quot;: &quot;100%&quot;});\n",
       "\n",
       "        \n",
       "            \n",
       "                var html_8137f871662d0b51fe26f6e4271955eb = $(`&lt;div id=&quot;html_8137f871662d0b51fe26f6e4271955eb&quot; style=&quot;width: 100.0%; height: 100.0%;&quot;&gt;(&#x27;118&#x27;, 2755)&lt;/div&gt;`)[0];\n",
       "                popup_4288cca5375cfa24d16532cf48b73361.setContent(html_8137f871662d0b51fe26f6e4271955eb);\n",
       "            \n",
       "        \n",
       "\n",
       "        marker_0bfcb6ebbd42e0bd937b516ccfa17156.bindPopup(popup_4288cca5375cfa24d16532cf48b73361)\n",
       "        ;\n",
       "\n",
       "        \n",
       "    \n",
       "    \n",
       "            var poly_line_1cba679dd5e403238f341c73afb7653e = L.polyline(\n",
       "                [[42.402763, -71.126908], [42.396969, -71.123024]],\n",
       "                {&quot;bubblingMouseEvents&quot;: true, &quot;color&quot;: &quot;red&quot;, &quot;dashArray&quot;: null, &quot;dashOffset&quot;: null, &quot;fill&quot;: false, &quot;fillColor&quot;: &quot;red&quot;, &quot;fillOpacity&quot;: 0.2, &quot;fillRule&quot;: &quot;evenodd&quot;, &quot;lineCap&quot;: &quot;round&quot;, &quot;lineJoin&quot;: &quot;round&quot;, &quot;noClip&quot;: false, &quot;opacity&quot;: 1, &quot;smoothFactor&quot;: 1.0, &quot;stroke&quot;: true, &quot;weight&quot;: 2.5}\n",
       "            ).addTo(map_686443508c6b23771ca7ce2dac5f162d);\n",
       "        \n",
       "    \n",
       "            var marker_148ee7ede616f5c1ef7a48d4a98c56ae = L.marker(\n",
       "                [42.402763, -71.126908],\n",
       "                {}\n",
       "            ).addTo(map_686443508c6b23771ca7ce2dac5f162d);\n",
       "        \n",
       "    \n",
       "            var icon_250f670af54f6b5b35fce5cbc7aaedb9 = L.AwesomeMarkers.icon(\n",
       "                {&quot;extraClasses&quot;: &quot;fa-rotate-0&quot;, &quot;icon&quot;: &quot;bicycle&quot;, &quot;iconColor&quot;: &quot;white&quot;, &quot;markerColor&quot;: &quot;green&quot;, &quot;prefix&quot;: &quot;fa&quot;}\n",
       "            );\n",
       "            marker_148ee7ede616f5c1ef7a48d4a98c56ae.setIcon(icon_250f670af54f6b5b35fce5cbc7aaedb9);\n",
       "        \n",
       "    \n",
       "        var popup_21f54f364191f77db35c3b6355331121 = L.popup({&quot;maxWidth&quot;: &quot;100%&quot;});\n",
       "\n",
       "        \n",
       "            \n",
       "                var html_4ab333c17adfca0c37da5b3a4a98a851 = $(`&lt;div id=&quot;html_4ab333c17adfca0c37da5b3a4a98a851&quot; style=&quot;width: 100.0%; height: 100.0%;&quot;&gt;(114, 2047)&lt;/div&gt;`)[0];\n",
       "                popup_21f54f364191f77db35c3b6355331121.setContent(html_4ab333c17adfca0c37da5b3a4a98a851);\n",
       "            \n",
       "        \n",
       "\n",
       "        marker_148ee7ede616f5c1ef7a48d4a98c56ae.bindPopup(popup_21f54f364191f77db35c3b6355331121)\n",
       "        ;\n",
       "\n",
       "        \n",
       "    \n",
       "    \n",
       "            var marker_a9864d99a1330c519713f46e65712306 = L.marker(\n",
       "                [42.396969, -71.123024],\n",
       "                {}\n",
       "            ).addTo(map_686443508c6b23771ca7ce2dac5f162d);\n",
       "        \n",
       "    \n",
       "            var icon_55d0239312e344d3fe46dbcdc0151f6d = L.AwesomeMarkers.icon(\n",
       "                {&quot;extraClasses&quot;: &quot;fa-rotate-0&quot;, &quot;icon&quot;: &quot;bicycle&quot;, &quot;iconColor&quot;: &quot;white&quot;, &quot;markerColor&quot;: &quot;red&quot;, &quot;prefix&quot;: &quot;fa&quot;}\n",
       "            );\n",
       "            marker_a9864d99a1330c519713f46e65712306.setIcon(icon_55d0239312e344d3fe46dbcdc0151f6d);\n",
       "        \n",
       "    \n",
       "        var popup_ad95f5c066d3667cf54c698f3faab6bb = L.popup({&quot;maxWidth&quot;: &quot;100%&quot;});\n",
       "\n",
       "        \n",
       "            \n",
       "                var html_0a56abc1c05d6e59d27006fc8282af61 = $(`&lt;div id=&quot;html_0a56abc1c05d6e59d27006fc8282af61&quot; style=&quot;width: 100.0%; height: 100.0%;&quot;&gt;(&#x27;100&#x27;, 2047)&lt;/div&gt;`)[0];\n",
       "                popup_ad95f5c066d3667cf54c698f3faab6bb.setContent(html_0a56abc1c05d6e59d27006fc8282af61);\n",
       "            \n",
       "        \n",
       "\n",
       "        marker_a9864d99a1330c519713f46e65712306.bindPopup(popup_ad95f5c066d3667cf54c698f3faab6bb)\n",
       "        ;\n",
       "\n",
       "        \n",
       "    \n",
       "    \n",
       "            var poly_line_3cf88b5f8c0768d613c82184ee45984d = L.polyline(\n",
       "                [[42.3581, -71.093198], [42.350851, -71.089886]],\n",
       "                {&quot;bubblingMouseEvents&quot;: true, &quot;color&quot;: &quot;red&quot;, &quot;dashArray&quot;: null, &quot;dashOffset&quot;: null, &quot;fill&quot;: false, &quot;fillColor&quot;: &quot;red&quot;, &quot;fillOpacity&quot;: 0.2, &quot;fillRule&quot;: &quot;evenodd&quot;, &quot;lineCap&quot;: &quot;round&quot;, &quot;lineJoin&quot;: &quot;round&quot;, &quot;noClip&quot;: false, &quot;opacity&quot;: 1, &quot;smoothFactor&quot;: 1.0, &quot;stroke&quot;: true, &quot;weight&quot;: 2.5}\n",
       "            ).addTo(map_686443508c6b23771ca7ce2dac5f162d);\n",
       "        \n",
       "    \n",
       "            var marker_05d51127e174fa423634da6eb0a9310e = L.marker(\n",
       "                [42.3581, -71.093198],\n",
       "                {}\n",
       "            ).addTo(map_686443508c6b23771ca7ce2dac5f162d);\n",
       "        \n",
       "    \n",
       "            var icon_726f4ea369296ae118f1ea1520a85c3d = L.AwesomeMarkers.icon(\n",
       "                {&quot;extraClasses&quot;: &quot;fa-rotate-0&quot;, &quot;icon&quot;: &quot;bicycle&quot;, &quot;iconColor&quot;: &quot;white&quot;, &quot;markerColor&quot;: &quot;green&quot;, &quot;prefix&quot;: &quot;fa&quot;}\n",
       "            );\n",
       "            marker_05d51127e174fa423634da6eb0a9310e.setIcon(icon_726f4ea369296ae118f1ea1520a85c3d);\n",
       "        \n",
       "    \n",
       "        var popup_afa3ef32689601443fce70c0eee33fe7 = L.popup({&quot;maxWidth&quot;: &quot;100%&quot;});\n",
       "\n",
       "        \n",
       "            \n",
       "                var html_ce28f8a06501a043446093da84abd8cf = $(`&lt;div id=&quot;html_ce28f8a06501a043446093da84abd8cf&quot; style=&quot;width: 100.0%; height: 100.0%;&quot;&gt;(67, 2026)&lt;/div&gt;`)[0];\n",
       "                popup_afa3ef32689601443fce70c0eee33fe7.setContent(html_ce28f8a06501a043446093da84abd8cf);\n",
       "            \n",
       "        \n",
       "\n",
       "        marker_05d51127e174fa423634da6eb0a9310e.bindPopup(popup_afa3ef32689601443fce70c0eee33fe7)\n",
       "        ;\n",
       "\n",
       "        \n",
       "    \n",
       "    \n",
       "            var marker_9a1c57bac6630cef8aeeb9381235a348 = L.marker(\n",
       "                [42.350851, -71.089886],\n",
       "                {}\n",
       "            ).addTo(map_686443508c6b23771ca7ce2dac5f162d);\n",
       "        \n",
       "    \n",
       "            var icon_3fd8bcf252859c09df4e5f9630aa54ec = L.AwesomeMarkers.icon(\n",
       "                {&quot;extraClasses&quot;: &quot;fa-rotate-0&quot;, &quot;icon&quot;: &quot;bicycle&quot;, &quot;iconColor&quot;: &quot;white&quot;, &quot;markerColor&quot;: &quot;red&quot;, &quot;prefix&quot;: &quot;fa&quot;}\n",
       "            );\n",
       "            marker_9a1c57bac6630cef8aeeb9381235a348.setIcon(icon_3fd8bcf252859c09df4e5f9630aa54ec);\n",
       "        \n",
       "    \n",
       "        var popup_de10d06433304bc53b8c46500aa1f6c6 = L.popup({&quot;maxWidth&quot;: &quot;100%&quot;});\n",
       "\n",
       "        \n",
       "            \n",
       "                var html_05790af1cf7f5c7d6603e5aede659a1d = $(`&lt;div id=&quot;html_05790af1cf7f5c7d6603e5aede659a1d&quot; style=&quot;width: 100.0%; height: 100.0%;&quot;&gt;(&#x27;53&#x27;, 2026)&lt;/div&gt;`)[0];\n",
       "                popup_de10d06433304bc53b8c46500aa1f6c6.setContent(html_05790af1cf7f5c7d6603e5aede659a1d);\n",
       "            \n",
       "        \n",
       "\n",
       "        marker_9a1c57bac6630cef8aeeb9381235a348.bindPopup(popup_de10d06433304bc53b8c46500aa1f6c6)\n",
       "        ;\n",
       "\n",
       "        \n",
       "    \n",
       "    \n",
       "            var poly_line_b00aa69967ccdbe36ed112e93f855bc2 = L.polyline(\n",
       "                [[42.363871, -71.050877], [42.352175, -71.055547]],\n",
       "                {&quot;bubblingMouseEvents&quot;: true, &quot;color&quot;: &quot;red&quot;, &quot;dashArray&quot;: null, &quot;dashOffset&quot;: null, &quot;fill&quot;: false, &quot;fillColor&quot;: &quot;red&quot;, &quot;fillOpacity&quot;: 0.2, &quot;fillRule&quot;: &quot;evenodd&quot;, &quot;lineCap&quot;: &quot;round&quot;, &quot;lineJoin&quot;: &quot;round&quot;, &quot;noClip&quot;: false, &quot;opacity&quot;: 1, &quot;smoothFactor&quot;: 1.0, &quot;stroke&quot;: true, &quot;weight&quot;: 2.5}\n",
       "            ).addTo(map_686443508c6b23771ca7ce2dac5f162d);\n",
       "        \n",
       "    \n",
       "            var marker_7eac90ae3a45be3ec6079da374cbf0a9 = L.marker(\n",
       "                [42.363871, -71.050877],\n",
       "                {}\n",
       "            ).addTo(map_686443508c6b23771ca7ce2dac5f162d);\n",
       "        \n",
       "    \n",
       "            var icon_e2f5506f029119fcb4fb4ecc666e41ad = L.AwesomeMarkers.icon(\n",
       "                {&quot;extraClasses&quot;: &quot;fa-rotate-0&quot;, &quot;icon&quot;: &quot;bicycle&quot;, &quot;iconColor&quot;: &quot;white&quot;, &quot;markerColor&quot;: &quot;green&quot;, &quot;prefix&quot;: &quot;fa&quot;}\n",
       "            );\n",
       "            marker_7eac90ae3a45be3ec6079da374cbf0a9.setIcon(icon_e2f5506f029119fcb4fb4ecc666e41ad);\n",
       "        \n",
       "    \n",
       "        var popup_fb72f123965f4da17e9dbeb64cfcd3b1 = L.popup({&quot;maxWidth&quot;: &quot;100%&quot;});\n",
       "\n",
       "        \n",
       "            \n",
       "                var html_9faba6e475cb549b609e9db475b840d5 = $(`&lt;div id=&quot;html_9faba6e475cb549b609e9db475b840d5&quot; style=&quot;width: 100.0%; height: 100.0%;&quot;&gt;(40, 1982)&lt;/div&gt;`)[0];\n",
       "                popup_fb72f123965f4da17e9dbeb64cfcd3b1.setContent(html_9faba6e475cb549b609e9db475b840d5);\n",
       "            \n",
       "        \n",
       "\n",
       "        marker_7eac90ae3a45be3ec6079da374cbf0a9.bindPopup(popup_fb72f123965f4da17e9dbeb64cfcd3b1)\n",
       "        ;\n",
       "\n",
       "        \n",
       "    \n",
       "    \n",
       "            var marker_77acaabfd67319271fbf3a584449505a = L.marker(\n",
       "                [42.352175, -71.055547],\n",
       "                {}\n",
       "            ).addTo(map_686443508c6b23771ca7ce2dac5f162d);\n",
       "        \n",
       "    \n",
       "            var icon_41e1b396e392bd31df12e06e36c396da = L.AwesomeMarkers.icon(\n",
       "                {&quot;extraClasses&quot;: &quot;fa-rotate-0&quot;, &quot;icon&quot;: &quot;bicycle&quot;, &quot;iconColor&quot;: &quot;white&quot;, &quot;markerColor&quot;: &quot;red&quot;, &quot;prefix&quot;: &quot;fa&quot;}\n",
       "            );\n",
       "            marker_77acaabfd67319271fbf3a584449505a.setIcon(icon_41e1b396e392bd31df12e06e36c396da);\n",
       "        \n",
       "    \n",
       "        var popup_80c7740d409218e437a0004f2fd73545 = L.popup({&quot;maxWidth&quot;: &quot;100%&quot;});\n",
       "\n",
       "        \n",
       "            \n",
       "                var html_8c08074983aa7b872259f513d07ab9be = $(`&lt;div id=&quot;html_8c08074983aa7b872259f513d07ab9be&quot; style=&quot;width: 100.0%; height: 100.0%;&quot;&gt;(&#x27;22&#x27;, 1982)&lt;/div&gt;`)[0];\n",
       "                popup_80c7740d409218e437a0004f2fd73545.setContent(html_8c08074983aa7b872259f513d07ab9be);\n",
       "            \n",
       "        \n",
       "\n",
       "        marker_77acaabfd67319271fbf3a584449505a.bindPopup(popup_80c7740d409218e437a0004f2fd73545)\n",
       "        ;\n",
       "\n",
       "        \n",
       "    \n",
       "    \n",
       "            var poly_line_785aaff6dbd73f72d3212f161d3d445c = L.polyline(\n",
       "                [[42.3581, -71.093198], [42.36507, -71.1031]],\n",
       "                {&quot;bubblingMouseEvents&quot;: true, &quot;color&quot;: &quot;red&quot;, &quot;dashArray&quot;: null, &quot;dashOffset&quot;: null, &quot;fill&quot;: false, &quot;fillColor&quot;: &quot;red&quot;, &quot;fillOpacity&quot;: 0.2, &quot;fillRule&quot;: &quot;evenodd&quot;, &quot;lineCap&quot;: &quot;round&quot;, &quot;lineJoin&quot;: &quot;round&quot;, &quot;noClip&quot;: false, &quot;opacity&quot;: 1, &quot;smoothFactor&quot;: 1.0, &quot;stroke&quot;: true, &quot;weight&quot;: 2.5}\n",
       "            ).addTo(map_686443508c6b23771ca7ce2dac5f162d);\n",
       "        \n",
       "    \n",
       "            var marker_7c8818bc87718c5aa5778e5af5c66cb6 = L.marker(\n",
       "                [42.3581, -71.093198],\n",
       "                {}\n",
       "            ).addTo(map_686443508c6b23771ca7ce2dac5f162d);\n",
       "        \n",
       "    \n",
       "            var icon_ff0d6c47de3f3effa59e1d2084821f9e = L.AwesomeMarkers.icon(\n",
       "                {&quot;extraClasses&quot;: &quot;fa-rotate-0&quot;, &quot;icon&quot;: &quot;bicycle&quot;, &quot;iconColor&quot;: &quot;white&quot;, &quot;markerColor&quot;: &quot;green&quot;, &quot;prefix&quot;: &quot;fa&quot;}\n",
       "            );\n",
       "            marker_7c8818bc87718c5aa5778e5af5c66cb6.setIcon(icon_ff0d6c47de3f3effa59e1d2084821f9e);\n",
       "        \n",
       "    \n",
       "        var popup_abcee3ee2ec1fc111e974963421c1890 = L.popup({&quot;maxWidth&quot;: &quot;100%&quot;});\n",
       "\n",
       "        \n",
       "            \n",
       "                var html_9a53eeaf7219789201771a9b43ca1cfa = $(`&lt;div id=&quot;html_9a53eeaf7219789201771a9b43ca1cfa&quot; style=&quot;width: 100.0%; height: 100.0%;&quot;&gt;(67, 1845)&lt;/div&gt;`)[0];\n",
       "                popup_abcee3ee2ec1fc111e974963421c1890.setContent(html_9a53eeaf7219789201771a9b43ca1cfa);\n",
       "            \n",
       "        \n",
       "\n",
       "        marker_7c8818bc87718c5aa5778e5af5c66cb6.bindPopup(popup_abcee3ee2ec1fc111e974963421c1890)\n",
       "        ;\n",
       "\n",
       "        \n",
       "    \n",
       "    \n",
       "            var marker_85f302d2bf641df73efff6c8605a5c2d = L.marker(\n",
       "                [42.36507, -71.1031],\n",
       "                {}\n",
       "            ).addTo(map_686443508c6b23771ca7ce2dac5f162d);\n",
       "        \n",
       "    \n",
       "            var icon_d03843804b5f275718d4cc70ed7623e7 = L.AwesomeMarkers.icon(\n",
       "                {&quot;extraClasses&quot;: &quot;fa-rotate-0&quot;, &quot;icon&quot;: &quot;bicycle&quot;, &quot;iconColor&quot;: &quot;white&quot;, &quot;markerColor&quot;: &quot;red&quot;, &quot;prefix&quot;: &quot;fa&quot;}\n",
       "            );\n",
       "            marker_85f302d2bf641df73efff6c8605a5c2d.setIcon(icon_d03843804b5f275718d4cc70ed7623e7);\n",
       "        \n",
       "    \n",
       "        var popup_065c280e59157482082bfe9724257ffa = L.popup({&quot;maxWidth&quot;: &quot;100%&quot;});\n",
       "\n",
       "        \n",
       "            \n",
       "                var html_52d835070558c55a82e9c1612a22b042 = $(`&lt;div id=&quot;html_52d835070558c55a82e9c1612a22b042&quot; style=&quot;width: 100.0%; height: 100.0%;&quot;&gt;(&#x27;68&#x27;, 1845)&lt;/div&gt;`)[0];\n",
       "                popup_065c280e59157482082bfe9724257ffa.setContent(html_52d835070558c55a82e9c1612a22b042);\n",
       "            \n",
       "        \n",
       "\n",
       "        marker_85f302d2bf641df73efff6c8605a5c2d.bindPopup(popup_065c280e59157482082bfe9724257ffa)\n",
       "        ;\n",
       "\n",
       "        \n",
       "    \n",
       "    \n",
       "            var poly_line_fe421363bd16c80fb80d03bd5c345304 = L.polyline(\n",
       "                [[42.350851, -71.089886], [42.3581, -71.093198]],\n",
       "                {&quot;bubblingMouseEvents&quot;: true, &quot;color&quot;: &quot;red&quot;, &quot;dashArray&quot;: null, &quot;dashOffset&quot;: null, &quot;fill&quot;: false, &quot;fillColor&quot;: &quot;red&quot;, &quot;fillOpacity&quot;: 0.2, &quot;fillRule&quot;: &quot;evenodd&quot;, &quot;lineCap&quot;: &quot;round&quot;, &quot;lineJoin&quot;: &quot;round&quot;, &quot;noClip&quot;: false, &quot;opacity&quot;: 1, &quot;smoothFactor&quot;: 1.0, &quot;stroke&quot;: true, &quot;weight&quot;: 2.5}\n",
       "            ).addTo(map_686443508c6b23771ca7ce2dac5f162d);\n",
       "        \n",
       "    \n",
       "            var marker_d761d431d4e8db369453b0dd28d84551 = L.marker(\n",
       "                [42.350851, -71.089886],\n",
       "                {}\n",
       "            ).addTo(map_686443508c6b23771ca7ce2dac5f162d);\n",
       "        \n",
       "    \n",
       "            var icon_0b0ea5e3f0af82ad43a9f165f1a06f19 = L.AwesomeMarkers.icon(\n",
       "                {&quot;extraClasses&quot;: &quot;fa-rotate-0&quot;, &quot;icon&quot;: &quot;bicycle&quot;, &quot;iconColor&quot;: &quot;white&quot;, &quot;markerColor&quot;: &quot;green&quot;, &quot;prefix&quot;: &quot;fa&quot;}\n",
       "            );\n",
       "            marker_d761d431d4e8db369453b0dd28d84551.setIcon(icon_0b0ea5e3f0af82ad43a9f165f1a06f19);\n",
       "        \n",
       "    \n",
       "        var popup_d87183af4a5eafb86b57fe9900df8936 = L.popup({&quot;maxWidth&quot;: &quot;100%&quot;});\n",
       "\n",
       "        \n",
       "            \n",
       "                var html_e6087e983a1c5f6dd52c8a8dbf762602 = $(`&lt;div id=&quot;html_e6087e983a1c5f6dd52c8a8dbf762602&quot; style=&quot;width: 100.0%; height: 100.0%;&quot;&gt;(53, 1783)&lt;/div&gt;`)[0];\n",
       "                popup_d87183af4a5eafb86b57fe9900df8936.setContent(html_e6087e983a1c5f6dd52c8a8dbf762602);\n",
       "            \n",
       "        \n",
       "\n",
       "        marker_d761d431d4e8db369453b0dd28d84551.bindPopup(popup_d87183af4a5eafb86b57fe9900df8936)\n",
       "        ;\n",
       "\n",
       "        \n",
       "    \n",
       "    \n",
       "            var marker_19325ac8cc3b72d6ab8193fb14dee5c0 = L.marker(\n",
       "                [42.3581, -71.093198],\n",
       "                {}\n",
       "            ).addTo(map_686443508c6b23771ca7ce2dac5f162d);\n",
       "        \n",
       "    \n",
       "            var icon_d3ef573c63d7337938bf7ef8076fe5a1 = L.AwesomeMarkers.icon(\n",
       "                {&quot;extraClasses&quot;: &quot;fa-rotate-0&quot;, &quot;icon&quot;: &quot;bicycle&quot;, &quot;iconColor&quot;: &quot;white&quot;, &quot;markerColor&quot;: &quot;red&quot;, &quot;prefix&quot;: &quot;fa&quot;}\n",
       "            );\n",
       "            marker_19325ac8cc3b72d6ab8193fb14dee5c0.setIcon(icon_d3ef573c63d7337938bf7ef8076fe5a1);\n",
       "        \n",
       "    \n",
       "        var popup_8b0d4797a99e73ee86f7b26ed1b3a52a = L.popup({&quot;maxWidth&quot;: &quot;100%&quot;});\n",
       "\n",
       "        \n",
       "            \n",
       "                var html_7e9a6b76844001c7b00c600e767de0d1 = $(`&lt;div id=&quot;html_7e9a6b76844001c7b00c600e767de0d1&quot; style=&quot;width: 100.0%; height: 100.0%;&quot;&gt;(&#x27;67&#x27;, 1783)&lt;/div&gt;`)[0];\n",
       "                popup_8b0d4797a99e73ee86f7b26ed1b3a52a.setContent(html_7e9a6b76844001c7b00c600e767de0d1);\n",
       "            \n",
       "        \n",
       "\n",
       "        marker_19325ac8cc3b72d6ab8193fb14dee5c0.bindPopup(popup_8b0d4797a99e73ee86f7b26ed1b3a52a)\n",
       "        ;\n",
       "\n",
       "        \n",
       "    \n",
       "    \n",
       "            var poly_line_a95a055c71f257ad2efebcc0a3f03927 = L.polyline(\n",
       "                [[42.352175, -71.055547], [42.363871, -71.050877]],\n",
       "                {&quot;bubblingMouseEvents&quot;: true, &quot;color&quot;: &quot;red&quot;, &quot;dashArray&quot;: null, &quot;dashOffset&quot;: null, &quot;fill&quot;: false, &quot;fillColor&quot;: &quot;red&quot;, &quot;fillOpacity&quot;: 0.2, &quot;fillRule&quot;: &quot;evenodd&quot;, &quot;lineCap&quot;: &quot;round&quot;, &quot;lineJoin&quot;: &quot;round&quot;, &quot;noClip&quot;: false, &quot;opacity&quot;: 1, &quot;smoothFactor&quot;: 1.0, &quot;stroke&quot;: true, &quot;weight&quot;: 2.5}\n",
       "            ).addTo(map_686443508c6b23771ca7ce2dac5f162d);\n",
       "        \n",
       "    \n",
       "            var marker_844b6963025c2a273ca11d6103934a87 = L.marker(\n",
       "                [42.352175, -71.055547],\n",
       "                {}\n",
       "            ).addTo(map_686443508c6b23771ca7ce2dac5f162d);\n",
       "        \n",
       "    \n",
       "            var icon_eaa4917a005bcd33c05a678f60948cac = L.AwesomeMarkers.icon(\n",
       "                {&quot;extraClasses&quot;: &quot;fa-rotate-0&quot;, &quot;icon&quot;: &quot;bicycle&quot;, &quot;iconColor&quot;: &quot;white&quot;, &quot;markerColor&quot;: &quot;green&quot;, &quot;prefix&quot;: &quot;fa&quot;}\n",
       "            );\n",
       "            marker_844b6963025c2a273ca11d6103934a87.setIcon(icon_eaa4917a005bcd33c05a678f60948cac);\n",
       "        \n",
       "    \n",
       "        var popup_9776d3ab61616458c31cf64053006b42 = L.popup({&quot;maxWidth&quot;: &quot;100%&quot;});\n",
       "\n",
       "        \n",
       "            \n",
       "                var html_699c37297aeb3e785af880062fc473f1 = $(`&lt;div id=&quot;html_699c37297aeb3e785af880062fc473f1&quot; style=&quot;width: 100.0%; height: 100.0%;&quot;&gt;(22, 1741)&lt;/div&gt;`)[0];\n",
       "                popup_9776d3ab61616458c31cf64053006b42.setContent(html_699c37297aeb3e785af880062fc473f1);\n",
       "            \n",
       "        \n",
       "\n",
       "        marker_844b6963025c2a273ca11d6103934a87.bindPopup(popup_9776d3ab61616458c31cf64053006b42)\n",
       "        ;\n",
       "\n",
       "        \n",
       "    \n",
       "    \n",
       "            var marker_45017600b9114d7b1d9a41bac3aa7634 = L.marker(\n",
       "                [42.363871, -71.050877],\n",
       "                {}\n",
       "            ).addTo(map_686443508c6b23771ca7ce2dac5f162d);\n",
       "        \n",
       "    \n",
       "            var icon_b516a61f1d272d5d1aca440fb0c1538c = L.AwesomeMarkers.icon(\n",
       "                {&quot;extraClasses&quot;: &quot;fa-rotate-0&quot;, &quot;icon&quot;: &quot;bicycle&quot;, &quot;iconColor&quot;: &quot;white&quot;, &quot;markerColor&quot;: &quot;red&quot;, &quot;prefix&quot;: &quot;fa&quot;}\n",
       "            );\n",
       "            marker_45017600b9114d7b1d9a41bac3aa7634.setIcon(icon_b516a61f1d272d5d1aca440fb0c1538c);\n",
       "        \n",
       "    \n",
       "        var popup_455c9f40e1eb7354d478a9df08638737 = L.popup({&quot;maxWidth&quot;: &quot;100%&quot;});\n",
       "\n",
       "        \n",
       "            \n",
       "                var html_6d912da45983d6138215adaf4ffc907d = $(`&lt;div id=&quot;html_6d912da45983d6138215adaf4ffc907d&quot; style=&quot;width: 100.0%; height: 100.0%;&quot;&gt;(&#x27;40&#x27;, 1741)&lt;/div&gt;`)[0];\n",
       "                popup_455c9f40e1eb7354d478a9df08638737.setContent(html_6d912da45983d6138215adaf4ffc907d);\n",
       "            \n",
       "        \n",
       "\n",
       "        marker_45017600b9114d7b1d9a41bac3aa7634.bindPopup(popup_455c9f40e1eb7354d478a9df08638737)\n",
       "        ;\n",
       "\n",
       "        \n",
       "    \n",
       "    \n",
       "            var poly_line_6e965cd8894de3b592b51f38f582b9d2 = L.polyline(\n",
       "                [[42.36507, -71.1031], [42.3581, -71.093198]],\n",
       "                {&quot;bubblingMouseEvents&quot;: true, &quot;color&quot;: &quot;red&quot;, &quot;dashArray&quot;: null, &quot;dashOffset&quot;: null, &quot;fill&quot;: false, &quot;fillColor&quot;: &quot;red&quot;, &quot;fillOpacity&quot;: 0.2, &quot;fillRule&quot;: &quot;evenodd&quot;, &quot;lineCap&quot;: &quot;round&quot;, &quot;lineJoin&quot;: &quot;round&quot;, &quot;noClip&quot;: false, &quot;opacity&quot;: 1, &quot;smoothFactor&quot;: 1.0, &quot;stroke&quot;: true, &quot;weight&quot;: 2.5}\n",
       "            ).addTo(map_686443508c6b23771ca7ce2dac5f162d);\n",
       "        \n",
       "    \n",
       "            var marker_c3df729fbea17b8e1b5f3b81c0e40971 = L.marker(\n",
       "                [42.36507, -71.1031],\n",
       "                {}\n",
       "            ).addTo(map_686443508c6b23771ca7ce2dac5f162d);\n",
       "        \n",
       "    \n",
       "            var icon_a2a1da61757bbdaa941181dbc88c276a = L.AwesomeMarkers.icon(\n",
       "                {&quot;extraClasses&quot;: &quot;fa-rotate-0&quot;, &quot;icon&quot;: &quot;bicycle&quot;, &quot;iconColor&quot;: &quot;white&quot;, &quot;markerColor&quot;: &quot;green&quot;, &quot;prefix&quot;: &quot;fa&quot;}\n",
       "            );\n",
       "            marker_c3df729fbea17b8e1b5f3b81c0e40971.setIcon(icon_a2a1da61757bbdaa941181dbc88c276a);\n",
       "        \n",
       "    \n",
       "        var popup_b420523cddce65234b8dba04e770b253 = L.popup({&quot;maxWidth&quot;: &quot;100%&quot;});\n",
       "\n",
       "        \n",
       "            \n",
       "                var html_45dd88f97617a726f83a04b04549e493 = $(`&lt;div id=&quot;html_45dd88f97617a726f83a04b04549e493&quot; style=&quot;width: 100.0%; height: 100.0%;&quot;&gt;(68, 1610)&lt;/div&gt;`)[0];\n",
       "                popup_b420523cddce65234b8dba04e770b253.setContent(html_45dd88f97617a726f83a04b04549e493);\n",
       "            \n",
       "        \n",
       "\n",
       "        marker_c3df729fbea17b8e1b5f3b81c0e40971.bindPopup(popup_b420523cddce65234b8dba04e770b253)\n",
       "        ;\n",
       "\n",
       "        \n",
       "    \n",
       "    \n",
       "            var marker_ebde91640c777fe8a74be49c128c02fd = L.marker(\n",
       "                [42.3581, -71.093198],\n",
       "                {}\n",
       "            ).addTo(map_686443508c6b23771ca7ce2dac5f162d);\n",
       "        \n",
       "    \n",
       "            var icon_76c56a94cc010a802105e8a4f1e07831 = L.AwesomeMarkers.icon(\n",
       "                {&quot;extraClasses&quot;: &quot;fa-rotate-0&quot;, &quot;icon&quot;: &quot;bicycle&quot;, &quot;iconColor&quot;: &quot;white&quot;, &quot;markerColor&quot;: &quot;red&quot;, &quot;prefix&quot;: &quot;fa&quot;}\n",
       "            );\n",
       "            marker_ebde91640c777fe8a74be49c128c02fd.setIcon(icon_76c56a94cc010a802105e8a4f1e07831);\n",
       "        \n",
       "    \n",
       "        var popup_f242402175b7a21718225ffa655eb85f = L.popup({&quot;maxWidth&quot;: &quot;100%&quot;});\n",
       "\n",
       "        \n",
       "            \n",
       "                var html_06637e10086d04fdb6283f37e3dd1603 = $(`&lt;div id=&quot;html_06637e10086d04fdb6283f37e3dd1603&quot; style=&quot;width: 100.0%; height: 100.0%;&quot;&gt;(&#x27;67&#x27;, 1610)&lt;/div&gt;`)[0];\n",
       "                popup_f242402175b7a21718225ffa655eb85f.setContent(html_06637e10086d04fdb6283f37e3dd1603);\n",
       "            \n",
       "        \n",
       "\n",
       "        marker_ebde91640c777fe8a74be49c128c02fd.bindPopup(popup_f242402175b7a21718225ffa655eb85f)\n",
       "        ;\n",
       "\n",
       "        \n",
       "    \n",
       "    \n",
       "            var poly_line_d88b8f618aaa547a453a36829d1a9c18 = L.polyline(\n",
       "                [[42.35977, -71.051601], [42.352175, -71.055547]],\n",
       "                {&quot;bubblingMouseEvents&quot;: true, &quot;color&quot;: &quot;red&quot;, &quot;dashArray&quot;: null, &quot;dashOffset&quot;: null, &quot;fill&quot;: false, &quot;fillColor&quot;: &quot;red&quot;, &quot;fillOpacity&quot;: 0.2, &quot;fillRule&quot;: &quot;evenodd&quot;, &quot;lineCap&quot;: &quot;round&quot;, &quot;lineJoin&quot;: &quot;round&quot;, &quot;noClip&quot;: false, &quot;opacity&quot;: 1, &quot;smoothFactor&quot;: 1.0, &quot;stroke&quot;: true, &quot;weight&quot;: 2.5}\n",
       "            ).addTo(map_686443508c6b23771ca7ce2dac5f162d);\n",
       "        \n",
       "    \n",
       "            var marker_f53396d2f5c4784f29c6519e3ef026e9 = L.marker(\n",
       "                [42.35977, -71.051601],\n",
       "                {}\n",
       "            ).addTo(map_686443508c6b23771ca7ce2dac5f162d);\n",
       "        \n",
       "    \n",
       "            var icon_b54cd6d5be6db182d60dce57c447fcfa = L.AwesomeMarkers.icon(\n",
       "                {&quot;extraClasses&quot;: &quot;fa-rotate-0&quot;, &quot;icon&quot;: &quot;bicycle&quot;, &quot;iconColor&quot;: &quot;white&quot;, &quot;markerColor&quot;: &quot;green&quot;, &quot;prefix&quot;: &quot;fa&quot;}\n",
       "            );\n",
       "            marker_f53396d2f5c4784f29c6519e3ef026e9.setIcon(icon_b54cd6d5be6db182d60dce57c447fcfa);\n",
       "        \n",
       "    \n",
       "        var popup_b264768c1cc04fbbdce16a2e01c31a7e = L.popup({&quot;maxWidth&quot;: &quot;100%&quot;});\n",
       "\n",
       "        \n",
       "            \n",
       "                var html_565345a5f50d34824d386b924f3768c6 = $(`&lt;div id=&quot;html_565345a5f50d34824d386b924f3768c6&quot; style=&quot;width: 100.0%; height: 100.0%;&quot;&gt;(20, 1531)&lt;/div&gt;`)[0];\n",
       "                popup_b264768c1cc04fbbdce16a2e01c31a7e.setContent(html_565345a5f50d34824d386b924f3768c6);\n",
       "            \n",
       "        \n",
       "\n",
       "        marker_f53396d2f5c4784f29c6519e3ef026e9.bindPopup(popup_b264768c1cc04fbbdce16a2e01c31a7e)\n",
       "        ;\n",
       "\n",
       "        \n",
       "    \n",
       "    \n",
       "            var marker_f8f2ca3f3cfe4b638069f789a195f1f4 = L.marker(\n",
       "                [42.352175, -71.055547],\n",
       "                {}\n",
       "            ).addTo(map_686443508c6b23771ca7ce2dac5f162d);\n",
       "        \n",
       "    \n",
       "            var icon_ef347b04ebcf85570f91721ddea4ff94 = L.AwesomeMarkers.icon(\n",
       "                {&quot;extraClasses&quot;: &quot;fa-rotate-0&quot;, &quot;icon&quot;: &quot;bicycle&quot;, &quot;iconColor&quot;: &quot;white&quot;, &quot;markerColor&quot;: &quot;red&quot;, &quot;prefix&quot;: &quot;fa&quot;}\n",
       "            );\n",
       "            marker_f8f2ca3f3cfe4b638069f789a195f1f4.setIcon(icon_ef347b04ebcf85570f91721ddea4ff94);\n",
       "        \n",
       "    \n",
       "        var popup_e3ba4390b657cf3a632672272228a860 = L.popup({&quot;maxWidth&quot;: &quot;100%&quot;});\n",
       "\n",
       "        \n",
       "            \n",
       "                var html_78845e8f2146f6b273c84c49f5f9f23d = $(`&lt;div id=&quot;html_78845e8f2146f6b273c84c49f5f9f23d&quot; style=&quot;width: 100.0%; height: 100.0%;&quot;&gt;(&#x27;22&#x27;, 1531)&lt;/div&gt;`)[0];\n",
       "                popup_e3ba4390b657cf3a632672272228a860.setContent(html_78845e8f2146f6b273c84c49f5f9f23d);\n",
       "            \n",
       "        \n",
       "\n",
       "        marker_f8f2ca3f3cfe4b638069f789a195f1f4.bindPopup(popup_e3ba4390b657cf3a632672272228a860)\n",
       "        ;\n",
       "\n",
       "        \n",
       "    \n",
       "&lt;/script&gt;\n",
       "&lt;/html&gt;\" style=\"position:absolute;width:100%;height:100%;left:0;top:0;border:none !important;\" allowfullscreen webkitallowfullscreen mozallowfullscreen></iframe></div></div>"
      ],
      "text/plain": [
       "<folium.folium.Map at 0x7fb972e1a490>"
      ]
     },
     "execution_count": 42,
     "metadata": {},
     "output_type": "execute_result"
    }
   ],
   "source": [
    "\n",
    "avg_lat = df_trips['start_station_latitude'].mean()\n",
    "avg_long = df_trips['start_station_longitude'].mean()\n",
    "\n",
    "m = folium.Map(location=[avg_lat, avg_long], zoom_start=15)\n",
    "\n",
    "points = []\n",
    "\n",
    "df_top_trips = df_trips.head(10)\n",
    "\n",
    "\n",
    "for i in range(0,len(df_top_trips)):\n",
    "    points.append([df_top_trips.iloc[i]['start_station_latitude'],df_top_trips.iloc[i]['start_station_longitude']])\n",
    "    points.append([df_top_trips.iloc[i]['end_station_latitude'],df_top_trips.iloc[i]['end_station_longitude']])\n",
    "    folium.PolyLine(points, color=\"red\", weight=2.5, opacity=1).add_to(m)\n",
    "    folium.Marker([df_top_trips.iloc[i]['start_station_latitude'],df_top_trips.iloc[i]['start_station_longitude']],popup=(df_top_trips.iloc[i]['start_station_id'], df_top_trips.iloc[i]['count_trips' ]), icon = folium.Icon(color='green',prefix='fa', icon='bicycle')).add_to(m)\n",
    "    folium.Marker([df_top_trips.iloc[i]['end_station_latitude'],df_top_trips.iloc[i]['end_station_longitude']],popup=(df_top_trips.iloc[i]['end_station_id'], df_top_trips.iloc[i]['count_trips' ]), icon = folium.Icon(color='red',prefix='fa', icon='bicycle')).add_to(m)\n",
    "    points = [] #if points is not reseted then each station will be connected with every other station in array\n",
    "\n",
    "m "
   ]
  },
  {
   "cell_type": "code",
   "execution_count": 43,
   "metadata": {},
   "outputs": [
    {
     "data": {
      "text/html": [
       "<div>\n",
       "<style scoped>\n",
       "    .dataframe tbody tr th:only-of-type {\n",
       "        vertical-align: middle;\n",
       "    }\n",
       "\n",
       "    .dataframe tbody tr th {\n",
       "        vertical-align: top;\n",
       "    }\n",
       "\n",
       "    .dataframe thead th {\n",
       "        text-align: right;\n",
       "    }\n",
       "</style>\n",
       "<table border=\"1\" class=\"dataframe\">\n",
       "  <thead>\n",
       "    <tr style=\"text-align: right;\">\n",
       "      <th></th>\n",
       "      <th>Station_A</th>\n",
       "      <th>Station_B</th>\n",
       "      <th>start_station_latitude</th>\n",
       "      <th>start_station_longitude</th>\n",
       "      <th>end_station_latitude</th>\n",
       "      <th>end_station_longitude</th>\n",
       "      <th>count_trips</th>\n",
       "    </tr>\n",
       "  </thead>\n",
       "  <tbody>\n",
       "    <tr>\n",
       "      <th>0</th>\n",
       "      <td>118</td>\n",
       "      <td>100</td>\n",
       "      <td>42.397828</td>\n",
       "      <td>-71.130516</td>\n",
       "      <td>42.396969</td>\n",
       "      <td>-71.123024</td>\n",
       "      <td>3020</td>\n",
       "    </tr>\n",
       "    <tr>\n",
       "      <th>1</th>\n",
       "      <td>100</td>\n",
       "      <td>118</td>\n",
       "      <td>42.396969</td>\n",
       "      <td>-71.123024</td>\n",
       "      <td>42.397828</td>\n",
       "      <td>-71.130516</td>\n",
       "      <td>2755</td>\n",
       "    </tr>\n",
       "    <tr>\n",
       "      <th>2</th>\n",
       "      <td>114</td>\n",
       "      <td>100</td>\n",
       "      <td>42.402763</td>\n",
       "      <td>-71.126908</td>\n",
       "      <td>42.396969</td>\n",
       "      <td>-71.123024</td>\n",
       "      <td>2047</td>\n",
       "    </tr>\n",
       "    <tr>\n",
       "      <th>3</th>\n",
       "      <td>67</td>\n",
       "      <td>53</td>\n",
       "      <td>42.358100</td>\n",
       "      <td>-71.093198</td>\n",
       "      <td>42.350851</td>\n",
       "      <td>-71.089886</td>\n",
       "      <td>2026</td>\n",
       "    </tr>\n",
       "    <tr>\n",
       "      <th>4</th>\n",
       "      <td>40</td>\n",
       "      <td>22</td>\n",
       "      <td>42.363871</td>\n",
       "      <td>-71.050877</td>\n",
       "      <td>42.352175</td>\n",
       "      <td>-71.055547</td>\n",
       "      <td>1982</td>\n",
       "    </tr>\n",
       "    <tr>\n",
       "      <th>5</th>\n",
       "      <td>67</td>\n",
       "      <td>68</td>\n",
       "      <td>42.358100</td>\n",
       "      <td>-71.093198</td>\n",
       "      <td>42.365070</td>\n",
       "      <td>-71.103100</td>\n",
       "      <td>1845</td>\n",
       "    </tr>\n",
       "    <tr>\n",
       "      <th>6</th>\n",
       "      <td>53</td>\n",
       "      <td>67</td>\n",
       "      <td>42.350851</td>\n",
       "      <td>-71.089886</td>\n",
       "      <td>42.358100</td>\n",
       "      <td>-71.093198</td>\n",
       "      <td>1783</td>\n",
       "    </tr>\n",
       "    <tr>\n",
       "      <th>7</th>\n",
       "      <td>22</td>\n",
       "      <td>40</td>\n",
       "      <td>42.352175</td>\n",
       "      <td>-71.055547</td>\n",
       "      <td>42.363871</td>\n",
       "      <td>-71.050877</td>\n",
       "      <td>1741</td>\n",
       "    </tr>\n",
       "    <tr>\n",
       "      <th>8</th>\n",
       "      <td>68</td>\n",
       "      <td>67</td>\n",
       "      <td>42.365070</td>\n",
       "      <td>-71.103100</td>\n",
       "      <td>42.358100</td>\n",
       "      <td>-71.093198</td>\n",
       "      <td>1610</td>\n",
       "    </tr>\n",
       "    <tr>\n",
       "      <th>9</th>\n",
       "      <td>20</td>\n",
       "      <td>22</td>\n",
       "      <td>42.359770</td>\n",
       "      <td>-71.051601</td>\n",
       "      <td>42.352175</td>\n",
       "      <td>-71.055547</td>\n",
       "      <td>1531</td>\n",
       "    </tr>\n",
       "    <tr>\n",
       "      <th>10</th>\n",
       "      <td>67</td>\n",
       "      <td>75</td>\n",
       "      <td>42.358100</td>\n",
       "      <td>-71.093198</td>\n",
       "      <td>42.363465</td>\n",
       "      <td>-71.100573</td>\n",
       "      <td>1524</td>\n",
       "    </tr>\n",
       "  </tbody>\n",
       "</table>\n",
       "</div>"
      ],
      "text/plain": [
       "    Station_A Station_B  start_station_latitude  start_station_longitude  \\\n",
       "0         118       100               42.397828               -71.130516   \n",
       "1         100       118               42.396969               -71.123024   \n",
       "2         114       100               42.402763               -71.126908   \n",
       "3          67        53               42.358100               -71.093198   \n",
       "4          40        22               42.363871               -71.050877   \n",
       "5          67        68               42.358100               -71.093198   \n",
       "6          53        67               42.350851               -71.089886   \n",
       "7          22        40               42.352175               -71.055547   \n",
       "8          68        67               42.365070               -71.103100   \n",
       "9          20        22               42.359770               -71.051601   \n",
       "10         67        75               42.358100               -71.093198   \n",
       "\n",
       "    end_station_latitude  end_station_longitude  count_trips  \n",
       "0              42.396969             -71.123024         3020  \n",
       "1              42.397828             -71.130516         2755  \n",
       "2              42.396969             -71.123024         2047  \n",
       "3              42.350851             -71.089886         2026  \n",
       "4              42.352175             -71.055547         1982  \n",
       "5              42.365070             -71.103100         1845  \n",
       "6              42.358100             -71.093198         1783  \n",
       "7              42.363871             -71.050877         1741  \n",
       "8              42.358100             -71.093198         1610  \n",
       "9              42.352175             -71.055547         1531  \n",
       "10             42.363465             -71.100573         1524  "
      ]
     },
     "execution_count": 43,
     "metadata": {},
     "output_type": "execute_result"
    }
   ],
   "source": [
    "df_top_trips = df_trips.head(47).copy() #most common trips ignoring direction of trip, filter is 47 as we only use values above 1000 \n",
    "\n",
    "for j in range(0, len(df_top_trips)):\n",
    "    if j < len(df_top_trips):\n",
    "        for i in range (0, len(df_top_trips)):\n",
    "            if i < len(df_top_trips):\n",
    "                if df_top_trips.at[j,'start_station_id'] == df_top_trips.at[i, 'end_station_id'] and df_top_trips.at[i,'start_station_id'] == df_top_trips.at[j, 'end_station_id']:\n",
    "                    df_top_trips.at[j, 'count_trips'] = df_top_trips.at[i, 'count_trips'] + df_top_trips.at[j, 'count_trips']\n",
    "                    df_top_trips = df_top_trips.drop(i)\n",
    "                df_top_trips.index = range(0, len(df_top_trips))\n",
    "\n",
    "\n",
    "df_top_trips = df_top_trips.sort_values('count_trips', ascending = False)\n",
    "df_top_trips.index = range(0, len(df_top_trips))\n",
    "df_top_trips = df_top_trips.rename(columns = {'start_station_id' : 'Station_A', 'end_station_id' : 'Station_B'})\n",
    "df_top_trips = df_top_trips.head(11) #above 2300 total trips and close to top 10 \n",
    "df_top_trips\n"
   ]
  },
  {
   "cell_type": "code",
   "execution_count": 44,
   "metadata": {},
   "outputs": [
    {
     "data": {
      "text/html": [
       "<div style=\"width:100%;\"><div style=\"position:relative;width:100%;height:0;padding-bottom:60%;\"><span style=\"color:#565656\">Make this Notebook Trusted to load map: File -> Trust Notebook</span><iframe srcdoc=\"&lt;!DOCTYPE html&gt;\n",
       "&lt;html&gt;\n",
       "&lt;head&gt;\n",
       "    \n",
       "    &lt;meta http-equiv=&quot;content-type&quot; content=&quot;text/html; charset=UTF-8&quot; /&gt;\n",
       "    \n",
       "        &lt;script&gt;\n",
       "            L_NO_TOUCH = false;\n",
       "            L_DISABLE_3D = false;\n",
       "        &lt;/script&gt;\n",
       "    \n",
       "    &lt;style&gt;html, body {width: 100%;height: 100%;margin: 0;padding: 0;}&lt;/style&gt;\n",
       "    &lt;style&gt;#map {position:absolute;top:0;bottom:0;right:0;left:0;}&lt;/style&gt;\n",
       "    &lt;script src=&quot;https://cdn.jsdelivr.net/npm/leaflet@1.9.3/dist/leaflet.js&quot;&gt;&lt;/script&gt;\n",
       "    &lt;script src=&quot;https://code.jquery.com/jquery-1.12.4.min.js&quot;&gt;&lt;/script&gt;\n",
       "    &lt;script src=&quot;https://cdn.jsdelivr.net/npm/bootstrap@5.2.2/dist/js/bootstrap.bundle.min.js&quot;&gt;&lt;/script&gt;\n",
       "    &lt;script src=&quot;https://cdnjs.cloudflare.com/ajax/libs/Leaflet.awesome-markers/2.0.2/leaflet.awesome-markers.js&quot;&gt;&lt;/script&gt;\n",
       "    &lt;link rel=&quot;stylesheet&quot; href=&quot;https://cdn.jsdelivr.net/npm/leaflet@1.9.3/dist/leaflet.css&quot;/&gt;\n",
       "    &lt;link rel=&quot;stylesheet&quot; href=&quot;https://cdn.jsdelivr.net/npm/bootstrap@5.2.2/dist/css/bootstrap.min.css&quot;/&gt;\n",
       "    &lt;link rel=&quot;stylesheet&quot; href=&quot;https://netdna.bootstrapcdn.com/bootstrap/3.0.0/css/bootstrap.min.css&quot;/&gt;\n",
       "    &lt;link rel=&quot;stylesheet&quot; href=&quot;https://cdn.jsdelivr.net/npm/@fortawesome/fontawesome-free@6.2.0/css/all.min.css&quot;/&gt;\n",
       "    &lt;link rel=&quot;stylesheet&quot; href=&quot;https://cdnjs.cloudflare.com/ajax/libs/Leaflet.awesome-markers/2.0.2/leaflet.awesome-markers.css&quot;/&gt;\n",
       "    &lt;link rel=&quot;stylesheet&quot; href=&quot;https://cdn.jsdelivr.net/gh/python-visualization/folium/folium/templates/leaflet.awesome.rotate.min.css&quot;/&gt;\n",
       "    \n",
       "            &lt;meta name=&quot;viewport&quot; content=&quot;width=device-width,\n",
       "                initial-scale=1.0, maximum-scale=1.0, user-scalable=no&quot; /&gt;\n",
       "            &lt;style&gt;\n",
       "                #map_4f18f501192524ce998ea74ca91a2225 {\n",
       "                    position: relative;\n",
       "                    width: 100.0%;\n",
       "                    height: 100.0%;\n",
       "                    left: 0.0%;\n",
       "                    top: 0.0%;\n",
       "                }\n",
       "                .leaflet-container { font-size: 1rem; }\n",
       "            &lt;/style&gt;\n",
       "        \n",
       "&lt;/head&gt;\n",
       "&lt;body&gt;\n",
       "    \n",
       "    \n",
       "            &lt;div class=&quot;folium-map&quot; id=&quot;map_4f18f501192524ce998ea74ca91a2225&quot; &gt;&lt;/div&gt;\n",
       "        \n",
       "&lt;/body&gt;\n",
       "&lt;script&gt;\n",
       "    \n",
       "    \n",
       "            var map_4f18f501192524ce998ea74ca91a2225 = L.map(\n",
       "                &quot;map_4f18f501192524ce998ea74ca91a2225&quot;,\n",
       "                {\n",
       "                    center: [42.35593249190727, -71.08880031119415],\n",
       "                    crs: L.CRS.EPSG3857,\n",
       "                    zoom: 15,\n",
       "                    zoomControl: true,\n",
       "                    preferCanvas: false,\n",
       "                }\n",
       "            );\n",
       "\n",
       "            \n",
       "\n",
       "        \n",
       "    \n",
       "            var tile_layer_586c7a0f99c1d25ee64170d5149a797d = L.tileLayer(\n",
       "                &quot;https://{s}.tile.openstreetmap.org/{z}/{x}/{y}.png&quot;,\n",
       "                {&quot;attribution&quot;: &quot;Data by \\u0026copy; \\u003ca target=\\&quot;_blank\\&quot; href=\\&quot;http://openstreetmap.org\\&quot;\\u003eOpenStreetMap\\u003c/a\\u003e, under \\u003ca target=\\&quot;_blank\\&quot; href=\\&quot;http://www.openstreetmap.org/copyright\\&quot;\\u003eODbL\\u003c/a\\u003e.&quot;, &quot;detectRetina&quot;: false, &quot;maxNativeZoom&quot;: 18, &quot;maxZoom&quot;: 18, &quot;minZoom&quot;: 0, &quot;noWrap&quot;: false, &quot;opacity&quot;: 1, &quot;subdomains&quot;: &quot;abc&quot;, &quot;tms&quot;: false}\n",
       "            ).addTo(map_4f18f501192524ce998ea74ca91a2225);\n",
       "        \n",
       "    \n",
       "            var poly_line_778592a52f114785ebf64634dfd106ab = L.polyline(\n",
       "                [[42.397828, -71.130516], [42.396969, -71.123024]],\n",
       "                {&quot;bubblingMouseEvents&quot;: true, &quot;color&quot;: &quot;red&quot;, &quot;dashArray&quot;: null, &quot;dashOffset&quot;: null, &quot;fill&quot;: false, &quot;fillColor&quot;: &quot;red&quot;, &quot;fillOpacity&quot;: 0.2, &quot;fillRule&quot;: &quot;evenodd&quot;, &quot;lineCap&quot;: &quot;round&quot;, &quot;lineJoin&quot;: &quot;round&quot;, &quot;noClip&quot;: false, &quot;opacity&quot;: 1, &quot;smoothFactor&quot;: 1.0, &quot;stroke&quot;: true, &quot;weight&quot;: 2.5}\n",
       "            ).addTo(map_4f18f501192524ce998ea74ca91a2225);\n",
       "        \n",
       "    \n",
       "            var marker_237c2ef24b5b9f4838c23966d743241f = L.marker(\n",
       "                [42.397828, -71.130516],\n",
       "                {}\n",
       "            ).addTo(map_4f18f501192524ce998ea74ca91a2225);\n",
       "        \n",
       "    \n",
       "            var icon_0d0167da4dde8d956c2da5bbef2e2720 = L.AwesomeMarkers.icon(\n",
       "                {&quot;extraClasses&quot;: &quot;fa-rotate-0&quot;, &quot;icon&quot;: &quot;bicycle&quot;, &quot;iconColor&quot;: &quot;white&quot;, &quot;markerColor&quot;: &quot;blue&quot;, &quot;prefix&quot;: &quot;fa&quot;}\n",
       "            );\n",
       "            marker_237c2ef24b5b9f4838c23966d743241f.setIcon(icon_0d0167da4dde8d956c2da5bbef2e2720);\n",
       "        \n",
       "    \n",
       "        var popup_8f512d39082f7fa4927891f821e23c5e = L.popup({&quot;maxWidth&quot;: &quot;100%&quot;});\n",
       "\n",
       "        \n",
       "            \n",
       "                var html_febbcbe4cf6cc26c1a3347a11465da20 = $(`&lt;div id=&quot;html_febbcbe4cf6cc26c1a3347a11465da20&quot; style=&quot;width: 100.0%; height: 100.0%;&quot;&gt;(118, 3020)&lt;/div&gt;`)[0];\n",
       "                popup_8f512d39082f7fa4927891f821e23c5e.setContent(html_febbcbe4cf6cc26c1a3347a11465da20);\n",
       "            \n",
       "        \n",
       "\n",
       "        marker_237c2ef24b5b9f4838c23966d743241f.bindPopup(popup_8f512d39082f7fa4927891f821e23c5e)\n",
       "        ;\n",
       "\n",
       "        \n",
       "    \n",
       "    \n",
       "            var marker_58c0783a7633a1053d6faefa1582b4d6 = L.marker(\n",
       "                [42.396969, -71.123024],\n",
       "                {}\n",
       "            ).addTo(map_4f18f501192524ce998ea74ca91a2225);\n",
       "        \n",
       "    \n",
       "            var icon_7394be599713108665f4bc1fbd014cb6 = L.AwesomeMarkers.icon(\n",
       "                {&quot;extraClasses&quot;: &quot;fa-rotate-0&quot;, &quot;icon&quot;: &quot;bicycle&quot;, &quot;iconColor&quot;: &quot;white&quot;, &quot;markerColor&quot;: &quot;blue&quot;, &quot;prefix&quot;: &quot;fa&quot;}\n",
       "            );\n",
       "            marker_58c0783a7633a1053d6faefa1582b4d6.setIcon(icon_7394be599713108665f4bc1fbd014cb6);\n",
       "        \n",
       "    \n",
       "        var popup_3da60d89dedc62f6d85eb6fac6219e7a = L.popup({&quot;maxWidth&quot;: &quot;100%&quot;});\n",
       "\n",
       "        \n",
       "            \n",
       "                var html_204b3de5135c043daef66ba32945430a = $(`&lt;div id=&quot;html_204b3de5135c043daef66ba32945430a&quot; style=&quot;width: 100.0%; height: 100.0%;&quot;&gt;(&#x27;100&#x27;, 3020)&lt;/div&gt;`)[0];\n",
       "                popup_3da60d89dedc62f6d85eb6fac6219e7a.setContent(html_204b3de5135c043daef66ba32945430a);\n",
       "            \n",
       "        \n",
       "\n",
       "        marker_58c0783a7633a1053d6faefa1582b4d6.bindPopup(popup_3da60d89dedc62f6d85eb6fac6219e7a)\n",
       "        ;\n",
       "\n",
       "        \n",
       "    \n",
       "    \n",
       "            var poly_line_66fd60a3e03c6985e229c89b818e30ef = L.polyline(\n",
       "                [[42.396969, -71.123024], [42.397828, -71.130516]],\n",
       "                {&quot;bubblingMouseEvents&quot;: true, &quot;color&quot;: &quot;red&quot;, &quot;dashArray&quot;: null, &quot;dashOffset&quot;: null, &quot;fill&quot;: false, &quot;fillColor&quot;: &quot;red&quot;, &quot;fillOpacity&quot;: 0.2, &quot;fillRule&quot;: &quot;evenodd&quot;, &quot;lineCap&quot;: &quot;round&quot;, &quot;lineJoin&quot;: &quot;round&quot;, &quot;noClip&quot;: false, &quot;opacity&quot;: 1, &quot;smoothFactor&quot;: 1.0, &quot;stroke&quot;: true, &quot;weight&quot;: 2.5}\n",
       "            ).addTo(map_4f18f501192524ce998ea74ca91a2225);\n",
       "        \n",
       "    \n",
       "            var marker_f57ce93fe84174a00988bef8315e76e1 = L.marker(\n",
       "                [42.396969, -71.123024],\n",
       "                {}\n",
       "            ).addTo(map_4f18f501192524ce998ea74ca91a2225);\n",
       "        \n",
       "    \n",
       "            var icon_e02bcef14d7ce418c4777b9a55055b7e = L.AwesomeMarkers.icon(\n",
       "                {&quot;extraClasses&quot;: &quot;fa-rotate-0&quot;, &quot;icon&quot;: &quot;bicycle&quot;, &quot;iconColor&quot;: &quot;white&quot;, &quot;markerColor&quot;: &quot;blue&quot;, &quot;prefix&quot;: &quot;fa&quot;}\n",
       "            );\n",
       "            marker_f57ce93fe84174a00988bef8315e76e1.setIcon(icon_e02bcef14d7ce418c4777b9a55055b7e);\n",
       "        \n",
       "    \n",
       "        var popup_000f6a551268c5157aae6c5ebd667385 = L.popup({&quot;maxWidth&quot;: &quot;100%&quot;});\n",
       "\n",
       "        \n",
       "            \n",
       "                var html_a2ede7006ee78dcf1db951afa1117d3c = $(`&lt;div id=&quot;html_a2ede7006ee78dcf1db951afa1117d3c&quot; style=&quot;width: 100.0%; height: 100.0%;&quot;&gt;(100, 2755)&lt;/div&gt;`)[0];\n",
       "                popup_000f6a551268c5157aae6c5ebd667385.setContent(html_a2ede7006ee78dcf1db951afa1117d3c);\n",
       "            \n",
       "        \n",
       "\n",
       "        marker_f57ce93fe84174a00988bef8315e76e1.bindPopup(popup_000f6a551268c5157aae6c5ebd667385)\n",
       "        ;\n",
       "\n",
       "        \n",
       "    \n",
       "    \n",
       "            var marker_8861566d30f0d6b7219cf0c60d39a0be = L.marker(\n",
       "                [42.397828, -71.130516],\n",
       "                {}\n",
       "            ).addTo(map_4f18f501192524ce998ea74ca91a2225);\n",
       "        \n",
       "    \n",
       "            var icon_c001f161f5154a7b7e9c9bf72ba63451 = L.AwesomeMarkers.icon(\n",
       "                {&quot;extraClasses&quot;: &quot;fa-rotate-0&quot;, &quot;icon&quot;: &quot;bicycle&quot;, &quot;iconColor&quot;: &quot;white&quot;, &quot;markerColor&quot;: &quot;blue&quot;, &quot;prefix&quot;: &quot;fa&quot;}\n",
       "            );\n",
       "            marker_8861566d30f0d6b7219cf0c60d39a0be.setIcon(icon_c001f161f5154a7b7e9c9bf72ba63451);\n",
       "        \n",
       "    \n",
       "        var popup_80ada408718a1c3a82e16d4cf034a526 = L.popup({&quot;maxWidth&quot;: &quot;100%&quot;});\n",
       "\n",
       "        \n",
       "            \n",
       "                var html_86fb5c1560c476bbbe60325a7703e7f5 = $(`&lt;div id=&quot;html_86fb5c1560c476bbbe60325a7703e7f5&quot; style=&quot;width: 100.0%; height: 100.0%;&quot;&gt;(&#x27;118&#x27;, 2755)&lt;/div&gt;`)[0];\n",
       "                popup_80ada408718a1c3a82e16d4cf034a526.setContent(html_86fb5c1560c476bbbe60325a7703e7f5);\n",
       "            \n",
       "        \n",
       "\n",
       "        marker_8861566d30f0d6b7219cf0c60d39a0be.bindPopup(popup_80ada408718a1c3a82e16d4cf034a526)\n",
       "        ;\n",
       "\n",
       "        \n",
       "    \n",
       "    \n",
       "            var poly_line_c0ca0bb7713bc4d26c37c234dc63f7af = L.polyline(\n",
       "                [[42.402763, -71.126908], [42.396969, -71.123024]],\n",
       "                {&quot;bubblingMouseEvents&quot;: true, &quot;color&quot;: &quot;red&quot;, &quot;dashArray&quot;: null, &quot;dashOffset&quot;: null, &quot;fill&quot;: false, &quot;fillColor&quot;: &quot;red&quot;, &quot;fillOpacity&quot;: 0.2, &quot;fillRule&quot;: &quot;evenodd&quot;, &quot;lineCap&quot;: &quot;round&quot;, &quot;lineJoin&quot;: &quot;round&quot;, &quot;noClip&quot;: false, &quot;opacity&quot;: 1, &quot;smoothFactor&quot;: 1.0, &quot;stroke&quot;: true, &quot;weight&quot;: 2.5}\n",
       "            ).addTo(map_4f18f501192524ce998ea74ca91a2225);\n",
       "        \n",
       "    \n",
       "            var marker_ee09801a34dda1e88914b6c06468251f = L.marker(\n",
       "                [42.402763, -71.126908],\n",
       "                {}\n",
       "            ).addTo(map_4f18f501192524ce998ea74ca91a2225);\n",
       "        \n",
       "    \n",
       "            var icon_3d8afdec1147e34509f5434668a57e3d = L.AwesomeMarkers.icon(\n",
       "                {&quot;extraClasses&quot;: &quot;fa-rotate-0&quot;, &quot;icon&quot;: &quot;bicycle&quot;, &quot;iconColor&quot;: &quot;white&quot;, &quot;markerColor&quot;: &quot;blue&quot;, &quot;prefix&quot;: &quot;fa&quot;}\n",
       "            );\n",
       "            marker_ee09801a34dda1e88914b6c06468251f.setIcon(icon_3d8afdec1147e34509f5434668a57e3d);\n",
       "        \n",
       "    \n",
       "        var popup_caeb52f843e8e5be344bb69a6849e056 = L.popup({&quot;maxWidth&quot;: &quot;100%&quot;});\n",
       "\n",
       "        \n",
       "            \n",
       "                var html_ccf19cf7c3a70904de4261f377208d0d = $(`&lt;div id=&quot;html_ccf19cf7c3a70904de4261f377208d0d&quot; style=&quot;width: 100.0%; height: 100.0%;&quot;&gt;(114, 2047)&lt;/div&gt;`)[0];\n",
       "                popup_caeb52f843e8e5be344bb69a6849e056.setContent(html_ccf19cf7c3a70904de4261f377208d0d);\n",
       "            \n",
       "        \n",
       "\n",
       "        marker_ee09801a34dda1e88914b6c06468251f.bindPopup(popup_caeb52f843e8e5be344bb69a6849e056)\n",
       "        ;\n",
       "\n",
       "        \n",
       "    \n",
       "    \n",
       "            var marker_0d36da0f0a5e9797b03a3f41c1fb97a0 = L.marker(\n",
       "                [42.396969, -71.123024],\n",
       "                {}\n",
       "            ).addTo(map_4f18f501192524ce998ea74ca91a2225);\n",
       "        \n",
       "    \n",
       "            var icon_6c3199383e88f8e821265ba0e353e8fa = L.AwesomeMarkers.icon(\n",
       "                {&quot;extraClasses&quot;: &quot;fa-rotate-0&quot;, &quot;icon&quot;: &quot;bicycle&quot;, &quot;iconColor&quot;: &quot;white&quot;, &quot;markerColor&quot;: &quot;blue&quot;, &quot;prefix&quot;: &quot;fa&quot;}\n",
       "            );\n",
       "            marker_0d36da0f0a5e9797b03a3f41c1fb97a0.setIcon(icon_6c3199383e88f8e821265ba0e353e8fa);\n",
       "        \n",
       "    \n",
       "        var popup_ff34f46a3640bfc5a04db1e0e5332785 = L.popup({&quot;maxWidth&quot;: &quot;100%&quot;});\n",
       "\n",
       "        \n",
       "            \n",
       "                var html_f267ebf9a655e6368dee57cee8f563c3 = $(`&lt;div id=&quot;html_f267ebf9a655e6368dee57cee8f563c3&quot; style=&quot;width: 100.0%; height: 100.0%;&quot;&gt;(&#x27;100&#x27;, 2047)&lt;/div&gt;`)[0];\n",
       "                popup_ff34f46a3640bfc5a04db1e0e5332785.setContent(html_f267ebf9a655e6368dee57cee8f563c3);\n",
       "            \n",
       "        \n",
       "\n",
       "        marker_0d36da0f0a5e9797b03a3f41c1fb97a0.bindPopup(popup_ff34f46a3640bfc5a04db1e0e5332785)\n",
       "        ;\n",
       "\n",
       "        \n",
       "    \n",
       "    \n",
       "            var poly_line_2cf6defe3133ff407e9ea65bd488e1d3 = L.polyline(\n",
       "                [[42.3581, -71.093198], [42.350851, -71.089886]],\n",
       "                {&quot;bubblingMouseEvents&quot;: true, &quot;color&quot;: &quot;red&quot;, &quot;dashArray&quot;: null, &quot;dashOffset&quot;: null, &quot;fill&quot;: false, &quot;fillColor&quot;: &quot;red&quot;, &quot;fillOpacity&quot;: 0.2, &quot;fillRule&quot;: &quot;evenodd&quot;, &quot;lineCap&quot;: &quot;round&quot;, &quot;lineJoin&quot;: &quot;round&quot;, &quot;noClip&quot;: false, &quot;opacity&quot;: 1, &quot;smoothFactor&quot;: 1.0, &quot;stroke&quot;: true, &quot;weight&quot;: 2.5}\n",
       "            ).addTo(map_4f18f501192524ce998ea74ca91a2225);\n",
       "        \n",
       "    \n",
       "            var marker_9762d33e452843c4ba51b6e8f678be2a = L.marker(\n",
       "                [42.3581, -71.093198],\n",
       "                {}\n",
       "            ).addTo(map_4f18f501192524ce998ea74ca91a2225);\n",
       "        \n",
       "    \n",
       "            var icon_95c5ac465b5df3056fcd7548c564656e = L.AwesomeMarkers.icon(\n",
       "                {&quot;extraClasses&quot;: &quot;fa-rotate-0&quot;, &quot;icon&quot;: &quot;bicycle&quot;, &quot;iconColor&quot;: &quot;white&quot;, &quot;markerColor&quot;: &quot;blue&quot;, &quot;prefix&quot;: &quot;fa&quot;}\n",
       "            );\n",
       "            marker_9762d33e452843c4ba51b6e8f678be2a.setIcon(icon_95c5ac465b5df3056fcd7548c564656e);\n",
       "        \n",
       "    \n",
       "        var popup_69bd9bda50cbde3ba9b32fb6438fb9c1 = L.popup({&quot;maxWidth&quot;: &quot;100%&quot;});\n",
       "\n",
       "        \n",
       "            \n",
       "                var html_f25407a13fd7dc8941fe1234e1c7ca46 = $(`&lt;div id=&quot;html_f25407a13fd7dc8941fe1234e1c7ca46&quot; style=&quot;width: 100.0%; height: 100.0%;&quot;&gt;(67, 2026)&lt;/div&gt;`)[0];\n",
       "                popup_69bd9bda50cbde3ba9b32fb6438fb9c1.setContent(html_f25407a13fd7dc8941fe1234e1c7ca46);\n",
       "            \n",
       "        \n",
       "\n",
       "        marker_9762d33e452843c4ba51b6e8f678be2a.bindPopup(popup_69bd9bda50cbde3ba9b32fb6438fb9c1)\n",
       "        ;\n",
       "\n",
       "        \n",
       "    \n",
       "    \n",
       "            var marker_3f9e7c96ce413f28fc28bd46875e4efe = L.marker(\n",
       "                [42.350851, -71.089886],\n",
       "                {}\n",
       "            ).addTo(map_4f18f501192524ce998ea74ca91a2225);\n",
       "        \n",
       "    \n",
       "            var icon_e922736ed9d8ee22bdb4a621178afa88 = L.AwesomeMarkers.icon(\n",
       "                {&quot;extraClasses&quot;: &quot;fa-rotate-0&quot;, &quot;icon&quot;: &quot;bicycle&quot;, &quot;iconColor&quot;: &quot;white&quot;, &quot;markerColor&quot;: &quot;blue&quot;, &quot;prefix&quot;: &quot;fa&quot;}\n",
       "            );\n",
       "            marker_3f9e7c96ce413f28fc28bd46875e4efe.setIcon(icon_e922736ed9d8ee22bdb4a621178afa88);\n",
       "        \n",
       "    \n",
       "        var popup_cf45ed044e06af0b49ff099bd9ce16e2 = L.popup({&quot;maxWidth&quot;: &quot;100%&quot;});\n",
       "\n",
       "        \n",
       "            \n",
       "                var html_bdecc17fdeee3ee7f67b36e6e8ef2e1b = $(`&lt;div id=&quot;html_bdecc17fdeee3ee7f67b36e6e8ef2e1b&quot; style=&quot;width: 100.0%; height: 100.0%;&quot;&gt;(&#x27;53&#x27;, 2026)&lt;/div&gt;`)[0];\n",
       "                popup_cf45ed044e06af0b49ff099bd9ce16e2.setContent(html_bdecc17fdeee3ee7f67b36e6e8ef2e1b);\n",
       "            \n",
       "        \n",
       "\n",
       "        marker_3f9e7c96ce413f28fc28bd46875e4efe.bindPopup(popup_cf45ed044e06af0b49ff099bd9ce16e2)\n",
       "        ;\n",
       "\n",
       "        \n",
       "    \n",
       "    \n",
       "            var poly_line_0f0de3302d49aa5f161f811ebd4e9d4b = L.polyline(\n",
       "                [[42.363871, -71.050877], [42.352175, -71.055547]],\n",
       "                {&quot;bubblingMouseEvents&quot;: true, &quot;color&quot;: &quot;red&quot;, &quot;dashArray&quot;: null, &quot;dashOffset&quot;: null, &quot;fill&quot;: false, &quot;fillColor&quot;: &quot;red&quot;, &quot;fillOpacity&quot;: 0.2, &quot;fillRule&quot;: &quot;evenodd&quot;, &quot;lineCap&quot;: &quot;round&quot;, &quot;lineJoin&quot;: &quot;round&quot;, &quot;noClip&quot;: false, &quot;opacity&quot;: 1, &quot;smoothFactor&quot;: 1.0, &quot;stroke&quot;: true, &quot;weight&quot;: 2.5}\n",
       "            ).addTo(map_4f18f501192524ce998ea74ca91a2225);\n",
       "        \n",
       "    \n",
       "            var marker_33a6d02f141221f2722ed07f3d8fc63e = L.marker(\n",
       "                [42.363871, -71.050877],\n",
       "                {}\n",
       "            ).addTo(map_4f18f501192524ce998ea74ca91a2225);\n",
       "        \n",
       "    \n",
       "            var icon_ce49e8136c098012ebcee531aa31658c = L.AwesomeMarkers.icon(\n",
       "                {&quot;extraClasses&quot;: &quot;fa-rotate-0&quot;, &quot;icon&quot;: &quot;bicycle&quot;, &quot;iconColor&quot;: &quot;white&quot;, &quot;markerColor&quot;: &quot;blue&quot;, &quot;prefix&quot;: &quot;fa&quot;}\n",
       "            );\n",
       "            marker_33a6d02f141221f2722ed07f3d8fc63e.setIcon(icon_ce49e8136c098012ebcee531aa31658c);\n",
       "        \n",
       "    \n",
       "        var popup_6317f30adeaca1b771a0176f5d854f25 = L.popup({&quot;maxWidth&quot;: &quot;100%&quot;});\n",
       "\n",
       "        \n",
       "            \n",
       "                var html_0699fe1eea47bd23059a5de14f7a3fc3 = $(`&lt;div id=&quot;html_0699fe1eea47bd23059a5de14f7a3fc3&quot; style=&quot;width: 100.0%; height: 100.0%;&quot;&gt;(40, 1982)&lt;/div&gt;`)[0];\n",
       "                popup_6317f30adeaca1b771a0176f5d854f25.setContent(html_0699fe1eea47bd23059a5de14f7a3fc3);\n",
       "            \n",
       "        \n",
       "\n",
       "        marker_33a6d02f141221f2722ed07f3d8fc63e.bindPopup(popup_6317f30adeaca1b771a0176f5d854f25)\n",
       "        ;\n",
       "\n",
       "        \n",
       "    \n",
       "    \n",
       "            var marker_b6c4803ead22c27a8db33564c20f5b79 = L.marker(\n",
       "                [42.352175, -71.055547],\n",
       "                {}\n",
       "            ).addTo(map_4f18f501192524ce998ea74ca91a2225);\n",
       "        \n",
       "    \n",
       "            var icon_c7d2c5ca10388107ce3343a237814dbd = L.AwesomeMarkers.icon(\n",
       "                {&quot;extraClasses&quot;: &quot;fa-rotate-0&quot;, &quot;icon&quot;: &quot;bicycle&quot;, &quot;iconColor&quot;: &quot;white&quot;, &quot;markerColor&quot;: &quot;blue&quot;, &quot;prefix&quot;: &quot;fa&quot;}\n",
       "            );\n",
       "            marker_b6c4803ead22c27a8db33564c20f5b79.setIcon(icon_c7d2c5ca10388107ce3343a237814dbd);\n",
       "        \n",
       "    \n",
       "        var popup_149893b6ffa3ff7a153f539791575dcb = L.popup({&quot;maxWidth&quot;: &quot;100%&quot;});\n",
       "\n",
       "        \n",
       "            \n",
       "                var html_f2a8ba927dcfda0c107c5aba9ef52786 = $(`&lt;div id=&quot;html_f2a8ba927dcfda0c107c5aba9ef52786&quot; style=&quot;width: 100.0%; height: 100.0%;&quot;&gt;(&#x27;22&#x27;, 1982)&lt;/div&gt;`)[0];\n",
       "                popup_149893b6ffa3ff7a153f539791575dcb.setContent(html_f2a8ba927dcfda0c107c5aba9ef52786);\n",
       "            \n",
       "        \n",
       "\n",
       "        marker_b6c4803ead22c27a8db33564c20f5b79.bindPopup(popup_149893b6ffa3ff7a153f539791575dcb)\n",
       "        ;\n",
       "\n",
       "        \n",
       "    \n",
       "    \n",
       "            var poly_line_8e8cb693931b509d49360c14e28fc337 = L.polyline(\n",
       "                [[42.3581, -71.093198], [42.36507, -71.1031]],\n",
       "                {&quot;bubblingMouseEvents&quot;: true, &quot;color&quot;: &quot;red&quot;, &quot;dashArray&quot;: null, &quot;dashOffset&quot;: null, &quot;fill&quot;: false, &quot;fillColor&quot;: &quot;red&quot;, &quot;fillOpacity&quot;: 0.2, &quot;fillRule&quot;: &quot;evenodd&quot;, &quot;lineCap&quot;: &quot;round&quot;, &quot;lineJoin&quot;: &quot;round&quot;, &quot;noClip&quot;: false, &quot;opacity&quot;: 1, &quot;smoothFactor&quot;: 1.0, &quot;stroke&quot;: true, &quot;weight&quot;: 2.5}\n",
       "            ).addTo(map_4f18f501192524ce998ea74ca91a2225);\n",
       "        \n",
       "    \n",
       "            var marker_0171c96ce6409fe6a709e07efdef0e85 = L.marker(\n",
       "                [42.3581, -71.093198],\n",
       "                {}\n",
       "            ).addTo(map_4f18f501192524ce998ea74ca91a2225);\n",
       "        \n",
       "    \n",
       "            var icon_b5c7946042d163e260e7c99033d2b8b3 = L.AwesomeMarkers.icon(\n",
       "                {&quot;extraClasses&quot;: &quot;fa-rotate-0&quot;, &quot;icon&quot;: &quot;bicycle&quot;, &quot;iconColor&quot;: &quot;white&quot;, &quot;markerColor&quot;: &quot;blue&quot;, &quot;prefix&quot;: &quot;fa&quot;}\n",
       "            );\n",
       "            marker_0171c96ce6409fe6a709e07efdef0e85.setIcon(icon_b5c7946042d163e260e7c99033d2b8b3);\n",
       "        \n",
       "    \n",
       "        var popup_4cc8586a86c6b28e696713f313374df1 = L.popup({&quot;maxWidth&quot;: &quot;100%&quot;});\n",
       "\n",
       "        \n",
       "            \n",
       "                var html_de1f7feb0aa23f398957d150ecce508a = $(`&lt;div id=&quot;html_de1f7feb0aa23f398957d150ecce508a&quot; style=&quot;width: 100.0%; height: 100.0%;&quot;&gt;(67, 1845)&lt;/div&gt;`)[0];\n",
       "                popup_4cc8586a86c6b28e696713f313374df1.setContent(html_de1f7feb0aa23f398957d150ecce508a);\n",
       "            \n",
       "        \n",
       "\n",
       "        marker_0171c96ce6409fe6a709e07efdef0e85.bindPopup(popup_4cc8586a86c6b28e696713f313374df1)\n",
       "        ;\n",
       "\n",
       "        \n",
       "    \n",
       "    \n",
       "            var marker_358e8dd62f435964af5f00124705bf0c = L.marker(\n",
       "                [42.36507, -71.1031],\n",
       "                {}\n",
       "            ).addTo(map_4f18f501192524ce998ea74ca91a2225);\n",
       "        \n",
       "    \n",
       "            var icon_8dbd9fd739a5f924f631ead9b83124d7 = L.AwesomeMarkers.icon(\n",
       "                {&quot;extraClasses&quot;: &quot;fa-rotate-0&quot;, &quot;icon&quot;: &quot;bicycle&quot;, &quot;iconColor&quot;: &quot;white&quot;, &quot;markerColor&quot;: &quot;blue&quot;, &quot;prefix&quot;: &quot;fa&quot;}\n",
       "            );\n",
       "            marker_358e8dd62f435964af5f00124705bf0c.setIcon(icon_8dbd9fd739a5f924f631ead9b83124d7);\n",
       "        \n",
       "    \n",
       "        var popup_7811f799a32209a39ba33317bee78743 = L.popup({&quot;maxWidth&quot;: &quot;100%&quot;});\n",
       "\n",
       "        \n",
       "            \n",
       "                var html_f9e69c5ea97798c7f0b9ea620b871e42 = $(`&lt;div id=&quot;html_f9e69c5ea97798c7f0b9ea620b871e42&quot; style=&quot;width: 100.0%; height: 100.0%;&quot;&gt;(&#x27;68&#x27;, 1845)&lt;/div&gt;`)[0];\n",
       "                popup_7811f799a32209a39ba33317bee78743.setContent(html_f9e69c5ea97798c7f0b9ea620b871e42);\n",
       "            \n",
       "        \n",
       "\n",
       "        marker_358e8dd62f435964af5f00124705bf0c.bindPopup(popup_7811f799a32209a39ba33317bee78743)\n",
       "        ;\n",
       "\n",
       "        \n",
       "    \n",
       "    \n",
       "            var poly_line_d1606bd46380850c8921b76aa7387194 = L.polyline(\n",
       "                [[42.350851, -71.089886], [42.3581, -71.093198]],\n",
       "                {&quot;bubblingMouseEvents&quot;: true, &quot;color&quot;: &quot;red&quot;, &quot;dashArray&quot;: null, &quot;dashOffset&quot;: null, &quot;fill&quot;: false, &quot;fillColor&quot;: &quot;red&quot;, &quot;fillOpacity&quot;: 0.2, &quot;fillRule&quot;: &quot;evenodd&quot;, &quot;lineCap&quot;: &quot;round&quot;, &quot;lineJoin&quot;: &quot;round&quot;, &quot;noClip&quot;: false, &quot;opacity&quot;: 1, &quot;smoothFactor&quot;: 1.0, &quot;stroke&quot;: true, &quot;weight&quot;: 2.5}\n",
       "            ).addTo(map_4f18f501192524ce998ea74ca91a2225);\n",
       "        \n",
       "    \n",
       "            var marker_162612f46028183775bc09182c639615 = L.marker(\n",
       "                [42.350851, -71.089886],\n",
       "                {}\n",
       "            ).addTo(map_4f18f501192524ce998ea74ca91a2225);\n",
       "        \n",
       "    \n",
       "            var icon_89b4f4acad96521f1146dd4abd766cd1 = L.AwesomeMarkers.icon(\n",
       "                {&quot;extraClasses&quot;: &quot;fa-rotate-0&quot;, &quot;icon&quot;: &quot;bicycle&quot;, &quot;iconColor&quot;: &quot;white&quot;, &quot;markerColor&quot;: &quot;blue&quot;, &quot;prefix&quot;: &quot;fa&quot;}\n",
       "            );\n",
       "            marker_162612f46028183775bc09182c639615.setIcon(icon_89b4f4acad96521f1146dd4abd766cd1);\n",
       "        \n",
       "    \n",
       "        var popup_e60ff8aa7dd54ca5071f486e9b0c461b = L.popup({&quot;maxWidth&quot;: &quot;100%&quot;});\n",
       "\n",
       "        \n",
       "            \n",
       "                var html_05f97c8f479d7daa231caac781eaf81f = $(`&lt;div id=&quot;html_05f97c8f479d7daa231caac781eaf81f&quot; style=&quot;width: 100.0%; height: 100.0%;&quot;&gt;(53, 1783)&lt;/div&gt;`)[0];\n",
       "                popup_e60ff8aa7dd54ca5071f486e9b0c461b.setContent(html_05f97c8f479d7daa231caac781eaf81f);\n",
       "            \n",
       "        \n",
       "\n",
       "        marker_162612f46028183775bc09182c639615.bindPopup(popup_e60ff8aa7dd54ca5071f486e9b0c461b)\n",
       "        ;\n",
       "\n",
       "        \n",
       "    \n",
       "    \n",
       "            var marker_7b1d41241a2dd910ec749e5c279957c4 = L.marker(\n",
       "                [42.3581, -71.093198],\n",
       "                {}\n",
       "            ).addTo(map_4f18f501192524ce998ea74ca91a2225);\n",
       "        \n",
       "    \n",
       "            var icon_dd261056fd98bc27ee0c35b324e49115 = L.AwesomeMarkers.icon(\n",
       "                {&quot;extraClasses&quot;: &quot;fa-rotate-0&quot;, &quot;icon&quot;: &quot;bicycle&quot;, &quot;iconColor&quot;: &quot;white&quot;, &quot;markerColor&quot;: &quot;blue&quot;, &quot;prefix&quot;: &quot;fa&quot;}\n",
       "            );\n",
       "            marker_7b1d41241a2dd910ec749e5c279957c4.setIcon(icon_dd261056fd98bc27ee0c35b324e49115);\n",
       "        \n",
       "    \n",
       "        var popup_7f66eb2c24aa982b333516917dee0c13 = L.popup({&quot;maxWidth&quot;: &quot;100%&quot;});\n",
       "\n",
       "        \n",
       "            \n",
       "                var html_de8870bb5db5b835e9a4bb61e9836043 = $(`&lt;div id=&quot;html_de8870bb5db5b835e9a4bb61e9836043&quot; style=&quot;width: 100.0%; height: 100.0%;&quot;&gt;(&#x27;67&#x27;, 1783)&lt;/div&gt;`)[0];\n",
       "                popup_7f66eb2c24aa982b333516917dee0c13.setContent(html_de8870bb5db5b835e9a4bb61e9836043);\n",
       "            \n",
       "        \n",
       "\n",
       "        marker_7b1d41241a2dd910ec749e5c279957c4.bindPopup(popup_7f66eb2c24aa982b333516917dee0c13)\n",
       "        ;\n",
       "\n",
       "        \n",
       "    \n",
       "    \n",
       "            var poly_line_0170abcc3454e92201015c8b7f7ed48d = L.polyline(\n",
       "                [[42.352175, -71.055547], [42.363871, -71.050877]],\n",
       "                {&quot;bubblingMouseEvents&quot;: true, &quot;color&quot;: &quot;red&quot;, &quot;dashArray&quot;: null, &quot;dashOffset&quot;: null, &quot;fill&quot;: false, &quot;fillColor&quot;: &quot;red&quot;, &quot;fillOpacity&quot;: 0.2, &quot;fillRule&quot;: &quot;evenodd&quot;, &quot;lineCap&quot;: &quot;round&quot;, &quot;lineJoin&quot;: &quot;round&quot;, &quot;noClip&quot;: false, &quot;opacity&quot;: 1, &quot;smoothFactor&quot;: 1.0, &quot;stroke&quot;: true, &quot;weight&quot;: 2.5}\n",
       "            ).addTo(map_4f18f501192524ce998ea74ca91a2225);\n",
       "        \n",
       "    \n",
       "            var marker_dc1cbc73064faeafd2b24a6635fe7ca6 = L.marker(\n",
       "                [42.352175, -71.055547],\n",
       "                {}\n",
       "            ).addTo(map_4f18f501192524ce998ea74ca91a2225);\n",
       "        \n",
       "    \n",
       "            var icon_0249ad05da062d405331badcf616004b = L.AwesomeMarkers.icon(\n",
       "                {&quot;extraClasses&quot;: &quot;fa-rotate-0&quot;, &quot;icon&quot;: &quot;bicycle&quot;, &quot;iconColor&quot;: &quot;white&quot;, &quot;markerColor&quot;: &quot;blue&quot;, &quot;prefix&quot;: &quot;fa&quot;}\n",
       "            );\n",
       "            marker_dc1cbc73064faeafd2b24a6635fe7ca6.setIcon(icon_0249ad05da062d405331badcf616004b);\n",
       "        \n",
       "    \n",
       "        var popup_4fcdc0896f27513bf234255d25b37eb6 = L.popup({&quot;maxWidth&quot;: &quot;100%&quot;});\n",
       "\n",
       "        \n",
       "            \n",
       "                var html_250bd42006e6325d6b8471421346b109 = $(`&lt;div id=&quot;html_250bd42006e6325d6b8471421346b109&quot; style=&quot;width: 100.0%; height: 100.0%;&quot;&gt;(22, 1741)&lt;/div&gt;`)[0];\n",
       "                popup_4fcdc0896f27513bf234255d25b37eb6.setContent(html_250bd42006e6325d6b8471421346b109);\n",
       "            \n",
       "        \n",
       "\n",
       "        marker_dc1cbc73064faeafd2b24a6635fe7ca6.bindPopup(popup_4fcdc0896f27513bf234255d25b37eb6)\n",
       "        ;\n",
       "\n",
       "        \n",
       "    \n",
       "    \n",
       "            var marker_0e5acb6bc85507c6c4af01e13993de3a = L.marker(\n",
       "                [42.363871, -71.050877],\n",
       "                {}\n",
       "            ).addTo(map_4f18f501192524ce998ea74ca91a2225);\n",
       "        \n",
       "    \n",
       "            var icon_b813a946521c60e32db80ecdc6e9b01d = L.AwesomeMarkers.icon(\n",
       "                {&quot;extraClasses&quot;: &quot;fa-rotate-0&quot;, &quot;icon&quot;: &quot;bicycle&quot;, &quot;iconColor&quot;: &quot;white&quot;, &quot;markerColor&quot;: &quot;blue&quot;, &quot;prefix&quot;: &quot;fa&quot;}\n",
       "            );\n",
       "            marker_0e5acb6bc85507c6c4af01e13993de3a.setIcon(icon_b813a946521c60e32db80ecdc6e9b01d);\n",
       "        \n",
       "    \n",
       "        var popup_f9008149bbb619d616126f04a9f59f7e = L.popup({&quot;maxWidth&quot;: &quot;100%&quot;});\n",
       "\n",
       "        \n",
       "            \n",
       "                var html_fbf4ea36e16e98f75c21b57c4ad55598 = $(`&lt;div id=&quot;html_fbf4ea36e16e98f75c21b57c4ad55598&quot; style=&quot;width: 100.0%; height: 100.0%;&quot;&gt;(&#x27;40&#x27;, 1741)&lt;/div&gt;`)[0];\n",
       "                popup_f9008149bbb619d616126f04a9f59f7e.setContent(html_fbf4ea36e16e98f75c21b57c4ad55598);\n",
       "            \n",
       "        \n",
       "\n",
       "        marker_0e5acb6bc85507c6c4af01e13993de3a.bindPopup(popup_f9008149bbb619d616126f04a9f59f7e)\n",
       "        ;\n",
       "\n",
       "        \n",
       "    \n",
       "    \n",
       "            var poly_line_4fabc26490ff68beb0e10d81803a5c20 = L.polyline(\n",
       "                [[42.36507, -71.1031], [42.3581, -71.093198]],\n",
       "                {&quot;bubblingMouseEvents&quot;: true, &quot;color&quot;: &quot;red&quot;, &quot;dashArray&quot;: null, &quot;dashOffset&quot;: null, &quot;fill&quot;: false, &quot;fillColor&quot;: &quot;red&quot;, &quot;fillOpacity&quot;: 0.2, &quot;fillRule&quot;: &quot;evenodd&quot;, &quot;lineCap&quot;: &quot;round&quot;, &quot;lineJoin&quot;: &quot;round&quot;, &quot;noClip&quot;: false, &quot;opacity&quot;: 1, &quot;smoothFactor&quot;: 1.0, &quot;stroke&quot;: true, &quot;weight&quot;: 2.5}\n",
       "            ).addTo(map_4f18f501192524ce998ea74ca91a2225);\n",
       "        \n",
       "    \n",
       "            var marker_d9f2958c697b78892cfb6a948515c4a4 = L.marker(\n",
       "                [42.36507, -71.1031],\n",
       "                {}\n",
       "            ).addTo(map_4f18f501192524ce998ea74ca91a2225);\n",
       "        \n",
       "    \n",
       "            var icon_d68ca5b44501b6ae34f44eb9f54c086a = L.AwesomeMarkers.icon(\n",
       "                {&quot;extraClasses&quot;: &quot;fa-rotate-0&quot;, &quot;icon&quot;: &quot;bicycle&quot;, &quot;iconColor&quot;: &quot;white&quot;, &quot;markerColor&quot;: &quot;blue&quot;, &quot;prefix&quot;: &quot;fa&quot;}\n",
       "            );\n",
       "            marker_d9f2958c697b78892cfb6a948515c4a4.setIcon(icon_d68ca5b44501b6ae34f44eb9f54c086a);\n",
       "        \n",
       "    \n",
       "        var popup_ccb79d302b28a354d13848c365e05aa4 = L.popup({&quot;maxWidth&quot;: &quot;100%&quot;});\n",
       "\n",
       "        \n",
       "            \n",
       "                var html_0734758c6053e890e229f3a516662b06 = $(`&lt;div id=&quot;html_0734758c6053e890e229f3a516662b06&quot; style=&quot;width: 100.0%; height: 100.0%;&quot;&gt;(68, 1610)&lt;/div&gt;`)[0];\n",
       "                popup_ccb79d302b28a354d13848c365e05aa4.setContent(html_0734758c6053e890e229f3a516662b06);\n",
       "            \n",
       "        \n",
       "\n",
       "        marker_d9f2958c697b78892cfb6a948515c4a4.bindPopup(popup_ccb79d302b28a354d13848c365e05aa4)\n",
       "        ;\n",
       "\n",
       "        \n",
       "    \n",
       "    \n",
       "            var marker_dcfd50cbe48f9fc1b59ccd81db4404b6 = L.marker(\n",
       "                [42.3581, -71.093198],\n",
       "                {}\n",
       "            ).addTo(map_4f18f501192524ce998ea74ca91a2225);\n",
       "        \n",
       "    \n",
       "            var icon_adb7927cd4c1d0ee24ce883f54bfaab0 = L.AwesomeMarkers.icon(\n",
       "                {&quot;extraClasses&quot;: &quot;fa-rotate-0&quot;, &quot;icon&quot;: &quot;bicycle&quot;, &quot;iconColor&quot;: &quot;white&quot;, &quot;markerColor&quot;: &quot;blue&quot;, &quot;prefix&quot;: &quot;fa&quot;}\n",
       "            );\n",
       "            marker_dcfd50cbe48f9fc1b59ccd81db4404b6.setIcon(icon_adb7927cd4c1d0ee24ce883f54bfaab0);\n",
       "        \n",
       "    \n",
       "        var popup_105241986ce307c8fc6fd28a0775c015 = L.popup({&quot;maxWidth&quot;: &quot;100%&quot;});\n",
       "\n",
       "        \n",
       "            \n",
       "                var html_75cacf0f954fc02afb8e8e59b7237170 = $(`&lt;div id=&quot;html_75cacf0f954fc02afb8e8e59b7237170&quot; style=&quot;width: 100.0%; height: 100.0%;&quot;&gt;(&#x27;67&#x27;, 1610)&lt;/div&gt;`)[0];\n",
       "                popup_105241986ce307c8fc6fd28a0775c015.setContent(html_75cacf0f954fc02afb8e8e59b7237170);\n",
       "            \n",
       "        \n",
       "\n",
       "        marker_dcfd50cbe48f9fc1b59ccd81db4404b6.bindPopup(popup_105241986ce307c8fc6fd28a0775c015)\n",
       "        ;\n",
       "\n",
       "        \n",
       "    \n",
       "    \n",
       "            var poly_line_6ebef56c6ccf81195382582d19d6d20c = L.polyline(\n",
       "                [[42.35977, -71.051601], [42.352175, -71.055547]],\n",
       "                {&quot;bubblingMouseEvents&quot;: true, &quot;color&quot;: &quot;red&quot;, &quot;dashArray&quot;: null, &quot;dashOffset&quot;: null, &quot;fill&quot;: false, &quot;fillColor&quot;: &quot;red&quot;, &quot;fillOpacity&quot;: 0.2, &quot;fillRule&quot;: &quot;evenodd&quot;, &quot;lineCap&quot;: &quot;round&quot;, &quot;lineJoin&quot;: &quot;round&quot;, &quot;noClip&quot;: false, &quot;opacity&quot;: 1, &quot;smoothFactor&quot;: 1.0, &quot;stroke&quot;: true, &quot;weight&quot;: 2.5}\n",
       "            ).addTo(map_4f18f501192524ce998ea74ca91a2225);\n",
       "        \n",
       "    \n",
       "            var marker_f6b2f965b7cacc807e1e9aaba8506cd2 = L.marker(\n",
       "                [42.35977, -71.051601],\n",
       "                {}\n",
       "            ).addTo(map_4f18f501192524ce998ea74ca91a2225);\n",
       "        \n",
       "    \n",
       "            var icon_dc1cf464fb55e51c9c0b7e9f0f95f838 = L.AwesomeMarkers.icon(\n",
       "                {&quot;extraClasses&quot;: &quot;fa-rotate-0&quot;, &quot;icon&quot;: &quot;bicycle&quot;, &quot;iconColor&quot;: &quot;white&quot;, &quot;markerColor&quot;: &quot;blue&quot;, &quot;prefix&quot;: &quot;fa&quot;}\n",
       "            );\n",
       "            marker_f6b2f965b7cacc807e1e9aaba8506cd2.setIcon(icon_dc1cf464fb55e51c9c0b7e9f0f95f838);\n",
       "        \n",
       "    \n",
       "        var popup_132b2826ec6e3ac35f6428c079de1101 = L.popup({&quot;maxWidth&quot;: &quot;100%&quot;});\n",
       "\n",
       "        \n",
       "            \n",
       "                var html_ca81ae30f98e34fcb29d606dfb9214d4 = $(`&lt;div id=&quot;html_ca81ae30f98e34fcb29d606dfb9214d4&quot; style=&quot;width: 100.0%; height: 100.0%;&quot;&gt;(20, 1531)&lt;/div&gt;`)[0];\n",
       "                popup_132b2826ec6e3ac35f6428c079de1101.setContent(html_ca81ae30f98e34fcb29d606dfb9214d4);\n",
       "            \n",
       "        \n",
       "\n",
       "        marker_f6b2f965b7cacc807e1e9aaba8506cd2.bindPopup(popup_132b2826ec6e3ac35f6428c079de1101)\n",
       "        ;\n",
       "\n",
       "        \n",
       "    \n",
       "    \n",
       "            var marker_14308d4135e6ea5d74d5d1943daf8433 = L.marker(\n",
       "                [42.352175, -71.055547],\n",
       "                {}\n",
       "            ).addTo(map_4f18f501192524ce998ea74ca91a2225);\n",
       "        \n",
       "    \n",
       "            var icon_eac06d3495e1b4b206c67e41d0dddfa9 = L.AwesomeMarkers.icon(\n",
       "                {&quot;extraClasses&quot;: &quot;fa-rotate-0&quot;, &quot;icon&quot;: &quot;bicycle&quot;, &quot;iconColor&quot;: &quot;white&quot;, &quot;markerColor&quot;: &quot;blue&quot;, &quot;prefix&quot;: &quot;fa&quot;}\n",
       "            );\n",
       "            marker_14308d4135e6ea5d74d5d1943daf8433.setIcon(icon_eac06d3495e1b4b206c67e41d0dddfa9);\n",
       "        \n",
       "    \n",
       "        var popup_03e3c847f0a3fc4c4f810216634a918f = L.popup({&quot;maxWidth&quot;: &quot;100%&quot;});\n",
       "\n",
       "        \n",
       "            \n",
       "                var html_c8f2809c1c5d248f1ded55d22c45a4c5 = $(`&lt;div id=&quot;html_c8f2809c1c5d248f1ded55d22c45a4c5&quot; style=&quot;width: 100.0%; height: 100.0%;&quot;&gt;(&#x27;22&#x27;, 1531)&lt;/div&gt;`)[0];\n",
       "                popup_03e3c847f0a3fc4c4f810216634a918f.setContent(html_c8f2809c1c5d248f1ded55d22c45a4c5);\n",
       "            \n",
       "        \n",
       "\n",
       "        marker_14308d4135e6ea5d74d5d1943daf8433.bindPopup(popup_03e3c847f0a3fc4c4f810216634a918f)\n",
       "        ;\n",
       "\n",
       "        \n",
       "    \n",
       "    \n",
       "            var poly_line_8c6fc8e32603ba3bb9927c4f688bf76c = L.polyline(\n",
       "                [[42.3581, -71.093198], [42.36346469304347, -71.10057324171066]],\n",
       "                {&quot;bubblingMouseEvents&quot;: true, &quot;color&quot;: &quot;red&quot;, &quot;dashArray&quot;: null, &quot;dashOffset&quot;: null, &quot;fill&quot;: false, &quot;fillColor&quot;: &quot;red&quot;, &quot;fillOpacity&quot;: 0.2, &quot;fillRule&quot;: &quot;evenodd&quot;, &quot;lineCap&quot;: &quot;round&quot;, &quot;lineJoin&quot;: &quot;round&quot;, &quot;noClip&quot;: false, &quot;opacity&quot;: 1, &quot;smoothFactor&quot;: 1.0, &quot;stroke&quot;: true, &quot;weight&quot;: 2.5}\n",
       "            ).addTo(map_4f18f501192524ce998ea74ca91a2225);\n",
       "        \n",
       "    \n",
       "            var marker_02fa9e5b462ae0020777d13df4221710 = L.marker(\n",
       "                [42.3581, -71.093198],\n",
       "                {}\n",
       "            ).addTo(map_4f18f501192524ce998ea74ca91a2225);\n",
       "        \n",
       "    \n",
       "            var icon_426e4b325a5ff05c95893c937877e8b1 = L.AwesomeMarkers.icon(\n",
       "                {&quot;extraClasses&quot;: &quot;fa-rotate-0&quot;, &quot;icon&quot;: &quot;bicycle&quot;, &quot;iconColor&quot;: &quot;white&quot;, &quot;markerColor&quot;: &quot;blue&quot;, &quot;prefix&quot;: &quot;fa&quot;}\n",
       "            );\n",
       "            marker_02fa9e5b462ae0020777d13df4221710.setIcon(icon_426e4b325a5ff05c95893c937877e8b1);\n",
       "        \n",
       "    \n",
       "        var popup_36575d846fd41365b4d21611ceed6548 = L.popup({&quot;maxWidth&quot;: &quot;100%&quot;});\n",
       "\n",
       "        \n",
       "            \n",
       "                var html_c22f60fa9bc88c5561c77c5992cb56d5 = $(`&lt;div id=&quot;html_c22f60fa9bc88c5561c77c5992cb56d5&quot; style=&quot;width: 100.0%; height: 100.0%;&quot;&gt;(67, 1524)&lt;/div&gt;`)[0];\n",
       "                popup_36575d846fd41365b4d21611ceed6548.setContent(html_c22f60fa9bc88c5561c77c5992cb56d5);\n",
       "            \n",
       "        \n",
       "\n",
       "        marker_02fa9e5b462ae0020777d13df4221710.bindPopup(popup_36575d846fd41365b4d21611ceed6548)\n",
       "        ;\n",
       "\n",
       "        \n",
       "    \n",
       "    \n",
       "            var marker_88abed8e88846e6452d8b1310a11a9bb = L.marker(\n",
       "                [42.36346469304347, -71.10057324171066],\n",
       "                {}\n",
       "            ).addTo(map_4f18f501192524ce998ea74ca91a2225);\n",
       "        \n",
       "    \n",
       "            var icon_06c80376f506ff6028114505d110271f = L.AwesomeMarkers.icon(\n",
       "                {&quot;extraClasses&quot;: &quot;fa-rotate-0&quot;, &quot;icon&quot;: &quot;bicycle&quot;, &quot;iconColor&quot;: &quot;white&quot;, &quot;markerColor&quot;: &quot;blue&quot;, &quot;prefix&quot;: &quot;fa&quot;}\n",
       "            );\n",
       "            marker_88abed8e88846e6452d8b1310a11a9bb.setIcon(icon_06c80376f506ff6028114505d110271f);\n",
       "        \n",
       "    \n",
       "        var popup_0d12b57896932e7a2872091f7612a999 = L.popup({&quot;maxWidth&quot;: &quot;100%&quot;});\n",
       "\n",
       "        \n",
       "            \n",
       "                var html_31615bee35f3d0cd04556cb773de2d80 = $(`&lt;div id=&quot;html_31615bee35f3d0cd04556cb773de2d80&quot; style=&quot;width: 100.0%; height: 100.0%;&quot;&gt;(&#x27;75&#x27;, 1524)&lt;/div&gt;`)[0];\n",
       "                popup_0d12b57896932e7a2872091f7612a999.setContent(html_31615bee35f3d0cd04556cb773de2d80);\n",
       "            \n",
       "        \n",
       "\n",
       "        marker_88abed8e88846e6452d8b1310a11a9bb.bindPopup(popup_0d12b57896932e7a2872091f7612a999)\n",
       "        ;\n",
       "\n",
       "        \n",
       "    \n",
       "&lt;/script&gt;\n",
       "&lt;/html&gt;\" style=\"position:absolute;width:100%;height:100%;left:0;top:0;border:none !important;\" allowfullscreen webkitallowfullscreen mozallowfullscreen></iframe></div></div>"
      ],
      "text/plain": [
       "<folium.folium.Map at 0x7fb9a91a46d0>"
      ]
     },
     "execution_count": 44,
     "metadata": {},
     "output_type": "execute_result"
    }
   ],
   "source": [
    "#mapping the top trips \n",
    "\n",
    "\n",
    "avg_lat = df_trips['start_station_latitude'].mean()\n",
    "avg_long = df_trips['start_station_longitude'].mean()\n",
    "\n",
    "m = folium.Map(location=[avg_lat, avg_long], zoom_start=15)\n",
    "\n",
    "points = []\n",
    "\n",
    "\n",
    "for i in range(0,len(df_top_trips)):\n",
    "    points.append([df_top_trips.iloc[i]['start_station_latitude'],df_top_trips.iloc[i]['start_station_longitude']])\n",
    "    points.append([df_top_trips.iloc[i]['end_station_latitude'],df_top_trips.iloc[i]['end_station_longitude']])\n",
    "    folium.PolyLine(points, color=\"red\", weight=2.5, opacity=1).add_to(m)\n",
    "    folium.Marker([df_top_trips.iloc[i]['start_station_latitude'],df_top_trips.iloc[i]['start_station_longitude']],popup=(df_top_trips.iloc[i]['Station_A'], df_top_trips.iloc[i]['count_trips' ]), icon = folium.Icon(color='blue',prefix='fa', icon='bicycle')).add_to(m)\n",
    "    folium.Marker([df_top_trips.iloc[i]['end_station_latitude'],df_top_trips.iloc[i]['end_station_longitude']],popup=(df_top_trips.iloc[i]['Station_B'], df_top_trips.iloc[i]['count_trips' ]), icon = folium.Icon(color='blue',prefix='fa', icon='bicycle')).add_to(m)\n",
    "    points = [] #if points is not reseted then each station will be connected with every other station in array\n",
    "\n",
    "m \n",
    "\n",
    "#findings: near universities (harvard and mit) as well as around citycenter(haymarket) and the trainstations (north and south)"
   ]
  }
 ],
 "metadata": {
  "kernelspec": {
   "display_name": "AAproject",
   "language": "python",
   "name": "python3"
  },
  "language_info": {
   "codemirror_mode": {
    "name": "ipython",
    "version": 3
   },
   "file_extension": ".py",
   "mimetype": "text/x-python",
   "name": "python",
   "nbconvert_exporter": "python",
   "pygments_lexer": "ipython3",
   "version": "3.9.15"
  },
  "orig_nbformat": 4,
  "vscode": {
   "interpreter": {
    "hash": "4bda6f00b1c96ac5a9a9d5d0da9c426f670222a35f5423f5287bfe0ddc8184d4"
   }
  }
 },
 "nbformat": 4,
 "nbformat_minor": 2
}
