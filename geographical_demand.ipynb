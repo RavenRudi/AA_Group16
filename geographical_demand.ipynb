{
 "cells": [
  {
   "cell_type": "code",
   "execution_count": 8,
   "metadata": {},
   "outputs": [],
   "source": [
    "import pandas as pd\n",
    "import numpy as np\n",
    "import folium\n",
    "import plotly.express as px\n",
    "import seaborn as sns\n",
    "from folium import plugins\n",
    "from folium.plugins import HeatMap"
   ]
  },
  {
   "attachments": {},
   "cell_type": "markdown",
   "metadata": {},
   "source": [
    "# Load processed dataframe"
   ]
  },
  {
   "cell_type": "code",
   "execution_count": 9,
   "metadata": {},
   "outputs": [
    {
     "name": "stdout",
     "output_type": "stream",
     "text": [
      "<class 'pandas.core.frame.DataFrame'>\n",
      "RangeIndex: 1122554 entries, 0 to 1122553\n",
      "Data columns (total 14 columns):\n",
      " #   Column                   Non-Null Count    Dtype         \n",
      "---  ------                   --------------    -----         \n",
      " 0   Unnamed: 0               1122554 non-null  int64         \n",
      " 1   start_time               1122554 non-null  datetime64[ns]\n",
      " 2   end_time                 1122554 non-null  datetime64[ns]\n",
      " 3   start_station_id         1122554 non-null  int64         \n",
      " 4   end_station_id           1122554 non-null  string        \n",
      " 5   start_station_name       1122554 non-null  string        \n",
      " 6   end_station_name         1122554 non-null  string        \n",
      " 7   bike_id                  1122554 non-null  int64         \n",
      " 8   user_type                1122554 non-null  string        \n",
      " 9   trip_length              1122554 non-null  float64       \n",
      " 10  start_station_latitude   1122554 non-null  float64       \n",
      " 11  start_station_longitude  1122554 non-null  float64       \n",
      " 12  end_station_latitude     1122554 non-null  float64       \n",
      " 13  end_station_longitude    1122554 non-null  float64       \n",
      "dtypes: datetime64[ns](2), float64(5), int64(3), string(4)\n",
      "memory usage: 119.9 MB\n"
     ]
    }
   ],
   "source": [
    "df_boston = pd.read_csv('./data/prepared/rides_data_prepared.csv', dtype={'start_station_id': np.int64, 'end_station_id': 'string', 'end_station_name': 'string', 'start_station_name': 'string', 'bike_id': np.int64, 'user_type': 'string'})\n",
    "df_boston['start_time'] = pd.to_datetime(df_boston['start_time'], format='%Y-%m-%d %X')\n",
    "df_boston['end_time'] = pd.to_datetime(df_boston['end_time'], format='%Y-%m-%d %X')\n",
    "df_boston.info()"
   ]
  },
  {
   "attachments": {},
   "cell_type": "markdown",
   "metadata": {},
   "source": [
    "# Station analysis"
   ]
  },
  {
   "attachments": {},
   "cell_type": "markdown",
   "metadata": {},
   "source": [
    "## Starts stations volume  per year\n",
    "Visualization which contains information on how many rides start at a respective station per year"
   ]
  },
  {
   "cell_type": "code",
   "execution_count": 10,
   "metadata": {},
   "outputs": [
    {
     "data": {
      "application/vnd.plotly.v1+json": {
       "config": {
        "plotlyServerURL": "https://plot.ly"
       },
       "data": [
        {
         "hovertemplate": "counts_start=%{marker.color}<br>start_station_latitude=%{lat}<br>start_station_longitude=%{lon}<extra></extra>",
         "lat": [
          42.387151,
          42.340021,
          42.345392,
          42.341814,
          42.361174,
          42.35328743453294,
          42.353334,
          42.351246,
          42.350406,
          42.338629,
          42.335911,
          42.336437,
          42.337171,
          42.361667,
          42.34807412317439,
          42.365064,
          42.347241,
          42.35977,
          42.345959,
          42.352175,
          42.35892,
          42.351205,
          42.341332,
          42.341522,
          42.331184,
          42.363732,
          42.334073,
          42.348833,
          42.343912,
          42.348706,
          42.355402,
          42.349673,
          42.357402,
          42.366222,
          42.338623,
          42.363871,
          42.352261,
          42.352033,
          42.357143,
          42.360613,
          42.344706,
          42.343864,
          42.362811,
          42.356755,
          42.351146,
          42.350989,
          42.3348756,
          42.348717,
          42.350851,
          42.354979,
          42.347265,
          42.328654,
          42.340799,
          42.355596,
          42.351356,
          42.360835,
          42.348762,
          42.344023,
          42.3511,
          42.3475,
          42.348607,
          42.3581,
          42.36507,
          42.341598,
          42.371196,
          42.383405,
          42.362613,
          42.373231,
          42.373268,
          42.36346469304347,
          42.366426,
          42.386844,
          42.379637,
          42.37842,
          42.3619622,
          42.352409,
          42.339335,
          42.366981,
          42.378338,
          42.332799,
          42.366621,
          42.374035,
          42.379011,
          42.370677,
          42.366277,
          42.314507,
          42.320494,
          42.375603,
          42.372969,
          42.373379,
          42.36919031768079,
          42.371848,
          42.385582,
          42.396969,
          42.400877,
          42.346563,
          42.380287,
          42.356954,
          42.325333,
          42.3625,
          42.377945,
          42.365942,
          42.376369,
          42.40449,
          42.39082,
          42.330716,
          42.402763,
          42.387995,
          42.370803,
          42.366095,
          42.397828,
          42.335741,
          42.356052,
          42.335693,
          42.345733,
          42.313156,
          42.309054,
          42.320998,
          42.315692,
          42.320561,
          42.377022,
          42.317225,
          42.322701,
          42.394002,
          42.310579,
          42.350413,
          42.344827,
          42.344796,
          42.398365,
          42.326599,
          42.361589,
          42.388966,
          42.36356015842989,
          42.396105,
          42.369885,
          42.392766,
          42.363796,
          42.344137,
          42.358155,
          42.345901,
          42.32797270205962,
          42.337596,
          42.3391085,
          42.309796,
          42.344792,
          42.317642,
          42.378965,
          42.303469,
          42.37408991426522,
          42.34900494405213,
          42.34894857235593,
          42.38674802045056,
          42.36264779118595,
          42.35957320109044,
          42.35560121327927,
          42.37478628706384
         ],
         "legendgroup": "",
         "lon": [
          -71.075978,
          -71.100812,
          -71.069616,
          -71.090179,
          -71.065142,
          -71.04438900947571,
          -71.137313,
          -71.115639,
          -71.108279,
          -71.1065,
          -71.088496,
          -71.073089,
          -71.102797,
          -71.13802,
          -71.07657015323639,
          -71.119233,
          -71.105301,
          -71.051601,
          -71.082578,
          -71.055547,
          -71.057629,
          -71.043983,
          -71.076847,
          -71.068922,
          -71.095171,
          -71.124565,
          -71.105221,
          -71.041747,
          -71.102221,
          -71.097009,
          -71.058087,
          -71.077303,
          -71.147782,
          -71.059914,
          -71.074182,
          -71.050877,
          -71.123831,
          -71.070627,
          -71.050699,
          -71.057452,
          -71.097515,
          -71.085918,
          -71.056067,
          -71.055407,
          -71.066289,
          -71.073644,
          -71.0790969,
          -71.085954,
          -71.089886,
          -71.063348,
          -71.088088,
          -71.084198,
          -71.081572,
          -71.07278,
          -71.059367,
          -71.0708399,
          -71.082383,
          -71.057054,
          -71.0496,
          -71.0441,
          -71.13401,
          -71.093198,
          -71.1031,
          -71.123338,
          -71.121473,
          -71.107593,
          -71.084105,
          -71.120886,
          -71.118579,
          -71.10057324171066,
          -71.105495,
          -71.09812,
          -71.095319,
          -71.105668,
          -71.0920526,
          -71.062679,
          -71.13493,
          -71.076472,
          -71.048927,
          -71.116205,
          -71.114214,
          -71.101427,
          -71.119945,
          -71.076529,
          -71.09169,
          -71.041269,
          -71.051122,
          -71.064608,
          -71.094445,
          -71.111075,
          -71.11714124679565,
          -71.060292,
          -71.113341,
          -71.123024,
          -71.116772,
          -71.128374,
          -71.125107,
          -71.113687,
          -71.075354,
          -71.08822,
          -71.116865,
          -71.060515,
          -71.114025,
          -71.123413,
          -71.10942,
          -71.057044,
          -71.126908,
          -71.119084,
          -71.104412,
          -71.086388,
          -71.130516,
          -71.03877,
          -71.069849,
          -71.045859,
          -71.100694,
          -71.11414,
          -71.11543,
          -71.110833,
          -71.098634,
          -71.06198,
          -71.056605,
          -71.065421,
          -71.099533,
          -71.120406,
          -71.107341,
          -71.07655,
          -71.028664,
          -71.031614,
          -71.107818,
          -71.066498,
          -71.107437,
          -71.132788,
          -71.08216792345047,
          -71.139459,
          -71.069957,
          -71.129042,
          -71.129164,
          -71.052608,
          -71.052163,
          -71.063187,
          -71.11089706420898,
          -71.096391,
          -71.0514432,
          -71.092225,
          -71.044024,
          -71.056664,
          -71.068607,
          -71.085347,
          -71.06905996799469,
          -71.1604106426239,
          -71.15027189254761,
          -71.11901879310608,
          -71.10006093978882,
          -71.10129475593567,
          -71.10394477844238,
          -71.13320231437683
         ],
         "marker": {
          "color": [
           56,
           5018,
           9512,
           6175,
           13018,
           4725,
           3692,
           8505,
           7237,
           7868,
           6364,
           8917,
           9529,
           2028,
           16706,
           6540,
           6841,
           12324,
           12611,
           30798,
           14419,
           6591,
           8093,
           9105,
           4285,
           3088,
           5292,
           7414,
           7761,
           14515,
           10305,
           19291,
           1246,
           11839,
           9377,
           11232,
           7826,
           13130,
           12612,
           7356,
           9788,
           11884,
           14686,
           10844,
           7703,
           8869,
           2833,
           10405,
           13867,
           12413,
           11334,
           1636,
           8676,
           13212,
           8346,
           17291,
           12654,
           3568,
           9623,
           4774,
           5126,
           29597,
           21444,
           6215,
           7916,
           5320,
           14491,
           10572,
           22679,
           19366,
           14245,
           2052,
           6237,
           4618,
           16882,
           10343,
           3194,
           10120,
           4964,
           4017,
           10039,
           13272,
           6395,
           10910,
           14141,
           658,
           1442,
           6064,
           10397,
           9764,
           6178,
           11411,
           3758,
           10176,
           1700,
           3348,
           6415,
           11253,
           624,
           14748,
           7825,
           18678,
           9458,
           1861,
           2387,
           2688,
           3258,
           10712,
           9162,
           7060,
           5649,
           4382,
           9357,
           4898,
           2891,
           2096,
           2071,
           3458,
           1148,
           703,
           2447,
           761,
           3141,
           1565,
           3154,
           5766,
           3260,
           3906,
           1266,
           1196,
           5896,
           2831,
           6607,
           3537,
           5875,
           1452,
           5127,
           5196,
           7137,
           5773,
           192,
           748,
           706,
           65,
           558,
           88,
           653,
           46,
           280,
           116,
           240,
           287,
           858,
           1197,
           894,
           253
          ],
          "coloraxis": "coloraxis",
          "size": [
           56,
           5018,
           9512,
           6175,
           13018,
           4725,
           3692,
           8505,
           7237,
           7868,
           6364,
           8917,
           9529,
           2028,
           16706,
           6540,
           6841,
           12324,
           12611,
           30798,
           14419,
           6591,
           8093,
           9105,
           4285,
           3088,
           5292,
           7414,
           7761,
           14515,
           10305,
           19291,
           1246,
           11839,
           9377,
           11232,
           7826,
           13130,
           12612,
           7356,
           9788,
           11884,
           14686,
           10844,
           7703,
           8869,
           2833,
           10405,
           13867,
           12413,
           11334,
           1636,
           8676,
           13212,
           8346,
           17291,
           12654,
           3568,
           9623,
           4774,
           5126,
           29597,
           21444,
           6215,
           7916,
           5320,
           14491,
           10572,
           22679,
           19366,
           14245,
           2052,
           6237,
           4618,
           16882,
           10343,
           3194,
           10120,
           4964,
           4017,
           10039,
           13272,
           6395,
           10910,
           14141,
           658,
           1442,
           6064,
           10397,
           9764,
           6178,
           11411,
           3758,
           10176,
           1700,
           3348,
           6415,
           11253,
           624,
           14748,
           7825,
           18678,
           9458,
           1861,
           2387,
           2688,
           3258,
           10712,
           9162,
           7060,
           5649,
           4382,
           9357,
           4898,
           2891,
           2096,
           2071,
           3458,
           1148,
           703,
           2447,
           761,
           3141,
           1565,
           3154,
           5766,
           3260,
           3906,
           1266,
           1196,
           5896,
           2831,
           6607,
           3537,
           5875,
           1452,
           5127,
           5196,
           7137,
           5773,
           192,
           748,
           706,
           65,
           558,
           88,
           653,
           46,
           280,
           116,
           240,
           287,
           858,
           1197,
           894,
           253
          ],
          "sizemode": "area",
          "sizeref": 76.995
         },
         "mode": "markers",
         "name": "",
         "showlegend": false,
         "subplot": "mapbox",
         "type": "scattermapbox"
        }
       ],
       "layout": {
        "coloraxis": {
         "colorbar": {
          "title": {
           "text": "counts_start"
          }
         },
         "colorscale": [
          [
           0,
           "orange"
          ],
          [
           1,
           "red"
          ]
         ]
        },
        "height": 800,
        "legend": {
         "itemsizing": "constant",
         "tracegroupgap": 0
        },
        "mapbox": {
         "center": {
          "lat": 42.355539267132464,
          "lon": -71.08955563028009
         },
         "domain": {
          "x": [
           0,
           1
          ],
          "y": [
           0,
           1
          ]
         },
         "style": "open-street-map",
         "zoom": 8
        },
        "margin": {
         "b": 0,
         "l": 0,
         "r": 0,
         "t": 0
        },
        "template": {
         "data": {
          "bar": [
           {
            "error_x": {
             "color": "#2a3f5f"
            },
            "error_y": {
             "color": "#2a3f5f"
            },
            "marker": {
             "line": {
              "color": "#E5ECF6",
              "width": 0.5
             },
             "pattern": {
              "fillmode": "overlay",
              "size": 10,
              "solidity": 0.2
             }
            },
            "type": "bar"
           }
          ],
          "barpolar": [
           {
            "marker": {
             "line": {
              "color": "#E5ECF6",
              "width": 0.5
             },
             "pattern": {
              "fillmode": "overlay",
              "size": 10,
              "solidity": 0.2
             }
            },
            "type": "barpolar"
           }
          ],
          "carpet": [
           {
            "aaxis": {
             "endlinecolor": "#2a3f5f",
             "gridcolor": "white",
             "linecolor": "white",
             "minorgridcolor": "white",
             "startlinecolor": "#2a3f5f"
            },
            "baxis": {
             "endlinecolor": "#2a3f5f",
             "gridcolor": "white",
             "linecolor": "white",
             "minorgridcolor": "white",
             "startlinecolor": "#2a3f5f"
            },
            "type": "carpet"
           }
          ],
          "choropleth": [
           {
            "colorbar": {
             "outlinewidth": 0,
             "ticks": ""
            },
            "type": "choropleth"
           }
          ],
          "contour": [
           {
            "colorbar": {
             "outlinewidth": 0,
             "ticks": ""
            },
            "colorscale": [
             [
              0,
              "#0d0887"
             ],
             [
              0.1111111111111111,
              "#46039f"
             ],
             [
              0.2222222222222222,
              "#7201a8"
             ],
             [
              0.3333333333333333,
              "#9c179e"
             ],
             [
              0.4444444444444444,
              "#bd3786"
             ],
             [
              0.5555555555555556,
              "#d8576b"
             ],
             [
              0.6666666666666666,
              "#ed7953"
             ],
             [
              0.7777777777777778,
              "#fb9f3a"
             ],
             [
              0.8888888888888888,
              "#fdca26"
             ],
             [
              1,
              "#f0f921"
             ]
            ],
            "type": "contour"
           }
          ],
          "contourcarpet": [
           {
            "colorbar": {
             "outlinewidth": 0,
             "ticks": ""
            },
            "type": "contourcarpet"
           }
          ],
          "heatmap": [
           {
            "colorbar": {
             "outlinewidth": 0,
             "ticks": ""
            },
            "colorscale": [
             [
              0,
              "#0d0887"
             ],
             [
              0.1111111111111111,
              "#46039f"
             ],
             [
              0.2222222222222222,
              "#7201a8"
             ],
             [
              0.3333333333333333,
              "#9c179e"
             ],
             [
              0.4444444444444444,
              "#bd3786"
             ],
             [
              0.5555555555555556,
              "#d8576b"
             ],
             [
              0.6666666666666666,
              "#ed7953"
             ],
             [
              0.7777777777777778,
              "#fb9f3a"
             ],
             [
              0.8888888888888888,
              "#fdca26"
             ],
             [
              1,
              "#f0f921"
             ]
            ],
            "type": "heatmap"
           }
          ],
          "heatmapgl": [
           {
            "colorbar": {
             "outlinewidth": 0,
             "ticks": ""
            },
            "colorscale": [
             [
              0,
              "#0d0887"
             ],
             [
              0.1111111111111111,
              "#46039f"
             ],
             [
              0.2222222222222222,
              "#7201a8"
             ],
             [
              0.3333333333333333,
              "#9c179e"
             ],
             [
              0.4444444444444444,
              "#bd3786"
             ],
             [
              0.5555555555555556,
              "#d8576b"
             ],
             [
              0.6666666666666666,
              "#ed7953"
             ],
             [
              0.7777777777777778,
              "#fb9f3a"
             ],
             [
              0.8888888888888888,
              "#fdca26"
             ],
             [
              1,
              "#f0f921"
             ]
            ],
            "type": "heatmapgl"
           }
          ],
          "histogram": [
           {
            "marker": {
             "pattern": {
              "fillmode": "overlay",
              "size": 10,
              "solidity": 0.2
             }
            },
            "type": "histogram"
           }
          ],
          "histogram2d": [
           {
            "colorbar": {
             "outlinewidth": 0,
             "ticks": ""
            },
            "colorscale": [
             [
              0,
              "#0d0887"
             ],
             [
              0.1111111111111111,
              "#46039f"
             ],
             [
              0.2222222222222222,
              "#7201a8"
             ],
             [
              0.3333333333333333,
              "#9c179e"
             ],
             [
              0.4444444444444444,
              "#bd3786"
             ],
             [
              0.5555555555555556,
              "#d8576b"
             ],
             [
              0.6666666666666666,
              "#ed7953"
             ],
             [
              0.7777777777777778,
              "#fb9f3a"
             ],
             [
              0.8888888888888888,
              "#fdca26"
             ],
             [
              1,
              "#f0f921"
             ]
            ],
            "type": "histogram2d"
           }
          ],
          "histogram2dcontour": [
           {
            "colorbar": {
             "outlinewidth": 0,
             "ticks": ""
            },
            "colorscale": [
             [
              0,
              "#0d0887"
             ],
             [
              0.1111111111111111,
              "#46039f"
             ],
             [
              0.2222222222222222,
              "#7201a8"
             ],
             [
              0.3333333333333333,
              "#9c179e"
             ],
             [
              0.4444444444444444,
              "#bd3786"
             ],
             [
              0.5555555555555556,
              "#d8576b"
             ],
             [
              0.6666666666666666,
              "#ed7953"
             ],
             [
              0.7777777777777778,
              "#fb9f3a"
             ],
             [
              0.8888888888888888,
              "#fdca26"
             ],
             [
              1,
              "#f0f921"
             ]
            ],
            "type": "histogram2dcontour"
           }
          ],
          "mesh3d": [
           {
            "colorbar": {
             "outlinewidth": 0,
             "ticks": ""
            },
            "type": "mesh3d"
           }
          ],
          "parcoords": [
           {
            "line": {
             "colorbar": {
              "outlinewidth": 0,
              "ticks": ""
             }
            },
            "type": "parcoords"
           }
          ],
          "pie": [
           {
            "automargin": true,
            "type": "pie"
           }
          ],
          "scatter": [
           {
            "fillpattern": {
             "fillmode": "overlay",
             "size": 10,
             "solidity": 0.2
            },
            "type": "scatter"
           }
          ],
          "scatter3d": [
           {
            "line": {
             "colorbar": {
              "outlinewidth": 0,
              "ticks": ""
             }
            },
            "marker": {
             "colorbar": {
              "outlinewidth": 0,
              "ticks": ""
             }
            },
            "type": "scatter3d"
           }
          ],
          "scattercarpet": [
           {
            "marker": {
             "colorbar": {
              "outlinewidth": 0,
              "ticks": ""
             }
            },
            "type": "scattercarpet"
           }
          ],
          "scattergeo": [
           {
            "marker": {
             "colorbar": {
              "outlinewidth": 0,
              "ticks": ""
             }
            },
            "type": "scattergeo"
           }
          ],
          "scattergl": [
           {
            "marker": {
             "colorbar": {
              "outlinewidth": 0,
              "ticks": ""
             }
            },
            "type": "scattergl"
           }
          ],
          "scattermapbox": [
           {
            "marker": {
             "colorbar": {
              "outlinewidth": 0,
              "ticks": ""
             }
            },
            "type": "scattermapbox"
           }
          ],
          "scatterpolar": [
           {
            "marker": {
             "colorbar": {
              "outlinewidth": 0,
              "ticks": ""
             }
            },
            "type": "scatterpolar"
           }
          ],
          "scatterpolargl": [
           {
            "marker": {
             "colorbar": {
              "outlinewidth": 0,
              "ticks": ""
             }
            },
            "type": "scatterpolargl"
           }
          ],
          "scatterternary": [
           {
            "marker": {
             "colorbar": {
              "outlinewidth": 0,
              "ticks": ""
             }
            },
            "type": "scatterternary"
           }
          ],
          "surface": [
           {
            "colorbar": {
             "outlinewidth": 0,
             "ticks": ""
            },
            "colorscale": [
             [
              0,
              "#0d0887"
             ],
             [
              0.1111111111111111,
              "#46039f"
             ],
             [
              0.2222222222222222,
              "#7201a8"
             ],
             [
              0.3333333333333333,
              "#9c179e"
             ],
             [
              0.4444444444444444,
              "#bd3786"
             ],
             [
              0.5555555555555556,
              "#d8576b"
             ],
             [
              0.6666666666666666,
              "#ed7953"
             ],
             [
              0.7777777777777778,
              "#fb9f3a"
             ],
             [
              0.8888888888888888,
              "#fdca26"
             ],
             [
              1,
              "#f0f921"
             ]
            ],
            "type": "surface"
           }
          ],
          "table": [
           {
            "cells": {
             "fill": {
              "color": "#EBF0F8"
             },
             "line": {
              "color": "white"
             }
            },
            "header": {
             "fill": {
              "color": "#C8D4E3"
             },
             "line": {
              "color": "white"
             }
            },
            "type": "table"
           }
          ]
         },
         "layout": {
          "annotationdefaults": {
           "arrowcolor": "#2a3f5f",
           "arrowhead": 0,
           "arrowwidth": 1
          },
          "autotypenumbers": "strict",
          "coloraxis": {
           "colorbar": {
            "outlinewidth": 0,
            "ticks": ""
           }
          },
          "colorscale": {
           "diverging": [
            [
             0,
             "#8e0152"
            ],
            [
             0.1,
             "#c51b7d"
            ],
            [
             0.2,
             "#de77ae"
            ],
            [
             0.3,
             "#f1b6da"
            ],
            [
             0.4,
             "#fde0ef"
            ],
            [
             0.5,
             "#f7f7f7"
            ],
            [
             0.6,
             "#e6f5d0"
            ],
            [
             0.7,
             "#b8e186"
            ],
            [
             0.8,
             "#7fbc41"
            ],
            [
             0.9,
             "#4d9221"
            ],
            [
             1,
             "#276419"
            ]
           ],
           "sequential": [
            [
             0,
             "#0d0887"
            ],
            [
             0.1111111111111111,
             "#46039f"
            ],
            [
             0.2222222222222222,
             "#7201a8"
            ],
            [
             0.3333333333333333,
             "#9c179e"
            ],
            [
             0.4444444444444444,
             "#bd3786"
            ],
            [
             0.5555555555555556,
             "#d8576b"
            ],
            [
             0.6666666666666666,
             "#ed7953"
            ],
            [
             0.7777777777777778,
             "#fb9f3a"
            ],
            [
             0.8888888888888888,
             "#fdca26"
            ],
            [
             1,
             "#f0f921"
            ]
           ],
           "sequentialminus": [
            [
             0,
             "#0d0887"
            ],
            [
             0.1111111111111111,
             "#46039f"
            ],
            [
             0.2222222222222222,
             "#7201a8"
            ],
            [
             0.3333333333333333,
             "#9c179e"
            ],
            [
             0.4444444444444444,
             "#bd3786"
            ],
            [
             0.5555555555555556,
             "#d8576b"
            ],
            [
             0.6666666666666666,
             "#ed7953"
            ],
            [
             0.7777777777777778,
             "#fb9f3a"
            ],
            [
             0.8888888888888888,
             "#fdca26"
            ],
            [
             1,
             "#f0f921"
            ]
           ]
          },
          "colorway": [
           "#636efa",
           "#EF553B",
           "#00cc96",
           "#ab63fa",
           "#FFA15A",
           "#19d3f3",
           "#FF6692",
           "#B6E880",
           "#FF97FF",
           "#FECB52"
          ],
          "font": {
           "color": "#2a3f5f"
          },
          "geo": {
           "bgcolor": "white",
           "lakecolor": "white",
           "landcolor": "#E5ECF6",
           "showlakes": true,
           "showland": true,
           "subunitcolor": "white"
          },
          "hoverlabel": {
           "align": "left"
          },
          "hovermode": "closest",
          "mapbox": {
           "style": "light"
          },
          "paper_bgcolor": "white",
          "plot_bgcolor": "#E5ECF6",
          "polar": {
           "angularaxis": {
            "gridcolor": "white",
            "linecolor": "white",
            "ticks": ""
           },
           "bgcolor": "#E5ECF6",
           "radialaxis": {
            "gridcolor": "white",
            "linecolor": "white",
            "ticks": ""
           }
          },
          "scene": {
           "xaxis": {
            "backgroundcolor": "#E5ECF6",
            "gridcolor": "white",
            "gridwidth": 2,
            "linecolor": "white",
            "showbackground": true,
            "ticks": "",
            "zerolinecolor": "white"
           },
           "yaxis": {
            "backgroundcolor": "#E5ECF6",
            "gridcolor": "white",
            "gridwidth": 2,
            "linecolor": "white",
            "showbackground": true,
            "ticks": "",
            "zerolinecolor": "white"
           },
           "zaxis": {
            "backgroundcolor": "#E5ECF6",
            "gridcolor": "white",
            "gridwidth": 2,
            "linecolor": "white",
            "showbackground": true,
            "ticks": "",
            "zerolinecolor": "white"
           }
          },
          "shapedefaults": {
           "line": {
            "color": "#2a3f5f"
           }
          },
          "ternary": {
           "aaxis": {
            "gridcolor": "white",
            "linecolor": "white",
            "ticks": ""
           },
           "baxis": {
            "gridcolor": "white",
            "linecolor": "white",
            "ticks": ""
           },
           "bgcolor": "#E5ECF6",
           "caxis": {
            "gridcolor": "white",
            "linecolor": "white",
            "ticks": ""
           }
          },
          "title": {
           "x": 0.05
          },
          "xaxis": {
           "automargin": true,
           "gridcolor": "white",
           "linecolor": "white",
           "ticks": "",
           "title": {
            "standoff": 15
           },
           "zerolinecolor": "white",
           "zerolinewidth": 2
          },
          "yaxis": {
           "automargin": true,
           "gridcolor": "white",
           "linecolor": "white",
           "ticks": "",
           "title": {
            "standoff": 15
           },
           "zerolinecolor": "white",
           "zerolinewidth": 2
          }
         }
        },
        "width": 800
       }
      }
     },
     "metadata": {},
     "output_type": "display_data"
    }
   ],
   "source": [
    "df_start = df_boston.groupby(['start_station_id','start_station_latitude', 'start_station_longitude']).size().reset_index(name='counts_start')\n",
    "\n",
    "\n",
    "color_scale = [(0, 'orange'), (1,'red')]\n",
    "\n",
    "fig = px.scatter_mapbox(df_start, \n",
    "                        lat=\"start_station_latitude\", \n",
    "                        lon=\"start_station_longitude\", \n",
    "                        color='counts_start',\n",
    "                        color_continuous_scale=color_scale,\n",
    "                        size='counts_start',\n",
    "                        zoom=8, \n",
    "                        height=800,\n",
    "                        width=800)\n",
    "\n",
    "\n",
    "fig.update_layout(mapbox_style=\"open-street-map\")\n",
    "fig.update_layout(margin={\"r\":0,\"t\":0,\"l\":0,\"b\":0})\n",
    "fig.show()"
   ]
  },
  {
   "attachments": {},
   "cell_type": "markdown",
   "metadata": {},
   "source": [
    "## End station rides volume\n",
    "Visualization which contains information on how many rides end at a respective station per year"
   ]
  },
  {
   "cell_type": "code",
   "execution_count": 11,
   "metadata": {},
   "outputs": [
    {
     "data": {
      "application/vnd.plotly.v1+json": {
       "config": {
        "plotlyServerURL": "https://plot.ly"
       },
       "data": [
        {
         "hovertemplate": "counts_end=%{marker.color}<br>end_station_latitude=%{lat}<br>end_station_longitude=%{lon}<extra></extra>",
         "lat": [
          42.387151,
          42.350406,
          42.396969,
          42.400877,
          42.346563,
          42.380287,
          42.356954,
          42.325333,
          42.3625,
          42.377945,
          42.365942,
          42.338629,
          42.376369,
          42.40449,
          42.39082,
          42.330716,
          42.402763,
          42.387995,
          42.370803,
          42.366095,
          42.397828,
          42.335741,
          42.335911,
          42.356052,
          42.335693,
          42.345733,
          42.313156,
          42.309054,
          42.320998,
          42.315692,
          42.320561,
          42.377022,
          42.336437,
          42.317225,
          42.322701,
          42.394002,
          42.310579,
          42.350413,
          42.344827,
          42.344796,
          42.398365,
          42.326599,
          42.361589,
          42.337171,
          42.388966,
          42.36356015842989,
          42.396105,
          42.369885,
          42.392766,
          42.363796,
          42.361667,
          42.344137,
          42.358155,
          42.345901,
          42.32797270205962,
          42.34807412317439,
          42.337596,
          42.3391085,
          42.309796,
          42.344792,
          42.317642,
          42.378965,
          42.365064,
          42.303469,
          42.37408991426522,
          42.34900494405213,
          42.34894857235593,
          42.38674802045056,
          42.36264779118595,
          42.35957320109044,
          42.35560121327927,
          42.37478628706384,
          42.347241,
          42.35977,
          42.345959,
          42.352175,
          42.35892,
          42.351205,
          42.341332,
          42.341522,
          42.331184,
          42.363732,
          42.340021,
          42.334073,
          42.348833,
          42.343912,
          42.348706,
          42.355402,
          42.349673,
          42.357402,
          42.366222,
          42.338623,
          42.345392,
          42.363871,
          42.352261,
          42.352033,
          42.357143,
          42.360613,
          42.344706,
          42.343864,
          42.362811,
          42.356755,
          42.351146,
          42.341814,
          42.350989,
          42.3348756,
          42.348717,
          42.350851,
          42.354979,
          42.347265,
          42.328654,
          42.340799,
          42.355596,
          42.351356,
          42.361174,
          42.360835,
          42.348762,
          42.344023,
          42.3511,
          42.3475,
          42.348607,
          42.3581,
          42.36507,
          42.341598,
          42.35328743453294,
          42.371196,
          42.383405,
          42.362613,
          42.373231,
          42.373268,
          42.36346469304347,
          42.366426,
          42.386844,
          42.379637,
          42.37842,
          42.353334,
          42.3619622,
          42.352409,
          42.339335,
          42.366981,
          42.378338,
          42.332799,
          42.366621,
          42.374035,
          42.379011,
          42.351246,
          42.370677,
          42.366277,
          42.314507,
          42.320494,
          42.375603,
          42.372969,
          42.373379,
          42.36919031768079,
          42.371848,
          42.385582
         ],
         "legendgroup": "",
         "lon": [
          -71.075978,
          -71.108279,
          -71.123024,
          -71.116772,
          -71.128374,
          -71.125107,
          -71.113687,
          -71.075354,
          -71.08822,
          -71.116865,
          -71.060515,
          -71.1065,
          -71.114025,
          -71.123413,
          -71.10942,
          -71.057044,
          -71.126908,
          -71.119084,
          -71.104412,
          -71.086388,
          -71.130516,
          -71.03877,
          -71.088496,
          -71.069849,
          -71.045859,
          -71.100694,
          -71.11414,
          -71.11543,
          -71.110833,
          -71.098634,
          -71.06198,
          -71.056605,
          -71.073089,
          -71.065421,
          -71.099533,
          -71.120406,
          -71.107341,
          -71.07655,
          -71.028664,
          -71.031614,
          -71.107818,
          -71.066498,
          -71.107437,
          -71.102797,
          -71.132788,
          -71.08216792345047,
          -71.139459,
          -71.069957,
          -71.129042,
          -71.129164,
          -71.13802,
          -71.052608,
          -71.052163,
          -71.063187,
          -71.11089706420898,
          -71.07657015323639,
          -71.096391,
          -71.0514432,
          -71.092225,
          -71.044024,
          -71.056664,
          -71.068607,
          -71.119233,
          -71.085347,
          -71.06905996799469,
          -71.1604106426239,
          -71.15027189254761,
          -71.11901879310608,
          -71.10006093978882,
          -71.10129475593567,
          -71.10394477844238,
          -71.13320231437683,
          -71.105301,
          -71.051601,
          -71.082578,
          -71.055547,
          -71.057629,
          -71.043983,
          -71.076847,
          -71.068922,
          -71.095171,
          -71.124565,
          -71.100812,
          -71.105221,
          -71.041747,
          -71.102221,
          -71.097009,
          -71.058087,
          -71.077303,
          -71.147782,
          -71.059914,
          -71.074182,
          -71.069616,
          -71.050877,
          -71.123831,
          -71.070627,
          -71.050699,
          -71.057452,
          -71.097515,
          -71.085918,
          -71.056067,
          -71.055407,
          -71.066289,
          -71.090179,
          -71.073644,
          -71.0790969,
          -71.085954,
          -71.089886,
          -71.063348,
          -71.088088,
          -71.084198,
          -71.081572,
          -71.07278,
          -71.059367,
          -71.065142,
          -71.0708399,
          -71.082383,
          -71.057054,
          -71.0496,
          -71.0441,
          -71.13401,
          -71.093198,
          -71.1031,
          -71.123338,
          -71.04438900947571,
          -71.121473,
          -71.107593,
          -71.084105,
          -71.120886,
          -71.118579,
          -71.10057324171066,
          -71.105495,
          -71.09812,
          -71.095319,
          -71.105668,
          -71.137313,
          -71.0920526,
          -71.062679,
          -71.13493,
          -71.076472,
          -71.048927,
          -71.116205,
          -71.114214,
          -71.101427,
          -71.119945,
          -71.115639,
          -71.076529,
          -71.09169,
          -71.041269,
          -71.051122,
          -71.064608,
          -71.094445,
          -71.111075,
          -71.11714124679565,
          -71.060292,
          -71.113341
         ],
         "marker": {
          "color": [
           154,
           7630,
           11822,
           1590,
           2862,
           6220,
           11181,
           569,
           15146,
           7898,
           20524,
           8897,
           9560,
           1781,
           1673,
           2536,
           2110,
           10342,
           7912,
           6922,
           5480,
           4593,
           6454,
           8886,
           4416,
           3107,
           2290,
           2072,
           3133,
           896,
           779,
           2619,
           9041,
           609,
           2932,
           1775,
           3300,
           5851,
           3366,
           4018,
           1352,
           1322,
           5404,
           9368,
           2792,
           6622,
           3676,
           5822,
           1527,
           4933,
           2156,
           5254,
           7392,
           5813,
           142,
           15878,
           736,
           733,
           40,
           511,
           99,
           584,
           6369,
           39,
           239,
           127,
           229,
           317,
           760,
           1079,
           835,
           244,
           7089,
           11841,
           12913,
           31284,
           13568,
           6181,
           7307,
           9081,
           4055,
           3194,
           5007,
           5118,
           7095,
           7984,
           14661,
           10178,
           19874,
           1309,
           14900,
           9596,
           8975,
           10789,
           7623,
           14052,
           12548,
           7140,
           9765,
           11674,
           13723,
           11174,
           7823,
           6289,
           9390,
           2926,
           10223,
           13384,
           12452,
           11244,
           1629,
           7796,
           12930,
           8838,
           12632,
           16850,
           12668,
           3584,
           10734,
           4647,
           4535,
           29905,
           20886,
           6200,
           5284,
           8541,
           5246,
           13990,
           10806,
           23590,
           19056,
           13936,
           1782,
           6587,
           4375,
           3764,
           21720,
           10535,
           2587,
           10657,
           5111,
           4220,
           8926,
           12103,
           6333,
           8768,
           11007,
           13498,
           659,
           1624,
           5603,
           9657,
           9553,
           6197,
           10700,
           3536
          ],
          "coloraxis": "coloraxis",
          "size": [
           154,
           7630,
           11822,
           1590,
           2862,
           6220,
           11181,
           569,
           15146,
           7898,
           20524,
           8897,
           9560,
           1781,
           1673,
           2536,
           2110,
           10342,
           7912,
           6922,
           5480,
           4593,
           6454,
           8886,
           4416,
           3107,
           2290,
           2072,
           3133,
           896,
           779,
           2619,
           9041,
           609,
           2932,
           1775,
           3300,
           5851,
           3366,
           4018,
           1352,
           1322,
           5404,
           9368,
           2792,
           6622,
           3676,
           5822,
           1527,
           4933,
           2156,
           5254,
           7392,
           5813,
           142,
           15878,
           736,
           733,
           40,
           511,
           99,
           584,
           6369,
           39,
           239,
           127,
           229,
           317,
           760,
           1079,
           835,
           244,
           7089,
           11841,
           12913,
           31284,
           13568,
           6181,
           7307,
           9081,
           4055,
           3194,
           5007,
           5118,
           7095,
           7984,
           14661,
           10178,
           19874,
           1309,
           14900,
           9596,
           8975,
           10789,
           7623,
           14052,
           12548,
           7140,
           9765,
           11674,
           13723,
           11174,
           7823,
           6289,
           9390,
           2926,
           10223,
           13384,
           12452,
           11244,
           1629,
           7796,
           12930,
           8838,
           12632,
           16850,
           12668,
           3584,
           10734,
           4647,
           4535,
           29905,
           20886,
           6200,
           5284,
           8541,
           5246,
           13990,
           10806,
           23590,
           19056,
           13936,
           1782,
           6587,
           4375,
           3764,
           21720,
           10535,
           2587,
           10657,
           5111,
           4220,
           8926,
           12103,
           6333,
           8768,
           11007,
           13498,
           659,
           1624,
           5603,
           9657,
           9553,
           6197,
           10700,
           3536
          ],
          "sizemode": "area",
          "sizeref": 78.21
         },
         "mode": "markers",
         "name": "",
         "showlegend": false,
         "subplot": "mapbox",
         "type": "scattermapbox"
        }
       ],
       "layout": {
        "coloraxis": {
         "colorbar": {
          "title": {
           "text": "counts_end"
          }
         },
         "colorscale": [
          [
           0,
           "orange"
          ],
          [
           1,
           "red"
          ]
         ]
        },
        "height": 800,
        "legend": {
         "itemsizing": "constant",
         "tracegroupgap": 0
        },
        "mapbox": {
         "center": {
          "lat": 42.355539267132464,
          "lon": -71.08955563028009
         },
         "domain": {
          "x": [
           0,
           1
          ],
          "y": [
           0,
           1
          ]
         },
         "style": "open-street-map",
         "zoom": 8
        },
        "margin": {
         "b": 0,
         "l": 0,
         "r": 0,
         "t": 0
        },
        "template": {
         "data": {
          "bar": [
           {
            "error_x": {
             "color": "#2a3f5f"
            },
            "error_y": {
             "color": "#2a3f5f"
            },
            "marker": {
             "line": {
              "color": "#E5ECF6",
              "width": 0.5
             },
             "pattern": {
              "fillmode": "overlay",
              "size": 10,
              "solidity": 0.2
             }
            },
            "type": "bar"
           }
          ],
          "barpolar": [
           {
            "marker": {
             "line": {
              "color": "#E5ECF6",
              "width": 0.5
             },
             "pattern": {
              "fillmode": "overlay",
              "size": 10,
              "solidity": 0.2
             }
            },
            "type": "barpolar"
           }
          ],
          "carpet": [
           {
            "aaxis": {
             "endlinecolor": "#2a3f5f",
             "gridcolor": "white",
             "linecolor": "white",
             "minorgridcolor": "white",
             "startlinecolor": "#2a3f5f"
            },
            "baxis": {
             "endlinecolor": "#2a3f5f",
             "gridcolor": "white",
             "linecolor": "white",
             "minorgridcolor": "white",
             "startlinecolor": "#2a3f5f"
            },
            "type": "carpet"
           }
          ],
          "choropleth": [
           {
            "colorbar": {
             "outlinewidth": 0,
             "ticks": ""
            },
            "type": "choropleth"
           }
          ],
          "contour": [
           {
            "colorbar": {
             "outlinewidth": 0,
             "ticks": ""
            },
            "colorscale": [
             [
              0,
              "#0d0887"
             ],
             [
              0.1111111111111111,
              "#46039f"
             ],
             [
              0.2222222222222222,
              "#7201a8"
             ],
             [
              0.3333333333333333,
              "#9c179e"
             ],
             [
              0.4444444444444444,
              "#bd3786"
             ],
             [
              0.5555555555555556,
              "#d8576b"
             ],
             [
              0.6666666666666666,
              "#ed7953"
             ],
             [
              0.7777777777777778,
              "#fb9f3a"
             ],
             [
              0.8888888888888888,
              "#fdca26"
             ],
             [
              1,
              "#f0f921"
             ]
            ],
            "type": "contour"
           }
          ],
          "contourcarpet": [
           {
            "colorbar": {
             "outlinewidth": 0,
             "ticks": ""
            },
            "type": "contourcarpet"
           }
          ],
          "heatmap": [
           {
            "colorbar": {
             "outlinewidth": 0,
             "ticks": ""
            },
            "colorscale": [
             [
              0,
              "#0d0887"
             ],
             [
              0.1111111111111111,
              "#46039f"
             ],
             [
              0.2222222222222222,
              "#7201a8"
             ],
             [
              0.3333333333333333,
              "#9c179e"
             ],
             [
              0.4444444444444444,
              "#bd3786"
             ],
             [
              0.5555555555555556,
              "#d8576b"
             ],
             [
              0.6666666666666666,
              "#ed7953"
             ],
             [
              0.7777777777777778,
              "#fb9f3a"
             ],
             [
              0.8888888888888888,
              "#fdca26"
             ],
             [
              1,
              "#f0f921"
             ]
            ],
            "type": "heatmap"
           }
          ],
          "heatmapgl": [
           {
            "colorbar": {
             "outlinewidth": 0,
             "ticks": ""
            },
            "colorscale": [
             [
              0,
              "#0d0887"
             ],
             [
              0.1111111111111111,
              "#46039f"
             ],
             [
              0.2222222222222222,
              "#7201a8"
             ],
             [
              0.3333333333333333,
              "#9c179e"
             ],
             [
              0.4444444444444444,
              "#bd3786"
             ],
             [
              0.5555555555555556,
              "#d8576b"
             ],
             [
              0.6666666666666666,
              "#ed7953"
             ],
             [
              0.7777777777777778,
              "#fb9f3a"
             ],
             [
              0.8888888888888888,
              "#fdca26"
             ],
             [
              1,
              "#f0f921"
             ]
            ],
            "type": "heatmapgl"
           }
          ],
          "histogram": [
           {
            "marker": {
             "pattern": {
              "fillmode": "overlay",
              "size": 10,
              "solidity": 0.2
             }
            },
            "type": "histogram"
           }
          ],
          "histogram2d": [
           {
            "colorbar": {
             "outlinewidth": 0,
             "ticks": ""
            },
            "colorscale": [
             [
              0,
              "#0d0887"
             ],
             [
              0.1111111111111111,
              "#46039f"
             ],
             [
              0.2222222222222222,
              "#7201a8"
             ],
             [
              0.3333333333333333,
              "#9c179e"
             ],
             [
              0.4444444444444444,
              "#bd3786"
             ],
             [
              0.5555555555555556,
              "#d8576b"
             ],
             [
              0.6666666666666666,
              "#ed7953"
             ],
             [
              0.7777777777777778,
              "#fb9f3a"
             ],
             [
              0.8888888888888888,
              "#fdca26"
             ],
             [
              1,
              "#f0f921"
             ]
            ],
            "type": "histogram2d"
           }
          ],
          "histogram2dcontour": [
           {
            "colorbar": {
             "outlinewidth": 0,
             "ticks": ""
            },
            "colorscale": [
             [
              0,
              "#0d0887"
             ],
             [
              0.1111111111111111,
              "#46039f"
             ],
             [
              0.2222222222222222,
              "#7201a8"
             ],
             [
              0.3333333333333333,
              "#9c179e"
             ],
             [
              0.4444444444444444,
              "#bd3786"
             ],
             [
              0.5555555555555556,
              "#d8576b"
             ],
             [
              0.6666666666666666,
              "#ed7953"
             ],
             [
              0.7777777777777778,
              "#fb9f3a"
             ],
             [
              0.8888888888888888,
              "#fdca26"
             ],
             [
              1,
              "#f0f921"
             ]
            ],
            "type": "histogram2dcontour"
           }
          ],
          "mesh3d": [
           {
            "colorbar": {
             "outlinewidth": 0,
             "ticks": ""
            },
            "type": "mesh3d"
           }
          ],
          "parcoords": [
           {
            "line": {
             "colorbar": {
              "outlinewidth": 0,
              "ticks": ""
             }
            },
            "type": "parcoords"
           }
          ],
          "pie": [
           {
            "automargin": true,
            "type": "pie"
           }
          ],
          "scatter": [
           {
            "fillpattern": {
             "fillmode": "overlay",
             "size": 10,
             "solidity": 0.2
            },
            "type": "scatter"
           }
          ],
          "scatter3d": [
           {
            "line": {
             "colorbar": {
              "outlinewidth": 0,
              "ticks": ""
             }
            },
            "marker": {
             "colorbar": {
              "outlinewidth": 0,
              "ticks": ""
             }
            },
            "type": "scatter3d"
           }
          ],
          "scattercarpet": [
           {
            "marker": {
             "colorbar": {
              "outlinewidth": 0,
              "ticks": ""
             }
            },
            "type": "scattercarpet"
           }
          ],
          "scattergeo": [
           {
            "marker": {
             "colorbar": {
              "outlinewidth": 0,
              "ticks": ""
             }
            },
            "type": "scattergeo"
           }
          ],
          "scattergl": [
           {
            "marker": {
             "colorbar": {
              "outlinewidth": 0,
              "ticks": ""
             }
            },
            "type": "scattergl"
           }
          ],
          "scattermapbox": [
           {
            "marker": {
             "colorbar": {
              "outlinewidth": 0,
              "ticks": ""
             }
            },
            "type": "scattermapbox"
           }
          ],
          "scatterpolar": [
           {
            "marker": {
             "colorbar": {
              "outlinewidth": 0,
              "ticks": ""
             }
            },
            "type": "scatterpolar"
           }
          ],
          "scatterpolargl": [
           {
            "marker": {
             "colorbar": {
              "outlinewidth": 0,
              "ticks": ""
             }
            },
            "type": "scatterpolargl"
           }
          ],
          "scatterternary": [
           {
            "marker": {
             "colorbar": {
              "outlinewidth": 0,
              "ticks": ""
             }
            },
            "type": "scatterternary"
           }
          ],
          "surface": [
           {
            "colorbar": {
             "outlinewidth": 0,
             "ticks": ""
            },
            "colorscale": [
             [
              0,
              "#0d0887"
             ],
             [
              0.1111111111111111,
              "#46039f"
             ],
             [
              0.2222222222222222,
              "#7201a8"
             ],
             [
              0.3333333333333333,
              "#9c179e"
             ],
             [
              0.4444444444444444,
              "#bd3786"
             ],
             [
              0.5555555555555556,
              "#d8576b"
             ],
             [
              0.6666666666666666,
              "#ed7953"
             ],
             [
              0.7777777777777778,
              "#fb9f3a"
             ],
             [
              0.8888888888888888,
              "#fdca26"
             ],
             [
              1,
              "#f0f921"
             ]
            ],
            "type": "surface"
           }
          ],
          "table": [
           {
            "cells": {
             "fill": {
              "color": "#EBF0F8"
             },
             "line": {
              "color": "white"
             }
            },
            "header": {
             "fill": {
              "color": "#C8D4E3"
             },
             "line": {
              "color": "white"
             }
            },
            "type": "table"
           }
          ]
         },
         "layout": {
          "annotationdefaults": {
           "arrowcolor": "#2a3f5f",
           "arrowhead": 0,
           "arrowwidth": 1
          },
          "autotypenumbers": "strict",
          "coloraxis": {
           "colorbar": {
            "outlinewidth": 0,
            "ticks": ""
           }
          },
          "colorscale": {
           "diverging": [
            [
             0,
             "#8e0152"
            ],
            [
             0.1,
             "#c51b7d"
            ],
            [
             0.2,
             "#de77ae"
            ],
            [
             0.3,
             "#f1b6da"
            ],
            [
             0.4,
             "#fde0ef"
            ],
            [
             0.5,
             "#f7f7f7"
            ],
            [
             0.6,
             "#e6f5d0"
            ],
            [
             0.7,
             "#b8e186"
            ],
            [
             0.8,
             "#7fbc41"
            ],
            [
             0.9,
             "#4d9221"
            ],
            [
             1,
             "#276419"
            ]
           ],
           "sequential": [
            [
             0,
             "#0d0887"
            ],
            [
             0.1111111111111111,
             "#46039f"
            ],
            [
             0.2222222222222222,
             "#7201a8"
            ],
            [
             0.3333333333333333,
             "#9c179e"
            ],
            [
             0.4444444444444444,
             "#bd3786"
            ],
            [
             0.5555555555555556,
             "#d8576b"
            ],
            [
             0.6666666666666666,
             "#ed7953"
            ],
            [
             0.7777777777777778,
             "#fb9f3a"
            ],
            [
             0.8888888888888888,
             "#fdca26"
            ],
            [
             1,
             "#f0f921"
            ]
           ],
           "sequentialminus": [
            [
             0,
             "#0d0887"
            ],
            [
             0.1111111111111111,
             "#46039f"
            ],
            [
             0.2222222222222222,
             "#7201a8"
            ],
            [
             0.3333333333333333,
             "#9c179e"
            ],
            [
             0.4444444444444444,
             "#bd3786"
            ],
            [
             0.5555555555555556,
             "#d8576b"
            ],
            [
             0.6666666666666666,
             "#ed7953"
            ],
            [
             0.7777777777777778,
             "#fb9f3a"
            ],
            [
             0.8888888888888888,
             "#fdca26"
            ],
            [
             1,
             "#f0f921"
            ]
           ]
          },
          "colorway": [
           "#636efa",
           "#EF553B",
           "#00cc96",
           "#ab63fa",
           "#FFA15A",
           "#19d3f3",
           "#FF6692",
           "#B6E880",
           "#FF97FF",
           "#FECB52"
          ],
          "font": {
           "color": "#2a3f5f"
          },
          "geo": {
           "bgcolor": "white",
           "lakecolor": "white",
           "landcolor": "#E5ECF6",
           "showlakes": true,
           "showland": true,
           "subunitcolor": "white"
          },
          "hoverlabel": {
           "align": "left"
          },
          "hovermode": "closest",
          "mapbox": {
           "style": "light"
          },
          "paper_bgcolor": "white",
          "plot_bgcolor": "#E5ECF6",
          "polar": {
           "angularaxis": {
            "gridcolor": "white",
            "linecolor": "white",
            "ticks": ""
           },
           "bgcolor": "#E5ECF6",
           "radialaxis": {
            "gridcolor": "white",
            "linecolor": "white",
            "ticks": ""
           }
          },
          "scene": {
           "xaxis": {
            "backgroundcolor": "#E5ECF6",
            "gridcolor": "white",
            "gridwidth": 2,
            "linecolor": "white",
            "showbackground": true,
            "ticks": "",
            "zerolinecolor": "white"
           },
           "yaxis": {
            "backgroundcolor": "#E5ECF6",
            "gridcolor": "white",
            "gridwidth": 2,
            "linecolor": "white",
            "showbackground": true,
            "ticks": "",
            "zerolinecolor": "white"
           },
           "zaxis": {
            "backgroundcolor": "#E5ECF6",
            "gridcolor": "white",
            "gridwidth": 2,
            "linecolor": "white",
            "showbackground": true,
            "ticks": "",
            "zerolinecolor": "white"
           }
          },
          "shapedefaults": {
           "line": {
            "color": "#2a3f5f"
           }
          },
          "ternary": {
           "aaxis": {
            "gridcolor": "white",
            "linecolor": "white",
            "ticks": ""
           },
           "baxis": {
            "gridcolor": "white",
            "linecolor": "white",
            "ticks": ""
           },
           "bgcolor": "#E5ECF6",
           "caxis": {
            "gridcolor": "white",
            "linecolor": "white",
            "ticks": ""
           }
          },
          "title": {
           "x": 0.05
          },
          "xaxis": {
           "automargin": true,
           "gridcolor": "white",
           "linecolor": "white",
           "ticks": "",
           "title": {
            "standoff": 15
           },
           "zerolinecolor": "white",
           "zerolinewidth": 2
          },
          "yaxis": {
           "automargin": true,
           "gridcolor": "white",
           "linecolor": "white",
           "ticks": "",
           "title": {
            "standoff": 15
           },
           "zerolinecolor": "white",
           "zerolinewidth": 2
          }
         }
        },
        "width": 800
       }
      }
     },
     "metadata": {},
     "output_type": "display_data"
    }
   ],
   "source": [
    "df_end = df_boston.groupby(['end_station_id','end_station_latitude', 'end_station_longitude']).size().reset_index(name='counts_end')\n",
    "\n",
    "color_scale = [(0, 'orange'), (1,'red')]\n",
    "\n",
    "fig = px.scatter_mapbox(df_end, \n",
    "                        lat=\"end_station_latitude\", \n",
    "                        lon=\"end_station_longitude\", \n",
    "                        color='counts_end',\n",
    "                        color_continuous_scale=color_scale,\n",
    "                        size='counts_end',\n",
    "                        zoom=8, \n",
    "                        height=800,\n",
    "                        width=800)\n",
    "\n",
    "\n",
    "fig.update_layout(mapbox_style=\"open-street-map\")\n",
    "fig.update_layout(margin={\"r\":0,\"t\":0,\"l\":0,\"b\":0})\n",
    "fig.show()"
   ]
  },
  {
   "attachments": {},
   "cell_type": "markdown",
   "metadata": {},
   "source": [
    "## Volume share per station \n",
    "What is the percentage of total of total rides a station is used? "
   ]
  },
  {
   "cell_type": "code",
   "execution_count": 12,
   "metadata": {},
   "outputs": [
    {
     "data": {
      "text/html": [
       "<div>\n",
       "<style scoped>\n",
       "    .dataframe tbody tr th:only-of-type {\n",
       "        vertical-align: middle;\n",
       "    }\n",
       "\n",
       "    .dataframe tbody tr th {\n",
       "        vertical-align: top;\n",
       "    }\n",
       "\n",
       "    .dataframe thead th {\n",
       "        text-align: right;\n",
       "    }\n",
       "</style>\n",
       "<table border=\"1\" class=\"dataframe\">\n",
       "  <thead>\n",
       "    <tr style=\"text-align: right;\">\n",
       "      <th></th>\n",
       "      <th>start_station_id</th>\n",
       "      <th>start_station_latitude</th>\n",
       "      <th>start_station_longitude</th>\n",
       "      <th>counts_start</th>\n",
       "      <th>total_rides</th>\n",
       "      <th>share</th>\n",
       "    </tr>\n",
       "  </thead>\n",
       "  <tbody>\n",
       "    <tr>\n",
       "      <th>75</th>\n",
       "      <td>81</td>\n",
       "      <td>42.352409</td>\n",
       "      <td>-71.062679</td>\n",
       "      <td>10343</td>\n",
       "      <td>41627</td>\n",
       "      <td>1.854120</td>\n",
       "    </tr>\n",
       "    <tr>\n",
       "      <th>19</th>\n",
       "      <td>22</td>\n",
       "      <td>42.352175</td>\n",
       "      <td>-71.055547</td>\n",
       "      <td>30798</td>\n",
       "      <td>37720</td>\n",
       "      <td>1.680097</td>\n",
       "    </tr>\n",
       "    <tr>\n",
       "      <th>55</th>\n",
       "      <td>60</td>\n",
       "      <td>42.360835</td>\n",
       "      <td>-71.070840</td>\n",
       "      <td>17291</td>\n",
       "      <td>33169</td>\n",
       "      <td>1.477390</td>\n",
       "    </tr>\n",
       "    <tr>\n",
       "      <th>121</th>\n",
       "      <td>130</td>\n",
       "      <td>42.317225</td>\n",
       "      <td>-71.065421</td>\n",
       "      <td>761</td>\n",
       "      <td>30666</td>\n",
       "      <td>1.365903</td>\n",
       "    </tr>\n",
       "    <tr>\n",
       "      <th>88</th>\n",
       "      <td>95</td>\n",
       "      <td>42.372969</td>\n",
       "      <td>-71.094445</td>\n",
       "      <td>10397</td>\n",
       "      <td>30271</td>\n",
       "      <td>1.348309</td>\n",
       "    </tr>\n",
       "  </tbody>\n",
       "</table>\n",
       "</div>"
      ],
      "text/plain": [
       "     start_station_id  start_station_latitude  start_station_longitude  \\\n",
       "75                 81               42.352409               -71.062679   \n",
       "19                 22               42.352175               -71.055547   \n",
       "55                 60               42.360835               -71.070840   \n",
       "121               130               42.317225               -71.065421   \n",
       "88                 95               42.372969               -71.094445   \n",
       "\n",
       "     counts_start  total_rides     share  \n",
       "75          10343        41627  1.854120  \n",
       "19          30798        37720  1.680097  \n",
       "55          17291        33169  1.477390  \n",
       "121           761        30666  1.365903  \n",
       "88          10397        30271  1.348309  "
      ]
     },
     "execution_count": 12,
     "metadata": {},
     "output_type": "execute_result"
    }
   ],
   "source": [
    "#share of different stations, most frequently used stations\n",
    "df_station_share = df_start.copy()\n",
    "df_station_share['total_rides'] = df_start['counts_start'] + df_end['counts_end']\n",
    "yearly_total_rides = sum(df_station_share['total_rides'])\n",
    "df_station_share['share'] = (df_station_share['total_rides'] / yearly_total_rides)*100\n",
    "df_station_share.sort_values('share', ascending=False).head(5)"
   ]
  },
  {
   "attachments": {},
   "cell_type": "markdown",
   "metadata": {},
   "source": [
    "## Station Distribution in Boston"
   ]
  },
  {
   "cell_type": "code",
   "execution_count": 34,
   "metadata": {},
   "outputs": [
    {
     "data": {
      "text/html": [
       "<div style=\"width:100%;\"><div style=\"position:relative;width:100%;height:0;padding-bottom:60%;\"><span style=\"color:#565656\">Make this Notebook Trusted to load map: File -> Trust Notebook</span><iframe srcdoc=\"&lt;!DOCTYPE html&gt;\n",
       "&lt;html&gt;\n",
       "&lt;head&gt;\n",
       "    \n",
       "    &lt;meta http-equiv=&quot;content-type&quot; content=&quot;text/html; charset=UTF-8&quot; /&gt;\n",
       "    \n",
       "        &lt;script&gt;\n",
       "            L_NO_TOUCH = false;\n",
       "            L_DISABLE_3D = false;\n",
       "        &lt;/script&gt;\n",
       "    \n",
       "    &lt;style&gt;html, body {width: 100%;height: 100%;margin: 0;padding: 0;}&lt;/style&gt;\n",
       "    &lt;style&gt;#map {position:absolute;top:0;bottom:0;right:0;left:0;}&lt;/style&gt;\n",
       "    &lt;script src=&quot;https://cdn.jsdelivr.net/npm/leaflet@1.9.3/dist/leaflet.js&quot;&gt;&lt;/script&gt;\n",
       "    &lt;script src=&quot;https://code.jquery.com/jquery-1.12.4.min.js&quot;&gt;&lt;/script&gt;\n",
       "    &lt;script src=&quot;https://cdn.jsdelivr.net/npm/bootstrap@5.2.2/dist/js/bootstrap.bundle.min.js&quot;&gt;&lt;/script&gt;\n",
       "    &lt;script src=&quot;https://cdnjs.cloudflare.com/ajax/libs/Leaflet.awesome-markers/2.0.2/leaflet.awesome-markers.js&quot;&gt;&lt;/script&gt;\n",
       "    &lt;link rel=&quot;stylesheet&quot; href=&quot;https://cdn.jsdelivr.net/npm/leaflet@1.9.3/dist/leaflet.css&quot;/&gt;\n",
       "    &lt;link rel=&quot;stylesheet&quot; href=&quot;https://cdn.jsdelivr.net/npm/bootstrap@5.2.2/dist/css/bootstrap.min.css&quot;/&gt;\n",
       "    &lt;link rel=&quot;stylesheet&quot; href=&quot;https://netdna.bootstrapcdn.com/bootstrap/3.0.0/css/bootstrap.min.css&quot;/&gt;\n",
       "    &lt;link rel=&quot;stylesheet&quot; href=&quot;https://cdn.jsdelivr.net/npm/@fortawesome/fontawesome-free@6.2.0/css/all.min.css&quot;/&gt;\n",
       "    &lt;link rel=&quot;stylesheet&quot; href=&quot;https://cdnjs.cloudflare.com/ajax/libs/Leaflet.awesome-markers/2.0.2/leaflet.awesome-markers.css&quot;/&gt;\n",
       "    &lt;link rel=&quot;stylesheet&quot; href=&quot;https://cdn.jsdelivr.net/gh/python-visualization/folium/folium/templates/leaflet.awesome.rotate.min.css&quot;/&gt;\n",
       "    \n",
       "            &lt;meta name=&quot;viewport&quot; content=&quot;width=device-width,\n",
       "                initial-scale=1.0, maximum-scale=1.0, user-scalable=no&quot; /&gt;\n",
       "            &lt;style&gt;\n",
       "                #map_b21a2c12334910e806f55c212c567ffb {\n",
       "                    position: relative;\n",
       "                    width: 100.0%;\n",
       "                    height: 100.0%;\n",
       "                    left: 0.0%;\n",
       "                    top: 0.0%;\n",
       "                }\n",
       "                .leaflet-container { font-size: 1rem; }\n",
       "            &lt;/style&gt;\n",
       "        \n",
       "    &lt;script src=&quot;https://cdn.jsdelivr.net/gh/python-visualization/folium@main/folium/templates/leaflet_heat.min.js&quot;&gt;&lt;/script&gt;\n",
       "&lt;/head&gt;\n",
       "&lt;body&gt;\n",
       "    \n",
       "    \n",
       "            &lt;div class=&quot;folium-map&quot; id=&quot;map_b21a2c12334910e806f55c212c567ffb&quot; &gt;&lt;/div&gt;\n",
       "        \n",
       "&lt;/body&gt;\n",
       "&lt;script&gt;\n",
       "    \n",
       "    \n",
       "            var map_b21a2c12334910e806f55c212c567ffb = L.map(\n",
       "                &quot;map_b21a2c12334910e806f55c212c567ffb&quot;,\n",
       "                {\n",
       "                    center: [42.355539267132464, -71.08955563028009],\n",
       "                    crs: L.CRS.EPSG3857,\n",
       "                    zoom: 13,\n",
       "                    zoomControl: true,\n",
       "                    preferCanvas: false,\n",
       "                }\n",
       "            );\n",
       "            L.control.scale().addTo(map_b21a2c12334910e806f55c212c567ffb);\n",
       "\n",
       "            \n",
       "\n",
       "        \n",
       "    \n",
       "            var tile_layer_74e2bf60bd348cf1dec47f46e8d8085d = L.tileLayer(\n",
       "                &quot;https://{s}.tile.openstreetmap.org/{z}/{x}/{y}.png&quot;,\n",
       "                {&quot;attribution&quot;: &quot;Data by \\u0026copy; \\u003ca target=\\&quot;_blank\\&quot; href=\\&quot;http://openstreetmap.org\\&quot;\\u003eOpenStreetMap\\u003c/a\\u003e, under \\u003ca target=\\&quot;_blank\\&quot; href=\\&quot;http://www.openstreetmap.org/copyright\\&quot;\\u003eODbL\\u003c/a\\u003e.&quot;, &quot;detectRetina&quot;: false, &quot;maxNativeZoom&quot;: 20, &quot;maxZoom&quot;: 20, &quot;minZoom&quot;: 0, &quot;noWrap&quot;: false, &quot;opacity&quot;: 1, &quot;subdomains&quot;: &quot;abc&quot;, &quot;tms&quot;: false}\n",
       "            ).addTo(map_b21a2c12334910e806f55c212c567ffb);\n",
       "        \n",
       "    \n",
       "            var heat_map_179c90825bcb3b500c05e08f655df310 = L.heatLayer(\n",
       "                [[42.387151, -71.075978], [42.340021, -71.100812], [42.345392, -71.069616], [42.341814, -71.090179], [42.361174, -71.065142], [42.35328743453294, -71.04438900947571], [42.353334, -71.137313], [42.351246, -71.115639], [42.350406, -71.108279], [42.338629, -71.1065], [42.335911, -71.088496], [42.336437, -71.073089], [42.337171, -71.102797], [42.361667, -71.13802], [42.34807412317439, -71.07657015323639], [42.365064, -71.119233], [42.347241, -71.105301], [42.35977, -71.051601], [42.345959, -71.082578], [42.352175, -71.055547], [42.35892, -71.057629], [42.351205, -71.043983], [42.341332, -71.076847], [42.341522, -71.068922], [42.331184, -71.095171], [42.363732, -71.124565], [42.334073, -71.105221], [42.348833, -71.041747], [42.343912, -71.102221], [42.348706, -71.097009], [42.355402, -71.058087], [42.349673, -71.077303], [42.357402, -71.147782], [42.366222, -71.059914], [42.338623, -71.074182], [42.363871, -71.050877], [42.352261, -71.123831], [42.352033, -71.070627], [42.357143, -71.050699], [42.360613, -71.057452], [42.344706, -71.097515], [42.343864, -71.085918], [42.362811, -71.056067], [42.356755, -71.055407], [42.351146, -71.066289], [42.350989, -71.073644], [42.3348756, -71.0790969], [42.348717, -71.085954], [42.350851, -71.089886], [42.354979, -71.063348], [42.347265, -71.088088], [42.328654, -71.084198], [42.340799, -71.081572], [42.355596, -71.07278], [42.351356, -71.059367], [42.360835, -71.0708399], [42.348762, -71.082383], [42.344023, -71.057054], [42.3511, -71.0496], [42.3475, -71.0441], [42.348607, -71.13401], [42.3581, -71.093198], [42.36507, -71.1031], [42.341598, -71.123338], [42.371196, -71.121473], [42.383405, -71.107593], [42.362613, -71.084105], [42.373231, -71.120886], [42.373268, -71.118579], [42.36346469304347, -71.10057324171066], [42.366426, -71.105495], [42.386844, -71.09812], [42.379637, -71.095319], [42.37842, -71.105668], [42.3619622, -71.0920526], [42.352409, -71.062679], [42.339335, -71.13493], [42.366981, -71.076472], [42.378338, -71.048927], [42.332799, -71.116205], [42.366621, -71.114214], [42.374035, -71.101427], [42.379011, -71.119945], [42.370677, -71.076529], [42.366277, -71.09169], [42.314507, -71.041269], [42.320494, -71.051122], [42.375603, -71.064608], [42.372969, -71.094445], [42.373379, -71.111075], [42.36919031768079, -71.11714124679565], [42.371848, -71.060292], [42.385582, -71.113341], [42.396969, -71.123024], [42.400877, -71.116772], [42.346563, -71.128374], [42.380287, -71.125107], [42.356954, -71.113687], [42.325333, -71.075354], [42.3625, -71.08822], [42.377945, -71.116865], [42.365942, -71.060515], [42.376369, -71.114025], [42.40449, -71.123413], [42.39082, -71.10942], [42.330716, -71.057044], [42.402763, -71.126908], [42.387995, -71.119084], [42.370803, -71.104412], [42.366095, -71.086388], [42.397828, -71.130516], [42.335741, -71.03877], [42.356052, -71.069849], [42.335693, -71.045859], [42.345733, -71.100694], [42.313156, -71.11414], [42.309054, -71.11543], [42.320998, -71.110833], [42.315692, -71.098634], [42.320561, -71.06198], [42.377022, -71.056605], [42.317225, -71.065421], [42.322701, -71.099533], [42.394002, -71.120406], [42.310579, -71.107341], [42.350413, -71.07655], [42.344827, -71.028664], [42.344796, -71.031614], [42.398365, -71.107818], [42.326599, -71.066498], [42.361589, -71.107437], [42.388966, -71.132788], [42.36356015842989, -71.08216792345047], [42.396105, -71.139459], [42.369885, -71.069957], [42.392766, -71.129042], [42.363796, -71.129164], [42.344137, -71.052608], [42.358155, -71.052163], [42.345901, -71.063187], [42.32797270205962, -71.11089706420898], [42.337596, -71.096391], [42.3391085, -71.0514432], [42.309796, -71.092225], [42.344792, -71.044024], [42.317642, -71.056664], [42.378965, -71.068607], [42.303469, -71.085347], [42.37408991426522, -71.06905996799469], [42.34900494405213, -71.1604106426239], [42.34894857235593, -71.15027189254761], [42.38674802045056, -71.11901879310608], [42.36264779118595, -71.10006093978882], [42.35957320109044, -71.10129475593567], [42.35560121327927, -71.10394477844238], [42.37478628706384, -71.13320231437683]],\n",
       "                {&quot;blur&quot;: 15, &quot;maxZoom&quot;: 18, &quot;minOpacity&quot;: 0.5, &quot;radius&quot;: 25}\n",
       "            ).addTo(map_b21a2c12334910e806f55c212c567ffb);\n",
       "        \n",
       "&lt;/script&gt;\n",
       "&lt;/html&gt;\" style=\"position:absolute;width:100%;height:100%;left:0;top:0;border:none !important;\" allowfullscreen webkitallowfullscreen mozallowfullscreen></iframe></div></div>"
      ],
      "text/plain": [
       "<folium.folium.Map at 0x7fb94d388bb0>"
      ]
     },
     "execution_count": 34,
     "metadata": {},
     "output_type": "execute_result"
    }
   ],
   "source": [
    "def heat_map(df, station_id):\n",
    "    # define new map\n",
    "    heat_map = folium.Map(\n",
    "        location=[df['start_station_latitude'].mean(), df['start_station_longitude'].mean()], \n",
    "        tiles='OpenStreetMap', \n",
    "        zoom_start=13, \n",
    "        control_scale=True, \n",
    "        max_zoom=20)\n",
    "    # add heat map\n",
    "    heat_data = [[row['start_station_latitude'],row['start_station_longitude']] for index, row in df.iterrows()]\n",
    "    HeatMap(heat_data).add_to(heat_map)\n",
    "    #heat map for destination points looks pretty much identical\n",
    "    return heat_map\n",
    "m = heat_map(df_start, np.array(df_start['start_station_id']))\n",
    "m"
   ]
  },
  {
   "attachments": {},
   "cell_type": "markdown",
   "metadata": {},
   "source": [
    "# Most popular routes  \n",
    "This section tries to explain which routes are most often used."
   ]
  },
  {
   "cell_type": "code",
   "execution_count": null,
   "metadata": {},
   "outputs": [],
   "source": [
    "#number of trips between a start and end station\n",
    "\n",
    "df_trips = df_boston.groupby(['start_station_id','end_station_id', 'start_station_latitude', 'start_station_longitude', 'end_station_latitude', 'end_station_longitude']).size().reset_index(name='count_trips')\n",
    "\n",
    "df_trips = df_trips.sort_values('count_trips', ascending = False)\n",
    "\n",
    "df_trips.index = range(0, len(df_trips))\n",
    "\n",
    "df_trips.head(10)"
   ]
  },
  {
   "cell_type": "code",
   "execution_count": null,
   "metadata": {},
   "outputs": [],
   "source": [
    "\n",
    "avg_lat = df_trips['start_station_latitude'].mean()\n",
    "avg_long = df_trips['start_station_longitude'].mean()\n",
    "\n",
    "m = folium.Map(location=[avg_lat, avg_long], zoom_start=15)\n",
    "\n",
    "points = []\n",
    "\n",
    "df_top_trips = df_trips.head(10)\n",
    "\n",
    "\n",
    "for i in range(0,len(df_top_trips)):\n",
    "    points.append([df_top_trips.iloc[i]['start_station_latitude'],df_top_trips.iloc[i]['start_station_longitude']])\n",
    "    points.append([df_top_trips.iloc[i]['end_station_latitude'],df_top_trips.iloc[i]['end_station_longitude']])\n",
    "    folium.PolyLine(points, color=\"red\", weight=2.5, opacity=1).add_to(m)\n",
    "    folium.Marker([df_top_trips.iloc[i]['start_station_latitude'],df_top_trips.iloc[i]['start_station_longitude']],popup=(df_top_trips.iloc[i]['start_station_id'], df_top_trips.iloc[i]['count_trips' ]), icon = folium.Icon(color='green',prefix='fa', icon='bicycle')).add_to(m)\n",
    "    folium.Marker([df_top_trips.iloc[i]['end_station_latitude'],df_top_trips.iloc[i]['end_station_longitude']],popup=(df_top_trips.iloc[i]['end_station_id'], df_top_trips.iloc[i]['count_trips' ]), icon = folium.Icon(color='red',prefix='fa', icon='bicycle')).add_to(m)\n",
    "    points = [] #if points is not reseted then each station will be connected with every other station in array\n",
    "\n",
    "m "
   ]
  },
  {
   "cell_type": "code",
   "execution_count": null,
   "metadata": {},
   "outputs": [],
   "source": [
    "df_top_trips = df_trips.head(47).copy() #most common trips ignoring direction of trip, filter is 47 as we only use values above 1000 \n",
    "\n",
    "for j in range(0, len(df_top_trips)):\n",
    "    if j < len(df_top_trips):\n",
    "        for i in range (0, len(df_top_trips)):\n",
    "            if i < len(df_top_trips):\n",
    "                if df_top_trips.at[j,'start_station_id'] == df_top_trips.at[i, 'end_station_id'] and df_top_trips.at[i,'start_station_id'] == df_top_trips.at[j, 'end_station_id']:\n",
    "                    df_top_trips.at[j, 'count_trips'] = df_top_trips.at[i, 'count_trips'] + df_top_trips.at[j, 'count_trips']\n",
    "                    df_top_trips = df_top_trips.drop(i)\n",
    "                df_top_trips.index = range(0, len(df_top_trips))\n",
    "\n",
    "\n",
    "df_top_trips = df_top_trips.sort_values('count_trips', ascending = False)\n",
    "df_top_trips.index = range(0, len(df_top_trips))\n",
    "df_top_trips = df_top_trips.rename(columns = {'start_station_id' : 'Station_A', 'end_station_id' : 'Station_B'})\n",
    "df_top_trips = df_top_trips.head(11) #above 2300 total trips and close to top 10 \n",
    "df_top_trips\n"
   ]
  },
  {
   "cell_type": "code",
   "execution_count": null,
   "metadata": {},
   "outputs": [],
   "source": [
    "#mapping the top trips \n",
    "\n",
    "\n",
    "avg_lat = df_trips['start_station_latitude'].mean()\n",
    "avg_long = df_trips['start_station_longitude'].mean()\n",
    "\n",
    "m = folium.Map(location=[avg_lat, avg_long], zoom_start=15)\n",
    "\n",
    "points = []\n",
    "\n",
    "\n",
    "for i in range(0,len(df_top_trips)):\n",
    "    points.append([df_top_trips.iloc[i]['start_station_latitude'],df_top_trips.iloc[i]['start_station_longitude']])\n",
    "    points.append([df_top_trips.iloc[i]['end_station_latitude'],df_top_trips.iloc[i]['end_station_longitude']])\n",
    "    folium.PolyLine(points, color=\"red\", weight=2.5, opacity=1).add_to(m)\n",
    "    folium.Marker([df_top_trips.iloc[i]['start_station_latitude'],df_top_trips.iloc[i]['start_station_longitude']],popup=(df_top_trips.iloc[i]['Station_A'], df_top_trips.iloc[i]['count_trips' ]), icon = folium.Icon(color='blue',prefix='fa', icon='bicycle')).add_to(m)\n",
    "    folium.Marker([df_top_trips.iloc[i]['end_station_latitude'],df_top_trips.iloc[i]['end_station_longitude']],popup=(df_top_trips.iloc[i]['Station_B'], df_top_trips.iloc[i]['count_trips' ]), icon = folium.Icon(color='blue',prefix='fa', icon='bicycle')).add_to(m)\n",
    "    points = [] #if points is not reseted then each station will be connected with every other station in array\n",
    "\n",
    "m \n",
    "\n",
    "#findings: near universities (harvard and mit) as well as around citycenter(haymarket) and the trainstations (north and south)"
   ]
  }
 ],
 "metadata": {
  "kernelspec": {
   "display_name": "AAproject",
   "language": "python",
   "name": "python3"
  },
  "language_info": {
   "codemirror_mode": {
    "name": "ipython",
    "version": 3
   },
   "file_extension": ".py",
   "mimetype": "text/x-python",
   "name": "python",
   "nbconvert_exporter": "python",
   "pygments_lexer": "ipython3",
   "version": "3.9.15"
  },
  "orig_nbformat": 4,
  "vscode": {
   "interpreter": {
    "hash": "4bda6f00b1c96ac5a9a9d5d0da9c426f670222a35f5423f5287bfe0ddc8184d4"
   }
  }
 },
 "nbformat": 4,
 "nbformat_minor": 2
}
