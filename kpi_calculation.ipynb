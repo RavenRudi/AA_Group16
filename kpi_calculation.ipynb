{
 "cells": [
  {
   "attachments": {},
   "cell_type": "markdown",
   "metadata": {},
   "source": [
    "# KPI Calculation\n"
   ]
  },
  {
   "cell_type": "markdown",
   "source": [
    "#### Data preperation"
   ],
   "metadata": {
    "collapsed": false
   }
  },
  {
   "cell_type": "code",
   "execution_count": null,
   "outputs": [],
   "source": [
    "import pandas as pd\n",
    "import numpy as np\n",
    "\n",
    "df_boston = pd.read_csv('./data/boston_2015.csv', dtype={'start_station_id': np.int64, 'end_station_id': 'string', 'end_station_name': 'string', 'start_station_name': 'string', 'bike_id': np.int64, 'user_type': 'string'})\n",
    "df_boston['end_station_id'].unique()\n",
    "df_boston.drop(index=df_boston.loc[df_boston[\"end_station_id\"] == \"\\\\N\"].index, inplace=True, axis=1)\n",
    "df_boston = df_boston.astype({'end_station_id': np.int64})\n",
    "df_boston['start_time'] = pd.to_datetime(df_boston['start_time'], format='%Y-%m-%d %X')\n",
    "df_boston['end_time'] = pd.to_datetime(df_boston['end_time'], format='%Y-%m-%d %X')\n",
    "len(df_boston)"
   ],
   "metadata": {
    "collapsed": false,
    "pycharm": {
     "is_executing": true
    }
   }
  },
  {
   "attachments": {},
   "cell_type": "markdown",
   "metadata": {},
   "source": [
    "### Utilization\n",
    "#### Usage Rate (travel time / total possible travel time)"
   ]
  },
  {
   "cell_type": "code",
   "execution_count": null,
   "metadata": {
    "pycharm": {
     "is_executing": true
    }
   },
   "outputs": [],
   "source": [
    "from datetime import datetime, timedelta\n",
    "amountOfBikes = len(df_boston['bike_id'].unique())\n",
    "\n",
    "possibleTravelTime = amountOfBikes*365*24*60\n",
    "possibleTravelTime = timedelta(minutes=possibleTravelTime)\n",
    "\n",
    "df_boston['trip_length'] = (df_boston['end_time'] - df_boston['start_time'])\n",
    "realTravelTime = df_boston['trip_length'].sum()\n",
    "\n",
    "usageRate = realTravelTime.total_seconds() / possibleTravelTime.total_seconds()\n",
    "print(usageRate*100)"
   ]
  },
  {
   "cell_type": "code",
   "execution_count": 37,
   "metadata": {},
   "outputs": [
    {
     "data": {
      "text/plain": [
       "0         2015-01-01 00:21:44\n",
       "1         2015-01-01 00:27:03\n",
       "2         2015-01-01 00:31:31\n",
       "3         2015-01-01 00:53:46\n",
       "4         2015-01-01 01:07:06\n",
       "                  ...        \n",
       "1122553   2015-12-31 23:35:04\n",
       "1122554   2015-12-31 23:37:29\n",
       "1122555   2015-12-31 23:38:16\n",
       "1122556   2015-12-31 23:46:04\n",
       "1122557   2015-12-31 23:58:18\n",
       "Name: start_time, Length: 1122557, dtype: datetime64[ns]"
      ]
     },
     "execution_count": 37,
     "metadata": {},
     "output_type": "execute_result"
    }
   ],
   "source": [
    "\n",
    "df_usage_rate = df_boston.copy()\n",
    "df_usage_rate.dtypes\n",
    "# df_usage_rate['Weekday'] = df_usage_rate['start_time'].dt.day_name()\n",
    "# df_usage_rate.loc[df_usage_rate['start_time'] < datetime(2015,1,2)].head()\n",
    "# df_usage_rate['start_hour'] = df_usage_rate['start_time'].dt.hour\n",
    "# df_usage_rate['end_hour'] = df_usage_rate['end_time'].dt.hour\n",
    "# df_usage_rate_overlapping = df_usage_rate.loc[df_usage_rate['start_hour'] != df_usage_rate['end_hour']]\n",
    "df_usage_rate['times_tmp'] = df_usage_rate.apply((lambda x: [x.start_time.ceil('H')- timedelta(seconds=1), x.start_time.ceil('H')] if x.start_time.hour != x.end_time.hour else None), axis=1)\n",
    "# df_usage_rate.apply(lambda x: print(x.start_time), axis=1)\n",
    "# df_usage_rate.set_index('start_time')\n",
    "# df_usage_rate[df_usage_rate['start_time']=='2015-01-01 01:28:27']\n",
    "\n",
    "\n",
    "\n",
    "#df_rentals_month_weekday= df_usage_rate.groupby(['Month', 'Weekday']).size().reset_index(name='num_rides')\n",
    "\n",
    "#df_rentals_month_weekday.Weekday = pd.Categorical(df_rentals_month_weekday.Weekday,categories=days)\n",
    "#df_rentals_month_weekday = df_rentals_month_weekday.sort_values('Weekday')\n",
    "\n",
    "#df_rentals_month_weekday.Month = pd.Categorical(df_rentals_month_weekday.Month,categories=months)\n",
    "#df_rentals_month_weekday = df_rentals_month_weekday.sort_values('Month')\n",
    "\n",
    "#sns.lineplot(data=df_rentals_month_weekday, x='Weekday', y='num_rides', hue='Month')\n",
    "df_usage_rate['start_time']"
   ]
  },
  {
   "cell_type": "code",
   "execution_count": 38,
   "metadata": {},
   "outputs": [],
   "source": [
    "df_usage_rate=df_usage_rate.explode('times_tmp')\n",
    "df_usage_rate['end_time'] = df_usage_rate.apply(lambda x: x.times_tmp if x.times_tmp.minute == 59 else x.end_time, axis=1)\n",
    "df_usage_rate['start_time'] = df_usage_rate.apply(lambda x: x.times_tmp if x.times_tmp.minute == 0 else x.start_time, axis=1)"
   ]
  },
  {
   "cell_type": "code",
   "execution_count": 39,
   "metadata": {},
   "outputs": [
    {
     "data": {
      "text/html": [
       "<div>\n",
       "<style scoped>\n",
       "    .dataframe tbody tr th:only-of-type {\n",
       "        vertical-align: middle;\n",
       "    }\n",
       "\n",
       "    .dataframe tbody tr th {\n",
       "        vertical-align: top;\n",
       "    }\n",
       "\n",
       "    .dataframe thead th {\n",
       "        text-align: right;\n",
       "    }\n",
       "</style>\n",
       "<table border=\"1\" class=\"dataframe\">\n",
       "  <thead>\n",
       "    <tr style=\"text-align: right;\">\n",
       "      <th></th>\n",
       "      <th>start_time</th>\n",
       "      <th>end_time</th>\n",
       "      <th>start_station_id</th>\n",
       "      <th>end_station_id</th>\n",
       "      <th>start_station_name</th>\n",
       "      <th>end_station_name</th>\n",
       "      <th>bike_id</th>\n",
       "      <th>user_type</th>\n",
       "      <th>trip_length</th>\n",
       "      <th>times_tmp</th>\n",
       "    </tr>\n",
       "  </thead>\n",
       "  <tbody>\n",
       "    <tr>\n",
       "      <th>0</th>\n",
       "      <td>2015-01-01 00:21:44</td>\n",
       "      <td>2015-01-01 00:30:47</td>\n",
       "      <td>115</td>\n",
       "      <td>96</td>\n",
       "      <td>Porter Square Station</td>\n",
       "      <td>Cambridge Main Library at Broadway / Trowbridg...</td>\n",
       "      <td>277</td>\n",
       "      <td>Subscriber</td>\n",
       "      <td>0 days 00:09:03</td>\n",
       "      <td>NaT</td>\n",
       "    </tr>\n",
       "    <tr>\n",
       "      <th>1</th>\n",
       "      <td>2015-01-01 00:27:03</td>\n",
       "      <td>2015-01-01 00:34:21</td>\n",
       "      <td>80</td>\n",
       "      <td>95</td>\n",
       "      <td>MIT Stata Center at Vassar St / Main St</td>\n",
       "      <td>Cambridge St - at Columbia St / Webster Ave</td>\n",
       "      <td>648</td>\n",
       "      <td>Subscriber</td>\n",
       "      <td>0 days 00:07:18</td>\n",
       "      <td>NaT</td>\n",
       "    </tr>\n",
       "    <tr>\n",
       "      <th>2</th>\n",
       "      <td>2015-01-01 00:31:31</td>\n",
       "      <td>2015-01-01 00:35:46</td>\n",
       "      <td>91</td>\n",
       "      <td>68</td>\n",
       "      <td>One Kendall Square at Hampshire St / Portland St</td>\n",
       "      <td>Central Square at Mass Ave / Essex St</td>\n",
       "      <td>555</td>\n",
       "      <td>Subscriber</td>\n",
       "      <td>0 days 00:04:15</td>\n",
       "      <td>NaT</td>\n",
       "    </tr>\n",
       "    <tr>\n",
       "      <th>3</th>\n",
       "      <td>2015-01-01 00:53:46</td>\n",
       "      <td>2015-01-01 00:59:59</td>\n",
       "      <td>115</td>\n",
       "      <td>96</td>\n",
       "      <td>Porter Square Station</td>\n",
       "      <td>Cambridge Main Library at Broadway / Trowbridg...</td>\n",
       "      <td>1307</td>\n",
       "      <td>Subscriber</td>\n",
       "      <td>0 days 00:07:12</td>\n",
       "      <td>2015-01-01 00:59:59</td>\n",
       "    </tr>\n",
       "    <tr>\n",
       "      <th>3</th>\n",
       "      <td>2015-01-01 01:00:00</td>\n",
       "      <td>2015-01-01 01:00:58</td>\n",
       "      <td>115</td>\n",
       "      <td>96</td>\n",
       "      <td>Porter Square Station</td>\n",
       "      <td>Cambridge Main Library at Broadway / Trowbridg...</td>\n",
       "      <td>1307</td>\n",
       "      <td>Subscriber</td>\n",
       "      <td>0 days 00:07:12</td>\n",
       "      <td>2015-01-01 01:00:00</td>\n",
       "    </tr>\n",
       "    <tr>\n",
       "      <th>...</th>\n",
       "      <td>...</td>\n",
       "      <td>...</td>\n",
       "      <td>...</td>\n",
       "      <td>...</td>\n",
       "      <td>...</td>\n",
       "      <td>...</td>\n",
       "      <td>...</td>\n",
       "      <td>...</td>\n",
       "      <td>...</td>\n",
       "      <td>...</td>\n",
       "    </tr>\n",
       "    <tr>\n",
       "      <th>1122554</th>\n",
       "      <td>2015-12-31 23:37:29</td>\n",
       "      <td>2015-12-31 23:47:36</td>\n",
       "      <td>135</td>\n",
       "      <td>43</td>\n",
       "      <td>ID Building East</td>\n",
       "      <td>Rowes Wharf - Atlantic Ave</td>\n",
       "      <td>649</td>\n",
       "      <td>Subscriber</td>\n",
       "      <td>0 days 00:10:07</td>\n",
       "      <td>NaT</td>\n",
       "    </tr>\n",
       "    <tr>\n",
       "      <th>1122555</th>\n",
       "      <td>2015-12-31 23:38:16</td>\n",
       "      <td>2015-12-31 23:47:26</td>\n",
       "      <td>135</td>\n",
       "      <td>43</td>\n",
       "      <td>ID Building East</td>\n",
       "      <td>Rowes Wharf - Atlantic Ave</td>\n",
       "      <td>1552</td>\n",
       "      <td>Subscriber</td>\n",
       "      <td>0 days 00:09:10</td>\n",
       "      <td>NaT</td>\n",
       "    </tr>\n",
       "    <tr>\n",
       "      <th>1122556</th>\n",
       "      <td>2015-12-31 23:46:04</td>\n",
       "      <td>2015-12-31 23:48:04</td>\n",
       "      <td>36</td>\n",
       "      <td>36</td>\n",
       "      <td>Boston Public Library - 700 Boylston St.</td>\n",
       "      <td>Boston Public Library - 700 Boylston St.</td>\n",
       "      <td>1083</td>\n",
       "      <td>Customer</td>\n",
       "      <td>0 days 00:02:00</td>\n",
       "      <td>NaT</td>\n",
       "    </tr>\n",
       "    <tr>\n",
       "      <th>1122557</th>\n",
       "      <td>2015-12-31 23:58:18</td>\n",
       "      <td>2015-12-31 23:59:59</td>\n",
       "      <td>105</td>\n",
       "      <td>6</td>\n",
       "      <td>Lower Cambridgeport at Magazine St/Riverside Rd</td>\n",
       "      <td>Cambridge St. at Joy St.</td>\n",
       "      <td>1305</td>\n",
       "      <td>Subscriber</td>\n",
       "      <td>0 days 00:14:36</td>\n",
       "      <td>2015-12-31 23:59:59</td>\n",
       "    </tr>\n",
       "    <tr>\n",
       "      <th>1122557</th>\n",
       "      <td>2016-01-01 00:00:00</td>\n",
       "      <td>2016-01-01 00:12:54</td>\n",
       "      <td>105</td>\n",
       "      <td>6</td>\n",
       "      <td>Lower Cambridgeport at Magazine St/Riverside Rd</td>\n",
       "      <td>Cambridge St. at Joy St.</td>\n",
       "      <td>1305</td>\n",
       "      <td>Subscriber</td>\n",
       "      <td>0 days 00:14:36</td>\n",
       "      <td>2016-01-01 00:00:00</td>\n",
       "    </tr>\n",
       "  </tbody>\n",
       "</table>\n",
       "<p>1381506 rows × 10 columns</p>\n",
       "</div>"
      ],
      "text/plain": [
       "                 start_time            end_time  start_station_id  \\\n",
       "0       2015-01-01 00:21:44 2015-01-01 00:30:47               115   \n",
       "1       2015-01-01 00:27:03 2015-01-01 00:34:21                80   \n",
       "2       2015-01-01 00:31:31 2015-01-01 00:35:46                91   \n",
       "3       2015-01-01 00:53:46 2015-01-01 00:59:59               115   \n",
       "3       2015-01-01 01:00:00 2015-01-01 01:00:58               115   \n",
       "...                     ...                 ...               ...   \n",
       "1122554 2015-12-31 23:37:29 2015-12-31 23:47:36               135   \n",
       "1122555 2015-12-31 23:38:16 2015-12-31 23:47:26               135   \n",
       "1122556 2015-12-31 23:46:04 2015-12-31 23:48:04                36   \n",
       "1122557 2015-12-31 23:58:18 2015-12-31 23:59:59               105   \n",
       "1122557 2016-01-01 00:00:00 2016-01-01 00:12:54               105   \n",
       "\n",
       "         end_station_id                                start_station_name  \\\n",
       "0                    96                             Porter Square Station   \n",
       "1                    95           MIT Stata Center at Vassar St / Main St   \n",
       "2                    68  One Kendall Square at Hampshire St / Portland St   \n",
       "3                    96                             Porter Square Station   \n",
       "3                    96                             Porter Square Station   \n",
       "...                 ...                                               ...   \n",
       "1122554              43                                  ID Building East   \n",
       "1122555              43                                  ID Building East   \n",
       "1122556              36          Boston Public Library - 700 Boylston St.   \n",
       "1122557               6   Lower Cambridgeport at Magazine St/Riverside Rd   \n",
       "1122557               6   Lower Cambridgeport at Magazine St/Riverside Rd   \n",
       "\n",
       "                                          end_station_name  bike_id  \\\n",
       "0        Cambridge Main Library at Broadway / Trowbridg...      277   \n",
       "1              Cambridge St - at Columbia St / Webster Ave      648   \n",
       "2                    Central Square at Mass Ave / Essex St      555   \n",
       "3        Cambridge Main Library at Broadway / Trowbridg...     1307   \n",
       "3        Cambridge Main Library at Broadway / Trowbridg...     1307   \n",
       "...                                                    ...      ...   \n",
       "1122554                         Rowes Wharf - Atlantic Ave      649   \n",
       "1122555                         Rowes Wharf - Atlantic Ave     1552   \n",
       "1122556           Boston Public Library - 700 Boylston St.     1083   \n",
       "1122557                           Cambridge St. at Joy St.     1305   \n",
       "1122557                           Cambridge St. at Joy St.     1305   \n",
       "\n",
       "          user_type     trip_length           times_tmp  \n",
       "0        Subscriber 0 days 00:09:03                 NaT  \n",
       "1        Subscriber 0 days 00:07:18                 NaT  \n",
       "2        Subscriber 0 days 00:04:15                 NaT  \n",
       "3        Subscriber 0 days 00:07:12 2015-01-01 00:59:59  \n",
       "3        Subscriber 0 days 00:07:12 2015-01-01 01:00:00  \n",
       "...             ...             ...                 ...  \n",
       "1122554  Subscriber 0 days 00:10:07                 NaT  \n",
       "1122555  Subscriber 0 days 00:09:10                 NaT  \n",
       "1122556    Customer 0 days 00:02:00                 NaT  \n",
       "1122557  Subscriber 0 days 00:14:36 2015-12-31 23:59:59  \n",
       "1122557  Subscriber 0 days 00:14:36 2016-01-01 00:00:00  \n",
       "\n",
       "[1381506 rows x 10 columns]"
      ]
     },
     "execution_count": 39,
     "metadata": {},
     "output_type": "execute_result"
    }
   ],
   "source": []
  },
  {
   "cell_type": "code",
   "execution_count": 40,
   "metadata": {},
   "outputs": [
    {
     "data": {
      "text/plain": [
       "Timestamp('2015-01-01 04:59:59')"
      ]
     },
     "execution_count": 40,
     "metadata": {},
     "output_type": "execute_result"
    }
   ],
   "source": [
    "df_usage_rate['start_time'][8].round('60min') - timedelta(seconds=1)"
   ]
  },
  {
   "attachments": {},
   "cell_type": "markdown",
   "metadata": {},
   "source": [
    "### Coverage"
   ]
  },
  {
   "cell_type": "code",
   "execution_count": null,
   "metadata": {
    "pycharm": {
     "is_executing": true
    }
   },
   "outputs": [],
   "source": []
  },
  {
   "attachments": {},
   "cell_type": "markdown",
   "metadata": {},
   "source": [
    "### Revenue"
   ]
  },
  {
   "cell_type": "code",
   "execution_count": null,
   "metadata": {
    "pycharm": {
     "is_executing": true
    }
   },
   "outputs": [],
   "source": []
  },
  {
   "attachments": {},
   "cell_type": "markdown",
   "metadata": {},
   "source": [
    "### Clustering"
   ]
  },
  {
   "cell_type": "code",
   "execution_count": null,
   "metadata": {
    "pycharm": {
     "is_executing": true
    }
   },
   "outputs": [],
   "source": []
  }
 ],
 "metadata": {
  "kernelspec": {
   "display_name": "aaWorkshop",
   "language": "python",
   "name": "aaworkshop"
  },
  "language_info": {
   "codemirror_mode": {
    "name": "ipython",
    "version": 3
   },
   "file_extension": ".py",
   "mimetype": "text/x-python",
   "name": "python",
   "nbconvert_exporter": "python",
   "pygments_lexer": "ipython3",
   "version": "3.9.13"
  },
  "orig_nbformat": 4,
  "vscode": {
   "interpreter": {
    "hash": "795b57666299e416dabae68251aa093272eee9f75556c2733eccb39675e1d05f"
   }
  }
 },
 "nbformat": 4,
 "nbformat_minor": 2
}
