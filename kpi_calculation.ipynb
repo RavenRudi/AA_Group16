{
 "cells": [
  {
   "attachments": {},
   "cell_type": "markdown",
   "metadata": {},
   "source": [
    "# KPI Calculation\n"
   ]
  },
  {
   "cell_type": "code",
   "execution_count": 11,
   "metadata": {},
   "outputs": [
    {
     "data": {
      "text/plain": [
       "1122557"
      ]
     },
     "execution_count": 11,
     "metadata": {},
     "output_type": "execute_result"
    }
   ],
   "source": [
    "#### Data preperation\n",
    "import pandas as pd\n",
    "import numpy as np\n",
    "\n",
    "\n",
    "df_boston = pd.read_csv('./data/boston_2015.csv', dtype={'start_station_id': np.int64, 'end_station_id': 'string', 'end_station_name': 'string', 'start_station_name': 'string', 'bike_id': np.int64, 'user_type': 'string'})\n",
    "df_boston['end_station_id'].unique()\n",
    "df_boston.drop(index=df_boston.loc[df_boston[\"end_station_id\"] == \"\\\\N\"].index, inplace=True, axis=1)\n",
    "df_boston = df_boston.astype({'end_station_id': np.int64})\n",
    "df_boston['start_time'] = pd.to_datetime(df_boston['start_time'], format='%Y-%m-%d %X')\n",
    "df_boston['end_time'] = pd.to_datetime(df_boston['end_time'], format='%Y-%m-%d %X')\n",
    "len(df_boston)"
   ]
  },
  {
   "attachments": {},
   "cell_type": "markdown",
   "metadata": {},
   "source": [
    "### Utilization\n",
    "#### Usage Rate (travel time / total possible travel time)"
   ]
  },
  {
   "cell_type": "code",
   "execution_count": 78,
   "metadata": {},
   "outputs": [
    {
     "name": "stdout",
     "output_type": "stream",
     "text": [
      "2.8636253630430217\n"
     ]
    }
   ],
   "source": [
    "from datetime import datetime, timedelta\n",
    "amountOfBikes = len(df_boston['bike_id'].unique())\n",
    "\n",
    "possibleTravelTime = amountOfBikes*365*24*60\n",
    "possibleTravelTime = timedelta(minutes=possibleTravelTime)\n",
    "\n",
    "df_boston['trip_length'] = (df_boston['end_time'] - df_boston['start_time'])\n",
    "realTravelTime = df_boston['trip_length'].sum()\n",
    "\n",
    "usageRate = realTravelTime.total_seconds() / possibleTravelTime.total_seconds()\n",
    "print(usageRate*100)"
   ]
  },
  {
   "cell_type": "code",
   "execution_count": 81,
   "metadata": {},
   "outputs": [
    {
     "data": {
      "text/plain": [
       "start_time             datetime64[ns]\n",
       "end_time               datetime64[ns]\n",
       "start_station_id                int64\n",
       "end_station_id                  int64\n",
       "start_station_name             string\n",
       "end_station_name               string\n",
       "bike_id                         int64\n",
       "user_type                      string\n",
       "trip_length           timedelta64[ns]\n",
       "dtype: object"
      ]
     },
     "execution_count": 81,
     "metadata": {},
     "output_type": "execute_result"
    }
   ],
   "source": [
    "df_usage_rate = df_boston.copy()\n",
    "df_usage_rate.dtypes\n",
    "# df_usage_rate['Weekday'] = df_usage_rate['start_time'].dt.day_name()\n",
    "# df_usage_rate.loc[df_usage_rate['start_time'] < datetime(2015,1,2)].head()\n",
    "# df_usage_rate['start_hour'] = df_usage_rate['start_time'].dt.hour\n",
    "# df_usage_rate['end_hour'] = df_usage_rate['end_time'].dt.hour\n",
    "# df_usage_rate_overlapping = df_usage_rate.loc[df_usage_rate['start_hour'] != df_usage_rate['end_hour']]\n",
    "df_usage_rate['times_tmp'] = df_usage_rate.apply((lambda x: [x[0].round('60min') - timedelta(seconds=1), x[0].round('60min')] if x[0].hour != x[0].hour else None), axis=0)\n",
    "# df_usage_rate.apply(lambda x: print(x.start_time), axis=1)\n",
    "# df_usage_rate.set_index('start_time')\n",
    "# df_usage_rate[df_usage_rate['start_time']=='2015-01-01 01:28:27']\n",
    "\n",
    "\n",
    "\n",
    "#df_rentals_month_weekday= df_usage_rate.groupby(['Month', 'Weekday']).size().reset_index(name='num_rides')\n",
    "\n",
    "#df_rentals_month_weekday.Weekday = pd.Categorical(df_rentals_month_weekday.Weekday,categories=days)\n",
    "#df_rentals_month_weekday = df_rentals_month_weekday.sort_values('Weekday')\n",
    "\n",
    "#df_rentals_month_weekday.Month = pd.Categorical(df_rentals_month_weekday.Month,categories=months)\n",
    "#df_rentals_month_weekday = df_rentals_month_weekday.sort_values('Month')\n",
    "\n",
    "#sns.lineplot(data=df_rentals_month_weekday, x='Weekday', y='num_rides', hue='Month')"
   ]
  },
  {
   "cell_type": "code",
   "execution_count": 76,
   "metadata": {},
   "outputs": [
    {
     "data": {
      "text/plain": [
       "Timestamp('2015-01-01 00:30:47')"
      ]
     },
     "execution_count": 76,
     "metadata": {},
     "output_type": "execute_result"
    }
   ],
   "source": [
    "df_usage_rate.iloc[0][1]"
   ]
  },
  {
   "cell_type": "code",
   "execution_count": 52,
   "metadata": {},
   "outputs": [
    {
     "data": {
      "text/plain": [
       "Timestamp('2015-01-01 04:59:59')"
      ]
     },
     "execution_count": 52,
     "metadata": {},
     "output_type": "execute_result"
    }
   ],
   "source": [
    "df_usage_rate['start_time'][8].round('60min') - timedelta(seconds=1)"
   ]
  },
  {
   "attachments": {},
   "cell_type": "markdown",
   "metadata": {},
   "source": [
    "### Coverage"
   ]
  },
  {
   "cell_type": "code",
   "execution_count": null,
   "metadata": {},
   "outputs": [],
   "source": []
  },
  {
   "attachments": {},
   "cell_type": "markdown",
   "metadata": {},
   "source": [
    "### Revenue"
   ]
  },
  {
   "cell_type": "code",
   "execution_count": null,
   "metadata": {},
   "outputs": [],
   "source": []
  },
  {
   "attachments": {},
   "cell_type": "markdown",
   "metadata": {},
   "source": [
    "### Clustering"
   ]
  },
  {
   "cell_type": "code",
   "execution_count": null,
   "metadata": {},
   "outputs": [],
   "source": []
  }
 ],
 "metadata": {
  "kernelspec": {
   "display_name": "Python 3.10.6 64-bit",
   "language": "python",
   "name": "python3"
  },
  "language_info": {
   "codemirror_mode": {
    "name": "ipython",
    "version": 3
   },
   "file_extension": ".py",
   "mimetype": "text/x-python",
   "name": "python",
   "nbconvert_exporter": "python",
   "pygments_lexer": "ipython3",
   "version": "3.10.6"
  },
  "orig_nbformat": 4,
  "vscode": {
   "interpreter": {
    "hash": "916dbcbb3f70747c44a77c7bcd40155683ae19c65e1c03b4aa3499c5328201f1"
   }
  }
 },
 "nbformat": 4,
 "nbformat_minor": 2
}
