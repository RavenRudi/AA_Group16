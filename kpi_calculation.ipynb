{
 "cells": [
  {
   "attachments": {},
   "cell_type": "markdown",
   "metadata": {},
   "source": [
    "# KPI Calculation\n"
   ]
  },
  {
   "cell_type": "markdown",
   "source": [
    "#### Data preperation"
   ],
   "metadata": {
    "collapsed": false
   }
  },
  {
   "cell_type": "code",
   "execution_count": 2,
   "outputs": [
    {
     "data": {
      "text/plain": "1122557"
     },
     "execution_count": 2,
     "metadata": {},
     "output_type": "execute_result"
    }
   ],
   "source": [
    "import pandas as pd\n",
    "import numpy as np\n",
    "\n",
    "df_boston = pd.read_csv('./data/boston_2015.csv', dtype={'start_station_id': np.int64, 'end_station_id': 'string', 'end_station_name': 'string', 'start_station_name': 'string', 'bike_id': np.int64, 'user_type': 'string'})\n",
    "df_boston['end_station_id'].unique()\n",
    "df_boston.drop(index=df_boston.loc[df_boston[\"end_station_id\"] == \"\\\\N\"].index, inplace=True, axis=1)\n",
    "df_boston = df_boston.astype({'end_station_id': np.int64})\n",
    "df_boston['start_time'] = pd.to_datetime(df_boston['start_time'], format='%Y-%m-%d %X')\n",
    "df_boston['end_time'] = pd.to_datetime(df_boston['end_time'], format='%Y-%m-%d %X')\n",
    "len(df_boston)"
   ],
   "metadata": {
    "collapsed": false
   }
  },
  {
   "attachments": {},
   "cell_type": "markdown",
   "metadata": {},
   "source": [
    "### Utilization\n",
    "#### Usage Rate (travel time / total possible travel time)"
   ]
  },
  {
   "cell_type": "code",
   "execution_count": 3,
   "metadata": {},
   "outputs": [
    {
     "name": "stdout",
     "output_type": "stream",
     "text": [
      "2.8636253630430217\n"
     ]
    }
   ],
   "source": [
    "from datetime import datetime, timedelta\n",
    "amountOfBikes = len(df_boston['bike_id'].unique())\n",
    "\n",
    "possibleTravelTime = amountOfBikes*365*24*60\n",
    "possibleTravelTime = timedelta(minutes=possibleTravelTime)\n",
    "\n",
    "df_boston['trip_length'] = (df_boston['end_time'] - df_boston['start_time'])\n",
    "realTravelTime = df_boston['trip_length'].sum()\n",
    "\n",
    "usageRate = realTravelTime.total_seconds() / possibleTravelTime.total_seconds()\n",
    "print(usageRate*100)"
   ]
  },
  {
   "cell_type": "code",
   "execution_count": 4,
   "metadata": {},
   "outputs": [
    {
     "data": {
      "text/plain": "0         2015-01-01 00:21:44\n1         2015-01-01 00:27:03\n2         2015-01-01 00:31:31\n3         2015-01-01 00:53:46\n4         2015-01-01 01:07:06\n                  ...        \n1122553   2015-12-31 23:35:04\n1122554   2015-12-31 23:37:29\n1122555   2015-12-31 23:38:16\n1122556   2015-12-31 23:46:04\n1122557   2015-12-31 23:58:18\nName: start_time, Length: 1122557, dtype: datetime64[ns]"
     },
     "execution_count": 4,
     "metadata": {},
     "output_type": "execute_result"
    }
   ],
   "source": [
    "\n",
    "df_usage_rate = df_boston.copy()\n",
    "df_usage_rate.dtypes\n",
    "# df_usage_rate['Weekday'] = df_usage_rate['start_time'].dt.day_name()\n",
    "# df_usage_rate.loc[df_usage_rate['start_time'] < datetime(2015,1,2)].head()\n",
    "# df_usage_rate['start_hour'] = df_usage_rate['start_time'].dt.hour\n",
    "# df_usage_rate['end_hour'] = df_usage_rate['end_time'].dt.hour\n",
    "# df_usage_rate_overlapping = df_usage_rate.loc[df_usage_rate['start_hour'] != df_usage_rate['end_hour']]\n",
    "df_usage_rate['times_tmp'] = df_usage_rate.apply((lambda x: [x.start_time.ceil('H')- timedelta(seconds=1), x.start_time.ceil('H')] if x.start_time.hour != x.end_time.hour else None), axis=1)\n",
    "# df_usage_rate.apply(lambda x: print(x.start_time), axis=1)\n",
    "# df_usage_rate.set_index('start_time')\n",
    "# df_usage_rate[df_usage_rate['start_time']=='2015-01-01 01:28:27']\n",
    "\n",
    "\n",
    "\n",
    "#df_rentals_month_weekday= df_usage_rate.groupby(['Month', 'Weekday']).size().reset_index(name='num_rides')\n",
    "\n",
    "#df_rentals_month_weekday.Weekday = pd.Categorical(df_rentals_month_weekday.Weekday,categories=days)\n",
    "#df_rentals_month_weekday = df_rentals_month_weekday.sort_values('Weekday')\n",
    "\n",
    "#df_rentals_month_weekday.Month = pd.Categorical(df_rentals_month_weekday.Month,categories=months)\n",
    "#df_rentals_month_weekday = df_rentals_month_weekday.sort_values('Month')\n",
    "\n",
    "#sns.lineplot(data=df_rentals_month_weekday, x='Weekday', y='num_rides', hue='Month')\n",
    "df_usage_rate['start_time']"
   ]
  },
  {
   "cell_type": "code",
   "execution_count": 5,
   "metadata": {},
   "outputs": [],
   "source": [
    "df_usage_rate=df_usage_rate.explode('times_tmp')\n",
    "df_usage_rate['end_time'] = df_usage_rate.apply(lambda x: x.times_tmp if x.times_tmp.minute == 59 else x.end_time, axis=1)\n",
    "df_usage_rate['start_time'] = df_usage_rate.apply(lambda x: x.times_tmp if x.times_tmp.minute == 0 else x.start_time, axis=1)"
   ]
  },
  {
   "cell_type": "code",
   "execution_count": 5,
   "metadata": {},
   "outputs": [],
   "source": []
  },
  {
   "cell_type": "code",
   "execution_count": 6,
   "metadata": {},
   "outputs": [
    {
     "data": {
      "text/plain": "Timestamp('2015-01-01 04:59:59')"
     },
     "execution_count": 6,
     "metadata": {},
     "output_type": "execute_result"
    }
   ],
   "source": [
    "df_usage_rate['start_time'][8].round('60min') - timedelta(seconds=1)"
   ]
  },
  {
   "attachments": {},
   "cell_type": "markdown",
   "metadata": {},
   "source": [
    "### Coverage"
   ]
  },
  {
   "cell_type": "code",
   "execution_count": 6,
   "metadata": {},
   "outputs": [],
   "source": []
  },
  {
   "attachments": {},
   "cell_type": "markdown",
   "metadata": {},
   "source": [
    "### Revenue"
   ]
  },
  {
   "cell_type": "code",
   "execution_count": 6,
   "metadata": {},
   "outputs": [],
   "source": []
  },
  {
   "attachments": {},
   "cell_type": "markdown",
   "metadata": {},
   "source": [
    "### Clustering"
   ]
  },
  {
   "cell_type": "code",
   "execution_count": 6,
   "metadata": {},
   "outputs": [],
   "source": []
  }
 ],
 "metadata": {
  "kernelspec": {
   "name": "python3",
   "language": "python",
   "display_name": "Python 3 (ipykernel)"
  },
  "language_info": {
   "codemirror_mode": {
    "name": "ipython",
    "version": 3
   },
   "file_extension": ".py",
   "mimetype": "text/x-python",
   "name": "python",
   "nbconvert_exporter": "python",
   "pygments_lexer": "ipython3",
   "version": "3.9.13"
  },
  "orig_nbformat": 4,
  "vscode": {
   "interpreter": {
    "hash": "795b57666299e416dabae68251aa093272eee9f75556c2733eccb39675e1d05f"
   }
  }
 },
 "nbformat": 4,
 "nbformat_minor": 2
}
